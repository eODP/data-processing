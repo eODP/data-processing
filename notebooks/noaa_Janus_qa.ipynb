{
 "cells": [
  {
   "cell_type": "markdown",
   "id": "marked-orchestra",
   "metadata": {},
   "source": [
    "# QA NOAA Janus files"
   ]
  },
  {
   "cell_type": "code",
   "execution_count": 1,
   "id": "nearby-dependence",
   "metadata": {},
   "outputs": [],
   "source": [
    "import sys\n",
    "sys.path.append('../scripts/')\n",
    "import glob\n",
    "from pathlib import Path\n",
    "import os\n",
    "\n",
    "import pandas as pd\n",
    "\n",
    "from normalize_noaa_files import (\n",
    "    unique_filenames,\n",
    "    unique_columns,\n",
    "    filename_index,\n",
    "    format_filepaths_set\n",
    ")"
   ]
  },
  {
   "cell_type": "markdown",
   "id": "guided-thompson",
   "metadata": {},
   "source": [
    "## JanusIODP_paleo_agemodel"
   ]
  },
  {
   "cell_type": "code",
   "execution_count": 2,
   "id": "noticed-wrist",
   "metadata": {},
   "outputs": [
    {
     "name": "stdout",
     "output_type": "stream",
     "text": [
      "files 2481\n"
     ]
    }
   ],
   "source": [
    "path = os.path.join('raw_data', 'NOAA_csv', 'JanusIODP_paleo_agemodel', '**', '**', \n",
    "                    '**', '**', '**', '*.csv')\n",
    "\n",
    "csv_paths = glob.glob(path)\n",
    "print('files', len(csv_paths))"
   ]
  },
  {
   "cell_type": "markdown",
   "id": "given-shaft",
   "metadata": {},
   "source": [
    "### files grouped by expedition and file type"
   ]
  },
  {
   "cell_type": "code",
   "execution_count": 3,
   "id": "relative-graduate",
   "metadata": {},
   "outputs": [],
   "source": [
    "contents = {}\n",
    "index = filename_index(path)\n",
    "\n",
    "for path in csv_paths:\n",
    "    parts = Path(path).parts\n",
    "    exp = parts[5]\n",
    "    filename = parts[index]\n",
    "        \n",
    "    if exp not in contents:\n",
    "        contents[exp] = {'taxa': set(),'age_model': set()}\n",
    "        \n",
    "    ages = ['Age_Model_Shipboard.csv', 'Age_Model_Initial_Reports.csv', \n",
    "            'Age_Model_Post_Moratorium.csv', 'Age_Model_Shipboard_Report.csv', \n",
    "            'Age_Model_Initial_Report.csv'\n",
    "           ]\n",
    "        \n",
    "    if filename in ages:\n",
    "        contents[exp]['age_model'].add(filename)\n",
    "    else:\n",
    "        contents[exp]['taxa'].add(filename)\n",
    "        "
   ]
  },
  {
   "cell_type": "code",
   "execution_count": 4,
   "id": "funded-extent",
   "metadata": {},
   "outputs": [],
   "source": [
    "exps = []\n",
    "taxa = []\n",
    "ages = []\n",
    "\n",
    "for exp in contents.items():\n",
    "    exps.append(exp[0])\n",
    "    taxa.append(format_filepaths_set(exp[1], 'taxa'))\n",
    "    ages.append(format_filepaths_set(exp[1], 'age_model'))"
   ]
  },
  {
   "cell_type": "code",
   "execution_count": 5,
   "id": "compliant-immunology",
   "metadata": {},
   "outputs": [
    {
     "data": {
      "text/html": [
       "<div>\n",
       "<style scoped>\n",
       "    .dataframe tbody tr th:only-of-type {\n",
       "        vertical-align: middle;\n",
       "    }\n",
       "\n",
       "    .dataframe tbody tr th {\n",
       "        vertical-align: top;\n",
       "    }\n",
       "\n",
       "    .dataframe thead th {\n",
       "        text-align: right;\n",
       "    }\n",
       "</style>\n",
       "<table border=\"1\" class=\"dataframe\">\n",
       "  <thead>\n",
       "    <tr style=\"text-align: right;\">\n",
       "      <th></th>\n",
       "      <th>expedition</th>\n",
       "      <th>taxa</th>\n",
       "      <th>age_model</th>\n",
       "    </tr>\n",
       "  </thead>\n",
       "  <tbody>\n",
       "    <tr>\n",
       "      <th>0</th>\n",
       "      <td>135</td>\n",
       "      <td>Nannofossils.csv,Planktonic_Foraminifers.csv,B...</td>\n",
       "      <td>Age_Model_Initial_Report.csv</td>\n",
       "    </tr>\n",
       "    <tr>\n",
       "      <th>1</th>\n",
       "      <td>104</td>\n",
       "      <td>Pollen_Spores.csv,Benthic_Foraminifers.csv,Pla...</td>\n",
       "      <td>Age_Model_Initial_Reports.csv</td>\n",
       "    </tr>\n",
       "    <tr>\n",
       "      <th>2</th>\n",
       "      <td>168</td>\n",
       "      <td>Nannofossils.csv</td>\n",
       "      <td>Age_Model_Initial_Report.csv</td>\n",
       "    </tr>\n",
       "    <tr>\n",
       "      <th>3</th>\n",
       "      <td>157</td>\n",
       "      <td>Nannofossils.csv,Planktonic_Foraminifers.csv</td>\n",
       "      <td>Age_Model_Initial_Report.csv,Age_Model_Shipboa...</td>\n",
       "    </tr>\n",
       "    <tr>\n",
       "      <th>4</th>\n",
       "      <td>150</td>\n",
       "      <td>Diatoms.csv,Nannofossils.csv,Dinoflagellates_A...</td>\n",
       "      <td>Age_Model_Initial_Report.csv</td>\n",
       "    </tr>\n",
       "  </tbody>\n",
       "</table>\n",
       "</div>"
      ],
      "text/plain": [
       "  expedition                                               taxa  \\\n",
       "0        135  Nannofossils.csv,Planktonic_Foraminifers.csv,B...   \n",
       "1        104  Pollen_Spores.csv,Benthic_Foraminifers.csv,Pla...   \n",
       "2        168                                   Nannofossils.csv   \n",
       "3        157       Nannofossils.csv,Planktonic_Foraminifers.csv   \n",
       "4        150  Diatoms.csv,Nannofossils.csv,Dinoflagellates_A...   \n",
       "\n",
       "                                           age_model  \n",
       "0                       Age_Model_Initial_Report.csv  \n",
       "1                      Age_Model_Initial_Reports.csv  \n",
       "2                       Age_Model_Initial_Report.csv  \n",
       "3  Age_Model_Initial_Report.csv,Age_Model_Shipboa...  \n",
       "4                       Age_Model_Initial_Report.csv  "
      ]
     },
     "execution_count": 5,
     "metadata": {},
     "output_type": "execute_result"
    }
   ],
   "source": [
    "dict = {\n",
    "    \"expedition\": exps,\n",
    "    \"taxa\": taxa,\n",
    "    \"age_model\": ages\n",
    "}\n",
    "df = pd.DataFrame(dict)\n",
    "df.head()"
   ]
  },
  {
   "cell_type": "code",
   "execution_count": 6,
   "id": "intense-westminster",
   "metadata": {},
   "outputs": [],
   "source": [
    "df.to_csv(os.path.join('tmp','noaa_JanusIODP_grouped_files.csv'), index=False)"
   ]
  },
  {
   "cell_type": "markdown",
   "id": "circular-formation",
   "metadata": {},
   "source": [
    "### unique file names"
   ]
  },
  {
   "cell_type": "code",
   "execution_count": 7,
   "id": "perfect-vacuum",
   "metadata": {},
   "outputs": [
    {
     "data": {
      "text/plain": [
       "{'Age_Model_Initial_Report.csv',\n",
       " 'Age_Model_Initial_Reports.csv',\n",
       " 'Age_Model_Post_Moratorium.csv',\n",
       " 'Age_Model_Shipboard.csv',\n",
       " 'Age_Model_Shipboard_Report.csv',\n",
       " 'Benthic Foraminifers.csv',\n",
       " 'Benthic_Foraminifers.csv',\n",
       " 'Bolboforms.csv',\n",
       " 'Diatoms.csv',\n",
       " 'Dinoflagellates_Acritarch_Prasinophytes.csv',\n",
       " 'Dinoflagellates_Acritarchs_Prasinophytes.csv',\n",
       " 'Macrofossils.csv',\n",
       " 'Miscellaneous.csv',\n",
       " 'Nannofossils .csv',\n",
       " 'Nannofossils.csv',\n",
       " 'Ostracodes.csv',\n",
       " 'Planktonic Foraminifers.csv',\n",
       " 'Planktonic_Foraminifers .csv',\n",
       " 'Planktonic_Foraminifers.csv',\n",
       " 'Pollen_Spores.csv',\n",
       " 'Pteropods.csv',\n",
       " 'Radiolarians.csv',\n",
       " 'Silicoflagellates_Ebridians_Actiniscidians.csv',\n",
       " 'Sponge_Spicules.csv',\n",
       " 'Trace_Fossils.csv'}"
      ]
     },
     "execution_count": 7,
     "metadata": {},
     "output_type": "execute_result"
    }
   ],
   "source": [
    "unique_filenames(csv_paths)"
   ]
  },
  {
   "cell_type": "markdown",
   "id": "supreme-conversation",
   "metadata": {},
   "source": [
    "### column names"
   ]
  },
  {
   "cell_type": "code",
   "execution_count": 8,
   "id": "defensive-mills",
   "metadata": {},
   "outputs": [
    {
     "data": {
      "text/plain": [
       "12991"
      ]
     },
     "execution_count": 8,
     "metadata": {},
     "output_type": "execute_result"
    }
   ],
   "source": [
    "columns = unique_columns(csv_paths)\n",
    "len(columns)"
   ]
  },
  {
   "cell_type": "markdown",
   "id": "vanilla-section",
   "metadata": {},
   "source": [
    "## Janus_core_data"
   ]
  },
  {
   "cell_type": "code",
   "execution_count": 9,
   "id": "accompanied-distance",
   "metadata": {},
   "outputs": [
    {
     "name": "stdout",
     "output_type": "stream",
     "text": [
      "files 325\n"
     ]
    }
   ],
   "source": [
    "path = os.path.join('raw_data', 'NOAA_csv', 'Janus_core_data', '**', '**', '*.csv')\n",
    "csv_paths = glob.glob(path)\n",
    "print('files', len(csv_paths))"
   ]
  },
  {
   "cell_type": "markdown",
   "id": "prescribed-tiffany",
   "metadata": {},
   "source": [
    "### files grouped by expedition and file type"
   ]
  },
  {
   "cell_type": "code",
   "execution_count": 10,
   "id": "annoying-satin",
   "metadata": {},
   "outputs": [],
   "source": [
    "exps = []\n",
    "files = []\n",
    "\n",
    "for path in csv_paths:\n",
    "    parts = Path(path).parts\n",
    "    exp = parts[5]\n",
    "    \n",
    "    if exp not in exps:\n",
    "        exps.append(exp)\n",
    "        files.append('xxx-delimited_pre-janus.csv')"
   ]
  },
  {
   "cell_type": "code",
   "execution_count": 11,
   "id": "useful-thickness",
   "metadata": {},
   "outputs": [
    {
     "data": {
      "text/html": [
       "<div>\n",
       "<style scoped>\n",
       "    .dataframe tbody tr th:only-of-type {\n",
       "        vertical-align: middle;\n",
       "    }\n",
       "\n",
       "    .dataframe tbody tr th {\n",
       "        vertical-align: top;\n",
       "    }\n",
       "\n",
       "    .dataframe thead th {\n",
       "        text-align: right;\n",
       "    }\n",
       "</style>\n",
       "<table border=\"1\" class=\"dataframe\">\n",
       "  <thead>\n",
       "    <tr style=\"text-align: right;\">\n",
       "      <th></th>\n",
       "      <th>expedition</th>\n",
       "      <th>lithology</th>\n",
       "    </tr>\n",
       "  </thead>\n",
       "  <tbody>\n",
       "    <tr>\n",
       "      <th>0</th>\n",
       "      <td>sed_lith_104_642b_delimited_pre-janus.csv</td>\n",
       "      <td>xxx-delimited_pre-janus.csv</td>\n",
       "    </tr>\n",
       "    <tr>\n",
       "      <th>1</th>\n",
       "      <td>sed_lith_104_642e_delimited_pre-janus.csv</td>\n",
       "      <td>xxx-delimited_pre-janus.csv</td>\n",
       "    </tr>\n",
       "    <tr>\n",
       "      <th>2</th>\n",
       "      <td>sed_lith_104_644a_delimited_pre-janus.csv</td>\n",
       "      <td>xxx-delimited_pre-janus.csv</td>\n",
       "    </tr>\n",
       "    <tr>\n",
       "      <th>3</th>\n",
       "      <td>sed_lith_104_642d_delimited_pre-janus.csv</td>\n",
       "      <td>xxx-delimited_pre-janus.csv</td>\n",
       "    </tr>\n",
       "    <tr>\n",
       "      <th>4</th>\n",
       "      <td>sed_lith_104_642c_delimited_pre-janus.csv</td>\n",
       "      <td>xxx-delimited_pre-janus.csv</td>\n",
       "    </tr>\n",
       "  </tbody>\n",
       "</table>\n",
       "</div>"
      ],
      "text/plain": [
       "                                  expedition                    lithology\n",
       "0  sed_lith_104_642b_delimited_pre-janus.csv  xxx-delimited_pre-janus.csv\n",
       "1  sed_lith_104_642e_delimited_pre-janus.csv  xxx-delimited_pre-janus.csv\n",
       "2  sed_lith_104_644a_delimited_pre-janus.csv  xxx-delimited_pre-janus.csv\n",
       "3  sed_lith_104_642d_delimited_pre-janus.csv  xxx-delimited_pre-janus.csv\n",
       "4  sed_lith_104_642c_delimited_pre-janus.csv  xxx-delimited_pre-janus.csv"
      ]
     },
     "execution_count": 11,
     "metadata": {},
     "output_type": "execute_result"
    }
   ],
   "source": [
    "dict = { \"expedition\": exps,\n",
    "        \"lithology\": files\n",
    "       }\n",
    "df = pd.DataFrame(dict)\n",
    "df.head()"
   ]
  },
  {
   "cell_type": "code",
   "execution_count": 12,
   "id": "enhanced-alabama",
   "metadata": {},
   "outputs": [],
   "source": [
    "df.to_csv(os.path.join('tmp', 'noaa_Janus_grouped_files.csv'), index=False)"
   ]
  },
  {
   "cell_type": "markdown",
   "id": "executive-encoding",
   "metadata": {},
   "source": [
    "### unique file names"
   ]
  },
  {
   "cell_type": "code",
   "execution_count": 13,
   "id": "suspended-subscription",
   "metadata": {},
   "outputs": [],
   "source": [
    "# unique_filenames(csv_paths)"
   ]
  },
  {
   "cell_type": "markdown",
   "id": "automotive-mustang",
   "metadata": {},
   "source": [
    "### column names"
   ]
  },
  {
   "cell_type": "code",
   "execution_count": 14,
   "id": "alone-account",
   "metadata": {},
   "outputs": [
    {
     "data": {
      "text/plain": [
       "{'Unnamed: 30',\n",
       " 'Unnamed: 31',\n",
       " 'Unnamed: 32',\n",
       " 'Unnamed: 33',\n",
       " 'Unnamed: 34',\n",
       " 'bottom interval',\n",
       " 'bottom interval depth below sea floor',\n",
       " 'code',\n",
       " 'color',\n",
       " 'color number',\n",
       " 'core',\n",
       " 'coretype',\n",
       " 'depth',\n",
       " 'drilling deformities',\n",
       " 'hole',\n",
       " 'induration',\n",
       " 'latitude',\n",
       " 'leg',\n",
       " 'lithology',\n",
       " 'longitude',\n",
       " 'minerals',\n",
       " 'more data available',\n",
       " 'observer',\n",
       " 'other',\n",
       " 'paleontology',\n",
       " 'piece number bottom',\n",
       " 'piece number top',\n",
       " 'section',\n",
       " 'site',\n",
       " 'structures',\n",
       " 'sub piece bottom',\n",
       " 'sub piece top',\n",
       " 'top interval',\n",
       " 'top interval depth below sea floor',\n",
       " 'unusual occurrences'}"
      ]
     },
     "execution_count": 14,
     "metadata": {},
     "output_type": "execute_result"
    }
   ],
   "source": [
    "unique_columns(csv_paths)"
   ]
  },
  {
   "cell_type": "code",
   "execution_count": null,
   "id": "according-elements",
   "metadata": {},
   "outputs": [],
   "source": []
  }
 ],
 "metadata": {
  "kernelspec": {
   "display_name": "Python 3",
   "language": "python",
   "name": "python3"
  },
  "language_info": {
   "codemirror_mode": {
    "name": "ipython",
    "version": 3
   },
   "file_extension": ".py",
   "mimetype": "text/x-python",
   "name": "python",
   "nbconvert_exporter": "python",
   "pygments_lexer": "ipython3",
   "version": "3.9.1"
  }
 },
 "nbformat": 4,
 "nbformat_minor": 5
}
