{
 "cells": [
  {
   "cell_type": "markdown",
   "metadata": {},
   "source": [
    "# QA NOAA Janus files"
   ]
  },
  {
   "cell_type": "code",
   "execution_count": 1,
   "metadata": {},
   "outputs": [],
   "source": [
    "import sys\n",
    "sys.path.append('../scripts/')\n",
    "import glob\n",
    "from pathlib import Path\n",
    "import os\n",
    "\n",
    "import pandas as pd\n",
    "\n",
    "from normalize_noaa_files import (\n",
    "    unique_filenames,\n",
    "    unique_columns,\n",
    "    filename_index,\n",
    "    format_filepaths_set\n",
    ")"
   ]
  },
  {
   "cell_type": "markdown",
   "metadata": {},
   "source": [
    "## JanusIODP_paleo_agemodel"
   ]
  },
  {
   "cell_type": "code",
   "execution_count": 2,
   "metadata": {},
   "outputs": [
    {
     "name": "stdout",
     "output_type": "stream",
     "text": [
      "files 2481\n"
     ]
    }
   ],
   "source": [
    "path = os.path.join('raw_data', 'NOAA_csv', 'JanusIODP_paleo_agemodel', '**', '**', \n",
    "                    '**', '**', '**', '*.csv')\n",
    "\n",
    "csv_paths = glob.glob(path)\n",
    "print('files', len(csv_paths))"
   ]
  },
  {
   "cell_type": "markdown",
   "metadata": {},
   "source": [
    "### files grouped by expedition and file type"
   ]
  },
  {
   "cell_type": "code",
   "execution_count": 3,
   "metadata": {},
   "outputs": [],
   "source": [
    "contents = {}\n",
    "index = filename_index(path)\n",
    "\n",
    "for path in csv_paths:\n",
    "    parts = Path(path).parts\n",
    "    exp = parts[5]\n",
    "    filename = parts[index]\n",
    "        \n",
    "    if exp not in contents:\n",
    "        contents[exp] = {'taxa': set(),'age_model': set()}\n",
    "        \n",
    "    ages = ['Age_Model_Shipboard.csv', 'Age_Model_Initial_Reports.csv', \n",
    "            'Age_Model_Post_Moratorium.csv', 'Age_Model_Shipboard_Report.csv', \n",
    "            'Age_Model_Initial_Report.csv'\n",
    "           ]\n",
    "        \n",
    "    if filename in ages:\n",
    "        contents[exp]['age_model'].add(filename)\n",
    "    else:\n",
    "        contents[exp]['taxa'].add(filename)\n",
    "        "
   ]
  },
  {
   "cell_type": "code",
   "execution_count": 4,
   "metadata": {},
   "outputs": [],
   "source": [
    "exps = []\n",
    "taxa = []\n",
    "ages = []\n",
    "\n",
    "for exp in contents.items():\n",
    "    exps.append(exp[0])\n",
    "    taxa.append(format_filepaths_set(exp[1], 'taxa'))\n",
    "    ages.append(format_filepaths_set(exp[1], 'age_model'))"
   ]
  },
  {
   "cell_type": "code",
   "execution_count": 5,
   "metadata": {},
   "outputs": [
    {
     "data": {
      "text/html": [
       "<div>\n",
       "<style scoped>\n",
       "    .dataframe tbody tr th:only-of-type {\n",
       "        vertical-align: middle;\n",
       "    }\n",
       "\n",
       "    .dataframe tbody tr th {\n",
       "        vertical-align: top;\n",
       "    }\n",
       "\n",
       "    .dataframe thead th {\n",
       "        text-align: right;\n",
       "    }\n",
       "</style>\n",
       "<table border=\"1\" class=\"dataframe\">\n",
       "  <thead>\n",
       "    <tr style=\"text-align: right;\">\n",
       "      <th></th>\n",
       "      <th>expedition</th>\n",
       "      <th>taxa</th>\n",
       "      <th>age_model</th>\n",
       "    </tr>\n",
       "  </thead>\n",
       "  <tbody>\n",
       "    <tr>\n",
       "      <th>0</th>\n",
       "      <td>135</td>\n",
       "      <td>Benthic_Foraminifers.csv,Nannofossils.csv,Plan...</td>\n",
       "      <td>Age_Model_Initial_Report.csv</td>\n",
       "    </tr>\n",
       "    <tr>\n",
       "      <th>1</th>\n",
       "      <td>104</td>\n",
       "      <td>Macrofossils.csv,Dinoflagellates_Acritarch_Pra...</td>\n",
       "      <td>Age_Model_Initial_Reports.csv</td>\n",
       "    </tr>\n",
       "    <tr>\n",
       "      <th>2</th>\n",
       "      <td>168</td>\n",
       "      <td>Nannofossils.csv</td>\n",
       "      <td>Age_Model_Initial_Report.csv</td>\n",
       "    </tr>\n",
       "    <tr>\n",
       "      <th>3</th>\n",
       "      <td>157</td>\n",
       "      <td>Planktonic_Foraminifers.csv,Nannofossils.csv</td>\n",
       "      <td>Age_Model_Shipboard.csv,Age_Model_Initial_Repo...</td>\n",
       "    </tr>\n",
       "    <tr>\n",
       "      <th>4</th>\n",
       "      <td>150</td>\n",
       "      <td>Dinoflagellates_Acritarch_Prasinophytes.csv,Na...</td>\n",
       "      <td>Age_Model_Initial_Report.csv</td>\n",
       "    </tr>\n",
       "  </tbody>\n",
       "</table>\n",
       "</div>"
      ],
      "text/plain": [
       "  expedition                                               taxa  \\\n",
       "0        135  Benthic_Foraminifers.csv,Nannofossils.csv,Plan...   \n",
       "1        104  Macrofossils.csv,Dinoflagellates_Acritarch_Pra...   \n",
       "2        168                                   Nannofossils.csv   \n",
       "3        157       Planktonic_Foraminifers.csv,Nannofossils.csv   \n",
       "4        150  Dinoflagellates_Acritarch_Prasinophytes.csv,Na...   \n",
       "\n",
       "                                           age_model  \n",
       "0                       Age_Model_Initial_Report.csv  \n",
       "1                      Age_Model_Initial_Reports.csv  \n",
       "2                       Age_Model_Initial_Report.csv  \n",
       "3  Age_Model_Shipboard.csv,Age_Model_Initial_Repo...  \n",
       "4                       Age_Model_Initial_Report.csv  "
      ]
     },
     "execution_count": 5,
     "metadata": {},
     "output_type": "execute_result"
    }
   ],
   "source": [
    "dict = {\n",
    "    \"expedition\": exps,\n",
    "    \"taxa\": taxa,\n",
    "    \"age_model\": ages\n",
    "}\n",
    "df = pd.DataFrame(dict)\n",
    "df.head()"
   ]
  },
  {
   "cell_type": "code",
   "execution_count": 6,
   "metadata": {},
   "outputs": [],
   "source": [
    "df.to_csv(os.path.join('tmp','noaa_JanusIODP_grouped_files.csv'), index=False)"
   ]
  },
  {
   "cell_type": "markdown",
   "metadata": {},
   "source": [
    "### unique file names"
   ]
  },
  {
   "cell_type": "code",
   "execution_count": 7,
   "metadata": {},
   "outputs": [
    {
     "data": {
      "text/plain": [
       "{'Age_Model_Initial_Report.csv',\n",
       " 'Age_Model_Initial_Reports.csv',\n",
       " 'Age_Model_Post_Moratorium.csv',\n",
       " 'Age_Model_Shipboard.csv',\n",
       " 'Age_Model_Shipboard_Report.csv',\n",
       " 'Benthic Foraminifers.csv',\n",
       " 'Benthic_Foraminifers.csv',\n",
       " 'Bolboforms.csv',\n",
       " 'Diatoms.csv',\n",
       " 'Dinoflagellates_Acritarch_Prasinophytes.csv',\n",
       " 'Dinoflagellates_Acritarchs_Prasinophytes.csv',\n",
       " 'Macrofossils.csv',\n",
       " 'Miscellaneous.csv',\n",
       " 'Nannofossils .csv',\n",
       " 'Nannofossils.csv',\n",
       " 'Ostracodes.csv',\n",
       " 'Planktonic Foraminifers.csv',\n",
       " 'Planktonic_Foraminifers .csv',\n",
       " 'Planktonic_Foraminifers.csv',\n",
       " 'Pollen_Spores.csv',\n",
       " 'Pteropods.csv',\n",
       " 'Radiolarians.csv',\n",
       " 'Silicoflagellates_Ebridians_Actiniscidians.csv',\n",
       " 'Sponge_Spicules.csv',\n",
       " 'Trace_Fossils.csv'}"
      ]
     },
     "execution_count": 7,
     "metadata": {},
     "output_type": "execute_result"
    }
   ],
   "source": [
    "unique_filenames(csv_paths)"
   ]
  },
  {
   "cell_type": "markdown",
   "metadata": {},
   "source": [
    "### column names"
   ]
  },
  {
   "cell_type": "code",
   "execution_count": 8,
   "metadata": {},
   "outputs": [
    {
     "data": {
      "text/plain": [
       "12991"
      ]
     },
     "execution_count": 8,
     "metadata": {},
     "output_type": "execute_result"
    }
   ],
   "source": [
    "columns = unique_columns(csv_paths)\n",
    "len(columns)"
   ]
  },
  {
   "cell_type": "markdown",
   "metadata": {},
   "source": [
    "## Miscellaneous.csv"
   ]
  },
  {
   "cell_type": "code",
   "execution_count": 9,
   "metadata": {},
   "outputs": [
    {
     "name": "stdout",
     "output_type": "stream",
     "text": [
      "https://github.com/eODP/data-processing/tree/master/notebooks/raw_data/NOAA_csv/JanusIODP_paleo_agemodel/paleontology/range_tables/104/643/HOLE_A/Miscellaneous.csv\n",
      "https://github.com/eODP/data-processing/tree/master/notebooks/raw_data/NOAA_csv/JanusIODP_paleo_agemodel/paleontology/range_tables/104/644/HOLE_A/Miscellaneous.csv\n",
      "https://github.com/eODP/data-processing/tree/master/notebooks/raw_data/NOAA_csv/JanusIODP_paleo_agemodel/paleontology/range_tables/104/642/HOLE_B/Miscellaneous.csv\n",
      "https://github.com/eODP/data-processing/tree/master/notebooks/raw_data/NOAA_csv/JanusIODP_paleo_agemodel/paleontology/range_tables/120/747/HOLE_A/Miscellaneous.csv\n",
      "https://github.com/eODP/data-processing/tree/master/notebooks/raw_data/NOAA_csv/JanusIODP_paleo_agemodel/paleontology/range_tables/120/749/HOLE_B/Miscellaneous.csv\n",
      "https://github.com/eODP/data-processing/tree/master/notebooks/raw_data/NOAA_csv/JanusIODP_paleo_agemodel/paleontology/range_tables/120/749/HOLE_C/Miscellaneous.csv\n",
      "https://github.com/eODP/data-processing/tree/master/notebooks/raw_data/NOAA_csv/JanusIODP_paleo_agemodel/paleontology/range_tables/120/748/HOLE_B/Miscellaneous.csv\n",
      "https://github.com/eODP/data-processing/tree/master/notebooks/raw_data/NOAA_csv/JanusIODP_paleo_agemodel/paleontology/range_tables/120/748/HOLE_C/Miscellaneous.csv\n",
      "https://github.com/eODP/data-processing/tree/master/notebooks/raw_data/NOAA_csv/JanusIODP_paleo_agemodel/paleontology/range_tables/120/751/HOLE_A/Miscellaneous.csv\n",
      "https://github.com/eODP/data-processing/tree/master/notebooks/raw_data/NOAA_csv/JanusIODP_paleo_agemodel/paleontology/range_tables/120/750/HOLE_A/Miscellaneous.csv\n",
      "https://github.com/eODP/data-processing/tree/master/notebooks/raw_data/NOAA_csv/JanusIODP_paleo_agemodel/paleontology/range_tables/119/744/HOLE_A/Miscellaneous.csv\n"
     ]
    }
   ],
   "source": [
    "for path in csv_paths:\n",
    "    if 'Miscellaneous.csv' in path:\n",
    "        link = 'https://github.com/eODP/data-processing/tree/master/notebooks/' + '/'.join(path.split('/'))\n",
    "        print(link)"
   ]
  },
  {
   "cell_type": "markdown",
   "metadata": {},
   "source": [
    "## Janus_core_data"
   ]
  },
  {
   "cell_type": "code",
   "execution_count": 10,
   "metadata": {},
   "outputs": [
    {
     "name": "stdout",
     "output_type": "stream",
     "text": [
      "files 325\n"
     ]
    }
   ],
   "source": [
    "path = os.path.join('raw_data', 'NOAA_csv', 'Janus_core_data', '**', '**', '*.csv')\n",
    "csv_paths = glob.glob(path)\n",
    "print('files', len(csv_paths))"
   ]
  },
  {
   "cell_type": "markdown",
   "metadata": {},
   "source": [
    "### files grouped by expedition and file type"
   ]
  },
  {
   "cell_type": "code",
   "execution_count": 11,
   "metadata": {},
   "outputs": [],
   "source": [
    "exps = []\n",
    "files = []\n",
    "\n",
    "for path in csv_paths:\n",
    "    parts = Path(path).parts\n",
    "    exp = parts[5]\n",
    "    \n",
    "    if exp not in exps:\n",
    "        exps.append(exp)\n",
    "        files.append('xxx-delimited_pre-janus.csv')"
   ]
  },
  {
   "cell_type": "code",
   "execution_count": 12,
   "metadata": {},
   "outputs": [
    {
     "data": {
      "text/html": [
       "<div>\n",
       "<style scoped>\n",
       "    .dataframe tbody tr th:only-of-type {\n",
       "        vertical-align: middle;\n",
       "    }\n",
       "\n",
       "    .dataframe tbody tr th {\n",
       "        vertical-align: top;\n",
       "    }\n",
       "\n",
       "    .dataframe thead th {\n",
       "        text-align: right;\n",
       "    }\n",
       "</style>\n",
       "<table border=\"1\" class=\"dataframe\">\n",
       "  <thead>\n",
       "    <tr style=\"text-align: right;\">\n",
       "      <th></th>\n",
       "      <th>expedition</th>\n",
       "      <th>lithology</th>\n",
       "    </tr>\n",
       "  </thead>\n",
       "  <tbody>\n",
       "    <tr>\n",
       "      <th>0</th>\n",
       "      <td>sed_lith_104_642b_delimited_pre-janus.csv</td>\n",
       "      <td>xxx-delimited_pre-janus.csv</td>\n",
       "    </tr>\n",
       "    <tr>\n",
       "      <th>1</th>\n",
       "      <td>sed_lith_104_642e_delimited_pre-janus.csv</td>\n",
       "      <td>xxx-delimited_pre-janus.csv</td>\n",
       "    </tr>\n",
       "    <tr>\n",
       "      <th>2</th>\n",
       "      <td>sed_lith_104_644a_delimited_pre-janus.csv</td>\n",
       "      <td>xxx-delimited_pre-janus.csv</td>\n",
       "    </tr>\n",
       "    <tr>\n",
       "      <th>3</th>\n",
       "      <td>sed_lith_104_642d_delimited_pre-janus.csv</td>\n",
       "      <td>xxx-delimited_pre-janus.csv</td>\n",
       "    </tr>\n",
       "    <tr>\n",
       "      <th>4</th>\n",
       "      <td>sed_lith_104_642c_delimited_pre-janus.csv</td>\n",
       "      <td>xxx-delimited_pre-janus.csv</td>\n",
       "    </tr>\n",
       "  </tbody>\n",
       "</table>\n",
       "</div>"
      ],
      "text/plain": [
       "                                  expedition                    lithology\n",
       "0  sed_lith_104_642b_delimited_pre-janus.csv  xxx-delimited_pre-janus.csv\n",
       "1  sed_lith_104_642e_delimited_pre-janus.csv  xxx-delimited_pre-janus.csv\n",
       "2  sed_lith_104_644a_delimited_pre-janus.csv  xxx-delimited_pre-janus.csv\n",
       "3  sed_lith_104_642d_delimited_pre-janus.csv  xxx-delimited_pre-janus.csv\n",
       "4  sed_lith_104_642c_delimited_pre-janus.csv  xxx-delimited_pre-janus.csv"
      ]
     },
     "execution_count": 12,
     "metadata": {},
     "output_type": "execute_result"
    }
   ],
   "source": [
    "dict = { \"expedition\": exps,\n",
    "        \"lithology\": files\n",
    "       }\n",
    "df = pd.DataFrame(dict)\n",
    "df.head()"
   ]
  },
  {
   "cell_type": "code",
   "execution_count": 13,
   "metadata": {},
   "outputs": [],
   "source": [
    "df.to_csv(os.path.join('tmp', 'noaa_Janus_grouped_files.csv'), index=False)"
   ]
  },
  {
   "cell_type": "markdown",
   "metadata": {},
   "source": [
    "### unique file names"
   ]
  },
  {
   "cell_type": "code",
   "execution_count": 14,
   "metadata": {},
   "outputs": [],
   "source": [
    "# unique_filenames(csv_paths)"
   ]
  },
  {
   "cell_type": "markdown",
   "metadata": {},
   "source": [
    "### column names"
   ]
  },
  {
   "cell_type": "code",
   "execution_count": 15,
   "metadata": {},
   "outputs": [
    {
     "data": {
      "text/plain": [
       "{'Unnamed: 30',\n",
       " 'Unnamed: 31',\n",
       " 'Unnamed: 32',\n",
       " 'Unnamed: 33',\n",
       " 'Unnamed: 34',\n",
       " 'bottom interval',\n",
       " 'bottom interval depth below sea floor',\n",
       " 'code',\n",
       " 'color',\n",
       " 'color number',\n",
       " 'core',\n",
       " 'coretype',\n",
       " 'depth',\n",
       " 'drilling deformities',\n",
       " 'hole',\n",
       " 'induration',\n",
       " 'latitude',\n",
       " 'leg',\n",
       " 'lithology',\n",
       " 'longitude',\n",
       " 'minerals',\n",
       " 'more data available',\n",
       " 'observer',\n",
       " 'other',\n",
       " 'paleontology',\n",
       " 'piece number bottom',\n",
       " 'piece number top',\n",
       " 'section',\n",
       " 'site',\n",
       " 'structures',\n",
       " 'sub piece bottom',\n",
       " 'sub piece top',\n",
       " 'top interval',\n",
       " 'top interval depth below sea floor',\n",
       " 'unusual occurrences'}"
      ]
     },
     "execution_count": 15,
     "metadata": {},
     "output_type": "execute_result"
    }
   ],
   "source": [
    "unique_columns(csv_paths)"
   ]
  },
  {
   "cell_type": "markdown",
   "metadata": {},
   "source": [
    "## check minerals, paleontology, structures, unusual occurrences values"
   ]
  },
  {
   "cell_type": "code",
   "execution_count": 16,
   "metadata": {},
   "outputs": [],
   "source": [
    "minerals = []\n",
    "paleontology = []\n",
    "structures = []\n",
    "unusual_occurrences = []\n",
    "\n",
    "for path in csv_paths:\n",
    "    df = pd.read_csv(path, nrows=1)\n",
    "    columns = df.columns\n",
    "    if 'minerals' in columns:\n",
    "        minerals.append(path)\n",
    "    if 'paleontology' in columns:\n",
    "        paleontology.append(path)\n",
    "    if 'structures' in columns:\n",
    "        structures.append(path)\n",
    "    if 'unusual occurrences' in columns:\n",
    "        unusual_occurrences.append(path)"
   ]
  },
  {
   "cell_type": "code",
   "execution_count": 17,
   "metadata": {},
   "outputs": [
    {
     "name": "stdout",
     "output_type": "stream",
     "text": [
      "325\n",
      "325\n",
      "325\n",
      "325\n",
      "325\n"
     ]
    }
   ],
   "source": [
    "print(len(csv_paths))\n",
    "print(len(minerals))\n",
    "print(len(paleontology))\n",
    "print(len(structures))\n",
    "print(len(unusual_occurrences))\n"
   ]
  },
  {
   "cell_type": "code",
   "execution_count": 18,
   "metadata": {},
   "outputs": [
    {
     "name": "stdout",
     "output_type": "stream",
     "text": [
      "raw_data/NOAA_csv/Janus_core_data/104/642b/sed_lith_104_642b_delimited_pre-janus.csv\n"
     ]
    },
    {
     "data": {
      "text/plain": [
       "['fe/mn laminae',\n",
       " 'fe dots (~57 cm); pyrite in burrows(8-16 cm)',\n",
       " 'crystalline fragment dropstones',\n",
       " 'pyrite in burrows',\n",
       " 'pyrite (?) in mottling',\n",
       " 'pyrite in mottling',\n",
       " 'pyrite pockets',\n",
       " 'pyrite in sandy zone(~134 cm);pyrite & volcanic ash(132 cm)',\n",
       " 'volcanic ash? pocket (17 cm)',\n",
       " 'pyrite infilled pores (?)',\n",
       " 'pyrite in burrows (96 cm)',\n",
       " 'pyrite in sandy patches (11, 15-17 cm)',\n",
       " 'pyrite sandy patches (110-113, 127-131 cm)',\n",
       " 'pyrite in burrows (123-126 cm)',\n",
       " 'pyrite in burrow (~86 cm)',\n",
       " 'pyrite in burrows (127 cm)',\n",
       " 'pyrite in burrows (124-132, 138 cm)',\n",
       " 'pyrite in burrows; volcanic ash (96-98,103 cm)',\n",
       " 'pyrite in burrows, pyrite in color bands',\n",
       " 'nannos',\n",
       " 'volcanic ash (120-122 cm)',\n",
       " 'pyrite concretion (50 cm)',\n",
       " 'pyrite in burrows (0-89 cm)',\n",
       " 'pyrite concretions (90, 110 cm)',\n",
       " 'pyrite impregnation along burrows(0-76 cm)',\n",
       " 'pyrite in burrows (50-150 cm)',\n",
       " 'pyrite impregnations (11-150 cm)',\n",
       " 'pyrite impregnations and concretion (111 cm)',\n",
       " 'pyrite concretion (64 cm); volcanic ash (80-90 cm)',\n",
       " 'pyrite in burrows and concretions (1-4 cm)',\n",
       " 'pyrite in concretion and adjacent pyrite sand',\n",
       " 'pyrite (?) in sandy pocket (60 cm)',\n",
       " 'volcanic ash',\n",
       " 'rock fragment (10-12 cm)',\n",
       " 'pyrite concretion and pyrite sands = volcanic ash(102-104cm)',\n",
       " 'pyrite in sandy pockets (130, 144 cm)',\n",
       " 'volcanic ash layers (23-39, 110-113 cm)',\n",
       " 'pyrite lens (35 cm)',\n",
       " 'volcanic ash ? (53-56, 112-114 cm)',\n",
       " 'volcanic ash pocket (25-26 cm)',\n",
       " 'basaltic glass? (81-83, 142-145 cm)',\n",
       " 'basaltic glass? (94-98 cm)',\n",
       " 'pyrite filled pockets (7, 10 cm)',\n",
       " 'volcanic ash (partially disseminated)',\n",
       " 'basaltic glass? (57,72cm)',\n",
       " 'volcanic ash pockets (121, 124 cm)',\n",
       " 'volcanic ash (74, 138-143 cm)',\n",
       " 'possibly disseminated, altered basaltic ash (117-123 cm)',\n",
       " 'possibly disseminsated basaltic ash (54-66 cm)',\n",
       " 'possibly disseminated basaltic ash (98, 102-105, 140-145cm)',\n",
       " 'balsaltic ash (43 cm)',\n",
       " 'basaltic ash',\n",
       " 'possibly disseminated, altered basaltic glass (135-140 cm)']"
      ]
     },
     "execution_count": 18,
     "metadata": {},
     "output_type": "execute_result"
    }
   ],
   "source": [
    "def unique_values(column):\n",
    "    return list(column.dropna().unique())\n",
    "\n",
    "path = csv_paths[0]\n",
    "print(path)\n",
    "\n",
    "df = pd.read_csv(path)\n",
    "\n",
    "unique_values(df['minerals'])"
   ]
  },
  {
   "cell_type": "code",
   "execution_count": 19,
   "metadata": {},
   "outputs": [
    {
     "data": {
      "text/plain": [
       "['forams',\n",
       " 'nanno',\n",
       " 'nannos',\n",
       " 'forams (100-120 cm)',\n",
       " 'forams (0-122 cm)',\n",
       " 'forams in sandy patches (135-145 cm)',\n",
       " 'forams (130-150 cm)',\n",
       " 'zoophycos trace fossil',\n",
       " 'nanno, mollusc fragments (11 cm)',\n",
       " 'nannos; forams',\n",
       " 'forams visible',\n",
       " 'forams (88-102 cm)',\n",
       " 'visible forams (0-120 cm)',\n",
       " 'diatoms',\n",
       " 'forams (50 cm ?), diatoms']"
      ]
     },
     "execution_count": 19,
     "metadata": {},
     "output_type": "execute_result"
    }
   ],
   "source": [
    "unique_values(df['paleontology'])"
   ]
  },
  {
   "cell_type": "code",
   "execution_count": 20,
   "metadata": {},
   "outputs": [
    {
     "data": {
      "text/plain": [
       "['grayish color mottling (~27-30 cm);mottling(38-41 cm); minor bioturbation (38-41 cm)',\n",
       " 'parallel laminae',\n",
       " 'fine brownish laminae (~142-145 cm), dropstones',\n",
       " 'moderate bioturbation/pyritized burrows (~114-117 cm), dropstone (~115cm)',\n",
       " 'pyritized burrows/moderate bioturbation (8-16 cm)',\n",
       " 'heavy bioturbation(144-150cm);2 mm burrows (144-150 cm); cross-stratification(138-144cm), dropstones (131, 139 cm)',\n",
       " 'moderate bioturbation',\n",
       " 'moderate (80-93 cm) to heavy (96-100 cm) bioturbation; large granite dropstones (~116cm)',\n",
       " 'parallel laminae (119-127 cm), dropstones, small (119-127 cm), large (132 cm)',\n",
       " 'laminae',\n",
       " 'dropstones (~67,93,122cm), minor bioturbation (45-100 cm)',\n",
       " 'dropstone? (~136 cm)',\n",
       " 'minor bioturbation (14-55 cm)',\n",
       " 'scattered dropstones (105-110 cm, 136-141 cm)',\n",
       " 'black mottling/minor bioturbation (8-37 cm); faint laminae below 30 cm',\n",
       " 'dropstones, 5y 3/2 mottling(47-64 cm); mottling(64-80, 80-110 cm)',\n",
       " 'faint black mottling; minor bioturbation, dropstones',\n",
       " 'black mottling (131-138 cm)',\n",
       " 'mottling (22-26 cm)',\n",
       " 'very dark gray to black mottling, minor bioturbation',\n",
       " 'mottling, dropstones (sand-sized 0-4cm); 1 cm at 44, 53 cm)',\n",
       " 'dropstones, clay (53-60 cm), 2-5 mm at 91, 96, 107 cm',\n",
       " 'mottling (113-148 cm), dropstones (138, 146-147 cm)',\n",
       " 'mottling (0-20, 31-35 cm), heavy bioturbation (31-35 cm), minor bioturbation (0-20 cm); dropstone (16-17 cm)',\n",
       " 'mottling; weak horizontal layering, dropstones',\n",
       " 'interbeding (<1 cm thick)',\n",
       " 'black and dark olive green mottling, moderate bioturbation',\n",
       " 'black mottling',\n",
       " 'mottling(0-10,21-100cm);laminae(10-21cm);minor(0-10,21-100,116-119cm)to moderate (105-109cm) bioturbation',\n",
       " 'black mottling (100-105 cm); gray mottling (105-109 cm)',\n",
       " 'dropstone (1.5 cm)',\n",
       " 'mottling, moderate bioturbation (5-8, 8.5-10 cm)',\n",
       " 'mottling, minor bioturbation',\n",
       " 'mottling, moderate bioturbation',\n",
       " 'mottling (42-62 cm); light brown and light green interbedding(62-76cm),minor bioturbation (42-62cm)',\n",
       " 'large dropstone (84 cm)',\n",
       " 'mottling (98-108, 112-122 cm), minor (98-108) to moderate bioturbation (112-122 cm), dropstones (88-98,140-155cm)',\n",
       " 'dark gray mottling (42-47 cm)',\n",
       " 'mottling (0-51 cm), dropstone (10-12 cm)',\n",
       " '5 mm dropstone (80 cm)',\n",
       " 'mottling (6-134 cm), moderate bioturbation (10-134 cm), small mudstone dropstones',\n",
       " 'mottling, moderate bioturbation, crs sand-sized crystalline fragment dropstones (decrease below ~60 cm)',\n",
       " 'mottling, minor bioturbation (84-134 cm), gray mudstone dropstones w/one 10 mm at 114 cm',\n",
       " 'mottling (0-49 cm); pyrite infilled burrows, minor bioturbation, dropstones with one 15 mm at 51 cm',\n",
       " 'mottling with large mottle (85 cm), minor bioturbation',\n",
       " 'mottling (90-120 cm), minor bioturbation (100-125 cm), dropstones with one mudstone at 133 cm',\n",
       " 'dark gray and very dark gray mottling(0-18 cm); very dark gray and grayish brown layers(18-89 cm)',\n",
       " 'mottling; pyrite burrows, moderate bioturbation',\n",
       " 'pyrite infilled mottling; moderate bioturbation, several small dropstones',\n",
       " 'mottling, minor bioturbation, small olive gray mudstone dropstones',\n",
       " 'minor bioturbation',\n",
       " 'pyrite infilled burrows, minor bioturbation, large dropstone (150 cm)',\n",
       " 'mottling, moderate bioturbation, dark gray mottled band (36-37 cm)',\n",
       " 'pyrite infilled burrows, minor bioturbation',\n",
       " 'minor bioturbation; mottling; shear pin fragment or dropstone (64cm)',\n",
       " 'extensive small pyrite infilled burrows, moderate bioturbation',\n",
       " 'mottling and minor bioturbation (0-8,100-148cm); dropstones,pebble to cobble sized (37,41-44,106-109cm)',\n",
       " 'mottling and minor bioturbation (0-22, 34-136 cm), small mudstone dropstones (34-136 cm)',\n",
       " 'pyrite infilled burrows, one sand-sized dropstone (~14.5 cm)',\n",
       " 'mottling, minor bioturbation, pebble sized dropstone(~80 cm)',\n",
       " 'mottling, minor bioturbation, pebble-sized dropstone (~123 cm)',\n",
       " 'mottling, minor bioturbation, dropstone (~78 cm)',\n",
       " 'mottling, minor bioturbation (0-10 cm), dropstones (10-17 cm), dropstones (10-17 cm)',\n",
       " 'mottling and minor bioturbation (19-102 cm), dropstones (19-102 cm)',\n",
       " 'mottling, minor bioturbation, small dropstone? (4.5 cm)',\n",
       " 'minor bioturbation (45-95 cm); mottling and interbedding',\n",
       " 'small dropstones',\n",
       " 'mottling, minor bioturbaton',\n",
       " 'dark gray and black mottling',\n",
       " 'mottling; minor (40-56. 68-88 cm) to strong bioturbation  (63-67 cm)',\n",
       " 'mottling',\n",
       " 'pyrite infilled pores(?)',\n",
       " 'minor bioturbation; mottling',\n",
       " 'pyrite infilled pores(?), small dropstones',\n",
       " 'sand-sized claystone dropstones (?)',\n",
       " 'mottling, minor bioturbation, sand-sized dropstones',\n",
       " 'minor bioturbation; mottling, pebble-sized dropstones (26, 38, 47-48 cm)',\n",
       " 'mottled, minor bioturbation, dropstones',\n",
       " 'minor bioturbation; mottling, pebble-sized dropstones (60-64, 92, 112 cm)',\n",
       " 'dropstone (~8 cm)',\n",
       " 'mottling; minor bioturbation',\n",
       " 'mottling; minor bioturbation, dropstones',\n",
       " 'minor bioturbation; sandy patch and dropstone (86-88 cm)',\n",
       " 'mottling, strong (101-103, 116-117, 122-125 cm) to minor bioturbation',\n",
       " 'mottling, minor bioturbation (9-16 cm)',\n",
       " 'mottling, minor bioturbation (16-32 cm)',\n",
       " ' mottling, minor bioturbation, pebble-size dropstone (51 cm)',\n",
       " '3 mm burrows infilled w/sandy mud (31-33 cm); interlayers',\n",
       " 'indistinct sandy mud infilled burrows',\n",
       " 'mottling; 1-2 mm pyritized burrows, small dropstones',\n",
       " 'moderate bioturbation; mottling',\n",
       " 'mottling and sandy infilled burrows (110-118 cm);',\n",
       " 'mottling; color laminae (129 cm)',\n",
       " '2-3 mm sandy infilled burrows; moderate bioturbation, mm size dropstones (132, 143 cm)',\n",
       " 'mottling (?)',\n",
       " 'mottling, minor bioturbation?',\n",
       " 'mottling; burrows; strong bioturbation',\n",
       " 'moderate bioturbation (40-60 cm); dark mottling (40-50 cm)',\n",
       " '5-10 mm color banding; mottling by burrows',\n",
       " 'minor bioturbation/burrows (95-105 cm);pyritized burrow (96 cm); mottling (134-152 cm), strong bioturbation (95-105 cm)',\n",
       " 'burrows, zoophycos?, moderate (0-5 cm) to strong bioturbation',\n",
       " 'strong (32-57 cm) to minor (57-77 cm) bioturbation; burrows; zoophycos (32-57 cm)',\n",
       " 'burrows (114-140 cm), moderate bioturbation (115-120, 130-135 cm)',\n",
       " '2 mm burrows/ moderate bioturbation (21-35 cm), dropstone (6 cm)',\n",
       " 'burrows; moderate bioturbation, dropstone (47-48 cm)',\n",
       " 'moderate bioturbation/mottling',\n",
       " 'pyritized burrows',\n",
       " 'dropstones (?)',\n",
       " 'color band (60 cm); mottling(69-83 cm); moderate bioturbation (74-80 cm)',\n",
       " 'mottling (90, 103-110 cm); greenish color banding (125 cm), moderate bioturbation (87-90, 105-110 cm)',\n",
       " 'moderate bioturbation (32-45 cm); greenish color banding (11, 15-17 cm), dropstone (63 cm)',\n",
       " 'dropstones',\n",
       " 'mottling, minor bioturbation ? (0-10 cm)',\n",
       " 'minor bioturbation/mottling (73-80 cm), 10 mm burrows (75, 88cm)',\n",
       " 'greenish color banding/parallel laminae(100-110cm);pyritized burrows; minor bioturbation(130-140cm)',\n",
       " ' 3 mm pyritized burrows',\n",
       " 'small dropstone (23 cm)',\n",
       " 'cm-sized dropstones (36cm)',\n",
       " 'cm sized dropstones',\n",
       " 'dark laminae & mottling(42-60cm);mottling w/dark dots(72-84cm);minor bioturbation/burrows(123-126cm),mottling(135-150cm)',\n",
       " 'moderate bioturbation/pyritized burrows/mottling (2-80 cm);color banding (45-55, 60-66 cm)',\n",
       " 'very dark gray mud pebbles (80-83 cm)',\n",
       " 'dropstone (121 cm); minor bioturbation?',\n",
       " 'dropstones?',\n",
       " 'dropstones (30 cm)',\n",
       " 'minor bioturbation?',\n",
       " 'dropstone (47 cm)',\n",
       " 'minor bioturbation ?',\n",
       " 'moderate bioturbation/large burrows(planolites?)(60-70 cm);pyritized burrow(~86cm),minor bioturbation?(44-60,70-92cm)',\n",
       " 'sandy infilled burrows; moderate bioturbation',\n",
       " 'large burrows (?)(106, 113, 116 cm)',\n",
       " 'color laminae; 2 mm burrows',\n",
       " 'debris flow? (35-40,70-75cm), burrows, color lamiane, pyritized burrows (127cm)',\n",
       " 'minor(5-10,23-26cm) to moderate(62-100,102-115cm) bioturbation;zoophycos?(100-115 cm);pyritized burrows(124-132,138cm)',\n",
       " 'strong bioturbation (0-96 cm); large pyritized burrows',\n",
       " 'strong bioturbation; 1 mm across pyritized burrows at 3-5 cm intervals',\n",
       " 'moderate bioturbation;pyritized burrows at 3-5cm intervals,especially in darker horizons with large burrows at 27,106 cm',\n",
       " 'moderate bioturbation; pyritized burrows especially in darker horizons',\n",
       " 'moderate bioturbation; burrows',\n",
       " 'strong bioturbation (0-30, 80-120 cm)',\n",
       " 'strong bioturbation(26-150cm);1-2mm,200 mm spreiten and zoophycos? burrows;often w/ pyrite infilling faint 1mm burrows',\n",
       " 'strong bioturbation; diffuse spreiten burrows; pyritized burrows',\n",
       " 'strong bioturbation (0-60 cm); spreiten burrows (60-130 cm); zoophycos (90-130 cm)',\n",
       " 'strong bioturbation (0-120, 122-150 cm); no well developed zoophycos (0-120 cm), well developed zoophycos (122-150 cm)',\n",
       " 'moderate bioturbation; well developed zoophycos (0-96 cm)',\n",
       " 'strong bioturbation; faint burrows',\n",
       " 'strong bioturbation; burrows with large massive pyritized zoophycos (86-90 cm)',\n",
       " 'strong bioturbation; pyrite concretion along burrow (50 cm); white dots/infilled burrows ? (65-75 cm)',\n",
       " 'strong bioturbation; spreiten and zoophycos burrows,pyritized burrows(0-89cm);burrows (89-150 cm)',\n",
       " 'strong bioturbation; pyrite impregnation along burrows (0-76 cm)',\n",
       " 'strong bioturbation; indistinct zoophycos (100-140 cm); color banding (0-77 cm)',\n",
       " 'strong bioturbation',\n",
       " 'strong bioturbation; pyritized burrows (50-150 cm)',\n",
       " 'strong bioturbation, pyrite concretion after burrow (111 cm)',\n",
       " 'strong bioturbation, pyrite concretion (64 cm)',\n",
       " 'strong bioturbation; pyritized burrows and infilled burrows (filled w/ lighter sediment); pyrite concretions (1-4 cm)',\n",
       " 'strong bioturbation; parallel laminae (110-128 cm); mottling (0-137cm); color banding (137-149 cm)',\n",
       " 'indentifiable zoophycos trace fossil(24, 32 cm); mottling; moderate bioturbation',\n",
       " 'mottling; laminae (71-77 cm); moderate bioturbation',\n",
       " 'mottling; strong bioturbation; laminae (77-103 cm)',\n",
       " 'mottling; strong bioturbation; pyrite concretion (132 cm)',\n",
       " 'mottling; long vertical burrow (60-91 cm), moderate bioturbation',\n",
       " 'strong bioturbation; mottling; zoophycos (3,19, 26, 36 cm)',\n",
       " 'mottling, moderate bioturbation, dropstone? (60 cm)',\n",
       " 'mottling; coherent zoophycos (80, 96 cm); moderate bioturbation',\n",
       " 'mottling; zoophycos (2 cm); shell fragment (sandy mollusc fragments (11 cm); moderate bioturbation',\n",
       " 'mottling; strong bioturbation; burrows (cm scale above 23 cm to mm scale below 23 cm)',\n",
       " 'mottling; moderate bioturbation',\n",
       " 'mottling; strong bioturbation',\n",
       " 'mottling; strong bioturbation; faint banding (28-30, 60-62 cm)',\n",
       " 'mottling; strong bioturbation; faint horizontal laminae (66-81 cm)',\n",
       " 'parallel laminae (37-41 cm); strong bioturbation',\n",
       " 'mottling; strong bioturbation; faint horizontal laminae',\n",
       " 'mottling; strong bioturbation; burrows cutting across core (10-40, 90 cm)',\n",
       " 'mottling(intense at 142-150 cm); strong bioturbation',\n",
       " 'zoophycos; mottling; strong bioturbation',\n",
       " 'mottling,moderate bioturbation (85-94 cm)',\n",
       " 'zoophycos (59, 69 cm); moderate bioturbation; mottling',\n",
       " 'minor bioturbation; mottling (10-120 cm); zoophycos (30, 42, 50, 62 cm)',\n",
       " 'minor bioturbation; infrequent mottling',\n",
       " 'greenish gray infilled burrows ; moderate bioturbation',\n",
       " 'mottling; minor bioturbation (especially 110-120 cm)',\n",
       " 'mottling; minor bioturbation; faint parallel laminae',\n",
       " 'mottling; minor to moderate (44-60 cm) bioturbation',\n",
       " 'mottling/ burrows; moderate bioturbation',\n",
       " 'mottling/ well defined burrows; moderate bioturbation; dropstones (?)(100-115 cm)',\n",
       " 'burrows (64, 69 cm); mottling; minor bioturbation;',\n",
       " 'mottling (40-65, 110-120 cm); minor bioturbation',\n",
       " 'zoophycos (94 cm);horizontal parallel laminae (30-50 cm); mottling; minor bioturbation',\n",
       " 'strong bioturbation; mm size dropstones (8-9 cm)',\n",
       " 'zoophycos (44-54 cm); strong bioturbation',\n",
       " 'zoophycos (80-127 cm);strong bioturbation; 2-3 mm burrows (131-150 cm)',\n",
       " 'burrows; mottling; strong bioturbation',\n",
       " 'finely mottled with lighter dots: minor bioturbation',\n",
       " 'finely mottled with lighter dots (49-74 cm): minor bioturbation',\n",
       " 'indistinct burrows (~81-86 cm); minor bioturbation',\n",
       " 'minor bioturbation, mottling']"
      ]
     },
     "execution_count": 20,
     "metadata": {},
     "output_type": "execute_result"
    }
   ],
   "source": [
    "unique_values(df['structures'])"
   ]
  },
  {
   "cell_type": "code",
   "execution_count": 21,
   "metadata": {},
   "outputs": [
    {
     "data": {
      "text/plain": [
       "['small dropstones (8-100 cm)',\n",
       " 'pebbles (17-19 cm)',\n",
       " 'volcanic ash layer (~132 cm)',\n",
       " 'mud pebbles (149 cm)',\n",
       " 'soft mud pebbles',\n",
       " 'reworked very dark gray mud pebbles (especially 110, 120 cm)',\n",
       " 'large mud pebbles (70-75cm)',\n",
       " 'pyrite concretion (50 cm) along large burrows',\n",
       " 'pyrite concretions (90, 110 cm)',\n",
       " 'pyrite concretion (111 cm)',\n",
       " 'pyrite concretion (64 cm)',\n",
       " 'pyrite concretions (1-4 cm)',\n",
       " 'pyrite concretion (132 cm)',\n",
       " 'pyrite concretion(102-104 cm)',\n",
       " 'pebbles/crs sand (100-115 cm) (dropstones ?)']"
      ]
     },
     "execution_count": 21,
     "metadata": {},
     "output_type": "execute_result"
    }
   ],
   "source": [
    "unique_values(df['unusual occurrences'])"
   ]
  },
  {
   "cell_type": "code",
   "execution_count": null,
   "metadata": {},
   "outputs": [],
   "source": []
  }
 ],
 "metadata": {
  "kernelspec": {
   "display_name": "Python 3",
   "language": "python",
   "name": "python3"
  },
  "language_info": {
   "codemirror_mode": {
    "name": "ipython",
    "version": 3
   },
   "file_extension": ".py",
   "mimetype": "text/x-python",
   "name": "python",
   "nbconvert_exporter": "python",
   "pygments_lexer": "ipython3",
   "version": "3.6.8"
  }
 },
 "nbformat": 4,
 "nbformat_minor": 5
}
