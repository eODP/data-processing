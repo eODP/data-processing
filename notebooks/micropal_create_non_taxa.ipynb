{
 "cells": [
  {
   "cell_type": "markdown",
   "metadata": {},
   "source": [
    "# Create non-taxa csv"
   ]
  },
  {
   "cell_type": "markdown",
   "metadata": {},
   "source": [
    "Create a csv that contain non-taxa coulmns."
   ]
  },
  {
   "cell_type": "code",
   "execution_count": 1,
   "metadata": {},
   "outputs": [],
   "source": [
    "import sys\n",
    "sys.path.append('../scripts/')\n",
    "import glob\n",
    "import re\n",
    "import os.path\n",
    "\n",
    "import pandas as pd\n",
    "import numpy as np\n",
    "\n",
    "from normalize_data import (\n",
    "    csv_cleanup,\n",
    "    update_metadata,\n",
    "    get_taxonomy_columns,\n",
    ")"
   ]
  },
  {
   "cell_type": "code",
   "execution_count": 2,
   "metadata": {},
   "outputs": [],
   "source": [
    "base_directory = 'cleaned_data'\n",
    "non_taxa_fields_path = os.path.join(base_directory, \n",
    "                                    'taxa', 'draft', 'LIMS', 'non_taxa_fields.csv')\n",
    "\n",
    "micropal_1 = os.path.join(base_directory, 'Micropal_CSV_1')\n",
    "micropal_2 = os.path.join(base_directory, 'Micropal_CSV_2')\n",
    "micropal_3 = os.path.join(base_directory, 'Micropal_CSV_3')\n",
    "micropal_4 = os.path.join(base_directory, 'Micropal_CSV_revised')\n",
    "\n",
    "micropal_meta_1 = os.path.join(base_directory, \n",
    "                               'metadata', 'LIMS', 'Micropal_1_changes.csv')\n",
    "micropal_meta_2 = os.path.join(base_directory, \n",
    "                               'metadata', 'LIMS', 'Micropal_2_changes.csv')\n",
    "micropal_meta_3 = os.path.join(base_directory, \n",
    "                               'metadata', 'LIMS', 'Micropal_3_changes.csv')\n",
    "micropal_meta_4 = os.path.join(base_directory, \n",
    "                               'metadata', 'LIMS', 'Micropal_revised_changes.csv')"
   ]
  },
  {
   "cell_type": "code",
   "execution_count": 3,
   "metadata": {},
   "outputs": [],
   "source": [
    "clean_data_path = micropal_4\n",
    "metadata_file = micropal_meta_4"
   ]
  },
  {
   "cell_type": "code",
   "execution_count": 4,
   "metadata": {},
   "outputs": [
    {
     "data": {
      "text/html": [
       "<div>\n",
       "<style scoped>\n",
       "    .dataframe tbody tr th:only-of-type {\n",
       "        vertical-align: middle;\n",
       "    }\n",
       "\n",
       "    .dataframe tbody tr th {\n",
       "        vertical-align: top;\n",
       "    }\n",
       "\n",
       "    .dataframe thead th {\n",
       "        text-align: right;\n",
       "    }\n",
       "</style>\n",
       "<table border=\"1\" class=\"dataframe\">\n",
       "  <thead>\n",
       "    <tr style=\"text-align: right;\">\n",
       "      <th></th>\n",
       "      <th>file</th>\n",
       "      <th>taxon_group</th>\n",
       "      <th>add_expedition_section_cols</th>\n",
       "      <th>update_sample_col</th>\n",
       "      <th>update_top_bottom</th>\n",
       "      <th>add_missing_cols</th>\n",
       "      <th>clean_up_taxa_metadata_values</th>\n",
       "      <th>update_zones</th>\n",
       "      <th>add_missing_zone</th>\n",
       "    </tr>\n",
       "  </thead>\n",
       "  <tbody>\n",
       "    <tr>\n",
       "      <th>0</th>\n",
       "      <td>363-U1482A-nannofossils_revised.csv</td>\n",
       "      <td>nannofossils</td>\n",
       "      <td>True</td>\n",
       "      <td>False</td>\n",
       "      <td>False</td>\n",
       "      <td>False</td>\n",
       "      <td>True</td>\n",
       "      <td>False</td>\n",
       "      <td>True</td>\n",
       "    </tr>\n",
       "  </tbody>\n",
       "</table>\n",
       "</div>"
      ],
      "text/plain": [
       "                                  file   taxon_group  \\\n",
       "0  363-U1482A-nannofossils_revised.csv  nannofossils   \n",
       "\n",
       "   add_expedition_section_cols  update_sample_col  update_top_bottom  \\\n",
       "0                         True              False              False   \n",
       "\n",
       "   add_missing_cols  clean_up_taxa_metadata_values  update_zones  \\\n",
       "0             False                           True         False   \n",
       "\n",
       "   add_missing_zone  \n",
       "0              True  "
      ]
     },
     "execution_count": 4,
     "metadata": {},
     "output_type": "execute_result"
    }
   ],
   "source": [
    "metadata = pd.read_csv(metadata_file)\n",
    "metadata.head()"
   ]
  },
  {
   "cell_type": "markdown",
   "metadata": {},
   "source": [
    "## Get non-taxa columns"
   ]
  },
  {
   "cell_type": "markdown",
   "metadata": {},
   "source": [
    "The Micropal CSVs have non-taxa columns, then taxa columns, then non-taxa columns. We want to form a set of non-taxa columns.\n",
    "\n",
    "Get the column names from the beginning and end of the header row. Manually inspect the columns to select the non-taxa columns."
   ]
  },
  {
   "cell_type": "code",
   "execution_count": 5,
   "metadata": {},
   "outputs": [
    {
     "data": {
      "text/plain": [
       "14"
      ]
     },
     "execution_count": 5,
     "metadata": {},
     "output_type": "execute_result"
    }
   ],
   "source": [
    "sample_columns = set()\n",
    "\n",
    "sample_columns.update([\n",
    "'Sample',\n",
    "'Exp',\n",
    "'Site',\n",
    "'Hole',\n",
    "'Core',\n",
    "'Core-Sect',\n",
    "'Extra Sample ID Data',\n",
    "'Type',\n",
    "'Section',\n",
    "'A/W',\n",
    "'Top [cm]',\n",
    "'Bottom [cm]',\n",
    "'Top Depth [m]',\n",
    "'Bottom Depth [m]', \n",
    "])\n",
    "len(sample_columns)"
   ]
  },
  {
   "cell_type": "code",
   "execution_count": 6,
   "metadata": {},
   "outputs": [
    {
     "data": {
      "text/plain": [
       "107"
      ]
     },
     "execution_count": 6,
     "metadata": {},
     "output_type": "execute_result"
    }
   ],
   "source": [
    "taxa_metadata_columns = set()\n",
    "\n",
    "taxa_metadata_columns.update([\n",
    "'% Planktic Foraminifera within whole sample',\n",
    "'Abundance',\n",
    "'Additional zone name',\n",
    "'Additional zone name (short)',\n",
    "'Age',\n",
    "'Aspect comment (etching)',\n",
    "'Aspect comment (etching),Comment (general)',\n",
    "'BF Group abundance',\n",
    "'BF Preservation',\n",
    "'BF comment',\n",
    "'BF preservation',\n",
    "'COMMENTS',\n",
    "'Chrysophyte cyst group abundance',\n",
    "'Comment',\n",
    "'Comment (general)',\n",
    "'Comments',\n",
    "'Datum age average [Ma]',\n",
    "'Datum age maximum [Ma]',\n",
    "'Datum age minimum [Ma]',\n",
    "'Datum author year',\n",
    "'Datum comment',\n",
    "'Datum group',\n",
    "'Datum group code',\n",
    "'Datum name',\n",
    "'Datum name generic',\n",
    "'Datum occurrence',\n",
    "'Datum region',\n",
    "'Datum status',\n",
    "'Datum type',\n",
    "'Datum validation comment',\n",
    "'Diatom abundance',\n",
    "'Diatom preservation - pyritization2',\n",
    "'Diatom preservation dissolution',\n",
    "'Diatom preservation fragmentation',\n",
    "'Diatoms and siliceous plankton comment',\n",
    "'Diatoms group abundance',\n",
    "'Ebridian group abundance',\n",
    "'File Data',\n",
    "'Foram abundance',\n",
    "'Fragmentation',\n",
    "'Fragmentation rank [auto-pop]',\n",
    "'General comment',\n",
    "'Genus/species (upper zone)',\n",
    "'Genus/species lower zone)',\n",
    "'Group Abundance',\n",
    "'Group abundance',\n",
    "'Group abundance (%)',\n",
    "'Group preservation',\n",
    "'Large Benthic Forams [%]',\n",
    "'Lower boundary age av. [Ma]',\n",
    "'Lower boundary age max [Ma]',\n",
    "'Lower boundary age min [Ma]',\n",
    "'Mixing',\n",
    "'Nannofossil abundance',\n",
    "'Nannofossil comment',\n",
    "'No. specimens/tray',\n",
    "'PALEO WATER DEPTH (IS=inner shelf, MS=middle shelf, OS=outer shelf)',\n",
    "'PF Group Abundance',\n",
    "'PF Preservation',\n",
    "'PF Zone',\n",
    "'PF group abundance',\n",
    "'PF preservation',\n",
    "'Percentage of benthic forams in total foram assemblage [%]',\n",
    "'Percentage of non-calcareous agglutinated forams in total foram assemblage [%]',\n",
    "'Percentage of planktic forams in total foram assemblage [%]',\n",
    "'Piece',\n",
    "'Planktonic Benthic ratio (P:B)',\n",
    "'Pleurostomellids comment',\n",
    "'Preservation',\n",
    "'Pteropod group abundance',\n",
    "'Reworking comment (1= <1%, 2= light 1-10%, 3= >10%)',\n",
    "'Reworking comment (1= <1%, 2=light 1-10%, 3= >10%)',\n",
    "'Sample comment',\n",
    "'Sample preparation comment',\n",
    "'Ship File Links',\n",
    "'Shore File Links',\n",
    "'Sillicoflagellate abundance',\n",
    "'Silicoflagellates group abundance',\n",
    "'Temperature Range',\n",
    "'Total in situ dinocysts',\n",
    "'Type (lower zone)',\n",
    "'Type (upper zone)',\n",
    "'Upper boundary age av. [Ma]',\n",
    "'Upper boundary age max [Ma]',\n",
    "'Upper boundary age min [Ma]',\n",
    "'XBroken',\n",
    "'XCorroded',\n",
    "'XCrumpled',\n",
    "'Zone',\n",
    "'Zone author (year)',\n",
    "'Zone comment',\n",
    "'Zone group',\n",
    "'Zone group,Type (upper zone)',\n",
    "'Zone name',\n",
    "'Zone name (short)',\n",
    "'Zone name [short]',\n",
    "'Zone status',\n",
    "'comments',\n",
    "'constituent',\n",
    "'count',\n",
    "'count_type',\n",
    "'dupes and comments',\n",
    "'pc_abundance_name_mode',\n",
    "'pc_fossil_group',\n",
    "'pc_fossil_name',\n",
    "'pc_preservation_name_average',\n",
    "'physical_constituent_name'\n",
    "])\n",
    "\n",
    "len(taxa_metadata_columns)"
   ]
  },
  {
   "cell_type": "code",
   "execution_count": 7,
   "metadata": {},
   "outputs": [],
   "source": [
    "non_taxa_columns = set()\n",
    "non_taxa_columns.update(sample_columns)\n",
    "non_taxa_columns.update(taxa_metadata_columns)"
   ]
  },
  {
   "cell_type": "markdown",
   "metadata": {},
   "source": [
    "Get all the columns from the beginning of the file."
   ]
  },
  {
   "cell_type": "code",
   "execution_count": 8,
   "metadata": {},
   "outputs": [
    {
     "data": {
      "text/plain": [
       "{'Emiliania huxleyi',\n",
       " 'Florisphaera profunda',\n",
       " 'Gephyrocapsa caribbeanica',\n",
       " 'Gephyrocapsa ericsonii',\n",
       " 'Gephyrocapsa oceanica'}"
      ]
     },
     "execution_count": 8,
     "metadata": {},
     "output_type": "execute_result"
    }
   ],
   "source": [
    "filtered_columns = set()\n",
    "\n",
    "for file in metadata['file']:\n",
    "    path = f\"{clean_data_path}/{file}\"\n",
    "    content = pd.read_csv(path)\n",
    "    \n",
    "    content = content.dropna(axis=\"columns\", how=\"all\")\n",
    "    columns = get_taxonomy_columns(content.columns, non_taxa_columns) \n",
    "    filtered_columns.update(set(columns[0:5]))\n",
    "\n",
    "filtered_columns"
   ]
  },
  {
   "cell_type": "markdown",
   "metadata": {},
   "source": [
    "Get all the columns from the end of the file."
   ]
  },
  {
   "cell_type": "code",
   "execution_count": 9,
   "metadata": {},
   "outputs": [
    {
     "data": {
      "text/plain": [
       "{'Reworked species',\n",
       " 'Rhabdosphaera spp.',\n",
       " 'Scyphosphaera intermedia',\n",
       " 'Tetralithoides symeonidesii',\n",
       " 'Umbilicosphaera hulburtiana'}"
      ]
     },
     "execution_count": 9,
     "metadata": {},
     "output_type": "execute_result"
    }
   ],
   "source": [
    "filtered_columns = set()\n",
    "\n",
    "for file in metadata['file']:\n",
    "    path = f\"{clean_data_path}/{file}\"\n",
    "    content = pd.read_csv(path)\n",
    " \n",
    "    content = content.dropna(axis=\"columns\", how=\"all\")\n",
    "    columns = get_taxonomy_columns(content.columns, non_taxa_columns)            \n",
    "    filtered_columns.update(set(columns[-5:]))\n",
    "    \n",
    "filtered_columns"
   ]
  },
  {
   "cell_type": "markdown",
   "metadata": {},
   "source": [
    "## Create non-taxa csv"
   ]
  },
  {
   "cell_type": "code",
   "execution_count": 10,
   "metadata": {},
   "outputs": [],
   "source": [
    "df = pd.DataFrame()\n",
    "df['field'] = list(taxa_metadata_columns)\n",
    "df['type'] = 'taxonomy metadata'"
   ]
  },
  {
   "cell_type": "code",
   "execution_count": 11,
   "metadata": {},
   "outputs": [],
   "source": [
    "df2 = pd.DataFrame()\n",
    "df2['field'] = list(sample_columns)\n",
    "df2['type'] = 'sample'"
   ]
  },
  {
   "cell_type": "code",
   "execution_count": 12,
   "metadata": {},
   "outputs": [],
   "source": [
    "df = df.append(df2, ignore_index=True)"
   ]
  },
  {
   "cell_type": "code",
   "execution_count": 13,
   "metadata": {},
   "outputs": [
    {
     "data": {
      "text/plain": [
       "(121, 2)"
      ]
     },
     "execution_count": 13,
     "metadata": {},
     "output_type": "execute_result"
    }
   ],
   "source": [
    "df.shape"
   ]
  },
  {
   "cell_type": "code",
   "execution_count": 14,
   "metadata": {},
   "outputs": [
    {
     "data": {
      "text/html": [
       "<div>\n",
       "<style scoped>\n",
       "    .dataframe tbody tr th:only-of-type {\n",
       "        vertical-align: middle;\n",
       "    }\n",
       "\n",
       "    .dataframe tbody tr th {\n",
       "        vertical-align: top;\n",
       "    }\n",
       "\n",
       "    .dataframe thead th {\n",
       "        text-align: right;\n",
       "    }\n",
       "</style>\n",
       "<table border=\"1\" class=\"dataframe\">\n",
       "  <thead>\n",
       "    <tr style=\"text-align: right;\">\n",
       "      <th></th>\n",
       "      <th>field</th>\n",
       "      <th>type</th>\n",
       "    </tr>\n",
       "  </thead>\n",
       "  <tbody>\n",
       "    <tr>\n",
       "      <th>119</th>\n",
       "      <td>A/W</td>\n",
       "      <td>sample</td>\n",
       "    </tr>\n",
       "    <tr>\n",
       "      <th>108</th>\n",
       "      <td>Bottom Depth [m]</td>\n",
       "      <td>sample</td>\n",
       "    </tr>\n",
       "    <tr>\n",
       "      <th>109</th>\n",
       "      <td>Bottom [cm]</td>\n",
       "      <td>sample</td>\n",
       "    </tr>\n",
       "    <tr>\n",
       "      <th>116</th>\n",
       "      <td>Core</td>\n",
       "      <td>sample</td>\n",
       "    </tr>\n",
       "    <tr>\n",
       "      <th>113</th>\n",
       "      <td>Core-Sect</td>\n",
       "      <td>sample</td>\n",
       "    </tr>\n",
       "  </tbody>\n",
       "</table>\n",
       "</div>"
      ],
      "text/plain": [
       "                field    type\n",
       "119               A/W  sample\n",
       "108  Bottom Depth [m]  sample\n",
       "109       Bottom [cm]  sample\n",
       "116              Core  sample\n",
       "113         Core-Sect  sample"
      ]
     },
     "execution_count": 14,
     "metadata": {},
     "output_type": "execute_result"
    }
   ],
   "source": [
    "df.sort_values(['type','field'], inplace=True)\n",
    "df.head()"
   ]
  },
  {
   "cell_type": "code",
   "execution_count": 15,
   "metadata": {},
   "outputs": [],
   "source": [
    "df.to_csv(non_taxa_fields_path, index=False)"
   ]
  },
  {
   "cell_type": "code",
   "execution_count": null,
   "metadata": {},
   "outputs": [],
   "source": []
  }
 ],
 "metadata": {
  "kernelspec": {
   "display_name": "Python 3",
   "language": "python",
   "name": "python3"
  },
  "language_info": {
   "codemirror_mode": {
    "name": "ipython",
    "version": 3
   },
   "file_extension": ".py",
   "mimetype": "text/x-python",
   "name": "python",
   "nbconvert_exporter": "python",
   "pygments_lexer": "ipython3",
   "version": "3.6.8"
  }
 },
 "nbformat": 4,
 "nbformat_minor": 4
}
