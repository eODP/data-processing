{
 "cells": [
  {
   "cell_type": "markdown",
   "metadata": {},
   "source": [
    "# eODP expeditions\n",
    "\n",
    "Creates a csv containing eODP expedition information."
   ]
  },
  {
   "cell_type": "code",
   "execution_count": 1,
   "metadata": {},
   "outputs": [],
   "source": [
    "import sys\n",
    "sys.path.append('../scripts/')\n",
    "\n",
    "import pandas as pd\n",
    "import numpy as np\n",
    "\n",
    "from normalize_data import convert_column_names, create_directory"
   ]
  },
  {
   "cell_type": "markdown",
   "metadata": {},
   "source": [
    "## Import raw data"
   ]
  },
  {
   "cell_type": "code",
   "execution_count": 2,
   "metadata": {},
   "outputs": [
    {
     "data": {
      "text/html": [
       "<div>\n",
       "<style scoped>\n",
       "    .dataframe tbody tr th:only-of-type {\n",
       "        vertical-align: middle;\n",
       "    }\n",
       "\n",
       "    .dataframe tbody tr th {\n",
       "        vertical-align: top;\n",
       "    }\n",
       "\n",
       "    .dataframe thead th {\n",
       "        text-align: right;\n",
       "    }\n",
       "</style>\n",
       "<table border=\"1\" class=\"dataframe\">\n",
       "  <thead>\n",
       "    <tr style=\"text-align: right;\">\n",
       "      <th></th>\n",
       "      <th>Expedition</th>\n",
       "      <th>Site/Hole</th>\n",
       "      <th>workbook tab name</th>\n",
       "      <th>Sample</th>\n",
       "      <th>Expedition.1</th>\n",
       "      <th>Site</th>\n",
       "      <th>Hole</th>\n",
       "      <th>Core</th>\n",
       "      <th>Core-Section</th>\n",
       "      <th>Type</th>\n",
       "      <th>...</th>\n",
       "      <th>Principal lithology and prefix</th>\n",
       "      <th>Full lithology name</th>\n",
       "      <th>Principal lithology and suffix</th>\n",
       "      <th>Minor lithology Prefix</th>\n",
       "      <th>Minor lithology name</th>\n",
       "      <th>Minor lithology suffix</th>\n",
       "      <th>Minor lithology and prefix</th>\n",
       "      <th>Full minor lithology name</th>\n",
       "      <th>Minor lithology and suffix</th>\n",
       "      <th>misc</th>\n",
       "    </tr>\n",
       "  </thead>\n",
       "  <tbody>\n",
       "    <tr>\n",
       "      <th>0</th>\n",
       "      <td>376</td>\n",
       "      <td>U1528A</td>\n",
       "      <td>volcaniclastic_sedimentary</td>\n",
       "      <td>Sample</td>\n",
       "      <td>NaN</td>\n",
       "      <td>NaN</td>\n",
       "      <td>NaN</td>\n",
       "      <td>NaN</td>\n",
       "      <td>NaN</td>\n",
       "      <td>NaN</td>\n",
       "      <td>...</td>\n",
       "      <td>NaN</td>\n",
       "      <td>Lithology prefix+name+suffix [read only]</td>\n",
       "      <td>NaN</td>\n",
       "      <td>NaN</td>\n",
       "      <td>NaN</td>\n",
       "      <td>NaN</td>\n",
       "      <td>NaN</td>\n",
       "      <td>NaN</td>\n",
       "      <td>NaN</td>\n",
       "      <td>NaN</td>\n",
       "    </tr>\n",
       "    <tr>\n",
       "      <th>1</th>\n",
       "      <td>375</td>\n",
       "      <td>U1520C</td>\n",
       "      <td>sediment</td>\n",
       "      <td>Sample</td>\n",
       "      <td>NaN</td>\n",
       "      <td>NaN</td>\n",
       "      <td>NaN</td>\n",
       "      <td>NaN</td>\n",
       "      <td>NaN</td>\n",
       "      <td>NaN</td>\n",
       "      <td>...</td>\n",
       "      <td>Lithology prefix+name [read only]</td>\n",
       "      <td>Lithology prefix+name+suffix [read only]</td>\n",
       "      <td>Lithology name+suffix [read only]</td>\n",
       "      <td>NaN</td>\n",
       "      <td>NaN</td>\n",
       "      <td>NaN</td>\n",
       "      <td>NaN</td>\n",
       "      <td>NaN</td>\n",
       "      <td>NaN</td>\n",
       "      <td>NaN</td>\n",
       "    </tr>\n",
       "  </tbody>\n",
       "</table>\n",
       "<p>2 rows × 29 columns</p>\n",
       "</div>"
      ],
      "text/plain": [
       "   Expedition Site/Hole           workbook tab name  Sample Expedition.1 Site  \\\n",
       "0         376    U1528A  volcaniclastic_sedimentary  Sample          NaN  NaN   \n",
       "1         375    U1520C                    sediment  Sample          NaN  NaN   \n",
       "\n",
       "  Hole Core Core-Section Type  ...     Principal lithology and prefix  \\\n",
       "0  NaN  NaN          NaN  NaN  ...                                NaN   \n",
       "1  NaN  NaN          NaN  NaN  ...  Lithology prefix+name [read only]   \n",
       "\n",
       "                        Full lithology name  \\\n",
       "0  Lithology prefix+name+suffix [read only]   \n",
       "1  Lithology prefix+name+suffix [read only]   \n",
       "\n",
       "      Principal lithology and suffix Minor lithology Prefix  \\\n",
       "0                                NaN                    NaN   \n",
       "1  Lithology name+suffix [read only]                    NaN   \n",
       "\n",
       "  Minor lithology name Minor lithology suffix Minor lithology and prefix  \\\n",
       "0                  NaN                    NaN                        NaN   \n",
       "1                  NaN                    NaN                        NaN   \n",
       "\n",
       "  Full minor lithology name Minor lithology and suffix misc  \n",
       "0                       NaN                        NaN  NaN  \n",
       "1                       NaN                        NaN  NaN  \n",
       "\n",
       "[2 rows x 29 columns]"
      ]
     },
     "execution_count": 2,
     "metadata": {},
     "output_type": "execute_result"
    }
   ],
   "source": [
    "df = pd.read_excel('./raw_data/Summary of description workbooks_reformatted.xlsx', sheet_name=\"Column Headers\")\n",
    "df.head(2)"
   ]
  },
  {
   "cell_type": "markdown",
   "metadata": {},
   "source": [
    "## Data wrangling"
   ]
  },
  {
   "cell_type": "markdown",
   "metadata": {},
   "source": [
    "### Add data source "
   ]
  },
  {
   "cell_type": "code",
   "execution_count": 3,
   "metadata": {},
   "outputs": [],
   "source": [
    "df['data_source_notes'] = \"Excel file created by Leah LeVay that normalizes the vocabulary used in OPD workbooks.\""
   ]
  },
  {
   "cell_type": "markdown",
   "metadata": {},
   "source": [
    "### Change column names"
   ]
  },
  {
   "cell_type": "code",
   "execution_count": 4,
   "metadata": {},
   "outputs": [],
   "source": [
    "new_headers = convert_column_names(['workbook tab name'])\n",
    "new_headers['Expedition'] = 'name'"
   ]
  },
  {
   "cell_type": "code",
   "execution_count": 5,
   "metadata": {},
   "outputs": [
    {
     "data": {
      "text/plain": [
       "Index(['name', 'Site/Hole', 'workbook_tab_name', 'Sample', 'Expedition.1',\n",
       "       'Site', 'Hole', 'Core', 'Core-Section', 'Type', 'Section', 'A/W',\n",
       "       'Top [cm]', 'Bottom [cm]', 'Top Depth [m]', 'Bottom Depth [m]',\n",
       "       'Lithology Prefix', 'Lithology principal name', 'Lithology suffix',\n",
       "       'Principal lithology and prefix', 'Full lithology name',\n",
       "       'Principal lithology and suffix', 'Minor lithology Prefix',\n",
       "       'Minor lithology name', 'Minor lithology suffix',\n",
       "       'Minor lithology and prefix', 'Full minor lithology name',\n",
       "       'Minor lithology and suffix', 'misc', 'data_source_notes'],\n",
       "      dtype='object')"
      ]
     },
     "execution_count": 5,
     "metadata": {},
     "output_type": "execute_result"
    }
   ],
   "source": [
    "df.rename(columns=new_headers, inplace=True)\n",
    "df.columns"
   ]
  },
  {
   "cell_type": "markdown",
   "metadata": {},
   "source": [
    "## Create CSV for database import"
   ]
  },
  {
   "cell_type": "markdown",
   "metadata": {},
   "source": [
    "### Select columns to export"
   ]
  },
  {
   "cell_type": "code",
   "execution_count": 6,
   "metadata": {
    "scrolled": true
   },
   "outputs": [
    {
     "data": {
      "text/html": [
       "<div>\n",
       "<style scoped>\n",
       "    .dataframe tbody tr th:only-of-type {\n",
       "        vertical-align: middle;\n",
       "    }\n",
       "\n",
       "    .dataframe tbody tr th {\n",
       "        vertical-align: top;\n",
       "    }\n",
       "\n",
       "    .dataframe thead th {\n",
       "        text-align: right;\n",
       "    }\n",
       "</style>\n",
       "<table border=\"1\" class=\"dataframe\">\n",
       "  <thead>\n",
       "    <tr style=\"text-align: right;\">\n",
       "      <th></th>\n",
       "      <th>name</th>\n",
       "      <th>workbook_tab_name</th>\n",
       "      <th>data_source_notes</th>\n",
       "    </tr>\n",
       "  </thead>\n",
       "  <tbody>\n",
       "    <tr>\n",
       "      <th>0</th>\n",
       "      <td>376</td>\n",
       "      <td>volcaniclastic_sedimentary</td>\n",
       "      <td>Excel file created by Leah LeVay that normaliz...</td>\n",
       "    </tr>\n",
       "    <tr>\n",
       "      <th>1</th>\n",
       "      <td>375</td>\n",
       "      <td>sediment</td>\n",
       "      <td>Excel file created by Leah LeVay that normaliz...</td>\n",
       "    </tr>\n",
       "    <tr>\n",
       "      <th>2</th>\n",
       "      <td>374</td>\n",
       "      <td>general</td>\n",
       "      <td>Excel file created by Leah LeVay that normaliz...</td>\n",
       "    </tr>\n",
       "    <tr>\n",
       "      <th>3</th>\n",
       "      <td>372</td>\n",
       "      <td>sediment</td>\n",
       "      <td>Excel file created by Leah LeVay that normaliz...</td>\n",
       "    </tr>\n",
       "    <tr>\n",
       "      <th>4</th>\n",
       "      <td>371</td>\n",
       "      <td>sediment</td>\n",
       "      <td>Excel file created by Leah LeVay that normaliz...</td>\n",
       "    </tr>\n",
       "  </tbody>\n",
       "</table>\n",
       "</div>"
      ],
      "text/plain": [
       "   name           workbook_tab_name  \\\n",
       "0   376  volcaniclastic_sedimentary   \n",
       "1   375                    sediment   \n",
       "2   374                     general   \n",
       "3   372                    sediment   \n",
       "4   371                    sediment   \n",
       "\n",
       "                                   data_source_notes  \n",
       "0  Excel file created by Leah LeVay that normaliz...  \n",
       "1  Excel file created by Leah LeVay that normaliz...  \n",
       "2  Excel file created by Leah LeVay that normaliz...  \n",
       "3  Excel file created by Leah LeVay that normaliz...  \n",
       "4  Excel file created by Leah LeVay that normaliz...  "
      ]
     },
     "execution_count": 6,
     "metadata": {},
     "output_type": "execute_result"
    }
   ],
   "source": [
    "expeditions = df[['name', 'workbook_tab_name', 'data_source_notes']]\n",
    "\n",
    "expeditions.head()"
   ]
  },
  {
   "cell_type": "markdown",
   "metadata": {},
   "source": [
    "### Check data"
   ]
  },
  {
   "cell_type": "code",
   "execution_count": 7,
   "metadata": {},
   "outputs": [
    {
     "data": {
      "text/plain": [
       "True"
      ]
     },
     "execution_count": 7,
     "metadata": {},
     "output_type": "execute_result"
    }
   ],
   "source": [
    "len(expeditions) == len(df)"
   ]
  },
  {
   "cell_type": "code",
   "execution_count": 8,
   "metadata": {},
   "outputs": [
    {
     "data": {
      "text/plain": [
       "name                 False\n",
       "workbook_tab_name    False\n",
       "data_source_notes    False\n",
       "dtype: bool"
      ]
     },
     "execution_count": 8,
     "metadata": {},
     "output_type": "execute_result"
    }
   ],
   "source": [
    "expeditions.isna().any()"
   ]
  },
  {
   "cell_type": "markdown",
   "metadata": {},
   "source": [
    "### Create CSV"
   ]
  },
  {
   "cell_type": "code",
   "execution_count": 9,
   "metadata": {},
   "outputs": [],
   "source": [
    "new_dir = './cleaned_data/get_expeditions_from_crosswalk'"
   ]
  },
  {
   "cell_type": "code",
   "execution_count": 11,
   "metadata": {},
   "outputs": [],
   "source": [
    "# create_directory(new_dir)\n",
    "# expeditions.to_csv(f'{new_dir}/expeditions.csv', index=False)"
   ]
  },
  {
   "cell_type": "code",
   "execution_count": null,
   "metadata": {},
   "outputs": [],
   "source": []
  }
 ],
 "metadata": {
  "kernelspec": {
   "display_name": "Python 3",
   "language": "python",
   "name": "python3"
  },
  "language_info": {
   "codemirror_mode": {
    "name": "ipython",
    "version": 3
   },
   "file_extension": ".py",
   "mimetype": "text/x-python",
   "name": "python",
   "nbconvert_exporter": "python",
   "pygments_lexer": "ipython3",
   "version": "3.6.8"
  }
 },
 "nbformat": 4,
 "nbformat_minor": 4
}
