{
 "cells": [
  {
   "cell_type": "markdown",
   "metadata": {},
   "source": [
    "# Create Micropal metadata"
   ]
  },
  {
   "cell_type": "code",
   "execution_count": 1,
   "metadata": {},
   "outputs": [],
   "source": [
    "import sys\n",
    "sys.path.append('../scripts/')\n",
    "import glob\n",
    "import re\n",
    "\n",
    "import pandas as pd\n",
    "\n",
    "from normalize_data import extract_taxon_group_from_filename"
   ]
  },
  {
   "cell_type": "code",
   "execution_count": 2,
   "metadata": {},
   "outputs": [],
   "source": [
    "clean_data_path = 'cleaned_data/Micropal_CSV_1'\n",
    "metadata_path = 'cleaned_data/metadata/Micropal_1_changes.csv'"
   ]
  },
  {
   "cell_type": "code",
   "execution_count": 2,
   "metadata": {},
   "outputs": [],
   "source": [
    "clean_data_path = 'cleaned_data/Micropal_CSV_2'\n",
    "metadata_path = 'cleaned_data/metadata/Micropal_2_changes.csv'"
   ]
  },
  {
   "cell_type": "code",
   "execution_count": 3,
   "metadata": {},
   "outputs": [
    {
     "data": {
      "text/plain": [
       "['cleaned_data/Micropal_CSV_2/356-U1464C_benthic_forams.csv',\n",
       " 'cleaned_data/Micropal_CSV_2/374_U1523B_benthic_forams.csv',\n",
       " 'cleaned_data/Micropal_CSV_2/353_U1443A_nannofossils.csv',\n",
       " 'cleaned_data/Micropal_CSV_2/369_U1513D_planktic_forams.csv',\n",
       " 'cleaned_data/Micropal_CSV_2/371_U1510B_planktic_forams.csv',\n",
       " 'cleaned_data/Micropal_CSV_2/374_U1525A_benthic_forams.csv',\n",
       " 'cleaned_data/Micropal_CSV_2/362_U1480B_planktic_forams.csv',\n",
       " 'cleaned_data/Micropal_CSV_2/368_U1505D_planktic_forams.csv',\n",
       " 'cleaned_data/Micropal_CSV_2/354_U1450B_nannofossils.csv',\n",
       " 'cleaned_data/Micropal_CSV_2/359-U1472A_planktic_forams.csv']"
      ]
     },
     "execution_count": 3,
     "metadata": {},
     "output_type": "execute_result"
    }
   ],
   "source": [
    "raw_csvs = glob.glob(f\"{clean_data_path}/*.csv\")\n",
    "raw_csvs[0:10]"
   ]
  },
  {
   "cell_type": "code",
   "execution_count": 4,
   "metadata": {},
   "outputs": [
    {
     "data": {
      "text/plain": [
       "511"
      ]
     },
     "execution_count": 4,
     "metadata": {},
     "output_type": "execute_result"
    }
   ],
   "source": [
    "len(raw_csvs)"
   ]
  },
  {
   "cell_type": "code",
   "execution_count": 5,
   "metadata": {},
   "outputs": [],
   "source": [
    "taxon_groups = []\n",
    "filenames = []\n",
    "\n",
    "for path in raw_csvs:\n",
    "    filename = path.split('/')[2]\n",
    "    taxon_group = extract_taxon_group_from_filename(filename)\n",
    "    \n",
    "    taxon_groups.append(taxon_group)\n",
    "    filenames.append(filename)"
   ]
  },
  {
   "cell_type": "code",
   "execution_count": 6,
   "metadata": {},
   "outputs": [
    {
     "data": {
      "text/plain": [
       "(511, 2)"
      ]
     },
     "execution_count": 6,
     "metadata": {},
     "output_type": "execute_result"
    }
   ],
   "source": [
    "dict = {\"file\": filenames,\n",
    "        \"taxon_group\": taxon_groups}\n",
    "\n",
    "metadata = pd.DataFrame(dict)\n",
    "metadata.shape"
   ]
  },
  {
   "cell_type": "code",
   "execution_count": 7,
   "metadata": {},
   "outputs": [
    {
     "data": {
      "text/html": [
       "<div>\n",
       "<style scoped>\n",
       "    .dataframe tbody tr th:only-of-type {\n",
       "        vertical-align: middle;\n",
       "    }\n",
       "\n",
       "    .dataframe tbody tr th {\n",
       "        vertical-align: top;\n",
       "    }\n",
       "\n",
       "    .dataframe thead th {\n",
       "        text-align: right;\n",
       "    }\n",
       "</style>\n",
       "<table border=\"1\" class=\"dataframe\">\n",
       "  <thead>\n",
       "    <tr style=\"text-align: right;\">\n",
       "      <th></th>\n",
       "      <th>file</th>\n",
       "      <th>taxon_group</th>\n",
       "    </tr>\n",
       "  </thead>\n",
       "  <tbody>\n",
       "    <tr>\n",
       "      <th>0</th>\n",
       "      <td>356-U1464C_benthic_forams.csv</td>\n",
       "      <td>benthic_forams</td>\n",
       "    </tr>\n",
       "    <tr>\n",
       "      <th>1</th>\n",
       "      <td>374_U1523B_benthic_forams.csv</td>\n",
       "      <td>benthic_forams</td>\n",
       "    </tr>\n",
       "    <tr>\n",
       "      <th>2</th>\n",
       "      <td>353_U1443A_nannofossils.csv</td>\n",
       "      <td>nannofossils</td>\n",
       "    </tr>\n",
       "    <tr>\n",
       "      <th>3</th>\n",
       "      <td>369_U1513D_planktic_forams.csv</td>\n",
       "      <td>planktic_forams</td>\n",
       "    </tr>\n",
       "    <tr>\n",
       "      <th>4</th>\n",
       "      <td>371_U1510B_planktic_forams.csv</td>\n",
       "      <td>planktic_forams</td>\n",
       "    </tr>\n",
       "  </tbody>\n",
       "</table>\n",
       "</div>"
      ],
      "text/plain": [
       "                             file      taxon_group\n",
       "0   356-U1464C_benthic_forams.csv   benthic_forams\n",
       "1   374_U1523B_benthic_forams.csv   benthic_forams\n",
       "2     353_U1443A_nannofossils.csv     nannofossils\n",
       "3  369_U1513D_planktic_forams.csv  planktic_forams\n",
       "4  371_U1510B_planktic_forams.csv  planktic_forams"
      ]
     },
     "execution_count": 7,
     "metadata": {},
     "output_type": "execute_result"
    }
   ],
   "source": [
    "metadata.head()"
   ]
  },
  {
   "cell_type": "code",
   "execution_count": 8,
   "metadata": {},
   "outputs": [],
   "source": [
    "metadata.to_csv(metadata_path, index=False)"
   ]
  },
  {
   "cell_type": "code",
   "execution_count": null,
   "metadata": {},
   "outputs": [],
   "source": []
  }
 ],
 "metadata": {
  "kernelspec": {
   "display_name": "Python 3",
   "language": "python",
   "name": "python3"
  },
  "language_info": {
   "codemirror_mode": {
    "name": "ipython",
    "version": 3
   },
   "file_extension": ".py",
   "mimetype": "text/x-python",
   "name": "python",
   "nbconvert_exporter": "python",
   "pygments_lexer": "ipython3",
   "version": "3.6.8"
  }
 },
 "nbformat": 4,
 "nbformat_minor": 4
}
