{
 "cells": [
  {
   "cell_type": "markdown",
   "metadata": {},
   "source": [
    "# Create Micropal metadata"
   ]
  },
  {
   "cell_type": "code",
   "execution_count": 1,
   "metadata": {},
   "outputs": [],
   "source": [
    "import sys\n",
    "import os\n",
    "sys.path.append('../scripts/')\n",
    "import glob\n",
    "import re\n",
    "\n",
    "import pandas as pd\n",
    "\n",
    "from normalize_data import extract_taxon_group_from_filename"
   ]
  },
  {
   "cell_type": "code",
   "execution_count": 2,
   "metadata": {},
   "outputs": [],
   "source": [
    "base_directory = 'cleaned_data'\n",
    "micropal_1 = os.path.join(base_directory, 'Micropal_CSV_1')\n",
    "micropal_2 = os.path.join(base_directory, 'Micropal_CSV_2')\n",
    "micropal_3 = os.path.join(base_directory, 'Micropal_CSV_3')\n",
    "micropal_4 = os.path.join(base_directory, 'Micropal_CSV_revised')\n",
    "\n",
    "micropal_meta = os.path.join(base_directory, 'metadata', 'LIMS','Micropal_changes.csv')"
   ]
  },
  {
   "cell_type": "code",
   "execution_count": 3,
   "metadata": {},
   "outputs": [],
   "source": [
    "data_directories = [micropal_1, micropal_2, micropal_3, micropal_4]\n",
    "metadata_file = micropal_meta"
   ]
  },
  {
   "cell_type": "code",
   "execution_count": 12,
   "metadata": {},
   "outputs": [],
   "source": [
    "csv_paths = []\n",
    "for directory in data_directories:\n",
    "    csv_paths += glob.glob(f\"{directory}/*.csv\")\n"
   ]
  },
  {
   "cell_type": "code",
   "execution_count": 13,
   "metadata": {},
   "outputs": [
    {
     "data": {
      "text/plain": [
       "1116"
      ]
     },
     "execution_count": 13,
     "metadata": {},
     "output_type": "execute_result"
    }
   ],
   "source": [
    "len(csv_paths)"
   ]
  },
  {
   "cell_type": "code",
   "execution_count": 15,
   "metadata": {},
   "outputs": [],
   "source": [
    "taxon_groups = []\n",
    "filenames = []\n",
    "partial_paths = []\n",
    "\n",
    "for path in csv_paths:\n",
    "    parts = path.split('/')\n",
    "    filename = parts[2]\n",
    "    partial_path = '/'.join(parts[1:3])\n",
    "    taxon_group = extract_taxon_group_from_filename(filename)\n",
    "    \n",
    "    taxon_groups.append(taxon_group)\n",
    "    filenames.append(filename)\n",
    "    partial_paths.append(partial_path)"
   ]
  },
  {
   "cell_type": "code",
   "execution_count": 16,
   "metadata": {},
   "outputs": [
    {
     "data": {
      "text/plain": [
       "{'benthic_foraminfera',\n",
       " 'bolboformids',\n",
       " 'chrysophyte_cysts',\n",
       " 'diatoms',\n",
       " 'dinoflagellates',\n",
       " 'ebridians',\n",
       " 'nannofossils',\n",
       " 'ostracods',\n",
       " 'palynology',\n",
       " 'planktic_foraminfera',\n",
       " 'radiolarians',\n",
       " 'silicoflagellates'}"
      ]
     },
     "execution_count": 16,
     "metadata": {},
     "output_type": "execute_result"
    }
   ],
   "source": [
    "set(taxon_groups)"
   ]
  },
  {
   "cell_type": "code",
   "execution_count": 19,
   "metadata": {},
   "outputs": [],
   "source": [
    "dict = {\"file\": filenames, \"path\": partial_paths,\n",
    "        \"taxon_group\": taxon_groups}\n",
    "\n",
    "metadata = pd.DataFrame(dict)"
   ]
  },
  {
   "cell_type": "code",
   "execution_count": 20,
   "metadata": {},
   "outputs": [
    {
     "data": {
      "text/html": [
       "<div>\n",
       "<style scoped>\n",
       "    .dataframe tbody tr th:only-of-type {\n",
       "        vertical-align: middle;\n",
       "    }\n",
       "\n",
       "    .dataframe tbody tr th {\n",
       "        vertical-align: top;\n",
       "    }\n",
       "\n",
       "    .dataframe thead th {\n",
       "        text-align: right;\n",
       "    }\n",
       "</style>\n",
       "<table border=\"1\" class=\"dataframe\">\n",
       "  <thead>\n",
       "    <tr style=\"text-align: right;\">\n",
       "      <th></th>\n",
       "      <th>file</th>\n",
       "      <th>path</th>\n",
       "      <th>taxon_group</th>\n",
       "    </tr>\n",
       "  </thead>\n",
       "  <tbody>\n",
       "    <tr>\n",
       "      <th>0</th>\n",
       "      <td>363-U1482A-Benthic_Forams.csv</td>\n",
       "      <td>Micropal_CSV_1/363-U1482A-Benthic_Forams.csv</td>\n",
       "      <td>benthic_foraminfera</td>\n",
       "    </tr>\n",
       "    <tr>\n",
       "      <th>1</th>\n",
       "      <td>320_U1336A_Nannofossils_2.csv</td>\n",
       "      <td>Micropal_CSV_1/320_U1336A_Nannofossils_2.csv</td>\n",
       "      <td>nannofossils</td>\n",
       "    </tr>\n",
       "    <tr>\n",
       "      <th>2</th>\n",
       "      <td>375_U1518F_planktic_forams.csv</td>\n",
       "      <td>Micropal_CSV_1/375_U1518F_planktic_forams.csv</td>\n",
       "      <td>planktic_foraminfera</td>\n",
       "    </tr>\n",
       "    <tr>\n",
       "      <th>3</th>\n",
       "      <td>320_U1334A_Nannofossils_1.csv</td>\n",
       "      <td>Micropal_CSV_1/320_U1334A_Nannofossils_1.csv</td>\n",
       "      <td>nannofossils</td>\n",
       "    </tr>\n",
       "    <tr>\n",
       "      <th>4</th>\n",
       "      <td>318_U1358B_Palynology.csv</td>\n",
       "      <td>Micropal_CSV_1/318_U1358B_Palynology.csv</td>\n",
       "      <td>palynology</td>\n",
       "    </tr>\n",
       "  </tbody>\n",
       "</table>\n",
       "</div>"
      ],
      "text/plain": [
       "                             file  \\\n",
       "0   363-U1482A-Benthic_Forams.csv   \n",
       "1   320_U1336A_Nannofossils_2.csv   \n",
       "2  375_U1518F_planktic_forams.csv   \n",
       "3   320_U1334A_Nannofossils_1.csv   \n",
       "4       318_U1358B_Palynology.csv   \n",
       "\n",
       "                                            path           taxon_group  \n",
       "0   Micropal_CSV_1/363-U1482A-Benthic_Forams.csv   benthic_foraminfera  \n",
       "1   Micropal_CSV_1/320_U1336A_Nannofossils_2.csv          nannofossils  \n",
       "2  Micropal_CSV_1/375_U1518F_planktic_forams.csv  planktic_foraminfera  \n",
       "3   Micropal_CSV_1/320_U1334A_Nannofossils_1.csv          nannofossils  \n",
       "4       Micropal_CSV_1/318_U1358B_Palynology.csv            palynology  "
      ]
     },
     "execution_count": 20,
     "metadata": {},
     "output_type": "execute_result"
    }
   ],
   "source": [
    "metadata.head()"
   ]
  },
  {
   "cell_type": "code",
   "execution_count": 21,
   "metadata": {},
   "outputs": [],
   "source": [
    "metadata.to_csv(metadata_file, index=False)"
   ]
  },
  {
   "cell_type": "code",
   "execution_count": null,
   "metadata": {},
   "outputs": [],
   "source": []
  }
 ],
 "metadata": {
  "kernelspec": {
   "display_name": "Python 3",
   "language": "python",
   "name": "python3"
  },
  "language_info": {
   "codemirror_mode": {
    "name": "ipython",
    "version": 3
   },
   "file_extension": ".py",
   "mimetype": "text/x-python",
   "name": "python",
   "nbconvert_exporter": "python",
   "pygments_lexer": "ipython3",
   "version": "3.6.8"
  }
 },
 "nbformat": 4,
 "nbformat_minor": 4
}
