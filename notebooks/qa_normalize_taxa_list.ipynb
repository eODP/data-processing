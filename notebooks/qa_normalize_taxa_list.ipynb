{
 "cells": [
  {
   "cell_type": "markdown",
   "metadata": {},
   "source": [
    "# QA Micropal_headers_PBDB_Taxonomy_notes_taxa_list\n",
    "\n",
    "Check if the taxa that were aproved by the researchers from the google sheet matches the taxa from the LIMS taxa_list.csv."
   ]
  },
  {
   "cell_type": "code",
   "execution_count": 1,
   "metadata": {},
   "outputs": [],
   "source": [
    "import pandas as pd\n",
    "import numpy as np"
   ]
  },
  {
   "cell_type": "code",
   "execution_count": 2,
   "metadata": {},
   "outputs": [],
   "source": [
    "date = '2021-05-13'\n",
    "input_file = f'raw_data/taxa/Micropal_headers_PBDB_Taxonomy_notes_taxa_list_{date}.csv'\n",
    "\n",
    "taxon_groups = [\n",
    "    \"nannofossils\",\n",
    "    \"silicoflagellates\",\n",
    "    \"ostracods\",\n",
    "    \"ebridians\",\n",
    "    \"chrysophyte_cysts\",\n",
    "    \"bolboformids\",\n",
    "    \"diatoms\",\n",
    "    \"planktic_forams\",\n",
    "    \"radiolarians\",\n",
    "    \"dinoflagellates\",\n",
    "    \"palynology\",\n",
    "]"
   ]
  },
  {
   "cell_type": "code",
   "execution_count": 3,
   "metadata": {},
   "outputs": [],
   "source": [
    "def add_normalized_name_column(df):\n",
    "    fields = [\n",
    "        \"genus modifier\",\n",
    "        \"genus name\",\n",
    "        \"subgenera modifier\",\n",
    "        \"subgenera name\",\n",
    "        \"species modifier\",\n",
    "        \"species name\",\n",
    "        \"subspecies modifier\",\n",
    "        \"subspecies name\",\n",
    "    ]\n",
    "\n",
    "    # concatenate taxa fields into a string\n",
    "    df[\"normalized_name\"] = df[\"Any taxon above genus\"].str.cat(\n",
    "        df[fields], sep=\" \", na_rep=\"\"\n",
    "    )\n",
    "\n",
    "    # add \"(descriptor)\" if it exists\n",
    "    descriptor = np.where(\n",
    "        df[\"non-taxa descriptor\"].notnull(), \"(\" + df[\"non-taxa descriptor\"] + \")\", \"\"\n",
    "    )\n",
    "    df[\"normalized_name\"] = df[\"normalized_name\"] + descriptor\n",
    "\n",
    "    # get rid of extra spaces\n",
    "    df[\"normalized_name\"] = df[\"normalized_name\"].str.strip()\n",
    "    df[\"normalized_name\"] = df[\"normalized_name\"].replace(\n",
    "        to_replace=\"  +\", value=\" \", regex=True\n",
    "    )\n",
    "\n",
    "    return df"
   ]
  },
  {
   "cell_type": "markdown",
   "metadata": {},
   "source": [
    "## compare LIMS taxa with approved taxa"
   ]
  },
  {
   "cell_type": "code",
   "execution_count": 4,
   "metadata": {},
   "outputs": [],
   "source": [
    "all_taxa_file = 'cleaned_data/taxa/taxa_list.csv'"
   ]
  },
  {
   "cell_type": "code",
   "execution_count": 5,
   "metadata": {},
   "outputs": [
    {
     "data": {
      "text/plain": [
       "(4754, 21)"
      ]
     },
     "execution_count": 5,
     "metadata": {},
     "output_type": "execute_result"
    }
   ],
   "source": [
    "normalized_df = pd.read_csv(input_file, skiprows = 9)\n",
    "normalized_df.shape"
   ]
  },
  {
   "cell_type": "code",
   "execution_count": 6,
   "metadata": {},
   "outputs": [
    {
     "data": {
      "text/html": [
       "<div>\n",
       "<style scoped>\n",
       "    .dataframe tbody tr th:only-of-type {\n",
       "        vertical-align: middle;\n",
       "    }\n",
       "\n",
       "    .dataframe tbody tr th {\n",
       "        vertical-align: top;\n",
       "    }\n",
       "\n",
       "    .dataframe thead th {\n",
       "        text-align: right;\n",
       "    }\n",
       "</style>\n",
       "<table border=\"1\" class=\"dataframe\">\n",
       "  <thead>\n",
       "    <tr style=\"text-align: right;\">\n",
       "      <th></th>\n",
       "      <th>taxon_group</th>\n",
       "      <th>verbatim_name</th>\n",
       "      <th>name</th>\n",
       "      <th>name to use (if different from \"name\")</th>\n",
       "      <th>name comment field</th>\n",
       "      <th>Comment</th>\n",
       "      <th>notes</th>\n",
       "      <th>Any taxon above genus</th>\n",
       "      <th>genus modifier</th>\n",
       "      <th>genus name</th>\n",
       "      <th>...</th>\n",
       "      <th>subgenera name</th>\n",
       "      <th>species modifier</th>\n",
       "      <th>species name</th>\n",
       "      <th>subspecies modifier</th>\n",
       "      <th>subspecies name</th>\n",
       "      <th>non-taxa descriptor</th>\n",
       "      <th>comments</th>\n",
       "      <th>pbdb_taxon_id</th>\n",
       "      <th>pbdb_taxon_name</th>\n",
       "      <th>pbdb_taxon_rank</th>\n",
       "    </tr>\n",
       "  </thead>\n",
       "  <tbody>\n",
       "    <tr>\n",
       "      <th>0</th>\n",
       "      <td>NaN</td>\n",
       "      <td>RESOLVED NAMES BY TAXONOMIC GROUP</td>\n",
       "      <td>NaN</td>\n",
       "      <td>NaN</td>\n",
       "      <td>NaN</td>\n",
       "      <td>NaN</td>\n",
       "      <td>NaN</td>\n",
       "      <td>NaN</td>\n",
       "      <td>NaN</td>\n",
       "      <td>NaN</td>\n",
       "      <td>...</td>\n",
       "      <td>NaN</td>\n",
       "      <td>NaN</td>\n",
       "      <td>NaN</td>\n",
       "      <td>NaN</td>\n",
       "      <td>NaN</td>\n",
       "      <td>NaN</td>\n",
       "      <td>NaN</td>\n",
       "      <td>NaN</td>\n",
       "      <td>NaN</td>\n",
       "      <td>NaN</td>\n",
       "    </tr>\n",
       "    <tr>\n",
       "      <th>1</th>\n",
       "      <td>benthic_forams</td>\n",
       "      <td>Pyrite</td>\n",
       "      <td>Pyrite</td>\n",
       "      <td>NaN</td>\n",
       "      <td>NaN</td>\n",
       "      <td>not a taxa; Going into Macrostrat, not PBDB</td>\n",
       "      <td>Summer 2020: deal with later; should go in as ...</td>\n",
       "      <td>NaN</td>\n",
       "      <td>NaN</td>\n",
       "      <td>NaN</td>\n",
       "      <td>...</td>\n",
       "      <td>NaN</td>\n",
       "      <td>NaN</td>\n",
       "      <td>NaN</td>\n",
       "      <td>NaN</td>\n",
       "      <td>NaN</td>\n",
       "      <td>NaN</td>\n",
       "      <td>NaN</td>\n",
       "      <td>NaN</td>\n",
       "      <td>NaN</td>\n",
       "      <td>NaN</td>\n",
       "    </tr>\n",
       "  </tbody>\n",
       "</table>\n",
       "<p>2 rows × 21 columns</p>\n",
       "</div>"
      ],
      "text/plain": [
       "      taxon_group                      verbatim_name    name  \\\n",
       "0             NaN  RESOLVED NAMES BY TAXONOMIC GROUP     NaN   \n",
       "1  benthic_forams                             Pyrite  Pyrite   \n",
       "\n",
       "  name to use (if different from \"name\") name comment field  \\\n",
       "0                                    NaN                NaN   \n",
       "1                                    NaN                NaN   \n",
       "\n",
       "                                       Comment  \\\n",
       "0                                          NaN   \n",
       "1  not a taxa; Going into Macrostrat, not PBDB   \n",
       "\n",
       "                                               notes Any taxon above genus  \\\n",
       "0                                                NaN                   NaN   \n",
       "1  Summer 2020: deal with later; should go in as ...                   NaN   \n",
       "\n",
       "  genus modifier genus name  ... subgenera name species modifier species name  \\\n",
       "0            NaN        NaN  ...            NaN              NaN          NaN   \n",
       "1            NaN        NaN  ...            NaN              NaN          NaN   \n",
       "\n",
       "  subspecies modifier subspecies name non-taxa descriptor comments  \\\n",
       "0                 NaN             NaN                 NaN      NaN   \n",
       "1                 NaN             NaN                 NaN      NaN   \n",
       "\n",
       "  pbdb_taxon_id  pbdb_taxon_name pbdb_taxon_rank  \n",
       "0           NaN              NaN             NaN  \n",
       "1           NaN              NaN             NaN  \n",
       "\n",
       "[2 rows x 21 columns]"
      ]
     },
     "execution_count": 6,
     "metadata": {},
     "output_type": "execute_result"
    }
   ],
   "source": [
    "normalized_df.head(2)"
   ]
  },
  {
   "cell_type": "code",
   "execution_count": 7,
   "metadata": {},
   "outputs": [
    {
     "data": {
      "text/plain": [
       "(4738, 4)"
      ]
     },
     "execution_count": 7,
     "metadata": {},
     "output_type": "execute_result"
    }
   ],
   "source": [
    "taxa_df = pd.read_csv(all_taxa_file)\n",
    "taxa_df.shape"
   ]
  },
  {
   "cell_type": "code",
   "execution_count": 8,
   "metadata": {},
   "outputs": [
    {
     "data": {
      "text/html": [
       "<div>\n",
       "<style scoped>\n",
       "    .dataframe tbody tr th:only-of-type {\n",
       "        vertical-align: middle;\n",
       "    }\n",
       "\n",
       "    .dataframe tbody tr th {\n",
       "        vertical-align: top;\n",
       "    }\n",
       "\n",
       "    .dataframe thead th {\n",
       "        text-align: right;\n",
       "    }\n",
       "</style>\n",
       "<table border=\"1\" class=\"dataframe\">\n",
       "  <thead>\n",
       "    <tr style=\"text-align: right;\">\n",
       "      <th></th>\n",
       "      <th>verbatim_name</th>\n",
       "      <th>name</th>\n",
       "      <th>taxon_group</th>\n",
       "      <th>genera</th>\n",
       "    </tr>\n",
       "  </thead>\n",
       "  <tbody>\n",
       "    <tr>\n",
       "      <th>0</th>\n",
       "      <td>\"Globigerina\" angulisuturalis _T</td>\n",
       "      <td>\"Globigerina\" angulisuturalis _T</td>\n",
       "      <td>planktic_forams</td>\n",
       "      <td>NaN</td>\n",
       "    </tr>\n",
       "    <tr>\n",
       "      <th>1</th>\n",
       "      <td>\"Globigerina\" angulisuturalis _T_</td>\n",
       "      <td>\"Globigerina\" angulisuturalis _T_</td>\n",
       "      <td>planktic_forams</td>\n",
       "      <td>NaN</td>\n",
       "    </tr>\n",
       "  </tbody>\n",
       "</table>\n",
       "</div>"
      ],
      "text/plain": [
       "                       verbatim_name                               name  \\\n",
       "0   \"Globigerina\" angulisuturalis _T   \"Globigerina\" angulisuturalis _T   \n",
       "1  \"Globigerina\" angulisuturalis _T_  \"Globigerina\" angulisuturalis _T_   \n",
       "\n",
       "       taxon_group genera  \n",
       "0  planktic_forams    NaN  \n",
       "1  planktic_forams    NaN  "
      ]
     },
     "execution_count": 8,
     "metadata": {},
     "output_type": "execute_result"
    }
   ],
   "source": [
    "taxa_df.head(2)"
   ]
  },
  {
   "cell_type": "code",
   "execution_count": 9,
   "metadata": {},
   "outputs": [],
   "source": [
    "normalized_names = set(normalized_df['verbatim_name'])\n",
    "taxa_names = set(taxa_df['verbatim_name'])"
   ]
  },
  {
   "cell_type": "markdown",
   "metadata": {},
   "source": [
    "get taxa in the normalized taxa file that isn't in LIMS taxa file"
   ]
  },
  {
   "cell_type": "code",
   "execution_count": 10,
   "metadata": {},
   "outputs": [
    {
     "data": {
      "text/plain": [
       "2"
      ]
     },
     "execution_count": 10,
     "metadata": {},
     "output_type": "execute_result"
    }
   ],
   "source": [
    "len(normalized_names - taxa_names)"
   ]
  },
  {
   "cell_type": "code",
   "execution_count": 11,
   "metadata": {},
   "outputs": [
    {
     "data": {
      "text/plain": [
       "{'RESOLVED NAMES BY TAXONOMIC GROUP', nan}"
      ]
     },
     "execution_count": 11,
     "metadata": {},
     "output_type": "execute_result"
    }
   ],
   "source": [
    "normalized_names - taxa_names"
   ]
  },
  {
   "cell_type": "markdown",
   "metadata": {},
   "source": [
    "get taxa in the  LIMS taxa file  that isn't in normalized taxa file"
   ]
  },
  {
   "cell_type": "code",
   "execution_count": 12,
   "metadata": {},
   "outputs": [
    {
     "data": {
      "text/plain": [
       "1"
      ]
     },
     "execution_count": 12,
     "metadata": {},
     "output_type": "execute_result"
    }
   ],
   "source": [
    "len(taxa_names - normalized_names)"
   ]
  },
  {
   "cell_type": "code",
   "execution_count": 13,
   "metadata": {},
   "outputs": [
    {
     "data": {
      "text/plain": [
       "{'Sponge spicules'}"
      ]
     },
     "execution_count": 13,
     "metadata": {},
     "output_type": "execute_result"
    }
   ],
   "source": [
    "taxa_names - normalized_names"
   ]
  },
  {
   "cell_type": "markdown",
   "metadata": {},
   "source": [
    "## check for duplicate taxa\n"
   ]
  },
  {
   "cell_type": "code",
   "execution_count": 14,
   "metadata": {},
   "outputs": [
    {
     "data": {
      "text/html": [
       "<div>\n",
       "<style scoped>\n",
       "    .dataframe tbody tr th:only-of-type {\n",
       "        vertical-align: middle;\n",
       "    }\n",
       "\n",
       "    .dataframe tbody tr th {\n",
       "        vertical-align: top;\n",
       "    }\n",
       "\n",
       "    .dataframe thead th {\n",
       "        text-align: right;\n",
       "    }\n",
       "</style>\n",
       "<table border=\"1\" class=\"dataframe\">\n",
       "  <thead>\n",
       "    <tr style=\"text-align: right;\">\n",
       "      <th></th>\n",
       "      <th>taxon_group</th>\n",
       "      <th>verbatim_name</th>\n",
       "      <th>name</th>\n",
       "      <th>name to use (if different from \"name\")</th>\n",
       "      <th>name comment field</th>\n",
       "      <th>Comment</th>\n",
       "      <th>notes</th>\n",
       "      <th>Any taxon above genus</th>\n",
       "      <th>genus modifier</th>\n",
       "      <th>genus name</th>\n",
       "      <th>...</th>\n",
       "      <th>subgenera name</th>\n",
       "      <th>species modifier</th>\n",
       "      <th>species name</th>\n",
       "      <th>subspecies modifier</th>\n",
       "      <th>subspecies name</th>\n",
       "      <th>non-taxa descriptor</th>\n",
       "      <th>comments</th>\n",
       "      <th>pbdb_taxon_id</th>\n",
       "      <th>pbdb_taxon_name</th>\n",
       "      <th>pbdb_taxon_rank</th>\n",
       "    </tr>\n",
       "  </thead>\n",
       "  <tbody>\n",
       "    <tr>\n",
       "      <th>29</th>\n",
       "      <td>planktic_forams</td>\n",
       "      <td>Globigerina falconensis</td>\n",
       "      <td>Globigerina falconensis</td>\n",
       "      <td>NaN</td>\n",
       "      <td>NaN</td>\n",
       "      <td>NaN</td>\n",
       "      <td>in PBDB, so it will be classified correctly; t...</td>\n",
       "      <td>NaN</td>\n",
       "      <td>NaN</td>\n",
       "      <td>Globigerina</td>\n",
       "      <td>...</td>\n",
       "      <td>NaN</td>\n",
       "      <td>NaN</td>\n",
       "      <td>falconensis</td>\n",
       "      <td>NaN</td>\n",
       "      <td>NaN</td>\n",
       "      <td>NaN</td>\n",
       "      <td>NaN</td>\n",
       "      <td>NaN</td>\n",
       "      <td>NaN</td>\n",
       "      <td>NaN</td>\n",
       "    </tr>\n",
       "    <tr>\n",
       "      <th>30</th>\n",
       "      <td>planktic_forams</td>\n",
       "      <td>Globigerina rubescens</td>\n",
       "      <td>Globigerina rubescens</td>\n",
       "      <td>NaN</td>\n",
       "      <td>NaN</td>\n",
       "      <td>NaN</td>\n",
       "      <td>in PBDB, so it will be classified correctly; t...</td>\n",
       "      <td>NaN</td>\n",
       "      <td>NaN</td>\n",
       "      <td>Globigerina</td>\n",
       "      <td>...</td>\n",
       "      <td>NaN</td>\n",
       "      <td>NaN</td>\n",
       "      <td>rubescens</td>\n",
       "      <td>NaN</td>\n",
       "      <td>NaN</td>\n",
       "      <td>NaN</td>\n",
       "      <td>NaN</td>\n",
       "      <td>NaN</td>\n",
       "      <td>NaN</td>\n",
       "      <td>NaN</td>\n",
       "    </tr>\n",
       "  </tbody>\n",
       "</table>\n",
       "<p>2 rows × 21 columns</p>\n",
       "</div>"
      ],
      "text/plain": [
       "        taxon_group            verbatim_name                     name  \\\n",
       "29  planktic_forams  Globigerina falconensis  Globigerina falconensis   \n",
       "30  planktic_forams    Globigerina rubescens    Globigerina rubescens   \n",
       "\n",
       "   name to use (if different from \"name\") name comment field Comment  \\\n",
       "29                                    NaN                NaN     NaN   \n",
       "30                                    NaN                NaN     NaN   \n",
       "\n",
       "                                                notes Any taxon above genus  \\\n",
       "29  in PBDB, so it will be classified correctly; t...                   NaN   \n",
       "30  in PBDB, so it will be classified correctly; t...                   NaN   \n",
       "\n",
       "   genus modifier   genus name  ... subgenera name species modifier  \\\n",
       "29            NaN  Globigerina  ...            NaN              NaN   \n",
       "30            NaN  Globigerina  ...            NaN              NaN   \n",
       "\n",
       "   species name subspecies modifier subspecies name non-taxa descriptor  \\\n",
       "29  falconensis                 NaN             NaN                 NaN   \n",
       "30    rubescens                 NaN             NaN                 NaN   \n",
       "\n",
       "   comments pbdb_taxon_id  pbdb_taxon_name pbdb_taxon_rank  \n",
       "29      NaN           NaN              NaN             NaN  \n",
       "30      NaN           NaN              NaN             NaN  \n",
       "\n",
       "[2 rows x 21 columns]"
      ]
     },
     "execution_count": 14,
     "metadata": {},
     "output_type": "execute_result"
    }
   ],
   "source": [
    "temp_df = normalized_df.copy()\n",
    "temp_df = temp_df.drop(list(range(29)))\n",
    "temp_df.head(2)"
   ]
  },
  {
   "cell_type": "code",
   "execution_count": 15,
   "metadata": {},
   "outputs": [
    {
     "data": {
      "text/plain": [
       "(4725, 21)"
      ]
     },
     "execution_count": 15,
     "metadata": {},
     "output_type": "execute_result"
    }
   ],
   "source": [
    "temp_df.shape"
   ]
  },
  {
   "cell_type": "code",
   "execution_count": 16,
   "metadata": {},
   "outputs": [
    {
     "data": {
      "text/plain": [
       "(3296, 21)"
      ]
     },
     "execution_count": 16,
     "metadata": {},
     "output_type": "execute_result"
    }
   ],
   "source": [
    "filtered_taxa = temp_df[temp_df['taxon_group'].isin(taxon_groups)].copy()\n",
    "filtered_taxa.shape"
   ]
  },
  {
   "cell_type": "code",
   "execution_count": 17,
   "metadata": {},
   "outputs": [
    {
     "data": {
      "text/html": [
       "<div>\n",
       "<style scoped>\n",
       "    .dataframe tbody tr th:only-of-type {\n",
       "        vertical-align: middle;\n",
       "    }\n",
       "\n",
       "    .dataframe tbody tr th {\n",
       "        vertical-align: top;\n",
       "    }\n",
       "\n",
       "    .dataframe thead th {\n",
       "        text-align: right;\n",
       "    }\n",
       "</style>\n",
       "<table border=\"1\" class=\"dataframe\">\n",
       "  <thead>\n",
       "    <tr style=\"text-align: right;\">\n",
       "      <th></th>\n",
       "      <th>taxon_group</th>\n",
       "      <th>verbatim_name</th>\n",
       "      <th>name</th>\n",
       "      <th>name to use (if different from \"name\")</th>\n",
       "      <th>name comment field</th>\n",
       "      <th>Comment</th>\n",
       "      <th>notes</th>\n",
       "      <th>Any taxon above genus</th>\n",
       "      <th>genus modifier</th>\n",
       "      <th>genus name</th>\n",
       "      <th>...</th>\n",
       "      <th>species modifier</th>\n",
       "      <th>species name</th>\n",
       "      <th>subspecies modifier</th>\n",
       "      <th>subspecies name</th>\n",
       "      <th>non-taxa descriptor</th>\n",
       "      <th>comments</th>\n",
       "      <th>pbdb_taxon_id</th>\n",
       "      <th>pbdb_taxon_name</th>\n",
       "      <th>pbdb_taxon_rank</th>\n",
       "      <th>normalized_name</th>\n",
       "    </tr>\n",
       "  </thead>\n",
       "  <tbody>\n",
       "    <tr>\n",
       "      <th>29</th>\n",
       "      <td>planktic_forams</td>\n",
       "      <td>Globigerina falconensis</td>\n",
       "      <td>Globigerina falconensis</td>\n",
       "      <td>NaN</td>\n",
       "      <td>NaN</td>\n",
       "      <td>NaN</td>\n",
       "      <td>in PBDB, so it will be classified correctly; t...</td>\n",
       "      <td>NaN</td>\n",
       "      <td>NaN</td>\n",
       "      <td>Globigerina</td>\n",
       "      <td>...</td>\n",
       "      <td>NaN</td>\n",
       "      <td>falconensis</td>\n",
       "      <td>NaN</td>\n",
       "      <td>NaN</td>\n",
       "      <td>NaN</td>\n",
       "      <td>NaN</td>\n",
       "      <td>NaN</td>\n",
       "      <td>NaN</td>\n",
       "      <td>NaN</td>\n",
       "      <td>Globigerina falconensis</td>\n",
       "    </tr>\n",
       "    <tr>\n",
       "      <th>30</th>\n",
       "      <td>planktic_forams</td>\n",
       "      <td>Globigerina rubescens</td>\n",
       "      <td>Globigerina rubescens</td>\n",
       "      <td>NaN</td>\n",
       "      <td>NaN</td>\n",
       "      <td>NaN</td>\n",
       "      <td>in PBDB, so it will be classified correctly; t...</td>\n",
       "      <td>NaN</td>\n",
       "      <td>NaN</td>\n",
       "      <td>Globigerina</td>\n",
       "      <td>...</td>\n",
       "      <td>NaN</td>\n",
       "      <td>rubescens</td>\n",
       "      <td>NaN</td>\n",
       "      <td>NaN</td>\n",
       "      <td>NaN</td>\n",
       "      <td>NaN</td>\n",
       "      <td>NaN</td>\n",
       "      <td>NaN</td>\n",
       "      <td>NaN</td>\n",
       "      <td>Globigerina rubescens</td>\n",
       "    </tr>\n",
       "  </tbody>\n",
       "</table>\n",
       "<p>2 rows × 22 columns</p>\n",
       "</div>"
      ],
      "text/plain": [
       "        taxon_group            verbatim_name                     name  \\\n",
       "29  planktic_forams  Globigerina falconensis  Globigerina falconensis   \n",
       "30  planktic_forams    Globigerina rubescens    Globigerina rubescens   \n",
       "\n",
       "   name to use (if different from \"name\") name comment field Comment  \\\n",
       "29                                    NaN                NaN     NaN   \n",
       "30                                    NaN                NaN     NaN   \n",
       "\n",
       "                                                notes Any taxon above genus  \\\n",
       "29  in PBDB, so it will be classified correctly; t...                   NaN   \n",
       "30  in PBDB, so it will be classified correctly; t...                   NaN   \n",
       "\n",
       "   genus modifier   genus name  ... species modifier species name  \\\n",
       "29            NaN  Globigerina  ...              NaN  falconensis   \n",
       "30            NaN  Globigerina  ...              NaN    rubescens   \n",
       "\n",
       "   subspecies modifier subspecies name non-taxa descriptor comments  \\\n",
       "29                 NaN             NaN                 NaN      NaN   \n",
       "30                 NaN             NaN                 NaN      NaN   \n",
       "\n",
       "   pbdb_taxon_id pbdb_taxon_name  pbdb_taxon_rank          normalized_name  \n",
       "29           NaN             NaN              NaN  Globigerina falconensis  \n",
       "30           NaN             NaN              NaN    Globigerina rubescens  \n",
       "\n",
       "[2 rows x 22 columns]"
      ]
     },
     "execution_count": 17,
     "metadata": {},
     "output_type": "execute_result"
    }
   ],
   "source": [
    "add_normalized_name_column(filtered_taxa)\n",
    "filtered_taxa.head(2)"
   ]
  },
  {
   "cell_type": "code",
   "execution_count": 18,
   "metadata": {},
   "outputs": [],
   "source": [
    "group_taxa = {}\n",
    "\n",
    "for index, row in filtered_taxa.iterrows():\n",
    "    if row['normalized_name'] not in group_taxa:\n",
    "        group_taxa[row['normalized_name']] = set()\n",
    "    \n",
    "    group_taxa[row['normalized_name']].add(row['taxon_group'])  \n"
   ]
  },
  {
   "cell_type": "code",
   "execution_count": 19,
   "metadata": {},
   "outputs": [],
   "source": [
    "taxa_tmp = []\n",
    "taxon_groups_tmp = []\n",
    "\n",
    "for key, value in group_taxa.items():\n",
    "    if len(value) > 1 and key:\n",
    "        taxa_tmp.append(key)\n",
    "        taxon_groups_tmp.append(', '.join(value))"
   ]
  },
  {
   "cell_type": "code",
   "execution_count": 20,
   "metadata": {},
   "outputs": [
    {
     "data": {
      "text/html": [
       "<div>\n",
       "<style scoped>\n",
       "    .dataframe tbody tr th:only-of-type {\n",
       "        vertical-align: middle;\n",
       "    }\n",
       "\n",
       "    .dataframe tbody tr th {\n",
       "        vertical-align: top;\n",
       "    }\n",
       "\n",
       "    .dataframe thead th {\n",
       "        text-align: right;\n",
       "    }\n",
       "</style>\n",
       "<table border=\"1\" class=\"dataframe\">\n",
       "  <thead>\n",
       "    <tr style=\"text-align: right;\">\n",
       "      <th></th>\n",
       "      <th>taxon</th>\n",
       "      <th>taxon_group</th>\n",
       "    </tr>\n",
       "  </thead>\n",
       "  <tbody>\n",
       "    <tr>\n",
       "      <th>3</th>\n",
       "      <td>Foraminifera indet.</td>\n",
       "      <td>dinoflagellates, planktic_forams, palynology</td>\n",
       "    </tr>\n",
       "    <tr>\n",
       "      <th>4</th>\n",
       "      <td>Brigantedinium spp.</td>\n",
       "      <td>dinoflagellates, palynology</td>\n",
       "    </tr>\n",
       "    <tr>\n",
       "      <th>5</th>\n",
       "      <td>Lejeunecysta sp.</td>\n",
       "      <td>dinoflagellates, palynology</td>\n",
       "    </tr>\n",
       "    <tr>\n",
       "      <th>6</th>\n",
       "      <td>Selenopemphix nephroides</td>\n",
       "      <td>dinoflagellates, palynology</td>\n",
       "    </tr>\n",
       "    <tr>\n",
       "      <th>7</th>\n",
       "      <td>Dinoflagellata indet.</td>\n",
       "      <td>dinoflagellates, nannofossils, palynology</td>\n",
       "    </tr>\n",
       "  </tbody>\n",
       "</table>\n",
       "</div>"
      ],
      "text/plain": [
       "                      taxon                                   taxon_group\n",
       "3       Foraminifera indet.  dinoflagellates, planktic_forams, palynology\n",
       "4       Brigantedinium spp.                   dinoflagellates, palynology\n",
       "5          Lejeunecysta sp.                   dinoflagellates, palynology\n",
       "6  Selenopemphix nephroides                   dinoflagellates, palynology\n",
       "7     Dinoflagellata indet.     dinoflagellates, nannofossils, palynology"
      ]
     },
     "execution_count": 20,
     "metadata": {},
     "output_type": "execute_result"
    }
   ],
   "source": [
    "dict = {\n",
    "    \"taxon\": taxa_tmp,\n",
    "    \"taxon_group\": taxon_groups_tmp\n",
    "}\n",
    "df = pd.DataFrame(dict)\n",
    "df.tail()"
   ]
  },
  {
   "cell_type": "code",
   "execution_count": 21,
   "metadata": {},
   "outputs": [
    {
     "data": {
      "text/plain": [
       "(8, 2)"
      ]
     },
     "execution_count": 21,
     "metadata": {},
     "output_type": "execute_result"
    }
   ],
   "source": [
    "df.to_csv('./tmp/taxa_count.csv', index=False)\n",
    "df.shape"
   ]
  },
  {
   "cell_type": "code",
   "execution_count": null,
   "metadata": {},
   "outputs": [],
   "source": []
  }
 ],
 "metadata": {
  "kernelspec": {
   "display_name": "Python 3",
   "language": "python",
   "name": "python3"
  },
  "language_info": {
   "codemirror_mode": {
    "name": "ipython",
    "version": 3
   },
   "file_extension": ".py",
   "mimetype": "text/x-python",
   "name": "python",
   "nbconvert_exporter": "python",
   "pygments_lexer": "ipython3",
   "version": "3.6.8"
  }
 },
 "nbformat": 4,
 "nbformat_minor": 4
}
