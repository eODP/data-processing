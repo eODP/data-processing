{
 "cells": [
  {
   "cell_type": "markdown",
   "metadata": {},
   "source": [
    "# Normalize Lithology CSVs"
   ]
  },
  {
   "cell_type": "code",
   "execution_count": 1,
   "metadata": {},
   "outputs": [],
   "source": [
    "import sys\n",
    "import os\n",
    "sys.path.append('../scripts/')\n",
    "import glob\n",
    "import re\n",
    "\n",
    "import pandas as pd\n",
    "import numpy as np\n",
    "\n",
    "from normalize_data import (\n",
    "    normalize_columns,\n",
    "    csv_cleanup,\n",
    "    update_metadata,\n",
    "    append_set,\n",
    "    filter_existing_set,\n",
    "    add_missing_columns,\n",
    "    get_columns_from_file_or_disk,\n",
    "    get_common_columns,\n",
    ")"
   ]
  },
  {
   "cell_type": "code",
   "execution_count": 2,
   "metadata": {},
   "outputs": [],
   "source": [
    "base_directory = 'cleaned_data'\n",
    "raw_data_directory = 'raw_data'\n",
    "\n",
    "metadata_file = os.path.join(base_directory, 'metadata', 'LIMS','Lithology_changes.csv')\n",
    "columns_file = os.path.join(base_directory, 'metadata', 'LIMS','columns_list.csv')"
   ]
  },
  {
   "cell_type": "markdown",
   "metadata": {},
   "source": [
    "## Normalize columns"
   ]
  },
  {
   "cell_type": "markdown",
   "metadata": {},
   "source": [
    "Find all variants of a column name and set all the variants to use the same column name."
   ]
  },
  {
   "cell_type": "code",
   "execution_count": 3,
   "metadata": {},
   "outputs": [
    {
     "data": {
      "text/html": [
       "<div>\n",
       "<style scoped>\n",
       "    .dataframe tbody tr th:only-of-type {\n",
       "        vertical-align: middle;\n",
       "    }\n",
       "\n",
       "    .dataframe tbody tr th {\n",
       "        vertical-align: top;\n",
       "    }\n",
       "\n",
       "    .dataframe thead th {\n",
       "        text-align: right;\n",
       "    }\n",
       "</style>\n",
       "<table border=\"1\" class=\"dataframe\">\n",
       "  <thead>\n",
       "    <tr style=\"text-align: right;\">\n",
       "      <th></th>\n",
       "      <th>file</th>\n",
       "      <th>path</th>\n",
       "      <th>empty_rows_columns</th>\n",
       "      <th>remove_identical_rows</th>\n",
       "      <th>remove_identical_columns</th>\n",
       "      <th>standardize_headers</th>\n",
       "      <th>add_expedition_aw_cols</th>\n",
       "      <th>add_sample_column</th>\n",
       "      <th>add_missing_cols</th>\n",
       "      <th>update_lithology</th>\n",
       "      <th>add_missing_lith_cols</th>\n",
       "    </tr>\n",
       "  </thead>\n",
       "  <tbody>\n",
       "    <tr>\n",
       "      <th>0</th>\n",
       "      <td>361_macroscopic_U1474D.csv</td>\n",
       "      <td>Lithology_CSV/361_macroscopic_U1474D.csv</td>\n",
       "      <td>False</td>\n",
       "      <td>False</td>\n",
       "      <td>False</td>\n",
       "      <td>False</td>\n",
       "      <td>False</td>\n",
       "      <td>True</td>\n",
       "      <td>True</td>\n",
       "      <td>True</td>\n",
       "      <td>True</td>\n",
       "    </tr>\n",
       "    <tr>\n",
       "      <th>1</th>\n",
       "      <td>323 Core Description Template_U1341A.csv</td>\n",
       "      <td>Lithology_CSV/323 Core Description Template_U1...</td>\n",
       "      <td>False</td>\n",
       "      <td>False</td>\n",
       "      <td>False</td>\n",
       "      <td>False</td>\n",
       "      <td>False</td>\n",
       "      <td>False</td>\n",
       "      <td>True</td>\n",
       "      <td>True</td>\n",
       "      <td>True</td>\n",
       "    </tr>\n",
       "    <tr>\n",
       "      <th>2</th>\n",
       "      <td>361_macroscopic_U1479C.csv</td>\n",
       "      <td>Lithology_CSV/361_macroscopic_U1479C.csv</td>\n",
       "      <td>False</td>\n",
       "      <td>False</td>\n",
       "      <td>False</td>\n",
       "      <td>False</td>\n",
       "      <td>False</td>\n",
       "      <td>True</td>\n",
       "      <td>True</td>\n",
       "      <td>True</td>\n",
       "      <td>True</td>\n",
       "    </tr>\n",
       "    <tr>\n",
       "      <th>3</th>\n",
       "      <td>340_sediment_U1393A.csv</td>\n",
       "      <td>Lithology_CSV/340_sediment_U1393A.csv</td>\n",
       "      <td>False</td>\n",
       "      <td>False</td>\n",
       "      <td>False</td>\n",
       "      <td>True</td>\n",
       "      <td>False</td>\n",
       "      <td>False</td>\n",
       "      <td>True</td>\n",
       "      <td>True</td>\n",
       "      <td>True</td>\n",
       "    </tr>\n",
       "    <tr>\n",
       "      <th>4</th>\n",
       "      <td>339_sediment_U1386A.csv</td>\n",
       "      <td>Lithology_CSV/339_sediment_U1386A.csv</td>\n",
       "      <td>False</td>\n",
       "      <td>False</td>\n",
       "      <td>False</td>\n",
       "      <td>False</td>\n",
       "      <td>False</td>\n",
       "      <td>False</td>\n",
       "      <td>True</td>\n",
       "      <td>True</td>\n",
       "      <td>False</td>\n",
       "    </tr>\n",
       "  </tbody>\n",
       "</table>\n",
       "</div>"
      ],
      "text/plain": [
       "                                       file  \\\n",
       "0                361_macroscopic_U1474D.csv   \n",
       "1  323 Core Description Template_U1341A.csv   \n",
       "2                361_macroscopic_U1479C.csv   \n",
       "3                   340_sediment_U1393A.csv   \n",
       "4                   339_sediment_U1386A.csv   \n",
       "\n",
       "                                                path  empty_rows_columns  \\\n",
       "0           Lithology_CSV/361_macroscopic_U1474D.csv               False   \n",
       "1  Lithology_CSV/323 Core Description Template_U1...               False   \n",
       "2           Lithology_CSV/361_macroscopic_U1479C.csv               False   \n",
       "3              Lithology_CSV/340_sediment_U1393A.csv               False   \n",
       "4              Lithology_CSV/339_sediment_U1386A.csv               False   \n",
       "\n",
       "   remove_identical_rows  remove_identical_columns  standardize_headers  \\\n",
       "0                  False                     False                False   \n",
       "1                  False                     False                False   \n",
       "2                  False                     False                False   \n",
       "3                  False                     False                 True   \n",
       "4                  False                     False                False   \n",
       "\n",
       "   add_expedition_aw_cols  add_sample_column  add_missing_cols  \\\n",
       "0                   False               True              True   \n",
       "1                   False              False              True   \n",
       "2                   False               True              True   \n",
       "3                   False              False              True   \n",
       "4                   False              False              True   \n",
       "\n",
       "   update_lithology  add_missing_lith_cols  \n",
       "0              True                   True  \n",
       "1              True                   True  \n",
       "2              True                   True  \n",
       "3              True                   True  \n",
       "4              True                  False  "
      ]
     },
     "execution_count": 3,
     "metadata": {},
     "output_type": "execute_result"
    }
   ],
   "source": [
    "metadata = pd.read_csv(metadata_file)\n",
    "metadata.head()"
   ]
  },
  {
   "cell_type": "markdown",
   "metadata": {},
   "source": [
    "### Get column  variants"
   ]
  },
  {
   "cell_type": "code",
   "execution_count": 4,
   "metadata": {},
   "outputs": [
    {
     "data": {
      "text/plain": [
       "480"
      ]
     },
     "execution_count": 4,
     "metadata": {},
     "output_type": "execute_result"
    }
   ],
   "source": [
    "# 480\n",
    "columns_all = get_columns_from_file_or_disk(columns_file = columns_file, \n",
    "                                            metadata = metadata, \n",
    "                                            data_directory = raw_data_directory, \n",
    "                                            column_type = 'lithology')\n",
    "len(columns_all)"
   ]
  },
  {
   "cell_type": "code",
   "execution_count": 5,
   "metadata": {},
   "outputs": [
    {
     "data": {
      "text/plain": [
       "457"
      ]
     },
     "execution_count": 5,
     "metadata": {},
     "output_type": "execute_result"
    }
   ],
   "source": [
    "# 457\n",
    "columns_all = columns_all - get_common_columns()\n",
    "len(columns_all)"
   ]
  },
  {
   "cell_type": "code",
   "execution_count": 6,
   "metadata": {},
   "outputs": [],
   "source": [
    "def remove_symbols_from_set(old_set):\n",
    "    return filter_existing_set(old_set, r\"(.*?%)|(.*?\\+)\")\n",
    "\n",
    "def remove_minor_from_set(old_set):\n",
    "    return filter_existing_set(old_set, r\"(.*?min .*?)|(.*?minor .*?)|(Lithology 2.*?)\")"
   ]
  },
  {
   "cell_type": "code",
   "execution_count": 7,
   "metadata": {},
   "outputs": [],
   "source": [
    "lith_all = set()\n",
    "prefix_all = set()\n",
    "suffix_all = set()\n",
    "principal_all = set()\n",
    "modifier_all = set()\n",
    "minor_all = set()\n",
    "color_all = set()\n",
    "\n",
    "append_set(lith_all, r\".*?lith.*?\", columns_all)\n",
    "\n",
    "append_set(modifier_all, r\".*?modifier.*?\", columns_all)\n",
    "\n",
    "append_set(suffix_all, r\".*?suffix.*?\", columns_all)\n",
    "append_set(suffix_all, r\".*?modifier after.*?\", columns_all)\n",
    "\n",
    "append_set(prefix_all, r\".*?prefix.*?\", columns_all)\n",
    "append_set(prefix_all, r\".*?modifier before.*?\", columns_all)\n",
    "\n",
    "append_set(principal_all, r\".*?principal.*?\", columns_all)\n",
    "append_set(principal_all, r\"^Lithology$\", columns_all)\n",
    "\n",
    "append_set(minor_all, r\"(.*?min lith.*?)|(.*?minor modifier.*?)|(.*?minor suffix.*?)|(Lithology 2.*?)\", columns_all)\n",
    "\n",
    "append_set(color_all, r\".*?color.*?\", columns_all)\n"
   ]
  },
  {
   "cell_type": "code",
   "execution_count": 8,
   "metadata": {},
   "outputs": [],
   "source": [
    "minor_prefix = set()\n",
    "minor_principal = set()\n",
    "minor_suffix = set()\n",
    "\n",
    "suffix = remove_symbols_from_set(suffix_all)\n",
    "suffix = remove_minor_from_set(suffix)\n",
    "\n",
    "prefix = remove_symbols_from_set(prefix_all)\n",
    "prefix = remove_minor_from_set(prefix)\n",
    "\n",
    "principal = remove_symbols_from_set(principal_all)\n",
    "principal = remove_minor_from_set(principal)\n",
    "principal = filter_existing_set(principal, r\".*?modifier.*?\")\n",
    "\n",
    "minor = remove_symbols_from_set(minor_all)\n",
    "\n",
    "append_set(minor_prefix, r\".*?prefix.*?\", minor)\n",
    "append_set(minor_principal, r\".*?principal.*?\", minor)\n",
    "append_set(minor_suffix, r\"(.*?suffix.*?)|(.*?modifier after.*?)\", minor)\n",
    "minor_principal = filter_existing_set(minor_principal, r\".*?modifier.*?\")\n"
   ]
  },
  {
   "cell_type": "code",
   "execution_count": 9,
   "metadata": {},
   "outputs": [],
   "source": [
    "# lith_all"
   ]
  },
  {
   "cell_type": "code",
   "execution_count": 10,
   "metadata": {},
   "outputs": [
    {
     "data": {
      "text/plain": [
       "{'Major  prefix modifier before principal',\n",
       " 'Major modifier before principal',\n",
       " 'Major prefix modifier before principal',\n",
       " 'Matrix modifier',\n",
       " 'Minor suffix modifier after principal'}"
      ]
     },
     "execution_count": 10,
     "metadata": {},
     "output_type": "execute_result"
    }
   ],
   "source": [
    "modifier_all"
   ]
  },
  {
   "cell_type": "code",
   "execution_count": 11,
   "metadata": {},
   "outputs": [
    {
     "data": {
      "text/plain": [
       "{'LITH 1 prefix+name [read only]',\n",
       " 'LITH 1 prefix+name+suffix [read only]',\n",
       " 'LITH 2 prefix+name [read only]',\n",
       " 'LITH 2 prefix+name+suffix [read only]',\n",
       " 'Lith. prefix+name+suffix',\n",
       " 'Lithology 1 prefix',\n",
       " 'Lithology 2 prefix',\n",
       " 'Lithology Prefix',\n",
       " 'Lithology prefix',\n",
       " 'Lithology prefix + name',\n",
       " 'Lithology prefix+name [read only]',\n",
       " 'Lithology prefix+name+suffix [read only]',\n",
       " 'MAJ Lith. Prefix',\n",
       " 'MAJ Lith. Prefix abundance Plot [%]',\n",
       " 'MAJ Lith. prefix',\n",
       " 'MAJ Lith. prefix + name',\n",
       " 'MAJ Lith. prefix abundance plot [%]',\n",
       " 'MAJ Lith. prefix+name [read only]',\n",
       " 'MAJ Lith. prefix+name+suffix',\n",
       " 'MAJ Lith. prefix+name+suffix [read only]',\n",
       " 'MAJ Lithology prefix A',\n",
       " 'MIN Lith. Prefix',\n",
       " 'MIN Lith. prefix',\n",
       " 'MIN Lith. prefix + name',\n",
       " 'MIN Lith. prefix+name+suffix',\n",
       " 'Major  prefix modifier before principal',\n",
       " 'Major modifier before principal',\n",
       " 'Major prefix modifier before principal',\n",
       " 'PREFIX',\n",
       " 'Prefix'}"
      ]
     },
     "execution_count": 11,
     "metadata": {},
     "output_type": "execute_result"
    }
   ],
   "source": [
    "prefix_all"
   ]
  },
  {
   "cell_type": "code",
   "execution_count": 12,
   "metadata": {},
   "outputs": [
    {
     "data": {
      "text/plain": [
       "{'Lithology 1 prefix',\n",
       " 'Lithology Prefix',\n",
       " 'Lithology prefix',\n",
       " 'MAJ Lith. Prefix',\n",
       " 'MAJ Lith. prefix',\n",
       " 'MAJ Lithology prefix A',\n",
       " 'Major  prefix modifier before principal',\n",
       " 'Major modifier before principal',\n",
       " 'Major prefix modifier before principal',\n",
       " 'PREFIX',\n",
       " 'Prefix'}"
      ]
     },
     "execution_count": 12,
     "metadata": {},
     "output_type": "execute_result"
    }
   ],
   "source": [
    "prefix"
   ]
  },
  {
   "cell_type": "code",
   "execution_count": 13,
   "metadata": {},
   "outputs": [
    {
     "data": {
      "text/plain": [
       "{'LITH 1 prefix+name+suffix [read only]',\n",
       " 'LITH 2 prefix+name+suffix [read only]',\n",
       " 'Lith. prefix+name+suffix',\n",
       " 'Lithology 1 suffix',\n",
       " 'Lithology 2 suffix',\n",
       " 'Lithology SUFFIX',\n",
       " 'Lithology Suffix',\n",
       " 'Lithology name+suffix',\n",
       " 'Lithology name+suffix [read only]',\n",
       " 'Lithology prefix+name+suffix [read only]',\n",
       " 'Lithology suffix',\n",
       " 'MAJ Lith. Suffix',\n",
       " 'MAJ Lith. name+suffix',\n",
       " 'MAJ Lith. prefix+name+suffix',\n",
       " 'MAJ Lith. prefix+name+suffix [read only]',\n",
       " 'MAJ Lith. suffix',\n",
       " 'MIN Lith. Suffix',\n",
       " 'MIN Lith. name+suffix',\n",
       " 'MIN Lith. prefix+name+suffix',\n",
       " 'MIN Lith. suffix',\n",
       " 'Minor suffix modifier after principal',\n",
       " 'Suffix'}"
      ]
     },
     "execution_count": 13,
     "metadata": {},
     "output_type": "execute_result"
    }
   ],
   "source": [
    "suffix_all"
   ]
  },
  {
   "cell_type": "code",
   "execution_count": 14,
   "metadata": {},
   "outputs": [
    {
     "data": {
      "text/plain": [
       "{'Lithology 1 suffix',\n",
       " 'Lithology SUFFIX',\n",
       " 'Lithology Suffix',\n",
       " 'Lithology suffix',\n",
       " 'MAJ Lith. Suffix',\n",
       " 'MAJ Lith. suffix',\n",
       " 'Suffix'}"
      ]
     },
     "execution_count": 14,
     "metadata": {},
     "output_type": "execute_result"
    }
   ],
   "source": [
    "suffix "
   ]
  },
  {
   "cell_type": "code",
   "execution_count": 15,
   "metadata": {},
   "outputs": [
    {
     "data": {
      "text/plain": [
       "{'LITHOLOGY',\n",
       " 'Lithology',\n",
       " 'Lithology 1 principal name',\n",
       " 'Lithology 2 principal name',\n",
       " 'Lithology Principal name',\n",
       " 'Lithology principal name',\n",
       " 'MAJ Lith. Principal name',\n",
       " 'MAJ Lith. Principal name abundance Plot [%]',\n",
       " 'MAJ Lith. principal name',\n",
       " 'MAJ Lith. principal name abundance plot [%]',\n",
       " 'MAJ Principal lithology B',\n",
       " 'MIN Lith. Principal name',\n",
       " 'MIN Lith. principal name',\n",
       " 'Major  prefix modifier before principal',\n",
       " 'Major modifier before principal',\n",
       " 'Major prefix modifier before principal',\n",
       " 'Minor suffix modifier after principal',\n",
       " 'PRINCIPAL Lithology',\n",
       " 'PRINCIPALLITHOLOGY',\n",
       " 'Principal  lithology',\n",
       " 'Principal Lithology',\n",
       " 'Principal lithology',\n",
       " 'Principal lithology name'}"
      ]
     },
     "execution_count": 15,
     "metadata": {},
     "output_type": "execute_result"
    }
   ],
   "source": [
    "principal_all"
   ]
  },
  {
   "cell_type": "code",
   "execution_count": 16,
   "metadata": {},
   "outputs": [
    {
     "data": {
      "text/plain": [
       "{'LITHOLOGY',\n",
       " 'Lithology',\n",
       " 'Lithology 1 principal name',\n",
       " 'Lithology Principal name',\n",
       " 'Lithology principal name',\n",
       " 'MAJ Lith. Principal name',\n",
       " 'MAJ Lith. principal name',\n",
       " 'MAJ Principal lithology B',\n",
       " 'PRINCIPAL Lithology',\n",
       " 'PRINCIPALLITHOLOGY',\n",
       " 'Principal  lithology',\n",
       " 'Principal Lithology',\n",
       " 'Principal lithology',\n",
       " 'Principal lithology name'}"
      ]
     },
     "execution_count": 16,
     "metadata": {},
     "output_type": "execute_result"
    }
   ],
   "source": [
    "principal"
   ]
  },
  {
   "cell_type": "code",
   "execution_count": 17,
   "metadata": {},
   "outputs": [
    {
     "data": {
      "text/plain": [
       "{'Lithology 2 prefix',\n",
       " 'Lithology 2 principal name',\n",
       " 'Lithology 2 suffix',\n",
       " 'MIN Lith. Prefix',\n",
       " 'MIN Lith. Principal name',\n",
       " 'MIN Lith. Suffix',\n",
       " 'MIN Lith. abundance [%]',\n",
       " 'MIN Lith. ave. grain size',\n",
       " 'MIN Lith. ave. grain size rank',\n",
       " 'MIN Lith. color',\n",
       " 'MIN Lith. max. grain size',\n",
       " 'MIN Lith. max. grain size rank',\n",
       " 'MIN Lith. name+suffix',\n",
       " 'MIN Lith. prefix',\n",
       " 'MIN Lith. prefix + name',\n",
       " 'MIN Lith. prefix+name+suffix',\n",
       " 'MIN Lith. principal name',\n",
       " 'MIN Lith. suffix',\n",
       " 'MIN lith color (simple)',\n",
       " 'MIN lithology comment',\n",
       " 'Minor suffix modifier after principal'}"
      ]
     },
     "execution_count": 17,
     "metadata": {},
     "output_type": "execute_result"
    }
   ],
   "source": [
    "minor_all"
   ]
  },
  {
   "cell_type": "code",
   "execution_count": 18,
   "metadata": {},
   "outputs": [
    {
     "data": {
      "text/plain": [
       "{'Lithology 2 prefix',\n",
       " 'Lithology 2 principal name',\n",
       " 'Lithology 2 suffix',\n",
       " 'MIN Lith. Prefix',\n",
       " 'MIN Lith. Principal name',\n",
       " 'MIN Lith. Suffix',\n",
       " 'MIN Lith. ave. grain size',\n",
       " 'MIN Lith. ave. grain size rank',\n",
       " 'MIN Lith. color',\n",
       " 'MIN Lith. max. grain size',\n",
       " 'MIN Lith. max. grain size rank',\n",
       " 'MIN Lith. prefix',\n",
       " 'MIN Lith. principal name',\n",
       " 'MIN Lith. suffix',\n",
       " 'MIN lith color (simple)',\n",
       " 'MIN lithology comment',\n",
       " 'Minor suffix modifier after principal'}"
      ]
     },
     "execution_count": 18,
     "metadata": {},
     "output_type": "execute_result"
    }
   ],
   "source": [
    "minor"
   ]
  },
  {
   "cell_type": "code",
   "execution_count": 19,
   "metadata": {},
   "outputs": [
    {
     "data": {
      "text/plain": [
       "{'Lithology 2 prefix', 'MIN Lith. Prefix', 'MIN Lith. prefix'}"
      ]
     },
     "execution_count": 19,
     "metadata": {},
     "output_type": "execute_result"
    }
   ],
   "source": [
    "minor_prefix"
   ]
  },
  {
   "cell_type": "code",
   "execution_count": 20,
   "metadata": {},
   "outputs": [
    {
     "data": {
      "text/plain": [
       "{'Lithology 2 principal name',\n",
       " 'MIN Lith. Principal name',\n",
       " 'MIN Lith. principal name'}"
      ]
     },
     "execution_count": 20,
     "metadata": {},
     "output_type": "execute_result"
    }
   ],
   "source": [
    "minor_principal"
   ]
  },
  {
   "cell_type": "code",
   "execution_count": 21,
   "metadata": {},
   "outputs": [
    {
     "data": {
      "text/plain": [
       "{'Lithology 2 suffix',\n",
       " 'MIN Lith. Suffix',\n",
       " 'MIN Lith. suffix',\n",
       " 'Minor suffix modifier after principal'}"
      ]
     },
     "execution_count": 21,
     "metadata": {},
     "output_type": "execute_result"
    }
   ],
   "source": [
    "minor_suffix"
   ]
  },
  {
   "cell_type": "code",
   "execution_count": 22,
   "metadata": {},
   "outputs": [
    {
     "data": {
      "text/plain": [
       "{'COLOR',\n",
       " 'Clast color',\n",
       " 'Color',\n",
       " 'Color (name)',\n",
       " 'Color code',\n",
       " 'Color(name)',\n",
       " 'LITH 1 color',\n",
       " 'LITH 2 color',\n",
       " 'Lithology color',\n",
       " 'Lithology color (Munsell)',\n",
       " 'Lithology color (simple)',\n",
       " 'MAJ Lith. color',\n",
       " 'MAJ Lithology color',\n",
       " 'MAJ lith color (simple)',\n",
       " 'MIN Lith. color',\n",
       " 'MIN lith color (simple)'}"
      ]
     },
     "execution_count": 22,
     "metadata": {},
     "output_type": "execute_result"
    }
   ],
   "source": [
    "color_all"
   ]
  },
  {
   "cell_type": "markdown",
   "metadata": {},
   "source": [
    "### get columns that need to be standardized"
   ]
  },
  {
   "cell_type": "code",
   "execution_count": 23,
   "metadata": {},
   "outputs": [
    {
     "data": {
      "text/plain": [
       "415"
      ]
     },
     "execution_count": 23,
     "metadata": {},
     "output_type": "execute_result"
    }
   ],
   "source": [
    "# 415\n",
    "not_standardized = (\n",
    "    columns_all\n",
    "    - prefix\n",
    "    - principal\n",
    "    - suffix\n",
    "    - minor_prefix\n",
    "    - minor_principal\n",
    "    - minor_suffix\n",
    ")\n",
    "len(not_standardized)"
   ]
  },
  {
   "cell_type": "code",
   "execution_count": 24,
   "metadata": {},
   "outputs": [],
   "source": [
    "# not_standardized"
   ]
  },
  {
   "cell_type": "markdown",
   "metadata": {},
   "source": [
    "### Normalize Lithology columns"
   ]
  },
  {
   "cell_type": "code",
   "execution_count": 25,
   "metadata": {},
   "outputs": [
    {
     "data": {
      "text/html": [
       "<div>\n",
       "<style scoped>\n",
       "    .dataframe tbody tr th:only-of-type {\n",
       "        vertical-align: middle;\n",
       "    }\n",
       "\n",
       "    .dataframe tbody tr th {\n",
       "        vertical-align: top;\n",
       "    }\n",
       "\n",
       "    .dataframe thead th {\n",
       "        text-align: right;\n",
       "    }\n",
       "</style>\n",
       "<table border=\"1\" class=\"dataframe\">\n",
       "  <thead>\n",
       "    <tr style=\"text-align: right;\">\n",
       "      <th></th>\n",
       "      <th>file</th>\n",
       "      <th>path</th>\n",
       "      <th>empty_rows_columns</th>\n",
       "      <th>remove_identical_rows</th>\n",
       "      <th>remove_identical_columns</th>\n",
       "      <th>standardize_headers</th>\n",
       "      <th>add_expedition_aw_cols</th>\n",
       "      <th>add_sample_column</th>\n",
       "      <th>add_missing_cols</th>\n",
       "      <th>update_lithology</th>\n",
       "      <th>add_missing_lith_cols</th>\n",
       "    </tr>\n",
       "  </thead>\n",
       "  <tbody>\n",
       "    <tr>\n",
       "      <th>0</th>\n",
       "      <td>361_macroscopic_U1474D.csv</td>\n",
       "      <td>Lithology_CSV/361_macroscopic_U1474D.csv</td>\n",
       "      <td>False</td>\n",
       "      <td>False</td>\n",
       "      <td>False</td>\n",
       "      <td>False</td>\n",
       "      <td>False</td>\n",
       "      <td>True</td>\n",
       "      <td>True</td>\n",
       "      <td>True</td>\n",
       "      <td>True</td>\n",
       "    </tr>\n",
       "    <tr>\n",
       "      <th>1</th>\n",
       "      <td>323 Core Description Template_U1341A.csv</td>\n",
       "      <td>Lithology_CSV/323 Core Description Template_U1...</td>\n",
       "      <td>False</td>\n",
       "      <td>False</td>\n",
       "      <td>False</td>\n",
       "      <td>False</td>\n",
       "      <td>False</td>\n",
       "      <td>False</td>\n",
       "      <td>True</td>\n",
       "      <td>True</td>\n",
       "      <td>True</td>\n",
       "    </tr>\n",
       "    <tr>\n",
       "      <th>2</th>\n",
       "      <td>361_macroscopic_U1479C.csv</td>\n",
       "      <td>Lithology_CSV/361_macroscopic_U1479C.csv</td>\n",
       "      <td>False</td>\n",
       "      <td>False</td>\n",
       "      <td>False</td>\n",
       "      <td>False</td>\n",
       "      <td>False</td>\n",
       "      <td>True</td>\n",
       "      <td>True</td>\n",
       "      <td>True</td>\n",
       "      <td>True</td>\n",
       "    </tr>\n",
       "    <tr>\n",
       "      <th>3</th>\n",
       "      <td>340_sediment_U1393A.csv</td>\n",
       "      <td>Lithology_CSV/340_sediment_U1393A.csv</td>\n",
       "      <td>False</td>\n",
       "      <td>False</td>\n",
       "      <td>False</td>\n",
       "      <td>True</td>\n",
       "      <td>False</td>\n",
       "      <td>False</td>\n",
       "      <td>True</td>\n",
       "      <td>True</td>\n",
       "      <td>True</td>\n",
       "    </tr>\n",
       "    <tr>\n",
       "      <th>4</th>\n",
       "      <td>339_sediment_U1386A.csv</td>\n",
       "      <td>Lithology_CSV/339_sediment_U1386A.csv</td>\n",
       "      <td>False</td>\n",
       "      <td>False</td>\n",
       "      <td>False</td>\n",
       "      <td>False</td>\n",
       "      <td>False</td>\n",
       "      <td>False</td>\n",
       "      <td>True</td>\n",
       "      <td>True</td>\n",
       "      <td>False</td>\n",
       "    </tr>\n",
       "  </tbody>\n",
       "</table>\n",
       "</div>"
      ],
      "text/plain": [
       "                                       file  \\\n",
       "0                361_macroscopic_U1474D.csv   \n",
       "1  323 Core Description Template_U1341A.csv   \n",
       "2                361_macroscopic_U1479C.csv   \n",
       "3                   340_sediment_U1393A.csv   \n",
       "4                   339_sediment_U1386A.csv   \n",
       "\n",
       "                                                path  empty_rows_columns  \\\n",
       "0           Lithology_CSV/361_macroscopic_U1474D.csv               False   \n",
       "1  Lithology_CSV/323 Core Description Template_U1...               False   \n",
       "2           Lithology_CSV/361_macroscopic_U1479C.csv               False   \n",
       "3              Lithology_CSV/340_sediment_U1393A.csv               False   \n",
       "4              Lithology_CSV/339_sediment_U1386A.csv               False   \n",
       "\n",
       "   remove_identical_rows  remove_identical_columns  standardize_headers  \\\n",
       "0                  False                     False                False   \n",
       "1                  False                     False                False   \n",
       "2                  False                     False                False   \n",
       "3                  False                     False                 True   \n",
       "4                  False                     False                False   \n",
       "\n",
       "   add_expedition_aw_cols  add_sample_column  add_missing_cols  \\\n",
       "0                   False               True              True   \n",
       "1                   False              False              True   \n",
       "2                   False               True              True   \n",
       "3                   False              False              True   \n",
       "4                   False              False              True   \n",
       "\n",
       "   update_lithology  add_missing_lith_cols  \n",
       "0              True                   True  \n",
       "1              True                   True  \n",
       "2              True                   True  \n",
       "3              True                   True  \n",
       "4              True                  False  "
      ]
     },
     "execution_count": 25,
     "metadata": {},
     "output_type": "execute_result"
    }
   ],
   "source": [
    "metadata = pd.read_csv(metadata_file)\n",
    "metadata.head()"
   ]
  },
  {
   "cell_type": "code",
   "execution_count": 26,
   "metadata": {},
   "outputs": [],
   "source": [
    "def process_file(file):\n",
    "    path = f\"{base_directory}/{file}\"\n",
    "    content = pd.read_csv(path, dtype=str)\n",
    "    columns = list(content.columns)\n",
    "    \n",
    "    normalized_cols = normalize_columns(prefix, 'Lithology Prefix', columns)\n",
    "    normalized_cols = normalize_columns(principal, 'Lithology Principal Name', normalized_cols)\n",
    "    normalized_cols = normalize_columns(suffix, 'Lithology Suffix', normalized_cols)\n",
    "\n",
    "    normalized_cols = normalize_columns(minor_prefix, 'Minor Lithology Prefix', normalized_cols)\n",
    "    normalized_cols = normalize_columns(minor_principal, 'Minor Lithology Name', normalized_cols)\n",
    "    normalized_cols = normalize_columns(minor_suffix, 'Minor Lithology Suffix', normalized_cols)\n",
    "\n",
    "    changed = columns != normalized_cols\n",
    "    \n",
    "    if changed:\n",
    "        content.columns = normalized_cols\n",
    "        content = csv_cleanup(content, path)\n",
    "        content.to_csv(path, index=False)\n",
    "\n",
    "    return changed\n",
    "\n",
    "change_columns = [process_file(file) for file in metadata['path']] "
   ]
  },
  {
   "cell_type": "code",
   "execution_count": 27,
   "metadata": {},
   "outputs": [
    {
     "data": {
      "text/html": [
       "<div>\n",
       "<style scoped>\n",
       "    .dataframe tbody tr th:only-of-type {\n",
       "        vertical-align: middle;\n",
       "    }\n",
       "\n",
       "    .dataframe tbody tr th {\n",
       "        vertical-align: top;\n",
       "    }\n",
       "\n",
       "    .dataframe thead th {\n",
       "        text-align: right;\n",
       "    }\n",
       "</style>\n",
       "<table border=\"1\" class=\"dataframe\">\n",
       "  <thead>\n",
       "    <tr style=\"text-align: right;\">\n",
       "      <th></th>\n",
       "      <th>file</th>\n",
       "      <th>path</th>\n",
       "      <th>empty_rows_columns</th>\n",
       "      <th>remove_identical_rows</th>\n",
       "      <th>remove_identical_columns</th>\n",
       "      <th>standardize_headers</th>\n",
       "      <th>add_expedition_aw_cols</th>\n",
       "      <th>add_sample_column</th>\n",
       "      <th>add_missing_cols</th>\n",
       "      <th>update_lithology</th>\n",
       "      <th>add_missing_lith_cols</th>\n",
       "    </tr>\n",
       "  </thead>\n",
       "  <tbody>\n",
       "    <tr>\n",
       "      <th>0</th>\n",
       "      <td>361_macroscopic_U1474D.csv</td>\n",
       "      <td>Lithology_CSV/361_macroscopic_U1474D.csv</td>\n",
       "      <td>False</td>\n",
       "      <td>False</td>\n",
       "      <td>False</td>\n",
       "      <td>False</td>\n",
       "      <td>False</td>\n",
       "      <td>True</td>\n",
       "      <td>True</td>\n",
       "      <td>True</td>\n",
       "      <td>True</td>\n",
       "    </tr>\n",
       "    <tr>\n",
       "      <th>1</th>\n",
       "      <td>323 Core Description Template_U1341A.csv</td>\n",
       "      <td>Lithology_CSV/323 Core Description Template_U1...</td>\n",
       "      <td>False</td>\n",
       "      <td>False</td>\n",
       "      <td>False</td>\n",
       "      <td>False</td>\n",
       "      <td>False</td>\n",
       "      <td>False</td>\n",
       "      <td>True</td>\n",
       "      <td>True</td>\n",
       "      <td>True</td>\n",
       "    </tr>\n",
       "    <tr>\n",
       "      <th>2</th>\n",
       "      <td>361_macroscopic_U1479C.csv</td>\n",
       "      <td>Lithology_CSV/361_macroscopic_U1479C.csv</td>\n",
       "      <td>False</td>\n",
       "      <td>False</td>\n",
       "      <td>False</td>\n",
       "      <td>False</td>\n",
       "      <td>False</td>\n",
       "      <td>True</td>\n",
       "      <td>True</td>\n",
       "      <td>True</td>\n",
       "      <td>True</td>\n",
       "    </tr>\n",
       "    <tr>\n",
       "      <th>3</th>\n",
       "      <td>340_sediment_U1393A.csv</td>\n",
       "      <td>Lithology_CSV/340_sediment_U1393A.csv</td>\n",
       "      <td>False</td>\n",
       "      <td>False</td>\n",
       "      <td>False</td>\n",
       "      <td>True</td>\n",
       "      <td>False</td>\n",
       "      <td>False</td>\n",
       "      <td>True</td>\n",
       "      <td>True</td>\n",
       "      <td>True</td>\n",
       "    </tr>\n",
       "    <tr>\n",
       "      <th>4</th>\n",
       "      <td>339_sediment_U1386A.csv</td>\n",
       "      <td>Lithology_CSV/339_sediment_U1386A.csv</td>\n",
       "      <td>False</td>\n",
       "      <td>False</td>\n",
       "      <td>False</td>\n",
       "      <td>False</td>\n",
       "      <td>False</td>\n",
       "      <td>False</td>\n",
       "      <td>True</td>\n",
       "      <td>True</td>\n",
       "      <td>False</td>\n",
       "    </tr>\n",
       "  </tbody>\n",
       "</table>\n",
       "</div>"
      ],
      "text/plain": [
       "                                       file  \\\n",
       "0                361_macroscopic_U1474D.csv   \n",
       "1  323 Core Description Template_U1341A.csv   \n",
       "2                361_macroscopic_U1479C.csv   \n",
       "3                   340_sediment_U1393A.csv   \n",
       "4                   339_sediment_U1386A.csv   \n",
       "\n",
       "                                                path  empty_rows_columns  \\\n",
       "0           Lithology_CSV/361_macroscopic_U1474D.csv               False   \n",
       "1  Lithology_CSV/323 Core Description Template_U1...               False   \n",
       "2           Lithology_CSV/361_macroscopic_U1479C.csv               False   \n",
       "3              Lithology_CSV/340_sediment_U1393A.csv               False   \n",
       "4              Lithology_CSV/339_sediment_U1386A.csv               False   \n",
       "\n",
       "   remove_identical_rows  remove_identical_columns  standardize_headers  \\\n",
       "0                  False                     False                False   \n",
       "1                  False                     False                False   \n",
       "2                  False                     False                False   \n",
       "3                  False                     False                 True   \n",
       "4                  False                     False                False   \n",
       "\n",
       "   add_expedition_aw_cols  add_sample_column  add_missing_cols  \\\n",
       "0                   False               True              True   \n",
       "1                   False              False              True   \n",
       "2                   False               True              True   \n",
       "3                   False              False              True   \n",
       "4                   False              False              True   \n",
       "\n",
       "   update_lithology  add_missing_lith_cols  \n",
       "0              True                   True  \n",
       "1              True                   True  \n",
       "2              True                   True  \n",
       "3              True                   True  \n",
       "4              True                  False  "
      ]
     },
     "execution_count": 27,
     "metadata": {},
     "output_type": "execute_result"
    }
   ],
   "source": [
    "dict = {\"update_lithology\": change_columns}\n",
    "new_metadata = update_metadata(metadata, dict)\n",
    "new_metadata.head()"
   ]
  },
  {
   "cell_type": "code",
   "execution_count": 28,
   "metadata": {},
   "outputs": [],
   "source": [
    "new_metadata.to_csv(metadata_file, index=False)"
   ]
  },
  {
   "cell_type": "markdown",
   "metadata": {},
   "source": [
    "## Add missing Lithology columns"
   ]
  },
  {
   "cell_type": "code",
   "execution_count": 29,
   "metadata": {},
   "outputs": [],
   "source": [
    "metadata = pd.read_csv(metadata_file)"
   ]
  },
  {
   "cell_type": "code",
   "execution_count": 30,
   "metadata": {},
   "outputs": [],
   "source": [
    "normalized_columns = [\n",
    "    'Lithology Prefix',\n",
    "    'Lithology Principal Name',\n",
    "    'Lithology Suffix',\n",
    "    'Minor Lithology Prefix',\n",
    "    'Minor Lithology Name',\n",
    "    'Minor Lithology Suffix',\n",
    "]"
   ]
  },
  {
   "cell_type": "code",
   "execution_count": 31,
   "metadata": {},
   "outputs": [],
   "source": [
    "change_columns = [add_missing_columns(f\"{base_directory}/{file}\", normalized_columns) for file in metadata['path']] "
   ]
  },
  {
   "cell_type": "code",
   "execution_count": 32,
   "metadata": {},
   "outputs": [
    {
     "data": {
      "text/html": [
       "<div>\n",
       "<style scoped>\n",
       "    .dataframe tbody tr th:only-of-type {\n",
       "        vertical-align: middle;\n",
       "    }\n",
       "\n",
       "    .dataframe tbody tr th {\n",
       "        vertical-align: top;\n",
       "    }\n",
       "\n",
       "    .dataframe thead th {\n",
       "        text-align: right;\n",
       "    }\n",
       "</style>\n",
       "<table border=\"1\" class=\"dataframe\">\n",
       "  <thead>\n",
       "    <tr style=\"text-align: right;\">\n",
       "      <th></th>\n",
       "      <th>file</th>\n",
       "      <th>path</th>\n",
       "      <th>empty_rows_columns</th>\n",
       "      <th>remove_identical_rows</th>\n",
       "      <th>remove_identical_columns</th>\n",
       "      <th>standardize_headers</th>\n",
       "      <th>add_expedition_aw_cols</th>\n",
       "      <th>add_sample_column</th>\n",
       "      <th>add_missing_cols</th>\n",
       "      <th>update_lithology</th>\n",
       "      <th>add_missing_lith_cols</th>\n",
       "    </tr>\n",
       "  </thead>\n",
       "  <tbody>\n",
       "    <tr>\n",
       "      <th>0</th>\n",
       "      <td>361_macroscopic_U1474D.csv</td>\n",
       "      <td>Lithology_CSV/361_macroscopic_U1474D.csv</td>\n",
       "      <td>False</td>\n",
       "      <td>False</td>\n",
       "      <td>False</td>\n",
       "      <td>False</td>\n",
       "      <td>False</td>\n",
       "      <td>True</td>\n",
       "      <td>True</td>\n",
       "      <td>True</td>\n",
       "      <td>True</td>\n",
       "    </tr>\n",
       "    <tr>\n",
       "      <th>1</th>\n",
       "      <td>323 Core Description Template_U1341A.csv</td>\n",
       "      <td>Lithology_CSV/323 Core Description Template_U1...</td>\n",
       "      <td>False</td>\n",
       "      <td>False</td>\n",
       "      <td>False</td>\n",
       "      <td>False</td>\n",
       "      <td>False</td>\n",
       "      <td>False</td>\n",
       "      <td>True</td>\n",
       "      <td>True</td>\n",
       "      <td>True</td>\n",
       "    </tr>\n",
       "    <tr>\n",
       "      <th>2</th>\n",
       "      <td>361_macroscopic_U1479C.csv</td>\n",
       "      <td>Lithology_CSV/361_macroscopic_U1479C.csv</td>\n",
       "      <td>False</td>\n",
       "      <td>False</td>\n",
       "      <td>False</td>\n",
       "      <td>False</td>\n",
       "      <td>False</td>\n",
       "      <td>True</td>\n",
       "      <td>True</td>\n",
       "      <td>True</td>\n",
       "      <td>True</td>\n",
       "    </tr>\n",
       "    <tr>\n",
       "      <th>3</th>\n",
       "      <td>340_sediment_U1393A.csv</td>\n",
       "      <td>Lithology_CSV/340_sediment_U1393A.csv</td>\n",
       "      <td>False</td>\n",
       "      <td>False</td>\n",
       "      <td>False</td>\n",
       "      <td>True</td>\n",
       "      <td>False</td>\n",
       "      <td>False</td>\n",
       "      <td>True</td>\n",
       "      <td>True</td>\n",
       "      <td>True</td>\n",
       "    </tr>\n",
       "    <tr>\n",
       "      <th>4</th>\n",
       "      <td>339_sediment_U1386A.csv</td>\n",
       "      <td>Lithology_CSV/339_sediment_U1386A.csv</td>\n",
       "      <td>False</td>\n",
       "      <td>False</td>\n",
       "      <td>False</td>\n",
       "      <td>False</td>\n",
       "      <td>False</td>\n",
       "      <td>False</td>\n",
       "      <td>True</td>\n",
       "      <td>True</td>\n",
       "      <td>False</td>\n",
       "    </tr>\n",
       "  </tbody>\n",
       "</table>\n",
       "</div>"
      ],
      "text/plain": [
       "                                       file  \\\n",
       "0                361_macroscopic_U1474D.csv   \n",
       "1  323 Core Description Template_U1341A.csv   \n",
       "2                361_macroscopic_U1479C.csv   \n",
       "3                   340_sediment_U1393A.csv   \n",
       "4                   339_sediment_U1386A.csv   \n",
       "\n",
       "                                                path  empty_rows_columns  \\\n",
       "0           Lithology_CSV/361_macroscopic_U1474D.csv               False   \n",
       "1  Lithology_CSV/323 Core Description Template_U1...               False   \n",
       "2           Lithology_CSV/361_macroscopic_U1479C.csv               False   \n",
       "3              Lithology_CSV/340_sediment_U1393A.csv               False   \n",
       "4              Lithology_CSV/339_sediment_U1386A.csv               False   \n",
       "\n",
       "   remove_identical_rows  remove_identical_columns  standardize_headers  \\\n",
       "0                  False                     False                False   \n",
       "1                  False                     False                False   \n",
       "2                  False                     False                False   \n",
       "3                  False                     False                 True   \n",
       "4                  False                     False                False   \n",
       "\n",
       "   add_expedition_aw_cols  add_sample_column  add_missing_cols  \\\n",
       "0                   False               True              True   \n",
       "1                   False              False              True   \n",
       "2                   False               True              True   \n",
       "3                   False              False              True   \n",
       "4                   False              False              True   \n",
       "\n",
       "   update_lithology  add_missing_lith_cols  \n",
       "0              True                   True  \n",
       "1              True                   True  \n",
       "2              True                   True  \n",
       "3              True                   True  \n",
       "4              True                  False  "
      ]
     },
     "execution_count": 32,
     "metadata": {},
     "output_type": "execute_result"
    }
   ],
   "source": [
    "dict = {\"add_missing_lith_cols\": change_columns}\n",
    "new_metadata = update_metadata(metadata, dict)\n",
    "new_metadata.head()"
   ]
  },
  {
   "cell_type": "code",
   "execution_count": 33,
   "metadata": {},
   "outputs": [],
   "source": [
    "new_metadata.to_csv(metadata_file, index=False)"
   ]
  }
 ],
 "metadata": {
  "kernelspec": {
   "display_name": "Python 3",
   "language": "python",
   "name": "python3"
  },
  "language_info": {
   "codemirror_mode": {
    "name": "ipython",
    "version": 3
   },
   "file_extension": ".py",
   "mimetype": "text/x-python",
   "name": "python",
   "nbconvert_exporter": "python",
   "pygments_lexer": "ipython3",
   "version": "3.6.8"
  }
 },
 "nbformat": 4,
 "nbformat_minor": 4
}
