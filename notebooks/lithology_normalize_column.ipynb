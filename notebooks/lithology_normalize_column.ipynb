{
 "cells": [
  {
   "cell_type": "markdown",
   "metadata": {},
   "source": [
    "# Normalize Lithology CSVs"
   ]
  },
  {
   "cell_type": "code",
   "execution_count": 1,
   "metadata": {},
   "outputs": [],
   "source": [
    "import sys\n",
    "sys.path.append('../scripts/')\n",
    "import glob\n",
    "import re\n",
    "\n",
    "import pandas as pd\n",
    "import numpy as np\n",
    "\n",
    "from normalize_data import (\n",
    "    normalize_columns,\n",
    "    csv_cleanup,\n",
    "    update_metadata,\n",
    "    fetch_unique_column_names,\n",
    "    append_set,\n",
    "    filter_existing_set,\n",
    "    add_missing_columns\n",
    ")"
   ]
  },
  {
   "cell_type": "code",
   "execution_count": 2,
   "metadata": {},
   "outputs": [],
   "source": [
    "metadata_file = 'cleaned_data/metadata/lims_lithology_changes.csv'\n",
    "clean_data_path = 'cleaned_data/Lithology_CSV'"
   ]
  },
  {
   "cell_type": "markdown",
   "metadata": {},
   "source": [
    "## Normalize Lithology columns"
   ]
  },
  {
   "cell_type": "markdown",
   "metadata": {},
   "source": [
    "Normalize all the Lithology Prefix, Principal Name, Suffix, Minor Prefix, Minor Name, Minor Suffix columns to have the same names."
   ]
  },
  {
   "cell_type": "code",
   "execution_count": 4,
   "metadata": {},
   "outputs": [
    {
     "data": {
      "text/html": [
       "<div>\n",
       "<style scoped>\n",
       "    .dataframe tbody tr th:only-of-type {\n",
       "        vertical-align: middle;\n",
       "    }\n",
       "\n",
       "    .dataframe tbody tr th {\n",
       "        vertical-align: top;\n",
       "    }\n",
       "\n",
       "    .dataframe thead th {\n",
       "        text-align: right;\n",
       "    }\n",
       "</style>\n",
       "<table border=\"1\" class=\"dataframe\">\n",
       "  <thead>\n",
       "    <tr style=\"text-align: right;\">\n",
       "      <th></th>\n",
       "      <th>file</th>\n",
       "      <th>path</th>\n",
       "      <th>empty_rows_columns</th>\n",
       "      <th>remove_identical_rows</th>\n",
       "      <th>add_expedition_section_cols</th>\n",
       "      <th>update_sample_col</th>\n",
       "      <th>update_top_bottom</th>\n",
       "      <th>add_missing_cols</th>\n",
       "    </tr>\n",
       "  </thead>\n",
       "  <tbody>\n",
       "    <tr>\n",
       "      <th>0</th>\n",
       "      <td>361_macroscopic_U1474D.csv</td>\n",
       "      <td>Lithology_CSV/361_macroscopic_U1474D.csv</td>\n",
       "      <td>False</td>\n",
       "      <td>False</td>\n",
       "      <td>False</td>\n",
       "      <td>True</td>\n",
       "      <td>False</td>\n",
       "      <td>True</td>\n",
       "    </tr>\n",
       "    <tr>\n",
       "      <th>1</th>\n",
       "      <td>323 Core Description Template_U1341A.csv</td>\n",
       "      <td>Lithology_CSV/323 Core Description Template_U1...</td>\n",
       "      <td>False</td>\n",
       "      <td>False</td>\n",
       "      <td>False</td>\n",
       "      <td>False</td>\n",
       "      <td>False</td>\n",
       "      <td>True</td>\n",
       "    </tr>\n",
       "    <tr>\n",
       "      <th>2</th>\n",
       "      <td>361_macroscopic_U1479C.csv</td>\n",
       "      <td>Lithology_CSV/361_macroscopic_U1479C.csv</td>\n",
       "      <td>False</td>\n",
       "      <td>False</td>\n",
       "      <td>False</td>\n",
       "      <td>True</td>\n",
       "      <td>False</td>\n",
       "      <td>True</td>\n",
       "    </tr>\n",
       "    <tr>\n",
       "      <th>3</th>\n",
       "      <td>340_sediment_U1393A.csv</td>\n",
       "      <td>Lithology_CSV/340_sediment_U1393A.csv</td>\n",
       "      <td>False</td>\n",
       "      <td>False</td>\n",
       "      <td>False</td>\n",
       "      <td>True</td>\n",
       "      <td>False</td>\n",
       "      <td>True</td>\n",
       "    </tr>\n",
       "    <tr>\n",
       "      <th>4</th>\n",
       "      <td>339_sediment_U1386A.csv</td>\n",
       "      <td>Lithology_CSV/339_sediment_U1386A.csv</td>\n",
       "      <td>False</td>\n",
       "      <td>False</td>\n",
       "      <td>False</td>\n",
       "      <td>False</td>\n",
       "      <td>False</td>\n",
       "      <td>True</td>\n",
       "    </tr>\n",
       "  </tbody>\n",
       "</table>\n",
       "</div>"
      ],
      "text/plain": [
       "                                       file  \\\n",
       "0                361_macroscopic_U1474D.csv   \n",
       "1  323 Core Description Template_U1341A.csv   \n",
       "2                361_macroscopic_U1479C.csv   \n",
       "3                   340_sediment_U1393A.csv   \n",
       "4                   339_sediment_U1386A.csv   \n",
       "\n",
       "                                                path  empty_rows_columns  \\\n",
       "0           Lithology_CSV/361_macroscopic_U1474D.csv               False   \n",
       "1  Lithology_CSV/323 Core Description Template_U1...               False   \n",
       "2           Lithology_CSV/361_macroscopic_U1479C.csv               False   \n",
       "3              Lithology_CSV/340_sediment_U1393A.csv               False   \n",
       "4              Lithology_CSV/339_sediment_U1386A.csv               False   \n",
       "\n",
       "   remove_identical_rows  add_expedition_section_cols  update_sample_col  \\\n",
       "0                  False                        False               True   \n",
       "1                  False                        False              False   \n",
       "2                  False                        False               True   \n",
       "3                  False                        False               True   \n",
       "4                  False                        False              False   \n",
       "\n",
       "   update_top_bottom  add_missing_cols  \n",
       "0              False              True  \n",
       "1              False              True  \n",
       "2              False              True  \n",
       "3              False              True  \n",
       "4              False              True  "
      ]
     },
     "execution_count": 4,
     "metadata": {},
     "output_type": "execute_result"
    }
   ],
   "source": [
    "metadata = pd.read_csv(metadata_file)\n",
    "metadata.head()"
   ]
  },
  {
   "cell_type": "markdown",
   "metadata": {},
   "source": [
    "### Get Lithology columns"
   ]
  },
  {
   "cell_type": "code",
   "execution_count": 5,
   "metadata": {},
   "outputs": [],
   "source": [
    "columns_all = set()\n",
    "    \n",
    "res=[fetch_unique_column_names(f\"{clean_data_path}/{file}\", columns_all) for file in metadata['file']] "
   ]
  },
  {
   "cell_type": "code",
   "execution_count": 6,
   "metadata": {},
   "outputs": [],
   "source": [
    "def remove_symbols_from_set(old_set):\n",
    "    return filter_existing_set(old_set, r\"(.*?%)|(.*?\\+)\")\n",
    "\n",
    "def remove_minor_from_set(old_set):\n",
    "    return filter_existing_set(old_set, r\"(.*?min .*?)|(.*?minor .*?)|(Lithology 2.*?)\")"
   ]
  },
  {
   "cell_type": "code",
   "execution_count": 7,
   "metadata": {},
   "outputs": [],
   "source": [
    "lith_all = set()\n",
    "prefix_all = set()\n",
    "suffix_all = set()\n",
    "principal_all = set()\n",
    "modifier_all = set()\n",
    "minor_all = set()\n",
    "color_all = set()\n",
    "\n",
    "append_set(lith_all, r\".*?lith.*?\", columns_all)\n",
    "\n",
    "append_set(modifier_all, r\".*?modifier.*?\", columns_all)\n",
    "\n",
    "append_set(suffix_all, r\".*?suffix.*?\", columns_all)\n",
    "append_set(suffix_all, r\".*?modifier after.*?\", columns_all)\n",
    "\n",
    "append_set(prefix_all, r\".*?prefix.*?\", columns_all)\n",
    "append_set(prefix_all, r\".*?modifier before.*?\", columns_all)\n",
    "\n",
    "append_set(principal_all, r\".*?principal.*?\", columns_all)\n",
    "append_set(principal_all, r\"^Lithology$\", columns_all)\n",
    "\n",
    "append_set(minor_all, r\"(.*?min lith.*?)|(.*?minor modifier.*?)|(.*?minor suffix.*?)|(Lithology 2.*?)\", columns_all)\n",
    "\n",
    "append_set(color_all, r\".*?color.*?\", columns_all)\n"
   ]
  },
  {
   "cell_type": "code",
   "execution_count": 8,
   "metadata": {},
   "outputs": [],
   "source": [
    "minor_prefix = set()\n",
    "minor_principal = set()\n",
    "minor_suffix = set()\n",
    "\n",
    "suffix = remove_symbols_from_set(suffix_all)\n",
    "suffix = remove_minor_from_set(suffix)\n",
    "\n",
    "prefix = remove_symbols_from_set(prefix_all)\n",
    "prefix = remove_minor_from_set(prefix)\n",
    "\n",
    "principal = remove_symbols_from_set(principal_all)\n",
    "principal = remove_minor_from_set(principal)\n",
    "principal = filter_existing_set(principal, r\".*?modifier.*?\")\n",
    "\n",
    "minor = remove_symbols_from_set(minor_all)\n",
    "\n",
    "append_set(minor_prefix, r\".*?prefix.*?\", minor)\n",
    "append_set(minor_principal, r\".*?principal.*?\", minor)\n",
    "append_set(minor_suffix, r\"(.*?suffix.*?)|(.*?modifier after.*?)\", minor)\n",
    "minor_principal = filter_existing_set(minor_principal, r\".*?modifier.*?\")\n"
   ]
  },
  {
   "cell_type": "code",
   "execution_count": 10,
   "metadata": {},
   "outputs": [
    {
     "data": {
      "text/plain": [
       "{'2ND lithic roundness',\n",
       " '3RD lithic roundness',\n",
       " 'Amount of ash in lithology',\n",
       " 'Amount of ash in lithology rank [read only]',\n",
       " 'Bedding thickness of MAJOR lithology',\n",
       " 'Clast 3 -other lithology [%]',\n",
       " 'Clast 3 -other lithology grain size',\n",
       " 'Clast 7 -other lithology [%]',\n",
       " 'Clast 7 -other lithology grain size',\n",
       " 'Clast lith. abund. sum [%]',\n",
       " 'Clast lithology',\n",
       " 'Clast lithology comment',\n",
       " 'Complete lithology name',\n",
       " 'DOMINANT lithic roundness',\n",
       " 'GRAVEL SIZE CLASTLITHOLOGY',\n",
       " 'Interbed lithology',\n",
       " 'LITH 1 Ash abundance name',\n",
       " 'LITH 1 Ash abundance rank (read only)',\n",
       " 'LITH 1 Bioturbation intensity',\n",
       " 'LITH 1 Bioturbation intensity rank [read only]',\n",
       " 'LITH 1 Clast 1 igneous -  grain size',\n",
       " 'LITH 1 Clast 1 igneous -  lithology',\n",
       " 'LITH 1 Clast 1 igneous -  roundness',\n",
       " 'LITH 1 Clast 1 igneous [%]',\n",
       " 'LITH 1 Clast 2 sediment - grain size',\n",
       " 'LITH 1 Clast 2 sediment - roundness',\n",
       " 'LITH 1 Clast 2 sediment [%]',\n",
       " 'LITH 1 Clast 3 -other LITH [%]',\n",
       " 'LITH 1 Clast 3 metamorphic - grain size',\n",
       " 'LITH 1 Clast 3 metamorphic - roundness',\n",
       " 'LITH 1 Clast abundance',\n",
       " 'LITH 1 Deformational structure',\n",
       " 'LITH 1 Deformational structure attitude',\n",
       " 'LITH 1 Diagenetic constituent',\n",
       " 'LITH 1 Diagenetic constituent composition',\n",
       " 'LITH 1 Diagenetic structure',\n",
       " 'LITH 1 Layer or bedding thickness',\n",
       " 'LITH 1 Macrofossil',\n",
       " 'LITH 1 Macrofossil abundance name',\n",
       " 'LITH 1 Matrix 1 igneous - pumiceous [%]',\n",
       " 'LITH 1 Matrix 2 igneous - scoriaceous [%]',\n",
       " 'LITH 1 Matrix 3 igneous - massive [%]',\n",
       " 'LITH 1 Matrix 4 igneous - vesicular [%]',\n",
       " 'LITH 1 Matrix 5 volcaniclastic [%]',\n",
       " 'LITH 1 Matrix 6 sediment [%]',\n",
       " 'LITH 1 Matrix 7 -other LITH [%]',\n",
       " 'LITH 1 Matrix alteration intensity',\n",
       " 'LITH 1 Matrix alteration rank',\n",
       " 'LITH 1 Matrix biogenic carbonate [%]',\n",
       " 'LITH 1 Matrix carbonate [%]',\n",
       " 'LITH 1 Matrix comments',\n",
       " 'LITH 1 Matrix detritical carbonate [%]',\n",
       " 'LITH 1 Matrix sorting',\n",
       " 'LITH 1 Number of clasts (>2mm)',\n",
       " 'LITH 1 Sedimentary structure',\n",
       " 'LITH 1 abundance [%]',\n",
       " 'LITH 1 ave. grain size class',\n",
       " 'LITH 1 ave. grain size rank [read only]',\n",
       " 'LITH 1 color',\n",
       " 'LITH 1 comment',\n",
       " 'LITH 1 grain sorting',\n",
       " 'LITH 1 lithification',\n",
       " 'LITH 1 max. grain size class',\n",
       " 'LITH 1 max. grain size rank [read only]',\n",
       " 'LITH 1 prefix+name [read only]',\n",
       " 'LITH 1 prefix+name+suffix [read only]',\n",
       " 'LITH 2 Ash abundance name',\n",
       " 'LITH 2 Ash abundance rank (read only)',\n",
       " 'LITH 2 Macrofossil',\n",
       " 'LITH 2 abundance [%]',\n",
       " 'LITH 2 ave. grain size class',\n",
       " 'LITH 2 ave. grain size rank [read only]',\n",
       " 'LITH 2 color',\n",
       " 'LITH 2 grain sorting',\n",
       " 'LITH 2 lithification',\n",
       " 'LITH 2 max. grain size class',\n",
       " 'LITH 2 max. grain size rank [read only]',\n",
       " 'LITH 2 prefix+name [read only]',\n",
       " 'LITH 2 prefix+name+suffix [read only]',\n",
       " 'LITHIFICATION',\n",
       " 'LITHOLOGY',\n",
       " 'LITHOLOGY COMMENTS',\n",
       " 'LITHOLOGY NAME',\n",
       " 'LITHOLOGY [%]',\n",
       " 'Lith. abundance sum [%]',\n",
       " 'Lith. accessory cement',\n",
       " 'Lith. accessory nodule/concretion',\n",
       " 'Lith. accessory shell fragment',\n",
       " 'Lith. accessory sulfide',\n",
       " 'Lith. comment',\n",
       " 'Lith. prefix+name+suffix',\n",
       " 'Lithic clasts (>2 mm) 2ND ORDER',\n",
       " 'Lithic clasts (>2 mm) 3RD ORDER',\n",
       " 'Lithic clasts (>2 mm) DOMINANT',\n",
       " 'Lithification',\n",
       " 'Lithification [name]',\n",
       " 'Lithification rank',\n",
       " 'Lithification rank [read only]',\n",
       " 'Lithologic accessories',\n",
       " 'Lithologic unit (preliminary)',\n",
       " 'Lithological Accessories 1',\n",
       " 'Lithological Accessories 2',\n",
       " 'Lithological accessories comment',\n",
       " 'Lithological asseccories',\n",
       " 'Lithological unit number',\n",
       " 'Lithology',\n",
       " 'Lithology  abundance [%]',\n",
       " 'Lithology (%)',\n",
       " 'Lithology (5)',\n",
       " 'Lithology 1 prefix',\n",
       " 'Lithology 1 principal name',\n",
       " 'Lithology 1 suffix',\n",
       " 'Lithology 2 prefix',\n",
       " 'Lithology 2 principal name',\n",
       " 'Lithology 2 suffix',\n",
       " 'Lithology PREFIX',\n",
       " 'Lithology Prefix',\n",
       " 'Lithology Principal name',\n",
       " 'Lithology SUFFIX',\n",
       " 'Lithology Suffix',\n",
       " 'Lithology [%]',\n",
       " 'Lithology ave. grain size class',\n",
       " 'Lithology ave. grain size rank [read only]',\n",
       " 'Lithology avg. grain size ',\n",
       " 'Lithology avg. grain size rank',\n",
       " 'Lithology classification',\n",
       " 'Lithology color',\n",
       " 'Lithology color (Munsell)',\n",
       " 'Lithology color (simple)',\n",
       " 'Lithology comment',\n",
       " 'Lithology comments',\n",
       " 'Lithology lithification',\n",
       " 'Lithology max. grain size class',\n",
       " 'Lithology max. grain size rank [read only]',\n",
       " 'Lithology name',\n",
       " 'Lithology name+suffix',\n",
       " 'Lithology name+suffix [read only]',\n",
       " 'Lithology prefix',\n",
       " 'Lithology prefix + name',\n",
       " 'Lithology prefix+name [read only]',\n",
       " 'Lithology prefix+name+suffix [read only]',\n",
       " 'Lithology principal name',\n",
       " 'Lithology suffix',\n",
       " 'MAJ Lith abundance (%)',\n",
       " 'MAJ Lith. Abundance (%)',\n",
       " 'MAJ Lith. Ave. grain size',\n",
       " 'MAJ Lith. Ave. gran size',\n",
       " 'MAJ Lith. Max. grain size',\n",
       " 'MAJ Lith. Max. grain size rank',\n",
       " 'MAJ Lith. Prefix',\n",
       " 'MAJ Lith. Prefix abundance Plot [%]',\n",
       " 'MAJ Lith. Principal name',\n",
       " 'MAJ Lith. Principal name abundance Plot [%]',\n",
       " 'MAJ Lith. Suffix',\n",
       " 'MAJ Lith. abundance [%]',\n",
       " 'MAJ Lith. ave. grain size ',\n",
       " 'MAJ Lith. ave. grain size rank',\n",
       " 'MAJ Lith. ave. grain size rank [read only]',\n",
       " 'MAJ Lith. color',\n",
       " 'MAJ Lith. max. grain size',\n",
       " 'MAJ Lith. max. grain size rank',\n",
       " 'MAJ Lith. max. grain size rank [read only]',\n",
       " 'MAJ Lith. name+suffix',\n",
       " 'MAJ Lith. prefix',\n",
       " 'MAJ Lith. prefix + name',\n",
       " 'MAJ Lith. prefix abundance plot [%]',\n",
       " 'MAJ Lith. prefix+name [read only]',\n",
       " 'MAJ Lith. prefix+name+suffix',\n",
       " 'MAJ Lith. prefix+name+suffix [read only]',\n",
       " 'MAJ Lith. principal name',\n",
       " 'MAJ Lith. principal name abundance plot [%]',\n",
       " 'MAJ Lith. suffix',\n",
       " 'MAJ Lithology ABC',\n",
       " 'MAJ Lithology abundance (%)',\n",
       " 'MAJ Lithology color',\n",
       " 'MAJ Lithology prefix A',\n",
       " 'MAJ Lithology suffix C',\n",
       " 'MAJ Principal lithology B',\n",
       " 'MAJ lith ave. grain size',\n",
       " 'MAJ lith color (simple)',\n",
       " 'MAJ lith. Abundance (%)',\n",
       " 'MAJ lith. Ave. grain size',\n",
       " 'MAJ lithology comment',\n",
       " 'MAJ. Lith. Abundance (%)',\n",
       " 'MIN Lith. Prefix',\n",
       " 'MIN Lith. Principal name',\n",
       " 'MIN Lith. Suffix',\n",
       " 'MIN Lith. abundance [%]',\n",
       " 'MIN Lith. ave. grain size ',\n",
       " 'MIN Lith. ave. grain size rank',\n",
       " 'MIN Lith. color',\n",
       " 'MIN Lith. max. grain size ',\n",
       " 'MIN Lith. max. grain size rank',\n",
       " 'MIN Lith. name+suffix',\n",
       " 'MIN Lith. prefix',\n",
       " 'MIN Lith. prefix + name',\n",
       " 'MIN Lith. prefix+name+suffix',\n",
       " 'MIN Lith. principal name',\n",
       " 'MIN Lith. suffix',\n",
       " 'MIN lith color (simple)',\n",
       " 'MIN lithology comment',\n",
       " 'Maj Lith. Abundance (%)',\n",
       " 'Matrix 7 -other lithology [%]',\n",
       " 'PRINCIPAL Lithology',\n",
       " 'PRINCIPALLITHOLOGY',\n",
       " 'Principal  lithology',\n",
       " 'Principal Lithology',\n",
       " 'Principal lithology',\n",
       " 'Principal lithology name',\n",
       " 'PrincipalLithology Name',\n",
       " 'Rock fragment - metamorphic lithic ',\n",
       " 'Rock fragment - plutonic lithic ',\n",
       " 'Rock fragment - sedimentary lithic ',\n",
       " 'Rock fragment - volcanic lithic ',\n",
       " 'Total LITH abundance [%]',\n",
       " 'Total clasts calculated LITH 1 [%]',\n",
       " 'Total matrix calculated LITH 1 [%]',\n",
       " 'lithology classification',\n",
       " 'lithology_classification'}"
      ]
     },
     "execution_count": 10,
     "metadata": {},
     "output_type": "execute_result"
    }
   ],
   "source": [
    "lith_all"
   ]
  },
  {
   "cell_type": "code",
   "execution_count": 11,
   "metadata": {},
   "outputs": [
    {
     "data": {
      "text/plain": [
       "{'Major  prefix modifier before principal',\n",
       " 'Major ModifierPrefixModifier Before Principal',\n",
       " 'Major modifier before principal',\n",
       " 'Major prefix modifier before principal',\n",
       " 'Matrix modifier',\n",
       " 'Minor ModifierSuffixModifier After Principal',\n",
       " 'Minor modifier after principal',\n",
       " 'Minor suffix modifier after principal'}"
      ]
     },
     "execution_count": 11,
     "metadata": {},
     "output_type": "execute_result"
    }
   ],
   "source": [
    "modifier_all"
   ]
  },
  {
   "cell_type": "code",
   "execution_count": 12,
   "metadata": {},
   "outputs": [
    {
     "data": {
      "text/plain": [
       "{'LITH 1 prefix+name [read only]',\n",
       " 'LITH 1 prefix+name+suffix [read only]',\n",
       " 'LITH 2 prefix+name [read only]',\n",
       " 'LITH 2 prefix+name+suffix [read only]',\n",
       " 'Lith. prefix+name+suffix',\n",
       " 'Lithology 1 prefix',\n",
       " 'Lithology 2 prefix',\n",
       " 'Lithology PREFIX',\n",
       " 'Lithology Prefix',\n",
       " 'Lithology prefix',\n",
       " 'Lithology prefix + name',\n",
       " 'Lithology prefix+name [read only]',\n",
       " 'Lithology prefix+name+suffix [read only]',\n",
       " 'MAJ Lith. Prefix',\n",
       " 'MAJ Lith. Prefix abundance Plot [%]',\n",
       " 'MAJ Lith. prefix',\n",
       " 'MAJ Lith. prefix + name',\n",
       " 'MAJ Lith. prefix abundance plot [%]',\n",
       " 'MAJ Lith. prefix+name [read only]',\n",
       " 'MAJ Lith. prefix+name+suffix',\n",
       " 'MAJ Lith. prefix+name+suffix [read only]',\n",
       " 'MAJ Lithology prefix A',\n",
       " 'MIN Lith. Prefix',\n",
       " 'MIN Lith. prefix',\n",
       " 'MIN Lith. prefix + name',\n",
       " 'MIN Lith. prefix+name+suffix',\n",
       " 'Major  prefix modifier before principal',\n",
       " 'Major ModifierPrefixModifier Before Principal',\n",
       " 'Major modifier before principal',\n",
       " 'Major prefix modifier before principal',\n",
       " 'PREFIX',\n",
       " 'Prefix'}"
      ]
     },
     "execution_count": 12,
     "metadata": {},
     "output_type": "execute_result"
    }
   ],
   "source": [
    "prefix_all"
   ]
  },
  {
   "cell_type": "code",
   "execution_count": 13,
   "metadata": {},
   "outputs": [
    {
     "data": {
      "text/plain": [
       "{'Lithology 1 prefix',\n",
       " 'Lithology PREFIX',\n",
       " 'Lithology Prefix',\n",
       " 'Lithology prefix',\n",
       " 'MAJ Lith. Prefix',\n",
       " 'MAJ Lith. prefix',\n",
       " 'MAJ Lithology prefix A',\n",
       " 'Major  prefix modifier before principal',\n",
       " 'Major ModifierPrefixModifier Before Principal',\n",
       " 'Major modifier before principal',\n",
       " 'Major prefix modifier before principal',\n",
       " 'PREFIX',\n",
       " 'Prefix'}"
      ]
     },
     "execution_count": 13,
     "metadata": {},
     "output_type": "execute_result"
    }
   ],
   "source": [
    "prefix"
   ]
  },
  {
   "cell_type": "code",
   "execution_count": 14,
   "metadata": {},
   "outputs": [
    {
     "data": {
      "text/plain": [
       "{'LITH 1 prefix+name+suffix [read only]',\n",
       " 'LITH 2 prefix+name+suffix [read only]',\n",
       " 'Lith. prefix+name+suffix',\n",
       " 'Lithology 1 suffix',\n",
       " 'Lithology 2 suffix',\n",
       " 'Lithology SUFFIX',\n",
       " 'Lithology Suffix',\n",
       " 'Lithology name+suffix',\n",
       " 'Lithology name+suffix [read only]',\n",
       " 'Lithology prefix+name+suffix [read only]',\n",
       " 'Lithology suffix',\n",
       " 'MAJ Lith. Suffix',\n",
       " 'MAJ Lith. name+suffix',\n",
       " 'MAJ Lith. prefix+name+suffix',\n",
       " 'MAJ Lith. prefix+name+suffix [read only]',\n",
       " 'MAJ Lith. suffix',\n",
       " 'MAJ Lithology suffix C',\n",
       " 'MIN Lith. Suffix',\n",
       " 'MIN Lith. name+suffix',\n",
       " 'MIN Lith. prefix+name+suffix',\n",
       " 'MIN Lith. suffix',\n",
       " 'Minor ModifierSuffixModifier After Principal',\n",
       " 'Minor modifier after principal',\n",
       " 'Minor suffix modifier after principal',\n",
       " 'SUFFIX',\n",
       " 'Suffix'}"
      ]
     },
     "execution_count": 14,
     "metadata": {},
     "output_type": "execute_result"
    }
   ],
   "source": [
    "suffix_all"
   ]
  },
  {
   "cell_type": "code",
   "execution_count": 15,
   "metadata": {},
   "outputs": [
    {
     "data": {
      "text/plain": [
       "{'Lithology 1 suffix',\n",
       " 'Lithology SUFFIX',\n",
       " 'Lithology Suffix',\n",
       " 'Lithology suffix',\n",
       " 'MAJ Lith. Suffix',\n",
       " 'MAJ Lith. suffix',\n",
       " 'MAJ Lithology suffix C',\n",
       " 'SUFFIX',\n",
       " 'Suffix'}"
      ]
     },
     "execution_count": 15,
     "metadata": {},
     "output_type": "execute_result"
    }
   ],
   "source": [
    "suffix "
   ]
  },
  {
   "cell_type": "code",
   "execution_count": 16,
   "metadata": {},
   "outputs": [
    {
     "data": {
      "text/plain": [
       "{'LITHOLOGY',\n",
       " 'Lithology',\n",
       " 'Lithology 1 principal name',\n",
       " 'Lithology 2 principal name',\n",
       " 'Lithology Principal name',\n",
       " 'Lithology principal name',\n",
       " 'MAJ Lith. Principal name',\n",
       " 'MAJ Lith. Principal name abundance Plot [%]',\n",
       " 'MAJ Lith. principal name',\n",
       " 'MAJ Lith. principal name abundance plot [%]',\n",
       " 'MAJ Principal lithology B',\n",
       " 'MIN Lith. Principal name',\n",
       " 'MIN Lith. principal name',\n",
       " 'Major  prefix modifier before principal',\n",
       " 'Major ModifierPrefixModifier Before Principal',\n",
       " 'Major modifier before principal',\n",
       " 'Major prefix modifier before principal',\n",
       " 'Minor ModifierSuffixModifier After Principal',\n",
       " 'Minor modifier after principal',\n",
       " 'Minor suffix modifier after principal',\n",
       " 'PRINCIPAL Lithology',\n",
       " 'PRINCIPALLITHOLOGY',\n",
       " 'Principal  lithology',\n",
       " 'Principal Lithology',\n",
       " 'Principal lithology',\n",
       " 'Principal lithology name',\n",
       " 'PrincipalLithology Name'}"
      ]
     },
     "execution_count": 16,
     "metadata": {},
     "output_type": "execute_result"
    }
   ],
   "source": [
    "principal_all"
   ]
  },
  {
   "cell_type": "code",
   "execution_count": 17,
   "metadata": {},
   "outputs": [
    {
     "data": {
      "text/plain": [
       "{'LITHOLOGY',\n",
       " 'Lithology',\n",
       " 'Lithology 1 principal name',\n",
       " 'Lithology Principal name',\n",
       " 'Lithology principal name',\n",
       " 'MAJ Lith. Principal name',\n",
       " 'MAJ Lith. principal name',\n",
       " 'MAJ Principal lithology B',\n",
       " 'PRINCIPAL Lithology',\n",
       " 'PRINCIPALLITHOLOGY',\n",
       " 'Principal  lithology',\n",
       " 'Principal Lithology',\n",
       " 'Principal lithology',\n",
       " 'Principal lithology name',\n",
       " 'PrincipalLithology Name'}"
      ]
     },
     "execution_count": 17,
     "metadata": {},
     "output_type": "execute_result"
    }
   ],
   "source": [
    "principal"
   ]
  },
  {
   "cell_type": "code",
   "execution_count": 18,
   "metadata": {},
   "outputs": [
    {
     "data": {
      "text/plain": [
       "{'Lithology 2 prefix',\n",
       " 'Lithology 2 principal name',\n",
       " 'Lithology 2 suffix',\n",
       " 'MIN Lith. Prefix',\n",
       " 'MIN Lith. Principal name',\n",
       " 'MIN Lith. Suffix',\n",
       " 'MIN Lith. abundance [%]',\n",
       " 'MIN Lith. ave. grain size ',\n",
       " 'MIN Lith. ave. grain size rank',\n",
       " 'MIN Lith. color',\n",
       " 'MIN Lith. max. grain size ',\n",
       " 'MIN Lith. max. grain size rank',\n",
       " 'MIN Lith. name+suffix',\n",
       " 'MIN Lith. prefix',\n",
       " 'MIN Lith. prefix + name',\n",
       " 'MIN Lith. prefix+name+suffix',\n",
       " 'MIN Lith. principal name',\n",
       " 'MIN Lith. suffix',\n",
       " 'MIN lith color (simple)',\n",
       " 'MIN lithology comment',\n",
       " 'Minor ModifierSuffixModifier After Principal',\n",
       " 'Minor modifier after principal',\n",
       " 'Minor suffix modifier after principal'}"
      ]
     },
     "execution_count": 18,
     "metadata": {},
     "output_type": "execute_result"
    }
   ],
   "source": [
    "minor_all"
   ]
  },
  {
   "cell_type": "code",
   "execution_count": 19,
   "metadata": {},
   "outputs": [
    {
     "data": {
      "text/plain": [
       "{'Lithology 2 prefix',\n",
       " 'Lithology 2 principal name',\n",
       " 'Lithology 2 suffix',\n",
       " 'MIN Lith. Prefix',\n",
       " 'MIN Lith. Principal name',\n",
       " 'MIN Lith. Suffix',\n",
       " 'MIN Lith. ave. grain size ',\n",
       " 'MIN Lith. ave. grain size rank',\n",
       " 'MIN Lith. color',\n",
       " 'MIN Lith. max. grain size ',\n",
       " 'MIN Lith. max. grain size rank',\n",
       " 'MIN Lith. prefix',\n",
       " 'MIN Lith. principal name',\n",
       " 'MIN Lith. suffix',\n",
       " 'MIN lith color (simple)',\n",
       " 'MIN lithology comment',\n",
       " 'Minor ModifierSuffixModifier After Principal',\n",
       " 'Minor modifier after principal',\n",
       " 'Minor suffix modifier after principal'}"
      ]
     },
     "execution_count": 19,
     "metadata": {},
     "output_type": "execute_result"
    }
   ],
   "source": [
    "minor"
   ]
  },
  {
   "cell_type": "code",
   "execution_count": 20,
   "metadata": {},
   "outputs": [
    {
     "data": {
      "text/plain": [
       "{'Lithology 2 prefix', 'MIN Lith. Prefix', 'MIN Lith. prefix'}"
      ]
     },
     "execution_count": 20,
     "metadata": {},
     "output_type": "execute_result"
    }
   ],
   "source": [
    "minor_prefix"
   ]
  },
  {
   "cell_type": "code",
   "execution_count": 21,
   "metadata": {},
   "outputs": [
    {
     "data": {
      "text/plain": [
       "{'Lithology 2 principal name',\n",
       " 'MIN Lith. Principal name',\n",
       " 'MIN Lith. principal name'}"
      ]
     },
     "execution_count": 21,
     "metadata": {},
     "output_type": "execute_result"
    }
   ],
   "source": [
    "minor_principal"
   ]
  },
  {
   "cell_type": "code",
   "execution_count": 22,
   "metadata": {},
   "outputs": [
    {
     "data": {
      "text/plain": [
       "{'Lithology 2 suffix',\n",
       " 'MIN Lith. Suffix',\n",
       " 'MIN Lith. suffix',\n",
       " 'Minor ModifierSuffixModifier After Principal',\n",
       " 'Minor modifier after principal',\n",
       " 'Minor suffix modifier after principal'}"
      ]
     },
     "execution_count": 22,
     "metadata": {},
     "output_type": "execute_result"
    }
   ],
   "source": [
    "minor_suffix"
   ]
  },
  {
   "cell_type": "code",
   "execution_count": 41,
   "metadata": {},
   "outputs": [
    {
     "data": {
      "text/plain": [
       "{'COLOR',\n",
       " 'Clast color',\n",
       " 'Color',\n",
       " 'Color (name)',\n",
       " 'Color code',\n",
       " 'Color(name)',\n",
       " 'LITH 1 color',\n",
       " 'LITH 2 color',\n",
       " 'Lithology color',\n",
       " 'Lithology color (Munsell)',\n",
       " 'Lithology color (simple)',\n",
       " 'MAJ Lith. color',\n",
       " 'MAJ Lithology color',\n",
       " 'MAJ lith color (simple)',\n",
       " 'MIN Lith. color',\n",
       " 'MIN lith color (simple)'}"
      ]
     },
     "execution_count": 41,
     "metadata": {},
     "output_type": "execute_result"
    }
   ],
   "source": [
    "color_all"
   ]
  },
  {
   "cell_type": "markdown",
   "metadata": {},
   "source": [
    "### Normalize Lithology columns"
   ]
  },
  {
   "cell_type": "code",
   "execution_count": 29,
   "metadata": {},
   "outputs": [],
   "source": [
    "metadata = pd.read_csv(metadata_file)"
   ]
  },
  {
   "cell_type": "code",
   "execution_count": 30,
   "metadata": {},
   "outputs": [],
   "source": [
    "def normalize_top_bottom(file):\n",
    "    path = f\"{clean_data_path}/{file}\"\n",
    "    content = pd.read_csv(path, dtype=str)\n",
    "    columns = list(content.columns)\n",
    "    \n",
    "    normalized_cols = normalize_columns(prefix, 'Lithology Prefix', columns)\n",
    "    normalized_cols = normalize_columns(principal, 'Lithology Principal Name', normalized_cols)\n",
    "    normalized_cols = normalize_columns(suffix, 'Lithology Suffix', normalized_cols)\n",
    "\n",
    "    normalized_cols = normalize_columns(minor_prefix, 'Minor Lithology Prefix', normalized_cols)\n",
    "    normalized_cols = normalize_columns(minor_principal, 'Minor Lithology Name', normalized_cols)\n",
    "    normalized_cols = normalize_columns(minor_suffix, 'Minor Lithology Suffix', normalized_cols)\n",
    "\n",
    "    changed = columns != normalized_cols\n",
    "    \n",
    "    if changed:\n",
    "        content.columns = normalized_cols\n",
    "        content = csv_cleanup(content, path)\n",
    "        content.to_csv(path, index=False)\n",
    "\n",
    "    return changed\n",
    "\n",
    "change_columns = [normalize_top_bottom(file) for file in metadata['file']] "
   ]
  },
  {
   "cell_type": "markdown",
   "metadata": {},
   "source": [
    "### Update metadata"
   ]
  },
  {
   "cell_type": "code",
   "execution_count": 31,
   "metadata": {},
   "outputs": [
    {
     "data": {
      "text/html": [
       "<div>\n",
       "<style scoped>\n",
       "    .dataframe tbody tr th:only-of-type {\n",
       "        vertical-align: middle;\n",
       "    }\n",
       "\n",
       "    .dataframe tbody tr th {\n",
       "        vertical-align: top;\n",
       "    }\n",
       "\n",
       "    .dataframe thead th {\n",
       "        text-align: right;\n",
       "    }\n",
       "</style>\n",
       "<table border=\"1\" class=\"dataframe\">\n",
       "  <thead>\n",
       "    <tr style=\"text-align: right;\">\n",
       "      <th></th>\n",
       "      <th>file</th>\n",
       "      <th>path</th>\n",
       "      <th>empty_rows_columns</th>\n",
       "      <th>remove_identical_rows</th>\n",
       "      <th>add_expedition_section_cols</th>\n",
       "      <th>update_sample_col</th>\n",
       "      <th>update_top_bottom</th>\n",
       "      <th>add_missing_cols</th>\n",
       "      <th>update_lithology</th>\n",
       "    </tr>\n",
       "  </thead>\n",
       "  <tbody>\n",
       "    <tr>\n",
       "      <th>0</th>\n",
       "      <td>361_macroscopic_U1474D.csv</td>\n",
       "      <td>Lithology_CSV/361_macroscopic_U1474D.csv</td>\n",
       "      <td>False</td>\n",
       "      <td>False</td>\n",
       "      <td>False</td>\n",
       "      <td>True</td>\n",
       "      <td>False</td>\n",
       "      <td>True</td>\n",
       "      <td>True</td>\n",
       "    </tr>\n",
       "    <tr>\n",
       "      <th>1</th>\n",
       "      <td>323 Core Description Template_U1341A.csv</td>\n",
       "      <td>Lithology_CSV/323 Core Description Template_U1...</td>\n",
       "      <td>False</td>\n",
       "      <td>False</td>\n",
       "      <td>False</td>\n",
       "      <td>False</td>\n",
       "      <td>False</td>\n",
       "      <td>True</td>\n",
       "      <td>True</td>\n",
       "    </tr>\n",
       "    <tr>\n",
       "      <th>2</th>\n",
       "      <td>361_macroscopic_U1479C.csv</td>\n",
       "      <td>Lithology_CSV/361_macroscopic_U1479C.csv</td>\n",
       "      <td>False</td>\n",
       "      <td>False</td>\n",
       "      <td>False</td>\n",
       "      <td>True</td>\n",
       "      <td>False</td>\n",
       "      <td>True</td>\n",
       "      <td>True</td>\n",
       "    </tr>\n",
       "    <tr>\n",
       "      <th>3</th>\n",
       "      <td>340_sediment_U1393A.csv</td>\n",
       "      <td>Lithology_CSV/340_sediment_U1393A.csv</td>\n",
       "      <td>False</td>\n",
       "      <td>False</td>\n",
       "      <td>False</td>\n",
       "      <td>True</td>\n",
       "      <td>False</td>\n",
       "      <td>True</td>\n",
       "      <td>True</td>\n",
       "    </tr>\n",
       "    <tr>\n",
       "      <th>4</th>\n",
       "      <td>339_sediment_U1386A.csv</td>\n",
       "      <td>Lithology_CSV/339_sediment_U1386A.csv</td>\n",
       "      <td>False</td>\n",
       "      <td>False</td>\n",
       "      <td>False</td>\n",
       "      <td>False</td>\n",
       "      <td>False</td>\n",
       "      <td>True</td>\n",
       "      <td>True</td>\n",
       "    </tr>\n",
       "  </tbody>\n",
       "</table>\n",
       "</div>"
      ],
      "text/plain": [
       "                                       file  \\\n",
       "0                361_macroscopic_U1474D.csv   \n",
       "1  323 Core Description Template_U1341A.csv   \n",
       "2                361_macroscopic_U1479C.csv   \n",
       "3                   340_sediment_U1393A.csv   \n",
       "4                   339_sediment_U1386A.csv   \n",
       "\n",
       "                                                path  empty_rows_columns  \\\n",
       "0           Lithology_CSV/361_macroscopic_U1474D.csv               False   \n",
       "1  Lithology_CSV/323 Core Description Template_U1...               False   \n",
       "2           Lithology_CSV/361_macroscopic_U1479C.csv               False   \n",
       "3              Lithology_CSV/340_sediment_U1393A.csv               False   \n",
       "4              Lithology_CSV/339_sediment_U1386A.csv               False   \n",
       "\n",
       "   remove_identical_rows  add_expedition_section_cols  update_sample_col  \\\n",
       "0                  False                        False               True   \n",
       "1                  False                        False              False   \n",
       "2                  False                        False               True   \n",
       "3                  False                        False               True   \n",
       "4                  False                        False              False   \n",
       "\n",
       "   update_top_bottom  add_missing_cols  update_lithology  \n",
       "0              False              True              True  \n",
       "1              False              True              True  \n",
       "2              False              True              True  \n",
       "3              False              True              True  \n",
       "4              False              True              True  "
      ]
     },
     "execution_count": 31,
     "metadata": {},
     "output_type": "execute_result"
    }
   ],
   "source": [
    "dict = {\"update_lithology\": change_columns}\n",
    "new_metadata = update_metadata(metadata, dict)\n",
    "new_metadata.head()"
   ]
  },
  {
   "cell_type": "code",
   "execution_count": 32,
   "metadata": {},
   "outputs": [],
   "source": [
    "new_metadata.to_csv(metadata_file, index=False)"
   ]
  },
  {
   "cell_type": "markdown",
   "metadata": {},
   "source": [
    "## Add missing Lithology columns"
   ]
  },
  {
   "cell_type": "code",
   "execution_count": 33,
   "metadata": {},
   "outputs": [],
   "source": [
    "metadata = pd.read_csv(metadata_file)"
   ]
  },
  {
   "cell_type": "code",
   "execution_count": 34,
   "metadata": {},
   "outputs": [],
   "source": [
    "normalized_columns = [\n",
    "    'Lithology Prefix',\n",
    "    'Lithology Principal Name',\n",
    "    'Lithology Suffix',\n",
    "    'Minor Lithology Prefix',\n",
    "    'Minor Lithology Name',\n",
    "    'Minor Lithology Suffix',\n",
    "]"
   ]
  },
  {
   "cell_type": "code",
   "execution_count": 35,
   "metadata": {},
   "outputs": [],
   "source": [
    "change_columns = [add_missing_columns(f\"{clean_data_path}/{file}\", normalized_columns) for file in metadata['file']] "
   ]
  },
  {
   "cell_type": "code",
   "execution_count": 36,
   "metadata": {},
   "outputs": [
    {
     "data": {
      "text/html": [
       "<div>\n",
       "<style scoped>\n",
       "    .dataframe tbody tr th:only-of-type {\n",
       "        vertical-align: middle;\n",
       "    }\n",
       "\n",
       "    .dataframe tbody tr th {\n",
       "        vertical-align: top;\n",
       "    }\n",
       "\n",
       "    .dataframe thead th {\n",
       "        text-align: right;\n",
       "    }\n",
       "</style>\n",
       "<table border=\"1\" class=\"dataframe\">\n",
       "  <thead>\n",
       "    <tr style=\"text-align: right;\">\n",
       "      <th></th>\n",
       "      <th>file</th>\n",
       "      <th>path</th>\n",
       "      <th>empty_rows_columns</th>\n",
       "      <th>remove_identical_rows</th>\n",
       "      <th>add_expedition_section_cols</th>\n",
       "      <th>update_sample_col</th>\n",
       "      <th>update_top_bottom</th>\n",
       "      <th>add_missing_cols</th>\n",
       "      <th>update_lithology</th>\n",
       "      <th>add_missing_lith_cols</th>\n",
       "    </tr>\n",
       "  </thead>\n",
       "  <tbody>\n",
       "    <tr>\n",
       "      <th>0</th>\n",
       "      <td>361_macroscopic_U1474D.csv</td>\n",
       "      <td>Lithology_CSV/361_macroscopic_U1474D.csv</td>\n",
       "      <td>False</td>\n",
       "      <td>False</td>\n",
       "      <td>False</td>\n",
       "      <td>True</td>\n",
       "      <td>False</td>\n",
       "      <td>True</td>\n",
       "      <td>True</td>\n",
       "      <td>True</td>\n",
       "    </tr>\n",
       "    <tr>\n",
       "      <th>1</th>\n",
       "      <td>323 Core Description Template_U1341A.csv</td>\n",
       "      <td>Lithology_CSV/323 Core Description Template_U1...</td>\n",
       "      <td>False</td>\n",
       "      <td>False</td>\n",
       "      <td>False</td>\n",
       "      <td>False</td>\n",
       "      <td>False</td>\n",
       "      <td>True</td>\n",
       "      <td>True</td>\n",
       "      <td>True</td>\n",
       "    </tr>\n",
       "    <tr>\n",
       "      <th>2</th>\n",
       "      <td>361_macroscopic_U1479C.csv</td>\n",
       "      <td>Lithology_CSV/361_macroscopic_U1479C.csv</td>\n",
       "      <td>False</td>\n",
       "      <td>False</td>\n",
       "      <td>False</td>\n",
       "      <td>True</td>\n",
       "      <td>False</td>\n",
       "      <td>True</td>\n",
       "      <td>True</td>\n",
       "      <td>True</td>\n",
       "    </tr>\n",
       "    <tr>\n",
       "      <th>3</th>\n",
       "      <td>340_sediment_U1393A.csv</td>\n",
       "      <td>Lithology_CSV/340_sediment_U1393A.csv</td>\n",
       "      <td>False</td>\n",
       "      <td>False</td>\n",
       "      <td>False</td>\n",
       "      <td>True</td>\n",
       "      <td>False</td>\n",
       "      <td>True</td>\n",
       "      <td>True</td>\n",
       "      <td>True</td>\n",
       "    </tr>\n",
       "    <tr>\n",
       "      <th>4</th>\n",
       "      <td>339_sediment_U1386A.csv</td>\n",
       "      <td>Lithology_CSV/339_sediment_U1386A.csv</td>\n",
       "      <td>False</td>\n",
       "      <td>False</td>\n",
       "      <td>False</td>\n",
       "      <td>False</td>\n",
       "      <td>False</td>\n",
       "      <td>True</td>\n",
       "      <td>True</td>\n",
       "      <td>False</td>\n",
       "    </tr>\n",
       "  </tbody>\n",
       "</table>\n",
       "</div>"
      ],
      "text/plain": [
       "                                       file  \\\n",
       "0                361_macroscopic_U1474D.csv   \n",
       "1  323 Core Description Template_U1341A.csv   \n",
       "2                361_macroscopic_U1479C.csv   \n",
       "3                   340_sediment_U1393A.csv   \n",
       "4                   339_sediment_U1386A.csv   \n",
       "\n",
       "                                                path  empty_rows_columns  \\\n",
       "0           Lithology_CSV/361_macroscopic_U1474D.csv               False   \n",
       "1  Lithology_CSV/323 Core Description Template_U1...               False   \n",
       "2           Lithology_CSV/361_macroscopic_U1479C.csv               False   \n",
       "3              Lithology_CSV/340_sediment_U1393A.csv               False   \n",
       "4              Lithology_CSV/339_sediment_U1386A.csv               False   \n",
       "\n",
       "   remove_identical_rows  add_expedition_section_cols  update_sample_col  \\\n",
       "0                  False                        False               True   \n",
       "1                  False                        False              False   \n",
       "2                  False                        False               True   \n",
       "3                  False                        False               True   \n",
       "4                  False                        False              False   \n",
       "\n",
       "   update_top_bottom  add_missing_cols  update_lithology  \\\n",
       "0              False              True              True   \n",
       "1              False              True              True   \n",
       "2              False              True              True   \n",
       "3              False              True              True   \n",
       "4              False              True              True   \n",
       "\n",
       "   add_missing_lith_cols  \n",
       "0                   True  \n",
       "1                   True  \n",
       "2                   True  \n",
       "3                   True  \n",
       "4                  False  "
      ]
     },
     "execution_count": 36,
     "metadata": {},
     "output_type": "execute_result"
    }
   ],
   "source": [
    "dict = {\"add_missing_lith_cols\": change_columns}\n",
    "new_metadata = update_metadata(metadata, dict)\n",
    "new_metadata.head()"
   ]
  },
  {
   "cell_type": "code",
   "execution_count": 37,
   "metadata": {},
   "outputs": [],
   "source": [
    "new_metadata.to_csv(metadata_file, index=False)"
   ]
  },
  {
   "cell_type": "code",
   "execution_count": null,
   "metadata": {},
   "outputs": [],
   "source": []
  }
 ],
 "metadata": {
  "kernelspec": {
   "display_name": "Python 3",
   "language": "python",
   "name": "python3"
  },
  "language_info": {
   "codemirror_mode": {
    "name": "ipython",
    "version": 3
   },
   "file_extension": ".py",
   "mimetype": "text/x-python",
   "name": "python",
   "nbconvert_exporter": "python",
   "pygments_lexer": "ipython3",
   "version": "3.6.8"
  }
 },
 "nbformat": 4,
 "nbformat_minor": 4
}
