{
 "cells": [
  {
   "cell_type": "markdown",
   "metadata": {},
   "source": [
    "# QA ODP files\n",
    "\n",
    "expeditions 101 - 210; range_tables for paleo fossils, age_models; https://www.ngdc.noaa.gov/mgg/geology/data/joides_resolution/odp_all_paleontology.tar.gz"
   ]
  },
  {
   "cell_type": "code",
   "execution_count": 1,
   "metadata": {},
   "outputs": [],
   "source": [
    "import sys\n",
    "import os \n",
    "\n",
    "sys.path.append('../scripts/')\n",
    "import glob\n",
    "\n",
    "\n",
    "import pandas as pd\n",
    "import chardet\n",
    "import space_delim as sd\n",
    "import normalize_noaa_files as nf\n",
    "\n",
    "from normalize_noaa_files import (\n",
    "    unique_filenames_for_paths,\n",
    "    unique_columns_for_paths,\n",
    "    qa_files_for_paths,\n",
    ")"
   ]
  },
  {
   "cell_type": "code",
   "execution_count": 2,
   "metadata": {},
   "outputs": [],
   "source": [
    "base_directory = 'cleaned_data'\n",
    "base_data_path = os.path.join(base_directory, 'odp_all_paleontology', 'range_tables')"
   ]
  },
  {
   "cell_type": "code",
   "execution_count": 3,
   "metadata": {},
   "outputs": [
    {
     "name": "stdout",
     "output_type": "stream",
     "text": [
      "files 2045\n"
     ]
    }
   ],
   "source": [
    "csv_paths = glob.glob(os.path.join(base_data_path,'**' ,'*.txt'), recursive=True)\n",
    "print('files', len(csv_paths))"
   ]
  },
  {
   "cell_type": "markdown",
   "metadata": {},
   "source": [
    "## unique file names"
   ]
  },
  {
   "cell_type": "code",
   "execution_count": 4,
   "metadata": {},
   "outputs": [
    {
     "data": {
      "text/plain": [
       "{'Benthic Foraminifers.txt',\n",
       " 'Benthic_Foraminifers.txt',\n",
       " 'Bolboforms.txt',\n",
       " 'Diatoms.txt',\n",
       " 'Dinoflagellates_Acritarch_Prasinophytes.txt',\n",
       " 'Dinoflagellates_Acritarchs_Prasinophytes.txt',\n",
       " 'Macrofossils.txt',\n",
       " 'Miscellaneous.txt',\n",
       " 'Nannofossils .txt',\n",
       " 'Nannofossils.txt',\n",
       " 'Ostracodes.txt',\n",
       " 'Planktonic Foraminifers.txt',\n",
       " 'Planktonic_Foraminifers .txt',\n",
       " 'Planktonic_Foraminifers.txt',\n",
       " 'Pollen_Spores.txt',\n",
       " 'Pteropods.txt',\n",
       " 'Radiolarians.txt',\n",
       " 'Silicoflagellates_Ebridians_Actiniscidians.txt',\n",
       " 'Sponge_Spicules.txt',\n",
       " 'Trace_Fossils.txt'}"
      ]
     },
     "execution_count": 4,
     "metadata": {},
     "output_type": "execute_result"
    }
   ],
   "source": [
    "unique_filenames_for_paths(csv_paths)"
   ]
  },
  {
   "cell_type": "markdown",
   "metadata": {},
   "source": [
    "## column names"
   ]
  },
  {
   "cell_type": "code",
   "execution_count": 5,
   "metadata": {},
   "outputs": [
    {
     "data": {
      "text/plain": [
       "12975"
      ]
     },
     "execution_count": 5,
     "metadata": {},
     "output_type": "execute_result"
    }
   ],
   "source": [
    "taxa_columns = unique_columns_for_paths(csv_paths, sep=\"\\t\")\n",
    "len(taxa_columns)"
   ]
  },
  {
   "cell_type": "markdown",
   "metadata": {},
   "source": [
    "## QA ODP paleo files\n",
    "\n",
    "count the number of good files vs files that need to be fixed"
   ]
  },
  {
   "cell_type": "code",
   "execution_count": 6,
   "metadata": {},
   "outputs": [],
   "source": [
    "expected_fields = {\n",
    "    'Data',\n",
    "    'Age From (oldest)',\n",
    "    'Age To (youngest)',\n",
    "    'Zone From (bottom)',\n",
    "    'Zone To  (top)',\n",
    "    'Leg',\n",
    "    'Site',\n",
    "    'H',\n",
    "    'Cor',\n",
    "    'T',\n",
    "    'Sc',\n",
    "    'Top(cm)',\n",
    "    'Depth (mbsf)',\n",
    "    'Scientist',\n",
    "#     'Fossil Group',\n",
    "    'Comment', \n",
    "    'Group Abundance',\n",
    "    'Group Preservation'\n",
    "}\n",
    "\n",
    "results = nf.qa_files_for_paths(csv_paths, expected_fields, sep='\\t')"
   ]
  },
  {
   "cell_type": "code",
   "execution_count": 7,
   "metadata": {},
   "outputs": [
    {
     "name": "stdout",
     "output_type": "stream",
     "text": [
      "bad_tabs 0\n",
      "bad_encoding 0\n",
      "space_delim 0\n",
      "missing_fields 0\n",
      "good_files 2045\n"
     ]
    }
   ],
   "source": [
    "print('bad_tabs', len(results['bad_tabs']))\n",
    "print('bad_encoding', len(results['bad_encoding']))\n",
    "print('space_delim', len(results['space_delim']))\n",
    "print('missing_fields', len(results['missing_fields']))\n",
    "print('good_files', len(results['good_files']))"
   ]
  },
  {
   "cell_type": "code",
   "execution_count": 8,
   "metadata": {},
   "outputs": [
    {
     "data": {
      "text/plain": [
       "[]"
      ]
     },
     "execution_count": 8,
     "metadata": {},
     "output_type": "execute_result"
    }
   ],
   "source": [
    "results['missing_fields']"
   ]
  },
  {
   "cell_type": "markdown",
   "metadata": {},
   "source": [
    "## process latin_encoding\n",
    "handle files with encoding that isn't utf-8"
   ]
  },
  {
   "cell_type": "code",
   "execution_count": 9,
   "metadata": {},
   "outputs": [],
   "source": [
    "for file in results['bad_encoding']:\n",
    "    print(file)"
   ]
  },
  {
   "cell_type": "markdown",
   "metadata": {},
   "source": [
    "convert file to utf-8 encoding\n",
    "https://codereview.stackexchange.com/a/202985"
   ]
  },
  {
   "cell_type": "code",
   "execution_count": 10,
   "metadata": {},
   "outputs": [],
   "source": [
    "for file in results['bad_encoding']:\n",
    "    with open(file, 'rb') as f:\n",
    "        content_bytes = f.read()\n",
    "    detected = chardet.detect(content_bytes)\n",
    "    encoding = detected['encoding']\n",
    "    content_text = content_bytes.decode(encoding)\n",
    "    \n",
    "    with open(file, 'w', encoding='utf-8') as f:\n",
    "        f.write(content_text)\n",
    "        print(file)"
   ]
  },
  {
   "cell_type": "markdown",
   "metadata": {},
   "source": [
    "## process bad_tabs\n",
    "handle files where the hearers and rows have different number of columns"
   ]
  },
  {
   "cell_type": "code",
   "execution_count": 11,
   "metadata": {},
   "outputs": [],
   "source": [
    "for file in results['bad_tabs']:\n",
    "    print(file)"
   ]
  },
  {
   "cell_type": "markdown",
   "metadata": {},
   "source": [
    "## process space_delim\n",
    "\n",
    "handle files that use random number of spaces to separate the columns"
   ]
  },
  {
   "cell_type": "code",
   "execution_count": 12,
   "metadata": {},
   "outputs": [],
   "source": [
    "for file in results['space_delim']:\n",
    "    file_size = os.path.getsize(file)\n",
    "    print(f'\"{file}\",')"
   ]
  },
  {
   "cell_type": "markdown",
   "metadata": {},
   "source": [
    "https://stackoverflow.com/questions/19759423/convert-a-space-delimited-file-to-comma-separated-values-file-in-python\n"
   ]
  },
  {
   "cell_type": "markdown",
   "metadata": {},
   "source": [
    "## process missing_fields\n",
    "\n",
    "handle files don't have the "
   ]
  },
  {
   "cell_type": "code",
   "execution_count": 13,
   "metadata": {},
   "outputs": [],
   "source": [
    "for file in results['missing_fields']:\n",
    "    print(file)\n",
    "    df = pd.read_csv(file, nrows=1)\n",
    "    print(expected_fields - set(df.columns))"
   ]
  },
  {
   "cell_type": "markdown",
   "metadata": {},
   "source": [
    "## check space_delim files were correctly fixed\n",
    "\n",
    "After converting space delimited files, check the  files for errors. Errors\n",
    "include values that have spaces or columns that have no values."
   ]
  },
  {
   "cell_type": "code",
   "execution_count": 14,
   "metadata": {},
   "outputs": [],
   "source": [
    "files_with_spaces = []\n",
    "fixed_space_delim_files = (\n",
    "    sd.space_delim_files_janus_iodp_1\n",
    "    + sd.space_delim_files_janus_iodp_2\n",
    "    + sd.space_delim_files_janus_iodp_3\n",
    ")\n",
    "\n",
    "skip_fields = {\n",
    "    'Data', 'Age From (oldest)', 'Age To (youngest)', 'Zone From (bottom)', \n",
    "    'Zone To  (top)', 'Leg', 'Site','H', 'Cor', 'T', 'Sc', 'Top(cm)', \n",
    "    'Depth (mbsf)', 'Scientist', 'Comment', 'Fossil Group'\n",
    "}\n",
    "\n",
    "def valid_values(x):\n",
    "    return isinstance(x, str) and ' ' in x\n",
    "\n",
    "for file in fixed_space_delim_files:\n",
    "    filename = os.path.join(base_directory, file)\n",
    "\n",
    "    df = pd.read_csv(filename, dtype=str)\n",
    "    df.dropna(axis=\"columns\", how=\"all\")\n",
    "    \n",
    "    taxa_columns = set(df.columns) - skip_fields\n",
    "    for col in taxa_columns:\n",
    "        # check if there are values with spaces         \n",
    "        if sum(df[col].apply(valid_values)) > 0:\n",
    "            files_with_spaces.append(filename)\n",
    "            print(f'{col}: has space')\n",
    "            print(filename)\n",
    "            print('---')\n",
    "            \n",
    "        # check if column is blank       \n",
    "        if df[col].isnull().values.all():\n",
    "            print(f'{col}: has no values')\n",
    "            print(filename)\n",
    "            print('---')"
   ]
  },
  {
   "cell_type": "markdown",
   "metadata": {},
   "source": [
    "Strip the beginning and ending spaces for every column in a dataframe"
   ]
  },
  {
   "cell_type": "code",
   "execution_count": 26,
   "metadata": {},
   "outputs": [],
   "source": [
    "for file in files_with_spaces:\n",
    "    update = False\n",
    "    filename = os.path.join(base_directory, file)\n",
    "\n",
    "    df = pd.read_csv(filename, dtype=str, sep=\"\\t\")\n",
    "    \n",
    "    for col in df.columns:\n",
    "        if sum(df[col].apply(valid_values)) > 0:\n",
    "            df = df.apply(lambda x: x.str.strip())\n",
    "            update = True\n",
    "        \n",
    "    if update:\n",
    "        df.to_csv(filename, index=False, sep=\"\\t\")"
   ]
  },
  {
   "cell_type": "code",
   "execution_count": null,
   "metadata": {},
   "outputs": [],
   "source": []
  }
 ],
 "metadata": {
  "kernelspec": {
   "display_name": "Python 3",
   "language": "python",
   "name": "python3"
  },
  "language_info": {
   "codemirror_mode": {
    "name": "ipython",
    "version": 3
   },
   "file_extension": ".py",
   "mimetype": "text/x-python",
   "name": "python",
   "nbconvert_exporter": "python",
   "pygments_lexer": "ipython3",
   "version": "3.6.8"
  }
 },
 "nbformat": 4,
 "nbformat_minor": 4
}
