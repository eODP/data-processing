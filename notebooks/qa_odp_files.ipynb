{
 "cells": [
  {
   "cell_type": "markdown",
   "metadata": {},
   "source": [
    "# QA ODP files\n",
    "\n",
    "expeditions 101 - 210; range_tables for paleo fossils, age_models; https://www.ngdc.noaa.gov/mgg/geology/data/joides_resolution/odp_all_paleontology.tar.gz"
   ]
  },
  {
   "cell_type": "code",
   "execution_count": 1,
   "metadata": {},
   "outputs": [],
   "source": [
    "import sys\n",
    "import os \n",
    "\n",
    "sys.path.append('../scripts/')\n",
    "import glob\n",
    "\n",
    "\n",
    "import pandas as pd\n",
    "import chardet"
   ]
  },
  {
   "cell_type": "markdown",
   "metadata": {},
   "source": [
    "## QA ODP paleo files\n",
    "\n",
    "count the number of good files vs files that need to be fixed"
   ]
  },
  {
   "cell_type": "code",
   "execution_count": 2,
   "metadata": {},
   "outputs": [],
   "source": [
    "data_path = 'cleaned_data/odp_all_paleontology/range_tables'\n",
    "raw_csvs = glob.glob(f\"{data_path}/**/*.txt\", recursive=True)"
   ]
  },
  {
   "cell_type": "code",
   "execution_count": 3,
   "metadata": {},
   "outputs": [
    {
     "data": {
      "text/plain": [
       "2045"
      ]
     },
     "execution_count": 3,
     "metadata": {},
     "output_type": "execute_result"
    }
   ],
   "source": [
    "len(raw_csvs)"
   ]
  },
  {
   "cell_type": "code",
   "execution_count": 4,
   "metadata": {},
   "outputs": [],
   "source": [
    "bad_encoding = [] # does not use utf-8 encoding\n",
    "bad_tabs = [] # rows have different number of columns than headers\n",
    "space_delim = [] # uses spaces as delimiter\n",
    "missing_fields = [] # does not have all the fields\n",
    "good_files = []\n",
    "\n",
    "fields = {\n",
    "    'Age From (oldest)', 'Age To (youngest)', 'Zone From (bottom)', 'Zone To  (top)',\n",
    "    'Leg', 'Site','H', 'Cor', 'T', 'Sc', 'Top(cm)', 'Depth (mbsf)',  \n",
    "    'Group Abundance', 'Group Preservation'\n",
    "}\n",
    "\n",
    "\n",
    "for file in raw_csvs:\n",
    "    try:\n",
    "        df = pd.read_csv(file, delimiter=\"\\t\")\n",
    "    except UnicodeDecodeError:\n",
    "        bad_encoding.append(file)\n",
    "        continue\n",
    "    except pd.errors.ParserError:\n",
    "\n",
    "        bad_tabs.append(file)\n",
    "        continue\n",
    "    \n",
    "    \n",
    "    if fields.issubset(df.columns):\n",
    "        good_files.append(file)\n",
    "    elif len(df.columns) == 1:\n",
    "        space_delim.append(file)\n",
    "    else:\n",
    "        missing_fields.append(file)"
   ]
  },
  {
   "cell_type": "code",
   "execution_count": 5,
   "metadata": {},
   "outputs": [
    {
     "name": "stdout",
     "output_type": "stream",
     "text": [
      "bad_tabs 9\n",
      "bad_encoding 6\n",
      "space_delim 61\n",
      "missing_fields 0\n",
      "good_files 1969\n"
     ]
    }
   ],
   "source": [
    "print('bad_tabs', len(bad_tabs))\n",
    "print('bad_encoding', len(bad_encoding))\n",
    "print('space_delim', len(space_delim))\n",
    "print('missing_fields', len(missing_fields))\n",
    "print('good_files', len(good_files))"
   ]
  },
  {
   "cell_type": "markdown",
   "metadata": {},
   "source": [
    "## process latin_encoding\n",
    "handle files with encoding that isn't utf-8"
   ]
  },
  {
   "cell_type": "code",
   "execution_count": 6,
   "metadata": {},
   "outputs": [
    {
     "name": "stdout",
     "output_type": "stream",
     "text": [
      "cleaned_data/odp_all_paleontology/range_tables/114/700/HOLE_B/Planktonic_Foraminifers.txt\n",
      "cleaned_data/odp_all_paleontology/range_tables/114/702/HOLE_B/Planktonic_Foraminifers.txt\n",
      "cleaned_data/odp_all_paleontology/range_tables/114/702/HOLE_A/Planktonic_Foraminifers.txt\n",
      "cleaned_data/odp_all_paleontology/range_tables/114/699/HOLE_A/Planktonic_Foraminifers.txt\n",
      "cleaned_data/odp_all_paleontology/range_tables/114/698/HOLE_A/Planktonic_Foraminifers.txt\n",
      "cleaned_data/odp_all_paleontology/range_tables/149/898/HOLE_A/Dinoflagellates_Acritarch_Prasinophytes.txt\n"
     ]
    }
   ],
   "source": [
    "for file in bad_encoding:\n",
    "    print(file)"
   ]
  },
  {
   "cell_type": "markdown",
   "metadata": {},
   "source": [
    "convert file to utf-8 encoding\n",
    "https://codereview.stackexchange.com/a/202985"
   ]
  },
  {
   "cell_type": "code",
   "execution_count": 7,
   "metadata": {},
   "outputs": [
    {
     "name": "stdout",
     "output_type": "stream",
     "text": [
      "cleaned_data/odp_all_paleontology/range_tables/114/700/HOLE_B/Planktonic_Foraminifers.txt\n",
      "cleaned_data/odp_all_paleontology/range_tables/114/702/HOLE_B/Planktonic_Foraminifers.txt\n",
      "cleaned_data/odp_all_paleontology/range_tables/114/702/HOLE_A/Planktonic_Foraminifers.txt\n",
      "cleaned_data/odp_all_paleontology/range_tables/114/699/HOLE_A/Planktonic_Foraminifers.txt\n",
      "cleaned_data/odp_all_paleontology/range_tables/114/698/HOLE_A/Planktonic_Foraminifers.txt\n",
      "cleaned_data/odp_all_paleontology/range_tables/149/898/HOLE_A/Dinoflagellates_Acritarch_Prasinophytes.txt\n"
     ]
    }
   ],
   "source": [
    "for file in bad_encoding:\n",
    "    with open(file, 'rb') as f:\n",
    "        content_bytes = f.read()\n",
    "    detected = chardet.detect(content_bytes)\n",
    "    encoding = detected['encoding']\n",
    "    content_text = content_bytes.decode(encoding)\n",
    "    \n",
    "    with open(file, 'w', encoding='utf-8') as f:\n",
    "        f.write(content_text)\n",
    "        print(file)"
   ]
  },
  {
   "cell_type": "markdown",
   "metadata": {},
   "source": [
    "## process bad_tabs\n",
    "handle files where the hearers and rows have different number of columns"
   ]
  },
  {
   "cell_type": "code",
   "execution_count": 8,
   "metadata": {},
   "outputs": [
    {
     "name": "stdout",
     "output_type": "stream",
     "text": [
      "cleaned_data/odp_all_paleontology/range_tables/172/1056/HOLE_B/Planktonic_Foraminifers.txt\n",
      "cleaned_data/odp_all_paleontology/range_tables/172/1060/HOLE_A/Planktonic_Foraminifers.txt\n",
      "cleaned_data/odp_all_paleontology/range_tables/172/1061/HOLE_A/Planktonic_Foraminifers.txt\n",
      "cleaned_data/odp_all_paleontology/range_tables/172/1059/HOLE_A/Nannofossils.txt\n",
      "cleaned_data/odp_all_paleontology/range_tables/172/1057/HOLE_A/Planktonic_Foraminifers.txt\n",
      "cleaned_data/odp_all_paleontology/range_tables/172/1063/HOLE_A/Planktonic_Foraminifers.txt\n",
      "cleaned_data/odp_all_paleontology/range_tables/172/1062/HOLE_E/Planktonic_Foraminifers.txt\n",
      "cleaned_data/odp_all_paleontology/range_tables/172/1062/HOLE_A/Planktonic_Foraminifers.txt\n",
      "cleaned_data/odp_all_paleontology/range_tables/171/1050/HOLE_B/Planktonic_Foraminifers.txt\n"
     ]
    }
   ],
   "source": [
    "for file in bad_tabs:\n",
    "    print(file)"
   ]
  },
  {
   "cell_type": "markdown",
   "metadata": {},
   "source": [
    "## process space_delim\n",
    "\n",
    "handle files that use random number of spaces to separate the columns"
   ]
  },
  {
   "cell_type": "code",
   "execution_count": 9,
   "metadata": {},
   "outputs": [
    {
     "name": "stdout",
     "output_type": "stream",
     "text": [
      "cleaned_data/odp_all_paleontology/range_tables/174/1071/HOLE_B/Planktonic_Foraminifers.txt: 919\n",
      "cleaned_data/odp_all_paleontology/range_tables/174/1071/HOLE_B/Benthic_Foraminifers.txt: 3229\n",
      "cleaned_data/odp_all_paleontology/range_tables/180/1114/HOLE_A/Planktonic_Foraminifers.txt: 23208\n",
      "cleaned_data/odp_all_paleontology/range_tables/180/1114/HOLE_A/Nannofossils.txt: 30183\n",
      "cleaned_data/odp_all_paleontology/range_tables/180/1112/HOLE_A/Planktonic_Foraminifers.txt: 2114\n",
      "cleaned_data/odp_all_paleontology/range_tables/180/1112/HOLE_A/Nannofossils.txt: 1679\n",
      "cleaned_data/odp_all_paleontology/range_tables/180/1115/HOLE_B/Planktonic_Foraminifers.txt: 38292\n",
      "cleaned_data/odp_all_paleontology/range_tables/180/1115/HOLE_B/Nannofossils.txt: 27813\n",
      "cleaned_data/odp_all_paleontology/range_tables/180/1115/HOLE_C/Planktonic_Foraminifers.txt: 61112\n",
      "cleaned_data/odp_all_paleontology/range_tables/180/1115/HOLE_C/Nannofossils.txt: 46294\n",
      "cleaned_data/odp_all_paleontology/range_tables/180/1115/HOLE_A/Planktonic_Foraminifers.txt: 1434\n",
      "cleaned_data/odp_all_paleontology/range_tables/180/1115/HOLE_A/Nannofossils.txt: 706\n",
      "cleaned_data/odp_all_paleontology/range_tables/180/1109/HOLE_C/Planktonic_Foraminifers.txt: 36891\n",
      "cleaned_data/odp_all_paleontology/range_tables/180/1109/HOLE_C/Nannofossils.txt: 52313\n",
      "cleaned_data/odp_all_paleontology/range_tables/180/1109/HOLE_D/Planktonic_Foraminifers.txt: 33987\n",
      "cleaned_data/odp_all_paleontology/range_tables/180/1109/HOLE_D/Nannofossils.txt: 36767\n",
      "cleaned_data/odp_all_paleontology/range_tables/180/1110/HOLE_B/Planktonic_Foraminifers.txt: 2237\n",
      "cleaned_data/odp_all_paleontology/range_tables/180/1110/HOLE_B/Nannofossils.txt: 983\n",
      "cleaned_data/odp_all_paleontology/range_tables/180/1110/HOLE_A/Planktonic_Foraminifers.txt: 2234\n",
      "cleaned_data/odp_all_paleontology/range_tables/180/1110/HOLE_A/Nannofossils.txt: 1250\n",
      "cleaned_data/odp_all_paleontology/range_tables/180/1117/HOLE_C/Nannofossils.txt: 606\n",
      "cleaned_data/odp_all_paleontology/range_tables/180/1116/HOLE_A/Planktonic_Foraminifers.txt: 10907\n",
      "cleaned_data/odp_all_paleontology/range_tables/180/1116/HOLE_A/Nannofossils.txt: 9343\n",
      "cleaned_data/odp_all_paleontology/range_tables/180/1111/HOLE_A/Planktonic_Foraminifers.txt: 14498\n",
      "cleaned_data/odp_all_paleontology/range_tables/180/1111/HOLE_A/Nannofossils.txt: 10947\n",
      "cleaned_data/odp_all_paleontology/range_tables/180/1118/HOLE_A/Planktonic_Foraminifers.txt: 78696\n",
      "cleaned_data/odp_all_paleontology/range_tables/180/1118/HOLE_A/Nannofossils.txt: 58177\n",
      "cleaned_data/odp_all_paleontology/range_tables/172/1056/HOLE_C/Nannofossils.txt: 5593\n",
      "cleaned_data/odp_all_paleontology/range_tables/181/1119/HOLE_B/Radiolarians.txt: 9020\n",
      "cleaned_data/odp_all_paleontology/range_tables/181/1119/HOLE_B/Planktonic_Foraminifers.txt: 7338\n",
      "cleaned_data/odp_all_paleontology/range_tables/181/1119/HOLE_B/Diatoms.txt: 17425\n",
      "cleaned_data/odp_all_paleontology/range_tables/181/1119/HOLE_B/Nannofossils.txt: 13599\n",
      "cleaned_data/odp_all_paleontology/range_tables/181/1119/HOLE_B/Benthic_Foraminifers.txt: 11482\n",
      "cleaned_data/odp_all_paleontology/range_tables/181/1119/HOLE_C/Radiolarians.txt: 11633\n",
      "cleaned_data/odp_all_paleontology/range_tables/181/1119/HOLE_C/Planktonic_Foraminifers.txt: 18254\n",
      "cleaned_data/odp_all_paleontology/range_tables/181/1119/HOLE_C/Diatoms.txt: 48170\n",
      "cleaned_data/odp_all_paleontology/range_tables/181/1119/HOLE_C/Nannofossils.txt: 31156\n",
      "cleaned_data/odp_all_paleontology/range_tables/181/1119/HOLE_C/Benthic_Foraminifers.txt: 48873\n",
      "cleaned_data/odp_all_paleontology/range_tables/181/1119/HOLE_A/Radiolarians.txt: 456\n",
      "cleaned_data/odp_all_paleontology/range_tables/181/1119/HOLE_A/Planktonic_Foraminifers.txt: 826\n",
      "cleaned_data/odp_all_paleontology/range_tables/181/1119/HOLE_A/Diatoms.txt: 600\n",
      "cleaned_data/odp_all_paleontology/range_tables/181/1119/HOLE_A/Nannofossils.txt: 714\n",
      "cleaned_data/odp_all_paleontology/range_tables/181/1120/HOLE_B/Radiolarians.txt: 40372\n",
      "cleaned_data/odp_all_paleontology/range_tables/181/1120/HOLE_B/Planktonic_Foraminifers.txt: 18380\n",
      "cleaned_data/odp_all_paleontology/range_tables/181/1120/HOLE_B/Diatoms.txt: 22130\n",
      "cleaned_data/odp_all_paleontology/range_tables/181/1120/HOLE_B/Nannofossils.txt: 20619\n",
      "cleaned_data/odp_all_paleontology/range_tables/181/1120/HOLE_B/Benthic_Foraminifers.txt: 1052\n",
      "cleaned_data/odp_all_paleontology/range_tables/181/1120/HOLE_C/Planktonic_Foraminifers.txt: 3788\n",
      "cleaned_data/odp_all_paleontology/range_tables/181/1120/HOLE_C/Benthic_Foraminifers.txt: 666\n",
      "cleaned_data/odp_all_paleontology/range_tables/181/1120/HOLE_D/Radiolarians.txt: 2102\n",
      "cleaned_data/odp_all_paleontology/range_tables/181/1120/HOLE_D/Planktonic_Foraminifers.txt: 6275\n",
      "cleaned_data/odp_all_paleontology/range_tables/181/1120/HOLE_D/Diatoms.txt: 1118\n",
      "cleaned_data/odp_all_paleontology/range_tables/181/1120/HOLE_D/Nannofossils.txt: 10964\n",
      "cleaned_data/odp_all_paleontology/range_tables/181/1120/HOLE_A/Radiolarians.txt: 2618\n",
      "cleaned_data/odp_all_paleontology/range_tables/181/1120/HOLE_A/Planktonic_Foraminifers.txt: 2417\n",
      "cleaned_data/odp_all_paleontology/range_tables/181/1120/HOLE_A/Diatoms.txt: 3874\n",
      "cleaned_data/odp_all_paleontology/range_tables/181/1120/HOLE_A/Nannofossils.txt: 4504\n",
      "cleaned_data/odp_all_paleontology/range_tables/175/1081/HOLE_A/Planktonic_Foraminifers.txt: 17673\n",
      "cleaned_data/odp_all_paleontology/range_tables/175/1085/HOLE_A/Planktonic_Foraminifers.txt: 20582\n",
      "cleaned_data/odp_all_paleontology/range_tables/175/1077/HOLE_A/Diatoms.txt: 33674\n",
      "cleaned_data/odp_all_paleontology/range_tables/149/897/HOLE_C/Nannofossils.txt: 1494211\n"
     ]
    }
   ],
   "source": [
    "for file in space_delim:\n",
    "    file_size = os.path.getsize(file)\n",
    "    print(f'{file}: {file_size}')"
   ]
  },
  {
   "cell_type": "markdown",
   "metadata": {},
   "source": [
    "https://stackoverflow.com/questions/19759423/convert-a-space-delimited-file-to-comma-separated-values-file-in-python\n"
   ]
  },
  {
   "cell_type": "code",
   "execution_count": null,
   "metadata": {},
   "outputs": [],
   "source": []
  }
 ],
 "metadata": {
  "kernelspec": {
   "display_name": "Python 3",
   "language": "python",
   "name": "python3"
  },
  "language_info": {
   "codemirror_mode": {
    "name": "ipython",
    "version": 3
   },
   "file_extension": ".py",
   "mimetype": "text/x-python",
   "name": "python",
   "nbconvert_exporter": "python",
   "pygments_lexer": "ipython3",
   "version": "3.6.8"
  }
 },
 "nbformat": 4,
 "nbformat_minor": 4
}
