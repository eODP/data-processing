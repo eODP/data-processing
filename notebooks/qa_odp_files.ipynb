{
 "cells": [
  {
   "cell_type": "markdown",
   "metadata": {},
   "source": [
    "# QA ODP files\n",
    "\n",
    "expeditions 101 - 210; range_tables for paleo fossils, age_models; https://www.ngdc.noaa.gov/mgg/geology/data/joides_resolution/odp_all_paleontology.tar.gz"
   ]
  },
  {
   "cell_type": "code",
   "execution_count": 1,
   "metadata": {},
   "outputs": [],
   "source": [
    "import sys\n",
    "import os \n",
    "\n",
    "sys.path.append('../scripts/')\n",
    "import glob\n",
    "\n",
    "\n",
    "import pandas as pd\n",
    "import chardet"
   ]
  },
  {
   "cell_type": "markdown",
   "metadata": {},
   "source": [
    "## QA ODP paleo files\n",
    "\n",
    "count the number of good files vs files that need to be fixed"
   ]
  },
  {
   "cell_type": "code",
   "execution_count": 2,
   "metadata": {},
   "outputs": [],
   "source": [
    "data_path = 'cleaned_data/odp_all_paleontology/range_tables'\n",
    "raw_csvs = glob.glob(f\"{data_path}/**/*.txt\", recursive=True)"
   ]
  },
  {
   "cell_type": "code",
   "execution_count": 3,
   "metadata": {},
   "outputs": [
    {
     "data": {
      "text/plain": [
       "2045"
      ]
     },
     "execution_count": 3,
     "metadata": {},
     "output_type": "execute_result"
    }
   ],
   "source": [
    "len(raw_csvs)"
   ]
  },
  {
   "cell_type": "code",
   "execution_count": 4,
   "metadata": {},
   "outputs": [],
   "source": [
    "bad_encoding = [] # does not use utf-8 encoding\n",
    "bad_tabs = [] # rows have different number of columns than headers\n",
    "space_delim = [] # uses spaces as delimiter\n",
    "missing_fields = [] # does not have all the fields\n",
    "good_files = []\n",
    "\n",
    "expected_fields = {\n",
    "    'Age From (oldest)', 'Age To (youngest)', 'Zone From (bottom)', 'Zone To  (top)',\n",
    "    'Leg', 'Site','H', 'Cor', 'T', 'Sc', 'Top(cm)', 'Depth (mbsf)',  \n",
    "    'Group Abundance', 'Group Preservation'\n",
    "}\n",
    "\n",
    "\n",
    "for file in raw_csvs:\n",
    "    try:\n",
    "        df = pd.read_csv(file, delimiter=\"\\t\")\n",
    "    except UnicodeDecodeError:\n",
    "        bad_encoding.append(file)\n",
    "        continue\n",
    "    except pd.errors.ParserError:\n",
    "\n",
    "        bad_tabs.append(file)\n",
    "        continue\n",
    "    \n",
    "    \n",
    "    if expected_fields.issubset(df.columns):\n",
    "        good_files.append(file)\n",
    "    elif len(df.columns) == 1:\n",
    "        space_delim.append(file)\n",
    "    else:\n",
    "        missing_fields.append(file)"
   ]
  },
  {
   "cell_type": "code",
   "execution_count": 5,
   "metadata": {},
   "outputs": [
    {
     "name": "stdout",
     "output_type": "stream",
     "text": [
      "bad_tabs 0\n",
      "bad_encoding 0\n",
      "space_delim 0\n",
      "missing_fields 0\n",
      "good_files 2045\n"
     ]
    }
   ],
   "source": [
    "print('bad_tabs', len(bad_tabs))\n",
    "print('bad_encoding', len(bad_encoding))\n",
    "print('space_delim', len(space_delim))\n",
    "print('missing_fields', len(missing_fields))\n",
    "print('good_files', len(good_files))"
   ]
  },
  {
   "cell_type": "markdown",
   "metadata": {},
   "source": [
    "## process latin_encoding\n",
    "handle files with encoding that isn't utf-8"
   ]
  },
  {
   "cell_type": "code",
   "execution_count": 6,
   "metadata": {},
   "outputs": [],
   "source": [
    "for file in bad_encoding:\n",
    "    print(file)"
   ]
  },
  {
   "cell_type": "markdown",
   "metadata": {},
   "source": [
    "convert file to utf-8 encoding\n",
    "https://codereview.stackexchange.com/a/202985"
   ]
  },
  {
   "cell_type": "code",
   "execution_count": 7,
   "metadata": {},
   "outputs": [],
   "source": [
    "for file in bad_encoding:\n",
    "    with open(file, 'rb') as f:\n",
    "        content_bytes = f.read()\n",
    "    detected = chardet.detect(content_bytes)\n",
    "    encoding = detected['encoding']\n",
    "    content_text = content_bytes.decode(encoding)\n",
    "    \n",
    "    with open(file, 'w', encoding='utf-8') as f:\n",
    "        f.write(content_text)\n",
    "        print(file)"
   ]
  },
  {
   "cell_type": "markdown",
   "metadata": {},
   "source": [
    "## process bad_tabs\n",
    "handle files where the hearers and rows have different number of columns"
   ]
  },
  {
   "cell_type": "code",
   "execution_count": 8,
   "metadata": {},
   "outputs": [],
   "source": [
    "for file in bad_tabs:\n",
    "    print(file)"
   ]
  },
  {
   "cell_type": "markdown",
   "metadata": {},
   "source": [
    "## process space_delim\n",
    "\n",
    "handle files that use random number of spaces to separate the columns"
   ]
  },
  {
   "cell_type": "code",
   "execution_count": 9,
   "metadata": {},
   "outputs": [],
   "source": [
    "for file in space_delim:\n",
    "    file_size = os.path.getsize(file)\n",
    "    print(f'{file}: {file_size}')"
   ]
  },
  {
   "cell_type": "markdown",
   "metadata": {},
   "source": [
    "https://stackoverflow.com/questions/19759423/convert-a-space-delimited-file-to-comma-separated-values-file-in-python\n"
   ]
  },
  {
   "cell_type": "markdown",
   "metadata": {},
   "source": [
    "## process missing_fields\n",
    "\n",
    "handle files don't have the "
   ]
  },
  {
   "cell_type": "code",
   "execution_count": 10,
   "metadata": {},
   "outputs": [],
   "source": [
    "for file in missing_fields:\n",
    "    all_fields = set()\n",
    "    df = pd.read_csv(file, delimiter=\"\\t\")\n",
    "    file_fields = list(df.columns)[1:17]\n",
    "    \n",
    "    all_fields.update(expected_fields)\n",
    "    all_fields.update(file_fields)\n",
    "    print(all_fields)"
   ]
  },
  {
   "cell_type": "code",
   "execution_count": null,
   "metadata": {},
   "outputs": [],
   "source": []
  }
 ],
 "metadata": {
  "kernelspec": {
   "display_name": "Python 3",
   "language": "python",
   "name": "python3"
  },
  "language_info": {
   "codemirror_mode": {
    "name": "ipython",
    "version": 3
   },
   "file_extension": ".py",
   "mimetype": "text/x-python",
   "name": "python",
   "nbconvert_exporter": "python",
   "pygments_lexer": "ipython3",
   "version": "3.6.8"
  }
 },
 "nbformat": 4,
 "nbformat_minor": 4
}
