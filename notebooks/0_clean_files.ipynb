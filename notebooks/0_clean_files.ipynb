{
 "cells": [
  {
   "cell_type": "markdown",
   "metadata": {},
   "source": [
    "# clean files"
   ]
  },
  {
   "cell_type": "code",
   "execution_count": 25,
   "metadata": {},
   "outputs": [],
   "source": [
    "import sys\n",
    "sys.path.append('../')\n",
    "import glob\n",
    "import re\n",
    "\n",
    "import pandas as pd\n",
    "\n",
    "from scripts.normalize_data import extract_taxon_group_from_filename\n",
    "from config import CLEAN_DATA_DIR, OUTPUT_DIR"
   ]
  },
  {
   "cell_type": "code",
   "execution_count": 26,
   "metadata": {},
   "outputs": [],
   "source": [
    "LIMS = CLEAN_DATA_DIR / 'LIMS'"
   ]
  },
  {
   "cell_type": "code",
   "execution_count": 27,
   "metadata": {},
   "outputs": [
    {
     "data": {
      "text/plain": [
       "[PosixPath('../output/cleaned_data/LIMS/Micropal_CSV_1/363-U1482A-Benthic_Forams.csv'),\n",
       " PosixPath('../output/cleaned_data/LIMS/Micropal_CSV_1/320_U1336A_Nannofossils_2.csv'),\n",
       " PosixPath('../output/cleaned_data/LIMS/Micropal_CSV_1/375_U1518F_planktic_forams.csv')]"
      ]
     },
     "execution_count": 27,
     "metadata": {},
     "output_type": "execute_result"
    }
   ],
   "source": [
    "plain_csvs = []\n",
    "plain_csvs = plain_csvs + list(LIMS.rglob(\"*.csv\"))\n",
    "list(plain_csvs)[0:3]"
   ]
  },
  {
   "cell_type": "markdown",
   "metadata": {},
   "source": [
    "## remove bad characters"
   ]
  },
  {
   "cell_type": "code",
   "execution_count": 93,
   "metadata": {},
   "outputs": [],
   "source": [
    "def clean_up_file(path):\n",
    "    with open(path, \"r\", errors='ignore') as file:\n",
    "        filedata = file.read()\n",
    "\n",
    "        for line in file.readlines():\n",
    "            print(line)   \n",
    "            \n",
    "    new_filedata = filedata\n",
    "    new_filedata = new_filedata.replace('�m', 'µm')\n",
    "    new_filedata = new_filedata.replace('(>4 m)', '(>4 µm)')\n",
    "    new_filedata = new_filedata.replace('(>5.5 m)', '(>5.5 µm)')\n",
    "\n",
    "    if new_filedata != filedata:\n",
    "        with open(path, \"w\") as file:\n",
    "            file.write(new_filedata)\n",
    "\n",
    "\n",
    "for path in plain_csvs:\n",
    "    clean_up_file(path)"
   ]
  },
  {
   "cell_type": "code",
   "execution_count": 94,
   "metadata": {},
   "outputs": [],
   "source": [
    "for path in plain_csvs:\n",
    "    with open(path, \"r\") as file:\n",
    "        filedata = file.read()"
   ]
  },
  {
   "cell_type": "markdown",
   "metadata": {},
   "source": [
    "## check for bad headers"
   ]
  },
  {
   "cell_type": "code",
   "execution_count": 22,
   "metadata": {},
   "outputs": [],
   "source": [
    "for file in plain_csvs:\n",
    "    df = pd.read_csv(file, dtype=str, nrows=0)\n",
    "    if len(df.columns) < 2:\n",
    "        print(file)"
   ]
  },
  {
   "cell_type": "code",
   "execution_count": null,
   "metadata": {},
   "outputs": [],
   "source": []
  }
 ],
 "metadata": {
  "kernelspec": {
   "display_name": "Python 3",
   "language": "python",
   "name": "python3"
  },
  "language_info": {
   "codemirror_mode": {
    "name": "ipython",
    "version": 3
   },
   "file_extension": ".py",
   "mimetype": "text/x-python",
   "name": "python",
   "nbconvert_exporter": "python",
   "pygments_lexer": "ipython3",
   "version": "3.6.8"
  }
 },
 "nbformat": 4,
 "nbformat_minor": 4
}
