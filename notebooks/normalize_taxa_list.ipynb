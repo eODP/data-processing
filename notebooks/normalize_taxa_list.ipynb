{
 "cells": [
  {
   "cell_type": "markdown",
   "metadata": {},
   "source": [
    "# Normalize taxa list\n",
    "\n",
    "Cleanup the normalized taxa list from the eODP researchers for a given particular taxon group."
   ]
  },
  {
   "cell_type": "code",
   "execution_count": 1,
   "metadata": {},
   "outputs": [],
   "source": [
    "import pandas as pd\n",
    "import numpy as np"
   ]
  },
  {
   "cell_type": "markdown",
   "metadata": {},
   "source": [
    "## Import normalized taxa list"
   ]
  },
  {
   "cell_type": "code",
   "execution_count": 2,
   "metadata": {},
   "outputs": [],
   "source": [
    "taxon_group = 'nannofossils'\n",
    "date = '2021-03-01'\n",
    "\n",
    "input_file = f'raw_data/taxa/Micropal_headers_PBDB_Taxonomy_notes_nannos_{date}.xlsx'\n",
    "crosswalk_file = f\"cleaned_data/taxa/taxa_crosswalk_{taxon_group}_{date}.csv\"\n",
    "taxa_list_file = f\"cleaned_data/taxa/taxa_list_{taxon_group}_{date}.csv\""
   ]
  },
  {
   "cell_type": "code",
   "execution_count": 3,
   "metadata": {},
   "outputs": [
    {
     "data": {
      "text/html": [
       "<div>\n",
       "<style scoped>\n",
       "    .dataframe tbody tr th:only-of-type {\n",
       "        vertical-align: middle;\n",
       "    }\n",
       "\n",
       "    .dataframe tbody tr th {\n",
       "        vertical-align: top;\n",
       "    }\n",
       "\n",
       "    .dataframe thead th {\n",
       "        text-align: right;\n",
       "    }\n",
       "</style>\n",
       "<table border=\"1\" class=\"dataframe\">\n",
       "  <thead>\n",
       "    <tr style=\"text-align: right;\">\n",
       "      <th></th>\n",
       "      <th>verbatim_name</th>\n",
       "      <th>name</th>\n",
       "      <th>name to use (if different from \"name\")</th>\n",
       "      <th>name comment field</th>\n",
       "      <th>taxon_group</th>\n",
       "      <th>Comment</th>\n",
       "      <th>notes</th>\n",
       "      <th>Any taxon above genus</th>\n",
       "      <th>genus modifier</th>\n",
       "      <th>genus name</th>\n",
       "      <th>...</th>\n",
       "      <th>subgenera name</th>\n",
       "      <th>species modifier</th>\n",
       "      <th>species name</th>\n",
       "      <th>subspecies modifier</th>\n",
       "      <th>subspecies name</th>\n",
       "      <th>non-taxa descriptor</th>\n",
       "      <th>comments</th>\n",
       "      <th>pbdb_taxon_id</th>\n",
       "      <th>pbdb_taxon_name</th>\n",
       "      <th>pbdb_taxon_rank</th>\n",
       "    </tr>\n",
       "  </thead>\n",
       "  <tbody>\n",
       "    <tr>\n",
       "      <th>0</th>\n",
       "      <td>PROBLEMATIC NAMES</td>\n",
       "      <td>NaN</td>\n",
       "      <td>NaN</td>\n",
       "      <td>NaN</td>\n",
       "      <td>NaN</td>\n",
       "      <td>NaN</td>\n",
       "      <td>NaN</td>\n",
       "      <td>NaN</td>\n",
       "      <td>NaN</td>\n",
       "      <td>NaN</td>\n",
       "      <td>...</td>\n",
       "      <td>NaN</td>\n",
       "      <td>NaN</td>\n",
       "      <td>NaN</td>\n",
       "      <td>NaN</td>\n",
       "      <td>NaN</td>\n",
       "      <td>NaN</td>\n",
       "      <td>NaN</td>\n",
       "      <td>NaN</td>\n",
       "      <td>NaN</td>\n",
       "      <td>NaN</td>\n",
       "    </tr>\n",
       "    <tr>\n",
       "      <th>1</th>\n",
       "      <td>Euuvigerina miozea (group) &gt;100 m</td>\n",
       "      <td>Euuvigerina miozea (group) &gt;100 m</td>\n",
       "      <td>these need both checking &amp; can't be entered cu...</td>\n",
       "      <td>NaN</td>\n",
       "      <td>benthic_forams</td>\n",
       "      <td>group</td>\n",
       "      <td>Summer 2020: enter \"Euuvigerina miozea\" and re...</td>\n",
       "      <td>NaN</td>\n",
       "      <td>NaN</td>\n",
       "      <td>NaN</td>\n",
       "      <td>...</td>\n",
       "      <td>NaN</td>\n",
       "      <td>NaN</td>\n",
       "      <td>NaN</td>\n",
       "      <td>NaN</td>\n",
       "      <td>NaN</td>\n",
       "      <td>NaN</td>\n",
       "      <td>NaN</td>\n",
       "      <td>NaN</td>\n",
       "      <td>NaN</td>\n",
       "      <td>NaN</td>\n",
       "    </tr>\n",
       "    <tr>\n",
       "      <th>2</th>\n",
       "      <td>Euuvigerina rodleyi (group) &gt;50 m</td>\n",
       "      <td>Euuvigerina rodleyi (group) &gt;50 m</td>\n",
       "      <td>NaN</td>\n",
       "      <td>NaN</td>\n",
       "      <td>benthic_forams</td>\n",
       "      <td>group</td>\n",
       "      <td>Summer 2020: enter \"Euuvigerina miozea\" and re...</td>\n",
       "      <td>NaN</td>\n",
       "      <td>NaN</td>\n",
       "      <td>NaN</td>\n",
       "      <td>...</td>\n",
       "      <td>NaN</td>\n",
       "      <td>NaN</td>\n",
       "      <td>NaN</td>\n",
       "      <td>NaN</td>\n",
       "      <td>NaN</td>\n",
       "      <td>NaN</td>\n",
       "      <td>NaN</td>\n",
       "      <td>NaN</td>\n",
       "      <td>NaN</td>\n",
       "      <td>NaN</td>\n",
       "    </tr>\n",
       "    <tr>\n",
       "      <th>3</th>\n",
       "      <td>Pyrite</td>\n",
       "      <td>Pyrite</td>\n",
       "      <td>NaN</td>\n",
       "      <td>NaN</td>\n",
       "      <td>benthic_forams</td>\n",
       "      <td>not a taxa</td>\n",
       "      <td>Summer 2020: deal with later; should go in as ...</td>\n",
       "      <td>NaN</td>\n",
       "      <td>NaN</td>\n",
       "      <td>NaN</td>\n",
       "      <td>...</td>\n",
       "      <td>NaN</td>\n",
       "      <td>NaN</td>\n",
       "      <td>NaN</td>\n",
       "      <td>NaN</td>\n",
       "      <td>NaN</td>\n",
       "      <td>NaN</td>\n",
       "      <td>NaN</td>\n",
       "      <td>NaN</td>\n",
       "      <td>NaN</td>\n",
       "      <td>NaN</td>\n",
       "    </tr>\n",
       "    <tr>\n",
       "      <th>4</th>\n",
       "      <td>Skeletonemopsis and Skeletonema grp</td>\n",
       "      <td>Skeletonemopsis and Skeletonema grp</td>\n",
       "      <td>Skelentonematacea indet.</td>\n",
       "      <td>NaN</td>\n",
       "      <td>diatoms</td>\n",
       "      <td>group</td>\n",
       "      <td>Summer 2020: deal with later? LL: both are in ...</td>\n",
       "      <td>NaN</td>\n",
       "      <td>NaN</td>\n",
       "      <td>NaN</td>\n",
       "      <td>...</td>\n",
       "      <td>NaN</td>\n",
       "      <td>NaN</td>\n",
       "      <td>NaN</td>\n",
       "      <td>NaN</td>\n",
       "      <td>NaN</td>\n",
       "      <td>NaN</td>\n",
       "      <td>NaN</td>\n",
       "      <td>NaN</td>\n",
       "      <td>NaN</td>\n",
       "      <td>NaN</td>\n",
       "    </tr>\n",
       "  </tbody>\n",
       "</table>\n",
       "<p>5 rows × 21 columns</p>\n",
       "</div>"
      ],
      "text/plain": [
       "                         verbatim_name                                 name  \\\n",
       "0                    PROBLEMATIC NAMES                                  NaN   \n",
       "1    Euuvigerina miozea (group) >100 m    Euuvigerina miozea (group) >100 m   \n",
       "2    Euuvigerina rodleyi (group) >50 m    Euuvigerina rodleyi (group) >50 m   \n",
       "3                               Pyrite                               Pyrite   \n",
       "4  Skeletonemopsis and Skeletonema grp  Skeletonemopsis and Skeletonema grp   \n",
       "\n",
       "              name to use (if different from \"name\") name comment field  \\\n",
       "0                                                NaN                NaN   \n",
       "1  these need both checking & can't be entered cu...                NaN   \n",
       "2                                                NaN                NaN   \n",
       "3                                                NaN                NaN   \n",
       "4                           Skelentonematacea indet.                NaN   \n",
       "\n",
       "      taxon_group     Comment  \\\n",
       "0             NaN         NaN   \n",
       "1  benthic_forams       group   \n",
       "2  benthic_forams       group   \n",
       "3  benthic_forams  not a taxa   \n",
       "4         diatoms       group   \n",
       "\n",
       "                                               notes Any taxon above genus  \\\n",
       "0                                                NaN                   NaN   \n",
       "1  Summer 2020: enter \"Euuvigerina miozea\" and re...                   NaN   \n",
       "2  Summer 2020: enter \"Euuvigerina miozea\" and re...                   NaN   \n",
       "3  Summer 2020: deal with later; should go in as ...                   NaN   \n",
       "4  Summer 2020: deal with later? LL: both are in ...                   NaN   \n",
       "\n",
       "  genus modifier genus name  ...  subgenera name  species modifier  \\\n",
       "0            NaN        NaN  ...             NaN               NaN   \n",
       "1            NaN        NaN  ...             NaN               NaN   \n",
       "2            NaN        NaN  ...             NaN               NaN   \n",
       "3            NaN        NaN  ...             NaN               NaN   \n",
       "4            NaN        NaN  ...             NaN               NaN   \n",
       "\n",
       "  species name subspecies modifier subspecies name non-taxa descriptor  \\\n",
       "0          NaN                 NaN             NaN                 NaN   \n",
       "1          NaN                 NaN             NaN                 NaN   \n",
       "2          NaN                 NaN             NaN                 NaN   \n",
       "3          NaN                 NaN             NaN                 NaN   \n",
       "4          NaN                 NaN             NaN                 NaN   \n",
       "\n",
       "  comments pbdb_taxon_id  pbdb_taxon_name pbdb_taxon_rank  \n",
       "0      NaN           NaN              NaN             NaN  \n",
       "1      NaN           NaN              NaN             NaN  \n",
       "2      NaN           NaN              NaN             NaN  \n",
       "3      NaN           NaN              NaN             NaN  \n",
       "4      NaN           NaN              NaN             NaN  \n",
       "\n",
       "[5 rows x 21 columns]"
      ]
     },
     "execution_count": 3,
     "metadata": {},
     "output_type": "execute_result"
    }
   ],
   "source": [
    "df = pd.read_excel(input_file, sheet_name=\"taxa list\", skiprows = 9)\n",
    "df.head()"
   ]
  },
  {
   "cell_type": "markdown",
   "metadata": {},
   "source": [
    "select taxa for a given taxon group  "
   ]
  },
  {
   "cell_type": "code",
   "execution_count": 4,
   "metadata": {},
   "outputs": [],
   "source": [
    "filtered_taxa = df[df['taxon_group'] == taxon_group].copy()"
   ]
  },
  {
   "cell_type": "markdown",
   "metadata": {},
   "source": [
    "select columns for output csvs"
   ]
  },
  {
   "cell_type": "code",
   "execution_count": 5,
   "metadata": {},
   "outputs": [],
   "source": [
    "taxa_fields = [\n",
    "    'Any taxon above genus',\n",
    "    'genus modifier',\n",
    "    'genus name',\n",
    "    'subgenera modifier',\n",
    "    'subgenera name',\n",
    "    'species modifier',\n",
    "    'species name',\n",
    "    'subspecies modifier',\n",
    "    'subspecies name',\n",
    "    'non-taxa descriptor'\n",
    "]\n",
    "metadata_fields = [\n",
    "    'normalized_name', \n",
    "    'taxon_group',\n",
    "    'verbatim_name',\n",
    "    'comments',\n",
    "]\n",
    "fields = taxa_fields + metadata_fields"
   ]
  },
  {
   "cell_type": "code",
   "execution_count": 6,
   "metadata": {},
   "outputs": [
    {
     "data": {
      "text/html": [
       "<div>\n",
       "<style scoped>\n",
       "    .dataframe tbody tr th:only-of-type {\n",
       "        vertical-align: middle;\n",
       "    }\n",
       "\n",
       "    .dataframe tbody tr th {\n",
       "        vertical-align: top;\n",
       "    }\n",
       "\n",
       "    .dataframe thead th {\n",
       "        text-align: right;\n",
       "    }\n",
       "</style>\n",
       "<table border=\"1\" class=\"dataframe\">\n",
       "  <thead>\n",
       "    <tr style=\"text-align: right;\">\n",
       "      <th></th>\n",
       "      <th>Any taxon above genus</th>\n",
       "      <th>genus modifier</th>\n",
       "      <th>genus name</th>\n",
       "      <th>subgenera modifier</th>\n",
       "      <th>subgenera name</th>\n",
       "      <th>species modifier</th>\n",
       "      <th>species name</th>\n",
       "      <th>subspecies modifier</th>\n",
       "      <th>subspecies name</th>\n",
       "      <th>non-taxa descriptor</th>\n",
       "      <th>normalized_name</th>\n",
       "      <th>taxon_group</th>\n",
       "      <th>verbatim_name</th>\n",
       "      <th>comments</th>\n",
       "    </tr>\n",
       "  </thead>\n",
       "  <tbody>\n",
       "    <tr>\n",
       "      <th>2263</th>\n",
       "      <td>Dinoflagellata indet.</td>\n",
       "      <td>NaN</td>\n",
       "      <td>NaN</td>\n",
       "      <td>NaN</td>\n",
       "      <td>NaN</td>\n",
       "      <td>NaN</td>\n",
       "      <td>NaN</td>\n",
       "      <td>NaN</td>\n",
       "      <td>NaN</td>\n",
       "      <td>NaN</td>\n",
       "      <td>NaN</td>\n",
       "      <td>nannofossils</td>\n",
       "      <td>calcispheres</td>\n",
       "      <td>calcispheres</td>\n",
       "    </tr>\n",
       "    <tr>\n",
       "      <th>2264</th>\n",
       "      <td>Coccolithophyceae indet.</td>\n",
       "      <td>NaN</td>\n",
       "      <td>NaN</td>\n",
       "      <td>NaN</td>\n",
       "      <td>NaN</td>\n",
       "      <td>NaN</td>\n",
       "      <td>NaN</td>\n",
       "      <td>NaN</td>\n",
       "      <td>NaN</td>\n",
       "      <td>NaN</td>\n",
       "      <td>NaN</td>\n",
       "      <td>nannofossils</td>\n",
       "      <td>reworked taxa</td>\n",
       "      <td>reworked taxa</td>\n",
       "    </tr>\n",
       "    <tr>\n",
       "      <th>2265</th>\n",
       "      <td>Coccolithophyceae indet.</td>\n",
       "      <td>NaN</td>\n",
       "      <td>NaN</td>\n",
       "      <td>NaN</td>\n",
       "      <td>NaN</td>\n",
       "      <td>NaN</td>\n",
       "      <td>NaN</td>\n",
       "      <td>NaN</td>\n",
       "      <td>NaN</td>\n",
       "      <td>NaN</td>\n",
       "      <td>NaN</td>\n",
       "      <td>nannofossils</td>\n",
       "      <td>Nannofossil fragments</td>\n",
       "      <td>Nannofossil fragments</td>\n",
       "    </tr>\n",
       "    <tr>\n",
       "      <th>2266</th>\n",
       "      <td>Coccolithophyceae indet.</td>\n",
       "      <td>NaN</td>\n",
       "      <td>NaN</td>\n",
       "      <td>NaN</td>\n",
       "      <td>NaN</td>\n",
       "      <td>NaN</td>\n",
       "      <td>NaN</td>\n",
       "      <td>NaN</td>\n",
       "      <td>NaN</td>\n",
       "      <td>NaN</td>\n",
       "      <td>NaN</td>\n",
       "      <td>nannofossils</td>\n",
       "      <td>Reworked species</td>\n",
       "      <td>Reworked species</td>\n",
       "    </tr>\n",
       "    <tr>\n",
       "      <th>2267</th>\n",
       "      <td>Dinoflagellata indet.</td>\n",
       "      <td>NaN</td>\n",
       "      <td>NaN</td>\n",
       "      <td>NaN</td>\n",
       "      <td>NaN</td>\n",
       "      <td>NaN</td>\n",
       "      <td>NaN</td>\n",
       "      <td>NaN</td>\n",
       "      <td>NaN</td>\n",
       "      <td>NaN</td>\n",
       "      <td>NaN</td>\n",
       "      <td>nannofossils</td>\n",
       "      <td>Calcisphere</td>\n",
       "      <td>Calcisphere</td>\n",
       "    </tr>\n",
       "  </tbody>\n",
       "</table>\n",
       "</div>"
      ],
      "text/plain": [
       "         Any taxon above genus genus modifier genus name  subgenera modifier  \\\n",
       "2263     Dinoflagellata indet.            NaN        NaN                 NaN   \n",
       "2264  Coccolithophyceae indet.            NaN        NaN                 NaN   \n",
       "2265  Coccolithophyceae indet.            NaN        NaN                 NaN   \n",
       "2266  Coccolithophyceae indet.            NaN        NaN                 NaN   \n",
       "2267     Dinoflagellata indet.            NaN        NaN                 NaN   \n",
       "\n",
       "      subgenera name species modifier species name subspecies modifier  \\\n",
       "2263             NaN              NaN          NaN                 NaN   \n",
       "2264             NaN              NaN          NaN                 NaN   \n",
       "2265             NaN              NaN          NaN                 NaN   \n",
       "2266             NaN              NaN          NaN                 NaN   \n",
       "2267             NaN              NaN          NaN                 NaN   \n",
       "\n",
       "     subspecies name non-taxa descriptor  normalized_name   taxon_group  \\\n",
       "2263             NaN                 NaN              NaN  nannofossils   \n",
       "2264             NaN                 NaN              NaN  nannofossils   \n",
       "2265             NaN                 NaN              NaN  nannofossils   \n",
       "2266             NaN                 NaN              NaN  nannofossils   \n",
       "2267             NaN                 NaN              NaN  nannofossils   \n",
       "\n",
       "              verbatim_name               comments  \n",
       "2263           calcispheres           calcispheres  \n",
       "2264          reworked taxa          reworked taxa  \n",
       "2265  Nannofossil fragments  Nannofossil fragments  \n",
       "2266       Reworked species       Reworked species  \n",
       "2267            Calcisphere            Calcisphere  "
      ]
     },
     "execution_count": 6,
     "metadata": {},
     "output_type": "execute_result"
    }
   ],
   "source": [
    "filtered_taxa['normalized_name'] = np.nan\n",
    "filtered_taxa = filtered_taxa[fields]\n",
    "filtered_taxa.head()"
   ]
  },
  {
   "cell_type": "code",
   "execution_count": 7,
   "metadata": {},
   "outputs": [
    {
     "data": {
      "text/plain": [
       "817"
      ]
     },
     "execution_count": 7,
     "metadata": {},
     "output_type": "execute_result"
    }
   ],
   "source": [
    "len(filtered_taxa)"
   ]
  },
  {
   "cell_type": "markdown",
   "metadata": {},
   "source": [
    "## Add normalized_name"
   ]
  },
  {
   "cell_type": "markdown",
   "metadata": {},
   "source": [
    "set normalized_name using the taxa fields"
   ]
  },
  {
   "cell_type": "code",
   "execution_count": 8,
   "metadata": {},
   "outputs": [
    {
     "data": {
      "text/plain": [
       "['genus modifier',\n",
       " 'genus name',\n",
       " 'subgenera modifier',\n",
       " 'subgenera name',\n",
       " 'species modifier',\n",
       " 'species name',\n",
       " 'subspecies modifier',\n",
       " 'subspecies name']"
      ]
     },
     "execution_count": 8,
     "metadata": {},
     "output_type": "execute_result"
    }
   ],
   "source": [
    "taxa_fields[1:9]"
   ]
  },
  {
   "cell_type": "code",
   "execution_count": 9,
   "metadata": {},
   "outputs": [],
   "source": [
    "# concatenate taxa fields\n",
    "filtered_taxa['normalized_name'] = filtered_taxa['Any taxon above genus'].str.cat(\n",
    "    filtered_taxa[taxa_fields[1:9]], sep=' ', na_rep='')\n",
    "\n",
    "# add \"(descriptor)\" if it exists\n",
    "descriptor = np.where(\n",
    "    filtered_taxa['non-taxa descriptor'].notnull(),\n",
    "    '(' + filtered_taxa['non-taxa descriptor'] + ')',\n",
    "    ''\n",
    ")\n",
    "filtered_taxa['normalized_name'] = filtered_taxa['normalized_name'] + descriptor"
   ]
  },
  {
   "cell_type": "code",
   "execution_count": 10,
   "metadata": {},
   "outputs": [],
   "source": [
    "# get rid of extra spaces\n",
    "filtered_taxa['normalized_name'] = filtered_taxa['normalized_name'].str.strip()\n",
    "filtered_taxa['normalized_name'] = filtered_taxa['normalized_name'].replace(\n",
    "    to_replace ='  +', value = ' ', regex = True)"
   ]
  },
  {
   "cell_type": "markdown",
   "metadata": {},
   "source": [
    "## Create crowalk csv"
   ]
  },
  {
   "cell_type": "code",
   "execution_count": 11,
   "metadata": {},
   "outputs": [
    {
     "data": {
      "text/html": [
       "<div>\n",
       "<style scoped>\n",
       "    .dataframe tbody tr th:only-of-type {\n",
       "        vertical-align: middle;\n",
       "    }\n",
       "\n",
       "    .dataframe tbody tr th {\n",
       "        vertical-align: top;\n",
       "    }\n",
       "\n",
       "    .dataframe thead th {\n",
       "        text-align: right;\n",
       "    }\n",
       "</style>\n",
       "<table border=\"1\" class=\"dataframe\">\n",
       "  <thead>\n",
       "    <tr style=\"text-align: right;\">\n",
       "      <th></th>\n",
       "      <th>Any taxon above genus</th>\n",
       "      <th>genus modifier</th>\n",
       "      <th>genus name</th>\n",
       "      <th>subgenera modifier</th>\n",
       "      <th>subgenera name</th>\n",
       "      <th>species modifier</th>\n",
       "      <th>species name</th>\n",
       "      <th>subspecies modifier</th>\n",
       "      <th>subspecies name</th>\n",
       "      <th>non-taxa descriptor</th>\n",
       "      <th>normalized_name</th>\n",
       "      <th>taxon_group</th>\n",
       "      <th>verbatim_name</th>\n",
       "      <th>comments</th>\n",
       "    </tr>\n",
       "  </thead>\n",
       "  <tbody>\n",
       "    <tr>\n",
       "      <th>2263</th>\n",
       "      <td>Dinoflagellata indet.</td>\n",
       "      <td>NaN</td>\n",
       "      <td>NaN</td>\n",
       "      <td>NaN</td>\n",
       "      <td>NaN</td>\n",
       "      <td>NaN</td>\n",
       "      <td>NaN</td>\n",
       "      <td>NaN</td>\n",
       "      <td>NaN</td>\n",
       "      <td>NaN</td>\n",
       "      <td>Dinoflagellata indet.</td>\n",
       "      <td>nannofossils</td>\n",
       "      <td>calcispheres</td>\n",
       "      <td>calcispheres</td>\n",
       "    </tr>\n",
       "    <tr>\n",
       "      <th>2264</th>\n",
       "      <td>Coccolithophyceae indet.</td>\n",
       "      <td>NaN</td>\n",
       "      <td>NaN</td>\n",
       "      <td>NaN</td>\n",
       "      <td>NaN</td>\n",
       "      <td>NaN</td>\n",
       "      <td>NaN</td>\n",
       "      <td>NaN</td>\n",
       "      <td>NaN</td>\n",
       "      <td>NaN</td>\n",
       "      <td>Coccolithophyceae indet.</td>\n",
       "      <td>nannofossils</td>\n",
       "      <td>reworked taxa</td>\n",
       "      <td>reworked taxa</td>\n",
       "    </tr>\n",
       "    <tr>\n",
       "      <th>2265</th>\n",
       "      <td>Coccolithophyceae indet.</td>\n",
       "      <td>NaN</td>\n",
       "      <td>NaN</td>\n",
       "      <td>NaN</td>\n",
       "      <td>NaN</td>\n",
       "      <td>NaN</td>\n",
       "      <td>NaN</td>\n",
       "      <td>NaN</td>\n",
       "      <td>NaN</td>\n",
       "      <td>NaN</td>\n",
       "      <td>Coccolithophyceae indet.</td>\n",
       "      <td>nannofossils</td>\n",
       "      <td>Nannofossil fragments</td>\n",
       "      <td>Nannofossil fragments</td>\n",
       "    </tr>\n",
       "    <tr>\n",
       "      <th>2266</th>\n",
       "      <td>Coccolithophyceae indet.</td>\n",
       "      <td>NaN</td>\n",
       "      <td>NaN</td>\n",
       "      <td>NaN</td>\n",
       "      <td>NaN</td>\n",
       "      <td>NaN</td>\n",
       "      <td>NaN</td>\n",
       "      <td>NaN</td>\n",
       "      <td>NaN</td>\n",
       "      <td>NaN</td>\n",
       "      <td>Coccolithophyceae indet.</td>\n",
       "      <td>nannofossils</td>\n",
       "      <td>Reworked species</td>\n",
       "      <td>Reworked species</td>\n",
       "    </tr>\n",
       "    <tr>\n",
       "      <th>2267</th>\n",
       "      <td>Dinoflagellata indet.</td>\n",
       "      <td>NaN</td>\n",
       "      <td>NaN</td>\n",
       "      <td>NaN</td>\n",
       "      <td>NaN</td>\n",
       "      <td>NaN</td>\n",
       "      <td>NaN</td>\n",
       "      <td>NaN</td>\n",
       "      <td>NaN</td>\n",
       "      <td>NaN</td>\n",
       "      <td>Dinoflagellata indet.</td>\n",
       "      <td>nannofossils</td>\n",
       "      <td>Calcisphere</td>\n",
       "      <td>Calcisphere</td>\n",
       "    </tr>\n",
       "  </tbody>\n",
       "</table>\n",
       "</div>"
      ],
      "text/plain": [
       "         Any taxon above genus genus modifier genus name  subgenera modifier  \\\n",
       "2263     Dinoflagellata indet.            NaN        NaN                 NaN   \n",
       "2264  Coccolithophyceae indet.            NaN        NaN                 NaN   \n",
       "2265  Coccolithophyceae indet.            NaN        NaN                 NaN   \n",
       "2266  Coccolithophyceae indet.            NaN        NaN                 NaN   \n",
       "2267     Dinoflagellata indet.            NaN        NaN                 NaN   \n",
       "\n",
       "      subgenera name species modifier species name subspecies modifier  \\\n",
       "2263             NaN              NaN          NaN                 NaN   \n",
       "2264             NaN              NaN          NaN                 NaN   \n",
       "2265             NaN              NaN          NaN                 NaN   \n",
       "2266             NaN              NaN          NaN                 NaN   \n",
       "2267             NaN              NaN          NaN                 NaN   \n",
       "\n",
       "     subspecies name non-taxa descriptor           normalized_name  \\\n",
       "2263             NaN                 NaN     Dinoflagellata indet.   \n",
       "2264             NaN                 NaN  Coccolithophyceae indet.   \n",
       "2265             NaN                 NaN  Coccolithophyceae indet.   \n",
       "2266             NaN                 NaN  Coccolithophyceae indet.   \n",
       "2267             NaN                 NaN     Dinoflagellata indet.   \n",
       "\n",
       "       taxon_group          verbatim_name               comments  \n",
       "2263  nannofossils           calcispheres           calcispheres  \n",
       "2264  nannofossils          reworked taxa          reworked taxa  \n",
       "2265  nannofossils  Nannofossil fragments  Nannofossil fragments  \n",
       "2266  nannofossils       Reworked species       Reworked species  \n",
       "2267  nannofossils            Calcisphere            Calcisphere  "
      ]
     },
     "execution_count": 11,
     "metadata": {},
     "output_type": "execute_result"
    }
   ],
   "source": [
    "filtered_taxa.drop_duplicates(keep='first', inplace=True, subset =['verbatim_name', 'normalized_name'])\n",
    "filtered_taxa.head(5)"
   ]
  },
  {
   "cell_type": "code",
   "execution_count": 12,
   "metadata": {},
   "outputs": [
    {
     "data": {
      "text/plain": [
       "816"
      ]
     },
     "execution_count": 12,
     "metadata": {},
     "output_type": "execute_result"
    }
   ],
   "source": [
    "len(filtered_taxa)"
   ]
  },
  {
   "cell_type": "markdown",
   "metadata": {},
   "source": [
    "create crosswalk csv"
   ]
  },
  {
   "cell_type": "code",
   "execution_count": 13,
   "metadata": {},
   "outputs": [],
   "source": [
    "filtered_taxa.to_csv(crosswalk_file, index=False)"
   ]
  },
  {
   "cell_type": "markdown",
   "metadata": {},
   "source": [
    "## Create taxa list csv"
   ]
  },
  {
   "cell_type": "markdown",
   "metadata": {},
   "source": [
    "create taxa list with unique taxa fields"
   ]
  },
  {
   "cell_type": "code",
   "execution_count": 14,
   "metadata": {},
   "outputs": [
    {
     "data": {
      "text/plain": [
       "742"
      ]
     },
     "execution_count": 14,
     "metadata": {},
     "output_type": "execute_result"
    }
   ],
   "source": [
    "taxa_df = pd.DataFrame(filtered_taxa, columns=fields)\n",
    "\n",
    "# drop duplicate data\n",
    "taxa_df = taxa_df.drop(['verbatim_name', 'comments'], axis = 1)\n",
    "taxa_df = taxa_df.drop_duplicates() \n",
    "\n",
    "len(taxa_df)"
   ]
  },
  {
   "cell_type": "markdown",
   "metadata": {},
   "source": [
    "create taxa csv"
   ]
  },
  {
   "cell_type": "code",
   "execution_count": 15,
   "metadata": {},
   "outputs": [],
   "source": [
    "taxa_df.to_csv(taxa_list_file, index=False)"
   ]
  },
  {
   "cell_type": "code",
   "execution_count": null,
   "metadata": {},
   "outputs": [],
   "source": []
  }
 ],
 "metadata": {
  "kernelspec": {
   "display_name": "Python 3",
   "language": "python",
   "name": "python3"
  },
  "language_info": {
   "codemirror_mode": {
    "name": "ipython",
    "version": 3
   },
   "file_extension": ".py",
   "mimetype": "text/x-python",
   "name": "python",
   "nbconvert_exporter": "python",
   "pygments_lexer": "ipython3",
   "version": "3.6.8"
  }
 },
 "nbformat": 4,
 "nbformat_minor": 4
}
