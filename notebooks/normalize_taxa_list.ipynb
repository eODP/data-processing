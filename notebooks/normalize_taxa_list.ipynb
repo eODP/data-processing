{
 "cells": [
  {
   "cell_type": "markdown",
   "metadata": {},
   "source": [
    "# Normalize taxa list\n",
    "\n",
    "Cleanup the normalized taxa list from the eODP researchers for a given particular taxon group. Create csvs to import the taxa data into the database.   "
   ]
  },
  {
   "cell_type": "code",
   "execution_count": 1,
   "metadata": {},
   "outputs": [],
   "source": [
    "import sys\n",
    "import os\n",
    "\n",
    "import pandas as pd\n",
    "import numpy as np\n",
    "\n",
    "sys.path.append('../scripts/')\n",
    "import normalize_taxa as nt"
   ]
  },
  {
   "cell_type": "code",
   "execution_count": 2,
   "metadata": {},
   "outputs": [],
   "source": [
    "input_file =  os.path.join('raw_data', 'taxa', \n",
    "                           f'Micropal_headers_PBDB_Taxonomy_notes_taxa_list_{nt.date}.csv')\n",
    "\n",
    "taxon_group = nt.taxon_groups[1]\n",
    "crosswalk_file = os.path.join('cleaned_data', 'taxa', 'LIMS',\n",
    "                              f'taxa_crosswalk_{taxon_group}_{nt.date}.csv')\n",
    "\n",
    "taxa_list_file = os.path.join('cleaned_data', 'taxa', 'LIMS',\n",
    "                              f'taxa_list_{taxon_group}_{nt.date}.csv')"
   ]
  },
  {
   "cell_type": "code",
   "execution_count": 3,
   "metadata": {},
   "outputs": [
    {
     "data": {
      "text/plain": [
       "'bolboformids'"
      ]
     },
     "execution_count": 3,
     "metadata": {},
     "output_type": "execute_result"
    }
   ],
   "source": [
    "taxon_group"
   ]
  },
  {
   "cell_type": "markdown",
   "metadata": {},
   "source": [
    "## Import normalized taxa list"
   ]
  },
  {
   "cell_type": "code",
   "execution_count": 4,
   "metadata": {},
   "outputs": [
    {
     "data": {
      "text/html": [
       "<div>\n",
       "<style scoped>\n",
       "    .dataframe tbody tr th:only-of-type {\n",
       "        vertical-align: middle;\n",
       "    }\n",
       "\n",
       "    .dataframe tbody tr th {\n",
       "        vertical-align: top;\n",
       "    }\n",
       "\n",
       "    .dataframe thead th {\n",
       "        text-align: right;\n",
       "    }\n",
       "</style>\n",
       "<table border=\"1\" class=\"dataframe\">\n",
       "  <thead>\n",
       "    <tr style=\"text-align: right;\">\n",
       "      <th></th>\n",
       "      <th>taxon_group</th>\n",
       "      <th>verbatim_name</th>\n",
       "      <th>name</th>\n",
       "      <th>name to use (if different from \"name\")</th>\n",
       "      <th>name comment field</th>\n",
       "      <th>Comment</th>\n",
       "      <th>notes</th>\n",
       "      <th>Any taxon above genus</th>\n",
       "      <th>genus modifier</th>\n",
       "      <th>genus name</th>\n",
       "      <th>...</th>\n",
       "      <th>subgenera name</th>\n",
       "      <th>species modifier</th>\n",
       "      <th>species name</th>\n",
       "      <th>subspecies modifier</th>\n",
       "      <th>subspecies name</th>\n",
       "      <th>non-taxa descriptor</th>\n",
       "      <th>comments</th>\n",
       "      <th>pbdb_taxon_id</th>\n",
       "      <th>pbdb_taxon_name</th>\n",
       "      <th>pbdb_taxon_rank</th>\n",
       "    </tr>\n",
       "  </thead>\n",
       "  <tbody>\n",
       "    <tr>\n",
       "      <th>0</th>\n",
       "      <td>NaN</td>\n",
       "      <td>RESOLVED NAMES BY TAXONOMIC GROUP</td>\n",
       "      <td>NaN</td>\n",
       "      <td>NaN</td>\n",
       "      <td>NaN</td>\n",
       "      <td>NaN</td>\n",
       "      <td>NaN</td>\n",
       "      <td>NaN</td>\n",
       "      <td>NaN</td>\n",
       "      <td>NaN</td>\n",
       "      <td>...</td>\n",
       "      <td>NaN</td>\n",
       "      <td>NaN</td>\n",
       "      <td>NaN</td>\n",
       "      <td>NaN</td>\n",
       "      <td>NaN</td>\n",
       "      <td>NaN</td>\n",
       "      <td>NaN</td>\n",
       "      <td>NaN</td>\n",
       "      <td>NaN</td>\n",
       "      <td>NaN</td>\n",
       "    </tr>\n",
       "    <tr>\n",
       "      <th>1</th>\n",
       "      <td>benthic_forams</td>\n",
       "      <td>Pyrite</td>\n",
       "      <td>Pyrite</td>\n",
       "      <td>NaN</td>\n",
       "      <td>NaN</td>\n",
       "      <td>not a taxa; Going into Macrostrat, not PBDB</td>\n",
       "      <td>Summer 2020: deal with later; should go in as ...</td>\n",
       "      <td>NaN</td>\n",
       "      <td>NaN</td>\n",
       "      <td>NaN</td>\n",
       "      <td>...</td>\n",
       "      <td>NaN</td>\n",
       "      <td>NaN</td>\n",
       "      <td>NaN</td>\n",
       "      <td>NaN</td>\n",
       "      <td>NaN</td>\n",
       "      <td>NaN</td>\n",
       "      <td>NaN</td>\n",
       "      <td>NaN</td>\n",
       "      <td>NaN</td>\n",
       "      <td>NaN</td>\n",
       "    </tr>\n",
       "  </tbody>\n",
       "</table>\n",
       "<p>2 rows × 21 columns</p>\n",
       "</div>"
      ],
      "text/plain": [
       "      taxon_group                      verbatim_name    name  \\\n",
       "0             NaN  RESOLVED NAMES BY TAXONOMIC GROUP     NaN   \n",
       "1  benthic_forams                             Pyrite  Pyrite   \n",
       "\n",
       "  name to use (if different from \"name\") name comment field  \\\n",
       "0                                    NaN                NaN   \n",
       "1                                    NaN                NaN   \n",
       "\n",
       "                                       Comment  \\\n",
       "0                                          NaN   \n",
       "1  not a taxa; Going into Macrostrat, not PBDB   \n",
       "\n",
       "                                               notes Any taxon above genus  \\\n",
       "0                                                NaN                   NaN   \n",
       "1  Summer 2020: deal with later; should go in as ...                   NaN   \n",
       "\n",
       "  genus modifier genus name  ... subgenera name species modifier species name  \\\n",
       "0            NaN        NaN  ...            NaN              NaN          NaN   \n",
       "1            NaN        NaN  ...            NaN              NaN          NaN   \n",
       "\n",
       "  subspecies modifier subspecies name non-taxa descriptor comments  \\\n",
       "0                 NaN             NaN                 NaN      NaN   \n",
       "1                 NaN             NaN                 NaN      NaN   \n",
       "\n",
       "  pbdb_taxon_id  pbdb_taxon_name pbdb_taxon_rank  \n",
       "0           NaN              NaN             NaN  \n",
       "1           NaN              NaN             NaN  \n",
       "\n",
       "[2 rows x 21 columns]"
      ]
     },
     "execution_count": 4,
     "metadata": {},
     "output_type": "execute_result"
    }
   ],
   "source": [
    "df = pd.read_csv(input_file, skiprows = 9)\n",
    "df.head(2)"
   ]
  },
  {
   "cell_type": "code",
   "execution_count": 5,
   "metadata": {},
   "outputs": [
    {
     "data": {
      "text/plain": [
       "(4754, 21)"
      ]
     },
     "execution_count": 5,
     "metadata": {},
     "output_type": "execute_result"
    }
   ],
   "source": [
    "df.shape"
   ]
  },
  {
   "cell_type": "markdown",
   "metadata": {},
   "source": [
    "setup the columns"
   ]
  },
  {
   "cell_type": "code",
   "execution_count": 6,
   "metadata": {},
   "outputs": [],
   "source": [
    "dict = {'Comment': 'initial_comments'}\n",
    "df.rename(columns=dict, inplace=True)\n",
    "\n",
    "df['normalized_name'] = np.nan"
   ]
  },
  {
   "cell_type": "markdown",
   "metadata": {},
   "source": [
    "## Filter taxon group"
   ]
  },
  {
   "cell_type": "markdown",
   "metadata": {},
   "source": [
    "select taxa for one taxa group"
   ]
  },
  {
   "cell_type": "code",
   "execution_count": 7,
   "metadata": {},
   "outputs": [
    {
     "data": {
      "text/html": [
       "<div>\n",
       "<style scoped>\n",
       "    .dataframe tbody tr th:only-of-type {\n",
       "        vertical-align: middle;\n",
       "    }\n",
       "\n",
       "    .dataframe tbody tr th {\n",
       "        vertical-align: top;\n",
       "    }\n",
       "\n",
       "    .dataframe thead th {\n",
       "        text-align: right;\n",
       "    }\n",
       "</style>\n",
       "<table border=\"1\" class=\"dataframe\">\n",
       "  <thead>\n",
       "    <tr style=\"text-align: right;\">\n",
       "      <th></th>\n",
       "      <th>taxon_group</th>\n",
       "      <th>verbatim_name</th>\n",
       "      <th>name</th>\n",
       "      <th>name to use (if different from \"name\")</th>\n",
       "      <th>name comment field</th>\n",
       "      <th>initial_comments</th>\n",
       "      <th>notes</th>\n",
       "      <th>Any taxon above genus</th>\n",
       "      <th>genus modifier</th>\n",
       "      <th>genus name</th>\n",
       "      <th>...</th>\n",
       "      <th>species modifier</th>\n",
       "      <th>species name</th>\n",
       "      <th>subspecies modifier</th>\n",
       "      <th>subspecies name</th>\n",
       "      <th>non-taxa descriptor</th>\n",
       "      <th>comments</th>\n",
       "      <th>pbdb_taxon_id</th>\n",
       "      <th>pbdb_taxon_name</th>\n",
       "      <th>pbdb_taxon_rank</th>\n",
       "      <th>normalized_name</th>\n",
       "    </tr>\n",
       "  </thead>\n",
       "  <tbody>\n",
       "    <tr>\n",
       "      <th>1495</th>\n",
       "      <td>bolboformids</td>\n",
       "      <td>Bolboforma metzmacheri ornata</td>\n",
       "      <td>Bolboforma metzmacheri ornata</td>\n",
       "      <td>NaN</td>\n",
       "      <td>NaN</td>\n",
       "      <td>NaN</td>\n",
       "      <td>in PBDB ANS entered. PBDB has nothing as of Ju...</td>\n",
       "      <td>NaN</td>\n",
       "      <td>NaN</td>\n",
       "      <td>Bolboforma</td>\n",
       "      <td>...</td>\n",
       "      <td>NaN</td>\n",
       "      <td>metzmacheri</td>\n",
       "      <td>NaN</td>\n",
       "      <td>ornata</td>\n",
       "      <td>NaN</td>\n",
       "      <td>NaN</td>\n",
       "      <td>NaN</td>\n",
       "      <td>NaN</td>\n",
       "      <td>NaN</td>\n",
       "      <td>NaN</td>\n",
       "    </tr>\n",
       "    <tr>\n",
       "      <th>1496</th>\n",
       "      <td>bolboformids</td>\n",
       "      <td>Bolboforma subfragoris s.l.</td>\n",
       "      <td>Bolboforma subfragoris s.l.</td>\n",
       "      <td>Bolboforma subfragoris sensu lato</td>\n",
       "      <td>NaN</td>\n",
       "      <td>NaN</td>\n",
       "      <td>in PBDB, so it will be classified correctly</td>\n",
       "      <td>NaN</td>\n",
       "      <td>NaN</td>\n",
       "      <td>Bolboforma</td>\n",
       "      <td>...</td>\n",
       "      <td>s.l.</td>\n",
       "      <td>subfragoris</td>\n",
       "      <td>NaN</td>\n",
       "      <td>NaN</td>\n",
       "      <td>NaN</td>\n",
       "      <td>NaN</td>\n",
       "      <td>NaN</td>\n",
       "      <td>NaN</td>\n",
       "      <td>NaN</td>\n",
       "      <td>NaN</td>\n",
       "    </tr>\n",
       "  </tbody>\n",
       "</table>\n",
       "<p>2 rows × 22 columns</p>\n",
       "</div>"
      ],
      "text/plain": [
       "       taxon_group                  verbatim_name  \\\n",
       "1495  bolboformids  Bolboforma metzmacheri ornata   \n",
       "1496  bolboformids    Bolboforma subfragoris s.l.   \n",
       "\n",
       "                               name name to use (if different from \"name\")  \\\n",
       "1495  Bolboforma metzmacheri ornata                                    NaN   \n",
       "1496    Bolboforma subfragoris s.l.      Bolboforma subfragoris sensu lato   \n",
       "\n",
       "     name comment field initial_comments  \\\n",
       "1495                NaN              NaN   \n",
       "1496                NaN              NaN   \n",
       "\n",
       "                                                  notes Any taxon above genus  \\\n",
       "1495  in PBDB ANS entered. PBDB has nothing as of Ju...                   NaN   \n",
       "1496        in PBDB, so it will be classified correctly                   NaN   \n",
       "\n",
       "     genus modifier  genus name  ... species modifier species name  \\\n",
       "1495            NaN  Bolboforma  ...              NaN  metzmacheri   \n",
       "1496            NaN  Bolboforma  ...             s.l.  subfragoris   \n",
       "\n",
       "     subspecies modifier subspecies name non-taxa descriptor comments  \\\n",
       "1495                 NaN          ornata                 NaN      NaN   \n",
       "1496                 NaN             NaN                 NaN      NaN   \n",
       "\n",
       "     pbdb_taxon_id pbdb_taxon_name  pbdb_taxon_rank normalized_name  \n",
       "1495           NaN             NaN              NaN             NaN  \n",
       "1496           NaN             NaN              NaN             NaN  \n",
       "\n",
       "[2 rows x 22 columns]"
      ]
     },
     "execution_count": 7,
     "metadata": {},
     "output_type": "execute_result"
    }
   ],
   "source": [
    "filtered_taxa = df[df['taxon_group'] == taxon_group]\n",
    "filtered_taxa.head(2)"
   ]
  },
  {
   "cell_type": "code",
   "execution_count": 8,
   "metadata": {},
   "outputs": [
    {
     "data": {
      "text/plain": [
       "(2, 22)"
      ]
     },
     "execution_count": 8,
     "metadata": {},
     "output_type": "execute_result"
    }
   ],
   "source": [
    "filtered_taxa.shape"
   ]
  },
  {
   "cell_type": "markdown",
   "metadata": {},
   "source": [
    "## Create crosswalk csv"
   ]
  },
  {
   "cell_type": "code",
   "execution_count": 9,
   "metadata": {},
   "outputs": [
    {
     "data": {
      "text/html": [
       "<div>\n",
       "<style scoped>\n",
       "    .dataframe tbody tr th:only-of-type {\n",
       "        vertical-align: middle;\n",
       "    }\n",
       "\n",
       "    .dataframe tbody tr th {\n",
       "        vertical-align: top;\n",
       "    }\n",
       "\n",
       "    .dataframe thead th {\n",
       "        text-align: right;\n",
       "    }\n",
       "</style>\n",
       "<table border=\"1\" class=\"dataframe\">\n",
       "  <thead>\n",
       "    <tr style=\"text-align: right;\">\n",
       "      <th></th>\n",
       "      <th>Any taxon above genus</th>\n",
       "      <th>genus modifier</th>\n",
       "      <th>genus name</th>\n",
       "      <th>subgenera modifier</th>\n",
       "      <th>subgenera name</th>\n",
       "      <th>species modifier</th>\n",
       "      <th>species name</th>\n",
       "      <th>subspecies modifier</th>\n",
       "      <th>subspecies name</th>\n",
       "      <th>non-taxa descriptor</th>\n",
       "      <th>normalized_name</th>\n",
       "      <th>taxon_group</th>\n",
       "      <th>verbatim_name</th>\n",
       "      <th>initial_comments</th>\n",
       "      <th>comments</th>\n",
       "    </tr>\n",
       "  </thead>\n",
       "  <tbody>\n",
       "    <tr>\n",
       "      <th>1495</th>\n",
       "      <td>NaN</td>\n",
       "      <td>NaN</td>\n",
       "      <td>Bolboforma</td>\n",
       "      <td>NaN</td>\n",
       "      <td>NaN</td>\n",
       "      <td>NaN</td>\n",
       "      <td>metzmacheri</td>\n",
       "      <td>NaN</td>\n",
       "      <td>ornata</td>\n",
       "      <td>NaN</td>\n",
       "      <td>NaN</td>\n",
       "      <td>bolboformids</td>\n",
       "      <td>Bolboforma metzmacheri ornata</td>\n",
       "      <td>NaN</td>\n",
       "      <td>NaN</td>\n",
       "    </tr>\n",
       "    <tr>\n",
       "      <th>1496</th>\n",
       "      <td>NaN</td>\n",
       "      <td>NaN</td>\n",
       "      <td>Bolboforma</td>\n",
       "      <td>NaN</td>\n",
       "      <td>NaN</td>\n",
       "      <td>s.l.</td>\n",
       "      <td>subfragoris</td>\n",
       "      <td>NaN</td>\n",
       "      <td>NaN</td>\n",
       "      <td>NaN</td>\n",
       "      <td>NaN</td>\n",
       "      <td>bolboformids</td>\n",
       "      <td>Bolboforma subfragoris s.l.</td>\n",
       "      <td>NaN</td>\n",
       "      <td>NaN</td>\n",
       "    </tr>\n",
       "  </tbody>\n",
       "</table>\n",
       "</div>"
      ],
      "text/plain": [
       "     Any taxon above genus genus modifier  genus name subgenera modifier  \\\n",
       "1495                   NaN            NaN  Bolboforma                NaN   \n",
       "1496                   NaN            NaN  Bolboforma                NaN   \n",
       "\n",
       "     subgenera name species modifier species name subspecies modifier  \\\n",
       "1495            NaN              NaN  metzmacheri                 NaN   \n",
       "1496            NaN             s.l.  subfragoris                 NaN   \n",
       "\n",
       "     subspecies name non-taxa descriptor  normalized_name   taxon_group  \\\n",
       "1495          ornata                 NaN              NaN  bolboformids   \n",
       "1496             NaN                 NaN              NaN  bolboformids   \n",
       "\n",
       "                      verbatim_name initial_comments comments  \n",
       "1495  Bolboforma metzmacheri ornata              NaN      NaN  \n",
       "1496    Bolboforma subfragoris s.l.              NaN      NaN  "
      ]
     },
     "execution_count": 9,
     "metadata": {},
     "output_type": "execute_result"
    }
   ],
   "source": [
    "fields = nt.taxa_rank_fields + nt.taxa_fields + nt.metadata_fields\n",
    "filtered_taxa = pd.DataFrame(filtered_taxa, columns=fields)\n",
    "filtered_taxa.head(2)"
   ]
  },
  {
   "cell_type": "markdown",
   "metadata": {},
   "source": [
    "set normalized_name using the taxa fields"
   ]
  },
  {
   "cell_type": "code",
   "execution_count": 10,
   "metadata": {},
   "outputs": [
    {
     "data": {
      "text/html": [
       "<div>\n",
       "<style scoped>\n",
       "    .dataframe tbody tr th:only-of-type {\n",
       "        vertical-align: middle;\n",
       "    }\n",
       "\n",
       "    .dataframe tbody tr th {\n",
       "        vertical-align: top;\n",
       "    }\n",
       "\n",
       "    .dataframe thead th {\n",
       "        text-align: right;\n",
       "    }\n",
       "</style>\n",
       "<table border=\"1\" class=\"dataframe\">\n",
       "  <thead>\n",
       "    <tr style=\"text-align: right;\">\n",
       "      <th></th>\n",
       "      <th>Any taxon above genus</th>\n",
       "      <th>genus modifier</th>\n",
       "      <th>genus name</th>\n",
       "      <th>subgenera modifier</th>\n",
       "      <th>subgenera name</th>\n",
       "      <th>species modifier</th>\n",
       "      <th>species name</th>\n",
       "      <th>subspecies modifier</th>\n",
       "      <th>subspecies name</th>\n",
       "      <th>non-taxa descriptor</th>\n",
       "      <th>normalized_name</th>\n",
       "      <th>taxon_group</th>\n",
       "      <th>verbatim_name</th>\n",
       "      <th>initial_comments</th>\n",
       "      <th>comments</th>\n",
       "    </tr>\n",
       "  </thead>\n",
       "  <tbody>\n",
       "    <tr>\n",
       "      <th>1495</th>\n",
       "      <td>NaN</td>\n",
       "      <td>NaN</td>\n",
       "      <td>Bolboforma</td>\n",
       "      <td>NaN</td>\n",
       "      <td>NaN</td>\n",
       "      <td>NaN</td>\n",
       "      <td>metzmacheri</td>\n",
       "      <td>NaN</td>\n",
       "      <td>ornata</td>\n",
       "      <td>NaN</td>\n",
       "      <td>Bolboforma metzmacheri ornata</td>\n",
       "      <td>bolboformids</td>\n",
       "      <td>Bolboforma metzmacheri ornata</td>\n",
       "      <td>NaN</td>\n",
       "      <td>NaN</td>\n",
       "    </tr>\n",
       "    <tr>\n",
       "      <th>1496</th>\n",
       "      <td>NaN</td>\n",
       "      <td>NaN</td>\n",
       "      <td>Bolboforma</td>\n",
       "      <td>NaN</td>\n",
       "      <td>NaN</td>\n",
       "      <td>s.l.</td>\n",
       "      <td>subfragoris</td>\n",
       "      <td>NaN</td>\n",
       "      <td>NaN</td>\n",
       "      <td>NaN</td>\n",
       "      <td>Bolboforma s.l. subfragoris</td>\n",
       "      <td>bolboformids</td>\n",
       "      <td>Bolboforma subfragoris s.l.</td>\n",
       "      <td>NaN</td>\n",
       "      <td>NaN</td>\n",
       "    </tr>\n",
       "  </tbody>\n",
       "</table>\n",
       "</div>"
      ],
      "text/plain": [
       "     Any taxon above genus genus modifier  genus name subgenera modifier  \\\n",
       "1495                   NaN            NaN  Bolboforma                NaN   \n",
       "1496                   NaN            NaN  Bolboforma                NaN   \n",
       "\n",
       "     subgenera name species modifier species name subspecies modifier  \\\n",
       "1495            NaN              NaN  metzmacheri                 NaN   \n",
       "1496            NaN             s.l.  subfragoris                 NaN   \n",
       "\n",
       "     subspecies name non-taxa descriptor                normalized_name  \\\n",
       "1495          ornata                 NaN  Bolboforma metzmacheri ornata   \n",
       "1496             NaN                 NaN    Bolboforma s.l. subfragoris   \n",
       "\n",
       "       taxon_group                  verbatim_name initial_comments comments  \n",
       "1495  bolboformids  Bolboforma metzmacheri ornata              NaN      NaN  \n",
       "1496  bolboformids    Bolboforma subfragoris s.l.              NaN      NaN  "
      ]
     },
     "execution_count": 10,
     "metadata": {},
     "output_type": "execute_result"
    }
   ],
   "source": [
    "nt.add_normalized_name_column(filtered_taxa)\n",
    "filtered_taxa.head(2)"
   ]
  },
  {
   "cell_type": "code",
   "execution_count": 11,
   "metadata": {},
   "outputs": [
    {
     "data": {
      "text/plain": [
       "(2, 15)"
      ]
     },
     "execution_count": 11,
     "metadata": {},
     "output_type": "execute_result"
    }
   ],
   "source": [
    "filtered_taxa.shape"
   ]
  },
  {
   "cell_type": "code",
   "execution_count": 12,
   "metadata": {},
   "outputs": [
    {
     "data": {
      "text/plain": [
       "(2, 15)"
      ]
     },
     "execution_count": 12,
     "metadata": {},
     "output_type": "execute_result"
    }
   ],
   "source": [
    "filtered_taxa = filtered_taxa.drop(filtered_taxa[filtered_taxa['normalized_name'] == ''].index)\n",
    "filtered_taxa.shape"
   ]
  },
  {
   "cell_type": "code",
   "execution_count": 13,
   "metadata": {},
   "outputs": [
    {
     "data": {
      "text/html": [
       "<div>\n",
       "<style scoped>\n",
       "    .dataframe tbody tr th:only-of-type {\n",
       "        vertical-align: middle;\n",
       "    }\n",
       "\n",
       "    .dataframe tbody tr th {\n",
       "        vertical-align: top;\n",
       "    }\n",
       "\n",
       "    .dataframe thead th {\n",
       "        text-align: right;\n",
       "    }\n",
       "</style>\n",
       "<table border=\"1\" class=\"dataframe\">\n",
       "  <thead>\n",
       "    <tr style=\"text-align: right;\">\n",
       "      <th></th>\n",
       "      <th>Any taxon above genus</th>\n",
       "      <th>genus modifier</th>\n",
       "      <th>genus name</th>\n",
       "      <th>subgenera modifier</th>\n",
       "      <th>subgenera name</th>\n",
       "      <th>species modifier</th>\n",
       "      <th>species name</th>\n",
       "      <th>subspecies modifier</th>\n",
       "      <th>subspecies name</th>\n",
       "      <th>non-taxa descriptor</th>\n",
       "      <th>normalized_name</th>\n",
       "      <th>taxon_group</th>\n",
       "      <th>verbatim_name</th>\n",
       "      <th>initial_comments</th>\n",
       "      <th>comments</th>\n",
       "    </tr>\n",
       "  </thead>\n",
       "  <tbody>\n",
       "    <tr>\n",
       "      <th>1495</th>\n",
       "      <td>NaN</td>\n",
       "      <td>NaN</td>\n",
       "      <td>Bolboforma</td>\n",
       "      <td>NaN</td>\n",
       "      <td>NaN</td>\n",
       "      <td>NaN</td>\n",
       "      <td>metzmacheri</td>\n",
       "      <td>NaN</td>\n",
       "      <td>ornata</td>\n",
       "      <td>NaN</td>\n",
       "      <td>Bolboforma metzmacheri ornata</td>\n",
       "      <td>bolboformids</td>\n",
       "      <td>Bolboforma metzmacheri ornata</td>\n",
       "      <td>NaN</td>\n",
       "      <td>NaN</td>\n",
       "    </tr>\n",
       "    <tr>\n",
       "      <th>1496</th>\n",
       "      <td>NaN</td>\n",
       "      <td>NaN</td>\n",
       "      <td>Bolboforma</td>\n",
       "      <td>NaN</td>\n",
       "      <td>NaN</td>\n",
       "      <td>s.l.</td>\n",
       "      <td>subfragoris</td>\n",
       "      <td>NaN</td>\n",
       "      <td>NaN</td>\n",
       "      <td>NaN</td>\n",
       "      <td>Bolboforma s.l. subfragoris</td>\n",
       "      <td>bolboformids</td>\n",
       "      <td>Bolboforma subfragoris s.l.</td>\n",
       "      <td>NaN</td>\n",
       "      <td>NaN</td>\n",
       "    </tr>\n",
       "  </tbody>\n",
       "</table>\n",
       "</div>"
      ],
      "text/plain": [
       "     Any taxon above genus genus modifier  genus name subgenera modifier  \\\n",
       "1495                   NaN            NaN  Bolboforma                NaN   \n",
       "1496                   NaN            NaN  Bolboforma                NaN   \n",
       "\n",
       "     subgenera name species modifier species name subspecies modifier  \\\n",
       "1495            NaN              NaN  metzmacheri                 NaN   \n",
       "1496            NaN             s.l.  subfragoris                 NaN   \n",
       "\n",
       "     subspecies name non-taxa descriptor                normalized_name  \\\n",
       "1495          ornata                 NaN  Bolboforma metzmacheri ornata   \n",
       "1496             NaN                 NaN    Bolboforma s.l. subfragoris   \n",
       "\n",
       "       taxon_group                  verbatim_name initial_comments comments  \n",
       "1495  bolboformids  Bolboforma metzmacheri ornata              NaN      NaN  \n",
       "1496  bolboformids    Bolboforma subfragoris s.l.              NaN      NaN  "
      ]
     },
     "execution_count": 13,
     "metadata": {},
     "output_type": "execute_result"
    }
   ],
   "source": [
    "filtered_taxa.drop_duplicates(keep='first', inplace=True, subset =['verbatim_name', 'normalized_name'])\n",
    "filtered_taxa.head(5)"
   ]
  },
  {
   "cell_type": "code",
   "execution_count": 14,
   "metadata": {},
   "outputs": [
    {
     "data": {
      "text/plain": [
       "(2, 15)"
      ]
     },
     "execution_count": 14,
     "metadata": {},
     "output_type": "execute_result"
    }
   ],
   "source": [
    "filtered_taxa.shape"
   ]
  },
  {
   "cell_type": "markdown",
   "metadata": {},
   "source": [
    "create crosswalk csv"
   ]
  },
  {
   "cell_type": "code",
   "execution_count": 15,
   "metadata": {},
   "outputs": [],
   "source": [
    "filtered_taxa.to_csv(crosswalk_file, index=False)"
   ]
  },
  {
   "cell_type": "markdown",
   "metadata": {},
   "source": [
    "## Create taxa list csv"
   ]
  },
  {
   "cell_type": "markdown",
   "metadata": {},
   "source": [
    "create taxa list with unique taxa fields"
   ]
  },
  {
   "cell_type": "code",
   "execution_count": 16,
   "metadata": {},
   "outputs": [
    {
     "data": {
      "text/html": [
       "<div>\n",
       "<style scoped>\n",
       "    .dataframe tbody tr th:only-of-type {\n",
       "        vertical-align: middle;\n",
       "    }\n",
       "\n",
       "    .dataframe tbody tr th {\n",
       "        vertical-align: top;\n",
       "    }\n",
       "\n",
       "    .dataframe thead th {\n",
       "        text-align: right;\n",
       "    }\n",
       "</style>\n",
       "<table border=\"1\" class=\"dataframe\">\n",
       "  <thead>\n",
       "    <tr style=\"text-align: right;\">\n",
       "      <th></th>\n",
       "      <th>Any taxon above genus</th>\n",
       "      <th>genus modifier</th>\n",
       "      <th>genus name</th>\n",
       "      <th>subgenera modifier</th>\n",
       "      <th>subgenera name</th>\n",
       "      <th>species modifier</th>\n",
       "      <th>species name</th>\n",
       "      <th>subspecies modifier</th>\n",
       "      <th>subspecies name</th>\n",
       "      <th>non-taxa descriptor</th>\n",
       "      <th>normalized_name</th>\n",
       "      <th>taxon_group</th>\n",
       "    </tr>\n",
       "  </thead>\n",
       "  <tbody>\n",
       "    <tr>\n",
       "      <th>1495</th>\n",
       "      <td>NaN</td>\n",
       "      <td>NaN</td>\n",
       "      <td>Bolboforma</td>\n",
       "      <td>NaN</td>\n",
       "      <td>NaN</td>\n",
       "      <td>NaN</td>\n",
       "      <td>metzmacheri</td>\n",
       "      <td>NaN</td>\n",
       "      <td>ornata</td>\n",
       "      <td>NaN</td>\n",
       "      <td>Bolboforma metzmacheri ornata</td>\n",
       "      <td>bolboformids</td>\n",
       "    </tr>\n",
       "    <tr>\n",
       "      <th>1496</th>\n",
       "      <td>NaN</td>\n",
       "      <td>NaN</td>\n",
       "      <td>Bolboforma</td>\n",
       "      <td>NaN</td>\n",
       "      <td>NaN</td>\n",
       "      <td>s.l.</td>\n",
       "      <td>subfragoris</td>\n",
       "      <td>NaN</td>\n",
       "      <td>NaN</td>\n",
       "      <td>NaN</td>\n",
       "      <td>Bolboforma s.l. subfragoris</td>\n",
       "      <td>bolboformids</td>\n",
       "    </tr>\n",
       "  </tbody>\n",
       "</table>\n",
       "</div>"
      ],
      "text/plain": [
       "     Any taxon above genus genus modifier  genus name subgenera modifier  \\\n",
       "1495                   NaN            NaN  Bolboforma                NaN   \n",
       "1496                   NaN            NaN  Bolboforma                NaN   \n",
       "\n",
       "     subgenera name species modifier species name subspecies modifier  \\\n",
       "1495            NaN              NaN  metzmacheri                 NaN   \n",
       "1496            NaN             s.l.  subfragoris                 NaN   \n",
       "\n",
       "     subspecies name non-taxa descriptor                normalized_name  \\\n",
       "1495          ornata                 NaN  Bolboforma metzmacheri ornata   \n",
       "1496             NaN                 NaN    Bolboforma s.l. subfragoris   \n",
       "\n",
       "       taxon_group  \n",
       "1495  bolboformids  \n",
       "1496  bolboformids  "
      ]
     },
     "execution_count": 16,
     "metadata": {},
     "output_type": "execute_result"
    }
   ],
   "source": [
    "fields = nt.taxa_rank_fields + nt.taxa_fields\n",
    "taxa_df = pd.DataFrame(filtered_taxa, columns=fields)\n",
    "\n",
    "# drop duplicate data\n",
    "taxa_df = taxa_df.drop_duplicates() \n",
    "\n",
    "taxa_df.head()"
   ]
  },
  {
   "cell_type": "code",
   "execution_count": 17,
   "metadata": {},
   "outputs": [
    {
     "data": {
      "text/plain": [
       "(2, 12)"
      ]
     },
     "execution_count": 17,
     "metadata": {},
     "output_type": "execute_result"
    }
   ],
   "source": [
    "taxa_df.shape"
   ]
  },
  {
   "cell_type": "markdown",
   "metadata": {},
   "source": [
    "### create taxa csv"
   ]
  },
  {
   "cell_type": "code",
   "execution_count": 18,
   "metadata": {},
   "outputs": [],
   "source": [
    "taxa_df.to_csv(taxa_list_file, index=False)"
   ]
  },
  {
   "cell_type": "code",
   "execution_count": null,
   "metadata": {},
   "outputs": [],
   "source": []
  }
 ],
 "metadata": {
  "kernelspec": {
   "display_name": "Python 3",
   "language": "python",
   "name": "python3"
  },
  "language_info": {
   "codemirror_mode": {
    "name": "ipython",
    "version": 3
   },
   "file_extension": ".py",
   "mimetype": "text/x-python",
   "name": "python",
   "nbconvert_exporter": "python",
   "pygments_lexer": "ipython3",
   "version": "3.6.8"
  }
 },
 "nbformat": 4,
 "nbformat_minor": 4
}
