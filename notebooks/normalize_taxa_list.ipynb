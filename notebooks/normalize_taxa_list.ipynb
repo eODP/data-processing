{
 "cells": [
  {
   "cell_type": "markdown",
   "metadata": {},
   "source": [
    "# Normalize taxa list\n",
    "\n",
    "Cleanup the normalized taxa list from the eODP researchers for a given particular taxon group. Create csvs to import the taxa data into the database.   "
   ]
  },
  {
   "cell_type": "code",
   "execution_count": 1,
   "metadata": {},
   "outputs": [],
   "source": [
    "import pandas as pd\n",
    "import numpy as np"
   ]
  },
  {
   "cell_type": "code",
   "execution_count": 2,
   "metadata": {},
   "outputs": [
    {
     "data": {
      "text/plain": [
       "'nannofossils'"
      ]
     },
     "execution_count": 2,
     "metadata": {},
     "output_type": "execute_result"
    }
   ],
   "source": [
    "taxon_groups = [\n",
    "    'nannofossils',\n",
    "    'silicoflagellates',\n",
    "    'ostracods',\n",
    "    'ebridians',\n",
    "    'chrysophyte_cysts',\n",
    "    'bolboformids',\n",
    "    'diatoms'\n",
    "]\n",
    "taxon_group = taxon_groups[0]\n",
    "date = '2021-05-03'\n",
    "\n",
    "input_file = f'raw_data/taxa/Micropal_headers_PBDB_Taxonomy_notes_taxa_list_{date}.csv'\n",
    "crosswalk_file = f\"cleaned_data/taxa/taxa_crosswalk_{taxon_group}_{date}.csv\"\n",
    "taxa_list_file = f\"cleaned_data/taxa/taxa_list_{taxon_group}_{date}.csv\"\n",
    "\n",
    "taxon_group"
   ]
  },
  {
   "cell_type": "markdown",
   "metadata": {},
   "source": [
    "# 1. QA Micropal_headers_PBDB_Taxonomy_notes_taxa_list\n",
    "\n",
    "Check if the normalized taxa from the google sheet matches the taxa from the LIMS taxa_list.csv."
   ]
  },
  {
   "cell_type": "code",
   "execution_count": 3,
   "metadata": {},
   "outputs": [],
   "source": [
    "all_taxa_file = 'cleaned_data/taxa/taxa_list.csv'"
   ]
  },
  {
   "cell_type": "code",
   "execution_count": 4,
   "metadata": {},
   "outputs": [
    {
     "data": {
      "text/plain": [
       "(4749, 21)"
      ]
     },
     "execution_count": 4,
     "metadata": {},
     "output_type": "execute_result"
    }
   ],
   "source": [
    "normalized_df = pd.read_csv(input_file, skiprows = 9)\n",
    "normalized_df.shape"
   ]
  },
  {
   "cell_type": "code",
   "execution_count": 5,
   "metadata": {},
   "outputs": [
    {
     "data": {
      "text/html": [
       "<div>\n",
       "<style scoped>\n",
       "    .dataframe tbody tr th:only-of-type {\n",
       "        vertical-align: middle;\n",
       "    }\n",
       "\n",
       "    .dataframe tbody tr th {\n",
       "        vertical-align: top;\n",
       "    }\n",
       "\n",
       "    .dataframe thead th {\n",
       "        text-align: right;\n",
       "    }\n",
       "</style>\n",
       "<table border=\"1\" class=\"dataframe\">\n",
       "  <thead>\n",
       "    <tr style=\"text-align: right;\">\n",
       "      <th></th>\n",
       "      <th>taxon_group</th>\n",
       "      <th>verbatim_name</th>\n",
       "      <th>name</th>\n",
       "      <th>name to use (if different from \"name\")</th>\n",
       "      <th>name comment field</th>\n",
       "      <th>Comment</th>\n",
       "      <th>notes</th>\n",
       "      <th>Any taxon above genus</th>\n",
       "      <th>genus modifier</th>\n",
       "      <th>genus name</th>\n",
       "      <th>...</th>\n",
       "      <th>subgenera name</th>\n",
       "      <th>species modifier</th>\n",
       "      <th>species name</th>\n",
       "      <th>subspecies modifier</th>\n",
       "      <th>subspecies name</th>\n",
       "      <th>non-taxa descriptor</th>\n",
       "      <th>comments</th>\n",
       "      <th>pbdb_taxon_id</th>\n",
       "      <th>pbdb_taxon_name</th>\n",
       "      <th>pbdb_taxon_rank</th>\n",
       "    </tr>\n",
       "  </thead>\n",
       "  <tbody>\n",
       "    <tr>\n",
       "      <th>0</th>\n",
       "      <td>NaN</td>\n",
       "      <td>PROBLEMATIC NAMES</td>\n",
       "      <td>NaN</td>\n",
       "      <td>NaN</td>\n",
       "      <td>NaN</td>\n",
       "      <td>NaN</td>\n",
       "      <td>NaN</td>\n",
       "      <td>NaN</td>\n",
       "      <td>NaN</td>\n",
       "      <td>NaN</td>\n",
       "      <td>...</td>\n",
       "      <td>NaN</td>\n",
       "      <td>NaN</td>\n",
       "      <td>NaN</td>\n",
       "      <td>NaN</td>\n",
       "      <td>NaN</td>\n",
       "      <td>NaN</td>\n",
       "      <td>NaN</td>\n",
       "      <td>NaN</td>\n",
       "      <td>NaN</td>\n",
       "      <td>NaN</td>\n",
       "    </tr>\n",
       "    <tr>\n",
       "      <th>1</th>\n",
       "      <td>dinoflagellates</td>\n",
       "      <td>Amorphous organic matter</td>\n",
       "      <td>Amorphous organic matter</td>\n",
       "      <td>NaN</td>\n",
       "      <td>NaN</td>\n",
       "      <td>not a taxa name</td>\n",
       "      <td>Summer 2020: deal with later; should go in as ...</td>\n",
       "      <td>NaN</td>\n",
       "      <td>NaN</td>\n",
       "      <td>NaN</td>\n",
       "      <td>...</td>\n",
       "      <td>NaN</td>\n",
       "      <td>NaN</td>\n",
       "      <td>NaN</td>\n",
       "      <td>NaN</td>\n",
       "      <td>NaN</td>\n",
       "      <td>NaN</td>\n",
       "      <td>NaN</td>\n",
       "      <td>NaN</td>\n",
       "      <td>NaN</td>\n",
       "      <td>NaN</td>\n",
       "    </tr>\n",
       "  </tbody>\n",
       "</table>\n",
       "<p>2 rows × 21 columns</p>\n",
       "</div>"
      ],
      "text/plain": [
       "       taxon_group             verbatim_name                      name  \\\n",
       "0              NaN         PROBLEMATIC NAMES                       NaN   \n",
       "1  dinoflagellates  Amorphous organic matter  Amorphous organic matter   \n",
       "\n",
       "  name to use (if different from \"name\") name comment field          Comment  \\\n",
       "0                                    NaN                NaN              NaN   \n",
       "1                                    NaN                NaN  not a taxa name   \n",
       "\n",
       "                                               notes Any taxon above genus  \\\n",
       "0                                                NaN                   NaN   \n",
       "1  Summer 2020: deal with later; should go in as ...                   NaN   \n",
       "\n",
       "  genus modifier genus name  ... subgenera name species modifier species name  \\\n",
       "0            NaN        NaN  ...            NaN              NaN          NaN   \n",
       "1            NaN        NaN  ...            NaN              NaN          NaN   \n",
       "\n",
       "  subspecies modifier subspecies name non-taxa descriptor comments  \\\n",
       "0                 NaN             NaN                 NaN      NaN   \n",
       "1                 NaN             NaN                 NaN      NaN   \n",
       "\n",
       "  pbdb_taxon_id  pbdb_taxon_name pbdb_taxon_rank  \n",
       "0           NaN              NaN             NaN  \n",
       "1           NaN              NaN             NaN  \n",
       "\n",
       "[2 rows x 21 columns]"
      ]
     },
     "execution_count": 5,
     "metadata": {},
     "output_type": "execute_result"
    }
   ],
   "source": [
    "normalized_df.head(2)"
   ]
  },
  {
   "cell_type": "code",
   "execution_count": 6,
   "metadata": {},
   "outputs": [
    {
     "data": {
      "text/plain": [
       "(4738, 4)"
      ]
     },
     "execution_count": 6,
     "metadata": {},
     "output_type": "execute_result"
    }
   ],
   "source": [
    "taxa_df = pd.read_csv(all_taxa_file)\n",
    "taxa_df.shape"
   ]
  },
  {
   "cell_type": "code",
   "execution_count": 7,
   "metadata": {},
   "outputs": [
    {
     "data": {
      "text/html": [
       "<div>\n",
       "<style scoped>\n",
       "    .dataframe tbody tr th:only-of-type {\n",
       "        vertical-align: middle;\n",
       "    }\n",
       "\n",
       "    .dataframe tbody tr th {\n",
       "        vertical-align: top;\n",
       "    }\n",
       "\n",
       "    .dataframe thead th {\n",
       "        text-align: right;\n",
       "    }\n",
       "</style>\n",
       "<table border=\"1\" class=\"dataframe\">\n",
       "  <thead>\n",
       "    <tr style=\"text-align: right;\">\n",
       "      <th></th>\n",
       "      <th>verbatim_name</th>\n",
       "      <th>name</th>\n",
       "      <th>taxon_group</th>\n",
       "      <th>genera</th>\n",
       "    </tr>\n",
       "  </thead>\n",
       "  <tbody>\n",
       "    <tr>\n",
       "      <th>0</th>\n",
       "      <td>\"Globigerina\" angulisuturalis _T</td>\n",
       "      <td>\"Globigerina\" angulisuturalis _T</td>\n",
       "      <td>planktic_forams</td>\n",
       "      <td>NaN</td>\n",
       "    </tr>\n",
       "    <tr>\n",
       "      <th>1</th>\n",
       "      <td>\"Globigerina\" angulisuturalis _T_</td>\n",
       "      <td>\"Globigerina\" angulisuturalis _T_</td>\n",
       "      <td>planktic_forams</td>\n",
       "      <td>NaN</td>\n",
       "    </tr>\n",
       "  </tbody>\n",
       "</table>\n",
       "</div>"
      ],
      "text/plain": [
       "                       verbatim_name                               name  \\\n",
       "0   \"Globigerina\" angulisuturalis _T   \"Globigerina\" angulisuturalis _T   \n",
       "1  \"Globigerina\" angulisuturalis _T_  \"Globigerina\" angulisuturalis _T_   \n",
       "\n",
       "       taxon_group genera  \n",
       "0  planktic_forams    NaN  \n",
       "1  planktic_forams    NaN  "
      ]
     },
     "execution_count": 7,
     "metadata": {},
     "output_type": "execute_result"
    }
   ],
   "source": [
    "taxa_df.head(2)"
   ]
  },
  {
   "cell_type": "code",
   "execution_count": 8,
   "metadata": {},
   "outputs": [],
   "source": [
    "normalized_names = set(normalized_df['verbatim_name'])\n",
    "taxa_names = set(taxa_df['verbatim_name'])"
   ]
  },
  {
   "cell_type": "markdown",
   "metadata": {},
   "source": [
    "get taxa in the normalized taxa file that isn't in LIMS taxa file"
   ]
  },
  {
   "cell_type": "code",
   "execution_count": 9,
   "metadata": {},
   "outputs": [
    {
     "data": {
      "text/plain": [
       "3"
      ]
     },
     "execution_count": 9,
     "metadata": {},
     "output_type": "execute_result"
    }
   ],
   "source": [
    "len(normalized_names - taxa_names)"
   ]
  },
  {
   "cell_type": "code",
   "execution_count": 10,
   "metadata": {},
   "outputs": [
    {
     "data": {
      "text/plain": [
       "{'PROBLEMATIC NAMES', 'RESOLVED NAMES BY TAXONOMIC GROUP', nan}"
      ]
     },
     "execution_count": 10,
     "metadata": {},
     "output_type": "execute_result"
    }
   ],
   "source": [
    "normalized_names - taxa_names"
   ]
  },
  {
   "cell_type": "markdown",
   "metadata": {},
   "source": [
    "get taxa in the  LIMS taxa file  that isn't in normalized taxa file"
   ]
  },
  {
   "cell_type": "code",
   "execution_count": 11,
   "metadata": {},
   "outputs": [
    {
     "data": {
      "text/plain": [
       "1"
      ]
     },
     "execution_count": 11,
     "metadata": {},
     "output_type": "execute_result"
    }
   ],
   "source": [
    "len(taxa_names - normalized_names)"
   ]
  },
  {
   "cell_type": "code",
   "execution_count": 12,
   "metadata": {},
   "outputs": [
    {
     "data": {
      "text/plain": [
       "{'Sponge spicules'}"
      ]
     },
     "execution_count": 12,
     "metadata": {},
     "output_type": "execute_result"
    }
   ],
   "source": [
    "taxa_names - normalized_names"
   ]
  },
  {
   "cell_type": "markdown",
   "metadata": {},
   "source": [
    "# 2. Process normalized taxa list\n",
    "\n",
    "Create csvs to import the taxa data into the database.   "
   ]
  },
  {
   "cell_type": "markdown",
   "metadata": {},
   "source": [
    "## Import normalized taxa list"
   ]
  },
  {
   "cell_type": "code",
   "execution_count": 13,
   "metadata": {},
   "outputs": [
    {
     "data": {
      "text/html": [
       "<div>\n",
       "<style scoped>\n",
       "    .dataframe tbody tr th:only-of-type {\n",
       "        vertical-align: middle;\n",
       "    }\n",
       "\n",
       "    .dataframe tbody tr th {\n",
       "        vertical-align: top;\n",
       "    }\n",
       "\n",
       "    .dataframe thead th {\n",
       "        text-align: right;\n",
       "    }\n",
       "</style>\n",
       "<table border=\"1\" class=\"dataframe\">\n",
       "  <thead>\n",
       "    <tr style=\"text-align: right;\">\n",
       "      <th></th>\n",
       "      <th>taxon_group</th>\n",
       "      <th>verbatim_name</th>\n",
       "      <th>name</th>\n",
       "      <th>name to use (if different from \"name\")</th>\n",
       "      <th>name comment field</th>\n",
       "      <th>Comment</th>\n",
       "      <th>notes</th>\n",
       "      <th>Any taxon above genus</th>\n",
       "      <th>genus modifier</th>\n",
       "      <th>genus name</th>\n",
       "      <th>...</th>\n",
       "      <th>subgenera name</th>\n",
       "      <th>species modifier</th>\n",
       "      <th>species name</th>\n",
       "      <th>subspecies modifier</th>\n",
       "      <th>subspecies name</th>\n",
       "      <th>non-taxa descriptor</th>\n",
       "      <th>comments</th>\n",
       "      <th>pbdb_taxon_id</th>\n",
       "      <th>pbdb_taxon_name</th>\n",
       "      <th>pbdb_taxon_rank</th>\n",
       "    </tr>\n",
       "  </thead>\n",
       "  <tbody>\n",
       "    <tr>\n",
       "      <th>0</th>\n",
       "      <td>NaN</td>\n",
       "      <td>PROBLEMATIC NAMES</td>\n",
       "      <td>NaN</td>\n",
       "      <td>NaN</td>\n",
       "      <td>NaN</td>\n",
       "      <td>NaN</td>\n",
       "      <td>NaN</td>\n",
       "      <td>NaN</td>\n",
       "      <td>NaN</td>\n",
       "      <td>NaN</td>\n",
       "      <td>...</td>\n",
       "      <td>NaN</td>\n",
       "      <td>NaN</td>\n",
       "      <td>NaN</td>\n",
       "      <td>NaN</td>\n",
       "      <td>NaN</td>\n",
       "      <td>NaN</td>\n",
       "      <td>NaN</td>\n",
       "      <td>NaN</td>\n",
       "      <td>NaN</td>\n",
       "      <td>NaN</td>\n",
       "    </tr>\n",
       "    <tr>\n",
       "      <th>1</th>\n",
       "      <td>dinoflagellates</td>\n",
       "      <td>Amorphous organic matter</td>\n",
       "      <td>Amorphous organic matter</td>\n",
       "      <td>NaN</td>\n",
       "      <td>NaN</td>\n",
       "      <td>not a taxa name</td>\n",
       "      <td>Summer 2020: deal with later; should go in as ...</td>\n",
       "      <td>NaN</td>\n",
       "      <td>NaN</td>\n",
       "      <td>NaN</td>\n",
       "      <td>...</td>\n",
       "      <td>NaN</td>\n",
       "      <td>NaN</td>\n",
       "      <td>NaN</td>\n",
       "      <td>NaN</td>\n",
       "      <td>NaN</td>\n",
       "      <td>NaN</td>\n",
       "      <td>NaN</td>\n",
       "      <td>NaN</td>\n",
       "      <td>NaN</td>\n",
       "      <td>NaN</td>\n",
       "    </tr>\n",
       "  </tbody>\n",
       "</table>\n",
       "<p>2 rows × 21 columns</p>\n",
       "</div>"
      ],
      "text/plain": [
       "       taxon_group             verbatim_name                      name  \\\n",
       "0              NaN         PROBLEMATIC NAMES                       NaN   \n",
       "1  dinoflagellates  Amorphous organic matter  Amorphous organic matter   \n",
       "\n",
       "  name to use (if different from \"name\") name comment field          Comment  \\\n",
       "0                                    NaN                NaN              NaN   \n",
       "1                                    NaN                NaN  not a taxa name   \n",
       "\n",
       "                                               notes Any taxon above genus  \\\n",
       "0                                                NaN                   NaN   \n",
       "1  Summer 2020: deal with later; should go in as ...                   NaN   \n",
       "\n",
       "  genus modifier genus name  ... subgenera name species modifier species name  \\\n",
       "0            NaN        NaN  ...            NaN              NaN          NaN   \n",
       "1            NaN        NaN  ...            NaN              NaN          NaN   \n",
       "\n",
       "  subspecies modifier subspecies name non-taxa descriptor comments  \\\n",
       "0                 NaN             NaN                 NaN      NaN   \n",
       "1                 NaN             NaN                 NaN      NaN   \n",
       "\n",
       "  pbdb_taxon_id  pbdb_taxon_name pbdb_taxon_rank  \n",
       "0           NaN              NaN             NaN  \n",
       "1           NaN              NaN             NaN  \n",
       "\n",
       "[2 rows x 21 columns]"
      ]
     },
     "execution_count": 13,
     "metadata": {},
     "output_type": "execute_result"
    }
   ],
   "source": [
    "df = pd.read_csv(input_file, skiprows = 9)\n",
    "df.head(2)"
   ]
  },
  {
   "cell_type": "code",
   "execution_count": 14,
   "metadata": {},
   "outputs": [
    {
     "data": {
      "text/plain": [
       "(4749, 21)"
      ]
     },
     "execution_count": 14,
     "metadata": {},
     "output_type": "execute_result"
    }
   ],
   "source": [
    "df.shape"
   ]
  },
  {
   "cell_type": "markdown",
   "metadata": {},
   "source": [
    "drop rows with problematic taxa"
   ]
  },
  {
   "cell_type": "code",
   "execution_count": 15,
   "metadata": {},
   "outputs": [
    {
     "data": {
      "text/html": [
       "<div>\n",
       "<style scoped>\n",
       "    .dataframe tbody tr th:only-of-type {\n",
       "        vertical-align: middle;\n",
       "    }\n",
       "\n",
       "    .dataframe tbody tr th {\n",
       "        vertical-align: top;\n",
       "    }\n",
       "\n",
       "    .dataframe thead th {\n",
       "        text-align: right;\n",
       "    }\n",
       "</style>\n",
       "<table border=\"1\" class=\"dataframe\">\n",
       "  <thead>\n",
       "    <tr style=\"text-align: right;\">\n",
       "      <th></th>\n",
       "      <th>taxon_group</th>\n",
       "      <th>verbatim_name</th>\n",
       "      <th>name</th>\n",
       "      <th>name to use (if different from \"name\")</th>\n",
       "      <th>name comment field</th>\n",
       "      <th>Comment</th>\n",
       "      <th>notes</th>\n",
       "      <th>Any taxon above genus</th>\n",
       "      <th>genus modifier</th>\n",
       "      <th>genus name</th>\n",
       "      <th>...</th>\n",
       "      <th>subgenera name</th>\n",
       "      <th>species modifier</th>\n",
       "      <th>species name</th>\n",
       "      <th>subspecies modifier</th>\n",
       "      <th>subspecies name</th>\n",
       "      <th>non-taxa descriptor</th>\n",
       "      <th>comments</th>\n",
       "      <th>pbdb_taxon_id</th>\n",
       "      <th>pbdb_taxon_name</th>\n",
       "      <th>pbdb_taxon_rank</th>\n",
       "    </tr>\n",
       "  </thead>\n",
       "  <tbody>\n",
       "    <tr>\n",
       "      <th>28</th>\n",
       "      <td>benthic_forams</td>\n",
       "      <td>Pyrite</td>\n",
       "      <td>Pyrite</td>\n",
       "      <td>NaN</td>\n",
       "      <td>NaN</td>\n",
       "      <td>not a taxa</td>\n",
       "      <td>Summer 2020: deal with later; should go in as ...</td>\n",
       "      <td>Going into Macrostrat, not PBDB, Shanan will t...</td>\n",
       "      <td>NaN</td>\n",
       "      <td>NaN</td>\n",
       "      <td>...</td>\n",
       "      <td>NaN</td>\n",
       "      <td>NaN</td>\n",
       "      <td>NaN</td>\n",
       "      <td>NaN</td>\n",
       "      <td>NaN</td>\n",
       "      <td>NaN</td>\n",
       "      <td>NaN</td>\n",
       "      <td>NaN</td>\n",
       "      <td>NaN</td>\n",
       "      <td>NaN</td>\n",
       "    </tr>\n",
       "    <tr>\n",
       "      <th>29</th>\n",
       "      <td>benthic_forams</td>\n",
       "      <td>Euuvigerina miozea (group) &gt;100 m</td>\n",
       "      <td>Euuvigerina miozea (group) &gt;100 m</td>\n",
       "      <td>Euuvigerina miozea</td>\n",
       "      <td>NaN</td>\n",
       "      <td>group</td>\n",
       "      <td>Summer 2020: enter \"Euuvigerina miozea\" and re...</td>\n",
       "      <td>NaN</td>\n",
       "      <td>NaN</td>\n",
       "      <td>Euuvigerina</td>\n",
       "      <td>...</td>\n",
       "      <td>NaN</td>\n",
       "      <td>NaN</td>\n",
       "      <td>miozea</td>\n",
       "      <td>NaN</td>\n",
       "      <td>NaN</td>\n",
       "      <td>NaN</td>\n",
       "      <td>NaN</td>\n",
       "      <td>NaN</td>\n",
       "      <td>NaN</td>\n",
       "      <td>NaN</td>\n",
       "    </tr>\n",
       "  </tbody>\n",
       "</table>\n",
       "<p>2 rows × 21 columns</p>\n",
       "</div>"
      ],
      "text/plain": [
       "       taxon_group                      verbatim_name  \\\n",
       "28  benthic_forams                             Pyrite   \n",
       "29  benthic_forams  Euuvigerina miozea (group) >100 m   \n",
       "\n",
       "                                 name name to use (if different from \"name\")  \\\n",
       "28                             Pyrite                                    NaN   \n",
       "29  Euuvigerina miozea (group) >100 m                     Euuvigerina miozea   \n",
       "\n",
       "   name comment field     Comment  \\\n",
       "28                NaN  not a taxa   \n",
       "29                NaN       group   \n",
       "\n",
       "                                                notes  \\\n",
       "28  Summer 2020: deal with later; should go in as ...   \n",
       "29  Summer 2020: enter \"Euuvigerina miozea\" and re...   \n",
       "\n",
       "                                Any taxon above genus genus modifier  \\\n",
       "28  Going into Macrostrat, not PBDB, Shanan will t...            NaN   \n",
       "29                                                NaN            NaN   \n",
       "\n",
       "     genus name  ... subgenera name species modifier species name  \\\n",
       "28          NaN  ...            NaN              NaN          NaN   \n",
       "29  Euuvigerina  ...            NaN              NaN       miozea   \n",
       "\n",
       "   subspecies modifier subspecies name non-taxa descriptor comments  \\\n",
       "28                 NaN             NaN                 NaN      NaN   \n",
       "29                 NaN             NaN                 NaN      NaN   \n",
       "\n",
       "   pbdb_taxon_id  pbdb_taxon_name pbdb_taxon_rank  \n",
       "28           NaN              NaN             NaN  \n",
       "29           NaN              NaN             NaN  \n",
       "\n",
       "[2 rows x 21 columns]"
      ]
     },
     "execution_count": 15,
     "metadata": {},
     "output_type": "execute_result"
    }
   ],
   "source": [
    "df = df.drop(list(range(28)))\n",
    "df.head(2)"
   ]
  },
  {
   "cell_type": "markdown",
   "metadata": {},
   "source": [
    "rename columns"
   ]
  },
  {
   "cell_type": "code",
   "execution_count": 16,
   "metadata": {},
   "outputs": [],
   "source": [
    "dict = {'Comment': 'initial_comments', 'notes': 'processing_notes'}\n",
    "  \n",
    "df.rename(columns=dict, inplace=True)"
   ]
  },
  {
   "cell_type": "markdown",
   "metadata": {},
   "source": [
    "## Filter taxon group"
   ]
  },
  {
   "cell_type": "markdown",
   "metadata": {},
   "source": [
    "select taxa for a given taxon group  "
   ]
  },
  {
   "cell_type": "code",
   "execution_count": 17,
   "metadata": {},
   "outputs": [
    {
     "data": {
      "text/html": [
       "<div>\n",
       "<style scoped>\n",
       "    .dataframe tbody tr th:only-of-type {\n",
       "        vertical-align: middle;\n",
       "    }\n",
       "\n",
       "    .dataframe tbody tr th {\n",
       "        vertical-align: top;\n",
       "    }\n",
       "\n",
       "    .dataframe thead th {\n",
       "        text-align: right;\n",
       "    }\n",
       "</style>\n",
       "<table border=\"1\" class=\"dataframe\">\n",
       "  <thead>\n",
       "    <tr style=\"text-align: right;\">\n",
       "      <th></th>\n",
       "      <th>taxon_group</th>\n",
       "      <th>verbatim_name</th>\n",
       "      <th>name</th>\n",
       "      <th>name to use (if different from \"name\")</th>\n",
       "      <th>name comment field</th>\n",
       "      <th>initial_comments</th>\n",
       "      <th>processing_notes</th>\n",
       "      <th>Any taxon above genus</th>\n",
       "      <th>genus modifier</th>\n",
       "      <th>genus name</th>\n",
       "      <th>...</th>\n",
       "      <th>subgenera name</th>\n",
       "      <th>species modifier</th>\n",
       "      <th>species name</th>\n",
       "      <th>subspecies modifier</th>\n",
       "      <th>subspecies name</th>\n",
       "      <th>non-taxa descriptor</th>\n",
       "      <th>comments</th>\n",
       "      <th>pbdb_taxon_id</th>\n",
       "      <th>pbdb_taxon_name</th>\n",
       "      <th>pbdb_taxon_rank</th>\n",
       "    </tr>\n",
       "  </thead>\n",
       "  <tbody>\n",
       "    <tr>\n",
       "      <th>2252</th>\n",
       "      <td>nannofossils</td>\n",
       "      <td>calcispheres</td>\n",
       "      <td>calcispheres</td>\n",
       "      <td>Dinoflagellata indet.</td>\n",
       "      <td>calcispheres</td>\n",
       "      <td>group, not a taxa</td>\n",
       "      <td>in PBDB, so it will be classified correctly</td>\n",
       "      <td>Dinoflagellata indet.</td>\n",
       "      <td>NaN</td>\n",
       "      <td>NaN</td>\n",
       "      <td>...</td>\n",
       "      <td>NaN</td>\n",
       "      <td>NaN</td>\n",
       "      <td>NaN</td>\n",
       "      <td>NaN</td>\n",
       "      <td>NaN</td>\n",
       "      <td>NaN</td>\n",
       "      <td>calcispheres</td>\n",
       "      <td>NaN</td>\n",
       "      <td>NaN</td>\n",
       "      <td>NaN</td>\n",
       "    </tr>\n",
       "    <tr>\n",
       "      <th>2253</th>\n",
       "      <td>nannofossils</td>\n",
       "      <td>reworked taxa</td>\n",
       "      <td>reworked taxa</td>\n",
       "      <td>Coccolithophyceae indet.</td>\n",
       "      <td>reworked taxa</td>\n",
       "      <td>group, not a taxa</td>\n",
       "      <td>in PBDB, so it will be classified correctly</td>\n",
       "      <td>Coccolithophyceae indet.</td>\n",
       "      <td>NaN</td>\n",
       "      <td>NaN</td>\n",
       "      <td>...</td>\n",
       "      <td>NaN</td>\n",
       "      <td>NaN</td>\n",
       "      <td>NaN</td>\n",
       "      <td>NaN</td>\n",
       "      <td>NaN</td>\n",
       "      <td>NaN</td>\n",
       "      <td>reworked taxa</td>\n",
       "      <td>NaN</td>\n",
       "      <td>NaN</td>\n",
       "      <td>NaN</td>\n",
       "    </tr>\n",
       "  </tbody>\n",
       "</table>\n",
       "<p>2 rows × 21 columns</p>\n",
       "</div>"
      ],
      "text/plain": [
       "       taxon_group  verbatim_name           name  \\\n",
       "2252  nannofossils   calcispheres   calcispheres   \n",
       "2253  nannofossils  reworked taxa  reworked taxa   \n",
       "\n",
       "     name to use (if different from \"name\") name comment field  \\\n",
       "2252                  Dinoflagellata indet.       calcispheres   \n",
       "2253               Coccolithophyceae indet.      reworked taxa   \n",
       "\n",
       "       initial_comments                             processing_notes  \\\n",
       "2252  group, not a taxa  in PBDB, so it will be classified correctly   \n",
       "2253  group, not a taxa  in PBDB, so it will be classified correctly   \n",
       "\n",
       "         Any taxon above genus genus modifier genus name  ... subgenera name  \\\n",
       "2252     Dinoflagellata indet.            NaN        NaN  ...            NaN   \n",
       "2253  Coccolithophyceae indet.            NaN        NaN  ...            NaN   \n",
       "\n",
       "     species modifier species name subspecies modifier subspecies name  \\\n",
       "2252              NaN          NaN                 NaN             NaN   \n",
       "2253              NaN          NaN                 NaN             NaN   \n",
       "\n",
       "     non-taxa descriptor       comments pbdb_taxon_id  pbdb_taxon_name  \\\n",
       "2252                 NaN   calcispheres           NaN              NaN   \n",
       "2253                 NaN  reworked taxa           NaN              NaN   \n",
       "\n",
       "     pbdb_taxon_rank  \n",
       "2252             NaN  \n",
       "2253             NaN  \n",
       "\n",
       "[2 rows x 21 columns]"
      ]
     },
     "execution_count": 17,
     "metadata": {},
     "output_type": "execute_result"
    }
   ],
   "source": [
    "filtered_taxa = df[df['taxon_group'] == taxon_group].copy()\n",
    "filtered_taxa.head(2)"
   ]
  },
  {
   "cell_type": "code",
   "execution_count": 18,
   "metadata": {},
   "outputs": [
    {
     "data": {
      "text/plain": [
       "(817, 21)"
      ]
     },
     "execution_count": 18,
     "metadata": {},
     "output_type": "execute_result"
    }
   ],
   "source": [
    "filtered_taxa.shape"
   ]
  },
  {
   "cell_type": "markdown",
   "metadata": {},
   "source": [
    "select columns for output csvs"
   ]
  },
  {
   "cell_type": "code",
   "execution_count": 19,
   "metadata": {},
   "outputs": [],
   "source": [
    "taxa_rank_fields = [\n",
    "    'Any taxon above genus',\n",
    "    'genus modifier',\n",
    "    'genus name',\n",
    "    'subgenera modifier',\n",
    "    'subgenera name',\n",
    "    'species modifier',\n",
    "    'species name',\n",
    "    'subspecies modifier',\n",
    "    'subspecies name',\n",
    "]\n",
    "\n",
    "taxa_fields = [\n",
    "    'non-taxa descriptor',\n",
    "    'normalized_name', \n",
    "    'taxon_group'\n",
    "]\n",
    "\n",
    "metadata_fields = [\n",
    "    'verbatim_name',\n",
    "    'initial_comments',\n",
    "    'processing_notes',\n",
    "    'comments',\n",
    "]\n",
    "fields = taxa_rank_fields + taxa_fields + metadata_fields"
   ]
  },
  {
   "cell_type": "code",
   "execution_count": 20,
   "metadata": {},
   "outputs": [
    {
     "data": {
      "text/html": [
       "<div>\n",
       "<style scoped>\n",
       "    .dataframe tbody tr th:only-of-type {\n",
       "        vertical-align: middle;\n",
       "    }\n",
       "\n",
       "    .dataframe tbody tr th {\n",
       "        vertical-align: top;\n",
       "    }\n",
       "\n",
       "    .dataframe thead th {\n",
       "        text-align: right;\n",
       "    }\n",
       "</style>\n",
       "<table border=\"1\" class=\"dataframe\">\n",
       "  <thead>\n",
       "    <tr style=\"text-align: right;\">\n",
       "      <th></th>\n",
       "      <th>Any taxon above genus</th>\n",
       "      <th>genus modifier</th>\n",
       "      <th>genus name</th>\n",
       "      <th>subgenera modifier</th>\n",
       "      <th>subgenera name</th>\n",
       "      <th>species modifier</th>\n",
       "      <th>species name</th>\n",
       "      <th>subspecies modifier</th>\n",
       "      <th>subspecies name</th>\n",
       "      <th>non-taxa descriptor</th>\n",
       "      <th>normalized_name</th>\n",
       "      <th>taxon_group</th>\n",
       "      <th>verbatim_name</th>\n",
       "      <th>initial_comments</th>\n",
       "      <th>processing_notes</th>\n",
       "      <th>comments</th>\n",
       "    </tr>\n",
       "  </thead>\n",
       "  <tbody>\n",
       "    <tr>\n",
       "      <th>2252</th>\n",
       "      <td>Dinoflagellata indet.</td>\n",
       "      <td>NaN</td>\n",
       "      <td>NaN</td>\n",
       "      <td>NaN</td>\n",
       "      <td>NaN</td>\n",
       "      <td>NaN</td>\n",
       "      <td>NaN</td>\n",
       "      <td>NaN</td>\n",
       "      <td>NaN</td>\n",
       "      <td>NaN</td>\n",
       "      <td>NaN</td>\n",
       "      <td>nannofossils</td>\n",
       "      <td>calcispheres</td>\n",
       "      <td>group, not a taxa</td>\n",
       "      <td>in PBDB, so it will be classified correctly</td>\n",
       "      <td>calcispheres</td>\n",
       "    </tr>\n",
       "    <tr>\n",
       "      <th>2253</th>\n",
       "      <td>Coccolithophyceae indet.</td>\n",
       "      <td>NaN</td>\n",
       "      <td>NaN</td>\n",
       "      <td>NaN</td>\n",
       "      <td>NaN</td>\n",
       "      <td>NaN</td>\n",
       "      <td>NaN</td>\n",
       "      <td>NaN</td>\n",
       "      <td>NaN</td>\n",
       "      <td>NaN</td>\n",
       "      <td>NaN</td>\n",
       "      <td>nannofossils</td>\n",
       "      <td>reworked taxa</td>\n",
       "      <td>group, not a taxa</td>\n",
       "      <td>in PBDB, so it will be classified correctly</td>\n",
       "      <td>reworked taxa</td>\n",
       "    </tr>\n",
       "  </tbody>\n",
       "</table>\n",
       "</div>"
      ],
      "text/plain": [
       "         Any taxon above genus genus modifier genus name subgenera modifier  \\\n",
       "2252     Dinoflagellata indet.            NaN        NaN                NaN   \n",
       "2253  Coccolithophyceae indet.            NaN        NaN                NaN   \n",
       "\n",
       "     subgenera name species modifier species name subspecies modifier  \\\n",
       "2252            NaN              NaN          NaN                 NaN   \n",
       "2253            NaN              NaN          NaN                 NaN   \n",
       "\n",
       "     subspecies name non-taxa descriptor  normalized_name   taxon_group  \\\n",
       "2252             NaN                 NaN              NaN  nannofossils   \n",
       "2253             NaN                 NaN              NaN  nannofossils   \n",
       "\n",
       "      verbatim_name   initial_comments  \\\n",
       "2252   calcispheres  group, not a taxa   \n",
       "2253  reworked taxa  group, not a taxa   \n",
       "\n",
       "                                 processing_notes       comments  \n",
       "2252  in PBDB, so it will be classified correctly   calcispheres  \n",
       "2253  in PBDB, so it will be classified correctly  reworked taxa  "
      ]
     },
     "execution_count": 20,
     "metadata": {},
     "output_type": "execute_result"
    }
   ],
   "source": [
    "filtered_taxa['normalized_name'] = np.nan\n",
    "filtered_taxa = filtered_taxa[fields]\n",
    "filtered_taxa.head(2)"
   ]
  },
  {
   "cell_type": "markdown",
   "metadata": {},
   "source": [
    "## Add normalized_name"
   ]
  },
  {
   "cell_type": "markdown",
   "metadata": {},
   "source": [
    "set normalized_name using the taxa fields"
   ]
  },
  {
   "cell_type": "code",
   "execution_count": 21,
   "metadata": {},
   "outputs": [],
   "source": [
    "# concatenate taxa fields\n",
    "filtered_taxa['normalized_name'] = filtered_taxa['Any taxon above genus'].str.cat(\n",
    "    filtered_taxa[taxa_rank_fields[1:]], sep=' ', na_rep='')\n",
    "\n",
    "# add \"(descriptor)\" if it exists\n",
    "descriptor = np.where(\n",
    "    filtered_taxa['non-taxa descriptor'].notnull(),\n",
    "    '(' + filtered_taxa['non-taxa descriptor'] + ')',\n",
    "    ''\n",
    ")\n",
    "filtered_taxa['normalized_name'] = filtered_taxa['normalized_name'] + descriptor"
   ]
  },
  {
   "cell_type": "code",
   "execution_count": 22,
   "metadata": {},
   "outputs": [],
   "source": [
    "# get rid of extra spaces\n",
    "filtered_taxa['normalized_name'] = filtered_taxa['normalized_name'].str.strip()\n",
    "filtered_taxa['normalized_name'] = filtered_taxa['normalized_name'].replace(\n",
    "    to_replace ='  +', value = ' ', regex = True)"
   ]
  },
  {
   "cell_type": "markdown",
   "metadata": {},
   "source": [
    "## Create crosswalk csv"
   ]
  },
  {
   "cell_type": "code",
   "execution_count": 23,
   "metadata": {},
   "outputs": [
    {
     "data": {
      "text/html": [
       "<div>\n",
       "<style scoped>\n",
       "    .dataframe tbody tr th:only-of-type {\n",
       "        vertical-align: middle;\n",
       "    }\n",
       "\n",
       "    .dataframe tbody tr th {\n",
       "        vertical-align: top;\n",
       "    }\n",
       "\n",
       "    .dataframe thead th {\n",
       "        text-align: right;\n",
       "    }\n",
       "</style>\n",
       "<table border=\"1\" class=\"dataframe\">\n",
       "  <thead>\n",
       "    <tr style=\"text-align: right;\">\n",
       "      <th></th>\n",
       "      <th>Any taxon above genus</th>\n",
       "      <th>genus modifier</th>\n",
       "      <th>genus name</th>\n",
       "      <th>subgenera modifier</th>\n",
       "      <th>subgenera name</th>\n",
       "      <th>species modifier</th>\n",
       "      <th>species name</th>\n",
       "      <th>subspecies modifier</th>\n",
       "      <th>subspecies name</th>\n",
       "      <th>non-taxa descriptor</th>\n",
       "      <th>normalized_name</th>\n",
       "      <th>taxon_group</th>\n",
       "      <th>verbatim_name</th>\n",
       "      <th>initial_comments</th>\n",
       "      <th>processing_notes</th>\n",
       "      <th>comments</th>\n",
       "    </tr>\n",
       "  </thead>\n",
       "  <tbody>\n",
       "    <tr>\n",
       "      <th>2252</th>\n",
       "      <td>Dinoflagellata indet.</td>\n",
       "      <td>NaN</td>\n",
       "      <td>NaN</td>\n",
       "      <td>NaN</td>\n",
       "      <td>NaN</td>\n",
       "      <td>NaN</td>\n",
       "      <td>NaN</td>\n",
       "      <td>NaN</td>\n",
       "      <td>NaN</td>\n",
       "      <td>NaN</td>\n",
       "      <td>Dinoflagellata indet.</td>\n",
       "      <td>nannofossils</td>\n",
       "      <td>calcispheres</td>\n",
       "      <td>group, not a taxa</td>\n",
       "      <td>in PBDB, so it will be classified correctly</td>\n",
       "      <td>calcispheres</td>\n",
       "    </tr>\n",
       "    <tr>\n",
       "      <th>2253</th>\n",
       "      <td>Coccolithophyceae indet.</td>\n",
       "      <td>NaN</td>\n",
       "      <td>NaN</td>\n",
       "      <td>NaN</td>\n",
       "      <td>NaN</td>\n",
       "      <td>NaN</td>\n",
       "      <td>NaN</td>\n",
       "      <td>NaN</td>\n",
       "      <td>NaN</td>\n",
       "      <td>NaN</td>\n",
       "      <td>Coccolithophyceae indet.</td>\n",
       "      <td>nannofossils</td>\n",
       "      <td>reworked taxa</td>\n",
       "      <td>group, not a taxa</td>\n",
       "      <td>in PBDB, so it will be classified correctly</td>\n",
       "      <td>reworked taxa</td>\n",
       "    </tr>\n",
       "    <tr>\n",
       "      <th>2254</th>\n",
       "      <td>Coccolithophyceae indet.</td>\n",
       "      <td>NaN</td>\n",
       "      <td>NaN</td>\n",
       "      <td>NaN</td>\n",
       "      <td>NaN</td>\n",
       "      <td>NaN</td>\n",
       "      <td>NaN</td>\n",
       "      <td>NaN</td>\n",
       "      <td>NaN</td>\n",
       "      <td>NaN</td>\n",
       "      <td>Coccolithophyceae indet.</td>\n",
       "      <td>nannofossils</td>\n",
       "      <td>Nannofossil fragments</td>\n",
       "      <td>not a taxa</td>\n",
       "      <td>in PBDB, so it will be classified correctly</td>\n",
       "      <td>Nannofossil fragments</td>\n",
       "    </tr>\n",
       "    <tr>\n",
       "      <th>2255</th>\n",
       "      <td>Coccolithophyceae indet.</td>\n",
       "      <td>NaN</td>\n",
       "      <td>NaN</td>\n",
       "      <td>NaN</td>\n",
       "      <td>NaN</td>\n",
       "      <td>NaN</td>\n",
       "      <td>NaN</td>\n",
       "      <td>NaN</td>\n",
       "      <td>NaN</td>\n",
       "      <td>NaN</td>\n",
       "      <td>Coccolithophyceae indet.</td>\n",
       "      <td>nannofossils</td>\n",
       "      <td>Reworked species</td>\n",
       "      <td>not a taxa</td>\n",
       "      <td>in PBDB, so it will be classified correctly</td>\n",
       "      <td>Reworked species</td>\n",
       "    </tr>\n",
       "    <tr>\n",
       "      <th>2256</th>\n",
       "      <td>Dinoflagellata indet.</td>\n",
       "      <td>NaN</td>\n",
       "      <td>NaN</td>\n",
       "      <td>NaN</td>\n",
       "      <td>NaN</td>\n",
       "      <td>NaN</td>\n",
       "      <td>NaN</td>\n",
       "      <td>NaN</td>\n",
       "      <td>NaN</td>\n",
       "      <td>NaN</td>\n",
       "      <td>Dinoflagellata indet.</td>\n",
       "      <td>nannofossils</td>\n",
       "      <td>Calcisphere</td>\n",
       "      <td>not a taxa</td>\n",
       "      <td>in PBDB, so it will be classified correctly</td>\n",
       "      <td>Calcisphere</td>\n",
       "    </tr>\n",
       "  </tbody>\n",
       "</table>\n",
       "</div>"
      ],
      "text/plain": [
       "         Any taxon above genus genus modifier genus name subgenera modifier  \\\n",
       "2252     Dinoflagellata indet.            NaN        NaN                NaN   \n",
       "2253  Coccolithophyceae indet.            NaN        NaN                NaN   \n",
       "2254  Coccolithophyceae indet.            NaN        NaN                NaN   \n",
       "2255  Coccolithophyceae indet.            NaN        NaN                NaN   \n",
       "2256     Dinoflagellata indet.            NaN        NaN                NaN   \n",
       "\n",
       "     subgenera name species modifier species name subspecies modifier  \\\n",
       "2252            NaN              NaN          NaN                 NaN   \n",
       "2253            NaN              NaN          NaN                 NaN   \n",
       "2254            NaN              NaN          NaN                 NaN   \n",
       "2255            NaN              NaN          NaN                 NaN   \n",
       "2256            NaN              NaN          NaN                 NaN   \n",
       "\n",
       "     subspecies name non-taxa descriptor           normalized_name  \\\n",
       "2252             NaN                 NaN     Dinoflagellata indet.   \n",
       "2253             NaN                 NaN  Coccolithophyceae indet.   \n",
       "2254             NaN                 NaN  Coccolithophyceae indet.   \n",
       "2255             NaN                 NaN  Coccolithophyceae indet.   \n",
       "2256             NaN                 NaN     Dinoflagellata indet.   \n",
       "\n",
       "       taxon_group          verbatim_name   initial_comments  \\\n",
       "2252  nannofossils           calcispheres  group, not a taxa   \n",
       "2253  nannofossils          reworked taxa  group, not a taxa   \n",
       "2254  nannofossils  Nannofossil fragments         not a taxa   \n",
       "2255  nannofossils       Reworked species         not a taxa   \n",
       "2256  nannofossils            Calcisphere         not a taxa   \n",
       "\n",
       "                                 processing_notes               comments  \n",
       "2252  in PBDB, so it will be classified correctly           calcispheres  \n",
       "2253  in PBDB, so it will be classified correctly          reworked taxa  \n",
       "2254  in PBDB, so it will be classified correctly  Nannofossil fragments  \n",
       "2255  in PBDB, so it will be classified correctly       Reworked species  \n",
       "2256  in PBDB, so it will be classified correctly            Calcisphere  "
      ]
     },
     "execution_count": 23,
     "metadata": {},
     "output_type": "execute_result"
    }
   ],
   "source": [
    "filtered_taxa.drop_duplicates(keep='first', inplace=True, subset =['verbatim_name', 'normalized_name'])\n",
    "filtered_taxa.head(5)"
   ]
  },
  {
   "cell_type": "code",
   "execution_count": 24,
   "metadata": {},
   "outputs": [
    {
     "data": {
      "text/plain": [
       "(817, 16)"
      ]
     },
     "execution_count": 24,
     "metadata": {},
     "output_type": "execute_result"
    }
   ],
   "source": [
    "filtered_taxa.shape"
   ]
  },
  {
   "cell_type": "markdown",
   "metadata": {},
   "source": [
    "create crosswalk csv"
   ]
  },
  {
   "cell_type": "code",
   "execution_count": 25,
   "metadata": {},
   "outputs": [],
   "source": [
    "filtered_taxa.to_csv(crosswalk_file, index=False)"
   ]
  },
  {
   "cell_type": "markdown",
   "metadata": {},
   "source": [
    "## Create taxa list csv"
   ]
  },
  {
   "cell_type": "markdown",
   "metadata": {},
   "source": [
    "create taxa list with unique taxa fields"
   ]
  },
  {
   "cell_type": "code",
   "execution_count": 26,
   "metadata": {},
   "outputs": [
    {
     "data": {
      "text/html": [
       "<div>\n",
       "<style scoped>\n",
       "    .dataframe tbody tr th:only-of-type {\n",
       "        vertical-align: middle;\n",
       "    }\n",
       "\n",
       "    .dataframe tbody tr th {\n",
       "        vertical-align: top;\n",
       "    }\n",
       "\n",
       "    .dataframe thead th {\n",
       "        text-align: right;\n",
       "    }\n",
       "</style>\n",
       "<table border=\"1\" class=\"dataframe\">\n",
       "  <thead>\n",
       "    <tr style=\"text-align: right;\">\n",
       "      <th></th>\n",
       "      <th>Any taxon above genus</th>\n",
       "      <th>genus modifier</th>\n",
       "      <th>genus name</th>\n",
       "      <th>subgenera modifier</th>\n",
       "      <th>subgenera name</th>\n",
       "      <th>species modifier</th>\n",
       "      <th>species name</th>\n",
       "      <th>subspecies modifier</th>\n",
       "      <th>subspecies name</th>\n",
       "      <th>non-taxa descriptor</th>\n",
       "      <th>normalized_name</th>\n",
       "      <th>taxon_group</th>\n",
       "    </tr>\n",
       "  </thead>\n",
       "  <tbody>\n",
       "    <tr>\n",
       "      <th>2252</th>\n",
       "      <td>Dinoflagellata indet.</td>\n",
       "      <td>NaN</td>\n",
       "      <td>NaN</td>\n",
       "      <td>NaN</td>\n",
       "      <td>NaN</td>\n",
       "      <td>NaN</td>\n",
       "      <td>NaN</td>\n",
       "      <td>NaN</td>\n",
       "      <td>NaN</td>\n",
       "      <td>NaN</td>\n",
       "      <td>Dinoflagellata indet.</td>\n",
       "      <td>nannofossils</td>\n",
       "    </tr>\n",
       "    <tr>\n",
       "      <th>2253</th>\n",
       "      <td>Coccolithophyceae indet.</td>\n",
       "      <td>NaN</td>\n",
       "      <td>NaN</td>\n",
       "      <td>NaN</td>\n",
       "      <td>NaN</td>\n",
       "      <td>NaN</td>\n",
       "      <td>NaN</td>\n",
       "      <td>NaN</td>\n",
       "      <td>NaN</td>\n",
       "      <td>NaN</td>\n",
       "      <td>Coccolithophyceae indet.</td>\n",
       "      <td>nannofossils</td>\n",
       "    </tr>\n",
       "    <tr>\n",
       "      <th>2258</th>\n",
       "      <td>NaN</td>\n",
       "      <td>NaN</td>\n",
       "      <td>Cyclicargolithus</td>\n",
       "      <td>NaN</td>\n",
       "      <td>NaN</td>\n",
       "      <td>cf.</td>\n",
       "      <td>floridanus</td>\n",
       "      <td>NaN</td>\n",
       "      <td>NaN</td>\n",
       "      <td>NaN</td>\n",
       "      <td>Cyclicargolithus cf. floridanus</td>\n",
       "      <td>nannofossils</td>\n",
       "    </tr>\n",
       "    <tr>\n",
       "      <th>2259</th>\n",
       "      <td>NaN</td>\n",
       "      <td>NaN</td>\n",
       "      <td>Ahmuellerella</td>\n",
       "      <td>NaN</td>\n",
       "      <td>NaN</td>\n",
       "      <td>NaN</td>\n",
       "      <td>octoradiata</td>\n",
       "      <td>NaN</td>\n",
       "      <td>NaN</td>\n",
       "      <td>NaN</td>\n",
       "      <td>Ahmuellerella octoradiata</td>\n",
       "      <td>nannofossils</td>\n",
       "    </tr>\n",
       "    <tr>\n",
       "      <th>2260</th>\n",
       "      <td>NaN</td>\n",
       "      <td>NaN</td>\n",
       "      <td>Algirosphaera</td>\n",
       "      <td>NaN</td>\n",
       "      <td>NaN</td>\n",
       "      <td>NaN</td>\n",
       "      <td>robusta</td>\n",
       "      <td>NaN</td>\n",
       "      <td>NaN</td>\n",
       "      <td>NaN</td>\n",
       "      <td>Algirosphaera robusta</td>\n",
       "      <td>nannofossils</td>\n",
       "    </tr>\n",
       "  </tbody>\n",
       "</table>\n",
       "</div>"
      ],
      "text/plain": [
       "         Any taxon above genus genus modifier        genus name  \\\n",
       "2252     Dinoflagellata indet.            NaN               NaN   \n",
       "2253  Coccolithophyceae indet.            NaN               NaN   \n",
       "2258                       NaN            NaN  Cyclicargolithus   \n",
       "2259                       NaN            NaN     Ahmuellerella   \n",
       "2260                       NaN            NaN     Algirosphaera   \n",
       "\n",
       "     subgenera modifier subgenera name species modifier species name  \\\n",
       "2252                NaN            NaN              NaN          NaN   \n",
       "2253                NaN            NaN              NaN          NaN   \n",
       "2258                NaN            NaN              cf.   floridanus   \n",
       "2259                NaN            NaN              NaN  octoradiata   \n",
       "2260                NaN            NaN              NaN      robusta   \n",
       "\n",
       "     subspecies modifier subspecies name non-taxa descriptor  \\\n",
       "2252                 NaN             NaN                 NaN   \n",
       "2253                 NaN             NaN                 NaN   \n",
       "2258                 NaN             NaN                 NaN   \n",
       "2259                 NaN             NaN                 NaN   \n",
       "2260                 NaN             NaN                 NaN   \n",
       "\n",
       "                      normalized_name   taxon_group  \n",
       "2252            Dinoflagellata indet.  nannofossils  \n",
       "2253         Coccolithophyceae indet.  nannofossils  \n",
       "2258  Cyclicargolithus cf. floridanus  nannofossils  \n",
       "2259        Ahmuellerella octoradiata  nannofossils  \n",
       "2260            Algirosphaera robusta  nannofossils  "
      ]
     },
     "execution_count": 26,
     "metadata": {},
     "output_type": "execute_result"
    }
   ],
   "source": [
    "taxa_df = pd.DataFrame(filtered_taxa, columns=taxa_rank_fields + taxa_fields)\n",
    "\n",
    "# drop duplicate data\n",
    "taxa_df = taxa_df.drop_duplicates() \n",
    "\n",
    "taxa_df.head()"
   ]
  },
  {
   "cell_type": "code",
   "execution_count": 27,
   "metadata": {},
   "outputs": [
    {
     "data": {
      "text/plain": [
       "(741, 12)"
      ]
     },
     "execution_count": 27,
     "metadata": {},
     "output_type": "execute_result"
    }
   ],
   "source": [
    "taxa_df.shape"
   ]
  },
  {
   "cell_type": "markdown",
   "metadata": {},
   "source": [
    "### create taxa csv"
   ]
  },
  {
   "cell_type": "code",
   "execution_count": 28,
   "metadata": {},
   "outputs": [],
   "source": [
    "taxa_df.to_csv(taxa_list_file, index=False)"
   ]
  },
  {
   "cell_type": "code",
   "execution_count": null,
   "metadata": {},
   "outputs": [],
   "source": []
  },
  {
   "cell_type": "code",
   "execution_count": null,
   "metadata": {},
   "outputs": [],
   "source": []
  }
 ],
 "metadata": {
  "kernelspec": {
   "display_name": "Python 3",
   "language": "python",
   "name": "python3"
  },
  "language_info": {
   "codemirror_mode": {
    "name": "ipython",
    "version": 3
   },
   "file_extension": ".py",
   "mimetype": "text/x-python",
   "name": "python",
   "nbconvert_exporter": "python",
   "pygments_lexer": "ipython3",
   "version": "3.6.8"
  }
 },
 "nbformat": 4,
 "nbformat_minor": 4
}
