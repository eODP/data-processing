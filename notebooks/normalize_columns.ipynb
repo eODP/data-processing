{
 "cells": [
  {
   "cell_type": "markdown",
   "metadata": {},
   "source": [
    "# Normalize CSV columns"
   ]
  },
  {
   "cell_type": "markdown",
   "metadata": {},
   "source": [
    "Normalize the columns for the eODP CSVs."
   ]
  },
  {
   "cell_type": "code",
   "execution_count": 1,
   "metadata": {},
   "outputs": [],
   "source": [
    "import sys\n",
    "import os\n",
    "import glob\n",
    "sys.path.append('../scripts/')\n",
    "\n",
    "import pandas as pd\n",
    "\n",
    "from normalize_data import (\n",
    "    add_sample_col, \n",
    "    add_expedition_aw_cols, \n",
    "    csv_cleanup,\n",
    "    update_metadata,\n",
    "    append_set,\n",
    "    filter_existing_set,\n",
    "    normalize_columns,\n",
    "    add_missing_columns,\n",
    "    create_sample_name_for_row,\n",
    "    check_duplicate_columns,\n",
    "    get_columns_from_file_or_disk,\n",
    ")"
   ]
  },
  {
   "cell_type": "code",
   "execution_count": 2,
   "metadata": {},
   "outputs": [],
   "source": [
    "base_directory = 'cleaned_data'\n",
    "raw_data_directory = 'raw_data'\n",
    "\n",
    "lithology_meta = os.path.join(base_directory, 'metadata', 'LIMS','Lithology_changes.csv')\n",
    "micropal_meta = os.path.join(base_directory, 'metadata', 'LIMS', 'Micropal_changes.csv')\n",
    "\n",
    "lithology_type = 'lithology'\n",
    "taxa_type = 'taxa'\n",
    "\n",
    "columns_file = os.path.join(base_directory, 'metadata', 'LIMS','columns_list.csv')"
   ]
  },
  {
   "cell_type": "code",
   "execution_count": 3,
   "metadata": {},
   "outputs": [],
   "source": [
    "metadata_file = micropal_meta\n",
    "data_type = taxa_type\n",
    "duplicate_columns_file = os.path.join(base_directory, \n",
    "                                      'metadata', \n",
    "                                      'LIMS',\n",
    "                                      f'duplicate_columns_needs_reivew_{data_type}.csv')"
   ]
  },
  {
   "cell_type": "markdown",
   "metadata": {},
   "source": [
    "## 1. Remove empty rows and columns\n",
    "\n",
    "remove empty rows and columns without headers or data"
   ]
  },
  {
   "cell_type": "code",
   "execution_count": 4,
   "metadata": {},
   "outputs": [
    {
     "data": {
      "text/html": [
       "<div>\n",
       "<style scoped>\n",
       "    .dataframe tbody tr th:only-of-type {\n",
       "        vertical-align: middle;\n",
       "    }\n",
       "\n",
       "    .dataframe tbody tr th {\n",
       "        vertical-align: top;\n",
       "    }\n",
       "\n",
       "    .dataframe thead th {\n",
       "        text-align: right;\n",
       "    }\n",
       "</style>\n",
       "<table border=\"1\" class=\"dataframe\">\n",
       "  <thead>\n",
       "    <tr style=\"text-align: right;\">\n",
       "      <th></th>\n",
       "      <th>file</th>\n",
       "      <th>path</th>\n",
       "      <th>taxon_group</th>\n",
       "      <th>empty_rows_columns</th>\n",
       "      <th>remove_identical_rows</th>\n",
       "      <th>remove_identical_columns</th>\n",
       "      <th>standardize_headers</th>\n",
       "      <th>add_expedition_aw_cols</th>\n",
       "      <th>add_sample_column</th>\n",
       "      <th>add_missing_cols</th>\n",
       "      <th>clean_up_taxa_values</th>\n",
       "      <th>clean_up_taxa_metadata_values</th>\n",
       "      <th>update_zones</th>\n",
       "      <th>add_missing_zone</th>\n",
       "    </tr>\n",
       "  </thead>\n",
       "  <tbody>\n",
       "    <tr>\n",
       "      <th>0</th>\n",
       "      <td>363-U1482A-Benthic_Forams.csv</td>\n",
       "      <td>Micropal_CSV_1/363-U1482A-Benthic_Forams.csv</td>\n",
       "      <td>benthic_foraminfera</td>\n",
       "      <td>False</td>\n",
       "      <td>False</td>\n",
       "      <td>False</td>\n",
       "      <td>False</td>\n",
       "      <td>True</td>\n",
       "      <td>False</td>\n",
       "      <td>False</td>\n",
       "      <td>False</td>\n",
       "      <td>True</td>\n",
       "      <td>False</td>\n",
       "      <td>True</td>\n",
       "    </tr>\n",
       "    <tr>\n",
       "      <th>1</th>\n",
       "      <td>320_U1336A_Nannofossils_2.csv</td>\n",
       "      <td>Micropal_CSV_1/320_U1336A_Nannofossils_2.csv</td>\n",
       "      <td>nannofossils</td>\n",
       "      <td>False</td>\n",
       "      <td>False</td>\n",
       "      <td>False</td>\n",
       "      <td>True</td>\n",
       "      <td>False</td>\n",
       "      <td>False</td>\n",
       "      <td>False</td>\n",
       "      <td>True</td>\n",
       "      <td>True</td>\n",
       "      <td>False</td>\n",
       "      <td>True</td>\n",
       "    </tr>\n",
       "    <tr>\n",
       "      <th>2</th>\n",
       "      <td>375_U1518F_planktic_forams.csv</td>\n",
       "      <td>Micropal_CSV_1/375_U1518F_planktic_forams.csv</td>\n",
       "      <td>planktic_foraminfera</td>\n",
       "      <td>False</td>\n",
       "      <td>False</td>\n",
       "      <td>False</td>\n",
       "      <td>False</td>\n",
       "      <td>True</td>\n",
       "      <td>False</td>\n",
       "      <td>False</td>\n",
       "      <td>False</td>\n",
       "      <td>False</td>\n",
       "      <td>False</td>\n",
       "      <td>True</td>\n",
       "    </tr>\n",
       "    <tr>\n",
       "      <th>3</th>\n",
       "      <td>320_U1334A_Nannofossils_1.csv</td>\n",
       "      <td>Micropal_CSV_1/320_U1334A_Nannofossils_1.csv</td>\n",
       "      <td>nannofossils</td>\n",
       "      <td>False</td>\n",
       "      <td>False</td>\n",
       "      <td>False</td>\n",
       "      <td>True</td>\n",
       "      <td>False</td>\n",
       "      <td>False</td>\n",
       "      <td>False</td>\n",
       "      <td>True</td>\n",
       "      <td>True</td>\n",
       "      <td>True</td>\n",
       "      <td>True</td>\n",
       "    </tr>\n",
       "    <tr>\n",
       "      <th>4</th>\n",
       "      <td>318_U1358B_Palynology.csv</td>\n",
       "      <td>Micropal_CSV_1/318_U1358B_Palynology.csv</td>\n",
       "      <td>palynology</td>\n",
       "      <td>False</td>\n",
       "      <td>False</td>\n",
       "      <td>False</td>\n",
       "      <td>True</td>\n",
       "      <td>False</td>\n",
       "      <td>False</td>\n",
       "      <td>False</td>\n",
       "      <td>True</td>\n",
       "      <td>False</td>\n",
       "      <td>False</td>\n",
       "      <td>True</td>\n",
       "    </tr>\n",
       "  </tbody>\n",
       "</table>\n",
       "</div>"
      ],
      "text/plain": [
       "                             file  \\\n",
       "0   363-U1482A-Benthic_Forams.csv   \n",
       "1   320_U1336A_Nannofossils_2.csv   \n",
       "2  375_U1518F_planktic_forams.csv   \n",
       "3   320_U1334A_Nannofossils_1.csv   \n",
       "4       318_U1358B_Palynology.csv   \n",
       "\n",
       "                                            path           taxon_group  \\\n",
       "0   Micropal_CSV_1/363-U1482A-Benthic_Forams.csv   benthic_foraminfera   \n",
       "1   Micropal_CSV_1/320_U1336A_Nannofossils_2.csv          nannofossils   \n",
       "2  Micropal_CSV_1/375_U1518F_planktic_forams.csv  planktic_foraminfera   \n",
       "3   Micropal_CSV_1/320_U1334A_Nannofossils_1.csv          nannofossils   \n",
       "4       Micropal_CSV_1/318_U1358B_Palynology.csv            palynology   \n",
       "\n",
       "   empty_rows_columns  remove_identical_rows  remove_identical_columns  \\\n",
       "0               False                  False                     False   \n",
       "1               False                  False                     False   \n",
       "2               False                  False                     False   \n",
       "3               False                  False                     False   \n",
       "4               False                  False                     False   \n",
       "\n",
       "   standardize_headers  add_expedition_aw_cols  add_sample_column  \\\n",
       "0                False                    True              False   \n",
       "1                 True                   False              False   \n",
       "2                False                    True              False   \n",
       "3                 True                   False              False   \n",
       "4                 True                   False              False   \n",
       "\n",
       "   add_missing_cols  clean_up_taxa_values  clean_up_taxa_metadata_values  \\\n",
       "0             False                 False                           True   \n",
       "1             False                  True                           True   \n",
       "2             False                 False                          False   \n",
       "3             False                  True                           True   \n",
       "4             False                  True                          False   \n",
       "\n",
       "   update_zones  add_missing_zone  \n",
       "0         False              True  \n",
       "1         False              True  \n",
       "2         False              True  \n",
       "3          True              True  \n",
       "4         False              True  "
      ]
     },
     "execution_count": 4,
     "metadata": {},
     "output_type": "execute_result"
    }
   ],
   "source": [
    "metadata = pd.read_csv(metadata_file)\n",
    "metadata.head()"
   ]
  },
  {
   "cell_type": "code",
   "execution_count": 5,
   "metadata": {},
   "outputs": [],
   "source": [
    "def process_filename(file_path):\n",
    "    path = f\"{base_directory}/{file_path}\"\n",
    "    df = pd.read_csv(path, dtype=str, header=None)\n",
    "    \n",
    "    orginal_dim = df.shape\n",
    "    df.dropna(axis=\"index\", how=\"all\", inplace=True)\n",
    "    df.dropna(axis=\"columns\", how=\"all\", inplace=True)\n",
    "    new_dim = df.shape\n",
    "    changed = orginal_dim != new_dim\n",
    "\n",
    "    if changed:\n",
    "        df.to_csv(path, index=False, header=False)\n",
    "\n",
    "    return changed\n",
    "    \n",
    "change_columns = [process_filename(file) for file in metadata['path']] "
   ]
  },
  {
   "cell_type": "code",
   "execution_count": 6,
   "metadata": {},
   "outputs": [],
   "source": [
    "dict = {\"empty_rows_columns\": change_columns}\n",
    "new_metadata = update_metadata(metadata, dict)"
   ]
  },
  {
   "cell_type": "code",
   "execution_count": 7,
   "metadata": {},
   "outputs": [],
   "source": [
    "new_metadata.to_csv(metadata_file, index=False)"
   ]
  },
  {
   "cell_type": "markdown",
   "metadata": {},
   "source": [
    "## 2. Remove duplicate identical rows\n",
    "Remove rows that are identical"
   ]
  },
  {
   "cell_type": "code",
   "execution_count": 8,
   "metadata": {},
   "outputs": [
    {
     "data": {
      "text/html": [
       "<div>\n",
       "<style scoped>\n",
       "    .dataframe tbody tr th:only-of-type {\n",
       "        vertical-align: middle;\n",
       "    }\n",
       "\n",
       "    .dataframe tbody tr th {\n",
       "        vertical-align: top;\n",
       "    }\n",
       "\n",
       "    .dataframe thead th {\n",
       "        text-align: right;\n",
       "    }\n",
       "</style>\n",
       "<table border=\"1\" class=\"dataframe\">\n",
       "  <thead>\n",
       "    <tr style=\"text-align: right;\">\n",
       "      <th></th>\n",
       "      <th>file</th>\n",
       "      <th>path</th>\n",
       "      <th>taxon_group</th>\n",
       "      <th>empty_rows_columns</th>\n",
       "      <th>remove_identical_rows</th>\n",
       "      <th>remove_identical_columns</th>\n",
       "      <th>standardize_headers</th>\n",
       "      <th>add_expedition_aw_cols</th>\n",
       "      <th>add_sample_column</th>\n",
       "      <th>add_missing_cols</th>\n",
       "      <th>clean_up_taxa_values</th>\n",
       "      <th>clean_up_taxa_metadata_values</th>\n",
       "      <th>update_zones</th>\n",
       "      <th>add_missing_zone</th>\n",
       "    </tr>\n",
       "  </thead>\n",
       "  <tbody>\n",
       "    <tr>\n",
       "      <th>0</th>\n",
       "      <td>363-U1482A-Benthic_Forams.csv</td>\n",
       "      <td>Micropal_CSV_1/363-U1482A-Benthic_Forams.csv</td>\n",
       "      <td>benthic_foraminfera</td>\n",
       "      <td>False</td>\n",
       "      <td>False</td>\n",
       "      <td>False</td>\n",
       "      <td>False</td>\n",
       "      <td>True</td>\n",
       "      <td>False</td>\n",
       "      <td>False</td>\n",
       "      <td>False</td>\n",
       "      <td>True</td>\n",
       "      <td>False</td>\n",
       "      <td>True</td>\n",
       "    </tr>\n",
       "    <tr>\n",
       "      <th>1</th>\n",
       "      <td>320_U1336A_Nannofossils_2.csv</td>\n",
       "      <td>Micropal_CSV_1/320_U1336A_Nannofossils_2.csv</td>\n",
       "      <td>nannofossils</td>\n",
       "      <td>False</td>\n",
       "      <td>False</td>\n",
       "      <td>False</td>\n",
       "      <td>True</td>\n",
       "      <td>False</td>\n",
       "      <td>False</td>\n",
       "      <td>False</td>\n",
       "      <td>True</td>\n",
       "      <td>True</td>\n",
       "      <td>False</td>\n",
       "      <td>True</td>\n",
       "    </tr>\n",
       "    <tr>\n",
       "      <th>2</th>\n",
       "      <td>375_U1518F_planktic_forams.csv</td>\n",
       "      <td>Micropal_CSV_1/375_U1518F_planktic_forams.csv</td>\n",
       "      <td>planktic_foraminfera</td>\n",
       "      <td>False</td>\n",
       "      <td>False</td>\n",
       "      <td>False</td>\n",
       "      <td>False</td>\n",
       "      <td>True</td>\n",
       "      <td>False</td>\n",
       "      <td>False</td>\n",
       "      <td>False</td>\n",
       "      <td>False</td>\n",
       "      <td>False</td>\n",
       "      <td>True</td>\n",
       "    </tr>\n",
       "    <tr>\n",
       "      <th>3</th>\n",
       "      <td>320_U1334A_Nannofossils_1.csv</td>\n",
       "      <td>Micropal_CSV_1/320_U1334A_Nannofossils_1.csv</td>\n",
       "      <td>nannofossils</td>\n",
       "      <td>False</td>\n",
       "      <td>False</td>\n",
       "      <td>False</td>\n",
       "      <td>True</td>\n",
       "      <td>False</td>\n",
       "      <td>False</td>\n",
       "      <td>False</td>\n",
       "      <td>True</td>\n",
       "      <td>True</td>\n",
       "      <td>True</td>\n",
       "      <td>True</td>\n",
       "    </tr>\n",
       "    <tr>\n",
       "      <th>4</th>\n",
       "      <td>318_U1358B_Palynology.csv</td>\n",
       "      <td>Micropal_CSV_1/318_U1358B_Palynology.csv</td>\n",
       "      <td>palynology</td>\n",
       "      <td>False</td>\n",
       "      <td>False</td>\n",
       "      <td>False</td>\n",
       "      <td>True</td>\n",
       "      <td>False</td>\n",
       "      <td>False</td>\n",
       "      <td>False</td>\n",
       "      <td>True</td>\n",
       "      <td>False</td>\n",
       "      <td>False</td>\n",
       "      <td>True</td>\n",
       "    </tr>\n",
       "  </tbody>\n",
       "</table>\n",
       "</div>"
      ],
      "text/plain": [
       "                             file  \\\n",
       "0   363-U1482A-Benthic_Forams.csv   \n",
       "1   320_U1336A_Nannofossils_2.csv   \n",
       "2  375_U1518F_planktic_forams.csv   \n",
       "3   320_U1334A_Nannofossils_1.csv   \n",
       "4       318_U1358B_Palynology.csv   \n",
       "\n",
       "                                            path           taxon_group  \\\n",
       "0   Micropal_CSV_1/363-U1482A-Benthic_Forams.csv   benthic_foraminfera   \n",
       "1   Micropal_CSV_1/320_U1336A_Nannofossils_2.csv          nannofossils   \n",
       "2  Micropal_CSV_1/375_U1518F_planktic_forams.csv  planktic_foraminfera   \n",
       "3   Micropal_CSV_1/320_U1334A_Nannofossils_1.csv          nannofossils   \n",
       "4       Micropal_CSV_1/318_U1358B_Palynology.csv            palynology   \n",
       "\n",
       "   empty_rows_columns  remove_identical_rows  remove_identical_columns  \\\n",
       "0               False                  False                     False   \n",
       "1               False                  False                     False   \n",
       "2               False                  False                     False   \n",
       "3               False                  False                     False   \n",
       "4               False                  False                     False   \n",
       "\n",
       "   standardize_headers  add_expedition_aw_cols  add_sample_column  \\\n",
       "0                False                    True              False   \n",
       "1                 True                   False              False   \n",
       "2                False                    True              False   \n",
       "3                 True                   False              False   \n",
       "4                 True                   False              False   \n",
       "\n",
       "   add_missing_cols  clean_up_taxa_values  clean_up_taxa_metadata_values  \\\n",
       "0             False                 False                           True   \n",
       "1             False                  True                           True   \n",
       "2             False                 False                          False   \n",
       "3             False                  True                           True   \n",
       "4             False                  True                          False   \n",
       "\n",
       "   update_zones  add_missing_zone  \n",
       "0         False              True  \n",
       "1         False              True  \n",
       "2         False              True  \n",
       "3          True              True  \n",
       "4         False              True  "
      ]
     },
     "execution_count": 8,
     "metadata": {},
     "output_type": "execute_result"
    }
   ],
   "source": [
    "metadata = pd.read_csv(metadata_file)\n",
    "metadata.head()"
   ]
  },
  {
   "cell_type": "code",
   "execution_count": 9,
   "metadata": {},
   "outputs": [],
   "source": [
    "def process_filename(file_path):\n",
    "    path = f\"{base_directory}/{file_path}\"\n",
    "    df = pd.read_csv(path, dtype=str)\n",
    "    \n",
    "    original_rows = len(df)\n",
    "    df.drop_duplicates(inplace=True)\n",
    "    new_rows = len(df)\n",
    "    changed = original_rows != new_rows\n",
    "\n",
    "    if changed:\n",
    "        df = csv_cleanup(df, path)\n",
    "        df.to_csv(path, index=False)\n",
    "        \n",
    "    return changed\n",
    "    \n",
    "change_columns = [process_filename(file) for file in metadata['path']] "
   ]
  },
  {
   "cell_type": "code",
   "execution_count": 10,
   "metadata": {},
   "outputs": [],
   "source": [
    "dict = {\"remove_identical_rows\": change_columns}\n",
    "new_metadata = update_metadata(metadata, dict)"
   ]
  },
  {
   "cell_type": "code",
   "execution_count": 11,
   "metadata": {},
   "outputs": [],
   "source": [
    "new_metadata.to_csv(metadata_file, index=False)"
   ]
  },
  {
   "cell_type": "markdown",
   "metadata": {},
   "source": [
    "## 3. duplicate column names\n",
    "\n",
    "check if csv has duplicate column names. If headers and values are the same, delete column. If the headers  are the same but the values are different, log the error."
   ]
  },
  {
   "cell_type": "code",
   "execution_count": 12,
   "metadata": {},
   "outputs": [
    {
     "data": {
      "text/html": [
       "<div>\n",
       "<style scoped>\n",
       "    .dataframe tbody tr th:only-of-type {\n",
       "        vertical-align: middle;\n",
       "    }\n",
       "\n",
       "    .dataframe tbody tr th {\n",
       "        vertical-align: top;\n",
       "    }\n",
       "\n",
       "    .dataframe thead th {\n",
       "        text-align: right;\n",
       "    }\n",
       "</style>\n",
       "<table border=\"1\" class=\"dataframe\">\n",
       "  <thead>\n",
       "    <tr style=\"text-align: right;\">\n",
       "      <th></th>\n",
       "      <th>file</th>\n",
       "      <th>path</th>\n",
       "      <th>taxon_group</th>\n",
       "      <th>empty_rows_columns</th>\n",
       "      <th>remove_identical_rows</th>\n",
       "      <th>remove_identical_columns</th>\n",
       "      <th>standardize_headers</th>\n",
       "      <th>add_expedition_aw_cols</th>\n",
       "      <th>add_sample_column</th>\n",
       "      <th>add_missing_cols</th>\n",
       "      <th>clean_up_taxa_values</th>\n",
       "      <th>clean_up_taxa_metadata_values</th>\n",
       "      <th>update_zones</th>\n",
       "      <th>add_missing_zone</th>\n",
       "    </tr>\n",
       "  </thead>\n",
       "  <tbody>\n",
       "    <tr>\n",
       "      <th>0</th>\n",
       "      <td>363-U1482A-Benthic_Forams.csv</td>\n",
       "      <td>Micropal_CSV_1/363-U1482A-Benthic_Forams.csv</td>\n",
       "      <td>benthic_foraminfera</td>\n",
       "      <td>False</td>\n",
       "      <td>False</td>\n",
       "      <td>False</td>\n",
       "      <td>False</td>\n",
       "      <td>True</td>\n",
       "      <td>False</td>\n",
       "      <td>False</td>\n",
       "      <td>False</td>\n",
       "      <td>True</td>\n",
       "      <td>False</td>\n",
       "      <td>True</td>\n",
       "    </tr>\n",
       "    <tr>\n",
       "      <th>1</th>\n",
       "      <td>320_U1336A_Nannofossils_2.csv</td>\n",
       "      <td>Micropal_CSV_1/320_U1336A_Nannofossils_2.csv</td>\n",
       "      <td>nannofossils</td>\n",
       "      <td>False</td>\n",
       "      <td>False</td>\n",
       "      <td>False</td>\n",
       "      <td>True</td>\n",
       "      <td>False</td>\n",
       "      <td>False</td>\n",
       "      <td>False</td>\n",
       "      <td>True</td>\n",
       "      <td>True</td>\n",
       "      <td>False</td>\n",
       "      <td>True</td>\n",
       "    </tr>\n",
       "    <tr>\n",
       "      <th>2</th>\n",
       "      <td>375_U1518F_planktic_forams.csv</td>\n",
       "      <td>Micropal_CSV_1/375_U1518F_planktic_forams.csv</td>\n",
       "      <td>planktic_foraminfera</td>\n",
       "      <td>False</td>\n",
       "      <td>False</td>\n",
       "      <td>False</td>\n",
       "      <td>False</td>\n",
       "      <td>True</td>\n",
       "      <td>False</td>\n",
       "      <td>False</td>\n",
       "      <td>False</td>\n",
       "      <td>False</td>\n",
       "      <td>False</td>\n",
       "      <td>True</td>\n",
       "    </tr>\n",
       "    <tr>\n",
       "      <th>3</th>\n",
       "      <td>320_U1334A_Nannofossils_1.csv</td>\n",
       "      <td>Micropal_CSV_1/320_U1334A_Nannofossils_1.csv</td>\n",
       "      <td>nannofossils</td>\n",
       "      <td>False</td>\n",
       "      <td>False</td>\n",
       "      <td>False</td>\n",
       "      <td>True</td>\n",
       "      <td>False</td>\n",
       "      <td>False</td>\n",
       "      <td>False</td>\n",
       "      <td>True</td>\n",
       "      <td>True</td>\n",
       "      <td>True</td>\n",
       "      <td>True</td>\n",
       "    </tr>\n",
       "    <tr>\n",
       "      <th>4</th>\n",
       "      <td>318_U1358B_Palynology.csv</td>\n",
       "      <td>Micropal_CSV_1/318_U1358B_Palynology.csv</td>\n",
       "      <td>palynology</td>\n",
       "      <td>False</td>\n",
       "      <td>False</td>\n",
       "      <td>False</td>\n",
       "      <td>True</td>\n",
       "      <td>False</td>\n",
       "      <td>False</td>\n",
       "      <td>False</td>\n",
       "      <td>True</td>\n",
       "      <td>False</td>\n",
       "      <td>False</td>\n",
       "      <td>True</td>\n",
       "    </tr>\n",
       "  </tbody>\n",
       "</table>\n",
       "</div>"
      ],
      "text/plain": [
       "                             file  \\\n",
       "0   363-U1482A-Benthic_Forams.csv   \n",
       "1   320_U1336A_Nannofossils_2.csv   \n",
       "2  375_U1518F_planktic_forams.csv   \n",
       "3   320_U1334A_Nannofossils_1.csv   \n",
       "4       318_U1358B_Palynology.csv   \n",
       "\n",
       "                                            path           taxon_group  \\\n",
       "0   Micropal_CSV_1/363-U1482A-Benthic_Forams.csv   benthic_foraminfera   \n",
       "1   Micropal_CSV_1/320_U1336A_Nannofossils_2.csv          nannofossils   \n",
       "2  Micropal_CSV_1/375_U1518F_planktic_forams.csv  planktic_foraminfera   \n",
       "3   Micropal_CSV_1/320_U1334A_Nannofossils_1.csv          nannofossils   \n",
       "4       Micropal_CSV_1/318_U1358B_Palynology.csv            palynology   \n",
       "\n",
       "   empty_rows_columns  remove_identical_rows  remove_identical_columns  \\\n",
       "0               False                  False                     False   \n",
       "1               False                  False                     False   \n",
       "2               False                  False                     False   \n",
       "3               False                  False                     False   \n",
       "4               False                  False                     False   \n",
       "\n",
       "   standardize_headers  add_expedition_aw_cols  add_sample_column  \\\n",
       "0                False                    True              False   \n",
       "1                 True                   False              False   \n",
       "2                False                    True              False   \n",
       "3                 True                   False              False   \n",
       "4                 True                   False              False   \n",
       "\n",
       "   add_missing_cols  clean_up_taxa_values  clean_up_taxa_metadata_values  \\\n",
       "0             False                 False                           True   \n",
       "1             False                  True                           True   \n",
       "2             False                 False                          False   \n",
       "3             False                  True                           True   \n",
       "4             False                  True                          False   \n",
       "\n",
       "   update_zones  add_missing_zone  \n",
       "0         False              True  \n",
       "1         False              True  \n",
       "2         False              True  \n",
       "3          True              True  \n",
       "4         False              True  "
      ]
     },
     "execution_count": 12,
     "metadata": {},
     "output_type": "execute_result"
    }
   ],
   "source": [
    "metadata = pd.read_csv(metadata_file)\n",
    "metadata.head()"
   ]
  },
  {
   "cell_type": "code",
   "execution_count": 13,
   "metadata": {},
   "outputs": [
    {
     "name": "stdout",
     "output_type": "stream",
     "text": [
      "Micropal_CSV_3/342_nannofossils_U1406B_1.csv, Umbilicosphaera jafari: duplicate columns\n",
      "                        have different values\n",
      "Micropal_CSV_3/342_planktic_forams_U1406A_2.csv, Zone name (short): duplicate columns\n",
      "                        have different values\n",
      "Micropal_CSV_3/341_benthic_forams_U1417B.csv, Type: duplicate columns\n",
      "                        have different values\n",
      "Micropal_CSV_3/342_planktic_forams_U1408A_2.csv, Zone name (short): duplicate columns\n",
      "                        have different values\n",
      "Micropal_CSV_3/342_planktic_forams_U1407A_2.csv, Zone name (short): duplicate columns\n",
      "                        have different values\n",
      "Micropal_CSV_3/342_planktic_forams_U1407A_2.csv, Zone name: duplicate columns\n",
      "                        have different values\n"
     ]
    }
   ],
   "source": [
    "needs_review = []\n",
    "\n",
    "def process_filename(file_path):\n",
    "    path = f\"{base_directory}/{file_path}\"\n",
    "    df = pd.read_csv(path, dtype=str)\n",
    "    \n",
    "    original_rows = len(df.columns)\n",
    "    check_duplicate_columns(df, file_path, needs_review)\n",
    "    new_rows = len(df.columns)\n",
    "\n",
    "    changed = original_rows != new_rows\n",
    "\n",
    "    if changed:\n",
    "        df = csv_cleanup(df, path)\n",
    "        df.to_csv(path, index=False)\n",
    "\n",
    "    return changed\n",
    "\n",
    "change_columns = [process_filename(file) for file in metadata['path']] "
   ]
  },
  {
   "cell_type": "code",
   "execution_count": 14,
   "metadata": {},
   "outputs": [],
   "source": [
    "dict = {\"remove_identical_columns\": change_columns}\n",
    "new_metadata = update_metadata(metadata, dict)"
   ]
  },
  {
   "cell_type": "code",
   "execution_count": 15,
   "metadata": {},
   "outputs": [],
   "source": [
    "new_metadata.to_csv(metadata_file, index=False)"
   ]
  },
  {
   "cell_type": "markdown",
   "metadata": {},
   "source": [
    "### create file for columns that need to be reviewed"
   ]
  },
  {
   "cell_type": "code",
   "execution_count": 16,
   "metadata": {},
   "outputs": [],
   "source": [
    "df = pd.DataFrame(needs_review)\n",
    "df.to_csv(duplicate_columns_file, index=False)"
   ]
  },
  {
   "cell_type": "markdown",
   "metadata": {},
   "source": [
    "## 4. Standardize headers\n",
    "\n",
    "Find all variants for specified headers, and convert all the variants to the same term."
   ]
  },
  {
   "cell_type": "code",
   "execution_count": 17,
   "metadata": {},
   "outputs": [
    {
     "data": {
      "text/html": [
       "<div>\n",
       "<style scoped>\n",
       "    .dataframe tbody tr th:only-of-type {\n",
       "        vertical-align: middle;\n",
       "    }\n",
       "\n",
       "    .dataframe tbody tr th {\n",
       "        vertical-align: top;\n",
       "    }\n",
       "\n",
       "    .dataframe thead th {\n",
       "        text-align: right;\n",
       "    }\n",
       "</style>\n",
       "<table border=\"1\" class=\"dataframe\">\n",
       "  <thead>\n",
       "    <tr style=\"text-align: right;\">\n",
       "      <th></th>\n",
       "      <th>file</th>\n",
       "      <th>path</th>\n",
       "      <th>taxon_group</th>\n",
       "      <th>empty_rows_columns</th>\n",
       "      <th>remove_identical_rows</th>\n",
       "      <th>remove_identical_columns</th>\n",
       "      <th>standardize_headers</th>\n",
       "      <th>add_expedition_aw_cols</th>\n",
       "      <th>add_sample_column</th>\n",
       "      <th>add_missing_cols</th>\n",
       "      <th>clean_up_taxa_values</th>\n",
       "      <th>clean_up_taxa_metadata_values</th>\n",
       "      <th>update_zones</th>\n",
       "      <th>add_missing_zone</th>\n",
       "    </tr>\n",
       "  </thead>\n",
       "  <tbody>\n",
       "    <tr>\n",
       "      <th>0</th>\n",
       "      <td>363-U1482A-Benthic_Forams.csv</td>\n",
       "      <td>Micropal_CSV_1/363-U1482A-Benthic_Forams.csv</td>\n",
       "      <td>benthic_foraminfera</td>\n",
       "      <td>False</td>\n",
       "      <td>False</td>\n",
       "      <td>False</td>\n",
       "      <td>False</td>\n",
       "      <td>True</td>\n",
       "      <td>False</td>\n",
       "      <td>False</td>\n",
       "      <td>False</td>\n",
       "      <td>True</td>\n",
       "      <td>False</td>\n",
       "      <td>True</td>\n",
       "    </tr>\n",
       "    <tr>\n",
       "      <th>1</th>\n",
       "      <td>320_U1336A_Nannofossils_2.csv</td>\n",
       "      <td>Micropal_CSV_1/320_U1336A_Nannofossils_2.csv</td>\n",
       "      <td>nannofossils</td>\n",
       "      <td>False</td>\n",
       "      <td>False</td>\n",
       "      <td>False</td>\n",
       "      <td>True</td>\n",
       "      <td>False</td>\n",
       "      <td>False</td>\n",
       "      <td>False</td>\n",
       "      <td>True</td>\n",
       "      <td>True</td>\n",
       "      <td>False</td>\n",
       "      <td>True</td>\n",
       "    </tr>\n",
       "    <tr>\n",
       "      <th>2</th>\n",
       "      <td>375_U1518F_planktic_forams.csv</td>\n",
       "      <td>Micropal_CSV_1/375_U1518F_planktic_forams.csv</td>\n",
       "      <td>planktic_foraminfera</td>\n",
       "      <td>False</td>\n",
       "      <td>False</td>\n",
       "      <td>False</td>\n",
       "      <td>False</td>\n",
       "      <td>True</td>\n",
       "      <td>False</td>\n",
       "      <td>False</td>\n",
       "      <td>False</td>\n",
       "      <td>False</td>\n",
       "      <td>False</td>\n",
       "      <td>True</td>\n",
       "    </tr>\n",
       "    <tr>\n",
       "      <th>3</th>\n",
       "      <td>320_U1334A_Nannofossils_1.csv</td>\n",
       "      <td>Micropal_CSV_1/320_U1334A_Nannofossils_1.csv</td>\n",
       "      <td>nannofossils</td>\n",
       "      <td>False</td>\n",
       "      <td>False</td>\n",
       "      <td>False</td>\n",
       "      <td>True</td>\n",
       "      <td>False</td>\n",
       "      <td>False</td>\n",
       "      <td>False</td>\n",
       "      <td>True</td>\n",
       "      <td>True</td>\n",
       "      <td>True</td>\n",
       "      <td>True</td>\n",
       "    </tr>\n",
       "    <tr>\n",
       "      <th>4</th>\n",
       "      <td>318_U1358B_Palynology.csv</td>\n",
       "      <td>Micropal_CSV_1/318_U1358B_Palynology.csv</td>\n",
       "      <td>palynology</td>\n",
       "      <td>False</td>\n",
       "      <td>False</td>\n",
       "      <td>False</td>\n",
       "      <td>True</td>\n",
       "      <td>False</td>\n",
       "      <td>False</td>\n",
       "      <td>False</td>\n",
       "      <td>True</td>\n",
       "      <td>False</td>\n",
       "      <td>False</td>\n",
       "      <td>True</td>\n",
       "    </tr>\n",
       "  </tbody>\n",
       "</table>\n",
       "</div>"
      ],
      "text/plain": [
       "                             file  \\\n",
       "0   363-U1482A-Benthic_Forams.csv   \n",
       "1   320_U1336A_Nannofossils_2.csv   \n",
       "2  375_U1518F_planktic_forams.csv   \n",
       "3   320_U1334A_Nannofossils_1.csv   \n",
       "4       318_U1358B_Palynology.csv   \n",
       "\n",
       "                                            path           taxon_group  \\\n",
       "0   Micropal_CSV_1/363-U1482A-Benthic_Forams.csv   benthic_foraminfera   \n",
       "1   Micropal_CSV_1/320_U1336A_Nannofossils_2.csv          nannofossils   \n",
       "2  Micropal_CSV_1/375_U1518F_planktic_forams.csv  planktic_foraminfera   \n",
       "3   Micropal_CSV_1/320_U1334A_Nannofossils_1.csv          nannofossils   \n",
       "4       Micropal_CSV_1/318_U1358B_Palynology.csv            palynology   \n",
       "\n",
       "   empty_rows_columns  remove_identical_rows  remove_identical_columns  \\\n",
       "0               False                  False                     False   \n",
       "1               False                  False                     False   \n",
       "2               False                  False                     False   \n",
       "3               False                  False                     False   \n",
       "4               False                  False                     False   \n",
       "\n",
       "   standardize_headers  add_expedition_aw_cols  add_sample_column  \\\n",
       "0                False                    True              False   \n",
       "1                 True                   False              False   \n",
       "2                False                    True              False   \n",
       "3                 True                   False              False   \n",
       "4                 True                   False              False   \n",
       "\n",
       "   add_missing_cols  clean_up_taxa_values  clean_up_taxa_metadata_values  \\\n",
       "0             False                 False                           True   \n",
       "1             False                  True                           True   \n",
       "2             False                 False                          False   \n",
       "3             False                  True                           True   \n",
       "4             False                  True                          False   \n",
       "\n",
       "   update_zones  add_missing_zone  \n",
       "0         False              True  \n",
       "1         False              True  \n",
       "2         False              True  \n",
       "3          True              True  \n",
       "4         False              True  "
      ]
     },
     "execution_count": 17,
     "metadata": {},
     "output_type": "execute_result"
    }
   ],
   "source": [
    "metadata = pd.read_csv(metadata_file)\n",
    "metadata.head()"
   ]
  },
  {
   "cell_type": "markdown",
   "metadata": {},
   "source": [
    "### Find all variants for specified headers"
   ]
  },
  {
   "cell_type": "code",
   "execution_count": 18,
   "metadata": {},
   "outputs": [
    {
     "data": {
      "text/plain": [
       "4707"
      ]
     },
     "execution_count": 18,
     "metadata": {},
     "output_type": "execute_result"
    }
   ],
   "source": [
    "columns_all = get_columns_from_file_or_disk(columns_file = columns_file, \n",
    "                                            metadata = metadata, \n",
    "                                            data_directory = raw_data_directory, \n",
    "                                            column_type = data_type)\n",
    "\n",
    "len(columns_all)"
   ]
  },
  {
   "cell_type": "code",
   "execution_count": 19,
   "metadata": {},
   "outputs": [],
   "source": [
    "sample_all = set()\n",
    "append_set(sample_all, r\".*?(sample|label|labl).*?\", columns_all)\n",
    "\n",
    "sample = set()\n",
    "append_set(sample, r\"^(sample|labe?l id)$\", columns_all)\n",
    "\n",
    "exp_all = set()\n",
    "append_set(exp_all, r\".*?exp.*?\", columns_all)\n",
    "\n",
    "site_all = set()\n",
    "append_set(site_all, r\".*?site.*?\", columns_all)\n",
    "\n",
    "hole_all = set()\n",
    "append_set(hole_all, r\".*?hole.*?\", columns_all)\n",
    "\n",
    "core_all = set()\n",
    "append_set(core_all, r\".*?core.*?\", columns_all)\n",
    "\n",
    "type_all = set()\n",
    "append_set(type_all, r\".*?type.*?\", columns_all)\n",
    "\n",
    "section_all = set()\n",
    "append_set(section_all, r\".*?sect.*?\", columns_all)\n",
    "\n",
    "aw_all = set()\n",
    "append_set(aw_all, r\".*?a/?w.*?\", columns_all)\n",
    "\n",
    "extra_all = set()\n",
    "append_set(extra_all, r\".*?extra.*?\", columns_all)\n",
    "\n",
    "top_all = set()\n",
    "append_set(top_all, r\".*?top.*?\", columns_all)\n",
    "\n",
    "top_depth = set()\n",
    "append_set(top_depth, r\"top depth\", columns_all)\n",
    "\n",
    "top = set()\n",
    "append_set(top, r\"top offset|top ?\\[\", columns_all)\n",
    "\n",
    "bottom_all = set()\n",
    "append_set(bottom_all, r\".*?bottom.*?\", columns_all)\n",
    "\n",
    "bottom_depth = set()\n",
    "append_set(bottom_depth, r\"bottom depth\", columns_all)\n",
    "\n",
    "bottom = set()\n",
    "append_set(bottom, r\"bottom offset|bottom ?\\[\", columns_all)"
   ]
  },
  {
   "cell_type": "code",
   "execution_count": 20,
   "metadata": {},
   "outputs": [
    {
     "data": {
      "text/plain": [
       "{'% Planktic Foraminifera within whole sample',\n",
       " 'Asteromphalus flabellatus',\n",
       " 'Extra Sample ID Data',\n",
       " 'Gladiolithus flabellatus',\n",
       " 'Heterohelix labellosa',\n",
       " 'Label ID',\n",
       " 'Labl ID',\n",
       " 'Neoflabellina semireticulata',\n",
       " 'Neoflabellina sp.',\n",
       " 'Pavonina flabelliformis',\n",
       " 'Sample',\n",
       " 'Sample comment',\n",
       " 'Sample preparation comment'}"
      ]
     },
     "execution_count": 20,
     "metadata": {},
     "output_type": "execute_result"
    }
   ],
   "source": [
    "sample_all"
   ]
  },
  {
   "cell_type": "code",
   "execution_count": 21,
   "metadata": {},
   "outputs": [
    {
     "data": {
      "text/plain": [
       "{'Label ID', 'Labl ID', 'Sample'}"
      ]
     },
     "execution_count": 21,
     "metadata": {},
     "output_type": "execute_result"
    }
   ],
   "source": [
    "sample"
   ]
  },
  {
   "cell_type": "code",
   "execution_count": 22,
   "metadata": {},
   "outputs": [
    {
     "data": {
      "text/plain": [
       "{'Broinsonia parca ssp expansa',\n",
       " 'Chiasmolithus expansus',\n",
       " 'Exp',\n",
       " 'Shionodiscus gracilis var. expectus',\n",
       " 'Shionodiscus sp. Exp 318'}"
      ]
     },
     "execution_count": 22,
     "metadata": {},
     "output_type": "execute_result"
    }
   ],
   "source": [
    "exp_all"
   ]
  },
  {
   "cell_type": "code",
   "execution_count": 23,
   "metadata": {},
   "outputs": [
    {
     "data": {
      "text/plain": [
       "{'Chrysalogonium crassitestum', 'Hayesites albiensis', 'Site'}"
      ]
     },
     "execution_count": 23,
     "metadata": {},
     "output_type": "execute_result"
    }
   ],
   "source": [
    "site_all"
   ]
  },
  {
   "cell_type": "code",
   "execution_count": 24,
   "metadata": {},
   "outputs": [
    {
     "data": {
      "text/plain": [
       "{'% Planktic Foraminifera within whole sample', 'Hole'}"
      ]
     },
     "execution_count": 24,
     "metadata": {},
     "output_type": "execute_result"
    }
   ],
   "source": [
    "hole_all"
   ]
  },
  {
   "cell_type": "code",
   "execution_count": 25,
   "metadata": {},
   "outputs": [
    {
     "data": {
      "text/plain": [
       "{'Core',\n",
       " 'Core-Sect',\n",
       " 'Corethron criophilum',\n",
       " 'Corethron pennatum',\n",
       " 'Spongocore puella',\n",
       " 'Spongocore sp.'}"
      ]
     },
     "execution_count": 25,
     "metadata": {},
     "output_type": "execute_result"
    }
   ],
   "source": [
    "core_all"
   ]
  },
  {
   "cell_type": "code",
   "execution_count": 26,
   "metadata": {},
   "outputs": [
    {
     "data": {
      "text/plain": [
       "{'Anthemis type',\n",
       " 'Aster type',\n",
       " 'Botrychium type',\n",
       " 'Centaurea nigra type',\n",
       " 'Datum type',\n",
       " 'Ephedra distachya type',\n",
       " 'Ephedra fragilis type',\n",
       " 'Fraxinus excelsior type',\n",
       " 'Galium type',\n",
       " 'Polypodium vulgare type',\n",
       " 'Quercus deciduous type',\n",
       " 'Quercus evergreen type',\n",
       " 'Quercus suber type',\n",
       " 'Type',\n",
       " 'Type (lower zone)',\n",
       " 'Type (upper zone)',\n",
       " 'count_type'}"
      ]
     },
     "execution_count": 26,
     "metadata": {},
     "output_type": "execute_result"
    }
   ],
   "source": [
    "type_all"
   ]
  },
  {
   "cell_type": "code",
   "execution_count": 27,
   "metadata": {},
   "outputs": [
    {
     "data": {
      "text/plain": [
       "{'Coccolithus abisectus',\n",
       " 'Core-Sect',\n",
       " 'Cyclicargolithus abisectus',\n",
       " 'Cyclicargolithus abisectus (11 µm)',\n",
       " 'Cyclicargolithus abisectus (>11 microns)',\n",
       " 'Dictyococcites bisectus',\n",
       " 'Dictyococcites bisectus (>10 microns)',\n",
       " 'Dictyococcites bisectus (>10 µm)',\n",
       " 'Dictyococcites bisectus (>10µm)',\n",
       " 'Reticulofenestra bisecta',\n",
       " 'Reticulofenestra bisecta (5-10 microns)',\n",
       " 'Reticulofenestra bisecta (>10 microns)',\n",
       " 'Section',\n",
       " 'Siphonodosaria insecta'}"
      ]
     },
     "execution_count": 27,
     "metadata": {},
     "output_type": "execute_result"
    }
   ],
   "source": [
    "section_all"
   ]
  },
  {
   "cell_type": "code",
   "execution_count": 28,
   "metadata": {},
   "outputs": [
    {
     "data": {
      "text/plain": [
       "{'A/W',\n",
       " 'Awhea spp.',\n",
       " 'Cycladophora funakawai',\n",
       " 'Denticulopsis ichikawae',\n",
       " 'Globigerinoides parawoodi',\n",
       " 'Hanzawaia ammophila',\n",
       " 'Hanzawaia bertheloti',\n",
       " 'Hanzawaia complanata',\n",
       " 'Hanzawaia concentrica',\n",
       " 'Hanzawaia mantaensis',\n",
       " 'Hanzawaia rhodiensis',\n",
       " 'Hanzawaia sp.',\n",
       " 'Hanzawaia spp.',\n",
       " 'Hanzawaia turgida',\n",
       " 'Hanzawaia? sp.'}"
      ]
     },
     "execution_count": 28,
     "metadata": {},
     "output_type": "execute_result"
    }
   ],
   "source": [
    "aw_all"
   ]
  },
  {
   "cell_type": "code",
   "execution_count": 29,
   "metadata": {},
   "outputs": [
    {
     "data": {
      "text/plain": [
       "{'Dextral:Sinistral _N. acostaensis_',\n",
       " 'Dextral:Sinistral _P. finalis_',\n",
       " 'Dextral:Sinistral _P. obliquiloculata_',\n",
       " 'Dextral:Sinistral _P. praecursor_',\n",
       " 'Dextral:Sinistral _P. praespectabilis_',\n",
       " 'Dextral:Sinistral _P. primalis_',\n",
       " 'Dextral:Sinistral _P. spectabilis_',\n",
       " 'Extra Sample ID Data',\n",
       " 'Neogloboquadrina acostaensis (dextral)',\n",
       " 'Neogloboquadrina incompta (dextral)',\n",
       " 'Neogloboquadrina pachyderma (dextral)',\n",
       " 'Neogloboquadrina pachyderma A (dextral, inflated form)',\n",
       " 'Pulleniatina coiling (dextral)'}"
      ]
     },
     "execution_count": 29,
     "metadata": {},
     "output_type": "execute_result"
    }
   ],
   "source": [
    "extra_all"
   ]
  },
  {
   "cell_type": "code",
   "execution_count": 30,
   "metadata": {},
   "outputs": [
    {
     "data": {
      "text/plain": [
       "{'Acarinina praetopilensis',\n",
       " 'Acarinina pseudotopilensis',\n",
       " 'Acarinina topilensis',\n",
       " 'Acrocubus octopylus',\n",
       " 'Artophormis barbadensis',\n",
       " 'Artophormis gracilis',\n",
       " 'Calcidiscus leptoporus',\n",
       " 'Calcidiscus leptoporus (5-8 microns)',\n",
       " 'Calcidiscus leptoporus (<5 microns)',\n",
       " 'Calcidiscus leptoporus (>8 micron)',\n",
       " 'Cushmanina striatopunctata',\n",
       " 'Cyrtopera languncula',\n",
       " 'Cystophormis brevispina',\n",
       " 'Entopyla spp.',\n",
       " 'Eprolithus octopetalus',\n",
       " 'Grammatophora spp.',\n",
       " 'Notoplanulina rakauraoana',\n",
       " 'Octopyle stenozona',\n",
       " 'Octopyle/Tetrapyle Group',\n",
       " 'Protoperidinium sp. 2',\n",
       " 'Protoperidinium sp. 3',\n",
       " 'Protoperidinium sp.1',\n",
       " 'Pylospira octopyle',\n",
       " 'Thalassiosira leptopus',\n",
       " 'Thalssiosira leptopus',\n",
       " 'Top Depth [m]',\n",
       " 'Top Depth[m] [m]',\n",
       " 'Top [cm]',\n",
       " 'Top depth [m]',\n",
       " 'Top[cm] [cm]',\n",
       " 'Zygodiscus plectopons'}"
      ]
     },
     "execution_count": 30,
     "metadata": {},
     "output_type": "execute_result"
    }
   ],
   "source": [
    "top_all"
   ]
  },
  {
   "cell_type": "code",
   "execution_count": 31,
   "metadata": {},
   "outputs": [
    {
     "data": {
      "text/plain": [
       "{'Top [cm]', 'Top[cm] [cm]'}"
      ]
     },
     "execution_count": 31,
     "metadata": {},
     "output_type": "execute_result"
    }
   ],
   "source": [
    "top"
   ]
  },
  {
   "cell_type": "code",
   "execution_count": 32,
   "metadata": {},
   "outputs": [
    {
     "data": {
      "text/plain": [
       "{'Top Depth [m]', 'Top Depth[m] [m]', 'Top depth [m]'}"
      ]
     },
     "execution_count": 32,
     "metadata": {},
     "output_type": "execute_result"
    }
   ],
   "source": [
    "top_depth"
   ]
  },
  {
   "cell_type": "code",
   "execution_count": 33,
   "metadata": {},
   "outputs": [
    {
     "data": {
      "text/plain": [
       "{'Bottom Depth [m]',\n",
       " 'Bottom Depth[m] [m]',\n",
       " 'Bottom [cm]',\n",
       " 'Bottom depth [m]',\n",
       " 'Bottom[cm] [cm]'}"
      ]
     },
     "execution_count": 33,
     "metadata": {},
     "output_type": "execute_result"
    }
   ],
   "source": [
    "bottom_all"
   ]
  },
  {
   "cell_type": "code",
   "execution_count": 34,
   "metadata": {},
   "outputs": [
    {
     "data": {
      "text/plain": [
       "{'Bottom [cm]', 'Bottom[cm] [cm]'}"
      ]
     },
     "execution_count": 34,
     "metadata": {},
     "output_type": "execute_result"
    }
   ],
   "source": [
    "bottom"
   ]
  },
  {
   "cell_type": "code",
   "execution_count": 35,
   "metadata": {},
   "outputs": [
    {
     "data": {
      "text/plain": [
       "{'Bottom Depth [m]', 'Bottom Depth[m] [m]', 'Bottom depth [m]'}"
      ]
     },
     "execution_count": 35,
     "metadata": {},
     "output_type": "execute_result"
    }
   ],
   "source": [
    "bottom_depth"
   ]
  },
  {
   "cell_type": "markdown",
   "metadata": {},
   "source": [
    "### Standardize header names"
   ]
  },
  {
   "cell_type": "code",
   "execution_count": 36,
   "metadata": {},
   "outputs": [],
   "source": [
    "def process_filename(file_path):\n",
    "    path = f\"{base_directory}/{file_path}\"\n",
    "    content = pd.read_csv(path, dtype=str)\n",
    "    columns = list(content.columns)\n",
    "    \n",
    "    normalized_cols = normalize_columns(sample, 'Sample', columns)\n",
    "    normalized_cols = normalize_columns(top, 'Top [cm]', normalized_cols)\n",
    "    normalized_cols = normalize_columns(bottom, 'Bottom [cm]', normalized_cols)\n",
    "    normalized_cols = normalize_columns(top_depth, 'Top Depth [m]', normalized_cols)\n",
    "    normalized_cols = normalize_columns(bottom_depth, 'Bottom Depth [m]', normalized_cols)\n",
    "\n",
    "    changed = columns != normalized_cols\n",
    "    \n",
    "    if changed:\n",
    "        content.columns = normalized_cols\n",
    "        content = csv_cleanup(content, path)\n",
    "        content.to_csv(path, index=False)\n",
    "\n",
    "    return changed\n",
    "\n",
    "change_columns = [process_filename(file) for file in metadata['path']] "
   ]
  },
  {
   "cell_type": "code",
   "execution_count": 37,
   "metadata": {},
   "outputs": [],
   "source": [
    "dict = {\"standardize_headers\": change_columns}\n",
    "new_metadata = update_metadata(metadata, dict)"
   ]
  },
  {
   "cell_type": "code",
   "execution_count": 38,
   "metadata": {},
   "outputs": [],
   "source": [
    "new_metadata.to_csv(metadata_file, index=False)"
   ]
  },
  {
   "cell_type": "markdown",
   "metadata": {},
   "source": [
    "## 5. Convert Sample to missing expedition..a/w columns "
   ]
  },
  {
   "cell_type": "markdown",
   "metadata": {},
   "source": [
    "If expedition..A/W columns do not exist, convert Sample string into expedition..A/W  columns. "
   ]
  },
  {
   "cell_type": "code",
   "execution_count": 39,
   "metadata": {},
   "outputs": [
    {
     "data": {
      "text/html": [
       "<div>\n",
       "<style scoped>\n",
       "    .dataframe tbody tr th:only-of-type {\n",
       "        vertical-align: middle;\n",
       "    }\n",
       "\n",
       "    .dataframe tbody tr th {\n",
       "        vertical-align: top;\n",
       "    }\n",
       "\n",
       "    .dataframe thead th {\n",
       "        text-align: right;\n",
       "    }\n",
       "</style>\n",
       "<table border=\"1\" class=\"dataframe\">\n",
       "  <thead>\n",
       "    <tr style=\"text-align: right;\">\n",
       "      <th></th>\n",
       "      <th>file</th>\n",
       "      <th>path</th>\n",
       "      <th>taxon_group</th>\n",
       "      <th>empty_rows_columns</th>\n",
       "      <th>remove_identical_rows</th>\n",
       "      <th>remove_identical_columns</th>\n",
       "      <th>standardize_headers</th>\n",
       "      <th>add_expedition_aw_cols</th>\n",
       "      <th>add_sample_column</th>\n",
       "      <th>add_missing_cols</th>\n",
       "      <th>clean_up_taxa_values</th>\n",
       "      <th>clean_up_taxa_metadata_values</th>\n",
       "      <th>update_zones</th>\n",
       "      <th>add_missing_zone</th>\n",
       "    </tr>\n",
       "  </thead>\n",
       "  <tbody>\n",
       "    <tr>\n",
       "      <th>0</th>\n",
       "      <td>363-U1482A-Benthic_Forams.csv</td>\n",
       "      <td>Micropal_CSV_1/363-U1482A-Benthic_Forams.csv</td>\n",
       "      <td>benthic_foraminfera</td>\n",
       "      <td>False</td>\n",
       "      <td>False</td>\n",
       "      <td>False</td>\n",
       "      <td>False</td>\n",
       "      <td>True</td>\n",
       "      <td>False</td>\n",
       "      <td>False</td>\n",
       "      <td>False</td>\n",
       "      <td>True</td>\n",
       "      <td>False</td>\n",
       "      <td>True</td>\n",
       "    </tr>\n",
       "    <tr>\n",
       "      <th>1</th>\n",
       "      <td>320_U1336A_Nannofossils_2.csv</td>\n",
       "      <td>Micropal_CSV_1/320_U1336A_Nannofossils_2.csv</td>\n",
       "      <td>nannofossils</td>\n",
       "      <td>False</td>\n",
       "      <td>False</td>\n",
       "      <td>False</td>\n",
       "      <td>True</td>\n",
       "      <td>False</td>\n",
       "      <td>False</td>\n",
       "      <td>False</td>\n",
       "      <td>True</td>\n",
       "      <td>True</td>\n",
       "      <td>False</td>\n",
       "      <td>True</td>\n",
       "    </tr>\n",
       "    <tr>\n",
       "      <th>2</th>\n",
       "      <td>375_U1518F_planktic_forams.csv</td>\n",
       "      <td>Micropal_CSV_1/375_U1518F_planktic_forams.csv</td>\n",
       "      <td>planktic_foraminfera</td>\n",
       "      <td>False</td>\n",
       "      <td>False</td>\n",
       "      <td>False</td>\n",
       "      <td>False</td>\n",
       "      <td>True</td>\n",
       "      <td>False</td>\n",
       "      <td>False</td>\n",
       "      <td>False</td>\n",
       "      <td>False</td>\n",
       "      <td>False</td>\n",
       "      <td>True</td>\n",
       "    </tr>\n",
       "    <tr>\n",
       "      <th>3</th>\n",
       "      <td>320_U1334A_Nannofossils_1.csv</td>\n",
       "      <td>Micropal_CSV_1/320_U1334A_Nannofossils_1.csv</td>\n",
       "      <td>nannofossils</td>\n",
       "      <td>False</td>\n",
       "      <td>False</td>\n",
       "      <td>False</td>\n",
       "      <td>True</td>\n",
       "      <td>False</td>\n",
       "      <td>False</td>\n",
       "      <td>False</td>\n",
       "      <td>True</td>\n",
       "      <td>True</td>\n",
       "      <td>True</td>\n",
       "      <td>True</td>\n",
       "    </tr>\n",
       "    <tr>\n",
       "      <th>4</th>\n",
       "      <td>318_U1358B_Palynology.csv</td>\n",
       "      <td>Micropal_CSV_1/318_U1358B_Palynology.csv</td>\n",
       "      <td>palynology</td>\n",
       "      <td>False</td>\n",
       "      <td>False</td>\n",
       "      <td>False</td>\n",
       "      <td>True</td>\n",
       "      <td>False</td>\n",
       "      <td>False</td>\n",
       "      <td>False</td>\n",
       "      <td>True</td>\n",
       "      <td>False</td>\n",
       "      <td>False</td>\n",
       "      <td>True</td>\n",
       "    </tr>\n",
       "  </tbody>\n",
       "</table>\n",
       "</div>"
      ],
      "text/plain": [
       "                             file  \\\n",
       "0   363-U1482A-Benthic_Forams.csv   \n",
       "1   320_U1336A_Nannofossils_2.csv   \n",
       "2  375_U1518F_planktic_forams.csv   \n",
       "3   320_U1334A_Nannofossils_1.csv   \n",
       "4       318_U1358B_Palynology.csv   \n",
       "\n",
       "                                            path           taxon_group  \\\n",
       "0   Micropal_CSV_1/363-U1482A-Benthic_Forams.csv   benthic_foraminfera   \n",
       "1   Micropal_CSV_1/320_U1336A_Nannofossils_2.csv          nannofossils   \n",
       "2  Micropal_CSV_1/375_U1518F_planktic_forams.csv  planktic_foraminfera   \n",
       "3   Micropal_CSV_1/320_U1334A_Nannofossils_1.csv          nannofossils   \n",
       "4       Micropal_CSV_1/318_U1358B_Palynology.csv            palynology   \n",
       "\n",
       "   empty_rows_columns  remove_identical_rows  remove_identical_columns  \\\n",
       "0               False                  False                     False   \n",
       "1               False                  False                     False   \n",
       "2               False                  False                     False   \n",
       "3               False                  False                     False   \n",
       "4               False                  False                     False   \n",
       "\n",
       "   standardize_headers  add_expedition_aw_cols  add_sample_column  \\\n",
       "0                False                    True              False   \n",
       "1                 True                   False              False   \n",
       "2                False                    True              False   \n",
       "3                 True                   False              False   \n",
       "4                 True                   False              False   \n",
       "\n",
       "   add_missing_cols  clean_up_taxa_values  clean_up_taxa_metadata_values  \\\n",
       "0             False                 False                           True   \n",
       "1             False                  True                           True   \n",
       "2             False                 False                          False   \n",
       "3             False                  True                           True   \n",
       "4             False                  True                          False   \n",
       "\n",
       "   update_zones  add_missing_zone  \n",
       "0         False              True  \n",
       "1         False              True  \n",
       "2         False              True  \n",
       "3          True              True  \n",
       "4         False              True  "
      ]
     },
     "execution_count": 39,
     "metadata": {},
     "output_type": "execute_result"
    }
   ],
   "source": [
    "metadata = pd.read_csv(metadata_file)\n",
    "metadata.head()"
   ]
  },
  {
   "cell_type": "code",
   "execution_count": 40,
   "metadata": {},
   "outputs": [],
   "source": [
    "def process_filename(file_path):\n",
    "    path = f\"{base_directory}/{file_path}\"\n",
    "    content = pd.read_csv(path, dtype=str)\n",
    "    \n",
    "    original_cols = content.columns\n",
    "    content = add_expedition_aw_cols(content)\n",
    "    changed = list(original_cols) != list(content.columns)\n",
    "\n",
    "        \n",
    "    if changed:\n",
    "        content = csv_cleanup(content, path)\n",
    "        content.to_csv(path, index=False)\n",
    "\n",
    "    return changed\n",
    "    \n",
    "change_columns = [process_filename(file) for file in metadata['path']] \n"
   ]
  },
  {
   "cell_type": "code",
   "execution_count": 41,
   "metadata": {},
   "outputs": [],
   "source": [
    "dict = {\"add_expedition_aw_cols\": change_columns}\n",
    "new_metadata = update_metadata(metadata, dict)"
   ]
  },
  {
   "cell_type": "code",
   "execution_count": 42,
   "metadata": {},
   "outputs": [],
   "source": [
    "new_metadata.to_csv(metadata_file, index=False)"
   ]
  },
  {
   "cell_type": "markdown",
   "metadata": {},
   "source": [
    "## 6. Add Sample column"
   ]
  },
  {
   "cell_type": "markdown",
   "metadata": {},
   "source": [
    "If no 'Sample', add 'Sample' based on expedition...A/W columns."
   ]
  },
  {
   "cell_type": "code",
   "execution_count": 43,
   "metadata": {},
   "outputs": [
    {
     "data": {
      "text/html": [
       "<div>\n",
       "<style scoped>\n",
       "    .dataframe tbody tr th:only-of-type {\n",
       "        vertical-align: middle;\n",
       "    }\n",
       "\n",
       "    .dataframe tbody tr th {\n",
       "        vertical-align: top;\n",
       "    }\n",
       "\n",
       "    .dataframe thead th {\n",
       "        text-align: right;\n",
       "    }\n",
       "</style>\n",
       "<table border=\"1\" class=\"dataframe\">\n",
       "  <thead>\n",
       "    <tr style=\"text-align: right;\">\n",
       "      <th></th>\n",
       "      <th>file</th>\n",
       "      <th>path</th>\n",
       "      <th>taxon_group</th>\n",
       "      <th>empty_rows_columns</th>\n",
       "      <th>remove_identical_rows</th>\n",
       "      <th>remove_identical_columns</th>\n",
       "      <th>standardize_headers</th>\n",
       "      <th>add_expedition_aw_cols</th>\n",
       "      <th>add_sample_column</th>\n",
       "      <th>add_missing_cols</th>\n",
       "      <th>clean_up_taxa_values</th>\n",
       "      <th>clean_up_taxa_metadata_values</th>\n",
       "      <th>update_zones</th>\n",
       "      <th>add_missing_zone</th>\n",
       "    </tr>\n",
       "  </thead>\n",
       "  <tbody>\n",
       "    <tr>\n",
       "      <th>0</th>\n",
       "      <td>363-U1482A-Benthic_Forams.csv</td>\n",
       "      <td>Micropal_CSV_1/363-U1482A-Benthic_Forams.csv</td>\n",
       "      <td>benthic_foraminfera</td>\n",
       "      <td>False</td>\n",
       "      <td>False</td>\n",
       "      <td>False</td>\n",
       "      <td>False</td>\n",
       "      <td>True</td>\n",
       "      <td>False</td>\n",
       "      <td>False</td>\n",
       "      <td>False</td>\n",
       "      <td>True</td>\n",
       "      <td>False</td>\n",
       "      <td>True</td>\n",
       "    </tr>\n",
       "    <tr>\n",
       "      <th>1</th>\n",
       "      <td>320_U1336A_Nannofossils_2.csv</td>\n",
       "      <td>Micropal_CSV_1/320_U1336A_Nannofossils_2.csv</td>\n",
       "      <td>nannofossils</td>\n",
       "      <td>False</td>\n",
       "      <td>False</td>\n",
       "      <td>False</td>\n",
       "      <td>True</td>\n",
       "      <td>False</td>\n",
       "      <td>False</td>\n",
       "      <td>False</td>\n",
       "      <td>True</td>\n",
       "      <td>True</td>\n",
       "      <td>False</td>\n",
       "      <td>True</td>\n",
       "    </tr>\n",
       "    <tr>\n",
       "      <th>2</th>\n",
       "      <td>375_U1518F_planktic_forams.csv</td>\n",
       "      <td>Micropal_CSV_1/375_U1518F_planktic_forams.csv</td>\n",
       "      <td>planktic_foraminfera</td>\n",
       "      <td>False</td>\n",
       "      <td>False</td>\n",
       "      <td>False</td>\n",
       "      <td>False</td>\n",
       "      <td>True</td>\n",
       "      <td>False</td>\n",
       "      <td>False</td>\n",
       "      <td>False</td>\n",
       "      <td>False</td>\n",
       "      <td>False</td>\n",
       "      <td>True</td>\n",
       "    </tr>\n",
       "    <tr>\n",
       "      <th>3</th>\n",
       "      <td>320_U1334A_Nannofossils_1.csv</td>\n",
       "      <td>Micropal_CSV_1/320_U1334A_Nannofossils_1.csv</td>\n",
       "      <td>nannofossils</td>\n",
       "      <td>False</td>\n",
       "      <td>False</td>\n",
       "      <td>False</td>\n",
       "      <td>True</td>\n",
       "      <td>False</td>\n",
       "      <td>False</td>\n",
       "      <td>False</td>\n",
       "      <td>True</td>\n",
       "      <td>True</td>\n",
       "      <td>True</td>\n",
       "      <td>True</td>\n",
       "    </tr>\n",
       "    <tr>\n",
       "      <th>4</th>\n",
       "      <td>318_U1358B_Palynology.csv</td>\n",
       "      <td>Micropal_CSV_1/318_U1358B_Palynology.csv</td>\n",
       "      <td>palynology</td>\n",
       "      <td>False</td>\n",
       "      <td>False</td>\n",
       "      <td>False</td>\n",
       "      <td>True</td>\n",
       "      <td>False</td>\n",
       "      <td>False</td>\n",
       "      <td>False</td>\n",
       "      <td>True</td>\n",
       "      <td>False</td>\n",
       "      <td>False</td>\n",
       "      <td>True</td>\n",
       "    </tr>\n",
       "  </tbody>\n",
       "</table>\n",
       "</div>"
      ],
      "text/plain": [
       "                             file  \\\n",
       "0   363-U1482A-Benthic_Forams.csv   \n",
       "1   320_U1336A_Nannofossils_2.csv   \n",
       "2  375_U1518F_planktic_forams.csv   \n",
       "3   320_U1334A_Nannofossils_1.csv   \n",
       "4       318_U1358B_Palynology.csv   \n",
       "\n",
       "                                            path           taxon_group  \\\n",
       "0   Micropal_CSV_1/363-U1482A-Benthic_Forams.csv   benthic_foraminfera   \n",
       "1   Micropal_CSV_1/320_U1336A_Nannofossils_2.csv          nannofossils   \n",
       "2  Micropal_CSV_1/375_U1518F_planktic_forams.csv  planktic_foraminfera   \n",
       "3   Micropal_CSV_1/320_U1334A_Nannofossils_1.csv          nannofossils   \n",
       "4       Micropal_CSV_1/318_U1358B_Palynology.csv            palynology   \n",
       "\n",
       "   empty_rows_columns  remove_identical_rows  remove_identical_columns  \\\n",
       "0               False                  False                     False   \n",
       "1               False                  False                     False   \n",
       "2               False                  False                     False   \n",
       "3               False                  False                     False   \n",
       "4               False                  False                     False   \n",
       "\n",
       "   standardize_headers  add_expedition_aw_cols  add_sample_column  \\\n",
       "0                False                    True              False   \n",
       "1                 True                   False              False   \n",
       "2                False                    True              False   \n",
       "3                 True                   False              False   \n",
       "4                 True                   False              False   \n",
       "\n",
       "   add_missing_cols  clean_up_taxa_values  clean_up_taxa_metadata_values  \\\n",
       "0             False                 False                           True   \n",
       "1             False                  True                           True   \n",
       "2             False                 False                          False   \n",
       "3             False                  True                           True   \n",
       "4             False                  True                          False   \n",
       "\n",
       "   update_zones  add_missing_zone  \n",
       "0         False              True  \n",
       "1         False              True  \n",
       "2         False              True  \n",
       "3          True              True  \n",
       "4         False              True  "
      ]
     },
     "execution_count": 43,
     "metadata": {},
     "output_type": "execute_result"
    }
   ],
   "source": [
    "metadata = pd.read_csv(metadata_file)\n",
    "metadata.head()"
   ]
  },
  {
   "cell_type": "code",
   "execution_count": 44,
   "metadata": {},
   "outputs": [],
   "source": [
    "def process_filename(file_path):\n",
    "    path = f\"{base_directory}/{file_path}\"\n",
    "    content = pd.read_csv(path, dtype=str)\n",
    "    \n",
    "    original_cols = content.columns\n",
    "    add_sample_col(content)\n",
    "    \n",
    "    changed = list(original_cols) != list(content.columns)\n",
    "    \n",
    "    if changed:\n",
    "        content = csv_cleanup(content, path)\n",
    "        content.to_csv(path, index=False)\n",
    "\n",
    "    return changed\n",
    "    \n",
    "change_columns = [process_filename(file) for file in metadata['path']] "
   ]
  },
  {
   "cell_type": "code",
   "execution_count": 45,
   "metadata": {},
   "outputs": [],
   "source": [
    "dict = {\"add_sample_column\": change_columns}\n",
    "new_metadata = update_metadata(metadata, dict)"
   ]
  },
  {
   "cell_type": "code",
   "execution_count": 46,
   "metadata": {},
   "outputs": [],
   "source": [
    "new_metadata.to_csv(metadata_file, index=False)"
   ]
  },
  {
   "cell_type": "markdown",
   "metadata": {},
   "source": [
    "## 7. Add missing columns"
   ]
  },
  {
   "cell_type": "code",
   "execution_count": 47,
   "metadata": {},
   "outputs": [
    {
     "data": {
      "text/html": [
       "<div>\n",
       "<style scoped>\n",
       "    .dataframe tbody tr th:only-of-type {\n",
       "        vertical-align: middle;\n",
       "    }\n",
       "\n",
       "    .dataframe tbody tr th {\n",
       "        vertical-align: top;\n",
       "    }\n",
       "\n",
       "    .dataframe thead th {\n",
       "        text-align: right;\n",
       "    }\n",
       "</style>\n",
       "<table border=\"1\" class=\"dataframe\">\n",
       "  <thead>\n",
       "    <tr style=\"text-align: right;\">\n",
       "      <th></th>\n",
       "      <th>file</th>\n",
       "      <th>path</th>\n",
       "      <th>taxon_group</th>\n",
       "      <th>empty_rows_columns</th>\n",
       "      <th>remove_identical_rows</th>\n",
       "      <th>remove_identical_columns</th>\n",
       "      <th>standardize_headers</th>\n",
       "      <th>add_expedition_aw_cols</th>\n",
       "      <th>add_sample_column</th>\n",
       "      <th>add_missing_cols</th>\n",
       "      <th>clean_up_taxa_values</th>\n",
       "      <th>clean_up_taxa_metadata_values</th>\n",
       "      <th>update_zones</th>\n",
       "      <th>add_missing_zone</th>\n",
       "    </tr>\n",
       "  </thead>\n",
       "  <tbody>\n",
       "    <tr>\n",
       "      <th>0</th>\n",
       "      <td>363-U1482A-Benthic_Forams.csv</td>\n",
       "      <td>Micropal_CSV_1/363-U1482A-Benthic_Forams.csv</td>\n",
       "      <td>benthic_foraminfera</td>\n",
       "      <td>False</td>\n",
       "      <td>False</td>\n",
       "      <td>False</td>\n",
       "      <td>False</td>\n",
       "      <td>True</td>\n",
       "      <td>False</td>\n",
       "      <td>False</td>\n",
       "      <td>False</td>\n",
       "      <td>True</td>\n",
       "      <td>False</td>\n",
       "      <td>True</td>\n",
       "    </tr>\n",
       "    <tr>\n",
       "      <th>1</th>\n",
       "      <td>320_U1336A_Nannofossils_2.csv</td>\n",
       "      <td>Micropal_CSV_1/320_U1336A_Nannofossils_2.csv</td>\n",
       "      <td>nannofossils</td>\n",
       "      <td>False</td>\n",
       "      <td>False</td>\n",
       "      <td>False</td>\n",
       "      <td>True</td>\n",
       "      <td>False</td>\n",
       "      <td>False</td>\n",
       "      <td>False</td>\n",
       "      <td>True</td>\n",
       "      <td>True</td>\n",
       "      <td>False</td>\n",
       "      <td>True</td>\n",
       "    </tr>\n",
       "    <tr>\n",
       "      <th>2</th>\n",
       "      <td>375_U1518F_planktic_forams.csv</td>\n",
       "      <td>Micropal_CSV_1/375_U1518F_planktic_forams.csv</td>\n",
       "      <td>planktic_foraminfera</td>\n",
       "      <td>False</td>\n",
       "      <td>False</td>\n",
       "      <td>False</td>\n",
       "      <td>False</td>\n",
       "      <td>True</td>\n",
       "      <td>False</td>\n",
       "      <td>False</td>\n",
       "      <td>False</td>\n",
       "      <td>False</td>\n",
       "      <td>False</td>\n",
       "      <td>True</td>\n",
       "    </tr>\n",
       "    <tr>\n",
       "      <th>3</th>\n",
       "      <td>320_U1334A_Nannofossils_1.csv</td>\n",
       "      <td>Micropal_CSV_1/320_U1334A_Nannofossils_1.csv</td>\n",
       "      <td>nannofossils</td>\n",
       "      <td>False</td>\n",
       "      <td>False</td>\n",
       "      <td>False</td>\n",
       "      <td>True</td>\n",
       "      <td>False</td>\n",
       "      <td>False</td>\n",
       "      <td>False</td>\n",
       "      <td>True</td>\n",
       "      <td>True</td>\n",
       "      <td>True</td>\n",
       "      <td>True</td>\n",
       "    </tr>\n",
       "    <tr>\n",
       "      <th>4</th>\n",
       "      <td>318_U1358B_Palynology.csv</td>\n",
       "      <td>Micropal_CSV_1/318_U1358B_Palynology.csv</td>\n",
       "      <td>palynology</td>\n",
       "      <td>False</td>\n",
       "      <td>False</td>\n",
       "      <td>False</td>\n",
       "      <td>True</td>\n",
       "      <td>False</td>\n",
       "      <td>False</td>\n",
       "      <td>False</td>\n",
       "      <td>True</td>\n",
       "      <td>False</td>\n",
       "      <td>False</td>\n",
       "      <td>True</td>\n",
       "    </tr>\n",
       "  </tbody>\n",
       "</table>\n",
       "</div>"
      ],
      "text/plain": [
       "                             file  \\\n",
       "0   363-U1482A-Benthic_Forams.csv   \n",
       "1   320_U1336A_Nannofossils_2.csv   \n",
       "2  375_U1518F_planktic_forams.csv   \n",
       "3   320_U1334A_Nannofossils_1.csv   \n",
       "4       318_U1358B_Palynology.csv   \n",
       "\n",
       "                                            path           taxon_group  \\\n",
       "0   Micropal_CSV_1/363-U1482A-Benthic_Forams.csv   benthic_foraminfera   \n",
       "1   Micropal_CSV_1/320_U1336A_Nannofossils_2.csv          nannofossils   \n",
       "2  Micropal_CSV_1/375_U1518F_planktic_forams.csv  planktic_foraminfera   \n",
       "3   Micropal_CSV_1/320_U1334A_Nannofossils_1.csv          nannofossils   \n",
       "4       Micropal_CSV_1/318_U1358B_Palynology.csv            palynology   \n",
       "\n",
       "   empty_rows_columns  remove_identical_rows  remove_identical_columns  \\\n",
       "0               False                  False                     False   \n",
       "1               False                  False                     False   \n",
       "2               False                  False                     False   \n",
       "3               False                  False                     False   \n",
       "4               False                  False                     False   \n",
       "\n",
       "   standardize_headers  add_expedition_aw_cols  add_sample_column  \\\n",
       "0                False                    True              False   \n",
       "1                 True                   False              False   \n",
       "2                False                    True              False   \n",
       "3                 True                   False              False   \n",
       "4                 True                   False              False   \n",
       "\n",
       "   add_missing_cols  clean_up_taxa_values  clean_up_taxa_metadata_values  \\\n",
       "0             False                 False                           True   \n",
       "1             False                  True                           True   \n",
       "2             False                 False                          False   \n",
       "3             False                  True                           True   \n",
       "4             False                  True                          False   \n",
       "\n",
       "   update_zones  add_missing_zone  \n",
       "0         False              True  \n",
       "1         False              True  \n",
       "2         False              True  \n",
       "3          True              True  \n",
       "4         False              True  "
      ]
     },
     "execution_count": 47,
     "metadata": {},
     "output_type": "execute_result"
    }
   ],
   "source": [
    "metadata = pd.read_csv(metadata_file)\n",
    "metadata.head()"
   ]
  },
  {
   "cell_type": "code",
   "execution_count": 48,
   "metadata": {},
   "outputs": [],
   "source": [
    "normalized_columns = [\n",
    "    'Top [cm]',\n",
    "    'Bottom [cm]',\n",
    "    'Top Depth [m]',\n",
    "    'Bottom Depth [m]', \n",
    "    'Sample',\n",
    "    'Exp',\n",
    "    'Site',\n",
    "    'Hole',\n",
    "    'Core',\n",
    "    'Type',\n",
    "    'Section',\n",
    "    'A/W',\n",
    "    'Extra Sample ID Data',\n",
    "]"
   ]
  },
  {
   "cell_type": "code",
   "execution_count": 49,
   "metadata": {},
   "outputs": [],
   "source": [
    "change_columns = [add_missing_columns(f\"{base_directory}/{file}\", normalized_columns) for file in metadata['path']] "
   ]
  },
  {
   "cell_type": "code",
   "execution_count": 50,
   "metadata": {},
   "outputs": [],
   "source": [
    "dict = {\"add_missing_cols\": change_columns}\n",
    "new_metadata = update_metadata(metadata, dict)"
   ]
  },
  {
   "cell_type": "code",
   "execution_count": 51,
   "metadata": {},
   "outputs": [],
   "source": [
    "new_metadata.to_csv(metadata_file, index=False)"
   ]
  },
  {
   "cell_type": "code",
   "execution_count": null,
   "metadata": {},
   "outputs": [],
   "source": []
  }
 ],
 "metadata": {
  "kernelspec": {
   "display_name": "Python 3",
   "language": "python",
   "name": "python3"
  },
  "language_info": {
   "codemirror_mode": {
    "name": "ipython",
    "version": 3
   },
   "file_extension": ".py",
   "mimetype": "text/x-python",
   "name": "python",
   "nbconvert_exporter": "python",
   "pygments_lexer": "ipython3",
   "version": "3.6.8"
  }
 },
 "nbformat": 4,
 "nbformat_minor": 4
}
