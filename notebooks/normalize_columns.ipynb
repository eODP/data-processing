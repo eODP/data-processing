{
 "cells": [
  {
   "cell_type": "markdown",
   "metadata": {},
   "source": [
    "# Normalize CSV columns"
   ]
  },
  {
   "cell_type": "markdown",
   "metadata": {},
   "source": [
    "Normalize the columns for the eODP CSVs."
   ]
  },
  {
   "cell_type": "code",
   "execution_count": 67,
   "metadata": {},
   "outputs": [],
   "source": [
    "import sys\n",
    "import os\n",
    "import glob\n",
    "sys.path.append('../scripts/')\n",
    "\n",
    "import pandas as pd\n",
    "\n",
    "from normalize_data import (\n",
    "    add_sample_col, \n",
    "    add_expedition_aw_cols, \n",
    "    csv_cleanup,\n",
    "    update_metadata,\n",
    "    append_set,\n",
    "    filter_existing_set,\n",
    "    normalize_columns,\n",
    "    add_missing_columns,\n",
    "    create_sample_name_for_row,\n",
    "    check_duplicate_columns\n",
    ")"
   ]
  },
  {
   "cell_type": "code",
   "execution_count": 68,
   "metadata": {},
   "outputs": [],
   "source": [
    "base_directory = 'cleaned_data'\n",
    "raw_data_directory = 'raw_data'\n",
    "\n",
    "lithology_meta = os.path.join(base_directory, 'metadata', 'LIMS','Lithology_changes.csv')\n",
    "micropal_meta = os.path.join(base_directory, 'metadata', 'LIMS', 'Micropal_changes.csv')\n",
    "\n",
    "lithology_type = 'lithology'\n",
    "taxa_type = 'taxa'\n",
    "\n",
    "columns_file = os.path.join(base_directory, 'metadata', 'LIMS','columns_list.csv')"
   ]
  },
  {
   "cell_type": "code",
   "execution_count": 69,
   "metadata": {},
   "outputs": [],
   "source": [
    "metadata_file = lithology_meta\n",
    "data_type = lithology_type\n",
    "duplicate_columns_file = os.path.join(base_directory, \n",
    "                                      'metadata', \n",
    "                                      'LIMS',\n",
    "                                      f'duplicate_columns_needs_reivew_{data_type}.csv')"
   ]
  },
  {
   "cell_type": "markdown",
   "metadata": {},
   "source": [
    "## 1. Remove empty rows and columns\n",
    "\n",
    "remove empty rows and columns without headers or data"
   ]
  },
  {
   "cell_type": "code",
   "execution_count": 66,
   "metadata": {},
   "outputs": [
    {
     "data": {
      "text/html": [
       "<div>\n",
       "<style scoped>\n",
       "    .dataframe tbody tr th:only-of-type {\n",
       "        vertical-align: middle;\n",
       "    }\n",
       "\n",
       "    .dataframe tbody tr th {\n",
       "        vertical-align: top;\n",
       "    }\n",
       "\n",
       "    .dataframe thead th {\n",
       "        text-align: right;\n",
       "    }\n",
       "</style>\n",
       "<table border=\"1\" class=\"dataframe\">\n",
       "  <thead>\n",
       "    <tr style=\"text-align: right;\">\n",
       "      <th></th>\n",
       "      <th>file</th>\n",
       "      <th>path</th>\n",
       "      <th>empty_rows_columns</th>\n",
       "      <th>remove_identical_rows</th>\n",
       "      <th>remove_identical_columns</th>\n",
       "      <th>standardize_headers</th>\n",
       "      <th>add_expedition_aw_cols</th>\n",
       "      <th>add_sample_column</th>\n",
       "      <th>add_missing_cols</th>\n",
       "      <th>update_lithology</th>\n",
       "      <th>add_missing_lith_cols</th>\n",
       "    </tr>\n",
       "  </thead>\n",
       "  <tbody>\n",
       "    <tr>\n",
       "      <th>0</th>\n",
       "      <td>361_macroscopic_U1474D.csv</td>\n",
       "      <td>Lithology_CSV/361_macroscopic_U1474D.csv</td>\n",
       "      <td>False</td>\n",
       "      <td>False</td>\n",
       "      <td>False</td>\n",
       "      <td>False</td>\n",
       "      <td>False</td>\n",
       "      <td>True</td>\n",
       "      <td>True</td>\n",
       "      <td>True</td>\n",
       "      <td>True</td>\n",
       "    </tr>\n",
       "    <tr>\n",
       "      <th>1</th>\n",
       "      <td>323 Core Description Template_U1341A.csv</td>\n",
       "      <td>Lithology_CSV/323 Core Description Template_U1...</td>\n",
       "      <td>False</td>\n",
       "      <td>False</td>\n",
       "      <td>False</td>\n",
       "      <td>False</td>\n",
       "      <td>False</td>\n",
       "      <td>False</td>\n",
       "      <td>True</td>\n",
       "      <td>True</td>\n",
       "      <td>True</td>\n",
       "    </tr>\n",
       "    <tr>\n",
       "      <th>2</th>\n",
       "      <td>361_macroscopic_U1479C.csv</td>\n",
       "      <td>Lithology_CSV/361_macroscopic_U1479C.csv</td>\n",
       "      <td>False</td>\n",
       "      <td>False</td>\n",
       "      <td>False</td>\n",
       "      <td>False</td>\n",
       "      <td>False</td>\n",
       "      <td>True</td>\n",
       "      <td>True</td>\n",
       "      <td>True</td>\n",
       "      <td>True</td>\n",
       "    </tr>\n",
       "    <tr>\n",
       "      <th>3</th>\n",
       "      <td>340_sediment_U1393A.csv</td>\n",
       "      <td>Lithology_CSV/340_sediment_U1393A.csv</td>\n",
       "      <td>False</td>\n",
       "      <td>False</td>\n",
       "      <td>False</td>\n",
       "      <td>True</td>\n",
       "      <td>False</td>\n",
       "      <td>False</td>\n",
       "      <td>True</td>\n",
       "      <td>True</td>\n",
       "      <td>True</td>\n",
       "    </tr>\n",
       "    <tr>\n",
       "      <th>4</th>\n",
       "      <td>339_sediment_U1386A.csv</td>\n",
       "      <td>Lithology_CSV/339_sediment_U1386A.csv</td>\n",
       "      <td>False</td>\n",
       "      <td>False</td>\n",
       "      <td>False</td>\n",
       "      <td>False</td>\n",
       "      <td>False</td>\n",
       "      <td>False</td>\n",
       "      <td>True</td>\n",
       "      <td>True</td>\n",
       "      <td>False</td>\n",
       "    </tr>\n",
       "  </tbody>\n",
       "</table>\n",
       "</div>"
      ],
      "text/plain": [
       "                                       file  \\\n",
       "0                361_macroscopic_U1474D.csv   \n",
       "1  323 Core Description Template_U1341A.csv   \n",
       "2                361_macroscopic_U1479C.csv   \n",
       "3                   340_sediment_U1393A.csv   \n",
       "4                   339_sediment_U1386A.csv   \n",
       "\n",
       "                                                path  empty_rows_columns  \\\n",
       "0           Lithology_CSV/361_macroscopic_U1474D.csv               False   \n",
       "1  Lithology_CSV/323 Core Description Template_U1...               False   \n",
       "2           Lithology_CSV/361_macroscopic_U1479C.csv               False   \n",
       "3              Lithology_CSV/340_sediment_U1393A.csv               False   \n",
       "4              Lithology_CSV/339_sediment_U1386A.csv               False   \n",
       "\n",
       "   remove_identical_rows  remove_identical_columns  standardize_headers  \\\n",
       "0                  False                     False                False   \n",
       "1                  False                     False                False   \n",
       "2                  False                     False                False   \n",
       "3                  False                     False                 True   \n",
       "4                  False                     False                False   \n",
       "\n",
       "   add_expedition_aw_cols  add_sample_column  add_missing_cols  \\\n",
       "0                   False               True              True   \n",
       "1                   False              False              True   \n",
       "2                   False               True              True   \n",
       "3                   False              False              True   \n",
       "4                   False              False              True   \n",
       "\n",
       "   update_lithology  add_missing_lith_cols  \n",
       "0              True                   True  \n",
       "1              True                   True  \n",
       "2              True                   True  \n",
       "3              True                   True  \n",
       "4              True                  False  "
      ]
     },
     "execution_count": 66,
     "metadata": {},
     "output_type": "execute_result"
    }
   ],
   "source": [
    "metadata = pd.read_csv(metadata_file)\n",
    "metadata.head()"
   ]
  },
  {
   "cell_type": "code",
   "execution_count": 5,
   "metadata": {},
   "outputs": [],
   "source": [
    "def process_filename(file_path):\n",
    "    path = f\"{base_directory}/{file_path}\"\n",
    "    df = pd.read_csv(path, dtype=str, header=None)\n",
    "    \n",
    "    orginal_dim = df.shape\n",
    "    df.dropna(axis=\"index\", how=\"all\", inplace=True)\n",
    "    df.dropna(axis=\"columns\", how=\"all\", inplace=True)\n",
    "    new_dim = df.shape\n",
    "    changed = orginal_dim != new_dim\n",
    "\n",
    "    if changed:\n",
    "        df.to_csv(path, index=False, header=False)\n",
    "\n",
    "    return changed\n",
    "    \n",
    "change_columns = [process_filename(file) for file in metadata['path']] "
   ]
  },
  {
   "cell_type": "code",
   "execution_count": 6,
   "metadata": {},
   "outputs": [],
   "source": [
    "dict = {\"empty_rows_columns\": change_columns}\n",
    "new_metadata = update_metadata(metadata, dict)"
   ]
  },
  {
   "cell_type": "code",
   "execution_count": 7,
   "metadata": {},
   "outputs": [],
   "source": [
    "new_metadata.to_csv(metadata_file, index=False)"
   ]
  },
  {
   "cell_type": "markdown",
   "metadata": {},
   "source": [
    "## 2. Remove duplicate identical rows\n",
    "Remove rows that are identical"
   ]
  },
  {
   "cell_type": "code",
   "execution_count": 8,
   "metadata": {},
   "outputs": [
    {
     "data": {
      "text/html": [
       "<div>\n",
       "<style scoped>\n",
       "    .dataframe tbody tr th:only-of-type {\n",
       "        vertical-align: middle;\n",
       "    }\n",
       "\n",
       "    .dataframe tbody tr th {\n",
       "        vertical-align: top;\n",
       "    }\n",
       "\n",
       "    .dataframe thead th {\n",
       "        text-align: right;\n",
       "    }\n",
       "</style>\n",
       "<table border=\"1\" class=\"dataframe\">\n",
       "  <thead>\n",
       "    <tr style=\"text-align: right;\">\n",
       "      <th></th>\n",
       "      <th>file</th>\n",
       "      <th>path</th>\n",
       "      <th>empty_rows_columns</th>\n",
       "    </tr>\n",
       "  </thead>\n",
       "  <tbody>\n",
       "    <tr>\n",
       "      <th>0</th>\n",
       "      <td>361_macroscopic_U1474D.csv</td>\n",
       "      <td>Lithology_CSV/361_macroscopic_U1474D.csv</td>\n",
       "      <td>False</td>\n",
       "    </tr>\n",
       "    <tr>\n",
       "      <th>1</th>\n",
       "      <td>323 Core Description Template_U1341A.csv</td>\n",
       "      <td>Lithology_CSV/323 Core Description Template_U1...</td>\n",
       "      <td>False</td>\n",
       "    </tr>\n",
       "    <tr>\n",
       "      <th>2</th>\n",
       "      <td>361_macroscopic_U1479C.csv</td>\n",
       "      <td>Lithology_CSV/361_macroscopic_U1479C.csv</td>\n",
       "      <td>False</td>\n",
       "    </tr>\n",
       "    <tr>\n",
       "      <th>3</th>\n",
       "      <td>340_sediment_U1393A.csv</td>\n",
       "      <td>Lithology_CSV/340_sediment_U1393A.csv</td>\n",
       "      <td>False</td>\n",
       "    </tr>\n",
       "    <tr>\n",
       "      <th>4</th>\n",
       "      <td>339_sediment_U1386A.csv</td>\n",
       "      <td>Lithology_CSV/339_sediment_U1386A.csv</td>\n",
       "      <td>False</td>\n",
       "    </tr>\n",
       "  </tbody>\n",
       "</table>\n",
       "</div>"
      ],
      "text/plain": [
       "                                       file  \\\n",
       "0                361_macroscopic_U1474D.csv   \n",
       "1  323 Core Description Template_U1341A.csv   \n",
       "2                361_macroscopic_U1479C.csv   \n",
       "3                   340_sediment_U1393A.csv   \n",
       "4                   339_sediment_U1386A.csv   \n",
       "\n",
       "                                                path  empty_rows_columns  \n",
       "0           Lithology_CSV/361_macroscopic_U1474D.csv               False  \n",
       "1  Lithology_CSV/323 Core Description Template_U1...               False  \n",
       "2           Lithology_CSV/361_macroscopic_U1479C.csv               False  \n",
       "3              Lithology_CSV/340_sediment_U1393A.csv               False  \n",
       "4              Lithology_CSV/339_sediment_U1386A.csv               False  "
      ]
     },
     "execution_count": 8,
     "metadata": {},
     "output_type": "execute_result"
    }
   ],
   "source": [
    "metadata = pd.read_csv(metadata_file)\n",
    "metadata.head()"
   ]
  },
  {
   "cell_type": "code",
   "execution_count": 9,
   "metadata": {},
   "outputs": [],
   "source": [
    "def process_filename(file_path):\n",
    "    path = f\"{base_directory}/{file_path}\"\n",
    "    df = pd.read_csv(path, dtype=str)\n",
    "    \n",
    "    original_rows = len(df)\n",
    "    df.drop_duplicates(inplace=True)\n",
    "    new_rows = len(df)\n",
    "    changed = original_rows != new_rows\n",
    "\n",
    "    if changed:\n",
    "        df = csv_cleanup(df, path)\n",
    "        df.to_csv(path, index=False)\n",
    "        \n",
    "    return changed\n",
    "    \n",
    "change_columns = [process_filename(file) for file in metadata['path']] "
   ]
  },
  {
   "cell_type": "code",
   "execution_count": 10,
   "metadata": {},
   "outputs": [],
   "source": [
    "dict = {\"remove_identical_rows\": change_columns}\n",
    "new_metadata = update_metadata(metadata, dict)"
   ]
  },
  {
   "cell_type": "code",
   "execution_count": 11,
   "metadata": {},
   "outputs": [],
   "source": [
    "new_metadata.to_csv(metadata_file, index=False)"
   ]
  },
  {
   "cell_type": "markdown",
   "metadata": {},
   "source": [
    "## 3. duplicate column names\n",
    "\n",
    "check if csv has duplicate column names. If headers and values are the same, delete column. If the headers  are the same but the values are different, log the error."
   ]
  },
  {
   "cell_type": "code",
   "execution_count": 12,
   "metadata": {},
   "outputs": [
    {
     "data": {
      "text/html": [
       "<div>\n",
       "<style scoped>\n",
       "    .dataframe tbody tr th:only-of-type {\n",
       "        vertical-align: middle;\n",
       "    }\n",
       "\n",
       "    .dataframe tbody tr th {\n",
       "        vertical-align: top;\n",
       "    }\n",
       "\n",
       "    .dataframe thead th {\n",
       "        text-align: right;\n",
       "    }\n",
       "</style>\n",
       "<table border=\"1\" class=\"dataframe\">\n",
       "  <thead>\n",
       "    <tr style=\"text-align: right;\">\n",
       "      <th></th>\n",
       "      <th>file</th>\n",
       "      <th>path</th>\n",
       "      <th>empty_rows_columns</th>\n",
       "      <th>remove_identical_rows</th>\n",
       "    </tr>\n",
       "  </thead>\n",
       "  <tbody>\n",
       "    <tr>\n",
       "      <th>0</th>\n",
       "      <td>361_macroscopic_U1474D.csv</td>\n",
       "      <td>Lithology_CSV/361_macroscopic_U1474D.csv</td>\n",
       "      <td>False</td>\n",
       "      <td>False</td>\n",
       "    </tr>\n",
       "    <tr>\n",
       "      <th>1</th>\n",
       "      <td>323 Core Description Template_U1341A.csv</td>\n",
       "      <td>Lithology_CSV/323 Core Description Template_U1...</td>\n",
       "      <td>False</td>\n",
       "      <td>False</td>\n",
       "    </tr>\n",
       "    <tr>\n",
       "      <th>2</th>\n",
       "      <td>361_macroscopic_U1479C.csv</td>\n",
       "      <td>Lithology_CSV/361_macroscopic_U1479C.csv</td>\n",
       "      <td>False</td>\n",
       "      <td>False</td>\n",
       "    </tr>\n",
       "    <tr>\n",
       "      <th>3</th>\n",
       "      <td>340_sediment_U1393A.csv</td>\n",
       "      <td>Lithology_CSV/340_sediment_U1393A.csv</td>\n",
       "      <td>False</td>\n",
       "      <td>False</td>\n",
       "    </tr>\n",
       "    <tr>\n",
       "      <th>4</th>\n",
       "      <td>339_sediment_U1386A.csv</td>\n",
       "      <td>Lithology_CSV/339_sediment_U1386A.csv</td>\n",
       "      <td>False</td>\n",
       "      <td>False</td>\n",
       "    </tr>\n",
       "  </tbody>\n",
       "</table>\n",
       "</div>"
      ],
      "text/plain": [
       "                                       file  \\\n",
       "0                361_macroscopic_U1474D.csv   \n",
       "1  323 Core Description Template_U1341A.csv   \n",
       "2                361_macroscopic_U1479C.csv   \n",
       "3                   340_sediment_U1393A.csv   \n",
       "4                   339_sediment_U1386A.csv   \n",
       "\n",
       "                                                path  empty_rows_columns  \\\n",
       "0           Lithology_CSV/361_macroscopic_U1474D.csv               False   \n",
       "1  Lithology_CSV/323 Core Description Template_U1...               False   \n",
       "2           Lithology_CSV/361_macroscopic_U1479C.csv               False   \n",
       "3              Lithology_CSV/340_sediment_U1393A.csv               False   \n",
       "4              Lithology_CSV/339_sediment_U1386A.csv               False   \n",
       "\n",
       "   remove_identical_rows  \n",
       "0                  False  \n",
       "1                  False  \n",
       "2                  False  \n",
       "3                  False  \n",
       "4                  False  "
      ]
     },
     "execution_count": 12,
     "metadata": {},
     "output_type": "execute_result"
    }
   ],
   "source": [
    "metadata = pd.read_csv(metadata_file)\n",
    "metadata.head()"
   ]
  },
  {
   "cell_type": "code",
   "execution_count": 13,
   "metadata": {},
   "outputs": [
    {
     "name": "stdout",
     "output_type": "stream",
     "text": [
      "Lithology_CSV/323 Core Description Template_U1341A.csv, GRAVEL SIZE CLAST: duplicate columns\n",
      "                        have different values\n"
     ]
    }
   ],
   "source": [
    "needs_review = []\n",
    "\n",
    "def process_filename(file_path):\n",
    "    path = f\"{base_directory}/{file_path}\"\n",
    "    df = pd.read_csv(path, dtype=str)\n",
    "    \n",
    "    original_rows = len(df.columns)\n",
    "    check_duplicate_columns(df, file_path, needs_review)\n",
    "    new_rows = len(df.columns)\n",
    "\n",
    "    changed = original_rows != new_rows\n",
    "\n",
    "    if changed:\n",
    "        df = csv_cleanup(df, path)\n",
    "        df.to_csv(path, index=False)\n",
    "\n",
    "    return changed\n",
    "\n",
    "change_columns = [process_filename(file) for file in metadata['path']] "
   ]
  },
  {
   "cell_type": "code",
   "execution_count": 14,
   "metadata": {},
   "outputs": [],
   "source": [
    "dict = {\"remove_identical_columns\": change_columns}\n",
    "new_metadata = update_metadata(metadata, dict)"
   ]
  },
  {
   "cell_type": "code",
   "execution_count": 15,
   "metadata": {},
   "outputs": [],
   "source": [
    "new_metadata.to_csv(metadata_file, index=False)"
   ]
  },
  {
   "cell_type": "markdown",
   "metadata": {},
   "source": [
    "### create file for columns that need to be reviewed"
   ]
  },
  {
   "cell_type": "code",
   "execution_count": 16,
   "metadata": {},
   "outputs": [],
   "source": [
    "df = pd.DataFrame(needs_review)\n",
    "df.to_csv(duplicate_columns_file, index=False)"
   ]
  },
  {
   "cell_type": "markdown",
   "metadata": {},
   "source": [
    "## 4. Standardize headers\n",
    "\n",
    "Find all variants for specified headers, and convert all the variants to the same term."
   ]
  },
  {
   "cell_type": "code",
   "execution_count": 70,
   "metadata": {},
   "outputs": [
    {
     "data": {
      "text/html": [
       "<div>\n",
       "<style scoped>\n",
       "    .dataframe tbody tr th:only-of-type {\n",
       "        vertical-align: middle;\n",
       "    }\n",
       "\n",
       "    .dataframe tbody tr th {\n",
       "        vertical-align: top;\n",
       "    }\n",
       "\n",
       "    .dataframe thead th {\n",
       "        text-align: right;\n",
       "    }\n",
       "</style>\n",
       "<table border=\"1\" class=\"dataframe\">\n",
       "  <thead>\n",
       "    <tr style=\"text-align: right;\">\n",
       "      <th></th>\n",
       "      <th>file</th>\n",
       "      <th>path</th>\n",
       "      <th>empty_rows_columns</th>\n",
       "      <th>remove_identical_rows</th>\n",
       "      <th>remove_identical_columns</th>\n",
       "      <th>standardize_headers</th>\n",
       "      <th>add_expedition_aw_cols</th>\n",
       "      <th>add_sample_column</th>\n",
       "      <th>add_missing_cols</th>\n",
       "      <th>update_lithology</th>\n",
       "      <th>add_missing_lith_cols</th>\n",
       "    </tr>\n",
       "  </thead>\n",
       "  <tbody>\n",
       "    <tr>\n",
       "      <th>0</th>\n",
       "      <td>361_macroscopic_U1474D.csv</td>\n",
       "      <td>Lithology_CSV/361_macroscopic_U1474D.csv</td>\n",
       "      <td>False</td>\n",
       "      <td>False</td>\n",
       "      <td>False</td>\n",
       "      <td>False</td>\n",
       "      <td>False</td>\n",
       "      <td>True</td>\n",
       "      <td>True</td>\n",
       "      <td>True</td>\n",
       "      <td>True</td>\n",
       "    </tr>\n",
       "    <tr>\n",
       "      <th>1</th>\n",
       "      <td>323 Core Description Template_U1341A.csv</td>\n",
       "      <td>Lithology_CSV/323 Core Description Template_U1...</td>\n",
       "      <td>False</td>\n",
       "      <td>False</td>\n",
       "      <td>False</td>\n",
       "      <td>False</td>\n",
       "      <td>False</td>\n",
       "      <td>False</td>\n",
       "      <td>True</td>\n",
       "      <td>True</td>\n",
       "      <td>True</td>\n",
       "    </tr>\n",
       "    <tr>\n",
       "      <th>2</th>\n",
       "      <td>361_macroscopic_U1479C.csv</td>\n",
       "      <td>Lithology_CSV/361_macroscopic_U1479C.csv</td>\n",
       "      <td>False</td>\n",
       "      <td>False</td>\n",
       "      <td>False</td>\n",
       "      <td>False</td>\n",
       "      <td>False</td>\n",
       "      <td>True</td>\n",
       "      <td>True</td>\n",
       "      <td>True</td>\n",
       "      <td>True</td>\n",
       "    </tr>\n",
       "    <tr>\n",
       "      <th>3</th>\n",
       "      <td>340_sediment_U1393A.csv</td>\n",
       "      <td>Lithology_CSV/340_sediment_U1393A.csv</td>\n",
       "      <td>False</td>\n",
       "      <td>False</td>\n",
       "      <td>False</td>\n",
       "      <td>True</td>\n",
       "      <td>False</td>\n",
       "      <td>False</td>\n",
       "      <td>True</td>\n",
       "      <td>True</td>\n",
       "      <td>True</td>\n",
       "    </tr>\n",
       "    <tr>\n",
       "      <th>4</th>\n",
       "      <td>339_sediment_U1386A.csv</td>\n",
       "      <td>Lithology_CSV/339_sediment_U1386A.csv</td>\n",
       "      <td>False</td>\n",
       "      <td>False</td>\n",
       "      <td>False</td>\n",
       "      <td>False</td>\n",
       "      <td>False</td>\n",
       "      <td>False</td>\n",
       "      <td>True</td>\n",
       "      <td>True</td>\n",
       "      <td>False</td>\n",
       "    </tr>\n",
       "  </tbody>\n",
       "</table>\n",
       "</div>"
      ],
      "text/plain": [
       "                                       file  \\\n",
       "0                361_macroscopic_U1474D.csv   \n",
       "1  323 Core Description Template_U1341A.csv   \n",
       "2                361_macroscopic_U1479C.csv   \n",
       "3                   340_sediment_U1393A.csv   \n",
       "4                   339_sediment_U1386A.csv   \n",
       "\n",
       "                                                path  empty_rows_columns  \\\n",
       "0           Lithology_CSV/361_macroscopic_U1474D.csv               False   \n",
       "1  Lithology_CSV/323 Core Description Template_U1...               False   \n",
       "2           Lithology_CSV/361_macroscopic_U1479C.csv               False   \n",
       "3              Lithology_CSV/340_sediment_U1393A.csv               False   \n",
       "4              Lithology_CSV/339_sediment_U1386A.csv               False   \n",
       "\n",
       "   remove_identical_rows  remove_identical_columns  standardize_headers  \\\n",
       "0                  False                     False                False   \n",
       "1                  False                     False                False   \n",
       "2                  False                     False                False   \n",
       "3                  False                     False                 True   \n",
       "4                  False                     False                False   \n",
       "\n",
       "   add_expedition_aw_cols  add_sample_column  add_missing_cols  \\\n",
       "0                   False               True              True   \n",
       "1                   False              False              True   \n",
       "2                   False               True              True   \n",
       "3                   False              False              True   \n",
       "4                   False              False              True   \n",
       "\n",
       "   update_lithology  add_missing_lith_cols  \n",
       "0              True                   True  \n",
       "1              True                   True  \n",
       "2              True                   True  \n",
       "3              True                   True  \n",
       "4              True                  False  "
      ]
     },
     "execution_count": 70,
     "metadata": {},
     "output_type": "execute_result"
    }
   ],
   "source": [
    "metadata = pd.read_csv(metadata_file)\n",
    "metadata.head()"
   ]
  },
  {
   "cell_type": "markdown",
   "metadata": {},
   "source": [
    "### Find all variants for specified headers"
   ]
  },
  {
   "cell_type": "code",
   "execution_count": 22,
   "metadata": {},
   "outputs": [
    {
     "data": {
      "text/plain": [
       "564"
      ]
     },
     "execution_count": 22,
     "metadata": {},
     "output_type": "execute_result"
    }
   ],
   "source": [
    "columns_all = get_columns_from_file_or_disk(columns_file = columns_file, \n",
    "                                            metadata = metadata, \n",
    "                                            data_directory = raw_data_directory, \n",
    "                                            column_type = data_type)\n",
    "\n",
    "len(columns_all)"
   ]
  },
  {
   "cell_type": "code",
   "execution_count": 27,
   "metadata": {},
   "outputs": [],
   "source": [
    "sample_all = set()\n",
    "append_set(sample_all, r\".*?(sample|label|labl).*?\", columns_all)\n",
    "\n",
    "sample = set()\n",
    "append_set(sample, r\"^(sample|labe?l id)$\", columns_all)\n",
    "\n",
    "exp_all = set()\n",
    "append_set(exp_all, r\".*?exp.*?\", columns_all)\n",
    "\n",
    "site_all = set()\n",
    "append_set(site_all, r\".*?site.*?\", columns_all)\n",
    "\n",
    "hole_all = set()\n",
    "append_set(hole_all, r\".*?hole.*?\", columns_all)\n",
    "\n",
    "core_all = set()\n",
    "append_set(core_all, r\".*?core.*?\", columns_all)\n",
    "\n",
    "type_all = set()\n",
    "append_set(type_all, r\".*?type.*?\", columns_all)\n",
    "\n",
    "section_all = set()\n",
    "append_set(section_all, r\".*?sect.*?\", columns_all)\n",
    "\n",
    "aw_all = set()\n",
    "append_set(aw_all, r\".*?a/?w.*?\", columns_all)\n",
    "\n",
    "extra_all = set()\n",
    "append_set(extra_all, r\".*?extra.*?\", columns_all)\n",
    "\n",
    "top_all = set()\n",
    "append_set(top_all, r\".*?top.*?\", columns_all)\n",
    "\n",
    "top_depth = set()\n",
    "append_set(top_depth, r\"top depth\", columns_all)\n",
    "\n",
    "top = set()\n",
    "append_set(top, r\"top offset|top ?\\[\", columns_all)\n",
    "\n",
    "bottom_all = set()\n",
    "append_set(bottom_all, r\".*?bottom.*?\", columns_all)\n",
    "\n",
    "bottom_depth = set()\n",
    "append_set(bottom_depth, r\"bottom depth\", columns_all)\n",
    "\n",
    "bottom = set()\n",
    "append_set(bottom, r\"bottom offset|bottom ?\\[\", columns_all)"
   ]
  },
  {
   "cell_type": "code",
   "execution_count": 28,
   "metadata": {},
   "outputs": [
    {
     "data": {
      "text/plain": [
       "{'Extra Sample ID Data',\n",
       " 'Label ID',\n",
       " 'Sample',\n",
       " 'Sample domain name (if >1 domain)',\n",
       " 'Sample domain number (if >1 domain)'}"
      ]
     },
     "execution_count": 28,
     "metadata": {},
     "output_type": "execute_result"
    }
   ],
   "source": [
    "sample_all"
   ]
  },
  {
   "cell_type": "code",
   "execution_count": 29,
   "metadata": {},
   "outputs": [
    {
     "data": {
      "text/plain": [
       "{'Label ID', 'Sample'}"
      ]
     },
     "execution_count": 29,
     "metadata": {},
     "output_type": "execute_result"
    }
   ],
   "source": [
    "sample"
   ]
  },
  {
   "cell_type": "code",
   "execution_count": 30,
   "metadata": {},
   "outputs": [
    {
     "data": {
      "text/plain": [
       "{'Exp'}"
      ]
     },
     "execution_count": 30,
     "metadata": {},
     "output_type": "execute_result"
    }
   ],
   "source": [
    "exp_all"
   ]
  },
  {
   "cell_type": "code",
   "execution_count": 31,
   "metadata": {},
   "outputs": [
    {
     "data": {
      "text/plain": [
       "{'Site'}"
      ]
     },
     "execution_count": 31,
     "metadata": {},
     "output_type": "execute_result"
    }
   ],
   "source": [
    "site_all"
   ]
  },
  {
   "cell_type": "code",
   "execution_count": 32,
   "metadata": {},
   "outputs": [
    {
     "data": {
      "text/plain": [
       "{'Hole'}"
      ]
     },
     "execution_count": 32,
     "metadata": {},
     "output_type": "execute_result"
    }
   ],
   "source": [
    "hole_all"
   ]
  },
  {
   "cell_type": "code",
   "execution_count": 33,
   "metadata": {},
   "outputs": [
    {
     "data": {
      "text/plain": [
       "{'Core', 'Core-Sect'}"
      ]
     },
     "execution_count": 33,
     "metadata": {},
     "output_type": "execute_result"
    }
   ],
   "source": [
    "core_all"
   ]
  },
  {
   "cell_type": "code",
   "execution_count": 34,
   "metadata": {},
   "outputs": [
    {
     "data": {
      "text/plain": [
       "{'Bioturbation type',\n",
       " 'Bottom contact or boundary type',\n",
       " 'Contact or boundary type',\n",
       " 'Contact type',\n",
       " 'Drilling disturbance type',\n",
       " 'TEPHRA type',\n",
       " 'Type',\n",
       " 'Type and sense of shear'}"
      ]
     },
     "execution_count": 34,
     "metadata": {},
     "output_type": "execute_result"
    }
   ],
   "source": [
    "type_all"
   ]
  },
  {
   "cell_type": "code",
   "execution_count": 35,
   "metadata": {},
   "outputs": [
    {
     "data": {
      "text/plain": [
       "{'Core-Sect', 'Section'}"
      ]
     },
     "execution_count": 35,
     "metadata": {},
     "output_type": "execute_result"
    }
   ],
   "source": [
    "section_all"
   ]
  },
  {
   "cell_type": "code",
   "execution_count": 36,
   "metadata": {},
   "outputs": [
    {
     "data": {
      "text/plain": [
       "{'A/W'}"
      ]
     },
     "execution_count": 36,
     "metadata": {},
     "output_type": "execute_result"
    }
   ],
   "source": [
    "aw_all"
   ]
  },
  {
   "cell_type": "code",
   "execution_count": 37,
   "metadata": {},
   "outputs": [
    {
     "data": {
      "text/plain": [
       "{'Extra Sample ID Data'}"
      ]
     },
     "execution_count": 37,
     "metadata": {},
     "output_type": "execute_result"
    }
   ],
   "source": [
    "extra_all"
   ]
  },
  {
   "cell_type": "code",
   "execution_count": 38,
   "metadata": {},
   "outputs": [
    {
     "data": {
      "text/plain": [
       "{'Top Depth [m]',\n",
       " 'Top Depth[m] [m]',\n",
       " 'Top [cm]',\n",
       " 'Top depth [m]',\n",
       " 'Top offset [cm]',\n",
       " 'Top[cm] [cm]'}"
      ]
     },
     "execution_count": 38,
     "metadata": {},
     "output_type": "execute_result"
    }
   ],
   "source": [
    "top_all"
   ]
  },
  {
   "cell_type": "code",
   "execution_count": 39,
   "metadata": {},
   "outputs": [
    {
     "data": {
      "text/plain": [
       "{'Top [cm]', 'Top offset [cm]', 'Top[cm] [cm]'}"
      ]
     },
     "execution_count": 39,
     "metadata": {},
     "output_type": "execute_result"
    }
   ],
   "source": [
    "top"
   ]
  },
  {
   "cell_type": "code",
   "execution_count": 40,
   "metadata": {},
   "outputs": [
    {
     "data": {
      "text/plain": [
       "{'Top Depth [m]', 'Top Depth[m] [m]', 'Top depth [m]'}"
      ]
     },
     "execution_count": 40,
     "metadata": {},
     "output_type": "execute_result"
    }
   ],
   "source": [
    "top_depth"
   ]
  },
  {
   "cell_type": "code",
   "execution_count": 41,
   "metadata": {},
   "outputs": [
    {
     "data": {
      "text/plain": [
       "{'Bottom Depth [m]',\n",
       " 'Bottom Depth[m] [m]',\n",
       " 'Bottom [cm]',\n",
       " 'Bottom contact attitude',\n",
       " 'Bottom contact definition',\n",
       " 'Bottom contact geometry',\n",
       " 'Bottom contact or boundary attitude',\n",
       " 'Bottom contact or boundary definition',\n",
       " 'Bottom contact or boundary geometry',\n",
       " 'Bottom contact or boundary geometry+definition [read only]',\n",
       " 'Bottom contact or boundary type',\n",
       " 'Bottom depth [m]',\n",
       " 'Bottom offset [cm]',\n",
       " 'Bottom[cm] [cm]'}"
      ]
     },
     "execution_count": 41,
     "metadata": {},
     "output_type": "execute_result"
    }
   ],
   "source": [
    "bottom_all"
   ]
  },
  {
   "cell_type": "code",
   "execution_count": 42,
   "metadata": {},
   "outputs": [
    {
     "data": {
      "text/plain": [
       "{'Bottom [cm]', 'Bottom offset [cm]', 'Bottom[cm] [cm]'}"
      ]
     },
     "execution_count": 42,
     "metadata": {},
     "output_type": "execute_result"
    }
   ],
   "source": [
    "bottom"
   ]
  },
  {
   "cell_type": "code",
   "execution_count": 43,
   "metadata": {},
   "outputs": [
    {
     "data": {
      "text/plain": [
       "{'Bottom Depth [m]', 'Bottom Depth[m] [m]', 'Bottom depth [m]'}"
      ]
     },
     "execution_count": 43,
     "metadata": {},
     "output_type": "execute_result"
    }
   ],
   "source": [
    "bottom_depth"
   ]
  },
  {
   "cell_type": "markdown",
   "metadata": {},
   "source": [
    "### Standardize header names"
   ]
  },
  {
   "cell_type": "code",
   "execution_count": 44,
   "metadata": {},
   "outputs": [],
   "source": [
    "def process_filename(file_path):\n",
    "    path = f\"{base_directory}/{file_path}\"\n",
    "    content = pd.read_csv(path, dtype=str)\n",
    "    columns = list(content.columns)\n",
    "    \n",
    "    normalized_cols = normalize_columns(sample, 'Sample', columns)\n",
    "    normalized_cols = normalize_columns(top, 'Top [cm]', normalized_cols)\n",
    "    normalized_cols = normalize_columns(bottom, 'Bottom [cm]', normalized_cols)\n",
    "    normalized_cols = normalize_columns(top_depth, 'Top Depth [m]', normalized_cols)\n",
    "    normalized_cols = normalize_columns(bottom_depth, 'Bottom Depth [m]', normalized_cols)\n",
    "\n",
    "    changed = columns != normalized_cols\n",
    "    \n",
    "    if changed:\n",
    "        content.columns = normalized_cols\n",
    "        content = csv_cleanup(content, path)\n",
    "        content.to_csv(path, index=False)\n",
    "\n",
    "    return changed\n",
    "\n",
    "change_columns = [process_filename(file) for file in metadata['path']] "
   ]
  },
  {
   "cell_type": "code",
   "execution_count": 45,
   "metadata": {},
   "outputs": [],
   "source": [
    "dict = {\"standardize_headers\": change_columns}\n",
    "new_metadata = update_metadata(metadata, dict)"
   ]
  },
  {
   "cell_type": "code",
   "execution_count": 46,
   "metadata": {},
   "outputs": [],
   "source": [
    "new_metadata.to_csv(metadata_file, index=False)"
   ]
  },
  {
   "cell_type": "markdown",
   "metadata": {},
   "source": [
    "## 5. Convert Sample to missing expedition..a/w columns "
   ]
  },
  {
   "cell_type": "markdown",
   "metadata": {},
   "source": [
    "If expedition..A/W columns do not exist, convert Sample string into expedition..A/W  columns. "
   ]
  },
  {
   "cell_type": "code",
   "execution_count": 60,
   "metadata": {},
   "outputs": [
    {
     "data": {
      "text/html": [
       "<div>\n",
       "<style scoped>\n",
       "    .dataframe tbody tr th:only-of-type {\n",
       "        vertical-align: middle;\n",
       "    }\n",
       "\n",
       "    .dataframe tbody tr th {\n",
       "        vertical-align: top;\n",
       "    }\n",
       "\n",
       "    .dataframe thead th {\n",
       "        text-align: right;\n",
       "    }\n",
       "</style>\n",
       "<table border=\"1\" class=\"dataframe\">\n",
       "  <thead>\n",
       "    <tr style=\"text-align: right;\">\n",
       "      <th></th>\n",
       "      <th>file</th>\n",
       "      <th>path</th>\n",
       "      <th>empty_rows_columns</th>\n",
       "      <th>remove_identical_rows</th>\n",
       "      <th>remove_identical_columns</th>\n",
       "      <th>standardize_headers</th>\n",
       "      <th>add_expedition_aw_cols</th>\n",
       "      <th>add_sample_column</th>\n",
       "      <th>add_missing_cols</th>\n",
       "      <th>update_lithology</th>\n",
       "      <th>add_missing_lith_cols</th>\n",
       "    </tr>\n",
       "  </thead>\n",
       "  <tbody>\n",
       "    <tr>\n",
       "      <th>0</th>\n",
       "      <td>361_macroscopic_U1474D.csv</td>\n",
       "      <td>Lithology_CSV/361_macroscopic_U1474D.csv</td>\n",
       "      <td>False</td>\n",
       "      <td>False</td>\n",
       "      <td>False</td>\n",
       "      <td>False</td>\n",
       "      <td>False</td>\n",
       "      <td>True</td>\n",
       "      <td>True</td>\n",
       "      <td>True</td>\n",
       "      <td>True</td>\n",
       "    </tr>\n",
       "    <tr>\n",
       "      <th>1</th>\n",
       "      <td>323 Core Description Template_U1341A.csv</td>\n",
       "      <td>Lithology_CSV/323 Core Description Template_U1...</td>\n",
       "      <td>False</td>\n",
       "      <td>False</td>\n",
       "      <td>False</td>\n",
       "      <td>False</td>\n",
       "      <td>False</td>\n",
       "      <td>False</td>\n",
       "      <td>True</td>\n",
       "      <td>True</td>\n",
       "      <td>True</td>\n",
       "    </tr>\n",
       "    <tr>\n",
       "      <th>2</th>\n",
       "      <td>361_macroscopic_U1479C.csv</td>\n",
       "      <td>Lithology_CSV/361_macroscopic_U1479C.csv</td>\n",
       "      <td>False</td>\n",
       "      <td>False</td>\n",
       "      <td>False</td>\n",
       "      <td>False</td>\n",
       "      <td>False</td>\n",
       "      <td>True</td>\n",
       "      <td>True</td>\n",
       "      <td>True</td>\n",
       "      <td>True</td>\n",
       "    </tr>\n",
       "    <tr>\n",
       "      <th>3</th>\n",
       "      <td>340_sediment_U1393A.csv</td>\n",
       "      <td>Lithology_CSV/340_sediment_U1393A.csv</td>\n",
       "      <td>False</td>\n",
       "      <td>False</td>\n",
       "      <td>False</td>\n",
       "      <td>True</td>\n",
       "      <td>False</td>\n",
       "      <td>False</td>\n",
       "      <td>True</td>\n",
       "      <td>True</td>\n",
       "      <td>True</td>\n",
       "    </tr>\n",
       "    <tr>\n",
       "      <th>4</th>\n",
       "      <td>339_sediment_U1386A.csv</td>\n",
       "      <td>Lithology_CSV/339_sediment_U1386A.csv</td>\n",
       "      <td>False</td>\n",
       "      <td>False</td>\n",
       "      <td>False</td>\n",
       "      <td>False</td>\n",
       "      <td>False</td>\n",
       "      <td>False</td>\n",
       "      <td>True</td>\n",
       "      <td>True</td>\n",
       "      <td>False</td>\n",
       "    </tr>\n",
       "  </tbody>\n",
       "</table>\n",
       "</div>"
      ],
      "text/plain": [
       "                                       file  \\\n",
       "0                361_macroscopic_U1474D.csv   \n",
       "1  323 Core Description Template_U1341A.csv   \n",
       "2                361_macroscopic_U1479C.csv   \n",
       "3                   340_sediment_U1393A.csv   \n",
       "4                   339_sediment_U1386A.csv   \n",
       "\n",
       "                                                path  empty_rows_columns  \\\n",
       "0           Lithology_CSV/361_macroscopic_U1474D.csv               False   \n",
       "1  Lithology_CSV/323 Core Description Template_U1...               False   \n",
       "2           Lithology_CSV/361_macroscopic_U1479C.csv               False   \n",
       "3              Lithology_CSV/340_sediment_U1393A.csv               False   \n",
       "4              Lithology_CSV/339_sediment_U1386A.csv               False   \n",
       "\n",
       "   remove_identical_rows  remove_identical_columns  standardize_headers  \\\n",
       "0                  False                     False                False   \n",
       "1                  False                     False                False   \n",
       "2                  False                     False                False   \n",
       "3                  False                     False                 True   \n",
       "4                  False                     False                False   \n",
       "\n",
       "   add_expedition_aw_cols  add_sample_column  add_missing_cols  \\\n",
       "0                   False               True              True   \n",
       "1                   False              False              True   \n",
       "2                   False               True              True   \n",
       "3                   False              False              True   \n",
       "4                   False              False              True   \n",
       "\n",
       "   update_lithology  add_missing_lith_cols  \n",
       "0              True                   True  \n",
       "1              True                   True  \n",
       "2              True                   True  \n",
       "3              True                   True  \n",
       "4              True                  False  "
      ]
     },
     "execution_count": 60,
     "metadata": {},
     "output_type": "execute_result"
    }
   ],
   "source": [
    "metadata = pd.read_csv(metadata_file)\n",
    "metadata.head()"
   ]
  },
  {
   "cell_type": "code",
   "execution_count": 48,
   "metadata": {},
   "outputs": [],
   "source": [
    "def process_filename(file_path):\n",
    "    path = f\"{base_directory}/{file_path}\"\n",
    "    content = pd.read_csv(path, dtype=str)\n",
    "    \n",
    "    original_cols = content.columns\n",
    "    content = add_expedition_aw_cols(content)\n",
    "    changed = list(original_cols) != list(content.columns)\n",
    "\n",
    "        \n",
    "    if changed:\n",
    "        content = csv_cleanup(content, path)\n",
    "        content.to_csv(path, index=False)\n",
    "\n",
    "    return changed\n",
    "    \n",
    "change_columns = [process_filename(file) for file in metadata['path']] \n"
   ]
  },
  {
   "cell_type": "code",
   "execution_count": 49,
   "metadata": {},
   "outputs": [],
   "source": [
    "dict = {\"add_expedition_aw_cols\": change_columns}\n",
    "new_metadata = update_metadata(metadata, dict)"
   ]
  },
  {
   "cell_type": "code",
   "execution_count": 50,
   "metadata": {},
   "outputs": [],
   "source": [
    "new_metadata.to_csv(metadata_file, index=False)"
   ]
  },
  {
   "cell_type": "markdown",
   "metadata": {},
   "source": [
    "## 6. Add Sample column"
   ]
  },
  {
   "cell_type": "markdown",
   "metadata": {},
   "source": [
    "If no 'Sample', add 'Sample' based on expedition...A/W columns."
   ]
  },
  {
   "cell_type": "code",
   "execution_count": 51,
   "metadata": {},
   "outputs": [
    {
     "data": {
      "text/html": [
       "<div>\n",
       "<style scoped>\n",
       "    .dataframe tbody tr th:only-of-type {\n",
       "        vertical-align: middle;\n",
       "    }\n",
       "\n",
       "    .dataframe tbody tr th {\n",
       "        vertical-align: top;\n",
       "    }\n",
       "\n",
       "    .dataframe thead th {\n",
       "        text-align: right;\n",
       "    }\n",
       "</style>\n",
       "<table border=\"1\" class=\"dataframe\">\n",
       "  <thead>\n",
       "    <tr style=\"text-align: right;\">\n",
       "      <th></th>\n",
       "      <th>file</th>\n",
       "      <th>path</th>\n",
       "      <th>empty_rows_columns</th>\n",
       "      <th>remove_identical_rows</th>\n",
       "      <th>remove_identical_columns</th>\n",
       "      <th>standardize_headers</th>\n",
       "      <th>add_expedition_aw_cols</th>\n",
       "    </tr>\n",
       "  </thead>\n",
       "  <tbody>\n",
       "    <tr>\n",
       "      <th>0</th>\n",
       "      <td>361_macroscopic_U1474D.csv</td>\n",
       "      <td>Lithology_CSV/361_macroscopic_U1474D.csv</td>\n",
       "      <td>False</td>\n",
       "      <td>False</td>\n",
       "      <td>False</td>\n",
       "      <td>False</td>\n",
       "      <td>False</td>\n",
       "    </tr>\n",
       "    <tr>\n",
       "      <th>1</th>\n",
       "      <td>323 Core Description Template_U1341A.csv</td>\n",
       "      <td>Lithology_CSV/323 Core Description Template_U1...</td>\n",
       "      <td>False</td>\n",
       "      <td>False</td>\n",
       "      <td>False</td>\n",
       "      <td>False</td>\n",
       "      <td>False</td>\n",
       "    </tr>\n",
       "    <tr>\n",
       "      <th>2</th>\n",
       "      <td>361_macroscopic_U1479C.csv</td>\n",
       "      <td>Lithology_CSV/361_macroscopic_U1479C.csv</td>\n",
       "      <td>False</td>\n",
       "      <td>False</td>\n",
       "      <td>False</td>\n",
       "      <td>False</td>\n",
       "      <td>False</td>\n",
       "    </tr>\n",
       "    <tr>\n",
       "      <th>3</th>\n",
       "      <td>340_sediment_U1393A.csv</td>\n",
       "      <td>Lithology_CSV/340_sediment_U1393A.csv</td>\n",
       "      <td>False</td>\n",
       "      <td>False</td>\n",
       "      <td>False</td>\n",
       "      <td>True</td>\n",
       "      <td>False</td>\n",
       "    </tr>\n",
       "    <tr>\n",
       "      <th>4</th>\n",
       "      <td>339_sediment_U1386A.csv</td>\n",
       "      <td>Lithology_CSV/339_sediment_U1386A.csv</td>\n",
       "      <td>False</td>\n",
       "      <td>False</td>\n",
       "      <td>False</td>\n",
       "      <td>False</td>\n",
       "      <td>False</td>\n",
       "    </tr>\n",
       "  </tbody>\n",
       "</table>\n",
       "</div>"
      ],
      "text/plain": [
       "                                       file  \\\n",
       "0                361_macroscopic_U1474D.csv   \n",
       "1  323 Core Description Template_U1341A.csv   \n",
       "2                361_macroscopic_U1479C.csv   \n",
       "3                   340_sediment_U1393A.csv   \n",
       "4                   339_sediment_U1386A.csv   \n",
       "\n",
       "                                                path  empty_rows_columns  \\\n",
       "0           Lithology_CSV/361_macroscopic_U1474D.csv               False   \n",
       "1  Lithology_CSV/323 Core Description Template_U1...               False   \n",
       "2           Lithology_CSV/361_macroscopic_U1479C.csv               False   \n",
       "3              Lithology_CSV/340_sediment_U1393A.csv               False   \n",
       "4              Lithology_CSV/339_sediment_U1386A.csv               False   \n",
       "\n",
       "   remove_identical_rows  remove_identical_columns  standardize_headers  \\\n",
       "0                  False                     False                False   \n",
       "1                  False                     False                False   \n",
       "2                  False                     False                False   \n",
       "3                  False                     False                 True   \n",
       "4                  False                     False                False   \n",
       "\n",
       "   add_expedition_aw_cols  \n",
       "0                   False  \n",
       "1                   False  \n",
       "2                   False  \n",
       "3                   False  \n",
       "4                   False  "
      ]
     },
     "execution_count": 51,
     "metadata": {},
     "output_type": "execute_result"
    }
   ],
   "source": [
    "metadata = pd.read_csv(metadata_file)\n",
    "metadata.head()"
   ]
  },
  {
   "cell_type": "code",
   "execution_count": 52,
   "metadata": {},
   "outputs": [],
   "source": [
    "def process_filename(file_path):\n",
    "    path = f\"{base_directory}/{file_path}\"\n",
    "    content = pd.read_csv(path, dtype=str)\n",
    "    \n",
    "    original_cols = content.columns\n",
    "    add_sample_col(content)\n",
    "    \n",
    "    changed = list(original_cols) != list(content.columns)\n",
    "    \n",
    "    if changed:\n",
    "        content = csv_cleanup(content, path)\n",
    "        content.to_csv(path, index=False)\n",
    "\n",
    "    return changed\n",
    "    \n",
    "change_columns = [process_filename(file) for file in metadata['path']] "
   ]
  },
  {
   "cell_type": "code",
   "execution_count": 53,
   "metadata": {},
   "outputs": [],
   "source": [
    "dict = {\"add_sample_column\": change_columns}\n",
    "new_metadata = update_metadata(metadata, dict)"
   ]
  },
  {
   "cell_type": "code",
   "execution_count": 54,
   "metadata": {},
   "outputs": [],
   "source": [
    "new_metadata.to_csv(metadata_file, index=False)"
   ]
  },
  {
   "cell_type": "markdown",
   "metadata": {},
   "source": [
    "## 7. Add missing columns"
   ]
  },
  {
   "cell_type": "code",
   "execution_count": 55,
   "metadata": {},
   "outputs": [
    {
     "data": {
      "text/html": [
       "<div>\n",
       "<style scoped>\n",
       "    .dataframe tbody tr th:only-of-type {\n",
       "        vertical-align: middle;\n",
       "    }\n",
       "\n",
       "    .dataframe tbody tr th {\n",
       "        vertical-align: top;\n",
       "    }\n",
       "\n",
       "    .dataframe thead th {\n",
       "        text-align: right;\n",
       "    }\n",
       "</style>\n",
       "<table border=\"1\" class=\"dataframe\">\n",
       "  <thead>\n",
       "    <tr style=\"text-align: right;\">\n",
       "      <th></th>\n",
       "      <th>file</th>\n",
       "      <th>path</th>\n",
       "      <th>empty_rows_columns</th>\n",
       "      <th>remove_identical_rows</th>\n",
       "      <th>remove_identical_columns</th>\n",
       "      <th>standardize_headers</th>\n",
       "      <th>add_expedition_aw_cols</th>\n",
       "      <th>add_sample_column</th>\n",
       "    </tr>\n",
       "  </thead>\n",
       "  <tbody>\n",
       "    <tr>\n",
       "      <th>0</th>\n",
       "      <td>361_macroscopic_U1474D.csv</td>\n",
       "      <td>Lithology_CSV/361_macroscopic_U1474D.csv</td>\n",
       "      <td>False</td>\n",
       "      <td>False</td>\n",
       "      <td>False</td>\n",
       "      <td>False</td>\n",
       "      <td>False</td>\n",
       "      <td>True</td>\n",
       "    </tr>\n",
       "    <tr>\n",
       "      <th>1</th>\n",
       "      <td>323 Core Description Template_U1341A.csv</td>\n",
       "      <td>Lithology_CSV/323 Core Description Template_U1...</td>\n",
       "      <td>False</td>\n",
       "      <td>False</td>\n",
       "      <td>False</td>\n",
       "      <td>False</td>\n",
       "      <td>False</td>\n",
       "      <td>False</td>\n",
       "    </tr>\n",
       "    <tr>\n",
       "      <th>2</th>\n",
       "      <td>361_macroscopic_U1479C.csv</td>\n",
       "      <td>Lithology_CSV/361_macroscopic_U1479C.csv</td>\n",
       "      <td>False</td>\n",
       "      <td>False</td>\n",
       "      <td>False</td>\n",
       "      <td>False</td>\n",
       "      <td>False</td>\n",
       "      <td>True</td>\n",
       "    </tr>\n",
       "    <tr>\n",
       "      <th>3</th>\n",
       "      <td>340_sediment_U1393A.csv</td>\n",
       "      <td>Lithology_CSV/340_sediment_U1393A.csv</td>\n",
       "      <td>False</td>\n",
       "      <td>False</td>\n",
       "      <td>False</td>\n",
       "      <td>True</td>\n",
       "      <td>False</td>\n",
       "      <td>False</td>\n",
       "    </tr>\n",
       "    <tr>\n",
       "      <th>4</th>\n",
       "      <td>339_sediment_U1386A.csv</td>\n",
       "      <td>Lithology_CSV/339_sediment_U1386A.csv</td>\n",
       "      <td>False</td>\n",
       "      <td>False</td>\n",
       "      <td>False</td>\n",
       "      <td>False</td>\n",
       "      <td>False</td>\n",
       "      <td>False</td>\n",
       "    </tr>\n",
       "  </tbody>\n",
       "</table>\n",
       "</div>"
      ],
      "text/plain": [
       "                                       file  \\\n",
       "0                361_macroscopic_U1474D.csv   \n",
       "1  323 Core Description Template_U1341A.csv   \n",
       "2                361_macroscopic_U1479C.csv   \n",
       "3                   340_sediment_U1393A.csv   \n",
       "4                   339_sediment_U1386A.csv   \n",
       "\n",
       "                                                path  empty_rows_columns  \\\n",
       "0           Lithology_CSV/361_macroscopic_U1474D.csv               False   \n",
       "1  Lithology_CSV/323 Core Description Template_U1...               False   \n",
       "2           Lithology_CSV/361_macroscopic_U1479C.csv               False   \n",
       "3              Lithology_CSV/340_sediment_U1393A.csv               False   \n",
       "4              Lithology_CSV/339_sediment_U1386A.csv               False   \n",
       "\n",
       "   remove_identical_rows  remove_identical_columns  standardize_headers  \\\n",
       "0                  False                     False                False   \n",
       "1                  False                     False                False   \n",
       "2                  False                     False                False   \n",
       "3                  False                     False                 True   \n",
       "4                  False                     False                False   \n",
       "\n",
       "   add_expedition_aw_cols  add_sample_column  \n",
       "0                   False               True  \n",
       "1                   False              False  \n",
       "2                   False               True  \n",
       "3                   False              False  \n",
       "4                   False              False  "
      ]
     },
     "execution_count": 55,
     "metadata": {},
     "output_type": "execute_result"
    }
   ],
   "source": [
    "metadata = pd.read_csv(metadata_file)\n",
    "metadata.head()"
   ]
  },
  {
   "cell_type": "code",
   "execution_count": 56,
   "metadata": {},
   "outputs": [],
   "source": [
    "normalized_columns = [\n",
    "    'Top [cm]',\n",
    "    'Bottom [cm]',\n",
    "    'Top Depth [m]',\n",
    "    'Bottom Depth [m]', \n",
    "    'Sample',\n",
    "    'Exp',\n",
    "    'Site',\n",
    "    'Hole',\n",
    "    'Core',\n",
    "    'Type',\n",
    "    'Section',\n",
    "    'A/W',\n",
    "    'Extra Sample ID Data',\n",
    "]"
   ]
  },
  {
   "cell_type": "code",
   "execution_count": 57,
   "metadata": {},
   "outputs": [],
   "source": [
    "change_columns = [add_missing_columns(f\"{base_directory}/{file}\", normalized_columns) for file in metadata['path']] "
   ]
  },
  {
   "cell_type": "code",
   "execution_count": 58,
   "metadata": {},
   "outputs": [],
   "source": [
    "dict = {\"add_missing_cols\": change_columns}\n",
    "new_metadata = update_metadata(metadata, dict)"
   ]
  },
  {
   "cell_type": "code",
   "execution_count": 59,
   "metadata": {},
   "outputs": [],
   "source": [
    "new_metadata.to_csv(metadata_file, index=False)"
   ]
  },
  {
   "cell_type": "code",
   "execution_count": null,
   "metadata": {},
   "outputs": [],
   "source": []
  }
 ],
 "metadata": {
  "kernelspec": {
   "display_name": "Python 3",
   "language": "python",
   "name": "python3"
  },
  "language_info": {
   "codemirror_mode": {
    "name": "ipython",
    "version": 3
   },
   "file_extension": ".py",
   "mimetype": "text/x-python",
   "name": "python",
   "nbconvert_exporter": "python",
   "pygments_lexer": "ipython3",
   "version": "3.6.8"
  }
 },
 "nbformat": 4,
 "nbformat_minor": 4
}
