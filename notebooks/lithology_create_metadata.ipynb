{
 "cells": [
  {
   "cell_type": "markdown",
   "metadata": {},
   "source": [
    "# Create Lithology metadata"
   ]
  },
  {
   "cell_type": "markdown",
   "metadata": {},
   "source": [
    "Create a metadata file that tracks changes will we make to the Lithology CSVs files."
   ]
  },
  {
   "cell_type": "code",
   "execution_count": 1,
   "metadata": {},
   "outputs": [],
   "source": [
    "import sys\n",
    "import os\n",
    "sys.path.append('../scripts/')\n",
    "import glob\n",
    "import re\n",
    "\n",
    "import pandas as pd\n",
    "\n",
    "from normalize_data import create_directory, get_expedition_from_csv"
   ]
  },
  {
   "cell_type": "code",
   "execution_count": 2,
   "metadata": {},
   "outputs": [],
   "source": [
    "base_directory = 'cleaned_data'\n",
    "data_directory = os.path.join(base_directory, 'Lithology_CSV')\n",
    "metadata_file = os.path.join(base_directory, 'metadata', 'LIMS','Lithology_changes.csv')"
   ]
  },
  {
   "cell_type": "code",
   "execution_count": 3,
   "metadata": {},
   "outputs": [
    {
     "data": {
      "text/plain": [
       "['cleaned_data/Lithology_CSV/361_macroscopic_U1474D.csv',\n",
       " 'cleaned_data/Lithology_CSV/323 Core Description Template_U1341A.csv',\n",
       " 'cleaned_data/Lithology_CSV/361_macroscopic_U1479C.csv',\n",
       " 'cleaned_data/Lithology_CSV/340_sediment_U1393A.csv',\n",
       " 'cleaned_data/Lithology_CSV/339_sediment_U1386A.csv',\n",
       " 'cleaned_data/Lithology_CSV/320 Core Description_U1332A.csv']"
      ]
     },
     "execution_count": 3,
     "metadata": {},
     "output_type": "execute_result"
    }
   ],
   "source": [
    "raw_csvs = glob.glob(f\"{data_directory}/*.csv\")\n",
    "raw_csvs[0:6]"
   ]
  },
  {
   "cell_type": "code",
   "execution_count": 4,
   "metadata": {},
   "outputs": [
    {
     "data": {
      "text/plain": [
       "518"
      ]
     },
     "execution_count": 4,
     "metadata": {},
     "output_type": "execute_result"
    }
   ],
   "source": [
    "len(raw_csvs)"
   ]
  },
  {
   "cell_type": "markdown",
   "metadata": {},
   "source": [
    "Get expedition for each CSV. Copy all the CSVs."
   ]
  },
  {
   "cell_type": "code",
   "execution_count": 5,
   "metadata": {},
   "outputs": [],
   "source": [
    "filenames = []\n",
    "partial_paths = []\n",
    "\n",
    "for path in raw_csvs:\n",
    "    parts = path.split('/')\n",
    "    filename = parts[2]\n",
    "    partial_path = '/'.join(parts[1:3])\n",
    "        \n",
    "    filenames.append(filename)\n",
    "    partial_paths.append(partial_path)"
   ]
  },
  {
   "cell_type": "markdown",
   "metadata": {},
   "source": [
    "## create metadata csv"
   ]
  },
  {
   "cell_type": "code",
   "execution_count": 6,
   "metadata": {},
   "outputs": [
    {
     "data": {
      "text/plain": [
       "(518, 2)"
      ]
     },
     "execution_count": 6,
     "metadata": {},
     "output_type": "execute_result"
    }
   ],
   "source": [
    "dict = {\"file\": filenames, \"path\":  partial_paths}\n",
    "metadata = pd.DataFrame(dict)\n",
    "metadata.shape"
   ]
  },
  {
   "cell_type": "code",
   "execution_count": 7,
   "metadata": {},
   "outputs": [
    {
     "data": {
      "text/html": [
       "<div>\n",
       "<style scoped>\n",
       "    .dataframe tbody tr th:only-of-type {\n",
       "        vertical-align: middle;\n",
       "    }\n",
       "\n",
       "    .dataframe tbody tr th {\n",
       "        vertical-align: top;\n",
       "    }\n",
       "\n",
       "    .dataframe thead th {\n",
       "        text-align: right;\n",
       "    }\n",
       "</style>\n",
       "<table border=\"1\" class=\"dataframe\">\n",
       "  <thead>\n",
       "    <tr style=\"text-align: right;\">\n",
       "      <th></th>\n",
       "      <th>file</th>\n",
       "      <th>path</th>\n",
       "    </tr>\n",
       "  </thead>\n",
       "  <tbody>\n",
       "    <tr>\n",
       "      <th>0</th>\n",
       "      <td>361_macroscopic_U1474D.csv</td>\n",
       "      <td>Lithology_CSV/361_macroscopic_U1474D.csv</td>\n",
       "    </tr>\n",
       "    <tr>\n",
       "      <th>1</th>\n",
       "      <td>323 Core Description Template_U1341A.csv</td>\n",
       "      <td>Lithology_CSV/323 Core Description Template_U1...</td>\n",
       "    </tr>\n",
       "    <tr>\n",
       "      <th>2</th>\n",
       "      <td>361_macroscopic_U1479C.csv</td>\n",
       "      <td>Lithology_CSV/361_macroscopic_U1479C.csv</td>\n",
       "    </tr>\n",
       "    <tr>\n",
       "      <th>3</th>\n",
       "      <td>340_sediment_U1393A.csv</td>\n",
       "      <td>Lithology_CSV/340_sediment_U1393A.csv</td>\n",
       "    </tr>\n",
       "    <tr>\n",
       "      <th>4</th>\n",
       "      <td>339_sediment_U1386A.csv</td>\n",
       "      <td>Lithology_CSV/339_sediment_U1386A.csv</td>\n",
       "    </tr>\n",
       "  </tbody>\n",
       "</table>\n",
       "</div>"
      ],
      "text/plain": [
       "                                       file  \\\n",
       "0                361_macroscopic_U1474D.csv   \n",
       "1  323 Core Description Template_U1341A.csv   \n",
       "2                361_macroscopic_U1479C.csv   \n",
       "3                   340_sediment_U1393A.csv   \n",
       "4                   339_sediment_U1386A.csv   \n",
       "\n",
       "                                                path  \n",
       "0           Lithology_CSV/361_macroscopic_U1474D.csv  \n",
       "1  Lithology_CSV/323 Core Description Template_U1...  \n",
       "2           Lithology_CSV/361_macroscopic_U1479C.csv  \n",
       "3              Lithology_CSV/340_sediment_U1393A.csv  \n",
       "4              Lithology_CSV/339_sediment_U1386A.csv  "
      ]
     },
     "execution_count": 7,
     "metadata": {},
     "output_type": "execute_result"
    }
   ],
   "source": [
    "metadata.head()"
   ]
  },
  {
   "cell_type": "code",
   "execution_count": 8,
   "metadata": {},
   "outputs": [],
   "source": [
    "metadata.to_csv(metadata_file, index=False)"
   ]
  },
  {
   "cell_type": "code",
   "execution_count": null,
   "metadata": {},
   "outputs": [],
   "source": []
  }
 ],
 "metadata": {
  "kernelspec": {
   "display_name": "Python 3",
   "language": "python",
   "name": "python3"
  },
  "language_info": {
   "codemirror_mode": {
    "name": "ipython",
    "version": 3
   },
   "file_extension": ".py",
   "mimetype": "text/x-python",
   "name": "python",
   "nbconvert_exporter": "python",
   "pygments_lexer": "ipython3",
   "version": "3.6.8"
  }
 },
 "nbformat": 4,
 "nbformat_minor": 4
}
