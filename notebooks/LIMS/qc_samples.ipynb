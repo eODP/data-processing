{
 "cells": [
  {
   "cell_type": "markdown",
   "metadata": {},
   "source": [
    "# QC samples"
   ]
  },
  {
   "cell_type": "code",
   "execution_count": 1,
   "metadata": {},
   "outputs": [],
   "source": [
    "import sys\n",
    "sys.path.append('../../')\n",
    "import pandas as pd\n",
    "import glob\n",
    "from pathlib import Path\n",
    "from config import CLEAN_DATA_DIR, OUTPUT_DIR, RAW_DATA_DIR\n",
    "import db as db\n",
    "\n",
    "\n",
    "from scripts.normalize_data import (\n",
    "    csv_cleanup,\n",
    "    update_metadata,\n",
    "    get_taxonomy_columns,\n",
    ")\n",
    "\n",
    "from scripts.shared_utils import (\n",
    "    log_df\n",
    ")"
   ]
  },
  {
   "cell_type": "code",
   "execution_count": 2,
   "metadata": {},
   "outputs": [
    {
     "data": {
      "text/plain": [
       "PosixPath('../../output/cleaned_data')"
      ]
     },
     "execution_count": 2,
     "metadata": {},
     "output_type": "execute_result"
    }
   ],
   "source": [
    "CLEAN_DATA_DIR"
   ]
  },
  {
   "cell_type": "code",
   "execution_count": 19,
   "metadata": {},
   "outputs": [],
   "source": [
    "clean_data_paths = [\n",
    "    CLEAN_DATA_DIR /'LIMS/Micropal_CSV_1', \n",
    "    CLEAN_DATA_DIR /'LIMS/Micropal_CSV_2', \n",
    "    CLEAN_DATA_DIR /'LIMS/Micropal_CSV_3', \n",
    "    CLEAN_DATA_DIR /'LIMS/Micropal_CSV_4', \n",
    "    CLEAN_DATA_DIR /'LIMS/Micropal_CSV_revised', \n",
    "]\n",
    "\n",
    "lith_data_path = CLEAN_DATA_DIR /'LIMS'/'Lithology_CSV'\n",
    "\n",
    "\n",
    "\n",
    "date = '2022-08-08'\n",
    "\n",
    "\n",
    "taxa_list_file = OUTPUT_DIR/'taxa'/'LIMS'/f\"taxa_list_{date}.csv\"\n",
    "taxa_crosswalk_list_file = OUTPUT_DIR/'taxa'/'LIMS'/f\"taxa_crosswalk_{date}.csv\"\n",
    "\n",
    "metadata_file = OUTPUT_DIR/'metadata'/'LIMS'/'Micropal_changes.csv' \n",
    "\n"
   ]
  },
  {
   "cell_type": "markdown",
   "metadata": {},
   "source": [
    "## check samples with no taxa"
   ]
  },
  {
   "cell_type": "code",
   "execution_count": 86,
   "metadata": {},
   "outputs": [
    {
     "data": {
      "text/html": [
       "<div>\n",
       "<style scoped>\n",
       "    .dataframe tbody tr th:only-of-type {\n",
       "        vertical-align: middle;\n",
       "    }\n",
       "\n",
       "    .dataframe tbody tr th {\n",
       "        vertical-align: top;\n",
       "    }\n",
       "\n",
       "    .dataframe thead th {\n",
       "        text-align: right;\n",
       "    }\n",
       "</style>\n",
       "<table border=\"1\" class=\"dataframe\">\n",
       "  <thead>\n",
       "    <tr style=\"text-align: right;\">\n",
       "      <th></th>\n",
       "      <th>file</th>\n",
       "      <th>path</th>\n",
       "      <th>taxon_groups</th>\n",
       "      <th>change_file_encoding</th>\n",
       "      <th>remove_bad_characters</th>\n",
       "      <th>remove_empty_rows</th>\n",
       "      <th>remove_spaces</th>\n",
       "      <th>delete_duplicate_rows</th>\n",
       "      <th>delete_duplicate_columns</th>\n",
       "      <th>add_expedition_section_cols</th>\n",
       "      <th>update_sample_col</th>\n",
       "      <th>update_top_bottom</th>\n",
       "      <th>add_missing_cols</th>\n",
       "      <th>clean_up_taxa_values</th>\n",
       "      <th>clean_up_taxa_metadata_values</th>\n",
       "      <th>split_dextral_sinistral</th>\n",
       "    </tr>\n",
       "  </thead>\n",
       "  <tbody>\n",
       "    <tr>\n",
       "      <th>0</th>\n",
       "      <td>363-U1482A-Benthic_Forams.csv</td>\n",
       "      <td>LIMS/Micropal_CSV_1/363-U1482A-Benthic_Forams.csv</td>\n",
       "      <td>benthic_forams</td>\n",
       "      <td>False</td>\n",
       "      <td>False</td>\n",
       "      <td>False</td>\n",
       "      <td>True</td>\n",
       "      <td>False</td>\n",
       "      <td>False</td>\n",
       "      <td>True</td>\n",
       "      <td>False</td>\n",
       "      <td>False</td>\n",
       "      <td>False</td>\n",
       "      <td>False</td>\n",
       "      <td>True</td>\n",
       "      <td>False</td>\n",
       "    </tr>\n",
       "    <tr>\n",
       "      <th>1</th>\n",
       "      <td>320_U1336A_Nannofossils_2.csv</td>\n",
       "      <td>LIMS/Micropal_CSV_1/320_U1336A_Nannofossils_2.csv</td>\n",
       "      <td>nannofossils</td>\n",
       "      <td>False</td>\n",
       "      <td>False</td>\n",
       "      <td>False</td>\n",
       "      <td>True</td>\n",
       "      <td>False</td>\n",
       "      <td>False</td>\n",
       "      <td>False</td>\n",
       "      <td>True</td>\n",
       "      <td>False</td>\n",
       "      <td>False</td>\n",
       "      <td>False</td>\n",
       "      <td>False</td>\n",
       "      <td>False</td>\n",
       "    </tr>\n",
       "    <tr>\n",
       "      <th>2</th>\n",
       "      <td>375_U1518F_planktic_forams.csv</td>\n",
       "      <td>LIMS/Micropal_CSV_1/375_U1518F_planktic_forams...</td>\n",
       "      <td>planktic_forams</td>\n",
       "      <td>False</td>\n",
       "      <td>False</td>\n",
       "      <td>False</td>\n",
       "      <td>True</td>\n",
       "      <td>False</td>\n",
       "      <td>False</td>\n",
       "      <td>True</td>\n",
       "      <td>False</td>\n",
       "      <td>False</td>\n",
       "      <td>False</td>\n",
       "      <td>False</td>\n",
       "      <td>False</td>\n",
       "      <td>False</td>\n",
       "    </tr>\n",
       "    <tr>\n",
       "      <th>3</th>\n",
       "      <td>320_U1334A_Nannofossils_1.csv</td>\n",
       "      <td>LIMS/Micropal_CSV_1/320_U1334A_Nannofossils_1.csv</td>\n",
       "      <td>nannofossils</td>\n",
       "      <td>False</td>\n",
       "      <td>False</td>\n",
       "      <td>False</td>\n",
       "      <td>True</td>\n",
       "      <td>False</td>\n",
       "      <td>False</td>\n",
       "      <td>False</td>\n",
       "      <td>True</td>\n",
       "      <td>False</td>\n",
       "      <td>False</td>\n",
       "      <td>False</td>\n",
       "      <td>False</td>\n",
       "      <td>False</td>\n",
       "    </tr>\n",
       "    <tr>\n",
       "      <th>4</th>\n",
       "      <td>318_U1358B_Palynology.csv</td>\n",
       "      <td>LIMS/Micropal_CSV_1/318_U1358B_Palynology.csv</td>\n",
       "      <td>palynology</td>\n",
       "      <td>False</td>\n",
       "      <td>False</td>\n",
       "      <td>False</td>\n",
       "      <td>False</td>\n",
       "      <td>False</td>\n",
       "      <td>False</td>\n",
       "      <td>False</td>\n",
       "      <td>True</td>\n",
       "      <td>False</td>\n",
       "      <td>False</td>\n",
       "      <td>False</td>\n",
       "      <td>False</td>\n",
       "      <td>False</td>\n",
       "    </tr>\n",
       "  </tbody>\n",
       "</table>\n",
       "</div>"
      ],
      "text/plain": [
       "                             file  \\\n",
       "0   363-U1482A-Benthic_Forams.csv   \n",
       "1   320_U1336A_Nannofossils_2.csv   \n",
       "2  375_U1518F_planktic_forams.csv   \n",
       "3   320_U1334A_Nannofossils_1.csv   \n",
       "4       318_U1358B_Palynology.csv   \n",
       "\n",
       "                                                path     taxon_groups  \\\n",
       "0  LIMS/Micropal_CSV_1/363-U1482A-Benthic_Forams.csv   benthic_forams   \n",
       "1  LIMS/Micropal_CSV_1/320_U1336A_Nannofossils_2.csv     nannofossils   \n",
       "2  LIMS/Micropal_CSV_1/375_U1518F_planktic_forams...  planktic_forams   \n",
       "3  LIMS/Micropal_CSV_1/320_U1334A_Nannofossils_1.csv     nannofossils   \n",
       "4      LIMS/Micropal_CSV_1/318_U1358B_Palynology.csv       palynology   \n",
       "\n",
       "   change_file_encoding  remove_bad_characters  remove_empty_rows  \\\n",
       "0                 False                  False              False   \n",
       "1                 False                  False              False   \n",
       "2                 False                  False              False   \n",
       "3                 False                  False              False   \n",
       "4                 False                  False              False   \n",
       "\n",
       "   remove_spaces  delete_duplicate_rows  delete_duplicate_columns  \\\n",
       "0           True                  False                     False   \n",
       "1           True                  False                     False   \n",
       "2           True                  False                     False   \n",
       "3           True                  False                     False   \n",
       "4          False                  False                     False   \n",
       "\n",
       "   add_expedition_section_cols  update_sample_col  update_top_bottom  \\\n",
       "0                         True              False              False   \n",
       "1                        False               True              False   \n",
       "2                         True              False              False   \n",
       "3                        False               True              False   \n",
       "4                        False               True              False   \n",
       "\n",
       "   add_missing_cols  clean_up_taxa_values  clean_up_taxa_metadata_values  \\\n",
       "0             False                 False                           True   \n",
       "1             False                 False                          False   \n",
       "2             False                 False                          False   \n",
       "3             False                 False                          False   \n",
       "4             False                 False                          False   \n",
       "\n",
       "   split_dextral_sinistral  \n",
       "0                    False  \n",
       "1                    False  \n",
       "2                    False  \n",
       "3                    False  \n",
       "4                    False  "
      ]
     },
     "execution_count": 86,
     "metadata": {},
     "output_type": "execute_result"
    }
   ],
   "source": [
    "metadata = pd.read_csv(metadata_file)\n",
    "metadata.head()"
   ]
  },
  {
   "cell_type": "code",
   "execution_count": 88,
   "metadata": {},
   "outputs": [
    {
     "name": "stdout",
     "output_type": "stream",
     "text": [
      "(5380, 18)\n"
     ]
    },
    {
     "data": {
      "text/html": [
       "<div>\n",
       "<style scoped>\n",
       "    .dataframe tbody tr th:only-of-type {\n",
       "        vertical-align: middle;\n",
       "    }\n",
       "\n",
       "    .dataframe tbody tr th {\n",
       "        vertical-align: top;\n",
       "    }\n",
       "\n",
       "    .dataframe thead th {\n",
       "        text-align: right;\n",
       "    }\n",
       "</style>\n",
       "<table border=\"1\" class=\"dataframe\">\n",
       "  <thead>\n",
       "    <tr style=\"text-align: right;\">\n",
       "      <th></th>\n",
       "      <th>Any taxon above genus</th>\n",
       "      <th>genus modifier</th>\n",
       "      <th>genus name</th>\n",
       "      <th>subgenera modifier</th>\n",
       "      <th>subgenera name</th>\n",
       "      <th>species modifier</th>\n",
       "      <th>species name</th>\n",
       "      <th>subspecies modifier</th>\n",
       "      <th>subspecies name</th>\n",
       "      <th>non-taxa descriptor</th>\n",
       "      <th>normalized_name</th>\n",
       "      <th>taxon_group</th>\n",
       "      <th>verbatim_name</th>\n",
       "      <th>name comment field</th>\n",
       "      <th>Comment</th>\n",
       "      <th>Notes (change to Internal only notes?)</th>\n",
       "      <th>comments</th>\n",
       "      <th>eodp_id</th>\n",
       "    </tr>\n",
       "  </thead>\n",
       "  <tbody>\n",
       "    <tr>\n",
       "      <th>0</th>\n",
       "      <td>NaN</td>\n",
       "      <td>NaN</td>\n",
       "      <td>Euuvigerina</td>\n",
       "      <td>NaN</td>\n",
       "      <td>NaN</td>\n",
       "      <td>NaN</td>\n",
       "      <td>miozea</td>\n",
       "      <td>NaN</td>\n",
       "      <td>NaN</td>\n",
       "      <td>NaN</td>\n",
       "      <td>Euuvigerina miozea</td>\n",
       "      <td>benthic_forams</td>\n",
       "      <td>Euuvigerina miozea (group) &gt;100 m</td>\n",
       "      <td>NaN</td>\n",
       "      <td>group</td>\n",
       "      <td>Summer 2020: enter \"Euuvigerina miozea\" and re...</td>\n",
       "      <td>&gt;100 m group</td>\n",
       "      <td>0</td>\n",
       "    </tr>\n",
       "    <tr>\n",
       "      <th>1</th>\n",
       "      <td>NaN</td>\n",
       "      <td>NaN</td>\n",
       "      <td>Euuvigerina</td>\n",
       "      <td>NaN</td>\n",
       "      <td>NaN</td>\n",
       "      <td>NaN</td>\n",
       "      <td>rodleyi</td>\n",
       "      <td>NaN</td>\n",
       "      <td>NaN</td>\n",
       "      <td>NaN</td>\n",
       "      <td>Euuvigerina rodleyi</td>\n",
       "      <td>benthic_forams</td>\n",
       "      <td>Euuvigerina rodleyi (group) &gt;50 m</td>\n",
       "      <td>NaN</td>\n",
       "      <td>group</td>\n",
       "      <td>Summer 2020: enter \"Euuvigerina miozea\" and re...</td>\n",
       "      <td>&gt;50 m group</td>\n",
       "      <td>1</td>\n",
       "    </tr>\n",
       "  </tbody>\n",
       "</table>\n",
       "</div>"
      ],
      "text/plain": [
       "  Any taxon above genus genus modifier   genus name subgenera modifier  \\\n",
       "0                   NaN            NaN  Euuvigerina                NaN   \n",
       "1                   NaN            NaN  Euuvigerina                NaN   \n",
       "\n",
       "  subgenera name species modifier species name subspecies modifier  \\\n",
       "0            NaN              NaN       miozea                 NaN   \n",
       "1            NaN              NaN      rodleyi                 NaN   \n",
       "\n",
       "  subspecies name non-taxa descriptor      normalized_name     taxon_group  \\\n",
       "0             NaN                 NaN   Euuvigerina miozea  benthic_forams   \n",
       "1             NaN                 NaN  Euuvigerina rodleyi  benthic_forams   \n",
       "\n",
       "                       verbatim_name name comment field Comment  \\\n",
       "0  Euuvigerina miozea (group) >100 m                NaN   group   \n",
       "1  Euuvigerina rodleyi (group) >50 m                NaN   group   \n",
       "\n",
       "              Notes (change to Internal only notes?)      comments eodp_id  \n",
       "0  Summer 2020: enter \"Euuvigerina miozea\" and re...  >100 m group       0  \n",
       "1  Summer 2020: enter \"Euuvigerina miozea\" and re...   >50 m group       1  "
      ]
     },
     "execution_count": 88,
     "metadata": {},
     "output_type": "execute_result"
    }
   ],
   "source": [
    "taxa_df = pd.read_csv(taxa_crosswalk_list_file, dtype=str)\n",
    "log_df(taxa_df, 2)\n",
    "# 5380"
   ]
  },
  {
   "cell_type": "code",
   "execution_count": 89,
   "metadata": {},
   "outputs": [
    {
     "data": {
      "text/plain": [
       "5380"
      ]
     },
     "execution_count": 89,
     "metadata": {},
     "output_type": "execute_result"
    }
   ],
   "source": [
    "taxa = list(taxa_df['verbatim_name'])\n",
    "len(taxa)"
   ]
  },
  {
   "cell_type": "code",
   "execution_count": 90,
   "metadata": {},
   "outputs": [],
   "source": [
    "file = CLEAN_DATA_DIR /'LIMS/Micropal_CSV_2/368_U1501D_nannofossils.csv'\n",
    "\n",
    "\n",
    "def get_no_taxa_samples(file):\n",
    "    df = pd.read_csv(file, dtype=str)\n",
    "    df.dropna(how='all', axis=1, inplace=True)\n",
    "\n",
    "    file_taxa = set(df.columns).intersection(taxa)\n",
    "\n",
    "    tmp_df = df[list(file_taxa)]\n",
    "    notaxa_df = df.loc[tmp_df[tmp_df.isna().all(1)].index]\n",
    "    \n",
    "    return list(notaxa_df['eodp_id'])\n",
    "\n"
   ]
  },
  {
   "cell_type": "code",
   "execution_count": 91,
   "metadata": {},
   "outputs": [
    {
     "data": {
      "text/plain": [
       "11421"
      ]
     },
     "execution_count": 91,
     "metadata": {},
     "output_type": "execute_result"
    }
   ],
   "source": [
    "\n",
    "eodp_ids = []\n",
    "\n",
    "\n",
    "for index, row in metadata.iterrows():\n",
    "#     if index > 10:\n",
    "#         continue\n",
    "        \n",
    "    file = CLEAN_DATA_DIR/row['path']\n",
    "    \n",
    "    res =  get_no_taxa_samples(file)\n",
    "\n",
    "    eodp_ids = eodp_ids + res\n",
    "    \n",
    "len(eodp_ids)"
   ]
  },
  {
   "cell_type": "code",
   "execution_count": 92,
   "metadata": {},
   "outputs": [
    {
     "data": {
      "text/plain": [
       "11421"
      ]
     },
     "execution_count": 92,
     "metadata": {},
     "output_type": "execute_result"
    }
   ],
   "source": [
    "sql = \"\"\"\n",
    "select  samples.eodp_id\n",
    "from samples\n",
    "left join samples_taxa on samples_taxa.sample_id = samples.id\n",
    "where samples_taxa.id is null\n",
    "and samples.data_source_type = 'micropal csv';\n",
    "\"\"\"\n",
    "\n",
    "\n",
    "eodp_ids_db = []\n",
    "rows = db.fetch_all(sql)\n",
    "for row in rows:\n",
    "    eodp_ids_db.append(row['eodp_id'])\n",
    "    \n",
    "len(eodp_ids_db)"
   ]
  },
  {
   "cell_type": "code",
   "execution_count": 93,
   "metadata": {},
   "outputs": [
    {
     "data": {
      "text/plain": [
       "set()"
      ]
     },
     "execution_count": 93,
     "metadata": {},
     "output_type": "execute_result"
    }
   ],
   "source": [
    "set(eodp_ids) - set(eodp_ids_db)"
   ]
  },
  {
   "cell_type": "markdown",
   "metadata": {},
   "source": [
    "## create csv for samples with no taxa\n",
    "\n",
    "samples no taxa, with abundance"
   ]
  },
  {
   "cell_type": "code",
   "execution_count": 119,
   "metadata": {},
   "outputs": [
    {
     "name": "stdout",
     "output_type": "stream",
     "text": [
      "(10550, 6)\n"
     ]
    },
    {
     "data": {
      "text/html": [
       "<div>\n",
       "<style scoped>\n",
       "    .dataframe tbody tr th:only-of-type {\n",
       "        vertical-align: middle;\n",
       "    }\n",
       "\n",
       "    .dataframe tbody tr th {\n",
       "        vertical-align: top;\n",
       "    }\n",
       "\n",
       "    .dataframe thead th {\n",
       "        text-align: right;\n",
       "    }\n",
       "</style>\n",
       "<table border=\"1\" class=\"dataframe\">\n",
       "  <thead>\n",
       "    <tr style=\"text-align: right;\">\n",
       "      <th></th>\n",
       "      <th>sample</th>\n",
       "      <th>sample_id</th>\n",
       "      <th>original_field_name</th>\n",
       "      <th>field_name</th>\n",
       "      <th>value</th>\n",
       "      <th>data_source_notes</th>\n",
       "    </tr>\n",
       "  </thead>\n",
       "  <tbody>\n",
       "    <tr>\n",
       "      <th>0</th>\n",
       "      <td>318-U1355A-1R-1-PAL-DIAT4</td>\n",
       "      <td>283078</td>\n",
       "      <td>Silicoflagellates group abundance</td>\n",
       "      <td>Silicoflagellate abundance</td>\n",
       "      <td>X</td>\n",
       "      <td>LIMS/Micropal_CSV_1/318_U1355A_Silicoflagellat...</td>\n",
       "    </tr>\n",
       "    <tr>\n",
       "      <th>1</th>\n",
       "      <td>318-U1355A-2R-1-W 77/77-DIAT2</td>\n",
       "      <td>283082</td>\n",
       "      <td>Silicoflagellates group abundance</td>\n",
       "      <td>Silicoflagellate abundance</td>\n",
       "      <td>X</td>\n",
       "      <td>LIMS/Micropal_CSV_1/318_U1355A_Silicoflagellat...</td>\n",
       "    </tr>\n",
       "    <tr>\n",
       "      <th>2</th>\n",
       "      <td>318-U1356A-39R-1-W 85/85-DIAT1</td>\n",
       "      <td>287314</td>\n",
       "      <td>Diatoms group abundance</td>\n",
       "      <td>Diatom abundance</td>\n",
       "      <td>B</td>\n",
       "      <td>LIMS/Micropal_CSV_1/318_U1356A_Diatoms_1.csv</td>\n",
       "    </tr>\n",
       "    <tr>\n",
       "      <th>3</th>\n",
       "      <td>318-U1356A-40R-1-W 57/58-DIAT3</td>\n",
       "      <td>287316</td>\n",
       "      <td>Diatoms group abundance</td>\n",
       "      <td>Diatom abundance</td>\n",
       "      <td>B</td>\n",
       "      <td>LIMS/Micropal_CSV_1/318_U1356A_Diatoms_1.csv</td>\n",
       "    </tr>\n",
       "    <tr>\n",
       "      <th>4</th>\n",
       "      <td>318-U1356A-42R-CC-PAL-DIAT4</td>\n",
       "      <td>287318</td>\n",
       "      <td>Diatoms group abundance</td>\n",
       "      <td>Diatom abundance</td>\n",
       "      <td>B</td>\n",
       "      <td>LIMS/Micropal_CSV_1/318_U1356A_Diatoms_1.csv</td>\n",
       "    </tr>\n",
       "  </tbody>\n",
       "</table>\n",
       "</div>"
      ],
      "text/plain": [
       "                           sample  sample_id  \\\n",
       "0       318-U1355A-1R-1-PAL-DIAT4     283078   \n",
       "1   318-U1355A-2R-1-W 77/77-DIAT2     283082   \n",
       "2  318-U1356A-39R-1-W 85/85-DIAT1     287314   \n",
       "3  318-U1356A-40R-1-W 57/58-DIAT3     287316   \n",
       "4     318-U1356A-42R-CC-PAL-DIAT4     287318   \n",
       "\n",
       "                 original_field_name                  field_name value  \\\n",
       "0  Silicoflagellates group abundance  Silicoflagellate abundance     X   \n",
       "1  Silicoflagellates group abundance  Silicoflagellate abundance     X   \n",
       "2            Diatoms group abundance            Diatom abundance     B   \n",
       "3            Diatoms group abundance            Diatom abundance     B   \n",
       "4            Diatoms group abundance            Diatom abundance     B   \n",
       "\n",
       "                                   data_source_notes  \n",
       "0  LIMS/Micropal_CSV_1/318_U1355A_Silicoflagellat...  \n",
       "1  LIMS/Micropal_CSV_1/318_U1355A_Silicoflagellat...  \n",
       "2       LIMS/Micropal_CSV_1/318_U1356A_Diatoms_1.csv  \n",
       "3       LIMS/Micropal_CSV_1/318_U1356A_Diatoms_1.csv  \n",
       "4       LIMS/Micropal_CSV_1/318_U1356A_Diatoms_1.csv  "
      ]
     },
     "execution_count": 119,
     "metadata": {},
     "output_type": "execute_result"
    }
   ],
   "source": [
    "\n",
    "sql = \"\"\"\n",
    "select samples.name as sample, samples_fields.sample_id as sample_id, \n",
    "original_name as original_field_name, fields.name as field_name, value,\n",
    "samples.data_source_notes\n",
    "from samples_fields \n",
    "join samples on samples.id = samples_fields.sample_id\n",
    "join fields on samples_fields.field_id = fields.id \n",
    "\n",
    "where sample_id in (\n",
    "    select  samples.id\n",
    "    from samples\n",
    "    left join samples_taxa on samples_taxa.sample_id = samples.id\n",
    "    where samples_taxa.id is null\n",
    "    and samples.data_source_type = 'micropal csv'\n",
    ")\n",
    "and fields.name ILIKE '%abundance%'\n",
    "order by samples.data_source_notes, samples.id\n",
    ";\n",
    "\"\"\"\n",
    "\n",
    "rows = db.fetch_all_dict(sql)\n",
    "\n",
    "df = pd.DataFrame(rows)\n",
    "log_df(df)"
   ]
  },
  {
   "cell_type": "code",
   "execution_count": 120,
   "metadata": {},
   "outputs": [],
   "source": [
    "df.to_csv(OUTPUT_DIR/'tmp'/'group_abundance_for_samples_no_taxa.csv', index=False)"
   ]
  },
  {
   "cell_type": "code",
   "execution_count": 121,
   "metadata": {},
   "outputs": [
    {
     "name": "stdout",
     "output_type": "stream",
     "text": [
      "(25, 2)\n"
     ]
    },
    {
     "data": {
      "text/html": [
       "<div>\n",
       "<style scoped>\n",
       "    .dataframe tbody tr th:only-of-type {\n",
       "        vertical-align: middle;\n",
       "    }\n",
       "\n",
       "    .dataframe tbody tr th {\n",
       "        vertical-align: top;\n",
       "    }\n",
       "\n",
       "    .dataframe thead th {\n",
       "        text-align: right;\n",
       "    }\n",
       "</style>\n",
       "<table border=\"1\" class=\"dataframe\">\n",
       "  <thead>\n",
       "    <tr style=\"text-align: right;\">\n",
       "      <th></th>\n",
       "      <th>value</th>\n",
       "      <th>count</th>\n",
       "    </tr>\n",
       "  </thead>\n",
       "  <tbody>\n",
       "    <tr>\n",
       "      <th>0</th>\n",
       "      <td>B</td>\n",
       "      <td>8083</td>\n",
       "    </tr>\n",
       "    <tr>\n",
       "      <th>1</th>\n",
       "      <td>A</td>\n",
       "      <td>547</td>\n",
       "    </tr>\n",
       "    <tr>\n",
       "      <th>2</th>\n",
       "      <td>R</td>\n",
       "      <td>462</td>\n",
       "    </tr>\n",
       "    <tr>\n",
       "      <th>3</th>\n",
       "      <td>P</td>\n",
       "      <td>357</td>\n",
       "    </tr>\n",
       "    <tr>\n",
       "      <th>4</th>\n",
       "      <td>C</td>\n",
       "      <td>332</td>\n",
       "    </tr>\n",
       "  </tbody>\n",
       "</table>\n",
       "</div>"
      ],
      "text/plain": [
       "  value  count\n",
       "0     B   8083\n",
       "1     A    547\n",
       "2     R    462\n",
       "3     P    357\n",
       "4     C    332"
      ]
     },
     "execution_count": 121,
     "metadata": {},
     "output_type": "execute_result"
    }
   ],
   "source": [
    "\n",
    "sql = \"\"\"\n",
    "\n",
    "select value, count(*)\n",
    "from samples_fields \n",
    "join samples on samples.id = samples_fields.sample_id\n",
    "join fields on samples_fields.field_id = fields.id \n",
    "\n",
    "where sample_id in (\n",
    "    select  samples.id\n",
    "    from samples\n",
    "    left join samples_taxa on samples_taxa.sample_id = samples.id\n",
    "    where samples_taxa.id is null\n",
    "    and samples.data_source_type = 'micropal csv'\n",
    ")\n",
    "and fields.name ILIKE '%abundance%'\n",
    "group by value\n",
    "order by count desc\n",
    ";\n",
    "\"\"\"\n",
    "\n",
    "rows = db.fetch_all_dict(sql)\n",
    "\n",
    "df = pd.DataFrame(rows)\n",
    "log_df(df)"
   ]
  },
  {
   "cell_type": "code",
   "execution_count": 122,
   "metadata": {},
   "outputs": [],
   "source": [
    "df.to_csv(OUTPUT_DIR/'tmp'/'group_abundance_for_samples_no_taxa_count.csv', index=False)"
   ]
  },
  {
   "cell_type": "markdown",
   "metadata": {},
   "source": [
    "samples no taxa, no abundance, with other fields"
   ]
  },
  {
   "cell_type": "code",
   "execution_count": 123,
   "metadata": {},
   "outputs": [
    {
     "name": "stdout",
     "output_type": "stream",
     "text": [
      "(1072, 6)\n"
     ]
    },
    {
     "data": {
      "text/html": [
       "<div>\n",
       "<style scoped>\n",
       "    .dataframe tbody tr th:only-of-type {\n",
       "        vertical-align: middle;\n",
       "    }\n",
       "\n",
       "    .dataframe tbody tr th {\n",
       "        vertical-align: top;\n",
       "    }\n",
       "\n",
       "    .dataframe thead th {\n",
       "        text-align: right;\n",
       "    }\n",
       "</style>\n",
       "<table border=\"1\" class=\"dataframe\">\n",
       "  <thead>\n",
       "    <tr style=\"text-align: right;\">\n",
       "      <th></th>\n",
       "      <th>sample</th>\n",
       "      <th>sample_id</th>\n",
       "      <th>original_field_name</th>\n",
       "      <th>field_name</th>\n",
       "      <th>value</th>\n",
       "      <th>data_source_notes</th>\n",
       "    </tr>\n",
       "  </thead>\n",
       "  <tbody>\n",
       "    <tr>\n",
       "      <th>0</th>\n",
       "      <td>318-U1356A-49R-CC-PAL-DIAT4</td>\n",
       "      <td>287328</td>\n",
       "      <td>Diatom preservation fragmentation</td>\n",
       "      <td>Diatom preservation fragmentation</td>\n",
       "      <td>G</td>\n",
       "      <td>LIMS/Micropal_CSV_1/318_U1356A_Diatoms_1.csv</td>\n",
       "    </tr>\n",
       "    <tr>\n",
       "      <th>1</th>\n",
       "      <td>318-U1356A-49R-CC-PAL-DIAT4</td>\n",
       "      <td>287328</td>\n",
       "      <td>Diatom preservation dissolution</td>\n",
       "      <td>Diatom preservation dissolution</td>\n",
       "      <td>P</td>\n",
       "      <td>LIMS/Micropal_CSV_1/318_U1356A_Diatoms_1.csv</td>\n",
       "    </tr>\n",
       "    <tr>\n",
       "      <th>2</th>\n",
       "      <td>318-U1356A-55R-CC-PAL-DIAT4</td>\n",
       "      <td>287335</td>\n",
       "      <td>Diatom preservation fragmentation</td>\n",
       "      <td>Diatom preservation fragmentation</td>\n",
       "      <td>P</td>\n",
       "      <td>LIMS/Micropal_CSV_1/318_U1356A_Diatoms_1.csv</td>\n",
       "    </tr>\n",
       "    <tr>\n",
       "      <th>3</th>\n",
       "      <td>318-U1356A-55R-CC-PAL-DIAT4</td>\n",
       "      <td>287335</td>\n",
       "      <td>Diatom preservation dissolution</td>\n",
       "      <td>Diatom preservation dissolution</td>\n",
       "      <td>P</td>\n",
       "      <td>LIMS/Micropal_CSV_1/318_U1356A_Diatoms_1.csv</td>\n",
       "    </tr>\n",
       "    <tr>\n",
       "      <th>4</th>\n",
       "      <td>318-U1356A-57R-CC-PAL-DIAT7</td>\n",
       "      <td>287337</td>\n",
       "      <td>Diatom preservation dissolution</td>\n",
       "      <td>Diatom preservation dissolution</td>\n",
       "      <td>P</td>\n",
       "      <td>LIMS/Micropal_CSV_1/318_U1356A_Diatoms_1.csv</td>\n",
       "    </tr>\n",
       "  </tbody>\n",
       "</table>\n",
       "</div>"
      ],
      "text/plain": [
       "                        sample  sample_id                original_field_name  \\\n",
       "0  318-U1356A-49R-CC-PAL-DIAT4     287328  Diatom preservation fragmentation   \n",
       "1  318-U1356A-49R-CC-PAL-DIAT4     287328    Diatom preservation dissolution   \n",
       "2  318-U1356A-55R-CC-PAL-DIAT4     287335  Diatom preservation fragmentation   \n",
       "3  318-U1356A-55R-CC-PAL-DIAT4     287335    Diatom preservation dissolution   \n",
       "4  318-U1356A-57R-CC-PAL-DIAT7     287337    Diatom preservation dissolution   \n",
       "\n",
       "                          field_name value  \\\n",
       "0  Diatom preservation fragmentation     G   \n",
       "1    Diatom preservation dissolution     P   \n",
       "2  Diatom preservation fragmentation     P   \n",
       "3    Diatom preservation dissolution     P   \n",
       "4    Diatom preservation dissolution     P   \n",
       "\n",
       "                              data_source_notes  \n",
       "0  LIMS/Micropal_CSV_1/318_U1356A_Diatoms_1.csv  \n",
       "1  LIMS/Micropal_CSV_1/318_U1356A_Diatoms_1.csv  \n",
       "2  LIMS/Micropal_CSV_1/318_U1356A_Diatoms_1.csv  \n",
       "3  LIMS/Micropal_CSV_1/318_U1356A_Diatoms_1.csv  \n",
       "4  LIMS/Micropal_CSV_1/318_U1356A_Diatoms_1.csv  "
      ]
     },
     "execution_count": 123,
     "metadata": {},
     "output_type": "execute_result"
    }
   ],
   "source": [
    "\n",
    "sql = \"\"\"\n",
    "\n",
    "select samples.name as sample, samples_fields.sample_id as sample_id, \n",
    "original_name as original_field_name, fields.name as field_name, value,\n",
    "samples.data_source_notes\n",
    "from samples_fields \n",
    "join samples on samples.id = samples_fields.sample_id\n",
    "join fields on samples_fields.field_id = fields.id \n",
    "\n",
    "where sample_id in (\n",
    "select  samples.id\n",
    "from samples\n",
    "left join samples_taxa on samples_taxa.sample_id = samples.id\n",
    "where samples_taxa.id is null\n",
    "and samples.data_source_type = 'micropal csv'\n",
    "\n",
    "except\n",
    "\n",
    "select  samples.id\n",
    "from samples_fields \n",
    "join samples on samples.id = samples_fields.sample_id\n",
    "join fields on samples_fields.field_id = fields.id \n",
    "where fields.name ILIKE '%abundance%'\n",
    ")\n",
    "order by samples.data_source_notes, samples.id\n",
    "\n",
    "\"\"\"\n",
    "\n",
    "rows = db.fetch_all_dict(sql)\n",
    "\n",
    "df = pd.DataFrame(rows)\n",
    "log_df(df)"
   ]
  },
  {
   "cell_type": "code",
   "execution_count": 124,
   "metadata": {},
   "outputs": [],
   "source": [
    "df.to_csv(OUTPUT_DIR/'tmp'/'samples_no_taxa_no_abundance.csv', index=False)"
   ]
  },
  {
   "cell_type": "markdown",
   "metadata": {},
   "source": [
    "samples no taxa, no abundance, no other fields"
   ]
  },
  {
   "cell_type": "code",
   "execution_count": 127,
   "metadata": {},
   "outputs": [
    {
     "name": "stdout",
     "output_type": "stream",
     "text": [
      "(163, 3)\n"
     ]
    },
    {
     "data": {
      "text/html": [
       "<div>\n",
       "<style scoped>\n",
       "    .dataframe tbody tr th:only-of-type {\n",
       "        vertical-align: middle;\n",
       "    }\n",
       "\n",
       "    .dataframe tbody tr th {\n",
       "        vertical-align: top;\n",
       "    }\n",
       "\n",
       "    .dataframe thead th {\n",
       "        text-align: right;\n",
       "    }\n",
       "</style>\n",
       "<table border=\"1\" class=\"dataframe\">\n",
       "  <thead>\n",
       "    <tr style=\"text-align: right;\">\n",
       "      <th></th>\n",
       "      <th>sample</th>\n",
       "      <th>sample_id</th>\n",
       "      <th>data_source_notes</th>\n",
       "    </tr>\n",
       "  </thead>\n",
       "  <tbody>\n",
       "    <tr>\n",
       "      <th>0</th>\n",
       "      <td>318-U1356A-46R-CC-PAL-FORAM</td>\n",
       "      <td>283085</td>\n",
       "      <td>LIMS/Micropal_CSV_1/318_U1356A_Benthic_Forams.csv</td>\n",
       "    </tr>\n",
       "    <tr>\n",
       "      <th>1</th>\n",
       "      <td>318-U1356A-49R-CC-PAL</td>\n",
       "      <td>283086</td>\n",
       "      <td>LIMS/Micropal_CSV_1/318_U1356A_Benthic_Forams.csv</td>\n",
       "    </tr>\n",
       "    <tr>\n",
       "      <th>2</th>\n",
       "      <td>318-U1356A-50R-CC-PAL-FORAM</td>\n",
       "      <td>283087</td>\n",
       "      <td>LIMS/Micropal_CSV_1/318_U1356A_Benthic_Forams.csv</td>\n",
       "    </tr>\n",
       "    <tr>\n",
       "      <th>3</th>\n",
       "      <td>318-U1356A-53R-CC-PAL-FORAM</td>\n",
       "      <td>283088</td>\n",
       "      <td>LIMS/Micropal_CSV_1/318_U1356A_Benthic_Forams.csv</td>\n",
       "    </tr>\n",
       "    <tr>\n",
       "      <th>4</th>\n",
       "      <td>318-U1356A-73R-CC-PAL-FORAM</td>\n",
       "      <td>283089</td>\n",
       "      <td>LIMS/Micropal_CSV_1/318_U1356A_Benthic_Forams.csv</td>\n",
       "    </tr>\n",
       "  </tbody>\n",
       "</table>\n",
       "</div>"
      ],
      "text/plain": [
       "                        sample  sample_id  \\\n",
       "0  318-U1356A-46R-CC-PAL-FORAM     283085   \n",
       "1        318-U1356A-49R-CC-PAL     283086   \n",
       "2  318-U1356A-50R-CC-PAL-FORAM     283087   \n",
       "3  318-U1356A-53R-CC-PAL-FORAM     283088   \n",
       "4  318-U1356A-73R-CC-PAL-FORAM     283089   \n",
       "\n",
       "                                   data_source_notes  \n",
       "0  LIMS/Micropal_CSV_1/318_U1356A_Benthic_Forams.csv  \n",
       "1  LIMS/Micropal_CSV_1/318_U1356A_Benthic_Forams.csv  \n",
       "2  LIMS/Micropal_CSV_1/318_U1356A_Benthic_Forams.csv  \n",
       "3  LIMS/Micropal_CSV_1/318_U1356A_Benthic_Forams.csv  \n",
       "4  LIMS/Micropal_CSV_1/318_U1356A_Benthic_Forams.csv  "
      ]
     },
     "execution_count": 127,
     "metadata": {},
     "output_type": "execute_result"
    }
   ],
   "source": [
    "sql = \"\"\"\n",
    "select samples.name as sample, id as sample_id, \n",
    "samples.data_source_notes\n",
    "from samples\n",
    " \n",
    "where id in (\n",
    "select  samples.id\n",
    "from samples\n",
    "left join samples_taxa on samples_taxa.sample_id = samples.id\n",
    "where samples_taxa.id is null\n",
    "and samples.data_source_type = 'micropal csv'\n",
    "\n",
    "intersect\n",
    "\n",
    "select  samples.id\n",
    "from samples\n",
    "left join samples_fields on samples_fields.sample_id = samples.id\n",
    "where samples_fields.id is null\n",
    "and samples.data_source_type = 'micropal csv'\n",
    ")\n",
    "\n",
    "order by samples.data_source_notes, samples.id\n",
    ";\n",
    "\n",
    "\"\"\"\n",
    "\n",
    "\n",
    "rows = db.fetch_all_dict(sql)\n",
    "\n",
    "df = pd.DataFrame(rows)\n",
    "log_df(df)"
   ]
  },
  {
   "cell_type": "code",
   "execution_count": 128,
   "metadata": {},
   "outputs": [],
   "source": [
    "df.to_csv(OUTPUT_DIR/'tmp'/'samples_no_taxa_no_abundance_no_other_fields.csv', index=False)"
   ]
  },
  {
   "cell_type": "code",
   "execution_count": null,
   "metadata": {},
   "outputs": [],
   "source": []
  },
  {
   "cell_type": "code",
   "execution_count": null,
   "metadata": {},
   "outputs": [],
   "source": []
  },
  {
   "cell_type": "code",
   "execution_count": null,
   "metadata": {},
   "outputs": [],
   "source": []
  },
  {
   "cell_type": "markdown",
   "metadata": {},
   "source": [
    "## check taxa with no pbdb name"
   ]
  },
  {
   "cell_type": "code",
   "execution_count": 43,
   "metadata": {},
   "outputs": [
    {
     "data": {
      "text/plain": [
       "14"
      ]
     },
     "execution_count": 43,
     "metadata": {},
     "output_type": "execute_result"
    }
   ],
   "source": [
    "sql = \"\"\"\n",
    "SELECT pbdb_taxon_id, name\n",
    "FROM taxa  WHERE (\"pbdb_taxon_id\" IS NOT NULL) AND (\"pbdb_taxon_name\" IS NULL)\n",
    "\"\"\"\n",
    "\n",
    "records = []\n",
    "rows = db.fetch_all(sql)\n",
    "for row in rows:\n",
    "    records.append({'pbdb_taxon_id': row['pbdb_taxon_id'],\n",
    "                    'name': row['name']})\n",
    "    \n",
    "len(rows)"
   ]
  },
  {
   "cell_type": "code",
   "execution_count": 41,
   "metadata": {},
   "outputs": [
    {
     "name": "stdout",
     "output_type": "stream",
     "text": [
      "(20, 2)\n"
     ]
    },
    {
     "data": {
      "text/html": [
       "<div>\n",
       "<style scoped>\n",
       "    .dataframe tbody tr th:only-of-type {\n",
       "        vertical-align: middle;\n",
       "    }\n",
       "\n",
       "    .dataframe tbody tr th {\n",
       "        vertical-align: top;\n",
       "    }\n",
       "\n",
       "    .dataframe thead th {\n",
       "        text-align: right;\n",
       "    }\n",
       "</style>\n",
       "<table border=\"1\" class=\"dataframe\">\n",
       "  <thead>\n",
       "    <tr style=\"text-align: right;\">\n",
       "      <th></th>\n",
       "      <th>verbatim_name</th>\n",
       "      <th>pbdb_taxon_id</th>\n",
       "    </tr>\n",
       "  </thead>\n",
       "  <tbody>\n",
       "    <tr>\n",
       "      <th>0</th>\n",
       "      <td>Lonchosphaera spicata</td>\n",
       "      <td>85178</td>\n",
       "    </tr>\n",
       "    <tr>\n",
       "      <th>1</th>\n",
       "      <td>Poulpus spp.-like</td>\n",
       "      <td>614</td>\n",
       "    </tr>\n",
       "    <tr>\n",
       "      <th>2</th>\n",
       "      <td>Lithostrobus cuspidatus</td>\n",
       "      <td>561</td>\n",
       "    </tr>\n",
       "    <tr>\n",
       "      <th>3</th>\n",
       "      <td>Gondwanaria dogieli</td>\n",
       "      <td>432661</td>\n",
       "    </tr>\n",
       "    <tr>\n",
       "      <th>4</th>\n",
       "      <td>Tetraplecta pinigera/Euscenium corynephorum</td>\n",
       "      <td>66455</td>\n",
       "    </tr>\n",
       "  </tbody>\n",
       "</table>\n",
       "</div>"
      ],
      "text/plain": [
       "                                 verbatim_name  pbdb_taxon_id\n",
       "0                        Lonchosphaera spicata          85178\n",
       "1                            Poulpus spp.-like            614\n",
       "2                      Lithostrobus cuspidatus            561\n",
       "3                          Gondwanaria dogieli         432661\n",
       "4  Tetraplecta pinigera/Euscenium corynephorum          66455"
      ]
     },
     "execution_count": 41,
     "metadata": {},
     "output_type": "execute_result"
    }
   ],
   "source": [
    "file = RAW_DATA_DIR/'PI_processed_files'/'LIMS_Micropal_CSV_4_taxa_ADDTL_TAXA.csv'\n",
    "\n",
    "df = pd.read_csv(file, usecols=['pbdb_taxon_id', 'verbatim_name'])\n",
    "df.drop_duplicates(inplace=True)\n",
    "\n",
    "log_df(df)\n"
   ]
  },
  {
   "cell_type": "code",
   "execution_count": 44,
   "metadata": {},
   "outputs": [
    {
     "name": "stdout",
     "output_type": "stream",
     "text": [
      "0 ['Hantkenina australis'] Hantkenina australis\n",
      "1 ['Grobolotalia spp.'] Globorotalia spp.\n",
      "2 ['Lonchosphaera spicata'] Lonchosphaera spicata\n",
      "3 ['Poulpus spp.-like'] Poulpus spp.\n",
      "4 ['Lithostrobus cuspidatus'] Lithostrobus cuspidatus\n",
      "5 ['Gondwanaria dogieli'] Gondwanaria dogieli\n",
      "6 ['Tetraplecta pinigera/Euscenium corynephorum'] Plagiacanthidae indet.\n",
      "7 ['Litharachnium tentorium'] Litharachnium tentorium\n",
      "8 ['Streblacantha circumtexta'] Streblacantha circumtexta\n",
      "9 ['Eucyrtidium teuscheri'] Eucyrtidium teuscheri\n",
      "10 ['Verticillata hexacantha'] Verticillata hexacantha\n",
      "11 ['Cypassis irregularis'] Cypassis irregularis\n",
      "12 ['Prunopyle antarctica'] Prunopyle antarctica\n",
      "13 ['Big Lithomelissa sp. A (Antarctissa like)'] Lithomelissa sp. A\n"
     ]
    }
   ],
   "source": [
    "for index, record in enumerate(records):\n",
    "    new_df = df[\n",
    "        (df['pbdb_taxon_id'] == record['pbdb_taxon_id'])\n",
    "    ]\n",
    "    print(index, new_df['verbatim_name'].values, record['name'])"
   ]
  },
  {
   "cell_type": "code",
   "execution_count": null,
   "metadata": {},
   "outputs": [],
   "source": []
  },
  {
   "cell_type": "markdown",
   "metadata": {},
   "source": [
    "## check if all files are imported"
   ]
  },
  {
   "cell_type": "markdown",
   "metadata": {},
   "source": [
    "taxa files"
   ]
  },
  {
   "cell_type": "code",
   "execution_count": 41,
   "metadata": {},
   "outputs": [
    {
     "data": {
      "text/plain": [
       "['LIMS/Micropal_CSV_1/363-U1482A-Benthic_Forams.csv',\n",
       " 'LIMS/Micropal_CSV_1/320_U1336A_Nannofossils_2.csv',\n",
       " 'LIMS/Micropal_CSV_1/375_U1518F_planktic_forams.csv']"
      ]
     },
     "execution_count": 41,
     "metadata": {},
     "output_type": "execute_result"
    }
   ],
   "source": [
    "files = []\n",
    "\n",
    "for clean_data_path in clean_data_paths:\n",
    "    raw_csvs = glob.glob(f\"{clean_data_path}/*.csv\")\n",
    "    for csv in raw_csvs:\n",
    "        files.append(csv.split('cleaned_data/')[1])\n",
    "\n",
    "files[0:3]"
   ]
  },
  {
   "cell_type": "code",
   "execution_count": 42,
   "metadata": {},
   "outputs": [
    {
     "data": {
      "text/plain": [
       "1253"
      ]
     },
     "execution_count": 42,
     "metadata": {},
     "output_type": "execute_result"
    }
   ],
   "source": [
    "len(files)"
   ]
  },
  {
   "cell_type": "code",
   "execution_count": 43,
   "metadata": {},
   "outputs": [
    {
     "data": {
      "text/plain": [
       "['LIMS/Micropal_CSV_3/339_nannofossils_U1387C.csv',\n",
       " 'LIMS/Micropal_CSV_4/317_U1353_planktic_forams.csv',\n",
       " 'LIMS/Micropal_CSV_3/341_diatoms_U1417E.csv']"
      ]
     },
     "execution_count": 43,
     "metadata": {},
     "output_type": "execute_result"
    }
   ],
   "source": [
    "sql = \"\"\"\n",
    "select distinct(data_source_notes) as file\n",
    "from samples \n",
    "where data_source_type = 'micropal csv';\n",
    "\"\"\"\n",
    "\n",
    "db_files = []\n",
    "rows = db.fetch_all(sql)\n",
    "for row in rows:\n",
    "    db_files.append(row['file'])\n",
    "    \n",
    "db_files[0:3]"
   ]
  },
  {
   "cell_type": "code",
   "execution_count": 44,
   "metadata": {},
   "outputs": [
    {
     "data": {
      "text/plain": [
       "1253"
      ]
     },
     "execution_count": 44,
     "metadata": {},
     "output_type": "execute_result"
    }
   ],
   "source": [
    "len(db_files)"
   ]
  },
  {
   "cell_type": "code",
   "execution_count": 45,
   "metadata": {},
   "outputs": [
    {
     "data": {
      "text/plain": [
       "True"
      ]
     },
     "execution_count": 45,
     "metadata": {},
     "output_type": "execute_result"
    }
   ],
   "source": [
    "len(db_files) == len(files)"
   ]
  },
  {
   "cell_type": "markdown",
   "metadata": {},
   "source": [
    "lithology files"
   ]
  },
  {
   "cell_type": "code",
   "execution_count": 33,
   "metadata": {},
   "outputs": [
    {
     "data": {
      "text/plain": [
       "['361_macroscopic_U1474D.csv',\n",
       " '323 Core Description Template_U1341A.csv',\n",
       " '361_macroscopic_U1479C.csv']"
      ]
     },
     "execution_count": 33,
     "metadata": {},
     "output_type": "execute_result"
    }
   ],
   "source": [
    "files = []\n",
    "\n",
    "\n",
    "raw_csvs = glob.glob(f\"{lith_data_path}/*.csv\")\n",
    "for csv in raw_csvs:\n",
    "    files.append(csv.split('/')[-1])\n",
    "\n",
    "files[0:3]"
   ]
  },
  {
   "cell_type": "code",
   "execution_count": 34,
   "metadata": {},
   "outputs": [
    {
     "data": {
      "text/plain": [
       "518"
      ]
     },
     "execution_count": 34,
     "metadata": {},
     "output_type": "execute_result"
    }
   ],
   "source": [
    "len(files)"
   ]
  },
  {
   "cell_type": "code",
   "execution_count": 35,
   "metadata": {},
   "outputs": [
    {
     "data": {
      "text/plain": [
       "['342_sediment_U1406A.csv',\n",
       " '359-U1466A_macroscopic.csv',\n",
       " '340_sediment_U1396C.csv']"
      ]
     },
     "execution_count": 35,
     "metadata": {},
     "output_type": "execute_result"
    }
   ],
   "source": [
    "sql = \"\"\"\n",
    "select distinct(data_source_notes) as file\n",
    "from samples \n",
    "where data_source_type = 'lithology csv';\n",
    "\"\"\"\n",
    "\n",
    "db_files = []\n",
    "rows = db.fetch_all(sql)\n",
    "for row in rows:\n",
    "    db_files.append(row['file'])\n",
    "    \n",
    "db_files[0:3]"
   ]
  },
  {
   "cell_type": "code",
   "execution_count": 36,
   "metadata": {},
   "outputs": [
    {
     "data": {
      "text/plain": [
       "516"
      ]
     },
     "execution_count": 36,
     "metadata": {},
     "output_type": "execute_result"
    }
   ],
   "source": [
    "len(db_files)"
   ]
  },
  {
   "cell_type": "code",
   "execution_count": 40,
   "metadata": {},
   "outputs": [
    {
     "data": {
      "text/plain": [
       "False"
      ]
     },
     "execution_count": 40,
     "metadata": {},
     "output_type": "execute_result"
    }
   ],
   "source": [
    "len(db_files) == len(files)"
   ]
  },
  {
   "cell_type": "code",
   "execution_count": 37,
   "metadata": {},
   "outputs": [
    {
     "data": {
      "text/plain": [
       "set()"
      ]
     },
     "execution_count": 37,
     "metadata": {},
     "output_type": "execute_result"
    }
   ],
   "source": [
    "set(db_files) - set(files)"
   ]
  },
  {
   "cell_type": "code",
   "execution_count": 39,
   "metadata": {},
   "outputs": [
    {
     "data": {
      "text/plain": [
       "{'329_sediment_U1369D.csv', '362_macro_U1480D.csv'}"
      ]
     },
     "execution_count": 39,
     "metadata": {},
     "output_type": "execute_result"
    }
   ],
   "source": [
    "set(files) - set(db_files)"
   ]
  },
  {
   "cell_type": "markdown",
   "metadata": {},
   "source": [
    "## check if taxa column for all files are imported\n",
    "\n",
    "get files with no samples_taxa"
   ]
  },
  {
   "cell_type": "code",
   "execution_count": 60,
   "metadata": {},
   "outputs": [
    {
     "data": {
      "text/plain": [
       "['LIMS/Micropal_CSV_2/371_U1511B_benthic_forams.csv',\n",
       " 'LIMS/Micropal_CSV_2/371_U1511A_benthic_forams.csv',\n",
       " 'LIMS/Micropal_CSV_2/346_U1423C_nannofossils.csv']"
      ]
     },
     "execution_count": 60,
     "metadata": {},
     "output_type": "execute_result"
    }
   ],
   "source": [
    "sql = \"\"\"\n",
    "select distinct(data_source_notes) from samples where data_source_type = 'micropal csv'\n",
    "except\n",
    "select distinct(data_source_notes) from samples_taxa;\n",
    "\"\"\"\n",
    "\n",
    "db_files = []\n",
    "rows = db.fetch_all(sql)\n",
    "for row in rows:\n",
    "    db_files.append(row['data_source_notes'])\n",
    "    \n",
    "db_files[0:3]"
   ]
  },
  {
   "cell_type": "code",
   "execution_count": 61,
   "metadata": {},
   "outputs": [
    {
     "data": {
      "text/plain": [
       "48"
      ]
     },
     "execution_count": 61,
     "metadata": {},
     "output_type": "execute_result"
    }
   ],
   "source": [
    "len(db_files)"
   ]
  },
  {
   "cell_type": "markdown",
   "metadata": {},
   "source": [
    "get all verbatim_name"
   ]
  },
  {
   "cell_type": "code",
   "execution_count": 62,
   "metadata": {},
   "outputs": [
    {
     "data": {
      "text/plain": [
       "['Valkyria pukapuka', 'Spirotextularia fistulosa', 'Monalysidium spp.']"
      ]
     },
     "execution_count": 62,
     "metadata": {},
     "output_type": "execute_result"
    }
   ],
   "source": [
    "sql = \"\"\"\n",
    "select distinct(verbatim_name)\n",
    "from taxa_crosswalk;\n",
    "\"\"\"\n",
    "taxa = []\n",
    "rows = db.fetch_all(sql)\n",
    "for row in rows:\n",
    "    taxa.append(row['verbatim_name'])\n",
    "    \n",
    "taxa[0:3]"
   ]
  },
  {
   "cell_type": "markdown",
   "metadata": {},
   "source": [
    "print file name if there are taxa columns with abundance values"
   ]
  },
  {
   "cell_type": "code",
   "execution_count": 63,
   "metadata": {},
   "outputs": [
    {
     "name": "stdout",
     "output_type": "stream",
     "text": [
      "all files ok\n"
     ]
    }
   ],
   "source": [
    "errors = False \n",
    "\n",
    "for file in db_files:\n",
    "    path = CLEAN_DATA_DIR/file\n",
    "    df = pd.read_csv(path)\n",
    "    df.dropna(axis=1, how='all', inplace=True)\n",
    "    \n",
    "    if len(set(df.columns).intersection(set(taxa))) > 0:\n",
    "        print(path)\n",
    "        errors = True \n",
    "        \n",
    "if not errors:\n",
    "    print('all files ok')"
   ]
  },
  {
   "cell_type": "markdown",
   "metadata": {},
   "source": [
    "## Look for duplicate sample names in all mircopal files"
   ]
  },
  {
   "cell_type": "code",
   "execution_count": 10,
   "metadata": {},
   "outputs": [],
   "source": [
    "data =[]\n",
    "target_columns = [\n",
    "    'Sample', \n",
    "    'Top [cm]', \n",
    "    'Bottom [cm]', \n",
    "    'Top Depth [m]', \n",
    "    'Bottom Depth [m]'\n",
    "]\n",
    "for clean_data_path in clean_data_paths:\n",
    "    raw_csvs = glob.glob(f\"{clean_data_path}/*.csv\")\n",
    "\n",
    "    for path in raw_csvs:\n",
    "        content = pd.read_csv(path)\n",
    "        \n",
    "        new_df = content[content.duplicated(subset=['Sample'])]\n",
    "        for index, row in new_df.iterrows():\n",
    "            data.append({'sample': row['Sample'],  'path': path})"
   ]
  },
  {
   "cell_type": "code",
   "execution_count": 11,
   "metadata": {},
   "outputs": [
    {
     "data": {
      "text/plain": [
       "(636, 2)"
      ]
     },
     "execution_count": 11,
     "metadata": {},
     "output_type": "execute_result"
    }
   ],
   "source": [
    "new_df = pd.DataFrame(data)\n",
    "new_df.shape"
   ]
  },
  {
   "cell_type": "code",
   "execution_count": 12,
   "metadata": {},
   "outputs": [
    {
     "data": {
      "text/html": [
       "<div>\n",
       "<style scoped>\n",
       "    .dataframe tbody tr th:only-of-type {\n",
       "        vertical-align: middle;\n",
       "    }\n",
       "\n",
       "    .dataframe tbody tr th {\n",
       "        vertical-align: top;\n",
       "    }\n",
       "\n",
       "    .dataframe thead th {\n",
       "        text-align: right;\n",
       "    }\n",
       "</style>\n",
       "<table border=\"1\" class=\"dataframe\">\n",
       "  <thead>\n",
       "    <tr style=\"text-align: right;\">\n",
       "      <th></th>\n",
       "      <th>sample</th>\n",
       "      <th>path</th>\n",
       "    </tr>\n",
       "  </thead>\n",
       "  <tbody>\n",
       "    <tr>\n",
       "      <th>0</th>\n",
       "      <td>363-U1487A-4H-CC-PAL-NANNO</td>\n",
       "      <td>../../output/cleaned_data/LIMS/Micropal_CSV_1/...</td>\n",
       "    </tr>\n",
       "    <tr>\n",
       "      <th>1</th>\n",
       "      <td>363-U1487A-5H-CC-PAL-NANNO</td>\n",
       "      <td>../../output/cleaned_data/LIMS/Micropal_CSV_1/...</td>\n",
       "    </tr>\n",
       "    <tr>\n",
       "      <th>2</th>\n",
       "      <td>363-U1483A-1H-1-A 0/0-NANNO</td>\n",
       "      <td>../../output/cleaned_data/LIMS/Micropal_CSV_1/...</td>\n",
       "    </tr>\n",
       "    <tr>\n",
       "      <th>3</th>\n",
       "      <td>363-U1483A-9H-6-W 50/50-NANNO</td>\n",
       "      <td>../../output/cleaned_data/LIMS/Micropal_CSV_1/...</td>\n",
       "    </tr>\n",
       "    <tr>\n",
       "      <th>4</th>\n",
       "      <td>363-U1483A-11H-2-W 50/50-NANNO</td>\n",
       "      <td>../../output/cleaned_data/LIMS/Micropal_CSV_1/...</td>\n",
       "    </tr>\n",
       "    <tr>\n",
       "      <th>...</th>\n",
       "      <td>...</td>\n",
       "      <td>...</td>\n",
       "    </tr>\n",
       "    <tr>\n",
       "      <th>631</th>\n",
       "      <td>323-U1345A-1H-1-nan</td>\n",
       "      <td>../../output/cleaned_data/LIMS/Micropal_CSV_4/...</td>\n",
       "    </tr>\n",
       "    <tr>\n",
       "      <th>632</th>\n",
       "      <td>323-U1345A-1H-2-nan</td>\n",
       "      <td>../../output/cleaned_data/LIMS/Micropal_CSV_4/...</td>\n",
       "    </tr>\n",
       "    <tr>\n",
       "      <th>633</th>\n",
       "      <td>323-U1345A-1H-2-nan</td>\n",
       "      <td>../../output/cleaned_data/LIMS/Micropal_CSV_4/...</td>\n",
       "    </tr>\n",
       "    <tr>\n",
       "      <th>634</th>\n",
       "      <td>323-U1345A-2H-1-nan</td>\n",
       "      <td>../../output/cleaned_data/LIMS/Micropal_CSV_4/...</td>\n",
       "    </tr>\n",
       "    <tr>\n",
       "      <th>635</th>\n",
       "      <td>323-U1345A-2H-1-nan</td>\n",
       "      <td>../../output/cleaned_data/LIMS/Micropal_CSV_4/...</td>\n",
       "    </tr>\n",
       "  </tbody>\n",
       "</table>\n",
       "<p>636 rows × 2 columns</p>\n",
       "</div>"
      ],
      "text/plain": [
       "                             sample  \\\n",
       "0        363-U1487A-4H-CC-PAL-NANNO   \n",
       "1        363-U1487A-5H-CC-PAL-NANNO   \n",
       "2       363-U1483A-1H-1-A 0/0-NANNO   \n",
       "3     363-U1483A-9H-6-W 50/50-NANNO   \n",
       "4    363-U1483A-11H-2-W 50/50-NANNO   \n",
       "..                              ...   \n",
       "631             323-U1345A-1H-1-nan   \n",
       "632             323-U1345A-1H-2-nan   \n",
       "633             323-U1345A-1H-2-nan   \n",
       "634             323-U1345A-2H-1-nan   \n",
       "635             323-U1345A-2H-1-nan   \n",
       "\n",
       "                                                  path  \n",
       "0    ../../output/cleaned_data/LIMS/Micropal_CSV_1/...  \n",
       "1    ../../output/cleaned_data/LIMS/Micropal_CSV_1/...  \n",
       "2    ../../output/cleaned_data/LIMS/Micropal_CSV_1/...  \n",
       "3    ../../output/cleaned_data/LIMS/Micropal_CSV_1/...  \n",
       "4    ../../output/cleaned_data/LIMS/Micropal_CSV_1/...  \n",
       "..                                                 ...  \n",
       "631  ../../output/cleaned_data/LIMS/Micropal_CSV_4/...  \n",
       "632  ../../output/cleaned_data/LIMS/Micropal_CSV_4/...  \n",
       "633  ../../output/cleaned_data/LIMS/Micropal_CSV_4/...  \n",
       "634  ../../output/cleaned_data/LIMS/Micropal_CSV_4/...  \n",
       "635  ../../output/cleaned_data/LIMS/Micropal_CSV_4/...  \n",
       "\n",
       "[636 rows x 2 columns]"
      ]
     },
     "execution_count": 12,
     "metadata": {},
     "output_type": "execute_result"
    }
   ],
   "source": [
    "new_df"
   ]
  },
  {
   "cell_type": "code",
   "execution_count": 14,
   "metadata": {},
   "outputs": [],
   "source": [
    "# new_df.to_csv('../../output/tmp/dup_sample_names.csv')"
   ]
  },
  {
   "cell_type": "markdown",
   "metadata": {},
   "source": [
    "## import all samples into db"
   ]
  },
  {
   "cell_type": "code",
   "execution_count": 37,
   "metadata": {},
   "outputs": [],
   "source": [
    "import math"
   ]
  },
  {
   "cell_type": "code",
   "execution_count": 39,
   "metadata": {},
   "outputs": [],
   "source": [
    "for clean_data_path in clean_data_paths:\n",
    "    raw_csvs = glob.glob(f\"{clean_data_path}/*.csv\")\n",
    "\n",
    "    for path in raw_csvs:\n",
    "        filename = path.split('/')[2]\n",
    "        content = pd.read_csv(path)\n",
    "\n",
    "        for index, row in content.iterrows():\n",
    "             if type(row['Sample']) is str and (type(row['Top [cm]']) is int or type(row['Top [cm]']) is float):\n",
    "\n",
    "                 top =  0 if math.isnan(row['Top [cm]']) else row['Top [cm]']\n",
    "                 sample = row['Sample'].strip()\n",
    "                 sql = f\"INSERT INTO staging.samples (name,top,bottom,top_depth,bottom_depth, created_at, data_source_notes)  VALUES (\\'{sample}\\', {top} , {row['Bottom [cm]']} , {row['Top Depth [m]']} ,{row['Bottom Depth [m]']}, now(), \\'{filename}\\');\"\n",
    "                 # db.execute(sql);\n",
    "             else:\n",
    "                print(row['Sample'], row['Top [cm]'], row['Bottom [cm]'], row['Top Depth [m]'], row['Bottom Depth [m]'], path )\n",
    "\n",
    "\n",
    "print('done')\n"
   ]
  },
  {
   "cell_type": "markdown",
   "metadata": {},
   "source": [
    "## check if expeditions matches samples and file name"
   ]
  },
  {
   "cell_type": "code",
   "execution_count": 4,
   "metadata": {},
   "outputs": [
    {
     "name": "stdout",
     "output_type": "stream",
     "text": [
      "[]\n",
      "[]\n",
      "[]\n",
      "\n",
      "select distinct(LEFT(name, 3)) as name, samples.data_source_type\n",
      "from samples\n",
      " except \n",
      "select distinct samples.raw_data ->> 'Exp' as name, samples.data_source_type\n",
      "from samples \n",
      " [RealDictRow([('name', None), ('data_source_type', 'lithology csv')]), RealDictRow([('name', None), ('data_source_type', 'micropal csv')])]\n"
     ]
    }
   ],
   "source": [
    "# get expedition name from all the joins\n",
    "sql1 = \"\"\"\n",
    "select distinct expeditions.name, samples.data_source_type\n",
    "from samples \n",
    "left join sections on sections.id =  samples.section_id\n",
    "left join cores on cores.id = sections.core_id\n",
    "left join holes on holes.id = cores.hole_id\n",
    "left join sites on sites.id = holes.site_id\n",
    "left join expeditions on expeditions.id = sites.expedition_id\n",
    "\"\"\"\n",
    "\n",
    "\n",
    "# get expedition name from samples.raw_data\n",
    "sql2 = \"\"\"\n",
    "select distinct samples.raw_data ->> 'Exp' as name, samples.data_source_type\n",
    "from samples \n",
    "\"\"\"\n",
    "\n",
    "# get expedition name from samples.name\n",
    "sql3 = \"\"\"\n",
    "select distinct(LEFT(name, 3)) as name, samples.data_source_type\n",
    "from samples\n",
    "\"\"\"\n",
    "\n",
    "sql = sql1 + ' except ' + sql2 \n",
    "rows = db.fetch_all_dict(sql)\n",
    "print(rows)\n",
    "\n",
    "sql = sql2 + ' except ' + sql1 \n",
    "rows = db.fetch_all_dict(sql)\n",
    "print(rows)\n",
    "\n",
    "\n",
    "sql = sql2 + ' except ' + sql3\n",
    "rows = db.fetch_all_dict(sql)\n",
    "print(rows)\n",
    "\n",
    "sql = sql3 + ' except ' + sql2 \n",
    "rows = db.fetch_all_dict(sql)\n",
    "print(sql, rows)"
   ]
  },
  {
   "cell_type": "markdown",
   "metadata": {},
   "source": [
    "## check if sample name matches individual parts"
   ]
  },
  {
   "cell_type": "code",
   "execution_count": 7,
   "metadata": {},
   "outputs": [],
   "source": [
    "sql=\"\"\"select name, tmp_name, data_source_notes \n",
    "from (\n",
    "select name, id, data_source_notes,\n",
    "CASE\n",
    "    WHEN raw_data ->> 'Section' != '' THEN \n",
    "    (raw_data ->> 'Exp') || '-' \n",
    "    || (raw_data ->> 'Site') \n",
    "    || (raw_data ->> 'Hole') || '-' \n",
    "    || (raw_data ->> 'Core') \n",
    "    || (raw_data ->> 'Type') || '-' \n",
    "    || (raw_data ->> 'Section')\n",
    "    ELSE\n",
    "    (raw_data ->> 'Exp') || '-' \n",
    "    || (raw_data ->> 'Site') \n",
    "    || (raw_data ->> 'Hole') || '-' \n",
    "    || (raw_data ->> 'Core') \n",
    "    || (raw_data ->> 'Type') \n",
    "END tmp_name\n",
    "from samples\n",
    ") as foo\n",
    "where  name not LIKE tmp_name || '%';\n",
    "\"\"\"\n",
    "rows = db.fetch_all_dict(sql)\n",
    "\n",
    "df = pd.DataFrame(rows)"
   ]
  },
  {
   "cell_type": "code",
   "execution_count": 8,
   "metadata": {},
   "outputs": [
    {
     "data": {
      "text/html": [
       "<div>\n",
       "<style scoped>\n",
       "    .dataframe tbody tr th:only-of-type {\n",
       "        vertical-align: middle;\n",
       "    }\n",
       "\n",
       "    .dataframe tbody tr th {\n",
       "        vertical-align: top;\n",
       "    }\n",
       "\n",
       "    .dataframe thead th {\n",
       "        text-align: right;\n",
       "    }\n",
       "</style>\n",
       "<table border=\"1\" class=\"dataframe\">\n",
       "  <thead>\n",
       "    <tr style=\"text-align: right;\">\n",
       "      <th></th>\n",
       "      <th>name</th>\n",
       "      <th>tmp_name</th>\n",
       "      <th>data_source_notes</th>\n",
       "    </tr>\n",
       "  </thead>\n",
       "  <tbody>\n",
       "    <tr>\n",
       "      <th>0</th>\n",
       "      <td>350-U1437E-9R-CC-PAL-FORAM</td>\n",
       "      <td>350-U1437E-9H-CC</td>\n",
       "      <td>LIMS/Micropal_CSV_2/350_U1437E_planktic_forams...</td>\n",
       "    </tr>\n",
       "    <tr>\n",
       "      <th>1</th>\n",
       "      <td>350-U1437E-10R-CC-PAL-FORAM</td>\n",
       "      <td>350-U1437E-10H-CC</td>\n",
       "      <td>LIMS/Micropal_CSV_2/350_U1437E_planktic_forams...</td>\n",
       "    </tr>\n",
       "    <tr>\n",
       "      <th>2</th>\n",
       "      <td>350-U1437E-11R-CC-PAL-FORAM</td>\n",
       "      <td>350-U1437E-11H-CC</td>\n",
       "      <td>LIMS/Micropal_CSV_2/350_U1437E_planktic_forams...</td>\n",
       "    </tr>\n",
       "    <tr>\n",
       "      <th>3</th>\n",
       "      <td>350-U1437E-13R-1-PAL-FORAM</td>\n",
       "      <td>350-U1437E-13H-1</td>\n",
       "      <td>LIMS/Micropal_CSV_2/350_U1437E_planktic_forams...</td>\n",
       "    </tr>\n",
       "    <tr>\n",
       "      <th>4</th>\n",
       "      <td>350-U1437E-14R-CC-PAL-FORAM</td>\n",
       "      <td>350-U1437E-14H-CC</td>\n",
       "      <td>LIMS/Micropal_CSV_2/350_U1437E_planktic_forams...</td>\n",
       "    </tr>\n",
       "    <tr>\n",
       "      <th>...</th>\n",
       "      <td>...</td>\n",
       "      <td>...</td>\n",
       "      <td>...</td>\n",
       "    </tr>\n",
       "    <tr>\n",
       "      <th>2907</th>\n",
       "      <td>350-U1436B-14H-2-A</td>\n",
       "      <td>350-U1436B-2H-3</td>\n",
       "      <td>350_macroscopic_U1436B.csv</td>\n",
       "    </tr>\n",
       "    <tr>\n",
       "      <th>2908</th>\n",
       "      <td>318-U1356A-96R-CC-PAL</td>\n",
       "      <td>318-U1356A-96RR-CC</td>\n",
       "      <td>LIMS/Micropal_CSV_4/318_U1356A_nannofossils.csv</td>\n",
       "    </tr>\n",
       "    <tr>\n",
       "      <th>2909</th>\n",
       "      <td>341-U1417A</td>\n",
       "      <td>341-U1417A-</td>\n",
       "      <td>LIMS/Micropal_CSV_3/341_radiolarians_U1417A.csv</td>\n",
       "    </tr>\n",
       "    <tr>\n",
       "      <th>2910</th>\n",
       "      <td>341-U1417A-20H-CC-PAL</td>\n",
       "      <td>341-U1418A-20H-CC</td>\n",
       "      <td>LIMS/Micropal_CSV_3/341_radiolarians_U1417A.csv</td>\n",
       "    </tr>\n",
       "    <tr>\n",
       "      <th>2911</th>\n",
       "      <td>341-U1417A-21H-CC-PAL</td>\n",
       "      <td>341-U1419A-21H-CC</td>\n",
       "      <td>LIMS/Micropal_CSV_3/341_radiolarians_U1417A.csv</td>\n",
       "    </tr>\n",
       "  </tbody>\n",
       "</table>\n",
       "<p>2912 rows × 3 columns</p>\n",
       "</div>"
      ],
      "text/plain": [
       "                             name            tmp_name  \\\n",
       "0      350-U1437E-9R-CC-PAL-FORAM    350-U1437E-9H-CC   \n",
       "1     350-U1437E-10R-CC-PAL-FORAM   350-U1437E-10H-CC   \n",
       "2     350-U1437E-11R-CC-PAL-FORAM   350-U1437E-11H-CC   \n",
       "3      350-U1437E-13R-1-PAL-FORAM    350-U1437E-13H-1   \n",
       "4     350-U1437E-14R-CC-PAL-FORAM   350-U1437E-14H-CC   \n",
       "...                           ...                 ...   \n",
       "2907           350-U1436B-14H-2-A     350-U1436B-2H-3   \n",
       "2908        318-U1356A-96R-CC-PAL  318-U1356A-96RR-CC   \n",
       "2909                   341-U1417A         341-U1417A-   \n",
       "2910        341-U1417A-20H-CC-PAL   341-U1418A-20H-CC   \n",
       "2911        341-U1417A-21H-CC-PAL   341-U1419A-21H-CC   \n",
       "\n",
       "                                      data_source_notes  \n",
       "0     LIMS/Micropal_CSV_2/350_U1437E_planktic_forams...  \n",
       "1     LIMS/Micropal_CSV_2/350_U1437E_planktic_forams...  \n",
       "2     LIMS/Micropal_CSV_2/350_U1437E_planktic_forams...  \n",
       "3     LIMS/Micropal_CSV_2/350_U1437E_planktic_forams...  \n",
       "4     LIMS/Micropal_CSV_2/350_U1437E_planktic_forams...  \n",
       "...                                                 ...  \n",
       "2907                         350_macroscopic_U1436B.csv  \n",
       "2908    LIMS/Micropal_CSV_4/318_U1356A_nannofossils.csv  \n",
       "2909    LIMS/Micropal_CSV_3/341_radiolarians_U1417A.csv  \n",
       "2910    LIMS/Micropal_CSV_3/341_radiolarians_U1417A.csv  \n",
       "2911    LIMS/Micropal_CSV_3/341_radiolarians_U1417A.csv  \n",
       "\n",
       "[2912 rows x 3 columns]"
      ]
     },
     "execution_count": 8,
     "metadata": {},
     "output_type": "execute_result"
    }
   ],
   "source": [
    "df"
   ]
  },
  {
   "cell_type": "code",
   "execution_count": null,
   "metadata": {},
   "outputs": [],
   "source": []
  }
 ],
 "metadata": {
  "kernelspec": {
   "display_name": "Python 3 (ipykernel)",
   "language": "python",
   "name": "python3"
  },
  "language_info": {
   "codemirror_mode": {
    "name": "ipython",
    "version": 3
   },
   "file_extension": ".py",
   "mimetype": "text/x-python",
   "name": "python",
   "nbconvert_exporter": "python",
   "pygments_lexer": "ipython3",
   "version": "3.8.2"
  }
 },
 "nbformat": 4,
 "nbformat_minor": 4
}
