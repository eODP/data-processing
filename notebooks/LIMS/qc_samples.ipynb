{
 "cells": [
  {
   "cell_type": "markdown",
   "metadata": {},
   "source": [
    "# QC samples"
   ]
  },
  {
   "cell_type": "code",
   "execution_count": 1,
   "metadata": {},
   "outputs": [],
   "source": [
    "import sys\n",
    "sys.path.append('../../')\n",
    "import pandas as pd\n",
    "import glob\n",
    "from pathlib import Path\n",
    "from config import CLEAN_DATA_DIR, OUTPUT_DIR, RAW_DATA_DIR\n",
    "import db as db\n",
    "\n",
    "\n",
    "from scripts.normalize_data import (\n",
    "    csv_cleanup,\n",
    "    update_metadata,\n",
    "    get_taxonomy_columns,\n",
    ")"
   ]
  },
  {
   "cell_type": "code",
   "execution_count": 4,
   "metadata": {},
   "outputs": [
    {
     "data": {
      "text/plain": [
       "PosixPath('../../output/cleaned_data')"
      ]
     },
     "execution_count": 4,
     "metadata": {},
     "output_type": "execute_result"
    }
   ],
   "source": [
    "CLEAN_DATA_DIR"
   ]
  },
  {
   "cell_type": "code",
   "execution_count": 5,
   "metadata": {},
   "outputs": [],
   "source": [
    "clean_data_paths = [\n",
    "    CLEAN_DATA_DIR /'LIMS/Micropal_CSV_1', \n",
    "    CLEAN_DATA_DIR /'LIMS/Micropal_CSV_2', \n",
    "    CLEAN_DATA_DIR /'LIMS/Micropal_CSV_3', \n",
    "    CLEAN_DATA_DIR /'LIMS/Micropal_CSV_4', \n",
    "]\n",
    "\n",
    "date = '2022-04-28'\n",
    "\n",
    "\n",
    "taxa_list_file = OUTPUT_DIR/'taxa'/'LIMS'/f\"taxa_list_{date}.csv\"\n",
    "taxa_crosswalk_list_file = OUTPUT_DIR/'taxa'/'LIMS'/f\"taxa_crosswalk_{date}.csv\"\n"
   ]
  },
  {
   "cell_type": "code",
   "execution_count": 3,
   "metadata": {},
   "outputs": [],
   "source": [
    "def log_df(df, row_count=5):\n",
    "    print(df.shape)\n",
    "    return df.head(row_count)\n"
   ]
  },
  {
   "cell_type": "markdown",
   "metadata": {},
   "source": [
    "## Look for duplicate sample names in all mircopal files"
   ]
  },
  {
   "cell_type": "code",
   "execution_count": 10,
   "metadata": {},
   "outputs": [],
   "source": [
    "data =[]\n",
    "target_columns = [\n",
    "    'Sample', \n",
    "    'Top [cm]', \n",
    "    'Bottom [cm]', \n",
    "    'Top Depth [m]', \n",
    "    'Bottom Depth [m]'\n",
    "]\n",
    "for clean_data_path in clean_data_paths:\n",
    "    raw_csvs = glob.glob(f\"{clean_data_path}/*.csv\")\n",
    "\n",
    "    for path in raw_csvs:\n",
    "        content = pd.read_csv(path)\n",
    "        \n",
    "        new_df = content[content.duplicated(subset=['Sample'])]\n",
    "        for index, row in new_df.iterrows():\n",
    "            data.append({'sample': row['Sample'],  'path': path})"
   ]
  },
  {
   "cell_type": "code",
   "execution_count": 11,
   "metadata": {},
   "outputs": [
    {
     "data": {
      "text/plain": [
       "(636, 2)"
      ]
     },
     "execution_count": 11,
     "metadata": {},
     "output_type": "execute_result"
    }
   ],
   "source": [
    "new_df = pd.DataFrame(data)\n",
    "new_df.shape"
   ]
  },
  {
   "cell_type": "code",
   "execution_count": 12,
   "metadata": {},
   "outputs": [
    {
     "data": {
      "text/html": [
       "<div>\n",
       "<style scoped>\n",
       "    .dataframe tbody tr th:only-of-type {\n",
       "        vertical-align: middle;\n",
       "    }\n",
       "\n",
       "    .dataframe tbody tr th {\n",
       "        vertical-align: top;\n",
       "    }\n",
       "\n",
       "    .dataframe thead th {\n",
       "        text-align: right;\n",
       "    }\n",
       "</style>\n",
       "<table border=\"1\" class=\"dataframe\">\n",
       "  <thead>\n",
       "    <tr style=\"text-align: right;\">\n",
       "      <th></th>\n",
       "      <th>sample</th>\n",
       "      <th>path</th>\n",
       "    </tr>\n",
       "  </thead>\n",
       "  <tbody>\n",
       "    <tr>\n",
       "      <th>0</th>\n",
       "      <td>363-U1487A-4H-CC-PAL-NANNO</td>\n",
       "      <td>../../output/cleaned_data/LIMS/Micropal_CSV_1/...</td>\n",
       "    </tr>\n",
       "    <tr>\n",
       "      <th>1</th>\n",
       "      <td>363-U1487A-5H-CC-PAL-NANNO</td>\n",
       "      <td>../../output/cleaned_data/LIMS/Micropal_CSV_1/...</td>\n",
       "    </tr>\n",
       "    <tr>\n",
       "      <th>2</th>\n",
       "      <td>363-U1483A-1H-1-A 0/0-NANNO</td>\n",
       "      <td>../../output/cleaned_data/LIMS/Micropal_CSV_1/...</td>\n",
       "    </tr>\n",
       "    <tr>\n",
       "      <th>3</th>\n",
       "      <td>363-U1483A-9H-6-W 50/50-NANNO</td>\n",
       "      <td>../../output/cleaned_data/LIMS/Micropal_CSV_1/...</td>\n",
       "    </tr>\n",
       "    <tr>\n",
       "      <th>4</th>\n",
       "      <td>363-U1483A-11H-2-W 50/50-NANNO</td>\n",
       "      <td>../../output/cleaned_data/LIMS/Micropal_CSV_1/...</td>\n",
       "    </tr>\n",
       "    <tr>\n",
       "      <th>...</th>\n",
       "      <td>...</td>\n",
       "      <td>...</td>\n",
       "    </tr>\n",
       "    <tr>\n",
       "      <th>631</th>\n",
       "      <td>323-U1345A-1H-1-nan</td>\n",
       "      <td>../../output/cleaned_data/LIMS/Micropal_CSV_4/...</td>\n",
       "    </tr>\n",
       "    <tr>\n",
       "      <th>632</th>\n",
       "      <td>323-U1345A-1H-2-nan</td>\n",
       "      <td>../../output/cleaned_data/LIMS/Micropal_CSV_4/...</td>\n",
       "    </tr>\n",
       "    <tr>\n",
       "      <th>633</th>\n",
       "      <td>323-U1345A-1H-2-nan</td>\n",
       "      <td>../../output/cleaned_data/LIMS/Micropal_CSV_4/...</td>\n",
       "    </tr>\n",
       "    <tr>\n",
       "      <th>634</th>\n",
       "      <td>323-U1345A-2H-1-nan</td>\n",
       "      <td>../../output/cleaned_data/LIMS/Micropal_CSV_4/...</td>\n",
       "    </tr>\n",
       "    <tr>\n",
       "      <th>635</th>\n",
       "      <td>323-U1345A-2H-1-nan</td>\n",
       "      <td>../../output/cleaned_data/LIMS/Micropal_CSV_4/...</td>\n",
       "    </tr>\n",
       "  </tbody>\n",
       "</table>\n",
       "<p>636 rows × 2 columns</p>\n",
       "</div>"
      ],
      "text/plain": [
       "                             sample  \\\n",
       "0        363-U1487A-4H-CC-PAL-NANNO   \n",
       "1        363-U1487A-5H-CC-PAL-NANNO   \n",
       "2       363-U1483A-1H-1-A 0/0-NANNO   \n",
       "3     363-U1483A-9H-6-W 50/50-NANNO   \n",
       "4    363-U1483A-11H-2-W 50/50-NANNO   \n",
       "..                              ...   \n",
       "631             323-U1345A-1H-1-nan   \n",
       "632             323-U1345A-1H-2-nan   \n",
       "633             323-U1345A-1H-2-nan   \n",
       "634             323-U1345A-2H-1-nan   \n",
       "635             323-U1345A-2H-1-nan   \n",
       "\n",
       "                                                  path  \n",
       "0    ../../output/cleaned_data/LIMS/Micropal_CSV_1/...  \n",
       "1    ../../output/cleaned_data/LIMS/Micropal_CSV_1/...  \n",
       "2    ../../output/cleaned_data/LIMS/Micropal_CSV_1/...  \n",
       "3    ../../output/cleaned_data/LIMS/Micropal_CSV_1/...  \n",
       "4    ../../output/cleaned_data/LIMS/Micropal_CSV_1/...  \n",
       "..                                                 ...  \n",
       "631  ../../output/cleaned_data/LIMS/Micropal_CSV_4/...  \n",
       "632  ../../output/cleaned_data/LIMS/Micropal_CSV_4/...  \n",
       "633  ../../output/cleaned_data/LIMS/Micropal_CSV_4/...  \n",
       "634  ../../output/cleaned_data/LIMS/Micropal_CSV_4/...  \n",
       "635  ../../output/cleaned_data/LIMS/Micropal_CSV_4/...  \n",
       "\n",
       "[636 rows x 2 columns]"
      ]
     },
     "execution_count": 12,
     "metadata": {},
     "output_type": "execute_result"
    }
   ],
   "source": [
    "new_df"
   ]
  },
  {
   "cell_type": "code",
   "execution_count": 14,
   "metadata": {},
   "outputs": [],
   "source": [
    "# new_df.to_csv('../../output/tmp/dup_sample_names.csv')"
   ]
  },
  {
   "cell_type": "markdown",
   "metadata": {},
   "source": [
    "## import all samples into db"
   ]
  },
  {
   "cell_type": "code",
   "execution_count": 37,
   "metadata": {},
   "outputs": [],
   "source": [
    "import math"
   ]
  },
  {
   "cell_type": "code",
   "execution_count": 39,
   "metadata": {},
   "outputs": [],
   "source": [
    "for clean_data_path in clean_data_paths:\n",
    "    raw_csvs = glob.glob(f\"{clean_data_path}/*.csv\")\n",
    "\n",
    "    for path in raw_csvs:\n",
    "        filename = path.split('/')[2]\n",
    "        content = pd.read_csv(path)\n",
    "\n",
    "        for index, row in content.iterrows():\n",
    "             if type(row['Sample']) is str and (type(row['Top [cm]']) is int or type(row['Top [cm]']) is float):\n",
    "\n",
    "                 top =  0 if math.isnan(row['Top [cm]']) else row['Top [cm]']\n",
    "                 sample = row['Sample'].strip()\n",
    "                 sql = f\"INSERT INTO staging.samples (name,top,bottom,top_depth,bottom_depth, created_at, data_source_notes)  VALUES (\\'{sample}\\', {top} , {row['Bottom [cm]']} , {row['Top Depth [m]']} ,{row['Bottom Depth [m]']}, now(), \\'{filename}\\');\"\n",
    "                 db.execute(sql);\n",
    "             else:\n",
    "                print(row['Sample'], row['Top [cm]'], row['Bottom [cm]'], row['Top Depth [m]'], row['Bottom Depth [m]'], path )\n",
    "\n",
    "\n",
    "print('done')\n"
   ]
  },
  {
   "cell_type": "markdown",
   "metadata": {},
   "source": [
    "# check taxa files have unique values"
   ]
  },
  {
   "cell_type": "code",
   "execution_count": 4,
   "metadata": {},
   "outputs": [],
   "source": []
  },
  {
   "cell_type": "code",
   "execution_count": 5,
   "metadata": {},
   "outputs": [
    {
     "data": {
      "text/plain": [
       "(4676, 2)"
      ]
     },
     "execution_count": 5,
     "metadata": {},
     "output_type": "execute_result"
    }
   ],
   "source": [
    "df = pd.read_csv(taxa_list_file, usecols=['normalized_name', 'taxon_group'])\n",
    "df.shape\n",
    "# 4676"
   ]
  },
  {
   "cell_type": "code",
   "execution_count": 6,
   "metadata": {},
   "outputs": [
    {
     "data": {
      "text/html": [
       "<div>\n",
       "<style scoped>\n",
       "    .dataframe tbody tr th:only-of-type {\n",
       "        vertical-align: middle;\n",
       "    }\n",
       "\n",
       "    .dataframe tbody tr th {\n",
       "        vertical-align: top;\n",
       "    }\n",
       "\n",
       "    .dataframe thead th {\n",
       "        text-align: right;\n",
       "    }\n",
       "</style>\n",
       "<table border=\"1\" class=\"dataframe\">\n",
       "  <thead>\n",
       "    <tr style=\"text-align: right;\">\n",
       "      <th></th>\n",
       "      <th>normalized_name</th>\n",
       "      <th>taxon_group</th>\n",
       "    </tr>\n",
       "  </thead>\n",
       "  <tbody>\n",
       "  </tbody>\n",
       "</table>\n",
       "</div>"
      ],
      "text/plain": [
       "Empty DataFrame\n",
       "Columns: [normalized_name, taxon_group]\n",
       "Index: []"
      ]
     },
     "execution_count": 6,
     "metadata": {},
     "output_type": "execute_result"
    }
   ],
   "source": [
    "df[df.duplicated(subset=['normalized_name', 'taxon_group'])]"
   ]
  },
  {
   "cell_type": "code",
   "execution_count": 8,
   "metadata": {},
   "outputs": [
    {
     "data": {
      "text/plain": [
       "(5264, 4)"
      ]
     },
     "execution_count": 8,
     "metadata": {},
     "output_type": "execute_result"
    }
   ],
   "source": [
    "df2 = pd.read_csv(taxa_crosswalk_list_file, usecols=['normalized_name', 'taxon_group', 'verbatim_name','eodp_id'])\n",
    "df2.shape\n",
    "# 5264"
   ]
  },
  {
   "cell_type": "code",
   "execution_count": 9,
   "metadata": {},
   "outputs": [
    {
     "data": {
      "text/html": [
       "<div>\n",
       "<style scoped>\n",
       "    .dataframe tbody tr th:only-of-type {\n",
       "        vertical-align: middle;\n",
       "    }\n",
       "\n",
       "    .dataframe tbody tr th {\n",
       "        vertical-align: top;\n",
       "    }\n",
       "\n",
       "    .dataframe thead th {\n",
       "        text-align: right;\n",
       "    }\n",
       "</style>\n",
       "<table border=\"1\" class=\"dataframe\">\n",
       "  <thead>\n",
       "    <tr style=\"text-align: right;\">\n",
       "      <th></th>\n",
       "      <th>normalized_name</th>\n",
       "      <th>taxon_group</th>\n",
       "      <th>verbatim_name</th>\n",
       "      <th>eodp_id</th>\n",
       "    </tr>\n",
       "  </thead>\n",
       "  <tbody>\n",
       "  </tbody>\n",
       "</table>\n",
       "</div>"
      ],
      "text/plain": [
       "Empty DataFrame\n",
       "Columns: [normalized_name, taxon_group, verbatim_name, eodp_id]\n",
       "Index: []"
      ]
     },
     "execution_count": 9,
     "metadata": {},
     "output_type": "execute_result"
    }
   ],
   "source": [
    "df2[df2.duplicated(subset=['normalized_name', 'taxon_group', 'verbatim_name'])]"
   ]
  },
  {
   "cell_type": "code",
   "execution_count": 4,
   "metadata": {},
   "outputs": [
    {
     "data": {
      "text/plain": [
       "5263"
      ]
     },
     "execution_count": 4,
     "metadata": {},
     "output_type": "execute_result"
    }
   ],
   "source": [
    "sql = \"\"\"\n",
    "SELECT * FROM taxa_crosswalk \n",
    "JOIN taxa on taxa.id = taxa_crosswalk.taxon_id \n",
    "\n",
    "\"\"\"\n",
    "rows = db.fetch_all(sql)\n",
    "data = []\n",
    "for row in rows:\n",
    "    data.append({\n",
    "        'normalized_name': row['name'], \n",
    "        'taxon_group': row['taxon_group'],\n",
    "        'verbatim_name': row['original_name'],\n",
    "        'eodp_id': row['eodp_id']\n",
    "        \n",
    "    })\n",
    "\n",
    "\n",
    "len(data)"
   ]
  },
  {
   "cell_type": "code",
   "execution_count": 32,
   "metadata": {},
   "outputs": [
    {
     "data": {
      "text/html": [
       "<div>\n",
       "<style scoped>\n",
       "    .dataframe tbody tr th:only-of-type {\n",
       "        vertical-align: middle;\n",
       "    }\n",
       "\n",
       "    .dataframe tbody tr th {\n",
       "        vertical-align: top;\n",
       "    }\n",
       "\n",
       "    .dataframe thead th {\n",
       "        text-align: right;\n",
       "    }\n",
       "</style>\n",
       "<table border=\"1\" class=\"dataframe\">\n",
       "  <thead>\n",
       "    <tr style=\"text-align: right;\">\n",
       "      <th></th>\n",
       "      <th>normalized_name</th>\n",
       "      <th>taxon_group</th>\n",
       "      <th>verbatim_name</th>\n",
       "      <th>eodp_id</th>\n",
       "    </tr>\n",
       "  </thead>\n",
       "  <tbody>\n",
       "    <tr>\n",
       "      <th>0</th>\n",
       "      <td>Euuvigerina miozea</td>\n",
       "      <td>benthic_forams</td>\n",
       "      <td>Euuvigerina miozea (group) &gt;100 m</td>\n",
       "      <td>0</td>\n",
       "    </tr>\n",
       "    <tr>\n",
       "      <th>1</th>\n",
       "      <td>Euuvigerina rodleyi</td>\n",
       "      <td>benthic_forams</td>\n",
       "      <td>Euuvigerina rodleyi (group) &gt;50 m</td>\n",
       "      <td>1</td>\n",
       "    </tr>\n",
       "    <tr>\n",
       "      <th>2</th>\n",
       "      <td>Foraminifera indet.</td>\n",
       "      <td>benthic_forams</td>\n",
       "      <td>Others</td>\n",
       "      <td>2</td>\n",
       "    </tr>\n",
       "    <tr>\n",
       "      <th>3</th>\n",
       "      <td>Pleurostomellidae indet.</td>\n",
       "      <td>benthic_forams</td>\n",
       "      <td>Pleurostomellids comment</td>\n",
       "      <td>3</td>\n",
       "    </tr>\n",
       "    <tr>\n",
       "      <th>4</th>\n",
       "      <td>Ostracoda indet.</td>\n",
       "      <td>benthic_forams</td>\n",
       "      <td>Ostracoda spp.</td>\n",
       "      <td>4</td>\n",
       "    </tr>\n",
       "  </tbody>\n",
       "</table>\n",
       "</div>"
      ],
      "text/plain": [
       "            normalized_name     taxon_group  \\\n",
       "0        Euuvigerina miozea  benthic_forams   \n",
       "1       Euuvigerina rodleyi  benthic_forams   \n",
       "2       Foraminifera indet.  benthic_forams   \n",
       "3  Pleurostomellidae indet.  benthic_forams   \n",
       "4          Ostracoda indet.  benthic_forams   \n",
       "\n",
       "                       verbatim_name  eodp_id  \n",
       "0  Euuvigerina miozea (group) >100 m        0  \n",
       "1  Euuvigerina rodleyi (group) >50 m        1  \n",
       "2                             Others        2  \n",
       "3           Pleurostomellids comment        3  \n",
       "4                     Ostracoda spp.        4  "
      ]
     },
     "execution_count": 32,
     "metadata": {},
     "output_type": "execute_result"
    }
   ],
   "source": [
    "db_df = pd.DataFrame(data)\n",
    "db_df.head()"
   ]
  },
  {
   "cell_type": "code",
   "execution_count": 33,
   "metadata": {},
   "outputs": [
    {
     "data": {
      "text/plain": [
       "{3680}"
      ]
     },
     "execution_count": 33,
     "metadata": {},
     "output_type": "execute_result"
    }
   ],
   "source": [
    "set(df2['eodp_id']) - set (db_df['eodp_id'])"
   ]
  },
  {
   "cell_type": "code",
   "execution_count": 34,
   "metadata": {},
   "outputs": [
    {
     "data": {
      "text/plain": [
       "set()"
      ]
     },
     "execution_count": 34,
     "metadata": {},
     "output_type": "execute_result"
    }
   ],
   "source": [
    "set(db_df['eodp_id']) - set (df2['eodp_id'])"
   ]
  },
  {
   "cell_type": "markdown",
   "metadata": {},
   "source": [
    "# check additional species are imported"
   ]
  },
  {
   "cell_type": "code",
   "execution_count": 22,
   "metadata": {},
   "outputs": [
    {
     "name": "stdout",
     "output_type": "stream",
     "text": [
      "(31, 77)\n"
     ]
    },
    {
     "data": {
      "text/html": [
       "<div>\n",
       "<style scoped>\n",
       "    .dataframe tbody tr th:only-of-type {\n",
       "        vertical-align: middle;\n",
       "    }\n",
       "\n",
       "    .dataframe tbody tr th {\n",
       "        vertical-align: top;\n",
       "    }\n",
       "\n",
       "    .dataframe thead th {\n",
       "        text-align: right;\n",
       "    }\n",
       "</style>\n",
       "<table border=\"1\" class=\"dataframe\">\n",
       "  <thead>\n",
       "    <tr style=\"text-align: right;\">\n",
       "      <th></th>\n",
       "      <th>Sample</th>\n",
       "      <th>Top [cm]</th>\n",
       "      <th>Bottom [cm]</th>\n",
       "      <th>Top Depth [m]</th>\n",
       "      <th>Bottom Depth [m]</th>\n",
       "      <th>Zone name</th>\n",
       "      <th>Preservation</th>\n",
       "      <th>Group Abundance</th>\n",
       "      <th>Antarctissa cylindrica</th>\n",
       "      <th>Cycladophora pliocenica</th>\n",
       "      <th>...</th>\n",
       "      <th>Gondwanaria dogieli</th>\n",
       "      <th>Plagiacanthidae indet.</th>\n",
       "      <th>Litharachnium tentorium</th>\n",
       "      <th>Streblacantha circumtexta</th>\n",
       "      <th>Eucyrtidium teuscheri</th>\n",
       "      <th>Verticillata hexacantha</th>\n",
       "      <th>Cypassis irregularis</th>\n",
       "      <th>Prunopyle antarctica</th>\n",
       "      <th>Lithomelissa sp. A</th>\n",
       "      <th>Larcopyle buetschlii</th>\n",
       "    </tr>\n",
       "  </thead>\n",
       "  <tbody>\n",
       "    <tr>\n",
       "      <th>0</th>\n",
       "      <td>374-U1525A-1H-1-IW_MUDLINE</td>\n",
       "      <td>0</td>\n",
       "      <td>0</td>\n",
       "      <td>0</td>\n",
       "      <td>0</td>\n",
       "      <td>NaN</td>\n",
       "      <td>G</td>\n",
       "      <td>A</td>\n",
       "      <td>NaN</td>\n",
       "      <td>NaN</td>\n",
       "      <td>...</td>\n",
       "      <td>Indeterminate due to data source</td>\n",
       "      <td>Indeterminate due to data source</td>\n",
       "      <td>Indeterminate due to data source</td>\n",
       "      <td>Indeterminate due to data source</td>\n",
       "      <td>Indeterminate due to data source</td>\n",
       "      <td>Indeterminate due to data source</td>\n",
       "      <td>Indeterminate due to data source</td>\n",
       "      <td>Indeterminate due to data source</td>\n",
       "      <td>NaN</td>\n",
       "      <td>NaN</td>\n",
       "    </tr>\n",
       "    <tr>\n",
       "      <th>1</th>\n",
       "      <td>374-U1525A-1H-CC-PAL-RADS</td>\n",
       "      <td>0</td>\n",
       "      <td>5</td>\n",
       "      <td>8.57</td>\n",
       "      <td>8.62</td>\n",
       "      <td>NaN</td>\n",
       "      <td>P</td>\n",
       "      <td>B</td>\n",
       "      <td>NaN</td>\n",
       "      <td>NaN</td>\n",
       "      <td>...</td>\n",
       "      <td>NaN</td>\n",
       "      <td>NaN</td>\n",
       "      <td>NaN</td>\n",
       "      <td>NaN</td>\n",
       "      <td>NaN</td>\n",
       "      <td>NaN</td>\n",
       "      <td>NaN</td>\n",
       "      <td>NaN</td>\n",
       "      <td>NaN</td>\n",
       "      <td>NaN</td>\n",
       "    </tr>\n",
       "    <tr>\n",
       "      <th>2</th>\n",
       "      <td>374-U1525A-2H-CC-PAL-RADS</td>\n",
       "      <td>0</td>\n",
       "      <td>5</td>\n",
       "      <td>18.72</td>\n",
       "      <td>18.77</td>\n",
       "      <td>NaN</td>\n",
       "      <td>P</td>\n",
       "      <td>Tr</td>\n",
       "      <td>NaN</td>\n",
       "      <td>NaN</td>\n",
       "      <td>...</td>\n",
       "      <td>NaN</td>\n",
       "      <td>NaN</td>\n",
       "      <td>NaN</td>\n",
       "      <td>NaN</td>\n",
       "      <td>NaN</td>\n",
       "      <td>NaN</td>\n",
       "      <td>NaN</td>\n",
       "      <td>NaN</td>\n",
       "      <td>NaN</td>\n",
       "      <td>NaN</td>\n",
       "    </tr>\n",
       "    <tr>\n",
       "      <th>3</th>\n",
       "      <td>374-U1525A-3H-CC-PAL-RADS</td>\n",
       "      <td>0</td>\n",
       "      <td>5</td>\n",
       "      <td>28.16</td>\n",
       "      <td>28.21</td>\n",
       "      <td>NaN</td>\n",
       "      <td>P</td>\n",
       "      <td>Tr</td>\n",
       "      <td>NaN</td>\n",
       "      <td>NaN</td>\n",
       "      <td>...</td>\n",
       "      <td>NaN</td>\n",
       "      <td>NaN</td>\n",
       "      <td>NaN</td>\n",
       "      <td>NaN</td>\n",
       "      <td>NaN</td>\n",
       "      <td>NaN</td>\n",
       "      <td>NaN</td>\n",
       "      <td>NaN</td>\n",
       "      <td>NaN</td>\n",
       "      <td>NaN</td>\n",
       "    </tr>\n",
       "    <tr>\n",
       "      <th>4</th>\n",
       "      <td>374-U1525A-4H-CC-PAL-RADS</td>\n",
       "      <td>0</td>\n",
       "      <td>5</td>\n",
       "      <td>28.86</td>\n",
       "      <td>28.91</td>\n",
       "      <td>&gt; 0.65 (LAD A. cylindrica)</td>\n",
       "      <td>M</td>\n",
       "      <td>Tr</td>\n",
       "      <td>X</td>\n",
       "      <td>NaN</td>\n",
       "      <td>...</td>\n",
       "      <td>NaN</td>\n",
       "      <td>NaN</td>\n",
       "      <td>NaN</td>\n",
       "      <td>NaN</td>\n",
       "      <td>NaN</td>\n",
       "      <td>NaN</td>\n",
       "      <td>NaN</td>\n",
       "      <td>NaN</td>\n",
       "      <td>NaN</td>\n",
       "      <td>NaN</td>\n",
       "    </tr>\n",
       "  </tbody>\n",
       "</table>\n",
       "<p>5 rows × 77 columns</p>\n",
       "</div>"
      ],
      "text/plain": [
       "                       Sample Top [cm] Bottom [cm] Top Depth [m]  \\\n",
       "0  374-U1525A-1H-1-IW_MUDLINE        0           0             0   \n",
       "1   374-U1525A-1H-CC-PAL-RADS        0           5          8.57   \n",
       "2   374-U1525A-2H-CC-PAL-RADS        0           5         18.72   \n",
       "3   374-U1525A-3H-CC-PAL-RADS        0           5         28.16   \n",
       "4   374-U1525A-4H-CC-PAL-RADS        0           5         28.86   \n",
       "\n",
       "  Bottom Depth [m]                   Zone name Preservation Group Abundance  \\\n",
       "0                0                         NaN            G               A   \n",
       "1             8.62                         NaN            P               B   \n",
       "2            18.77                         NaN            P              Tr   \n",
       "3            28.21                         NaN            P              Tr   \n",
       "4            28.91  > 0.65 (LAD A. cylindrica)            M              Tr   \n",
       "\n",
       "  Antarctissa cylindrica Cycladophora pliocenica  ...  \\\n",
       "0                    NaN                     NaN  ...   \n",
       "1                    NaN                     NaN  ...   \n",
       "2                    NaN                     NaN  ...   \n",
       "3                    NaN                     NaN  ...   \n",
       "4                      X                     NaN  ...   \n",
       "\n",
       "                Gondwanaria dogieli            Plagiacanthidae indet.  \\\n",
       "0  Indeterminate due to data source  Indeterminate due to data source   \n",
       "1                               NaN                               NaN   \n",
       "2                               NaN                               NaN   \n",
       "3                               NaN                               NaN   \n",
       "4                               NaN                               NaN   \n",
       "\n",
       "            Litharachnium tentorium         Streblacantha circumtexta  \\\n",
       "0  Indeterminate due to data source  Indeterminate due to data source   \n",
       "1                               NaN                               NaN   \n",
       "2                               NaN                               NaN   \n",
       "3                               NaN                               NaN   \n",
       "4                               NaN                               NaN   \n",
       "\n",
       "              Eucyrtidium teuscheri           Verticillata hexacantha  \\\n",
       "0  Indeterminate due to data source  Indeterminate due to data source   \n",
       "1                               NaN                               NaN   \n",
       "2                               NaN                               NaN   \n",
       "3                               NaN                               NaN   \n",
       "4                               NaN                               NaN   \n",
       "\n",
       "               Cypassis irregularis              Prunopyle antarctica  \\\n",
       "0  Indeterminate due to data source  Indeterminate due to data source   \n",
       "1                               NaN                               NaN   \n",
       "2                               NaN                               NaN   \n",
       "3                               NaN                               NaN   \n",
       "4                               NaN                               NaN   \n",
       "\n",
       "  Lithomelissa sp. A Larcopyle buetschlii  \n",
       "0                NaN                  NaN  \n",
       "1                NaN                  NaN  \n",
       "2                NaN                  NaN  \n",
       "3                NaN                  NaN  \n",
       "4                NaN                  NaN  \n",
       "\n",
       "[5 rows x 77 columns]"
      ]
     },
     "execution_count": 22,
     "metadata": {},
     "output_type": "execute_result"
    }
   ],
   "source": [
    "path = CLEAN_DATA_DIR/'LIMS/Micropal_CSV_2/374_U1525A_radiolarians.csv'\n",
    "df = pd.read_csv(path, dtype=str)\n",
    "df = df.dropna(axis=1, how=\"all\")\n",
    "\n",
    "log_df(df)"
   ]
  },
  {
   "cell_type": "code",
   "execution_count": 23,
   "metadata": {},
   "outputs": [
    {
     "data": {
      "text/plain": [
       "Index(['Sample', 'Top [cm]', 'Bottom [cm]', 'Top Depth [m]',\n",
       "       'Bottom Depth [m]', 'Zone name', 'Preservation', 'Group Abundance',\n",
       "       'Antarctissa cylindrica', 'Cycladophora pliocenica',\n",
       "       'Triceraspyris antarctica', 'Eucyrtidium calvertense',\n",
       "       'Helotholus vema', 'Desmospyris spongiosa', 'Cycladophora davisiana',\n",
       "       'Ceratocyrtis mashae', 'Prunopyle hayesi', 'Actinomma popofskii',\n",
       "       'Acrosphaera? mercurius', 'Actinomma boreale', 'Actinomma delicatulum',\n",
       "       'Actinomma leptodermum', 'Actinomma leptodernum longispinum',\n",
       "       'Antarctissa denticulata', 'Antarctissa strelkovi',\n",
       "       'Cenosphaera cristata', 'Ceratocyrtis spp.', 'Cornutella profunda',\n",
       "       'Cycladophora bicornis', 'Druppatractus hastatus',\n",
       "       'Enneaphormis rotula', 'Eucyrtidium inflatum',\n",
       "       'Hexacontium pachydermum', 'Larcopyle pylomaticus',\n",
       "       'Larcopyle weddellium', 'Lithelius nautiloides', 'Lithelius sp. A',\n",
       "       'Mitrocalpis araneafera', 'Peripyramis circumtexta',\n",
       "       'Phormacantha hystrix/Plectacantha oikiskos group',\n",
       "       'Phormostichoartus corbula', 'Pseudodictyophimus gracilipes',\n",
       "       'Saccospyris antarctica', 'Saccospyris conithorax',\n",
       "       'Saccospyris praeantarctica', 'Spongopyle osculosa',\n",
       "       'Spongotrochus glacialis', 'Spongotrochus sp. A Abelmann',\n",
       "       'Sphaeropyle robusta', 'Prunopyle tetrapila', 'Stylatractus neptunus',\n",
       "       'Stylochlamidium  venustum', 'Stylodictya spp.', 'Trisulcus nana',\n",
       "       'Comments', 'ADDITIONAL SPECIES', 'Exp', 'Site', 'Hole', 'Core', 'Type',\n",
       "       'Section', 'A/W', 'eodp_id', 'Lonchosphaera spicata', 'Poulpus spp.',\n",
       "       'Lithostrobus cuspidatus', 'Gondwanaria dogieli',\n",
       "       'Plagiacanthidae indet.', 'Litharachnium tentorium',\n",
       "       'Streblacantha circumtexta', 'Eucyrtidium teuscheri',\n",
       "       'Verticillata hexacantha', 'Cypassis irregularis',\n",
       "       'Prunopyle antarctica', 'Lithomelissa sp. A', 'Larcopyle buetschlii'],\n",
       "      dtype='object')"
      ]
     },
     "execution_count": 23,
     "metadata": {},
     "output_type": "execute_result"
    }
   ],
   "source": [
    "df.columns"
   ]
  },
  {
   "cell_type": "code",
   "execution_count": 24,
   "metadata": {},
   "outputs": [],
   "source": [
    "cols = [\n",
    "    'Antarctissa cylindrica', 'Cycladophora pliocenica',\n",
    "    'Triceraspyris antarctica', 'Eucyrtidium calvertense',\n",
    "    'Helotholus vema', 'Desmospyris spongiosa', 'Cycladophora davisiana',\n",
    "    'Ceratocyrtis mashae', 'Prunopyle hayesi', 'Actinomma popofskii',\n",
    "    'Acrosphaera? mercurius', 'Actinomma boreale', 'Actinomma delicatulum',\n",
    "    'Actinomma leptodermum', 'Actinomma leptodernum longispinum',\n",
    "    'Antarctissa denticulata', 'Antarctissa strelkovi',\n",
    "    'Cenosphaera cristata', 'Ceratocyrtis spp.', 'Cornutella profunda',\n",
    "    'Cycladophora bicornis', 'Druppatractus hastatus',\n",
    "    'Enneaphormis rotula', 'Eucyrtidium inflatum',\n",
    "    'Hexacontium pachydermum', 'Larcopyle pylomaticus',\n",
    "    'Larcopyle weddellium', 'Lithelius nautiloides', 'Lithelius sp. A',\n",
    "    'Mitrocalpis araneafera', 'Peripyramis circumtexta',\n",
    "    'Phormacantha hystrix/Plectacantha oikiskos group',\n",
    "    'Phormostichoartus corbula', 'Pseudodictyophimus gracilipes',\n",
    "    'Saccospyris antarctica', 'Saccospyris conithorax',\n",
    "    'Saccospyris praeantarctica', 'Spongopyle osculosa',\n",
    "    'Spongotrochus glacialis', 'Spongotrochus sp. A Abelmann',\n",
    "    'Sphaeropyle robusta', 'Prunopyle tetrapila', 'Stylatractus neptunus',\n",
    "    'Stylochlamidium  venustum', 'Stylodictya spp.', 'Trisulcus nana',\n",
    "    # 'ADDITIONAL SPECIES', \n",
    "]\n",
    "\n",
    "add_cols = [\n",
    "    'Lonchosphaera spicata', 'Poulpus spp.', 'Lithostrobus cuspidatus',\n",
    "    'Gondwanaria dogieli', 'Plagiacanthidae indet.',\n",
    "    'Litharachnium tentorium', 'Streblacantha circumtexta',\n",
    "    'Eucyrtidium teuscheri', 'Verticillata hexacantha',\n",
    "    'Cypassis irregularis', 'Prunopyle antarctica', 'Lithomelissa sp. A',\n",
    "    'Larcopyle buetschlii'\n",
    "]"
   ]
  },
  {
   "cell_type": "code",
   "execution_count": 25,
   "metadata": {},
   "outputs": [
    {
     "data": {
      "text/plain": [
       "114"
      ]
     },
     "execution_count": 25,
     "metadata": {},
     "output_type": "execute_result"
    }
   ],
   "source": [
    "data = []\n",
    "for index, row in df.iterrows():\n",
    "    for col in cols:\n",
    "        if pd.notna(row[col]):\n",
    "            data.append({'Sample': row['Sample'], 'code': row[col], 'taxon': col})\n",
    " \n",
    "len(data)"
   ]
  },
  {
   "cell_type": "code",
   "execution_count": 7,
   "metadata": {},
   "outputs": [
    {
     "data": {
      "text/plain": [
       "[114]"
      ]
     },
     "execution_count": 7,
     "metadata": {},
     "output_type": "execute_result"
    }
   ],
   "source": [
    "sql = \"\"\"\n",
    "SELECT count(*) \n",
    "FROM  samples_taxa\n",
    "WHERE (data_source_notes = 'LIMS/Micropal_CSV_2/374_U1525A_radiolarians.csv')\n",
    "AND (code != 'Indeterminate due to data source') \n",
    "\"\"\"\n",
    "\n",
    "db.fetch_one(sql)"
   ]
  },
  {
   "cell_type": "code",
   "execution_count": 26,
   "metadata": {},
   "outputs": [
    {
     "data": {
      "text/plain": [
       "17"
      ]
     },
     "execution_count": 26,
     "metadata": {},
     "output_type": "execute_result"
    }
   ],
   "source": [
    "data = []\n",
    "for index, row in df.iterrows():\n",
    "    for col in add_cols:\n",
    "        if pd.notna(row[col]):\n",
    "            data.append({'Sample': row['Sample'], 'code': row[col], 'taxon': col})\n",
    " \n",
    "len(data)"
   ]
  },
  {
   "cell_type": "code",
   "execution_count": 8,
   "metadata": {},
   "outputs": [
    {
     "data": {
      "text/plain": [
       "[17]"
      ]
     },
     "execution_count": 8,
     "metadata": {},
     "output_type": "execute_result"
    }
   ],
   "source": [
    "sql = \"\"\"\n",
    "SELECT count(*) \n",
    "FROM  samples_taxa\n",
    "WHERE (data_source_notes = 'LIMS/Micropal_CSV_2/374_U1525A_radiolarians.csv')\n",
    "AND (code = 'Indeterminate due to data source') \n",
    "\"\"\"\n",
    "\n",
    "db.fetch_one(sql)"
   ]
  },
  {
   "cell_type": "code",
   "execution_count": null,
   "metadata": {},
   "outputs": [],
   "source": []
  }
 ],
 "metadata": {
  "kernelspec": {
   "display_name": "Python 3 (ipykernel)",
   "language": "python",
   "name": "python3"
  },
  "language_info": {
   "codemirror_mode": {
    "name": "ipython",
    "version": 3
   },
   "file_extension": ".py",
   "mimetype": "text/x-python",
   "name": "python",
   "nbconvert_exporter": "python",
   "pygments_lexer": "ipython3",
   "version": "3.8.2"
  }
 },
 "nbformat": 4,
 "nbformat_minor": 4
}
