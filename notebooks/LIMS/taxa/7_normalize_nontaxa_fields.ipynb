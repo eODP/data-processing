{
 "cells": [
  {
   "cell_type": "markdown",
   "metadata": {},
   "source": [
    "# Normalize non-taxa fields"
   ]
  },
  {
   "cell_type": "markdown",
   "metadata": {},
   "source": [
    "Normalize the final list of non-taxa fields from eODP researchers."
   ]
  },
  {
   "cell_type": "code",
   "execution_count": 33,
   "metadata": {},
   "outputs": [],
   "source": [
    "import sys\n",
    "sys.path.append('../../../')\n",
    "import glob\n",
    "import re\n",
    "import os.path\n",
    "\n",
    "import pandas as pd\n",
    "import numpy as np\n",
    "\n",
    "from config import CLEAN_DATA_DIR, OUTPUT_DIR\n",
    "\n",
    "from scripts.normalize_data import (\n",
    "    csv_cleanup,\n",
    "\n",
    "    get_non_taxa_fields,\n",
    "    update_metadata\n",
    ")"
   ]
  },
  {
   "cell_type": "code",
   "execution_count": 18,
   "metadata": {},
   "outputs": [],
   "source": [
    "taxa_list_path = OUTPUT_DIR /'taxa'/'LIMS'/'PI_normalized_taxa_list_with_pbdb_2021-07-28.csv'\n",
    "normalized_fields_path =  OUTPUT_DIR/'normalized_data'/'eODP_unified_data_structure_2022_02_21.csv'\n",
    "metadata_file = OUTPUT_DIR/'metadata'/'LIMS'/'Micropal_changes.csv' \n",
    "clean_data_path = CLEAN_DATA_DIR"
   ]
  },
  {
   "cell_type": "markdown",
   "metadata": {},
   "source": [
    "## created grouped non taxa file"
   ]
  },
  {
   "cell_type": "code",
   "execution_count": 19,
   "metadata": {},
   "outputs": [],
   "source": [
    "dir_path = OUTPUT_DIR / 'taxa'/'draft'/'LIMS'\n"
   ]
  },
  {
   "cell_type": "code",
   "execution_count": 20,
   "metadata": {},
   "outputs": [
    {
     "data": {
      "text/html": [
       "<div>\n",
       "<style scoped>\n",
       "    .dataframe tbody tr th:only-of-type {\n",
       "        vertical-align: middle;\n",
       "    }\n",
       "\n",
       "    .dataframe tbody tr th {\n",
       "        vertical-align: top;\n",
       "    }\n",
       "\n",
       "    .dataframe thead th {\n",
       "        text-align: right;\n",
       "    }\n",
       "</style>\n",
       "<table border=\"1\" class=\"dataframe\">\n",
       "  <thead>\n",
       "    <tr style=\"text-align: right;\">\n",
       "      <th></th>\n",
       "      <th>final</th>\n",
       "      <th>original</th>\n",
       "    </tr>\n",
       "  </thead>\n",
       "  <tbody>\n",
       "    <tr>\n",
       "      <th>0</th>\n",
       "      <td>comment</td>\n",
       "      <td>Comments</td>\n",
       "    </tr>\n",
       "    <tr>\n",
       "      <th>1</th>\n",
       "      <td>comment</td>\n",
       "      <td>COMMENTS</td>\n",
       "    </tr>\n",
       "    <tr>\n",
       "      <th>2</th>\n",
       "      <td>comment</td>\n",
       "      <td>Comment</td>\n",
       "    </tr>\n",
       "    <tr>\n",
       "      <th>3</th>\n",
       "      <td>comment</td>\n",
       "      <td>General comment</td>\n",
       "    </tr>\n",
       "    <tr>\n",
       "      <th>4</th>\n",
       "      <td>comment</td>\n",
       "      <td>Sample comment</td>\n",
       "    </tr>\n",
       "  </tbody>\n",
       "</table>\n",
       "</div>"
      ],
      "text/plain": [
       "     final         original\n",
       "0  comment         Comments\n",
       "1  comment         COMMENTS\n",
       "2  comment          Comment\n",
       "3  comment  General comment\n",
       "4  comment   Sample comment"
      ]
     },
     "execution_count": 20,
     "metadata": {},
     "output_type": "execute_result"
    }
   ],
   "source": [
    "df = pd.read_csv(dir_path/'non_taxa_fields_normalized.csv')\n",
    "df.head()"
   ]
  },
  {
   "cell_type": "markdown",
   "metadata": {},
   "source": [
    "Group all variants of a non-taxa field into one row "
   ]
  },
  {
   "cell_type": "code",
   "execution_count": 21,
   "metadata": {},
   "outputs": [
    {
     "data": {
      "text/plain": [
       "148"
      ]
     },
     "execution_count": 21,
     "metadata": {},
     "output_type": "execute_result"
    }
   ],
   "source": [
    "df['original'] = df.groupby('final')['original'].transform(lambda col: '|'.join(col))\n",
    "df.size"
   ]
  },
  {
   "cell_type": "code",
   "execution_count": 22,
   "metadata": {},
   "outputs": [
    {
     "data": {
      "text/plain": [
       "106"
      ]
     },
     "execution_count": 22,
     "metadata": {},
     "output_type": "execute_result"
    }
   ],
   "source": [
    "df = df.drop_duplicates()\n",
    "df.size"
   ]
  },
  {
   "cell_type": "code",
   "execution_count": 23,
   "metadata": {},
   "outputs": [
    {
     "data": {
      "text/html": [
       "<div>\n",
       "<style scoped>\n",
       "    .dataframe tbody tr th:only-of-type {\n",
       "        vertical-align: middle;\n",
       "    }\n",
       "\n",
       "    .dataframe tbody tr th {\n",
       "        vertical-align: top;\n",
       "    }\n",
       "\n",
       "    .dataframe thead th {\n",
       "        text-align: right;\n",
       "    }\n",
       "</style>\n",
       "<table border=\"1\" class=\"dataframe\">\n",
       "  <thead>\n",
       "    <tr style=\"text-align: right;\">\n",
       "      <th></th>\n",
       "      <th>final</th>\n",
       "      <th>original</th>\n",
       "    </tr>\n",
       "  </thead>\n",
       "  <tbody>\n",
       "    <tr>\n",
       "      <th>0</th>\n",
       "      <td>comment</td>\n",
       "      <td>Comments|COMMENTS|Comment|General comment|Samp...</td>\n",
       "    </tr>\n",
       "    <tr>\n",
       "      <th>8</th>\n",
       "      <td>planktic foraminifera group abundance</td>\n",
       "      <td>PF Group Abundance|PF group abundance|% Plankt...</td>\n",
       "    </tr>\n",
       "    <tr>\n",
       "      <th>13</th>\n",
       "      <td>benthic foraminifera group abundance</td>\n",
       "      <td>Percentage of benthic forams in total foram as...</td>\n",
       "    </tr>\n",
       "    <tr>\n",
       "      <th>15</th>\n",
       "      <td>diatom group abundance</td>\n",
       "      <td>Diatom abundance|Diatoms group abundance</td>\n",
       "    </tr>\n",
       "    <tr>\n",
       "      <th>17</th>\n",
       "      <td>Diatoms and siliceous plankton comment</td>\n",
       "      <td>Diatoms and siliceous plankton comment</td>\n",
       "    </tr>\n",
       "  </tbody>\n",
       "</table>\n",
       "</div>"
      ],
      "text/plain": [
       "                                     final  \\\n",
       "0                                  comment   \n",
       "8    planktic foraminifera group abundance   \n",
       "13    benthic foraminifera group abundance   \n",
       "15                  diatom group abundance   \n",
       "17  Diatoms and siliceous plankton comment   \n",
       "\n",
       "                                             original  \n",
       "0   Comments|COMMENTS|Comment|General comment|Samp...  \n",
       "8   PF Group Abundance|PF group abundance|% Plankt...  \n",
       "13  Percentage of benthic forams in total foram as...  \n",
       "15           Diatom abundance|Diatoms group abundance  \n",
       "17             Diatoms and siliceous plankton comment  "
      ]
     },
     "execution_count": 23,
     "metadata": {},
     "output_type": "execute_result"
    }
   ],
   "source": [
    "df.head()"
   ]
  },
  {
   "cell_type": "code",
   "execution_count": 16,
   "metadata": {},
   "outputs": [],
   "source": [
    "df.to_csv(dir_path/'non_taxa_fields_normalized_grouped.csv', index=False)"
   ]
  },
  {
   "cell_type": "markdown",
   "metadata": {},
   "source": [
    "## Normalize non-taxa fields\n",
    "Use the normalized non taxa fields from the PIs to update the non-taxa fields in the data files."
   ]
  },
  {
   "cell_type": "code",
   "execution_count": 30,
   "metadata": {},
   "outputs": [
    {
     "data": {
      "text/html": [
       "<div>\n",
       "<style scoped>\n",
       "    .dataframe tbody tr th:only-of-type {\n",
       "        vertical-align: middle;\n",
       "    }\n",
       "\n",
       "    .dataframe tbody tr th {\n",
       "        vertical-align: top;\n",
       "    }\n",
       "\n",
       "    .dataframe thead th {\n",
       "        text-align: right;\n",
       "    }\n",
       "</style>\n",
       "<table border=\"1\" class=\"dataframe\">\n",
       "  <thead>\n",
       "    <tr style=\"text-align: right;\">\n",
       "      <th></th>\n",
       "      <th>file</th>\n",
       "      <th>path</th>\n",
       "      <th>taxon_group</th>\n",
       "      <th>add_expedition_section_cols</th>\n",
       "      <th>update_sample_col</th>\n",
       "      <th>update_top_bottom</th>\n",
       "      <th>add_missing_cols</th>\n",
       "      <th>clean_up_taxa_values</th>\n",
       "      <th>clean_up_taxa_metadata_values</th>\n",
       "      <th>normalize_non_taxa</th>\n",
       "    </tr>\n",
       "  </thead>\n",
       "  <tbody>\n",
       "    <tr>\n",
       "      <th>0</th>\n",
       "      <td>363-U1482A-Benthic_Forams.csv</td>\n",
       "      <td>LIMS/Micropal_CSV_1/363-U1482A-Benthic_Forams.csv</td>\n",
       "      <td>Benthic foraminifera</td>\n",
       "      <td>True</td>\n",
       "      <td>False</td>\n",
       "      <td>False</td>\n",
       "      <td>False</td>\n",
       "      <td>False</td>\n",
       "      <td>True</td>\n",
       "      <td>True</td>\n",
       "    </tr>\n",
       "    <tr>\n",
       "      <th>1</th>\n",
       "      <td>320_U1336A_Nannofossils_2.csv</td>\n",
       "      <td>LIMS/Micropal_CSV_1/320_U1336A_Nannofossils_2.csv</td>\n",
       "      <td>Calc nannos</td>\n",
       "      <td>False</td>\n",
       "      <td>True</td>\n",
       "      <td>False</td>\n",
       "      <td>False</td>\n",
       "      <td>False</td>\n",
       "      <td>False</td>\n",
       "      <td>True</td>\n",
       "    </tr>\n",
       "    <tr>\n",
       "      <th>2</th>\n",
       "      <td>375_U1518F_planktic_forams.csv</td>\n",
       "      <td>LIMS/Micropal_CSV_1/375_U1518F_planktic_forams...</td>\n",
       "      <td>Planktic foraminifera</td>\n",
       "      <td>True</td>\n",
       "      <td>False</td>\n",
       "      <td>False</td>\n",
       "      <td>False</td>\n",
       "      <td>False</td>\n",
       "      <td>False</td>\n",
       "      <td>True</td>\n",
       "    </tr>\n",
       "    <tr>\n",
       "      <th>3</th>\n",
       "      <td>320_U1334A_Nannofossils_1.csv</td>\n",
       "      <td>LIMS/Micropal_CSV_1/320_U1334A_Nannofossils_1.csv</td>\n",
       "      <td>Calc nannos</td>\n",
       "      <td>False</td>\n",
       "      <td>True</td>\n",
       "      <td>False</td>\n",
       "      <td>False</td>\n",
       "      <td>False</td>\n",
       "      <td>False</td>\n",
       "      <td>True</td>\n",
       "    </tr>\n",
       "    <tr>\n",
       "      <th>4</th>\n",
       "      <td>318_U1358B_Palynology.csv</td>\n",
       "      <td>LIMS/Micropal_CSV_1/318_U1358B_Palynology.csv</td>\n",
       "      <td>Palynology</td>\n",
       "      <td>False</td>\n",
       "      <td>True</td>\n",
       "      <td>False</td>\n",
       "      <td>False</td>\n",
       "      <td>False</td>\n",
       "      <td>False</td>\n",
       "      <td>True</td>\n",
       "    </tr>\n",
       "  </tbody>\n",
       "</table>\n",
       "</div>"
      ],
      "text/plain": [
       "                             file  \\\n",
       "0   363-U1482A-Benthic_Forams.csv   \n",
       "1   320_U1336A_Nannofossils_2.csv   \n",
       "2  375_U1518F_planktic_forams.csv   \n",
       "3   320_U1334A_Nannofossils_1.csv   \n",
       "4       318_U1358B_Palynology.csv   \n",
       "\n",
       "                                                path            taxon_group  \\\n",
       "0  LIMS/Micropal_CSV_1/363-U1482A-Benthic_Forams.csv   Benthic foraminifera   \n",
       "1  LIMS/Micropal_CSV_1/320_U1336A_Nannofossils_2.csv            Calc nannos   \n",
       "2  LIMS/Micropal_CSV_1/375_U1518F_planktic_forams...  Planktic foraminifera   \n",
       "3  LIMS/Micropal_CSV_1/320_U1334A_Nannofossils_1.csv            Calc nannos   \n",
       "4      LIMS/Micropal_CSV_1/318_U1358B_Palynology.csv             Palynology   \n",
       "\n",
       "   add_expedition_section_cols  update_sample_col  update_top_bottom  \\\n",
       "0                         True              False              False   \n",
       "1                        False               True              False   \n",
       "2                         True              False              False   \n",
       "3                        False               True              False   \n",
       "4                        False               True              False   \n",
       "\n",
       "   add_missing_cols  clean_up_taxa_values  clean_up_taxa_metadata_values  \\\n",
       "0             False                 False                           True   \n",
       "1             False                 False                          False   \n",
       "2             False                 False                          False   \n",
       "3             False                 False                          False   \n",
       "4             False                 False                          False   \n",
       "\n",
       "   normalize_non_taxa  \n",
       "0                True  \n",
       "1                True  \n",
       "2                True  \n",
       "3                True  \n",
       "4                True  "
      ]
     },
     "execution_count": 30,
     "metadata": {},
     "output_type": "execute_result"
    }
   ],
   "source": [
    "metadata = pd.read_csv(metadata_file)\n",
    "metadata.head()"
   ]
  },
  {
   "cell_type": "code",
   "execution_count": 25,
   "metadata": {},
   "outputs": [],
   "source": [
    "cols = ['normalized', 'taxa_317-present']\n",
    "non_taxa_df = pd.read_csv(normalized_fields_path, dtype=str, header=5, usecols=cols)\n"
   ]
  },
  {
   "cell_type": "code",
   "execution_count": 26,
   "metadata": {},
   "outputs": [],
   "source": [
    "\n",
    "non_taxa_dict = get_non_taxa_fields(non_taxa_df, 'taxa_317-present')\n",
    "non_taxa_list = set(non_taxa_dict.keys())"
   ]
  },
  {
   "cell_type": "code",
   "execution_count": 29,
   "metadata": {},
   "outputs": [],
   "source": [
    "def normalize_non_taxa(file):\n",
    "    path = f\"{clean_data_path}/{file}\"\n",
    "    content = pd.read_csv(path)\n",
    "    \n",
    "    nontaxa_cols = set(content.columns).intersection(non_taxa_list)\n",
    "    \n",
    "    rename_dict = {}\n",
    "    old_columns = list(content.columns)\n",
    "    for col in nontaxa_cols:\n",
    "        rename_dict[col] = non_taxa_dict[col]\n",
    "        \n",
    "    content.rename(columns = rename_dict, inplace=True)\n",
    "    \n",
    "    changed = list(content.columns) != list(old_columns)\n",
    "\n",
    "    if changed:\n",
    "        content = csv_cleanup(content, path)\n",
    "        content.to_csv(path, index=False)\n",
    "    return changed\n",
    "    \n",
    "change_columns = [normalize_non_taxa(file) for file in metadata['path']] "
   ]
  },
  {
   "cell_type": "code",
   "execution_count": 34,
   "metadata": {},
   "outputs": [
    {
     "data": {
      "text/html": [
       "<div>\n",
       "<style scoped>\n",
       "    .dataframe tbody tr th:only-of-type {\n",
       "        vertical-align: middle;\n",
       "    }\n",
       "\n",
       "    .dataframe tbody tr th {\n",
       "        vertical-align: top;\n",
       "    }\n",
       "\n",
       "    .dataframe thead th {\n",
       "        text-align: right;\n",
       "    }\n",
       "</style>\n",
       "<table border=\"1\" class=\"dataframe\">\n",
       "  <thead>\n",
       "    <tr style=\"text-align: right;\">\n",
       "      <th></th>\n",
       "      <th>file</th>\n",
       "      <th>path</th>\n",
       "      <th>taxon_group</th>\n",
       "      <th>add_expedition_section_cols</th>\n",
       "      <th>update_sample_col</th>\n",
       "      <th>update_top_bottom</th>\n",
       "      <th>add_missing_cols</th>\n",
       "      <th>clean_up_taxa_values</th>\n",
       "      <th>clean_up_taxa_metadata_values</th>\n",
       "      <th>normalize_non_taxa</th>\n",
       "    </tr>\n",
       "  </thead>\n",
       "  <tbody>\n",
       "    <tr>\n",
       "      <th>0</th>\n",
       "      <td>363-U1482A-Benthic_Forams.csv</td>\n",
       "      <td>LIMS/Micropal_CSV_1/363-U1482A-Benthic_Forams.csv</td>\n",
       "      <td>Benthic foraminifera</td>\n",
       "      <td>True</td>\n",
       "      <td>False</td>\n",
       "      <td>False</td>\n",
       "      <td>False</td>\n",
       "      <td>False</td>\n",
       "      <td>True</td>\n",
       "      <td>True</td>\n",
       "    </tr>\n",
       "    <tr>\n",
       "      <th>1</th>\n",
       "      <td>320_U1336A_Nannofossils_2.csv</td>\n",
       "      <td>LIMS/Micropal_CSV_1/320_U1336A_Nannofossils_2.csv</td>\n",
       "      <td>Calc nannos</td>\n",
       "      <td>False</td>\n",
       "      <td>True</td>\n",
       "      <td>False</td>\n",
       "      <td>False</td>\n",
       "      <td>False</td>\n",
       "      <td>False</td>\n",
       "      <td>True</td>\n",
       "    </tr>\n",
       "    <tr>\n",
       "      <th>2</th>\n",
       "      <td>375_U1518F_planktic_forams.csv</td>\n",
       "      <td>LIMS/Micropal_CSV_1/375_U1518F_planktic_forams...</td>\n",
       "      <td>Planktic foraminifera</td>\n",
       "      <td>True</td>\n",
       "      <td>False</td>\n",
       "      <td>False</td>\n",
       "      <td>False</td>\n",
       "      <td>False</td>\n",
       "      <td>False</td>\n",
       "      <td>True</td>\n",
       "    </tr>\n",
       "    <tr>\n",
       "      <th>3</th>\n",
       "      <td>320_U1334A_Nannofossils_1.csv</td>\n",
       "      <td>LIMS/Micropal_CSV_1/320_U1334A_Nannofossils_1.csv</td>\n",
       "      <td>Calc nannos</td>\n",
       "      <td>False</td>\n",
       "      <td>True</td>\n",
       "      <td>False</td>\n",
       "      <td>False</td>\n",
       "      <td>False</td>\n",
       "      <td>False</td>\n",
       "      <td>True</td>\n",
       "    </tr>\n",
       "    <tr>\n",
       "      <th>4</th>\n",
       "      <td>318_U1358B_Palynology.csv</td>\n",
       "      <td>LIMS/Micropal_CSV_1/318_U1358B_Palynology.csv</td>\n",
       "      <td>Palynology</td>\n",
       "      <td>False</td>\n",
       "      <td>True</td>\n",
       "      <td>False</td>\n",
       "      <td>False</td>\n",
       "      <td>False</td>\n",
       "      <td>False</td>\n",
       "      <td>True</td>\n",
       "    </tr>\n",
       "  </tbody>\n",
       "</table>\n",
       "</div>"
      ],
      "text/plain": [
       "                             file  \\\n",
       "0   363-U1482A-Benthic_Forams.csv   \n",
       "1   320_U1336A_Nannofossils_2.csv   \n",
       "2  375_U1518F_planktic_forams.csv   \n",
       "3   320_U1334A_Nannofossils_1.csv   \n",
       "4       318_U1358B_Palynology.csv   \n",
       "\n",
       "                                                path            taxon_group  \\\n",
       "0  LIMS/Micropal_CSV_1/363-U1482A-Benthic_Forams.csv   Benthic foraminifera   \n",
       "1  LIMS/Micropal_CSV_1/320_U1336A_Nannofossils_2.csv            Calc nannos   \n",
       "2  LIMS/Micropal_CSV_1/375_U1518F_planktic_forams...  Planktic foraminifera   \n",
       "3  LIMS/Micropal_CSV_1/320_U1334A_Nannofossils_1.csv            Calc nannos   \n",
       "4      LIMS/Micropal_CSV_1/318_U1358B_Palynology.csv             Palynology   \n",
       "\n",
       "   add_expedition_section_cols  update_sample_col  update_top_bottom  \\\n",
       "0                         True              False              False   \n",
       "1                        False               True              False   \n",
       "2                         True              False              False   \n",
       "3                        False               True              False   \n",
       "4                        False               True              False   \n",
       "\n",
       "   add_missing_cols  clean_up_taxa_values  clean_up_taxa_metadata_values  \\\n",
       "0             False                 False                           True   \n",
       "1             False                 False                          False   \n",
       "2             False                 False                          False   \n",
       "3             False                 False                          False   \n",
       "4             False                 False                          False   \n",
       "\n",
       "   normalize_non_taxa  \n",
       "0                True  \n",
       "1                True  \n",
       "2                True  \n",
       "3                True  \n",
       "4                True  "
      ]
     },
     "execution_count": 34,
     "metadata": {},
     "output_type": "execute_result"
    }
   ],
   "source": [
    "dict = {\"normalize_non_taxa\": change_columns}\n",
    "new_metadata = update_metadata(metadata, dict)\n",
    "new_metadata.head()"
   ]
  },
  {
   "cell_type": "code",
   "execution_count": null,
   "metadata": {},
   "outputs": [],
   "source": [
    "new_metadata.to_csv(metadata_file, index=False)"
   ]
  }
 ],
 "metadata": {
  "kernelspec": {
   "display_name": "Python 3",
   "language": "python",
   "name": "python3"
  },
  "language_info": {
   "codemirror_mode": {
    "name": "ipython",
    "version": 3
   },
   "file_extension": ".py",
   "mimetype": "text/x-python",
   "name": "python",
   "nbconvert_exporter": "python",
   "pygments_lexer": "ipython3",
   "version": "3.6.8"
  }
 },
 "nbformat": 4,
 "nbformat_minor": 4
}
