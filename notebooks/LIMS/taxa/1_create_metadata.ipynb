{
 "cells": [
  {
   "cell_type": "markdown",
   "metadata": {},
   "source": [
    "# Create Micropal metadata\n",
    "\n",
    "Create a metadata file to track the changes made to each data file."
   ]
  },
  {
   "cell_type": "code",
   "execution_count": 1,
   "metadata": {},
   "outputs": [],
   "source": [
    "import sys\n",
    "sys.path.append('../../../')\n",
    "import glob\n",
    "import re\n",
    "\n",
    "import pandas as pd\n",
    "\n",
    "from scripts.shared_utils import extract_taxon_group_from_filename\n",
    "from config import CLEAN_DATA_DIR, OUTPUT_DIR"
   ]
  },
  {
   "cell_type": "markdown",
   "metadata": {},
   "source": [
    "Create a list of all the files."
   ]
  },
  {
   "cell_type": "code",
   "execution_count": 2,
   "metadata": {},
   "outputs": [],
   "source": [
    "base_dir = CLEAN_DATA_DIR\n",
    "\n",
    "micropal_1 = base_dir/'LIMS'/'Micropal_CSV_1'\n",
    "micropal_2 = base_dir/'LIMS'/'Micropal_CSV_2'\n",
    "micropal_3 = base_dir/'LIMS'/'Micropal_CSV_3'\n",
    "micropal_4 = base_dir/'LIMS'/'Micropal_CSV_4'\n",
    "micropal_revised = base_dir/'LIMS'/'Micropal_CSV_revised'\n",
    "\n",
    "metadata_path = OUTPUT_DIR/'metadata'/'LIMS'/'Micropal_changes.csv'"
   ]
  },
  {
   "cell_type": "code",
   "execution_count": 3,
   "metadata": {},
   "outputs": [
    {
     "data": {
      "text/plain": [
       "1253"
      ]
     },
     "execution_count": 3,
     "metadata": {},
     "output_type": "execute_result"
    }
   ],
   "source": [
    "clean_csvs = []\n",
    "clean_csvs = clean_csvs + list(micropal_1.glob(\"*.csv\"))\n",
    "clean_csvs = clean_csvs + list(micropal_2.glob(\"*.csv\"))\n",
    "clean_csvs = clean_csvs + list(micropal_3.glob(\"*.csv\"))\n",
    "clean_csvs = clean_csvs + list(micropal_4.glob(\"*.csv\"))\n",
    "clean_csvs = clean_csvs + list(micropal_revised.glob(\"*.csv\"))\n",
    "\n",
    "len(clean_csvs)"
   ]
  },
  {
   "cell_type": "markdown",
   "metadata": {},
   "source": [
    "## create metadata"
   ]
  },
  {
   "cell_type": "markdown",
   "metadata": {},
   "source": [
    "Get all the taxon groups from the file names."
   ]
  },
  {
   "cell_type": "code",
   "execution_count": 4,
   "metadata": {},
   "outputs": [
    {
     "data": {
      "text/plain": [
       "{'benthic_forams',\n",
       " 'bolboformids',\n",
       " 'chrysophyte_cysts',\n",
       " 'diatoms',\n",
       " 'dinoflagellates',\n",
       " 'ebridians',\n",
       " 'nannofossil',\n",
       " 'nannofossils',\n",
       " 'nannofossils_revised',\n",
       " 'ostracods',\n",
       " 'other',\n",
       " 'palynology',\n",
       " 'planktic_forams',\n",
       " 'radiolarians',\n",
       " 'radiolarians_events',\n",
       " 'rads',\n",
       " 'silicoflagellates'}"
      ]
     },
     "execution_count": 4,
     "metadata": {},
     "output_type": "execute_result"
    }
   ],
   "source": [
    "raw_taxon_groups = set()\n",
    "\n",
    "for path in clean_csvs:\n",
    "    filename = path.name\n",
    "    group = extract_taxon_group_from_filename(filename)\n",
    "    raw_taxon_groups.add(group)\n",
    "    \n",
    "raw_taxon_groups"
   ]
  },
  {
   "cell_type": "markdown",
   "metadata": {},
   "source": [
    "Create metadata file with file paths and taxon groups."
   ]
  },
  {
   "cell_type": "code",
   "execution_count": 5,
   "metadata": {},
   "outputs": [],
   "source": [
    "taxon_groups = []\n",
    "filenames = []\n",
    "relative_paths = []\n",
    "\n",
    "groups = {\n",
    "    'benthic_forams': 'benthic_forams',\n",
    "    'bolboformids': 'bolboformids',\n",
    "    'chrysophyte_cysts': 'chrysophyte_cysts',\n",
    "    'diatoms': 'diatoms',\n",
    "    'dinoflagellates': 'dinoflagellates',\n",
    "    'ebridians': 'ebridians',\n",
    "    'nannofossil': 'nannofossils',\n",
    "    'nannofossils': 'nannofossils',\n",
    "    'nannofossils_revised': 'nannofossils',\n",
    "    'ostracods': 'ostracods',\n",
    "    'other': 'other',\n",
    "    'palynology': 'palynology',\n",
    "    'planktic_forams': 'planktic_forams',\n",
    "    'radiolarians': 'radiolarians',\n",
    "    'radiolarians_events': 'radiolarians',\n",
    "    'rads': 'radiolarians',\n",
    "    'silicoflagellates': 'silicoflagellates'\n",
    "}\n",
    "\n",
    "for path in clean_csvs:\n",
    "    df = pd.read_csv(path, dtype=str, nrows=1)\n",
    "    df = df.dropna(how=\"all\", axis=\"index\") \n",
    "    if len(df) == 0:\n",
    "        continue\n",
    "        \n",
    "    relative_path = path.relative_to(base_dir)\n",
    "    filename = path.name\n",
    "    raw_taxon_group = extract_taxon_group_from_filename(filename)\n",
    "    taxon_group = groups[raw_taxon_group]\n",
    "        \n",
    "    filenames.append(filename)\n",
    "    relative_paths.append(relative_path)\n",
    "    taxon_groups.append(taxon_group)"
   ]
  },
  {
   "cell_type": "code",
   "execution_count": 6,
   "metadata": {},
   "outputs": [
    {
     "data": {
      "text/plain": [
       "(1253, 3)"
      ]
     },
     "execution_count": 6,
     "metadata": {},
     "output_type": "execute_result"
    }
   ],
   "source": [
    "dict = {\"file\": filenames,\n",
    "        \"path\": relative_paths,\n",
    "       \"taxon_groups\": taxon_groups}\n",
    "\n",
    "metadata = pd.DataFrame(dict)\n",
    "metadata.shape"
   ]
  },
  {
   "cell_type": "code",
   "execution_count": 7,
   "metadata": {},
   "outputs": [
    {
     "data": {
      "text/html": [
       "<div>\n",
       "<style scoped>\n",
       "    .dataframe tbody tr th:only-of-type {\n",
       "        vertical-align: middle;\n",
       "    }\n",
       "\n",
       "    .dataframe tbody tr th {\n",
       "        vertical-align: top;\n",
       "    }\n",
       "\n",
       "    .dataframe thead th {\n",
       "        text-align: right;\n",
       "    }\n",
       "</style>\n",
       "<table border=\"1\" class=\"dataframe\">\n",
       "  <thead>\n",
       "    <tr style=\"text-align: right;\">\n",
       "      <th></th>\n",
       "      <th>file</th>\n",
       "      <th>path</th>\n",
       "      <th>taxon_groups</th>\n",
       "    </tr>\n",
       "  </thead>\n",
       "  <tbody>\n",
       "    <tr>\n",
       "      <th>0</th>\n",
       "      <td>363-U1482A-Benthic_Forams.csv</td>\n",
       "      <td>LIMS/Micropal_CSV_1/363-U1482A-Benthic_Forams.csv</td>\n",
       "      <td>benthic_forams</td>\n",
       "    </tr>\n",
       "    <tr>\n",
       "      <th>1</th>\n",
       "      <td>320_U1336A_Nannofossils_2.csv</td>\n",
       "      <td>LIMS/Micropal_CSV_1/320_U1336A_Nannofossils_2.csv</td>\n",
       "      <td>nannofossils</td>\n",
       "    </tr>\n",
       "    <tr>\n",
       "      <th>2</th>\n",
       "      <td>375_U1518F_planktic_forams.csv</td>\n",
       "      <td>LIMS/Micropal_CSV_1/375_U1518F_planktic_forams...</td>\n",
       "      <td>planktic_forams</td>\n",
       "    </tr>\n",
       "    <tr>\n",
       "      <th>3</th>\n",
       "      <td>320_U1334A_Nannofossils_1.csv</td>\n",
       "      <td>LIMS/Micropal_CSV_1/320_U1334A_Nannofossils_1.csv</td>\n",
       "      <td>nannofossils</td>\n",
       "    </tr>\n",
       "    <tr>\n",
       "      <th>4</th>\n",
       "      <td>318_U1358B_Palynology.csv</td>\n",
       "      <td>LIMS/Micropal_CSV_1/318_U1358B_Palynology.csv</td>\n",
       "      <td>palynology</td>\n",
       "    </tr>\n",
       "  </tbody>\n",
       "</table>\n",
       "</div>"
      ],
      "text/plain": [
       "                             file  \\\n",
       "0   363-U1482A-Benthic_Forams.csv   \n",
       "1   320_U1336A_Nannofossils_2.csv   \n",
       "2  375_U1518F_planktic_forams.csv   \n",
       "3   320_U1334A_Nannofossils_1.csv   \n",
       "4       318_U1358B_Palynology.csv   \n",
       "\n",
       "                                                path     taxon_groups  \n",
       "0  LIMS/Micropal_CSV_1/363-U1482A-Benthic_Forams.csv   benthic_forams  \n",
       "1  LIMS/Micropal_CSV_1/320_U1336A_Nannofossils_2.csv     nannofossils  \n",
       "2  LIMS/Micropal_CSV_1/375_U1518F_planktic_forams...  planktic_forams  \n",
       "3  LIMS/Micropal_CSV_1/320_U1334A_Nannofossils_1.csv     nannofossils  \n",
       "4      LIMS/Micropal_CSV_1/318_U1358B_Palynology.csv       palynology  "
      ]
     },
     "execution_count": 7,
     "metadata": {},
     "output_type": "execute_result"
    }
   ],
   "source": [
    "metadata.head()"
   ]
  },
  {
   "cell_type": "code",
   "execution_count": 8,
   "metadata": {},
   "outputs": [],
   "source": [
    "metadata.to_csv(metadata_path, index=False)"
   ]
  },
  {
   "cell_type": "code",
   "execution_count": null,
   "metadata": {},
   "outputs": [],
   "source": []
  }
 ],
 "metadata": {
  "kernelspec": {
   "display_name": "Python 3 (ipykernel)",
   "language": "python",
   "name": "python3"
  },
  "language_info": {
   "codemirror_mode": {
    "name": "ipython",
    "version": 3
   },
   "file_extension": ".py",
   "mimetype": "text/x-python",
   "name": "python",
   "nbconvert_exporter": "python",
   "pygments_lexer": "ipython3",
   "version": "3.8.2"
  }
 },
 "nbformat": 4,
 "nbformat_minor": 4
}
