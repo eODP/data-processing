{
 "cells": [
  {
   "cell_type": "markdown",
   "metadata": {},
   "source": [
    "# Normalize LIMS columns"
   ]
  },
  {
   "cell_type": "markdown",
   "metadata": {},
   "source": [
    "Normalize the columns for the eODP CSVs."
   ]
  },
  {
   "cell_type": "code",
   "execution_count": 1,
   "metadata": {},
   "outputs": [],
   "source": [
    "import sys\n",
    "sys.path.append('../../../')\n",
    "from pathlib import Path\n",
    "\n",
    "import pandas as pd\n",
    "import shutil\n",
    "\n",
    "from config import CLEAN_DATA_DIR, OUTPUT_DIR\n",
    "from scripts.normalize_data import (\n",
    "    normalize_sample_col, \n",
    "    normalize_expedition_section_cols, \n",
    "    csv_cleanup,\n",
    "    update_metadata,\n",
    "    fetch_unique_column_names,\n",
    "    append_set,\n",
    "    filter_existing_set,\n",
    "    normalize_columns,\n",
    "    add_missing_columns,\n",
    "    extract_sample_parts,\n",
    "    create_sample_name_for_row\n",
    ")"
   ]
  },
  {
   "cell_type": "code",
   "execution_count": 2,
   "metadata": {},
   "outputs": [],
   "source": [
    "base_dir = CLEAN_DATA_DIR\n",
    "\n",
    "metadata_file = OUTPUT_DIR/'metadata'/'LIMS'/'Micropal_changes.csv' \n",
    "\n"
   ]
  },
  {
   "cell_type": "code",
   "execution_count": 3,
   "metadata": {},
   "outputs": [],
   "source": [
    "def log_df(df, row_count=5):\n",
    "    print(df.shape)\n",
    "    return df.head(row_count)\n"
   ]
  },
  {
   "cell_type": "markdown",
   "metadata": {},
   "source": [
    "## check basic columns\n",
    "\n",
    "check if files have basic columns"
   ]
  },
  {
   "cell_type": "code",
   "execution_count": 33,
   "metadata": {},
   "outputs": [
    {
     "data": {
      "text/html": [
       "<div>\n",
       "<style scoped>\n",
       "    .dataframe tbody tr th:only-of-type {\n",
       "        vertical-align: middle;\n",
       "    }\n",
       "\n",
       "    .dataframe tbody tr th {\n",
       "        vertical-align: top;\n",
       "    }\n",
       "\n",
       "    .dataframe thead th {\n",
       "        text-align: right;\n",
       "    }\n",
       "</style>\n",
       "<table border=\"1\" class=\"dataframe\">\n",
       "  <thead>\n",
       "    <tr style=\"text-align: right;\">\n",
       "      <th></th>\n",
       "      <th>file</th>\n",
       "      <th>path</th>\n",
       "      <th>taxon_groups</th>\n",
       "      <th>change_file_encoding</th>\n",
       "      <th>remove_bad_characters</th>\n",
       "      <th>remove_empty_rows</th>\n",
       "      <th>remove_spaces</th>\n",
       "      <th>delete_duplicate_rows</th>\n",
       "      <th>delete_duplicate_columns</th>\n",
       "      <th>add_expedition_section_cols</th>\n",
       "      <th>update_sample_col</th>\n",
       "      <th>update_top_bottom</th>\n",
       "    </tr>\n",
       "  </thead>\n",
       "  <tbody>\n",
       "    <tr>\n",
       "      <th>0</th>\n",
       "      <td>363-U1482A-Benthic_Forams.csv</td>\n",
       "      <td>LIMS/Micropal_CSV_1/363-U1482A-Benthic_Forams.csv</td>\n",
       "      <td>benthic_forams</td>\n",
       "      <td>False</td>\n",
       "      <td>False</td>\n",
       "      <td>False</td>\n",
       "      <td>True</td>\n",
       "      <td>False</td>\n",
       "      <td>False</td>\n",
       "      <td>True</td>\n",
       "      <td>False</td>\n",
       "      <td>False</td>\n",
       "    </tr>\n",
       "    <tr>\n",
       "      <th>1</th>\n",
       "      <td>320_U1336A_Nannofossils_2.csv</td>\n",
       "      <td>LIMS/Micropal_CSV_1/320_U1336A_Nannofossils_2.csv</td>\n",
       "      <td>nannofossils</td>\n",
       "      <td>False</td>\n",
       "      <td>False</td>\n",
       "      <td>False</td>\n",
       "      <td>True</td>\n",
       "      <td>False</td>\n",
       "      <td>False</td>\n",
       "      <td>False</td>\n",
       "      <td>True</td>\n",
       "      <td>False</td>\n",
       "    </tr>\n",
       "    <tr>\n",
       "      <th>2</th>\n",
       "      <td>375_U1518F_planktic_forams.csv</td>\n",
       "      <td>LIMS/Micropal_CSV_1/375_U1518F_planktic_forams...</td>\n",
       "      <td>planktic_forams</td>\n",
       "      <td>False</td>\n",
       "      <td>False</td>\n",
       "      <td>False</td>\n",
       "      <td>True</td>\n",
       "      <td>False</td>\n",
       "      <td>False</td>\n",
       "      <td>True</td>\n",
       "      <td>False</td>\n",
       "      <td>False</td>\n",
       "    </tr>\n",
       "    <tr>\n",
       "      <th>3</th>\n",
       "      <td>320_U1334A_Nannofossils_1.csv</td>\n",
       "      <td>LIMS/Micropal_CSV_1/320_U1334A_Nannofossils_1.csv</td>\n",
       "      <td>nannofossils</td>\n",
       "      <td>False</td>\n",
       "      <td>False</td>\n",
       "      <td>False</td>\n",
       "      <td>True</td>\n",
       "      <td>False</td>\n",
       "      <td>False</td>\n",
       "      <td>False</td>\n",
       "      <td>True</td>\n",
       "      <td>False</td>\n",
       "    </tr>\n",
       "    <tr>\n",
       "      <th>4</th>\n",
       "      <td>318_U1358B_Palynology.csv</td>\n",
       "      <td>LIMS/Micropal_CSV_1/318_U1358B_Palynology.csv</td>\n",
       "      <td>palynology</td>\n",
       "      <td>False</td>\n",
       "      <td>False</td>\n",
       "      <td>False</td>\n",
       "      <td>False</td>\n",
       "      <td>False</td>\n",
       "      <td>False</td>\n",
       "      <td>False</td>\n",
       "      <td>True</td>\n",
       "      <td>False</td>\n",
       "    </tr>\n",
       "  </tbody>\n",
       "</table>\n",
       "</div>"
      ],
      "text/plain": [
       "                             file  \\\n",
       "0   363-U1482A-Benthic_Forams.csv   \n",
       "1   320_U1336A_Nannofossils_2.csv   \n",
       "2  375_U1518F_planktic_forams.csv   \n",
       "3   320_U1334A_Nannofossils_1.csv   \n",
       "4       318_U1358B_Palynology.csv   \n",
       "\n",
       "                                                path     taxon_groups  \\\n",
       "0  LIMS/Micropal_CSV_1/363-U1482A-Benthic_Forams.csv   benthic_forams   \n",
       "1  LIMS/Micropal_CSV_1/320_U1336A_Nannofossils_2.csv     nannofossils   \n",
       "2  LIMS/Micropal_CSV_1/375_U1518F_planktic_forams...  planktic_forams   \n",
       "3  LIMS/Micropal_CSV_1/320_U1334A_Nannofossils_1.csv     nannofossils   \n",
       "4      LIMS/Micropal_CSV_1/318_U1358B_Palynology.csv       palynology   \n",
       "\n",
       "   change_file_encoding  remove_bad_characters  remove_empty_rows  \\\n",
       "0                 False                  False              False   \n",
       "1                 False                  False              False   \n",
       "2                 False                  False              False   \n",
       "3                 False                  False              False   \n",
       "4                 False                  False              False   \n",
       "\n",
       "   remove_spaces  delete_duplicate_rows  delete_duplicate_columns  \\\n",
       "0           True                  False                     False   \n",
       "1           True                  False                     False   \n",
       "2           True                  False                     False   \n",
       "3           True                  False                     False   \n",
       "4          False                  False                     False   \n",
       "\n",
       "   add_expedition_section_cols  update_sample_col  update_top_bottom  \n",
       "0                         True              False              False  \n",
       "1                        False               True              False  \n",
       "2                         True              False              False  \n",
       "3                        False               True              False  \n",
       "4                        False               True              False  "
      ]
     },
     "execution_count": 33,
     "metadata": {},
     "output_type": "execute_result"
    }
   ],
   "source": [
    "metadata = pd.read_csv(metadata_file)\n",
    "metadata.head()"
   ]
  },
  {
   "cell_type": "code",
   "execution_count": 34,
   "metadata": {},
   "outputs": [
    {
     "data": {
      "text/plain": [
       "0"
      ]
     },
     "execution_count": 34,
     "metadata": {},
     "output_type": "execute_result"
    }
   ],
   "source": [
    "bad_files = set()\n",
    "for file in metadata['path']:     \n",
    "    \n",
    "    path = base_dir/file\n",
    "    df = pd.read_csv(path, dtype=str, nrows=0)\n",
    "    cols = df.columns\n",
    "    if ('Sample' in cols or 'Label ID' in cols) or (\n",
    "        'Exp' in cols\n",
    "        and 'Hole' in cols \n",
    "        and 'Site' in cols \n",
    "        and 'Core' in cols \n",
    "        and 'Type' in cols \n",
    "        and 'Section' in cols\n",
    "        ):\n",
    "        pass\n",
    "    else:\n",
    "        bad_files.add(path)\n",
    "        \n",
    "\n",
    "        \n",
    "len(bad_files)"
   ]
  },
  {
   "cell_type": "code",
   "execution_count": 35,
   "metadata": {},
   "outputs": [
    {
     "data": {
      "text/plain": [
       "set()"
      ]
     },
     "execution_count": 35,
     "metadata": {},
     "output_type": "execute_result"
    }
   ],
   "source": [
    "bad_files"
   ]
  },
  {
   "cell_type": "markdown",
   "metadata": {},
   "source": [
    "## Normalize expedition..section columns "
   ]
  },
  {
   "cell_type": "markdown",
   "metadata": {},
   "source": [
    "Read each Lithology CSV to check if expedition..section columns exist. Overwrite existing Lithology CSV if columns need to be added."
   ]
  },
  {
   "cell_type": "code",
   "execution_count": 4,
   "metadata": {},
   "outputs": [
    {
     "data": {
      "text/html": [
       "<div>\n",
       "<style scoped>\n",
       "    .dataframe tbody tr th:only-of-type {\n",
       "        vertical-align: middle;\n",
       "    }\n",
       "\n",
       "    .dataframe tbody tr th {\n",
       "        vertical-align: top;\n",
       "    }\n",
       "\n",
       "    .dataframe thead th {\n",
       "        text-align: right;\n",
       "    }\n",
       "</style>\n",
       "<table border=\"1\" class=\"dataframe\">\n",
       "  <thead>\n",
       "    <tr style=\"text-align: right;\">\n",
       "      <th></th>\n",
       "      <th>file</th>\n",
       "      <th>path</th>\n",
       "      <th>taxon_groups</th>\n",
       "      <th>change_file_encoding</th>\n",
       "      <th>remove_bad_characters</th>\n",
       "      <th>remove_empty_rows</th>\n",
       "      <th>remove_spaces</th>\n",
       "      <th>delete_duplicate_rows</th>\n",
       "      <th>delete_duplicate_columns</th>\n",
       "    </tr>\n",
       "  </thead>\n",
       "  <tbody>\n",
       "    <tr>\n",
       "      <th>0</th>\n",
       "      <td>363-U1482A-Benthic_Forams.csv</td>\n",
       "      <td>LIMS/Micropal_CSV_1/363-U1482A-Benthic_Forams.csv</td>\n",
       "      <td>benthic_forams</td>\n",
       "      <td>False</td>\n",
       "      <td>False</td>\n",
       "      <td>False</td>\n",
       "      <td>True</td>\n",
       "      <td>False</td>\n",
       "      <td>False</td>\n",
       "    </tr>\n",
       "    <tr>\n",
       "      <th>1</th>\n",
       "      <td>320_U1336A_Nannofossils_2.csv</td>\n",
       "      <td>LIMS/Micropal_CSV_1/320_U1336A_Nannofossils_2.csv</td>\n",
       "      <td>nannofossils</td>\n",
       "      <td>False</td>\n",
       "      <td>False</td>\n",
       "      <td>False</td>\n",
       "      <td>True</td>\n",
       "      <td>False</td>\n",
       "      <td>False</td>\n",
       "    </tr>\n",
       "    <tr>\n",
       "      <th>2</th>\n",
       "      <td>375_U1518F_planktic_forams.csv</td>\n",
       "      <td>LIMS/Micropal_CSV_1/375_U1518F_planktic_forams...</td>\n",
       "      <td>planktic_forams</td>\n",
       "      <td>False</td>\n",
       "      <td>False</td>\n",
       "      <td>False</td>\n",
       "      <td>True</td>\n",
       "      <td>False</td>\n",
       "      <td>False</td>\n",
       "    </tr>\n",
       "    <tr>\n",
       "      <th>3</th>\n",
       "      <td>320_U1334A_Nannofossils_1.csv</td>\n",
       "      <td>LIMS/Micropal_CSV_1/320_U1334A_Nannofossils_1.csv</td>\n",
       "      <td>nannofossils</td>\n",
       "      <td>False</td>\n",
       "      <td>False</td>\n",
       "      <td>False</td>\n",
       "      <td>True</td>\n",
       "      <td>False</td>\n",
       "      <td>False</td>\n",
       "    </tr>\n",
       "    <tr>\n",
       "      <th>4</th>\n",
       "      <td>318_U1358B_Palynology.csv</td>\n",
       "      <td>LIMS/Micropal_CSV_1/318_U1358B_Palynology.csv</td>\n",
       "      <td>palynology</td>\n",
       "      <td>False</td>\n",
       "      <td>False</td>\n",
       "      <td>False</td>\n",
       "      <td>False</td>\n",
       "      <td>False</td>\n",
       "      <td>False</td>\n",
       "    </tr>\n",
       "  </tbody>\n",
       "</table>\n",
       "</div>"
      ],
      "text/plain": [
       "                             file  \\\n",
       "0   363-U1482A-Benthic_Forams.csv   \n",
       "1   320_U1336A_Nannofossils_2.csv   \n",
       "2  375_U1518F_planktic_forams.csv   \n",
       "3   320_U1334A_Nannofossils_1.csv   \n",
       "4       318_U1358B_Palynology.csv   \n",
       "\n",
       "                                                path     taxon_groups  \\\n",
       "0  LIMS/Micropal_CSV_1/363-U1482A-Benthic_Forams.csv   benthic_forams   \n",
       "1  LIMS/Micropal_CSV_1/320_U1336A_Nannofossils_2.csv     nannofossils   \n",
       "2  LIMS/Micropal_CSV_1/375_U1518F_planktic_forams...  planktic_forams   \n",
       "3  LIMS/Micropal_CSV_1/320_U1334A_Nannofossils_1.csv     nannofossils   \n",
       "4      LIMS/Micropal_CSV_1/318_U1358B_Palynology.csv       palynology   \n",
       "\n",
       "   change_file_encoding  remove_bad_characters  remove_empty_rows  \\\n",
       "0                 False                  False              False   \n",
       "1                 False                  False              False   \n",
       "2                 False                  False              False   \n",
       "3                 False                  False              False   \n",
       "4                 False                  False              False   \n",
       "\n",
       "   remove_spaces  delete_duplicate_rows  delete_duplicate_columns  \n",
       "0           True                  False                     False  \n",
       "1           True                  False                     False  \n",
       "2           True                  False                     False  \n",
       "3           True                  False                     False  \n",
       "4          False                  False                     False  "
      ]
     },
     "execution_count": 4,
     "metadata": {},
     "output_type": "execute_result"
    }
   ],
   "source": [
    "metadata = pd.read_csv(metadata_file)\n",
    "metadata.head()"
   ]
  },
  {
   "cell_type": "code",
   "execution_count": 5,
   "metadata": {},
   "outputs": [
    {
     "data": {
      "text/plain": [
       "(1253, 9)"
      ]
     },
     "execution_count": 5,
     "metadata": {},
     "output_type": "execute_result"
    }
   ],
   "source": [
    "metadata.shape"
   ]
  },
  {
   "cell_type": "code",
   "execution_count": 7,
   "metadata": {},
   "outputs": [],
   "source": [
    "def process_filename(file):\n",
    "    path = base_dir/file\n",
    "    content = pd.read_csv(path, dtype=str)\n",
    "    \n",
    "    original_cols = content.columns\n",
    "    try:\n",
    "        content = normalize_expedition_section_cols(content)\n",
    "    except ValueError as err:\n",
    "        print(file, err)\n",
    "    changed = list(original_cols) != list(content.columns)\n",
    "\n",
    "        \n",
    "    if changed:\n",
    "        content = csv_cleanup(content, path)\n",
    "        content.to_csv(path, index=False)\n",
    "\n",
    "    return changed\n",
    "    \n",
    "change_columns = [process_filename(file) for file in metadata['path']] \n"
   ]
  },
  {
   "cell_type": "code",
   "execution_count": 10,
   "metadata": {},
   "outputs": [
    {
     "data": {
      "text/html": [
       "<div>\n",
       "<style scoped>\n",
       "    .dataframe tbody tr th:only-of-type {\n",
       "        vertical-align: middle;\n",
       "    }\n",
       "\n",
       "    .dataframe tbody tr th {\n",
       "        vertical-align: top;\n",
       "    }\n",
       "\n",
       "    .dataframe thead th {\n",
       "        text-align: right;\n",
       "    }\n",
       "</style>\n",
       "<table border=\"1\" class=\"dataframe\">\n",
       "  <thead>\n",
       "    <tr style=\"text-align: right;\">\n",
       "      <th></th>\n",
       "      <th>file</th>\n",
       "      <th>path</th>\n",
       "      <th>taxon_groups</th>\n",
       "      <th>change_file_encoding</th>\n",
       "      <th>remove_bad_characters</th>\n",
       "      <th>remove_empty_rows</th>\n",
       "      <th>remove_spaces</th>\n",
       "      <th>delete_duplicate_rows</th>\n",
       "      <th>delete_duplicate_columns</th>\n",
       "      <th>add_expedition_section_cols</th>\n",
       "    </tr>\n",
       "  </thead>\n",
       "  <tbody>\n",
       "    <tr>\n",
       "      <th>0</th>\n",
       "      <td>363-U1482A-Benthic_Forams.csv</td>\n",
       "      <td>LIMS/Micropal_CSV_1/363-U1482A-Benthic_Forams.csv</td>\n",
       "      <td>benthic_forams</td>\n",
       "      <td>False</td>\n",
       "      <td>False</td>\n",
       "      <td>False</td>\n",
       "      <td>True</td>\n",
       "      <td>False</td>\n",
       "      <td>False</td>\n",
       "      <td>True</td>\n",
       "    </tr>\n",
       "    <tr>\n",
       "      <th>1</th>\n",
       "      <td>320_U1336A_Nannofossils_2.csv</td>\n",
       "      <td>LIMS/Micropal_CSV_1/320_U1336A_Nannofossils_2.csv</td>\n",
       "      <td>nannofossils</td>\n",
       "      <td>False</td>\n",
       "      <td>False</td>\n",
       "      <td>False</td>\n",
       "      <td>True</td>\n",
       "      <td>False</td>\n",
       "      <td>False</td>\n",
       "      <td>False</td>\n",
       "    </tr>\n",
       "    <tr>\n",
       "      <th>2</th>\n",
       "      <td>375_U1518F_planktic_forams.csv</td>\n",
       "      <td>LIMS/Micropal_CSV_1/375_U1518F_planktic_forams...</td>\n",
       "      <td>planktic_forams</td>\n",
       "      <td>False</td>\n",
       "      <td>False</td>\n",
       "      <td>False</td>\n",
       "      <td>True</td>\n",
       "      <td>False</td>\n",
       "      <td>False</td>\n",
       "      <td>True</td>\n",
       "    </tr>\n",
       "    <tr>\n",
       "      <th>3</th>\n",
       "      <td>320_U1334A_Nannofossils_1.csv</td>\n",
       "      <td>LIMS/Micropal_CSV_1/320_U1334A_Nannofossils_1.csv</td>\n",
       "      <td>nannofossils</td>\n",
       "      <td>False</td>\n",
       "      <td>False</td>\n",
       "      <td>False</td>\n",
       "      <td>True</td>\n",
       "      <td>False</td>\n",
       "      <td>False</td>\n",
       "      <td>False</td>\n",
       "    </tr>\n",
       "    <tr>\n",
       "      <th>4</th>\n",
       "      <td>318_U1358B_Palynology.csv</td>\n",
       "      <td>LIMS/Micropal_CSV_1/318_U1358B_Palynology.csv</td>\n",
       "      <td>palynology</td>\n",
       "      <td>False</td>\n",
       "      <td>False</td>\n",
       "      <td>False</td>\n",
       "      <td>False</td>\n",
       "      <td>False</td>\n",
       "      <td>False</td>\n",
       "      <td>False</td>\n",
       "    </tr>\n",
       "  </tbody>\n",
       "</table>\n",
       "</div>"
      ],
      "text/plain": [
       "                             file  \\\n",
       "0   363-U1482A-Benthic_Forams.csv   \n",
       "1   320_U1336A_Nannofossils_2.csv   \n",
       "2  375_U1518F_planktic_forams.csv   \n",
       "3   320_U1334A_Nannofossils_1.csv   \n",
       "4       318_U1358B_Palynology.csv   \n",
       "\n",
       "                                                path     taxon_groups  \\\n",
       "0  LIMS/Micropal_CSV_1/363-U1482A-Benthic_Forams.csv   benthic_forams   \n",
       "1  LIMS/Micropal_CSV_1/320_U1336A_Nannofossils_2.csv     nannofossils   \n",
       "2  LIMS/Micropal_CSV_1/375_U1518F_planktic_forams...  planktic_forams   \n",
       "3  LIMS/Micropal_CSV_1/320_U1334A_Nannofossils_1.csv     nannofossils   \n",
       "4      LIMS/Micropal_CSV_1/318_U1358B_Palynology.csv       palynology   \n",
       "\n",
       "   change_file_encoding  remove_bad_characters  remove_empty_rows  \\\n",
       "0                 False                  False              False   \n",
       "1                 False                  False              False   \n",
       "2                 False                  False              False   \n",
       "3                 False                  False              False   \n",
       "4                 False                  False              False   \n",
       "\n",
       "   remove_spaces  delete_duplicate_rows  delete_duplicate_columns  \\\n",
       "0           True                  False                     False   \n",
       "1           True                  False                     False   \n",
       "2           True                  False                     False   \n",
       "3           True                  False                     False   \n",
       "4          False                  False                     False   \n",
       "\n",
       "   add_expedition_section_cols  \n",
       "0                         True  \n",
       "1                        False  \n",
       "2                         True  \n",
       "3                        False  \n",
       "4                        False  "
      ]
     },
     "execution_count": 10,
     "metadata": {},
     "output_type": "execute_result"
    }
   ],
   "source": [
    "dict = {\"add_expedition_section_cols\": change_columns}\n",
    "new_metadata = update_metadata(metadata, dict)\n",
    "new_metadata.head()"
   ]
  },
  {
   "cell_type": "code",
   "execution_count": 11,
   "metadata": {},
   "outputs": [],
   "source": [
    "new_metadata.to_csv(metadata_file, index=False)"
   ]
  },
  {
   "cell_type": "markdown",
   "metadata": {},
   "source": [
    "## Normalize Sample column"
   ]
  },
  {
   "cell_type": "markdown",
   "metadata": {},
   "source": [
    "Read each  CSV to check if Sample column needs to be updated. Change 'Label ID' to 'Sample'. Add 'Sample' if no 'Sample' or 'Label ID' based on expedition...section columns. Overwrite existing Lithology CSV if Sample column is updated."
   ]
  },
  {
   "cell_type": "code",
   "execution_count": 12,
   "metadata": {},
   "outputs": [
    {
     "data": {
      "text/html": [
       "<div>\n",
       "<style scoped>\n",
       "    .dataframe tbody tr th:only-of-type {\n",
       "        vertical-align: middle;\n",
       "    }\n",
       "\n",
       "    .dataframe tbody tr th {\n",
       "        vertical-align: top;\n",
       "    }\n",
       "\n",
       "    .dataframe thead th {\n",
       "        text-align: right;\n",
       "    }\n",
       "</style>\n",
       "<table border=\"1\" class=\"dataframe\">\n",
       "  <thead>\n",
       "    <tr style=\"text-align: right;\">\n",
       "      <th></th>\n",
       "      <th>file</th>\n",
       "      <th>path</th>\n",
       "      <th>taxon_groups</th>\n",
       "      <th>change_file_encoding</th>\n",
       "      <th>remove_bad_characters</th>\n",
       "      <th>remove_empty_rows</th>\n",
       "      <th>remove_spaces</th>\n",
       "      <th>delete_duplicate_rows</th>\n",
       "      <th>delete_duplicate_columns</th>\n",
       "      <th>add_expedition_section_cols</th>\n",
       "    </tr>\n",
       "  </thead>\n",
       "  <tbody>\n",
       "    <tr>\n",
       "      <th>0</th>\n",
       "      <td>363-U1482A-Benthic_Forams.csv</td>\n",
       "      <td>LIMS/Micropal_CSV_1/363-U1482A-Benthic_Forams.csv</td>\n",
       "      <td>benthic_forams</td>\n",
       "      <td>False</td>\n",
       "      <td>False</td>\n",
       "      <td>False</td>\n",
       "      <td>True</td>\n",
       "      <td>False</td>\n",
       "      <td>False</td>\n",
       "      <td>True</td>\n",
       "    </tr>\n",
       "    <tr>\n",
       "      <th>1</th>\n",
       "      <td>320_U1336A_Nannofossils_2.csv</td>\n",
       "      <td>LIMS/Micropal_CSV_1/320_U1336A_Nannofossils_2.csv</td>\n",
       "      <td>nannofossils</td>\n",
       "      <td>False</td>\n",
       "      <td>False</td>\n",
       "      <td>False</td>\n",
       "      <td>True</td>\n",
       "      <td>False</td>\n",
       "      <td>False</td>\n",
       "      <td>False</td>\n",
       "    </tr>\n",
       "  </tbody>\n",
       "</table>\n",
       "</div>"
      ],
      "text/plain": [
       "                            file  \\\n",
       "0  363-U1482A-Benthic_Forams.csv   \n",
       "1  320_U1336A_Nannofossils_2.csv   \n",
       "\n",
       "                                                path    taxon_groups  \\\n",
       "0  LIMS/Micropal_CSV_1/363-U1482A-Benthic_Forams.csv  benthic_forams   \n",
       "1  LIMS/Micropal_CSV_1/320_U1336A_Nannofossils_2.csv    nannofossils   \n",
       "\n",
       "   change_file_encoding  remove_bad_characters  remove_empty_rows  \\\n",
       "0                 False                  False              False   \n",
       "1                 False                  False              False   \n",
       "\n",
       "   remove_spaces  delete_duplicate_rows  delete_duplicate_columns  \\\n",
       "0           True                  False                     False   \n",
       "1           True                  False                     False   \n",
       "\n",
       "   add_expedition_section_cols  \n",
       "0                         True  \n",
       "1                        False  "
      ]
     },
     "execution_count": 12,
     "metadata": {},
     "output_type": "execute_result"
    }
   ],
   "source": [
    "metadata = pd.read_csv(metadata_file)\n",
    "metadata.head(2)"
   ]
  },
  {
   "cell_type": "code",
   "execution_count": 13,
   "metadata": {},
   "outputs": [
    {
     "data": {
      "text/plain": [
       "(1253, 10)"
      ]
     },
     "execution_count": 13,
     "metadata": {},
     "output_type": "execute_result"
    }
   ],
   "source": [
    "metadata.shape"
   ]
  },
  {
   "cell_type": "code",
   "execution_count": 14,
   "metadata": {},
   "outputs": [],
   "source": [
    "def process_filename(file):\n",
    "    path = base_dir/file\n",
    "    content = pd.read_csv(path, dtype=str)\n",
    "    \n",
    "    original_cols = content.columns\n",
    "    normalize_sample_col(content)\n",
    "    \n",
    "    changed = list(original_cols) != list(content.columns)\n",
    "    \n",
    "    if changed:\n",
    "        content = csv_cleanup(content, path)\n",
    "        content.to_csv(path, index=False)\n",
    "\n",
    "    return changed\n",
    "    \n",
    "change_columns = [process_filename(file) for file in metadata['path']] "
   ]
  },
  {
   "cell_type": "code",
   "execution_count": 17,
   "metadata": {},
   "outputs": [
    {
     "data": {
      "text/html": [
       "<div>\n",
       "<style scoped>\n",
       "    .dataframe tbody tr th:only-of-type {\n",
       "        vertical-align: middle;\n",
       "    }\n",
       "\n",
       "    .dataframe tbody tr th {\n",
       "        vertical-align: top;\n",
       "    }\n",
       "\n",
       "    .dataframe thead th {\n",
       "        text-align: right;\n",
       "    }\n",
       "</style>\n",
       "<table border=\"1\" class=\"dataframe\">\n",
       "  <thead>\n",
       "    <tr style=\"text-align: right;\">\n",
       "      <th></th>\n",
       "      <th>file</th>\n",
       "      <th>path</th>\n",
       "      <th>taxon_groups</th>\n",
       "      <th>change_file_encoding</th>\n",
       "      <th>remove_bad_characters</th>\n",
       "      <th>remove_empty_rows</th>\n",
       "      <th>remove_spaces</th>\n",
       "      <th>delete_duplicate_rows</th>\n",
       "      <th>delete_duplicate_columns</th>\n",
       "      <th>add_expedition_section_cols</th>\n",
       "      <th>update_sample_col</th>\n",
       "    </tr>\n",
       "  </thead>\n",
       "  <tbody>\n",
       "    <tr>\n",
       "      <th>0</th>\n",
       "      <td>363-U1482A-Benthic_Forams.csv</td>\n",
       "      <td>LIMS/Micropal_CSV_1/363-U1482A-Benthic_Forams.csv</td>\n",
       "      <td>benthic_forams</td>\n",
       "      <td>False</td>\n",
       "      <td>False</td>\n",
       "      <td>False</td>\n",
       "      <td>True</td>\n",
       "      <td>False</td>\n",
       "      <td>False</td>\n",
       "      <td>True</td>\n",
       "      <td>False</td>\n",
       "    </tr>\n",
       "    <tr>\n",
       "      <th>1</th>\n",
       "      <td>320_U1336A_Nannofossils_2.csv</td>\n",
       "      <td>LIMS/Micropal_CSV_1/320_U1336A_Nannofossils_2.csv</td>\n",
       "      <td>nannofossils</td>\n",
       "      <td>False</td>\n",
       "      <td>False</td>\n",
       "      <td>False</td>\n",
       "      <td>True</td>\n",
       "      <td>False</td>\n",
       "      <td>False</td>\n",
       "      <td>False</td>\n",
       "      <td>True</td>\n",
       "    </tr>\n",
       "    <tr>\n",
       "      <th>2</th>\n",
       "      <td>375_U1518F_planktic_forams.csv</td>\n",
       "      <td>LIMS/Micropal_CSV_1/375_U1518F_planktic_forams...</td>\n",
       "      <td>planktic_forams</td>\n",
       "      <td>False</td>\n",
       "      <td>False</td>\n",
       "      <td>False</td>\n",
       "      <td>True</td>\n",
       "      <td>False</td>\n",
       "      <td>False</td>\n",
       "      <td>True</td>\n",
       "      <td>False</td>\n",
       "    </tr>\n",
       "    <tr>\n",
       "      <th>3</th>\n",
       "      <td>320_U1334A_Nannofossils_1.csv</td>\n",
       "      <td>LIMS/Micropal_CSV_1/320_U1334A_Nannofossils_1.csv</td>\n",
       "      <td>nannofossils</td>\n",
       "      <td>False</td>\n",
       "      <td>False</td>\n",
       "      <td>False</td>\n",
       "      <td>True</td>\n",
       "      <td>False</td>\n",
       "      <td>False</td>\n",
       "      <td>False</td>\n",
       "      <td>True</td>\n",
       "    </tr>\n",
       "    <tr>\n",
       "      <th>4</th>\n",
       "      <td>318_U1358B_Palynology.csv</td>\n",
       "      <td>LIMS/Micropal_CSV_1/318_U1358B_Palynology.csv</td>\n",
       "      <td>palynology</td>\n",
       "      <td>False</td>\n",
       "      <td>False</td>\n",
       "      <td>False</td>\n",
       "      <td>False</td>\n",
       "      <td>False</td>\n",
       "      <td>False</td>\n",
       "      <td>False</td>\n",
       "      <td>True</td>\n",
       "    </tr>\n",
       "  </tbody>\n",
       "</table>\n",
       "</div>"
      ],
      "text/plain": [
       "                             file  \\\n",
       "0   363-U1482A-Benthic_Forams.csv   \n",
       "1   320_U1336A_Nannofossils_2.csv   \n",
       "2  375_U1518F_planktic_forams.csv   \n",
       "3   320_U1334A_Nannofossils_1.csv   \n",
       "4       318_U1358B_Palynology.csv   \n",
       "\n",
       "                                                path     taxon_groups  \\\n",
       "0  LIMS/Micropal_CSV_1/363-U1482A-Benthic_Forams.csv   benthic_forams   \n",
       "1  LIMS/Micropal_CSV_1/320_U1336A_Nannofossils_2.csv     nannofossils   \n",
       "2  LIMS/Micropal_CSV_1/375_U1518F_planktic_forams...  planktic_forams   \n",
       "3  LIMS/Micropal_CSV_1/320_U1334A_Nannofossils_1.csv     nannofossils   \n",
       "4      LIMS/Micropal_CSV_1/318_U1358B_Palynology.csv       palynology   \n",
       "\n",
       "   change_file_encoding  remove_bad_characters  remove_empty_rows  \\\n",
       "0                 False                  False              False   \n",
       "1                 False                  False              False   \n",
       "2                 False                  False              False   \n",
       "3                 False                  False              False   \n",
       "4                 False                  False              False   \n",
       "\n",
       "   remove_spaces  delete_duplicate_rows  delete_duplicate_columns  \\\n",
       "0           True                  False                     False   \n",
       "1           True                  False                     False   \n",
       "2           True                  False                     False   \n",
       "3           True                  False                     False   \n",
       "4          False                  False                     False   \n",
       "\n",
       "   add_expedition_section_cols  update_sample_col  \n",
       "0                         True              False  \n",
       "1                        False               True  \n",
       "2                         True              False  \n",
       "3                        False               True  \n",
       "4                        False               True  "
      ]
     },
     "execution_count": 17,
     "metadata": {},
     "output_type": "execute_result"
    }
   ],
   "source": [
    "dict = {\"update_sample_col\": change_columns}\n",
    "new_metadata = update_metadata(metadata, dict)\n",
    "new_metadata.head()"
   ]
  },
  {
   "cell_type": "code",
   "execution_count": 18,
   "metadata": {},
   "outputs": [],
   "source": [
    "new_metadata.to_csv(metadata_file, index=False)"
   ]
  },
  {
   "cell_type": "markdown",
   "metadata": {},
   "source": [
    "## Normalize Top and Bottom columns"
   ]
  },
  {
   "cell_type": "markdown",
   "metadata": {},
   "source": [
    "Normalize all the Top, Top Depth, Bottom, and Bottom Depth column to have the same names."
   ]
  },
  {
   "cell_type": "code",
   "execution_count": 19,
   "metadata": {},
   "outputs": [
    {
     "name": "stdout",
     "output_type": "stream",
     "text": [
      "(1253, 11)\n"
     ]
    },
    {
     "data": {
      "text/html": [
       "<div>\n",
       "<style scoped>\n",
       "    .dataframe tbody tr th:only-of-type {\n",
       "        vertical-align: middle;\n",
       "    }\n",
       "\n",
       "    .dataframe tbody tr th {\n",
       "        vertical-align: top;\n",
       "    }\n",
       "\n",
       "    .dataframe thead th {\n",
       "        text-align: right;\n",
       "    }\n",
       "</style>\n",
       "<table border=\"1\" class=\"dataframe\">\n",
       "  <thead>\n",
       "    <tr style=\"text-align: right;\">\n",
       "      <th></th>\n",
       "      <th>file</th>\n",
       "      <th>path</th>\n",
       "      <th>taxon_groups</th>\n",
       "      <th>change_file_encoding</th>\n",
       "      <th>remove_bad_characters</th>\n",
       "      <th>remove_empty_rows</th>\n",
       "      <th>remove_spaces</th>\n",
       "      <th>delete_duplicate_rows</th>\n",
       "      <th>delete_duplicate_columns</th>\n",
       "      <th>add_expedition_section_cols</th>\n",
       "      <th>update_sample_col</th>\n",
       "    </tr>\n",
       "  </thead>\n",
       "  <tbody>\n",
       "    <tr>\n",
       "      <th>0</th>\n",
       "      <td>363-U1482A-Benthic_Forams.csv</td>\n",
       "      <td>LIMS/Micropal_CSV_1/363-U1482A-Benthic_Forams.csv</td>\n",
       "      <td>benthic_forams</td>\n",
       "      <td>False</td>\n",
       "      <td>False</td>\n",
       "      <td>False</td>\n",
       "      <td>True</td>\n",
       "      <td>False</td>\n",
       "      <td>False</td>\n",
       "      <td>True</td>\n",
       "      <td>False</td>\n",
       "    </tr>\n",
       "    <tr>\n",
       "      <th>1</th>\n",
       "      <td>320_U1336A_Nannofossils_2.csv</td>\n",
       "      <td>LIMS/Micropal_CSV_1/320_U1336A_Nannofossils_2.csv</td>\n",
       "      <td>nannofossils</td>\n",
       "      <td>False</td>\n",
       "      <td>False</td>\n",
       "      <td>False</td>\n",
       "      <td>True</td>\n",
       "      <td>False</td>\n",
       "      <td>False</td>\n",
       "      <td>False</td>\n",
       "      <td>True</td>\n",
       "    </tr>\n",
       "    <tr>\n",
       "      <th>2</th>\n",
       "      <td>375_U1518F_planktic_forams.csv</td>\n",
       "      <td>LIMS/Micropal_CSV_1/375_U1518F_planktic_forams...</td>\n",
       "      <td>planktic_forams</td>\n",
       "      <td>False</td>\n",
       "      <td>False</td>\n",
       "      <td>False</td>\n",
       "      <td>True</td>\n",
       "      <td>False</td>\n",
       "      <td>False</td>\n",
       "      <td>True</td>\n",
       "      <td>False</td>\n",
       "    </tr>\n",
       "    <tr>\n",
       "      <th>3</th>\n",
       "      <td>320_U1334A_Nannofossils_1.csv</td>\n",
       "      <td>LIMS/Micropal_CSV_1/320_U1334A_Nannofossils_1.csv</td>\n",
       "      <td>nannofossils</td>\n",
       "      <td>False</td>\n",
       "      <td>False</td>\n",
       "      <td>False</td>\n",
       "      <td>True</td>\n",
       "      <td>False</td>\n",
       "      <td>False</td>\n",
       "      <td>False</td>\n",
       "      <td>True</td>\n",
       "    </tr>\n",
       "    <tr>\n",
       "      <th>4</th>\n",
       "      <td>318_U1358B_Palynology.csv</td>\n",
       "      <td>LIMS/Micropal_CSV_1/318_U1358B_Palynology.csv</td>\n",
       "      <td>palynology</td>\n",
       "      <td>False</td>\n",
       "      <td>False</td>\n",
       "      <td>False</td>\n",
       "      <td>False</td>\n",
       "      <td>False</td>\n",
       "      <td>False</td>\n",
       "      <td>False</td>\n",
       "      <td>True</td>\n",
       "    </tr>\n",
       "  </tbody>\n",
       "</table>\n",
       "</div>"
      ],
      "text/plain": [
       "                             file  \\\n",
       "0   363-U1482A-Benthic_Forams.csv   \n",
       "1   320_U1336A_Nannofossils_2.csv   \n",
       "2  375_U1518F_planktic_forams.csv   \n",
       "3   320_U1334A_Nannofossils_1.csv   \n",
       "4       318_U1358B_Palynology.csv   \n",
       "\n",
       "                                                path     taxon_groups  \\\n",
       "0  LIMS/Micropal_CSV_1/363-U1482A-Benthic_Forams.csv   benthic_forams   \n",
       "1  LIMS/Micropal_CSV_1/320_U1336A_Nannofossils_2.csv     nannofossils   \n",
       "2  LIMS/Micropal_CSV_1/375_U1518F_planktic_forams...  planktic_forams   \n",
       "3  LIMS/Micropal_CSV_1/320_U1334A_Nannofossils_1.csv     nannofossils   \n",
       "4      LIMS/Micropal_CSV_1/318_U1358B_Palynology.csv       palynology   \n",
       "\n",
       "   change_file_encoding  remove_bad_characters  remove_empty_rows  \\\n",
       "0                 False                  False              False   \n",
       "1                 False                  False              False   \n",
       "2                 False                  False              False   \n",
       "3                 False                  False              False   \n",
       "4                 False                  False              False   \n",
       "\n",
       "   remove_spaces  delete_duplicate_rows  delete_duplicate_columns  \\\n",
       "0           True                  False                     False   \n",
       "1           True                  False                     False   \n",
       "2           True                  False                     False   \n",
       "3           True                  False                     False   \n",
       "4          False                  False                     False   \n",
       "\n",
       "   add_expedition_section_cols  update_sample_col  \n",
       "0                         True              False  \n",
       "1                        False               True  \n",
       "2                         True              False  \n",
       "3                        False               True  \n",
       "4                        False               True  "
      ]
     },
     "execution_count": 19,
     "metadata": {},
     "output_type": "execute_result"
    }
   ],
   "source": [
    "metadata = pd.read_csv(metadata_file)\n",
    "log_df(metadata)"
   ]
  },
  {
   "cell_type": "markdown",
   "metadata": {},
   "source": [
    "### Get top bottom columns"
   ]
  },
  {
   "cell_type": "code",
   "execution_count": 20,
   "metadata": {},
   "outputs": [],
   "source": [
    "columns_all = set()\n",
    "\n",
    "res=[fetch_unique_column_names(base_dir/file, columns_all) for file in metadata['path']] "
   ]
  },
  {
   "cell_type": "code",
   "execution_count": 21,
   "metadata": {},
   "outputs": [],
   "source": [
    "top_all = set()\n",
    "top = set()\n",
    "top_depth = set()\n",
    "\n",
    "bottom_all = set()\n",
    "bottom = set()\n",
    "bottom_depth = set()\n",
    "\n",
    "\n",
    "append_set(top_all, r\".*?\\btop\\b.*?\", columns_all)\n",
    "append_set(top_depth, r\"top depth\", columns_all)\n",
    "append_set(top, r\"top ?\\[\", columns_all)\n",
    "\n",
    "append_set(bottom_all, r\".*?\\bbottom\\b.*?\", columns_all)\n",
    "append_set(bottom_depth, r\"bottom depth\", columns_all)\n",
    "append_set(bottom, r\"bottom ?\\[\", columns_all)"
   ]
  },
  {
   "cell_type": "code",
   "execution_count": 22,
   "metadata": {},
   "outputs": [
    {
     "data": {
      "text/plain": [
       "{'Original Top Depth (m)',\n",
       " 'Top Depth [m]',\n",
       " 'Top Depth[m] [m]',\n",
       " 'Top Offset (cm) on Parent Sample',\n",
       " 'Top [cm]',\n",
       " 'Top depth [m]',\n",
       " 'Top[cm] [cm]'}"
      ]
     },
     "execution_count": 22,
     "metadata": {},
     "output_type": "execute_result"
    }
   ],
   "source": [
    "top_all"
   ]
  },
  {
   "cell_type": "code",
   "execution_count": 23,
   "metadata": {},
   "outputs": [
    {
     "data": {
      "text/plain": [
       "{'Top [cm]', 'Top[cm] [cm]'}"
      ]
     },
     "execution_count": 23,
     "metadata": {},
     "output_type": "execute_result"
    }
   ],
   "source": [
    "top"
   ]
  },
  {
   "cell_type": "code",
   "execution_count": 24,
   "metadata": {},
   "outputs": [
    {
     "data": {
      "text/plain": [
       "{'Top Depth [m]', 'Top Depth[m] [m]', 'Top depth [m]'}"
      ]
     },
     "execution_count": 24,
     "metadata": {},
     "output_type": "execute_result"
    }
   ],
   "source": [
    "top_depth"
   ]
  },
  {
   "cell_type": "code",
   "execution_count": 25,
   "metadata": {},
   "outputs": [
    {
     "data": {
      "text/plain": [
       "{'Bottom Depth [m]',\n",
       " 'Bottom Depth[m] [m]',\n",
       " 'Bottom Offset (cm) on Parent Sample',\n",
       " 'Bottom [cm]',\n",
       " 'Bottom depth [m]',\n",
       " 'Bottom[cm] [cm]',\n",
       " 'Original Bottom Depth (m)'}"
      ]
     },
     "execution_count": 25,
     "metadata": {},
     "output_type": "execute_result"
    }
   ],
   "source": [
    "bottom_all"
   ]
  },
  {
   "cell_type": "code",
   "execution_count": 26,
   "metadata": {},
   "outputs": [
    {
     "data": {
      "text/plain": [
       "{'Bottom [cm]', 'Bottom[cm] [cm]'}"
      ]
     },
     "execution_count": 26,
     "metadata": {},
     "output_type": "execute_result"
    }
   ],
   "source": [
    "bottom"
   ]
  },
  {
   "cell_type": "code",
   "execution_count": 27,
   "metadata": {},
   "outputs": [
    {
     "data": {
      "text/plain": [
       "{'Bottom Depth [m]', 'Bottom Depth[m] [m]', 'Bottom depth [m]'}"
      ]
     },
     "execution_count": 27,
     "metadata": {},
     "output_type": "execute_result"
    }
   ],
   "source": [
    "bottom_depth"
   ]
  },
  {
   "cell_type": "markdown",
   "metadata": {},
   "source": [
    "### Normalize top bottom columns"
   ]
  },
  {
   "cell_type": "code",
   "execution_count": 28,
   "metadata": {},
   "outputs": [
    {
     "data": {
      "text/plain": [
       "{'Top[cm] [cm]': 'Top [cm]', 'Top [cm]': 'Top [cm]'}"
      ]
     },
     "execution_count": 28,
     "metadata": {},
     "output_type": "execute_result"
    }
   ],
   "source": [
    "dict.fromkeys(top, 'Top [cm]')"
   ]
  },
  {
   "cell_type": "code",
   "execution_count": 29,
   "metadata": {},
   "outputs": [],
   "source": [
    "path = base_dir/'LIMS/Micropal_CSV_1/363-U1482A-Benthic_Forams.csv'\n",
    "content = pd.read_csv(path, dtype=str)\n",
    "normalize_columns(content, dict.fromkeys(top, 'Top [cm]'))"
   ]
  },
  {
   "cell_type": "code",
   "execution_count": 30,
   "metadata": {},
   "outputs": [],
   "source": [
    "def normalize_top_bottom(file):\n",
    "    path = base_dir/file\n",
    "    content = pd.read_csv(path, dtype=str)\n",
    "    columns = list(content.columns)\n",
    "    \n",
    "    normalize_columns(content, dict.fromkeys(top, 'Top [cm]'))\n",
    "    normalize_columns(content, dict.fromkeys(bottom, 'Bottom [cm]'))\n",
    "    normalize_columns(content, dict.fromkeys(top_depth, 'Top Depth [m]'))\n",
    "    normalize_columns(content, dict.fromkeys(bottom_depth, 'Bottom Depth [m]'))\n",
    "    \n",
    "    normalized_cols = list(content.columns)\n",
    "    changed = columns != normalized_cols\n",
    "    \n",
    "    if changed:\n",
    "        content.columns = normalized_cols\n",
    "        content = csv_cleanup(content, path)\n",
    "        content.to_csv(path, index=False)\n",
    "\n",
    "    return changed\n",
    "\n",
    "change_columns = [normalize_top_bottom(file) for file in metadata['path']] "
   ]
  },
  {
   "cell_type": "code",
   "execution_count": 31,
   "metadata": {},
   "outputs": [
    {
     "data": {
      "text/html": [
       "<div>\n",
       "<style scoped>\n",
       "    .dataframe tbody tr th:only-of-type {\n",
       "        vertical-align: middle;\n",
       "    }\n",
       "\n",
       "    .dataframe tbody tr th {\n",
       "        vertical-align: top;\n",
       "    }\n",
       "\n",
       "    .dataframe thead th {\n",
       "        text-align: right;\n",
       "    }\n",
       "</style>\n",
       "<table border=\"1\" class=\"dataframe\">\n",
       "  <thead>\n",
       "    <tr style=\"text-align: right;\">\n",
       "      <th></th>\n",
       "      <th>file</th>\n",
       "      <th>path</th>\n",
       "      <th>taxon_groups</th>\n",
       "      <th>change_file_encoding</th>\n",
       "      <th>remove_bad_characters</th>\n",
       "      <th>remove_empty_rows</th>\n",
       "      <th>remove_spaces</th>\n",
       "      <th>delete_duplicate_rows</th>\n",
       "      <th>delete_duplicate_columns</th>\n",
       "      <th>add_expedition_section_cols</th>\n",
       "      <th>update_sample_col</th>\n",
       "      <th>update_top_bottom</th>\n",
       "    </tr>\n",
       "  </thead>\n",
       "  <tbody>\n",
       "    <tr>\n",
       "      <th>0</th>\n",
       "      <td>363-U1482A-Benthic_Forams.csv</td>\n",
       "      <td>LIMS/Micropal_CSV_1/363-U1482A-Benthic_Forams.csv</td>\n",
       "      <td>benthic_forams</td>\n",
       "      <td>False</td>\n",
       "      <td>False</td>\n",
       "      <td>False</td>\n",
       "      <td>True</td>\n",
       "      <td>False</td>\n",
       "      <td>False</td>\n",
       "      <td>True</td>\n",
       "      <td>False</td>\n",
       "      <td>False</td>\n",
       "    </tr>\n",
       "    <tr>\n",
       "      <th>1</th>\n",
       "      <td>320_U1336A_Nannofossils_2.csv</td>\n",
       "      <td>LIMS/Micropal_CSV_1/320_U1336A_Nannofossils_2.csv</td>\n",
       "      <td>nannofossils</td>\n",
       "      <td>False</td>\n",
       "      <td>False</td>\n",
       "      <td>False</td>\n",
       "      <td>True</td>\n",
       "      <td>False</td>\n",
       "      <td>False</td>\n",
       "      <td>False</td>\n",
       "      <td>True</td>\n",
       "      <td>False</td>\n",
       "    </tr>\n",
       "    <tr>\n",
       "      <th>2</th>\n",
       "      <td>375_U1518F_planktic_forams.csv</td>\n",
       "      <td>LIMS/Micropal_CSV_1/375_U1518F_planktic_forams...</td>\n",
       "      <td>planktic_forams</td>\n",
       "      <td>False</td>\n",
       "      <td>False</td>\n",
       "      <td>False</td>\n",
       "      <td>True</td>\n",
       "      <td>False</td>\n",
       "      <td>False</td>\n",
       "      <td>True</td>\n",
       "      <td>False</td>\n",
       "      <td>False</td>\n",
       "    </tr>\n",
       "    <tr>\n",
       "      <th>3</th>\n",
       "      <td>320_U1334A_Nannofossils_1.csv</td>\n",
       "      <td>LIMS/Micropal_CSV_1/320_U1334A_Nannofossils_1.csv</td>\n",
       "      <td>nannofossils</td>\n",
       "      <td>False</td>\n",
       "      <td>False</td>\n",
       "      <td>False</td>\n",
       "      <td>True</td>\n",
       "      <td>False</td>\n",
       "      <td>False</td>\n",
       "      <td>False</td>\n",
       "      <td>True</td>\n",
       "      <td>False</td>\n",
       "    </tr>\n",
       "    <tr>\n",
       "      <th>4</th>\n",
       "      <td>318_U1358B_Palynology.csv</td>\n",
       "      <td>LIMS/Micropal_CSV_1/318_U1358B_Palynology.csv</td>\n",
       "      <td>palynology</td>\n",
       "      <td>False</td>\n",
       "      <td>False</td>\n",
       "      <td>False</td>\n",
       "      <td>False</td>\n",
       "      <td>False</td>\n",
       "      <td>False</td>\n",
       "      <td>False</td>\n",
       "      <td>True</td>\n",
       "      <td>False</td>\n",
       "    </tr>\n",
       "  </tbody>\n",
       "</table>\n",
       "</div>"
      ],
      "text/plain": [
       "                             file  \\\n",
       "0   363-U1482A-Benthic_Forams.csv   \n",
       "1   320_U1336A_Nannofossils_2.csv   \n",
       "2  375_U1518F_planktic_forams.csv   \n",
       "3   320_U1334A_Nannofossils_1.csv   \n",
       "4       318_U1358B_Palynology.csv   \n",
       "\n",
       "                                                path     taxon_groups  \\\n",
       "0  LIMS/Micropal_CSV_1/363-U1482A-Benthic_Forams.csv   benthic_forams   \n",
       "1  LIMS/Micropal_CSV_1/320_U1336A_Nannofossils_2.csv     nannofossils   \n",
       "2  LIMS/Micropal_CSV_1/375_U1518F_planktic_forams...  planktic_forams   \n",
       "3  LIMS/Micropal_CSV_1/320_U1334A_Nannofossils_1.csv     nannofossils   \n",
       "4      LIMS/Micropal_CSV_1/318_U1358B_Palynology.csv       palynology   \n",
       "\n",
       "   change_file_encoding  remove_bad_characters  remove_empty_rows  \\\n",
       "0                 False                  False              False   \n",
       "1                 False                  False              False   \n",
       "2                 False                  False              False   \n",
       "3                 False                  False              False   \n",
       "4                 False                  False              False   \n",
       "\n",
       "   remove_spaces  delete_duplicate_rows  delete_duplicate_columns  \\\n",
       "0           True                  False                     False   \n",
       "1           True                  False                     False   \n",
       "2           True                  False                     False   \n",
       "3           True                  False                     False   \n",
       "4          False                  False                     False   \n",
       "\n",
       "   add_expedition_section_cols  update_sample_col  update_top_bottom  \n",
       "0                         True              False              False  \n",
       "1                        False               True              False  \n",
       "2                         True              False              False  \n",
       "3                        False               True              False  \n",
       "4                        False               True              False  "
      ]
     },
     "execution_count": 31,
     "metadata": {},
     "output_type": "execute_result"
    }
   ],
   "source": [
    "dict = {\"update_top_bottom\": change_columns}\n",
    "new_metadata = update_metadata(metadata, dict)\n",
    "new_metadata.head()"
   ]
  },
  {
   "cell_type": "code",
   "execution_count": 32,
   "metadata": {},
   "outputs": [],
   "source": [
    "new_metadata.to_csv(metadata_file, index=False)"
   ]
  },
  {
   "cell_type": "markdown",
   "metadata": {},
   "source": [
    "## Add missing columns"
   ]
  },
  {
   "cell_type": "code",
   "execution_count": 33,
   "metadata": {},
   "outputs": [],
   "source": [
    "metadata = pd.read_csv(metadata_file)"
   ]
  },
  {
   "cell_type": "code",
   "execution_count": 34,
   "metadata": {},
   "outputs": [],
   "source": [
    "normalized_columns = [\n",
    "    'Top [cm]',\n",
    "    'Bottom [cm]',\n",
    "    'Top Depth [m]',\n",
    "    'Bottom Depth [m]', \n",
    "    'Sample',\n",
    "    'Exp',\n",
    "    'Site',\n",
    "    'Hole',\n",
    "    'Core',\n",
    "    'Type',\n",
    "    'Section',\n",
    "    'A/W'\n",
    "]"
   ]
  },
  {
   "cell_type": "code",
   "execution_count": 35,
   "metadata": {},
   "outputs": [],
   "source": [
    "change_columns = [add_missing_columns(base_dir/file, normalized_columns) for file in metadata['path']] "
   ]
  },
  {
   "cell_type": "code",
   "execution_count": 36,
   "metadata": {},
   "outputs": [
    {
     "data": {
      "text/html": [
       "<div>\n",
       "<style scoped>\n",
       "    .dataframe tbody tr th:only-of-type {\n",
       "        vertical-align: middle;\n",
       "    }\n",
       "\n",
       "    .dataframe tbody tr th {\n",
       "        vertical-align: top;\n",
       "    }\n",
       "\n",
       "    .dataframe thead th {\n",
       "        text-align: right;\n",
       "    }\n",
       "</style>\n",
       "<table border=\"1\" class=\"dataframe\">\n",
       "  <thead>\n",
       "    <tr style=\"text-align: right;\">\n",
       "      <th></th>\n",
       "      <th>file</th>\n",
       "      <th>path</th>\n",
       "      <th>taxon_groups</th>\n",
       "      <th>change_file_encoding</th>\n",
       "      <th>remove_bad_characters</th>\n",
       "      <th>remove_empty_rows</th>\n",
       "      <th>remove_spaces</th>\n",
       "      <th>delete_duplicate_rows</th>\n",
       "      <th>delete_duplicate_columns</th>\n",
       "      <th>add_expedition_section_cols</th>\n",
       "      <th>update_sample_col</th>\n",
       "      <th>update_top_bottom</th>\n",
       "      <th>add_missing_cols</th>\n",
       "    </tr>\n",
       "  </thead>\n",
       "  <tbody>\n",
       "    <tr>\n",
       "      <th>0</th>\n",
       "      <td>363-U1482A-Benthic_Forams.csv</td>\n",
       "      <td>LIMS/Micropal_CSV_1/363-U1482A-Benthic_Forams.csv</td>\n",
       "      <td>benthic_forams</td>\n",
       "      <td>False</td>\n",
       "      <td>False</td>\n",
       "      <td>False</td>\n",
       "      <td>True</td>\n",
       "      <td>False</td>\n",
       "      <td>False</td>\n",
       "      <td>True</td>\n",
       "      <td>False</td>\n",
       "      <td>False</td>\n",
       "      <td>False</td>\n",
       "    </tr>\n",
       "    <tr>\n",
       "      <th>1</th>\n",
       "      <td>320_U1336A_Nannofossils_2.csv</td>\n",
       "      <td>LIMS/Micropal_CSV_1/320_U1336A_Nannofossils_2.csv</td>\n",
       "      <td>nannofossils</td>\n",
       "      <td>False</td>\n",
       "      <td>False</td>\n",
       "      <td>False</td>\n",
       "      <td>True</td>\n",
       "      <td>False</td>\n",
       "      <td>False</td>\n",
       "      <td>False</td>\n",
       "      <td>True</td>\n",
       "      <td>False</td>\n",
       "      <td>False</td>\n",
       "    </tr>\n",
       "    <tr>\n",
       "      <th>2</th>\n",
       "      <td>375_U1518F_planktic_forams.csv</td>\n",
       "      <td>LIMS/Micropal_CSV_1/375_U1518F_planktic_forams...</td>\n",
       "      <td>planktic_forams</td>\n",
       "      <td>False</td>\n",
       "      <td>False</td>\n",
       "      <td>False</td>\n",
       "      <td>True</td>\n",
       "      <td>False</td>\n",
       "      <td>False</td>\n",
       "      <td>True</td>\n",
       "      <td>False</td>\n",
       "      <td>False</td>\n",
       "      <td>False</td>\n",
       "    </tr>\n",
       "    <tr>\n",
       "      <th>3</th>\n",
       "      <td>320_U1334A_Nannofossils_1.csv</td>\n",
       "      <td>LIMS/Micropal_CSV_1/320_U1334A_Nannofossils_1.csv</td>\n",
       "      <td>nannofossils</td>\n",
       "      <td>False</td>\n",
       "      <td>False</td>\n",
       "      <td>False</td>\n",
       "      <td>True</td>\n",
       "      <td>False</td>\n",
       "      <td>False</td>\n",
       "      <td>False</td>\n",
       "      <td>True</td>\n",
       "      <td>False</td>\n",
       "      <td>False</td>\n",
       "    </tr>\n",
       "    <tr>\n",
       "      <th>4</th>\n",
       "      <td>318_U1358B_Palynology.csv</td>\n",
       "      <td>LIMS/Micropal_CSV_1/318_U1358B_Palynology.csv</td>\n",
       "      <td>palynology</td>\n",
       "      <td>False</td>\n",
       "      <td>False</td>\n",
       "      <td>False</td>\n",
       "      <td>False</td>\n",
       "      <td>False</td>\n",
       "      <td>False</td>\n",
       "      <td>False</td>\n",
       "      <td>True</td>\n",
       "      <td>False</td>\n",
       "      <td>False</td>\n",
       "    </tr>\n",
       "  </tbody>\n",
       "</table>\n",
       "</div>"
      ],
      "text/plain": [
       "                             file  \\\n",
       "0   363-U1482A-Benthic_Forams.csv   \n",
       "1   320_U1336A_Nannofossils_2.csv   \n",
       "2  375_U1518F_planktic_forams.csv   \n",
       "3   320_U1334A_Nannofossils_1.csv   \n",
       "4       318_U1358B_Palynology.csv   \n",
       "\n",
       "                                                path     taxon_groups  \\\n",
       "0  LIMS/Micropal_CSV_1/363-U1482A-Benthic_Forams.csv   benthic_forams   \n",
       "1  LIMS/Micropal_CSV_1/320_U1336A_Nannofossils_2.csv     nannofossils   \n",
       "2  LIMS/Micropal_CSV_1/375_U1518F_planktic_forams...  planktic_forams   \n",
       "3  LIMS/Micropal_CSV_1/320_U1334A_Nannofossils_1.csv     nannofossils   \n",
       "4      LIMS/Micropal_CSV_1/318_U1358B_Palynology.csv       palynology   \n",
       "\n",
       "   change_file_encoding  remove_bad_characters  remove_empty_rows  \\\n",
       "0                 False                  False              False   \n",
       "1                 False                  False              False   \n",
       "2                 False                  False              False   \n",
       "3                 False                  False              False   \n",
       "4                 False                  False              False   \n",
       "\n",
       "   remove_spaces  delete_duplicate_rows  delete_duplicate_columns  \\\n",
       "0           True                  False                     False   \n",
       "1           True                  False                     False   \n",
       "2           True                  False                     False   \n",
       "3           True                  False                     False   \n",
       "4          False                  False                     False   \n",
       "\n",
       "   add_expedition_section_cols  update_sample_col  update_top_bottom  \\\n",
       "0                         True              False              False   \n",
       "1                        False               True              False   \n",
       "2                         True              False              False   \n",
       "3                        False               True              False   \n",
       "4                        False               True              False   \n",
       "\n",
       "   add_missing_cols  \n",
       "0             False  \n",
       "1             False  \n",
       "2             False  \n",
       "3             False  \n",
       "4             False  "
      ]
     },
     "execution_count": 36,
     "metadata": {},
     "output_type": "execute_result"
    }
   ],
   "source": [
    "dict = {\"add_missing_cols\": change_columns}\n",
    "new_metadata = update_metadata(metadata, dict)\n",
    "new_metadata.head()"
   ]
  },
  {
   "cell_type": "code",
   "execution_count": 37,
   "metadata": {},
   "outputs": [],
   "source": [
    "new_metadata.to_csv(metadata_file, index=False)"
   ]
  },
  {
   "cell_type": "code",
   "execution_count": null,
   "metadata": {},
   "outputs": [],
   "source": []
  },
  {
   "cell_type": "code",
   "execution_count": null,
   "metadata": {},
   "outputs": [],
   "source": []
  }
 ],
 "metadata": {
  "kernelspec": {
   "display_name": "Python 3 (ipykernel)",
   "language": "python",
   "name": "python3"
  },
  "language_info": {
   "codemirror_mode": {
    "name": "ipython",
    "version": 3
   },
   "file_extension": ".py",
   "mimetype": "text/x-python",
   "name": "python",
   "nbconvert_exporter": "python",
   "pygments_lexer": "ipython3",
   "version": "3.8.2"
  }
 },
 "nbformat": 4,
 "nbformat_minor": 4
}
