{
 "cells": [
  {
   "cell_type": "markdown",
   "metadata": {},
   "source": [
    "# QA columns"
   ]
  },
  {
   "cell_type": "markdown",
   "metadata": {},
   "source": [
    "Do some basic QA on the csvs."
   ]
  },
  {
   "cell_type": "code",
   "execution_count": 3,
   "metadata": {},
   "outputs": [],
   "source": [
    "import sys\n",
    "sys.path.append('../../')\n",
    "import glob\n",
    "import shutil\n",
    "from pathlib import Path\n",
    "import os\n",
    "\n",
    "import pandas as pd\n",
    "from config import CLEAN_DATA_DIR, OUTPUT_DIR, RAW_DATA_DIR\n",
    "\n",
    "from scripts.normalize_data import (\n",
    "    check_duplicate_columns\n",
    ")"
   ]
  },
  {
   "cell_type": "code",
   "execution_count": 4,
   "metadata": {},
   "outputs": [],
   "source": [
    "clean_data_path = CLEAN_DATA_DIR\n",
    "\n",
    "metadata_file = OUTPUT_DIR/'metadata'/'LIMS'/'Micropal_changes.csv' \n",
    "metadata_file = OUTPUT_DIR/'metadata'/'LIMS'/'Micropal_changes_4.csv' \n"
   ]
  },
  {
   "cell_type": "markdown",
   "metadata": {},
   "source": [
    "## check if csv has duplicate column names"
   ]
  },
  {
   "cell_type": "code",
   "execution_count": 13,
   "metadata": {},
   "outputs": [],
   "source": [
    "def duplicate_columns(directories, file_extension='csv'):\n",
    "    bad_files = []\n",
    "    for directory in directories:\n",
    "        raw_csvs = glob.glob(f\"{directory}/**/*.{file_extension}\", recursive=True)\n",
    "\n",
    "        for path in raw_csvs:\n",
    "            content = pd.read_csv(path)\n",
    "            content.dropna(inplace=True, axis=1, how='all')\n",
    "\n",
    "            res = check_duplicate_columns(content, path)\n",
    "            if res:\n",
    "                bad_files.append(res)\n",
    "    return bad_files\n",
    "                "
   ]
  },
  {
   "cell_type": "code",
   "execution_count": 14,
   "metadata": {},
   "outputs": [],
   "source": [
    "LIMS_data_paths = [\n",
    "    CLEAN_DATA_DIR/'LIMS'/'Lithology_CSV',\n",
    "    CLEAN_DATA_DIR/'LIMS'/'Micropal_CSV_1', \n",
    "    CLEAN_DATA_DIR/'LIMS'/'Micropal_CSV_2',\n",
    "    CLEAN_DATA_DIR/'LIMS'/'Micropal_CSV_3',\n",
    "    CLEAN_DATA_DIR/'LIMS'/'Micropal_CSV_4',\n",
    "    CLEAN_DATA_DIR/'LIMS'/ 'Micropal_CSV_revised',\n",
    "]"
   ]
  },
  {
   "cell_type": "code",
   "execution_count": 15,
   "metadata": {},
   "outputs": [
    {
     "name": "stdout",
     "output_type": "stream",
     "text": [
      "../../output/cleaned_data/LIMS/Lithology_CSV/323 Core Description Template_U1341A.csv, GRAVEL SIZE CLAST: duplicate columns have different values\n",
      "../../output/cleaned_data/LIMS/Lithology_CSV/344_sediment_U1412A.csv, Other mineral : duplicate columns have different values\n",
      "../../output/cleaned_data/LIMS/Micropal_CSV_1/320_U1334A_Radiolarians_2.csv, Acrocubus octopylus : duplicate columns have different values\n",
      "../../output/cleaned_data/LIMS/Micropal_CSV_3/341_benthic_forams_U1417B.csv, Type: duplicate columns have different values\n",
      "../../output/cleaned_data/LIMS/Micropal_CSV_4/323_U1344E_diatoms.csv, Thalassiosira hyalina: duplicate columns have different values\n",
      "../../output/cleaned_data/LIMS/Micropal_CSV_4/323_U1344E_diatoms.csv, Thalassiosira jouseae: duplicate columns have different values\n",
      "../../output/cleaned_data/LIMS/Micropal_CSV_4/323_U1344E_diatoms.csv, Thalassiosira latimarginata: duplicate columns have different values\n",
      "../../output/cleaned_data/LIMS/Micropal_CSV_4/323_U1344E_diatoms.csv, Thalassiosira nordenskioeldii: duplicate columns have different values\n",
      "../../output/cleaned_data/LIMS/Micropal_CSV_4/323_U1344E_diatoms.csv, Thalassiosira oestrupii: duplicate columns have different values\n",
      "../../output/cleaned_data/LIMS/Micropal_CSV_4/323_U1344E_diatoms.csv, Thalassiothrix longissima: duplicate columns have different values\n",
      "../../output/cleaned_data/LIMS/Micropal_CSV_4/372_U1517C_benthic_forams.csv, Rosalina bradyi: duplicate columns have different values\n"
     ]
    }
   ],
   "source": [
    "bad_files = duplicate_columns(LIMS_data_paths)"
   ]
  },
  {
   "cell_type": "code",
   "execution_count": 39,
   "metadata": {},
   "outputs": [
    {
     "data": {
      "text/plain": [
       "[[{'filename': '../../output/cleaned_data/LIMS/Lithology_CSV/323 Core Description Template_U1341A.csv',\n",
       "   'bad_column': 'GRAVEL SIZE CLAST.1',\n",
       "   'same_value': False}],\n",
       " [{'filename': '../../output/cleaned_data/LIMS/Lithology_CSV/344_sediment_U1412A.csv',\n",
       "   'bad_column': 'Other mineral ',\n",
       "   'same_value': False}],\n",
       " [{'filename': '../../output/cleaned_data/LIMS/Micropal_CSV_1/320_U1334A_Radiolarians_2.csv',\n",
       "   'bad_column': 'Acrocubus octopylus ',\n",
       "   'same_value': False}],\n",
       " [{'filename': '../../output/cleaned_data/LIMS/Micropal_CSV_3/341_benthic_forams_U1417B.csv',\n",
       "   'bad_column': 'Type.1',\n",
       "   'same_value': False}]]"
      ]
     },
     "execution_count": 39,
     "metadata": {},
     "output_type": "execute_result"
    }
   ],
   "source": [
    "bad_files"
   ]
  },
  {
   "cell_type": "markdown",
   "metadata": {},
   "source": [
    "## create a file with all columns  in LIMS taxa"
   ]
  },
  {
   "cell_type": "code",
   "execution_count": 17,
   "metadata": {},
   "outputs": [
    {
     "data": {
      "text/html": [
       "<div>\n",
       "<style scoped>\n",
       "    .dataframe tbody tr th:only-of-type {\n",
       "        vertical-align: middle;\n",
       "    }\n",
       "\n",
       "    .dataframe tbody tr th {\n",
       "        vertical-align: top;\n",
       "    }\n",
       "\n",
       "    .dataframe thead th {\n",
       "        text-align: right;\n",
       "    }\n",
       "</style>\n",
       "<table border=\"1\" class=\"dataframe\">\n",
       "  <thead>\n",
       "    <tr style=\"text-align: right;\">\n",
       "      <th></th>\n",
       "      <th>file</th>\n",
       "      <th>path</th>\n",
       "      <th>taxon_group</th>\n",
       "      <th>change_file_encoding</th>\n",
       "      <th>remove_empty_rows</th>\n",
       "      <th>remove_spaces_from_columns</th>\n",
       "      <th>delete_duplicate_colums_with_spaces</th>\n",
       "      <th>delete_duplicate_rows</th>\n",
       "      <th>delete_renamed_duplicate_columns</th>\n",
       "      <th>remove_bad_characters</th>\n",
       "    </tr>\n",
       "  </thead>\n",
       "  <tbody>\n",
       "    <tr>\n",
       "      <th>0</th>\n",
       "      <td>320_U1334_benthic_forams.csv</td>\n",
       "      <td>LIMS/Micropal_CSV_4/320_U1334_benthic_forams.csv</td>\n",
       "      <td>benthic_forams</td>\n",
       "      <td>False</td>\n",
       "      <td>False</td>\n",
       "      <td>False</td>\n",
       "      <td>False</td>\n",
       "      <td>False</td>\n",
       "      <td>False</td>\n",
       "      <td>False</td>\n",
       "    </tr>\n",
       "    <tr>\n",
       "      <th>1</th>\n",
       "      <td>361_U1479B_nannofossils.csv</td>\n",
       "      <td>LIMS/Micropal_CSV_4/361_U1479B_nannofossils.csv</td>\n",
       "      <td>nannofossils</td>\n",
       "      <td>False</td>\n",
       "      <td>False</td>\n",
       "      <td>False</td>\n",
       "      <td>False</td>\n",
       "      <td>False</td>\n",
       "      <td>False</td>\n",
       "      <td>False</td>\n",
       "    </tr>\n",
       "    <tr>\n",
       "      <th>2</th>\n",
       "      <td>372_U1517C_planktic_forams.csv</td>\n",
       "      <td>LIMS/Micropal_CSV_4/372_U1517C_planktic_forams...</td>\n",
       "      <td>planktic_forams</td>\n",
       "      <td>False</td>\n",
       "      <td>False</td>\n",
       "      <td>False</td>\n",
       "      <td>False</td>\n",
       "      <td>False</td>\n",
       "      <td>False</td>\n",
       "      <td>False</td>\n",
       "    </tr>\n",
       "    <tr>\n",
       "      <th>3</th>\n",
       "      <td>317_U1352_planktic_forams.csv</td>\n",
       "      <td>LIMS/Micropal_CSV_4/317_U1352_planktic_forams.csv</td>\n",
       "      <td>planktic_forams</td>\n",
       "      <td>False</td>\n",
       "      <td>False</td>\n",
       "      <td>True</td>\n",
       "      <td>False</td>\n",
       "      <td>False</td>\n",
       "      <td>False</td>\n",
       "      <td>False</td>\n",
       "    </tr>\n",
       "    <tr>\n",
       "      <th>4</th>\n",
       "      <td>323_U1339_palynology.csv</td>\n",
       "      <td>LIMS/Micropal_CSV_4/323_U1339_palynology.csv</td>\n",
       "      <td>palynology</td>\n",
       "      <td>False</td>\n",
       "      <td>False</td>\n",
       "      <td>False</td>\n",
       "      <td>False</td>\n",
       "      <td>False</td>\n",
       "      <td>False</td>\n",
       "      <td>False</td>\n",
       "    </tr>\n",
       "  </tbody>\n",
       "</table>\n",
       "</div>"
      ],
      "text/plain": [
       "                             file  \\\n",
       "0    320_U1334_benthic_forams.csv   \n",
       "1     361_U1479B_nannofossils.csv   \n",
       "2  372_U1517C_planktic_forams.csv   \n",
       "3   317_U1352_planktic_forams.csv   \n",
       "4        323_U1339_palynology.csv   \n",
       "\n",
       "                                                path      taxon_group  \\\n",
       "0   LIMS/Micropal_CSV_4/320_U1334_benthic_forams.csv   benthic_forams   \n",
       "1    LIMS/Micropal_CSV_4/361_U1479B_nannofossils.csv     nannofossils   \n",
       "2  LIMS/Micropal_CSV_4/372_U1517C_planktic_forams...  planktic_forams   \n",
       "3  LIMS/Micropal_CSV_4/317_U1352_planktic_forams.csv  planktic_forams   \n",
       "4       LIMS/Micropal_CSV_4/323_U1339_palynology.csv       palynology   \n",
       "\n",
       "   change_file_encoding  remove_empty_rows  remove_spaces_from_columns  \\\n",
       "0                 False              False                       False   \n",
       "1                 False              False                       False   \n",
       "2                 False              False                       False   \n",
       "3                 False              False                        True   \n",
       "4                 False              False                       False   \n",
       "\n",
       "   delete_duplicate_colums_with_spaces  delete_duplicate_rows  \\\n",
       "0                                False                  False   \n",
       "1                                False                  False   \n",
       "2                                False                  False   \n",
       "3                                False                  False   \n",
       "4                                False                  False   \n",
       "\n",
       "   delete_renamed_duplicate_columns  remove_bad_characters  \n",
       "0                             False                  False  \n",
       "1                             False                  False  \n",
       "2                             False                  False  \n",
       "3                             False                  False  \n",
       "4                             False                  False  "
      ]
     },
     "execution_count": 17,
     "metadata": {},
     "output_type": "execute_result"
    }
   ],
   "source": [
    "metadata = pd.read_csv(metadata_file)\n",
    "metadata.head()"
   ]
  },
  {
   "cell_type": "code",
   "execution_count": 18,
   "metadata": {},
   "outputs": [],
   "source": [
    "data = []\n",
    "for path in metadata['path']:\n",
    "    df = pd.read_csv(clean_data_path/path, dtype=str)\n",
    "    df.dropna(axis=\"columns\", how='all', inplace=True)\n",
    "    for col in df.columns:\n",
    "        data.append({\"path\": path, \"column\": col})"
   ]
  },
  {
   "cell_type": "code",
   "execution_count": 19,
   "metadata": {},
   "outputs": [
    {
     "data": {
      "text/plain": [
       "(6176, 2)"
      ]
     },
     "execution_count": 19,
     "metadata": {},
     "output_type": "execute_result"
    }
   ],
   "source": [
    "all_df = pd.DataFrame(data)\n",
    "all_df.shape"
   ]
  },
  {
   "cell_type": "code",
   "execution_count": 20,
   "metadata": {},
   "outputs": [],
   "source": [
    "all_df.to_csv('../../output/tmp/LIMS_taxa_4_columns_2020-02-23.csv')"
   ]
  },
  {
   "cell_type": "markdown",
   "metadata": {},
   "source": [
    "## search for column"
   ]
  },
  {
   "cell_type": "code",
   "execution_count": 5,
   "metadata": {},
   "outputs": [],
   "source": [
    "def find_column_value(all_columns_path, column, copy_files=False):\n",
    "    all_df = pd.read_csv(all_columns_path, dtype=str)\n",
    "    files = list(all_df[all_df['column'] == column]['path'].unique())\n",
    "    \n",
    "    print(f'\"{column}\" found in {len(files)} files\\n')\n",
    "\n",
    "    for file in files:\n",
    "        path = CLEAN_DATA_DIR/file\n",
    "        df = pd.read_csv(path, dtype=str, usecols=[column])\n",
    "        df[column].dropna(inplace=True)\n",
    "        \n",
    "        print(file, '\\n')\n",
    "        if len(df[column].unique()) > 0:\n",
    "            print(' | '.join(df[column].fillna('').unique()))\n",
    "            print('----')\n",
    "        \n",
    "        if copy_files:\n",
    "            temp_path = Path('temp', column)\n",
    "            if not os.path.exists(temp_path):\n",
    "                os.makedirs(temp_path)\n",
    "            shutil.copy(path, temp_path)\n"
   ]
  },
  {
   "cell_type": "code",
   "execution_count": 10,
   "metadata": {},
   "outputs": [
    {
     "name": "stdout",
     "output_type": "stream",
     "text": [
      "\"Other taxa\" found in 1 files\n",
      "\n",
      "LIMS/Micropal_CSV_4/323_U1339B_nannofossils.csv \n",
      "\n",
      "unidentified spec (1)\n",
      "----\n"
     ]
    }
   ],
   "source": [
    "\n",
    "\n",
    "column = 'Other taxa'\n",
    "\n",
    "# all_columns_path = '../../output/tmp/all_LIMS_taxa_columns_2020-02-23.csv'\n",
    "all_columns_path = '../../output/tmp/LIMS_taxa_4_columns_2020-02-23.csv'\n",
    "\n",
    "find_column_value(all_columns_path, column, False)"
   ]
  },
  {
   "cell_type": "code",
   "execution_count": 71,
   "metadata": {},
   "outputs": [],
   "source": []
  },
  {
   "cell_type": "code",
   "execution_count": 4,
   "metadata": {},
   "outputs": [
    {
     "data": {
      "text/html": [
       "<div>\n",
       "<style scoped>\n",
       "    .dataframe tbody tr th:only-of-type {\n",
       "        vertical-align: middle;\n",
       "    }\n",
       "\n",
       "    .dataframe tbody tr th {\n",
       "        vertical-align: top;\n",
       "    }\n",
       "\n",
       "    .dataframe thead th {\n",
       "        text-align: right;\n",
       "    }\n",
       "</style>\n",
       "<table border=\"1\" class=\"dataframe\">\n",
       "  <thead>\n",
       "    <tr style=\"text-align: right;\">\n",
       "      <th></th>\n",
       "      <th>file</th>\n",
       "      <th>path</th>\n",
       "      <th>taxon_group</th>\n",
       "      <th>change_file_encoding</th>\n",
       "      <th>remove_empty_rows</th>\n",
       "      <th>remove_spaces_from_columns</th>\n",
       "      <th>delete_duplicate_colums_with_spaces</th>\n",
       "      <th>delete_duplicate_rows</th>\n",
       "      <th>delete_renamed_duplicate_columns</th>\n",
       "      <th>remove_bad_characters</th>\n",
       "    </tr>\n",
       "  </thead>\n",
       "  <tbody>\n",
       "    <tr>\n",
       "      <th>0</th>\n",
       "      <td>320_U1334_benthic_forams.csv</td>\n",
       "      <td>LIMS/Micropal_CSV_4/320_U1334_benthic_forams.csv</td>\n",
       "      <td>benthic_forams</td>\n",
       "      <td>False</td>\n",
       "      <td>False</td>\n",
       "      <td>False</td>\n",
       "      <td>False</td>\n",
       "      <td>False</td>\n",
       "      <td>False</td>\n",
       "      <td>False</td>\n",
       "    </tr>\n",
       "    <tr>\n",
       "      <th>1</th>\n",
       "      <td>361_U1479B_nannofossils.csv</td>\n",
       "      <td>LIMS/Micropal_CSV_4/361_U1479B_nannofossils.csv</td>\n",
       "      <td>nannofossils</td>\n",
       "      <td>False</td>\n",
       "      <td>False</td>\n",
       "      <td>False</td>\n",
       "      <td>False</td>\n",
       "      <td>False</td>\n",
       "      <td>False</td>\n",
       "      <td>False</td>\n",
       "    </tr>\n",
       "    <tr>\n",
       "      <th>2</th>\n",
       "      <td>372_U1517C_planktic_forams.csv</td>\n",
       "      <td>LIMS/Micropal_CSV_4/372_U1517C_planktic_forams...</td>\n",
       "      <td>planktic_forams</td>\n",
       "      <td>False</td>\n",
       "      <td>False</td>\n",
       "      <td>False</td>\n",
       "      <td>False</td>\n",
       "      <td>False</td>\n",
       "      <td>False</td>\n",
       "      <td>False</td>\n",
       "    </tr>\n",
       "    <tr>\n",
       "      <th>3</th>\n",
       "      <td>317_U1352_planktic_forams.csv</td>\n",
       "      <td>LIMS/Micropal_CSV_4/317_U1352_planktic_forams.csv</td>\n",
       "      <td>planktic_forams</td>\n",
       "      <td>False</td>\n",
       "      <td>False</td>\n",
       "      <td>True</td>\n",
       "      <td>False</td>\n",
       "      <td>False</td>\n",
       "      <td>False</td>\n",
       "      <td>False</td>\n",
       "    </tr>\n",
       "    <tr>\n",
       "      <th>4</th>\n",
       "      <td>323_U1339_palynology.csv</td>\n",
       "      <td>LIMS/Micropal_CSV_4/323_U1339_palynology.csv</td>\n",
       "      <td>palynology</td>\n",
       "      <td>False</td>\n",
       "      <td>False</td>\n",
       "      <td>False</td>\n",
       "      <td>False</td>\n",
       "      <td>False</td>\n",
       "      <td>False</td>\n",
       "      <td>False</td>\n",
       "    </tr>\n",
       "  </tbody>\n",
       "</table>\n",
       "</div>"
      ],
      "text/plain": [
       "                             file  \\\n",
       "0    320_U1334_benthic_forams.csv   \n",
       "1     361_U1479B_nannofossils.csv   \n",
       "2  372_U1517C_planktic_forams.csv   \n",
       "3   317_U1352_planktic_forams.csv   \n",
       "4        323_U1339_palynology.csv   \n",
       "\n",
       "                                                path      taxon_group  \\\n",
       "0   LIMS/Micropal_CSV_4/320_U1334_benthic_forams.csv   benthic_forams   \n",
       "1    LIMS/Micropal_CSV_4/361_U1479B_nannofossils.csv     nannofossils   \n",
       "2  LIMS/Micropal_CSV_4/372_U1517C_planktic_forams...  planktic_forams   \n",
       "3  LIMS/Micropal_CSV_4/317_U1352_planktic_forams.csv  planktic_forams   \n",
       "4       LIMS/Micropal_CSV_4/323_U1339_palynology.csv       palynology   \n",
       "\n",
       "   change_file_encoding  remove_empty_rows  remove_spaces_from_columns  \\\n",
       "0                 False              False                       False   \n",
       "1                 False              False                       False   \n",
       "2                 False              False                       False   \n",
       "3                 False              False                        True   \n",
       "4                 False              False                       False   \n",
       "\n",
       "   delete_duplicate_colums_with_spaces  delete_duplicate_rows  \\\n",
       "0                                False                  False   \n",
       "1                                False                  False   \n",
       "2                                False                  False   \n",
       "3                                False                  False   \n",
       "4                                False                  False   \n",
       "\n",
       "   delete_renamed_duplicate_columns  remove_bad_characters  \n",
       "0                             False                  False  \n",
       "1                             False                  False  \n",
       "2                             False                  False  \n",
       "3                             False                  False  \n",
       "4                             False                  False  "
      ]
     },
     "execution_count": 4,
     "metadata": {},
     "output_type": "execute_result"
    }
   ],
   "source": [
    "metadata = pd.read_csv(metadata_file)\n",
    "metadata.head()"
   ]
  },
  {
   "cell_type": "code",
   "execution_count": 14,
   "metadata": {},
   "outputs": [],
   "source": [
    "data = []\n",
    "for path in metadata['path']:\n",
    "    if '317_U1351_planktic_forams.csv' in str(path):\n",
    "        header = 1\n",
    "    else:\n",
    "        header = 0\n",
    "    df = pd.read_csv(clean_data_path/path, dtype=str, header=header)\n",
    "    df.dropna(axis=\"columns\", how='all', inplace=True)\n",
    "    for index, row in df.iterrows():\n",
    "        row_data = {\"path\": path}\n",
    "        for col in df.columns:\n",
    "            row_data[col] = row[col]\n",
    "        data.append(row_data)"
   ]
  },
  {
   "cell_type": "code",
   "execution_count": 15,
   "metadata": {},
   "outputs": [
    {
     "data": {
      "text/plain": [
       "6818"
      ]
     },
     "execution_count": 15,
     "metadata": {},
     "output_type": "execute_result"
    }
   ],
   "source": [
    "len(data)"
   ]
  },
  {
   "cell_type": "code",
   "execution_count": 16,
   "metadata": {},
   "outputs": [
    {
     "data": {
      "text/plain": [
       "(6818, 1712)"
      ]
     },
     "execution_count": 16,
     "metadata": {},
     "output_type": "execute_result"
    }
   ],
   "source": [
    "new_df = pd.DataFrame(data)\n",
    "new_df.shape"
   ]
  },
  {
   "cell_type": "code",
   "execution_count": 17,
   "metadata": {},
   "outputs": [],
   "source": [
    "new_df = new_df[sorted(new_df.columns)]\n"
   ]
  },
  {
   "cell_type": "code",
   "execution_count": 18,
   "metadata": {},
   "outputs": [],
   "source": [
    "new_df.to_csv('../../output/tmp/combine_mircopal_4.csv')"
   ]
  },
  {
   "cell_type": "code",
   "execution_count": null,
   "metadata": {},
   "outputs": [],
   "source": []
  }
 ],
 "metadata": {
  "kernelspec": {
   "display_name": "Python 3",
   "language": "python",
   "name": "python3"
  },
  "language_info": {
   "codemirror_mode": {
    "name": "ipython",
    "version": 3
   },
   "file_extension": ".py",
   "mimetype": "text/x-python",
   "name": "python",
   "nbconvert_exporter": "python",
   "pygments_lexer": "ipython3",
   "version": "3.6.8"
  }
 },
 "nbformat": 4,
 "nbformat_minor": 4
}
