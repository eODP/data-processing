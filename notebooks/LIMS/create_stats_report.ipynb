{
 "cells": [
  {
   "cell_type": "markdown",
   "metadata": {},
   "source": [
    "# create stats for report"
   ]
  },
  {
   "cell_type": "code",
   "execution_count": 2,
   "metadata": {},
   "outputs": [],
   "source": [
    "import sys\n",
    "sys.path.append('../../')\n",
    "import glob\n",
    "import shutil\n",
    "from pathlib import Path\n",
    "import os\n",
    "\n",
    "import numpy as np\n",
    "import pandas as pd\n",
    "from config import CLEAN_DATA_DIR, OUTPUT_DIR, RAW_DATA_DIR\n",
    "import db as db\n",
    "from scripts.normalize_taxa import add_normalized_name_column\n",
    "\n",
    "from scripts.normalize_data import (\n",
    "    check_duplicate_columns\n",
    ")\n",
    "\n",
    "from scripts.shared_utils import (\n",
    "    create_df_from_db_rows, \n",
    "    log_df\n",
    ")"
   ]
  },
  {
   "cell_type": "code",
   "execution_count": 3,
   "metadata": {},
   "outputs": [],
   "source": [
    "clean_data_path = CLEAN_DATA_DIR\n",
    "\n",
    "metadata_file = OUTPUT_DIR/'metadata'/'LIMS'/'Micropal_changes.csv' \n",
    "# metadata_file = OUTPUT_DIR/'metadata'/'LIMS'/'Micropal_changes_4.csv' \n",
    "\n",
    "\n",
    "date = '2022-11-15'\n",
    "\n",
    "taxa_list_file = OUTPUT_DIR/'taxa'/'LIMS'/f\"taxa_list_{date}.csv\"\n",
    "taxa_crosswalk_list_file = OUTPUT_DIR/'taxa'/'LIMS'/f\"taxa_crosswalk_{date}.csv\"\n",
    "\n",
    "PI_file = RAW_DATA_DIR/'PI_processed_files'/f'LIMS_Micropal_headers_PBDB_Taxonomy_notes_taxa_list_{date}.csv'\n",
    "PI_4_file = OUTPUT_DIR /'taxa'/'LIMS'/f'PI_Micropal_CSV_4_normalized_taxa_list_with_pbdb_{date}.csv'\n",
    "additional_taxa_path = OUTPUT_DIR/'taxa'/'LIMS'/f'addtional_species_{date}.csv'\n",
    "PI_NOAA_file = OUTPUT_DIR/'taxa'/'NOAA'/f'taxa_crosswalk_{date}.csv'\n",
    "\n",
    "all_columns_file = OUTPUT_DIR/'tmp/all_LIMS_taxa_columns.csv'\n"
   ]
  },
  {
   "cell_type": "markdown",
   "metadata": {
    "tags": []
   },
   "source": [
    "## LIMS taxa stats"
   ]
  },
  {
   "cell_type": "code",
   "execution_count": 7,
   "metadata": {},
   "outputs": [
    {
     "name": "stdout",
     "output_type": "stream",
     "text": [
      "[10803, 19775, 43760]\n"
     ]
    }
   ],
   "source": [
    "sql = \"\"\"\n",
    "select count(distinct  sections.core_id),\n",
    "count (distinct sections.id),\n",
    "count (distinct samples.id)\n",
    "\n",
    "from sections \n",
    "join samples on samples.section_id = sections.id\n",
    "where samples.data_source_type = 'micropal csv';\n",
    "\n",
    "\"\"\"\n",
    "\n",
    "row = db.fetch_one(sql)\n",
    "print(row)\n",
    "## 10,803 cores\n",
    "## 19,775 sections\n",
    "## 43,760 samples"
   ]
  },
  {
   "cell_type": "code",
   "execution_count": 10,
   "metadata": {},
   "outputs": [
    {
     "name": "stdout",
     "output_type": "stream",
     "text": [
      "4694\n",
      "5380\n",
      "13\n"
     ]
    }
   ],
   "source": [
    "\n",
    "\n",
    "sql = \"\"\"\n",
    "select count(*)from taxa;\n",
    "\"\"\"\n",
    "\n",
    "row = db.fetch_one(sql)\n",
    "print(  row['count'])\n",
    "\n",
    "\n",
    "sql = \"\"\"\n",
    "select count(*)from taxa_crosswalk;\n",
    "\"\"\"\n",
    "\n",
    "row = db.fetch_one(sql)\n",
    "print(  row['count'])\n",
    "\n",
    "\n",
    "sql = \"\"\"\n",
    "select count(distinct taxon_group)from taxa;\n",
    "\"\"\"\n",
    "\n",
    "row = db.fetch_one(sql)\n",
    "print(  row['count'])\n",
    "\n",
    "\n"
   ]
  },
  {
   "cell_type": "code",
   "execution_count": 32,
   "metadata": {},
   "outputs": [
    {
     "data": {
      "text/plain": [
       "4736"
      ]
     },
     "execution_count": 32,
     "metadata": {},
     "output_type": "execute_result"
    }
   ],
   "source": [
    "sql = \"\"\"\n",
    "select  \n",
    "taxa.name, taxa.taxon_group, taxa.pbdb_taxon_id,\n",
    "array_to_string(array_agg(taxa_crosswalk.verbatim_name), '; ') as verbatim_name, \n",
    "array_to_string(array_agg(taxa_crosswalk.comment), '; ') as comment\n",
    "from taxa \n",
    "join taxa_crosswalk on taxa.id = taxa_crosswalk.taxon_id\n",
    "where   taxa.id in (select taxon_id from samples_taxa)\n",
    "group by taxa.name, taxa.taxon_group , taxa.pbdb_taxon_id\n",
    "order by taxa.name, taxa.taxon_group,  verbatim_name, comment ;\n",
    "\"\"\"\n",
    "\n",
    "rows = db.fetch_all_dict(sql)\n",
    "len(rows)\n",
    "\n",
    "# 4735"
   ]
  },
  {
   "cell_type": "code",
   "execution_count": 33,
   "metadata": {},
   "outputs": [
    {
     "data": {
      "text/html": [
       "<div>\n",
       "<style scoped>\n",
       "    .dataframe tbody tr th:only-of-type {\n",
       "        vertical-align: middle;\n",
       "    }\n",
       "\n",
       "    .dataframe tbody tr th {\n",
       "        vertical-align: top;\n",
       "    }\n",
       "\n",
       "    .dataframe thead th {\n",
       "        text-align: right;\n",
       "    }\n",
       "</style>\n",
       "<table border=\"1\" class=\"dataframe\">\n",
       "  <thead>\n",
       "    <tr style=\"text-align: right;\">\n",
       "      <th></th>\n",
       "      <th>name</th>\n",
       "      <th>taxon_group</th>\n",
       "      <th>pbdb_taxon_id</th>\n",
       "      <th>verbatim_name</th>\n",
       "      <th>comment</th>\n",
       "    </tr>\n",
       "  </thead>\n",
       "  <tbody>\n",
       "    <tr>\n",
       "      <th>0</th>\n",
       "      <td>\"Amorphous organic matter\"</td>\n",
       "      <td>dinoflagellates</td>\n",
       "      <td>&lt;NA&gt;</td>\n",
       "      <td>Amorphous organic matter</td>\n",
       "      <td>not a taxa name</td>\n",
       "    </tr>\n",
       "    <tr>\n",
       "      <th>1</th>\n",
       "      <td>\"Amorphous organic matter\"</td>\n",
       "      <td>palynology</td>\n",
       "      <td>&lt;NA&gt;</td>\n",
       "      <td>Amorphous organic matter</td>\n",
       "      <td>not a taxa name</td>\n",
       "    </tr>\n",
       "    <tr>\n",
       "      <th>2</th>\n",
       "      <td>\"Black phytoclasts\"</td>\n",
       "      <td>dinoflagellates</td>\n",
       "      <td>&lt;NA&gt;</td>\n",
       "      <td>Black phytoclasts</td>\n",
       "      <td>not a taxa name</td>\n",
       "    </tr>\n",
       "    <tr>\n",
       "      <th>3</th>\n",
       "      <td>\"Black phytoclasts\"</td>\n",
       "      <td>palynology</td>\n",
       "      <td>&lt;NA&gt;</td>\n",
       "      <td>Black phytoclasts</td>\n",
       "      <td>not a taxa name</td>\n",
       "    </tr>\n",
       "    <tr>\n",
       "      <th>4</th>\n",
       "      <td>\"Black woody phytoclasts\"</td>\n",
       "      <td>palynology</td>\n",
       "      <td>&lt;NA&gt;</td>\n",
       "      <td>Black woody phytoclasts</td>\n",
       "      <td>not a taxa name</td>\n",
       "    </tr>\n",
       "  </tbody>\n",
       "</table>\n",
       "</div>"
      ],
      "text/plain": [
       "                         name      taxon_group  pbdb_taxon_id  \\\n",
       "0  \"Amorphous organic matter\"  dinoflagellates           <NA>   \n",
       "1  \"Amorphous organic matter\"       palynology           <NA>   \n",
       "2         \"Black phytoclasts\"  dinoflagellates           <NA>   \n",
       "3         \"Black phytoclasts\"       palynology           <NA>   \n",
       "4   \"Black woody phytoclasts\"       palynology           <NA>   \n",
       "\n",
       "              verbatim_name          comment  \n",
       "0  Amorphous organic matter  not a taxa name  \n",
       "1  Amorphous organic matter  not a taxa name  \n",
       "2         Black phytoclasts  not a taxa name  \n",
       "3         Black phytoclasts  not a taxa name  \n",
       "4   Black woody phytoclasts  not a taxa name  "
      ]
     },
     "execution_count": 33,
     "metadata": {},
     "output_type": "execute_result"
    }
   ],
   "source": [
    "df = create_df_from_db_rows(rows)\n",
    "df['pbdb_taxon_id'] = df['pbdb_taxon_id'].astype(pd.Int64Dtype())\n",
    "df.head()"
   ]
  },
  {
   "cell_type": "code",
   "execution_count": 34,
   "metadata": {},
   "outputs": [],
   "source": [
    "# df.to_csv(OUTPUT_DIR/'taxa'/'LIMS'/f'taxa_list_distinct_taxonomic_entries_{date}.csv', index=False)"
   ]
  },
  {
   "cell_type": "code",
   "execution_count": 30,
   "metadata": {},
   "outputs": [
    {
     "data": {
      "text/plain": [
       "4692"
      ]
     },
     "execution_count": 30,
     "metadata": {},
     "output_type": "execute_result"
    }
   ],
   "source": [
    "sql = \"\"\"\n",
    "select count(distinct taxon_id) from samples_taxa;\n",
    "\"\"\"\n",
    "\n",
    "db.fetch_one(sql)[0]"
   ]
  },
  {
   "cell_type": "code",
   "execution_count": 31,
   "metadata": {},
   "outputs": [
    {
     "data": {
      "text/plain": [
       "4692"
      ]
     },
     "execution_count": 31,
     "metadata": {},
     "output_type": "execute_result"
    }
   ],
   "source": [
    "sql = \"\"\"\n",
    "select count(distinct(taxa.name, taxa.taxon_group))\n",
    "from taxa \n",
    "where taxa.id in (select taxon_id from samples_taxa);\n",
    "\"\"\"\n",
    "\n",
    "db.fetch_one(sql)[0]"
   ]
  },
  {
   "cell_type": "code",
   "execution_count": 32,
   "metadata": {},
   "outputs": [
    {
     "data": {
      "text/plain": [
       "4667"
      ]
     },
     "execution_count": 32,
     "metadata": {},
     "output_type": "execute_result"
    }
   ],
   "source": [
    "sql = \"\"\"\n",
    "select count(distinct(taxa.name))\n",
    "from taxa \n",
    "where taxa.id in (select taxon_id from samples_taxa);\n",
    "\"\"\"\n",
    "\n",
    "db.fetch_one(sql)[0]"
   ]
  },
  {
   "cell_type": "code",
   "execution_count": 33,
   "metadata": {},
   "outputs": [
    {
     "data": {
      "text/plain": [
       "4667"
      ]
     },
     "execution_count": 33,
     "metadata": {},
     "output_type": "execute_result"
    }
   ],
   "source": [
    "sql = \"\"\"\n",
    "select  \n",
    "array_to_string(array_agg(taxa.taxon_group ORDER BY taxa.taxon_group), '; ') as taxon_group, \n",
    "array_to_string(array_agg(taxa_crosswalk.verbatim_name ORDER BY taxa_crosswalk.verbatim_name), '; ') as verbatim_name, \n",
    "taxa.name,\n",
    "array_to_string(array_agg(taxa_crosswalk.comment ORDER BY taxa_crosswalk.comment), '; ') as comment,\n",
    "taxon_name_above_genus,\n",
    "genus_modifier, genus_name,\n",
    "subgenera_modifier, subgenera_name,\n",
    "species_modifier, species_name,\n",
    "subspecies_modifier, subspecies_name,\n",
    "non_taxa_descriptor,\n",
    "array_to_string(array_agg(taxa_crosswalk.comments ORDER BY taxa_crosswalk.comments), '; ') as comments,\n",
    "taxa.pbdb_taxon_id, taxa.pbdb_taxon_rank, taxa.pbdb_taxon_name\n",
    "from taxa \n",
    "join taxa_crosswalk on taxa.id = taxa_crosswalk.taxon_id\n",
    "where   taxa.id in (select taxon_id from samples_taxa)\n",
    "group by taxa.name,  taxon_name_above_genus,\n",
    "genus_modifier, genus_name,\n",
    "subgenera_modifier, subgenera_name,\n",
    "species_modifier, species_name,\n",
    "subspecies_modifier, subspecies_name,\n",
    "non_taxa_descriptor,  \n",
    "taxa.pbdb_taxon_id, taxa.pbdb_taxon_rank, taxa.pbdb_taxon_name\n",
    "order by taxa.name,   verbatim_name, comment ;\n",
    "\"\"\"\n",
    "\n",
    "\n",
    "\n",
    "\n",
    "rows = db.fetch_all_dict(sql)\n",
    "len(rows)\n",
    "\n",
    "# 4667"
   ]
  },
  {
   "cell_type": "code",
   "execution_count": 34,
   "metadata": {},
   "outputs": [
    {
     "data": {
      "text/html": [
       "<div>\n",
       "<style scoped>\n",
       "    .dataframe tbody tr th:only-of-type {\n",
       "        vertical-align: middle;\n",
       "    }\n",
       "\n",
       "    .dataframe tbody tr th {\n",
       "        vertical-align: top;\n",
       "    }\n",
       "\n",
       "    .dataframe thead th {\n",
       "        text-align: right;\n",
       "    }\n",
       "</style>\n",
       "<table border=\"1\" class=\"dataframe\">\n",
       "  <thead>\n",
       "    <tr style=\"text-align: right;\">\n",
       "      <th></th>\n",
       "      <th>taxon_group</th>\n",
       "      <th>verbatim_name</th>\n",
       "      <th>name</th>\n",
       "      <th>comment</th>\n",
       "      <th>taxon_name_above_genus</th>\n",
       "      <th>genus_modifier</th>\n",
       "      <th>genus_name</th>\n",
       "      <th>subgenera_modifier</th>\n",
       "      <th>subgenera_name</th>\n",
       "      <th>species_modifier</th>\n",
       "      <th>species_name</th>\n",
       "      <th>subspecies_modifier</th>\n",
       "      <th>subspecies_name</th>\n",
       "      <th>non_taxa_descriptor</th>\n",
       "      <th>comments</th>\n",
       "      <th>pbdb_taxon_id</th>\n",
       "      <th>pbdb_taxon_rank</th>\n",
       "      <th>pbdb_taxon_name</th>\n",
       "    </tr>\n",
       "  </thead>\n",
       "  <tbody>\n",
       "    <tr>\n",
       "      <th>4662</th>\n",
       "      <td>nannofossils</td>\n",
       "      <td>Zygodiscus plectopons</td>\n",
       "      <td>Zygodiscus plectopons</td>\n",
       "      <td>&lt;NA&gt;</td>\n",
       "      <td>&lt;NA&gt;</td>\n",
       "      <td>&lt;NA&gt;</td>\n",
       "      <td>Zygodiscus</td>\n",
       "      <td>&lt;NA&gt;</td>\n",
       "      <td>&lt;NA&gt;</td>\n",
       "      <td>&lt;NA&gt;</td>\n",
       "      <td>plectopons</td>\n",
       "      <td>&lt;NA&gt;</td>\n",
       "      <td>&lt;NA&gt;</td>\n",
       "      <td>&lt;NA&gt;</td>\n",
       "      <td>&lt;NA&gt;</td>\n",
       "      <td>87678</td>\n",
       "      <td>genus</td>\n",
       "      <td>Zygodiscus</td>\n",
       "    </tr>\n",
       "    <tr>\n",
       "      <th>4663</th>\n",
       "      <td>nannofossils</td>\n",
       "      <td>Zygrhablithus bijugatus</td>\n",
       "      <td>Zygrhablithus bijugatus</td>\n",
       "      <td>&lt;NA&gt;</td>\n",
       "      <td>&lt;NA&gt;</td>\n",
       "      <td>&lt;NA&gt;</td>\n",
       "      <td>Zygrhablithus</td>\n",
       "      <td>&lt;NA&gt;</td>\n",
       "      <td>&lt;NA&gt;</td>\n",
       "      <td>&lt;NA&gt;</td>\n",
       "      <td>bijugatus</td>\n",
       "      <td>&lt;NA&gt;</td>\n",
       "      <td>&lt;NA&gt;</td>\n",
       "      <td>&lt;NA&gt;</td>\n",
       "      <td>&lt;NA&gt;</td>\n",
       "      <td>416732</td>\n",
       "      <td>species</td>\n",
       "      <td>Zygrhablithus bijugatus</td>\n",
       "    </tr>\n",
       "    <tr>\n",
       "      <th>4664</th>\n",
       "      <td>radiolarians</td>\n",
       "      <td>Spongurus cf. elliptica</td>\n",
       "      <td>cf. Spongurus elliptica</td>\n",
       "      <td>&lt;NA&gt;</td>\n",
       "      <td>&lt;NA&gt;</td>\n",
       "      <td>cf.</td>\n",
       "      <td>Spongurus</td>\n",
       "      <td>&lt;NA&gt;</td>\n",
       "      <td>&lt;NA&gt;</td>\n",
       "      <td>&lt;NA&gt;</td>\n",
       "      <td>elliptica</td>\n",
       "      <td>&lt;NA&gt;</td>\n",
       "      <td>&lt;NA&gt;</td>\n",
       "      <td>&lt;NA&gt;</td>\n",
       "      <td>&lt;NA&gt;</td>\n",
       "      <td>328</td>\n",
       "      <td>genus</td>\n",
       "      <td>Spongurus</td>\n",
       "    </tr>\n",
       "    <tr>\n",
       "      <th>4665</th>\n",
       "      <td>radiolarians</td>\n",
       "      <td>Thyrsocyrtis cf. norrisi</td>\n",
       "      <td>cf. Thyrsocyrtis norrisi</td>\n",
       "      <td>&lt;NA&gt;</td>\n",
       "      <td>&lt;NA&gt;</td>\n",
       "      <td>cf.</td>\n",
       "      <td>Thyrsocyrtis</td>\n",
       "      <td>&lt;NA&gt;</td>\n",
       "      <td>&lt;NA&gt;</td>\n",
       "      <td>&lt;NA&gt;</td>\n",
       "      <td>norrisi</td>\n",
       "      <td>&lt;NA&gt;</td>\n",
       "      <td>&lt;NA&gt;</td>\n",
       "      <td>&lt;NA&gt;</td>\n",
       "      <td>&lt;NA&gt;</td>\n",
       "      <td>685</td>\n",
       "      <td>genus</td>\n",
       "      <td>Thyrsocyrtis</td>\n",
       "    </tr>\n",
       "    <tr>\n",
       "      <th>4666</th>\n",
       "      <td>radiolarians</td>\n",
       "      <td>Velicucullus sp. cf. oddgurneri</td>\n",
       "      <td>cf. Velicucullus oddgurneri</td>\n",
       "      <td>&lt;NA&gt;</td>\n",
       "      <td>&lt;NA&gt;</td>\n",
       "      <td>cf.</td>\n",
       "      <td>Velicucullus</td>\n",
       "      <td>&lt;NA&gt;</td>\n",
       "      <td>&lt;NA&gt;</td>\n",
       "      <td>&lt;NA&gt;</td>\n",
       "      <td>oddgurneri</td>\n",
       "      <td>&lt;NA&gt;</td>\n",
       "      <td>&lt;NA&gt;</td>\n",
       "      <td>&lt;NA&gt;</td>\n",
       "      <td>&lt;NA&gt;</td>\n",
       "      <td>705</td>\n",
       "      <td>genus</td>\n",
       "      <td>Velicucullus</td>\n",
       "    </tr>\n",
       "  </tbody>\n",
       "</table>\n",
       "</div>"
      ],
      "text/plain": [
       "       taxon_group                    verbatim_name  \\\n",
       "4662  nannofossils            Zygodiscus plectopons   \n",
       "4663  nannofossils          Zygrhablithus bijugatus   \n",
       "4664  radiolarians          Spongurus cf. elliptica   \n",
       "4665  radiolarians         Thyrsocyrtis cf. norrisi   \n",
       "4666  radiolarians  Velicucullus sp. cf. oddgurneri   \n",
       "\n",
       "                             name comment taxon_name_above_genus  \\\n",
       "4662        Zygodiscus plectopons    <NA>                   <NA>   \n",
       "4663      Zygrhablithus bijugatus    <NA>                   <NA>   \n",
       "4664      cf. Spongurus elliptica    <NA>                   <NA>   \n",
       "4665     cf. Thyrsocyrtis norrisi    <NA>                   <NA>   \n",
       "4666  cf. Velicucullus oddgurneri    <NA>                   <NA>   \n",
       "\n",
       "     genus_modifier     genus_name subgenera_modifier subgenera_name  \\\n",
       "4662           <NA>     Zygodiscus               <NA>           <NA>   \n",
       "4663           <NA>  Zygrhablithus               <NA>           <NA>   \n",
       "4664            cf.      Spongurus               <NA>           <NA>   \n",
       "4665            cf.   Thyrsocyrtis               <NA>           <NA>   \n",
       "4666            cf.   Velicucullus               <NA>           <NA>   \n",
       "\n",
       "     species_modifier species_name subspecies_modifier subspecies_name  \\\n",
       "4662             <NA>   plectopons                <NA>            <NA>   \n",
       "4663             <NA>    bijugatus                <NA>            <NA>   \n",
       "4664             <NA>    elliptica                <NA>            <NA>   \n",
       "4665             <NA>      norrisi                <NA>            <NA>   \n",
       "4666             <NA>   oddgurneri                <NA>            <NA>   \n",
       "\n",
       "     non_taxa_descriptor comments  pbdb_taxon_id pbdb_taxon_rank  \\\n",
       "4662                <NA>     <NA>          87678           genus   \n",
       "4663                <NA>     <NA>         416732         species   \n",
       "4664                <NA>     <NA>            328           genus   \n",
       "4665                <NA>     <NA>            685           genus   \n",
       "4666                <NA>     <NA>            705           genus   \n",
       "\n",
       "              pbdb_taxon_name  \n",
       "4662               Zygodiscus  \n",
       "4663  Zygrhablithus bijugatus  \n",
       "4664                Spongurus  \n",
       "4665             Thyrsocyrtis  \n",
       "4666             Velicucullus  "
      ]
     },
     "execution_count": 34,
     "metadata": {},
     "output_type": "execute_result"
    }
   ],
   "source": [
    "df = create_df_from_db_rows(rows)\n",
    "df['pbdb_taxon_id'] = df['pbdb_taxon_id'].astype(pd.Int64Dtype())\n",
    "df.tail()"
   ]
  },
  {
   "cell_type": "code",
   "execution_count": 35,
   "metadata": {},
   "outputs": [],
   "source": [
    "df.to_csv(OUTPUT_DIR/'taxa'/'LIMS'/f'taxa_list_distinct_taxonomic_entries_across_groups_{date}.csv', index=False)"
   ]
  },
  {
   "cell_type": "code",
   "execution_count": 94,
   "metadata": {},
   "outputs": [
    {
     "name": "stdout",
     "output_type": "stream",
     "text": [
      "(1769, 3)\n"
     ]
    },
    {
     "data": {
      "text/html": [
       "<div>\n",
       "<style scoped>\n",
       "    .dataframe tbody tr th:only-of-type {\n",
       "        vertical-align: middle;\n",
       "    }\n",
       "\n",
       "    .dataframe tbody tr th {\n",
       "        vertical-align: top;\n",
       "    }\n",
       "\n",
       "    .dataframe thead th {\n",
       "        text-align: right;\n",
       "    }\n",
       "</style>\n",
       "<table border=\"1\" class=\"dataframe\">\n",
       "  <thead>\n",
       "    <tr style=\"text-align: right;\">\n",
       "      <th></th>\n",
       "      <th>name</th>\n",
       "      <th>data_source_notes</th>\n",
       "      <th>data_source_type</th>\n",
       "    </tr>\n",
       "  </thead>\n",
       "  <tbody>\n",
       "    <tr>\n",
       "      <th>0</th>\n",
       "      <td>317</td>\n",
       "      <td>317_Lithostratigraphy_U1351A.csv</td>\n",
       "      <td>lithology csv</td>\n",
       "    </tr>\n",
       "    <tr>\n",
       "      <th>1</th>\n",
       "      <td>317</td>\n",
       "      <td>317_Lithostratigraphy_U1351B.csv</td>\n",
       "      <td>lithology csv</td>\n",
       "    </tr>\n",
       "    <tr>\n",
       "      <th>2</th>\n",
       "      <td>317</td>\n",
       "      <td>317_Lithostratigraphy_U1352A.csv</td>\n",
       "      <td>lithology csv</td>\n",
       "    </tr>\n",
       "    <tr>\n",
       "      <th>3</th>\n",
       "      <td>317</td>\n",
       "      <td>317_Lithostratigraphy_U1352B.csv</td>\n",
       "      <td>lithology csv</td>\n",
       "    </tr>\n",
       "    <tr>\n",
       "      <th>4</th>\n",
       "      <td>317</td>\n",
       "      <td>317_Lithostratigraphy_U1352C.csv</td>\n",
       "      <td>lithology csv</td>\n",
       "    </tr>\n",
       "  </tbody>\n",
       "</table>\n",
       "</div>"
      ],
      "text/plain": [
       "  name                 data_source_notes data_source_type\n",
       "0  317  317_Lithostratigraphy_U1351A.csv    lithology csv\n",
       "1  317  317_Lithostratigraphy_U1351B.csv    lithology csv\n",
       "2  317  317_Lithostratigraphy_U1352A.csv    lithology csv\n",
       "3  317  317_Lithostratigraphy_U1352B.csv    lithology csv\n",
       "4  317  317_Lithostratigraphy_U1352C.csv    lithology csv"
      ]
     },
     "execution_count": 94,
     "metadata": {},
     "output_type": "execute_result"
    }
   ],
   "source": [
    "sql = \"\"\"\n",
    "select distinct samples.raw_data ->> 'Exp' as name, data_source_notes,\n",
    "data_source_type\n",
    "from samples\n",
    "where name is not NULL\n",
    "\"\"\"\n",
    "\n",
    "rows = db.fetch_all_dict(sql)\n",
    "df = pd.DataFrame(rows)\n",
    "log_df(df)"
   ]
  },
  {
   "cell_type": "code",
   "execution_count": 95,
   "metadata": {},
   "outputs": [
    {
     "name": "stdout",
     "output_type": "stream",
     "text": [
      "(38, 2)\n"
     ]
    },
    {
     "data": {
      "text/html": [
       "<div>\n",
       "<style scoped>\n",
       "    .dataframe tbody tr th:only-of-type {\n",
       "        vertical-align: middle;\n",
       "    }\n",
       "\n",
       "    .dataframe tbody tr th {\n",
       "        vertical-align: top;\n",
       "    }\n",
       "\n",
       "    .dataframe thead tr th {\n",
       "        text-align: left;\n",
       "    }\n",
       "\n",
       "    .dataframe thead tr:last-of-type th {\n",
       "        text-align: right;\n",
       "    }\n",
       "</style>\n",
       "<table border=\"1\" class=\"dataframe\">\n",
       "  <thead>\n",
       "    <tr>\n",
       "      <th></th>\n",
       "      <th colspan=\"2\" halign=\"left\">data_source_notes</th>\n",
       "    </tr>\n",
       "    <tr>\n",
       "      <th>data_source_type</th>\n",
       "      <th>lithology csv</th>\n",
       "      <th>micropal csv</th>\n",
       "    </tr>\n",
       "    <tr>\n",
       "      <th>name</th>\n",
       "      <th></th>\n",
       "      <th></th>\n",
       "    </tr>\n",
       "  </thead>\n",
       "  <tbody>\n",
       "    <tr>\n",
       "      <th>317</th>\n",
       "      <td>11.0</td>\n",
       "      <td>16.0</td>\n",
       "    </tr>\n",
       "    <tr>\n",
       "      <th>318</th>\n",
       "      <td>NaN</td>\n",
       "      <td>52.0</td>\n",
       "    </tr>\n",
       "    <tr>\n",
       "      <th>320</th>\n",
       "      <td>16.0</td>\n",
       "      <td>82.0</td>\n",
       "    </tr>\n",
       "    <tr>\n",
       "      <th>321</th>\n",
       "      <td>NaN</td>\n",
       "      <td>15.0</td>\n",
       "    </tr>\n",
       "    <tr>\n",
       "      <th>323</th>\n",
       "      <td>24.0</td>\n",
       "      <td>132.0</td>\n",
       "    </tr>\n",
       "  </tbody>\n",
       "</table>\n",
       "</div>"
      ],
      "text/plain": [
       "                 data_source_notes             \n",
       "data_source_type     lithology csv micropal csv\n",
       "name                                           \n",
       "317                           11.0         16.0\n",
       "318                            NaN         52.0\n",
       "320                           16.0         82.0\n",
       "321                            NaN         15.0\n",
       "323                           24.0        132.0"
      ]
     },
     "execution_count": 95,
     "metadata": {},
     "output_type": "execute_result"
    }
   ],
   "source": [
    "pivot = pd.pivot_table(df, index=['name'], columns=['data_source_type'], values=['data_source_type'], aggfunc='count')\n",
    "log_df(pivot)"
   ]
  },
  {
   "cell_type": "code",
   "execution_count": 96,
   "metadata": {},
   "outputs": [],
   "source": [
    "pivot.to_csv(OUTPUT_DIR/'taxa'/'LIMS'/f'expeditions_2022-12-02.csv')"
   ]
  },
  {
   "cell_type": "code",
   "execution_count": null,
   "metadata": {},
   "outputs": [],
   "source": []
  },
  {
   "cell_type": "code",
   "execution_count": null,
   "metadata": {},
   "outputs": [],
   "source": []
  }
 ],
 "metadata": {
  "kernelspec": {
   "display_name": "Python 3 (ipykernel)",
   "language": "python",
   "name": "python3"
  },
  "language_info": {
   "codemirror_mode": {
    "name": "ipython",
    "version": 3
   },
   "file_extension": ".py",
   "mimetype": "text/x-python",
   "name": "python",
   "nbconvert_exporter": "python",
   "pygments_lexer": "ipython3",
   "version": "3.8.2"
  },
  "vscode": {
   "interpreter": {
    "hash": "eb7f390fd552fd52b6c0e1d9c46d00f03386b64c75099ad2c276e3fb08794b44"
   }
  }
 },
 "nbformat": 4,
 "nbformat_minor": 4
}
