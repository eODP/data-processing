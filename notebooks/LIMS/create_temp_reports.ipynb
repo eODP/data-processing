{
 "cells": [
  {
   "cell_type": "markdown",
   "metadata": {},
   "source": [
    "# create_temp_reports."
   ]
  },
  {
   "cell_type": "code",
   "execution_count": 59,
   "metadata": {},
   "outputs": [],
   "source": [
    "import sys\n",
    "sys.path.append('../../')\n",
    "import glob\n",
    "import shutil\n",
    "from pathlib import Path\n",
    "import os\n",
    "\n",
    "import numpy as np\n",
    "import pandas as pd\n",
    "from config import CLEAN_DATA_DIR, OUTPUT_DIR, RAW_DATA_DIR\n",
    "import db as db\n",
    "from scripts.normalize_taxa import add_normalized_name_column\n",
    "\n",
    "from scripts.normalize_data import (\n",
    "    check_duplicate_columns\n",
    ")"
   ]
  },
  {
   "cell_type": "code",
   "execution_count": 60,
   "metadata": {},
   "outputs": [],
   "source": [
    "clean_data_path = CLEAN_DATA_DIR\n",
    "\n",
    "metadata_file = OUTPUT_DIR/'metadata'/'LIMS'/'Micropal_changes.csv' \n",
    "# metadata_file = OUTPUT_DIR/'metadata'/'LIMS'/'Micropal_changes_4.csv' \n",
    "\n",
    "\n",
    "date = '2022-04-28'\n",
    "\n",
    "\n",
    "taxa_list_file = OUTPUT_DIR/'taxa'/'LIMS'/f\"taxa_list_{date}.csv\"\n",
    "taxa_crosswalk_list_file = OUTPUT_DIR/'taxa'/'LIMS'/f\"taxa_crosswalk_{date}.csv\"\n",
    "\n",
    "PI_4_file = OUTPUT_DIR /'taxa'/'LIMS'/f'PI_Micropal_CSV_4_normalized_taxa_list_with_pbdb_{date}.csv'\n",
    "additional_taxa_path = OUTPUT_DIR/'taxa'/'LIMS'/'addtional_species.csv'\n",
    "PI_file = RAW_DATA_DIR/'PI_processed_files'/f'LIMS_Micropal_headers_PBDB_Taxonomy_notes_taxa_list_{date}.csv'\n"
   ]
  },
  {
   "cell_type": "markdown",
   "metadata": {},
   "source": [
    "## create a file with all columns  in LIMS 4"
   ]
  },
  {
   "cell_type": "code",
   "execution_count": 4,
   "metadata": {},
   "outputs": [
    {
     "data": {
      "text/html": [
       "<div>\n",
       "<style scoped>\n",
       "    .dataframe tbody tr th:only-of-type {\n",
       "        vertical-align: middle;\n",
       "    }\n",
       "\n",
       "    .dataframe tbody tr th {\n",
       "        vertical-align: top;\n",
       "    }\n",
       "\n",
       "    .dataframe thead th {\n",
       "        text-align: right;\n",
       "    }\n",
       "</style>\n",
       "<table border=\"1\" class=\"dataframe\">\n",
       "  <thead>\n",
       "    <tr style=\"text-align: right;\">\n",
       "      <th></th>\n",
       "      <th>file</th>\n",
       "      <th>path</th>\n",
       "      <th>taxon_group</th>\n",
       "      <th>change_file_encoding</th>\n",
       "      <th>remove_empty_rows</th>\n",
       "      <th>remove_spaces_from_columns</th>\n",
       "      <th>delete_duplicate_colums_with_spaces</th>\n",
       "      <th>delete_duplicate_rows</th>\n",
       "      <th>delete_renamed_duplicate_columns</th>\n",
       "      <th>remove_bad_characters</th>\n",
       "    </tr>\n",
       "  </thead>\n",
       "  <tbody>\n",
       "    <tr>\n",
       "      <th>0</th>\n",
       "      <td>320_U1334_benthic_forams.csv</td>\n",
       "      <td>LIMS/Micropal_CSV_4/320_U1334_benthic_forams.csv</td>\n",
       "      <td>benthic_forams</td>\n",
       "      <td>False</td>\n",
       "      <td>False</td>\n",
       "      <td>False</td>\n",
       "      <td>False</td>\n",
       "      <td>False</td>\n",
       "      <td>False</td>\n",
       "      <td>False</td>\n",
       "    </tr>\n",
       "    <tr>\n",
       "      <th>1</th>\n",
       "      <td>361_U1479B_nannofossils.csv</td>\n",
       "      <td>LIMS/Micropal_CSV_4/361_U1479B_nannofossils.csv</td>\n",
       "      <td>nannofossils</td>\n",
       "      <td>False</td>\n",
       "      <td>False</td>\n",
       "      <td>False</td>\n",
       "      <td>False</td>\n",
       "      <td>False</td>\n",
       "      <td>False</td>\n",
       "      <td>False</td>\n",
       "    </tr>\n",
       "    <tr>\n",
       "      <th>2</th>\n",
       "      <td>372_U1517C_planktic_forams.csv</td>\n",
       "      <td>LIMS/Micropal_CSV_4/372_U1517C_planktic_forams...</td>\n",
       "      <td>planktic_forams</td>\n",
       "      <td>False</td>\n",
       "      <td>False</td>\n",
       "      <td>False</td>\n",
       "      <td>False</td>\n",
       "      <td>False</td>\n",
       "      <td>False</td>\n",
       "      <td>False</td>\n",
       "    </tr>\n",
       "    <tr>\n",
       "      <th>3</th>\n",
       "      <td>317_U1352_planktic_forams.csv</td>\n",
       "      <td>LIMS/Micropal_CSV_4/317_U1352_planktic_forams.csv</td>\n",
       "      <td>planktic_forams</td>\n",
       "      <td>False</td>\n",
       "      <td>False</td>\n",
       "      <td>True</td>\n",
       "      <td>False</td>\n",
       "      <td>False</td>\n",
       "      <td>False</td>\n",
       "      <td>False</td>\n",
       "    </tr>\n",
       "    <tr>\n",
       "      <th>4</th>\n",
       "      <td>323_U1339_palynology.csv</td>\n",
       "      <td>LIMS/Micropal_CSV_4/323_U1339_palynology.csv</td>\n",
       "      <td>palynology</td>\n",
       "      <td>False</td>\n",
       "      <td>False</td>\n",
       "      <td>False</td>\n",
       "      <td>False</td>\n",
       "      <td>False</td>\n",
       "      <td>False</td>\n",
       "      <td>False</td>\n",
       "    </tr>\n",
       "  </tbody>\n",
       "</table>\n",
       "</div>"
      ],
      "text/plain": [
       "                             file  \\\n",
       "0    320_U1334_benthic_forams.csv   \n",
       "1     361_U1479B_nannofossils.csv   \n",
       "2  372_U1517C_planktic_forams.csv   \n",
       "3   317_U1352_planktic_forams.csv   \n",
       "4        323_U1339_palynology.csv   \n",
       "\n",
       "                                                path      taxon_group  \\\n",
       "0   LIMS/Micropal_CSV_4/320_U1334_benthic_forams.csv   benthic_forams   \n",
       "1    LIMS/Micropal_CSV_4/361_U1479B_nannofossils.csv     nannofossils   \n",
       "2  LIMS/Micropal_CSV_4/372_U1517C_planktic_forams...  planktic_forams   \n",
       "3  LIMS/Micropal_CSV_4/317_U1352_planktic_forams.csv  planktic_forams   \n",
       "4       LIMS/Micropal_CSV_4/323_U1339_palynology.csv       palynology   \n",
       "\n",
       "   change_file_encoding  remove_empty_rows  remove_spaces_from_columns  \\\n",
       "0                 False              False                       False   \n",
       "1                 False              False                       False   \n",
       "2                 False              False                       False   \n",
       "3                 False              False                        True   \n",
       "4                 False              False                       False   \n",
       "\n",
       "   delete_duplicate_colums_with_spaces  delete_duplicate_rows  \\\n",
       "0                                False                  False   \n",
       "1                                False                  False   \n",
       "2                                False                  False   \n",
       "3                                False                  False   \n",
       "4                                False                  False   \n",
       "\n",
       "   delete_renamed_duplicate_columns  remove_bad_characters  \n",
       "0                             False                  False  \n",
       "1                             False                  False  \n",
       "2                             False                  False  \n",
       "3                             False                  False  \n",
       "4                             False                  False  "
      ]
     },
     "execution_count": 4,
     "metadata": {},
     "output_type": "execute_result"
    }
   ],
   "source": [
    "metadata = pd.read_csv(metadata_file)\n",
    "metadata.head()"
   ]
  },
  {
   "cell_type": "code",
   "execution_count": 14,
   "metadata": {},
   "outputs": [],
   "source": [
    "data = []\n",
    "for path in metadata['path']:\n",
    "    if '317_U1351_planktic_forams.csv' in str(path):\n",
    "        header = 1\n",
    "    else:\n",
    "        header = 0\n",
    "    df = pd.read_csv(clean_data_path/path, dtype=str, header=header)\n",
    "    df.dropna(axis=\"columns\", how='all', inplace=True)\n",
    "    for index, row in df.iterrows():\n",
    "        row_data = {\"path\": path}\n",
    "        for col in df.columns:\n",
    "            row_data[col] = row[col]\n",
    "        data.append(row_data)"
   ]
  },
  {
   "cell_type": "code",
   "execution_count": 15,
   "metadata": {},
   "outputs": [
    {
     "data": {
      "text/plain": [
       "6818"
      ]
     },
     "execution_count": 15,
     "metadata": {},
     "output_type": "execute_result"
    }
   ],
   "source": [
    "len(data)"
   ]
  },
  {
   "cell_type": "code",
   "execution_count": 16,
   "metadata": {},
   "outputs": [
    {
     "data": {
      "text/plain": [
       "(6818, 1712)"
      ]
     },
     "execution_count": 16,
     "metadata": {},
     "output_type": "execute_result"
    }
   ],
   "source": [
    "new_df = pd.DataFrame(data)\n",
    "new_df.shape"
   ]
  },
  {
   "cell_type": "code",
   "execution_count": 17,
   "metadata": {},
   "outputs": [],
   "source": [
    "new_df = new_df[sorted(new_df.columns)]\n"
   ]
  },
  {
   "cell_type": "code",
   "execution_count": 18,
   "metadata": {},
   "outputs": [],
   "source": [
    "new_df.to_csv('../../output/tmp/combine_mircopal_4.csv')"
   ]
  },
  {
   "cell_type": "markdown",
   "metadata": {},
   "source": [
    "## copy files with blank headers"
   ]
  },
  {
   "cell_type": "code",
   "execution_count": null,
   "metadata": {},
   "outputs": [],
   "source": [
    "metadata = pd.read_csv(metadata_file)\n",
    "metadata.head()"
   ]
  },
  {
   "cell_type": "code",
   "execution_count": 80,
   "metadata": {},
   "outputs": [
    {
     "data": {
      "text/plain": [
       "[{'file': '321_Benthic_Forams_U1338A.csv', 'value': 'Bathymetry=LB-A; P/B=1'},\n",
       " {'file': '342_benthic_forams_U1402B.csv', 'value': 7.0},\n",
       " {'file': '342_benthic_forams_U1405A_2.csv', 'value': 2.61},\n",
       " {'file': '342_benthic_forams_U1405A_1.csv', 'value': 6.2},\n",
       " {'file': '342_benthic_forams_U1407A_1.csv', 'value': 6.78},\n",
       " {'file': '342_benthic_forams_U1407A_2.csv', 'value': 11.61},\n",
       " {'file': '342_benthic_forams_U1407B.csv', 'value': 201.3},\n",
       " {'file': '342_benthic_forams_U1404A_1.csv', 'value': 3.45},\n",
       " {'file': '342_benthic_forams_U1408A_1.csv', 'value': 4.36},\n",
       " {'file': '342_benthic_forams_U1404A_2.csv', 'value': 201.92},\n",
       " {'file': '342_benthic_forams_U1408A_2.csv', 'value': 6.81},\n",
       " {'file': '342_benthic_forams_U1406A_2.csv', 'value': 8.71},\n",
       " {'file': '342_benthic_forams_U1406A_1.csv', 'value': 6.23},\n",
       " {'file': '323_U1341A_silicoflagellates.csv',\n",
       "  'value': 'Undefined (Ds. octonarius-Dc. subarctios)'},\n",
       " {'file': '323_U1341B_diatoms.csv', 'value': 'Neodenticula seminae (NPD 12)'}]"
      ]
     },
     "execution_count": 80,
     "metadata": {},
     "output_type": "execute_result"
    }
   ],
   "source": [
    "files = []\n",
    "temp_path = OUTPUT_DIR /'tmp'/ 'missing_headers'\n",
    "if not os.path.exists(temp_path):\n",
    "    os.makedirs(temp_path)\n",
    "    \n",
    "for path in metadata['path']:\n",
    "    file = Path(CLEAN_DATA_DIR/path)\n",
    "    df = pd.read_csv(file)\n",
    "    df = df.dropna(axis=1, how=\"all\")\n",
    "    df = df.dropna(axis=0, how=\"all\")\n",
    "    \n",
    "    for col in df.columns:\n",
    "        if col.startswith('Unnamed'):\n",
    "            files.append({'file': file.name, 'value': df.loc[0, col]})\n",
    "            # shutil.copy(file, temp_path)\n",
    "files"
   ]
  },
  {
   "cell_type": "code",
   "execution_count": 84,
   "metadata": {},
   "outputs": [],
   "source": [
    "new_df = pd.DataFrame(files)\n",
    "new_df = new_df.sort_values('file')\n",
    "new_df.to_csv(temp_path/'file_list.csv', index=False)"
   ]
  },
  {
   "cell_type": "code",
   "execution_count": null,
   "metadata": {},
   "outputs": [],
   "source": []
  }
 ],
 "metadata": {
  "kernelspec": {
   "display_name": "Python 3 (ipykernel)",
   "language": "python",
   "name": "python3"
  },
  "language_info": {
   "codemirror_mode": {
    "name": "ipython",
    "version": 3
   },
   "file_extension": ".py",
   "mimetype": "text/x-python",
   "name": "python",
   "nbconvert_exporter": "python",
   "pygments_lexer": "ipython3",
   "version": "3.8.2"
  }
 },
 "nbformat": 4,
 "nbformat_minor": 4
}
