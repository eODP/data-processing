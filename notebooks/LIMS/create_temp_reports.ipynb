{
 "cells": [
  {
   "cell_type": "markdown",
   "metadata": {},
   "source": [
    "# create_temp_reports."
   ]
  },
  {
   "cell_type": "code",
   "execution_count": 112,
   "metadata": {},
   "outputs": [],
   "source": [
    "import sys\n",
    "sys.path.append('../../')\n",
    "import glob\n",
    "import shutil\n",
    "from pathlib import Path\n",
    "import os\n",
    "\n",
    "import numpy as np\n",
    "import pandas as pd\n",
    "from config import CLEAN_DATA_DIR, OUTPUT_DIR, RAW_DATA_DIR\n",
    "import db as db\n",
    "from scripts.normalize_taxa import add_normalized_name_column\n",
    "\n",
    "from scripts.normalize_data import (\n",
    "    check_duplicate_columns\n",
    ")"
   ]
  },
  {
   "cell_type": "code",
   "execution_count": 43,
   "metadata": {},
   "outputs": [],
   "source": [
    "clean_data_path = CLEAN_DATA_DIR\n",
    "\n",
    "metadata_file = OUTPUT_DIR/'metadata'/'LIMS'/'Micropal_changes.csv' \n",
    "# metadata_file = OUTPUT_DIR/'metadata'/'LIMS'/'Micropal_changes_4.csv' \n",
    "\n",
    "\n",
    "date = '2022-04-28'\n",
    "\n",
    "\n",
    "taxa_list_file = OUTPUT_DIR/'taxa'/'LIMS'/f\"taxa_list_{date}.csv\"\n",
    "taxa_crosswalk_list_file = OUTPUT_DIR/'taxa'/'LIMS'/f\"taxa_crosswalk_{date}.csv\"\n",
    "\n",
    "PI_4_file = OUTPUT_DIR /'taxa'/'LIMS'/f'PI_Micropal_CSV_4_normalized_taxa_list_with_pbdb_{date}.csv'\n",
    "additional_taxa_path = OUTPUT_DIR/'taxa'/'LIMS'/'addtional_species.csv'\n",
    "PI_file = RAW_DATA_DIR/'PI_processed_files'/f'LIMS_Micropal_headers_PBDB_Taxonomy_notes_taxa_list_{date}.csv'\n"
   ]
  },
  {
   "cell_type": "markdown",
   "metadata": {},
   "source": [
    "## create a file with all columns  in LIMS 4"
   ]
  },
  {
   "cell_type": "code",
   "execution_count": 4,
   "metadata": {},
   "outputs": [
    {
     "data": {
      "text/html": [
       "<div>\n",
       "<style scoped>\n",
       "    .dataframe tbody tr th:only-of-type {\n",
       "        vertical-align: middle;\n",
       "    }\n",
       "\n",
       "    .dataframe tbody tr th {\n",
       "        vertical-align: top;\n",
       "    }\n",
       "\n",
       "    .dataframe thead th {\n",
       "        text-align: right;\n",
       "    }\n",
       "</style>\n",
       "<table border=\"1\" class=\"dataframe\">\n",
       "  <thead>\n",
       "    <tr style=\"text-align: right;\">\n",
       "      <th></th>\n",
       "      <th>file</th>\n",
       "      <th>path</th>\n",
       "      <th>taxon_group</th>\n",
       "      <th>change_file_encoding</th>\n",
       "      <th>remove_empty_rows</th>\n",
       "      <th>remove_spaces_from_columns</th>\n",
       "      <th>delete_duplicate_colums_with_spaces</th>\n",
       "      <th>delete_duplicate_rows</th>\n",
       "      <th>delete_renamed_duplicate_columns</th>\n",
       "      <th>remove_bad_characters</th>\n",
       "    </tr>\n",
       "  </thead>\n",
       "  <tbody>\n",
       "    <tr>\n",
       "      <th>0</th>\n",
       "      <td>320_U1334_benthic_forams.csv</td>\n",
       "      <td>LIMS/Micropal_CSV_4/320_U1334_benthic_forams.csv</td>\n",
       "      <td>benthic_forams</td>\n",
       "      <td>False</td>\n",
       "      <td>False</td>\n",
       "      <td>False</td>\n",
       "      <td>False</td>\n",
       "      <td>False</td>\n",
       "      <td>False</td>\n",
       "      <td>False</td>\n",
       "    </tr>\n",
       "    <tr>\n",
       "      <th>1</th>\n",
       "      <td>361_U1479B_nannofossils.csv</td>\n",
       "      <td>LIMS/Micropal_CSV_4/361_U1479B_nannofossils.csv</td>\n",
       "      <td>nannofossils</td>\n",
       "      <td>False</td>\n",
       "      <td>False</td>\n",
       "      <td>False</td>\n",
       "      <td>False</td>\n",
       "      <td>False</td>\n",
       "      <td>False</td>\n",
       "      <td>False</td>\n",
       "    </tr>\n",
       "    <tr>\n",
       "      <th>2</th>\n",
       "      <td>372_U1517C_planktic_forams.csv</td>\n",
       "      <td>LIMS/Micropal_CSV_4/372_U1517C_planktic_forams...</td>\n",
       "      <td>planktic_forams</td>\n",
       "      <td>False</td>\n",
       "      <td>False</td>\n",
       "      <td>False</td>\n",
       "      <td>False</td>\n",
       "      <td>False</td>\n",
       "      <td>False</td>\n",
       "      <td>False</td>\n",
       "    </tr>\n",
       "    <tr>\n",
       "      <th>3</th>\n",
       "      <td>317_U1352_planktic_forams.csv</td>\n",
       "      <td>LIMS/Micropal_CSV_4/317_U1352_planktic_forams.csv</td>\n",
       "      <td>planktic_forams</td>\n",
       "      <td>False</td>\n",
       "      <td>False</td>\n",
       "      <td>True</td>\n",
       "      <td>False</td>\n",
       "      <td>False</td>\n",
       "      <td>False</td>\n",
       "      <td>False</td>\n",
       "    </tr>\n",
       "    <tr>\n",
       "      <th>4</th>\n",
       "      <td>323_U1339_palynology.csv</td>\n",
       "      <td>LIMS/Micropal_CSV_4/323_U1339_palynology.csv</td>\n",
       "      <td>palynology</td>\n",
       "      <td>False</td>\n",
       "      <td>False</td>\n",
       "      <td>False</td>\n",
       "      <td>False</td>\n",
       "      <td>False</td>\n",
       "      <td>False</td>\n",
       "      <td>False</td>\n",
       "    </tr>\n",
       "  </tbody>\n",
       "</table>\n",
       "</div>"
      ],
      "text/plain": [
       "                             file  \\\n",
       "0    320_U1334_benthic_forams.csv   \n",
       "1     361_U1479B_nannofossils.csv   \n",
       "2  372_U1517C_planktic_forams.csv   \n",
       "3   317_U1352_planktic_forams.csv   \n",
       "4        323_U1339_palynology.csv   \n",
       "\n",
       "                                                path      taxon_group  \\\n",
       "0   LIMS/Micropal_CSV_4/320_U1334_benthic_forams.csv   benthic_forams   \n",
       "1    LIMS/Micropal_CSV_4/361_U1479B_nannofossils.csv     nannofossils   \n",
       "2  LIMS/Micropal_CSV_4/372_U1517C_planktic_forams...  planktic_forams   \n",
       "3  LIMS/Micropal_CSV_4/317_U1352_planktic_forams.csv  planktic_forams   \n",
       "4       LIMS/Micropal_CSV_4/323_U1339_palynology.csv       palynology   \n",
       "\n",
       "   change_file_encoding  remove_empty_rows  remove_spaces_from_columns  \\\n",
       "0                 False              False                       False   \n",
       "1                 False              False                       False   \n",
       "2                 False              False                       False   \n",
       "3                 False              False                        True   \n",
       "4                 False              False                       False   \n",
       "\n",
       "   delete_duplicate_colums_with_spaces  delete_duplicate_rows  \\\n",
       "0                                False                  False   \n",
       "1                                False                  False   \n",
       "2                                False                  False   \n",
       "3                                False                  False   \n",
       "4                                False                  False   \n",
       "\n",
       "   delete_renamed_duplicate_columns  remove_bad_characters  \n",
       "0                             False                  False  \n",
       "1                             False                  False  \n",
       "2                             False                  False  \n",
       "3                             False                  False  \n",
       "4                             False                  False  "
      ]
     },
     "execution_count": 4,
     "metadata": {},
     "output_type": "execute_result"
    }
   ],
   "source": [
    "metadata = pd.read_csv(metadata_file)\n",
    "metadata.head()"
   ]
  },
  {
   "cell_type": "code",
   "execution_count": 14,
   "metadata": {},
   "outputs": [],
   "source": [
    "data = []\n",
    "for path in metadata['path']:\n",
    "    if '317_U1351_planktic_forams.csv' in str(path):\n",
    "        header = 1\n",
    "    else:\n",
    "        header = 0\n",
    "    df = pd.read_csv(clean_data_path/path, dtype=str, header=header)\n",
    "    df.dropna(axis=\"columns\", how='all', inplace=True)\n",
    "    for index, row in df.iterrows():\n",
    "        row_data = {\"path\": path}\n",
    "        for col in df.columns:\n",
    "            row_data[col] = row[col]\n",
    "        data.append(row_data)"
   ]
  },
  {
   "cell_type": "code",
   "execution_count": 15,
   "metadata": {},
   "outputs": [
    {
     "data": {
      "text/plain": [
       "6818"
      ]
     },
     "execution_count": 15,
     "metadata": {},
     "output_type": "execute_result"
    }
   ],
   "source": [
    "len(data)"
   ]
  },
  {
   "cell_type": "code",
   "execution_count": 16,
   "metadata": {},
   "outputs": [
    {
     "data": {
      "text/plain": [
       "(6818, 1712)"
      ]
     },
     "execution_count": 16,
     "metadata": {},
     "output_type": "execute_result"
    }
   ],
   "source": [
    "new_df = pd.DataFrame(data)\n",
    "new_df.shape"
   ]
  },
  {
   "cell_type": "code",
   "execution_count": 17,
   "metadata": {},
   "outputs": [],
   "source": [
    "new_df = new_df[sorted(new_df.columns)]\n"
   ]
  },
  {
   "cell_type": "code",
   "execution_count": 18,
   "metadata": {},
   "outputs": [],
   "source": [
    "new_df.to_csv('../../output/tmp/combine_mircopal_4.csv')"
   ]
  },
  {
   "cell_type": "markdown",
   "metadata": {},
   "source": [
    "# LIMS stats for paper"
   ]
  },
  {
   "cell_type": "code",
   "execution_count": 139,
   "metadata": {},
   "outputs": [
    {
     "name": "stdout",
     "output_type": "stream",
     "text": [
      "4675\n"
     ]
    }
   ],
   "source": [
    "sql = \"\"\"\n",
    " select count(*) as count \n",
    " from taxa ;\n",
    "\"\"\"\n",
    "\n",
    "row = db.fetch_one(sql)\n",
    "print(  row['count'])"
   ]
  },
  {
   "cell_type": "code",
   "execution_count": 84,
   "metadata": {},
   "outputs": [
    {
     "name": "stdout",
     "output_type": "stream",
     "text": [
      "benthic_forams 1510\n",
      "bolboformids 2\n",
      "chrysophyte_cysts 1\n",
      "diatoms 654\n",
      "dinoflagellates 53\n",
      "ebridians 6\n",
      "nannofossils 825\n",
      "ostracods 15\n",
      "other 11\n",
      "palynology 133\n",
      "planktic_forams 844\n",
      "radiolarians 598\n",
      "silicoflagellates 23\n"
     ]
    }
   ],
   "source": [
    "sql = \"\"\"\n",
    " select count(*) as count, taxon_group \n",
    " from taxa\n",
    " group by taxon_group;\n",
    "\"\"\"\n",
    "\n",
    "rows = db.fetch_all(sql)\n",
    "for row in rows:\n",
    "    print(row['taxon_group'],  row['count'])"
   ]
  },
  {
   "cell_type": "code",
   "execution_count": 151,
   "metadata": {},
   "outputs": [
    {
     "name": "stdout",
     "output_type": "stream",
     "text": [
      "108\n"
     ]
    }
   ],
   "source": [
    "sql = \"\"\"\n",
    " select count(*) \n",
    " from taxa\n",
    "where taxon_name_above_genus is not null;\n",
    "\"\"\"\n",
    "\n",
    "row = db.fetch_one(sql)\n",
    "print( row['count'])"
   ]
  },
  {
   "cell_type": "code",
   "execution_count": 155,
   "metadata": {},
   "outputs": [
    {
     "name": "stdout",
     "output_type": "stream",
     "text": [
      "1080\n"
     ]
    }
   ],
   "source": [
    "sql = \"\"\"\n",
    " select count(distinct(genus_name || taxon_group))\n",
    " from taxa\n",
    "where genus_name is not null\n",
    ";\n",
    "\"\"\"\n",
    "row = db.fetch_one(sql)\n",
    "print( row['count'])"
   ]
  },
  {
   "cell_type": "code",
   "execution_count": 157,
   "metadata": {},
   "outputs": [
    {
     "name": "stdout",
     "output_type": "stream",
     "text": [
      "4567\n"
     ]
    }
   ],
   "source": [
    "sql = \"\"\"\n",
    " select count(distinct(name || taxon_group))\n",
    " from taxa\n",
    "where species_name is not null\n",
    " ;\n",
    "\"\"\"\n",
    "row = db.fetch_one(sql)\n",
    "print( row['count'])"
   ]
  },
  {
   "cell_type": "code",
   "execution_count": 158,
   "metadata": {},
   "outputs": [
    {
     "name": "stdout",
     "output_type": "stream",
     "text": [
      "138\n"
     ]
    }
   ],
   "source": [
    "sql = \"\"\"\n",
    " select count(distinct(name || taxon_group))\n",
    " from taxa\n",
    "where subspecies_name is not null\n",
    " ;\n",
    "\"\"\"\n",
    "row = db.fetch_one(sql)\n",
    "print( row['count'])"
   ]
  },
  {
   "cell_type": "code",
   "execution_count": 95,
   "metadata": {},
   "outputs": [
    {
     "data": {
      "text/html": [
       "<div>\n",
       "<style scoped>\n",
       "    .dataframe tbody tr th:only-of-type {\n",
       "        vertical-align: middle;\n",
       "    }\n",
       "\n",
       "    .dataframe tbody tr th {\n",
       "        vertical-align: top;\n",
       "    }\n",
       "\n",
       "    .dataframe thead th {\n",
       "        text-align: right;\n",
       "    }\n",
       "</style>\n",
       "<table border=\"1\" class=\"dataframe\">\n",
       "  <thead>\n",
       "    <tr style=\"text-align: right;\">\n",
       "      <th></th>\n",
       "      <th>taxon_group</th>\n",
       "      <th>verbatim_name</th>\n",
       "      <th>name</th>\n",
       "      <th>name to use (if different from \"name\")</th>\n",
       "      <th>name comment field</th>\n",
       "      <th>Comment</th>\n",
       "      <th>Notes (change to Internal only notes?)</th>\n",
       "      <th>Any taxon above genus</th>\n",
       "      <th>genus modifier</th>\n",
       "      <th>genus name</th>\n",
       "      <th>...</th>\n",
       "      <th>family_taxon_name</th>\n",
       "      <th>order_taxon_id</th>\n",
       "      <th>order_taxon_name</th>\n",
       "      <th>class_taxon_id</th>\n",
       "      <th>class_taxon_name</th>\n",
       "      <th>phylum_taxon_id</th>\n",
       "      <th>phylum_taxon_name</th>\n",
       "      <th>kingdom_taxon_id</th>\n",
       "      <th>kingdom_taxon_name</th>\n",
       "      <th>normalized_name</th>\n",
       "    </tr>\n",
       "  </thead>\n",
       "  <tbody>\n",
       "    <tr>\n",
       "      <th>1</th>\n",
       "      <td>benthic_forams</td>\n",
       "      <td>Pyrite</td>\n",
       "      <td>Pyrite</td>\n",
       "      <td>NaN</td>\n",
       "      <td>NaN</td>\n",
       "      <td>not a taxa; Going into Macrostrat, not PBDB</td>\n",
       "      <td>Summer 2020: deal with later; should go in as ...</td>\n",
       "      <td>NaN</td>\n",
       "      <td>NaN</td>\n",
       "      <td>NaN</td>\n",
       "      <td>...</td>\n",
       "      <td>NaN</td>\n",
       "      <td>NaN</td>\n",
       "      <td>NaN</td>\n",
       "      <td>NaN</td>\n",
       "      <td>NaN</td>\n",
       "      <td>NaN</td>\n",
       "      <td>NaN</td>\n",
       "      <td>NaN</td>\n",
       "      <td>NaN</td>\n",
       "      <td></td>\n",
       "    </tr>\n",
       "    <tr>\n",
       "      <th>2</th>\n",
       "      <td>benthic_forams</td>\n",
       "      <td>Euuvigerina miozea (group) &gt;100 m</td>\n",
       "      <td>Euuvigerina miozea (group) &gt;100 m</td>\n",
       "      <td>Euuvigerina miozea</td>\n",
       "      <td>NaN</td>\n",
       "      <td>group</td>\n",
       "      <td>Summer 2020: enter \"Euuvigerina miozea\" and re...</td>\n",
       "      <td>NaN</td>\n",
       "      <td>NaN</td>\n",
       "      <td>Euuvigerina</td>\n",
       "      <td>...</td>\n",
       "      <td>NaN</td>\n",
       "      <td>NaN</td>\n",
       "      <td>NaN</td>\n",
       "      <td>NaN</td>\n",
       "      <td>NaN</td>\n",
       "      <td>288974.0</td>\n",
       "      <td>Foraminifera</td>\n",
       "      <td>212476.0</td>\n",
       "      <td>Rhizaria</td>\n",
       "      <td>Euuvigerina miozea</td>\n",
       "    </tr>\n",
       "  </tbody>\n",
       "</table>\n",
       "<p>2 rows × 33 columns</p>\n",
       "</div>"
      ],
      "text/plain": [
       "      taxon_group                      verbatim_name  \\\n",
       "1  benthic_forams                             Pyrite   \n",
       "2  benthic_forams  Euuvigerina miozea (group) >100 m   \n",
       "\n",
       "                                name name to use (if different from \"name\")  \\\n",
       "1                             Pyrite                                    NaN   \n",
       "2  Euuvigerina miozea (group) >100 m                     Euuvigerina miozea   \n",
       "\n",
       "  name comment field                                      Comment  \\\n",
       "1                NaN  not a taxa; Going into Macrostrat, not PBDB   \n",
       "2                NaN                                        group   \n",
       "\n",
       "              Notes (change to Internal only notes?) Any taxon above genus  \\\n",
       "1  Summer 2020: deal with later; should go in as ...                   NaN   \n",
       "2  Summer 2020: enter \"Euuvigerina miozea\" and re...                   NaN   \n",
       "\n",
       "  genus modifier   genus name  ... family_taxon_name order_taxon_id  \\\n",
       "1            NaN          NaN  ...               NaN            NaN   \n",
       "2            NaN  Euuvigerina  ...               NaN            NaN   \n",
       "\n",
       "  order_taxon_name class_taxon_id class_taxon_name phylum_taxon_id  \\\n",
       "1              NaN            NaN              NaN             NaN   \n",
       "2              NaN            NaN              NaN        288974.0   \n",
       "\n",
       "  phylum_taxon_name kingdom_taxon_id  kingdom_taxon_name     normalized_name  \n",
       "1               NaN              NaN                 NaN                      \n",
       "2      Foraminifera         212476.0            Rhizaria  Euuvigerina miozea  \n",
       "\n",
       "[2 rows x 33 columns]"
      ]
     },
     "execution_count": 95,
     "metadata": {},
     "output_type": "execute_result"
    }
   ],
   "source": [
    "lims_df = pd.read_csv(PI_file, header=9)\n",
    "lims_df = lims_df.drop(0)\n",
    "lims_df.dropna(axis=0, how='all', inplace=True)\n",
    "add_normalized_name_column(lims_df)\n",
    "\n",
    "lims_df.head(2)"
   ]
  },
  {
   "cell_type": "code",
   "execution_count": 96,
   "metadata": {},
   "outputs": [
    {
     "data": {
      "text/html": [
       "<div>\n",
       "<style scoped>\n",
       "    .dataframe tbody tr th:only-of-type {\n",
       "        vertical-align: middle;\n",
       "    }\n",
       "\n",
       "    .dataframe tbody tr th {\n",
       "        vertical-align: top;\n",
       "    }\n",
       "\n",
       "    .dataframe thead th {\n",
       "        text-align: right;\n",
       "    }\n",
       "</style>\n",
       "<table border=\"1\" class=\"dataframe\">\n",
       "  <thead>\n",
       "    <tr style=\"text-align: right;\">\n",
       "      <th></th>\n",
       "      <th>taxon_group</th>\n",
       "      <th>verbatim_name</th>\n",
       "      <th>Name</th>\n",
       "      <th>Comment</th>\n",
       "      <th>Notes (change to Internal only notes?)</th>\n",
       "      <th>Any taxon above genus</th>\n",
       "      <th>genus modifier</th>\n",
       "      <th>genus name</th>\n",
       "      <th>subgenera modifier</th>\n",
       "      <th>subgenera name</th>\n",
       "      <th>...</th>\n",
       "      <th>class_taxon_id</th>\n",
       "      <th>class_taxon_name</th>\n",
       "      <th>phylum_taxon_id</th>\n",
       "      <th>phylum_taxon_name</th>\n",
       "      <th>kingdom_taxon_id</th>\n",
       "      <th>kingdom_taxon_name</th>\n",
       "      <th>unranked clade_taxon_id</th>\n",
       "      <th>unranked clade_taxon_name</th>\n",
       "      <th>abbrev_genus</th>\n",
       "      <th>normalized_name</th>\n",
       "    </tr>\n",
       "  </thead>\n",
       "  <tbody>\n",
       "    <tr>\n",
       "      <th>0</th>\n",
       "      <td>benthic_forams</td>\n",
       "      <td>Agglutinated Foram. gen. et sp. indet.</td>\n",
       "      <td>Textulariia indet.</td>\n",
       "      <td>NaN</td>\n",
       "      <td>NaN</td>\n",
       "      <td>Textulariia indet.</td>\n",
       "      <td>NaN</td>\n",
       "      <td>NaN</td>\n",
       "      <td>NaN</td>\n",
       "      <td>NaN</td>\n",
       "      <td>...</td>\n",
       "      <td>NaN</td>\n",
       "      <td>NaN</td>\n",
       "      <td>288974.0</td>\n",
       "      <td>Foraminifera</td>\n",
       "      <td>212476.0</td>\n",
       "      <td>Rhizaria</td>\n",
       "      <td>NaN</td>\n",
       "      <td>NaN</td>\n",
       "      <td>False</td>\n",
       "      <td>Textulariia indet.</td>\n",
       "    </tr>\n",
       "    <tr>\n",
       "      <th>1</th>\n",
       "      <td>benthic_forams</td>\n",
       "      <td>Agglutinated indet.</td>\n",
       "      <td>Textulariia indet.</td>\n",
       "      <td>NaN</td>\n",
       "      <td>NaN</td>\n",
       "      <td>Textulariia indet.</td>\n",
       "      <td>NaN</td>\n",
       "      <td>NaN</td>\n",
       "      <td>NaN</td>\n",
       "      <td>NaN</td>\n",
       "      <td>...</td>\n",
       "      <td>NaN</td>\n",
       "      <td>NaN</td>\n",
       "      <td>288974.0</td>\n",
       "      <td>Foraminifera</td>\n",
       "      <td>212476.0</td>\n",
       "      <td>Rhizaria</td>\n",
       "      <td>NaN</td>\n",
       "      <td>NaN</td>\n",
       "      <td>False</td>\n",
       "      <td>Textulariia indet.</td>\n",
       "    </tr>\n",
       "  </tbody>\n",
       "</table>\n",
       "<p>2 rows × 34 columns</p>\n",
       "</div>"
      ],
      "text/plain": [
       "      taxon_group                           verbatim_name                Name  \\\n",
       "0  benthic_forams  Agglutinated Foram. gen. et sp. indet.  Textulariia indet.   \n",
       "1  benthic_forams                     Agglutinated indet.  Textulariia indet.   \n",
       "\n",
       "  Comment Notes (change to Internal only notes?) Any taxon above genus  \\\n",
       "0     NaN                                    NaN    Textulariia indet.   \n",
       "1     NaN                                    NaN    Textulariia indet.   \n",
       "\n",
       "  genus modifier genus name  subgenera modifier subgenera name  ...  \\\n",
       "0            NaN        NaN                 NaN            NaN  ...   \n",
       "1            NaN        NaN                 NaN            NaN  ...   \n",
       "\n",
       "  class_taxon_id class_taxon_name phylum_taxon_id phylum_taxon_name  \\\n",
       "0            NaN              NaN        288974.0      Foraminifera   \n",
       "1            NaN              NaN        288974.0      Foraminifera   \n",
       "\n",
       "  kingdom_taxon_id kingdom_taxon_name  unranked clade_taxon_id  \\\n",
       "0         212476.0           Rhizaria                      NaN   \n",
       "1         212476.0           Rhizaria                      NaN   \n",
       "\n",
       "   unranked clade_taxon_name abbrev_genus     normalized_name  \n",
       "0                        NaN        False  Textulariia indet.  \n",
       "1                        NaN        False  Textulariia indet.  \n",
       "\n",
       "[2 rows x 34 columns]"
      ]
     },
     "execution_count": 96,
     "metadata": {},
     "output_type": "execute_result"
    }
   ],
   "source": [
    "lims_4_df = pd.read_csv(PI_4_file)\n",
    "lims_4_df.dropna(axis=0, how='all', inplace=True)\n",
    "add_normalized_name_column(lims_4_df)\n",
    "\n",
    "lims_4_df.head(2)"
   ]
  },
  {
   "cell_type": "code",
   "execution_count": 97,
   "metadata": {},
   "outputs": [
    {
     "data": {
      "text/html": [
       "<div>\n",
       "<style scoped>\n",
       "    .dataframe tbody tr th:only-of-type {\n",
       "        vertical-align: middle;\n",
       "    }\n",
       "\n",
       "    .dataframe tbody tr th {\n",
       "        vertical-align: top;\n",
       "    }\n",
       "\n",
       "    .dataframe thead th {\n",
       "        text-align: right;\n",
       "    }\n",
       "</style>\n",
       "<table border=\"1\" class=\"dataframe\">\n",
       "  <thead>\n",
       "    <tr style=\"text-align: right;\">\n",
       "      <th></th>\n",
       "      <th>sample_id</th>\n",
       "      <th>file</th>\n",
       "      <th>sample</th>\n",
       "      <th>taxon_group</th>\n",
       "      <th>verbatim_name</th>\n",
       "      <th>code</th>\n",
       "      <th>Name</th>\n",
       "      <th>Comment</th>\n",
       "      <th>Notes (change to Internal only notes?)</th>\n",
       "      <th>Any taxon above genus</th>\n",
       "      <th>...</th>\n",
       "      <th>class_taxon_id</th>\n",
       "      <th>class_taxon_name</th>\n",
       "      <th>phylum_taxon_id</th>\n",
       "      <th>phylum_taxon_name</th>\n",
       "      <th>kingdom_taxon_id</th>\n",
       "      <th>kingdom_taxon_name</th>\n",
       "      <th>unranked clade_taxon_id</th>\n",
       "      <th>unranked clade_taxon_name</th>\n",
       "      <th>normalized_name</th>\n",
       "      <th>path</th>\n",
       "    </tr>\n",
       "  </thead>\n",
       "  <tbody>\n",
       "    <tr>\n",
       "      <th>0</th>\n",
       "      <td>203528</td>\n",
       "      <td>374_U1525A_radiolarians.csv</td>\n",
       "      <td>374-U1525A-1H-1-IW_MUDLINE</td>\n",
       "      <td>radiolarians</td>\n",
       "      <td>additional species: Lonchosphaera spicata</td>\n",
       "      <td>NaN</td>\n",
       "      <td>NaN</td>\n",
       "      <td>NaN</td>\n",
       "      <td>NaN</td>\n",
       "      <td>NaN</td>\n",
       "      <td>...</td>\n",
       "      <td>NaN</td>\n",
       "      <td>NaN</td>\n",
       "      <td>NaN</td>\n",
       "      <td>NaN</td>\n",
       "      <td>NaN</td>\n",
       "      <td>NaN</td>\n",
       "      <td>NaN</td>\n",
       "      <td>NaN</td>\n",
       "      <td>Lonchosphaera spicata</td>\n",
       "      <td>LIMS/Micropal_CSV_2/374_U1525A_radiolarians.csv</td>\n",
       "    </tr>\n",
       "    <tr>\n",
       "      <th>1</th>\n",
       "      <td>203528</td>\n",
       "      <td>374_U1525A_radiolarians.csv</td>\n",
       "      <td>374-U1525A-1H-1-IW_MUDLINE</td>\n",
       "      <td>radiolarians</td>\n",
       "      <td>additional species: Poulpus spp.-like</td>\n",
       "      <td>NaN</td>\n",
       "      <td>Poulpus spp.</td>\n",
       "      <td>NaN</td>\n",
       "      <td>NaN</td>\n",
       "      <td>NaN</td>\n",
       "      <td>...</td>\n",
       "      <td>NaN</td>\n",
       "      <td>NaN</td>\n",
       "      <td>NaN</td>\n",
       "      <td>NaN</td>\n",
       "      <td>NaN</td>\n",
       "      <td>NaN</td>\n",
       "      <td>NaN</td>\n",
       "      <td>NaN</td>\n",
       "      <td>Poulpus spp.</td>\n",
       "      <td>LIMS/Micropal_CSV_2/374_U1525A_radiolarians.csv</td>\n",
       "    </tr>\n",
       "  </tbody>\n",
       "</table>\n",
       "<p>2 rows × 38 columns</p>\n",
       "</div>"
      ],
      "text/plain": [
       "   sample_id                         file                      sample  \\\n",
       "0     203528  374_U1525A_radiolarians.csv  374-U1525A-1H-1-IW_MUDLINE   \n",
       "1     203528  374_U1525A_radiolarians.csv  374-U1525A-1H-1-IW_MUDLINE   \n",
       "\n",
       "    taxon_group                              verbatim_name code          Name  \\\n",
       "0  radiolarians  additional species: Lonchosphaera spicata  NaN           NaN   \n",
       "1  radiolarians      additional species: Poulpus spp.-like  NaN  Poulpus spp.   \n",
       "\n",
       "  Comment  Notes (change to Internal only notes?) Any taxon above genus  ...  \\\n",
       "0     NaN                                     NaN                   NaN  ...   \n",
       "1     NaN                                     NaN                   NaN  ...   \n",
       "\n",
       "   class_taxon_id class_taxon_name  phylum_taxon_id  phylum_taxon_name  \\\n",
       "0             NaN              NaN              NaN                NaN   \n",
       "1             NaN              NaN              NaN                NaN   \n",
       "\n",
       "   kingdom_taxon_id kingdom_taxon_name  unranked clade_taxon_id  \\\n",
       "0               NaN                NaN                      NaN   \n",
       "1               NaN                NaN                      NaN   \n",
       "\n",
       "   unranked clade_taxon_name        normalized_name  \\\n",
       "0                        NaN  Lonchosphaera spicata   \n",
       "1                        NaN           Poulpus spp.   \n",
       "\n",
       "                                              path  \n",
       "0  LIMS/Micropal_CSV_2/374_U1525A_radiolarians.csv  \n",
       "1  LIMS/Micropal_CSV_2/374_U1525A_radiolarians.csv  \n",
       "\n",
       "[2 rows x 38 columns]"
      ]
     },
     "execution_count": 97,
     "metadata": {},
     "output_type": "execute_result"
    }
   ],
   "source": [
    "add_df = pd.read_csv(additional_taxa_path)\n",
    "add_df.dropna(axis=0, how='all', inplace=True)\n",
    "\n",
    "add_df.head(2)"
   ]
  },
  {
   "cell_type": "code",
   "execution_count": 132,
   "metadata": {},
   "outputs": [
    {
     "data": {
      "text/plain": [
       "(5453, 3)"
      ]
     },
     "execution_count": 132,
     "metadata": {},
     "output_type": "execute_result"
    }
   ],
   "source": [
    "cols = ['verbatim_name', 'taxon_group', 'normalized_name']\n",
    "\n",
    "lims_df_2 = lims_df[cols]\n",
    "lims_4_df_2 = lims_4_df[cols]\n",
    "add_df_2 = add_df[cols]\n",
    "\n",
    "combine = pd.concat([lims_df_2, lims_4_df_2, add_df_2])\n",
    "combine.loc[combine['normalized_name'] == '', 'normalized_name'] = np.nan\n",
    "\n",
    "combine.shape"
   ]
  },
  {
   "cell_type": "code",
   "execution_count": 133,
   "metadata": {},
   "outputs": [
    {
     "data": {
      "text/plain": [
       "(23, 3)"
      ]
     },
     "execution_count": 133,
     "metadata": {},
     "output_type": "execute_result"
    }
   ],
   "source": [
    "combine[combine['normalized_name'].isna()].shape"
   ]
  },
  {
   "cell_type": "code",
   "execution_count": 134,
   "metadata": {},
   "outputs": [
    {
     "data": {
      "text/plain": [
       "(4675, 2)"
      ]
     },
     "execution_count": 134,
     "metadata": {},
     "output_type": "execute_result"
    }
   ],
   "source": [
    "\n",
    "combine2 = combine[['normalized_name', 'taxon_group']]\n",
    "combine2 = combine2.dropna(subset=['normalized_name'])\n",
    "\n",
    "combine2.drop_duplicates().shape"
   ]
  },
  {
   "cell_type": "code",
   "execution_count": null,
   "metadata": {},
   "outputs": [],
   "source": []
  }
 ],
 "metadata": {
  "kernelspec": {
   "display_name": "Python 3 (ipykernel)",
   "language": "python",
   "name": "python3"
  },
  "language_info": {
   "codemirror_mode": {
    "name": "ipython",
    "version": 3
   },
   "file_extension": ".py",
   "mimetype": "text/x-python",
   "name": "python",
   "nbconvert_exporter": "python",
   "pygments_lexer": "ipython3",
   "version": "3.8.2"
  }
 },
 "nbformat": 4,
 "nbformat_minor": 4
}
