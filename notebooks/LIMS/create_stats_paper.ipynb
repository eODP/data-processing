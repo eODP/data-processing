{
 "cells": [
  {
   "cell_type": "markdown",
   "metadata": {},
   "source": [
    "# create stats for paper"
   ]
  },
  {
   "cell_type": "code",
   "execution_count": 1,
   "metadata": {},
   "outputs": [],
   "source": [
    "import sys\n",
    "sys.path.append('../../')\n",
    "import glob\n",
    "import shutil\n",
    "from pathlib import Path\n",
    "import os\n",
    "\n",
    "import numpy as np\n",
    "import pandas as pd\n",
    "from config import CLEAN_DATA_DIR, OUTPUT_DIR, RAW_DATA_DIR\n",
    "import db as db\n",
    "from scripts.normalize_taxa import add_normalized_name_column\n",
    "\n",
    "from scripts.normalize_data import (\n",
    "    check_duplicate_columns\n",
    ")"
   ]
  },
  {
   "cell_type": "code",
   "execution_count": 2,
   "metadata": {},
   "outputs": [],
   "source": [
    "clean_data_path = CLEAN_DATA_DIR\n",
    "\n",
    "metadata_file = OUTPUT_DIR/'metadata'/'LIMS'/'Micropal_changes.csv' \n",
    "# metadata_file = OUTPUT_DIR/'metadata'/'LIMS'/'Micropal_changes_4.csv' \n",
    "\n",
    "\n",
    "date = '2022-04-28'\n",
    "\n",
    "\n",
    "taxa_list_file = OUTPUT_DIR/'taxa'/'LIMS'/f\"taxa_list_{date}.csv\"\n",
    "taxa_crosswalk_list_file = OUTPUT_DIR/'taxa'/'LIMS'/f\"taxa_crosswalk_{date}.csv\"\n",
    "\n",
    "PI_4_file = OUTPUT_DIR /'taxa'/'LIMS'/f'PI_Micropal_CSV_4_normalized_taxa_list_with_pbdb_{date}.csv'\n",
    "additional_taxa_path = OUTPUT_DIR/'taxa'/'LIMS'/'addtional_species.csv'\n",
    "PI_file = RAW_DATA_DIR/'PI_processed_files'/f'LIMS_Micropal_headers_PBDB_Taxonomy_notes_taxa_list_{date}.csv'\n"
   ]
  },
  {
   "cell_type": "markdown",
   "metadata": {
    "tags": []
   },
   "source": [
    "## LIMS verbatim taxa names "
   ]
  },
  {
   "cell_type": "code",
   "execution_count": 151,
   "metadata": {},
   "outputs": [
    {
     "name": "stdout",
     "output_type": "stream",
     "text": [
      "5280\n"
     ]
    }
   ],
   "source": [
    "sql = \"\"\"\n",
    "select count(*) as count\n",
    "from taxa_crosswalk\n",
    "where taxon_id in (select taxon_id from samples_taxa)\n",
    "\"\"\"\n",
    "\n",
    "row = db.fetch_one(sql)\n",
    "print(  row['count'])\n",
    "# 5280"
   ]
  },
  {
   "cell_type": "markdown",
   "metadata": {
    "tags": []
   },
   "source": [
    "## LIMS taxa verbatim names grouped by taxon group"
   ]
  },
  {
   "cell_type": "code",
   "execution_count": 152,
   "metadata": {},
   "outputs": [
    {
     "name": "stdout",
     "output_type": "stream",
     "text": [
      "benthic_forams 1689\n",
      "bolboformids 2\n",
      "chrysophyte_cysts 1\n",
      "diatoms 718\n",
      "dinoflagellates 57\n",
      "ebridians 8\n",
      "nannofossils 937\n",
      "ostracods 16\n",
      "other 15\n",
      "palynology 143\n",
      "planktic_forams 1019\n",
      "radiolarians 642\n",
      "silicoflagellates 33\n"
     ]
    }
   ],
   "source": [
    "sql = \"\"\"\n",
    "select count(*) as count, taxon_group \n",
    "from taxa_crosswalk\n",
    "where taxon_id in (select taxon_id from samples_taxa)\n",
    "group by taxon_group\n",
    "order by taxon_group;\n",
    "\"\"\"\n",
    "\n",
    "sum  = 0\n",
    "\n",
    "rows = db.fetch_all(sql)\n",
    "for row in rows:\n",
    "    print(row['taxon_group'],  row['count'])\n",
    "    sum  += row['count']"
   ]
  },
  {
   "cell_type": "code",
   "execution_count": 153,
   "metadata": {},
   "outputs": [
    {
     "data": {
      "text/plain": [
       "5280"
      ]
     },
     "execution_count": 153,
     "metadata": {},
     "output_type": "execute_result"
    }
   ],
   "source": [
    "sum"
   ]
  },
  {
   "cell_type": "markdown",
   "metadata": {
    "tags": []
   },
   "source": [
    "##  LIMS taxa names grouped by taxon group"
   ]
  },
  {
   "cell_type": "code",
   "execution_count": 149,
   "metadata": {},
   "outputs": [
    {
     "name": "stdout",
     "output_type": "stream",
     "text": [
      "benthic_forams 1508\n",
      "bolboformids 2\n",
      "chrysophyte_cysts 1\n",
      "diatoms 653\n",
      "dinoflagellates 53\n",
      "ebridians 6\n",
      "nannofossils 810\n",
      "ostracods 15\n",
      "other 11\n",
      "palynology 133\n",
      "planktic_forams 844\n",
      "radiolarians 598\n",
      "silicoflagellates 23\n"
     ]
    }
   ],
   "source": [
    "sql = \"\"\"\n",
    "select count(*) as count, taxon_group \n",
    "from taxa\n",
    "where id in (select taxon_id from samples_taxa)\n",
    "group by taxon_group\n",
    "order by taxon_group;\n",
    "\"\"\"\n",
    "sum  = 0\n",
    "\n",
    "rows = db.fetch_all(sql)\n",
    "for row in rows:\n",
    "    print(row['taxon_group'],  row['count'])\n",
    "    sum  += row['count']"
   ]
  },
  {
   "cell_type": "code",
   "execution_count": 150,
   "metadata": {},
   "outputs": [
    {
     "data": {
      "text/plain": [
       "4657"
      ]
     },
     "execution_count": 150,
     "metadata": {},
     "output_type": "execute_result"
    }
   ],
   "source": [
    "sum"
   ]
  },
  {
   "cell_type": "markdown",
   "metadata": {
    "tags": []
   },
   "source": [
    "## LIMS taxa names"
   ]
  },
  {
   "cell_type": "markdown",
   "metadata": {},
   "source": [
    "if taxa is in multiple taxon group, count each taxa"
   ]
  },
  {
   "cell_type": "code",
   "execution_count": 148,
   "metadata": {},
   "outputs": [
    {
     "name": "stdout",
     "output_type": "stream",
     "text": [
      "4657\n"
     ]
    }
   ],
   "source": [
    "sql = \"\"\"\n",
    "select count(*) as count \n",
    "from taxa \n",
    "where id in (select taxon_id from samples_taxa);\n",
    "\"\"\"\n",
    "\n",
    "row = db.fetch_one(sql)\n",
    "print(  row['count'])\n",
    "\n",
    "# 4657"
   ]
  },
  {
   "cell_type": "markdown",
   "metadata": {},
   "source": [
    "if taxa is in multiple taxon group, count as one taxa"
   ]
  },
  {
   "cell_type": "code",
   "execution_count": 156,
   "metadata": {},
   "outputs": [
    {
     "name": "stdout",
     "output_type": "stream",
     "text": [
      "4633\n"
     ]
    }
   ],
   "source": [
    "sql = \"\"\"\n",
    "select count(distinct(name)) as count \n",
    "from taxa \n",
    "where id in (select taxon_id from samples_taxa);\n",
    "\"\"\"\n",
    "\n",
    "row = db.fetch_one(sql)\n",
    "print(  row['count'])\n",
    "\n",
    "# 4633"
   ]
  },
  {
   "cell_type": "markdown",
   "metadata": {},
   "source": [
    "## distinct LIMS taxon name above genus"
   ]
  },
  {
   "cell_type": "markdown",
   "metadata": {},
   "source": [
    "if taxa is in multiple taxon group, count each taxa"
   ]
  },
  {
   "cell_type": "code",
   "execution_count": 137,
   "metadata": {},
   "outputs": [
    {
     "name": "stdout",
     "output_type": "stream",
     "text": [
      "106\n"
     ]
    }
   ],
   "source": [
    "sql = \"\"\"\n",
    "select count(*) \n",
    "from taxa\n",
    "where id in (select taxon_id from samples_taxa)\n",
    "and taxon_name_above_genus is not null;\n",
    "\"\"\"\n",
    "\n",
    "row = db.fetch_one(sql)\n",
    "print( row['count'])\n",
    "# 106"
   ]
  },
  {
   "cell_type": "markdown",
   "metadata": {},
   "source": [
    "if taxa is in multiple taxon group, count as one taxa"
   ]
  },
  {
   "cell_type": "code",
   "execution_count": 139,
   "metadata": {},
   "outputs": [
    {
     "name": "stdout",
     "output_type": "stream",
     "text": [
      "89\n"
     ]
    }
   ],
   "source": [
    "sql = \"\"\"\n",
    "select count(distinct(name))\n",
    "from taxa\n",
    "where id in (select taxon_id from samples_taxa)\n",
    "and taxon_name_above_genus is not null;\n",
    "\"\"\"\n",
    "\n",
    "row = db.fetch_one(sql)\n",
    "print( row['count'])\n",
    "# 89"
   ]
  },
  {
   "cell_type": "markdown",
   "metadata": {},
   "source": [
    "## distinct LIMS genus"
   ]
  },
  {
   "cell_type": "markdown",
   "metadata": {},
   "source": [
    "if taxa is in multiple taxon group, count each taxa"
   ]
  },
  {
   "cell_type": "code",
   "execution_count": 140,
   "metadata": {},
   "outputs": [
    {
     "name": "stdout",
     "output_type": "stream",
     "text": [
      "1078\n"
     ]
    }
   ],
   "source": [
    "sql = \"\"\"\n",
    "select count(distinct(genus_name || taxon_group))\n",
    "from taxa\n",
    "where id in (select taxon_id from samples_taxa)\n",
    "and genus_name is not null;\n",
    "\"\"\"\n",
    "row = db.fetch_one(sql)\n",
    "print( row['count'])\n",
    "# 1080"
   ]
  },
  {
   "cell_type": "markdown",
   "metadata": {},
   "source": [
    "if taxa is in multiple taxon group, count as one taxa"
   ]
  },
  {
   "cell_type": "code",
   "execution_count": 141,
   "metadata": {},
   "outputs": [
    {
     "name": "stdout",
     "output_type": "stream",
     "text": [
      "1060\n"
     ]
    }
   ],
   "source": [
    "sql = \"\"\"\n",
    "select count(distinct(genus_name))\n",
    "from taxa\n",
    "where id in (select taxon_id from samples_taxa)\n",
    "and genus_name is not null;\n",
    "\"\"\"\n",
    "row = db.fetch_one(sql)\n",
    "print( row['count'])\n",
    "# 1080"
   ]
  },
  {
   "cell_type": "markdown",
   "metadata": {},
   "source": [
    "## distinct LIMS species"
   ]
  },
  {
   "cell_type": "markdown",
   "metadata": {},
   "source": [
    "if taxa is in multiple taxon group, count each taxa"
   ]
  },
  {
   "cell_type": "code",
   "execution_count": 144,
   "metadata": {},
   "outputs": [
    {
     "name": "stdout",
     "output_type": "stream",
     "text": [
      "4549\n"
     ]
    }
   ],
   "source": [
    "sql = \"\"\"\n",
    "select count(distinct(name || taxon_group))\n",
    "from taxa\n",
    "where id in (select taxon_id from samples_taxa)\n",
    "and species_name is not null;\n",
    "\"\"\"\n",
    "row = db.fetch_one(sql)\n",
    "print( row['count'])\n",
    "# 4566"
   ]
  },
  {
   "cell_type": "markdown",
   "metadata": {},
   "source": [
    "if taxa is in multiple taxon group, count as one taxa"
   ]
  },
  {
   "cell_type": "code",
   "execution_count": 143,
   "metadata": {},
   "outputs": [
    {
     "name": "stdout",
     "output_type": "stream",
     "text": [
      "4542\n"
     ]
    }
   ],
   "source": [
    "sql = \"\"\"\n",
    "select count(distinct(name))\n",
    "from taxa\n",
    "where id in (select taxon_id from samples_taxa)\n",
    "and species_name is not null;\n",
    "\"\"\"\n",
    "row = db.fetch_one(sql)\n",
    "print( row['count'])\n",
    "# 4566"
   ]
  },
  {
   "cell_type": "markdown",
   "metadata": {},
   "source": [
    "## distinct LIMS subspecies"
   ]
  },
  {
   "cell_type": "markdown",
   "metadata": {},
   "source": [
    "if taxa is in multiple taxon group, count each taxa"
   ]
  },
  {
   "cell_type": "code",
   "execution_count": 146,
   "metadata": {},
   "outputs": [
    {
     "name": "stdout",
     "output_type": "stream",
     "text": [
      "138\n"
     ]
    }
   ],
   "source": [
    "sql = \"\"\"\n",
    "select count(distinct(name || taxon_group))\n",
    "from taxa\n",
    "where id in (select taxon_id from samples_taxa)\n",
    "and subspecies_name is not null;\n",
    "\"\"\"\n",
    "row = db.fetch_one(sql)\n",
    "print( row['count'])\n",
    "# 138"
   ]
  },
  {
   "cell_type": "markdown",
   "metadata": {},
   "source": [
    "if taxa is in multiple taxon group, count as one taxa"
   ]
  },
  {
   "cell_type": "code",
   "execution_count": 145,
   "metadata": {},
   "outputs": [
    {
     "name": "stdout",
     "output_type": "stream",
     "text": [
      "138\n"
     ]
    }
   ],
   "source": [
    "sql = \"\"\"\n",
    "select count(distinct(name))\n",
    "from taxa\n",
    "where id in (select taxon_id from samples_taxa)\n",
    "and subspecies_name is not null;\n",
    "\"\"\"\n",
    "row = db.fetch_one(sql)\n",
    "print( row['count'])\n",
    "# 138"
   ]
  },
  {
   "cell_type": "markdown",
   "metadata": {
    "tags": []
   },
   "source": [
    "## nontaxa values in taxa files sent to PIs"
   ]
  },
  {
   "cell_type": "code",
   "execution_count": 13,
   "metadata": {},
   "outputs": [
    {
     "data": {
      "text/html": [
       "<div>\n",
       "<style scoped>\n",
       "    .dataframe tbody tr th:only-of-type {\n",
       "        vertical-align: middle;\n",
       "    }\n",
       "\n",
       "    .dataframe tbody tr th {\n",
       "        vertical-align: top;\n",
       "    }\n",
       "\n",
       "    .dataframe thead th {\n",
       "        text-align: right;\n",
       "    }\n",
       "</style>\n",
       "<table border=\"1\" class=\"dataframe\">\n",
       "  <thead>\n",
       "    <tr style=\"text-align: right;\">\n",
       "      <th></th>\n",
       "      <th>taxon_group</th>\n",
       "      <th>verbatim_name</th>\n",
       "      <th>name</th>\n",
       "      <th>name to use (if different from \"name\")</th>\n",
       "      <th>name comment field</th>\n",
       "      <th>Comment</th>\n",
       "      <th>Notes (change to Internal only notes?)</th>\n",
       "      <th>Any taxon above genus</th>\n",
       "      <th>genus modifier</th>\n",
       "      <th>genus name</th>\n",
       "      <th>...</th>\n",
       "      <th>family_taxon_name</th>\n",
       "      <th>order_taxon_id</th>\n",
       "      <th>order_taxon_name</th>\n",
       "      <th>class_taxon_id</th>\n",
       "      <th>class_taxon_name</th>\n",
       "      <th>phylum_taxon_id</th>\n",
       "      <th>phylum_taxon_name</th>\n",
       "      <th>kingdom_taxon_id</th>\n",
       "      <th>kingdom_taxon_name</th>\n",
       "      <th>normalized_name</th>\n",
       "    </tr>\n",
       "  </thead>\n",
       "  <tbody>\n",
       "    <tr>\n",
       "      <th>1</th>\n",
       "      <td>benthic_forams</td>\n",
       "      <td>Pyrite</td>\n",
       "      <td>Pyrite</td>\n",
       "      <td>NaN</td>\n",
       "      <td>NaN</td>\n",
       "      <td>not a taxa; Going into Macrostrat, not PBDB</td>\n",
       "      <td>Summer 2020: deal with later; should go in as ...</td>\n",
       "      <td>NaN</td>\n",
       "      <td>NaN</td>\n",
       "      <td>NaN</td>\n",
       "      <td>...</td>\n",
       "      <td>NaN</td>\n",
       "      <td>NaN</td>\n",
       "      <td>NaN</td>\n",
       "      <td>NaN</td>\n",
       "      <td>NaN</td>\n",
       "      <td>NaN</td>\n",
       "      <td>NaN</td>\n",
       "      <td>NaN</td>\n",
       "      <td>NaN</td>\n",
       "      <td></td>\n",
       "    </tr>\n",
       "    <tr>\n",
       "      <th>2</th>\n",
       "      <td>benthic_forams</td>\n",
       "      <td>Euuvigerina miozea (group) &gt;100 m</td>\n",
       "      <td>Euuvigerina miozea (group) &gt;100 m</td>\n",
       "      <td>Euuvigerina miozea</td>\n",
       "      <td>NaN</td>\n",
       "      <td>group</td>\n",
       "      <td>Summer 2020: enter \"Euuvigerina miozea\" and re...</td>\n",
       "      <td>NaN</td>\n",
       "      <td>NaN</td>\n",
       "      <td>Euuvigerina</td>\n",
       "      <td>...</td>\n",
       "      <td>NaN</td>\n",
       "      <td>NaN</td>\n",
       "      <td>NaN</td>\n",
       "      <td>NaN</td>\n",
       "      <td>NaN</td>\n",
       "      <td>288974.0</td>\n",
       "      <td>Foraminifera</td>\n",
       "      <td>212476.0</td>\n",
       "      <td>Rhizaria</td>\n",
       "      <td>Euuvigerina miozea</td>\n",
       "    </tr>\n",
       "  </tbody>\n",
       "</table>\n",
       "<p>2 rows × 33 columns</p>\n",
       "</div>"
      ],
      "text/plain": [
       "      taxon_group                      verbatim_name  \\\n",
       "1  benthic_forams                             Pyrite   \n",
       "2  benthic_forams  Euuvigerina miozea (group) >100 m   \n",
       "\n",
       "                                name name to use (if different from \"name\")  \\\n",
       "1                             Pyrite                                    NaN   \n",
       "2  Euuvigerina miozea (group) >100 m                     Euuvigerina miozea   \n",
       "\n",
       "  name comment field                                      Comment  \\\n",
       "1                NaN  not a taxa; Going into Macrostrat, not PBDB   \n",
       "2                NaN                                        group   \n",
       "\n",
       "              Notes (change to Internal only notes?) Any taxon above genus  \\\n",
       "1  Summer 2020: deal with later; should go in as ...                   NaN   \n",
       "2  Summer 2020: enter \"Euuvigerina miozea\" and re...                   NaN   \n",
       "\n",
       "  genus modifier   genus name  ... family_taxon_name order_taxon_id  \\\n",
       "1            NaN          NaN  ...               NaN            NaN   \n",
       "2            NaN  Euuvigerina  ...               NaN            NaN   \n",
       "\n",
       "  order_taxon_name class_taxon_id class_taxon_name phylum_taxon_id  \\\n",
       "1              NaN            NaN              NaN             NaN   \n",
       "2              NaN            NaN              NaN        288974.0   \n",
       "\n",
       "  phylum_taxon_name kingdom_taxon_id  kingdom_taxon_name     normalized_name  \n",
       "1               NaN              NaN                 NaN                      \n",
       "2      Foraminifera         212476.0            Rhizaria  Euuvigerina miozea  \n",
       "\n",
       "[2 rows x 33 columns]"
      ]
     },
     "execution_count": 13,
     "metadata": {},
     "output_type": "execute_result"
    }
   ],
   "source": [
    "lims_df = pd.read_csv(PI_file, header=9)\n",
    "lims_df = lims_df.drop(0)\n",
    "lims_df.dropna(axis=0, how='all', inplace=True)\n",
    "add_normalized_name_column(lims_df)\n",
    "\n",
    "lims_df.head(2)"
   ]
  },
  {
   "cell_type": "code",
   "execution_count": 14,
   "metadata": {},
   "outputs": [
    {
     "data": {
      "text/html": [
       "<div>\n",
       "<style scoped>\n",
       "    .dataframe tbody tr th:only-of-type {\n",
       "        vertical-align: middle;\n",
       "    }\n",
       "\n",
       "    .dataframe tbody tr th {\n",
       "        vertical-align: top;\n",
       "    }\n",
       "\n",
       "    .dataframe thead th {\n",
       "        text-align: right;\n",
       "    }\n",
       "</style>\n",
       "<table border=\"1\" class=\"dataframe\">\n",
       "  <thead>\n",
       "    <tr style=\"text-align: right;\">\n",
       "      <th></th>\n",
       "      <th>taxon_group</th>\n",
       "      <th>verbatim_name</th>\n",
       "      <th>Name</th>\n",
       "      <th>Comment</th>\n",
       "      <th>Notes (change to Internal only notes?)</th>\n",
       "      <th>Any taxon above genus</th>\n",
       "      <th>genus modifier</th>\n",
       "      <th>genus name</th>\n",
       "      <th>subgenera modifier</th>\n",
       "      <th>subgenera name</th>\n",
       "      <th>...</th>\n",
       "      <th>class_taxon_id</th>\n",
       "      <th>class_taxon_name</th>\n",
       "      <th>phylum_taxon_id</th>\n",
       "      <th>phylum_taxon_name</th>\n",
       "      <th>kingdom_taxon_id</th>\n",
       "      <th>kingdom_taxon_name</th>\n",
       "      <th>unranked clade_taxon_id</th>\n",
       "      <th>unranked clade_taxon_name</th>\n",
       "      <th>abbrev_genus</th>\n",
       "      <th>normalized_name</th>\n",
       "    </tr>\n",
       "  </thead>\n",
       "  <tbody>\n",
       "    <tr>\n",
       "      <th>0</th>\n",
       "      <td>benthic_forams</td>\n",
       "      <td>Agglutinated Foram. gen. et sp. indet.</td>\n",
       "      <td>Textulariia indet.</td>\n",
       "      <td>NaN</td>\n",
       "      <td>NaN</td>\n",
       "      <td>Textulariia indet.</td>\n",
       "      <td>NaN</td>\n",
       "      <td>NaN</td>\n",
       "      <td>NaN</td>\n",
       "      <td>NaN</td>\n",
       "      <td>...</td>\n",
       "      <td>NaN</td>\n",
       "      <td>NaN</td>\n",
       "      <td>288974.0</td>\n",
       "      <td>Foraminifera</td>\n",
       "      <td>212476.0</td>\n",
       "      <td>Rhizaria</td>\n",
       "      <td>NaN</td>\n",
       "      <td>NaN</td>\n",
       "      <td>False</td>\n",
       "      <td>Textulariia indet.</td>\n",
       "    </tr>\n",
       "    <tr>\n",
       "      <th>1</th>\n",
       "      <td>benthic_forams</td>\n",
       "      <td>Agglutinated indet.</td>\n",
       "      <td>Textulariia indet.</td>\n",
       "      <td>NaN</td>\n",
       "      <td>NaN</td>\n",
       "      <td>Textulariia indet.</td>\n",
       "      <td>NaN</td>\n",
       "      <td>NaN</td>\n",
       "      <td>NaN</td>\n",
       "      <td>NaN</td>\n",
       "      <td>...</td>\n",
       "      <td>NaN</td>\n",
       "      <td>NaN</td>\n",
       "      <td>288974.0</td>\n",
       "      <td>Foraminifera</td>\n",
       "      <td>212476.0</td>\n",
       "      <td>Rhizaria</td>\n",
       "      <td>NaN</td>\n",
       "      <td>NaN</td>\n",
       "      <td>False</td>\n",
       "      <td>Textulariia indet.</td>\n",
       "    </tr>\n",
       "  </tbody>\n",
       "</table>\n",
       "<p>2 rows × 34 columns</p>\n",
       "</div>"
      ],
      "text/plain": [
       "      taxon_group                           verbatim_name                Name  \\\n",
       "0  benthic_forams  Agglutinated Foram. gen. et sp. indet.  Textulariia indet.   \n",
       "1  benthic_forams                     Agglutinated indet.  Textulariia indet.   \n",
       "\n",
       "  Comment Notes (change to Internal only notes?) Any taxon above genus  \\\n",
       "0     NaN                                    NaN    Textulariia indet.   \n",
       "1     NaN                                    NaN    Textulariia indet.   \n",
       "\n",
       "  genus modifier genus name  subgenera modifier subgenera name  ...  \\\n",
       "0            NaN        NaN                 NaN            NaN  ...   \n",
       "1            NaN        NaN                 NaN            NaN  ...   \n",
       "\n",
       "  class_taxon_id class_taxon_name phylum_taxon_id phylum_taxon_name  \\\n",
       "0            NaN              NaN        288974.0      Foraminifera   \n",
       "1            NaN              NaN        288974.0      Foraminifera   \n",
       "\n",
       "  kingdom_taxon_id kingdom_taxon_name  unranked clade_taxon_id  \\\n",
       "0         212476.0           Rhizaria                      NaN   \n",
       "1         212476.0           Rhizaria                      NaN   \n",
       "\n",
       "   unranked clade_taxon_name abbrev_genus     normalized_name  \n",
       "0                        NaN        False  Textulariia indet.  \n",
       "1                        NaN        False  Textulariia indet.  \n",
       "\n",
       "[2 rows x 34 columns]"
      ]
     },
     "execution_count": 14,
     "metadata": {},
     "output_type": "execute_result"
    }
   ],
   "source": [
    "lims_4_df = pd.read_csv(PI_4_file)\n",
    "lims_4_df.dropna(axis=0, how='all', inplace=True)\n",
    "add_normalized_name_column(lims_4_df)\n",
    "\n",
    "lims_4_df.head(2)"
   ]
  },
  {
   "cell_type": "code",
   "execution_count": 15,
   "metadata": {},
   "outputs": [
    {
     "data": {
      "text/html": [
       "<div>\n",
       "<style scoped>\n",
       "    .dataframe tbody tr th:only-of-type {\n",
       "        vertical-align: middle;\n",
       "    }\n",
       "\n",
       "    .dataframe tbody tr th {\n",
       "        vertical-align: top;\n",
       "    }\n",
       "\n",
       "    .dataframe thead th {\n",
       "        text-align: right;\n",
       "    }\n",
       "</style>\n",
       "<table border=\"1\" class=\"dataframe\">\n",
       "  <thead>\n",
       "    <tr style=\"text-align: right;\">\n",
       "      <th></th>\n",
       "      <th>sample_id</th>\n",
       "      <th>file</th>\n",
       "      <th>sample</th>\n",
       "      <th>taxon_group</th>\n",
       "      <th>verbatim_name</th>\n",
       "      <th>code</th>\n",
       "      <th>Name</th>\n",
       "      <th>Comment</th>\n",
       "      <th>Notes (change to Internal only notes?)</th>\n",
       "      <th>Any taxon above genus</th>\n",
       "      <th>...</th>\n",
       "      <th>class_taxon_id</th>\n",
       "      <th>class_taxon_name</th>\n",
       "      <th>phylum_taxon_id</th>\n",
       "      <th>phylum_taxon_name</th>\n",
       "      <th>kingdom_taxon_id</th>\n",
       "      <th>kingdom_taxon_name</th>\n",
       "      <th>unranked clade_taxon_id</th>\n",
       "      <th>unranked clade_taxon_name</th>\n",
       "      <th>normalized_name</th>\n",
       "      <th>path</th>\n",
       "    </tr>\n",
       "  </thead>\n",
       "  <tbody>\n",
       "    <tr>\n",
       "      <th>0</th>\n",
       "      <td>203528</td>\n",
       "      <td>374_U1525A_radiolarians.csv</td>\n",
       "      <td>374-U1525A-1H-1-IW_MUDLINE</td>\n",
       "      <td>radiolarians</td>\n",
       "      <td>additional species: Lonchosphaera spicata</td>\n",
       "      <td>NaN</td>\n",
       "      <td>NaN</td>\n",
       "      <td>NaN</td>\n",
       "      <td>NaN</td>\n",
       "      <td>NaN</td>\n",
       "      <td>...</td>\n",
       "      <td>NaN</td>\n",
       "      <td>NaN</td>\n",
       "      <td>NaN</td>\n",
       "      <td>NaN</td>\n",
       "      <td>NaN</td>\n",
       "      <td>NaN</td>\n",
       "      <td>NaN</td>\n",
       "      <td>NaN</td>\n",
       "      <td>Lonchosphaera spicata</td>\n",
       "      <td>LIMS/Micropal_CSV_2/374_U1525A_radiolarians.csv</td>\n",
       "    </tr>\n",
       "    <tr>\n",
       "      <th>1</th>\n",
       "      <td>203528</td>\n",
       "      <td>374_U1525A_radiolarians.csv</td>\n",
       "      <td>374-U1525A-1H-1-IW_MUDLINE</td>\n",
       "      <td>radiolarians</td>\n",
       "      <td>additional species: Poulpus spp.-like</td>\n",
       "      <td>NaN</td>\n",
       "      <td>Poulpus spp.</td>\n",
       "      <td>NaN</td>\n",
       "      <td>NaN</td>\n",
       "      <td>NaN</td>\n",
       "      <td>...</td>\n",
       "      <td>NaN</td>\n",
       "      <td>NaN</td>\n",
       "      <td>NaN</td>\n",
       "      <td>NaN</td>\n",
       "      <td>NaN</td>\n",
       "      <td>NaN</td>\n",
       "      <td>NaN</td>\n",
       "      <td>NaN</td>\n",
       "      <td>Poulpus spp.</td>\n",
       "      <td>LIMS/Micropal_CSV_2/374_U1525A_radiolarians.csv</td>\n",
       "    </tr>\n",
       "  </tbody>\n",
       "</table>\n",
       "<p>2 rows × 38 columns</p>\n",
       "</div>"
      ],
      "text/plain": [
       "   sample_id                         file                      sample  \\\n",
       "0     203528  374_U1525A_radiolarians.csv  374-U1525A-1H-1-IW_MUDLINE   \n",
       "1     203528  374_U1525A_radiolarians.csv  374-U1525A-1H-1-IW_MUDLINE   \n",
       "\n",
       "    taxon_group                              verbatim_name code          Name  \\\n",
       "0  radiolarians  additional species: Lonchosphaera spicata  NaN           NaN   \n",
       "1  radiolarians      additional species: Poulpus spp.-like  NaN  Poulpus spp.   \n",
       "\n",
       "  Comment  Notes (change to Internal only notes?) Any taxon above genus  ...  \\\n",
       "0     NaN                                     NaN                   NaN  ...   \n",
       "1     NaN                                     NaN                   NaN  ...   \n",
       "\n",
       "   class_taxon_id class_taxon_name  phylum_taxon_id  phylum_taxon_name  \\\n",
       "0             NaN              NaN              NaN                NaN   \n",
       "1             NaN              NaN              NaN                NaN   \n",
       "\n",
       "   kingdom_taxon_id kingdom_taxon_name  unranked clade_taxon_id  \\\n",
       "0               NaN                NaN                      NaN   \n",
       "1               NaN                NaN                      NaN   \n",
       "\n",
       "   unranked clade_taxon_name        normalized_name  \\\n",
       "0                        NaN  Lonchosphaera spicata   \n",
       "1                        NaN           Poulpus spp.   \n",
       "\n",
       "                                              path  \n",
       "0  LIMS/Micropal_CSV_2/374_U1525A_radiolarians.csv  \n",
       "1  LIMS/Micropal_CSV_2/374_U1525A_radiolarians.csv  \n",
       "\n",
       "[2 rows x 38 columns]"
      ]
     },
     "execution_count": 15,
     "metadata": {},
     "output_type": "execute_result"
    }
   ],
   "source": [
    "add_df = pd.read_csv(additional_taxa_path)\n",
    "add_df.dropna(axis=0, how='all', inplace=True)\n",
    "\n",
    "add_df.head(2)"
   ]
  },
  {
   "cell_type": "code",
   "execution_count": 16,
   "metadata": {},
   "outputs": [
    {
     "data": {
      "text/plain": [
       "(5453, 3)"
      ]
     },
     "execution_count": 16,
     "metadata": {},
     "output_type": "execute_result"
    }
   ],
   "source": [
    "cols = ['verbatim_name', 'taxon_group', 'normalized_name']\n",
    "\n",
    "lims_df_2 = lims_df[cols]\n",
    "lims_4_df_2 = lims_4_df[cols]\n",
    "add_df_2 = add_df[cols]\n",
    "\n",
    "combine = pd.concat([lims_df_2, lims_4_df_2, add_df_2])\n",
    "combine.loc[combine['normalized_name'] == '', 'normalized_name'] = np.nan\n",
    "\n",
    "combine.shape"
   ]
  },
  {
   "cell_type": "code",
   "execution_count": 17,
   "metadata": {},
   "outputs": [
    {
     "data": {
      "text/plain": [
       "(23, 3)"
      ]
     },
     "execution_count": 17,
     "metadata": {},
     "output_type": "execute_result"
    }
   ],
   "source": [
    "combine[combine['normalized_name'].isna()].shape"
   ]
  },
  {
   "cell_type": "code",
   "execution_count": 18,
   "metadata": {},
   "outputs": [
    {
     "data": {
      "text/html": [
       "<div>\n",
       "<style scoped>\n",
       "    .dataframe tbody tr th:only-of-type {\n",
       "        vertical-align: middle;\n",
       "    }\n",
       "\n",
       "    .dataframe tbody tr th {\n",
       "        vertical-align: top;\n",
       "    }\n",
       "\n",
       "    .dataframe thead th {\n",
       "        text-align: right;\n",
       "    }\n",
       "</style>\n",
       "<table border=\"1\" class=\"dataframe\">\n",
       "  <thead>\n",
       "    <tr style=\"text-align: right;\">\n",
       "      <th></th>\n",
       "      <th>verbatim_name</th>\n",
       "      <th>taxon_group</th>\n",
       "      <th>normalized_name</th>\n",
       "    </tr>\n",
       "  </thead>\n",
       "  <tbody>\n",
       "    <tr>\n",
       "      <th>1</th>\n",
       "      <td>Pyrite</td>\n",
       "      <td>benthic_forams</td>\n",
       "      <td>NaN</td>\n",
       "    </tr>\n",
       "    <tr>\n",
       "      <th>21</th>\n",
       "      <td>fossil</td>\n",
       "      <td>benthic_forams</td>\n",
       "      <td>NaN</td>\n",
       "    </tr>\n",
       "    <tr>\n",
       "      <th>22</th>\n",
       "      <td>fossil_group</td>\n",
       "      <td>benthic_forams</td>\n",
       "      <td>NaN</td>\n",
       "    </tr>\n",
       "    <tr>\n",
       "      <th>3068</th>\n",
       "      <td>Preservation palynofacies</td>\n",
       "      <td>palynology</td>\n",
       "      <td>NaN</td>\n",
       "    </tr>\n",
       "    <tr>\n",
       "      <th>3082</th>\n",
       "      <td>Exotic</td>\n",
       "      <td>palynology</td>\n",
       "      <td>NaN</td>\n",
       "    </tr>\n",
       "    <tr>\n",
       "      <th>3196</th>\n",
       "      <td>Organic matter</td>\n",
       "      <td>planktic_forams</td>\n",
       "      <td>NaN</td>\n",
       "    </tr>\n",
       "    <tr>\n",
       "      <th>3197</th>\n",
       "      <td>Terrestrial organic matter</td>\n",
       "      <td>planktic_forams</td>\n",
       "      <td>NaN</td>\n",
       "    </tr>\n",
       "    <tr>\n",
       "      <th>3213</th>\n",
       "      <td>Pyrite</td>\n",
       "      <td>planktic_forams</td>\n",
       "      <td>NaN</td>\n",
       "    </tr>\n",
       "    <tr>\n",
       "      <th>3215</th>\n",
       "      <td>ADDITIONAL SPECIES</td>\n",
       "      <td>planktic_forams</td>\n",
       "      <td>NaN</td>\n",
       "    </tr>\n",
       "    <tr>\n",
       "      <th>4125</th>\n",
       "      <td>ADDITIONAL SPECIES</td>\n",
       "      <td>radiolarians</td>\n",
       "      <td>NaN</td>\n",
       "    </tr>\n",
       "    <tr>\n",
       "      <th>25</th>\n",
       "      <td>Bathymetry</td>\n",
       "      <td>benthic_forams</td>\n",
       "      <td>NaN</td>\n",
       "    </tr>\n",
       "    <tr>\n",
       "      <th>283</th>\n",
       "      <td>Diatom Zone (NPD) in Yanagisawa and Akiba (1998)</td>\n",
       "      <td>diatoms</td>\n",
       "      <td>NaN</td>\n",
       "    </tr>\n",
       "    <tr>\n",
       "      <th>284</th>\n",
       "      <td>Diatom Zone (Yanagisawa and Akiba, 1998)</td>\n",
       "      <td>diatoms</td>\n",
       "      <td>NaN</td>\n",
       "    </tr>\n",
       "    <tr>\n",
       "      <th>299</th>\n",
       "      <td>Gen. et sp. indet</td>\n",
       "      <td>diatoms</td>\n",
       "      <td>NaN</td>\n",
       "    </tr>\n",
       "    <tr>\n",
       "      <th>307</th>\n",
       "      <td>Marine</td>\n",
       "      <td>diatoms</td>\n",
       "      <td>NaN</td>\n",
       "    </tr>\n",
       "    <tr>\n",
       "      <th>462</th>\n",
       "      <td>Martini (1971) Zone</td>\n",
       "      <td>nannofossils</td>\n",
       "      <td>NaN</td>\n",
       "    </tr>\n",
       "    <tr>\n",
       "      <th>551</th>\n",
       "      <td>Tintinids</td>\n",
       "      <td>palynology</td>\n",
       "      <td>NaN</td>\n",
       "    </tr>\n",
       "    <tr>\n",
       "      <th>616</th>\n",
       "      <td>Planktic foraminiferal %</td>\n",
       "      <td>planktic_forams</td>\n",
       "      <td>NaN</td>\n",
       "    </tr>\n",
       "    <tr>\n",
       "      <th>617</th>\n",
       "      <td>Planktic foraminiferal (%)</td>\n",
       "      <td>planktic_forams</td>\n",
       "      <td>NaN</td>\n",
       "    </tr>\n",
       "    <tr>\n",
       "      <th>651</th>\n",
       "      <td>Radiolarian zone</td>\n",
       "      <td>radiolarians</td>\n",
       "      <td>NaN</td>\n",
       "    </tr>\n",
       "    <tr>\n",
       "      <th>652</th>\n",
       "      <td>Radiolarian zone/subzone</td>\n",
       "      <td>radiolarians</td>\n",
       "      <td>NaN</td>\n",
       "    </tr>\n",
       "    <tr>\n",
       "      <th>679</th>\n",
       "      <td>Silicoflagellate Zone in Ling (1992)</td>\n",
       "      <td>silicoflagellates</td>\n",
       "      <td>NaN</td>\n",
       "    </tr>\n",
       "    <tr>\n",
       "      <th>680</th>\n",
       "      <td>Zone in Ling (1992)</td>\n",
       "      <td>silicoflagellates</td>\n",
       "      <td>NaN</td>\n",
       "    </tr>\n",
       "  </tbody>\n",
       "</table>\n",
       "</div>"
      ],
      "text/plain": [
       "                                         verbatim_name        taxon_group  \\\n",
       "1                                               Pyrite     benthic_forams   \n",
       "21                                              fossil     benthic_forams   \n",
       "22                                        fossil_group     benthic_forams   \n",
       "3068                         Preservation palynofacies         palynology   \n",
       "3082                                            Exotic         palynology   \n",
       "3196                                    Organic matter    planktic_forams   \n",
       "3197                        Terrestrial organic matter    planktic_forams   \n",
       "3213                                            Pyrite    planktic_forams   \n",
       "3215                                ADDITIONAL SPECIES    planktic_forams   \n",
       "4125                                ADDITIONAL SPECIES       radiolarians   \n",
       "25                                          Bathymetry     benthic_forams   \n",
       "283   Diatom Zone (NPD) in Yanagisawa and Akiba (1998)            diatoms   \n",
       "284           Diatom Zone (Yanagisawa and Akiba, 1998)            diatoms   \n",
       "299                                  Gen. et sp. indet            diatoms   \n",
       "307                                             Marine            diatoms   \n",
       "462                                Martini (1971) Zone       nannofossils   \n",
       "551                                          Tintinids         palynology   \n",
       "616                           Planktic foraminiferal %    planktic_forams   \n",
       "617                         Planktic foraminiferal (%)    planktic_forams   \n",
       "651                                   Radiolarian zone       radiolarians   \n",
       "652                           Radiolarian zone/subzone       radiolarians   \n",
       "679               Silicoflagellate Zone in Ling (1992)  silicoflagellates   \n",
       "680                                Zone in Ling (1992)  silicoflagellates   \n",
       "\n",
       "     normalized_name  \n",
       "1                NaN  \n",
       "21               NaN  \n",
       "22               NaN  \n",
       "3068             NaN  \n",
       "3082             NaN  \n",
       "3196             NaN  \n",
       "3197             NaN  \n",
       "3213             NaN  \n",
       "3215             NaN  \n",
       "4125             NaN  \n",
       "25               NaN  \n",
       "283              NaN  \n",
       "284              NaN  \n",
       "299              NaN  \n",
       "307              NaN  \n",
       "462              NaN  \n",
       "551              NaN  \n",
       "616              NaN  \n",
       "617              NaN  \n",
       "651              NaN  \n",
       "652              NaN  \n",
       "679              NaN  \n",
       "680              NaN  "
      ]
     },
     "execution_count": 18,
     "metadata": {},
     "output_type": "execute_result"
    }
   ],
   "source": [
    "combine[combine['normalized_name'].isna()]"
   ]
  },
  {
   "cell_type": "code",
   "execution_count": 19,
   "metadata": {},
   "outputs": [
    {
     "data": {
      "text/html": [
       "<div>\n",
       "<style scoped>\n",
       "    .dataframe tbody tr th:only-of-type {\n",
       "        vertical-align: middle;\n",
       "    }\n",
       "\n",
       "    .dataframe tbody tr th {\n",
       "        vertical-align: top;\n",
       "    }\n",
       "\n",
       "    .dataframe thead th {\n",
       "        text-align: right;\n",
       "    }\n",
       "</style>\n",
       "<table border=\"1\" class=\"dataframe\">\n",
       "  <thead>\n",
       "    <tr style=\"text-align: right;\">\n",
       "      <th></th>\n",
       "      <th>normalized_name</th>\n",
       "      <th>taxon_group</th>\n",
       "    </tr>\n",
       "  </thead>\n",
       "  <tbody>\n",
       "    <tr>\n",
       "      <th>2</th>\n",
       "      <td>Euuvigerina miozea</td>\n",
       "      <td>benthic_forams</td>\n",
       "    </tr>\n",
       "    <tr>\n",
       "      <th>3</th>\n",
       "      <td>Euuvigerina rodleyi</td>\n",
       "      <td>benthic_forams</td>\n",
       "    </tr>\n",
       "    <tr>\n",
       "      <th>4</th>\n",
       "      <td>Foraminifera indet.</td>\n",
       "      <td>benthic_forams</td>\n",
       "    </tr>\n",
       "    <tr>\n",
       "      <th>5</th>\n",
       "      <td>Pleurostomellidae indet.</td>\n",
       "      <td>benthic_forams</td>\n",
       "    </tr>\n",
       "    <tr>\n",
       "      <th>6</th>\n",
       "      <td>Ostracoda indet.</td>\n",
       "      <td>benthic_forams</td>\n",
       "    </tr>\n",
       "  </tbody>\n",
       "</table>\n",
       "</div>"
      ],
      "text/plain": [
       "            normalized_name     taxon_group\n",
       "2        Euuvigerina miozea  benthic_forams\n",
       "3       Euuvigerina rodleyi  benthic_forams\n",
       "4       Foraminifera indet.  benthic_forams\n",
       "5  Pleurostomellidae indet.  benthic_forams\n",
       "6          Ostracoda indet.  benthic_forams"
      ]
     },
     "execution_count": 19,
     "metadata": {},
     "output_type": "execute_result"
    }
   ],
   "source": [
    "\n",
    "combine2 = combine[['normalized_name', 'taxon_group']]\n",
    "combine2 = combine2.dropna(subset=['normalized_name'])\n",
    "\n",
    "combine2 = combine2.drop_duplicates() \n",
    "combine2.head()"
   ]
  },
  {
   "cell_type": "code",
   "execution_count": 20,
   "metadata": {},
   "outputs": [
    {
     "data": {
      "text/plain": [
       "(4675, 2)"
      ]
     },
     "execution_count": 20,
     "metadata": {},
     "output_type": "execute_result"
    }
   ],
   "source": [
    "combine2.shape"
   ]
  },
  {
   "cell_type": "code",
   "execution_count": 21,
   "metadata": {},
   "outputs": [],
   "source": [
    "sql = \"\"\"\n",
    "select name\n",
    "from taxa \n",
    "where id in (select taxon_id from samples_taxa);\n",
    "\"\"\"\n",
    "\n",
    "names = set()\n",
    "rows = db.fetch_all(sql)\n",
    "for row in rows:\n",
    "    names.add(row['name'])"
   ]
  },
  {
   "cell_type": "code",
   "execution_count": 22,
   "metadata": {},
   "outputs": [
    {
     "data": {
      "text/plain": [
       "4650"
      ]
     },
     "execution_count": 22,
     "metadata": {},
     "output_type": "execute_result"
    }
   ],
   "source": [
    "len(names)"
   ]
  },
  {
   "cell_type": "code",
   "execution_count": 23,
   "metadata": {},
   "outputs": [
    {
     "data": {
      "text/plain": [
       "{'Gephyrocapsa spp. (large)'}"
      ]
     },
     "execution_count": 23,
     "metadata": {},
     "output_type": "execute_result"
    }
   ],
   "source": [
    "set(combine2['normalized_name']) - names"
   ]
  },
  {
   "cell_type": "code",
   "execution_count": 24,
   "metadata": {},
   "outputs": [
    {
     "data": {
      "text/plain": [
       "set()"
      ]
     },
     "execution_count": 24,
     "metadata": {},
     "output_type": "execute_result"
    }
   ],
   "source": [
    "names - set(combine2['normalized_name']) "
   ]
  },
  {
   "cell_type": "markdown",
   "metadata": {},
   "source": [
    "# create taxa summary reports"
   ]
  },
  {
   "cell_type": "code",
   "execution_count": 112,
   "metadata": {},
   "outputs": [],
   "source": [
    "def create_report_df(rows):\n",
    "    records = []\n",
    "    for row in rows:\n",
    "        data = {}\n",
    "        for field, value in row.items():\n",
    "            data[field] = value if value else np.nan\n",
    "        records.append(data)\n",
    "\n",
    "    records\n",
    "\n",
    "    return pd.DataFrame(records)"
   ]
  },
  {
   "cell_type": "code",
   "execution_count": 123,
   "metadata": {
    "tags": []
   },
   "outputs": [
    {
     "data": {
      "text/plain": [
       "5280"
      ]
     },
     "execution_count": 123,
     "metadata": {},
     "output_type": "execute_result"
    }
   ],
   "source": [
    "sql = \"\"\"\n",
    "select  \n",
    "taxa.name, taxa.taxon_group, taxa.pbdb_taxon_id,\n",
    "taxa_crosswalk.verbatim_name,\n",
    "taxa_crosswalk.comment\n",
    "from taxa \n",
    "join taxa_crosswalk on taxa.id = taxa_crosswalk.taxon_id\n",
    "where   taxa.id in (select taxon_id from samples_taxa)\n",
    "order by taxa.name, taxa.taxon_group, taxa_crosswalk.verbatim_name,  taxa_crosswalk.comment;\n",
    "\"\"\"\n",
    "\n",
    "rows = db.fetch_all_dict(sql)\n",
    "len(rows)"
   ]
  },
  {
   "cell_type": "code",
   "execution_count": 124,
   "metadata": {},
   "outputs": [
    {
     "data": {
      "text/html": [
       "<div>\n",
       "<style scoped>\n",
       "    .dataframe tbody tr th:only-of-type {\n",
       "        vertical-align: middle;\n",
       "    }\n",
       "\n",
       "    .dataframe tbody tr th {\n",
       "        vertical-align: top;\n",
       "    }\n",
       "\n",
       "    .dataframe thead th {\n",
       "        text-align: right;\n",
       "    }\n",
       "</style>\n",
       "<table border=\"1\" class=\"dataframe\">\n",
       "  <thead>\n",
       "    <tr style=\"text-align: right;\">\n",
       "      <th></th>\n",
       "      <th>name</th>\n",
       "      <th>taxon_group</th>\n",
       "      <th>pbdb_taxon_id</th>\n",
       "      <th>verbatim_name</th>\n",
       "      <th>comment</th>\n",
       "    </tr>\n",
       "  </thead>\n",
       "  <tbody>\n",
       "    <tr>\n",
       "      <th>0</th>\n",
       "      <td>\"Amorphous organic matter\"</td>\n",
       "      <td>dinoflagellates</td>\n",
       "      <td>&lt;NA&gt;</td>\n",
       "      <td>Amorphous organic matter</td>\n",
       "      <td>not a taxa name</td>\n",
       "    </tr>\n",
       "    <tr>\n",
       "      <th>1</th>\n",
       "      <td>\"Amorphous organic matter\"</td>\n",
       "      <td>palynology</td>\n",
       "      <td>&lt;NA&gt;</td>\n",
       "      <td>Amorphous organic matter</td>\n",
       "      <td>not a taxa name</td>\n",
       "    </tr>\n",
       "    <tr>\n",
       "      <th>2</th>\n",
       "      <td>\"Black phytoclasts\"</td>\n",
       "      <td>dinoflagellates</td>\n",
       "      <td>&lt;NA&gt;</td>\n",
       "      <td>Black phytoclasts</td>\n",
       "      <td>not a taxa name</td>\n",
       "    </tr>\n",
       "    <tr>\n",
       "      <th>3</th>\n",
       "      <td>\"Black phytoclasts\"</td>\n",
       "      <td>palynology</td>\n",
       "      <td>&lt;NA&gt;</td>\n",
       "      <td>Black phytoclasts</td>\n",
       "      <td>not a taxa name</td>\n",
       "    </tr>\n",
       "    <tr>\n",
       "      <th>4</th>\n",
       "      <td>\"Black woody phytoclasts\"</td>\n",
       "      <td>palynology</td>\n",
       "      <td>&lt;NA&gt;</td>\n",
       "      <td>Black woody phytoclasts</td>\n",
       "      <td>not a taxa name</td>\n",
       "    </tr>\n",
       "  </tbody>\n",
       "</table>\n",
       "</div>"
      ],
      "text/plain": [
       "                         name      taxon_group  pbdb_taxon_id  \\\n",
       "0  \"Amorphous organic matter\"  dinoflagellates           <NA>   \n",
       "1  \"Amorphous organic matter\"       palynology           <NA>   \n",
       "2         \"Black phytoclasts\"  dinoflagellates           <NA>   \n",
       "3         \"Black phytoclasts\"       palynology           <NA>   \n",
       "4   \"Black woody phytoclasts\"       palynology           <NA>   \n",
       "\n",
       "              verbatim_name          comment  \n",
       "0  Amorphous organic matter  not a taxa name  \n",
       "1  Amorphous organic matter  not a taxa name  \n",
       "2         Black phytoclasts  not a taxa name  \n",
       "3         Black phytoclasts  not a taxa name  \n",
       "4   Black woody phytoclasts  not a taxa name  "
      ]
     },
     "execution_count": 124,
     "metadata": {},
     "output_type": "execute_result"
    }
   ],
   "source": [
    "df = create_report_df(rows)\n",
    "df['pbdb_taxon_id'] = df['pbdb_taxon_id'].astype(pd.Int64Dtype())\n",
    "df.head()"
   ]
  },
  {
   "cell_type": "code",
   "execution_count": 125,
   "metadata": {},
   "outputs": [],
   "source": [
    "df.to_csv(OUTPUT_DIR/'taxa'/'LIMS'/'taxa_list_entries_2022-08-04.csv', index=False)"
   ]
  },
  {
   "cell_type": "code",
   "execution_count": 120,
   "metadata": {},
   "outputs": [
    {
     "data": {
      "text/plain": [
       "4657"
      ]
     },
     "execution_count": 120,
     "metadata": {},
     "output_type": "execute_result"
    }
   ],
   "source": [
    "sql = \"\"\"\n",
    "select  \n",
    "taxa.name, taxa.taxon_group, taxa.pbdb_taxon_id,\n",
    "array_to_string(array_agg(taxa_crosswalk.verbatim_name), '; ') as verbatim_name, \n",
    "array_to_string(array_agg(taxa_crosswalk.comment), '; ') as comment\n",
    "from taxa \n",
    "join taxa_crosswalk on taxa.id = taxa_crosswalk.taxon_id\n",
    "where   taxa.id in (select taxon_id from samples_taxa)\n",
    "group by taxa.name, taxa.taxon_group , taxa.pbdb_taxon_id\n",
    "order by taxa.name, taxa.taxon_group,  verbatim_name, comment ;\n",
    "\"\"\"\n",
    "\n",
    "rows = db.fetch_all_dict(sql)\n",
    "len(rows)"
   ]
  },
  {
   "cell_type": "code",
   "execution_count": 121,
   "metadata": {},
   "outputs": [
    {
     "data": {
      "text/html": [
       "<div>\n",
       "<style scoped>\n",
       "    .dataframe tbody tr th:only-of-type {\n",
       "        vertical-align: middle;\n",
       "    }\n",
       "\n",
       "    .dataframe tbody tr th {\n",
       "        vertical-align: top;\n",
       "    }\n",
       "\n",
       "    .dataframe thead th {\n",
       "        text-align: right;\n",
       "    }\n",
       "</style>\n",
       "<table border=\"1\" class=\"dataframe\">\n",
       "  <thead>\n",
       "    <tr style=\"text-align: right;\">\n",
       "      <th></th>\n",
       "      <th>name</th>\n",
       "      <th>taxon_group</th>\n",
       "      <th>pbdb_taxon_id</th>\n",
       "      <th>verbatim_name</th>\n",
       "      <th>comment</th>\n",
       "    </tr>\n",
       "  </thead>\n",
       "  <tbody>\n",
       "    <tr>\n",
       "      <th>0</th>\n",
       "      <td>\"Amorphous organic matter\"</td>\n",
       "      <td>dinoflagellates</td>\n",
       "      <td>&lt;NA&gt;</td>\n",
       "      <td>Amorphous organic matter</td>\n",
       "      <td>not a taxa name</td>\n",
       "    </tr>\n",
       "    <tr>\n",
       "      <th>1</th>\n",
       "      <td>\"Amorphous organic matter\"</td>\n",
       "      <td>palynology</td>\n",
       "      <td>&lt;NA&gt;</td>\n",
       "      <td>Amorphous organic matter</td>\n",
       "      <td>not a taxa name</td>\n",
       "    </tr>\n",
       "    <tr>\n",
       "      <th>2</th>\n",
       "      <td>\"Black phytoclasts\"</td>\n",
       "      <td>dinoflagellates</td>\n",
       "      <td>&lt;NA&gt;</td>\n",
       "      <td>Black phytoclasts</td>\n",
       "      <td>not a taxa name</td>\n",
       "    </tr>\n",
       "    <tr>\n",
       "      <th>3</th>\n",
       "      <td>\"Black phytoclasts\"</td>\n",
       "      <td>palynology</td>\n",
       "      <td>&lt;NA&gt;</td>\n",
       "      <td>Black phytoclasts</td>\n",
       "      <td>not a taxa name</td>\n",
       "    </tr>\n",
       "    <tr>\n",
       "      <th>4</th>\n",
       "      <td>\"Black woody phytoclasts\"</td>\n",
       "      <td>palynology</td>\n",
       "      <td>&lt;NA&gt;</td>\n",
       "      <td>Black woody phytoclasts</td>\n",
       "      <td>not a taxa name</td>\n",
       "    </tr>\n",
       "  </tbody>\n",
       "</table>\n",
       "</div>"
      ],
      "text/plain": [
       "                         name      taxon_group  pbdb_taxon_id  \\\n",
       "0  \"Amorphous organic matter\"  dinoflagellates           <NA>   \n",
       "1  \"Amorphous organic matter\"       palynology           <NA>   \n",
       "2         \"Black phytoclasts\"  dinoflagellates           <NA>   \n",
       "3         \"Black phytoclasts\"       palynology           <NA>   \n",
       "4   \"Black woody phytoclasts\"       palynology           <NA>   \n",
       "\n",
       "              verbatim_name          comment  \n",
       "0  Amorphous organic matter  not a taxa name  \n",
       "1  Amorphous organic matter  not a taxa name  \n",
       "2         Black phytoclasts  not a taxa name  \n",
       "3         Black phytoclasts  not a taxa name  \n",
       "4   Black woody phytoclasts  not a taxa name  "
      ]
     },
     "execution_count": 121,
     "metadata": {},
     "output_type": "execute_result"
    }
   ],
   "source": [
    "df = create_report_df(rows)\n",
    "df['pbdb_taxon_id'] = df['pbdb_taxon_id'].astype(pd.Int64Dtype())\n",
    "df.head()"
   ]
  },
  {
   "cell_type": "code",
   "execution_count": 122,
   "metadata": {},
   "outputs": [],
   "source": [
    "df.to_csv(OUTPUT_DIR/'taxa'/'LIMS'/'taxa_list_distinct_taxonomic_entries_2022-08-04.csv', index=False)"
   ]
  },
  {
   "cell_type": "code",
   "execution_count": 159,
   "metadata": {},
   "outputs": [
    {
     "data": {
      "text/plain": [
       "4633"
      ]
     },
     "execution_count": 159,
     "metadata": {},
     "output_type": "execute_result"
    }
   ],
   "source": [
    "sql = \"\"\"\n",
    "select  \n",
    "taxa.name, taxa.pbdb_taxon_id,\n",
    "array_to_string(array_agg(taxa.taxon_group), '; ') as taxon_group, \n",
    "array_to_string(array_agg(taxa_crosswalk.verbatim_name), '; ') as verbatim_name, \n",
    "array_to_string(array_agg(taxa_crosswalk.comment), '; ') as comment\n",
    "from taxa \n",
    "join taxa_crosswalk on taxa.id = taxa_crosswalk.taxon_id\n",
    "where   taxa.id in (select taxon_id from samples_taxa)\n",
    "group by taxa.name,    taxa.pbdb_taxon_id\n",
    "order by taxa.name,   verbatim_name, comment ;\n",
    "\"\"\"\n",
    "\n",
    "rows = db.fetch_all_dict(sql)\n",
    "len(rows)"
   ]
  },
  {
   "cell_type": "code",
   "execution_count": 160,
   "metadata": {},
   "outputs": [
    {
     "data": {
      "text/html": [
       "<div>\n",
       "<style scoped>\n",
       "    .dataframe tbody tr th:only-of-type {\n",
       "        vertical-align: middle;\n",
       "    }\n",
       "\n",
       "    .dataframe tbody tr th {\n",
       "        vertical-align: top;\n",
       "    }\n",
       "\n",
       "    .dataframe thead th {\n",
       "        text-align: right;\n",
       "    }\n",
       "</style>\n",
       "<table border=\"1\" class=\"dataframe\">\n",
       "  <thead>\n",
       "    <tr style=\"text-align: right;\">\n",
       "      <th></th>\n",
       "      <th>name</th>\n",
       "      <th>pbdb_taxon_id</th>\n",
       "      <th>taxon_group</th>\n",
       "      <th>verbatim_name</th>\n",
       "      <th>comment</th>\n",
       "    </tr>\n",
       "  </thead>\n",
       "  <tbody>\n",
       "    <tr>\n",
       "      <th>0</th>\n",
       "      <td>\"Amorphous organic matter\"</td>\n",
       "      <td>&lt;NA&gt;</td>\n",
       "      <td>palynology; dinoflagellates</td>\n",
       "      <td>Amorphous organic matter; Amorphous organic ma...</td>\n",
       "      <td>not a taxa name; not a taxa name</td>\n",
       "    </tr>\n",
       "    <tr>\n",
       "      <th>1</th>\n",
       "      <td>\"Black phytoclasts\"</td>\n",
       "      <td>&lt;NA&gt;</td>\n",
       "      <td>dinoflagellates; palynology</td>\n",
       "      <td>Black phytoclasts; Black phytoclasts</td>\n",
       "      <td>not a taxa name; not a taxa name</td>\n",
       "    </tr>\n",
       "    <tr>\n",
       "      <th>2</th>\n",
       "      <td>\"Black woody phytoclasts\"</td>\n",
       "      <td>&lt;NA&gt;</td>\n",
       "      <td>palynology</td>\n",
       "      <td>Black woody phytoclasts</td>\n",
       "      <td>not a taxa name</td>\n",
       "    </tr>\n",
       "    <tr>\n",
       "      <th>3</th>\n",
       "      <td>\"Brown phytoclasts\"</td>\n",
       "      <td>&lt;NA&gt;</td>\n",
       "      <td>dinoflagellates; palynology</td>\n",
       "      <td>Brown phytoclasts; Brown phytoclasts</td>\n",
       "      <td>not a taxa name; not a taxa name</td>\n",
       "    </tr>\n",
       "    <tr>\n",
       "      <th>4</th>\n",
       "      <td>\"Brown woody phytoclasts\"</td>\n",
       "      <td>&lt;NA&gt;</td>\n",
       "      <td>palynology</td>\n",
       "      <td>Brown woody phytoclasts</td>\n",
       "      <td>not a taxa name</td>\n",
       "    </tr>\n",
       "  </tbody>\n",
       "</table>\n",
       "</div>"
      ],
      "text/plain": [
       "                         name  pbdb_taxon_id                  taxon_group  \\\n",
       "0  \"Amorphous organic matter\"           <NA>  palynology; dinoflagellates   \n",
       "1         \"Black phytoclasts\"           <NA>  dinoflagellates; palynology   \n",
       "2   \"Black woody phytoclasts\"           <NA>                   palynology   \n",
       "3         \"Brown phytoclasts\"           <NA>  dinoflagellates; palynology   \n",
       "4   \"Brown woody phytoclasts\"           <NA>                   palynology   \n",
       "\n",
       "                                       verbatim_name  \\\n",
       "0  Amorphous organic matter; Amorphous organic ma...   \n",
       "1               Black phytoclasts; Black phytoclasts   \n",
       "2                            Black woody phytoclasts   \n",
       "3               Brown phytoclasts; Brown phytoclasts   \n",
       "4                            Brown woody phytoclasts   \n",
       "\n",
       "                            comment  \n",
       "0  not a taxa name; not a taxa name  \n",
       "1  not a taxa name; not a taxa name  \n",
       "2                   not a taxa name  \n",
       "3  not a taxa name; not a taxa name  \n",
       "4                   not a taxa name  "
      ]
     },
     "execution_count": 160,
     "metadata": {},
     "output_type": "execute_result"
    }
   ],
   "source": [
    "df = create_report_df(rows)\n",
    "df['pbdb_taxon_id'] = df['pbdb_taxon_id'].astype(pd.Int64Dtype())\n",
    "df.head()"
   ]
  },
  {
   "cell_type": "code",
   "execution_count": 161,
   "metadata": {},
   "outputs": [],
   "source": [
    "df.to_csv(OUTPUT_DIR/'taxa'/'LIMS'/'taxa_list_distinct_taxonomic_entries_across_groups_2022-08-04.csv', index=False)"
   ]
  },
  {
   "cell_type": "markdown",
   "metadata": {},
   "source": [
    "## taxa where PIs add quotes to name\n",
    "\n",
    "taxa name with quotes and verbatim name does not have quotes"
   ]
  },
  {
   "cell_type": "code",
   "execution_count": 162,
   "metadata": {},
   "outputs": [
    {
     "data": {
      "text/plain": [
       "35"
      ]
     },
     "execution_count": 162,
     "metadata": {},
     "output_type": "execute_result"
    }
   ],
   "source": [
    "sql = \"\"\"\n",
    "select distinct taxa.name,\n",
    "taxa.taxon_group,  \n",
    "array_to_string(array_agg(taxa_crosswalk.verbatim_name), '; ') as verbatim_names\n",
    "from taxa \n",
    "join taxa_crosswalk on taxa.id = taxa_crosswalk.taxon_id\n",
    "where taxa.name like '\"%'\n",
    "and taxa_crosswalk.verbatim_name  not like '\"%'\n",
    "and taxa.id in (select taxon_id from samples_taxa)\n",
    "group by taxa.name, taxa.taxon_group\n",
    "order by taxa.name;\n",
    "\"\"\"\n",
    "\n",
    "rows = db.fetch_all_dict(sql)\n",
    "len(rows)"
   ]
  },
  {
   "cell_type": "code",
   "execution_count": 164,
   "metadata": {},
   "outputs": [
    {
     "data": {
      "text/html": [
       "<div>\n",
       "<style scoped>\n",
       "    .dataframe tbody tr th:only-of-type {\n",
       "        vertical-align: middle;\n",
       "    }\n",
       "\n",
       "    .dataframe tbody tr th {\n",
       "        vertical-align: top;\n",
       "    }\n",
       "\n",
       "    .dataframe thead th {\n",
       "        text-align: right;\n",
       "    }\n",
       "</style>\n",
       "<table border=\"1\" class=\"dataframe\">\n",
       "  <thead>\n",
       "    <tr style=\"text-align: right;\">\n",
       "      <th></th>\n",
       "      <th>name</th>\n",
       "      <th>taxon_group</th>\n",
       "      <th>verbatim_names</th>\n",
       "    </tr>\n",
       "  </thead>\n",
       "  <tbody>\n",
       "    <tr>\n",
       "      <th>0</th>\n",
       "      <td>\"Amorphous organic matter\"</td>\n",
       "      <td>dinoflagellates</td>\n",
       "      <td>Amorphous organic matter</td>\n",
       "    </tr>\n",
       "    <tr>\n",
       "      <th>1</th>\n",
       "      <td>\"Amorphous organic matter\"</td>\n",
       "      <td>palynology</td>\n",
       "      <td>Amorphous organic matter</td>\n",
       "    </tr>\n",
       "    <tr>\n",
       "      <th>2</th>\n",
       "      <td>\"Black phytoclasts\"</td>\n",
       "      <td>dinoflagellates</td>\n",
       "      <td>Black phytoclasts</td>\n",
       "    </tr>\n",
       "    <tr>\n",
       "      <th>3</th>\n",
       "      <td>\"Black phytoclasts\"</td>\n",
       "      <td>palynology</td>\n",
       "      <td>Black phytoclasts</td>\n",
       "    </tr>\n",
       "    <tr>\n",
       "      <th>4</th>\n",
       "      <td>\"Black woody phytoclasts\"</td>\n",
       "      <td>palynology</td>\n",
       "      <td>Black woody phytoclasts</td>\n",
       "    </tr>\n",
       "  </tbody>\n",
       "</table>\n",
       "</div>"
      ],
      "text/plain": [
       "                         name      taxon_group            verbatim_names\n",
       "0  \"Amorphous organic matter\"  dinoflagellates  Amorphous organic matter\n",
       "1  \"Amorphous organic matter\"       palynology  Amorphous organic matter\n",
       "2         \"Black phytoclasts\"  dinoflagellates         Black phytoclasts\n",
       "3         \"Black phytoclasts\"       palynology         Black phytoclasts\n",
       "4   \"Black woody phytoclasts\"       palynology   Black woody phytoclasts"
      ]
     },
     "execution_count": 164,
     "metadata": {},
     "output_type": "execute_result"
    }
   ],
   "source": [
    "df = create_report_df(rows)\n",
    "df.head()"
   ]
  },
  {
   "cell_type": "code",
   "execution_count": null,
   "metadata": {},
   "outputs": [],
   "source": []
  }
 ],
 "metadata": {
  "kernelspec": {
   "display_name": "Python 3 (ipykernel)",
   "language": "python",
   "name": "python3"
  },
  "language_info": {
   "codemirror_mode": {
    "name": "ipython",
    "version": 3
   },
   "file_extension": ".py",
   "mimetype": "text/x-python",
   "name": "python",
   "nbconvert_exporter": "python",
   "pygments_lexer": "ipython3",
   "version": "3.8.2"
  }
 },
 "nbformat": 4,
 "nbformat_minor": 4
}
