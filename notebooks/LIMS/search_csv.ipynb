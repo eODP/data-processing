{
 "cells": [
  {
   "cell_type": "markdown",
   "metadata": {},
   "source": [
    "# search csv"
   ]
  },
  {
   "cell_type": "markdown",
   "metadata": {},
   "source": [
    "search all files for given header"
   ]
  },
  {
   "cell_type": "code",
   "execution_count": 18,
   "metadata": {},
   "outputs": [],
   "source": [
    "import sys\n",
    "sys.path.append('../../')\n",
    "import glob\n",
    "import shutil\n",
    "from pathlib import Path\n",
    "import os\n",
    "\n",
    "import pandas as pd\n",
    "from config import CLEAN_DATA_DIR, OUTPUT_DIR, RAW_DATA_DIR\n",
    "\n",
    "from scripts.normalize_data import (\n",
    "    check_duplicate_columns\n",
    ")"
   ]
  },
  {
   "cell_type": "code",
   "execution_count": 19,
   "metadata": {},
   "outputs": [],
   "source": [
    "clean_data_path = CLEAN_DATA_DIR\n",
    "\n",
    "metadata_file = OUTPUT_DIR/'metadata'/'LIMS'/'Micropal_changes.csv' \n",
    "# metadata_file = OUTPUT_DIR/'metadata'/'LIMS'/'Micropal_changes_4.csv' \n",
    "\n",
    "all_columns_4_file = OUTPUT_DIR/'tmp/LIMS_4_taxa_columns_2020-02-23.csv'\n",
    "all_columns_file = OUTPUT_DIR/'tmp/all_LIMS_taxa_columns_2020-02-23.csv'\n"
   ]
  },
  {
   "cell_type": "markdown",
   "metadata": {},
   "source": [
    "## create a file with all columns  in LIMS taxa"
   ]
  },
  {
   "cell_type": "code",
   "execution_count": 37,
   "metadata": {},
   "outputs": [
    {
     "data": {
      "text/plain": [
       "(1253, 16)"
      ]
     },
     "execution_count": 37,
     "metadata": {},
     "output_type": "execute_result"
    }
   ],
   "source": [
    "metadata = pd.read_csv(metadata_file)\n",
    "metadata.shape\n",
    "# 1253"
   ]
  },
  {
   "cell_type": "code",
   "execution_count": 38,
   "metadata": {},
   "outputs": [],
   "source": [
    "data = []\n",
    "for path in metadata['path']:\n",
    "    df = pd.read_csv(clean_data_path/path, dtype=str)\n",
    "    df.dropna(axis=\"columns\", how='all', inplace=True)\n",
    "    for col in df.columns:\n",
    "        data.append({\"path\": path, \"column\": col})"
   ]
  },
  {
   "cell_type": "code",
   "execution_count": 39,
   "metadata": {},
   "outputs": [
    {
     "data": {
      "text/plain": [
       "(60260, 2)"
      ]
     },
     "execution_count": 39,
     "metadata": {},
     "output_type": "execute_result"
    }
   ],
   "source": [
    "all_df = pd.DataFrame(data)\n",
    "all_df.shape\n",
    "# 60260"
   ]
  },
  {
   "cell_type": "code",
   "execution_count": 40,
   "metadata": {},
   "outputs": [],
   "source": [
    "all_df.to_csv(all_columns_file)"
   ]
  },
  {
   "cell_type": "markdown",
   "metadata": {},
   "source": [
    "## search for column"
   ]
  },
  {
   "cell_type": "code",
   "execution_count": 41,
   "metadata": {},
   "outputs": [],
   "source": [
    "def find_column_value(all_columns_path, column, copy_files=False):\n",
    "    all_df = pd.read_csv(all_columns_path, dtype=str)\n",
    "    files = list(all_df[all_df['column'] == column]['path'].unique())\n",
    "    \n",
    "    print(f'\"{column}\" found in {len(files)} files\\n')\n",
    "\n",
    "    for file in files:\n",
    "        path = CLEAN_DATA_DIR/file\n",
    "        df = pd.read_csv(path, dtype=str, usecols=[column])\n",
    "        df[column].dropna(inplace=True)\n",
    "        \n",
    "        print(path, '\\n')\n",
    "        if len(df[column].unique()) > 0:\n",
    "            print(' | '.join(df[column].fillna('').unique()))\n",
    "            print('----')\n",
    "        \n",
    "        if copy_files:\n",
    "            temp_path = Path('temp', column)\n",
    "            if not os.path.exists(temp_path):\n",
    "                os.makedirs(temp_path)\n",
    "            shutil.copy(path, temp_path)\n"
   ]
  },
  {
   "cell_type": "code",
   "execution_count": 42,
   "metadata": {},
   "outputs": [
    {
     "name": "stdout",
     "output_type": "stream",
     "text": [
      "\"Truncorotalia crassula (dextral)\" found in 0 files\n",
      "\n"
     ]
    }
   ],
   "source": [
    "column = 'Truncorotalia crassula (dextral)'\n",
    "\n",
    "find_column_value(all_columns_file, column, False)"
   ]
  },
  {
   "cell_type": "code",
   "execution_count": null,
   "metadata": {},
   "outputs": [],
   "source": []
  }
 ],
 "metadata": {
  "kernelspec": {
   "display_name": "Python 3 (ipykernel)",
   "language": "python",
   "name": "python3"
  },
  "language_info": {
   "codemirror_mode": {
    "name": "ipython",
    "version": 3
   },
   "file_extension": ".py",
   "mimetype": "text/x-python",
   "name": "python",
   "nbconvert_exporter": "python",
   "pygments_lexer": "ipython3",
   "version": "3.8.2"
  }
 },
 "nbformat": 4,
 "nbformat_minor": 4
}
