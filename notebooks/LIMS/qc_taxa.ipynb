{
 "cells": [
  {
   "cell_type": "markdown",
   "metadata": {},
   "source": [
    "# QC taxa"
   ]
  },
  {
   "cell_type": "code",
   "execution_count": 2,
   "metadata": {},
   "outputs": [],
   "source": [
    "import sys\n",
    "sys.path.append('../../')\n",
    "import pandas as pd\n",
    "import glob\n",
    "from pathlib import Path\n",
    "from config import CLEAN_DATA_DIR, OUTPUT_DIR, RAW_DATA_DIR\n",
    "import db as db\n",
    "\n",
    "\n",
    "from scripts.normalize_data import (\n",
    "    csv_cleanup,\n",
    "    update_metadata,\n",
    "    get_taxonomy_columns,\n",
    ")\n",
    "\n",
    "import scripts.normalize_taxa as nt\n",
    "\n",
    "from scripts.shared_utils import (\n",
    "    log_df\n",
    ")"
   ]
  },
  {
   "cell_type": "code",
   "execution_count": 3,
   "metadata": {},
   "outputs": [],
   "source": [
    "clean_data_paths = [\n",
    "    CLEAN_DATA_DIR /'LIMS/Micropal_CSV_1', \n",
    "    CLEAN_DATA_DIR /'LIMS/Micropal_CSV_2', \n",
    "    CLEAN_DATA_DIR /'LIMS/Micropal_CSV_3', \n",
    "    CLEAN_DATA_DIR /'LIMS/Micropal_CSV_4', \n",
    "    CLEAN_DATA_DIR /'LIMS/Micropal_CSV_revised', \n",
    "]\n",
    "\n",
    "metadata_file = OUTPUT_DIR/'metadata'/'LIMS'/'Micropal_changes.csv' \n",
    "\n",
    "\n",
    "date = '2022-08-08'\n",
    "taxa_list_file = OUTPUT_DIR/'taxa'/'LIMS'/f\"taxa_list_{date}.csv\"\n",
    "taxa_crosswalk_list_file = OUTPUT_DIR/'taxa'/'LIMS'/f\"taxa_crosswalk_{date}.csv\"\n",
    "\n",
    "date = '2021-11-29'\n",
    "noaa_taxa_crosswalk_file = OUTPUT_DIR/'taxa'/'NOAA'/f\"PI_normalized_taxa_list_with_pbdb_{date}.csv\"\n",
    "\n",
    "\n",
    "date = '2022-08-08'\n",
    "input_file = RAW_DATA_DIR/'PI_processed_files'/f'LIMS_Micropal_headers_PBDB_Taxonomy_notes_taxa_list_{date}.csv'\n",
    "input_4_file = RAW_DATA_DIR/'PI_processed_files'/f'LIMS Micropal_CSV_4_taxa_{date}.csv'\n",
    "\n",
    "pi_file = OUTPUT_DIR/'taxa'/'LIMS'/'PI_normalized_taxa_list_with_pbdb_2022-04-28.csv'\n",
    "\n",
    "date='2021-11-29'\n",
    "input_noaa_file = RAW_DATA_DIR/'PI_processed_files'/f'NOAA_taxa_lists_taxa_list_{date}.csv'\n",
    "\n",
    "add_taxa_file = RAW_DATA_DIR/'PI_processed_files'/'LIMS_Micropal_CSV_4_taxa_ADDTL_TAXA.csv'\n",
    "\n",
    "date = '2022-02-24'\n",
    "taxa_file = OUTPUT_DIR/'taxa'/'draft'/'LIMS'/f\"micropal_4_taxa_{date}.csv\"\n",
    "genus_file= OUTPUT_DIR/'taxa'/'draft'/'LIMS'/f\"micropal_4_genus_{date}.csv\"\n",
    "taxa_pbdb_file = OUTPUT_DIR/'taxa'/'draft'/'LIMS'/f'micropal_4_taxa_pbdb_{date}.csv'\n",
    "genus_letter_file= OUTPUT_DIR/'taxa'/'draft'/'LIMS'/f\"micropal_4_genus_letter_{date}.csv\"\n",
    "\n",
    "all_columns_file = OUTPUT_DIR/'tmp/all_LIMS_taxa_columns.csv'\n",
    "\n",
    "\n",
    "date = '2022-08-30'\n",
    "nontaxa_fields_path =  OUTPUT_DIR/'normalized_data'/'LIMS'/f'nontaxa_fields_{date}.csv'\n",
    "\n",
    "PI_abundance_codes_group_path = RAW_DATA_DIR/'PI_processed_files'/'group_abundance_preservation.csv'\n"
   ]
  },
  {
   "cell_type": "markdown",
   "metadata": {
    "jp-MarkdownHeadingCollapsed": true,
    "tags": []
   },
   "source": [
    "# compare taxa list and PI taxa list\n",
    "\n",
    "Check if the taxa that were aproved by the researchers from the google sheet matches the taxa from the LIMS taxa_list.csv."
   ]
  },
  {
   "cell_type": "code",
   "execution_count": 188,
   "metadata": {},
   "outputs": [
    {
     "data": {
      "text/plain": [
       "(4743, 32)"
      ]
     },
     "execution_count": 188,
     "metadata": {},
     "output_type": "execute_result"
    }
   ],
   "source": [
    "normalized_df = pd.read_csv(input_file, skiprows = 9)\n",
    "normalized_df = normalized_df.dropna(axis=0, how='all')\n",
    "normalized_df.shape"
   ]
  },
  {
   "cell_type": "code",
   "execution_count": 192,
   "metadata": {},
   "outputs": [
    {
     "data": {
      "text/plain": [
       "(695, 33)"
      ]
     },
     "execution_count": 192,
     "metadata": {},
     "output_type": "execute_result"
    }
   ],
   "source": [
    "normalized_4_df = pd.read_csv(input_4_file)\n",
    "normalized_4_df = normalized_4_df.dropna(axis=0, how='all')\n",
    "normalized_4_df.shape"
   ]
  },
  {
   "cell_type": "code",
   "execution_count": 193,
   "metadata": {},
   "outputs": [
    {
     "data": {
      "text/plain": [
       "(5380, 18)"
      ]
     },
     "execution_count": 193,
     "metadata": {},
     "output_type": "execute_result"
    }
   ],
   "source": [
    "taxa_df = pd.read_csv(taxa_crosswalk_list_file)\n",
    "taxa_df = taxa_df.dropna(axis=0, how='all')\n",
    "taxa_df.shape"
   ]
  },
  {
   "cell_type": "code",
   "execution_count": 203,
   "metadata": {},
   "outputs": [
    {
     "data": {
      "text/plain": [
       "(7763, 20)"
      ]
     },
     "execution_count": 203,
     "metadata": {},
     "output_type": "execute_result"
    }
   ],
   "source": [
    "noaa_df = pd.read_csv(input_noaa_file)\n",
    "noaa_df = noaa_df.dropna(axis=0, how='all')\n",
    "noaa_df.shape"
   ]
  },
  {
   "cell_type": "code",
   "execution_count": 201,
   "metadata": {},
   "outputs": [
    {
     "data": {
      "text/plain": [
       "5368"
      ]
     },
     "execution_count": 201,
     "metadata": {},
     "output_type": "execute_result"
    }
   ],
   "source": [
    "normalized_names = set(normalized_df['verbatim_name'])\n",
    "normalized_4_names = set(normalized_4_df['verbatim_name'])\n",
    "all_normalized_names = normalized_names.union(normalized_4_names)\n",
    "\n",
    "taxa_names = set(taxa_df['verbatim_name'])\n",
    "len(taxa_names)"
   ]
  },
  {
   "cell_type": "code",
   "execution_count": 205,
   "metadata": {},
   "outputs": [
    {
     "data": {
      "text/plain": [
       "28"
      ]
     },
     "execution_count": 205,
     "metadata": {},
     "output_type": "execute_result"
    }
   ],
   "source": [
    "names = all_normalized_names - taxa_names\n",
    "len(names)"
   ]
  },
  {
   "cell_type": "code",
   "execution_count": 206,
   "metadata": {},
   "outputs": [
    {
     "data": {
      "text/plain": [
       "True"
      ]
     },
     "execution_count": 206,
     "metadata": {},
     "output_type": "execute_result"
    }
   ],
   "source": [
    "len(names) == 28"
   ]
  },
  {
   "cell_type": "code",
   "execution_count": 207,
   "metadata": {},
   "outputs": [
    {
     "data": {
      "text/plain": [
       "{'ADDITIONAL SPECIES',\n",
       " 'Bathymetry',\n",
       " 'Dextral:Sinistral _N. acostaensis_',\n",
       " 'Dextral:Sinistral _P. finalis_',\n",
       " 'Dextral:Sinistral _P. obliquiloculata_',\n",
       " 'Dextral:Sinistral _P. praecursor_',\n",
       " 'Dextral:Sinistral _P. praespectabilis_',\n",
       " 'Dextral:Sinistral _P. primalis_',\n",
       " 'Dextral:Sinistral _P. spectabilis_',\n",
       " 'Diatom Zone (NPD) in Yanagisawa and Akiba (1998)',\n",
       " 'Diatom Zone (Yanagisawa and Akiba, 1998)',\n",
       " 'Exotic',\n",
       " 'Gen. et sp. indet',\n",
       " 'Marine',\n",
       " 'Martini (1971) Zone',\n",
       " 'Organic matter',\n",
       " 'Planktic foraminiferal %',\n",
       " 'Planktic foraminiferal (%)',\n",
       " 'Preservation palynofacies',\n",
       " 'Pyrite',\n",
       " 'RESOLVED NAMES BY TAXONOMIC GROUP',\n",
       " 'Radiolarian zone',\n",
       " 'Radiolarian zone/subzone',\n",
       " 'Silicoflagellate Zone in Ling (1992)',\n",
       " 'Terrestrial organic matter',\n",
       " 'Zone in Ling (1992)',\n",
       " 'fossil',\n",
       " 'fossil_group'}"
      ]
     },
     "execution_count": 207,
     "metadata": {},
     "output_type": "execute_result"
    }
   ],
   "source": [
    "names"
   ]
  },
  {
   "cell_type": "code",
   "execution_count": 208,
   "metadata": {},
   "outputs": [
    {
     "data": {
      "text/plain": [
       "34"
      ]
     },
     "execution_count": 208,
     "metadata": {},
     "output_type": "execute_result"
    }
   ],
   "source": [
    "names = taxa_names - all_normalized_names - set(noaa_df['verbatim_name'])\n",
    "\n",
    "len(names)"
   ]
  },
  {
   "cell_type": "code",
   "execution_count": 210,
   "metadata": {},
   "outputs": [
    {
     "data": {
      "text/plain": [
       "True"
      ]
     },
     "execution_count": 210,
     "metadata": {},
     "output_type": "execute_result"
    }
   ],
   "source": [
    "len(names) == 34"
   ]
  },
  {
   "cell_type": "code",
   "execution_count": 209,
   "metadata": {},
   "outputs": [
    {
     "data": {
      "text/plain": [
       "{'Dextral N. acostaensis',\n",
       " 'Dextral P. finalis',\n",
       " 'Dextral P. obliquiloculata',\n",
       " 'Dextral P. praecursor',\n",
       " 'Dextral P. praespectabilis',\n",
       " 'Dextral P. primalis',\n",
       " 'Dextral P. spectabilis',\n",
       " 'Sinistral N. acostaensis',\n",
       " 'Sinistral P. finalis',\n",
       " 'Sinistral P. obliquiloculata',\n",
       " 'Sinistral P. praecursor',\n",
       " 'Sinistral P. praespectabilis',\n",
       " 'Sinistral P. primalis',\n",
       " 'Sinistral P. spectabilis',\n",
       " 'additional species: Big Lithomelissa sp. A (Antarctissa like)',\n",
       " 'additional species: Cypassis irregularis',\n",
       " 'additional species: Eucyrtidium teuscheri',\n",
       " 'additional species: Gondwanaria dogieli',\n",
       " 'additional species: Grobolotalia spp.',\n",
       " 'additional species: Hantkenina australis',\n",
       " 'additional species: Larcopyle buetschlii (R)',\n",
       " 'additional species: Litharachnium tentorium',\n",
       " 'additional species: Lithostrobus cuspidatus',\n",
       " 'additional species: Lonchosphaera spicata',\n",
       " 'additional species: N. incompta',\n",
       " 'additional species: Neogloboquadrina pachyderma',\n",
       " 'additional species: Parasubbotina varianta',\n",
       " 'additional species: Poulpus spp.-like',\n",
       " 'additional species: Prunopyle antarctica',\n",
       " 'additional species: Streblacantha circumtexta',\n",
       " 'additional species: Subbotina cancellata',\n",
       " 'additional species: Tenuitella gemma',\n",
       " 'additional species: Tetraplecta pinigera/Euscenium corynephorum',\n",
       " 'additional species: Verticillata hexacantha'}"
      ]
     },
     "execution_count": 209,
     "metadata": {},
     "output_type": "execute_result"
    }
   ],
   "source": [
    "names"
   ]
  },
  {
   "cell_type": "markdown",
   "metadata": {
    "tags": []
   },
   "source": [
    "# check if taxon with multiple taxon groups is imported\n",
    "\n",
    "'Globigerinoides ruber (white)' has both benthic_forams; planktic_forams"
   ]
  },
  {
   "cell_type": "code",
   "execution_count": 112,
   "metadata": {},
   "outputs": [
    {
     "data": {
      "text/html": [
       "<div>\n",
       "<style scoped>\n",
       "    .dataframe tbody tr th:only-of-type {\n",
       "        vertical-align: middle;\n",
       "    }\n",
       "\n",
       "    .dataframe tbody tr th {\n",
       "        vertical-align: top;\n",
       "    }\n",
       "\n",
       "    .dataframe thead th {\n",
       "        text-align: right;\n",
       "    }\n",
       "</style>\n",
       "<table border=\"1\" class=\"dataframe\">\n",
       "  <thead>\n",
       "    <tr style=\"text-align: right;\">\n",
       "      <th></th>\n",
       "      <th>verbatim_name</th>\n",
       "      <th>taxon_group</th>\n",
       "      <th>data_source_notes</th>\n",
       "    </tr>\n",
       "  </thead>\n",
       "  <tbody>\n",
       "    <tr>\n",
       "      <th>0</th>\n",
       "      <td>Globigerinoides ruber (white)</td>\n",
       "      <td>planktic_forams</td>\n",
       "      <td>LIMS/Micropal_CSV_2/368_U1505D_planktic_forams...</td>\n",
       "    </tr>\n",
       "    <tr>\n",
       "      <th>1134</th>\n",
       "      <td>Globigerinoides ruber (white)</td>\n",
       "      <td>benthic_forams</td>\n",
       "      <td>LIMS/Micropal_CSV_2/356-U1463B_benthic_forams.csv</td>\n",
       "    </tr>\n",
       "  </tbody>\n",
       "</table>\n",
       "</div>"
      ],
      "text/plain": [
       "                      verbatim_name      taxon_group  \\\n",
       "0     Globigerinoides ruber (white)  planktic_forams   \n",
       "1134  Globigerinoides ruber (white)   benthic_forams   \n",
       "\n",
       "                                      data_source_notes  \n",
       "0     LIMS/Micropal_CSV_2/368_U1505D_planktic_forams...  \n",
       "1134  LIMS/Micropal_CSV_2/356-U1463B_benthic_forams.csv  "
      ]
     },
     "execution_count": 112,
     "metadata": {},
     "output_type": "execute_result"
    }
   ],
   "source": [
    "sql = f\"\"\"select \n",
    "taxa.name as taxon_name,\n",
    "taxa.taxon_group,\n",
    " samples.data_source_notes\n",
    "from samples\n",
    "join samples_taxa on samples_taxa.sample_id = samples.id\n",
    "join taxa on samples_taxa.taxon_id = taxa.id\n",
    "where  samples.data_source_type = 'micropal csv'\n",
    "and taxa.name = 'Globigerinoides ruber (white)';\"\"\"\n",
    "\n",
    "rows = db.fetch_all(sql)\n",
    "data = []\n",
    "for row in rows:\n",
    "    data.append({\n",
    "        'verbatim_name': row['taxon_name'],\n",
    "        'taxon_group': row['taxon_group'],\n",
    "        'data_source_notes': row['data_source_notes']\n",
    "    })\n",
    "    \n",
    "\n",
    "db_df = pd.DataFrame(data)\n",
    "db_df.drop_duplicates(inplace=True, subset=['verbatim_name', 'taxon_group' ])\n",
    "db_df"
   ]
  },
  {
   "cell_type": "code",
   "execution_count": 114,
   "metadata": {},
   "outputs": [
    {
     "data": {
      "text/plain": [
       "True"
      ]
     },
     "execution_count": 114,
     "metadata": {},
     "output_type": "execute_result"
    }
   ],
   "source": [
    "list(db_df['verbatim_name'])  == ['Globigerinoides ruber (white)', 'Globigerinoides ruber (white)']"
   ]
  },
  {
   "cell_type": "code",
   "execution_count": 115,
   "metadata": {},
   "outputs": [
    {
     "data": {
      "text/plain": [
       "True"
      ]
     },
     "execution_count": 115,
     "metadata": {},
     "output_type": "execute_result"
    }
   ],
   "source": [
    "list(db_df['taxon_group'])  == ['planktic_forams', 'benthic_forams']"
   ]
  },
  {
   "cell_type": "markdown",
   "metadata": {
    "tags": []
   },
   "source": [
    "# check  dextral sinistral import"
   ]
  },
  {
   "cell_type": "code",
   "execution_count": 13,
   "metadata": {},
   "outputs": [],
   "source": [
    "file = 'LIMS/Micropal_CSV_1/363-U1482A-planktic_forams.csv'"
   ]
  },
  {
   "cell_type": "code",
   "execution_count": 14,
   "metadata": {},
   "outputs": [
    {
     "name": "stdout",
     "output_type": "stream",
     "text": [
      "(478, 4)\n"
     ]
    },
    {
     "data": {
      "text/html": [
       "<div>\n",
       "<style scoped>\n",
       "    .dataframe tbody tr th:only-of-type {\n",
       "        vertical-align: middle;\n",
       "    }\n",
       "\n",
       "    .dataframe tbody tr th {\n",
       "        vertical-align: top;\n",
       "    }\n",
       "\n",
       "    .dataframe thead th {\n",
       "        text-align: right;\n",
       "    }\n",
       "</style>\n",
       "<table border=\"1\" class=\"dataframe\">\n",
       "  <thead>\n",
       "    <tr style=\"text-align: right;\">\n",
       "      <th></th>\n",
       "      <th>Sample</th>\n",
       "      <th>verbatim_name</th>\n",
       "      <th>code</th>\n",
       "      <th>eodp_id</th>\n",
       "    </tr>\n",
       "  </thead>\n",
       "  <tbody>\n",
       "    <tr>\n",
       "      <th>0</th>\n",
       "      <td>363-U1482A-1H-CC-PAL-FORAM</td>\n",
       "      <td>Globigerinella calida _B_</td>\n",
       "      <td>R</td>\n",
       "      <td>581cf8d872bc892b3d7664f3c868745f</td>\n",
       "    </tr>\n",
       "    <tr>\n",
       "      <th>1</th>\n",
       "      <td>363-U1482A-1H-CC-PAL-FORAM</td>\n",
       "      <td>Globorotalia excelsa _B_</td>\n",
       "      <td>P</td>\n",
       "      <td>581cf8d872bc892b3d7664f3c868745f</td>\n",
       "    </tr>\n",
       "    <tr>\n",
       "      <th>2</th>\n",
       "      <td>363-U1482A-1H-CC-PAL-FORAM</td>\n",
       "      <td>Pulleniatina finalis _B</td>\n",
       "      <td>P</td>\n",
       "      <td>581cf8d872bc892b3d7664f3c868745f</td>\n",
       "    </tr>\n",
       "    <tr>\n",
       "      <th>3</th>\n",
       "      <td>363-U1482A-1H-CC-PAL-FORAM</td>\n",
       "      <td>Globorotalia truncatulinoides _B_</td>\n",
       "      <td>R</td>\n",
       "      <td>581cf8d872bc892b3d7664f3c868745f</td>\n",
       "    </tr>\n",
       "    <tr>\n",
       "      <th>4</th>\n",
       "      <td>363-U1482A-1H-CC-PAL-FORAM</td>\n",
       "      <td>Pulleniatina obliquiloculata</td>\n",
       "      <td>F</td>\n",
       "      <td>581cf8d872bc892b3d7664f3c868745f</td>\n",
       "    </tr>\n",
       "  </tbody>\n",
       "</table>\n",
       "</div>"
      ],
      "text/plain": [
       "                       Sample                      verbatim_name code  \\\n",
       "0  363-U1482A-1H-CC-PAL-FORAM          Globigerinella calida _B_    R   \n",
       "1  363-U1482A-1H-CC-PAL-FORAM           Globorotalia excelsa _B_    P   \n",
       "2  363-U1482A-1H-CC-PAL-FORAM            Pulleniatina finalis _B    P   \n",
       "3  363-U1482A-1H-CC-PAL-FORAM  Globorotalia truncatulinoides _B_    R   \n",
       "4  363-U1482A-1H-CC-PAL-FORAM       Pulleniatina obliquiloculata    F   \n",
       "\n",
       "                            eodp_id  \n",
       "0  581cf8d872bc892b3d7664f3c868745f  \n",
       "1  581cf8d872bc892b3d7664f3c868745f  \n",
       "2  581cf8d872bc892b3d7664f3c868745f  \n",
       "3  581cf8d872bc892b3d7664f3c868745f  \n",
       "4  581cf8d872bc892b3d7664f3c868745f  "
      ]
     },
     "execution_count": 14,
     "metadata": {},
     "output_type": "execute_result"
    }
   ],
   "source": [
    "\n",
    "sql = f\"\"\"select samples.name as sample_name,  samples.eodp_id,\n",
    "taxa_crosswalk.verbatim_name as verbatim_name,\n",
    "taxa.name as taxon_name,\n",
    "samples_taxa.code\n",
    "from samples_taxa\n",
    "join samples on samples.id = samples_taxa.sample_id\n",
    "join taxa on samples_taxa.taxon_id = taxa.id\n",
    "\n",
    "join taxa_crosswalk on taxa_crosswalk.id = samples_taxa.original_taxon_id\n",
    "\n",
    "where samples_taxa.data_source_notes = '{file}';\"\"\"\n",
    "\n",
    "rows = db.fetch_all(sql)\n",
    "data = []\n",
    "for row in rows:\n",
    "    data.append({\n",
    "        'Sample': row['sample_name'], \n",
    "        'verbatim_name': row['verbatim_name'],\n",
    "        'code': row['code'],\n",
    "        'eodp_id': row['eodp_id']\n",
    "    })\n",
    "\n",
    "db_df = pd.DataFrame(data)\n",
    "log_df(db_df)"
   ]
  },
  {
   "cell_type": "code",
   "execution_count": 15,
   "metadata": {},
   "outputs": [
    {
     "name": "stdout",
     "output_type": "stream",
     "text": [
      "(71, 73)\n"
     ]
    },
    {
     "data": {
      "text/html": [
       "<div>\n",
       "<style scoped>\n",
       "    .dataframe tbody tr th:only-of-type {\n",
       "        vertical-align: middle;\n",
       "    }\n",
       "\n",
       "    .dataframe tbody tr th {\n",
       "        vertical-align: top;\n",
       "    }\n",
       "\n",
       "    .dataframe thead th {\n",
       "        text-align: right;\n",
       "    }\n",
       "</style>\n",
       "<table border=\"1\" class=\"dataframe\">\n",
       "  <thead>\n",
       "    <tr style=\"text-align: right;\">\n",
       "      <th>verbatim_name</th>\n",
       "      <th>Sample</th>\n",
       "      <th>eodp_id</th>\n",
       "      <th>\"Globigerina\" angulisuturalis _T</th>\n",
       "      <th>Candeina nitida</th>\n",
       "      <th>Candeina praenitida</th>\n",
       "      <th>Cassigerinella chipolensis _T</th>\n",
       "      <th>Dentoglobigerina \"conglomerata\"</th>\n",
       "      <th>Dentoglobigerina altispira _T_ _PL5</th>\n",
       "      <th>Dentoglobigerina baroemoenensis</th>\n",
       "      <th>Dentoglobigerina binaensis _T_</th>\n",
       "      <th>...</th>\n",
       "      <th>Sinistral P. praespectabilis</th>\n",
       "      <th>Sinistral P. primalis</th>\n",
       "      <th>Sphaeroidinella dehiscens sensu lato _B_</th>\n",
       "      <th>Sphaeroidinella excavata</th>\n",
       "      <th>Sphaeroidinellopsis kochi _T_</th>\n",
       "      <th>Sphaeroidinellopsis paenedehiscens</th>\n",
       "      <th>Sphaeroidinellopsis seminulina _T_ _PL4</th>\n",
       "      <th>Trilobatus bisphericus</th>\n",
       "      <th>Trilobatus sacculifer</th>\n",
       "      <th>Trilobatus trilobus _B</th>\n",
       "    </tr>\n",
       "  </thead>\n",
       "  <tbody>\n",
       "    <tr>\n",
       "      <th>0</th>\n",
       "      <td>363-U1482A-10H-CC-PAL-FORAM</td>\n",
       "      <td>f7fa5407f5c0964abf1fd3da02fbd441</td>\n",
       "      <td>NaN</td>\n",
       "      <td>NaN</td>\n",
       "      <td>NaN</td>\n",
       "      <td>NaN</td>\n",
       "      <td>NaN</td>\n",
       "      <td>NaN</td>\n",
       "      <td>NaN</td>\n",
       "      <td>NaN</td>\n",
       "      <td>...</td>\n",
       "      <td>NaN</td>\n",
       "      <td>NaN</td>\n",
       "      <td>NaN</td>\n",
       "      <td>NaN</td>\n",
       "      <td>NaN</td>\n",
       "      <td>NaN</td>\n",
       "      <td>NaN</td>\n",
       "      <td>NaN</td>\n",
       "      <td>NaN</td>\n",
       "      <td>NaN</td>\n",
       "    </tr>\n",
       "    <tr>\n",
       "      <th>1</th>\n",
       "      <td>363-U1482A-11H-CC-PAL-FORAM</td>\n",
       "      <td>d3af6afade68362574996c493140a750</td>\n",
       "      <td>NaN</td>\n",
       "      <td>NaN</td>\n",
       "      <td>NaN</td>\n",
       "      <td>NaN</td>\n",
       "      <td>NaN</td>\n",
       "      <td>NaN</td>\n",
       "      <td>NaN</td>\n",
       "      <td>NaN</td>\n",
       "      <td>...</td>\n",
       "      <td>NaN</td>\n",
       "      <td>NaN</td>\n",
       "      <td>NaN</td>\n",
       "      <td>NaN</td>\n",
       "      <td>NaN</td>\n",
       "      <td>NaN</td>\n",
       "      <td>NaN</td>\n",
       "      <td>NaN</td>\n",
       "      <td>NaN</td>\n",
       "      <td>NaN</td>\n",
       "    </tr>\n",
       "    <tr>\n",
       "      <th>2</th>\n",
       "      <td>363-U1482A-12H-CC-PAL-FORAM</td>\n",
       "      <td>70b431e20011c6451b591d4b525b6a6d</td>\n",
       "      <td>NaN</td>\n",
       "      <td>NaN</td>\n",
       "      <td>NaN</td>\n",
       "      <td>NaN</td>\n",
       "      <td>NaN</td>\n",
       "      <td>NaN</td>\n",
       "      <td>NaN</td>\n",
       "      <td>NaN</td>\n",
       "      <td>...</td>\n",
       "      <td>NaN</td>\n",
       "      <td>NaN</td>\n",
       "      <td>NaN</td>\n",
       "      <td>NaN</td>\n",
       "      <td>NaN</td>\n",
       "      <td>NaN</td>\n",
       "      <td>NaN</td>\n",
       "      <td>NaN</td>\n",
       "      <td>NaN</td>\n",
       "      <td>NaN</td>\n",
       "    </tr>\n",
       "    <tr>\n",
       "      <th>3</th>\n",
       "      <td>363-U1482A-13H-CC-PAL-FORAM</td>\n",
       "      <td>eea9bab5737b68b7b5029aa30781645d</td>\n",
       "      <td>NaN</td>\n",
       "      <td>NaN</td>\n",
       "      <td>NaN</td>\n",
       "      <td>NaN</td>\n",
       "      <td>NaN</td>\n",
       "      <td>NaN</td>\n",
       "      <td>NaN</td>\n",
       "      <td>NaN</td>\n",
       "      <td>...</td>\n",
       "      <td>NaN</td>\n",
       "      <td>NaN</td>\n",
       "      <td>NaN</td>\n",
       "      <td>NaN</td>\n",
       "      <td>NaN</td>\n",
       "      <td>NaN</td>\n",
       "      <td>NaN</td>\n",
       "      <td>NaN</td>\n",
       "      <td>NaN</td>\n",
       "      <td>NaN</td>\n",
       "    </tr>\n",
       "    <tr>\n",
       "      <th>4</th>\n",
       "      <td>363-U1482A-14H-CC-PAL-FORAM</td>\n",
       "      <td>ee887c246f7318a6f17a0d83d927004d</td>\n",
       "      <td>NaN</td>\n",
       "      <td>NaN</td>\n",
       "      <td>NaN</td>\n",
       "      <td>NaN</td>\n",
       "      <td>NaN</td>\n",
       "      <td>NaN</td>\n",
       "      <td>NaN</td>\n",
       "      <td>NaN</td>\n",
       "      <td>...</td>\n",
       "      <td>NaN</td>\n",
       "      <td>NaN</td>\n",
       "      <td>NaN</td>\n",
       "      <td>NaN</td>\n",
       "      <td>NaN</td>\n",
       "      <td>NaN</td>\n",
       "      <td>NaN</td>\n",
       "      <td>NaN</td>\n",
       "      <td>NaN</td>\n",
       "      <td>NaN</td>\n",
       "    </tr>\n",
       "  </tbody>\n",
       "</table>\n",
       "<p>5 rows × 73 columns</p>\n",
       "</div>"
      ],
      "text/plain": [
       "verbatim_name                       Sample                           eodp_id  \\\n",
       "0              363-U1482A-10H-CC-PAL-FORAM  f7fa5407f5c0964abf1fd3da02fbd441   \n",
       "1              363-U1482A-11H-CC-PAL-FORAM  d3af6afade68362574996c493140a750   \n",
       "2              363-U1482A-12H-CC-PAL-FORAM  70b431e20011c6451b591d4b525b6a6d   \n",
       "3              363-U1482A-13H-CC-PAL-FORAM  eea9bab5737b68b7b5029aa30781645d   \n",
       "4              363-U1482A-14H-CC-PAL-FORAM  ee887c246f7318a6f17a0d83d927004d   \n",
       "\n",
       "verbatim_name \"Globigerina\" angulisuturalis _T Candeina nitida  \\\n",
       "0                                          NaN             NaN   \n",
       "1                                          NaN             NaN   \n",
       "2                                          NaN             NaN   \n",
       "3                                          NaN             NaN   \n",
       "4                                          NaN             NaN   \n",
       "\n",
       "verbatim_name Candeina praenitida Cassigerinella chipolensis _T  \\\n",
       "0                             NaN                           NaN   \n",
       "1                             NaN                           NaN   \n",
       "2                             NaN                           NaN   \n",
       "3                             NaN                           NaN   \n",
       "4                             NaN                           NaN   \n",
       "\n",
       "verbatim_name Dentoglobigerina \"conglomerata\"  \\\n",
       "0                                         NaN   \n",
       "1                                         NaN   \n",
       "2                                         NaN   \n",
       "3                                         NaN   \n",
       "4                                         NaN   \n",
       "\n",
       "verbatim_name Dentoglobigerina altispira _T_ _PL5  \\\n",
       "0                                             NaN   \n",
       "1                                             NaN   \n",
       "2                                             NaN   \n",
       "3                                             NaN   \n",
       "4                                             NaN   \n",
       "\n",
       "verbatim_name Dentoglobigerina baroemoenensis Dentoglobigerina binaensis _T_  \\\n",
       "0                                         NaN                            NaN   \n",
       "1                                         NaN                            NaN   \n",
       "2                                         NaN                            NaN   \n",
       "3                                         NaN                            NaN   \n",
       "4                                         NaN                            NaN   \n",
       "\n",
       "verbatim_name  ... Sinistral P. praespectabilis Sinistral P. primalis  \\\n",
       "0              ...                          NaN                   NaN   \n",
       "1              ...                          NaN                   NaN   \n",
       "2              ...                          NaN                   NaN   \n",
       "3              ...                          NaN                   NaN   \n",
       "4              ...                          NaN                   NaN   \n",
       "\n",
       "verbatim_name Sphaeroidinella dehiscens sensu lato _B_  \\\n",
       "0                                                  NaN   \n",
       "1                                                  NaN   \n",
       "2                                                  NaN   \n",
       "3                                                  NaN   \n",
       "4                                                  NaN   \n",
       "\n",
       "verbatim_name Sphaeroidinella excavata Sphaeroidinellopsis kochi _T_  \\\n",
       "0                                  NaN                           NaN   \n",
       "1                                  NaN                           NaN   \n",
       "2                                  NaN                           NaN   \n",
       "3                                  NaN                           NaN   \n",
       "4                                  NaN                           NaN   \n",
       "\n",
       "verbatim_name Sphaeroidinellopsis paenedehiscens  \\\n",
       "0                                            NaN   \n",
       "1                                            NaN   \n",
       "2                                            NaN   \n",
       "3                                            NaN   \n",
       "4                                            NaN   \n",
       "\n",
       "verbatim_name Sphaeroidinellopsis seminulina _T_ _PL4 Trilobatus bisphericus  \\\n",
       "0                                                 NaN                    NaN   \n",
       "1                                                 NaN                    NaN   \n",
       "2                                                 NaN                    NaN   \n",
       "3                                                 NaN                    NaN   \n",
       "4                                                 NaN                    NaN   \n",
       "\n",
       "verbatim_name Trilobatus sacculifer Trilobatus trilobus _B  \n",
       "0                               NaN                    NaN  \n",
       "1                               NaN                    NaN  \n",
       "2                               NaN                    NaN  \n",
       "3                               NaN                    NaN  \n",
       "4                               NaN                    NaN  \n",
       "\n",
       "[5 rows x 73 columns]"
      ]
     },
     "execution_count": 15,
     "metadata": {},
     "output_type": "execute_result"
    }
   ],
   "source": [
    "db_pivot = db_df.pivot(index=['Sample', 'eodp_id'], columns='verbatim_name', values='code')\n",
    "db_pivot = db_pivot.reset_index()\n",
    " \n",
    "db_pivot.sort_values(['Sample', 'eodp_id'], inplace=True)\n",
    "\n",
    "log_df(db_pivot)"
   ]
  },
  {
   "cell_type": "code",
   "execution_count": 16,
   "metadata": {},
   "outputs": [
    {
     "name": "stdout",
     "output_type": "stream",
     "text": [
      "(71, 251)\n"
     ]
    },
    {
     "data": {
      "text/html": [
       "<div>\n",
       "<style scoped>\n",
       "    .dataframe tbody tr th:only-of-type {\n",
       "        vertical-align: middle;\n",
       "    }\n",
       "\n",
       "    .dataframe tbody tr th {\n",
       "        vertical-align: top;\n",
       "    }\n",
       "\n",
       "    .dataframe thead th {\n",
       "        text-align: right;\n",
       "    }\n",
       "</style>\n",
       "<table border=\"1\" class=\"dataframe\">\n",
       "  <thead>\n",
       "    <tr style=\"text-align: right;\">\n",
       "      <th></th>\n",
       "      <th>Sample</th>\n",
       "      <th>Top [cm]</th>\n",
       "      <th>Bottom [cm]</th>\n",
       "      <th>Top Depth [m]</th>\n",
       "      <th>Bottom Depth [m]</th>\n",
       "      <th>Zone name (short)</th>\n",
       "      <th>Zone name</th>\n",
       "      <th>Additional zone name (short)</th>\n",
       "      <th>Additional zone name</th>\n",
       "      <th>Preservation</th>\n",
       "      <th>...</th>\n",
       "      <th>Dextral P. obliquiloculata</th>\n",
       "      <th>Sinistral P. obliquiloculata</th>\n",
       "      <th>Dextral P. primalis</th>\n",
       "      <th>Sinistral P. primalis</th>\n",
       "      <th>Dextral P. praecursor</th>\n",
       "      <th>Sinistral P. praecursor</th>\n",
       "      <th>Dextral P. spectabilis</th>\n",
       "      <th>Sinistral P. spectabilis</th>\n",
       "      <th>Dextral P. finalis</th>\n",
       "      <th>Sinistral P. finalis</th>\n",
       "    </tr>\n",
       "  </thead>\n",
       "  <tbody>\n",
       "    <tr>\n",
       "      <th>0</th>\n",
       "      <td>363-U1482A-1H-CC-PAL-FORAM</td>\n",
       "      <td>0</td>\n",
       "      <td>5</td>\n",
       "      <td>2.93</td>\n",
       "      <td>2.98</td>\n",
       "      <td>PT1b</td>\n",
       "      <td>PT1b - Globorotalia truncatulinoides Partial-r...</td>\n",
       "      <td>NaN</td>\n",
       "      <td>NaN</td>\n",
       "      <td>E [P46]</td>\n",
       "      <td>...</td>\n",
       "      <td>49</td>\n",
       "      <td>1</td>\n",
       "      <td>NaN</td>\n",
       "      <td>NaN</td>\n",
       "      <td>NaN</td>\n",
       "      <td>NaN</td>\n",
       "      <td>NaN</td>\n",
       "      <td>NaN</td>\n",
       "      <td>NaN</td>\n",
       "      <td>NaN</td>\n",
       "    </tr>\n",
       "    <tr>\n",
       "      <th>1</th>\n",
       "      <td>363-U1482A-2H-CC-PAL-FORAM</td>\n",
       "      <td>0</td>\n",
       "      <td>5</td>\n",
       "      <td>12.7</td>\n",
       "      <td>12.75</td>\n",
       "      <td>PT1b</td>\n",
       "      <td>PT1b - Globorotalia truncatulinoides Partial-r...</td>\n",
       "      <td>NaN</td>\n",
       "      <td>NaN</td>\n",
       "      <td>E [P46]</td>\n",
       "      <td>...</td>\n",
       "      <td>15</td>\n",
       "      <td>0</td>\n",
       "      <td>NaN</td>\n",
       "      <td>NaN</td>\n",
       "      <td>NaN</td>\n",
       "      <td>NaN</td>\n",
       "      <td>NaN</td>\n",
       "      <td>NaN</td>\n",
       "      <td>NaN</td>\n",
       "      <td>NaN</td>\n",
       "    </tr>\n",
       "  </tbody>\n",
       "</table>\n",
       "<p>2 rows × 251 columns</p>\n",
       "</div>"
      ],
      "text/plain": [
       "                       Sample Top [cm] Bottom [cm] Top Depth [m]  \\\n",
       "0  363-U1482A-1H-CC-PAL-FORAM        0           5          2.93   \n",
       "1  363-U1482A-2H-CC-PAL-FORAM        0           5          12.7   \n",
       "\n",
       "  Bottom Depth [m] Zone name (short)  \\\n",
       "0             2.98              PT1b   \n",
       "1            12.75              PT1b   \n",
       "\n",
       "                                           Zone name  \\\n",
       "0  PT1b - Globorotalia truncatulinoides Partial-r...   \n",
       "1  PT1b - Globorotalia truncatulinoides Partial-r...   \n",
       "\n",
       "  Additional zone name (short) Additional zone name Preservation  ...  \\\n",
       "0                          NaN                  NaN      E [P46]  ...   \n",
       "1                          NaN                  NaN      E [P46]  ...   \n",
       "\n",
       "  Dextral P. obliquiloculata Sinistral P. obliquiloculata Dextral P. primalis  \\\n",
       "0                         49                            1                 NaN   \n",
       "1                         15                            0                 NaN   \n",
       "\n",
       "  Sinistral P. primalis Dextral P. praecursor Sinistral P. praecursor  \\\n",
       "0                   NaN                   NaN                     NaN   \n",
       "1                   NaN                   NaN                     NaN   \n",
       "\n",
       "  Dextral P. spectabilis Sinistral P. spectabilis Dextral P. finalis  \\\n",
       "0                    NaN                      NaN                NaN   \n",
       "1                    NaN                      NaN                NaN   \n",
       "\n",
       "  Sinistral P. finalis  \n",
       "0                  NaN  \n",
       "1                  NaN  \n",
       "\n",
       "[2 rows x 251 columns]"
      ]
     },
     "execution_count": 16,
     "metadata": {},
     "output_type": "execute_result"
    }
   ],
   "source": [
    "file_df = pd.read_csv(CLEAN_DATA_DIR/file, dtype=str)\n",
    "log_df(file_df, 2)"
   ]
  },
  {
   "cell_type": "code",
   "execution_count": 17,
   "metadata": {},
   "outputs": [
    {
     "name": "stdout",
     "output_type": "stream",
     "text": [
      "(71, 73)\n"
     ]
    },
    {
     "data": {
      "text/html": [
       "<div>\n",
       "<style scoped>\n",
       "    .dataframe tbody tr th:only-of-type {\n",
       "        vertical-align: middle;\n",
       "    }\n",
       "\n",
       "    .dataframe tbody tr th {\n",
       "        vertical-align: top;\n",
       "    }\n",
       "\n",
       "    .dataframe thead th {\n",
       "        text-align: right;\n",
       "    }\n",
       "</style>\n",
       "<table border=\"1\" class=\"dataframe\">\n",
       "  <thead>\n",
       "    <tr style=\"text-align: right;\">\n",
       "      <th></th>\n",
       "      <th>Sample</th>\n",
       "      <th>eodp_id</th>\n",
       "      <th>\"Globigerina\" angulisuturalis _T</th>\n",
       "      <th>Candeina nitida</th>\n",
       "      <th>Candeina praenitida</th>\n",
       "      <th>Cassigerinella chipolensis _T</th>\n",
       "      <th>Dentoglobigerina \"conglomerata\"</th>\n",
       "      <th>Dentoglobigerina altispira _T_ _PL5</th>\n",
       "      <th>Dentoglobigerina baroemoenensis</th>\n",
       "      <th>Dentoglobigerina binaensis _T_</th>\n",
       "      <th>...</th>\n",
       "      <th>Sinistral P. praespectabilis</th>\n",
       "      <th>Sinistral P. primalis</th>\n",
       "      <th>Sphaeroidinella dehiscens sensu lato _B_</th>\n",
       "      <th>Sphaeroidinella excavata</th>\n",
       "      <th>Sphaeroidinellopsis kochi _T_</th>\n",
       "      <th>Sphaeroidinellopsis paenedehiscens</th>\n",
       "      <th>Sphaeroidinellopsis seminulina _T_ _PL4</th>\n",
       "      <th>Trilobatus bisphericus</th>\n",
       "      <th>Trilobatus sacculifer</th>\n",
       "      <th>Trilobatus trilobus _B</th>\n",
       "    </tr>\n",
       "  </thead>\n",
       "  <tbody>\n",
       "    <tr>\n",
       "      <th>9</th>\n",
       "      <td>363-U1482A-10H-CC-PAL-FORAM</td>\n",
       "      <td>f7fa5407f5c0964abf1fd3da02fbd441</td>\n",
       "      <td>NaN</td>\n",
       "      <td>NaN</td>\n",
       "      <td>NaN</td>\n",
       "      <td>NaN</td>\n",
       "      <td>NaN</td>\n",
       "      <td>NaN</td>\n",
       "      <td>NaN</td>\n",
       "      <td>NaN</td>\n",
       "      <td>...</td>\n",
       "      <td>NaN</td>\n",
       "      <td>NaN</td>\n",
       "      <td>NaN</td>\n",
       "      <td>NaN</td>\n",
       "      <td>NaN</td>\n",
       "      <td>NaN</td>\n",
       "      <td>NaN</td>\n",
       "      <td>NaN</td>\n",
       "      <td>NaN</td>\n",
       "      <td>NaN</td>\n",
       "    </tr>\n",
       "    <tr>\n",
       "      <th>10</th>\n",
       "      <td>363-U1482A-11H-CC-PAL-FORAM</td>\n",
       "      <td>d3af6afade68362574996c493140a750</td>\n",
       "      <td>NaN</td>\n",
       "      <td>NaN</td>\n",
       "      <td>NaN</td>\n",
       "      <td>NaN</td>\n",
       "      <td>NaN</td>\n",
       "      <td>NaN</td>\n",
       "      <td>NaN</td>\n",
       "      <td>NaN</td>\n",
       "      <td>...</td>\n",
       "      <td>NaN</td>\n",
       "      <td>NaN</td>\n",
       "      <td>NaN</td>\n",
       "      <td>NaN</td>\n",
       "      <td>NaN</td>\n",
       "      <td>NaN</td>\n",
       "      <td>NaN</td>\n",
       "      <td>NaN</td>\n",
       "      <td>NaN</td>\n",
       "      <td>NaN</td>\n",
       "    </tr>\n",
       "  </tbody>\n",
       "</table>\n",
       "<p>2 rows × 73 columns</p>\n",
       "</div>"
      ],
      "text/plain": [
       "                         Sample                           eodp_id  \\\n",
       "9   363-U1482A-10H-CC-PAL-FORAM  f7fa5407f5c0964abf1fd3da02fbd441   \n",
       "10  363-U1482A-11H-CC-PAL-FORAM  d3af6afade68362574996c493140a750   \n",
       "\n",
       "   \"Globigerina\" angulisuturalis _T Candeina nitida Candeina praenitida  \\\n",
       "9                               NaN             NaN                 NaN   \n",
       "10                              NaN             NaN                 NaN   \n",
       "\n",
       "   Cassigerinella chipolensis _T Dentoglobigerina \"conglomerata\"  \\\n",
       "9                            NaN                             NaN   \n",
       "10                           NaN                             NaN   \n",
       "\n",
       "   Dentoglobigerina altispira _T_ _PL5 Dentoglobigerina baroemoenensis  \\\n",
       "9                                  NaN                             NaN   \n",
       "10                                 NaN                             NaN   \n",
       "\n",
       "   Dentoglobigerina binaensis _T_  ... Sinistral P. praespectabilis  \\\n",
       "9                             NaN  ...                          NaN   \n",
       "10                            NaN  ...                          NaN   \n",
       "\n",
       "   Sinistral P. primalis Sphaeroidinella dehiscens sensu lato _B_  \\\n",
       "9                    NaN                                      NaN   \n",
       "10                   NaN                                      NaN   \n",
       "\n",
       "   Sphaeroidinella excavata Sphaeroidinellopsis kochi _T_  \\\n",
       "9                       NaN                           NaN   \n",
       "10                      NaN                           NaN   \n",
       "\n",
       "   Sphaeroidinellopsis paenedehiscens Sphaeroidinellopsis seminulina _T_ _PL4  \\\n",
       "9                                 NaN                                     NaN   \n",
       "10                                NaN                                     NaN   \n",
       "\n",
       "   Trilobatus bisphericus Trilobatus sacculifer Trilobatus trilobus _B  \n",
       "9                     NaN                   NaN                    NaN  \n",
       "10                    NaN                   NaN                    NaN  \n",
       "\n",
       "[2 rows x 73 columns]"
      ]
     },
     "execution_count": 17,
     "metadata": {},
     "output_type": "execute_result"
    }
   ],
   "source": [
    "taxa_cols = set(db_pivot.columns) - {'Sample'}\n",
    "\n",
    "\n",
    "filter_df = file_df[db_pivot.columns].copy()\n",
    "filter_df.dropna(axis=0, how='all', inplace=True, subset=taxa_cols)\n",
    "filter_df.dropna(axis=1, how='all', inplace=True)\n",
    "\n",
    "filter_df.sort_values(['Sample', 'eodp_id'], inplace=True)\n",
    "\n",
    "log_df(filter_df, 2)"
   ]
  },
  {
   "cell_type": "code",
   "execution_count": 18,
   "metadata": {},
   "outputs": [],
   "source": [
    "db_pivot.to_csv(OUTPUT_DIR/'tmp'/'db_pivot.csv', index=False)\n",
    "filter_df.to_csv(OUTPUT_DIR/'tmp'/'filter_df.csv', index=False)"
   ]
  },
  {
   "cell_type": "code",
   "execution_count": 19,
   "metadata": {},
   "outputs": [
    {
     "data": {
      "text/plain": [
       "True"
      ]
     },
     "execution_count": 19,
     "metadata": {},
     "output_type": "execute_result"
    }
   ],
   "source": [
    "dfa = pd.read_csv(OUTPUT_DIR/'tmp'/'db_pivot.csv', dtype=str)\n",
    "dfb = pd.read_csv(OUTPUT_DIR/'tmp'/'filter_df.csv', dtype=str)\n",
    "\n",
    "dfa.equals(dfb)"
   ]
  },
  {
   "cell_type": "markdown",
   "metadata": {
    "jp-MarkdownHeadingCollapsed": true,
    "tags": []
   },
   "source": [
    "# check  files with multiple taxon groups is imported\n",
    "\n",
    "'Globigerinoides ruber (white)' has both benthic_forams; planktic_forams\n",
    "\n",
    "file has benthic_forams and planktic_forams"
   ]
  },
  {
   "cell_type": "code",
   "execution_count": 20,
   "metadata": {},
   "outputs": [],
   "source": [
    "file = 'LIMS/Micropal_CSV_2/356-U1463B_benthic_forams.csv'"
   ]
  },
  {
   "cell_type": "code",
   "execution_count": 21,
   "metadata": {},
   "outputs": [
    {
     "data": {
      "text/html": [
       "<div>\n",
       "<style scoped>\n",
       "    .dataframe tbody tr th:only-of-type {\n",
       "        vertical-align: middle;\n",
       "    }\n",
       "\n",
       "    .dataframe tbody tr th {\n",
       "        vertical-align: top;\n",
       "    }\n",
       "\n",
       "    .dataframe thead th {\n",
       "        text-align: right;\n",
       "    }\n",
       "</style>\n",
       "<table border=\"1\" class=\"dataframe\">\n",
       "  <thead>\n",
       "    <tr style=\"text-align: right;\">\n",
       "      <th></th>\n",
       "      <th>Sample</th>\n",
       "      <th>verbatim_name</th>\n",
       "      <th>code</th>\n",
       "    </tr>\n",
       "  </thead>\n",
       "  <tbody>\n",
       "    <tr>\n",
       "      <th>0</th>\n",
       "      <td>356-U1463B-1H-CC-PAL-FORAM-150-2000</td>\n",
       "      <td>Globigerinella siphonifera</td>\n",
       "      <td>R</td>\n",
       "    </tr>\n",
       "    <tr>\n",
       "      <th>1</th>\n",
       "      <td>356-U1463B-1H-CC-PAL-FORAM-150-2000</td>\n",
       "      <td>Globorotalia tumida</td>\n",
       "      <td>R</td>\n",
       "    </tr>\n",
       "    <tr>\n",
       "      <th>2</th>\n",
       "      <td>356-U1463B-1H-CC-PAL-FORAM-150-2000</td>\n",
       "      <td>Globigerinoides conglobatus</td>\n",
       "      <td>R</td>\n",
       "    </tr>\n",
       "    <tr>\n",
       "      <th>3</th>\n",
       "      <td>356-U1463B-1H-CC-PAL-FORAM-150-2000</td>\n",
       "      <td>Globigerinoides sacculifer</td>\n",
       "      <td>R</td>\n",
       "    </tr>\n",
       "    <tr>\n",
       "      <th>4</th>\n",
       "      <td>356-U1463B-1H-CC-PAL-FORAM-150-2000</td>\n",
       "      <td>Pulleniatina obliquiloculata</td>\n",
       "      <td>F</td>\n",
       "    </tr>\n",
       "  </tbody>\n",
       "</table>\n",
       "</div>"
      ],
      "text/plain": [
       "                                Sample                 verbatim_name code\n",
       "0  356-U1463B-1H-CC-PAL-FORAM-150-2000    Globigerinella siphonifera    R\n",
       "1  356-U1463B-1H-CC-PAL-FORAM-150-2000           Globorotalia tumida    R\n",
       "2  356-U1463B-1H-CC-PAL-FORAM-150-2000   Globigerinoides conglobatus    R\n",
       "3  356-U1463B-1H-CC-PAL-FORAM-150-2000    Globigerinoides sacculifer    R\n",
       "4  356-U1463B-1H-CC-PAL-FORAM-150-2000  Pulleniatina obliquiloculata    F"
      ]
     },
     "execution_count": 21,
     "metadata": {},
     "output_type": "execute_result"
    }
   ],
   "source": [
    "\n",
    "sql = f\"\"\"select samples.name as sample_name, \n",
    "taxa_crosswalk.verbatim_name as taxon_name,\n",
    " samples_taxa.code, samples_taxa.data_source_notes,\n",
    "taxa.taxon_group\n",
    "from samples_taxa\n",
    "join samples on samples.id = samples_taxa.sample_id\n",
    "join taxa_crosswalk on taxa_crosswalk.id = samples_taxa.original_taxon_id\n",
    "join taxa on samples_taxa.taxon_id = taxa.id\n",
    "\n",
    "where samples_taxa.data_source_notes = '{file}';\"\"\"\n",
    "\n",
    "rows = db.fetch_all(sql)\n",
    "data = []\n",
    "for row in rows:\n",
    "    data.append({\n",
    "        'Sample': row['sample_name'], \n",
    "        'verbatim_name': row['taxon_name'],\n",
    "        'code': row['code'],\n",
    "    })\n",
    "\n",
    "db_df = pd.DataFrame(data)\n",
    "db_df.head()"
   ]
  },
  {
   "cell_type": "code",
   "execution_count": 22,
   "metadata": {},
   "outputs": [
    {
     "name": "stdout",
     "output_type": "stream",
     "text": [
      "(24, 48)\n"
     ]
    },
    {
     "data": {
      "text/html": [
       "<div>\n",
       "<style scoped>\n",
       "    .dataframe tbody tr th:only-of-type {\n",
       "        vertical-align: middle;\n",
       "    }\n",
       "\n",
       "    .dataframe tbody tr th {\n",
       "        vertical-align: top;\n",
       "    }\n",
       "\n",
       "    .dataframe thead th {\n",
       "        text-align: right;\n",
       "    }\n",
       "</style>\n",
       "<table border=\"1\" class=\"dataframe\">\n",
       "  <thead>\n",
       "    <tr style=\"text-align: right;\">\n",
       "      <th>verbatim_name</th>\n",
       "      <th>Sample</th>\n",
       "      <th>Candeina nitida</th>\n",
       "      <th>Dentoglobigerina altispira</th>\n",
       "      <th>Dentoglobigerina baroemoenensis</th>\n",
       "      <th>Globigerina bulloides</th>\n",
       "      <th>Globigerina rubescens</th>\n",
       "      <th>Globigerinella calida</th>\n",
       "      <th>Globigerinella siphonifera</th>\n",
       "      <th>Globigerinita glutinata</th>\n",
       "      <th>Globigerinoides bulloideus</th>\n",
       "      <th>...</th>\n",
       "      <th>Neogloboquadrina acostaensis</th>\n",
       "      <th>Neogloboquadrina dutertrei</th>\n",
       "      <th>Neogloboquadrina humerosa</th>\n",
       "      <th>Orbulina bilobata</th>\n",
       "      <th>Orbulina universa</th>\n",
       "      <th>Pulleniatina obliquiloculata</th>\n",
       "      <th>Pulleniatina primalis</th>\n",
       "      <th>Sphaeroidinella dehiscens</th>\n",
       "      <th>Sphaeroidinellopsis kochi</th>\n",
       "      <th>Sphaeroidinellopsis seminulina</th>\n",
       "    </tr>\n",
       "  </thead>\n",
       "  <tbody>\n",
       "    <tr>\n",
       "      <th>0</th>\n",
       "      <td>356-U1463B-13H-CC-PAL-FORAM-150 2000</td>\n",
       "      <td>NaN</td>\n",
       "      <td>NaN</td>\n",
       "      <td>NaN</td>\n",
       "      <td>NaN</td>\n",
       "      <td>NaN</td>\n",
       "      <td>NaN</td>\n",
       "      <td>P</td>\n",
       "      <td>NaN</td>\n",
       "      <td>NaN</td>\n",
       "      <td>...</td>\n",
       "      <td>NaN</td>\n",
       "      <td>P</td>\n",
       "      <td>NaN</td>\n",
       "      <td>NaN</td>\n",
       "      <td>P</td>\n",
       "      <td>F</td>\n",
       "      <td>NaN</td>\n",
       "      <td>NaN</td>\n",
       "      <td>NaN</td>\n",
       "      <td>NaN</td>\n",
       "    </tr>\n",
       "    <tr>\n",
       "      <th>1</th>\n",
       "      <td>356-U1463B-15H-CC-PAL-FORAM-150-2000</td>\n",
       "      <td>NaN</td>\n",
       "      <td>NaN</td>\n",
       "      <td>NaN</td>\n",
       "      <td>P</td>\n",
       "      <td>NaN</td>\n",
       "      <td>NaN</td>\n",
       "      <td>P</td>\n",
       "      <td>NaN</td>\n",
       "      <td>NaN</td>\n",
       "      <td>...</td>\n",
       "      <td>NaN</td>\n",
       "      <td>P</td>\n",
       "      <td>NaN</td>\n",
       "      <td>NaN</td>\n",
       "      <td>P</td>\n",
       "      <td>P</td>\n",
       "      <td>NaN</td>\n",
       "      <td>NaN</td>\n",
       "      <td>NaN</td>\n",
       "      <td>NaN</td>\n",
       "    </tr>\n",
       "    <tr>\n",
       "      <th>2</th>\n",
       "      <td>356-U1463B-17H-CC-PAL-FORAM-150 2000</td>\n",
       "      <td>NaN</td>\n",
       "      <td>NaN</td>\n",
       "      <td>NaN</td>\n",
       "      <td>P</td>\n",
       "      <td>NaN</td>\n",
       "      <td>NaN</td>\n",
       "      <td>NaN</td>\n",
       "      <td>P</td>\n",
       "      <td>NaN</td>\n",
       "      <td>...</td>\n",
       "      <td>NaN</td>\n",
       "      <td>P</td>\n",
       "      <td>NaN</td>\n",
       "      <td>NaN</td>\n",
       "      <td>NaN</td>\n",
       "      <td>P</td>\n",
       "      <td>NaN</td>\n",
       "      <td>NaN</td>\n",
       "      <td>NaN</td>\n",
       "      <td>NaN</td>\n",
       "    </tr>\n",
       "    <tr>\n",
       "      <th>3</th>\n",
       "      <td>356-U1463B-19H-6-PAL-FORAM-150-2000</td>\n",
       "      <td>NaN</td>\n",
       "      <td>NaN</td>\n",
       "      <td>NaN</td>\n",
       "      <td>P</td>\n",
       "      <td>NaN</td>\n",
       "      <td>P</td>\n",
       "      <td>P</td>\n",
       "      <td>NaN</td>\n",
       "      <td>NaN</td>\n",
       "      <td>...</td>\n",
       "      <td>NaN</td>\n",
       "      <td>A</td>\n",
       "      <td>NaN</td>\n",
       "      <td>NaN</td>\n",
       "      <td>P</td>\n",
       "      <td>P</td>\n",
       "      <td>NaN</td>\n",
       "      <td>NaN</td>\n",
       "      <td>NaN</td>\n",
       "      <td>NaN</td>\n",
       "    </tr>\n",
       "    <tr>\n",
       "      <th>4</th>\n",
       "      <td>356-U1463B-1H-CC-PAL-FORAM-150-2000</td>\n",
       "      <td>P</td>\n",
       "      <td>NaN</td>\n",
       "      <td>NaN</td>\n",
       "      <td>NaN</td>\n",
       "      <td>R</td>\n",
       "      <td>P</td>\n",
       "      <td>R</td>\n",
       "      <td>NaN</td>\n",
       "      <td>NaN</td>\n",
       "      <td>...</td>\n",
       "      <td>NaN</td>\n",
       "      <td>R</td>\n",
       "      <td>NaN</td>\n",
       "      <td>NaN</td>\n",
       "      <td>R</td>\n",
       "      <td>F</td>\n",
       "      <td>NaN</td>\n",
       "      <td>P</td>\n",
       "      <td>NaN</td>\n",
       "      <td>NaN</td>\n",
       "    </tr>\n",
       "  </tbody>\n",
       "</table>\n",
       "<p>5 rows × 48 columns</p>\n",
       "</div>"
      ],
      "text/plain": [
       "verbatim_name                                Sample Candeina nitida  \\\n",
       "0              356-U1463B-13H-CC-PAL-FORAM-150 2000             NaN   \n",
       "1              356-U1463B-15H-CC-PAL-FORAM-150-2000             NaN   \n",
       "2              356-U1463B-17H-CC-PAL-FORAM-150 2000             NaN   \n",
       "3               356-U1463B-19H-6-PAL-FORAM-150-2000             NaN   \n",
       "4               356-U1463B-1H-CC-PAL-FORAM-150-2000               P   \n",
       "\n",
       "verbatim_name Dentoglobigerina altispira Dentoglobigerina baroemoenensis  \\\n",
       "0                                    NaN                             NaN   \n",
       "1                                    NaN                             NaN   \n",
       "2                                    NaN                             NaN   \n",
       "3                                    NaN                             NaN   \n",
       "4                                    NaN                             NaN   \n",
       "\n",
       "verbatim_name Globigerina bulloides Globigerina rubescens  \\\n",
       "0                               NaN                   NaN   \n",
       "1                                 P                   NaN   \n",
       "2                                 P                   NaN   \n",
       "3                                 P                   NaN   \n",
       "4                               NaN                     R   \n",
       "\n",
       "verbatim_name Globigerinella calida Globigerinella siphonifera  \\\n",
       "0                               NaN                          P   \n",
       "1                               NaN                          P   \n",
       "2                               NaN                        NaN   \n",
       "3                                 P                          P   \n",
       "4                                 P                          R   \n",
       "\n",
       "verbatim_name Globigerinita glutinata Globigerinoides bulloideus  ...  \\\n",
       "0                                 NaN                        NaN  ...   \n",
       "1                                 NaN                        NaN  ...   \n",
       "2                                   P                        NaN  ...   \n",
       "3                                 NaN                        NaN  ...   \n",
       "4                                 NaN                        NaN  ...   \n",
       "\n",
       "verbatim_name Neogloboquadrina acostaensis Neogloboquadrina dutertrei  \\\n",
       "0                                      NaN                          P   \n",
       "1                                      NaN                          P   \n",
       "2                                      NaN                          P   \n",
       "3                                      NaN                          A   \n",
       "4                                      NaN                          R   \n",
       "\n",
       "verbatim_name Neogloboquadrina humerosa Orbulina bilobata Orbulina universa  \\\n",
       "0                                   NaN               NaN                 P   \n",
       "1                                   NaN               NaN                 P   \n",
       "2                                   NaN               NaN               NaN   \n",
       "3                                   NaN               NaN                 P   \n",
       "4                                   NaN               NaN                 R   \n",
       "\n",
       "verbatim_name Pulleniatina obliquiloculata Pulleniatina primalis  \\\n",
       "0                                        F                   NaN   \n",
       "1                                        P                   NaN   \n",
       "2                                        P                   NaN   \n",
       "3                                        P                   NaN   \n",
       "4                                        F                   NaN   \n",
       "\n",
       "verbatim_name Sphaeroidinella dehiscens Sphaeroidinellopsis kochi  \\\n",
       "0                                   NaN                       NaN   \n",
       "1                                   NaN                       NaN   \n",
       "2                                   NaN                       NaN   \n",
       "3                                   NaN                       NaN   \n",
       "4                                     P                       NaN   \n",
       "\n",
       "verbatim_name Sphaeroidinellopsis seminulina  \n",
       "0                                        NaN  \n",
       "1                                        NaN  \n",
       "2                                        NaN  \n",
       "3                                        NaN  \n",
       "4                                        NaN  \n",
       "\n",
       "[5 rows x 48 columns]"
      ]
     },
     "execution_count": 22,
     "metadata": {},
     "output_type": "execute_result"
    }
   ],
   "source": [
    "db_pivot = db_df.pivot(index='Sample', columns='verbatim_name', values='code')\n",
    "db_pivot = db_pivot.reset_index()\n",
    "\n",
    " \n",
    "db_pivot.sort_values('Sample', inplace=True)\n",
    "\n",
    "log_df(db_pivot)"
   ]
  },
  {
   "cell_type": "code",
   "execution_count": 23,
   "metadata": {},
   "outputs": [
    {
     "name": "stdout",
     "output_type": "stream",
     "text": [
      "(32, 174)\n"
     ]
    },
    {
     "data": {
      "text/html": [
       "<div>\n",
       "<style scoped>\n",
       "    .dataframe tbody tr th:only-of-type {\n",
       "        vertical-align: middle;\n",
       "    }\n",
       "\n",
       "    .dataframe tbody tr th {\n",
       "        vertical-align: top;\n",
       "    }\n",
       "\n",
       "    .dataframe thead th {\n",
       "        text-align: right;\n",
       "    }\n",
       "</style>\n",
       "<table border=\"1\" class=\"dataframe\">\n",
       "  <thead>\n",
       "    <tr style=\"text-align: right;\">\n",
       "      <th></th>\n",
       "      <th>Sample</th>\n",
       "      <th>Top [cm]</th>\n",
       "      <th>Bottom [cm]</th>\n",
       "      <th>Top Depth [m]</th>\n",
       "      <th>Bottom Depth [m]</th>\n",
       "      <th>Datum name</th>\n",
       "      <th>Datum name generic</th>\n",
       "      <th>Datum comment</th>\n",
       "      <th>Datum age average [Ma]</th>\n",
       "      <th>Zone name (short)</th>\n",
       "      <th>...</th>\n",
       "      <th>Shore File Links</th>\n",
       "      <th>File Data</th>\n",
       "      <th>Exp</th>\n",
       "      <th>Site</th>\n",
       "      <th>Hole</th>\n",
       "      <th>Core</th>\n",
       "      <th>Type</th>\n",
       "      <th>Section</th>\n",
       "      <th>A/W</th>\n",
       "      <th>eodp_id</th>\n",
       "    </tr>\n",
       "  </thead>\n",
       "  <tbody>\n",
       "    <tr>\n",
       "      <th>0</th>\n",
       "      <td>356-U1463B-1H-CC-PAL-FORAM-150-2000</td>\n",
       "      <td>0</td>\n",
       "      <td>10</td>\n",
       "      <td>7.78</td>\n",
       "      <td>7.88</td>\n",
       "      <td>NaN</td>\n",
       "      <td>NaN</td>\n",
       "      <td>NaN</td>\n",
       "      <td>NaN</td>\n",
       "      <td>NaN</td>\n",
       "      <td>...</td>\n",
       "      <td>NaN</td>\n",
       "      <td>NaN</td>\n",
       "      <td>356</td>\n",
       "      <td>U1463</td>\n",
       "      <td>B</td>\n",
       "      <td>1</td>\n",
       "      <td>H</td>\n",
       "      <td>CC</td>\n",
       "      <td>PAL</td>\n",
       "      <td>8adfb3c6f33088d72a886ed17287a589</td>\n",
       "    </tr>\n",
       "    <tr>\n",
       "      <th>1</th>\n",
       "      <td>356-U1463B-3H-CC-PAL-FORAM-150-2000</td>\n",
       "      <td>0</td>\n",
       "      <td>10</td>\n",
       "      <td>27.10</td>\n",
       "      <td>27.20</td>\n",
       "      <td>NaN</td>\n",
       "      <td>NaN</td>\n",
       "      <td>NaN</td>\n",
       "      <td>NaN</td>\n",
       "      <td>NaN</td>\n",
       "      <td>...</td>\n",
       "      <td>NaN</td>\n",
       "      <td>NaN</td>\n",
       "      <td>356</td>\n",
       "      <td>U1463</td>\n",
       "      <td>B</td>\n",
       "      <td>3</td>\n",
       "      <td>H</td>\n",
       "      <td>CC</td>\n",
       "      <td>PAL</td>\n",
       "      <td>93cc7d07dca008920dac6892a7489d30</td>\n",
       "    </tr>\n",
       "  </tbody>\n",
       "</table>\n",
       "<p>2 rows × 174 columns</p>\n",
       "</div>"
      ],
      "text/plain": [
       "                                Sample  Top [cm]  Bottom [cm]  Top Depth [m]  \\\n",
       "0  356-U1463B-1H-CC-PAL-FORAM-150-2000         0           10           7.78   \n",
       "1  356-U1463B-3H-CC-PAL-FORAM-150-2000         0           10          27.10   \n",
       "\n",
       "   Bottom Depth [m] Datum name Datum name generic Datum comment  \\\n",
       "0              7.88        NaN                NaN           NaN   \n",
       "1             27.20        NaN                NaN           NaN   \n",
       "\n",
       "   Datum age average [Ma] Zone name (short)  ... Shore File Links File Data  \\\n",
       "0                     NaN               NaN  ...              NaN       NaN   \n",
       "1                     NaN               NaN  ...              NaN       NaN   \n",
       "\n",
       "   Exp   Site Hole Core Type  Section  A/W                           eodp_id  \n",
       "0  356  U1463    B    1    H       CC  PAL  8adfb3c6f33088d72a886ed17287a589  \n",
       "1  356  U1463    B    3    H       CC  PAL  93cc7d07dca008920dac6892a7489d30  \n",
       "\n",
       "[2 rows x 174 columns]"
      ]
     },
     "execution_count": 23,
     "metadata": {},
     "output_type": "execute_result"
    }
   ],
   "source": [
    "file_df = pd.read_csv(CLEAN_DATA_DIR/file)\n",
    "log_df(file_df, 2)"
   ]
  },
  {
   "cell_type": "code",
   "execution_count": 24,
   "metadata": {},
   "outputs": [
    {
     "name": "stdout",
     "output_type": "stream",
     "text": [
      "(24, 48)\n"
     ]
    },
    {
     "data": {
      "text/html": [
       "<div>\n",
       "<style scoped>\n",
       "    .dataframe tbody tr th:only-of-type {\n",
       "        vertical-align: middle;\n",
       "    }\n",
       "\n",
       "    .dataframe tbody tr th {\n",
       "        vertical-align: top;\n",
       "    }\n",
       "\n",
       "    .dataframe thead th {\n",
       "        text-align: right;\n",
       "    }\n",
       "</style>\n",
       "<table border=\"1\" class=\"dataframe\">\n",
       "  <thead>\n",
       "    <tr style=\"text-align: right;\">\n",
       "      <th></th>\n",
       "      <th>Sample</th>\n",
       "      <th>Candeina nitida</th>\n",
       "      <th>Dentoglobigerina altispira</th>\n",
       "      <th>Dentoglobigerina baroemoenensis</th>\n",
       "      <th>Globigerina bulloides</th>\n",
       "      <th>Globigerina rubescens</th>\n",
       "      <th>Globigerinella calida</th>\n",
       "      <th>Globigerinella siphonifera</th>\n",
       "      <th>Globigerinita glutinata</th>\n",
       "      <th>Globigerinoides bulloideus</th>\n",
       "      <th>...</th>\n",
       "      <th>Neogloboquadrina acostaensis</th>\n",
       "      <th>Neogloboquadrina dutertrei</th>\n",
       "      <th>Neogloboquadrina humerosa</th>\n",
       "      <th>Orbulina bilobata</th>\n",
       "      <th>Orbulina universa</th>\n",
       "      <th>Pulleniatina obliquiloculata</th>\n",
       "      <th>Pulleniatina primalis</th>\n",
       "      <th>Sphaeroidinella dehiscens</th>\n",
       "      <th>Sphaeroidinellopsis kochi</th>\n",
       "      <th>Sphaeroidinellopsis seminulina</th>\n",
       "    </tr>\n",
       "  </thead>\n",
       "  <tbody>\n",
       "    <tr>\n",
       "      <th>5</th>\n",
       "      <td>356-U1463B-13H-CC-PAL-FORAM-150 2000</td>\n",
       "      <td>NaN</td>\n",
       "      <td>NaN</td>\n",
       "      <td>NaN</td>\n",
       "      <td>NaN</td>\n",
       "      <td>NaN</td>\n",
       "      <td>NaN</td>\n",
       "      <td>P</td>\n",
       "      <td>NaN</td>\n",
       "      <td>NaN</td>\n",
       "      <td>...</td>\n",
       "      <td>NaN</td>\n",
       "      <td>P</td>\n",
       "      <td>NaN</td>\n",
       "      <td>NaN</td>\n",
       "      <td>P</td>\n",
       "      <td>F</td>\n",
       "      <td>NaN</td>\n",
       "      <td>NaN</td>\n",
       "      <td>NaN</td>\n",
       "      <td>NaN</td>\n",
       "    </tr>\n",
       "    <tr>\n",
       "      <th>6</th>\n",
       "      <td>356-U1463B-15H-CC-PAL-FORAM-150-2000</td>\n",
       "      <td>NaN</td>\n",
       "      <td>NaN</td>\n",
       "      <td>NaN</td>\n",
       "      <td>P</td>\n",
       "      <td>NaN</td>\n",
       "      <td>NaN</td>\n",
       "      <td>P</td>\n",
       "      <td>NaN</td>\n",
       "      <td>NaN</td>\n",
       "      <td>...</td>\n",
       "      <td>NaN</td>\n",
       "      <td>P</td>\n",
       "      <td>NaN</td>\n",
       "      <td>NaN</td>\n",
       "      <td>P</td>\n",
       "      <td>P</td>\n",
       "      <td>NaN</td>\n",
       "      <td>NaN</td>\n",
       "      <td>NaN</td>\n",
       "      <td>NaN</td>\n",
       "    </tr>\n",
       "  </tbody>\n",
       "</table>\n",
       "<p>2 rows × 48 columns</p>\n",
       "</div>"
      ],
      "text/plain": [
       "                                 Sample Candeina nitida  \\\n",
       "5  356-U1463B-13H-CC-PAL-FORAM-150 2000             NaN   \n",
       "6  356-U1463B-15H-CC-PAL-FORAM-150-2000             NaN   \n",
       "\n",
       "  Dentoglobigerina altispira Dentoglobigerina baroemoenensis  \\\n",
       "5                        NaN                             NaN   \n",
       "6                        NaN                             NaN   \n",
       "\n",
       "  Globigerina bulloides Globigerina rubescens Globigerinella calida  \\\n",
       "5                   NaN                   NaN                   NaN   \n",
       "6                     P                   NaN                   NaN   \n",
       "\n",
       "  Globigerinella siphonifera Globigerinita glutinata  \\\n",
       "5                          P                     NaN   \n",
       "6                          P                     NaN   \n",
       "\n",
       "  Globigerinoides bulloideus  ... Neogloboquadrina acostaensis  \\\n",
       "5                        NaN  ...                          NaN   \n",
       "6                        NaN  ...                          NaN   \n",
       "\n",
       "  Neogloboquadrina dutertrei Neogloboquadrina humerosa Orbulina bilobata  \\\n",
       "5                          P                       NaN               NaN   \n",
       "6                          P                       NaN               NaN   \n",
       "\n",
       "  Orbulina universa Pulleniatina obliquiloculata Pulleniatina primalis  \\\n",
       "5                 P                            F                   NaN   \n",
       "6                 P                            P                   NaN   \n",
       "\n",
       "  Sphaeroidinella dehiscens Sphaeroidinellopsis kochi  \\\n",
       "5                       NaN                       NaN   \n",
       "6                       NaN                       NaN   \n",
       "\n",
       "  Sphaeroidinellopsis seminulina  \n",
       "5                            NaN  \n",
       "6                            NaN  \n",
       "\n",
       "[2 rows x 48 columns]"
      ]
     },
     "execution_count": 24,
     "metadata": {},
     "output_type": "execute_result"
    }
   ],
   "source": [
    "taxa_cols = set(db_pivot.columns) - {'Sample'}\n",
    "\n",
    "\n",
    "filter_df = file_df[db_pivot.columns].copy()\n",
    "filter_df.dropna(axis=0, how='all', inplace=True, subset=taxa_cols)\n",
    "filter_df.dropna(axis=1, how='all', inplace=True)\n",
    "\n",
    "filter_df.sort_values('Sample', inplace=True)\n",
    "\n",
    "log_df(filter_df, 2)"
   ]
  },
  {
   "cell_type": "code",
   "execution_count": 25,
   "metadata": {},
   "outputs": [],
   "source": [
    "db_pivot.to_csv(OUTPUT_DIR/'tmp'/'db_pivot.csv', index=False)\n",
    "filter_df.to_csv(OUTPUT_DIR/'tmp'/'filter_df.csv', index=False)"
   ]
  },
  {
   "cell_type": "code",
   "execution_count": 26,
   "metadata": {},
   "outputs": [
    {
     "data": {
      "text/plain": [
       "True"
      ]
     },
     "execution_count": 26,
     "metadata": {},
     "output_type": "execute_result"
    }
   ],
   "source": [
    "dfa = pd.read_csv(OUTPUT_DIR/'tmp'/'db_pivot.csv', dtype=str)\n",
    "dfb = pd.read_csv(OUTPUT_DIR/'tmp'/'filter_df.csv', dtype=str)\n",
    "\n",
    "dfa.equals(dfb)"
   ]
  },
  {
   "cell_type": "markdown",
   "metadata": {
    "jp-MarkdownHeadingCollapsed": true,
    "tags": []
   },
   "source": [
    "# check taxa names were imported into database"
   ]
  },
  {
   "cell_type": "code",
   "execution_count": 119,
   "metadata": {},
   "outputs": [
    {
     "data": {
      "text/plain": [
       "(4738, 2)"
      ]
     },
     "execution_count": 119,
     "metadata": {},
     "output_type": "execute_result"
    }
   ],
   "source": [
    "df = pd.read_csv(taxa_list_file, usecols=['normalized_name', 'taxon_group'])\n",
    "df.drop_duplicates(subset=['normalized_name', 'taxon_group'], inplace=True)\n",
    "df.shape\n",
    "# 4738"
   ]
  },
  {
   "cell_type": "code",
   "execution_count": 120,
   "metadata": {},
   "outputs": [
    {
     "data": {
      "text/plain": [
       "[4738]"
      ]
     },
     "execution_count": 120,
     "metadata": {},
     "output_type": "execute_result"
    }
   ],
   "source": [
    "sql = \"\"\"\n",
    "SELECT count(*) FROM taxa\n",
    "\n",
    "\"\"\"\n",
    "db.fetch_one(sql)"
   ]
  },
  {
   "cell_type": "code",
   "execution_count": 121,
   "metadata": {},
   "outputs": [
    {
     "data": {
      "text/plain": [
       "True"
      ]
     },
     "execution_count": 121,
     "metadata": {},
     "output_type": "execute_result"
    }
   ],
   "source": [
    "len(df) == db.fetch_one(sql)[0]"
   ]
  },
  {
   "cell_type": "code",
   "execution_count": 122,
   "metadata": {},
   "outputs": [
    {
     "data": {
      "text/plain": [
       "(5380, 4)"
      ]
     },
     "execution_count": 122,
     "metadata": {},
     "output_type": "execute_result"
    }
   ],
   "source": [
    "df2 = pd.read_csv(taxa_crosswalk_list_file, usecols=['normalized_name', 'taxon_group', 'verbatim_name', 'eodp_id' ])\n",
    "df2.shape\n",
    "# 5380"
   ]
  },
  {
   "cell_type": "code",
   "execution_count": 123,
   "metadata": {},
   "outputs": [
    {
     "data": {
      "text/plain": [
       "5380"
      ]
     },
     "execution_count": 123,
     "metadata": {},
     "output_type": "execute_result"
    }
   ],
   "source": [
    "sql = \"\"\"\n",
    "SELECT * FROM taxa_crosswalk \n",
    "JOIN taxa on taxa.id = taxa_crosswalk.taxon_id \n",
    "\n",
    "\"\"\"\n",
    "rows = db.fetch_all(sql)\n",
    "data = []\n",
    "for row in rows:\n",
    "    data.append({\n",
    "        'normalized_name': row['name'], \n",
    "        'taxon_group': row['taxon_group'],\n",
    "        'verbatim_name': row['verbatim_name'],\n",
    "        'eodp_id': row['eodp_id']\n",
    "        \n",
    "    })\n",
    "\n",
    "\n",
    "len(data)"
   ]
  },
  {
   "cell_type": "code",
   "execution_count": 124,
   "metadata": {},
   "outputs": [
    {
     "data": {
      "text/plain": [
       "True"
      ]
     },
     "execution_count": 124,
     "metadata": {},
     "output_type": "execute_result"
    }
   ],
   "source": [
    "len(df2) == len(data)"
   ]
  },
  {
   "cell_type": "code",
   "execution_count": 125,
   "metadata": {},
   "outputs": [
    {
     "data": {
      "text/html": [
       "<div>\n",
       "<style scoped>\n",
       "    .dataframe tbody tr th:only-of-type {\n",
       "        vertical-align: middle;\n",
       "    }\n",
       "\n",
       "    .dataframe tbody tr th {\n",
       "        vertical-align: top;\n",
       "    }\n",
       "\n",
       "    .dataframe thead th {\n",
       "        text-align: right;\n",
       "    }\n",
       "</style>\n",
       "<table border=\"1\" class=\"dataframe\">\n",
       "  <thead>\n",
       "    <tr style=\"text-align: right;\">\n",
       "      <th></th>\n",
       "      <th>normalized_name</th>\n",
       "      <th>taxon_group</th>\n",
       "      <th>verbatim_name</th>\n",
       "      <th>eodp_id</th>\n",
       "    </tr>\n",
       "  </thead>\n",
       "  <tbody>\n",
       "    <tr>\n",
       "      <th>0</th>\n",
       "      <td>Euuvigerina miozea</td>\n",
       "      <td>benthic_forams</td>\n",
       "      <td>Euuvigerina miozea (group) &gt;100 m</td>\n",
       "      <td>0</td>\n",
       "    </tr>\n",
       "    <tr>\n",
       "      <th>1</th>\n",
       "      <td>Euuvigerina rodleyi</td>\n",
       "      <td>benthic_forams</td>\n",
       "      <td>Euuvigerina rodleyi (group) &gt;50 m</td>\n",
       "      <td>1</td>\n",
       "    </tr>\n",
       "    <tr>\n",
       "      <th>2</th>\n",
       "      <td>Foraminifera indet.</td>\n",
       "      <td>benthic_forams</td>\n",
       "      <td>Others</td>\n",
       "      <td>2</td>\n",
       "    </tr>\n",
       "    <tr>\n",
       "      <th>3</th>\n",
       "      <td>Pleurostomellidae indet.</td>\n",
       "      <td>benthic_forams</td>\n",
       "      <td>Pleurostomellids comment</td>\n",
       "      <td>3</td>\n",
       "    </tr>\n",
       "    <tr>\n",
       "      <th>4</th>\n",
       "      <td>Ostracoda indet.</td>\n",
       "      <td>benthic_forams</td>\n",
       "      <td>Ostracoda spp.</td>\n",
       "      <td>4</td>\n",
       "    </tr>\n",
       "  </tbody>\n",
       "</table>\n",
       "</div>"
      ],
      "text/plain": [
       "            normalized_name     taxon_group  \\\n",
       "0        Euuvigerina miozea  benthic_forams   \n",
       "1       Euuvigerina rodleyi  benthic_forams   \n",
       "2       Foraminifera indet.  benthic_forams   \n",
       "3  Pleurostomellidae indet.  benthic_forams   \n",
       "4          Ostracoda indet.  benthic_forams   \n",
       "\n",
       "                       verbatim_name  eodp_id  \n",
       "0  Euuvigerina miozea (group) >100 m        0  \n",
       "1  Euuvigerina rodleyi (group) >50 m        1  \n",
       "2                             Others        2  \n",
       "3           Pleurostomellids comment        3  \n",
       "4                     Ostracoda spp.        4  "
      ]
     },
     "execution_count": 125,
     "metadata": {},
     "output_type": "execute_result"
    }
   ],
   "source": [
    "db_df = pd.DataFrame(data)\n",
    "db_df.head()"
   ]
  },
  {
   "cell_type": "code",
   "execution_count": 126,
   "metadata": {},
   "outputs": [
    {
     "data": {
      "text/plain": [
       "set()"
      ]
     },
     "execution_count": 126,
     "metadata": {},
     "output_type": "execute_result"
    }
   ],
   "source": [
    "set(df2['eodp_id']) - set (db_df['eodp_id'])"
   ]
  },
  {
   "cell_type": "code",
   "execution_count": 127,
   "metadata": {},
   "outputs": [
    {
     "data": {
      "text/plain": [
       "set()"
      ]
     },
     "execution_count": 127,
     "metadata": {},
     "output_type": "execute_result"
    }
   ],
   "source": [
    "set(db_df['eodp_id']) - set (df2['eodp_id'])"
   ]
  },
  {
   "cell_type": "markdown",
   "metadata": {
    "tags": []
   },
   "source": [
    "# check additional species are imported"
   ]
  },
  {
   "cell_type": "code",
   "execution_count": 175,
   "metadata": {},
   "outputs": [
    {
     "name": "stdout",
     "output_type": "stream",
     "text": [
      "(31, 77)\n"
     ]
    },
    {
     "data": {
      "text/html": [
       "<div>\n",
       "<style scoped>\n",
       "    .dataframe tbody tr th:only-of-type {\n",
       "        vertical-align: middle;\n",
       "    }\n",
       "\n",
       "    .dataframe tbody tr th {\n",
       "        vertical-align: top;\n",
       "    }\n",
       "\n",
       "    .dataframe thead th {\n",
       "        text-align: right;\n",
       "    }\n",
       "</style>\n",
       "<table border=\"1\" class=\"dataframe\">\n",
       "  <thead>\n",
       "    <tr style=\"text-align: right;\">\n",
       "      <th></th>\n",
       "      <th>Sample</th>\n",
       "      <th>Top [cm]</th>\n",
       "      <th>Bottom [cm]</th>\n",
       "      <th>Top Depth [m]</th>\n",
       "      <th>Bottom Depth [m]</th>\n",
       "      <th>Zone name</th>\n",
       "      <th>Preservation</th>\n",
       "      <th>Group Abundance</th>\n",
       "      <th>Antarctissa cylindrica</th>\n",
       "      <th>Cycladophora pliocenica</th>\n",
       "      <th>...</th>\n",
       "      <th>additional species: Gondwanaria dogieli</th>\n",
       "      <th>additional species: Tetraplecta pinigera/Euscenium corynephorum</th>\n",
       "      <th>additional species: Litharachnium tentorium</th>\n",
       "      <th>additional species: Streblacantha circumtexta</th>\n",
       "      <th>additional species: Eucyrtidium teuscheri</th>\n",
       "      <th>additional species: Verticillata hexacantha</th>\n",
       "      <th>additional species: Cypassis irregularis</th>\n",
       "      <th>additional species: Prunopyle antarctica</th>\n",
       "      <th>additional species: Big Lithomelissa sp. A (Antarctissa like)</th>\n",
       "      <th>additional species: Larcopyle buetschlii (R)</th>\n",
       "    </tr>\n",
       "  </thead>\n",
       "  <tbody>\n",
       "    <tr>\n",
       "      <th>0</th>\n",
       "      <td>374-U1525A-1H-1-IW_MUDLINE</td>\n",
       "      <td>0</td>\n",
       "      <td>0</td>\n",
       "      <td>0</td>\n",
       "      <td>0</td>\n",
       "      <td>NaN</td>\n",
       "      <td>G</td>\n",
       "      <td>A</td>\n",
       "      <td>NaN</td>\n",
       "      <td>NaN</td>\n",
       "      <td>...</td>\n",
       "      <td>Ind</td>\n",
       "      <td>Ind</td>\n",
       "      <td>Ind</td>\n",
       "      <td>Ind</td>\n",
       "      <td>Ind</td>\n",
       "      <td>Ind</td>\n",
       "      <td>Ind</td>\n",
       "      <td>Ind</td>\n",
       "      <td>NaN</td>\n",
       "      <td>NaN</td>\n",
       "    </tr>\n",
       "    <tr>\n",
       "      <th>1</th>\n",
       "      <td>374-U1525A-1H-CC-PAL-RADS</td>\n",
       "      <td>0</td>\n",
       "      <td>5</td>\n",
       "      <td>8.57</td>\n",
       "      <td>8.62</td>\n",
       "      <td>NaN</td>\n",
       "      <td>P</td>\n",
       "      <td>B</td>\n",
       "      <td>NaN</td>\n",
       "      <td>NaN</td>\n",
       "      <td>...</td>\n",
       "      <td>NaN</td>\n",
       "      <td>NaN</td>\n",
       "      <td>NaN</td>\n",
       "      <td>NaN</td>\n",
       "      <td>NaN</td>\n",
       "      <td>NaN</td>\n",
       "      <td>NaN</td>\n",
       "      <td>NaN</td>\n",
       "      <td>NaN</td>\n",
       "      <td>NaN</td>\n",
       "    </tr>\n",
       "    <tr>\n",
       "      <th>2</th>\n",
       "      <td>374-U1525A-2H-CC-PAL-RADS</td>\n",
       "      <td>0</td>\n",
       "      <td>5</td>\n",
       "      <td>18.72</td>\n",
       "      <td>18.77</td>\n",
       "      <td>NaN</td>\n",
       "      <td>P</td>\n",
       "      <td>Tr</td>\n",
       "      <td>NaN</td>\n",
       "      <td>NaN</td>\n",
       "      <td>...</td>\n",
       "      <td>NaN</td>\n",
       "      <td>NaN</td>\n",
       "      <td>NaN</td>\n",
       "      <td>NaN</td>\n",
       "      <td>NaN</td>\n",
       "      <td>NaN</td>\n",
       "      <td>NaN</td>\n",
       "      <td>NaN</td>\n",
       "      <td>NaN</td>\n",
       "      <td>NaN</td>\n",
       "    </tr>\n",
       "    <tr>\n",
       "      <th>3</th>\n",
       "      <td>374-U1525A-3H-CC-PAL-RADS</td>\n",
       "      <td>0</td>\n",
       "      <td>5</td>\n",
       "      <td>28.16</td>\n",
       "      <td>28.21</td>\n",
       "      <td>NaN</td>\n",
       "      <td>P</td>\n",
       "      <td>Tr</td>\n",
       "      <td>NaN</td>\n",
       "      <td>NaN</td>\n",
       "      <td>...</td>\n",
       "      <td>NaN</td>\n",
       "      <td>NaN</td>\n",
       "      <td>NaN</td>\n",
       "      <td>NaN</td>\n",
       "      <td>NaN</td>\n",
       "      <td>NaN</td>\n",
       "      <td>NaN</td>\n",
       "      <td>NaN</td>\n",
       "      <td>NaN</td>\n",
       "      <td>NaN</td>\n",
       "    </tr>\n",
       "    <tr>\n",
       "      <th>4</th>\n",
       "      <td>374-U1525A-4H-CC-PAL-RADS</td>\n",
       "      <td>0</td>\n",
       "      <td>5</td>\n",
       "      <td>28.86</td>\n",
       "      <td>28.91</td>\n",
       "      <td>&gt; 0.65 (LAD A. cylindrica)</td>\n",
       "      <td>M</td>\n",
       "      <td>Tr</td>\n",
       "      <td>X</td>\n",
       "      <td>NaN</td>\n",
       "      <td>...</td>\n",
       "      <td>NaN</td>\n",
       "      <td>NaN</td>\n",
       "      <td>NaN</td>\n",
       "      <td>NaN</td>\n",
       "      <td>NaN</td>\n",
       "      <td>NaN</td>\n",
       "      <td>NaN</td>\n",
       "      <td>NaN</td>\n",
       "      <td>NaN</td>\n",
       "      <td>NaN</td>\n",
       "    </tr>\n",
       "  </tbody>\n",
       "</table>\n",
       "<p>5 rows × 77 columns</p>\n",
       "</div>"
      ],
      "text/plain": [
       "                       Sample Top [cm] Bottom [cm] Top Depth [m]  \\\n",
       "0  374-U1525A-1H-1-IW_MUDLINE        0           0             0   \n",
       "1   374-U1525A-1H-CC-PAL-RADS        0           5          8.57   \n",
       "2   374-U1525A-2H-CC-PAL-RADS        0           5         18.72   \n",
       "3   374-U1525A-3H-CC-PAL-RADS        0           5         28.16   \n",
       "4   374-U1525A-4H-CC-PAL-RADS        0           5         28.86   \n",
       "\n",
       "  Bottom Depth [m]                   Zone name Preservation Group Abundance  \\\n",
       "0                0                         NaN            G               A   \n",
       "1             8.62                         NaN            P               B   \n",
       "2            18.77                         NaN            P              Tr   \n",
       "3            28.21                         NaN            P              Tr   \n",
       "4            28.91  > 0.65 (LAD A. cylindrica)            M              Tr   \n",
       "\n",
       "  Antarctissa cylindrica Cycladophora pliocenica  ...  \\\n",
       "0                    NaN                     NaN  ...   \n",
       "1                    NaN                     NaN  ...   \n",
       "2                    NaN                     NaN  ...   \n",
       "3                    NaN                     NaN  ...   \n",
       "4                      X                     NaN  ...   \n",
       "\n",
       "  additional species: Gondwanaria dogieli  \\\n",
       "0                                     Ind   \n",
       "1                                     NaN   \n",
       "2                                     NaN   \n",
       "3                                     NaN   \n",
       "4                                     NaN   \n",
       "\n",
       "  additional species: Tetraplecta pinigera/Euscenium corynephorum  \\\n",
       "0                                                Ind                \n",
       "1                                                NaN                \n",
       "2                                                NaN                \n",
       "3                                                NaN                \n",
       "4                                                NaN                \n",
       "\n",
       "  additional species: Litharachnium tentorium  \\\n",
       "0                                         Ind   \n",
       "1                                         NaN   \n",
       "2                                         NaN   \n",
       "3                                         NaN   \n",
       "4                                         NaN   \n",
       "\n",
       "  additional species: Streblacantha circumtexta  \\\n",
       "0                                           Ind   \n",
       "1                                           NaN   \n",
       "2                                           NaN   \n",
       "3                                           NaN   \n",
       "4                                           NaN   \n",
       "\n",
       "  additional species: Eucyrtidium teuscheri  \\\n",
       "0                                       Ind   \n",
       "1                                       NaN   \n",
       "2                                       NaN   \n",
       "3                                       NaN   \n",
       "4                                       NaN   \n",
       "\n",
       "  additional species: Verticillata hexacantha  \\\n",
       "0                                         Ind   \n",
       "1                                         NaN   \n",
       "2                                         NaN   \n",
       "3                                         NaN   \n",
       "4                                         NaN   \n",
       "\n",
       "  additional species: Cypassis irregularis  \\\n",
       "0                                      Ind   \n",
       "1                                      NaN   \n",
       "2                                      NaN   \n",
       "3                                      NaN   \n",
       "4                                      NaN   \n",
       "\n",
       "  additional species: Prunopyle antarctica  \\\n",
       "0                                      Ind   \n",
       "1                                      NaN   \n",
       "2                                      NaN   \n",
       "3                                      NaN   \n",
       "4                                      NaN   \n",
       "\n",
       "  additional species: Big Lithomelissa sp. A (Antarctissa like)  \\\n",
       "0                                                NaN              \n",
       "1                                                NaN              \n",
       "2                                                NaN              \n",
       "3                                                NaN              \n",
       "4                                                NaN              \n",
       "\n",
       "  additional species: Larcopyle buetschlii (R)  \n",
       "0                                          NaN  \n",
       "1                                          NaN  \n",
       "2                                          NaN  \n",
       "3                                          NaN  \n",
       "4                                          NaN  \n",
       "\n",
       "[5 rows x 77 columns]"
      ]
     },
     "execution_count": 175,
     "metadata": {},
     "output_type": "execute_result"
    }
   ],
   "source": [
    "file = 'LIMS/Micropal_CSV_2/374_U1525A_radiolarians.csv'\n",
    "path = CLEAN_DATA_DIR/file\n",
    "df = pd.read_csv(path, dtype=str)\n",
    "df = df.dropna(axis=1, how=\"all\")\n",
    "\n",
    "log_df(df)"
   ]
  },
  {
   "cell_type": "code",
   "execution_count": 159,
   "metadata": {},
   "outputs": [
    {
     "data": {
      "text/plain": [
       "Index(['Sample', 'Top [cm]', 'Bottom [cm]', 'Top Depth [m]',\n",
       "       'Bottom Depth [m]', 'Zone name', 'Preservation', 'Group Abundance',\n",
       "       'Antarctissa cylindrica', 'Cycladophora pliocenica',\n",
       "       'Triceraspyris antarctica', 'Eucyrtidium calvertense',\n",
       "       'Helotholus vema', 'Desmospyris spongiosa', 'Cycladophora davisiana',\n",
       "       'Ceratocyrtis mashae', 'Prunopyle hayesi', 'Actinomma popofskii',\n",
       "       'Acrosphaera? mercurius', 'Actinomma boreale', 'Actinomma delicatulum',\n",
       "       'Actinomma leptodermum', 'Actinomma leptodernum longispinum',\n",
       "       'Antarctissa denticulata', 'Antarctissa strelkovi',\n",
       "       'Cenosphaera cristata', 'Ceratocyrtis spp.', 'Cornutella profunda',\n",
       "       'Cycladophora bicornis', 'Druppatractus hastatus',\n",
       "       'Enneaphormis rotula', 'Eucyrtidium inflatum',\n",
       "       'Hexacontium pachydermum', 'Larcopyle pylomaticus',\n",
       "       'Larcopyle weddellium', 'Lithelius nautiloides', 'Lithelius sp. A',\n",
       "       'Mitrocalpis araneafera', 'Peripyramis circumtexta',\n",
       "       'Phormacantha hystrix/Plectacantha oikiskos group',\n",
       "       'Phormostichoartus corbula', 'Pseudodictyophimus gracilipes',\n",
       "       'Saccospyris antarctica', 'Saccospyris conithorax',\n",
       "       'Saccospyris praeantarctica', 'Spongopyle osculosa',\n",
       "       'Spongotrochus glacialis', 'Spongotrochus sp. A Abelmann',\n",
       "       'Sphaeropyle robusta', 'Prunopyle tetrapila', 'Stylatractus neptunus',\n",
       "       'Stylochlamidium  venustum', 'Stylodictya spp.', 'Trisulcus nana',\n",
       "       'Comments', 'ADDITIONAL SPECIES', 'Exp', 'Site', 'Hole', 'Core', 'Type',\n",
       "       'Section', 'A/W', 'eodp_id',\n",
       "       'additional species: Lonchosphaera spicata',\n",
       "       'additional species: Poulpus spp.-like',\n",
       "       'additional species: Lithostrobus cuspidatus',\n",
       "       'additional species: Gondwanaria dogieli',\n",
       "       'additional species: Tetraplecta pinigera/Euscenium corynephorum',\n",
       "       'additional species: Litharachnium tentorium',\n",
       "       'additional species: Streblacantha circumtexta',\n",
       "       'additional species: Eucyrtidium teuscheri',\n",
       "       'additional species: Verticillata hexacantha',\n",
       "       'additional species: Cypassis irregularis',\n",
       "       'additional species: Prunopyle antarctica',\n",
       "       'additional species: Big Lithomelissa sp. A (Antarctissa like)',\n",
       "       'additional species: Larcopyle buetschlii (R)'],\n",
       "      dtype='object')"
      ]
     },
     "execution_count": 159,
     "metadata": {},
     "output_type": "execute_result"
    }
   ],
   "source": [
    "df.columns"
   ]
  },
  {
   "cell_type": "code",
   "execution_count": 160,
   "metadata": {},
   "outputs": [],
   "source": [
    "cols = [\n",
    "    'Antarctissa cylindrica', 'Cycladophora pliocenica',\n",
    "    'Triceraspyris antarctica', 'Eucyrtidium calvertense',\n",
    "    'Helotholus vema', 'Desmospyris spongiosa', 'Cycladophora davisiana',\n",
    "    'Ceratocyrtis mashae', 'Prunopyle hayesi', 'Actinomma popofskii',\n",
    "    'Acrosphaera? mercurius', 'Actinomma boreale', 'Actinomma delicatulum',\n",
    "    'Actinomma leptodermum', 'Actinomma leptodernum longispinum',\n",
    "    'Antarctissa denticulata', 'Antarctissa strelkovi',\n",
    "    'Cenosphaera cristata', 'Ceratocyrtis spp.', 'Cornutella profunda',\n",
    "    'Cycladophora bicornis', 'Druppatractus hastatus',\n",
    "    'Enneaphormis rotula', 'Eucyrtidium inflatum',\n",
    "    'Hexacontium pachydermum', 'Larcopyle pylomaticus',\n",
    "    'Larcopyle weddellium', 'Lithelius nautiloides', 'Lithelius sp. A',\n",
    "    'Mitrocalpis araneafera', 'Peripyramis circumtexta',\n",
    "    'Phormacantha hystrix/Plectacantha oikiskos group',\n",
    "    'Phormostichoartus corbula', 'Pseudodictyophimus gracilipes',\n",
    "    'Saccospyris antarctica', 'Saccospyris conithorax',\n",
    "    'Saccospyris praeantarctica', 'Spongopyle osculosa',\n",
    "    'Spongotrochus glacialis', 'Spongotrochus sp. A Abelmann',\n",
    "    'Sphaeropyle robusta', 'Prunopyle tetrapila', 'Stylatractus neptunus',\n",
    "    'Stylochlamidium  venustum', 'Stylodictya spp.', 'Trisulcus nana',\n",
    "    # 'ADDITIONAL SPECIES', \n",
    "]\n",
    "\n",
    "add_cols = [\n",
    "    'additional species: Lonchosphaera spicata',\n",
    "    'additional species: Poulpus spp.-like',\n",
    "    'additional species: Lithostrobus cuspidatus',\n",
    "    'additional species: Gondwanaria dogieli',\n",
    "    'additional species: Tetraplecta pinigera/Euscenium corynephorum',\n",
    "    'additional species: Litharachnium tentorium',\n",
    "    'additional species: Streblacantha circumtexta',\n",
    "    'additional species: Eucyrtidium teuscheri',\n",
    "    'additional species: Verticillata hexacantha',\n",
    "    'additional species: Cypassis irregularis',\n",
    "    'additional species: Prunopyle antarctica',\n",
    "    'additional species: Big Lithomelissa sp. A (Antarctissa like)',\n",
    "    'additional species: Larcopyle buetschlii (R)'\n",
    "]"
   ]
  },
  {
   "cell_type": "raw",
   "metadata": {},
   "source": [
    "The code for \"additional species: Larcopyle buetschlii (R)\" is \"R\", not \"Ind\""
   ]
  },
  {
   "cell_type": "code",
   "execution_count": 177,
   "metadata": {},
   "outputs": [
    {
     "data": {
      "text/plain": [
       "114"
      ]
     },
     "execution_count": 177,
     "metadata": {},
     "output_type": "execute_result"
    }
   ],
   "source": [
    "data = []\n",
    "for index, row in df.iterrows():\n",
    "    for col in cols:\n",
    "        if pd.notna(row[col]):\n",
    "            data.append({'Sample': row['Sample'], 'code': row[col], 'taxon': col})\n",
    " \n",
    "len(data)"
   ]
  },
  {
   "cell_type": "code",
   "execution_count": 178,
   "metadata": {},
   "outputs": [
    {
     "data": {
      "text/plain": [
       "115"
      ]
     },
     "execution_count": 178,
     "metadata": {},
     "output_type": "execute_result"
    }
   ],
   "source": [
    "sql = f\"\"\"\n",
    "SELECT count(*) \n",
    "FROM  samples_taxa\n",
    "WHERE (data_source_notes = '{file}')\n",
    "AND (code != 'Ind') \n",
    "\"\"\"\n",
    "\n",
    "count = db.fetch_one(sql)[0]\n",
    "count"
   ]
  },
  {
   "cell_type": "code",
   "execution_count": 180,
   "metadata": {},
   "outputs": [
    {
     "data": {
      "text/plain": [
       "True"
      ]
     },
     "execution_count": 180,
     "metadata": {},
     "output_type": "execute_result"
    }
   ],
   "source": [
    "len(data) + 1 == count"
   ]
  },
  {
   "cell_type": "code",
   "execution_count": 183,
   "metadata": {},
   "outputs": [
    {
     "data": {
      "text/plain": [
       "17"
      ]
     },
     "execution_count": 183,
     "metadata": {},
     "output_type": "execute_result"
    }
   ],
   "source": [
    "data = []\n",
    "for index, row in df.iterrows():\n",
    "    for col in add_cols:\n",
    "        if pd.notna(row[col]):\n",
    "            data.append({'Sample': row['Sample'], 'code': row[col], 'taxon': col})\n",
    " \n",
    "len(data)"
   ]
  },
  {
   "cell_type": "code",
   "execution_count": 184,
   "metadata": {},
   "outputs": [
    {
     "data": {
      "text/plain": [
       "16"
      ]
     },
     "execution_count": 184,
     "metadata": {},
     "output_type": "execute_result"
    }
   ],
   "source": [
    "sql = f\"\"\"\n",
    "SELECT count(*) \n",
    "FROM  samples_taxa\n",
    "WHERE (data_source_notes = '{file}')\n",
    "AND (code = 'Ind') \n",
    "\"\"\"\n",
    "\n",
    "count = db.fetch_one(sql)[0]\n",
    "count"
   ]
  },
  {
   "cell_type": "code",
   "execution_count": 186,
   "metadata": {},
   "outputs": [
    {
     "data": {
      "text/plain": [
       "True"
      ]
     },
     "execution_count": 186,
     "metadata": {},
     "output_type": "execute_result"
    }
   ],
   "source": [
    "len(data) - 1 == count"
   ]
  },
  {
   "cell_type": "markdown",
   "metadata": {
    "jp-MarkdownHeadingCollapsed": true,
    "tags": []
   },
   "source": [
    "# check for taxa in multiple taxon groups"
   ]
  },
  {
   "cell_type": "code",
   "execution_count": 52,
   "metadata": {},
   "outputs": [],
   "source": [
    "# https://stackoverflow.com/questions/38127209/how-to-use-groupby-to-concatenate-strings-in-python-pandas\n",
    "\n",
    "def check_taxa_by_groups(path, name_col):\n",
    "    taxa_df = pd.read_csv(path)\n",
    "    nt.add_normalized_name_column(taxa_df)\n",
    "    taxa_df = taxa_df.drop_duplicates(subset=[name_col,  'taxon_group'])\n",
    "\n",
    "    data = taxa_df.groupby([name_col])['taxon_group'].apply('; '.join)\n",
    "    grouped_df = pd.DataFrame(data)\n",
    "\n",
    "    grouped_df = grouped_df[grouped_df['taxon_group'].str.contains('; ')]\n",
    "    grouped_df.reset_index(inplace=True)\n",
    "    \n",
    "    return grouped_df\n"
   ]
  },
  {
   "cell_type": "code",
   "execution_count": 147,
   "metadata": {},
   "outputs": [
    {
     "data": {
      "text/html": [
       "<div>\n",
       "<style scoped>\n",
       "    .dataframe tbody tr th:only-of-type {\n",
       "        vertical-align: middle;\n",
       "    }\n",
       "\n",
       "    .dataframe tbody tr th {\n",
       "        vertical-align: top;\n",
       "    }\n",
       "\n",
       "    .dataframe thead th {\n",
       "        text-align: right;\n",
       "    }\n",
       "</style>\n",
       "<table border=\"1\" class=\"dataframe\">\n",
       "  <thead>\n",
       "    <tr style=\"text-align: right;\">\n",
       "      <th></th>\n",
       "      <th>verbatim_name</th>\n",
       "      <th>taxon_group</th>\n",
       "    </tr>\n",
       "  </thead>\n",
       "  <tbody>\n",
       "    <tr>\n",
       "      <th>0</th>\n",
       "      <td>ADDITIONAL SPECIES</td>\n",
       "      <td>planktic_forams; radiolarians</td>\n",
       "    </tr>\n",
       "    <tr>\n",
       "      <th>1</th>\n",
       "      <td>Amorphous organic matter</td>\n",
       "      <td>dinoflagellates; palynology</td>\n",
       "    </tr>\n",
       "    <tr>\n",
       "      <th>2</th>\n",
       "      <td>Black phytoclasts</td>\n",
       "      <td>dinoflagellates; palynology</td>\n",
       "    </tr>\n",
       "    <tr>\n",
       "      <th>3</th>\n",
       "      <td>Brown phytoclasts</td>\n",
       "      <td>dinoflagellates; palynology</td>\n",
       "    </tr>\n",
       "    <tr>\n",
       "      <th>4</th>\n",
       "      <td>Dinocysts</td>\n",
       "      <td>dinoflagellates; palynology</td>\n",
       "    </tr>\n",
       "    <tr>\n",
       "      <th>5</th>\n",
       "      <td>Globigerinoides ruber (white)</td>\n",
       "      <td>benthic_forams; planktic_forams</td>\n",
       "    </tr>\n",
       "    <tr>\n",
       "      <th>6</th>\n",
       "      <td>Neogloboquadrina humerosa</td>\n",
       "      <td>benthic_forams; planktic_forams</td>\n",
       "    </tr>\n",
       "  </tbody>\n",
       "</table>\n",
       "</div>"
      ],
      "text/plain": [
       "                   verbatim_name                      taxon_group\n",
       "0             ADDITIONAL SPECIES    planktic_forams; radiolarians\n",
       "1       Amorphous organic matter      dinoflagellates; palynology\n",
       "2              Black phytoclasts      dinoflagellates; palynology\n",
       "3              Brown phytoclasts      dinoflagellates; palynology\n",
       "4                      Dinocysts      dinoflagellates; palynology\n",
       "5  Globigerinoides ruber (white)  benthic_forams; planktic_forams\n",
       "6      Neogloboquadrina humerosa  benthic_forams; planktic_forams"
      ]
     },
     "execution_count": 147,
     "metadata": {},
     "output_type": "execute_result"
    }
   ],
   "source": [
    "df = check_taxa_by_groups(pi_file, 'verbatim_name')\n",
    "df"
   ]
  },
  {
   "cell_type": "code",
   "execution_count": 149,
   "metadata": {},
   "outputs": [
    {
     "data": {
      "text/plain": [
       "True"
      ]
     },
     "execution_count": 149,
     "metadata": {},
     "output_type": "execute_result"
    }
   ],
   "source": [
    "len(df) == 7"
   ]
  },
  {
   "cell_type": "code",
   "execution_count": 150,
   "metadata": {},
   "outputs": [
    {
     "data": {
      "text/html": [
       "<div>\n",
       "<style scoped>\n",
       "    .dataframe tbody tr th:only-of-type {\n",
       "        vertical-align: middle;\n",
       "    }\n",
       "\n",
       "    .dataframe tbody tr th {\n",
       "        vertical-align: top;\n",
       "    }\n",
       "\n",
       "    .dataframe thead th {\n",
       "        text-align: right;\n",
       "    }\n",
       "</style>\n",
       "<table border=\"1\" class=\"dataframe\">\n",
       "  <thead>\n",
       "    <tr style=\"text-align: right;\">\n",
       "      <th></th>\n",
       "      <th>verbatim_name</th>\n",
       "      <th>taxon_group</th>\n",
       "    </tr>\n",
       "  </thead>\n",
       "  <tbody>\n",
       "    <tr>\n",
       "      <th>0</th>\n",
       "      <td>Amorphous organic matter</td>\n",
       "      <td>dinoflagellates; palynology</td>\n",
       "    </tr>\n",
       "    <tr>\n",
       "      <th>1</th>\n",
       "      <td>Black phytoclasts</td>\n",
       "      <td>dinoflagellates; palynology</td>\n",
       "    </tr>\n",
       "    <tr>\n",
       "      <th>2</th>\n",
       "      <td>Brown phytoclasts</td>\n",
       "      <td>dinoflagellates; palynology</td>\n",
       "    </tr>\n",
       "    <tr>\n",
       "      <th>3</th>\n",
       "      <td>Dinocysts</td>\n",
       "      <td>dinoflagellates; palynology</td>\n",
       "    </tr>\n",
       "    <tr>\n",
       "      <th>4</th>\n",
       "      <td>Echinoid plate fragments</td>\n",
       "      <td>other; planktic_forams</td>\n",
       "    </tr>\n",
       "    <tr>\n",
       "      <th>5</th>\n",
       "      <td>Echinoid spines</td>\n",
       "      <td>other; planktic_forams</td>\n",
       "    </tr>\n",
       "    <tr>\n",
       "      <th>6</th>\n",
       "      <td>Fish teeth</td>\n",
       "      <td>other; planktic_forams</td>\n",
       "    </tr>\n",
       "    <tr>\n",
       "      <th>7</th>\n",
       "      <td>Globigerinoides ruber (white)</td>\n",
       "      <td>benthic_forams; planktic_forams</td>\n",
       "    </tr>\n",
       "    <tr>\n",
       "      <th>8</th>\n",
       "      <td>Neogloboquadrina humerosa</td>\n",
       "      <td>benthic_forams; planktic_forams</td>\n",
       "    </tr>\n",
       "    <tr>\n",
       "      <th>9</th>\n",
       "      <td>Ostracods</td>\n",
       "      <td>other; planktic_forams</td>\n",
       "    </tr>\n",
       "    <tr>\n",
       "      <th>10</th>\n",
       "      <td>Otoliths</td>\n",
       "      <td>other; planktic_forams</td>\n",
       "    </tr>\n",
       "    <tr>\n",
       "      <th>11</th>\n",
       "      <td>Radiolarians</td>\n",
       "      <td>other; planktic_forams</td>\n",
       "    </tr>\n",
       "  </tbody>\n",
       "</table>\n",
       "</div>"
      ],
      "text/plain": [
       "                    verbatim_name                      taxon_group\n",
       "0        Amorphous organic matter      dinoflagellates; palynology\n",
       "1               Black phytoclasts      dinoflagellates; palynology\n",
       "2               Brown phytoclasts      dinoflagellates; palynology\n",
       "3                       Dinocysts      dinoflagellates; palynology\n",
       "4        Echinoid plate fragments           other; planktic_forams\n",
       "5                 Echinoid spines           other; planktic_forams\n",
       "6                      Fish teeth           other; planktic_forams\n",
       "7   Globigerinoides ruber (white)  benthic_forams; planktic_forams\n",
       "8       Neogloboquadrina humerosa  benthic_forams; planktic_forams\n",
       "9                       Ostracods           other; planktic_forams\n",
       "10                       Otoliths           other; planktic_forams\n",
       "11                   Radiolarians           other; planktic_forams"
      ]
     },
     "execution_count": 150,
     "metadata": {},
     "output_type": "execute_result"
    }
   ],
   "source": [
    "df = check_taxa_by_groups(taxa_crosswalk_list_file, 'verbatim_name')\n",
    "df"
   ]
  },
  {
   "cell_type": "code",
   "execution_count": 151,
   "metadata": {},
   "outputs": [
    {
     "data": {
      "text/plain": [
       "True"
      ]
     },
     "execution_count": 151,
     "metadata": {},
     "output_type": "execute_result"
    }
   ],
   "source": [
    "len(df) == 12"
   ]
  },
  {
   "cell_type": "code",
   "execution_count": 152,
   "metadata": {},
   "outputs": [
    {
     "data": {
      "text/html": [
       "<div>\n",
       "<style scoped>\n",
       "    .dataframe tbody tr th:only-of-type {\n",
       "        vertical-align: middle;\n",
       "    }\n",
       "\n",
       "    .dataframe tbody tr th {\n",
       "        vertical-align: top;\n",
       "    }\n",
       "\n",
       "    .dataframe thead th {\n",
       "        text-align: right;\n",
       "    }\n",
       "</style>\n",
       "<table border=\"1\" class=\"dataframe\">\n",
       "  <thead>\n",
       "    <tr style=\"text-align: right;\">\n",
       "      <th></th>\n",
       "      <th>normalized_name</th>\n",
       "      <th>taxon_group</th>\n",
       "    </tr>\n",
       "  </thead>\n",
       "  <tbody>\n",
       "    <tr>\n",
       "      <th>0</th>\n",
       "      <td></td>\n",
       "      <td>benthic_forams; palynology; planktic_forams; r...</td>\n",
       "    </tr>\n",
       "    <tr>\n",
       "      <th>1</th>\n",
       "      <td>\"Amorphous organic matter\"</td>\n",
       "      <td>dinoflagellates; palynology</td>\n",
       "    </tr>\n",
       "    <tr>\n",
       "      <th>2</th>\n",
       "      <td>\"Black phytoclasts\"</td>\n",
       "      <td>dinoflagellates; palynology</td>\n",
       "    </tr>\n",
       "    <tr>\n",
       "      <th>3</th>\n",
       "      <td>\"Brown phytoclasts\"</td>\n",
       "      <td>dinoflagellates; palynology</td>\n",
       "    </tr>\n",
       "    <tr>\n",
       "      <th>4</th>\n",
       "      <td>Brigantedinium spp.</td>\n",
       "      <td>dinoflagellates; palynology</td>\n",
       "    </tr>\n",
       "    <tr>\n",
       "      <th>5</th>\n",
       "      <td>Dinoflagellata indet.</td>\n",
       "      <td>dinoflagellates; nannofossils; palynology</td>\n",
       "    </tr>\n",
       "    <tr>\n",
       "      <th>6</th>\n",
       "      <td>Foraminifera indet.</td>\n",
       "      <td>benthic_forams; dinoflagellates; palynology; p...</td>\n",
       "    </tr>\n",
       "    <tr>\n",
       "      <th>7</th>\n",
       "      <td>Globigerinoides ruber (white)</td>\n",
       "      <td>benthic_forams; planktic_forams</td>\n",
       "    </tr>\n",
       "    <tr>\n",
       "      <th>8</th>\n",
       "      <td>Lejeunecysta sp.</td>\n",
       "      <td>dinoflagellates; palynology</td>\n",
       "    </tr>\n",
       "    <tr>\n",
       "      <th>9</th>\n",
       "      <td>Neogloboquadrina humerosa</td>\n",
       "      <td>benthic_forams; planktic_forams</td>\n",
       "    </tr>\n",
       "    <tr>\n",
       "      <th>10</th>\n",
       "      <td>Selenopemphix nephroides</td>\n",
       "      <td>dinoflagellates; palynology</td>\n",
       "    </tr>\n",
       "  </tbody>\n",
       "</table>\n",
       "</div>"
      ],
      "text/plain": [
       "                  normalized_name  \\\n",
       "0                                   \n",
       "1      \"Amorphous organic matter\"   \n",
       "2             \"Black phytoclasts\"   \n",
       "3             \"Brown phytoclasts\"   \n",
       "4             Brigantedinium spp.   \n",
       "5           Dinoflagellata indet.   \n",
       "6             Foraminifera indet.   \n",
       "7   Globigerinoides ruber (white)   \n",
       "8                Lejeunecysta sp.   \n",
       "9       Neogloboquadrina humerosa   \n",
       "10       Selenopemphix nephroides   \n",
       "\n",
       "                                          taxon_group  \n",
       "0   benthic_forams; palynology; planktic_forams; r...  \n",
       "1                         dinoflagellates; palynology  \n",
       "2                         dinoflagellates; palynology  \n",
       "3                         dinoflagellates; palynology  \n",
       "4                         dinoflagellates; palynology  \n",
       "5           dinoflagellates; nannofossils; palynology  \n",
       "6   benthic_forams; dinoflagellates; palynology; p...  \n",
       "7                     benthic_forams; planktic_forams  \n",
       "8                         dinoflagellates; palynology  \n",
       "9                     benthic_forams; planktic_forams  \n",
       "10                        dinoflagellates; palynology  "
      ]
     },
     "execution_count": 152,
     "metadata": {},
     "output_type": "execute_result"
    }
   ],
   "source": [
    "df = check_taxa_by_groups(pi_file, 'normalized_name')\n",
    "df"
   ]
  },
  {
   "cell_type": "code",
   "execution_count": 154,
   "metadata": {},
   "outputs": [
    {
     "data": {
      "text/plain": [
       "True"
      ]
     },
     "execution_count": 154,
     "metadata": {},
     "output_type": "execute_result"
    }
   ],
   "source": [
    "len(df) == 11"
   ]
  },
  {
   "cell_type": "code",
   "execution_count": 155,
   "metadata": {},
   "outputs": [
    {
     "data": {
      "text/html": [
       "<div>\n",
       "<style scoped>\n",
       "    .dataframe tbody tr th:only-of-type {\n",
       "        vertical-align: middle;\n",
       "    }\n",
       "\n",
       "    .dataframe tbody tr th {\n",
       "        vertical-align: top;\n",
       "    }\n",
       "\n",
       "    .dataframe thead th {\n",
       "        text-align: right;\n",
       "    }\n",
       "</style>\n",
       "<table border=\"1\" class=\"dataframe\">\n",
       "  <thead>\n",
       "    <tr style=\"text-align: right;\">\n",
       "      <th></th>\n",
       "      <th>normalized_name</th>\n",
       "      <th>taxon_group</th>\n",
       "    </tr>\n",
       "  </thead>\n",
       "  <tbody>\n",
       "    <tr>\n",
       "      <th>0</th>\n",
       "      <td>\"Amorphous organic matter\"</td>\n",
       "      <td>dinoflagellates; palynology</td>\n",
       "    </tr>\n",
       "    <tr>\n",
       "      <th>1</th>\n",
       "      <td>\"Black phytoclasts\"</td>\n",
       "      <td>dinoflagellates; palynology</td>\n",
       "    </tr>\n",
       "    <tr>\n",
       "      <th>2</th>\n",
       "      <td>\"Brown phytoclasts\"</td>\n",
       "      <td>dinoflagellates; palynology</td>\n",
       "    </tr>\n",
       "    <tr>\n",
       "      <th>3</th>\n",
       "      <td>\"Fish teeth\"</td>\n",
       "      <td>other; planktic_forams</td>\n",
       "    </tr>\n",
       "    <tr>\n",
       "      <th>4</th>\n",
       "      <td>\"Otoliths\"</td>\n",
       "      <td>other; planktic_forams</td>\n",
       "    </tr>\n",
       "    <tr>\n",
       "      <th>5</th>\n",
       "      <td>Brigantedinium spp.</td>\n",
       "      <td>dinoflagellates; palynology</td>\n",
       "    </tr>\n",
       "    <tr>\n",
       "      <th>6</th>\n",
       "      <td>Bryozoa indet.</td>\n",
       "      <td>other; planktic_forams</td>\n",
       "    </tr>\n",
       "    <tr>\n",
       "      <th>7</th>\n",
       "      <td>Dinoflagellata indet.</td>\n",
       "      <td>dinoflagellates; nannofossils; palynology</td>\n",
       "    </tr>\n",
       "    <tr>\n",
       "      <th>8</th>\n",
       "      <td>Echinoidea indet.</td>\n",
       "      <td>other; planktic_forams</td>\n",
       "    </tr>\n",
       "    <tr>\n",
       "      <th>9</th>\n",
       "      <td>Foraminifera indet.</td>\n",
       "      <td>benthic_forams; dinoflagellates; palynology; p...</td>\n",
       "    </tr>\n",
       "    <tr>\n",
       "      <th>10</th>\n",
       "      <td>Globigerinoides ruber (white)</td>\n",
       "      <td>benthic_forams; planktic_forams</td>\n",
       "    </tr>\n",
       "    <tr>\n",
       "      <th>11</th>\n",
       "      <td>Impagidinium pallidum</td>\n",
       "      <td>palynology; dinoflagellates</td>\n",
       "    </tr>\n",
       "    <tr>\n",
       "      <th>12</th>\n",
       "      <td>Impagidinium patulum</td>\n",
       "      <td>palynology; dinoflagellates</td>\n",
       "    </tr>\n",
       "    <tr>\n",
       "      <th>13</th>\n",
       "      <td>Lejeunecysta sp.</td>\n",
       "      <td>dinoflagellates; palynology</td>\n",
       "    </tr>\n",
       "    <tr>\n",
       "      <th>14</th>\n",
       "      <td>Neogloboquadrina humerosa</td>\n",
       "      <td>benthic_forams; planktic_forams</td>\n",
       "    </tr>\n",
       "    <tr>\n",
       "      <th>15</th>\n",
       "      <td>Ostracoda indet.</td>\n",
       "      <td>benthic_forams; ostracods; other; planktic_forams</td>\n",
       "    </tr>\n",
       "    <tr>\n",
       "      <th>16</th>\n",
       "      <td>Radiolaria indet.</td>\n",
       "      <td>radiolarians; other; planktic_forams</td>\n",
       "    </tr>\n",
       "    <tr>\n",
       "      <th>17</th>\n",
       "      <td>Selenopemphix nephroides</td>\n",
       "      <td>dinoflagellates; palynology</td>\n",
       "    </tr>\n",
       "  </tbody>\n",
       "</table>\n",
       "</div>"
      ],
      "text/plain": [
       "                  normalized_name  \\\n",
       "0      \"Amorphous organic matter\"   \n",
       "1             \"Black phytoclasts\"   \n",
       "2             \"Brown phytoclasts\"   \n",
       "3                    \"Fish teeth\"   \n",
       "4                      \"Otoliths\"   \n",
       "5             Brigantedinium spp.   \n",
       "6                  Bryozoa indet.   \n",
       "7           Dinoflagellata indet.   \n",
       "8               Echinoidea indet.   \n",
       "9             Foraminifera indet.   \n",
       "10  Globigerinoides ruber (white)   \n",
       "11          Impagidinium pallidum   \n",
       "12           Impagidinium patulum   \n",
       "13               Lejeunecysta sp.   \n",
       "14      Neogloboquadrina humerosa   \n",
       "15               Ostracoda indet.   \n",
       "16              Radiolaria indet.   \n",
       "17       Selenopemphix nephroides   \n",
       "\n",
       "                                          taxon_group  \n",
       "0                         dinoflagellates; palynology  \n",
       "1                         dinoflagellates; palynology  \n",
       "2                         dinoflagellates; palynology  \n",
       "3                              other; planktic_forams  \n",
       "4                              other; planktic_forams  \n",
       "5                         dinoflagellates; palynology  \n",
       "6                              other; planktic_forams  \n",
       "7           dinoflagellates; nannofossils; palynology  \n",
       "8                              other; planktic_forams  \n",
       "9   benthic_forams; dinoflagellates; palynology; p...  \n",
       "10                    benthic_forams; planktic_forams  \n",
       "11                        palynology; dinoflagellates  \n",
       "12                        palynology; dinoflagellates  \n",
       "13                        dinoflagellates; palynology  \n",
       "14                    benthic_forams; planktic_forams  \n",
       "15  benthic_forams; ostracods; other; planktic_forams  \n",
       "16               radiolarians; other; planktic_forams  \n",
       "17                        dinoflagellates; palynology  "
      ]
     },
     "execution_count": 155,
     "metadata": {},
     "output_type": "execute_result"
    }
   ],
   "source": [
    "df = check_taxa_by_groups(taxa_list_file, 'normalized_name')\n",
    "df"
   ]
  },
  {
   "cell_type": "code",
   "execution_count": 156,
   "metadata": {},
   "outputs": [
    {
     "data": {
      "text/plain": [
       "True"
      ]
     },
     "execution_count": 156,
     "metadata": {},
     "output_type": "execute_result"
    }
   ],
   "source": [
    "len(df) == 18"
   ]
  },
  {
   "cell_type": "markdown",
   "metadata": {
    "tags": []
   },
   "source": [
    "# check if taxon group matches file name"
   ]
  },
  {
   "cell_type": "code",
   "execution_count": 105,
   "metadata": {},
   "outputs": [
    {
     "data": {
      "text/html": [
       "<div>\n",
       "<style scoped>\n",
       "    .dataframe tbody tr th:only-of-type {\n",
       "        vertical-align: middle;\n",
       "    }\n",
       "\n",
       "    .dataframe tbody tr th {\n",
       "        vertical-align: top;\n",
       "    }\n",
       "\n",
       "    .dataframe thead th {\n",
       "        text-align: right;\n",
       "    }\n",
       "</style>\n",
       "<table border=\"1\" class=\"dataframe\">\n",
       "  <thead>\n",
       "    <tr style=\"text-align: right;\">\n",
       "      <th></th>\n",
       "      <th>file</th>\n",
       "      <th>path</th>\n",
       "      <th>taxon_groups</th>\n",
       "      <th>change_file_encoding</th>\n",
       "      <th>remove_bad_characters</th>\n",
       "      <th>remove_empty_rows</th>\n",
       "      <th>remove_spaces</th>\n",
       "      <th>delete_duplicate_rows</th>\n",
       "      <th>delete_duplicate_columns</th>\n",
       "      <th>add_expedition_section_cols</th>\n",
       "      <th>update_sample_col</th>\n",
       "      <th>update_top_bottom</th>\n",
       "      <th>add_missing_cols</th>\n",
       "      <th>clean_up_taxa_values</th>\n",
       "      <th>clean_up_taxa_metadata_values</th>\n",
       "      <th>split_dextral_sinistral</th>\n",
       "      <th>update_group_abundances</th>\n",
       "    </tr>\n",
       "  </thead>\n",
       "  <tbody>\n",
       "    <tr>\n",
       "      <th>0</th>\n",
       "      <td>363-U1482A-Benthic_Forams.csv</td>\n",
       "      <td>LIMS/Micropal_CSV_1/363-U1482A-Benthic_Forams.csv</td>\n",
       "      <td>benthic_forams</td>\n",
       "      <td>False</td>\n",
       "      <td>False</td>\n",
       "      <td>False</td>\n",
       "      <td>True</td>\n",
       "      <td>False</td>\n",
       "      <td>False</td>\n",
       "      <td>True</td>\n",
       "      <td>False</td>\n",
       "      <td>False</td>\n",
       "      <td>False</td>\n",
       "      <td>False</td>\n",
       "      <td>True</td>\n",
       "      <td>False</td>\n",
       "      <td>True</td>\n",
       "    </tr>\n",
       "    <tr>\n",
       "      <th>1</th>\n",
       "      <td>320_U1336A_Nannofossils_2.csv</td>\n",
       "      <td>LIMS/Micropal_CSV_1/320_U1336A_Nannofossils_2.csv</td>\n",
       "      <td>nannofossils</td>\n",
       "      <td>False</td>\n",
       "      <td>False</td>\n",
       "      <td>False</td>\n",
       "      <td>True</td>\n",
       "      <td>False</td>\n",
       "      <td>False</td>\n",
       "      <td>False</td>\n",
       "      <td>True</td>\n",
       "      <td>False</td>\n",
       "      <td>False</td>\n",
       "      <td>False</td>\n",
       "      <td>False</td>\n",
       "      <td>False</td>\n",
       "      <td>True</td>\n",
       "    </tr>\n",
       "    <tr>\n",
       "      <th>2</th>\n",
       "      <td>375_U1518F_planktic_forams.csv</td>\n",
       "      <td>LIMS/Micropal_CSV_1/375_U1518F_planktic_forams...</td>\n",
       "      <td>planktic_forams</td>\n",
       "      <td>False</td>\n",
       "      <td>False</td>\n",
       "      <td>False</td>\n",
       "      <td>True</td>\n",
       "      <td>False</td>\n",
       "      <td>False</td>\n",
       "      <td>True</td>\n",
       "      <td>False</td>\n",
       "      <td>False</td>\n",
       "      <td>False</td>\n",
       "      <td>False</td>\n",
       "      <td>False</td>\n",
       "      <td>False</td>\n",
       "      <td>True</td>\n",
       "    </tr>\n",
       "    <tr>\n",
       "      <th>3</th>\n",
       "      <td>320_U1334A_Nannofossils_1.csv</td>\n",
       "      <td>LIMS/Micropal_CSV_1/320_U1334A_Nannofossils_1.csv</td>\n",
       "      <td>nannofossils</td>\n",
       "      <td>False</td>\n",
       "      <td>False</td>\n",
       "      <td>False</td>\n",
       "      <td>True</td>\n",
       "      <td>False</td>\n",
       "      <td>False</td>\n",
       "      <td>False</td>\n",
       "      <td>True</td>\n",
       "      <td>False</td>\n",
       "      <td>False</td>\n",
       "      <td>False</td>\n",
       "      <td>False</td>\n",
       "      <td>False</td>\n",
       "      <td>True</td>\n",
       "    </tr>\n",
       "    <tr>\n",
       "      <th>4</th>\n",
       "      <td>318_U1358B_Palynology.csv</td>\n",
       "      <td>LIMS/Micropal_CSV_1/318_U1358B_Palynology.csv</td>\n",
       "      <td>palynology</td>\n",
       "      <td>False</td>\n",
       "      <td>False</td>\n",
       "      <td>False</td>\n",
       "      <td>False</td>\n",
       "      <td>False</td>\n",
       "      <td>False</td>\n",
       "      <td>False</td>\n",
       "      <td>True</td>\n",
       "      <td>False</td>\n",
       "      <td>False</td>\n",
       "      <td>False</td>\n",
       "      <td>False</td>\n",
       "      <td>False</td>\n",
       "      <td>False</td>\n",
       "    </tr>\n",
       "  </tbody>\n",
       "</table>\n",
       "</div>"
      ],
      "text/plain": [
       "                             file  \\\n",
       "0   363-U1482A-Benthic_Forams.csv   \n",
       "1   320_U1336A_Nannofossils_2.csv   \n",
       "2  375_U1518F_planktic_forams.csv   \n",
       "3   320_U1334A_Nannofossils_1.csv   \n",
       "4       318_U1358B_Palynology.csv   \n",
       "\n",
       "                                                path     taxon_groups  \\\n",
       "0  LIMS/Micropal_CSV_1/363-U1482A-Benthic_Forams.csv   benthic_forams   \n",
       "1  LIMS/Micropal_CSV_1/320_U1336A_Nannofossils_2.csv     nannofossils   \n",
       "2  LIMS/Micropal_CSV_1/375_U1518F_planktic_forams...  planktic_forams   \n",
       "3  LIMS/Micropal_CSV_1/320_U1334A_Nannofossils_1.csv     nannofossils   \n",
       "4      LIMS/Micropal_CSV_1/318_U1358B_Palynology.csv       palynology   \n",
       "\n",
       "   change_file_encoding  remove_bad_characters  remove_empty_rows  \\\n",
       "0                 False                  False              False   \n",
       "1                 False                  False              False   \n",
       "2                 False                  False              False   \n",
       "3                 False                  False              False   \n",
       "4                 False                  False              False   \n",
       "\n",
       "   remove_spaces  delete_duplicate_rows  delete_duplicate_columns  \\\n",
       "0           True                  False                     False   \n",
       "1           True                  False                     False   \n",
       "2           True                  False                     False   \n",
       "3           True                  False                     False   \n",
       "4          False                  False                     False   \n",
       "\n",
       "   add_expedition_section_cols  update_sample_col  update_top_bottom  \\\n",
       "0                         True              False              False   \n",
       "1                        False               True              False   \n",
       "2                         True              False              False   \n",
       "3                        False               True              False   \n",
       "4                        False               True              False   \n",
       "\n",
       "   add_missing_cols  clean_up_taxa_values  clean_up_taxa_metadata_values  \\\n",
       "0             False                 False                           True   \n",
       "1             False                 False                          False   \n",
       "2             False                 False                          False   \n",
       "3             False                 False                          False   \n",
       "4             False                 False                          False   \n",
       "\n",
       "   split_dextral_sinistral  update_group_abundances  \n",
       "0                    False                     True  \n",
       "1                    False                     True  \n",
       "2                    False                     True  \n",
       "3                    False                     True  \n",
       "4                    False                    False  "
      ]
     },
     "execution_count": 105,
     "metadata": {},
     "output_type": "execute_result"
    }
   ],
   "source": [
    "metadata = pd.read_csv(metadata_file)\n",
    "metadata.head()"
   ]
  },
  {
   "cell_type": "code",
   "execution_count": 106,
   "metadata": {},
   "outputs": [
    {
     "name": "stdout",
     "output_type": "stream",
     "text": [
      "(5368, 2)\n"
     ]
    },
    {
     "data": {
      "text/html": [
       "<div>\n",
       "<style scoped>\n",
       "    .dataframe tbody tr th:only-of-type {\n",
       "        vertical-align: middle;\n",
       "    }\n",
       "\n",
       "    .dataframe tbody tr th {\n",
       "        vertical-align: top;\n",
       "    }\n",
       "\n",
       "    .dataframe thead th {\n",
       "        text-align: right;\n",
       "    }\n",
       "</style>\n",
       "<table border=\"1\" class=\"dataframe\">\n",
       "  <thead>\n",
       "    <tr style=\"text-align: right;\">\n",
       "      <th></th>\n",
       "      <th>verbatim_name</th>\n",
       "      <th>taxon_group</th>\n",
       "    </tr>\n",
       "  </thead>\n",
       "  <tbody>\n",
       "    <tr>\n",
       "      <th>0</th>\n",
       "      <td>\"Globigerina\" angulisuturalis _T</td>\n",
       "      <td>planktic_forams</td>\n",
       "    </tr>\n",
       "    <tr>\n",
       "      <th>1</th>\n",
       "      <td>\"Globigerina\" angulisuturalis _T_</td>\n",
       "      <td>planktic_forams</td>\n",
       "    </tr>\n",
       "    <tr>\n",
       "      <th>2</th>\n",
       "      <td>\"Globigerina\" ciperoensis _T</td>\n",
       "      <td>planktic_forams</td>\n",
       "    </tr>\n",
       "    <tr>\n",
       "      <th>3</th>\n",
       "      <td>\"Globigerina\" ciperoensis _T_</td>\n",
       "      <td>planktic_forams</td>\n",
       "    </tr>\n",
       "    <tr>\n",
       "      <th>4</th>\n",
       "      <td>\"Skeletonema\" utriculosa</td>\n",
       "      <td>diatoms</td>\n",
       "    </tr>\n",
       "  </tbody>\n",
       "</table>\n",
       "</div>"
      ],
      "text/plain": [
       "                       verbatim_name      taxon_group\n",
       "0   \"Globigerina\" angulisuturalis _T  planktic_forams\n",
       "1  \"Globigerina\" angulisuturalis _T_  planktic_forams\n",
       "2       \"Globigerina\" ciperoensis _T  planktic_forams\n",
       "3      \"Globigerina\" ciperoensis _T_  planktic_forams\n",
       "4           \"Skeletonema\" utriculosa          diatoms"
      ]
     },
     "execution_count": 106,
     "metadata": {},
     "output_type": "execute_result"
    }
   ],
   "source": [
    "taxa_df = pd.read_csv(taxa_crosswalk_list_file)\n",
    "\n",
    "data = taxa_df.groupby(['verbatim_name'])['taxon_group'].apply('; '.join)\n",
    "grouped_df = pd.DataFrame(data)\n",
    "grouped_df.reset_index(inplace=True)\n",
    "\n",
    "log_df(grouped_df)"
   ]
  },
  {
   "cell_type": "code",
   "execution_count": 107,
   "metadata": {},
   "outputs": [
    {
     "data": {
      "text/html": [
       "<div>\n",
       "<style scoped>\n",
       "    .dataframe tbody tr th:only-of-type {\n",
       "        vertical-align: middle;\n",
       "    }\n",
       "\n",
       "    .dataframe tbody tr th {\n",
       "        vertical-align: top;\n",
       "    }\n",
       "\n",
       "    .dataframe thead th {\n",
       "        text-align: right;\n",
       "    }\n",
       "</style>\n",
       "<table border=\"1\" class=\"dataframe\">\n",
       "  <thead>\n",
       "    <tr style=\"text-align: right;\">\n",
       "      <th></th>\n",
       "      <th>verbatim_name</th>\n",
       "      <th>taxon_group</th>\n",
       "    </tr>\n",
       "  </thead>\n",
       "  <tbody>\n",
       "    <tr>\n",
       "      <th>2164</th>\n",
       "      <td>Globigerinoides ruber (white)</td>\n",
       "      <td>benthic_forams; planktic_forams</td>\n",
       "    </tr>\n",
       "  </tbody>\n",
       "</table>\n",
       "</div>"
      ],
      "text/plain": [
       "                      verbatim_name                      taxon_group\n",
       "2164  Globigerinoides ruber (white)  benthic_forams; planktic_forams"
      ]
     },
     "execution_count": 107,
     "metadata": {},
     "output_type": "execute_result"
    }
   ],
   "source": [
    "grouped_df[grouped_df['verbatim_name']=='Globigerinoides ruber (white)']"
   ]
  },
  {
   "cell_type": "code",
   "execution_count": 108,
   "metadata": {},
   "outputs": [
    {
     "data": {
      "text/html": [
       "<div>\n",
       "<style scoped>\n",
       "    .dataframe tbody tr th:only-of-type {\n",
       "        vertical-align: middle;\n",
       "    }\n",
       "\n",
       "    .dataframe tbody tr th {\n",
       "        vertical-align: top;\n",
       "    }\n",
       "\n",
       "    .dataframe thead th {\n",
       "        text-align: right;\n",
       "    }\n",
       "</style>\n",
       "<table border=\"1\" class=\"dataframe\">\n",
       "  <thead>\n",
       "    <tr style=\"text-align: right;\">\n",
       "      <th></th>\n",
       "      <th>verbatim_name</th>\n",
       "      <th>taxon_group</th>\n",
       "    </tr>\n",
       "  </thead>\n",
       "  <tbody>\n",
       "    <tr>\n",
       "      <th>4764</th>\n",
       "      <td>Tenuitella gemma</td>\n",
       "      <td>planktic_forams</td>\n",
       "    </tr>\n",
       "  </tbody>\n",
       "</table>\n",
       "</div>"
      ],
      "text/plain": [
       "         verbatim_name      taxon_group\n",
       "4764  Tenuitella gemma  planktic_forams"
      ]
     },
     "execution_count": 108,
     "metadata": {},
     "output_type": "execute_result"
    }
   ],
   "source": [
    "grouped_df[grouped_df['verbatim_name']=='Tenuitella gemma']"
   ]
  },
  {
   "cell_type": "code",
   "execution_count": 109,
   "metadata": {},
   "outputs": [],
   "source": [
    "taxa_dict = {}\n",
    "for index, row in grouped_df.iterrows():\n",
    "    if row['verbatim_name'] not in taxa_dict:\n",
    "        taxa_dict[row['verbatim_name']] = row['taxon_group']"
   ]
  },
  {
   "cell_type": "code",
   "execution_count": 110,
   "metadata": {},
   "outputs": [
    {
     "data": {
      "text/plain": [
       "'benthic_forams; planktic_forams'"
      ]
     },
     "execution_count": 110,
     "metadata": {},
     "output_type": "execute_result"
    }
   ],
   "source": [
    "taxa_dict['Globigerinoides ruber (white)']"
   ]
  },
  {
   "cell_type": "code",
   "execution_count": 111,
   "metadata": {},
   "outputs": [
    {
     "data": {
      "text/plain": [
       "'planktic_forams'"
      ]
     },
     "execution_count": 111,
     "metadata": {},
     "output_type": "execute_result"
    }
   ],
   "source": [
    "taxa_dict['Tenuitella gemma']"
   ]
  },
  {
   "cell_type": "markdown",
   "metadata": {},
   "source": [
    "check if file taxon group is not in PI vetted taxon groups"
   ]
  },
  {
   "cell_type": "code",
   "execution_count": 112,
   "metadata": {},
   "outputs": [],
   "source": [
    "data = []\n",
    "all_taxa = taxa_df['verbatim_name']\n",
    "\n",
    "for index, row in metadata.iterrows():\n",
    "    # if index > 300:\n",
    "    #     continue\n",
    "        \n",
    "    file_taxon_group = row['taxon_groups']\n",
    "\n",
    "    df = pd.read_csv(CLEAN_DATA_DIR/row['path'])\n",
    "    df = df.dropna(how='all', axis=1)\n",
    "\n",
    "    taxa = set(df.columns).intersection(all_taxa)\n",
    "    for taxon in taxa:\n",
    "        if file_taxon_group not in taxa_dict[taxon] :\n",
    "            name = taxa_df[taxa_df['verbatim_name'] == taxon]['normalized_name'].values[0]\n",
    "            \n",
    "            attr = {\n",
    "                \"verbatim_name\": taxon, \n",
    "                \"name\": name,\n",
    "                \"file_taxon_group\": file_taxon_group,\n",
    "                \"taxon_group\": taxa_dict[taxon],\n",
    "                \"path\": row['path']\n",
    "            }\n",
    "            data.append(attr)\n"
   ]
  },
  {
   "cell_type": "code",
   "execution_count": 113,
   "metadata": {},
   "outputs": [
    {
     "data": {
      "text/plain": [
       "(219, 5)"
      ]
     },
     "execution_count": 113,
     "metadata": {},
     "output_type": "execute_result"
    }
   ],
   "source": [
    "report_df = pd.DataFrame(data)\n",
    "report_df.sort_values(by=['name', 'taxon_group'], inplace=True)\n",
    "report_df.shape"
   ]
  },
  {
   "cell_type": "code",
   "execution_count": 114,
   "metadata": {},
   "outputs": [
    {
     "name": "stdout",
     "output_type": "stream",
     "text": [
      "(160, 5)\n"
     ]
    },
    {
     "data": {
      "text/html": [
       "<div>\n",
       "<style scoped>\n",
       "    .dataframe tbody tr th:only-of-type {\n",
       "        vertical-align: middle;\n",
       "    }\n",
       "\n",
       "    .dataframe tbody tr th {\n",
       "        vertical-align: top;\n",
       "    }\n",
       "\n",
       "    .dataframe thead th {\n",
       "        text-align: right;\n",
       "    }\n",
       "</style>\n",
       "<table border=\"1\" class=\"dataframe\">\n",
       "  <thead>\n",
       "    <tr style=\"text-align: right;\">\n",
       "      <th></th>\n",
       "      <th>verbatim_name</th>\n",
       "      <th>name</th>\n",
       "      <th>file_taxon_group</th>\n",
       "      <th>taxon_group</th>\n",
       "      <th>path</th>\n",
       "    </tr>\n",
       "  </thead>\n",
       "  <tbody>\n",
       "    <tr>\n",
       "      <th>118</th>\n",
       "      <td>Challengeria spp.</td>\n",
       "      <td>\"Challengeria spp.\"</td>\n",
       "      <td>benthic_forams</td>\n",
       "      <td>radiolarians</td>\n",
       "      <td>LIMS/Micropal_CSV_2/356-U1462C_benthic_forams.csv</td>\n",
       "    </tr>\n",
       "    <tr>\n",
       "      <th>98</th>\n",
       "      <td>Acritarchs</td>\n",
       "      <td>Acritarcha indet.</td>\n",
       "      <td>palynology</td>\n",
       "      <td>dinoflagellates</td>\n",
       "      <td>LIMS/Micropal_CSV_2/374_U1522A_palynology.csv</td>\n",
       "    </tr>\n",
       "    <tr>\n",
       "      <th>95</th>\n",
       "      <td>Actiniscus pentasterias</td>\n",
       "      <td>Actiniscus pentasterias</td>\n",
       "      <td>diatoms</td>\n",
       "      <td>dinoflagellates</td>\n",
       "      <td>LIMS/Micropal_CSV_2/374_U1525A_diatoms.csv</td>\n",
       "    </tr>\n",
       "    <tr>\n",
       "      <th>39</th>\n",
       "      <td>Amaurolithus delicatus</td>\n",
       "      <td>Amaurolithus delicatus</td>\n",
       "      <td>diatoms</td>\n",
       "      <td>nannofossils</td>\n",
       "      <td>LIMS/Micropal_CSV_2/368_U1505D_diatoms.csv</td>\n",
       "    </tr>\n",
       "    <tr>\n",
       "      <th>27</th>\n",
       "      <td>Amaurolithus primus</td>\n",
       "      <td>Amaurolithus primus</td>\n",
       "      <td>diatoms</td>\n",
       "      <td>nannofossils</td>\n",
       "      <td>LIMS/Micropal_CSV_2/368_U1505D_diatoms.csv</td>\n",
       "    </tr>\n",
       "  </tbody>\n",
       "</table>\n",
       "</div>"
      ],
      "text/plain": [
       "               verbatim_name                     name file_taxon_group  \\\n",
       "118        Challengeria spp.      \"Challengeria spp.\"   benthic_forams   \n",
       "98                Acritarchs        Acritarcha indet.       palynology   \n",
       "95   Actiniscus pentasterias  Actiniscus pentasterias          diatoms   \n",
       "39    Amaurolithus delicatus   Amaurolithus delicatus          diatoms   \n",
       "27       Amaurolithus primus      Amaurolithus primus          diatoms   \n",
       "\n",
       "         taxon_group                                               path  \n",
       "118     radiolarians  LIMS/Micropal_CSV_2/356-U1462C_benthic_forams.csv  \n",
       "98   dinoflagellates      LIMS/Micropal_CSV_2/374_U1522A_palynology.csv  \n",
       "95   dinoflagellates         LIMS/Micropal_CSV_2/374_U1525A_diatoms.csv  \n",
       "39      nannofossils         LIMS/Micropal_CSV_2/368_U1505D_diatoms.csv  \n",
       "27      nannofossils         LIMS/Micropal_CSV_2/368_U1505D_diatoms.csv  "
      ]
     },
     "execution_count": 114,
     "metadata": {},
     "output_type": "execute_result"
    }
   ],
   "source": [
    "cols = ['verbatim_name', 'name', 'file_taxon_group', 'taxon_group']\n",
    "report_df.drop_duplicates(subset=cols, inplace=True)\n",
    "log_df(report_df)\n",
    "\n",
    "# 160"
   ]
  },
  {
   "cell_type": "code",
   "execution_count": 115,
   "metadata": {},
   "outputs": [
    {
     "data": {
      "text/plain": [
       "True"
      ]
     },
     "execution_count": 115,
     "metadata": {},
     "output_type": "execute_result"
    }
   ],
   "source": [
    "len(report_df) == 160"
   ]
  },
  {
   "cell_type": "markdown",
   "metadata": {},
   "source": [
    "check if file taxon group is not in PI vetted taxon groups when multiple taxon groups"
   ]
  },
  {
   "cell_type": "code",
   "execution_count": 116,
   "metadata": {},
   "outputs": [
    {
     "name": "stdout",
     "output_type": "stream",
     "text": [
      "0\n"
     ]
    }
   ],
   "source": [
    "data = []\n",
    "all_taxa = taxa_df['verbatim_name']\n",
    "\n",
    "for index, row in metadata.iterrows():\n",
    "        \n",
    "    file_taxon_group = row['taxon_groups']\n",
    "\n",
    "    df = pd.read_csv(CLEAN_DATA_DIR/row['path'])\n",
    "    df = df.dropna(how='all', axis=1)\n",
    "\n",
    "    taxa = set(df.columns).intersection(all_taxa)\n",
    "    for taxon in taxa:\n",
    "        if file_taxon_group not in taxa_dict[taxon] and ';' in taxa_dict[taxon]:\n",
    "            name = taxa_df[taxa_df['verbatim_name'] == taxon]['normalized_name'].values[0]\n",
    "            \n",
    "            attr = {\n",
    "                \"verbatim_name\": taxon, \n",
    "                \"name\": name,\n",
    "                \"file_taxon_group\": file_taxon_group,\n",
    "                \"taxon_group\": taxa_dict[taxon],\n",
    "                \"path\": row['path']\n",
    "            }\n",
    "            data.append(attr)\n",
    "\n",
    "print(len(data))"
   ]
  },
  {
   "cell_type": "code",
   "execution_count": 117,
   "metadata": {},
   "outputs": [
    {
     "data": {
      "text/plain": [
       "True"
      ]
     },
     "execution_count": 117,
     "metadata": {},
     "output_type": "execute_result"
    }
   ],
   "source": [
    "len(data) == 0"
   ]
  },
  {
   "cell_type": "markdown",
   "metadata": {},
   "source": [
    "# create file of all taxa samples that should be imported"
   ]
  },
  {
   "cell_type": "code",
   "execution_count": 95,
   "metadata": {},
   "outputs": [
    {
     "name": "stdout",
     "output_type": "stream",
     "text": [
      "(5380, 18)\n"
     ]
    },
    {
     "data": {
      "text/html": [
       "<div>\n",
       "<style scoped>\n",
       "    .dataframe tbody tr th:only-of-type {\n",
       "        vertical-align: middle;\n",
       "    }\n",
       "\n",
       "    .dataframe tbody tr th {\n",
       "        vertical-align: top;\n",
       "    }\n",
       "\n",
       "    .dataframe thead th {\n",
       "        text-align: right;\n",
       "    }\n",
       "</style>\n",
       "<table border=\"1\" class=\"dataframe\">\n",
       "  <thead>\n",
       "    <tr style=\"text-align: right;\">\n",
       "      <th></th>\n",
       "      <th>Any taxon above genus</th>\n",
       "      <th>genus modifier</th>\n",
       "      <th>genus name</th>\n",
       "      <th>subgenera modifier</th>\n",
       "      <th>subgenera name</th>\n",
       "      <th>species modifier</th>\n",
       "      <th>species name</th>\n",
       "      <th>subspecies modifier</th>\n",
       "      <th>subspecies name</th>\n",
       "      <th>non-taxa descriptor</th>\n",
       "      <th>normalized_name</th>\n",
       "      <th>taxon_group</th>\n",
       "      <th>verbatim_name</th>\n",
       "      <th>name comment field</th>\n",
       "      <th>Comment</th>\n",
       "      <th>Notes (change to Internal only notes?)</th>\n",
       "      <th>comments</th>\n",
       "      <th>eodp_id</th>\n",
       "    </tr>\n",
       "  </thead>\n",
       "  <tbody>\n",
       "    <tr>\n",
       "      <th>0</th>\n",
       "      <td>NaN</td>\n",
       "      <td>NaN</td>\n",
       "      <td>Euuvigerina</td>\n",
       "      <td>NaN</td>\n",
       "      <td>NaN</td>\n",
       "      <td>NaN</td>\n",
       "      <td>miozea</td>\n",
       "      <td>NaN</td>\n",
       "      <td>NaN</td>\n",
       "      <td>NaN</td>\n",
       "      <td>Euuvigerina miozea</td>\n",
       "      <td>benthic_forams</td>\n",
       "      <td>Euuvigerina miozea (group) &gt;100 m</td>\n",
       "      <td>NaN</td>\n",
       "      <td>group</td>\n",
       "      <td>Summer 2020: enter \"Euuvigerina miozea\" and re...</td>\n",
       "      <td>&gt;100 m group</td>\n",
       "      <td>0</td>\n",
       "    </tr>\n",
       "    <tr>\n",
       "      <th>1</th>\n",
       "      <td>NaN</td>\n",
       "      <td>NaN</td>\n",
       "      <td>Euuvigerina</td>\n",
       "      <td>NaN</td>\n",
       "      <td>NaN</td>\n",
       "      <td>NaN</td>\n",
       "      <td>rodleyi</td>\n",
       "      <td>NaN</td>\n",
       "      <td>NaN</td>\n",
       "      <td>NaN</td>\n",
       "      <td>Euuvigerina rodleyi</td>\n",
       "      <td>benthic_forams</td>\n",
       "      <td>Euuvigerina rodleyi (group) &gt;50 m</td>\n",
       "      <td>NaN</td>\n",
       "      <td>group</td>\n",
       "      <td>Summer 2020: enter \"Euuvigerina miozea\" and re...</td>\n",
       "      <td>&gt;50 m group</td>\n",
       "      <td>1</td>\n",
       "    </tr>\n",
       "    <tr>\n",
       "      <th>2</th>\n",
       "      <td>Foraminifera indet.</td>\n",
       "      <td>NaN</td>\n",
       "      <td>NaN</td>\n",
       "      <td>NaN</td>\n",
       "      <td>NaN</td>\n",
       "      <td>NaN</td>\n",
       "      <td>NaN</td>\n",
       "      <td>NaN</td>\n",
       "      <td>NaN</td>\n",
       "      <td>NaN</td>\n",
       "      <td>Foraminifera indet.</td>\n",
       "      <td>benthic_forams</td>\n",
       "      <td>Others</td>\n",
       "      <td>NaN</td>\n",
       "      <td>not a taxa</td>\n",
       "      <td>Andy</td>\n",
       "      <td>other benthic foraminifera</td>\n",
       "      <td>2</td>\n",
       "    </tr>\n",
       "    <tr>\n",
       "      <th>3</th>\n",
       "      <td>Pleurostomellidae indet.</td>\n",
       "      <td>NaN</td>\n",
       "      <td>NaN</td>\n",
       "      <td>NaN</td>\n",
       "      <td>NaN</td>\n",
       "      <td>NaN</td>\n",
       "      <td>NaN</td>\n",
       "      <td>NaN</td>\n",
       "      <td>NaN</td>\n",
       "      <td>NaN</td>\n",
       "      <td>Pleurostomellidae indet.</td>\n",
       "      <td>benthic_forams</td>\n",
       "      <td>Pleurostomellids comment</td>\n",
       "      <td>NaN</td>\n",
       "      <td>not a taxa</td>\n",
       "      <td>Andy</td>\n",
       "      <td>NaN</td>\n",
       "      <td>3</td>\n",
       "    </tr>\n",
       "    <tr>\n",
       "      <th>4</th>\n",
       "      <td>Ostracoda indet.</td>\n",
       "      <td>NaN</td>\n",
       "      <td>NaN</td>\n",
       "      <td>NaN</td>\n",
       "      <td>NaN</td>\n",
       "      <td>NaN</td>\n",
       "      <td>NaN</td>\n",
       "      <td>NaN</td>\n",
       "      <td>NaN</td>\n",
       "      <td>NaN</td>\n",
       "      <td>Ostracoda indet.</td>\n",
       "      <td>benthic_forams</td>\n",
       "      <td>Ostracoda spp.</td>\n",
       "      <td>Ostracoda spp.</td>\n",
       "      <td>group abundance</td>\n",
       "      <td>Summer 2020: go in as Ostracoda indet, and the...</td>\n",
       "      <td>NaN</td>\n",
       "      <td>4</td>\n",
       "    </tr>\n",
       "  </tbody>\n",
       "</table>\n",
       "</div>"
      ],
      "text/plain": [
       "      Any taxon above genus genus modifier   genus name subgenera modifier  \\\n",
       "0                       NaN            NaN  Euuvigerina                NaN   \n",
       "1                       NaN            NaN  Euuvigerina                NaN   \n",
       "2       Foraminifera indet.            NaN          NaN                NaN   \n",
       "3  Pleurostomellidae indet.            NaN          NaN                NaN   \n",
       "4          Ostracoda indet.            NaN          NaN                NaN   \n",
       "\n",
       "  subgenera name species modifier species name subspecies modifier  \\\n",
       "0            NaN              NaN       miozea                 NaN   \n",
       "1            NaN              NaN      rodleyi                 NaN   \n",
       "2            NaN              NaN          NaN                 NaN   \n",
       "3            NaN              NaN          NaN                 NaN   \n",
       "4            NaN              NaN          NaN                 NaN   \n",
       "\n",
       "  subspecies name non-taxa descriptor           normalized_name  \\\n",
       "0             NaN                 NaN        Euuvigerina miozea   \n",
       "1             NaN                 NaN       Euuvigerina rodleyi   \n",
       "2             NaN                 NaN       Foraminifera indet.   \n",
       "3             NaN                 NaN  Pleurostomellidae indet.   \n",
       "4             NaN                 NaN          Ostracoda indet.   \n",
       "\n",
       "      taxon_group                      verbatim_name name comment field  \\\n",
       "0  benthic_forams  Euuvigerina miozea (group) >100 m                NaN   \n",
       "1  benthic_forams  Euuvigerina rodleyi (group) >50 m                NaN   \n",
       "2  benthic_forams                             Others                NaN   \n",
       "3  benthic_forams           Pleurostomellids comment                NaN   \n",
       "4  benthic_forams                     Ostracoda spp.     Ostracoda spp.   \n",
       "\n",
       "           Comment             Notes (change to Internal only notes?)  \\\n",
       "0            group  Summer 2020: enter \"Euuvigerina miozea\" and re...   \n",
       "1            group  Summer 2020: enter \"Euuvigerina miozea\" and re...   \n",
       "2       not a taxa                                               Andy   \n",
       "3       not a taxa                                               Andy   \n",
       "4  group abundance  Summer 2020: go in as Ostracoda indet, and the...   \n",
       "\n",
       "                     comments  eodp_id  \n",
       "0                >100 m group        0  \n",
       "1                 >50 m group        1  \n",
       "2  other benthic foraminifera        2  \n",
       "3                         NaN        3  \n",
       "4                         NaN        4  "
      ]
     },
     "execution_count": 95,
     "metadata": {},
     "output_type": "execute_result"
    }
   ],
   "source": [
    "taxa_df = pd.read_csv(taxa_crosswalk_list_file)\n",
    "log_df(taxa_df)\n"
   ]
  },
  {
   "cell_type": "code",
   "execution_count": 96,
   "metadata": {},
   "outputs": [],
   "source": [
    "taxa_names = set(taxa_df['normalized_name'])\n",
    "verbatim_names = set(taxa_df['verbatim_name'])"
   ]
  },
  {
   "cell_type": "code",
   "execution_count": 97,
   "metadata": {},
   "outputs": [
    {
     "data": {
      "text/plain": [
       "5368"
      ]
     },
     "execution_count": 97,
     "metadata": {},
     "output_type": "execute_result"
    }
   ],
   "source": [
    "taxa = {}\n",
    "for index, row in taxa_df.iterrows():\n",
    "    taxa[row['verbatim_name']] = row['normalized_name']\n",
    "    \n",
    "len(taxa)"
   ]
  },
  {
   "cell_type": "code",
   "execution_count": 99,
   "metadata": {},
   "outputs": [],
   "source": [
    "data = []\n",
    "for clean_data_path in clean_data_paths:\n",
    "    \n",
    "    raw_csvs = glob.glob(f\"{clean_data_path}/*.csv\")\n",
    "    \n",
    "    for csv in raw_csvs:\n",
    "        # print(csv)\n",
    "        df = pd.read_csv(csv, dtype=str)\n",
    "        file_verbatim_names = set(df.columns).intersection(verbatim_names)\n",
    "        for index, row in df.iterrows():\n",
    "            for v_name in file_verbatim_names:\n",
    "                if pd.notna(row[v_name]):\n",
    "         \n",
    "                    data.append({\n",
    "                        'sample': row['Sample'], \n",
    "                         'verbatim_name': v_name, \n",
    "                         'name': taxa[v_name], \n",
    "                         'code': row[v_name], \n",
    "                         'path': csv.split('../../output/cleaned_data/')[1]\n",
    "                    })"
   ]
  },
  {
   "cell_type": "code",
   "execution_count": 100,
   "metadata": {},
   "outputs": [
    {
     "data": {
      "text/plain": [
       "312548"
      ]
     },
     "execution_count": 100,
     "metadata": {},
     "output_type": "execute_result"
    }
   ],
   "source": [
    "len(data)"
   ]
  },
  {
   "cell_type": "code",
   "execution_count": 118,
   "metadata": {},
   "outputs": [],
   "source": [
    "all_records = pd.DataFrame(data)\n",
    "all_records.to_csv(OUTPUT_DIR/'tmp'/'all_taxa_samples.csv', index=False)"
   ]
  },
  {
   "cell_type": "markdown",
   "metadata": {},
   "source": [
    "compare all_records with what was imported"
   ]
  },
  {
   "cell_type": "code",
   "execution_count": 158,
   "metadata": {},
   "outputs": [],
   "source": [
    "sql = \"\"\"\n",
    "CREATE TABLE tmp_samples_taxa (\n",
    "    id SERIAL PRIMARY KEY,\n",
    "    sample character varying,\n",
    "    verbatim_name character varying,\n",
    "    name character varying,\n",
    "    code character varying,\n",
    "    path text\n",
    ");\n",
    "\"\"\"\n",
    "\n",
    "\n",
    "sql = \"\"\" \n",
    "select sample, verbatim_name, name, code, path from tmp_samples_taxa\n",
    "\n",
    "except\n",
    "\n",
    "select samples.name as sample_name, taxa_crosswalk.verbatim_name, \n",
    "taxa.name,  samples_taxa.code, \n",
    "samples_taxa.data_source_notes as path\n",
    "from samples_taxa\n",
    "join samples on samples.id = samples_taxa.sample_id\n",
    "join taxa on taxa.id = samples_taxa.taxon_id\n",
    "join taxa_crosswalk on taxa_crosswalk.id = samples_taxa.original_taxon_id\n",
    ";\n",
    "\"\"\""
   ]
  },
  {
   "cell_type": "markdown",
   "metadata": {},
   "source": [
    "# create file of all field samples that should be imported"
   ]
  },
  {
   "cell_type": "code",
   "execution_count": 12,
   "metadata": {},
   "outputs": [
    {
     "name": "stdout",
     "output_type": "stream",
     "text": [
      "(144, 4)\n"
     ]
    },
    {
     "data": {
      "text/html": [
       "<div>\n",
       "<style scoped>\n",
       "    .dataframe tbody tr th:only-of-type {\n",
       "        vertical-align: middle;\n",
       "    }\n",
       "\n",
       "    .dataframe tbody tr th {\n",
       "        vertical-align: top;\n",
       "    }\n",
       "\n",
       "    .dataframe thead th {\n",
       "        text-align: right;\n",
       "    }\n",
       "</style>\n",
       "<table border=\"1\" class=\"dataframe\">\n",
       "  <thead>\n",
       "    <tr style=\"text-align: right;\">\n",
       "      <th></th>\n",
       "      <th>original_name</th>\n",
       "      <th>name</th>\n",
       "      <th>dataset</th>\n",
       "      <th>dataset_type</th>\n",
       "    </tr>\n",
       "  </thead>\n",
       "  <tbody>\n",
       "    <tr>\n",
       "      <th>0</th>\n",
       "      <td>Top Offset (cm) on Parent Sample</td>\n",
       "      <td>Top Offset (cm) on Parent Sample</td>\n",
       "      <td>LIMS</td>\n",
       "      <td>taxa</td>\n",
       "    </tr>\n",
       "    <tr>\n",
       "      <th>1</th>\n",
       "      <td>Bottom Offset (cm) on Parent Sample</td>\n",
       "      <td>Bottom Offset (cm) on Parent Sample</td>\n",
       "      <td>LIMS</td>\n",
       "      <td>taxa</td>\n",
       "    </tr>\n",
       "    <tr>\n",
       "      <th>2</th>\n",
       "      <td>mean depth (mbsf)</td>\n",
       "      <td>mean depth (mbsf)</td>\n",
       "      <td>LIMS</td>\n",
       "      <td>taxa</td>\n",
       "    </tr>\n",
       "    <tr>\n",
       "      <th>3</th>\n",
       "      <td>(taxon names are in the header)</td>\n",
       "      <td>Taxon Name</td>\n",
       "      <td>LIMS</td>\n",
       "      <td>taxa</td>\n",
       "    </tr>\n",
       "    <tr>\n",
       "      <th>4</th>\n",
       "      <td>Abundance</td>\n",
       "      <td>Group abundance</td>\n",
       "      <td>LIMS</td>\n",
       "      <td>taxa</td>\n",
       "    </tr>\n",
       "  </tbody>\n",
       "</table>\n",
       "</div>"
      ],
      "text/plain": [
       "                         original_name                                 name  \\\n",
       "0     Top Offset (cm) on Parent Sample     Top Offset (cm) on Parent Sample   \n",
       "1  Bottom Offset (cm) on Parent Sample  Bottom Offset (cm) on Parent Sample   \n",
       "2                    mean depth (mbsf)                    mean depth (mbsf)   \n",
       "3      (taxon names are in the header)                           Taxon Name   \n",
       "4                            Abundance                      Group abundance   \n",
       "\n",
       "  dataset dataset_type  \n",
       "0    LIMS         taxa  \n",
       "1    LIMS         taxa  \n",
       "2    LIMS         taxa  \n",
       "3    LIMS         taxa  \n",
       "4    LIMS         taxa  "
      ]
     },
     "execution_count": 12,
     "metadata": {},
     "output_type": "execute_result"
    }
   ],
   "source": [
    "nontaxa_df = pd.read_csv(nontaxa_fields_path)\n",
    "log_df(nontaxa_df)"
   ]
  },
  {
   "cell_type": "code",
   "execution_count": 13,
   "metadata": {},
   "outputs": [],
   "source": [
    "original_name = set(nontaxa_df['original_name'])\n",
    "name = set(nontaxa_df['name'])"
   ]
  },
  {
   "cell_type": "code",
   "execution_count": 14,
   "metadata": {},
   "outputs": [
    {
     "data": {
      "text/plain": [
       "131"
      ]
     },
     "execution_count": 14,
     "metadata": {},
     "output_type": "execute_result"
    }
   ],
   "source": [
    "nontaxa = {}\n",
    "for index, row in nontaxa_df.iterrows():\n",
    "    nontaxa[row['original_name']] = row['name']\n",
    "    \n",
    "len(nontaxa)"
   ]
  },
  {
   "cell_type": "code",
   "execution_count": 15,
   "metadata": {},
   "outputs": [],
   "source": [
    "data = []\n",
    "for clean_data_path in clean_data_paths:\n",
    "    \n",
    "    raw_csvs = glob.glob(f\"{clean_data_path}/*.csv\")\n",
    "    \n",
    "    for csv in raw_csvs:\n",
    "        # print(csv)\n",
    "        df = pd.read_csv(csv, dtype=str)\n",
    "        file_nontaxa = set(df.columns).intersection(nontaxa)\n",
    "        for index, row in df.iterrows():\n",
    "            for nt in file_nontaxa:\n",
    "                if pd.notna(row[nt]):\n",
    "         \n",
    "                    data.append({\n",
    "                        'sample': row['Sample'], \n",
    "                         'original_name': nt, \n",
    "                         'name': nontaxa[nt].strip(), \n",
    "                         'code': row[nt], \n",
    "                         'path': csv.split('../../output/cleaned_data/')[1]\n",
    "                    })"
   ]
  },
  {
   "cell_type": "code",
   "execution_count": 16,
   "metadata": {},
   "outputs": [
    {
     "name": "stdout",
     "output_type": "stream",
     "text": [
      "(104645, 5)\n"
     ]
    },
    {
     "data": {
      "text/html": [
       "<div>\n",
       "<style scoped>\n",
       "    .dataframe tbody tr th:only-of-type {\n",
       "        vertical-align: middle;\n",
       "    }\n",
       "\n",
       "    .dataframe tbody tr th {\n",
       "        vertical-align: top;\n",
       "    }\n",
       "\n",
       "    .dataframe thead th {\n",
       "        text-align: right;\n",
       "    }\n",
       "</style>\n",
       "<table border=\"1\" class=\"dataframe\">\n",
       "  <thead>\n",
       "    <tr style=\"text-align: right;\">\n",
       "      <th></th>\n",
       "      <th>sample</th>\n",
       "      <th>original_name</th>\n",
       "      <th>name</th>\n",
       "      <th>code</th>\n",
       "      <th>path</th>\n",
       "    </tr>\n",
       "  </thead>\n",
       "  <tbody>\n",
       "    <tr>\n",
       "      <th>0</th>\n",
       "      <td>363-U1482A-1H-CC</td>\n",
       "      <td>Percentage of non-calcareous agglutinated fora...</td>\n",
       "      <td>Percentage of non-calcareous agglutinated fora...</td>\n",
       "      <td>1</td>\n",
       "      <td>LIMS/Micropal_CSV_1/363-U1482A-Benthic_Forams.csv</td>\n",
       "    </tr>\n",
       "    <tr>\n",
       "      <th>1</th>\n",
       "      <td>363-U1482A-1H-CC</td>\n",
       "      <td>Group abundance</td>\n",
       "      <td>Group abundance</td>\n",
       "      <td>R</td>\n",
       "      <td>LIMS/Micropal_CSV_1/363-U1482A-Benthic_Forams.csv</td>\n",
       "    </tr>\n",
       "    <tr>\n",
       "      <th>2</th>\n",
       "      <td>363-U1482A-1H-CC</td>\n",
       "      <td>Preservation</td>\n",
       "      <td>Preservation</td>\n",
       "      <td>E</td>\n",
       "      <td>LIMS/Micropal_CSV_1/363-U1482A-Benthic_Forams.csv</td>\n",
       "    </tr>\n",
       "    <tr>\n",
       "      <th>3</th>\n",
       "      <td>363-U1482A-2H-CC</td>\n",
       "      <td>Percentage of non-calcareous agglutinated fora...</td>\n",
       "      <td>Percentage of non-calcareous agglutinated fora...</td>\n",
       "      <td>1</td>\n",
       "      <td>LIMS/Micropal_CSV_1/363-U1482A-Benthic_Forams.csv</td>\n",
       "    </tr>\n",
       "    <tr>\n",
       "      <th>4</th>\n",
       "      <td>363-U1482A-2H-CC</td>\n",
       "      <td>Group abundance</td>\n",
       "      <td>Group abundance</td>\n",
       "      <td>R</td>\n",
       "      <td>LIMS/Micropal_CSV_1/363-U1482A-Benthic_Forams.csv</td>\n",
       "    </tr>\n",
       "  </tbody>\n",
       "</table>\n",
       "</div>"
      ],
      "text/plain": [
       "             sample                                      original_name  \\\n",
       "0  363-U1482A-1H-CC  Percentage of non-calcareous agglutinated fora...   \n",
       "1  363-U1482A-1H-CC                                    Group abundance   \n",
       "2  363-U1482A-1H-CC                                       Preservation   \n",
       "3  363-U1482A-2H-CC  Percentage of non-calcareous agglutinated fora...   \n",
       "4  363-U1482A-2H-CC                                    Group abundance   \n",
       "\n",
       "                                                name code  \\\n",
       "0  Percentage of non-calcareous agglutinated fora...    1   \n",
       "1                                    Group abundance    R   \n",
       "2                                       Preservation    E   \n",
       "3  Percentage of non-calcareous agglutinated fora...    1   \n",
       "4                                    Group abundance    R   \n",
       "\n",
       "                                                path  \n",
       "0  LIMS/Micropal_CSV_1/363-U1482A-Benthic_Forams.csv  \n",
       "1  LIMS/Micropal_CSV_1/363-U1482A-Benthic_Forams.csv  \n",
       "2  LIMS/Micropal_CSV_1/363-U1482A-Benthic_Forams.csv  \n",
       "3  LIMS/Micropal_CSV_1/363-U1482A-Benthic_Forams.csv  \n",
       "4  LIMS/Micropal_CSV_1/363-U1482A-Benthic_Forams.csv  "
      ]
     },
     "execution_count": 16,
     "metadata": {},
     "output_type": "execute_result"
    }
   ],
   "source": [
    "all_records = pd.DataFrame(data)\n",
    "log_df(all_records)"
   ]
  },
  {
   "cell_type": "code",
   "execution_count": 17,
   "metadata": {},
   "outputs": [],
   "source": [
    "all_records.to_csv(OUTPUT_DIR/'tmp'/'all_field_samples.csv', index=False)"
   ]
  },
  {
   "cell_type": "markdown",
   "metadata": {},
   "source": [
    "compare all_records with what was imported"
   ]
  },
  {
   "cell_type": "code",
   "execution_count": null,
   "metadata": {},
   "outputs": [],
   "source": [
    "sql = \"\"\"\n",
    "CREATE TABLE tmp_samples_fields (\n",
    "    sample character varying,\n",
    "    original_name character varying,\n",
    "    name character varying,\n",
    "    code character varying,\n",
    "    path character varying\n",
    ");\n",
    "\n",
    "\"\"\"\n",
    "\n",
    "sql = \"\"\" \n",
    "select * from tmp_samples_fields\n",
    "\n",
    "except\n",
    "\n",
    "select samples.name as sample_name, samples_fields.original_name, \n",
    "fields.name,  samples_fields.value, \n",
    "samples_fields.data_source_notes as path\n",
    "from samples_fields\n",
    " join fields on fields.id = samples_fields.field_id\n",
    " join samples on samples.id = samples_fields.sample_id;\n",
    ";\n",
    "\"\"\""
   ]
  },
  {
   "cell_type": "markdown",
   "metadata": {},
   "source": [
    "## check abundances codes"
   ]
  },
  {
   "cell_type": "code",
   "execution_count": 4,
   "metadata": {},
   "outputs": [
    {
     "name": "stdout",
     "output_type": "stream",
     "text": [
      "(2085, 8)\n"
     ]
    },
    {
     "data": {
      "text/html": [
       "<div>\n",
       "<style scoped>\n",
       "    .dataframe tbody tr th:only-of-type {\n",
       "        vertical-align: middle;\n",
       "    }\n",
       "\n",
       "    .dataframe tbody tr th {\n",
       "        vertical-align: top;\n",
       "    }\n",
       "\n",
       "    .dataframe thead th {\n",
       "        text-align: right;\n",
       "    }\n",
       "</style>\n",
       "<table border=\"1\" class=\"dataframe\">\n",
       "  <thead>\n",
       "    <tr style=\"text-align: right;\">\n",
       "      <th></th>\n",
       "      <th>Exp</th>\n",
       "      <th>original_header</th>\n",
       "      <th>taxon_group</th>\n",
       "      <th>abundance_code</th>\n",
       "      <th>preservation in andance column</th>\n",
       "      <th>harmonized_code</th>\n",
       "      <th>abundance_preservation_definition</th>\n",
       "      <th>file</th>\n",
       "    </tr>\n",
       "  </thead>\n",
       "  <tbody>\n",
       "    <tr>\n",
       "      <th>0</th>\n",
       "      <td>320</td>\n",
       "      <td>% Planktic Foraminifera within whole sample</td>\n",
       "      <td>planktic_forams</td>\n",
       "      <td>0</td>\n",
       "      <td>NaN</td>\n",
       "      <td>0</td>\n",
       "      <td>% Planktic Foraminifera within whole sample</td>\n",
       "      <td>320_U1331B_Planktic_Forams.csv; 320_U1331B_Pla...</td>\n",
       "    </tr>\n",
       "    <tr>\n",
       "      <th>1</th>\n",
       "      <td>321</td>\n",
       "      <td>% Planktic Foraminifera within whole sample</td>\n",
       "      <td>planktic_forams</td>\n",
       "      <td>0</td>\n",
       "      <td>NaN</td>\n",
       "      <td>0</td>\n",
       "      <td>% Planktic Foraminifera within whole sample</td>\n",
       "      <td>321_U1338A_Planktic_forams.csv; 321_U1338A_Pla...</td>\n",
       "    </tr>\n",
       "    <tr>\n",
       "      <th>2</th>\n",
       "      <td>321</td>\n",
       "      <td>% Planktic Foraminifera within whole sample</td>\n",
       "      <td>planktic_forams</td>\n",
       "      <td>0</td>\n",
       "      <td>NaN</td>\n",
       "      <td>0</td>\n",
       "      <td>% Planktic Foraminifera within whole sample</td>\n",
       "      <td>321_U1337A_Planktic_forams.csv; 321_U1337A_Pla...</td>\n",
       "    </tr>\n",
       "    <tr>\n",
       "      <th>3</th>\n",
       "      <td>321</td>\n",
       "      <td>% Planktic Foraminifera within whole sample</td>\n",
       "      <td>planktic_forams</td>\n",
       "      <td>0.5</td>\n",
       "      <td>NaN</td>\n",
       "      <td>0.5</td>\n",
       "      <td>% Planktic Foraminifera within whole sample</td>\n",
       "      <td>321_U1337A_Planktic_forams.csv</td>\n",
       "    </tr>\n",
       "    <tr>\n",
       "      <th>4</th>\n",
       "      <td>320</td>\n",
       "      <td>% Planktic Foraminifera within whole sample</td>\n",
       "      <td>planktic_forams</td>\n",
       "      <td>1</td>\n",
       "      <td>NaN</td>\n",
       "      <td>1</td>\n",
       "      <td>% Planktic Foraminifera within whole sample</td>\n",
       "      <td>320_U1332A_Planktic_Forams.csv</td>\n",
       "    </tr>\n",
       "  </tbody>\n",
       "</table>\n",
       "</div>"
      ],
      "text/plain": [
       "   Exp                              original_header      taxon_group  \\\n",
       "0  320  % Planktic Foraminifera within whole sample  planktic_forams   \n",
       "1  321  % Planktic Foraminifera within whole sample  planktic_forams   \n",
       "2  321  % Planktic Foraminifera within whole sample  planktic_forams   \n",
       "3  321  % Planktic Foraminifera within whole sample  planktic_forams   \n",
       "4  320  % Planktic Foraminifera within whole sample  planktic_forams   \n",
       "\n",
       "  abundance_code preservation in andance column harmonized_code  \\\n",
       "0              0                            NaN               0   \n",
       "1              0                            NaN               0   \n",
       "2              0                            NaN               0   \n",
       "3            0.5                            NaN             0.5   \n",
       "4              1                            NaN               1   \n",
       "\n",
       "             abundance_preservation_definition  \\\n",
       "0  % Planktic Foraminifera within whole sample   \n",
       "1  % Planktic Foraminifera within whole sample   \n",
       "2  % Planktic Foraminifera within whole sample   \n",
       "3  % Planktic Foraminifera within whole sample   \n",
       "4  % Planktic Foraminifera within whole sample   \n",
       "\n",
       "                                                file  \n",
       "0  320_U1331B_Planktic_Forams.csv; 320_U1331B_Pla...  \n",
       "1  321_U1338A_Planktic_forams.csv; 321_U1338A_Pla...  \n",
       "2  321_U1337A_Planktic_forams.csv; 321_U1337A_Pla...  \n",
       "3                     321_U1337A_Planktic_forams.csv  \n",
       "4                     320_U1332A_Planktic_Forams.csv  "
      ]
     },
     "execution_count": 4,
     "metadata": {},
     "output_type": "execute_result"
    }
   ],
   "source": [
    "codes_df = pd.read_csv(PI_abundance_codes_group_path, dtype=str)\n",
    "log_df(codes_df)"
   ]
  },
  {
   "cell_type": "code",
   "execution_count": 5,
   "metadata": {},
   "outputs": [
    {
     "name": "stdout",
     "output_type": "stream",
     "text": [
      "(19502, 4)\n"
     ]
    },
    {
     "data": {
      "text/html": [
       "<div>\n",
       "<style scoped>\n",
       "    .dataframe tbody tr th:only-of-type {\n",
       "        vertical-align: middle;\n",
       "    }\n",
       "\n",
       "    .dataframe tbody tr th {\n",
       "        vertical-align: top;\n",
       "    }\n",
       "\n",
       "    .dataframe thead th {\n",
       "        text-align: right;\n",
       "    }\n",
       "</style>\n",
       "<table border=\"1\" class=\"dataframe\">\n",
       "  <thead>\n",
       "    <tr style=\"text-align: right;\">\n",
       "      <th></th>\n",
       "      <th>name</th>\n",
       "      <th>value</th>\n",
       "      <th>data_source_notes</th>\n",
       "      <th>original_name</th>\n",
       "    </tr>\n",
       "  </thead>\n",
       "  <tbody>\n",
       "    <tr>\n",
       "      <th>0</th>\n",
       "      <td>Age Control Comments</td>\n",
       "      <td>(NO OCEANICA)</td>\n",
       "      <td>LIMS/Micropal_CSV_2/350_U1437B_nannofossils.csv</td>\n",
       "      <td>Zone comment</td>\n",
       "    </tr>\n",
       "    <tr>\n",
       "      <th>1</th>\n",
       "      <td>Age Control Comments</td>\n",
       "      <td>0.61-0.75</td>\n",
       "      <td>LIMS/Micropal_CSV_2/350_U1436A_planktic_forams...</td>\n",
       "      <td>Datum comment</td>\n",
       "    </tr>\n",
       "    <tr>\n",
       "      <th>2</th>\n",
       "      <td>Age Control Comments</td>\n",
       "      <td>0.61-0.75</td>\n",
       "      <td>LIMS/Micropal_CSV_2/350_U1436A_planktic_forams...</td>\n",
       "      <td>Zone comment</td>\n",
       "    </tr>\n",
       "    <tr>\n",
       "      <th>3</th>\n",
       "      <td>Age Control Comments</td>\n",
       "      <td>0.61-0.75 Ma based on co-occurence of G. hessi...</td>\n",
       "      <td>LIMS/Micropal_CSV_2/350_U1437B_planktic_forams...</td>\n",
       "      <td>Datum comment</td>\n",
       "    </tr>\n",
       "    <tr>\n",
       "      <th>4</th>\n",
       "      <td>Age Control Comments</td>\n",
       "      <td>0.61-0.75 Ma based on co-occurence of G. hessi...</td>\n",
       "      <td>LIMS/Micropal_CSV_2/350_U1437B_planktic_forams...</td>\n",
       "      <td>Zone comment</td>\n",
       "    </tr>\n",
       "  </tbody>\n",
       "</table>\n",
       "</div>"
      ],
      "text/plain": [
       "                   name                                              value  \\\n",
       "0  Age Control Comments                                      (NO OCEANICA)   \n",
       "1  Age Control Comments                                          0.61-0.75   \n",
       "2  Age Control Comments                                          0.61-0.75   \n",
       "3  Age Control Comments  0.61-0.75 Ma based on co-occurence of G. hessi...   \n",
       "4  Age Control Comments  0.61-0.75 Ma based on co-occurence of G. hessi...   \n",
       "\n",
       "                                   data_source_notes  original_name  \n",
       "0    LIMS/Micropal_CSV_2/350_U1437B_nannofossils.csv   Zone comment  \n",
       "1  LIMS/Micropal_CSV_2/350_U1436A_planktic_forams...  Datum comment  \n",
       "2  LIMS/Micropal_CSV_2/350_U1436A_planktic_forams...   Zone comment  \n",
       "3  LIMS/Micropal_CSV_2/350_U1437B_planktic_forams...  Datum comment  \n",
       "4  LIMS/Micropal_CSV_2/350_U1437B_planktic_forams...   Zone comment  "
      ]
     },
     "execution_count": 5,
     "metadata": {},
     "output_type": "execute_result"
    }
   ],
   "source": [
    "sql = \"\"\"select  fields.name, value , samples_fields.data_source_notes,\n",
    "samples_fields.original_name\n",
    "from fields \n",
    "join samples_fields on fields.id = samples_fields.field_id\n",
    "\n",
    "\n",
    "group by fields.name, value , samples_fields.data_source_notes,\n",
    "samples_fields.original_name\n",
    "\"\"\"\n",
    "\n",
    "rows = db.fetch_all(sql)\n",
    "data = []\n",
    "for row in rows:\n",
    "    data.append({\n",
    "        'name': row['name'],\n",
    "        'value': row['value'],\n",
    "        'data_source_notes': row['data_source_notes'],\n",
    "        \"original_name\": row['original_name']\n",
    "    })\n",
    "    \n",
    "\n",
    "db_df = pd.DataFrame(data)\n",
    "log_df(db_df)"
   ]
  },
  {
   "cell_type": "code",
   "execution_count": 6,
   "metadata": {},
   "outputs": [],
   "source": [
    "filter_codes = codes_df[codes_df['original_header'].isin(db_df['original_name'])].copy()\n",
    "\n"
   ]
  },
  {
   "cell_type": "code",
   "execution_count": 7,
   "metadata": {},
   "outputs": [
    {
     "name": "stdout",
     "output_type": "stream",
     "text": [
      "(2085, 9)\n"
     ]
    },
    {
     "data": {
      "text/html": [
       "<div>\n",
       "<style scoped>\n",
       "    .dataframe tbody tr th:only-of-type {\n",
       "        vertical-align: middle;\n",
       "    }\n",
       "\n",
       "    .dataframe tbody tr th {\n",
       "        vertical-align: top;\n",
       "    }\n",
       "\n",
       "    .dataframe thead th {\n",
       "        text-align: right;\n",
       "    }\n",
       "</style>\n",
       "<table border=\"1\" class=\"dataframe\">\n",
       "  <thead>\n",
       "    <tr style=\"text-align: right;\">\n",
       "      <th></th>\n",
       "      <th>Exp</th>\n",
       "      <th>original_header</th>\n",
       "      <th>taxon_group</th>\n",
       "      <th>abundance_code</th>\n",
       "      <th>preservation in andance column</th>\n",
       "      <th>harmonized_code</th>\n",
       "      <th>abundance_preservation_definition</th>\n",
       "      <th>file</th>\n",
       "      <th>files</th>\n",
       "    </tr>\n",
       "  </thead>\n",
       "  <tbody>\n",
       "    <tr>\n",
       "      <th>0</th>\n",
       "      <td>320</td>\n",
       "      <td>% Planktic Foraminifera within whole sample</td>\n",
       "      <td>planktic_forams</td>\n",
       "      <td>0</td>\n",
       "      <td>NaN</td>\n",
       "      <td>0</td>\n",
       "      <td>% Planktic Foraminifera within whole sample</td>\n",
       "      <td>320_U1331B_Planktic_Forams.csv; 320_U1331B_Pla...</td>\n",
       "      <td>[320_U1331B_Planktic_Forams.csv, 320_U1332A_Pl...</td>\n",
       "    </tr>\n",
       "    <tr>\n",
       "      <th>1</th>\n",
       "      <td>321</td>\n",
       "      <td>% Planktic Foraminifera within whole sample</td>\n",
       "      <td>planktic_forams</td>\n",
       "      <td>0</td>\n",
       "      <td>NaN</td>\n",
       "      <td>0</td>\n",
       "      <td>% Planktic Foraminifera within whole sample</td>\n",
       "      <td>321_U1338A_Planktic_forams.csv; 321_U1338A_Pla...</td>\n",
       "      <td>[321_U1338A_Planktic_forams.csv]</td>\n",
       "    </tr>\n",
       "    <tr>\n",
       "      <th>2</th>\n",
       "      <td>321</td>\n",
       "      <td>% Planktic Foraminifera within whole sample</td>\n",
       "      <td>planktic_forams</td>\n",
       "      <td>0</td>\n",
       "      <td>NaN</td>\n",
       "      <td>0</td>\n",
       "      <td>% Planktic Foraminifera within whole sample</td>\n",
       "      <td>321_U1337A_Planktic_forams.csv; 321_U1337A_Pla...</td>\n",
       "      <td>[321_U1337A_Planktic_forams.csv]</td>\n",
       "    </tr>\n",
       "    <tr>\n",
       "      <th>3</th>\n",
       "      <td>321</td>\n",
       "      <td>% Planktic Foraminifera within whole sample</td>\n",
       "      <td>planktic_forams</td>\n",
       "      <td>0.5</td>\n",
       "      <td>NaN</td>\n",
       "      <td>0.5</td>\n",
       "      <td>% Planktic Foraminifera within whole sample</td>\n",
       "      <td>321_U1337A_Planktic_forams.csv</td>\n",
       "      <td>[321_U1337A_Planktic_forams.csv]</td>\n",
       "    </tr>\n",
       "    <tr>\n",
       "      <th>4</th>\n",
       "      <td>320</td>\n",
       "      <td>% Planktic Foraminifera within whole sample</td>\n",
       "      <td>planktic_forams</td>\n",
       "      <td>1</td>\n",
       "      <td>NaN</td>\n",
       "      <td>1</td>\n",
       "      <td>% Planktic Foraminifera within whole sample</td>\n",
       "      <td>320_U1332A_Planktic_Forams.csv</td>\n",
       "      <td>[320_U1332A_Planktic_Forams.csv]</td>\n",
       "    </tr>\n",
       "  </tbody>\n",
       "</table>\n",
       "</div>"
      ],
      "text/plain": [
       "   Exp                              original_header      taxon_group  \\\n",
       "0  320  % Planktic Foraminifera within whole sample  planktic_forams   \n",
       "1  321  % Planktic Foraminifera within whole sample  planktic_forams   \n",
       "2  321  % Planktic Foraminifera within whole sample  planktic_forams   \n",
       "3  321  % Planktic Foraminifera within whole sample  planktic_forams   \n",
       "4  320  % Planktic Foraminifera within whole sample  planktic_forams   \n",
       "\n",
       "  abundance_code preservation in andance column harmonized_code  \\\n",
       "0              0                            NaN               0   \n",
       "1              0                            NaN               0   \n",
       "2              0                            NaN               0   \n",
       "3            0.5                            NaN             0.5   \n",
       "4              1                            NaN               1   \n",
       "\n",
       "             abundance_preservation_definition  \\\n",
       "0  % Planktic Foraminifera within whole sample   \n",
       "1  % Planktic Foraminifera within whole sample   \n",
       "2  % Planktic Foraminifera within whole sample   \n",
       "3  % Planktic Foraminifera within whole sample   \n",
       "4  % Planktic Foraminifera within whole sample   \n",
       "\n",
       "                                                file  \\\n",
       "0  320_U1331B_Planktic_Forams.csv; 320_U1331B_Pla...   \n",
       "1  321_U1338A_Planktic_forams.csv; 321_U1338A_Pla...   \n",
       "2  321_U1337A_Planktic_forams.csv; 321_U1337A_Pla...   \n",
       "3                     321_U1337A_Planktic_forams.csv   \n",
       "4                     320_U1332A_Planktic_Forams.csv   \n",
       "\n",
       "                                               files  \n",
       "0  [320_U1331B_Planktic_Forams.csv, 320_U1332A_Pl...  \n",
       "1                   [321_U1338A_Planktic_forams.csv]  \n",
       "2                   [321_U1337A_Planktic_forams.csv]  \n",
       "3                   [321_U1337A_Planktic_forams.csv]  \n",
       "4                   [320_U1332A_Planktic_Forams.csv]  "
      ]
     },
     "execution_count": 7,
     "metadata": {},
     "output_type": "execute_result"
    }
   ],
   "source": [
    "def unique_values(value):\n",
    "    return list(set(value.split('; ')))\n",
    "\n",
    "filter_codes['files'] = filter_codes['file'].apply(unique_values)\n",
    "\n",
    "log_df(filter_codes)"
   ]
  },
  {
   "cell_type": "code",
   "execution_count": 8,
   "metadata": {},
   "outputs": [
    {
     "data": {
      "text/plain": [
       "{nan}"
      ]
     },
     "execution_count": 8,
     "metadata": {},
     "output_type": "execute_result"
    }
   ],
   "source": [
    "set(filter_codes['harmonized_code']) - set(db_df['value']) "
   ]
  },
  {
   "cell_type": "code",
   "execution_count": 9,
   "metadata": {},
   "outputs": [],
   "source": [
    "data = []\n",
    "for index, row in filter_codes.iterrows():\n",
    "    if pd.isna(row['harmonized_code']):\n",
    "        continue \n",
    "        \n",
    "    for file in  row['files']:\n",
    "        tmp = db_df[\n",
    "            db_df['data_source_notes'].str.contains(file) & \n",
    "            (db_df['original_name'] == row['original_header']) &\n",
    "            (db_df['value'] == row['harmonized_code'])\n",
    "        ]\n",
    "        if len(tmp) != 1:\n",
    "            tmp = {'file': file}\n",
    "            for col in ['original_header', 'harmonized_code', 'preservation in andance column']:\n",
    "                tmp[col] = row[col]\n",
    "                \n",
    "            data.append(tmp)\n",
    "\n"
   ]
  },
  {
   "cell_type": "code",
   "execution_count": 10,
   "metadata": {},
   "outputs": [
    {
     "name": "stdout",
     "output_type": "stream",
     "text": [
      "(132, 4)\n"
     ]
    },
    {
     "data": {
      "text/html": [
       "<div>\n",
       "<style scoped>\n",
       "    .dataframe tbody tr th:only-of-type {\n",
       "        vertical-align: middle;\n",
       "    }\n",
       "\n",
       "    .dataframe tbody tr th {\n",
       "        vertical-align: top;\n",
       "    }\n",
       "\n",
       "    .dataframe thead th {\n",
       "        text-align: right;\n",
       "    }\n",
       "</style>\n",
       "<table border=\"1\" class=\"dataframe\">\n",
       "  <thead>\n",
       "    <tr style=\"text-align: right;\">\n",
       "      <th></th>\n",
       "      <th>file</th>\n",
       "      <th>original_header</th>\n",
       "      <th>harmonized_code</th>\n",
       "      <th>preservation in andance column</th>\n",
       "    </tr>\n",
       "  </thead>\n",
       "  <tbody>\n",
       "    <tr>\n",
       "      <th>0</th>\n",
       "      <td>321_U1337A_Planktic_forams.csv</td>\n",
       "      <td>% Planktic Foraminifera within whole sample</td>\n",
       "      <td>0</td>\n",
       "      <td>NaN</td>\n",
       "    </tr>\n",
       "    <tr>\n",
       "      <th>1</th>\n",
       "      <td>321_U1337A_Planktic_forams.csv</td>\n",
       "      <td>% Planktic Foraminifera within whole sample</td>\n",
       "      <td>2</td>\n",
       "      <td>NaN</td>\n",
       "    </tr>\n",
       "    <tr>\n",
       "      <th>2</th>\n",
       "      <td>321_U1337A_Planktic_forams.csv</td>\n",
       "      <td>% Planktic Foraminifera within whole sample</td>\n",
       "      <td>3</td>\n",
       "      <td>NaN</td>\n",
       "    </tr>\n",
       "    <tr>\n",
       "      <th>3</th>\n",
       "      <td>321_U1337A_Planktic_forams.csv</td>\n",
       "      <td>% Planktic Foraminifera within whole sample</td>\n",
       "      <td>4</td>\n",
       "      <td>NaN</td>\n",
       "    </tr>\n",
       "    <tr>\n",
       "      <th>4</th>\n",
       "      <td>321_U1337A_Planktic_forams.csv</td>\n",
       "      <td>% Planktic Foraminifera within whole sample</td>\n",
       "      <td>7</td>\n",
       "      <td>NaN</td>\n",
       "    </tr>\n",
       "  </tbody>\n",
       "</table>\n",
       "</div>"
      ],
      "text/plain": [
       "                             file  \\\n",
       "0  321_U1337A_Planktic_forams.csv   \n",
       "1  321_U1337A_Planktic_forams.csv   \n",
       "2  321_U1337A_Planktic_forams.csv   \n",
       "3  321_U1337A_Planktic_forams.csv   \n",
       "4  321_U1337A_Planktic_forams.csv   \n",
       "\n",
       "                               original_header harmonized_code  \\\n",
       "0  % Planktic Foraminifera within whole sample               0   \n",
       "1  % Planktic Foraminifera within whole sample               2   \n",
       "2  % Planktic Foraminifera within whole sample               3   \n",
       "3  % Planktic Foraminifera within whole sample               4   \n",
       "4  % Planktic Foraminifera within whole sample               7   \n",
       "\n",
       "  preservation in andance column  \n",
       "0                            NaN  \n",
       "1                            NaN  \n",
       "2                            NaN  \n",
       "3                            NaN  \n",
       "4                            NaN  "
      ]
     },
     "execution_count": 10,
     "metadata": {},
     "output_type": "execute_result"
    }
   ],
   "source": [
    "new_df = pd.DataFrame(data)\n",
    "log_df(new_df)"
   ]
  },
  {
   "cell_type": "code",
   "execution_count": 11,
   "metadata": {},
   "outputs": [],
   "source": [
    "new_df.to_csv(OUTPUT_DIR/'tmp'/'mismatch_abundances.csv')"
   ]
  },
  {
   "cell_type": "code",
   "execution_count": null,
   "metadata": {},
   "outputs": [],
   "source": []
  }
 ],
 "metadata": {
  "kernelspec": {
   "display_name": "Python 3 (ipykernel)",
   "language": "python",
   "name": "python3"
  },
  "language_info": {
   "codemirror_mode": {
    "name": "ipython",
    "version": 3
   },
   "file_extension": ".py",
   "mimetype": "text/x-python",
   "name": "python",
   "nbconvert_exporter": "python",
   "pygments_lexer": "ipython3",
   "version": "3.8.2"
  },
  "vscode": {
   "interpreter": {
    "hash": "eb7f390fd552fd52b6c0e1d9c46d00f03386b64c75099ad2c276e3fb08794b44"
   }
  }
 },
 "nbformat": 4,
 "nbformat_minor": 4
}
