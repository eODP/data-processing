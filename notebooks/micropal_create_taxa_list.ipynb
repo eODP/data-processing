{
 "cells": [
  {
   "cell_type": "markdown",
   "metadata": {},
   "source": [
    "# Create Taxa list csv"
   ]
  },
  {
   "cell_type": "markdown",
   "metadata": {},
   "source": [
    "Create a csv containing taxa names from all the csvs."
   ]
  },
  {
   "cell_type": "code",
   "execution_count": 1,
   "metadata": {},
   "outputs": [],
   "source": [
    "import sys\n",
    "sys.path.append('../scripts/')\n",
    "import glob\n",
    "import re\n",
    "import os.path\n",
    "\n",
    "import pandas as pd\n",
    "import numpy as np\n",
    "\n",
    "from normalize_data import (\n",
    "    csv_cleanup,\n",
    "    update_metadata,\n",
    "    get_taxonomy_columns,\n",
    "    clean_taxon_name\n",
    ")"
   ]
  },
  {
   "cell_type": "code",
   "execution_count": 2,
   "metadata": {},
   "outputs": [],
   "source": [
    "taxa_list_path = 'cleaned_data/taxa/taxa_list.csv'\n",
    "non_taxa_fields_path = 'cleaned_data/taxa/non_taxa_fields.csv'"
   ]
  },
  {
   "cell_type": "code",
   "execution_count": 3,
   "metadata": {},
   "outputs": [],
   "source": [
    "micropal_1 = 'cleaned_data/Micropal_CSV_1'\n",
    "micropal_meta_1 = 'cleaned_data/metadata/Micropal_1_changes.csv'\n",
    "\n",
    "micropal_2 = 'cleaned_data/Micropal_CSV_2'\n",
    "micropal_meta_2 = 'cleaned_data/metadata/Micropal_2_changes.csv'\n",
    "\n",
    "micropal_3 = 'cleaned_data/Micropal_CSV_3'\n",
    "micropal_meta_3 = 'cleaned_data/metadata/Micropal_3_changes.csv'"
   ]
  },
  {
   "cell_type": "code",
   "execution_count": 4,
   "metadata": {},
   "outputs": [],
   "source": [
    "metadata_file = micropal_meta_3\n",
    "clean_data_path = micropal_3"
   ]
  },
  {
   "cell_type": "code",
   "execution_count": 5,
   "metadata": {},
   "outputs": [
    {
     "data": {
      "text/html": [
       "<div>\n",
       "<style scoped>\n",
       "    .dataframe tbody tr th:only-of-type {\n",
       "        vertical-align: middle;\n",
       "    }\n",
       "\n",
       "    .dataframe tbody tr th {\n",
       "        vertical-align: top;\n",
       "    }\n",
       "\n",
       "    .dataframe thead th {\n",
       "        text-align: right;\n",
       "    }\n",
       "</style>\n",
       "<table border=\"1\" class=\"dataframe\">\n",
       "  <thead>\n",
       "    <tr style=\"text-align: right;\">\n",
       "      <th></th>\n",
       "      <th>file</th>\n",
       "      <th>taxon_group</th>\n",
       "      <th>add_expedition_section_cols</th>\n",
       "      <th>update_sample_col</th>\n",
       "      <th>update_top_bottom</th>\n",
       "      <th>add_missing_cols</th>\n",
       "      <th>clean_up_taxa_values</th>\n",
       "      <th>fix_expedition_aw_cols</th>\n",
       "      <th>add_extra_sample_data</th>\n",
       "      <th>clean_up_taxa_metadata_values</th>\n",
       "    </tr>\n",
       "  </thead>\n",
       "  <tbody>\n",
       "    <tr>\n",
       "      <th>0</th>\n",
       "      <td>339_benthic_forams_U1388B_5.csv</td>\n",
       "      <td>benthic_forams</td>\n",
       "      <td>False</td>\n",
       "      <td>False</td>\n",
       "      <td>True</td>\n",
       "      <td>False</td>\n",
       "      <td>False</td>\n",
       "      <td>False</td>\n",
       "      <td>False</td>\n",
       "      <td>False</td>\n",
       "    </tr>\n",
       "    <tr>\n",
       "      <th>1</th>\n",
       "      <td>324_U1348A_benthic_forams.csv</td>\n",
       "      <td>benthic_forams</td>\n",
       "      <td>False</td>\n",
       "      <td>True</td>\n",
       "      <td>True</td>\n",
       "      <td>False</td>\n",
       "      <td>True</td>\n",
       "      <td>False</td>\n",
       "      <td>False</td>\n",
       "      <td>True</td>\n",
       "    </tr>\n",
       "    <tr>\n",
       "      <th>2</th>\n",
       "      <td>339_planktic_forams_U1387C.csv</td>\n",
       "      <td>planktic_forams</td>\n",
       "      <td>False</td>\n",
       "      <td>False</td>\n",
       "      <td>True</td>\n",
       "      <td>False</td>\n",
       "      <td>False</td>\n",
       "      <td>False</td>\n",
       "      <td>False</td>\n",
       "      <td>False</td>\n",
       "    </tr>\n",
       "    <tr>\n",
       "      <th>3</th>\n",
       "      <td>339_benthic_forams_U1390A_6.csv</td>\n",
       "      <td>benthic_forams</td>\n",
       "      <td>False</td>\n",
       "      <td>False</td>\n",
       "      <td>True</td>\n",
       "      <td>False</td>\n",
       "      <td>False</td>\n",
       "      <td>False</td>\n",
       "      <td>False</td>\n",
       "      <td>False</td>\n",
       "    </tr>\n",
       "    <tr>\n",
       "      <th>4</th>\n",
       "      <td>341_radiolarians_U1419D.csv</td>\n",
       "      <td>radiolarians</td>\n",
       "      <td>True</td>\n",
       "      <td>False</td>\n",
       "      <td>False</td>\n",
       "      <td>False</td>\n",
       "      <td>True</td>\n",
       "      <td>True</td>\n",
       "      <td>False</td>\n",
       "      <td>True</td>\n",
       "    </tr>\n",
       "  </tbody>\n",
       "</table>\n",
       "</div>"
      ],
      "text/plain": [
       "                              file      taxon_group  \\\n",
       "0  339_benthic_forams_U1388B_5.csv   benthic_forams   \n",
       "1    324_U1348A_benthic_forams.csv   benthic_forams   \n",
       "2   339_planktic_forams_U1387C.csv  planktic_forams   \n",
       "3  339_benthic_forams_U1390A_6.csv   benthic_forams   \n",
       "4      341_radiolarians_U1419D.csv     radiolarians   \n",
       "\n",
       "   add_expedition_section_cols  update_sample_col  update_top_bottom  \\\n",
       "0                        False              False               True   \n",
       "1                        False               True               True   \n",
       "2                        False              False               True   \n",
       "3                        False              False               True   \n",
       "4                         True              False              False   \n",
       "\n",
       "   add_missing_cols  clean_up_taxa_values  fix_expedition_aw_cols  \\\n",
       "0             False                 False                   False   \n",
       "1             False                  True                   False   \n",
       "2             False                 False                   False   \n",
       "3             False                 False                   False   \n",
       "4             False                  True                    True   \n",
       "\n",
       "   add_extra_sample_data  clean_up_taxa_metadata_values  \n",
       "0                  False                          False  \n",
       "1                  False                           True  \n",
       "2                  False                          False  \n",
       "3                  False                          False  \n",
       "4                  False                           True  "
      ]
     },
     "execution_count": 5,
     "metadata": {},
     "output_type": "execute_result"
    }
   ],
   "source": [
    "metadata = pd.read_csv(metadata_file)\n",
    "metadata.head()"
   ]
  },
  {
   "cell_type": "code",
   "execution_count": 6,
   "metadata": {},
   "outputs": [],
   "source": [
    "non_taxa_content = pd.read_csv(non_taxa_fields_path)\n",
    "non_taxa_columns = set(non_taxa_content['field'])"
   ]
  },
  {
   "cell_type": "markdown",
   "metadata": {},
   "source": [
    "## Create a csv of all taxa"
   ]
  },
  {
   "cell_type": "markdown",
   "metadata": {},
   "source": [
    "Create a taxa list csv that contains all the taxon names and the associated taxon group."
   ]
  },
  {
   "cell_type": "code",
   "execution_count": 10,
   "metadata": {},
   "outputs": [],
   "source": [
    "taxa_data = set()"
   ]
  },
  {
   "cell_type": "markdown",
   "metadata": {},
   "source": [
    "Read the existing data from the existing taxa list csv. "
   ]
  },
  {
   "cell_type": "code",
   "execution_count": 11,
   "metadata": {},
   "outputs": [
    {
     "data": {
      "text/plain": [
       "3540"
      ]
     },
     "execution_count": 11,
     "metadata": {},
     "output_type": "execute_result"
    }
   ],
   "source": [
    "def fetch_existing_taxa_data(row):\n",
    "    taxa_data.update([(row['verbatim_name'], row['name'], row['taxon_group'])])\n",
    "\n",
    "if os.path.isfile(taxa_list_path): \n",
    "    existing_taxa_df = pd.read_csv(taxa_list_path)\n",
    "    existing_taxa_df = csv_cleanup(existing_taxa_df, taxa_list_path)\n",
    "    existing_taxa_df.apply(fetch_existing_taxa_data, axis=1)\n",
    "    \n",
    "len(taxa_data)"
   ]
  },
  {
   "cell_type": "markdown",
   "metadata": {},
   "source": [
    "Get taxa data from the cleaned up taxa csv."
   ]
  },
  {
   "cell_type": "code",
   "execution_count": 12,
   "metadata": {},
   "outputs": [],
   "source": [
    "def fetch_taxa_data(row):\n",
    "    path = f\"{clean_data_path}/{row['file']}\"\n",
    "    content = pd.read_csv(path)\n",
    "    content = csv_cleanup(content, path)\n",
    "\n",
    "    content = content.dropna(axis=\"columns\", how=\"all\")\n",
    "    columns = [col.strip() for col in content.columns if col]\n",
    "    \n",
    "    taxa_columns = set(columns) - non_taxa_columns \n",
    "    taxa_data.update(((col, clean_taxon_name(col), row['taxon_group']) for col in taxa_columns))\n",
    "\n",
    "res = metadata[['file', 'taxon_group']].apply(fetch_taxa_data, axis=1)"
   ]
  },
  {
   "cell_type": "code",
   "execution_count": 13,
   "metadata": {},
   "outputs": [
    {
     "data": {
      "text/plain": [
       "4738"
      ]
     },
     "execution_count": 13,
     "metadata": {},
     "output_type": "execute_result"
    }
   ],
   "source": [
    "len(taxa_data)"
   ]
  },
  {
   "cell_type": "markdown",
   "metadata": {},
   "source": [
    "### Create csv"
   ]
  },
  {
   "cell_type": "code",
   "execution_count": 14,
   "metadata": {},
   "outputs": [
    {
     "data": {
      "text/html": [
       "<div>\n",
       "<style scoped>\n",
       "    .dataframe tbody tr th:only-of-type {\n",
       "        vertical-align: middle;\n",
       "    }\n",
       "\n",
       "    .dataframe tbody tr th {\n",
       "        vertical-align: top;\n",
       "    }\n",
       "\n",
       "    .dataframe thead th {\n",
       "        text-align: right;\n",
       "    }\n",
       "</style>\n",
       "<table border=\"1\" class=\"dataframe\">\n",
       "  <thead>\n",
       "    <tr style=\"text-align: right;\">\n",
       "      <th></th>\n",
       "      <th>verbatim_name</th>\n",
       "      <th>name</th>\n",
       "      <th>taxon_group</th>\n",
       "    </tr>\n",
       "  </thead>\n",
       "  <tbody>\n",
       "    <tr>\n",
       "      <th>2935</th>\n",
       "      <td>\"Globigerina\" angulisuturalis _T</td>\n",
       "      <td>\"Globigerina\" angulisuturalis _T</td>\n",
       "      <td>planktic_forams</td>\n",
       "    </tr>\n",
       "    <tr>\n",
       "      <th>983</th>\n",
       "      <td>\"Globigerina\" angulisuturalis _T_</td>\n",
       "      <td>\"Globigerina\" angulisuturalis _T_</td>\n",
       "      <td>planktic_forams</td>\n",
       "    </tr>\n",
       "    <tr>\n",
       "      <th>3735</th>\n",
       "      <td>\"Globigerina\" ciperoensis _T</td>\n",
       "      <td>\"Globigerina\" ciperoensis _T</td>\n",
       "      <td>planktic_forams</td>\n",
       "    </tr>\n",
       "    <tr>\n",
       "      <th>385</th>\n",
       "      <td>\"Globigerina\" ciperoensis _T_</td>\n",
       "      <td>\"Globigerina\" ciperoensis _T_</td>\n",
       "      <td>planktic_forams</td>\n",
       "    </tr>\n",
       "    <tr>\n",
       "      <th>2617</th>\n",
       "      <td>\"Skeletonema\" utriculosa</td>\n",
       "      <td>\"Skeletonema\" utriculosa</td>\n",
       "      <td>diatoms</td>\n",
       "    </tr>\n",
       "    <tr>\n",
       "      <th>1265</th>\n",
       "      <td>\"round browns\" indet., psilate</td>\n",
       "      <td>\"round browns\" indet., psilate</td>\n",
       "      <td>dinoflagellates</td>\n",
       "    </tr>\n",
       "    <tr>\n",
       "      <th>4317</th>\n",
       "      <td>(Duplicate) Dentoglobigerina pseudovenezuelana</td>\n",
       "      <td>(Duplicate) Dentoglobigerina pseudovenezuelana</td>\n",
       "      <td>planktic_forams</td>\n",
       "    </tr>\n",
       "    <tr>\n",
       "      <th>1239</th>\n",
       "      <td>?Acarinina spp.</td>\n",
       "      <td>?Acarinina spp.</td>\n",
       "      <td>planktic_forams</td>\n",
       "    </tr>\n",
       "    <tr>\n",
       "      <th>3301</th>\n",
       "      <td>?Morozovella spp.</td>\n",
       "      <td>?Morozovella spp.</td>\n",
       "      <td>planktic_forams</td>\n",
       "    </tr>\n",
       "    <tr>\n",
       "      <th>3323</th>\n",
       "      <td>ADDITIONAL SPECIES</td>\n",
       "      <td>ADDITIONAL SPECIES</td>\n",
       "      <td>planktic_forams</td>\n",
       "    </tr>\n",
       "    <tr>\n",
       "      <th>4544</th>\n",
       "      <td>ADDITIONAL SPECIES</td>\n",
       "      <td>ADDITIONAL SPECIES</td>\n",
       "      <td>radiolarians</td>\n",
       "    </tr>\n",
       "    <tr>\n",
       "      <th>4244</th>\n",
       "      <td>Abathomphalus intermedia</td>\n",
       "      <td>Abathomphalus intermedia</td>\n",
       "      <td>planktic_forams</td>\n",
       "    </tr>\n",
       "    <tr>\n",
       "      <th>4223</th>\n",
       "      <td>Abathomphalus mayaroensis</td>\n",
       "      <td>Abathomphalus mayaroensis</td>\n",
       "      <td>planktic_forams</td>\n",
       "    </tr>\n",
       "    <tr>\n",
       "      <th>3952</th>\n",
       "      <td>Abyssamina poagi</td>\n",
       "      <td>Abyssamina poagi</td>\n",
       "      <td>benthic_forams</td>\n",
       "    </tr>\n",
       "    <tr>\n",
       "      <th>1583</th>\n",
       "      <td>Abyssamina quadrata</td>\n",
       "      <td>Abyssamina quadrata</td>\n",
       "      <td>benthic_forams</td>\n",
       "    </tr>\n",
       "  </tbody>\n",
       "</table>\n",
       "</div>"
      ],
      "text/plain": [
       "                                       verbatim_name  \\\n",
       "2935                \"Globigerina\" angulisuturalis _T   \n",
       "983                \"Globigerina\" angulisuturalis _T_   \n",
       "3735                    \"Globigerina\" ciperoensis _T   \n",
       "385                    \"Globigerina\" ciperoensis _T_   \n",
       "2617                        \"Skeletonema\" utriculosa   \n",
       "1265                  \"round browns\" indet., psilate   \n",
       "4317  (Duplicate) Dentoglobigerina pseudovenezuelana   \n",
       "1239                                 ?Acarinina spp.   \n",
       "3301                               ?Morozovella spp.   \n",
       "3323                              ADDITIONAL SPECIES   \n",
       "4544                              ADDITIONAL SPECIES   \n",
       "4244                        Abathomphalus intermedia   \n",
       "4223                       Abathomphalus mayaroensis   \n",
       "3952                                Abyssamina poagi   \n",
       "1583                             Abyssamina quadrata   \n",
       "\n",
       "                                                name      taxon_group  \n",
       "2935                \"Globigerina\" angulisuturalis _T  planktic_forams  \n",
       "983                \"Globigerina\" angulisuturalis _T_  planktic_forams  \n",
       "3735                    \"Globigerina\" ciperoensis _T  planktic_forams  \n",
       "385                    \"Globigerina\" ciperoensis _T_  planktic_forams  \n",
       "2617                        \"Skeletonema\" utriculosa          diatoms  \n",
       "1265                  \"round browns\" indet., psilate  dinoflagellates  \n",
       "4317  (Duplicate) Dentoglobigerina pseudovenezuelana  planktic_forams  \n",
       "1239                                 ?Acarinina spp.  planktic_forams  \n",
       "3301                               ?Morozovella spp.  planktic_forams  \n",
       "3323                              ADDITIONAL SPECIES  planktic_forams  \n",
       "4544                              ADDITIONAL SPECIES     radiolarians  \n",
       "4244                        Abathomphalus intermedia  planktic_forams  \n",
       "4223                       Abathomphalus mayaroensis  planktic_forams  \n",
       "3952                                Abyssamina poagi   benthic_forams  \n",
       "1583                             Abyssamina quadrata   benthic_forams  "
      ]
     },
     "execution_count": 14,
     "metadata": {},
     "output_type": "execute_result"
    }
   ],
   "source": [
    "taxa_df = pd.DataFrame(taxa_data, columns=['verbatim_name', 'name', 'taxon_group'])\n",
    "taxa_df.sort_values('name', inplace=True)\n",
    "taxa_df.head(15)"
   ]
  },
  {
   "cell_type": "code",
   "execution_count": 15,
   "metadata": {},
   "outputs": [],
   "source": [
    "taxa_df.to_csv(taxa_list_path, index=False)"
   ]
  },
  {
   "cell_type": "markdown",
   "metadata": {},
   "source": [
    "## Add genera to taxa  list"
   ]
  },
  {
   "cell_type": "code",
   "execution_count": 8,
   "metadata": {},
   "outputs": [
    {
     "data": {
      "text/html": [
       "<div>\n",
       "<style scoped>\n",
       "    .dataframe tbody tr th:only-of-type {\n",
       "        vertical-align: middle;\n",
       "    }\n",
       "\n",
       "    .dataframe tbody tr th {\n",
       "        vertical-align: top;\n",
       "    }\n",
       "\n",
       "    .dataframe thead th {\n",
       "        text-align: right;\n",
       "    }\n",
       "</style>\n",
       "<table border=\"1\" class=\"dataframe\">\n",
       "  <thead>\n",
       "    <tr style=\"text-align: right;\">\n",
       "      <th></th>\n",
       "      <th>verbatim_name</th>\n",
       "      <th>name</th>\n",
       "      <th>taxon_group</th>\n",
       "      <th>genera</th>\n",
       "    </tr>\n",
       "  </thead>\n",
       "  <tbody>\n",
       "    <tr>\n",
       "      <th>0</th>\n",
       "      <td>\"Globigerina\" angulisuturalis _T</td>\n",
       "      <td>\"Globigerina\" angulisuturalis _T</td>\n",
       "      <td>planktic_forams</td>\n",
       "      <td>NaN</td>\n",
       "    </tr>\n",
       "    <tr>\n",
       "      <th>1</th>\n",
       "      <td>\"Globigerina\" angulisuturalis _T_</td>\n",
       "      <td>\"Globigerina\" angulisuturalis _T_</td>\n",
       "      <td>planktic_forams</td>\n",
       "      <td>NaN</td>\n",
       "    </tr>\n",
       "    <tr>\n",
       "      <th>2</th>\n",
       "      <td>\"Globigerina\" ciperoensis _T</td>\n",
       "      <td>\"Globigerina\" ciperoensis _T</td>\n",
       "      <td>planktic_forams</td>\n",
       "      <td>NaN</td>\n",
       "    </tr>\n",
       "    <tr>\n",
       "      <th>3</th>\n",
       "      <td>\"Globigerina\" ciperoensis _T_</td>\n",
       "      <td>\"Globigerina\" ciperoensis _T_</td>\n",
       "      <td>planktic_forams</td>\n",
       "      <td>NaN</td>\n",
       "    </tr>\n",
       "    <tr>\n",
       "      <th>4</th>\n",
       "      <td>\"Skeletonema\" utriculosa</td>\n",
       "      <td>\"Skeletonema\" utriculosa</td>\n",
       "      <td>diatoms</td>\n",
       "      <td>NaN</td>\n",
       "    </tr>\n",
       "    <tr>\n",
       "      <th>...</th>\n",
       "      <td>...</td>\n",
       "      <td>...</td>\n",
       "      <td>...</td>\n",
       "      <td>...</td>\n",
       "    </tr>\n",
       "    <tr>\n",
       "      <th>4733</th>\n",
       "      <td>other Pennate</td>\n",
       "      <td>other Pennate</td>\n",
       "      <td>diatoms</td>\n",
       "      <td>NaN</td>\n",
       "    </tr>\n",
       "    <tr>\n",
       "      <th>4734</th>\n",
       "      <td>other pollen</td>\n",
       "      <td>other pollen</td>\n",
       "      <td>palynology</td>\n",
       "      <td>NaN</td>\n",
       "    </tr>\n",
       "    <tr>\n",
       "      <th>4735</th>\n",
       "      <td>reworked taxa</td>\n",
       "      <td>reworked taxa</td>\n",
       "      <td>nannofossils</td>\n",
       "      <td>NaN</td>\n",
       "    </tr>\n",
       "    <tr>\n",
       "      <th>4736</th>\n",
       "      <td>small Gephyrocapsa (&lt;4µm)</td>\n",
       "      <td>small Gephyrocapsa (&lt;4µm)</td>\n",
       "      <td>nannofossils</td>\n",
       "      <td>NaN</td>\n",
       "    </tr>\n",
       "    <tr>\n",
       "      <th>4737</th>\n",
       "      <td>spores</td>\n",
       "      <td>spores</td>\n",
       "      <td>palynology</td>\n",
       "      <td>NaN</td>\n",
       "    </tr>\n",
       "  </tbody>\n",
       "</table>\n",
       "<p>4738 rows × 4 columns</p>\n",
       "</div>"
      ],
      "text/plain": [
       "                          verbatim_name                               name  \\\n",
       "0      \"Globigerina\" angulisuturalis _T   \"Globigerina\" angulisuturalis _T   \n",
       "1     \"Globigerina\" angulisuturalis _T_  \"Globigerina\" angulisuturalis _T_   \n",
       "2          \"Globigerina\" ciperoensis _T       \"Globigerina\" ciperoensis _T   \n",
       "3         \"Globigerina\" ciperoensis _T_      \"Globigerina\" ciperoensis _T_   \n",
       "4              \"Skeletonema\" utriculosa           \"Skeletonema\" utriculosa   \n",
       "...                                 ...                                ...   \n",
       "4733                      other Pennate                      other Pennate   \n",
       "4734                       other pollen                       other pollen   \n",
       "4735                      reworked taxa                      reworked taxa   \n",
       "4736          small Gephyrocapsa (<4µm)          small Gephyrocapsa (<4µm)   \n",
       "4737                             spores                             spores   \n",
       "\n",
       "          taxon_group genera  \n",
       "0     planktic_forams    NaN  \n",
       "1     planktic_forams    NaN  \n",
       "2     planktic_forams    NaN  \n",
       "3     planktic_forams    NaN  \n",
       "4             diatoms    NaN  \n",
       "...               ...    ...  \n",
       "4733          diatoms    NaN  \n",
       "4734       palynology    NaN  \n",
       "4735     nannofossils    NaN  \n",
       "4736     nannofossils    NaN  \n",
       "4737       palynology    NaN  \n",
       "\n",
       "[4738 rows x 4 columns]"
      ]
     },
     "execution_count": 8,
     "metadata": {},
     "output_type": "execute_result"
    }
   ],
   "source": [
    "content = pd.read_csv(taxa_list_path)\n",
    "content"
   ]
  },
  {
   "cell_type": "code",
   "execution_count": 9,
   "metadata": {},
   "outputs": [
    {
     "data": {
      "text/html": [
       "<div>\n",
       "<style scoped>\n",
       "    .dataframe tbody tr th:only-of-type {\n",
       "        vertical-align: middle;\n",
       "    }\n",
       "\n",
       "    .dataframe tbody tr th {\n",
       "        vertical-align: top;\n",
       "    }\n",
       "\n",
       "    .dataframe thead th {\n",
       "        text-align: right;\n",
       "    }\n",
       "</style>\n",
       "<table border=\"1\" class=\"dataframe\">\n",
       "  <thead>\n",
       "    <tr style=\"text-align: right;\">\n",
       "      <th></th>\n",
       "      <th>verbatim_name</th>\n",
       "      <th>name</th>\n",
       "      <th>taxon_group</th>\n",
       "      <th>genera</th>\n",
       "    </tr>\n",
       "  </thead>\n",
       "  <tbody>\n",
       "    <tr>\n",
       "      <th>0</th>\n",
       "      <td>\"Globigerina\" angulisuturalis _T</td>\n",
       "      <td>\"Globigerina\" angulisuturalis _T</td>\n",
       "      <td>planktic_forams</td>\n",
       "      <td>NaN</td>\n",
       "    </tr>\n",
       "    <tr>\n",
       "      <th>1</th>\n",
       "      <td>\"Globigerina\" angulisuturalis _T_</td>\n",
       "      <td>\"Globigerina\" angulisuturalis _T_</td>\n",
       "      <td>planktic_forams</td>\n",
       "      <td>NaN</td>\n",
       "    </tr>\n",
       "    <tr>\n",
       "      <th>2</th>\n",
       "      <td>\"Globigerina\" ciperoensis _T</td>\n",
       "      <td>\"Globigerina\" ciperoensis _T</td>\n",
       "      <td>planktic_forams</td>\n",
       "      <td>NaN</td>\n",
       "    </tr>\n",
       "    <tr>\n",
       "      <th>3</th>\n",
       "      <td>\"Globigerina\" ciperoensis _T_</td>\n",
       "      <td>\"Globigerina\" ciperoensis _T_</td>\n",
       "      <td>planktic_forams</td>\n",
       "      <td>NaN</td>\n",
       "    </tr>\n",
       "    <tr>\n",
       "      <th>4</th>\n",
       "      <td>\"Skeletonema\" utriculosa</td>\n",
       "      <td>\"Skeletonema\" utriculosa</td>\n",
       "      <td>diatoms</td>\n",
       "      <td>NaN</td>\n",
       "    </tr>\n",
       "  </tbody>\n",
       "</table>\n",
       "</div>"
      ],
      "text/plain": [
       "                       verbatim_name                               name  \\\n",
       "0   \"Globigerina\" angulisuturalis _T   \"Globigerina\" angulisuturalis _T   \n",
       "1  \"Globigerina\" angulisuturalis _T_  \"Globigerina\" angulisuturalis _T_   \n",
       "2       \"Globigerina\" ciperoensis _T       \"Globigerina\" ciperoensis _T   \n",
       "3      \"Globigerina\" ciperoensis _T_      \"Globigerina\" ciperoensis _T_   \n",
       "4           \"Skeletonema\" utriculosa           \"Skeletonema\" utriculosa   \n",
       "\n",
       "       taxon_group genera  \n",
       "0  planktic_forams    NaN  \n",
       "1  planktic_forams    NaN  \n",
       "2  planktic_forams    NaN  \n",
       "3  planktic_forams    NaN  \n",
       "4          diatoms    NaN  "
      ]
     },
     "execution_count": 9,
     "metadata": {},
     "output_type": "execute_result"
    }
   ],
   "source": [
    "content['genera'] = content['name'].str.extract('^([A-Z][a-z]+) [a-z]+')\n",
    "content.head()"
   ]
  },
  {
   "cell_type": "markdown",
   "metadata": {},
   "source": [
    "### Append taxa csv"
   ]
  },
  {
   "cell_type": "code",
   "execution_count": 10,
   "metadata": {},
   "outputs": [],
   "source": [
    "content.to_csv(taxa_list_path, index=False)"
   ]
  },
  {
   "cell_type": "markdown",
   "metadata": {},
   "source": [
    "### Create genera csv"
   ]
  },
  {
   "cell_type": "code",
   "execution_count": 12,
   "metadata": {},
   "outputs": [],
   "source": [
    "genera = content['genera'].dropna(how='all')\n",
    "pd.DataFrame(genera.unique(), columns=['genera']).to_csv('cleaned_data/taxa/genera.csv', index=False)"
   ]
  }
 ],
 "metadata": {
  "kernelspec": {
   "display_name": "Python 3",
   "language": "python",
   "name": "python3"
  },
  "language_info": {
   "codemirror_mode": {
    "name": "ipython",
    "version": 3
   },
   "file_extension": ".py",
   "mimetype": "text/x-python",
   "name": "python",
   "nbconvert_exporter": "python",
   "pygments_lexer": "ipython3",
   "version": "3.6.8"
  }
 },
 "nbformat": 4,
 "nbformat_minor": 4
}
