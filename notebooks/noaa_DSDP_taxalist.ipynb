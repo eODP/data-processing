{
 "cells": [
  {
   "cell_type": "markdown",
   "metadata": {},
   "source": [
    "#  NOAA DSDP taxa list\n",
    "## 1-96 taxa\n",
    "\n",
    "Create list of taxa for NOAA DSDP files. Compare NOAA taxa with the taxa that the PIs have already approved in order create a list of unapproved taxa. Add PBDB data to unapproved taxa."
   ]
  },
  {
   "cell_type": "code",
   "execution_count": 1,
   "metadata": {},
   "outputs": [],
   "source": [
    "import sys\n",
    "import csv\n",
    "import glob\n",
    "import os\n",
    "import requests\n",
    "import re\n",
    "\n",
    "sys.path.append('../scripts/')\n",
    "sys.path.append('../')\n",
    "import pandas as pd\n",
    "import numpy as np\n",
    "\n",
    "import db \n",
    "import normalize_taxa as nt\n"
   ]
  },
  {
   "cell_type": "code",
   "execution_count": 88,
   "metadata": {},
   "outputs": [],
   "source": [
    "base_directory = 'cleaned_data'\n",
    "date='2021-07-28'\n",
    "metadata_path = os.path.join(base_directory, 'metadata', 'NOAA', 'noaa_dsdp_files.csv')\n",
    "approved_taxa_path = os.path.join(base_directory, 'taxa', 'LIMS', f'taxa_list_{date}.csv')\n",
    "\n",
    "crosswalk_path = os.path.join(base_directory, 'taxa', 'draft', 'NOAA',f'taxa_crosswalk_{date}.csv')\n",
    "merged_path = os.path.join(base_directory, 'taxa', 'draft', 'NOAA',f'taxa_merged_{date}.csv')\n",
    "merged2_path = os.path.join(base_directory, 'taxa', 'draft', 'NOAA',f'taxa_merged2_{date}.csv')\n",
    "\n",
    "taxa_path = os.path.join(base_directory, 'taxa', 'draft', 'NOAA',f'taxa_list_{date}.csv')\n",
    "genus_path = os.path.join(base_directory, 'taxa', 'draft', 'NOAA', f'genus_{date}.csv')\n",
    "taxa_pbdb_path = os.path.join(base_directory, 'taxa', 'draft', 'NOAA',f'taxa_list_pbdb_{date}.csv')\n"
   ]
  },
  {
   "cell_type": "code",
   "execution_count": 3,
   "metadata": {},
   "outputs": [],
   "source": [
    "def log_df(df, row_count=5):\n",
    "    print(df.shape)\n",
    "    return df.head(row_count)\n"
   ]
  },
  {
   "cell_type": "markdown",
   "metadata": {},
   "source": [
    "## Create taxa list"
   ]
  },
  {
   "cell_type": "code",
   "execution_count": 4,
   "metadata": {},
   "outputs": [
    {
     "name": "stdout",
     "output_type": "stream",
     "text": [
      "(4477, 5)\n"
     ]
    },
    {
     "data": {
      "text/html": [
       "<div>\n",
       "<style scoped>\n",
       "    .dataframe tbody tr th:only-of-type {\n",
       "        vertical-align: middle;\n",
       "    }\n",
       "\n",
       "    .dataframe tbody tr th {\n",
       "        vertical-align: top;\n",
       "    }\n",
       "\n",
       "    .dataframe thead th {\n",
       "        text-align: right;\n",
       "    }\n",
       "</style>\n",
       "<table border=\"1\" class=\"dataframe\">\n",
       "  <thead>\n",
       "    <tr style=\"text-align: right;\">\n",
       "      <th></th>\n",
       "      <th>path</th>\n",
       "      <th>type</th>\n",
       "      <th>taxon_group</th>\n",
       "      <th>expedition</th>\n",
       "      <th>site</th>\n",
       "    </tr>\n",
       "  </thead>\n",
       "  <tbody>\n",
       "    <tr>\n",
       "      <th>0</th>\n",
       "      <td>cleaned_data/NOAA_csv/DSDP_core_data/61/462/ra...</td>\n",
       "      <td>taxa</td>\n",
       "      <td>radiolarians</td>\n",
       "      <td>61</td>\n",
       "      <td>462</td>\n",
       "    </tr>\n",
       "    <tr>\n",
       "      <th>1</th>\n",
       "      <td>cleaned_data/NOAA_csv/DSDP_core_data/61/462/ag...</td>\n",
       "      <td>age</td>\n",
       "      <td>NaN</td>\n",
       "      <td>61</td>\n",
       "      <td>462</td>\n",
       "    </tr>\n",
       "    <tr>\n",
       "      <th>2</th>\n",
       "      <td>cleaned_data/NOAA_csv/DSDP_core_data/61/462/b_...</td>\n",
       "      <td>taxa</td>\n",
       "      <td>benthic_foraminfera</td>\n",
       "      <td>61</td>\n",
       "      <td>462</td>\n",
       "    </tr>\n",
       "    <tr>\n",
       "      <th>3</th>\n",
       "      <td>cleaned_data/NOAA_csv/DSDP_core_data/61/462/p_...</td>\n",
       "      <td>taxa</td>\n",
       "      <td>planktic_foraminfera</td>\n",
       "      <td>61</td>\n",
       "      <td>462</td>\n",
       "    </tr>\n",
       "    <tr>\n",
       "      <th>4</th>\n",
       "      <td>cleaned_data/NOAA_csv/DSDP_core_data/61/462/hr...</td>\n",
       "      <td>hard_rock</td>\n",
       "      <td>NaN</td>\n",
       "      <td>61</td>\n",
       "      <td>462</td>\n",
       "    </tr>\n",
       "  </tbody>\n",
       "</table>\n",
       "</div>"
      ],
      "text/plain": [
       "                                                path       type  \\\n",
       "0  cleaned_data/NOAA_csv/DSDP_core_data/61/462/ra...       taxa   \n",
       "1  cleaned_data/NOAA_csv/DSDP_core_data/61/462/ag...        age   \n",
       "2  cleaned_data/NOAA_csv/DSDP_core_data/61/462/b_...       taxa   \n",
       "3  cleaned_data/NOAA_csv/DSDP_core_data/61/462/p_...       taxa   \n",
       "4  cleaned_data/NOAA_csv/DSDP_core_data/61/462/hr...  hard_rock   \n",
       "\n",
       "            taxon_group expedition site  \n",
       "0          radiolarians         61  462  \n",
       "1                   NaN         61  462  \n",
       "2   benthic_foraminfera         61  462  \n",
       "3  planktic_foraminfera         61  462  \n",
       "4                   NaN         61  462  "
      ]
     },
     "execution_count": 4,
     "metadata": {},
     "output_type": "execute_result"
    }
   ],
   "source": [
    "metadata = pd.read_csv(metadata_path)\n",
    "log_df(metadata)"
   ]
  },
  {
   "cell_type": "markdown",
   "metadata": {},
   "source": [
    "read all the taxa files to get unique taxa names"
   ]
  },
  {
   "cell_type": "code",
   "execution_count": 5,
   "metadata": {},
   "outputs": [
    {
     "data": {
      "text/plain": [
       "9933"
      ]
     },
     "execution_count": 5,
     "metadata": {},
     "output_type": "execute_result"
    }
   ],
   "source": [
    "# 9933\n",
    "taxa = set()\n",
    "\n",
    "for index, row in metadata.iterrows():\n",
    "    if row['type'] == 'taxa':\n",
    "        df = pd.read_csv(row['path'])\n",
    "        df.dropna(axis=0, inplace=True, how='all')\n",
    "        df['temp'] = df['fossil'].str.strip() +  '|' + row['taxon_group']\n",
    "        \n",
    "        taxa.update(df['temp'])\n",
    "        \n",
    "len(taxa)"
   ]
  },
  {
   "cell_type": "code",
   "execution_count": 6,
   "metadata": {},
   "outputs": [
    {
     "data": {
      "text/plain": [
       "[nan,\n",
       " 'Triloculina tricarinata|benthic_foraminfera',\n",
       " 'Globigerapsis semiinvoluta|planktic_foraminfera',\n",
       " 'Engelhardtia sp.(q)|pollen',\n",
       " 'Bulimina pagoda|benthic_foraminfera',\n",
       " 'Thoracosphaera granifera|nannofossils',\n",
       " 'Discolithina enormis|nannofossils',\n",
       " 'Amphipyndax sp.|radiolarians',\n",
       " 'Distephanus speculum speculum pseudofibula (q)|silicoflagellates',\n",
       " 'Coccolithus formosus|nannofossils',\n",
       " 'Anomalinoides globulosus|benthic_foraminfera',\n",
       " 'Cleistosphaeridium sp.|dinoflagellates',\n",
       " 'Distephanus speculum patulus|silicoflagellates',\n",
       " 'Samlandia chlamydophora|dinoflagellates',\n",
       " 'Coccolithus primalis|nannofossils',\n",
       " 'Cibicidoides robertsonianus (q)|benthic_foraminfera',\n",
       " 'Tricolpites reticulatus (q)|pollen',\n",
       " 'Asteromphalus parvulus|diatoms',\n",
       " 'Botryocyrtis scutum|radiolarians',\n",
       " 'Polysolenia murrayana|radiolarians']"
      ]
     },
     "execution_count": 6,
     "metadata": {},
     "output_type": "execute_result"
    }
   ],
   "source": [
    "list(taxa)[0:20]"
   ]
  },
  {
   "cell_type": "code",
   "execution_count": 7,
   "metadata": {},
   "outputs": [
    {
     "data": {
      "text/plain": [
       "9932"
      ]
     },
     "execution_count": 7,
     "metadata": {},
     "output_type": "execute_result"
    }
   ],
   "source": [
    "# 9932\n",
    "taxa_list = []\n",
    "\n",
    "for taxon in taxa:\n",
    "    if not pd.isna(taxon):\n",
    "        taxon_name, taxon_group = taxon.split('|')\n",
    "        simplified_name = re.sub('\\(.*?\\)$', '', taxon_name).strip()\n",
    "        taxon_name_parts = simplified_name.split(' ')\n",
    "\n",
    "        data = {'verbatim_name': taxon_name, \n",
    "                'taxon_group': taxon_group, \n",
    "                'genus name': taxon_name_parts[0],\n",
    "                'simplified_name': simplified_name}\n",
    "        if len(taxon_name_parts) > 1:\n",
    "            data['species name'] = taxon_name_parts[1]\n",
    "        if len(taxon_name_parts) == 3:\n",
    "            data['subspecies name'] = taxon_name_parts[2]\n",
    "\n",
    "        taxa_list.append(data)\n",
    "        \n",
    "len(taxa_list)"
   ]
  },
  {
   "cell_type": "markdown",
   "metadata": {},
   "source": [
    "create taxa list csv"
   ]
  },
  {
   "cell_type": "code",
   "execution_count": 8,
   "metadata": {},
   "outputs": [
    {
     "name": "stdout",
     "output_type": "stream",
     "text": [
      "(9932, 6)\n"
     ]
    },
    {
     "data": {
      "text/html": [
       "<div>\n",
       "<style scoped>\n",
       "    .dataframe tbody tr th:only-of-type {\n",
       "        vertical-align: middle;\n",
       "    }\n",
       "\n",
       "    .dataframe tbody tr th {\n",
       "        vertical-align: top;\n",
       "    }\n",
       "\n",
       "    .dataframe thead th {\n",
       "        text-align: right;\n",
       "    }\n",
       "</style>\n",
       "<table border=\"1\" class=\"dataframe\">\n",
       "  <thead>\n",
       "    <tr style=\"text-align: right;\">\n",
       "      <th></th>\n",
       "      <th>verbatim_name</th>\n",
       "      <th>taxon_group</th>\n",
       "      <th>genus name</th>\n",
       "      <th>simplified_name</th>\n",
       "      <th>species name</th>\n",
       "      <th>subspecies name</th>\n",
       "    </tr>\n",
       "  </thead>\n",
       "  <tbody>\n",
       "    <tr>\n",
       "      <th>0</th>\n",
       "      <td>Triloculina tricarinata</td>\n",
       "      <td>benthic_foraminfera</td>\n",
       "      <td>Triloculina</td>\n",
       "      <td>Triloculina tricarinata</td>\n",
       "      <td>tricarinata</td>\n",
       "      <td>NaN</td>\n",
       "    </tr>\n",
       "    <tr>\n",
       "      <th>1</th>\n",
       "      <td>Globigerapsis semiinvoluta</td>\n",
       "      <td>planktic_foraminfera</td>\n",
       "      <td>Globigerapsis</td>\n",
       "      <td>Globigerapsis semiinvoluta</td>\n",
       "      <td>semiinvoluta</td>\n",
       "      <td>NaN</td>\n",
       "    </tr>\n",
       "    <tr>\n",
       "      <th>2</th>\n",
       "      <td>Engelhardtia sp.(q)</td>\n",
       "      <td>pollen</td>\n",
       "      <td>Engelhardtia</td>\n",
       "      <td>Engelhardtia sp.</td>\n",
       "      <td>sp.</td>\n",
       "      <td>NaN</td>\n",
       "    </tr>\n",
       "    <tr>\n",
       "      <th>3</th>\n",
       "      <td>Bulimina pagoda</td>\n",
       "      <td>benthic_foraminfera</td>\n",
       "      <td>Bulimina</td>\n",
       "      <td>Bulimina pagoda</td>\n",
       "      <td>pagoda</td>\n",
       "      <td>NaN</td>\n",
       "    </tr>\n",
       "    <tr>\n",
       "      <th>4</th>\n",
       "      <td>Thoracosphaera granifera</td>\n",
       "      <td>nannofossils</td>\n",
       "      <td>Thoracosphaera</td>\n",
       "      <td>Thoracosphaera granifera</td>\n",
       "      <td>granifera</td>\n",
       "      <td>NaN</td>\n",
       "    </tr>\n",
       "  </tbody>\n",
       "</table>\n",
       "</div>"
      ],
      "text/plain": [
       "                verbatim_name           taxon_group      genus name  \\\n",
       "0     Triloculina tricarinata   benthic_foraminfera     Triloculina   \n",
       "1  Globigerapsis semiinvoluta  planktic_foraminfera   Globigerapsis   \n",
       "2         Engelhardtia sp.(q)                pollen    Engelhardtia   \n",
       "3             Bulimina pagoda   benthic_foraminfera        Bulimina   \n",
       "4    Thoracosphaera granifera          nannofossils  Thoracosphaera   \n",
       "\n",
       "              simplified_name  species name subspecies name  \n",
       "0     Triloculina tricarinata   tricarinata             NaN  \n",
       "1  Globigerapsis semiinvoluta  semiinvoluta             NaN  \n",
       "2            Engelhardtia sp.           sp.             NaN  \n",
       "3             Bulimina pagoda        pagoda             NaN  \n",
       "4    Thoracosphaera granifera     granifera             NaN  "
      ]
     },
     "execution_count": 8,
     "metadata": {},
     "output_type": "execute_result"
    }
   ],
   "source": [
    "taxa_df = pd.DataFrame(taxa_list)\n",
    "log_df(taxa_df)"
   ]
  },
  {
   "cell_type": "code",
   "execution_count": 9,
   "metadata": {},
   "outputs": [],
   "source": [
    "taxa_df.to_csv(crosswalk_path, index=False)"
   ]
  },
  {
   "cell_type": "markdown",
   "metadata": {},
   "source": [
    "## compare and replace taxon groups "
   ]
  },
  {
   "cell_type": "code",
   "execution_count": null,
   "metadata": {},
   "outputs": [],
   "source": [
    "noaa_taxa_df = pd.read_csv(crosswalk_path)\n",
    "approved_taxa_df = pd.read_csv(approved_taxa_path)"
   ]
  },
  {
   "cell_type": "code",
   "execution_count": 27,
   "metadata": {},
   "outputs": [
    {
     "data": {
      "text/plain": [
       "['benthic_forams',\n",
       " 'bolboformids',\n",
       " 'chrysophyte_cysts',\n",
       " 'diatoms',\n",
       " 'dinoflagellates',\n",
       " 'ebridians',\n",
       " 'nannofossils',\n",
       " 'ostracods',\n",
       " 'palynology',\n",
       " 'planktic_forams',\n",
       " 'radiolarians',\n",
       " 'silicoflagellates']"
      ]
     },
     "execution_count": 27,
     "metadata": {},
     "output_type": "execute_result"
    }
   ],
   "source": [
    "approved_groups = list(approved_taxa_df['taxon_group'].unique())\n",
    "approved_groups.sort()\n",
    "approved_groups"
   ]
  },
  {
   "cell_type": "code",
   "execution_count": 28,
   "metadata": {},
   "outputs": [
    {
     "data": {
      "text/plain": [
       "['benthic_foraminfera',\n",
       " 'diatoms',\n",
       " 'dinoflagellates',\n",
       " 'ebridians',\n",
       " 'nannofossils',\n",
       " 'ostracods',\n",
       " 'phytoliths',\n",
       " 'planktic_foraminfera',\n",
       " 'pollen',\n",
       " 'radiolarians',\n",
       " 'silicoflagellates']"
      ]
     },
     "execution_count": 28,
     "metadata": {},
     "output_type": "execute_result"
    }
   ],
   "source": [
    "noaa_groups = list(noaa_taxa_df['taxon_group'].unique())\n",
    "noaa_groups.sort()\n",
    "noaa_groups"
   ]
  },
  {
   "cell_type": "code",
   "execution_count": 29,
   "metadata": {},
   "outputs": [
    {
     "data": {
      "text/plain": [
       "{'benthic_foraminfera', 'phytoliths', 'planktic_foraminfera', 'pollen'}"
      ]
     },
     "execution_count": 29,
     "metadata": {},
     "output_type": "execute_result"
    }
   ],
   "source": [
    "set(noaa_groups) -  set(approved_groups)"
   ]
  },
  {
   "cell_type": "code",
   "execution_count": 31,
   "metadata": {},
   "outputs": [
    {
     "data": {
      "text/html": [
       "<div>\n",
       "<style scoped>\n",
       "    .dataframe tbody tr th:only-of-type {\n",
       "        vertical-align: middle;\n",
       "    }\n",
       "\n",
       "    .dataframe tbody tr th {\n",
       "        vertical-align: top;\n",
       "    }\n",
       "\n",
       "    .dataframe thead th {\n",
       "        text-align: right;\n",
       "    }\n",
       "</style>\n",
       "<table border=\"1\" class=\"dataframe\">\n",
       "  <thead>\n",
       "    <tr style=\"text-align: right;\">\n",
       "      <th></th>\n",
       "      <th>verbatim_name</th>\n",
       "      <th>taxon_group</th>\n",
       "      <th>genus name</th>\n",
       "      <th>simplified_name</th>\n",
       "      <th>species name</th>\n",
       "      <th>subspecies name</th>\n",
       "    </tr>\n",
       "  </thead>\n",
       "  <tbody>\n",
       "    <tr>\n",
       "      <th>0</th>\n",
       "      <td>Triloculina tricarinata</td>\n",
       "      <td>benthic_forams</td>\n",
       "      <td>Triloculina</td>\n",
       "      <td>Triloculina tricarinata</td>\n",
       "      <td>tricarinata</td>\n",
       "      <td>NaN</td>\n",
       "    </tr>\n",
       "    <tr>\n",
       "      <th>1</th>\n",
       "      <td>Globigerapsis semiinvoluta</td>\n",
       "      <td>planktic_forams</td>\n",
       "      <td>Globigerapsis</td>\n",
       "      <td>Globigerapsis semiinvoluta</td>\n",
       "      <td>semiinvoluta</td>\n",
       "      <td>NaN</td>\n",
       "    </tr>\n",
       "    <tr>\n",
       "      <th>2</th>\n",
       "      <td>Engelhardtia sp.(q)</td>\n",
       "      <td>pollen</td>\n",
       "      <td>Engelhardtia</td>\n",
       "      <td>Engelhardtia sp.</td>\n",
       "      <td>sp.</td>\n",
       "      <td>NaN</td>\n",
       "    </tr>\n",
       "    <tr>\n",
       "      <th>3</th>\n",
       "      <td>Bulimina pagoda</td>\n",
       "      <td>benthic_forams</td>\n",
       "      <td>Bulimina</td>\n",
       "      <td>Bulimina pagoda</td>\n",
       "      <td>pagoda</td>\n",
       "      <td>NaN</td>\n",
       "    </tr>\n",
       "    <tr>\n",
       "      <th>4</th>\n",
       "      <td>Thoracosphaera granifera</td>\n",
       "      <td>nannofossils</td>\n",
       "      <td>Thoracosphaera</td>\n",
       "      <td>Thoracosphaera granifera</td>\n",
       "      <td>granifera</td>\n",
       "      <td>NaN</td>\n",
       "    </tr>\n",
       "  </tbody>\n",
       "</table>\n",
       "</div>"
      ],
      "text/plain": [
       "                verbatim_name      taxon_group      genus name  \\\n",
       "0     Triloculina tricarinata   benthic_forams     Triloculina   \n",
       "1  Globigerapsis semiinvoluta  planktic_forams   Globigerapsis   \n",
       "2         Engelhardtia sp.(q)           pollen    Engelhardtia   \n",
       "3             Bulimina pagoda   benthic_forams        Bulimina   \n",
       "4    Thoracosphaera granifera     nannofossils  Thoracosphaera   \n",
       "\n",
       "              simplified_name  species name subspecies name  \n",
       "0     Triloculina tricarinata   tricarinata             NaN  \n",
       "1  Globigerapsis semiinvoluta  semiinvoluta             NaN  \n",
       "2            Engelhardtia sp.           sp.             NaN  \n",
       "3             Bulimina pagoda        pagoda             NaN  \n",
       "4    Thoracosphaera granifera     granifera             NaN  "
      ]
     },
     "execution_count": 31,
     "metadata": {},
     "output_type": "execute_result"
    }
   ],
   "source": [
    "noaa_taxa_df = noaa_taxa_df.replace(['benthic_foraminfera', 'planktic_foraminfera'],\n",
    "                                    ['benthic_forams', 'planktic_forams'])\n",
    "noaa_taxa_df.head()"
   ]
  },
  {
   "cell_type": "code",
   "execution_count": 32,
   "metadata": {},
   "outputs": [],
   "source": [
    "noaa_taxa_df.to_csv(crosswalk_path, index=False)"
   ]
  },
  {
   "cell_type": "markdown",
   "metadata": {},
   "source": [
    "## Compare NOAA taxa with approved taxa"
   ]
  },
  {
   "cell_type": "markdown",
   "metadata": {},
   "source": [
    "get NOAA taxa"
   ]
  },
  {
   "cell_type": "code",
   "execution_count": 33,
   "metadata": {},
   "outputs": [
    {
     "name": "stdout",
     "output_type": "stream",
     "text": [
      "(9932, 6)\n"
     ]
    },
    {
     "data": {
      "text/html": [
       "<div>\n",
       "<style scoped>\n",
       "    .dataframe tbody tr th:only-of-type {\n",
       "        vertical-align: middle;\n",
       "    }\n",
       "\n",
       "    .dataframe tbody tr th {\n",
       "        vertical-align: top;\n",
       "    }\n",
       "\n",
       "    .dataframe thead th {\n",
       "        text-align: right;\n",
       "    }\n",
       "</style>\n",
       "<table border=\"1\" class=\"dataframe\">\n",
       "  <thead>\n",
       "    <tr style=\"text-align: right;\">\n",
       "      <th></th>\n",
       "      <th>verbatim_name</th>\n",
       "      <th>taxon_group</th>\n",
       "      <th>genus name</th>\n",
       "      <th>simplified_name</th>\n",
       "      <th>species name</th>\n",
       "      <th>subspecies name</th>\n",
       "    </tr>\n",
       "  </thead>\n",
       "  <tbody>\n",
       "    <tr>\n",
       "      <th>0</th>\n",
       "      <td>Triloculina tricarinata</td>\n",
       "      <td>benthic_forams</td>\n",
       "      <td>Triloculina</td>\n",
       "      <td>Triloculina tricarinata</td>\n",
       "      <td>tricarinata</td>\n",
       "      <td>NaN</td>\n",
       "    </tr>\n",
       "    <tr>\n",
       "      <th>1</th>\n",
       "      <td>Globigerapsis semiinvoluta</td>\n",
       "      <td>planktic_forams</td>\n",
       "      <td>Globigerapsis</td>\n",
       "      <td>Globigerapsis semiinvoluta</td>\n",
       "      <td>semiinvoluta</td>\n",
       "      <td>NaN</td>\n",
       "    </tr>\n",
       "    <tr>\n",
       "      <th>2</th>\n",
       "      <td>Engelhardtia sp.(q)</td>\n",
       "      <td>pollen</td>\n",
       "      <td>Engelhardtia</td>\n",
       "      <td>Engelhardtia sp.</td>\n",
       "      <td>sp.</td>\n",
       "      <td>NaN</td>\n",
       "    </tr>\n",
       "    <tr>\n",
       "      <th>3</th>\n",
       "      <td>Bulimina pagoda</td>\n",
       "      <td>benthic_forams</td>\n",
       "      <td>Bulimina</td>\n",
       "      <td>Bulimina pagoda</td>\n",
       "      <td>pagoda</td>\n",
       "      <td>NaN</td>\n",
       "    </tr>\n",
       "    <tr>\n",
       "      <th>4</th>\n",
       "      <td>Thoracosphaera granifera</td>\n",
       "      <td>nannofossils</td>\n",
       "      <td>Thoracosphaera</td>\n",
       "      <td>Thoracosphaera granifera</td>\n",
       "      <td>granifera</td>\n",
       "      <td>NaN</td>\n",
       "    </tr>\n",
       "  </tbody>\n",
       "</table>\n",
       "</div>"
      ],
      "text/plain": [
       "                verbatim_name      taxon_group      genus name  \\\n",
       "0     Triloculina tricarinata   benthic_forams     Triloculina   \n",
       "1  Globigerapsis semiinvoluta  planktic_forams   Globigerapsis   \n",
       "2         Engelhardtia sp.(q)           pollen    Engelhardtia   \n",
       "3             Bulimina pagoda   benthic_forams        Bulimina   \n",
       "4    Thoracosphaera granifera     nannofossils  Thoracosphaera   \n",
       "\n",
       "              simplified_name  species name subspecies name  \n",
       "0     Triloculina tricarinata   tricarinata             NaN  \n",
       "1  Globigerapsis semiinvoluta  semiinvoluta             NaN  \n",
       "2            Engelhardtia sp.           sp.             NaN  \n",
       "3             Bulimina pagoda        pagoda             NaN  \n",
       "4    Thoracosphaera granifera     granifera             NaN  "
      ]
     },
     "execution_count": 33,
     "metadata": {},
     "output_type": "execute_result"
    }
   ],
   "source": [
    "# 9932\n",
    "noaa_taxa_df = pd.read_csv(crosswalk_path)\n",
    "\n",
    "log_df(noaa_taxa_df)"
   ]
  },
  {
   "cell_type": "markdown",
   "metadata": {},
   "source": [
    "get approved taxa"
   ]
  },
  {
   "cell_type": "code",
   "execution_count": 34,
   "metadata": {},
   "outputs": [
    {
     "name": "stdout",
     "output_type": "stream",
     "text": [
      "(4209, 12)\n"
     ]
    },
    {
     "data": {
      "text/html": [
       "<div>\n",
       "<style scoped>\n",
       "    .dataframe tbody tr th:only-of-type {\n",
       "        vertical-align: middle;\n",
       "    }\n",
       "\n",
       "    .dataframe tbody tr th {\n",
       "        vertical-align: top;\n",
       "    }\n",
       "\n",
       "    .dataframe thead th {\n",
       "        text-align: right;\n",
       "    }\n",
       "</style>\n",
       "<table border=\"1\" class=\"dataframe\">\n",
       "  <thead>\n",
       "    <tr style=\"text-align: right;\">\n",
       "      <th></th>\n",
       "      <th>Any taxon above genus</th>\n",
       "      <th>genus modifier</th>\n",
       "      <th>genus name</th>\n",
       "      <th>subgenera modifier</th>\n",
       "      <th>subgenera name</th>\n",
       "      <th>species modifier</th>\n",
       "      <th>species name</th>\n",
       "      <th>subspecies modifier</th>\n",
       "      <th>subspecies name</th>\n",
       "      <th>non-taxa descriptor</th>\n",
       "      <th>normalized_name</th>\n",
       "      <th>taxon_group</th>\n",
       "    </tr>\n",
       "  </thead>\n",
       "  <tbody>\n",
       "    <tr>\n",
       "      <th>0</th>\n",
       "      <td>NaN</td>\n",
       "      <td>NaN</td>\n",
       "      <td>Euuvigerina</td>\n",
       "      <td>NaN</td>\n",
       "      <td>NaN</td>\n",
       "      <td>NaN</td>\n",
       "      <td>miozea</td>\n",
       "      <td>NaN</td>\n",
       "      <td>NaN</td>\n",
       "      <td>NaN</td>\n",
       "      <td>Euuvigerina miozea</td>\n",
       "      <td>benthic_forams</td>\n",
       "    </tr>\n",
       "    <tr>\n",
       "      <th>1</th>\n",
       "      <td>NaN</td>\n",
       "      <td>NaN</td>\n",
       "      <td>Euuvigerina</td>\n",
       "      <td>NaN</td>\n",
       "      <td>NaN</td>\n",
       "      <td>NaN</td>\n",
       "      <td>rodleyi</td>\n",
       "      <td>NaN</td>\n",
       "      <td>NaN</td>\n",
       "      <td>NaN</td>\n",
       "      <td>Euuvigerina rodleyi</td>\n",
       "      <td>benthic_forams</td>\n",
       "    </tr>\n",
       "    <tr>\n",
       "      <th>2</th>\n",
       "      <td>Foraminifera indet.</td>\n",
       "      <td>NaN</td>\n",
       "      <td>NaN</td>\n",
       "      <td>NaN</td>\n",
       "      <td>NaN</td>\n",
       "      <td>NaN</td>\n",
       "      <td>NaN</td>\n",
       "      <td>NaN</td>\n",
       "      <td>NaN</td>\n",
       "      <td>NaN</td>\n",
       "      <td>Foraminifera indet.</td>\n",
       "      <td>benthic_forams</td>\n",
       "    </tr>\n",
       "    <tr>\n",
       "      <th>3</th>\n",
       "      <td>Pleurostomellidae indet.</td>\n",
       "      <td>NaN</td>\n",
       "      <td>NaN</td>\n",
       "      <td>NaN</td>\n",
       "      <td>NaN</td>\n",
       "      <td>NaN</td>\n",
       "      <td>NaN</td>\n",
       "      <td>NaN</td>\n",
       "      <td>NaN</td>\n",
       "      <td>NaN</td>\n",
       "      <td>Pleurostomellidae indet.</td>\n",
       "      <td>benthic_forams</td>\n",
       "    </tr>\n",
       "    <tr>\n",
       "      <th>4</th>\n",
       "      <td>Ostracoda indet.</td>\n",
       "      <td>NaN</td>\n",
       "      <td>NaN</td>\n",
       "      <td>NaN</td>\n",
       "      <td>NaN</td>\n",
       "      <td>NaN</td>\n",
       "      <td>NaN</td>\n",
       "      <td>NaN</td>\n",
       "      <td>NaN</td>\n",
       "      <td>NaN</td>\n",
       "      <td>Ostracoda indet.</td>\n",
       "      <td>benthic_forams</td>\n",
       "    </tr>\n",
       "  </tbody>\n",
       "</table>\n",
       "</div>"
      ],
      "text/plain": [
       "      Any taxon above genus genus modifier   genus name subgenera modifier  \\\n",
       "0                       NaN            NaN  Euuvigerina                NaN   \n",
       "1                       NaN            NaN  Euuvigerina                NaN   \n",
       "2       Foraminifera indet.            NaN          NaN                NaN   \n",
       "3  Pleurostomellidae indet.            NaN          NaN                NaN   \n",
       "4          Ostracoda indet.            NaN          NaN                NaN   \n",
       "\n",
       "  subgenera name species modifier species name subspecies modifier  \\\n",
       "0            NaN              NaN       miozea                 NaN   \n",
       "1            NaN              NaN      rodleyi                 NaN   \n",
       "2            NaN              NaN          NaN                 NaN   \n",
       "3            NaN              NaN          NaN                 NaN   \n",
       "4            NaN              NaN          NaN                 NaN   \n",
       "\n",
       "  subspecies name non-taxa descriptor           normalized_name  \\\n",
       "0             NaN                 NaN        Euuvigerina miozea   \n",
       "1             NaN                 NaN       Euuvigerina rodleyi   \n",
       "2             NaN                 NaN       Foraminifera indet.   \n",
       "3             NaN                 NaN  Pleurostomellidae indet.   \n",
       "4             NaN                 NaN          Ostracoda indet.   \n",
       "\n",
       "      taxon_group  \n",
       "0  benthic_forams  \n",
       "1  benthic_forams  \n",
       "2  benthic_forams  \n",
       "3  benthic_forams  \n",
       "4  benthic_forams  "
      ]
     },
     "execution_count": 34,
     "metadata": {},
     "output_type": "execute_result"
    }
   ],
   "source": [
    "# 4209\n",
    "approved_taxa_df = pd.read_csv(approved_taxa_path)\n",
    "log_df(approved_taxa_df)"
   ]
  },
  {
   "cell_type": "markdown",
   "metadata": {},
   "source": [
    "add simplified_name without descriptor"
   ]
  },
  {
   "cell_type": "code",
   "execution_count": 35,
   "metadata": {},
   "outputs": [],
   "source": [
    "del approved_taxa_df['normalized_name'] \n"
   ]
  },
  {
   "cell_type": "code",
   "execution_count": 36,
   "metadata": {},
   "outputs": [],
   "source": [
    "approved_taxa_df = nt.add_normalized_name_column(approved_taxa_df, \n",
    "                                                 include_descriptor=False, \n",
    "                                                 col_name=\"simplified_name\")"
   ]
  },
  {
   "cell_type": "code",
   "execution_count": 37,
   "metadata": {},
   "outputs": [
    {
     "data": {
      "text/html": [
       "<div>\n",
       "<style scoped>\n",
       "    .dataframe tbody tr th:only-of-type {\n",
       "        vertical-align: middle;\n",
       "    }\n",
       "\n",
       "    .dataframe tbody tr th {\n",
       "        vertical-align: top;\n",
       "    }\n",
       "\n",
       "    .dataframe thead th {\n",
       "        text-align: right;\n",
       "    }\n",
       "</style>\n",
       "<table border=\"1\" class=\"dataframe\">\n",
       "  <thead>\n",
       "    <tr style=\"text-align: right;\">\n",
       "      <th></th>\n",
       "      <th>Any taxon above genus</th>\n",
       "      <th>genus modifier</th>\n",
       "      <th>genus name</th>\n",
       "      <th>subgenera modifier</th>\n",
       "      <th>subgenera name</th>\n",
       "      <th>species modifier</th>\n",
       "      <th>species name</th>\n",
       "      <th>subspecies modifier</th>\n",
       "      <th>subspecies name</th>\n",
       "      <th>non-taxa descriptor</th>\n",
       "      <th>taxon_group</th>\n",
       "      <th>simplified_name</th>\n",
       "    </tr>\n",
       "  </thead>\n",
       "  <tbody>\n",
       "    <tr>\n",
       "      <th>28</th>\n",
       "      <td>NaN</td>\n",
       "      <td>NaN</td>\n",
       "      <td>Globigerinoides</td>\n",
       "      <td>NaN</td>\n",
       "      <td>NaN</td>\n",
       "      <td>NaN</td>\n",
       "      <td>sacculifer</td>\n",
       "      <td>NaN</td>\n",
       "      <td>NaN</td>\n",
       "      <td>without sac</td>\n",
       "      <td>planktic_forams</td>\n",
       "      <td>Globigerinoides sacculifer</td>\n",
       "    </tr>\n",
       "    <tr>\n",
       "      <th>201</th>\n",
       "      <td>NaN</td>\n",
       "      <td>NaN</td>\n",
       "      <td>Bolivina</td>\n",
       "      <td>NaN</td>\n",
       "      <td>NaN</td>\n",
       "      <td>cf.</td>\n",
       "      <td>crenulata</td>\n",
       "      <td>NaN</td>\n",
       "      <td>NaN</td>\n",
       "      <td>crenulate</td>\n",
       "      <td>benthic_forams</td>\n",
       "      <td>Bolivina cf. crenulata</td>\n",
       "    </tr>\n",
       "  </tbody>\n",
       "</table>\n",
       "</div>"
      ],
      "text/plain": [
       "    Any taxon above genus genus modifier       genus name subgenera modifier  \\\n",
       "28                    NaN            NaN  Globigerinoides                NaN   \n",
       "201                   NaN            NaN         Bolivina                NaN   \n",
       "\n",
       "    subgenera name species modifier species name subspecies modifier  \\\n",
       "28             NaN              NaN   sacculifer                 NaN   \n",
       "201            NaN             cf.     crenulata                 NaN   \n",
       "\n",
       "    subspecies name non-taxa descriptor      taxon_group  \\\n",
       "28              NaN         without sac  planktic_forams   \n",
       "201             NaN           crenulate   benthic_forams   \n",
       "\n",
       "                simplified_name  \n",
       "28   Globigerinoides sacculifer  \n",
       "201      Bolivina cf. crenulata  "
      ]
     },
     "execution_count": 37,
     "metadata": {},
     "output_type": "execute_result"
    }
   ],
   "source": [
    "approved_taxa_df[approved_taxa_df['non-taxa descriptor'].notna()].head(2)"
   ]
  },
  {
   "cell_type": "code",
   "execution_count": 38,
   "metadata": {},
   "outputs": [
    {
     "name": "stdout",
     "output_type": "stream",
     "text": [
      "(4209, 2)\n"
     ]
    },
    {
     "data": {
      "text/html": [
       "<div>\n",
       "<style scoped>\n",
       "    .dataframe tbody tr th:only-of-type {\n",
       "        vertical-align: middle;\n",
       "    }\n",
       "\n",
       "    .dataframe tbody tr th {\n",
       "        vertical-align: top;\n",
       "    }\n",
       "\n",
       "    .dataframe thead th {\n",
       "        text-align: right;\n",
       "    }\n",
       "</style>\n",
       "<table border=\"1\" class=\"dataframe\">\n",
       "  <thead>\n",
       "    <tr style=\"text-align: right;\">\n",
       "      <th></th>\n",
       "      <th>taxon_group</th>\n",
       "      <th>simplified_name</th>\n",
       "    </tr>\n",
       "  </thead>\n",
       "  <tbody>\n",
       "    <tr>\n",
       "      <th>0</th>\n",
       "      <td>benthic_forams</td>\n",
       "      <td>Euuvigerina miozea</td>\n",
       "    </tr>\n",
       "    <tr>\n",
       "      <th>1</th>\n",
       "      <td>benthic_forams</td>\n",
       "      <td>Euuvigerina rodleyi</td>\n",
       "    </tr>\n",
       "    <tr>\n",
       "      <th>2</th>\n",
       "      <td>benthic_forams</td>\n",
       "      <td>Foraminifera indet.</td>\n",
       "    </tr>\n",
       "    <tr>\n",
       "      <th>3</th>\n",
       "      <td>benthic_forams</td>\n",
       "      <td>Pleurostomellidae indet.</td>\n",
       "    </tr>\n",
       "    <tr>\n",
       "      <th>4</th>\n",
       "      <td>benthic_forams</td>\n",
       "      <td>Ostracoda indet.</td>\n",
       "    </tr>\n",
       "  </tbody>\n",
       "</table>\n",
       "</div>"
      ],
      "text/plain": [
       "      taxon_group           simplified_name\n",
       "0  benthic_forams        Euuvigerina miozea\n",
       "1  benthic_forams       Euuvigerina rodleyi\n",
       "2  benthic_forams       Foraminifera indet.\n",
       "3  benthic_forams  Pleurostomellidae indet.\n",
       "4  benthic_forams          Ostracoda indet."
      ]
     },
     "execution_count": 38,
     "metadata": {},
     "output_type": "execute_result"
    }
   ],
   "source": [
    "approved_taxa_df = pd.DataFrame(approved_taxa_df[['taxon_group', 'simplified_name']])\n",
    "log_df(approved_taxa_df)"
   ]
  },
  {
   "cell_type": "markdown",
   "metadata": {},
   "source": [
    "### merge NOAA taxa with approved taxa"
   ]
  },
  {
   "cell_type": "code",
   "execution_count": 57,
   "metadata": {},
   "outputs": [
    {
     "name": "stdout",
     "output_type": "stream",
     "text": [
      "(10109, 7)\n"
     ]
    },
    {
     "data": {
      "text/html": [
       "<div>\n",
       "<style scoped>\n",
       "    .dataframe tbody tr th:only-of-type {\n",
       "        vertical-align: middle;\n",
       "    }\n",
       "\n",
       "    .dataframe tbody tr th {\n",
       "        vertical-align: top;\n",
       "    }\n",
       "\n",
       "    .dataframe thead th {\n",
       "        text-align: right;\n",
       "    }\n",
       "</style>\n",
       "<table border=\"1\" class=\"dataframe\">\n",
       "  <thead>\n",
       "    <tr style=\"text-align: right;\">\n",
       "      <th></th>\n",
       "      <th>verbatim_name</th>\n",
       "      <th>taxon_group</th>\n",
       "      <th>genus name</th>\n",
       "      <th>simplified_name</th>\n",
       "      <th>species name</th>\n",
       "      <th>subspecies name</th>\n",
       "      <th>_merge_approved</th>\n",
       "    </tr>\n",
       "  </thead>\n",
       "  <tbody>\n",
       "    <tr>\n",
       "      <th>0</th>\n",
       "      <td>Triloculina tricarinata</td>\n",
       "      <td>benthic_forams</td>\n",
       "      <td>Triloculina</td>\n",
       "      <td>Triloculina tricarinata</td>\n",
       "      <td>tricarinata</td>\n",
       "      <td>NaN</td>\n",
       "      <td>both</td>\n",
       "    </tr>\n",
       "    <tr>\n",
       "      <th>1</th>\n",
       "      <td>Globigerapsis semiinvoluta</td>\n",
       "      <td>planktic_forams</td>\n",
       "      <td>Globigerapsis</td>\n",
       "      <td>Globigerapsis semiinvoluta</td>\n",
       "      <td>semiinvoluta</td>\n",
       "      <td>NaN</td>\n",
       "      <td>left_only</td>\n",
       "    </tr>\n",
       "    <tr>\n",
       "      <th>2</th>\n",
       "      <td>Engelhardtia sp.(q)</td>\n",
       "      <td>pollen</td>\n",
       "      <td>Engelhardtia</td>\n",
       "      <td>Engelhardtia sp.</td>\n",
       "      <td>sp.</td>\n",
       "      <td>NaN</td>\n",
       "      <td>left_only</td>\n",
       "    </tr>\n",
       "    <tr>\n",
       "      <th>3</th>\n",
       "      <td>Bulimina pagoda</td>\n",
       "      <td>benthic_forams</td>\n",
       "      <td>Bulimina</td>\n",
       "      <td>Bulimina pagoda</td>\n",
       "      <td>pagoda</td>\n",
       "      <td>NaN</td>\n",
       "      <td>left_only</td>\n",
       "    </tr>\n",
       "    <tr>\n",
       "      <th>4</th>\n",
       "      <td>Thoracosphaera granifera</td>\n",
       "      <td>nannofossils</td>\n",
       "      <td>Thoracosphaera</td>\n",
       "      <td>Thoracosphaera granifera</td>\n",
       "      <td>granifera</td>\n",
       "      <td>NaN</td>\n",
       "      <td>left_only</td>\n",
       "    </tr>\n",
       "  </tbody>\n",
       "</table>\n",
       "</div>"
      ],
      "text/plain": [
       "                verbatim_name      taxon_group      genus name  \\\n",
       "0     Triloculina tricarinata   benthic_forams     Triloculina   \n",
       "1  Globigerapsis semiinvoluta  planktic_forams   Globigerapsis   \n",
       "2         Engelhardtia sp.(q)           pollen    Engelhardtia   \n",
       "3             Bulimina pagoda   benthic_forams        Bulimina   \n",
       "4    Thoracosphaera granifera     nannofossils  Thoracosphaera   \n",
       "\n",
       "              simplified_name  species name subspecies name _merge_approved  \n",
       "0     Triloculina tricarinata   tricarinata             NaN            both  \n",
       "1  Globigerapsis semiinvoluta  semiinvoluta             NaN       left_only  \n",
       "2            Engelhardtia sp.           sp.             NaN       left_only  \n",
       "3             Bulimina pagoda        pagoda             NaN       left_only  \n",
       "4    Thoracosphaera granifera     granifera             NaN       left_only  "
      ]
     },
     "execution_count": 57,
     "metadata": {},
     "output_type": "execute_result"
    }
   ],
   "source": [
    "# 10109 \n",
    "merged_df = pd.merge(noaa_taxa_df, approved_taxa_df,  \n",
    "                     on=['simplified_name', 'taxon_group' ], \n",
    "                     how='left',\n",
    "                     indicator='_merge_approved')\n",
    "\n",
    "log_df(merged_df)\n"
   ]
  },
  {
   "cell_type": "code",
   "execution_count": 58,
   "metadata": {},
   "outputs": [],
   "source": [
    "merged_df.to_csv(merged_path, index=False)\n"
   ]
  },
  {
   "cell_type": "code",
   "execution_count": 61,
   "metadata": {},
   "outputs": [
    {
     "name": "stdout",
     "output_type": "stream",
     "text": [
      "(10114, 8)\n"
     ]
    },
    {
     "data": {
      "text/html": [
       "<div>\n",
       "<style scoped>\n",
       "    .dataframe tbody tr th:only-of-type {\n",
       "        vertical-align: middle;\n",
       "    }\n",
       "\n",
       "    .dataframe tbody tr th {\n",
       "        vertical-align: top;\n",
       "    }\n",
       "\n",
       "    .dataframe thead th {\n",
       "        text-align: right;\n",
       "    }\n",
       "</style>\n",
       "<table border=\"1\" class=\"dataframe\">\n",
       "  <thead>\n",
       "    <tr style=\"text-align: right;\">\n",
       "      <th></th>\n",
       "      <th>verbatim_name</th>\n",
       "      <th>taxon_group_x</th>\n",
       "      <th>genus name</th>\n",
       "      <th>simplified_name</th>\n",
       "      <th>species name</th>\n",
       "      <th>subspecies name</th>\n",
       "      <th>taxon_group_y</th>\n",
       "      <th>_merge_approved</th>\n",
       "    </tr>\n",
       "  </thead>\n",
       "  <tbody>\n",
       "    <tr>\n",
       "      <th>0</th>\n",
       "      <td>Triloculina tricarinata</td>\n",
       "      <td>benthic_forams</td>\n",
       "      <td>Triloculina</td>\n",
       "      <td>Triloculina tricarinata</td>\n",
       "      <td>tricarinata</td>\n",
       "      <td>NaN</td>\n",
       "      <td>benthic_forams</td>\n",
       "      <td>both</td>\n",
       "    </tr>\n",
       "    <tr>\n",
       "      <th>1</th>\n",
       "      <td>Globigerapsis semiinvoluta</td>\n",
       "      <td>planktic_forams</td>\n",
       "      <td>Globigerapsis</td>\n",
       "      <td>Globigerapsis semiinvoluta</td>\n",
       "      <td>semiinvoluta</td>\n",
       "      <td>NaN</td>\n",
       "      <td>NaN</td>\n",
       "      <td>left_only</td>\n",
       "    </tr>\n",
       "    <tr>\n",
       "      <th>2</th>\n",
       "      <td>Engelhardtia sp.(q)</td>\n",
       "      <td>pollen</td>\n",
       "      <td>Engelhardtia</td>\n",
       "      <td>Engelhardtia sp.</td>\n",
       "      <td>sp.</td>\n",
       "      <td>NaN</td>\n",
       "      <td>NaN</td>\n",
       "      <td>left_only</td>\n",
       "    </tr>\n",
       "    <tr>\n",
       "      <th>3</th>\n",
       "      <td>Bulimina pagoda</td>\n",
       "      <td>benthic_forams</td>\n",
       "      <td>Bulimina</td>\n",
       "      <td>Bulimina pagoda</td>\n",
       "      <td>pagoda</td>\n",
       "      <td>NaN</td>\n",
       "      <td>NaN</td>\n",
       "      <td>left_only</td>\n",
       "    </tr>\n",
       "    <tr>\n",
       "      <th>4</th>\n",
       "      <td>Thoracosphaera granifera</td>\n",
       "      <td>nannofossils</td>\n",
       "      <td>Thoracosphaera</td>\n",
       "      <td>Thoracosphaera granifera</td>\n",
       "      <td>granifera</td>\n",
       "      <td>NaN</td>\n",
       "      <td>NaN</td>\n",
       "      <td>left_only</td>\n",
       "    </tr>\n",
       "  </tbody>\n",
       "</table>\n",
       "</div>"
      ],
      "text/plain": [
       "                verbatim_name    taxon_group_x      genus name  \\\n",
       "0     Triloculina tricarinata   benthic_forams     Triloculina   \n",
       "1  Globigerapsis semiinvoluta  planktic_forams   Globigerapsis   \n",
       "2         Engelhardtia sp.(q)           pollen    Engelhardtia   \n",
       "3             Bulimina pagoda   benthic_forams        Bulimina   \n",
       "4    Thoracosphaera granifera     nannofossils  Thoracosphaera   \n",
       "\n",
       "              simplified_name  species name subspecies name   taxon_group_y  \\\n",
       "0     Triloculina tricarinata   tricarinata             NaN  benthic_forams   \n",
       "1  Globigerapsis semiinvoluta  semiinvoluta             NaN             NaN   \n",
       "2            Engelhardtia sp.           sp.             NaN             NaN   \n",
       "3             Bulimina pagoda        pagoda             NaN             NaN   \n",
       "4    Thoracosphaera granifera     granifera             NaN             NaN   \n",
       "\n",
       "  _merge_approved  \n",
       "0            both  \n",
       "1       left_only  \n",
       "2       left_only  \n",
       "3       left_only  \n",
       "4       left_only  "
      ]
     },
     "execution_count": 61,
     "metadata": {},
     "output_type": "execute_result"
    }
   ],
   "source": [
    "# 10114 \n",
    "merged2_df = pd.merge(noaa_taxa_df, approved_taxa_df,  \n",
    "                     on=['simplified_name'], \n",
    "                     how='left',\n",
    "                     indicator='_merge_approved')\n",
    "\n",
    "log_df(merged2_df)\n"
   ]
  },
  {
   "cell_type": "markdown",
   "metadata": {},
   "source": [
    "save changes to taxa_all csv"
   ]
  },
  {
   "cell_type": "code",
   "execution_count": 62,
   "metadata": {},
   "outputs": [],
   "source": [
    "merged2_df.to_csv(merged2_path, index=False)"
   ]
  },
  {
   "cell_type": "markdown",
   "metadata": {},
   "source": [
    "the reason for the count difference is because the LIMS taxa list sometimes puts a taxa in two groups\n",
    "\n",
    "NOAA: Selenopemphix nephroides - dinoflagellates \n",
    "LIMS: Selenopemphix nephroides - dinoflagellates, palynology"
   ]
  },
  {
   "cell_type": "markdown",
   "metadata": {},
   "source": [
    "## Created taxa list with unapproved NOAA taxa"
   ]
  },
  {
   "cell_type": "markdown",
   "metadata": {},
   "source": [
    "Select unapproved NOAA taxa. When _merged is both, it means the taxa has been approved. When _merged is left_only, it means the taxa has not been approved."
   ]
  },
  {
   "cell_type": "code",
   "execution_count": 66,
   "metadata": {},
   "outputs": [
    {
     "name": "stdout",
     "output_type": "stream",
     "text": [
      "(10109, 7)\n"
     ]
    },
    {
     "data": {
      "text/html": [
       "<div>\n",
       "<style scoped>\n",
       "    .dataframe tbody tr th:only-of-type {\n",
       "        vertical-align: middle;\n",
       "    }\n",
       "\n",
       "    .dataframe tbody tr th {\n",
       "        vertical-align: top;\n",
       "    }\n",
       "\n",
       "    .dataframe thead th {\n",
       "        text-align: right;\n",
       "    }\n",
       "</style>\n",
       "<table border=\"1\" class=\"dataframe\">\n",
       "  <thead>\n",
       "    <tr style=\"text-align: right;\">\n",
       "      <th></th>\n",
       "      <th>verbatim_name</th>\n",
       "      <th>taxon_group</th>\n",
       "      <th>genus name</th>\n",
       "      <th>simplified_name</th>\n",
       "      <th>species name</th>\n",
       "      <th>subspecies name</th>\n",
       "      <th>_merge_approved</th>\n",
       "    </tr>\n",
       "  </thead>\n",
       "  <tbody>\n",
       "    <tr>\n",
       "      <th>0</th>\n",
       "      <td>Triloculina tricarinata</td>\n",
       "      <td>benthic_forams</td>\n",
       "      <td>Triloculina</td>\n",
       "      <td>Triloculina tricarinata</td>\n",
       "      <td>tricarinata</td>\n",
       "      <td>NaN</td>\n",
       "      <td>both</td>\n",
       "    </tr>\n",
       "    <tr>\n",
       "      <th>1</th>\n",
       "      <td>Globigerapsis semiinvoluta</td>\n",
       "      <td>planktic_forams</td>\n",
       "      <td>Globigerapsis</td>\n",
       "      <td>Globigerapsis semiinvoluta</td>\n",
       "      <td>semiinvoluta</td>\n",
       "      <td>NaN</td>\n",
       "      <td>left_only</td>\n",
       "    </tr>\n",
       "    <tr>\n",
       "      <th>2</th>\n",
       "      <td>Engelhardtia sp.(q)</td>\n",
       "      <td>pollen</td>\n",
       "      <td>Engelhardtia</td>\n",
       "      <td>Engelhardtia sp.</td>\n",
       "      <td>sp.</td>\n",
       "      <td>NaN</td>\n",
       "      <td>left_only</td>\n",
       "    </tr>\n",
       "    <tr>\n",
       "      <th>3</th>\n",
       "      <td>Bulimina pagoda</td>\n",
       "      <td>benthic_forams</td>\n",
       "      <td>Bulimina</td>\n",
       "      <td>Bulimina pagoda</td>\n",
       "      <td>pagoda</td>\n",
       "      <td>NaN</td>\n",
       "      <td>left_only</td>\n",
       "    </tr>\n",
       "    <tr>\n",
       "      <th>4</th>\n",
       "      <td>Thoracosphaera granifera</td>\n",
       "      <td>nannofossils</td>\n",
       "      <td>Thoracosphaera</td>\n",
       "      <td>Thoracosphaera granifera</td>\n",
       "      <td>granifera</td>\n",
       "      <td>NaN</td>\n",
       "      <td>left_only</td>\n",
       "    </tr>\n",
       "  </tbody>\n",
       "</table>\n",
       "</div>"
      ],
      "text/plain": [
       "                verbatim_name      taxon_group      genus name  \\\n",
       "0     Triloculina tricarinata   benthic_forams     Triloculina   \n",
       "1  Globigerapsis semiinvoluta  planktic_forams   Globigerapsis   \n",
       "2         Engelhardtia sp.(q)           pollen    Engelhardtia   \n",
       "3             Bulimina pagoda   benthic_forams        Bulimina   \n",
       "4    Thoracosphaera granifera     nannofossils  Thoracosphaera   \n",
       "\n",
       "              simplified_name  species name subspecies name _merge_approved  \n",
       "0     Triloculina tricarinata   tricarinata             NaN            both  \n",
       "1  Globigerapsis semiinvoluta  semiinvoluta             NaN       left_only  \n",
       "2            Engelhardtia sp.           sp.             NaN       left_only  \n",
       "3             Bulimina pagoda        pagoda             NaN       left_only  \n",
       "4    Thoracosphaera granifera     granifera             NaN       left_only  "
      ]
     },
     "execution_count": 66,
     "metadata": {},
     "output_type": "execute_result"
    }
   ],
   "source": [
    "merged_df = pd.read_csv(merged_path)\n",
    "log_df(merged_df)"
   ]
  },
  {
   "cell_type": "code",
   "execution_count": 67,
   "metadata": {},
   "outputs": [
    {
     "name": "stdout",
     "output_type": "stream",
     "text": [
      "(7763, 7)\n"
     ]
    },
    {
     "data": {
      "text/html": [
       "<div>\n",
       "<style scoped>\n",
       "    .dataframe tbody tr th:only-of-type {\n",
       "        vertical-align: middle;\n",
       "    }\n",
       "\n",
       "    .dataframe tbody tr th {\n",
       "        vertical-align: top;\n",
       "    }\n",
       "\n",
       "    .dataframe thead th {\n",
       "        text-align: right;\n",
       "    }\n",
       "</style>\n",
       "<table border=\"1\" class=\"dataframe\">\n",
       "  <thead>\n",
       "    <tr style=\"text-align: right;\">\n",
       "      <th></th>\n",
       "      <th>verbatim_name</th>\n",
       "      <th>taxon_group</th>\n",
       "      <th>genus name</th>\n",
       "      <th>simplified_name</th>\n",
       "      <th>species name</th>\n",
       "      <th>subspecies name</th>\n",
       "      <th>_merge_approved</th>\n",
       "    </tr>\n",
       "  </thead>\n",
       "  <tbody>\n",
       "    <tr>\n",
       "      <th>1</th>\n",
       "      <td>Globigerapsis semiinvoluta</td>\n",
       "      <td>planktic_forams</td>\n",
       "      <td>Globigerapsis</td>\n",
       "      <td>Globigerapsis semiinvoluta</td>\n",
       "      <td>semiinvoluta</td>\n",
       "      <td>NaN</td>\n",
       "      <td>left_only</td>\n",
       "    </tr>\n",
       "    <tr>\n",
       "      <th>2</th>\n",
       "      <td>Engelhardtia sp.(q)</td>\n",
       "      <td>pollen</td>\n",
       "      <td>Engelhardtia</td>\n",
       "      <td>Engelhardtia sp.</td>\n",
       "      <td>sp.</td>\n",
       "      <td>NaN</td>\n",
       "      <td>left_only</td>\n",
       "    </tr>\n",
       "    <tr>\n",
       "      <th>3</th>\n",
       "      <td>Bulimina pagoda</td>\n",
       "      <td>benthic_forams</td>\n",
       "      <td>Bulimina</td>\n",
       "      <td>Bulimina pagoda</td>\n",
       "      <td>pagoda</td>\n",
       "      <td>NaN</td>\n",
       "      <td>left_only</td>\n",
       "    </tr>\n",
       "    <tr>\n",
       "      <th>4</th>\n",
       "      <td>Thoracosphaera granifera</td>\n",
       "      <td>nannofossils</td>\n",
       "      <td>Thoracosphaera</td>\n",
       "      <td>Thoracosphaera granifera</td>\n",
       "      <td>granifera</td>\n",
       "      <td>NaN</td>\n",
       "      <td>left_only</td>\n",
       "    </tr>\n",
       "    <tr>\n",
       "      <th>5</th>\n",
       "      <td>Discolithina enormis</td>\n",
       "      <td>nannofossils</td>\n",
       "      <td>Discolithina</td>\n",
       "      <td>Discolithina enormis</td>\n",
       "      <td>enormis</td>\n",
       "      <td>NaN</td>\n",
       "      <td>left_only</td>\n",
       "    </tr>\n",
       "  </tbody>\n",
       "</table>\n",
       "</div>"
      ],
      "text/plain": [
       "                verbatim_name      taxon_group      genus name  \\\n",
       "1  Globigerapsis semiinvoluta  planktic_forams   Globigerapsis   \n",
       "2         Engelhardtia sp.(q)           pollen    Engelhardtia   \n",
       "3             Bulimina pagoda   benthic_forams        Bulimina   \n",
       "4    Thoracosphaera granifera     nannofossils  Thoracosphaera   \n",
       "5        Discolithina enormis     nannofossils    Discolithina   \n",
       "\n",
       "              simplified_name  species name subspecies name _merge_approved  \n",
       "1  Globigerapsis semiinvoluta  semiinvoluta             NaN       left_only  \n",
       "2            Engelhardtia sp.           sp.             NaN       left_only  \n",
       "3             Bulimina pagoda        pagoda             NaN       left_only  \n",
       "4    Thoracosphaera granifera     granifera             NaN       left_only  \n",
       "5        Discolithina enormis       enormis             NaN       left_only  "
      ]
     },
     "execution_count": 67,
     "metadata": {},
     "output_type": "execute_result"
    }
   ],
   "source": [
    "(7763, 7)\n",
    "unapproved_taxa_df = merged_df[merged_df['_merge_approved'] == 'left_only'].copy()\n",
    "\n",
    "log_df(unapproved_taxa_df)"
   ]
  },
  {
   "cell_type": "markdown",
   "metadata": {},
   "source": [
    "create csv of unapproved NOAA taxa"
   ]
  },
  {
   "cell_type": "code",
   "execution_count": 68,
   "metadata": {},
   "outputs": [],
   "source": [
    "unapproved_taxa_df.to_csv(taxa_path, index=False)"
   ]
  },
  {
   "cell_type": "markdown",
   "metadata": {},
   "source": [
    "## Add PBDB data for taxa that aren't approved"
   ]
  },
  {
   "cell_type": "markdown",
   "metadata": {},
   "source": [
    "Look up the genus for unapproved taxa in PBDB"
   ]
  },
  {
   "cell_type": "code",
   "execution_count": 70,
   "metadata": {},
   "outputs": [
    {
     "name": "stdout",
     "output_type": "stream",
     "text": [
      "(7763, 7)\n"
     ]
    },
    {
     "data": {
      "text/html": [
       "<div>\n",
       "<style scoped>\n",
       "    .dataframe tbody tr th:only-of-type {\n",
       "        vertical-align: middle;\n",
       "    }\n",
       "\n",
       "    .dataframe tbody tr th {\n",
       "        vertical-align: top;\n",
       "    }\n",
       "\n",
       "    .dataframe thead th {\n",
       "        text-align: right;\n",
       "    }\n",
       "</style>\n",
       "<table border=\"1\" class=\"dataframe\">\n",
       "  <thead>\n",
       "    <tr style=\"text-align: right;\">\n",
       "      <th></th>\n",
       "      <th>verbatim_name</th>\n",
       "      <th>taxon_group</th>\n",
       "      <th>genus name</th>\n",
       "      <th>simplified_name</th>\n",
       "      <th>species name</th>\n",
       "      <th>subspecies name</th>\n",
       "      <th>_merge_approved</th>\n",
       "    </tr>\n",
       "  </thead>\n",
       "  <tbody>\n",
       "    <tr>\n",
       "      <th>0</th>\n",
       "      <td>Globigerapsis semiinvoluta</td>\n",
       "      <td>planktic_forams</td>\n",
       "      <td>Globigerapsis</td>\n",
       "      <td>Globigerapsis semiinvoluta</td>\n",
       "      <td>semiinvoluta</td>\n",
       "      <td>NaN</td>\n",
       "      <td>left_only</td>\n",
       "    </tr>\n",
       "    <tr>\n",
       "      <th>1</th>\n",
       "      <td>Engelhardtia sp.(q)</td>\n",
       "      <td>pollen</td>\n",
       "      <td>Engelhardtia</td>\n",
       "      <td>Engelhardtia sp.</td>\n",
       "      <td>sp.</td>\n",
       "      <td>NaN</td>\n",
       "      <td>left_only</td>\n",
       "    </tr>\n",
       "    <tr>\n",
       "      <th>2</th>\n",
       "      <td>Bulimina pagoda</td>\n",
       "      <td>benthic_forams</td>\n",
       "      <td>Bulimina</td>\n",
       "      <td>Bulimina pagoda</td>\n",
       "      <td>pagoda</td>\n",
       "      <td>NaN</td>\n",
       "      <td>left_only</td>\n",
       "    </tr>\n",
       "    <tr>\n",
       "      <th>3</th>\n",
       "      <td>Thoracosphaera granifera</td>\n",
       "      <td>nannofossils</td>\n",
       "      <td>Thoracosphaera</td>\n",
       "      <td>Thoracosphaera granifera</td>\n",
       "      <td>granifera</td>\n",
       "      <td>NaN</td>\n",
       "      <td>left_only</td>\n",
       "    </tr>\n",
       "    <tr>\n",
       "      <th>4</th>\n",
       "      <td>Discolithina enormis</td>\n",
       "      <td>nannofossils</td>\n",
       "      <td>Discolithina</td>\n",
       "      <td>Discolithina enormis</td>\n",
       "      <td>enormis</td>\n",
       "      <td>NaN</td>\n",
       "      <td>left_only</td>\n",
       "    </tr>\n",
       "  </tbody>\n",
       "</table>\n",
       "</div>"
      ],
      "text/plain": [
       "                verbatim_name      taxon_group      genus name  \\\n",
       "0  Globigerapsis semiinvoluta  planktic_forams   Globigerapsis   \n",
       "1         Engelhardtia sp.(q)           pollen    Engelhardtia   \n",
       "2             Bulimina pagoda   benthic_forams        Bulimina   \n",
       "3    Thoracosphaera granifera     nannofossils  Thoracosphaera   \n",
       "4        Discolithina enormis     nannofossils    Discolithina   \n",
       "\n",
       "              simplified_name  species name subspecies name _merge_approved  \n",
       "0  Globigerapsis semiinvoluta  semiinvoluta             NaN       left_only  \n",
       "1            Engelhardtia sp.           sp.             NaN       left_only  \n",
       "2             Bulimina pagoda        pagoda             NaN       left_only  \n",
       "3    Thoracosphaera granifera     granifera             NaN       left_only  \n",
       "4        Discolithina enormis       enormis             NaN       left_only  "
      ]
     },
     "execution_count": 70,
     "metadata": {},
     "output_type": "execute_result"
    }
   ],
   "source": [
    "unapproved_taxa_df = pd.read_csv(taxa_path)\n",
    "log_df(unapproved_taxa_df)"
   ]
  },
  {
   "cell_type": "markdown",
   "metadata": {},
   "source": [
    "create a dataframe of unique genera"
   ]
  },
  {
   "cell_type": "code",
   "execution_count": 71,
   "metadata": {},
   "outputs": [
    {
     "name": "stdout",
     "output_type": "stream",
     "text": [
      "(1707, 1)\n"
     ]
    },
    {
     "data": {
      "text/html": [
       "<div>\n",
       "<style scoped>\n",
       "    .dataframe tbody tr th:only-of-type {\n",
       "        vertical-align: middle;\n",
       "    }\n",
       "\n",
       "    .dataframe tbody tr th {\n",
       "        vertical-align: top;\n",
       "    }\n",
       "\n",
       "    .dataframe thead th {\n",
       "        text-align: right;\n",
       "    }\n",
       "</style>\n",
       "<table border=\"1\" class=\"dataframe\">\n",
       "  <thead>\n",
       "    <tr style=\"text-align: right;\">\n",
       "      <th></th>\n",
       "      <th>genus name</th>\n",
       "    </tr>\n",
       "  </thead>\n",
       "  <tbody>\n",
       "    <tr>\n",
       "      <th>0</th>\n",
       "      <td>Globigerapsis</td>\n",
       "    </tr>\n",
       "    <tr>\n",
       "      <th>1</th>\n",
       "      <td>Engelhardtia</td>\n",
       "    </tr>\n",
       "    <tr>\n",
       "      <th>2</th>\n",
       "      <td>Bulimina</td>\n",
       "    </tr>\n",
       "    <tr>\n",
       "      <th>3</th>\n",
       "      <td>Thoracosphaera</td>\n",
       "    </tr>\n",
       "    <tr>\n",
       "      <th>4</th>\n",
       "      <td>Discolithina</td>\n",
       "    </tr>\n",
       "  </tbody>\n",
       "</table>\n",
       "</div>"
      ],
      "text/plain": [
       "       genus name\n",
       "0   Globigerapsis\n",
       "1    Engelhardtia\n",
       "2        Bulimina\n",
       "3  Thoracosphaera\n",
       "4    Discolithina"
      ]
     },
     "execution_count": 71,
     "metadata": {},
     "output_type": "execute_result"
    }
   ],
   "source": [
    "genus_df = pd.DataFrame(unapproved_taxa_df['genus name'].unique(), columns=['genus name'])\n",
    "\n",
    "log_df(genus_df)"
   ]
  },
  {
   "cell_type": "markdown",
   "metadata": {},
   "source": [
    "add pbdb taxa data"
   ]
  },
  {
   "cell_type": "code",
   "execution_count": 72,
   "metadata": {},
   "outputs": [],
   "source": [
    "PBDB_API = \"https://paleobiodb.org/data1.2/\"\n",
    "PBDB_TAXA = f\"{PBDB_API}taxa/single.json?vocab=pbdb&name=\""
   ]
  },
  {
   "cell_type": "code",
   "execution_count": 78,
   "metadata": {},
   "outputs": [
    {
     "name": "stdout",
     "output_type": "stream",
     "text": [
      "0 50 100 150 200 250 300 350 400 450 500 550 600 650 700 750 800 850 900 950 1000 1050 1100 1150 1200 1250 1300 1350 1400 1450 1500 1550 1600 1650 1700 "
     ]
    }
   ],
   "source": [
    "for index, row in genus_df.iterrows():\n",
    "    if index % 50 == 0:\n",
    "        print(index, end=' ')\n",
    "        \n",
    "    url =  PBDB_TAXA +  row['genus name']\n",
    "    response = requests.get(url)\n",
    "    \n",
    "    if response.status_code == 200:\n",
    "        data = response.json()[\"records\"]\n",
    "        if len(data) == 1:\n",
    "            # cast taxon_no to string to avoid pandas converting it to a float           \n",
    "            genus_df.at[index, 'pbdb_taxon_id'] = str(data[0][\"taxon_no\"])\n",
    "            genus_df.at[index, 'pbdb_taxon_name'] = data[0][\"taxon_name\"]\n",
    "            genus_df.at[index, 'pbdb_taxon_rank'] = data[0][\"taxon_rank\"]"
   ]
  },
  {
   "cell_type": "code",
   "execution_count": 79,
   "metadata": {},
   "outputs": [
    {
     "data": {
      "text/html": [
       "<div>\n",
       "<style scoped>\n",
       "    .dataframe tbody tr th:only-of-type {\n",
       "        vertical-align: middle;\n",
       "    }\n",
       "\n",
       "    .dataframe tbody tr th {\n",
       "        vertical-align: top;\n",
       "    }\n",
       "\n",
       "    .dataframe thead th {\n",
       "        text-align: right;\n",
       "    }\n",
       "</style>\n",
       "<table border=\"1\" class=\"dataframe\">\n",
       "  <thead>\n",
       "    <tr style=\"text-align: right;\">\n",
       "      <th></th>\n",
       "      <th>genus name</th>\n",
       "      <th>pbdb_taxon_id</th>\n",
       "      <th>pbdb_taxon_name</th>\n",
       "      <th>pbdb_taxon_rank</th>\n",
       "    </tr>\n",
       "  </thead>\n",
       "  <tbody>\n",
       "    <tr>\n",
       "      <th>0</th>\n",
       "      <td>Globigerapsis</td>\n",
       "      <td>1497</td>\n",
       "      <td>Globigerapsis</td>\n",
       "      <td>genus</td>\n",
       "    </tr>\n",
       "    <tr>\n",
       "      <th>1</th>\n",
       "      <td>Engelhardtia</td>\n",
       "      <td>NaN</td>\n",
       "      <td>NaN</td>\n",
       "      <td>NaN</td>\n",
       "    </tr>\n",
       "    <tr>\n",
       "      <th>2</th>\n",
       "      <td>Bulimina</td>\n",
       "      <td>1032</td>\n",
       "      <td>Bulimina</td>\n",
       "      <td>genus</td>\n",
       "    </tr>\n",
       "    <tr>\n",
       "      <th>3</th>\n",
       "      <td>Thoracosphaera</td>\n",
       "      <td>432568</td>\n",
       "      <td>Thoracosphaera</td>\n",
       "      <td>genus</td>\n",
       "    </tr>\n",
       "    <tr>\n",
       "      <th>4</th>\n",
       "      <td>Discolithina</td>\n",
       "      <td>87709</td>\n",
       "      <td>Discolithina</td>\n",
       "      <td>genus</td>\n",
       "    </tr>\n",
       "  </tbody>\n",
       "</table>\n",
       "</div>"
      ],
      "text/plain": [
       "       genus name pbdb_taxon_id pbdb_taxon_name pbdb_taxon_rank\n",
       "0   Globigerapsis          1497   Globigerapsis           genus\n",
       "1    Engelhardtia           NaN             NaN             NaN\n",
       "2        Bulimina          1032        Bulimina           genus\n",
       "3  Thoracosphaera        432568  Thoracosphaera           genus\n",
       "4    Discolithina         87709    Discolithina           genus"
      ]
     },
     "execution_count": 79,
     "metadata": {},
     "output_type": "execute_result"
    }
   ],
   "source": [
    "genus_df.head()"
   ]
  },
  {
   "cell_type": "markdown",
   "metadata": {},
   "source": [
    "create genus csv"
   ]
  },
  {
   "cell_type": "code",
   "execution_count": 80,
   "metadata": {},
   "outputs": [],
   "source": [
    "genus_df.to_csv(genus_path, index=False)"
   ]
  },
  {
   "cell_type": "markdown",
   "metadata": {},
   "source": [
    "## add pbdb info to unapproved taxa "
   ]
  },
  {
   "cell_type": "code",
   "execution_count": 82,
   "metadata": {},
   "outputs": [
    {
     "name": "stdout",
     "output_type": "stream",
     "text": [
      "(1707, 4)\n"
     ]
    },
    {
     "data": {
      "text/html": [
       "<div>\n",
       "<style scoped>\n",
       "    .dataframe tbody tr th:only-of-type {\n",
       "        vertical-align: middle;\n",
       "    }\n",
       "\n",
       "    .dataframe tbody tr th {\n",
       "        vertical-align: top;\n",
       "    }\n",
       "\n",
       "    .dataframe thead th {\n",
       "        text-align: right;\n",
       "    }\n",
       "</style>\n",
       "<table border=\"1\" class=\"dataframe\">\n",
       "  <thead>\n",
       "    <tr style=\"text-align: right;\">\n",
       "      <th></th>\n",
       "      <th>genus name</th>\n",
       "      <th>pbdb_taxon_id</th>\n",
       "      <th>pbdb_taxon_name</th>\n",
       "      <th>pbdb_taxon_rank</th>\n",
       "    </tr>\n",
       "  </thead>\n",
       "  <tbody>\n",
       "    <tr>\n",
       "      <th>0</th>\n",
       "      <td>Globigerapsis</td>\n",
       "      <td>1497</td>\n",
       "      <td>Globigerapsis</td>\n",
       "      <td>genus</td>\n",
       "    </tr>\n",
       "    <tr>\n",
       "      <th>1</th>\n",
       "      <td>Engelhardtia</td>\n",
       "      <td>NaN</td>\n",
       "      <td>NaN</td>\n",
       "      <td>NaN</td>\n",
       "    </tr>\n",
       "    <tr>\n",
       "      <th>2</th>\n",
       "      <td>Bulimina</td>\n",
       "      <td>1032</td>\n",
       "      <td>Bulimina</td>\n",
       "      <td>genus</td>\n",
       "    </tr>\n",
       "    <tr>\n",
       "      <th>3</th>\n",
       "      <td>Thoracosphaera</td>\n",
       "      <td>432568</td>\n",
       "      <td>Thoracosphaera</td>\n",
       "      <td>genus</td>\n",
       "    </tr>\n",
       "    <tr>\n",
       "      <th>4</th>\n",
       "      <td>Discolithina</td>\n",
       "      <td>87709</td>\n",
       "      <td>Discolithina</td>\n",
       "      <td>genus</td>\n",
       "    </tr>\n",
       "  </tbody>\n",
       "</table>\n",
       "</div>"
      ],
      "text/plain": [
       "       genus name pbdb_taxon_id pbdb_taxon_name pbdb_taxon_rank\n",
       "0   Globigerapsis          1497   Globigerapsis           genus\n",
       "1    Engelhardtia           NaN             NaN             NaN\n",
       "2        Bulimina          1032        Bulimina           genus\n",
       "3  Thoracosphaera        432568  Thoracosphaera           genus\n",
       "4    Discolithina         87709    Discolithina           genus"
      ]
     },
     "execution_count": 82,
     "metadata": {},
     "output_type": "execute_result"
    }
   ],
   "source": [
    "genus_df = pd.read_csv(genus_path, dtype={'pbdb_taxon_id': str})\n",
    "log_df(genus_df)"
   ]
  },
  {
   "cell_type": "code",
   "execution_count": 83,
   "metadata": {},
   "outputs": [
    {
     "name": "stdout",
     "output_type": "stream",
     "text": [
      "(7763, 7)\n"
     ]
    },
    {
     "data": {
      "text/html": [
       "<div>\n",
       "<style scoped>\n",
       "    .dataframe tbody tr th:only-of-type {\n",
       "        vertical-align: middle;\n",
       "    }\n",
       "\n",
       "    .dataframe tbody tr th {\n",
       "        vertical-align: top;\n",
       "    }\n",
       "\n",
       "    .dataframe thead th {\n",
       "        text-align: right;\n",
       "    }\n",
       "</style>\n",
       "<table border=\"1\" class=\"dataframe\">\n",
       "  <thead>\n",
       "    <tr style=\"text-align: right;\">\n",
       "      <th></th>\n",
       "      <th>verbatim_name</th>\n",
       "      <th>taxon_group</th>\n",
       "      <th>genus name</th>\n",
       "      <th>simplified_name</th>\n",
       "      <th>species name</th>\n",
       "      <th>subspecies name</th>\n",
       "      <th>_merge_approved</th>\n",
       "    </tr>\n",
       "  </thead>\n",
       "  <tbody>\n",
       "    <tr>\n",
       "      <th>0</th>\n",
       "      <td>Globigerapsis semiinvoluta</td>\n",
       "      <td>planktic_forams</td>\n",
       "      <td>Globigerapsis</td>\n",
       "      <td>Globigerapsis semiinvoluta</td>\n",
       "      <td>semiinvoluta</td>\n",
       "      <td>NaN</td>\n",
       "      <td>left_only</td>\n",
       "    </tr>\n",
       "    <tr>\n",
       "      <th>1</th>\n",
       "      <td>Engelhardtia sp.(q)</td>\n",
       "      <td>pollen</td>\n",
       "      <td>Engelhardtia</td>\n",
       "      <td>Engelhardtia sp.</td>\n",
       "      <td>sp.</td>\n",
       "      <td>NaN</td>\n",
       "      <td>left_only</td>\n",
       "    </tr>\n",
       "    <tr>\n",
       "      <th>2</th>\n",
       "      <td>Bulimina pagoda</td>\n",
       "      <td>benthic_forams</td>\n",
       "      <td>Bulimina</td>\n",
       "      <td>Bulimina pagoda</td>\n",
       "      <td>pagoda</td>\n",
       "      <td>NaN</td>\n",
       "      <td>left_only</td>\n",
       "    </tr>\n",
       "    <tr>\n",
       "      <th>3</th>\n",
       "      <td>Thoracosphaera granifera</td>\n",
       "      <td>nannofossils</td>\n",
       "      <td>Thoracosphaera</td>\n",
       "      <td>Thoracosphaera granifera</td>\n",
       "      <td>granifera</td>\n",
       "      <td>NaN</td>\n",
       "      <td>left_only</td>\n",
       "    </tr>\n",
       "    <tr>\n",
       "      <th>4</th>\n",
       "      <td>Discolithina enormis</td>\n",
       "      <td>nannofossils</td>\n",
       "      <td>Discolithina</td>\n",
       "      <td>Discolithina enormis</td>\n",
       "      <td>enormis</td>\n",
       "      <td>NaN</td>\n",
       "      <td>left_only</td>\n",
       "    </tr>\n",
       "  </tbody>\n",
       "</table>\n",
       "</div>"
      ],
      "text/plain": [
       "                verbatim_name      taxon_group      genus name  \\\n",
       "0  Globigerapsis semiinvoluta  planktic_forams   Globigerapsis   \n",
       "1         Engelhardtia sp.(q)           pollen    Engelhardtia   \n",
       "2             Bulimina pagoda   benthic_forams        Bulimina   \n",
       "3    Thoracosphaera granifera     nannofossils  Thoracosphaera   \n",
       "4        Discolithina enormis     nannofossils    Discolithina   \n",
       "\n",
       "              simplified_name  species name subspecies name _merge_approved  \n",
       "0  Globigerapsis semiinvoluta  semiinvoluta             NaN       left_only  \n",
       "1            Engelhardtia sp.           sp.             NaN       left_only  \n",
       "2             Bulimina pagoda        pagoda             NaN       left_only  \n",
       "3    Thoracosphaera granifera     granifera             NaN       left_only  \n",
       "4        Discolithina enormis       enormis             NaN       left_only  "
      ]
     },
     "execution_count": 83,
     "metadata": {},
     "output_type": "execute_result"
    }
   ],
   "source": [
    "unapproved_df = pd.read_csv(taxa_path)\n",
    "\n",
    "log_df(unapproved_df)"
   ]
  },
  {
   "cell_type": "markdown",
   "metadata": {},
   "source": [
    "merge NOAA unapproved taxa with pbdb data"
   ]
  },
  {
   "cell_type": "code",
   "execution_count": 86,
   "metadata": {},
   "outputs": [
    {
     "name": "stdout",
     "output_type": "stream",
     "text": [
      "(7763, 11)\n"
     ]
    },
    {
     "data": {
      "text/html": [
       "<div>\n",
       "<style scoped>\n",
       "    .dataframe tbody tr th:only-of-type {\n",
       "        vertical-align: middle;\n",
       "    }\n",
       "\n",
       "    .dataframe tbody tr th {\n",
       "        vertical-align: top;\n",
       "    }\n",
       "\n",
       "    .dataframe thead th {\n",
       "        text-align: right;\n",
       "    }\n",
       "</style>\n",
       "<table border=\"1\" class=\"dataframe\">\n",
       "  <thead>\n",
       "    <tr style=\"text-align: right;\">\n",
       "      <th></th>\n",
       "      <th>verbatim_name</th>\n",
       "      <th>taxon_group</th>\n",
       "      <th>genus name</th>\n",
       "      <th>simplified_name</th>\n",
       "      <th>species name</th>\n",
       "      <th>subspecies name</th>\n",
       "      <th>_merge_approved</th>\n",
       "      <th>pbdb_taxon_id</th>\n",
       "      <th>pbdb_taxon_name</th>\n",
       "      <th>pbdb_taxon_rank</th>\n",
       "      <th>_merge_pbdb</th>\n",
       "    </tr>\n",
       "  </thead>\n",
       "  <tbody>\n",
       "    <tr>\n",
       "      <th>0</th>\n",
       "      <td>Globigerapsis semiinvoluta</td>\n",
       "      <td>planktic_forams</td>\n",
       "      <td>Globigerapsis</td>\n",
       "      <td>Globigerapsis semiinvoluta</td>\n",
       "      <td>semiinvoluta</td>\n",
       "      <td>NaN</td>\n",
       "      <td>left_only</td>\n",
       "      <td>1497</td>\n",
       "      <td>Globigerapsis</td>\n",
       "      <td>genus</td>\n",
       "      <td>both</td>\n",
       "    </tr>\n",
       "    <tr>\n",
       "      <th>1</th>\n",
       "      <td>Engelhardtia sp.(q)</td>\n",
       "      <td>pollen</td>\n",
       "      <td>Engelhardtia</td>\n",
       "      <td>Engelhardtia sp.</td>\n",
       "      <td>sp.</td>\n",
       "      <td>NaN</td>\n",
       "      <td>left_only</td>\n",
       "      <td>NaN</td>\n",
       "      <td>NaN</td>\n",
       "      <td>NaN</td>\n",
       "      <td>both</td>\n",
       "    </tr>\n",
       "    <tr>\n",
       "      <th>2</th>\n",
       "      <td>Bulimina pagoda</td>\n",
       "      <td>benthic_forams</td>\n",
       "      <td>Bulimina</td>\n",
       "      <td>Bulimina pagoda</td>\n",
       "      <td>pagoda</td>\n",
       "      <td>NaN</td>\n",
       "      <td>left_only</td>\n",
       "      <td>1032</td>\n",
       "      <td>Bulimina</td>\n",
       "      <td>genus</td>\n",
       "      <td>both</td>\n",
       "    </tr>\n",
       "    <tr>\n",
       "      <th>3</th>\n",
       "      <td>Thoracosphaera granifera</td>\n",
       "      <td>nannofossils</td>\n",
       "      <td>Thoracosphaera</td>\n",
       "      <td>Thoracosphaera granifera</td>\n",
       "      <td>granifera</td>\n",
       "      <td>NaN</td>\n",
       "      <td>left_only</td>\n",
       "      <td>432568</td>\n",
       "      <td>Thoracosphaera</td>\n",
       "      <td>genus</td>\n",
       "      <td>both</td>\n",
       "    </tr>\n",
       "    <tr>\n",
       "      <th>4</th>\n",
       "      <td>Discolithina enormis</td>\n",
       "      <td>nannofossils</td>\n",
       "      <td>Discolithina</td>\n",
       "      <td>Discolithina enormis</td>\n",
       "      <td>enormis</td>\n",
       "      <td>NaN</td>\n",
       "      <td>left_only</td>\n",
       "      <td>87709</td>\n",
       "      <td>Discolithina</td>\n",
       "      <td>genus</td>\n",
       "      <td>both</td>\n",
       "    </tr>\n",
       "  </tbody>\n",
       "</table>\n",
       "</div>"
      ],
      "text/plain": [
       "                verbatim_name      taxon_group      genus name  \\\n",
       "0  Globigerapsis semiinvoluta  planktic_forams   Globigerapsis   \n",
       "1         Engelhardtia sp.(q)           pollen    Engelhardtia   \n",
       "2             Bulimina pagoda   benthic_forams        Bulimina   \n",
       "3    Thoracosphaera granifera     nannofossils  Thoracosphaera   \n",
       "4        Discolithina enormis     nannofossils    Discolithina   \n",
       "\n",
       "              simplified_name  species name subspecies name _merge_approved  \\\n",
       "0  Globigerapsis semiinvoluta  semiinvoluta             NaN       left_only   \n",
       "1            Engelhardtia sp.           sp.             NaN       left_only   \n",
       "2             Bulimina pagoda        pagoda             NaN       left_only   \n",
       "3    Thoracosphaera granifera     granifera             NaN       left_only   \n",
       "4        Discolithina enormis       enormis             NaN       left_only   \n",
       "\n",
       "  pbdb_taxon_id pbdb_taxon_name pbdb_taxon_rank _merge_pbdb  \n",
       "0          1497   Globigerapsis           genus        both  \n",
       "1           NaN             NaN             NaN        both  \n",
       "2          1032        Bulimina           genus        both  \n",
       "3        432568  Thoracosphaera           genus        both  \n",
       "4         87709    Discolithina           genus        both  "
      ]
     },
     "execution_count": 86,
     "metadata": {},
     "output_type": "execute_result"
    }
   ],
   "source": [
    "merged_df = pd.merge(unapproved_taxa_df, genus_df, \n",
    "                     on = 'genus name', \n",
    "                     how='left',\n",
    "                     indicator='_merge_pbdb')\n",
    "\n",
    "log_df(merged_df)"
   ]
  },
  {
   "cell_type": "markdown",
   "metadata": {},
   "source": [
    "reorder columns and sort rows"
   ]
  },
  {
   "cell_type": "code",
   "execution_count": 87,
   "metadata": {},
   "outputs": [
    {
     "name": "stdout",
     "output_type": "stream",
     "text": [
      "(7763, 11)\n"
     ]
    },
    {
     "data": {
      "text/html": [
       "<div>\n",
       "<style scoped>\n",
       "    .dataframe tbody tr th:only-of-type {\n",
       "        vertical-align: middle;\n",
       "    }\n",
       "\n",
       "    .dataframe tbody tr th {\n",
       "        vertical-align: top;\n",
       "    }\n",
       "\n",
       "    .dataframe thead th {\n",
       "        text-align: right;\n",
       "    }\n",
       "</style>\n",
       "<table border=\"1\" class=\"dataframe\">\n",
       "  <thead>\n",
       "    <tr style=\"text-align: right;\">\n",
       "      <th></th>\n",
       "      <th>taxon_group</th>\n",
       "      <th>verbatim_name</th>\n",
       "      <th>genus name</th>\n",
       "      <th>species name</th>\n",
       "      <th>subspecies name</th>\n",
       "      <th>pbdb_taxon_id</th>\n",
       "      <th>pbdb_taxon_name</th>\n",
       "      <th>pbdb_taxon_rank</th>\n",
       "      <th>_simplified_name</th>\n",
       "      <th>_merge_approved</th>\n",
       "      <th>_merge_pbdb</th>\n",
       "    </tr>\n",
       "  </thead>\n",
       "  <tbody>\n",
       "    <tr>\n",
       "      <th>236</th>\n",
       "      <td>benthic_forams</td>\n",
       "      <td>Abyssamina incisa</td>\n",
       "      <td>Abyssamina</td>\n",
       "      <td>incisa</td>\n",
       "      <td>NaN</td>\n",
       "      <td>762</td>\n",
       "      <td>Abyssamina</td>\n",
       "      <td>genus</td>\n",
       "      <td>NaN</td>\n",
       "      <td>left_only</td>\n",
       "      <td>both</td>\n",
       "    </tr>\n",
       "    <tr>\n",
       "      <th>2142</th>\n",
       "      <td>benthic_forams</td>\n",
       "      <td>Adercotryma glomeratum</td>\n",
       "      <td>Adercotryma</td>\n",
       "      <td>glomeratum</td>\n",
       "      <td>NaN</td>\n",
       "      <td>774</td>\n",
       "      <td>Adercotryma</td>\n",
       "      <td>genus</td>\n",
       "      <td>NaN</td>\n",
       "      <td>left_only</td>\n",
       "      <td>both</td>\n",
       "    </tr>\n",
       "    <tr>\n",
       "      <th>4841</th>\n",
       "      <td>benthic_forams</td>\n",
       "      <td>Adercotryma sp.</td>\n",
       "      <td>Adercotryma</td>\n",
       "      <td>sp.</td>\n",
       "      <td>NaN</td>\n",
       "      <td>774</td>\n",
       "      <td>Adercotryma</td>\n",
       "      <td>genus</td>\n",
       "      <td>NaN</td>\n",
       "      <td>left_only</td>\n",
       "      <td>both</td>\n",
       "    </tr>\n",
       "    <tr>\n",
       "      <th>198</th>\n",
       "      <td>benthic_forams</td>\n",
       "      <td>Alabamina decorata</td>\n",
       "      <td>Alabamina</td>\n",
       "      <td>decorata</td>\n",
       "      <td>NaN</td>\n",
       "      <td>788</td>\n",
       "      <td>Alabamina</td>\n",
       "      <td>genus</td>\n",
       "      <td>NaN</td>\n",
       "      <td>left_only</td>\n",
       "      <td>both</td>\n",
       "    </tr>\n",
       "    <tr>\n",
       "      <th>3369</th>\n",
       "      <td>benthic_forams</td>\n",
       "      <td>Alabamina haitiensis</td>\n",
       "      <td>Alabamina</td>\n",
       "      <td>haitiensis</td>\n",
       "      <td>NaN</td>\n",
       "      <td>788</td>\n",
       "      <td>Alabamina</td>\n",
       "      <td>genus</td>\n",
       "      <td>NaN</td>\n",
       "      <td>left_only</td>\n",
       "      <td>both</td>\n",
       "    </tr>\n",
       "  </tbody>\n",
       "</table>\n",
       "</div>"
      ],
      "text/plain": [
       "         taxon_group           verbatim_name   genus name species name  \\\n",
       "236   benthic_forams       Abyssamina incisa   Abyssamina       incisa   \n",
       "2142  benthic_forams  Adercotryma glomeratum  Adercotryma   glomeratum   \n",
       "4841  benthic_forams         Adercotryma sp.  Adercotryma          sp.   \n",
       "198   benthic_forams      Alabamina decorata    Alabamina     decorata   \n",
       "3369  benthic_forams    Alabamina haitiensis    Alabamina   haitiensis   \n",
       "\n",
       "     subspecies name pbdb_taxon_id pbdb_taxon_name pbdb_taxon_rank  \\\n",
       "236              NaN           762      Abyssamina           genus   \n",
       "2142             NaN           774     Adercotryma           genus   \n",
       "4841             NaN           774     Adercotryma           genus   \n",
       "198              NaN           788       Alabamina           genus   \n",
       "3369             NaN           788       Alabamina           genus   \n",
       "\n",
       "      _simplified_name _merge_approved _merge_pbdb  \n",
       "236                NaN       left_only        both  \n",
       "2142               NaN       left_only        both  \n",
       "4841               NaN       left_only        both  \n",
       "198                NaN       left_only        both  \n",
       "3369               NaN       left_only        both  "
      ]
     },
     "execution_count": 87,
     "metadata": {},
     "output_type": "execute_result"
    }
   ],
   "source": [
    "merged_df = merged_df.reindex(columns=['taxon_group', 'verbatim_name', \n",
    "                                       'genus name', 'species name', \n",
    "                                       'subspecies name',\n",
    "                                       'pbdb_taxon_id', 'pbdb_taxon_name',\n",
    "                                       'pbdb_taxon_rank', '_simplified_name',\n",
    "                                       '_merge_approved', '_merge_pbdb'\n",
    "                                      ])\n",
    "\n",
    "merged_df.sort_values(by=['taxon_group', 'verbatim_name'], inplace=True)\n",
    "\n",
    "log_df(merged_df)"
   ]
  },
  {
   "cell_type": "markdown",
   "metadata": {},
   "source": [
    "save csv"
   ]
  },
  {
   "cell_type": "code",
   "execution_count": 89,
   "metadata": {},
   "outputs": [],
   "source": [
    "merged_df.to_csv(taxa_pbdb_path, index=False)"
   ]
  },
  {
   "cell_type": "code",
   "execution_count": null,
   "metadata": {},
   "outputs": [],
   "source": []
  }
 ],
 "metadata": {
  "kernelspec": {
   "display_name": "Python 3",
   "language": "python",
   "name": "python3"
  },
  "language_info": {
   "codemirror_mode": {
    "name": "ipython",
    "version": 3
   },
   "file_extension": ".py",
   "mimetype": "text/x-python",
   "name": "python",
   "nbconvert_exporter": "python",
   "pygments_lexer": "ipython3",
   "version": "3.6.8"
  }
 },
 "nbformat": 4,
 "nbformat_minor": 5
}
