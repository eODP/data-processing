{
 "cells": [
  {
   "cell_type": "markdown",
   "metadata": {},
   "source": [
    "# NOAA DSDP taxa list\n",
    "\n",
    "create list of taxa for NOAA DSDP files"
   ]
  },
  {
   "cell_type": "markdown",
   "metadata": {},
   "source": [
    "check if postgres connector is installed."
   ]
  },
  {
   "cell_type": "code",
   "execution_count": 1,
   "metadata": {},
   "outputs": [
    {
     "name": "stdout",
     "output_type": "stream",
     "text": [
      "Requirement already satisfied: psycopg2-binary in /Users/wyk/.pyenv/versions/3.6.8/envs/eodp-data/lib/python3.6/site-packages (2.8.6)\n",
      "\u001b[33mWARNING: You are using pip version 20.0.2; however, version 21.1 is available.\n",
      "You should consider upgrading via the '/Users/wyk/.pyenv/versions/3.6.8/envs/eodp-data/bin/python -m pip install --upgrade pip' command.\u001b[0m\n"
     ]
    }
   ],
   "source": [
    "# https://stackoverflow.com/a/56012147\n",
    "!pip install psycopg2-binary"
   ]
  },
  {
   "cell_type": "code",
   "execution_count": 17,
   "metadata": {},
   "outputs": [],
   "source": [
    "import sys\n",
    "import csv\n",
    "import glob\n",
    "import os\n",
    "import requests\n",
    "import re\n",
    "\n",
    "sys.path.append('../scripts/')\n",
    "sys.path.append('../')\n",
    "import pandas as pd\n",
    "import numpy as np\n",
    "\n",
    "import db "
   ]
  },
  {
   "cell_type": "code",
   "execution_count": 3,
   "metadata": {},
   "outputs": [],
   "source": [
    "path = os.path.join('cleaned_data', 'metadata', 'noaa_dsdp_files.csv')\n",
    "files_df = pd.read_csv(path)"
   ]
  },
  {
   "cell_type": "markdown",
   "metadata": {},
   "source": [
    "## columns\n",
    "\n",
    "get unique column names from all the taxa files"
   ]
  },
  {
   "cell_type": "code",
   "execution_count": 4,
   "metadata": {},
   "outputs": [],
   "source": [
    "columns = set()\n",
    "columns_count = set()\n",
    "\n",
    "for index, row in files_df.iterrows():\n",
    "    if row['type'] == 'taxa':\n",
    "        df = pd.read_csv(row['file'], nrows=1)\n",
    "        columns.update(df.columns)\n",
    "        columns_count.add(len(df.columns))"
   ]
  },
  {
   "cell_type": "code",
   "execution_count": 5,
   "metadata": {},
   "outputs": [
    {
     "data": {
      "text/plain": [
       "{'age',\n",
       " 'bottom interval depth (cm)',\n",
       " 'chemical dissolution',\n",
       " 'chemical overgrowth',\n",
       " 'core',\n",
       " 'coredepth(m)',\n",
       " 'dsdp initial report volume number',\n",
       " 'fossil',\n",
       " 'fossil abundance',\n",
       " 'fossil code',\n",
       " 'fossil group',\n",
       " 'fossil preservation',\n",
       " 'group abundance',\n",
       " 'hole',\n",
       " 'investigators name',\n",
       " 'leg',\n",
       " 'mechanical preservations',\n",
       " 'page number reference',\n",
       " 'publication date (month/year)',\n",
       " 'record join code',\n",
       " 'sample depth(m)',\n",
       " 'section',\n",
       " 'site',\n",
       " 'top interval depth(cm)',\n",
       " 'total number of observed fossils'}"
      ]
     },
     "execution_count": 5,
     "metadata": {},
     "output_type": "execute_result"
    }
   ],
   "source": [
    "columns"
   ]
  },
  {
   "cell_type": "code",
   "execution_count": 6,
   "metadata": {},
   "outputs": [
    {
     "data": {
      "text/plain": [
       "{25}"
      ]
     },
     "execution_count": 6,
     "metadata": {},
     "output_type": "execute_result"
    }
   ],
   "source": [
    "columns_count"
   ]
  },
  {
   "cell_type": "markdown",
   "metadata": {},
   "source": [
    "## taxa"
   ]
  },
  {
   "cell_type": "markdown",
   "metadata": {},
   "source": [
    "### fetch taxa names from csv"
   ]
  },
  {
   "cell_type": "markdown",
   "metadata": {},
   "source": [
    "read taxa files to get unique taxa names"
   ]
  },
  {
   "cell_type": "code",
   "execution_count": 7,
   "metadata": {},
   "outputs": [
    {
     "name": "stdout",
     "output_type": "stream",
     "text": [
      "9933\n"
     ]
    }
   ],
   "source": [
    "taxa = set()\n",
    "\n",
    "for index, row in files_df.iterrows():\n",
    "    if row['type'] == 'taxa':\n",
    "        df = pd.read_csv(row['file'])\n",
    "        df.dropna(axis=0, inplace=True, how='all')\n",
    "        df['temp'] = df['fossil'] +  '|' + row['taxon_group']\n",
    "        \n",
    "        taxa.update(list(df['temp']))\n",
    "        \n",
    "print(len(taxa))"
   ]
  },
  {
   "cell_type": "code",
   "execution_count": 8,
   "metadata": {},
   "outputs": [],
   "source": [
    "taxa_list = []\n",
    "taxon_groups = []\n",
    "\n",
    "for taxon in taxa:\n",
    "    if not pd.isna(taxon):\n",
    "        parts = taxon.split('|')\n",
    "        taxa_list.append(parts[0])\n",
    "        taxon_groups.append(parts[1])"
   ]
  },
  {
   "cell_type": "code",
   "execution_count": 9,
   "metadata": {},
   "outputs": [
    {
     "data": {
      "text/html": [
       "<div>\n",
       "<style scoped>\n",
       "    .dataframe tbody tr th:only-of-type {\n",
       "        vertical-align: middle;\n",
       "    }\n",
       "\n",
       "    .dataframe tbody tr th {\n",
       "        vertical-align: top;\n",
       "    }\n",
       "\n",
       "    .dataframe thead th {\n",
       "        text-align: right;\n",
       "    }\n",
       "</style>\n",
       "<table border=\"1\" class=\"dataframe\">\n",
       "  <thead>\n",
       "    <tr style=\"text-align: right;\">\n",
       "      <th></th>\n",
       "      <th>taxon</th>\n",
       "      <th>taxon_group</th>\n",
       "    </tr>\n",
       "  </thead>\n",
       "  <tbody>\n",
       "    <tr>\n",
       "      <th>9927</th>\n",
       "      <td>Periphaena tripyramis tripyramis</td>\n",
       "      <td>radiolarians</td>\n",
       "    </tr>\n",
       "    <tr>\n",
       "      <th>9928</th>\n",
       "      <td>Globorotalia pusilla</td>\n",
       "      <td>planktic foraminfera</td>\n",
       "    </tr>\n",
       "    <tr>\n",
       "      <th>9929</th>\n",
       "      <td>Morozovella conicotruncata</td>\n",
       "      <td>planktic foraminfera</td>\n",
       "    </tr>\n",
       "    <tr>\n",
       "      <th>9930</th>\n",
       "      <td>Pterocorys hirundo</td>\n",
       "      <td>radiolarians</td>\n",
       "    </tr>\n",
       "    <tr>\n",
       "      <th>9931</th>\n",
       "      <td>Thoracosphaera saxea</td>\n",
       "      <td>nannofossils</td>\n",
       "    </tr>\n",
       "  </tbody>\n",
       "</table>\n",
       "</div>"
      ],
      "text/plain": [
       "                                 taxon           taxon_group\n",
       "9927  Periphaena tripyramis tripyramis          radiolarians\n",
       "9928              Globorotalia pusilla  planktic foraminfera\n",
       "9929        Morozovella conicotruncata  planktic foraminfera\n",
       "9930                Pterocorys hirundo          radiolarians\n",
       "9931              Thoracosphaera saxea          nannofossils"
      ]
     },
     "execution_count": 9,
     "metadata": {},
     "output_type": "execute_result"
    }
   ],
   "source": [
    "dict = {\n",
    "        \"taxon\": taxa_list,\n",
    "        \"taxon_group\": taxon_groups\n",
    "        }\n",
    "taxa_df = pd.DataFrame(dict)\n",
    "taxa_df.tail()"
   ]
  },
  {
   "cell_type": "code",
   "execution_count": 10,
   "metadata": {},
   "outputs": [
    {
     "data": {
      "text/plain": [
       "(9932, 2)"
      ]
     },
     "execution_count": 10,
     "metadata": {},
     "output_type": "execute_result"
    }
   ],
   "source": [
    "taxa_df.shape"
   ]
  },
  {
   "cell_type": "markdown",
   "metadata": {},
   "source": [
    "get rid of (xxx) from taxa name"
   ]
  },
  {
   "cell_type": "code",
   "execution_count": 11,
   "metadata": {},
   "outputs": [
    {
     "data": {
      "text/html": [
       "<div>\n",
       "<style scoped>\n",
       "    .dataframe tbody tr th:only-of-type {\n",
       "        vertical-align: middle;\n",
       "    }\n",
       "\n",
       "    .dataframe tbody tr th {\n",
       "        vertical-align: top;\n",
       "    }\n",
       "\n",
       "    .dataframe thead th {\n",
       "        text-align: right;\n",
       "    }\n",
       "</style>\n",
       "<table border=\"1\" class=\"dataframe\">\n",
       "  <thead>\n",
       "    <tr style=\"text-align: right;\">\n",
       "      <th></th>\n",
       "      <th>taxon</th>\n",
       "      <th>taxon_group</th>\n",
       "    </tr>\n",
       "  </thead>\n",
       "  <tbody>\n",
       "    <tr>\n",
       "      <th>9924</th>\n",
       "      <td>Eucyrtidium hexastichum</td>\n",
       "      <td>radiolarians</td>\n",
       "    </tr>\n",
       "    <tr>\n",
       "      <th>9927</th>\n",
       "      <td>Periphaena tripyramis tripyramis</td>\n",
       "      <td>radiolarians</td>\n",
       "    </tr>\n",
       "    <tr>\n",
       "      <th>9928</th>\n",
       "      <td>Globorotalia pusilla</td>\n",
       "      <td>planktic foraminfera</td>\n",
       "    </tr>\n",
       "    <tr>\n",
       "      <th>9929</th>\n",
       "      <td>Morozovella conicotruncata</td>\n",
       "      <td>planktic foraminfera</td>\n",
       "    </tr>\n",
       "    <tr>\n",
       "      <th>9930</th>\n",
       "      <td>Pterocorys hirundo</td>\n",
       "      <td>radiolarians</td>\n",
       "    </tr>\n",
       "  </tbody>\n",
       "</table>\n",
       "</div>"
      ],
      "text/plain": [
       "                                 taxon           taxon_group\n",
       "9924           Eucyrtidium hexastichum          radiolarians\n",
       "9927  Periphaena tripyramis tripyramis          radiolarians\n",
       "9928              Globorotalia pusilla  planktic foraminfera\n",
       "9929        Morozovella conicotruncata  planktic foraminfera\n",
       "9930                Pterocorys hirundo          radiolarians"
      ]
     },
     "execution_count": 11,
     "metadata": {},
     "output_type": "execute_result"
    }
   ],
   "source": [
    "taxa_clean_df = taxa_df.replace(to_replace =' \\(.*?\\)$', value = '', regex = True)\n",
    "taxa_clean_df.drop_duplicates(inplace=True)\n",
    "taxa_clean_df.tail()"
   ]
  },
  {
   "cell_type": "code",
   "execution_count": 12,
   "metadata": {},
   "outputs": [
    {
     "data": {
      "text/plain": [
       "(8683, 2)"
      ]
     },
     "execution_count": 12,
     "metadata": {},
     "output_type": "execute_result"
    }
   ],
   "source": [
    "taxa_clean_df.shape"
   ]
  },
  {
   "cell_type": "markdown",
   "metadata": {},
   "source": [
    "### fetch taxa from database"
   ]
  },
  {
   "cell_type": "markdown",
   "metadata": {},
   "source": [
    "check if taxa exists in database"
   ]
  },
  {
   "cell_type": "code",
   "execution_count": 13,
   "metadata": {},
   "outputs": [
    {
     "data": {
      "text/html": [
       "<div>\n",
       "<style scoped>\n",
       "    .dataframe tbody tr th:only-of-type {\n",
       "        vertical-align: middle;\n",
       "    }\n",
       "\n",
       "    .dataframe tbody tr th {\n",
       "        vertical-align: top;\n",
       "    }\n",
       "\n",
       "    .dataframe thead th {\n",
       "        text-align: right;\n",
       "    }\n",
       "</style>\n",
       "<table border=\"1\" class=\"dataframe\">\n",
       "  <thead>\n",
       "    <tr style=\"text-align: right;\">\n",
       "      <th></th>\n",
       "      <th>name</th>\n",
       "      <th>pbdb_taxon_id</th>\n",
       "      <th>pbdb_taxon_name</th>\n",
       "      <th>pbdb_taxon_rank</th>\n",
       "    </tr>\n",
       "  </thead>\n",
       "  <tbody>\n",
       "    <tr>\n",
       "      <th>0</th>\n",
       "      <td>Algirosphaera robusta</td>\n",
       "      <td>424331</td>\n",
       "      <td>Algirosphaera</td>\n",
       "      <td>genus</td>\n",
       "    </tr>\n",
       "    <tr>\n",
       "      <th>1</th>\n",
       "      <td>Amaurolithus tricorniculatus</td>\n",
       "      <td>388308</td>\n",
       "      <td>Amaurolithus</td>\n",
       "      <td>genus</td>\n",
       "    </tr>\n",
       "    <tr>\n",
       "      <th>2</th>\n",
       "      <td>? Biantholithus flosculus</td>\n",
       "      <td>424468</td>\n",
       "      <td>Biantholithus</td>\n",
       "      <td>genus</td>\n",
       "    </tr>\n",
       "    <tr>\n",
       "      <th>3</th>\n",
       "      <td>Blackites creber</td>\n",
       "      <td>424333</td>\n",
       "      <td>Blackites</td>\n",
       "      <td>genus</td>\n",
       "    </tr>\n",
       "    <tr>\n",
       "      <th>4</th>\n",
       "      <td>Blackites spinosus</td>\n",
       "      <td>424333</td>\n",
       "      <td>Blackites</td>\n",
       "      <td>genus</td>\n",
       "    </tr>\n",
       "  </tbody>\n",
       "</table>\n",
       "</div>"
      ],
      "text/plain": [
       "                           name  pbdb_taxon_id pbdb_taxon_name pbdb_taxon_rank\n",
       "0         Algirosphaera robusta         424331   Algirosphaera           genus\n",
       "1  Amaurolithus tricorniculatus         388308    Amaurolithus           genus\n",
       "2     ? Biantholithus flosculus         424468   Biantholithus           genus\n",
       "3              Blackites creber         424333       Blackites           genus\n",
       "4            Blackites spinosus         424333       Blackites           genus"
      ]
     },
     "execution_count": 13,
     "metadata": {},
     "output_type": "execute_result"
    }
   ],
   "source": [
    "# https://www.datacamp.com/community/tutorials/tutorial-postgresql-python\n",
    "\n",
    "sql = \"select name, pbdb_taxon_id, pbdb_taxon_name, pbdb_taxon_rank from taxa\"\n",
    "db_taxa_df = pd.read_sql(sql, db.conn)\n",
    "db_taxa_df.head()"
   ]
  },
  {
   "cell_type": "markdown",
   "metadata": {},
   "source": [
    "merge NOAA taxa with database taxa"
   ]
  },
  {
   "cell_type": "code",
   "execution_count": 14,
   "metadata": {},
   "outputs": [
    {
     "data": {
      "text/html": [
       "<div>\n",
       "<style scoped>\n",
       "    .dataframe tbody tr th:only-of-type {\n",
       "        vertical-align: middle;\n",
       "    }\n",
       "\n",
       "    .dataframe tbody tr th {\n",
       "        vertical-align: top;\n",
       "    }\n",
       "\n",
       "    .dataframe thead th {\n",
       "        text-align: right;\n",
       "    }\n",
       "</style>\n",
       "<table border=\"1\" class=\"dataframe\">\n",
       "  <thead>\n",
       "    <tr style=\"text-align: right;\">\n",
       "      <th></th>\n",
       "      <th>taxon</th>\n",
       "      <th>taxon_group</th>\n",
       "      <th>name</th>\n",
       "      <th>pbdb_taxon_id</th>\n",
       "      <th>pbdb_taxon_name</th>\n",
       "      <th>pbdb_taxon_rank</th>\n",
       "    </tr>\n",
       "  </thead>\n",
       "  <tbody>\n",
       "    <tr>\n",
       "      <th>0</th>\n",
       "      <td>Denticula lauta</td>\n",
       "      <td>diatoms</td>\n",
       "      <td>NaN</td>\n",
       "      <td>NaN</td>\n",
       "      <td>NaN</td>\n",
       "      <td>NaN</td>\n",
       "    </tr>\n",
       "    <tr>\n",
       "      <th>1</th>\n",
       "      <td>Triceratium aries</td>\n",
       "      <td>diatoms</td>\n",
       "      <td>NaN</td>\n",
       "      <td>NaN</td>\n",
       "      <td>NaN</td>\n",
       "      <td>NaN</td>\n",
       "    </tr>\n",
       "    <tr>\n",
       "      <th>2</th>\n",
       "      <td>Asterolampra hyalinas</td>\n",
       "      <td>diatoms</td>\n",
       "      <td>NaN</td>\n",
       "      <td>NaN</td>\n",
       "      <td>NaN</td>\n",
       "      <td>NaN</td>\n",
       "    </tr>\n",
       "    <tr>\n",
       "      <th>3</th>\n",
       "      <td>Corbisema navicula constricta</td>\n",
       "      <td>silicoflagellates</td>\n",
       "      <td>NaN</td>\n",
       "      <td>NaN</td>\n",
       "      <td>NaN</td>\n",
       "      <td>NaN</td>\n",
       "    </tr>\n",
       "    <tr>\n",
       "      <th>4</th>\n",
       "      <td>Dictyocha fibula fibula</td>\n",
       "      <td>silicoflagellates</td>\n",
       "      <td>NaN</td>\n",
       "      <td>NaN</td>\n",
       "      <td>NaN</td>\n",
       "      <td>NaN</td>\n",
       "    </tr>\n",
       "  </tbody>\n",
       "</table>\n",
       "</div>"
      ],
      "text/plain": [
       "                           taxon        taxon_group name  pbdb_taxon_id  \\\n",
       "0                Denticula lauta            diatoms  NaN            NaN   \n",
       "1              Triceratium aries            diatoms  NaN            NaN   \n",
       "2          Asterolampra hyalinas            diatoms  NaN            NaN   \n",
       "3  Corbisema navicula constricta  silicoflagellates  NaN            NaN   \n",
       "4        Dictyocha fibula fibula  silicoflagellates  NaN            NaN   \n",
       "\n",
       "  pbdb_taxon_name pbdb_taxon_rank  \n",
       "0             NaN             NaN  \n",
       "1             NaN             NaN  \n",
       "2             NaN             NaN  \n",
       "3             NaN             NaN  \n",
       "4             NaN             NaN  "
      ]
     },
     "execution_count": 14,
     "metadata": {},
     "output_type": "execute_result"
    }
   ],
   "source": [
    "merged_db_df = pd.merge(taxa_clean_df, db_taxa_df,  left_on='taxon', right_on='name', how='left')\n",
    "merged_db_df.head()"
   ]
  },
  {
   "cell_type": "code",
   "execution_count": 15,
   "metadata": {},
   "outputs": [
    {
     "data": {
      "text/plain": [
       "(8683, 6)"
      ]
     },
     "execution_count": 15,
     "metadata": {},
     "output_type": "execute_result"
    }
   ],
   "source": [
    "merged_db_df.shape"
   ]
  },
  {
   "cell_type": "markdown",
   "metadata": {},
   "source": [
    "### fetch LIMS taxa list that PIs are processing"
   ]
  },
  {
   "cell_type": "markdown",
   "metadata": {},
   "source": [
    "get all LIMS taxa"
   ]
  },
  {
   "cell_type": "code",
   "execution_count": 19,
   "metadata": {},
   "outputs": [
    {
     "data": {
      "text/plain": [
       "(4721, 21)"
      ]
     },
     "execution_count": 19,
     "metadata": {},
     "output_type": "execute_result"
    }
   ],
   "source": [
    "lims_path = os.path.join('raw_data', 'taxa', 'Micropal_headers_PBDB_Taxonomy_notes_2021-04-23.csv')\n",
    "lims_df = pd.read_csv(lims_path)\n",
    "lims_df.shape"
   ]
  },
  {
   "cell_type": "code",
   "execution_count": 20,
   "metadata": {},
   "outputs": [
    {
     "data": {
      "text/html": [
       "<div>\n",
       "<style scoped>\n",
       "    .dataframe tbody tr th:only-of-type {\n",
       "        vertical-align: middle;\n",
       "    }\n",
       "\n",
       "    .dataframe tbody tr th {\n",
       "        vertical-align: top;\n",
       "    }\n",
       "\n",
       "    .dataframe thead th {\n",
       "        text-align: right;\n",
       "    }\n",
       "</style>\n",
       "<table border=\"1\" class=\"dataframe\">\n",
       "  <thead>\n",
       "    <tr style=\"text-align: right;\">\n",
       "      <th></th>\n",
       "      <th>normalized_name</th>\n",
       "    </tr>\n",
       "  </thead>\n",
       "  <tbody>\n",
       "    <tr>\n",
       "      <th>0</th>\n",
       "      <td>Pyrite</td>\n",
       "    </tr>\n",
       "    <tr>\n",
       "      <th>1</th>\n",
       "      <td>Euuvigerina miozea</td>\n",
       "    </tr>\n",
       "    <tr>\n",
       "      <th>2</th>\n",
       "      <td>Euuvigerina rodleyi</td>\n",
       "    </tr>\n",
       "    <tr>\n",
       "      <th>3</th>\n",
       "      <td>Foraminifera indet.</td>\n",
       "    </tr>\n",
       "    <tr>\n",
       "      <th>4</th>\n",
       "      <td>Pleurostomellia indet.</td>\n",
       "    </tr>\n",
       "  </tbody>\n",
       "</table>\n",
       "</div>"
      ],
      "text/plain": [
       "          normalized_name\n",
       "0                  Pyrite\n",
       "1      Euuvigerina miozea\n",
       "2     Euuvigerina rodleyi\n",
       "3     Foraminifera indet.\n",
       "4  Pleurostomellia indet."
      ]
     },
     "execution_count": 20,
     "metadata": {},
     "output_type": "execute_result"
    }
   ],
   "source": [
    "lims_df['normalized_name'] = np.where(\n",
    "    lims_df['name to use (if different from \"name\")'].notnull(),\n",
    "    lims_df['name to use (if different from \"name\")'],\n",
    "    lims_df['name']\n",
    ")\n",
    "\n",
    "lims_name_df = lims_df[['normalized_name']]\n",
    "\n",
    "lims_name_df.head()"
   ]
  },
  {
   "cell_type": "code",
   "execution_count": 21,
   "metadata": {},
   "outputs": [
    {
     "data": {
      "text/plain": [
       "(4721, 1)"
      ]
     },
     "execution_count": 21,
     "metadata": {},
     "output_type": "execute_result"
    }
   ],
   "source": [
    "lims_name_df.shape"
   ]
  },
  {
   "cell_type": "markdown",
   "metadata": {},
   "source": [
    "merge NOAA/db taxa with LIMS taxa"
   ]
  },
  {
   "cell_type": "code",
   "execution_count": 22,
   "metadata": {},
   "outputs": [
    {
     "data": {
      "text/html": [
       "<div>\n",
       "<style scoped>\n",
       "    .dataframe tbody tr th:only-of-type {\n",
       "        vertical-align: middle;\n",
       "    }\n",
       "\n",
       "    .dataframe tbody tr th {\n",
       "        vertical-align: top;\n",
       "    }\n",
       "\n",
       "    .dataframe thead th {\n",
       "        text-align: right;\n",
       "    }\n",
       "</style>\n",
       "<table border=\"1\" class=\"dataframe\">\n",
       "  <thead>\n",
       "    <tr style=\"text-align: right;\">\n",
       "      <th></th>\n",
       "      <th>taxon</th>\n",
       "      <th>taxon_group</th>\n",
       "      <th>name</th>\n",
       "      <th>pbdb_taxon_id</th>\n",
       "      <th>pbdb_taxon_name</th>\n",
       "      <th>pbdb_taxon_rank</th>\n",
       "      <th>normalized_name</th>\n",
       "    </tr>\n",
       "  </thead>\n",
       "  <tbody>\n",
       "    <tr>\n",
       "      <th>0</th>\n",
       "      <td>Denticula lauta</td>\n",
       "      <td>diatoms</td>\n",
       "      <td>NaN</td>\n",
       "      <td>NaN</td>\n",
       "      <td>NaN</td>\n",
       "      <td>NaN</td>\n",
       "      <td>NaN</td>\n",
       "    </tr>\n",
       "    <tr>\n",
       "      <th>1</th>\n",
       "      <td>Triceratium aries</td>\n",
       "      <td>diatoms</td>\n",
       "      <td>NaN</td>\n",
       "      <td>NaN</td>\n",
       "      <td>NaN</td>\n",
       "      <td>NaN</td>\n",
       "      <td>NaN</td>\n",
       "    </tr>\n",
       "    <tr>\n",
       "      <th>2</th>\n",
       "      <td>Asterolampra hyalinas</td>\n",
       "      <td>diatoms</td>\n",
       "      <td>NaN</td>\n",
       "      <td>NaN</td>\n",
       "      <td>NaN</td>\n",
       "      <td>NaN</td>\n",
       "      <td>NaN</td>\n",
       "    </tr>\n",
       "    <tr>\n",
       "      <th>3</th>\n",
       "      <td>Corbisema navicula constricta</td>\n",
       "      <td>silicoflagellates</td>\n",
       "      <td>NaN</td>\n",
       "      <td>NaN</td>\n",
       "      <td>NaN</td>\n",
       "      <td>NaN</td>\n",
       "      <td>NaN</td>\n",
       "    </tr>\n",
       "    <tr>\n",
       "      <th>4</th>\n",
       "      <td>Dictyocha fibula fibula</td>\n",
       "      <td>silicoflagellates</td>\n",
       "      <td>NaN</td>\n",
       "      <td>NaN</td>\n",
       "      <td>NaN</td>\n",
       "      <td>NaN</td>\n",
       "      <td>NaN</td>\n",
       "    </tr>\n",
       "  </tbody>\n",
       "</table>\n",
       "</div>"
      ],
      "text/plain": [
       "                           taxon        taxon_group name  pbdb_taxon_id  \\\n",
       "0                Denticula lauta            diatoms  NaN            NaN   \n",
       "1              Triceratium aries            diatoms  NaN            NaN   \n",
       "2          Asterolampra hyalinas            diatoms  NaN            NaN   \n",
       "3  Corbisema navicula constricta  silicoflagellates  NaN            NaN   \n",
       "4        Dictyocha fibula fibula  silicoflagellates  NaN            NaN   \n",
       "\n",
       "  pbdb_taxon_name pbdb_taxon_rank normalized_name  \n",
       "0             NaN             NaN             NaN  \n",
       "1             NaN             NaN             NaN  \n",
       "2             NaN             NaN             NaN  \n",
       "3             NaN             NaN             NaN  \n",
       "4             NaN             NaN             NaN  "
      ]
     },
     "execution_count": 22,
     "metadata": {},
     "output_type": "execute_result"
    }
   ],
   "source": [
    "merged_noaa_lims_df = pd.merge(merged_db_df, lims_name_df,  left_on='taxon', right_on='normalized_name', how='left')\n",
    "merged_noaa_lims_df.head()"
   ]
  },
  {
   "cell_type": "code",
   "execution_count": 23,
   "metadata": {},
   "outputs": [
    {
     "data": {
      "text/plain": [
       "(9004, 7)"
      ]
     },
     "execution_count": 23,
     "metadata": {},
     "output_type": "execute_result"
    }
   ],
   "source": [
    "merged_noaa_lims_df.shape"
   ]
  },
  {
   "cell_type": "markdown",
   "metadata": {},
   "source": [
    "filter out the NOAA taxa that are in LIMS"
   ]
  },
  {
   "cell_type": "code",
   "execution_count": 25,
   "metadata": {},
   "outputs": [
    {
     "data": {
      "text/plain": [
       "(6976, 7)"
      ]
     },
     "execution_count": 25,
     "metadata": {},
     "output_type": "execute_result"
    }
   ],
   "source": [
    "new_noaa_df = merged_noaa_lims_df[merged_noaa_lims_df['normalized_name'].isna()].copy()\n",
    "new_noaa_df.drop_duplicates(inplace=True)\n",
    "\n",
    "new_noaa_df.shape"
   ]
  },
  {
   "cell_type": "markdown",
   "metadata": {},
   "source": [
    "### search pbdb api"
   ]
  },
  {
   "cell_type": "code",
   "execution_count": 187,
   "metadata": {},
   "outputs": [],
   "source": [
    "PBDB_API = \"https://paleobiodb.org/data1.2/\"\n",
    "PBDB_TAXA = f\"{PBDB_API}taxa/single.json?vocab=pbdb&name=\""
   ]
  },
  {
   "cell_type": "markdown",
   "metadata": {},
   "source": [
    "add pbdb taxa data"
   ]
  },
  {
   "cell_type": "code",
   "execution_count": 244,
   "metadata": {},
   "outputs": [],
   "source": [
    "for index, row in new_noaa_df.iterrows():\n",
    "    url =  PBDB_TAXA + re.sub(' sp\\.$', '', row['taxon'])\n",
    "    response =requests.get(url)\n",
    "    \n",
    "    if response.status_code == 200:\n",
    "        data = response.json()[\"records\"]\n",
    "        if len(data) == 1:\n",
    "            new_noaa_df.at[index, 'pbdb_taxon_id'] = data[0][\"taxon_no\"]\n",
    "            new_noaa_df.at[index, 'pbdb_taxon_name'] = data[0][\"taxon_name\"]\n",
    "            new_noaa_df.at[index, 'pbdb_taxon_rank'] = data[0][\"taxon_rank\"]\n"
   ]
  },
  {
   "cell_type": "code",
   "execution_count": 252,
   "metadata": {},
   "outputs": [
    {
     "data": {
      "text/html": [
       "<div>\n",
       "<style scoped>\n",
       "    .dataframe tbody tr th:only-of-type {\n",
       "        vertical-align: middle;\n",
       "    }\n",
       "\n",
       "    .dataframe tbody tr th {\n",
       "        vertical-align: top;\n",
       "    }\n",
       "\n",
       "    .dataframe thead th {\n",
       "        text-align: right;\n",
       "    }\n",
       "</style>\n",
       "<table border=\"1\" class=\"dataframe\">\n",
       "  <thead>\n",
       "    <tr style=\"text-align: right;\">\n",
       "      <th></th>\n",
       "      <th>taxon</th>\n",
       "      <th>taxon_group</th>\n",
       "      <th>name</th>\n",
       "      <th>pbdb_taxon_id</th>\n",
       "      <th>pbdb_taxon_name</th>\n",
       "      <th>pbdb_taxon_rank</th>\n",
       "      <th>normalized_name</th>\n",
       "    </tr>\n",
       "  </thead>\n",
       "  <tbody>\n",
       "    <tr>\n",
       "      <th>0</th>\n",
       "      <td>Distephanus speculum septenarius</td>\n",
       "      <td>silicoflagellates</td>\n",
       "      <td>NaN</td>\n",
       "      <td>88737.0</td>\n",
       "      <td>NaN</td>\n",
       "      <td>NaN</td>\n",
       "      <td>NaN</td>\n",
       "    </tr>\n",
       "    <tr>\n",
       "      <th>1</th>\n",
       "      <td>Distephanus minutus</td>\n",
       "      <td>silicoflagellates</td>\n",
       "      <td>NaN</td>\n",
       "      <td>88737.0</td>\n",
       "      <td>NaN</td>\n",
       "      <td>NaN</td>\n",
       "      <td>NaN</td>\n",
       "    </tr>\n",
       "    <tr>\n",
       "      <th>4</th>\n",
       "      <td>Mesocena triangula</td>\n",
       "      <td>silicoflagellates</td>\n",
       "      <td>NaN</td>\n",
       "      <td>NaN</td>\n",
       "      <td>NaN</td>\n",
       "      <td>NaN</td>\n",
       "      <td>NaN</td>\n",
       "    </tr>\n",
       "    <tr>\n",
       "      <th>5</th>\n",
       "      <td>Globorotalia humilis</td>\n",
       "      <td>planktic foraminfera</td>\n",
       "      <td>NaN</td>\n",
       "      <td>NaN</td>\n",
       "      <td>NaN</td>\n",
       "      <td>NaN</td>\n",
       "      <td>NaN</td>\n",
       "    </tr>\n",
       "    <tr>\n",
       "      <th>6</th>\n",
       "      <td>Cymatosira sp.</td>\n",
       "      <td>diatoms</td>\n",
       "      <td>NaN</td>\n",
       "      <td>82156.0</td>\n",
       "      <td>Cymatosira</td>\n",
       "      <td>genus</td>\n",
       "      <td>NaN</td>\n",
       "    </tr>\n",
       "  </tbody>\n",
       "</table>\n",
       "</div>"
      ],
      "text/plain": [
       "                              taxon           taxon_group name  pbdb_taxon_id  \\\n",
       "0  Distephanus speculum septenarius     silicoflagellates  NaN        88737.0   \n",
       "1               Distephanus minutus     silicoflagellates  NaN        88737.0   \n",
       "4                Mesocena triangula     silicoflagellates  NaN            NaN   \n",
       "5              Globorotalia humilis  planktic foraminfera  NaN            NaN   \n",
       "6                    Cymatosira sp.               diatoms  NaN        82156.0   \n",
       "\n",
       "  pbdb_taxon_name pbdb_taxon_rank normalized_name  \n",
       "0             NaN             NaN             NaN  \n",
       "1             NaN             NaN             NaN  \n",
       "4             NaN             NaN             NaN  \n",
       "5             NaN             NaN             NaN  \n",
       "6      Cymatosira           genus             NaN  "
      ]
     },
     "execution_count": 252,
     "metadata": {},
     "output_type": "execute_result"
    }
   ],
   "source": [
    "new_noaa_df.head()"
   ]
  },
  {
   "cell_type": "code",
   "execution_count": 250,
   "metadata": {},
   "outputs": [
    {
     "data": {
      "text/plain": [
       "(6976, 8)"
      ]
     },
     "execution_count": 250,
     "metadata": {},
     "output_type": "execute_result"
    }
   ],
   "source": [
    "new_noaa_df.shape"
   ]
  },
  {
   "cell_type": "markdown",
   "metadata": {},
   "source": [
    "### create csv"
   ]
  },
  {
   "cell_type": "code",
   "execution_count": 253,
   "metadata": {},
   "outputs": [
    {
     "data": {
      "text/plain": [
       "(6976, 7)"
      ]
     },
     "execution_count": 253,
     "metadata": {},
     "output_type": "execute_result"
    }
   ],
   "source": [
    "output_df = new_noaa_df\n",
    "output_df.drop_duplicates(inplace=True)\n",
    "output_df.shape"
   ]
  },
  {
   "cell_type": "code",
   "execution_count": 254,
   "metadata": {},
   "outputs": [],
   "source": [
    "path = os.path.join('cleaned_data', 'taxa', 'noaa_dsdp_taxa_list.csv')\n",
    "# output_df.to_csv(path, index=False)"
   ]
  },
  {
   "cell_type": "code",
   "execution_count": null,
   "metadata": {},
   "outputs": [],
   "source": []
  },
  {
   "cell_type": "code",
   "execution_count": null,
   "metadata": {},
   "outputs": [],
   "source": []
  }
 ],
 "metadata": {
  "kernelspec": {
   "display_name": "Python 3",
   "language": "python",
   "name": "python3"
  },
  "language_info": {
   "codemirror_mode": {
    "name": "ipython",
    "version": 3
   },
   "file_extension": ".py",
   "mimetype": "text/x-python",
   "name": "python",
   "nbconvert_exporter": "python",
   "pygments_lexer": "ipython3",
   "version": "3.6.8"
  }
 },
 "nbformat": 4,
 "nbformat_minor": 5
}
