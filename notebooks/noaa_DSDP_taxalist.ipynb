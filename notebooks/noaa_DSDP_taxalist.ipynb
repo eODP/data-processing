{
 "cells": [
  {
   "cell_type": "markdown",
   "metadata": {},
   "source": [
    "# NOAA DSDP taxa list\n",
    "\n",
    "Create list of taxa for NOAA DSDP files. Compare NOAA taxa with the taxa that the PIs have already approved in order create a list of unapproved taxa. Add PBDB data to unapproved taxa."
   ]
  },
  {
   "cell_type": "code",
   "execution_count": 1,
   "metadata": {},
   "outputs": [],
   "source": [
    "import sys\n",
    "import csv\n",
    "import glob\n",
    "import os\n",
    "import requests\n",
    "import re\n",
    "\n",
    "sys.path.append('../scripts/')\n",
    "sys.path.append('../')\n",
    "import pandas as pd\n",
    "import numpy as np\n",
    "\n",
    "import db "
   ]
  },
  {
   "cell_type": "code",
   "execution_count": 2,
   "metadata": {},
   "outputs": [],
   "source": [
    "base_directory = 'cleaned_data'\n",
    "metadata_path = os.path.join(base_directory, 'metadata', 'NOAA', 'noaa_dsdp_files.csv')\n",
    "approved_taxa_path = os.path.join(base_directory, 'taxa', 'approved_eodp_taxa_list.csv')\n",
    "taxa_all_path = os.path.join(base_directory, 'taxa', 'draft', 'NOAA','taxa_list_noaa_dsdp_all.csv')\n",
    "taxa_path = os.path.join(base_directory, 'taxa', 'draft', 'NOAA','taxa_list_noaa_dsdp.csv')\n",
    "genus_path = os.path.join(base_directory, 'taxa', 'draft', 'NOAA', 'genus.csv')"
   ]
  },
  {
   "cell_type": "markdown",
   "metadata": {},
   "source": [
    "## Create taxa list"
   ]
  },
  {
   "cell_type": "code",
   "execution_count": 3,
   "metadata": {},
   "outputs": [
    {
     "data": {
      "text/html": [
       "<div>\n",
       "<style scoped>\n",
       "    .dataframe tbody tr th:only-of-type {\n",
       "        vertical-align: middle;\n",
       "    }\n",
       "\n",
       "    .dataframe tbody tr th {\n",
       "        vertical-align: top;\n",
       "    }\n",
       "\n",
       "    .dataframe thead th {\n",
       "        text-align: right;\n",
       "    }\n",
       "</style>\n",
       "<table border=\"1\" class=\"dataframe\">\n",
       "  <thead>\n",
       "    <tr style=\"text-align: right;\">\n",
       "      <th></th>\n",
       "      <th>path</th>\n",
       "      <th>type</th>\n",
       "      <th>taxon_group</th>\n",
       "      <th>expedition</th>\n",
       "      <th>site</th>\n",
       "    </tr>\n",
       "  </thead>\n",
       "  <tbody>\n",
       "    <tr>\n",
       "      <th>0</th>\n",
       "      <td>cleaned_data/NOAA_csv/DSDP_core_data/61/462/ra...</td>\n",
       "      <td>taxa</td>\n",
       "      <td>radiolarians</td>\n",
       "      <td>61</td>\n",
       "      <td>462</td>\n",
       "    </tr>\n",
       "    <tr>\n",
       "      <th>1</th>\n",
       "      <td>cleaned_data/NOAA_csv/DSDP_core_data/61/462/ag...</td>\n",
       "      <td>age</td>\n",
       "      <td>NaN</td>\n",
       "      <td>61</td>\n",
       "      <td>462</td>\n",
       "    </tr>\n",
       "    <tr>\n",
       "      <th>2</th>\n",
       "      <td>cleaned_data/NOAA_csv/DSDP_core_data/61/462/b_...</td>\n",
       "      <td>taxa</td>\n",
       "      <td>benthic_foraminfera</td>\n",
       "      <td>61</td>\n",
       "      <td>462</td>\n",
       "    </tr>\n",
       "    <tr>\n",
       "      <th>3</th>\n",
       "      <td>cleaned_data/NOAA_csv/DSDP_core_data/61/462/p_...</td>\n",
       "      <td>taxa</td>\n",
       "      <td>planktic_foraminfera</td>\n",
       "      <td>61</td>\n",
       "      <td>462</td>\n",
       "    </tr>\n",
       "    <tr>\n",
       "      <th>4</th>\n",
       "      <td>cleaned_data/NOAA_csv/DSDP_core_data/61/462/hr...</td>\n",
       "      <td>hard_rock</td>\n",
       "      <td>NaN</td>\n",
       "      <td>61</td>\n",
       "      <td>462</td>\n",
       "    </tr>\n",
       "  </tbody>\n",
       "</table>\n",
       "</div>"
      ],
      "text/plain": [
       "                                                path       type  \\\n",
       "0  cleaned_data/NOAA_csv/DSDP_core_data/61/462/ra...       taxa   \n",
       "1  cleaned_data/NOAA_csv/DSDP_core_data/61/462/ag...        age   \n",
       "2  cleaned_data/NOAA_csv/DSDP_core_data/61/462/b_...       taxa   \n",
       "3  cleaned_data/NOAA_csv/DSDP_core_data/61/462/p_...       taxa   \n",
       "4  cleaned_data/NOAA_csv/DSDP_core_data/61/462/hr...  hard_rock   \n",
       "\n",
       "            taxon_group expedition site  \n",
       "0          radiolarians         61  462  \n",
       "1                   NaN         61  462  \n",
       "2   benthic_foraminfera         61  462  \n",
       "3  planktic_foraminfera         61  462  \n",
       "4                   NaN         61  462  "
      ]
     },
     "execution_count": 3,
     "metadata": {},
     "output_type": "execute_result"
    }
   ],
   "source": [
    "metadata = pd.read_csv(metadata_path)\n",
    "metadata.head()"
   ]
  },
  {
   "cell_type": "markdown",
   "metadata": {},
   "source": [
    "read all the taxa files to get unique taxa names"
   ]
  },
  {
   "cell_type": "code",
   "execution_count": 4,
   "metadata": {},
   "outputs": [
    {
     "data": {
      "text/plain": [
       "9933"
      ]
     },
     "execution_count": 4,
     "metadata": {},
     "output_type": "execute_result"
    }
   ],
   "source": [
    "# 9933\n",
    "taxa = set()\n",
    "\n",
    "for index, row in metadata.iterrows():\n",
    "    if row['type'] == 'taxa':\n",
    "        df = pd.read_csv(row['path'])\n",
    "        df.dropna(axis=0, inplace=True, how='all')\n",
    "        df['temp'] = df['fossil'].str.strip() +  '|' + row['taxon_group']\n",
    "        \n",
    "        taxa.update(df['temp'])\n",
    "        \n",
    "len(taxa)"
   ]
  },
  {
   "cell_type": "code",
   "execution_count": 5,
   "metadata": {},
   "outputs": [
    {
     "data": {
      "text/plain": [
       "9932"
      ]
     },
     "execution_count": 5,
     "metadata": {},
     "output_type": "execute_result"
    }
   ],
   "source": [
    "# 9932\n",
    "taxa_list = []\n",
    "\n",
    "for taxon in taxa:\n",
    "    if not pd.isna(taxon):\n",
    "        taxon_name, taxon_group = taxon.split('|')\n",
    "        simplified_name = re.sub('\\(.*?\\)$', '', taxon_name).strip()\n",
    "        taxon_name_parts = simplified_name.split(' ')\n",
    "\n",
    "        data = {'verbatim_name': taxon_name, \n",
    "                'taxon_group': taxon_group, \n",
    "                'genus name': taxon_name_parts[0],\n",
    "                '_simplified_name': simplified_name}\n",
    "        if len(taxon_name_parts) > 1:\n",
    "            data['species name'] = taxon_name_parts[1]\n",
    "        if len(taxon_name_parts) == 3:\n",
    "            data['subspecies name'] = taxon_name_parts[2]\n",
    "\n",
    "        taxa_list.append(data)\n",
    "        \n",
    "len(taxa_list)"
   ]
  },
  {
   "cell_type": "markdown",
   "metadata": {},
   "source": [
    "create taxa list csv"
   ]
  },
  {
   "cell_type": "code",
   "execution_count": 6,
   "metadata": {},
   "outputs": [
    {
     "data": {
      "text/html": [
       "<div>\n",
       "<style scoped>\n",
       "    .dataframe tbody tr th:only-of-type {\n",
       "        vertical-align: middle;\n",
       "    }\n",
       "\n",
       "    .dataframe tbody tr th {\n",
       "        vertical-align: top;\n",
       "    }\n",
       "\n",
       "    .dataframe thead th {\n",
       "        text-align: right;\n",
       "    }\n",
       "</style>\n",
       "<table border=\"1\" class=\"dataframe\">\n",
       "  <thead>\n",
       "    <tr style=\"text-align: right;\">\n",
       "      <th></th>\n",
       "      <th>verbatim_name</th>\n",
       "      <th>taxon_group</th>\n",
       "      <th>genus name</th>\n",
       "      <th>_simplified_name</th>\n",
       "      <th>species name</th>\n",
       "      <th>subspecies name</th>\n",
       "    </tr>\n",
       "  </thead>\n",
       "  <tbody>\n",
       "    <tr>\n",
       "      <th>0</th>\n",
       "      <td>Calocyclas semipolita (q)</td>\n",
       "      <td>radiolarians</td>\n",
       "      <td>Calocyclas</td>\n",
       "      <td>Calocyclas semipolita</td>\n",
       "      <td>semipolita</td>\n",
       "      <td>NaN</td>\n",
       "    </tr>\n",
       "    <tr>\n",
       "      <th>1</th>\n",
       "      <td>Globorotalia pliozea</td>\n",
       "      <td>planktic_foraminfera</td>\n",
       "      <td>Globorotalia</td>\n",
       "      <td>Globorotalia pliozea</td>\n",
       "      <td>pliozea</td>\n",
       "      <td>NaN</td>\n",
       "    </tr>\n",
       "    <tr>\n",
       "      <th>2</th>\n",
       "      <td>Coccolithus robustus</td>\n",
       "      <td>nannofossils</td>\n",
       "      <td>Coccolithus</td>\n",
       "      <td>Coccolithus robustus</td>\n",
       "      <td>robustus</td>\n",
       "      <td>NaN</td>\n",
       "    </tr>\n",
       "    <tr>\n",
       "      <th>3</th>\n",
       "      <td>Miliolidae sp.</td>\n",
       "      <td>benthic_foraminfera</td>\n",
       "      <td>Miliolidae</td>\n",
       "      <td>Miliolidae sp.</td>\n",
       "      <td>sp.</td>\n",
       "      <td>NaN</td>\n",
       "    </tr>\n",
       "    <tr>\n",
       "      <th>4</th>\n",
       "      <td>Beaupreaeidites elegansiformis</td>\n",
       "      <td>pollen</td>\n",
       "      <td>Beaupreaeidites</td>\n",
       "      <td>Beaupreaeidites elegansiformis</td>\n",
       "      <td>elegansiformis</td>\n",
       "      <td>NaN</td>\n",
       "    </tr>\n",
       "  </tbody>\n",
       "</table>\n",
       "</div>"
      ],
      "text/plain": [
       "                    verbatim_name           taxon_group       genus name  \\\n",
       "0       Calocyclas semipolita (q)          radiolarians       Calocyclas   \n",
       "1            Globorotalia pliozea  planktic_foraminfera     Globorotalia   \n",
       "2            Coccolithus robustus          nannofossils      Coccolithus   \n",
       "3                  Miliolidae sp.   benthic_foraminfera       Miliolidae   \n",
       "4  Beaupreaeidites elegansiformis                pollen  Beaupreaeidites   \n",
       "\n",
       "                 _simplified_name    species name subspecies name  \n",
       "0           Calocyclas semipolita      semipolita             NaN  \n",
       "1            Globorotalia pliozea         pliozea             NaN  \n",
       "2            Coccolithus robustus        robustus             NaN  \n",
       "3                  Miliolidae sp.             sp.             NaN  \n",
       "4  Beaupreaeidites elegansiformis  elegansiformis             NaN  "
      ]
     },
     "execution_count": 6,
     "metadata": {},
     "output_type": "execute_result"
    }
   ],
   "source": [
    "taxa_df = pd.DataFrame(taxa_list)\n",
    "taxa_df.head()"
   ]
  },
  {
   "cell_type": "code",
   "execution_count": 7,
   "metadata": {},
   "outputs": [],
   "source": [
    "taxa_df.to_csv(taxa_all_path, index=False)"
   ]
  },
  {
   "cell_type": "markdown",
   "metadata": {},
   "source": [
    "## Compare NOAA taxa with approved taxa"
   ]
  },
  {
   "cell_type": "markdown",
   "metadata": {},
   "source": [
    "get NOAA taxa"
   ]
  },
  {
   "cell_type": "code",
   "execution_count": 8,
   "metadata": {},
   "outputs": [
    {
     "name": "stdout",
     "output_type": "stream",
     "text": [
      "9932\n"
     ]
    },
    {
     "data": {
      "text/html": [
       "<div>\n",
       "<style scoped>\n",
       "    .dataframe tbody tr th:only-of-type {\n",
       "        vertical-align: middle;\n",
       "    }\n",
       "\n",
       "    .dataframe tbody tr th {\n",
       "        vertical-align: top;\n",
       "    }\n",
       "\n",
       "    .dataframe thead th {\n",
       "        text-align: right;\n",
       "    }\n",
       "</style>\n",
       "<table border=\"1\" class=\"dataframe\">\n",
       "  <thead>\n",
       "    <tr style=\"text-align: right;\">\n",
       "      <th></th>\n",
       "      <th>verbatim_name</th>\n",
       "      <th>taxon_group</th>\n",
       "      <th>genus name</th>\n",
       "      <th>_simplified_name</th>\n",
       "      <th>species name</th>\n",
       "      <th>subspecies name</th>\n",
       "    </tr>\n",
       "  </thead>\n",
       "  <tbody>\n",
       "    <tr>\n",
       "      <th>0</th>\n",
       "      <td>Calocyclas semipolita (q)</td>\n",
       "      <td>radiolarians</td>\n",
       "      <td>Calocyclas</td>\n",
       "      <td>Calocyclas semipolita</td>\n",
       "      <td>semipolita</td>\n",
       "      <td>NaN</td>\n",
       "    </tr>\n",
       "    <tr>\n",
       "      <th>1</th>\n",
       "      <td>Globorotalia pliozea</td>\n",
       "      <td>planktic_foraminfera</td>\n",
       "      <td>Globorotalia</td>\n",
       "      <td>Globorotalia pliozea</td>\n",
       "      <td>pliozea</td>\n",
       "      <td>NaN</td>\n",
       "    </tr>\n",
       "    <tr>\n",
       "      <th>2</th>\n",
       "      <td>Coccolithus robustus</td>\n",
       "      <td>nannofossils</td>\n",
       "      <td>Coccolithus</td>\n",
       "      <td>Coccolithus robustus</td>\n",
       "      <td>robustus</td>\n",
       "      <td>NaN</td>\n",
       "    </tr>\n",
       "    <tr>\n",
       "      <th>3</th>\n",
       "      <td>Miliolidae sp.</td>\n",
       "      <td>benthic_foraminfera</td>\n",
       "      <td>Miliolidae</td>\n",
       "      <td>Miliolidae sp.</td>\n",
       "      <td>sp.</td>\n",
       "      <td>NaN</td>\n",
       "    </tr>\n",
       "    <tr>\n",
       "      <th>4</th>\n",
       "      <td>Beaupreaeidites elegansiformis</td>\n",
       "      <td>pollen</td>\n",
       "      <td>Beaupreaeidites</td>\n",
       "      <td>Beaupreaeidites elegansiformis</td>\n",
       "      <td>elegansiformis</td>\n",
       "      <td>NaN</td>\n",
       "    </tr>\n",
       "  </tbody>\n",
       "</table>\n",
       "</div>"
      ],
      "text/plain": [
       "                    verbatim_name           taxon_group       genus name  \\\n",
       "0       Calocyclas semipolita (q)          radiolarians       Calocyclas   \n",
       "1            Globorotalia pliozea  planktic_foraminfera     Globorotalia   \n",
       "2            Coccolithus robustus          nannofossils      Coccolithus   \n",
       "3                  Miliolidae sp.   benthic_foraminfera       Miliolidae   \n",
       "4  Beaupreaeidites elegansiformis                pollen  Beaupreaeidites   \n",
       "\n",
       "                 _simplified_name    species name subspecies name  \n",
       "0           Calocyclas semipolita      semipolita             NaN  \n",
       "1            Globorotalia pliozea         pliozea             NaN  \n",
       "2            Coccolithus robustus        robustus             NaN  \n",
       "3                  Miliolidae sp.             sp.             NaN  \n",
       "4  Beaupreaeidites elegansiformis  elegansiformis             NaN  "
      ]
     },
     "execution_count": 8,
     "metadata": {},
     "output_type": "execute_result"
    }
   ],
   "source": [
    "# 9932\n",
    "noaa_taxa_df = pd.read_csv(taxa_all_path)\n",
    "\n",
    "print(len(noaa_taxa_df))\n",
    "noaa_taxa_df.head()"
   ]
  },
  {
   "cell_type": "markdown",
   "metadata": {},
   "source": [
    "get approved taxa"
   ]
  },
  {
   "cell_type": "code",
   "execution_count": 9,
   "metadata": {},
   "outputs": [
    {
     "name": "stdout",
     "output_type": "stream",
     "text": [
      "4600\n"
     ]
    },
    {
     "data": {
      "text/html": [
       "<div>\n",
       "<style scoped>\n",
       "    .dataframe tbody tr th:only-of-type {\n",
       "        vertical-align: middle;\n",
       "    }\n",
       "\n",
       "    .dataframe tbody tr th {\n",
       "        vertical-align: top;\n",
       "    }\n",
       "\n",
       "    .dataframe thead th {\n",
       "        text-align: right;\n",
       "    }\n",
       "</style>\n",
       "<table border=\"1\" class=\"dataframe\">\n",
       "  <thead>\n",
       "    <tr style=\"text-align: right;\">\n",
       "      <th></th>\n",
       "      <th>non-taxa descriptor</th>\n",
       "      <th>normalized_name</th>\n",
       "      <th>taxon_group</th>\n",
       "    </tr>\n",
       "  </thead>\n",
       "  <tbody>\n",
       "    <tr>\n",
       "      <th>0</th>\n",
       "      <td>NaN</td>\n",
       "      <td>Euuvigerina miozea</td>\n",
       "      <td>benthic_foraminfera</td>\n",
       "    </tr>\n",
       "    <tr>\n",
       "      <th>1</th>\n",
       "      <td>NaN</td>\n",
       "      <td>Euuvigerina rodleyi</td>\n",
       "      <td>benthic_foraminfera</td>\n",
       "    </tr>\n",
       "    <tr>\n",
       "      <th>2</th>\n",
       "      <td>NaN</td>\n",
       "      <td>Foraminifera indet.</td>\n",
       "      <td>benthic_foraminfera</td>\n",
       "    </tr>\n",
       "    <tr>\n",
       "      <th>3</th>\n",
       "      <td>NaN</td>\n",
       "      <td>Pleurostomellia indet.</td>\n",
       "      <td>benthic_foraminfera</td>\n",
       "    </tr>\n",
       "    <tr>\n",
       "      <th>4</th>\n",
       "      <td>NaN</td>\n",
       "      <td>Ostracoda indet.</td>\n",
       "      <td>benthic_foraminfera</td>\n",
       "    </tr>\n",
       "  </tbody>\n",
       "</table>\n",
       "</div>"
      ],
      "text/plain": [
       "  non-taxa descriptor         normalized_name          taxon_group\n",
       "0                 NaN      Euuvigerina miozea  benthic_foraminfera\n",
       "1                 NaN     Euuvigerina rodleyi  benthic_foraminfera\n",
       "2                 NaN     Foraminifera indet.  benthic_foraminfera\n",
       "3                 NaN  Pleurostomellia indet.  benthic_foraminfera\n",
       "4                 NaN        Ostracoda indet.  benthic_foraminfera"
      ]
     },
     "execution_count": 9,
     "metadata": {},
     "output_type": "execute_result"
    }
   ],
   "source": [
    "# 4600\n",
    "approved_taxa_df = pd.read_csv(approved_taxa_path, \n",
    "                               usecols=['normalized_name', 'taxon_group', 'non-taxa descriptor'])\n",
    "print(len(approved_taxa_df))\n",
    "approved_taxa_df.head()"
   ]
  },
  {
   "cell_type": "markdown",
   "metadata": {},
   "source": [
    "add '_simplified_name' so we can compare NOAA taxa with approved taxa"
   ]
  },
  {
   "cell_type": "code",
   "execution_count": 10,
   "metadata": {},
   "outputs": [],
   "source": [
    "approved_taxa_df['_simplified_name'] = (\n",
    "    approved_taxa_df['normalized_name'].str.replace(' +\\(.*?\\)$', '')\n",
    ")"
   ]
  },
  {
   "cell_type": "code",
   "execution_count": 11,
   "metadata": {},
   "outputs": [
    {
     "data": {
      "text/html": [
       "<div>\n",
       "<style scoped>\n",
       "    .dataframe tbody tr th:only-of-type {\n",
       "        vertical-align: middle;\n",
       "    }\n",
       "\n",
       "    .dataframe tbody tr th {\n",
       "        vertical-align: top;\n",
       "    }\n",
       "\n",
       "    .dataframe thead th {\n",
       "        text-align: right;\n",
       "    }\n",
       "</style>\n",
       "<table border=\"1\" class=\"dataframe\">\n",
       "  <thead>\n",
       "    <tr style=\"text-align: right;\">\n",
       "      <th></th>\n",
       "      <th>non-taxa descriptor</th>\n",
       "      <th>normalized_name</th>\n",
       "      <th>taxon_group</th>\n",
       "      <th>_simplified_name</th>\n",
       "    </tr>\n",
       "  </thead>\n",
       "  <tbody>\n",
       "    <tr>\n",
       "      <th>170</th>\n",
       "      <td>crenulate</td>\n",
       "      <td>Bolivina cf. crenulata (crenulate)</td>\n",
       "      <td>benthic_foraminfera</td>\n",
       "      <td>Bolivina cf. crenulata</td>\n",
       "    </tr>\n",
       "    <tr>\n",
       "      <th>171</th>\n",
       "      <td>smooth flat</td>\n",
       "      <td>Bolivina sp. (smooth flat)</td>\n",
       "      <td>benthic_foraminfera</td>\n",
       "      <td>Bolivina sp.</td>\n",
       "    </tr>\n",
       "  </tbody>\n",
       "</table>\n",
       "</div>"
      ],
      "text/plain": [
       "    non-taxa descriptor                     normalized_name  \\\n",
       "170           crenulate  Bolivina cf. crenulata (crenulate)   \n",
       "171         smooth flat          Bolivina sp. (smooth flat)   \n",
       "\n",
       "             taxon_group        _simplified_name  \n",
       "170  benthic_foraminfera  Bolivina cf. crenulata  \n",
       "171  benthic_foraminfera            Bolivina sp.  "
      ]
     },
     "execution_count": 11,
     "metadata": {},
     "output_type": "execute_result"
    }
   ],
   "source": [
    "approved_taxa_df[approved_taxa_df['non-taxa descriptor'].notna()].head(2)"
   ]
  },
  {
   "cell_type": "code",
   "execution_count": 12,
   "metadata": {},
   "outputs": [],
   "source": [
    "del approved_taxa_df['normalized_name'] \n",
    "del approved_taxa_df['non-taxa descriptor'] "
   ]
  },
  {
   "cell_type": "code",
   "execution_count": 13,
   "metadata": {},
   "outputs": [
    {
     "name": "stdout",
     "output_type": "stream",
     "text": [
      "4047\n"
     ]
    },
    {
     "data": {
      "text/html": [
       "<div>\n",
       "<style scoped>\n",
       "    .dataframe tbody tr th:only-of-type {\n",
       "        vertical-align: middle;\n",
       "    }\n",
       "\n",
       "    .dataframe tbody tr th {\n",
       "        vertical-align: top;\n",
       "    }\n",
       "\n",
       "    .dataframe thead th {\n",
       "        text-align: right;\n",
       "    }\n",
       "</style>\n",
       "<table border=\"1\" class=\"dataframe\">\n",
       "  <thead>\n",
       "    <tr style=\"text-align: right;\">\n",
       "      <th></th>\n",
       "      <th>taxon_group</th>\n",
       "      <th>_simplified_name</th>\n",
       "    </tr>\n",
       "  </thead>\n",
       "  <tbody>\n",
       "    <tr>\n",
       "      <th>0</th>\n",
       "      <td>benthic_foraminfera</td>\n",
       "      <td>Euuvigerina miozea</td>\n",
       "    </tr>\n",
       "    <tr>\n",
       "      <th>1</th>\n",
       "      <td>benthic_foraminfera</td>\n",
       "      <td>Euuvigerina rodleyi</td>\n",
       "    </tr>\n",
       "    <tr>\n",
       "      <th>2</th>\n",
       "      <td>benthic_foraminfera</td>\n",
       "      <td>Foraminifera indet.</td>\n",
       "    </tr>\n",
       "    <tr>\n",
       "      <th>3</th>\n",
       "      <td>benthic_foraminfera</td>\n",
       "      <td>Pleurostomellia indet.</td>\n",
       "    </tr>\n",
       "    <tr>\n",
       "      <th>4</th>\n",
       "      <td>benthic_foraminfera</td>\n",
       "      <td>Ostracoda indet.</td>\n",
       "    </tr>\n",
       "  </tbody>\n",
       "</table>\n",
       "</div>"
      ],
      "text/plain": [
       "           taxon_group        _simplified_name\n",
       "0  benthic_foraminfera      Euuvigerina miozea\n",
       "1  benthic_foraminfera     Euuvigerina rodleyi\n",
       "2  benthic_foraminfera     Foraminifera indet.\n",
       "3  benthic_foraminfera  Pleurostomellia indet.\n",
       "4  benthic_foraminfera        Ostracoda indet."
      ]
     },
     "execution_count": 13,
     "metadata": {},
     "output_type": "execute_result"
    }
   ],
   "source": [
    "# 4047\n",
    "approved_taxa_df.drop_duplicates(inplace=True)\n",
    "\n",
    "print(len(approved_taxa_df))\n",
    "approved_taxa_df.head()"
   ]
  },
  {
   "cell_type": "markdown",
   "metadata": {},
   "source": [
    "merge NOAA taxa with approved taxa"
   ]
  },
  {
   "cell_type": "code",
   "execution_count": 14,
   "metadata": {},
   "outputs": [
    {
     "name": "stdout",
     "output_type": "stream",
     "text": [
      "9932\n"
     ]
    },
    {
     "data": {
      "text/html": [
       "<div>\n",
       "<style scoped>\n",
       "    .dataframe tbody tr th:only-of-type {\n",
       "        vertical-align: middle;\n",
       "    }\n",
       "\n",
       "    .dataframe tbody tr th {\n",
       "        vertical-align: top;\n",
       "    }\n",
       "\n",
       "    .dataframe thead th {\n",
       "        text-align: right;\n",
       "    }\n",
       "</style>\n",
       "<table border=\"1\" class=\"dataframe\">\n",
       "  <thead>\n",
       "    <tr style=\"text-align: right;\">\n",
       "      <th></th>\n",
       "      <th>verbatim_name</th>\n",
       "      <th>taxon_group</th>\n",
       "      <th>genus name</th>\n",
       "      <th>_simplified_name</th>\n",
       "      <th>species name</th>\n",
       "      <th>subspecies name</th>\n",
       "      <th>_merge_approved</th>\n",
       "    </tr>\n",
       "  </thead>\n",
       "  <tbody>\n",
       "    <tr>\n",
       "      <th>0</th>\n",
       "      <td>Calocyclas semipolita (q)</td>\n",
       "      <td>radiolarians</td>\n",
       "      <td>Calocyclas</td>\n",
       "      <td>Calocyclas semipolita</td>\n",
       "      <td>semipolita</td>\n",
       "      <td>NaN</td>\n",
       "      <td>left_only</td>\n",
       "    </tr>\n",
       "    <tr>\n",
       "      <th>1</th>\n",
       "      <td>Globorotalia pliozea</td>\n",
       "      <td>planktic_foraminfera</td>\n",
       "      <td>Globorotalia</td>\n",
       "      <td>Globorotalia pliozea</td>\n",
       "      <td>pliozea</td>\n",
       "      <td>NaN</td>\n",
       "      <td>both</td>\n",
       "    </tr>\n",
       "    <tr>\n",
       "      <th>2</th>\n",
       "      <td>Coccolithus robustus</td>\n",
       "      <td>nannofossils</td>\n",
       "      <td>Coccolithus</td>\n",
       "      <td>Coccolithus robustus</td>\n",
       "      <td>robustus</td>\n",
       "      <td>NaN</td>\n",
       "      <td>left_only</td>\n",
       "    </tr>\n",
       "    <tr>\n",
       "      <th>3</th>\n",
       "      <td>Miliolidae sp.</td>\n",
       "      <td>benthic_foraminfera</td>\n",
       "      <td>Miliolidae</td>\n",
       "      <td>Miliolidae sp.</td>\n",
       "      <td>sp.</td>\n",
       "      <td>NaN</td>\n",
       "      <td>left_only</td>\n",
       "    </tr>\n",
       "    <tr>\n",
       "      <th>4</th>\n",
       "      <td>Beaupreaeidites elegansiformis</td>\n",
       "      <td>pollen</td>\n",
       "      <td>Beaupreaeidites</td>\n",
       "      <td>Beaupreaeidites elegansiformis</td>\n",
       "      <td>elegansiformis</td>\n",
       "      <td>NaN</td>\n",
       "      <td>left_only</td>\n",
       "    </tr>\n",
       "    <tr>\n",
       "      <th>5</th>\n",
       "      <td>Morozovella djanensis (q)</td>\n",
       "      <td>planktic_foraminfera</td>\n",
       "      <td>Morozovella</td>\n",
       "      <td>Morozovella djanensis</td>\n",
       "      <td>djanensis</td>\n",
       "      <td>NaN</td>\n",
       "      <td>left_only</td>\n",
       "    </tr>\n",
       "  </tbody>\n",
       "</table>\n",
       "</div>"
      ],
      "text/plain": [
       "                    verbatim_name           taxon_group       genus name  \\\n",
       "0       Calocyclas semipolita (q)          radiolarians       Calocyclas   \n",
       "1            Globorotalia pliozea  planktic_foraminfera     Globorotalia   \n",
       "2            Coccolithus robustus          nannofossils      Coccolithus   \n",
       "3                  Miliolidae sp.   benthic_foraminfera       Miliolidae   \n",
       "4  Beaupreaeidites elegansiformis                pollen  Beaupreaeidites   \n",
       "5       Morozovella djanensis (q)  planktic_foraminfera      Morozovella   \n",
       "\n",
       "                 _simplified_name    species name subspecies name  \\\n",
       "0           Calocyclas semipolita      semipolita             NaN   \n",
       "1            Globorotalia pliozea         pliozea             NaN   \n",
       "2            Coccolithus robustus        robustus             NaN   \n",
       "3                  Miliolidae sp.             sp.             NaN   \n",
       "4  Beaupreaeidites elegansiformis  elegansiformis             NaN   \n",
       "5           Morozovella djanensis       djanensis             NaN   \n",
       "\n",
       "  _merge_approved  \n",
       "0       left_only  \n",
       "1            both  \n",
       "2       left_only  \n",
       "3       left_only  \n",
       "4       left_only  \n",
       "5       left_only  "
      ]
     },
     "execution_count": 14,
     "metadata": {},
     "output_type": "execute_result"
    }
   ],
   "source": [
    "# 9932\n",
    "merged_df = pd.merge(noaa_taxa_df, approved_taxa_df,  \n",
    "                     on=['_simplified_name', 'taxon_group'], \n",
    "                     how='left',\n",
    "                     indicator='_merge_approved')\n",
    "\n",
    "print(len(merged_df))\n",
    "merged_df.head(6)"
   ]
  },
  {
   "cell_type": "markdown",
   "metadata": {},
   "source": [
    "save changes to taxa_all csv"
   ]
  },
  {
   "cell_type": "code",
   "execution_count": 15,
   "metadata": {},
   "outputs": [],
   "source": [
    "merged_df.to_csv(taxa_all_path, index=False)"
   ]
  },
  {
   "cell_type": "markdown",
   "metadata": {},
   "source": [
    "## Created taxa list with unapproved NOAA taxa"
   ]
  },
  {
   "cell_type": "markdown",
   "metadata": {},
   "source": [
    "Select unapproved NOAA taxa. When _merged is both, it means the taxa has been approved. When _merged is left_only, it means the taxa has not been approved."
   ]
  },
  {
   "cell_type": "code",
   "execution_count": 16,
   "metadata": {},
   "outputs": [
    {
     "data": {
      "text/html": [
       "<div>\n",
       "<style scoped>\n",
       "    .dataframe tbody tr th:only-of-type {\n",
       "        vertical-align: middle;\n",
       "    }\n",
       "\n",
       "    .dataframe tbody tr th {\n",
       "        vertical-align: top;\n",
       "    }\n",
       "\n",
       "    .dataframe thead th {\n",
       "        text-align: right;\n",
       "    }\n",
       "</style>\n",
       "<table border=\"1\" class=\"dataframe\">\n",
       "  <thead>\n",
       "    <tr style=\"text-align: right;\">\n",
       "      <th></th>\n",
       "      <th>verbatim_name</th>\n",
       "      <th>taxon_group</th>\n",
       "      <th>genus name</th>\n",
       "      <th>_simplified_name</th>\n",
       "      <th>species name</th>\n",
       "      <th>subspecies name</th>\n",
       "      <th>_merge_approved</th>\n",
       "    </tr>\n",
       "  </thead>\n",
       "  <tbody>\n",
       "    <tr>\n",
       "      <th>0</th>\n",
       "      <td>Calocyclas semipolita (q)</td>\n",
       "      <td>radiolarians</td>\n",
       "      <td>Calocyclas</td>\n",
       "      <td>Calocyclas semipolita</td>\n",
       "      <td>semipolita</td>\n",
       "      <td>NaN</td>\n",
       "      <td>left_only</td>\n",
       "    </tr>\n",
       "    <tr>\n",
       "      <th>1</th>\n",
       "      <td>Globorotalia pliozea</td>\n",
       "      <td>planktic_foraminfera</td>\n",
       "      <td>Globorotalia</td>\n",
       "      <td>Globorotalia pliozea</td>\n",
       "      <td>pliozea</td>\n",
       "      <td>NaN</td>\n",
       "      <td>both</td>\n",
       "    </tr>\n",
       "    <tr>\n",
       "      <th>2</th>\n",
       "      <td>Coccolithus robustus</td>\n",
       "      <td>nannofossils</td>\n",
       "      <td>Coccolithus</td>\n",
       "      <td>Coccolithus robustus</td>\n",
       "      <td>robustus</td>\n",
       "      <td>NaN</td>\n",
       "      <td>left_only</td>\n",
       "    </tr>\n",
       "    <tr>\n",
       "      <th>3</th>\n",
       "      <td>Miliolidae sp.</td>\n",
       "      <td>benthic_foraminfera</td>\n",
       "      <td>Miliolidae</td>\n",
       "      <td>Miliolidae sp.</td>\n",
       "      <td>sp.</td>\n",
       "      <td>NaN</td>\n",
       "      <td>left_only</td>\n",
       "    </tr>\n",
       "    <tr>\n",
       "      <th>4</th>\n",
       "      <td>Beaupreaeidites elegansiformis</td>\n",
       "      <td>pollen</td>\n",
       "      <td>Beaupreaeidites</td>\n",
       "      <td>Beaupreaeidites elegansiformis</td>\n",
       "      <td>elegansiformis</td>\n",
       "      <td>NaN</td>\n",
       "      <td>left_only</td>\n",
       "    </tr>\n",
       "  </tbody>\n",
       "</table>\n",
       "</div>"
      ],
      "text/plain": [
       "                    verbatim_name           taxon_group       genus name  \\\n",
       "0       Calocyclas semipolita (q)          radiolarians       Calocyclas   \n",
       "1            Globorotalia pliozea  planktic_foraminfera     Globorotalia   \n",
       "2            Coccolithus robustus          nannofossils      Coccolithus   \n",
       "3                  Miliolidae sp.   benthic_foraminfera       Miliolidae   \n",
       "4  Beaupreaeidites elegansiformis                pollen  Beaupreaeidites   \n",
       "\n",
       "                 _simplified_name    species name subspecies name  \\\n",
       "0           Calocyclas semipolita      semipolita             NaN   \n",
       "1            Globorotalia pliozea         pliozea             NaN   \n",
       "2            Coccolithus robustus        robustus             NaN   \n",
       "3                  Miliolidae sp.             sp.             NaN   \n",
       "4  Beaupreaeidites elegansiformis  elegansiformis             NaN   \n",
       "\n",
       "  _merge_approved  \n",
       "0       left_only  \n",
       "1            both  \n",
       "2       left_only  \n",
       "3       left_only  \n",
       "4       left_only  "
      ]
     },
     "execution_count": 16,
     "metadata": {},
     "output_type": "execute_result"
    }
   ],
   "source": [
    "merged_df = pd.read_csv(taxa_all_path)\n",
    "merged_df.head()"
   ]
  },
  {
   "cell_type": "code",
   "execution_count": 17,
   "metadata": {},
   "outputs": [
    {
     "name": "stdout",
     "output_type": "stream",
     "text": [
      "(7763, 7)\n"
     ]
    },
    {
     "data": {
      "text/html": [
       "<div>\n",
       "<style scoped>\n",
       "    .dataframe tbody tr th:only-of-type {\n",
       "        vertical-align: middle;\n",
       "    }\n",
       "\n",
       "    .dataframe tbody tr th {\n",
       "        vertical-align: top;\n",
       "    }\n",
       "\n",
       "    .dataframe thead th {\n",
       "        text-align: right;\n",
       "    }\n",
       "</style>\n",
       "<table border=\"1\" class=\"dataframe\">\n",
       "  <thead>\n",
       "    <tr style=\"text-align: right;\">\n",
       "      <th></th>\n",
       "      <th>verbatim_name</th>\n",
       "      <th>taxon_group</th>\n",
       "      <th>genus name</th>\n",
       "      <th>_simplified_name</th>\n",
       "      <th>species name</th>\n",
       "      <th>subspecies name</th>\n",
       "      <th>_merge_approved</th>\n",
       "    </tr>\n",
       "  </thead>\n",
       "  <tbody>\n",
       "    <tr>\n",
       "      <th>0</th>\n",
       "      <td>Calocyclas semipolita (q)</td>\n",
       "      <td>radiolarians</td>\n",
       "      <td>Calocyclas</td>\n",
       "      <td>Calocyclas semipolita</td>\n",
       "      <td>semipolita</td>\n",
       "      <td>NaN</td>\n",
       "      <td>left_only</td>\n",
       "    </tr>\n",
       "    <tr>\n",
       "      <th>2</th>\n",
       "      <td>Coccolithus robustus</td>\n",
       "      <td>nannofossils</td>\n",
       "      <td>Coccolithus</td>\n",
       "      <td>Coccolithus robustus</td>\n",
       "      <td>robustus</td>\n",
       "      <td>NaN</td>\n",
       "      <td>left_only</td>\n",
       "    </tr>\n",
       "    <tr>\n",
       "      <th>3</th>\n",
       "      <td>Miliolidae sp.</td>\n",
       "      <td>benthic_foraminfera</td>\n",
       "      <td>Miliolidae</td>\n",
       "      <td>Miliolidae sp.</td>\n",
       "      <td>sp.</td>\n",
       "      <td>NaN</td>\n",
       "      <td>left_only</td>\n",
       "    </tr>\n",
       "    <tr>\n",
       "      <th>4</th>\n",
       "      <td>Beaupreaeidites elegansiformis</td>\n",
       "      <td>pollen</td>\n",
       "      <td>Beaupreaeidites</td>\n",
       "      <td>Beaupreaeidites elegansiformis</td>\n",
       "      <td>elegansiformis</td>\n",
       "      <td>NaN</td>\n",
       "      <td>left_only</td>\n",
       "    </tr>\n",
       "    <tr>\n",
       "      <th>5</th>\n",
       "      <td>Morozovella djanensis (q)</td>\n",
       "      <td>planktic_foraminfera</td>\n",
       "      <td>Morozovella</td>\n",
       "      <td>Morozovella djanensis</td>\n",
       "      <td>djanensis</td>\n",
       "      <td>NaN</td>\n",
       "      <td>left_only</td>\n",
       "    </tr>\n",
       "  </tbody>\n",
       "</table>\n",
       "</div>"
      ],
      "text/plain": [
       "                    verbatim_name           taxon_group       genus name  \\\n",
       "0       Calocyclas semipolita (q)          radiolarians       Calocyclas   \n",
       "2            Coccolithus robustus          nannofossils      Coccolithus   \n",
       "3                  Miliolidae sp.   benthic_foraminfera       Miliolidae   \n",
       "4  Beaupreaeidites elegansiformis                pollen  Beaupreaeidites   \n",
       "5       Morozovella djanensis (q)  planktic_foraminfera      Morozovella   \n",
       "\n",
       "                 _simplified_name    species name subspecies name  \\\n",
       "0           Calocyclas semipolita      semipolita             NaN   \n",
       "2            Coccolithus robustus        robustus             NaN   \n",
       "3                  Miliolidae sp.             sp.             NaN   \n",
       "4  Beaupreaeidites elegansiformis  elegansiformis             NaN   \n",
       "5           Morozovella djanensis       djanensis             NaN   \n",
       "\n",
       "  _merge_approved  \n",
       "0       left_only  \n",
       "2       left_only  \n",
       "3       left_only  \n",
       "4       left_only  \n",
       "5       left_only  "
      ]
     },
     "execution_count": 17,
     "metadata": {},
     "output_type": "execute_result"
    }
   ],
   "source": [
    "(7763, 7)\n",
    "unapproved_taxa_df = merged_df[merged_df['_merge_approved'] == 'left_only'].copy()\n",
    "\n",
    "print(unapproved_taxa_df.shape)\n",
    "unapproved_taxa_df.head()"
   ]
  },
  {
   "cell_type": "markdown",
   "metadata": {},
   "source": [
    "create csv of unapproved NOAA taxa"
   ]
  },
  {
   "cell_type": "code",
   "execution_count": 18,
   "metadata": {},
   "outputs": [],
   "source": [
    "unapproved_taxa_df.to_csv(taxa_path, index=False)"
   ]
  },
  {
   "cell_type": "markdown",
   "metadata": {},
   "source": [
    "## Add PBDB data for taxa that aren't approved"
   ]
  },
  {
   "cell_type": "markdown",
   "metadata": {},
   "source": [
    "Look up the genus for unapproved taxa in PBDB"
   ]
  },
  {
   "cell_type": "code",
   "execution_count": null,
   "metadata": {},
   "outputs": [],
   "source": [
    "unapproved_taxa_df = pd.read_csv(taxa_path)\n",
    "unapproved_taxa_df.head()"
   ]
  },
  {
   "cell_type": "markdown",
   "metadata": {},
   "source": [
    "create a dataframe of unique genera"
   ]
  },
  {
   "cell_type": "code",
   "execution_count": null,
   "metadata": {},
   "outputs": [],
   "source": [
    "genus_df = pd.DataFrame(unapproved_taxa_df['genus name'].unique(), columns=['genus name'])\n",
    "\n",
    "print(len(genus_df))\n",
    "genus_df.head()"
   ]
  },
  {
   "cell_type": "markdown",
   "metadata": {},
   "source": [
    "add pbdb taxa data"
   ]
  },
  {
   "cell_type": "code",
   "execution_count": null,
   "metadata": {},
   "outputs": [],
   "source": [
    "PBDB_API = \"https://paleobiodb.org/data1.2/\"\n",
    "PBDB_TAXA = f\"{PBDB_API}taxa/single.json?vocab=pbdb&name=\""
   ]
  },
  {
   "cell_type": "code",
   "execution_count": null,
   "metadata": {},
   "outputs": [],
   "source": [
    "for index, row in genus_df.iterrows():\n",
    "    pass\n",
    "    url =  PBDB_TAXA +  row['genus name']\n",
    "    response =requests.get(url)\n",
    "    \n",
    "    if response.status_code == 200:\n",
    "        data = response.json()[\"records\"]\n",
    "        if len(data) == 1:\n",
    "            # cast taxon_no to string to avoid pandas converting it to a float           \n",
    "            genus_df.at[index, 'pbdb_taxon_id'] = str(data[0][\"taxon_no\"])\n",
    "            genus_df.at[index, 'pbdb_taxon_name'] = data[0][\"taxon_name\"]\n",
    "            genus_df.at[index, 'pbdb_taxon_rank'] = data[0][\"taxon_rank\"]\n",
    "        \n"
   ]
  },
  {
   "cell_type": "code",
   "execution_count": null,
   "metadata": {},
   "outputs": [],
   "source": [
    "genus_df.head()"
   ]
  },
  {
   "cell_type": "markdown",
   "metadata": {},
   "source": [
    "create genus csv"
   ]
  },
  {
   "cell_type": "code",
   "execution_count": null,
   "metadata": {},
   "outputs": [],
   "source": [
    "genus_df.to_csv(genus_path, index=False)"
   ]
  },
  {
   "cell_type": "markdown",
   "metadata": {},
   "source": [
    "## add pbdb info to unapproved taxa "
   ]
  },
  {
   "cell_type": "code",
   "execution_count": 19,
   "metadata": {},
   "outputs": [
    {
     "data": {
      "text/html": [
       "<div>\n",
       "<style scoped>\n",
       "    .dataframe tbody tr th:only-of-type {\n",
       "        vertical-align: middle;\n",
       "    }\n",
       "\n",
       "    .dataframe tbody tr th {\n",
       "        vertical-align: top;\n",
       "    }\n",
       "\n",
       "    .dataframe thead th {\n",
       "        text-align: right;\n",
       "    }\n",
       "</style>\n",
       "<table border=\"1\" class=\"dataframe\">\n",
       "  <thead>\n",
       "    <tr style=\"text-align: right;\">\n",
       "      <th></th>\n",
       "      <th>genus name</th>\n",
       "      <th>pbdb_taxon_id</th>\n",
       "      <th>pbdb_taxon_name</th>\n",
       "      <th>pbdb_taxon_rank</th>\n",
       "    </tr>\n",
       "  </thead>\n",
       "  <tbody>\n",
       "    <tr>\n",
       "      <th>0</th>\n",
       "      <td>Rucinolithus</td>\n",
       "      <td>87736</td>\n",
       "      <td>Rucinolithus</td>\n",
       "      <td>genus</td>\n",
       "    </tr>\n",
       "    <tr>\n",
       "      <th>1</th>\n",
       "      <td>Melosira</td>\n",
       "      <td>71289</td>\n",
       "      <td>Melosira</td>\n",
       "      <td>genus</td>\n",
       "    </tr>\n",
       "    <tr>\n",
       "      <th>2</th>\n",
       "      <td>Dictyophyllidites</td>\n",
       "      <td>252445</td>\n",
       "      <td>Dictyophyllidites</td>\n",
       "      <td>genus</td>\n",
       "    </tr>\n",
       "    <tr>\n",
       "      <th>3</th>\n",
       "      <td>Cassidulinella</td>\n",
       "      <td>1066</td>\n",
       "      <td>Cassidulinella</td>\n",
       "      <td>genus</td>\n",
       "    </tr>\n",
       "    <tr>\n",
       "      <th>4</th>\n",
       "      <td>Conococcolithus</td>\n",
       "      <td>NaN</td>\n",
       "      <td>NaN</td>\n",
       "      <td>NaN</td>\n",
       "    </tr>\n",
       "  </tbody>\n",
       "</table>\n",
       "</div>"
      ],
      "text/plain": [
       "          genus name pbdb_taxon_id    pbdb_taxon_name pbdb_taxon_rank\n",
       "0       Rucinolithus         87736       Rucinolithus           genus\n",
       "1           Melosira         71289           Melosira           genus\n",
       "2  Dictyophyllidites        252445  Dictyophyllidites           genus\n",
       "3     Cassidulinella          1066     Cassidulinella           genus\n",
       "4    Conococcolithus           NaN                NaN             NaN"
      ]
     },
     "execution_count": 19,
     "metadata": {},
     "output_type": "execute_result"
    }
   ],
   "source": [
    "genus_df = pd.read_csv(genus_path, dtype={'pbdb_taxon_id': str})\n",
    "genus_df.head()"
   ]
  },
  {
   "cell_type": "code",
   "execution_count": 20,
   "metadata": {},
   "outputs": [
    {
     "name": "stdout",
     "output_type": "stream",
     "text": [
      "7763\n"
     ]
    },
    {
     "data": {
      "text/html": [
       "<div>\n",
       "<style scoped>\n",
       "    .dataframe tbody tr th:only-of-type {\n",
       "        vertical-align: middle;\n",
       "    }\n",
       "\n",
       "    .dataframe tbody tr th {\n",
       "        vertical-align: top;\n",
       "    }\n",
       "\n",
       "    .dataframe thead th {\n",
       "        text-align: right;\n",
       "    }\n",
       "</style>\n",
       "<table border=\"1\" class=\"dataframe\">\n",
       "  <thead>\n",
       "    <tr style=\"text-align: right;\">\n",
       "      <th></th>\n",
       "      <th>verbatim_name</th>\n",
       "      <th>taxon_group</th>\n",
       "      <th>genus name</th>\n",
       "      <th>_simplified_name</th>\n",
       "      <th>species name</th>\n",
       "      <th>subspecies name</th>\n",
       "      <th>_merge_approved</th>\n",
       "    </tr>\n",
       "  </thead>\n",
       "  <tbody>\n",
       "    <tr>\n",
       "      <th>0</th>\n",
       "      <td>Calocyclas semipolita (q)</td>\n",
       "      <td>radiolarians</td>\n",
       "      <td>Calocyclas</td>\n",
       "      <td>Calocyclas semipolita</td>\n",
       "      <td>semipolita</td>\n",
       "      <td>NaN</td>\n",
       "      <td>left_only</td>\n",
       "    </tr>\n",
       "    <tr>\n",
       "      <th>1</th>\n",
       "      <td>Coccolithus robustus</td>\n",
       "      <td>nannofossils</td>\n",
       "      <td>Coccolithus</td>\n",
       "      <td>Coccolithus robustus</td>\n",
       "      <td>robustus</td>\n",
       "      <td>NaN</td>\n",
       "      <td>left_only</td>\n",
       "    </tr>\n",
       "    <tr>\n",
       "      <th>2</th>\n",
       "      <td>Miliolidae sp.</td>\n",
       "      <td>benthic_foraminfera</td>\n",
       "      <td>Miliolidae</td>\n",
       "      <td>Miliolidae sp.</td>\n",
       "      <td>sp.</td>\n",
       "      <td>NaN</td>\n",
       "      <td>left_only</td>\n",
       "    </tr>\n",
       "    <tr>\n",
       "      <th>3</th>\n",
       "      <td>Beaupreaeidites elegansiformis</td>\n",
       "      <td>pollen</td>\n",
       "      <td>Beaupreaeidites</td>\n",
       "      <td>Beaupreaeidites elegansiformis</td>\n",
       "      <td>elegansiformis</td>\n",
       "      <td>NaN</td>\n",
       "      <td>left_only</td>\n",
       "    </tr>\n",
       "    <tr>\n",
       "      <th>4</th>\n",
       "      <td>Morozovella djanensis (q)</td>\n",
       "      <td>planktic_foraminfera</td>\n",
       "      <td>Morozovella</td>\n",
       "      <td>Morozovella djanensis</td>\n",
       "      <td>djanensis</td>\n",
       "      <td>NaN</td>\n",
       "      <td>left_only</td>\n",
       "    </tr>\n",
       "  </tbody>\n",
       "</table>\n",
       "</div>"
      ],
      "text/plain": [
       "                    verbatim_name           taxon_group       genus name  \\\n",
       "0       Calocyclas semipolita (q)          radiolarians       Calocyclas   \n",
       "1            Coccolithus robustus          nannofossils      Coccolithus   \n",
       "2                  Miliolidae sp.   benthic_foraminfera       Miliolidae   \n",
       "3  Beaupreaeidites elegansiformis                pollen  Beaupreaeidites   \n",
       "4       Morozovella djanensis (q)  planktic_foraminfera      Morozovella   \n",
       "\n",
       "                 _simplified_name    species name subspecies name  \\\n",
       "0           Calocyclas semipolita      semipolita             NaN   \n",
       "1            Coccolithus robustus        robustus             NaN   \n",
       "2                  Miliolidae sp.             sp.             NaN   \n",
       "3  Beaupreaeidites elegansiformis  elegansiformis             NaN   \n",
       "4           Morozovella djanensis       djanensis             NaN   \n",
       "\n",
       "  _merge_approved  \n",
       "0       left_only  \n",
       "1       left_only  \n",
       "2       left_only  \n",
       "3       left_only  \n",
       "4       left_only  "
      ]
     },
     "execution_count": 20,
     "metadata": {},
     "output_type": "execute_result"
    }
   ],
   "source": [
    "unapproved_taxa_df = pd.read_csv(taxa_path)\n",
    "\n",
    "print(len(unapproved_taxa_df))\n",
    "unapproved_taxa_df.head()"
   ]
  },
  {
   "cell_type": "markdown",
   "metadata": {},
   "source": [
    "merge NOAA unapproved taxa with pbdb data"
   ]
  },
  {
   "cell_type": "code",
   "execution_count": 21,
   "metadata": {},
   "outputs": [
    {
     "name": "stdout",
     "output_type": "stream",
     "text": [
      "7763\n"
     ]
    },
    {
     "data": {
      "text/html": [
       "<div>\n",
       "<style scoped>\n",
       "    .dataframe tbody tr th:only-of-type {\n",
       "        vertical-align: middle;\n",
       "    }\n",
       "\n",
       "    .dataframe tbody tr th {\n",
       "        vertical-align: top;\n",
       "    }\n",
       "\n",
       "    .dataframe thead th {\n",
       "        text-align: right;\n",
       "    }\n",
       "</style>\n",
       "<table border=\"1\" class=\"dataframe\">\n",
       "  <thead>\n",
       "    <tr style=\"text-align: right;\">\n",
       "      <th></th>\n",
       "      <th>verbatim_name</th>\n",
       "      <th>taxon_group</th>\n",
       "      <th>genus name</th>\n",
       "      <th>_simplified_name</th>\n",
       "      <th>species name</th>\n",
       "      <th>subspecies name</th>\n",
       "      <th>_merge_approved</th>\n",
       "      <th>pbdb_taxon_id</th>\n",
       "      <th>pbdb_taxon_name</th>\n",
       "      <th>pbdb_taxon_rank</th>\n",
       "      <th>_merge_pbdb</th>\n",
       "    </tr>\n",
       "  </thead>\n",
       "  <tbody>\n",
       "    <tr>\n",
       "      <th>0</th>\n",
       "      <td>Calocyclas semipolita (q)</td>\n",
       "      <td>radiolarians</td>\n",
       "      <td>Calocyclas</td>\n",
       "      <td>Calocyclas semipolita</td>\n",
       "      <td>semipolita</td>\n",
       "      <td>NaN</td>\n",
       "      <td>left_only</td>\n",
       "      <td>446</td>\n",
       "      <td>Calocyclas</td>\n",
       "      <td>genus</td>\n",
       "      <td>both</td>\n",
       "    </tr>\n",
       "    <tr>\n",
       "      <th>1</th>\n",
       "      <td>Coccolithus robustus</td>\n",
       "      <td>nannofossils</td>\n",
       "      <td>Coccolithus</td>\n",
       "      <td>Coccolithus robustus</td>\n",
       "      <td>robustus</td>\n",
       "      <td>NaN</td>\n",
       "      <td>left_only</td>\n",
       "      <td>87684</td>\n",
       "      <td>Coccolithus</td>\n",
       "      <td>genus</td>\n",
       "      <td>both</td>\n",
       "    </tr>\n",
       "    <tr>\n",
       "      <th>2</th>\n",
       "      <td>Miliolidae sp.</td>\n",
       "      <td>benthic_foraminfera</td>\n",
       "      <td>Miliolidae</td>\n",
       "      <td>Miliolidae sp.</td>\n",
       "      <td>sp.</td>\n",
       "      <td>NaN</td>\n",
       "      <td>left_only</td>\n",
       "      <td>81704</td>\n",
       "      <td>Miliolidae</td>\n",
       "      <td>family</td>\n",
       "      <td>both</td>\n",
       "    </tr>\n",
       "    <tr>\n",
       "      <th>3</th>\n",
       "      <td>Beaupreaeidites elegansiformis</td>\n",
       "      <td>pollen</td>\n",
       "      <td>Beaupreaeidites</td>\n",
       "      <td>Beaupreaeidites elegansiformis</td>\n",
       "      <td>elegansiformis</td>\n",
       "      <td>NaN</td>\n",
       "      <td>left_only</td>\n",
       "      <td>NaN</td>\n",
       "      <td>NaN</td>\n",
       "      <td>NaN</td>\n",
       "      <td>both</td>\n",
       "    </tr>\n",
       "    <tr>\n",
       "      <th>4</th>\n",
       "      <td>Morozovella djanensis (q)</td>\n",
       "      <td>planktic_foraminfera</td>\n",
       "      <td>Morozovella</td>\n",
       "      <td>Morozovella djanensis</td>\n",
       "      <td>djanensis</td>\n",
       "      <td>NaN</td>\n",
       "      <td>left_only</td>\n",
       "      <td>1881</td>\n",
       "      <td>Morozovella</td>\n",
       "      <td>genus</td>\n",
       "      <td>both</td>\n",
       "    </tr>\n",
       "  </tbody>\n",
       "</table>\n",
       "</div>"
      ],
      "text/plain": [
       "                    verbatim_name           taxon_group       genus name  \\\n",
       "0       Calocyclas semipolita (q)          radiolarians       Calocyclas   \n",
       "1            Coccolithus robustus          nannofossils      Coccolithus   \n",
       "2                  Miliolidae sp.   benthic_foraminfera       Miliolidae   \n",
       "3  Beaupreaeidites elegansiformis                pollen  Beaupreaeidites   \n",
       "4       Morozovella djanensis (q)  planktic_foraminfera      Morozovella   \n",
       "\n",
       "                 _simplified_name    species name subspecies name  \\\n",
       "0           Calocyclas semipolita      semipolita             NaN   \n",
       "1            Coccolithus robustus        robustus             NaN   \n",
       "2                  Miliolidae sp.             sp.             NaN   \n",
       "3  Beaupreaeidites elegansiformis  elegansiformis             NaN   \n",
       "4           Morozovella djanensis       djanensis             NaN   \n",
       "\n",
       "  _merge_approved pbdb_taxon_id pbdb_taxon_name pbdb_taxon_rank _merge_pbdb  \n",
       "0       left_only           446      Calocyclas           genus        both  \n",
       "1       left_only         87684     Coccolithus           genus        both  \n",
       "2       left_only         81704      Miliolidae          family        both  \n",
       "3       left_only           NaN             NaN             NaN        both  \n",
       "4       left_only          1881     Morozovella           genus        both  "
      ]
     },
     "execution_count": 21,
     "metadata": {},
     "output_type": "execute_result"
    }
   ],
   "source": [
    "merged_df = pd.merge(unapproved_taxa_df, genus_df, \n",
    "                     on = 'genus name', \n",
    "                     how='left',\n",
    "                     indicator='_merge_pbdb')\n",
    "\n",
    "print(len(merged_df))\n",
    "merged_df.head()"
   ]
  },
  {
   "cell_type": "markdown",
   "metadata": {},
   "source": [
    "reorder columns and sort rows"
   ]
  },
  {
   "cell_type": "code",
   "execution_count": 22,
   "metadata": {},
   "outputs": [
    {
     "data": {
      "text/html": [
       "<div>\n",
       "<style scoped>\n",
       "    .dataframe tbody tr th:only-of-type {\n",
       "        vertical-align: middle;\n",
       "    }\n",
       "\n",
       "    .dataframe tbody tr th {\n",
       "        vertical-align: top;\n",
       "    }\n",
       "\n",
       "    .dataframe thead th {\n",
       "        text-align: right;\n",
       "    }\n",
       "</style>\n",
       "<table border=\"1\" class=\"dataframe\">\n",
       "  <thead>\n",
       "    <tr style=\"text-align: right;\">\n",
       "      <th></th>\n",
       "      <th>taxon_group</th>\n",
       "      <th>verbatim_name</th>\n",
       "      <th>genus name</th>\n",
       "      <th>species name</th>\n",
       "      <th>subspecies name</th>\n",
       "      <th>pbdb_taxon_id</th>\n",
       "      <th>pbdb_taxon_name</th>\n",
       "      <th>pbdb_taxon_rank</th>\n",
       "      <th>_simplified_name</th>\n",
       "      <th>_merge_approved</th>\n",
       "      <th>_merge_pbdb</th>\n",
       "    </tr>\n",
       "  </thead>\n",
       "  <tbody>\n",
       "    <tr>\n",
       "      <th>6976</th>\n",
       "      <td>benthic_foraminfera</td>\n",
       "      <td>Abyssamina incisa</td>\n",
       "      <td>Abyssamina</td>\n",
       "      <td>incisa</td>\n",
       "      <td>NaN</td>\n",
       "      <td>762</td>\n",
       "      <td>Abyssamina</td>\n",
       "      <td>genus</td>\n",
       "      <td>Abyssamina incisa</td>\n",
       "      <td>left_only</td>\n",
       "      <td>both</td>\n",
       "    </tr>\n",
       "    <tr>\n",
       "      <th>364</th>\n",
       "      <td>benthic_foraminfera</td>\n",
       "      <td>Adercotryma glomeratum</td>\n",
       "      <td>Adercotryma</td>\n",
       "      <td>glomeratum</td>\n",
       "      <td>NaN</td>\n",
       "      <td>774</td>\n",
       "      <td>Adercotryma</td>\n",
       "      <td>genus</td>\n",
       "      <td>Adercotryma glomeratum</td>\n",
       "      <td>left_only</td>\n",
       "      <td>both</td>\n",
       "    </tr>\n",
       "    <tr>\n",
       "      <th>1779</th>\n",
       "      <td>benthic_foraminfera</td>\n",
       "      <td>Adercotryma sp.</td>\n",
       "      <td>Adercotryma</td>\n",
       "      <td>sp.</td>\n",
       "      <td>NaN</td>\n",
       "      <td>774</td>\n",
       "      <td>Adercotryma</td>\n",
       "      <td>genus</td>\n",
       "      <td>Adercotryma sp.</td>\n",
       "      <td>left_only</td>\n",
       "      <td>both</td>\n",
       "    </tr>\n",
       "    <tr>\n",
       "      <th>4717</th>\n",
       "      <td>benthic_foraminfera</td>\n",
       "      <td>Alabamina decorata</td>\n",
       "      <td>Alabamina</td>\n",
       "      <td>decorata</td>\n",
       "      <td>NaN</td>\n",
       "      <td>788</td>\n",
       "      <td>Alabamina</td>\n",
       "      <td>genus</td>\n",
       "      <td>Alabamina decorata</td>\n",
       "      <td>left_only</td>\n",
       "      <td>both</td>\n",
       "    </tr>\n",
       "    <tr>\n",
       "      <th>4637</th>\n",
       "      <td>benthic_foraminfera</td>\n",
       "      <td>Alabamina haitiensis</td>\n",
       "      <td>Alabamina</td>\n",
       "      <td>haitiensis</td>\n",
       "      <td>NaN</td>\n",
       "      <td>788</td>\n",
       "      <td>Alabamina</td>\n",
       "      <td>genus</td>\n",
       "      <td>Alabamina haitiensis</td>\n",
       "      <td>left_only</td>\n",
       "      <td>both</td>\n",
       "    </tr>\n",
       "  </tbody>\n",
       "</table>\n",
       "</div>"
      ],
      "text/plain": [
       "              taxon_group           verbatim_name   genus name species name  \\\n",
       "6976  benthic_foraminfera       Abyssamina incisa   Abyssamina       incisa   \n",
       "364   benthic_foraminfera  Adercotryma glomeratum  Adercotryma   glomeratum   \n",
       "1779  benthic_foraminfera         Adercotryma sp.  Adercotryma          sp.   \n",
       "4717  benthic_foraminfera      Alabamina decorata    Alabamina     decorata   \n",
       "4637  benthic_foraminfera    Alabamina haitiensis    Alabamina   haitiensis   \n",
       "\n",
       "     subspecies name pbdb_taxon_id pbdb_taxon_name pbdb_taxon_rank  \\\n",
       "6976             NaN           762      Abyssamina           genus   \n",
       "364              NaN           774     Adercotryma           genus   \n",
       "1779             NaN           774     Adercotryma           genus   \n",
       "4717             NaN           788       Alabamina           genus   \n",
       "4637             NaN           788       Alabamina           genus   \n",
       "\n",
       "            _simplified_name _merge_approved _merge_pbdb  \n",
       "6976       Abyssamina incisa       left_only        both  \n",
       "364   Adercotryma glomeratum       left_only        both  \n",
       "1779         Adercotryma sp.       left_only        both  \n",
       "4717      Alabamina decorata       left_only        both  \n",
       "4637    Alabamina haitiensis       left_only        both  "
      ]
     },
     "execution_count": 22,
     "metadata": {},
     "output_type": "execute_result"
    }
   ],
   "source": [
    "merged_df = merged_df.reindex(columns=['taxon_group', 'verbatim_name', \n",
    "                                       'genus name', 'species name', \n",
    "                                       'subspecies name',\n",
    "                                       'pbdb_taxon_id', 'pbdb_taxon_name',\n",
    "                                       'pbdb_taxon_rank', '_simplified_name',\n",
    "                                       '_merge_approved', '_merge_pbdb'\n",
    "                                      ])\n",
    "\n",
    "merged_df.sort_values(by=['taxon_group', 'verbatim_name'], inplace=True)\n",
    "\n",
    "merged_df.head()"
   ]
  },
  {
   "cell_type": "markdown",
   "metadata": {},
   "source": [
    "save csv"
   ]
  },
  {
   "cell_type": "code",
   "execution_count": 23,
   "metadata": {},
   "outputs": [],
   "source": [
    "merged_df.to_csv(taxa_path, index=False)"
   ]
  },
  {
   "cell_type": "code",
   "execution_count": null,
   "metadata": {},
   "outputs": [],
   "source": []
  }
 ],
 "metadata": {
  "kernelspec": {
   "display_name": "Python 3",
   "language": "python",
   "name": "python3"
  },
  "language_info": {
   "codemirror_mode": {
    "name": "ipython",
    "version": 3
   },
   "file_extension": ".py",
   "mimetype": "text/x-python",
   "name": "python",
   "nbconvert_exporter": "python",
   "pygments_lexer": "ipython3",
   "version": "3.6.8"
  }
 },
 "nbformat": 4,
 "nbformat_minor": 5
}
