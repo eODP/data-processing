{
 "cells": [
  {
   "cell_type": "markdown",
   "id": "heated-appraisal",
   "metadata": {},
   "source": [
    "# NOAA DSDP taxa list\n",
    "\n",
    "create list of taxa for NOAA files"
   ]
  },
  {
   "cell_type": "code",
   "execution_count": 22,
   "id": "documented-sperm",
   "metadata": {},
   "outputs": [],
   "source": [
    "import sys\n",
    "import csv\n",
    "import glob\n",
    "import os\n",
    "sys.path.append('../scripts/')\n",
    "sys.path.append('../')\n",
    "\n",
    "import pandas as pd\n",
    "import numpy as np\n",
    "\n",
    "import db "
   ]
  },
  {
   "cell_type": "code",
   "execution_count": 35,
   "id": "enclosed-dream",
   "metadata": {},
   "outputs": [],
   "source": [
    "path = os.path.join('cleaned_data', 'metadata', 'noaa_dsdp_files.csv')\n",
    "files_df = pd.read_csv(path)"
   ]
  },
  {
   "cell_type": "markdown",
   "id": "advanced-cleaners",
   "metadata": {},
   "source": [
    "## columns"
   ]
  },
  {
   "cell_type": "code",
   "execution_count": 14,
   "id": "greater-maintenance",
   "metadata": {},
   "outputs": [],
   "source": [
    "columns = set()\n",
    "columns_count = set()\n",
    "\n",
    "for index, row in files_df.iterrows():\n",
    "    if row['type'] == 'taxa':\n",
    "        df = pd.read_csv(row['file'], nrows=1)\n",
    "        columns.update(df.columns)\n",
    "        columns_count.add(len(df.columns))"
   ]
  },
  {
   "cell_type": "code",
   "execution_count": 8,
   "id": "hazardous-certification",
   "metadata": {},
   "outputs": [
    {
     "data": {
      "text/plain": [
       "{'age',\n",
       " 'bottom interval depth (cm)',\n",
       " 'chemical dissolution',\n",
       " 'chemical overgrowth',\n",
       " 'core',\n",
       " 'coredepth(m)',\n",
       " 'dsdp initial report volume number',\n",
       " 'fossil',\n",
       " 'fossil abundance',\n",
       " 'fossil code',\n",
       " 'fossil group',\n",
       " 'fossil preservation',\n",
       " 'group abundance',\n",
       " 'hole',\n",
       " 'investigators name',\n",
       " 'leg',\n",
       " 'mechanical preservations',\n",
       " 'page number reference',\n",
       " 'publication date (month/year)',\n",
       " 'record join code',\n",
       " 'sample depth(m)',\n",
       " 'section',\n",
       " 'site',\n",
       " 'top interval depth(cm)',\n",
       " 'total number of observed fossils'}"
      ]
     },
     "execution_count": 8,
     "metadata": {},
     "output_type": "execute_result"
    }
   ],
   "source": [
    "columns"
   ]
  },
  {
   "cell_type": "code",
   "execution_count": 9,
   "id": "documentary-pennsylvania",
   "metadata": {},
   "outputs": [
    {
     "data": {
      "text/plain": [
       "{25}"
      ]
     },
     "execution_count": 9,
     "metadata": {},
     "output_type": "execute_result"
    }
   ],
   "source": [
    "columns_count"
   ]
  },
  {
   "cell_type": "markdown",
   "id": "natural-parker",
   "metadata": {},
   "source": [
    "## taxa"
   ]
  },
  {
   "cell_type": "markdown",
   "id": "general-potter",
   "metadata": {},
   "source": [
    "create list of unique taxa names"
   ]
  },
  {
   "cell_type": "markdown",
   "id": "clinical-correlation",
   "metadata": {},
   "source": [
    "read taxa files to get unique taxa names"
   ]
  },
  {
   "cell_type": "code",
   "execution_count": 94,
   "id": "proof-rendering",
   "metadata": {},
   "outputs": [
    {
     "name": "stdout",
     "output_type": "stream",
     "text": [
      "9933\n"
     ]
    }
   ],
   "source": [
    "taxa = set()\n",
    "\n",
    "for index, row in files_df.iterrows():\n",
    "    if row['type'] == 'taxa':\n",
    "        df = pd.read_csv(row['file'])\n",
    "        df.dropna(axis=0, inplace=True, how='all')\n",
    "        df['temp'] = df['fossil'] +  '|' + row['taxon_group']\n",
    "        \n",
    "        taxa.update(list(df['temp']))\n",
    "        \n",
    "print(len(taxa))"
   ]
  },
  {
   "cell_type": "code",
   "execution_count": 95,
   "id": "growing-bandwidth",
   "metadata": {},
   "outputs": [],
   "source": [
    "taxa_list = []\n",
    "taxon_groups = []\n",
    "\n",
    "for taxon in taxa:\n",
    "    if not pd.isna(taxon):\n",
    "        parts = taxon.split('|')\n",
    "        taxa_list.append(parts[0])\n",
    "        taxon_groups.append(parts[1])"
   ]
  },
  {
   "cell_type": "code",
   "execution_count": 161,
   "id": "dental-creation",
   "metadata": {},
   "outputs": [
    {
     "data": {
      "text/html": [
       "<div>\n",
       "<style scoped>\n",
       "    .dataframe tbody tr th:only-of-type {\n",
       "        vertical-align: middle;\n",
       "    }\n",
       "\n",
       "    .dataframe tbody tr th {\n",
       "        vertical-align: top;\n",
       "    }\n",
       "\n",
       "    .dataframe thead th {\n",
       "        text-align: right;\n",
       "    }\n",
       "</style>\n",
       "<table border=\"1\" class=\"dataframe\">\n",
       "  <thead>\n",
       "    <tr style=\"text-align: right;\">\n",
       "      <th></th>\n",
       "      <th>taxon</th>\n",
       "      <th>taxon_group</th>\n",
       "    </tr>\n",
       "  </thead>\n",
       "  <tbody>\n",
       "    <tr>\n",
       "      <th>9927</th>\n",
       "      <td>Membranilarnacia ursulae</td>\n",
       "      <td>dinoflagellates</td>\n",
       "    </tr>\n",
       "    <tr>\n",
       "      <th>9928</th>\n",
       "      <td>Ellipsoglandulina subconica</td>\n",
       "      <td>benthic foraminifera</td>\n",
       "    </tr>\n",
       "    <tr>\n",
       "      <th>9929</th>\n",
       "      <td>Ericsonia fenestra (small)</td>\n",
       "      <td>nannofossils</td>\n",
       "    </tr>\n",
       "    <tr>\n",
       "      <th>9930</th>\n",
       "      <td>Cassigerinella chipolensis</td>\n",
       "      <td>planktic foraminfera</td>\n",
       "    </tr>\n",
       "    <tr>\n",
       "      <th>9931</th>\n",
       "      <td>Melonis pacificum</td>\n",
       "      <td>benthic foraminifera</td>\n",
       "    </tr>\n",
       "  </tbody>\n",
       "</table>\n",
       "</div>"
      ],
      "text/plain": [
       "                            taxon           taxon_group\n",
       "9927     Membranilarnacia ursulae       dinoflagellates\n",
       "9928  Ellipsoglandulina subconica  benthic foraminifera\n",
       "9929   Ericsonia fenestra (small)          nannofossils\n",
       "9930   Cassigerinella chipolensis  planktic foraminfera\n",
       "9931            Melonis pacificum  benthic foraminifera"
      ]
     },
     "execution_count": 161,
     "metadata": {},
     "output_type": "execute_result"
    }
   ],
   "source": [
    "dict = {\n",
    "        \"taxon\": taxa_list,\n",
    "        \"taxon_group\": taxon_groups\n",
    "        }\n",
    "taxa_df = pd.DataFrame(dict)\n",
    "taxa_df.tail()"
   ]
  },
  {
   "cell_type": "code",
   "execution_count": 163,
   "id": "grand-relations",
   "metadata": {},
   "outputs": [
    {
     "data": {
      "text/plain": [
       "(9932, 2)"
      ]
     },
     "execution_count": 163,
     "metadata": {},
     "output_type": "execute_result"
    }
   ],
   "source": [
    "taxa_df.shape"
   ]
  },
  {
   "cell_type": "markdown",
   "id": "stone-universal",
   "metadata": {},
   "source": [
    "get rid of (xxx) from taxa name"
   ]
  },
  {
   "cell_type": "code",
   "execution_count": 164,
   "id": "improved-providence",
   "metadata": {},
   "outputs": [
    {
     "data": {
      "text/html": [
       "<div>\n",
       "<style scoped>\n",
       "    .dataframe tbody tr th:only-of-type {\n",
       "        vertical-align: middle;\n",
       "    }\n",
       "\n",
       "    .dataframe tbody tr th {\n",
       "        vertical-align: top;\n",
       "    }\n",
       "\n",
       "    .dataframe thead th {\n",
       "        text-align: right;\n",
       "    }\n",
       "</style>\n",
       "<table border=\"1\" class=\"dataframe\">\n",
       "  <thead>\n",
       "    <tr style=\"text-align: right;\">\n",
       "      <th></th>\n",
       "      <th>taxon</th>\n",
       "      <th>taxon_group</th>\n",
       "    </tr>\n",
       "  </thead>\n",
       "  <tbody>\n",
       "    <tr>\n",
       "      <th>9926</th>\n",
       "      <td>Guttulina irregularis</td>\n",
       "      <td>benthic foraminifera</td>\n",
       "    </tr>\n",
       "    <tr>\n",
       "      <th>9927</th>\n",
       "      <td>Membranilarnacia ursulae</td>\n",
       "      <td>dinoflagellates</td>\n",
       "    </tr>\n",
       "    <tr>\n",
       "      <th>9928</th>\n",
       "      <td>Ellipsoglandulina subconica</td>\n",
       "      <td>benthic foraminifera</td>\n",
       "    </tr>\n",
       "    <tr>\n",
       "      <th>9930</th>\n",
       "      <td>Cassigerinella chipolensis</td>\n",
       "      <td>planktic foraminfera</td>\n",
       "    </tr>\n",
       "    <tr>\n",
       "      <th>9931</th>\n",
       "      <td>Melonis pacificum</td>\n",
       "      <td>benthic foraminifera</td>\n",
       "    </tr>\n",
       "  </tbody>\n",
       "</table>\n",
       "</div>"
      ],
      "text/plain": [
       "                            taxon           taxon_group\n",
       "9926        Guttulina irregularis  benthic foraminifera\n",
       "9927     Membranilarnacia ursulae       dinoflagellates\n",
       "9928  Ellipsoglandulina subconica  benthic foraminifera\n",
       "9930   Cassigerinella chipolensis  planktic foraminfera\n",
       "9931            Melonis pacificum  benthic foraminifera"
      ]
     },
     "execution_count": 164,
     "metadata": {},
     "output_type": "execute_result"
    }
   ],
   "source": [
    "taxa_clean_df = taxa_df.replace(to_replace =' \\(.*?\\)$', value = '', regex = True)\n",
    "taxa_clean_df.drop_duplicates(inplace=True)\n",
    "taxa_clean_df.tail()"
   ]
  },
  {
   "cell_type": "code",
   "execution_count": 165,
   "id": "intellectual-sense",
   "metadata": {},
   "outputs": [
    {
     "data": {
      "text/plain": [
       "(8683, 2)"
      ]
     },
     "execution_count": 165,
     "metadata": {},
     "output_type": "execute_result"
    }
   ],
   "source": [
    "taxa_clean_df.shape"
   ]
  },
  {
   "cell_type": "markdown",
   "id": "adolescent-cherry",
   "metadata": {},
   "source": [
    "check if taxa exists in database"
   ]
  },
  {
   "cell_type": "code",
   "execution_count": 181,
   "id": "earned-partnership",
   "metadata": {},
   "outputs": [
    {
     "name": "stdout",
     "output_type": "stream",
     "text": [
      "Requirement already satisfied: psycopg2 in /Users/wyk/opt/miniconda3/envs/python-gis/lib/python3.9/site-packages (2.8.6)\n"
     ]
    }
   ],
   "source": [
    "# https://stackoverflow.com/a/56012147\n",
    "!pip install psycopg2"
   ]
  },
  {
   "cell_type": "code",
   "execution_count": 182,
   "id": "conscious-value",
   "metadata": {},
   "outputs": [
    {
     "data": {
      "text/html": [
       "<div>\n",
       "<style scoped>\n",
       "    .dataframe tbody tr th:only-of-type {\n",
       "        vertical-align: middle;\n",
       "    }\n",
       "\n",
       "    .dataframe tbody tr th {\n",
       "        vertical-align: top;\n",
       "    }\n",
       "\n",
       "    .dataframe thead th {\n",
       "        text-align: right;\n",
       "    }\n",
       "</style>\n",
       "<table border=\"1\" class=\"dataframe\">\n",
       "  <thead>\n",
       "    <tr style=\"text-align: right;\">\n",
       "      <th></th>\n",
       "      <th>name</th>\n",
       "      <th>pbdb_taxon_id</th>\n",
       "      <th>pbdb_taxon_name</th>\n",
       "      <th>pbdb_taxon_rank</th>\n",
       "    </tr>\n",
       "  </thead>\n",
       "  <tbody>\n",
       "    <tr>\n",
       "      <th>0</th>\n",
       "      <td>Algirosphaera robusta</td>\n",
       "      <td>424331</td>\n",
       "      <td>Algirosphaera</td>\n",
       "      <td>genus</td>\n",
       "    </tr>\n",
       "    <tr>\n",
       "      <th>1</th>\n",
       "      <td>Amaurolithus tricorniculatus</td>\n",
       "      <td>388308</td>\n",
       "      <td>Amaurolithus</td>\n",
       "      <td>genus</td>\n",
       "    </tr>\n",
       "    <tr>\n",
       "      <th>2</th>\n",
       "      <td>? Biantholithus flosculus</td>\n",
       "      <td>424468</td>\n",
       "      <td>Biantholithus</td>\n",
       "      <td>genus</td>\n",
       "    </tr>\n",
       "    <tr>\n",
       "      <th>3</th>\n",
       "      <td>Blackites creber</td>\n",
       "      <td>424333</td>\n",
       "      <td>Blackites</td>\n",
       "      <td>genus</td>\n",
       "    </tr>\n",
       "    <tr>\n",
       "      <th>4</th>\n",
       "      <td>Blackites spinosus</td>\n",
       "      <td>424333</td>\n",
       "      <td>Blackites</td>\n",
       "      <td>genus</td>\n",
       "    </tr>\n",
       "  </tbody>\n",
       "</table>\n",
       "</div>"
      ],
      "text/plain": [
       "                           name  pbdb_taxon_id pbdb_taxon_name pbdb_taxon_rank\n",
       "0         Algirosphaera robusta         424331   Algirosphaera           genus\n",
       "1  Amaurolithus tricorniculatus         388308    Amaurolithus           genus\n",
       "2     ? Biantholithus flosculus         424468   Biantholithus           genus\n",
       "3              Blackites creber         424333       Blackites           genus\n",
       "4            Blackites spinosus         424333       Blackites           genus"
      ]
     },
     "execution_count": 182,
     "metadata": {},
     "output_type": "execute_result"
    }
   ],
   "source": [
    "# https://www.datacamp.com/community/tutorials/tutorial-postgresql-python\n",
    "\n",
    "sql = \"select name, pbdb_taxon_id, pbdb_taxon_name, pbdb_taxon_rank from taxa\"\n",
    "db_taxa_df = pd.read_sql(sql, db.conn)\n",
    "db_taxa_df.head()"
   ]
  },
  {
   "cell_type": "markdown",
   "id": "dynamic-participation",
   "metadata": {},
   "source": [
    "merge NOAA taxa with database taxa"
   ]
  },
  {
   "cell_type": "code",
   "execution_count": 167,
   "id": "statewide-skirt",
   "metadata": {},
   "outputs": [
    {
     "data": {
      "text/html": [
       "<div>\n",
       "<style scoped>\n",
       "    .dataframe tbody tr th:only-of-type {\n",
       "        vertical-align: middle;\n",
       "    }\n",
       "\n",
       "    .dataframe tbody tr th {\n",
       "        vertical-align: top;\n",
       "    }\n",
       "\n",
       "    .dataframe thead th {\n",
       "        text-align: right;\n",
       "    }\n",
       "</style>\n",
       "<table border=\"1\" class=\"dataframe\">\n",
       "  <thead>\n",
       "    <tr style=\"text-align: right;\">\n",
       "      <th></th>\n",
       "      <th>taxon</th>\n",
       "      <th>taxon_group</th>\n",
       "      <th>name</th>\n",
       "      <th>pbdb_taxon_id</th>\n",
       "      <th>pbdb_taxon_name</th>\n",
       "      <th>pbdb_taxon_rank</th>\n",
       "    </tr>\n",
       "  </thead>\n",
       "  <tbody>\n",
       "    <tr>\n",
       "      <th>0</th>\n",
       "      <td>Distephanus speculum septenarius</td>\n",
       "      <td>silicoflagellates</td>\n",
       "      <td>NaN</td>\n",
       "      <td>NaN</td>\n",
       "      <td>NaN</td>\n",
       "      <td>NaN</td>\n",
       "    </tr>\n",
       "    <tr>\n",
       "      <th>1</th>\n",
       "      <td>Distephanus minutus</td>\n",
       "      <td>silicoflagellates</td>\n",
       "      <td>NaN</td>\n",
       "      <td>NaN</td>\n",
       "      <td>NaN</td>\n",
       "      <td>NaN</td>\n",
       "    </tr>\n",
       "    <tr>\n",
       "      <th>2</th>\n",
       "      <td>Spinidinium macmurdoense</td>\n",
       "      <td>dinoflagellates</td>\n",
       "      <td>NaN</td>\n",
       "      <td>NaN</td>\n",
       "      <td>NaN</td>\n",
       "      <td>NaN</td>\n",
       "    </tr>\n",
       "    <tr>\n",
       "      <th>3</th>\n",
       "      <td>Mesocena triangula</td>\n",
       "      <td>silicoflagellates</td>\n",
       "      <td>NaN</td>\n",
       "      <td>NaN</td>\n",
       "      <td>NaN</td>\n",
       "      <td>NaN</td>\n",
       "    </tr>\n",
       "    <tr>\n",
       "      <th>4</th>\n",
       "      <td>Globorotalia humilis</td>\n",
       "      <td>planktic foraminfera</td>\n",
       "      <td>NaN</td>\n",
       "      <td>NaN</td>\n",
       "      <td>NaN</td>\n",
       "      <td>NaN</td>\n",
       "    </tr>\n",
       "  </tbody>\n",
       "</table>\n",
       "</div>"
      ],
      "text/plain": [
       "                              taxon           taxon_group name  pbdb_taxon_id  \\\n",
       "0  Distephanus speculum septenarius     silicoflagellates  NaN            NaN   \n",
       "1               Distephanus minutus     silicoflagellates  NaN            NaN   \n",
       "2          Spinidinium macmurdoense       dinoflagellates  NaN            NaN   \n",
       "3                Mesocena triangula     silicoflagellates  NaN            NaN   \n",
       "4              Globorotalia humilis  planktic foraminfera  NaN            NaN   \n",
       "\n",
       "  pbdb_taxon_name pbdb_taxon_rank  \n",
       "0             NaN             NaN  \n",
       "1             NaN             NaN  \n",
       "2             NaN             NaN  \n",
       "3             NaN             NaN  \n",
       "4             NaN             NaN  "
      ]
     },
     "execution_count": 167,
     "metadata": {},
     "output_type": "execute_result"
    }
   ],
   "source": [
    "merged_db_df = pd.merge(taxa_clean_df, db_taxa_df,  left_on='taxon', right_on='name', how='left')\n",
    "merged_db_df.head()"
   ]
  },
  {
   "cell_type": "code",
   "execution_count": 168,
   "id": "persistent-optimum",
   "metadata": {},
   "outputs": [
    {
     "data": {
      "text/plain": [
       "(8683, 6)"
      ]
     },
     "execution_count": 168,
     "metadata": {},
     "output_type": "execute_result"
    }
   ],
   "source": [
    "merged_db_df.shape"
   ]
  },
  {
   "cell_type": "markdown",
   "id": "legislative-sunglasses",
   "metadata": {},
   "source": [
    "get all lims taxa"
   ]
  },
  {
   "cell_type": "code",
   "execution_count": 169,
   "id": "infectious-stone",
   "metadata": {},
   "outputs": [
    {
     "data": {
      "text/plain": [
       "(4721, 21)"
      ]
     },
     "execution_count": 169,
     "metadata": {},
     "output_type": "execute_result"
    }
   ],
   "source": [
    "lims_path = os.path.join('raw_data', 'taxa', 'Micropal_headers_PBDB_Taxonomy_notes_2021-04-23.csv')\n",
    "lims_df = pd.read_csv(lims_path)\n",
    "lims_df.shape"
   ]
  },
  {
   "cell_type": "code",
   "execution_count": 170,
   "id": "saving-height",
   "metadata": {},
   "outputs": [
    {
     "data": {
      "text/html": [
       "<div>\n",
       "<style scoped>\n",
       "    .dataframe tbody tr th:only-of-type {\n",
       "        vertical-align: middle;\n",
       "    }\n",
       "\n",
       "    .dataframe tbody tr th {\n",
       "        vertical-align: top;\n",
       "    }\n",
       "\n",
       "    .dataframe thead th {\n",
       "        text-align: right;\n",
       "    }\n",
       "</style>\n",
       "<table border=\"1\" class=\"dataframe\">\n",
       "  <thead>\n",
       "    <tr style=\"text-align: right;\">\n",
       "      <th></th>\n",
       "      <th>normalized_name</th>\n",
       "    </tr>\n",
       "  </thead>\n",
       "  <tbody>\n",
       "    <tr>\n",
       "      <th>0</th>\n",
       "      <td>Pyrite</td>\n",
       "    </tr>\n",
       "    <tr>\n",
       "      <th>1</th>\n",
       "      <td>Euuvigerina miozea</td>\n",
       "    </tr>\n",
       "    <tr>\n",
       "      <th>2</th>\n",
       "      <td>Euuvigerina rodleyi</td>\n",
       "    </tr>\n",
       "    <tr>\n",
       "      <th>3</th>\n",
       "      <td>Foraminifera indet.</td>\n",
       "    </tr>\n",
       "    <tr>\n",
       "      <th>4</th>\n",
       "      <td>Pleurostomellia indet.</td>\n",
       "    </tr>\n",
       "  </tbody>\n",
       "</table>\n",
       "</div>"
      ],
      "text/plain": [
       "          normalized_name\n",
       "0                  Pyrite\n",
       "1      Euuvigerina miozea\n",
       "2     Euuvigerina rodleyi\n",
       "3     Foraminifera indet.\n",
       "4  Pleurostomellia indet."
      ]
     },
     "execution_count": 170,
     "metadata": {},
     "output_type": "execute_result"
    }
   ],
   "source": [
    "lims_df['normalized_name'] = np.where(\n",
    "    lims_df['name to use (if different from \"name\")'].notnull(),\n",
    "    lims_df['name to use (if different from \"name\")'],\n",
    "    lims_df['name']\n",
    ")\n",
    "\n",
    "lims_name_df = lims_df[['normalized_name']]\n",
    "\n",
    "lims_name_df.head()"
   ]
  },
  {
   "cell_type": "code",
   "execution_count": 172,
   "id": "present-appointment",
   "metadata": {},
   "outputs": [
    {
     "data": {
      "text/plain": [
       "(4721, 1)"
      ]
     },
     "execution_count": 172,
     "metadata": {},
     "output_type": "execute_result"
    }
   ],
   "source": [
    "lims_name_df.shape"
   ]
  },
  {
   "cell_type": "markdown",
   "id": "stock-zoning",
   "metadata": {},
   "source": [
    "merge NOAA/db taxa with LIMS taxa"
   ]
  },
  {
   "cell_type": "code",
   "execution_count": 173,
   "id": "acquired-collector",
   "metadata": {},
   "outputs": [
    {
     "data": {
      "text/html": [
       "<div>\n",
       "<style scoped>\n",
       "    .dataframe tbody tr th:only-of-type {\n",
       "        vertical-align: middle;\n",
       "    }\n",
       "\n",
       "    .dataframe tbody tr th {\n",
       "        vertical-align: top;\n",
       "    }\n",
       "\n",
       "    .dataframe thead th {\n",
       "        text-align: right;\n",
       "    }\n",
       "</style>\n",
       "<table border=\"1\" class=\"dataframe\">\n",
       "  <thead>\n",
       "    <tr style=\"text-align: right;\">\n",
       "      <th></th>\n",
       "      <th>taxon</th>\n",
       "      <th>taxon_group</th>\n",
       "      <th>name</th>\n",
       "      <th>pbdb_taxon_id</th>\n",
       "      <th>pbdb_taxon_name</th>\n",
       "      <th>pbdb_taxon_rank</th>\n",
       "      <th>normalized_name</th>\n",
       "    </tr>\n",
       "  </thead>\n",
       "  <tbody>\n",
       "    <tr>\n",
       "      <th>0</th>\n",
       "      <td>Distephanus speculum septenarius</td>\n",
       "      <td>silicoflagellates</td>\n",
       "      <td>NaN</td>\n",
       "      <td>NaN</td>\n",
       "      <td>NaN</td>\n",
       "      <td>NaN</td>\n",
       "      <td>NaN</td>\n",
       "    </tr>\n",
       "    <tr>\n",
       "      <th>1</th>\n",
       "      <td>Distephanus minutus</td>\n",
       "      <td>silicoflagellates</td>\n",
       "      <td>NaN</td>\n",
       "      <td>NaN</td>\n",
       "      <td>NaN</td>\n",
       "      <td>NaN</td>\n",
       "      <td>NaN</td>\n",
       "    </tr>\n",
       "    <tr>\n",
       "      <th>2</th>\n",
       "      <td>Spinidinium macmurdoense</td>\n",
       "      <td>dinoflagellates</td>\n",
       "      <td>NaN</td>\n",
       "      <td>NaN</td>\n",
       "      <td>NaN</td>\n",
       "      <td>NaN</td>\n",
       "      <td>Spinidinium macmurdoense</td>\n",
       "    </tr>\n",
       "    <tr>\n",
       "      <th>3</th>\n",
       "      <td>Spinidinium macmurdoense</td>\n",
       "      <td>dinoflagellates</td>\n",
       "      <td>NaN</td>\n",
       "      <td>NaN</td>\n",
       "      <td>NaN</td>\n",
       "      <td>NaN</td>\n",
       "      <td>Spinidinium macmurdoense</td>\n",
       "    </tr>\n",
       "    <tr>\n",
       "      <th>4</th>\n",
       "      <td>Mesocena triangula</td>\n",
       "      <td>silicoflagellates</td>\n",
       "      <td>NaN</td>\n",
       "      <td>NaN</td>\n",
       "      <td>NaN</td>\n",
       "      <td>NaN</td>\n",
       "      <td>NaN</td>\n",
       "    </tr>\n",
       "  </tbody>\n",
       "</table>\n",
       "</div>"
      ],
      "text/plain": [
       "                              taxon        taxon_group name  pbdb_taxon_id  \\\n",
       "0  Distephanus speculum septenarius  silicoflagellates  NaN            NaN   \n",
       "1               Distephanus minutus  silicoflagellates  NaN            NaN   \n",
       "2          Spinidinium macmurdoense    dinoflagellates  NaN            NaN   \n",
       "3          Spinidinium macmurdoense    dinoflagellates  NaN            NaN   \n",
       "4                Mesocena triangula  silicoflagellates  NaN            NaN   \n",
       "\n",
       "  pbdb_taxon_name pbdb_taxon_rank           normalized_name  \n",
       "0             NaN             NaN                       NaN  \n",
       "1             NaN             NaN                       NaN  \n",
       "2             NaN             NaN  Spinidinium macmurdoense  \n",
       "3             NaN             NaN  Spinidinium macmurdoense  \n",
       "4             NaN             NaN                       NaN  "
      ]
     },
     "execution_count": 173,
     "metadata": {},
     "output_type": "execute_result"
    }
   ],
   "source": [
    "merged_lims_df = pd.merge(merged_db_df, lims_name_df,  left_on='taxon', right_on='normalized_name', how='left')\n",
    "merged_lims_df.head()"
   ]
  },
  {
   "cell_type": "code",
   "execution_count": 176,
   "id": "public-corrections",
   "metadata": {},
   "outputs": [
    {
     "data": {
      "text/plain": [
       "(9004, 7)"
      ]
     },
     "execution_count": 176,
     "metadata": {},
     "output_type": "execute_result"
    }
   ],
   "source": [
    "merged_lims_df.shape"
   ]
  },
  {
   "cell_type": "markdown",
   "id": "meaning-guard",
   "metadata": {},
   "source": [
    "look up pbdb"
   ]
  },
  {
   "cell_type": "code",
   "execution_count": null,
   "id": "impressed-argentina",
   "metadata": {},
   "outputs": [],
   "source": []
  },
  {
   "cell_type": "code",
   "execution_count": 183,
   "id": "ambient-launch",
   "metadata": {},
   "outputs": [
    {
     "data": {
      "text/plain": [
       "(6976, 7)"
      ]
     },
     "execution_count": 183,
     "metadata": {},
     "output_type": "execute_result"
    }
   ],
   "source": [
    "filtered_lims_df = merged_lims_df[merged_lims_df['normalized_name'].isna()].copy()\n",
    "filtered_lims_df.drop_duplicates(inplace=True)\n",
    "\n",
    "filtered_lims_df.shape"
   ]
  },
  {
   "cell_type": "code",
   "execution_count": 187,
   "id": "future-express",
   "metadata": {},
   "outputs": [],
   "source": [
    "PBDB_API = \"https://paleobiodb.org/data1.2/\"\n",
    "PBDB_TAXA = f\"{PBDB_API}taxa/single.json?vocab=pbdb&name=\""
   ]
  },
  {
   "cell_type": "code",
   "execution_count": 233,
   "id": "eight-variable",
   "metadata": {},
   "outputs": [
    {
     "data": {
      "text/plain": [
       "'Leiotriletes'"
      ]
     },
     "execution_count": 233,
     "metadata": {},
     "output_type": "execute_result"
    }
   ],
   "source": []
  },
  {
   "cell_type": "code",
   "execution_count": 244,
   "id": "continuous-conversation",
   "metadata": {},
   "outputs": [],
   "source": [
    "import requests\n",
    "import re\n",
    "\n",
    "\n",
    "for index, row in filtered_lims_df.iterrows():\n",
    "    url =  PBDB_TAXA + re.sub(' sp\\.$', '', row['taxon'])\n",
    "    response =requests.get(url)\n",
    "    \n",
    "    if response.status_code == 200:\n",
    "        data = response.json()[\"records\"]\n",
    "        if len(data) == 1:\n",
    "            filtered_lims_df.at[index, 'pbdb_taxon_id'] = data[0][\"taxon_no\"]\n",
    "            filtered_lims_df.at[index, 'pbdb_taxon_name'] = data[0][\"taxon_name\"]\n",
    "            filtered_lims_df.at[index, 'pbdb_taxon_rank'] = data[0][\"taxon_rank\"]\n"
   ]
  },
  {
   "cell_type": "code",
   "execution_count": 252,
   "id": "advisory-duration",
   "metadata": {},
   "outputs": [
    {
     "data": {
      "text/html": [
       "<div>\n",
       "<style scoped>\n",
       "    .dataframe tbody tr th:only-of-type {\n",
       "        vertical-align: middle;\n",
       "    }\n",
       "\n",
       "    .dataframe tbody tr th {\n",
       "        vertical-align: top;\n",
       "    }\n",
       "\n",
       "    .dataframe thead th {\n",
       "        text-align: right;\n",
       "    }\n",
       "</style>\n",
       "<table border=\"1\" class=\"dataframe\">\n",
       "  <thead>\n",
       "    <tr style=\"text-align: right;\">\n",
       "      <th></th>\n",
       "      <th>taxon</th>\n",
       "      <th>taxon_group</th>\n",
       "      <th>name</th>\n",
       "      <th>pbdb_taxon_id</th>\n",
       "      <th>pbdb_taxon_name</th>\n",
       "      <th>pbdb_taxon_rank</th>\n",
       "      <th>normalized_name</th>\n",
       "    </tr>\n",
       "  </thead>\n",
       "  <tbody>\n",
       "    <tr>\n",
       "      <th>0</th>\n",
       "      <td>Distephanus speculum septenarius</td>\n",
       "      <td>silicoflagellates</td>\n",
       "      <td>NaN</td>\n",
       "      <td>88737.0</td>\n",
       "      <td>NaN</td>\n",
       "      <td>NaN</td>\n",
       "      <td>NaN</td>\n",
       "    </tr>\n",
       "    <tr>\n",
       "      <th>1</th>\n",
       "      <td>Distephanus minutus</td>\n",
       "      <td>silicoflagellates</td>\n",
       "      <td>NaN</td>\n",
       "      <td>88737.0</td>\n",
       "      <td>NaN</td>\n",
       "      <td>NaN</td>\n",
       "      <td>NaN</td>\n",
       "    </tr>\n",
       "    <tr>\n",
       "      <th>4</th>\n",
       "      <td>Mesocena triangula</td>\n",
       "      <td>silicoflagellates</td>\n",
       "      <td>NaN</td>\n",
       "      <td>NaN</td>\n",
       "      <td>NaN</td>\n",
       "      <td>NaN</td>\n",
       "      <td>NaN</td>\n",
       "    </tr>\n",
       "    <tr>\n",
       "      <th>5</th>\n",
       "      <td>Globorotalia humilis</td>\n",
       "      <td>planktic foraminfera</td>\n",
       "      <td>NaN</td>\n",
       "      <td>NaN</td>\n",
       "      <td>NaN</td>\n",
       "      <td>NaN</td>\n",
       "      <td>NaN</td>\n",
       "    </tr>\n",
       "    <tr>\n",
       "      <th>6</th>\n",
       "      <td>Cymatosira sp.</td>\n",
       "      <td>diatoms</td>\n",
       "      <td>NaN</td>\n",
       "      <td>82156.0</td>\n",
       "      <td>Cymatosira</td>\n",
       "      <td>genus</td>\n",
       "      <td>NaN</td>\n",
       "    </tr>\n",
       "  </tbody>\n",
       "</table>\n",
       "</div>"
      ],
      "text/plain": [
       "                              taxon           taxon_group name  pbdb_taxon_id  \\\n",
       "0  Distephanus speculum septenarius     silicoflagellates  NaN        88737.0   \n",
       "1               Distephanus minutus     silicoflagellates  NaN        88737.0   \n",
       "4                Mesocena triangula     silicoflagellates  NaN            NaN   \n",
       "5              Globorotalia humilis  planktic foraminfera  NaN            NaN   \n",
       "6                    Cymatosira sp.               diatoms  NaN        82156.0   \n",
       "\n",
       "  pbdb_taxon_name pbdb_taxon_rank normalized_name  \n",
       "0             NaN             NaN             NaN  \n",
       "1             NaN             NaN             NaN  \n",
       "4             NaN             NaN             NaN  \n",
       "5             NaN             NaN             NaN  \n",
       "6      Cymatosira           genus             NaN  "
      ]
     },
     "execution_count": 252,
     "metadata": {},
     "output_type": "execute_result"
    }
   ],
   "source": [
    "filtered_lims_df.head()"
   ]
  },
  {
   "cell_type": "code",
   "execution_count": 250,
   "id": "responsible-class",
   "metadata": {},
   "outputs": [
    {
     "data": {
      "text/plain": [
       "(6976, 8)"
      ]
     },
     "execution_count": 250,
     "metadata": {},
     "output_type": "execute_result"
    }
   ],
   "source": [
    "filtered_lims_df.shape"
   ]
  },
  {
   "cell_type": "code",
   "execution_count": 251,
   "id": "southeast-alloy",
   "metadata": {},
   "outputs": [],
   "source": []
  },
  {
   "cell_type": "markdown",
   "id": "entertaining-effort",
   "metadata": {},
   "source": [
    "create csv"
   ]
  },
  {
   "cell_type": "code",
   "execution_count": 253,
   "id": "certain-definition",
   "metadata": {},
   "outputs": [
    {
     "data": {
      "text/plain": [
       "(6976, 7)"
      ]
     },
     "execution_count": 253,
     "metadata": {},
     "output_type": "execute_result"
    }
   ],
   "source": [
    "output_df = filtered_lims_df\n",
    "output_df.drop_duplicates(inplace=True)\n",
    "output_df.shape"
   ]
  },
  {
   "cell_type": "code",
   "execution_count": 254,
   "id": "widespread-builder",
   "metadata": {},
   "outputs": [],
   "source": [
    "path = os.path.join('cleaned_data', 'taxa', 'noaa_dsdp_taxa_list.csv')\n",
    "output_df.to_csv(path, index=False)"
   ]
  },
  {
   "cell_type": "code",
   "execution_count": null,
   "id": "agreed-characterization",
   "metadata": {},
   "outputs": [],
   "source": []
  },
  {
   "cell_type": "code",
   "execution_count": null,
   "id": "informational-pastor",
   "metadata": {},
   "outputs": [],
   "source": []
  }
 ],
 "metadata": {
  "kernelspec": {
   "display_name": "Python 3",
   "language": "python",
   "name": "python3"
  },
  "language_info": {
   "codemirror_mode": {
    "name": "ipython",
    "version": 3
   },
   "file_extension": ".py",
   "mimetype": "text/x-python",
   "name": "python",
   "nbconvert_exporter": "python",
   "pygments_lexer": "ipython3",
   "version": "3.9.1"
  }
 },
 "nbformat": 4,
 "nbformat_minor": 5
}
