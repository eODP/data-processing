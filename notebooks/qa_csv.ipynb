{
 "cells": [
  {
   "cell_type": "markdown",
   "metadata": {},
   "source": [
    "# QA csv"
   ]
  },
  {
   "cell_type": "markdown",
   "metadata": {},
   "source": [
    "Do some basic QA on the csvs."
   ]
  },
  {
   "cell_type": "code",
   "execution_count": 1,
   "metadata": {},
   "outputs": [],
   "source": [
    "import sys\n",
    "sys.path.append('../scripts/')\n",
    "import glob\n",
    "\n",
    "import pandas as pd\n",
    "\n",
    "from normalize_data import (\n",
    "    check_duplicate_columns\n",
    ")"
   ]
  },
  {
   "cell_type": "code",
   "execution_count": 2,
   "metadata": {},
   "outputs": [],
   "source": [
    "clean_data_paths = [\n",
    "    'cleaned_data/Lithology_CSV',\n",
    "    'cleaned_data/Micropal_CSV_1', \n",
    "    'cleaned_data/Micropal_CSV_2',\n",
    "    'cleaned_data/Micropal_CSV_3',\n",
    "]"
   ]
  },
  {
   "cell_type": "markdown",
   "metadata": {},
   "source": [
    "check if csv has duplicate column names"
   ]
  },
  {
   "cell_type": "code",
   "execution_count": 3,
   "metadata": {},
   "outputs": [
    {
     "name": "stdout",
     "output_type": "stream",
     "text": [
      "cleaned_data/Lithology_CSV/323 Core Description Template_U1341A.csv, GRAVEL SIZE CLAST: duplicate columns have different values\n",
      "cleaned_data/Lithology_CSV/349_macroscopic_U1431D.csv, File Data: duplicate columns have same values\n",
      "cleaned_data/Lithology_CSV/340_sediment_U1397A.csv, Deformational structure strike [deg]: duplicate columns have same values\n",
      "cleaned_data/Lithology_CSV/323 Core Description Template_U1344E.csv, GRAVEL SIZE CLAST: duplicate columns have same values\n",
      "cleaned_data/Micropal_CSV_1/320_U1332C_Radiolarians_1.csv, Calocycletta virginis: duplicate columns have same values\n",
      "cleaned_data/Micropal_CSV_1/320_U1333C_Radiolarians_1.csv, Calocycletta virginis: duplicate columns have same values\n",
      "cleaned_data/Micropal_CSV_1/320_U1334C_Radiolarians_2.csv, Calocycletta virginis: duplicate columns have same values\n",
      "cleaned_data/Micropal_CSV_1/320_U1334B_Radiolarians_2.csv, Calocycletta virginis: duplicate columns have same values\n",
      "cleaned_data/Micropal_CSV_1/320_U1335B_Radiolarians_2.csv, Calocycletta virginis: duplicate columns have same values\n",
      "cleaned_data/Micropal_CSV_1/320_U1332A_Radiolarians_1.csv, Calocycletta virginis: duplicate columns have same values\n",
      "cleaned_data/Micropal_CSV_1/320_U1333A_Radiolarians_1.csv, Calocycletta virginis: duplicate columns have same values\n",
      "cleaned_data/Micropal_CSV_1/320_U1333B_Radiolarians_1.csv, Calocycletta virginis: duplicate columns have same values\n",
      "cleaned_data/Micropal_CSV_1/320_U1336A_Radiolarians_2.csv, Calocycletta virginis: duplicate columns have same values\n",
      "cleaned_data/Micropal_CSV_1/320_U1332B_Radiolarians_1.csv, Calocycletta virginis: duplicate columns have same values\n",
      "cleaned_data/Micropal_CSV_1/320_U1335A_Radiolarians_2.csv, Calocycletta virginis: duplicate columns have same values\n",
      "cleaned_data/Micropal_CSV_1/320_U1334A_Radiolarians_2.csv, Calocycletta virginis: duplicate columns have same values\n",
      "cleaned_data/Micropal_CSV_3/342_nannofossils_U1406B_1.csv, Umbilicosphaera jafari: duplicate columns have different values\n",
      "cleaned_data/Micropal_CSV_3/342_benthic_forams_U1409A_2.csv, File Data: duplicate columns have different values\n",
      "cleaned_data/Micropal_CSV_3/341_benthic_forams_U1417B.csv, Exp: duplicate columns have same values\n",
      "cleaned_data/Micropal_CSV_3/340_nannofossils_U1394A.csv, Small Gephyrocapsa spp. : duplicate columns have same values\n",
      "cleaned_data/Micropal_CSV_3/321_U1338B_Planktic_forams.csv, Tenuitella: duplicate columns have same values\n"
     ]
    }
   ],
   "source": [
    "for clean_data_path in clean_data_paths:\n",
    "    raw_csvs = glob.glob(f\"{clean_data_path}/*.csv\")\n",
    "\n",
    "    for path in raw_csvs:\n",
    "        content = pd.read_csv(path)\n",
    "        \n",
    "        check_duplicate_columns(content, path)"
   ]
  },
  {
   "cell_type": "code",
   "execution_count": null,
   "metadata": {},
   "outputs": [],
   "source": []
  }
 ],
 "metadata": {
  "kernelspec": {
   "display_name": "Python 3",
   "language": "python",
   "name": "python3"
  },
  "language_info": {
   "codemirror_mode": {
    "name": "ipython",
    "version": 3
   },
   "file_extension": ".py",
   "mimetype": "text/x-python",
   "name": "python",
   "nbconvert_exporter": "python",
   "pygments_lexer": "ipython3",
   "version": "3.9.1"
  }
 },
 "nbformat": 4,
 "nbformat_minor": 4
}
