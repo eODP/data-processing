{
 "cells": [
  {
   "cell_type": "markdown",
   "metadata": {},
   "source": [
    "# QA csv"
   ]
  },
  {
   "cell_type": "markdown",
   "metadata": {},
   "source": [
    "Do some basic QA on the csvs."
   ]
  },
  {
   "cell_type": "code",
   "execution_count": 1,
   "metadata": {},
   "outputs": [],
   "source": [
    "import sys\n",
    "sys.path.append('../scripts/')\n",
    "import glob\n",
    "\n",
    "import pandas as pd\n",
    "\n",
    "from normalize_data import (\n",
    "    check_duplicate_columns\n",
    ")"
   ]
  },
  {
   "cell_type": "markdown",
   "metadata": {},
   "source": [
    "check if csv has duplicate column names"
   ]
  },
  {
   "cell_type": "code",
   "execution_count": 2,
   "metadata": {},
   "outputs": [],
   "source": [
    "def duplicate_columns(directories, file_extension='csv'):\n",
    "    for directory in directories:\n",
    "        raw_csvs = glob.glob(f\"{directory}/**/*.{file_extension}\", recursive=True)\n",
    "\n",
    "        for path in raw_csvs:\n",
    "            content = pd.read_csv(path)\n",
    "            content.dropna(inplace=True, axis=1, how='all')\n",
    "\n",
    "            check_duplicate_columns(content, path)"
   ]
  },
  {
   "cell_type": "markdown",
   "metadata": {},
   "source": [
    "## LIMS: Leg 317 - present"
   ]
  },
  {
   "cell_type": "code",
   "execution_count": 3,
   "metadata": {},
   "outputs": [],
   "source": [
    "LIMS_data_paths = [\n",
    "    'cleaned_data/Lithology_CSV',\n",
    "    'cleaned_data/Micropal_CSV_1', \n",
    "    'cleaned_data/Micropal_CSV_2',\n",
    "    'cleaned_data/Micropal_CSV_3',\n",
    "    'cleaned_data/Micropal_CSV_revised',\n",
    "]"
   ]
  },
  {
   "cell_type": "code",
   "execution_count": 4,
   "metadata": {},
   "outputs": [
    {
     "name": "stdout",
     "output_type": "stream",
     "text": [
      "cleaned_data/Lithology_CSV/323 Core Description Template_U1341A.csv, GRAVEL SIZE CLAST: duplicate columns have different values\n"
     ]
    }
   ],
   "source": [
    "duplicate_columns(LIMS_data_paths)"
   ]
  },
  {
   "cell_type": "markdown",
   "metadata": {},
   "source": [
    "## Janus: Leg 130 - 312"
   ]
  },
  {
   "cell_type": "markdown",
   "metadata": {},
   "source": [
    "## NOAA: Leg 1 - 129"
   ]
  },
  {
   "cell_type": "markdown",
   "metadata": {},
   "source": [
    "# Look for files that contain taxon name\n"
   ]
  },
  {
   "cell_type": "code",
   "execution_count": 2,
   "metadata": {},
   "outputs": [
    {
     "name": "stdout",
     "output_type": "stream",
     "text": [
      "https://github.com/eODP/data-processing/blob/master/notebooks/cleaned_data/Micropal_CSV_2/374_U1522A_palynology.csv\n",
      "https://github.com/eODP/data-processing/blob/master/notebooks/cleaned_data/Micropal_CSV_2/374_U1523E_palynology.csv\n",
      "https://github.com/eODP/data-processing/blob/master/notebooks/cleaned_data/Micropal_CSV_2/374_U1525A_palynology.csv\n",
      "https://github.com/eODP/data-processing/blob/master/notebooks/cleaned_data/Micropal_CSV_2/374_U1523B_palynology.csv\n",
      "https://github.com/eODP/data-processing/blob/master/notebooks/cleaned_data/Micropal_CSV_2/374_U1524C_palynology.csv\n",
      "https://github.com/eODP/data-processing/blob/master/notebooks/cleaned_data/Micropal_CSV_2/374_U1524A_palynology.csv\n",
      "https://github.com/eODP/data-processing/blob/master/notebooks/cleaned_data/Micropal_CSV_2/374_U1523A_palynology.csv\n",
      "https://github.com/eODP/data-processing/blob/master/notebooks/cleaned_data/Micropal_CSV_2/374_U1521A_palynology.csv\n"
     ]
    }
   ],
   "source": [
    "taxon_name =  'Preservation palynofacies'\n",
    "\n",
    "clean_data_paths = [\n",
    "    'cleaned_data/Micropal_CSV_1', \n",
    "    'cleaned_data/Micropal_CSV_2',\n",
    "    'cleaned_data/Micropal_CSV_3',\n",
    "]\n",
    "\n",
    "for clean_data_path in clean_data_paths:\n",
    "    raw_csvs = glob.glob(f\"{clean_data_path}/*.csv\")\n",
    "\n",
    "    for path in raw_csvs:\n",
    "        df = pd.read_csv(path)\n",
    "        df.dropna(how=\"all\", axis=\"columns\")\n",
    "        if taxon_name in list(df.columns):\n",
    "            url = 'https://github.com/eODP/data-processing/blob/master/notebooks/'\n",
    "            print(f'{url}{path}')\n",
    "        "
   ]
  },
  {
   "cell_type": "code",
   "execution_count": null,
   "metadata": {},
   "outputs": [],
   "source": []
  }
 ],
 "metadata": {
  "kernelspec": {
   "display_name": "Python 3",
   "language": "python",
   "name": "python3"
  },
  "language_info": {
   "codemirror_mode": {
    "name": "ipython",
    "version": 3
   },
   "file_extension": ".py",
   "mimetype": "text/x-python",
   "name": "python",
   "nbconvert_exporter": "python",
   "pygments_lexer": "ipython3",
   "version": "3.6.8"
  }
 },
 "nbformat": 4,
 "nbformat_minor": 4
}
