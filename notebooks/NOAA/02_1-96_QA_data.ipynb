{
 "cells": [
  {
   "cell_type": "markdown",
   "id": "b62b596b",
   "metadata": {},
   "source": [
    "# QA NOAA DSDP files\n",
    "## 1-96 taxa, lithology, age, hard rocks\n",
    "\n",
    "QA NOAA DSDP dataset. \n",
    "\n",
    "NOAA_csv/DSDP_core_data  \n",
    "expedition 1-96  \n",
    "taxa, lithology, age models, hard rocks"
   ]
  },
  {
   "cell_type": "code",
   "execution_count": 1,
   "id": "1e5d14e8",
   "metadata": {},
   "outputs": [],
   "source": [
    "import sys\n",
    "sys.path.append('../../')\n",
    "import glob\n",
    "from pathlib import Path\n",
    "import os\n",
    "\n",
    "import pandas as pd\n",
    "import numpy as np\n",
    "\n",
    "from scripts.normalize_noaa_files import (\n",
    "    unique_filenames_for_paths,\n",
    "    unique_columns_for_paths,\n",
    "    filename_index,\n",
    "    format_filepaths_set\n",
    ")\n",
    "from config import OUTPUT_DIR, CLEAN_DATA_DIR"
   ]
  },
  {
   "cell_type": "code",
   "execution_count": 2,
   "id": "3cad0edd",
   "metadata": {},
   "outputs": [],
   "source": [
    "base_dir = CLEAN_DATA_DIR\n",
    "data_dir = base_dir/'NOAA'/'DSDP_core_data'\n",
    "metadata_path = OUTPUT_DIR/'metadata'/'NOAA'/'noaa_dsdp_files.csv'"
   ]
  },
  {
   "cell_type": "code",
   "execution_count": 3,
   "id": "015a34ab",
   "metadata": {},
   "outputs": [
    {
     "name": "stdout",
     "output_type": "stream",
     "text": [
      "files 4477\n"
     ]
    }
   ],
   "source": [
    "csv_paths = list(data_dir.glob(\"**/*.csv\"))\n",
    "csv_paths = [p for p in csv_paths if '.ipynb_checkpoints' not in str(p)]\n",
    "\n",
    "print('files', len(csv_paths))"
   ]
  },
  {
   "cell_type": "markdown",
   "id": "b6fd948d",
   "metadata": {},
   "source": [
    "## column names\n",
    "\n",
    "Get all the column names."
   ]
  },
  {
   "cell_type": "code",
   "execution_count": 4,
   "id": "c8f1b617",
   "metadata": {},
   "outputs": [],
   "source": [
    "def column_counts_for_paths(paths):\n",
    "    counts = set()\n",
    "    for path in paths:\n",
    "        df = pd.read_csv(path, nrows=0)\n",
    "        counts.add(len(df.columns))\n",
    "    \n",
    "    return counts"
   ]
  },
  {
   "cell_type": "code",
   "execution_count": 5,
   "id": "cc7057a6",
   "metadata": {},
   "outputs": [
    {
     "data": {
      "text/html": [
       "<div>\n",
       "<style scoped>\n",
       "    .dataframe tbody tr th:only-of-type {\n",
       "        vertical-align: middle;\n",
       "    }\n",
       "\n",
       "    .dataframe tbody tr th {\n",
       "        vertical-align: top;\n",
       "    }\n",
       "\n",
       "    .dataframe thead th {\n",
       "        text-align: right;\n",
       "    }\n",
       "</style>\n",
       "<table border=\"1\" class=\"dataframe\">\n",
       "  <thead>\n",
       "    <tr style=\"text-align: right;\">\n",
       "      <th></th>\n",
       "      <th>path</th>\n",
       "      <th>type</th>\n",
       "      <th>taxon_group</th>\n",
       "      <th>expedition</th>\n",
       "      <th>site</th>\n",
       "    </tr>\n",
       "  </thead>\n",
       "  <tbody>\n",
       "    <tr>\n",
       "      <th>0</th>\n",
       "      <td>NOAA/DSDP_core_data/61/462/radiolar.csv</td>\n",
       "      <td>taxa</td>\n",
       "      <td>radiolarians</td>\n",
       "      <td>61</td>\n",
       "      <td>462</td>\n",
       "    </tr>\n",
       "    <tr>\n",
       "      <th>1</th>\n",
       "      <td>NOAA/DSDP_core_data/61/462/ageprof.csv</td>\n",
       "      <td>age</td>\n",
       "      <td>NaN</td>\n",
       "      <td>61</td>\n",
       "      <td>462</td>\n",
       "    </tr>\n",
       "    <tr>\n",
       "      <th>2</th>\n",
       "      <td>NOAA/DSDP_core_data/61/462/b_forams.csv</td>\n",
       "      <td>taxa</td>\n",
       "      <td>benthic_foraminfera</td>\n",
       "      <td>61</td>\n",
       "      <td>462</td>\n",
       "    </tr>\n",
       "    <tr>\n",
       "      <th>3</th>\n",
       "      <td>NOAA/DSDP_core_data/61/462/p_forams.csv</td>\n",
       "      <td>taxa</td>\n",
       "      <td>planktic_foraminfera</td>\n",
       "      <td>61</td>\n",
       "      <td>462</td>\n",
       "    </tr>\n",
       "    <tr>\n",
       "      <th>4</th>\n",
       "      <td>NOAA/DSDP_core_data/61/462/hr_desc.csv</td>\n",
       "      <td>hard_rock</td>\n",
       "      <td>NaN</td>\n",
       "      <td>61</td>\n",
       "      <td>462</td>\n",
       "    </tr>\n",
       "  </tbody>\n",
       "</table>\n",
       "</div>"
      ],
      "text/plain": [
       "                                      path       type           taxon_group  \\\n",
       "0  NOAA/DSDP_core_data/61/462/radiolar.csv       taxa          radiolarians   \n",
       "1   NOAA/DSDP_core_data/61/462/ageprof.csv        age                   NaN   \n",
       "2  NOAA/DSDP_core_data/61/462/b_forams.csv       taxa   benthic_foraminfera   \n",
       "3  NOAA/DSDP_core_data/61/462/p_forams.csv       taxa  planktic_foraminfera   \n",
       "4   NOAA/DSDP_core_data/61/462/hr_desc.csv  hard_rock                   NaN   \n",
       "\n",
       "  expedition site  \n",
       "0         61  462  \n",
       "1         61  462  \n",
       "2         61  462  \n",
       "3         61  462  \n",
       "4         61  462  "
      ]
     },
     "execution_count": 5,
     "metadata": {},
     "output_type": "execute_result"
    }
   ],
   "source": [
    "metadata_df = pd.read_csv(metadata_path)\n",
    "metadata_df.head()"
   ]
  },
  {
   "cell_type": "markdown",
   "id": "27463284",
   "metadata": {},
   "source": [
    "### taxa"
   ]
  },
  {
   "cell_type": "code",
   "execution_count": 6,
   "id": "ae15ba36",
   "metadata": {},
   "outputs": [
    {
     "data": {
      "text/plain": [
       "[PosixPath('../../output/cleaned_data/NOAA/DSDP_core_data/61/462/radiolar.csv'),\n",
       " PosixPath('../../output/cleaned_data/NOAA/DSDP_core_data/61/462/b_forams.csv'),\n",
       " PosixPath('../../output/cleaned_data/NOAA/DSDP_core_data/61/462/p_forams.csv'),\n",
       " PosixPath('../../output/cleaned_data/NOAA/DSDP_core_data/61/462/nannos.csv'),\n",
       " PosixPath('../../output/cleaned_data/NOAA/DSDP_core_data/61/462A/radiolar.csv')]"
      ]
     },
     "execution_count": 6,
     "metadata": {},
     "output_type": "execute_result"
    }
   ],
   "source": [
    "type_df = metadata_df[metadata_df['type'] == 'taxa']\n",
    "taxa_paths = [base_dir/path for path in type_df['path']]\n",
    "taxa_paths[0:5]"
   ]
  },
  {
   "cell_type": "code",
   "execution_count": 7,
   "id": "c455a2d7",
   "metadata": {},
   "outputs": [
    {
     "data": {
      "text/plain": [
       "{' describer',\n",
       " 'age',\n",
       " 'bottom interval depth (cm)',\n",
       " 'bottom of layer depth (m)',\n",
       " 'chemical dissolution',\n",
       " 'chemical overgrowth',\n",
       " 'color',\n",
       " 'core',\n",
       " 'coredepth(m)',\n",
       " 'deformations due to drilling',\n",
       " 'dsdp initial report volume number',\n",
       " 'fossil',\n",
       " 'fossil abundance',\n",
       " 'fossil code',\n",
       " 'fossil group',\n",
       " 'fossil preservation',\n",
       " 'group abundance',\n",
       " 'hardness or induration',\n",
       " 'hole',\n",
       " 'investigators name',\n",
       " 'leg',\n",
       " 'lithology',\n",
       " 'mechanical preservations',\n",
       " 'minerals',\n",
       " 'other observations',\n",
       " 'page number reference',\n",
       " 'paleontology',\n",
       " 'publication date (month/year)',\n",
       " 'record join code',\n",
       " 'sample depth(m)',\n",
       " 'section',\n",
       " 'site',\n",
       " 'structures',\n",
       " 'top interval depth (cm)',\n",
       " 'top interval depth(cm)',\n",
       " 'top of core depth(m)',\n",
       " 'top of layer depth (m)',\n",
       " 'total number of observed fossils',\n",
       " 'unusual occurrences',\n",
       " 'z-coding'}"
      ]
     },
     "execution_count": 7,
     "metadata": {},
     "output_type": "execute_result"
    }
   ],
   "source": [
    "unique_columns_for_paths(taxa_paths)"
   ]
  },
  {
   "cell_type": "code",
   "execution_count": 8,
   "id": "47a1f7ff",
   "metadata": {},
   "outputs": [
    {
     "data": {
      "text/plain": [
       "{21, 25}"
      ]
     },
     "execution_count": 8,
     "metadata": {},
     "output_type": "execute_result"
    }
   ],
   "source": [
    "column_counts_for_paths(taxa_paths)"
   ]
  },
  {
   "cell_type": "markdown",
   "id": "089aae96",
   "metadata": {},
   "source": [
    "### age"
   ]
  },
  {
   "cell_type": "code",
   "execution_count": 9,
   "id": "d525d325",
   "metadata": {},
   "outputs": [
    {
     "data": {
      "text/plain": [
       "[PosixPath('../../output/cleaned_data/NOAA/DSDP_core_data/61/462/ageprof.csv'),\n",
       " PosixPath('../../output/cleaned_data/NOAA/DSDP_core_data/61/462A/ageprof.csv'),\n",
       " PosixPath('../../output/cleaned_data/NOAA/DSDP_core_data/95/603F/ageprof.csv'),\n",
       " PosixPath('../../output/cleaned_data/NOAA/DSDP_core_data/95/613/ageprof.csv'),\n",
       " PosixPath('../../output/cleaned_data/NOAA/DSDP_core_data/95/612/ageprof.csv')]"
      ]
     },
     "execution_count": 9,
     "metadata": {},
     "output_type": "execute_result"
    }
   ],
   "source": [
    "type_df = metadata_df[metadata_df['type'] == 'age']\n",
    "age_paths = [base_dir/path for path in type_df['path']]\n",
    "age_paths[0:5]"
   ]
  },
  {
   "cell_type": "code",
   "execution_count": 10,
   "id": "8746bdc3",
   "metadata": {},
   "outputs": [
    {
     "data": {
      "text/plain": [
       "{'age',\n",
       " 'age bottom of section(million years)',\n",
       " 'age mnemonic',\n",
       " 'age top of section(million years)',\n",
       " 'auxiliary age',\n",
       " 'auxiliary age mnemonic',\n",
       " 'average age(million years)t',\n",
       " 'averaged age',\n",
       " 'bottom of section depth(m)',\n",
       " 'data source',\n",
       " 'hole',\n",
       " 'leg',\n",
       " 'site',\n",
       " 'special condition',\n",
       " 'top of section depth(m)'}"
      ]
     },
     "execution_count": 10,
     "metadata": {},
     "output_type": "execute_result"
    }
   ],
   "source": [
    "unique_columns_for_paths(age_paths)"
   ]
  },
  {
   "cell_type": "code",
   "execution_count": 11,
   "id": "558a2c93",
   "metadata": {},
   "outputs": [
    {
     "data": {
      "text/plain": [
       "{15}"
      ]
     },
     "execution_count": 11,
     "metadata": {},
     "output_type": "execute_result"
    }
   ],
   "source": [
    "column_counts_for_paths(age_paths)"
   ]
  },
  {
   "cell_type": "markdown",
   "id": "09c7f7fe",
   "metadata": {},
   "source": [
    "### hard rock"
   ]
  },
  {
   "cell_type": "code",
   "execution_count": 12,
   "id": "cc19b515",
   "metadata": {},
   "outputs": [
    {
     "data": {
      "text/plain": [
       "[PosixPath('../../output/cleaned_data/NOAA/DSDP_core_data/61/462/hr_desc.csv'),\n",
       " PosixPath('../../output/cleaned_data/NOAA/DSDP_core_data/61/462A/hr_desc.csv'),\n",
       " PosixPath('../../output/cleaned_data/NOAA/DSDP_core_data/59/449/hr_desc.csv'),\n",
       " PosixPath('../../output/cleaned_data/NOAA/DSDP_core_data/59/448/hr_desc.csv'),\n",
       " PosixPath('../../output/cleaned_data/NOAA/DSDP_core_data/59/448A/hr_desc.csv')]"
      ]
     },
     "execution_count": 12,
     "metadata": {},
     "output_type": "execute_result"
    }
   ],
   "source": [
    "type_df = metadata_df[metadata_df['type'] == 'hard_rock']\n",
    "hard_rocks_paths = [base_dir/path for path in type_df['path']]\n",
    "hard_rocks_paths[0:5]"
   ]
  },
  {
   "cell_type": "code",
   "execution_count": 13,
   "id": "61031c54",
   "metadata": {},
   "outputs": [
    {
     "data": {
      "text/plain": [
       "{'alteration data',\n",
       " 'comments',\n",
       " 'core',\n",
       " 'describer',\n",
       " 'groundmass mineral data',\n",
       " 'hole',\n",
       " 'leg',\n",
       " 'other information data',\n",
       " 'phenocryst data',\n",
       " 'piece numbers',\n",
       " 'replacement mineral data',\n",
       " 'rock name',\n",
       " 'sample midpoint depth(m)',\n",
       " 'section',\n",
       " 'site',\n",
       " 'structure data',\n",
       " 'texture data',\n",
       " 'top interval depth(cm)',\n",
       " 'top of core depth(cm)',\n",
       " 'top of section(m)',\n",
       " 'unknown code',\n",
       " 'vesicle data'}"
      ]
     },
     "execution_count": 13,
     "metadata": {},
     "output_type": "execute_result"
    }
   ],
   "source": [
    "unique_columns_for_paths(hard_rocks_paths)"
   ]
  },
  {
   "cell_type": "code",
   "execution_count": 14,
   "id": "a4bc4145",
   "metadata": {},
   "outputs": [
    {
     "data": {
      "text/plain": [
       "{22}"
      ]
     },
     "execution_count": 14,
     "metadata": {},
     "output_type": "execute_result"
    }
   ],
   "source": [
    "column_counts_for_paths(hard_rocks_paths)"
   ]
  },
  {
   "cell_type": "markdown",
   "id": "3b33a4f1",
   "metadata": {},
   "source": [
    "### lithology"
   ]
  },
  {
   "cell_type": "code",
   "execution_count": 15,
   "id": "638877d5",
   "metadata": {},
   "outputs": [
    {
     "data": {
      "text/plain": [
       "[PosixPath('../../output/cleaned_data/NOAA/DSDP_core_data/61/462/vistxt.csv'),\n",
       " PosixPath('../../output/cleaned_data/NOAA/DSDP_core_data/61/462A/vistxt.csv'),\n",
       " PosixPath('../../output/cleaned_data/NOAA/DSDP_core_data/95/603F/vistxt.csv'),\n",
       " PosixPath('../../output/cleaned_data/NOAA/DSDP_core_data/95/613/vistxt.csv'),\n",
       " PosixPath('../../output/cleaned_data/NOAA/DSDP_core_data/95/612/vistxt.csv')]"
      ]
     },
     "execution_count": 15,
     "metadata": {},
     "output_type": "execute_result"
    }
   ],
   "source": [
    "type_df = metadata_df[metadata_df['type'] == 'lithology']\n",
    "lith_paths = [base_dir/path for path in type_df['path']]\n",
    "lith_paths[0:5]"
   ]
  },
  {
   "cell_type": "code",
   "execution_count": 16,
   "id": "eec54352",
   "metadata": {},
   "outputs": [
    {
     "data": {
      "text/plain": [
       "{' describer',\n",
       " 'bottom interval depth (cm)',\n",
       " 'bottom of layer depth (m)',\n",
       " 'color',\n",
       " 'core',\n",
       " 'deformations due to drilling',\n",
       " 'hardness or induration',\n",
       " 'hole',\n",
       " 'leg',\n",
       " 'lithology',\n",
       " 'minerals',\n",
       " 'other observations',\n",
       " 'paleontology',\n",
       " 'section',\n",
       " 'site',\n",
       " 'structures',\n",
       " 'top interval depth (cm)',\n",
       " 'top of core depth(m)',\n",
       " 'top of layer depth (m)',\n",
       " 'unusual occurrences',\n",
       " 'z-coding'}"
      ]
     },
     "execution_count": 16,
     "metadata": {},
     "output_type": "execute_result"
    }
   ],
   "source": [
    "unique_columns_for_paths(lith_paths)"
   ]
  },
  {
   "cell_type": "code",
   "execution_count": 17,
   "id": "fac98e7a",
   "metadata": {},
   "outputs": [
    {
     "data": {
      "text/plain": [
       "{21}"
      ]
     },
     "execution_count": 17,
     "metadata": {},
     "output_type": "execute_result"
    }
   ],
   "source": [
    "column_counts_for_paths(lith_paths)"
   ]
  },
  {
   "cell_type": "markdown",
   "id": "8576ab5e",
   "metadata": {},
   "source": [
    "## hr_desc.csv\n",
    "\n",
    "Create github links for each hr_desc.csv file"
   ]
  },
  {
   "cell_type": "code",
   "execution_count": 18,
   "id": "3931b2df",
   "metadata": {},
   "outputs": [],
   "source": [
    "type_df = metadata_df[metadata_df['type'] == 'hard_rock']\n",
    "hard_rocks_paths = [base_dir/path for path in type_df['path']]\n",
    "\n",
    "for path in hard_rocks_paths:\n",
    "    if 'hr_desc.csv' == path.name:\n",
    "        link = 'https://github.com/eODP/data-processing/tree/master/' + str(path).replace('../../', '')\n",
    "#         print(link)"
   ]
  },
  {
   "cell_type": "markdown",
   "id": "1788403a",
   "metadata": {},
   "source": [
    "## taxa with (q)"
   ]
  },
  {
   "cell_type": "code",
   "execution_count": 19,
   "id": "918e114d",
   "metadata": {},
   "outputs": [
    {
     "data": {
      "text/html": [
       "<div>\n",
       "<style scoped>\n",
       "    .dataframe tbody tr th:only-of-type {\n",
       "        vertical-align: middle;\n",
       "    }\n",
       "\n",
       "    .dataframe tbody tr th {\n",
       "        vertical-align: top;\n",
       "    }\n",
       "\n",
       "    .dataframe thead th {\n",
       "        text-align: right;\n",
       "    }\n",
       "</style>\n",
       "<table border=\"1\" class=\"dataframe\">\n",
       "  <thead>\n",
       "    <tr style=\"text-align: right;\">\n",
       "      <th></th>\n",
       "      <th>path</th>\n",
       "      <th>type</th>\n",
       "      <th>taxon_group</th>\n",
       "      <th>expedition</th>\n",
       "      <th>site</th>\n",
       "    </tr>\n",
       "  </thead>\n",
       "  <tbody>\n",
       "    <tr>\n",
       "      <th>0</th>\n",
       "      <td>NOAA/DSDP_core_data/61/462/radiolar.csv</td>\n",
       "      <td>taxa</td>\n",
       "      <td>radiolarians</td>\n",
       "      <td>61</td>\n",
       "      <td>462</td>\n",
       "    </tr>\n",
       "    <tr>\n",
       "      <th>1</th>\n",
       "      <td>NOAA/DSDP_core_data/61/462/ageprof.csv</td>\n",
       "      <td>age</td>\n",
       "      <td>NaN</td>\n",
       "      <td>61</td>\n",
       "      <td>462</td>\n",
       "    </tr>\n",
       "    <tr>\n",
       "      <th>2</th>\n",
       "      <td>NOAA/DSDP_core_data/61/462/b_forams.csv</td>\n",
       "      <td>taxa</td>\n",
       "      <td>benthic_foraminfera</td>\n",
       "      <td>61</td>\n",
       "      <td>462</td>\n",
       "    </tr>\n",
       "    <tr>\n",
       "      <th>3</th>\n",
       "      <td>NOAA/DSDP_core_data/61/462/p_forams.csv</td>\n",
       "      <td>taxa</td>\n",
       "      <td>planktic_foraminfera</td>\n",
       "      <td>61</td>\n",
       "      <td>462</td>\n",
       "    </tr>\n",
       "    <tr>\n",
       "      <th>4</th>\n",
       "      <td>NOAA/DSDP_core_data/61/462/hr_desc.csv</td>\n",
       "      <td>hard_rock</td>\n",
       "      <td>NaN</td>\n",
       "      <td>61</td>\n",
       "      <td>462</td>\n",
       "    </tr>\n",
       "  </tbody>\n",
       "</table>\n",
       "</div>"
      ],
      "text/plain": [
       "                                      path       type           taxon_group  \\\n",
       "0  NOAA/DSDP_core_data/61/462/radiolar.csv       taxa          radiolarians   \n",
       "1   NOAA/DSDP_core_data/61/462/ageprof.csv        age                   NaN   \n",
       "2  NOAA/DSDP_core_data/61/462/b_forams.csv       taxa   benthic_foraminfera   \n",
       "3  NOAA/DSDP_core_data/61/462/p_forams.csv       taxa  planktic_foraminfera   \n",
       "4   NOAA/DSDP_core_data/61/462/hr_desc.csv  hard_rock                   NaN   \n",
       "\n",
       "  expedition site  \n",
       "0         61  462  \n",
       "1         61  462  \n",
       "2         61  462  \n",
       "3         61  462  \n",
       "4         61  462  "
      ]
     },
     "execution_count": 19,
     "metadata": {},
     "output_type": "execute_result"
    }
   ],
   "source": [
    "metadata_df = pd.read_csv(metadata_path)\n",
    "metadata_df.head()"
   ]
  },
  {
   "cell_type": "code",
   "execution_count": 20,
   "id": "a79bd507",
   "metadata": {},
   "outputs": [
    {
     "data": {
      "text/html": [
       "<div>\n",
       "<style scoped>\n",
       "    .dataframe tbody tr th:only-of-type {\n",
       "        vertical-align: middle;\n",
       "    }\n",
       "\n",
       "    .dataframe tbody tr th {\n",
       "        vertical-align: top;\n",
       "    }\n",
       "\n",
       "    .dataframe thead th {\n",
       "        text-align: right;\n",
       "    }\n",
       "</style>\n",
       "<table border=\"1\" class=\"dataframe\">\n",
       "  <thead>\n",
       "    <tr style=\"text-align: right;\">\n",
       "      <th></th>\n",
       "      <th>path</th>\n",
       "      <th>type</th>\n",
       "      <th>taxon_group</th>\n",
       "      <th>expedition</th>\n",
       "      <th>site</th>\n",
       "    </tr>\n",
       "  </thead>\n",
       "  <tbody>\n",
       "    <tr>\n",
       "      <th>0</th>\n",
       "      <td>NOAA/DSDP_core_data/61/462/radiolar.csv</td>\n",
       "      <td>taxa</td>\n",
       "      <td>radiolarians</td>\n",
       "      <td>61</td>\n",
       "      <td>462</td>\n",
       "    </tr>\n",
       "    <tr>\n",
       "      <th>2</th>\n",
       "      <td>NOAA/DSDP_core_data/61/462/b_forams.csv</td>\n",
       "      <td>taxa</td>\n",
       "      <td>benthic_foraminfera</td>\n",
       "      <td>61</td>\n",
       "      <td>462</td>\n",
       "    </tr>\n",
       "    <tr>\n",
       "      <th>3</th>\n",
       "      <td>NOAA/DSDP_core_data/61/462/p_forams.csv</td>\n",
       "      <td>taxa</td>\n",
       "      <td>planktic_foraminfera</td>\n",
       "      <td>61</td>\n",
       "      <td>462</td>\n",
       "    </tr>\n",
       "    <tr>\n",
       "      <th>5</th>\n",
       "      <td>NOAA/DSDP_core_data/61/462/nannos.csv</td>\n",
       "      <td>taxa</td>\n",
       "      <td>nannofossils</td>\n",
       "      <td>61</td>\n",
       "      <td>462</td>\n",
       "    </tr>\n",
       "    <tr>\n",
       "      <th>7</th>\n",
       "      <td>NOAA/DSDP_core_data/61/462A/radiolar.csv</td>\n",
       "      <td>taxa</td>\n",
       "      <td>radiolarians</td>\n",
       "      <td>61</td>\n",
       "      <td>462A</td>\n",
       "    </tr>\n",
       "  </tbody>\n",
       "</table>\n",
       "</div>"
      ],
      "text/plain": [
       "                                       path  type           taxon_group  \\\n",
       "0   NOAA/DSDP_core_data/61/462/radiolar.csv  taxa          radiolarians   \n",
       "2   NOAA/DSDP_core_data/61/462/b_forams.csv  taxa   benthic_foraminfera   \n",
       "3   NOAA/DSDP_core_data/61/462/p_forams.csv  taxa  planktic_foraminfera   \n",
       "5     NOAA/DSDP_core_data/61/462/nannos.csv  taxa          nannofossils   \n",
       "7  NOAA/DSDP_core_data/61/462A/radiolar.csv  taxa          radiolarians   \n",
       "\n",
       "  expedition  site  \n",
       "0         61   462  \n",
       "2         61   462  \n",
       "3         61   462  \n",
       "5         61   462  \n",
       "7         61  462A  "
      ]
     },
     "execution_count": 20,
     "metadata": {},
     "output_type": "execute_result"
    }
   ],
   "source": [
    "type_df = metadata_df[metadata_df['type'] == 'taxa']\n",
    "type_df.head()"
   ]
  },
  {
   "cell_type": "code",
   "execution_count": 24,
   "id": "4b5bddcf-52e1-4b08-bee5-3584c612172d",
   "metadata": {},
   "outputs": [
    {
     "data": {
      "text/html": [
       "<div>\n",
       "<style scoped>\n",
       "    .dataframe tbody tr th:only-of-type {\n",
       "        vertical-align: middle;\n",
       "    }\n",
       "\n",
       "    .dataframe tbody tr th {\n",
       "        vertical-align: top;\n",
       "    }\n",
       "\n",
       "    .dataframe thead th {\n",
       "        text-align: right;\n",
       "    }\n",
       "</style>\n",
       "<table border=\"1\" class=\"dataframe\">\n",
       "  <thead>\n",
       "    <tr style=\"text-align: right;\">\n",
       "      <th></th>\n",
       "      <th>leg</th>\n",
       "      <th>site</th>\n",
       "      <th>hole</th>\n",
       "      <th>core</th>\n",
       "      <th>section</th>\n",
       "      <th>top interval depth(cm)</th>\n",
       "      <th>bottom interval depth (cm)</th>\n",
       "      <th>coredepth(m)</th>\n",
       "      <th>sample depth(m)</th>\n",
       "      <th>total number of observed fossils</th>\n",
       "      <th>...</th>\n",
       "      <th>chemical overgrowth</th>\n",
       "      <th>chemical dissolution</th>\n",
       "      <th>mechanical preservations</th>\n",
       "      <th>age</th>\n",
       "      <th>page number reference</th>\n",
       "      <th>fossil code</th>\n",
       "      <th>fossil</th>\n",
       "      <th>fossil abundance</th>\n",
       "      <th>fossil preservation</th>\n",
       "      <th>record join code</th>\n",
       "    </tr>\n",
       "  </thead>\n",
       "  <tbody>\n",
       "    <tr>\n",
       "      <th>0</th>\n",
       "      <td>61</td>\n",
       "      <td>462</td>\n",
       "      <td>NaN</td>\n",
       "      <td>1</td>\n",
       "      <td>1</td>\n",
       "      <td>112.0</td>\n",
       "      <td>114.0</td>\n",
       "      <td>0.5</td>\n",
       "      <td>1.63</td>\n",
       "      <td>1</td>\n",
       "      <td>...</td>\n",
       "      <td>NaN</td>\n",
       "      <td>NaN</td>\n",
       "      <td>MODERATE</td>\n",
       "      <td>NO AGE GIVEN</td>\n",
       "      <td>498</td>\n",
       "      <td>RSTIO0070</td>\n",
       "      <td>Stichocorys peregrina</td>\n",
       "      <td>RARE</td>\n",
       "      <td></td>\n",
       "      <td>1</td>\n",
       "    </tr>\n",
       "    <tr>\n",
       "      <th>1</th>\n",
       "      <td>61</td>\n",
       "      <td>462</td>\n",
       "      <td>NaN</td>\n",
       "      <td>1</td>\n",
       "      <td>3</td>\n",
       "      <td>86.0</td>\n",
       "      <td>88.0</td>\n",
       "      <td>0.5</td>\n",
       "      <td>4.37</td>\n",
       "      <td>6</td>\n",
       "      <td>...</td>\n",
       "      <td>NaN</td>\n",
       "      <td>NaN</td>\n",
       "      <td>MODERATE</td>\n",
       "      <td>NO AGE GIVEN</td>\n",
       "      <td>498</td>\n",
       "      <td>RARTP0030</td>\n",
       "      <td>Artophormis gracilis</td>\n",
       "      <td>PRESENT</td>\n",
       "      <td></td>\n",
       "      <td>1</td>\n",
       "    </tr>\n",
       "    <tr>\n",
       "      <th>2</th>\n",
       "      <td>61</td>\n",
       "      <td>462</td>\n",
       "      <td>NaN</td>\n",
       "      <td>1</td>\n",
       "      <td>3</td>\n",
       "      <td>86.0</td>\n",
       "      <td>88.0</td>\n",
       "      <td>0.5</td>\n",
       "      <td>4.37</td>\n",
       "      <td>6</td>\n",
       "      <td>...</td>\n",
       "      <td>NaN</td>\n",
       "      <td>NaN</td>\n",
       "      <td>MODERATE</td>\n",
       "      <td>NO AGE GIVEN</td>\n",
       "      <td>498</td>\n",
       "      <td>RARTS0020</td>\n",
       "      <td>Artostrobium doliolum</td>\n",
       "      <td>PRESENT</td>\n",
       "      <td></td>\n",
       "      <td>1</td>\n",
       "    </tr>\n",
       "    <tr>\n",
       "      <th>3</th>\n",
       "      <td>61</td>\n",
       "      <td>462</td>\n",
       "      <td>NaN</td>\n",
       "      <td>1</td>\n",
       "      <td>3</td>\n",
       "      <td>86.0</td>\n",
       "      <td>88.0</td>\n",
       "      <td>0.5</td>\n",
       "      <td>4.37</td>\n",
       "      <td>6</td>\n",
       "      <td>...</td>\n",
       "      <td>NaN</td>\n",
       "      <td>NaN</td>\n",
       "      <td>MODERATE</td>\n",
       "      <td>NO AGE GIVEN</td>\n",
       "      <td>498</td>\n",
       "      <td>RLITX0040</td>\n",
       "      <td>Lithopera renzae</td>\n",
       "      <td>PRESENT</td>\n",
       "      <td></td>\n",
       "      <td>1</td>\n",
       "    </tr>\n",
       "    <tr>\n",
       "      <th>4</th>\n",
       "      <td>61</td>\n",
       "      <td>462</td>\n",
       "      <td>NaN</td>\n",
       "      <td>1</td>\n",
       "      <td>3</td>\n",
       "      <td>86.0</td>\n",
       "      <td>88.0</td>\n",
       "      <td>0.5</td>\n",
       "      <td>4.37</td>\n",
       "      <td>6</td>\n",
       "      <td>...</td>\n",
       "      <td>NaN</td>\n",
       "      <td>NaN</td>\n",
       "      <td>MODERATE</td>\n",
       "      <td>NO AGE GIVEN</td>\n",
       "      <td>498</td>\n",
       "      <td>RSOLE0015</td>\n",
       "      <td>Solenospheara omnitubus</td>\n",
       "      <td>RARE</td>\n",
       "      <td></td>\n",
       "      <td>1</td>\n",
       "    </tr>\n",
       "  </tbody>\n",
       "</table>\n",
       "<p>5 rows × 25 columns</p>\n",
       "</div>"
      ],
      "text/plain": [
       "   leg  site  hole  core section  top interval depth(cm)  \\\n",
       "0   61   462   NaN     1       1                   112.0   \n",
       "1   61   462   NaN     1       3                    86.0   \n",
       "2   61   462   NaN     1       3                    86.0   \n",
       "3   61   462   NaN     1       3                    86.0   \n",
       "4   61   462   NaN     1       3                    86.0   \n",
       "\n",
       "   bottom interval depth (cm)  coredepth(m)  sample depth(m)  \\\n",
       "0                       114.0           0.5             1.63   \n",
       "1                        88.0           0.5             4.37   \n",
       "2                        88.0           0.5             4.37   \n",
       "3                        88.0           0.5             4.37   \n",
       "4                        88.0           0.5             4.37   \n",
       "\n",
       "   total number of observed fossils  ... chemical overgrowth  \\\n",
       "0                                 1  ...                 NaN   \n",
       "1                                 6  ...                 NaN   \n",
       "2                                 6  ...                 NaN   \n",
       "3                                 6  ...                 NaN   \n",
       "4                                 6  ...                 NaN   \n",
       "\n",
       "  chemical dissolution  mechanical preservations           age  \\\n",
       "0                  NaN                  MODERATE  NO AGE GIVEN   \n",
       "1                  NaN                  MODERATE  NO AGE GIVEN   \n",
       "2                  NaN                  MODERATE  NO AGE GIVEN   \n",
       "3                  NaN                  MODERATE  NO AGE GIVEN   \n",
       "4                  NaN                  MODERATE  NO AGE GIVEN   \n",
       "\n",
       "   page number reference  fossil code                   fossil  \\\n",
       "0                    498    RSTIO0070    Stichocorys peregrina   \n",
       "1                    498    RARTP0030     Artophormis gracilis   \n",
       "2                    498    RARTS0020    Artostrobium doliolum   \n",
       "3                    498    RLITX0040         Lithopera renzae   \n",
       "4                    498    RSOLE0015  Solenospheara omnitubus   \n",
       "\n",
       "  fossil abundance fossil preservation  record join code  \n",
       "0             RARE                                     1  \n",
       "1          PRESENT                                     1  \n",
       "2          PRESENT                                     1  \n",
       "3          PRESENT                                     1  \n",
       "4             RARE                                     1  \n",
       "\n",
       "[5 rows x 25 columns]"
      ]
     },
     "execution_count": 24,
     "metadata": {},
     "output_type": "execute_result"
    }
   ],
   "source": [
    "df = pd.read_csv(base_dir/'NOAA/DSDP_core_data/61/462/radiolar.csv')\n",
    "df.head()"
   ]
  },
  {
   "cell_type": "code",
   "execution_count": 26,
   "id": "fcdcf7bf",
   "metadata": {},
   "outputs": [
    {
     "name": "stdout",
     "output_type": "stream",
     "text": [
      "NOAA/DSDP_core_data/50/415A/.ipynb_checkpoints/vistxt-checkpoint.csv\n",
      "NOAA/DSDP_core_data/2/8A/.ipynb_checkpoints/vistxt-checkpoint.csv\n"
     ]
    }
   ],
   "source": [
    "files = {}\n",
    "taxa = set()\n",
    "\n",
    "for path in type_df['path']:\n",
    "    \n",
    "    df = pd.read_csv(base_dir/path)\n",
    "    if 'fossil' in df.columns:\n",
    "        for taxon in df['fossil'].values:\n",
    "            if taxon != taxon:\n",
    "                continue\n",
    "            if '(q)' in taxon:  \n",
    "                if path not in files:\n",
    "                    files[path] = set()\n",
    "\n",
    "                files[path].add(taxon)\n",
    "                taxa.add(taxon)\n",
    "    else:\n",
    "        print(path)\n",
    "        "
   ]
  },
  {
   "cell_type": "code",
   "execution_count": null,
   "id": "59407122",
   "metadata": {},
   "outputs": [],
   "source": [
    "len(files)"
   ]
  },
  {
   "cell_type": "code",
   "execution_count": null,
   "id": "a111854d",
   "metadata": {},
   "outputs": [],
   "source": [
    "len(taxa)"
   ]
  },
  {
   "cell_type": "code",
   "execution_count": null,
   "id": "fb34d71f",
   "metadata": {},
   "outputs": [],
   "source": []
  }
 ],
 "metadata": {
  "kernelspec": {
   "display_name": "Python 3 (ipykernel)",
   "language": "python",
   "name": "python3"
  },
  "language_info": {
   "codemirror_mode": {
    "name": "ipython",
    "version": 3
   },
   "file_extension": ".py",
   "mimetype": "text/x-python",
   "name": "python",
   "nbconvert_exporter": "python",
   "pygments_lexer": "ipython3",
   "version": "3.8.2"
  }
 },
 "nbformat": 4,
 "nbformat_minor": 5
}
