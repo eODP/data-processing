{
 "cells": [
  {
   "cell_type": "markdown",
   "id": "d7808f43-e794-44df-8d7b-aa7569f1f51b",
   "metadata": {},
   "source": [
    "# create reports and gather files for PIs"
   ]
  },
  {
   "cell_type": "code",
   "execution_count": 1,
   "id": "8e644841-b35d-487f-a77b-2b9893d6ad50",
   "metadata": {},
   "outputs": [],
   "source": [
    "import sys\n",
    "import csv\n",
    "import glob\n",
    "import os\n",
    "import requests\n",
    "import re\n",
    "import shutil\n",
    "\n",
    "sys.path.append('../../')\n",
    "\n",
    "from config import CLEAN_DATA_DIR, OUTPUT_DIR, RAW_DATA_DIR\n",
    "\n",
    "\n",
    "import pandas as pd\n",
    "import numpy as np\n",
    "\n",
    "import db \n",
    "import scripts.normalize_taxa as nt\n",
    "from scripts.shared_utils import (\n",
    "    log_df\n",
    ")\n",
    "\n"
   ]
  },
  {
   "cell_type": "code",
   "execution_count": 2,
   "id": "ad8e70ba-29ba-4da8-963f-3a2f5eefa625",
   "metadata": {},
   "outputs": [],
   "source": [
    "metadata_path = OUTPUT_DIR/'metadata'/'NOAA'/'noaa_janus_iodp_files.csv'\n",
    "\n"
   ]
  },
  {
   "cell_type": "markdown",
   "id": "54a797c0-ab8d-416a-92e7-1efb4be1bbee",
   "metadata": {},
   "source": [
    "## copy files that have weird taxon groups"
   ]
  },
  {
   "cell_type": "code",
   "execution_count": 3,
   "id": "af346a8a-61f5-4265-8439-7c6c2bbce1a8",
   "metadata": {},
   "outputs": [
    {
     "name": "stdout",
     "output_type": "stream",
     "text": [
      "(140, 5)\n"
     ]
    },
    {
     "data": {
      "text/html": [
       "<div>\n",
       "<style scoped>\n",
       "    .dataframe tbody tr th:only-of-type {\n",
       "        vertical-align: middle;\n",
       "    }\n",
       "\n",
       "    .dataframe tbody tr th {\n",
       "        vertical-align: top;\n",
       "    }\n",
       "\n",
       "    .dataframe thead th {\n",
       "        text-align: right;\n",
       "    }\n",
       "</style>\n",
       "<table border=\"1\" class=\"dataframe\">\n",
       "  <thead>\n",
       "    <tr style=\"text-align: right;\">\n",
       "      <th></th>\n",
       "      <th>path</th>\n",
       "      <th>type</th>\n",
       "      <th>expedition</th>\n",
       "      <th>site</th>\n",
       "      <th>taxon_group</th>\n",
       "    </tr>\n",
       "  </thead>\n",
       "  <tbody>\n",
       "    <tr>\n",
       "      <th>6</th>\n",
       "      <td>NOAA/JanusIODP_paleo_agemodel/paleontology/ran...</td>\n",
       "      <td>taxa</td>\n",
       "      <td>101</td>\n",
       "      <td>627</td>\n",
       "      <td>Dinoflagellates/Acritarchs/Prasinophytes</td>\n",
       "    </tr>\n",
       "    <tr>\n",
       "      <th>24</th>\n",
       "      <td>NOAA/JanusIODP_paleo_agemodel/paleontology/ran...</td>\n",
       "      <td>taxa</td>\n",
       "      <td>101</td>\n",
       "      <td>635</td>\n",
       "      <td>Dinoflagellates/Acritarchs/Prasinophytes</td>\n",
       "    </tr>\n",
       "    <tr>\n",
       "      <th>28</th>\n",
       "      <td>NOAA/JanusIODP_paleo_agemodel/paleontology/ran...</td>\n",
       "      <td>taxa</td>\n",
       "      <td>104</td>\n",
       "      <td>642</td>\n",
       "      <td>Dinoflagellates/Acritarchs/Prasinophytes</td>\n",
       "    </tr>\n",
       "    <tr>\n",
       "      <th>29</th>\n",
       "      <td>NOAA/JanusIODP_paleo_agemodel/paleontology/ran...</td>\n",
       "      <td>taxa</td>\n",
       "      <td>104</td>\n",
       "      <td>642</td>\n",
       "      <td>Dinoflagellates/Acritarchs/Prasinophytes</td>\n",
       "    </tr>\n",
       "    <tr>\n",
       "      <th>30</th>\n",
       "      <td>NOAA/JanusIODP_paleo_agemodel/paleontology/ran...</td>\n",
       "      <td>taxa</td>\n",
       "      <td>104</td>\n",
       "      <td>642</td>\n",
       "      <td>Dinoflagellates/Acritarchs/Prasinophytes</td>\n",
       "    </tr>\n",
       "  </tbody>\n",
       "</table>\n",
       "</div>"
      ],
      "text/plain": [
       "                                                 path  type  expedition  site  \\\n",
       "6   NOAA/JanusIODP_paleo_agemodel/paleontology/ran...  taxa         101   627   \n",
       "24  NOAA/JanusIODP_paleo_agemodel/paleontology/ran...  taxa         101   635   \n",
       "28  NOAA/JanusIODP_paleo_agemodel/paleontology/ran...  taxa         104   642   \n",
       "29  NOAA/JanusIODP_paleo_agemodel/paleontology/ran...  taxa         104   642   \n",
       "30  NOAA/JanusIODP_paleo_agemodel/paleontology/ran...  taxa         104   642   \n",
       "\n",
       "                                 taxon_group  \n",
       "6   Dinoflagellates/Acritarchs/Prasinophytes  \n",
       "24  Dinoflagellates/Acritarchs/Prasinophytes  \n",
       "28  Dinoflagellates/Acritarchs/Prasinophytes  \n",
       "29  Dinoflagellates/Acritarchs/Prasinophytes  \n",
       "30  Dinoflagellates/Acritarchs/Prasinophytes  "
      ]
     },
     "execution_count": 3,
     "metadata": {},
     "output_type": "execute_result"
    }
   ],
   "source": [
    "metadata = pd.read_csv(metadata_path)\n",
    "\n",
    "groups = [\n",
    " 'Dinoflagellates/Acritarchs/Prasinophytes',\n",
    " 'macrofossils',\n",
    " 'miscellaneous',\n",
    " 'Silicoflagellates/Ebridians/Actiniscidians',\n",
    " 'trace_fossils'\n",
    "]\n",
    "metadata = metadata[metadata['taxon_group'].isin(groups)]\n",
    "\n",
    "log_df(metadata)\n",
    "# 140"
   ]
  },
  {
   "cell_type": "code",
   "execution_count": null,
   "id": "bb39c94a-f640-432b-8231-94bf3480764d",
   "metadata": {},
   "outputs": [],
   "source": [
    "for index, row in df.iterrows():\n",
    "    path = CLEAN_DATA_DIR/row['path']\n",
    "    \n",
    "    file_dir = '/'.join(row['path'].split('/')[0:-1])\n",
    "    temp_path = OUTPUT_DIR/'tmp'/row['path']\n",
    "    if not os.path.exists( OUTPUT_DIR/'tmp'/file_dir):\n",
    "        os.makedirs( OUTPUT_DIR/'tmp'/file_dir)\n",
    "        \n",
    "    shutil.copy(path, temp_path)\n",
    "   \n",
    "\n"
   ]
  },
  {
   "cell_type": "code",
   "execution_count": null,
   "id": "ba61086d-67fe-4452-bfa4-b73080167b88",
   "metadata": {},
   "outputs": [],
   "source": [
    "metadata.to_csv( OUTPUT_DIR/'tmp'/'NOAA'/'files.csv', index=False)"
   ]
  }
 ],
 "metadata": {
  "kernelspec": {
   "display_name": "Python 3 (ipykernel)",
   "language": "python",
   "name": "python3"
  },
  "language_info": {
   "codemirror_mode": {
    "name": "ipython",
    "version": 3
   },
   "file_extension": ".py",
   "mimetype": "text/x-python",
   "name": "python",
   "nbconvert_exporter": "python",
   "pygments_lexer": "ipython3",
   "version": "3.8.2"
  }
 },
 "nbformat": 4,
 "nbformat_minor": 5
}
