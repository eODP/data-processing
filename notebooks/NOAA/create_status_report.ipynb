{
 "cells": [
  {
   "cell_type": "markdown",
   "id": "753cc91b-a1d1-433b-ba91-f5a0dfd7a4c4",
   "metadata": {},
   "source": [
    "# create status report"
   ]
  },
  {
   "cell_type": "code",
   "execution_count": 1,
   "id": "b9d83100-c578-47b7-82f8-a7f7ec061ca6",
   "metadata": {},
   "outputs": [],
   "source": [
    "import sys\n",
    "sys.path.append('../../')\n",
    "import glob\n",
    "from pathlib import Path\n",
    "import os\n",
    "\n",
    "import pandas as pd\n",
    "import numpy as np\n",
    "\n",
    "from scripts.normalize_noaa_files import (\n",
    "    unique_filenames_for_paths,\n",
    "    unique_columns_for_paths,\n",
    "    filename_index,\n",
    "    format_filepaths_set\n",
    ")\n",
    "from config import OUTPUT_DIR, CLEAN_DATA_DIR\n",
    "\n",
    "from scripts.shared_utils import (\n",
    "    log_df\n",
    ")"
   ]
  },
  {
   "cell_type": "code",
   "execution_count": 2,
   "id": "d2aee3f5-7fd2-4b1c-b796-fdf9e4b24c34",
   "metadata": {},
   "outputs": [],
   "source": [
    "base_dir = CLEAN_DATA_DIR\n",
    "metadata_path_1_96 = OUTPUT_DIR/'metadata'/'NOAA'/'noaa_dsdp_files.csv'\n",
    "metadata_path_101_210 = OUTPUT_DIR/'metadata'/'NOAA'/'noaa_janus_iodp_files.csv'\n",
    "metadata_path_101_210_lith = OUTPUT_DIR/'metadata'/'NOAA'/'noaa_janus_files.csv'\n"
   ]
  },
  {
   "cell_type": "markdown",
   "id": "734fff8d-90b3-499f-8b35-078cdbabe5cd",
   "metadata": {},
   "source": [
    "## 1 - 96"
   ]
  },
  {
   "cell_type": "code",
   "execution_count": 90,
   "id": "2d6fc4be-6551-4e9b-a872-9a881608eaa7",
   "metadata": {},
   "outputs": [
    {
     "name": "stdout",
     "output_type": "stream",
     "text": [
      "(4477, 5)\n"
     ]
    },
    {
     "data": {
      "text/html": [
       "<div>\n",
       "<style scoped>\n",
       "    .dataframe tbody tr th:only-of-type {\n",
       "        vertical-align: middle;\n",
       "    }\n",
       "\n",
       "    .dataframe tbody tr th {\n",
       "        vertical-align: top;\n",
       "    }\n",
       "\n",
       "    .dataframe thead th {\n",
       "        text-align: right;\n",
       "    }\n",
       "</style>\n",
       "<table border=\"1\" class=\"dataframe\">\n",
       "  <thead>\n",
       "    <tr style=\"text-align: right;\">\n",
       "      <th></th>\n",
       "      <th>path</th>\n",
       "      <th>type</th>\n",
       "      <th>taxon_group</th>\n",
       "      <th>expedition</th>\n",
       "      <th>site</th>\n",
       "    </tr>\n",
       "  </thead>\n",
       "  <tbody>\n",
       "    <tr>\n",
       "      <th>0</th>\n",
       "      <td>NOAA/DSDP_core_data/61/462/radiolar.csv</td>\n",
       "      <td>taxa</td>\n",
       "      <td>radiolarians</td>\n",
       "      <td>61</td>\n",
       "      <td>462</td>\n",
       "    </tr>\n",
       "    <tr>\n",
       "      <th>1</th>\n",
       "      <td>NOAA/DSDP_core_data/61/462/ageprof.csv</td>\n",
       "      <td>age</td>\n",
       "      <td>NaN</td>\n",
       "      <td>61</td>\n",
       "      <td>462</td>\n",
       "    </tr>\n",
       "    <tr>\n",
       "      <th>2</th>\n",
       "      <td>NOAA/DSDP_core_data/61/462/b_forams.csv</td>\n",
       "      <td>taxa</td>\n",
       "      <td>benthic_forams</td>\n",
       "      <td>61</td>\n",
       "      <td>462</td>\n",
       "    </tr>\n",
       "    <tr>\n",
       "      <th>3</th>\n",
       "      <td>NOAA/DSDP_core_data/61/462/p_forams.csv</td>\n",
       "      <td>taxa</td>\n",
       "      <td>planktic_forams</td>\n",
       "      <td>61</td>\n",
       "      <td>462</td>\n",
       "    </tr>\n",
       "    <tr>\n",
       "      <th>4</th>\n",
       "      <td>NOAA/DSDP_core_data/61/462/hr_desc.csv</td>\n",
       "      <td>hard_rock</td>\n",
       "      <td>NaN</td>\n",
       "      <td>61</td>\n",
       "      <td>462</td>\n",
       "    </tr>\n",
       "  </tbody>\n",
       "</table>\n",
       "</div>"
      ],
      "text/plain": [
       "                                      path       type      taxon_group  \\\n",
       "0  NOAA/DSDP_core_data/61/462/radiolar.csv       taxa     radiolarians   \n",
       "1   NOAA/DSDP_core_data/61/462/ageprof.csv        age              NaN   \n",
       "2  NOAA/DSDP_core_data/61/462/b_forams.csv       taxa   benthic_forams   \n",
       "3  NOAA/DSDP_core_data/61/462/p_forams.csv       taxa  planktic_forams   \n",
       "4   NOAA/DSDP_core_data/61/462/hr_desc.csv  hard_rock              NaN   \n",
       "\n",
       "  expedition site  \n",
       "0         61  462  \n",
       "1         61  462  \n",
       "2         61  462  \n",
       "3         61  462  \n",
       "4         61  462  "
      ]
     },
     "execution_count": 90,
     "metadata": {},
     "output_type": "execute_result"
    }
   ],
   "source": [
    "raw_df = pd.read_csv(metadata_path_1_96)\n",
    "log_df(raw_df)"
   ]
  },
  {
   "cell_type": "code",
   "execution_count": 91,
   "id": "c37e6129-7e72-4f76-87c7-141b6a6460be",
   "metadata": {},
   "outputs": [
    {
     "data": {
      "text/plain": [
       "array(['taxa', 'age', 'hard_rock', 'lithology'], dtype=object)"
      ]
     },
     "execution_count": 91,
     "metadata": {},
     "output_type": "execute_result"
    }
   ],
   "source": [
    "raw_df['type'].unique()"
   ]
  },
  {
   "cell_type": "code",
   "execution_count": 92,
   "id": "a70d4c57-856c-4735-8648-c837dcad38fb",
   "metadata": {},
   "outputs": [
    {
     "name": "stdout",
     "output_type": "stream",
     "text": [
      "(3104, 3)\n"
     ]
    },
    {
     "data": {
      "text/html": [
       "<div>\n",
       "<style scoped>\n",
       "    .dataframe tbody tr th:only-of-type {\n",
       "        vertical-align: middle;\n",
       "    }\n",
       "\n",
       "    .dataframe tbody tr th {\n",
       "        vertical-align: top;\n",
       "    }\n",
       "\n",
       "    .dataframe thead th {\n",
       "        text-align: right;\n",
       "    }\n",
       "</style>\n",
       "<table border=\"1\" class=\"dataframe\">\n",
       "  <thead>\n",
       "    <tr style=\"text-align: right;\">\n",
       "      <th></th>\n",
       "      <th>type</th>\n",
       "      <th>expedition</th>\n",
       "      <th>path</th>\n",
       "    </tr>\n",
       "  </thead>\n",
       "  <tbody>\n",
       "    <tr>\n",
       "      <th>0</th>\n",
       "      <td>taxa</td>\n",
       "      <td>61</td>\n",
       "      <td>NOAA/DSDP_core_data/61/462/radiolar.csv</td>\n",
       "    </tr>\n",
       "    <tr>\n",
       "      <th>2</th>\n",
       "      <td>taxa</td>\n",
       "      <td>61</td>\n",
       "      <td>NOAA/DSDP_core_data/61/462/b_forams.csv</td>\n",
       "    </tr>\n",
       "    <tr>\n",
       "      <th>3</th>\n",
       "      <td>taxa</td>\n",
       "      <td>61</td>\n",
       "      <td>NOAA/DSDP_core_data/61/462/p_forams.csv</td>\n",
       "    </tr>\n",
       "    <tr>\n",
       "      <th>5</th>\n",
       "      <td>taxa</td>\n",
       "      <td>61</td>\n",
       "      <td>NOAA/DSDP_core_data/61/462/nannos.csv</td>\n",
       "    </tr>\n",
       "    <tr>\n",
       "      <th>6</th>\n",
       "      <td>lithology</td>\n",
       "      <td>61</td>\n",
       "      <td>NOAA/DSDP_core_data/61/462/vistxt.csv</td>\n",
       "    </tr>\n",
       "  </tbody>\n",
       "</table>\n",
       "</div>"
      ],
      "text/plain": [
       "        type expedition                                     path\n",
       "0       taxa         61  NOAA/DSDP_core_data/61/462/radiolar.csv\n",
       "2       taxa         61  NOAA/DSDP_core_data/61/462/b_forams.csv\n",
       "3       taxa         61  NOAA/DSDP_core_data/61/462/p_forams.csv\n",
       "5       taxa         61    NOAA/DSDP_core_data/61/462/nannos.csv\n",
       "6  lithology         61    NOAA/DSDP_core_data/61/462/vistxt.csv"
      ]
     },
     "execution_count": 92,
     "metadata": {},
     "output_type": "execute_result"
    }
   ],
   "source": [
    "df = raw_df[['type', 'expedition', 'path']]\n",
    "df = df.loc[df['type'].isin(['taxa', 'lithology'])]\n",
    "log_df(df)"
   ]
  },
  {
   "cell_type": "code",
   "execution_count": 93,
   "id": "11cc0de1-27fe-4a58-b257-d00f9569e481",
   "metadata": {},
   "outputs": [
    {
     "name": "stdout",
     "output_type": "stream",
     "text": [
      "(99, 2)\n"
     ]
    },
    {
     "data": {
      "text/html": [
       "<div>\n",
       "<style scoped>\n",
       "    .dataframe tbody tr th:only-of-type {\n",
       "        vertical-align: middle;\n",
       "    }\n",
       "\n",
       "    .dataframe tbody tr th {\n",
       "        vertical-align: top;\n",
       "    }\n",
       "\n",
       "    .dataframe thead tr th {\n",
       "        text-align: left;\n",
       "    }\n",
       "\n",
       "    .dataframe thead tr:last-of-type th {\n",
       "        text-align: right;\n",
       "    }\n",
       "</style>\n",
       "<table border=\"1\" class=\"dataframe\">\n",
       "  <thead>\n",
       "    <tr>\n",
       "      <th></th>\n",
       "      <th colspan=\"2\" halign=\"left\">path</th>\n",
       "    </tr>\n",
       "    <tr>\n",
       "      <th>type</th>\n",
       "      <th>lithology</th>\n",
       "      <th>taxa</th>\n",
       "    </tr>\n",
       "    <tr>\n",
       "      <th>expedition</th>\n",
       "      <th></th>\n",
       "      <th></th>\n",
       "    </tr>\n",
       "  </thead>\n",
       "  <tbody>\n",
       "    <tr>\n",
       "      <th>1</th>\n",
       "      <td>8.0</td>\n",
       "      <td>20.0</td>\n",
       "    </tr>\n",
       "    <tr>\n",
       "      <th>10</th>\n",
       "      <td>14.0</td>\n",
       "      <td>18.0</td>\n",
       "    </tr>\n",
       "    <tr>\n",
       "      <th>11</th>\n",
       "      <td>13.0</td>\n",
       "      <td>21.0</td>\n",
       "    </tr>\n",
       "    <tr>\n",
       "      <th>12</th>\n",
       "      <td>11.0</td>\n",
       "      <td>5.0</td>\n",
       "    </tr>\n",
       "    <tr>\n",
       "      <th>13</th>\n",
       "      <td>27.0</td>\n",
       "      <td>46.0</td>\n",
       "    </tr>\n",
       "  </tbody>\n",
       "</table>\n",
       "</div>"
      ],
      "text/plain": [
       "                path      \n",
       "type       lithology  taxa\n",
       "expedition                \n",
       "1                8.0  20.0\n",
       "10              14.0  18.0\n",
       "11              13.0  21.0\n",
       "12              11.0   5.0\n",
       "13              27.0  46.0"
      ]
     },
     "execution_count": 93,
     "metadata": {},
     "output_type": "execute_result"
    }
   ],
   "source": [
    "pivot = pd.pivot_table(df, index=['expedition'], columns=['type'], values=['type'], aggfunc='count')\n",
    "log_df(pivot)"
   ]
  },
  {
   "cell_type": "code",
   "execution_count": 95,
   "id": "7545c8ad-aa52-4c77-a182-35b5f95a1a1e",
   "metadata": {},
   "outputs": [],
   "source": [
    "pivot.to_csv(OUTPUT_DIR/'eodp_status_1_96.csv')"
   ]
  },
  {
   "cell_type": "markdown",
   "id": "30db934d-d273-4450-8c90-28d31da84701",
   "metadata": {},
   "source": [
    "## 101 - 201"
   ]
  },
  {
   "cell_type": "code",
   "execution_count": 74,
   "id": "a0ddc0d3-d18e-41e9-aff8-2ace8a829245",
   "metadata": {},
   "outputs": [
    {
     "name": "stdout",
     "output_type": "stream",
     "text": [
      "(2481, 5)\n"
     ]
    },
    {
     "data": {
      "text/html": [
       "<div>\n",
       "<style scoped>\n",
       "    .dataframe tbody tr th:only-of-type {\n",
       "        vertical-align: middle;\n",
       "    }\n",
       "\n",
       "    .dataframe tbody tr th {\n",
       "        vertical-align: top;\n",
       "    }\n",
       "\n",
       "    .dataframe thead th {\n",
       "        text-align: right;\n",
       "    }\n",
       "</style>\n",
       "<table border=\"1\" class=\"dataframe\">\n",
       "  <thead>\n",
       "    <tr style=\"text-align: right;\">\n",
       "      <th></th>\n",
       "      <th>path</th>\n",
       "      <th>type</th>\n",
       "      <th>expedition</th>\n",
       "      <th>site</th>\n",
       "      <th>taxon_group</th>\n",
       "    </tr>\n",
       "  </thead>\n",
       "  <tbody>\n",
       "    <tr>\n",
       "      <th>0</th>\n",
       "      <td>NOAA/JanusIODP_paleo_agemodel/paleontology/ran...</td>\n",
       "      <td>taxa</td>\n",
       "      <td>101</td>\n",
       "      <td>626</td>\n",
       "      <td>benthic_forams</td>\n",
       "    </tr>\n",
       "    <tr>\n",
       "      <th>1</th>\n",
       "      <td>NOAA/JanusIODP_paleo_agemodel/paleontology/ran...</td>\n",
       "      <td>taxa</td>\n",
       "      <td>101</td>\n",
       "      <td>626</td>\n",
       "      <td>benthic_forams</td>\n",
       "    </tr>\n",
       "    <tr>\n",
       "      <th>2</th>\n",
       "      <td>NOAA/JanusIODP_paleo_agemodel/paleontology/ran...</td>\n",
       "      <td>taxa</td>\n",
       "      <td>101</td>\n",
       "      <td>626</td>\n",
       "      <td>nannofossils</td>\n",
       "    </tr>\n",
       "    <tr>\n",
       "      <th>3</th>\n",
       "      <td>NOAA/JanusIODP_paleo_agemodel/paleontology/ran...</td>\n",
       "      <td>taxa</td>\n",
       "      <td>101</td>\n",
       "      <td>626</td>\n",
       "      <td>nannofossils</td>\n",
       "    </tr>\n",
       "    <tr>\n",
       "      <th>4</th>\n",
       "      <td>NOAA/JanusIODP_paleo_agemodel/paleontology/ran...</td>\n",
       "      <td>taxa</td>\n",
       "      <td>101</td>\n",
       "      <td>626</td>\n",
       "      <td>planktic_forams</td>\n",
       "    </tr>\n",
       "  </tbody>\n",
       "</table>\n",
       "</div>"
      ],
      "text/plain": [
       "                                                path  type expedition site  \\\n",
       "0  NOAA/JanusIODP_paleo_agemodel/paleontology/ran...  taxa        101  626   \n",
       "1  NOAA/JanusIODP_paleo_agemodel/paleontology/ran...  taxa        101  626   \n",
       "2  NOAA/JanusIODP_paleo_agemodel/paleontology/ran...  taxa        101  626   \n",
       "3  NOAA/JanusIODP_paleo_agemodel/paleontology/ran...  taxa        101  626   \n",
       "4  NOAA/JanusIODP_paleo_agemodel/paleontology/ran...  taxa        101  626   \n",
       "\n",
       "       taxon_group  \n",
       "0   benthic_forams  \n",
       "1   benthic_forams  \n",
       "2     nannofossils  \n",
       "3     nannofossils  \n",
       "4  planktic_forams  "
      ]
     },
     "execution_count": 74,
     "metadata": {},
     "output_type": "execute_result"
    }
   ],
   "source": [
    "raw_df = pd.read_csv(metadata_path_101_210, dtype=str)\n",
    "log_df(raw_df)"
   ]
  },
  {
   "cell_type": "code",
   "execution_count": 75,
   "id": "8f8e1f2c-aebb-4673-8f83-ff43e03ad33e",
   "metadata": {},
   "outputs": [
    {
     "data": {
      "text/plain": [
       "array(['taxa', 'age'], dtype=object)"
      ]
     },
     "execution_count": 75,
     "metadata": {},
     "output_type": "execute_result"
    }
   ],
   "source": [
    "raw_df['type'].unique()"
   ]
  },
  {
   "cell_type": "code",
   "execution_count": 76,
   "id": "6d423656-b82c-4737-8b35-ca6bd3a48cbb",
   "metadata": {},
   "outputs": [
    {
     "name": "stdout",
     "output_type": "stream",
     "text": [
      "(2045, 3)\n"
     ]
    },
    {
     "data": {
      "text/html": [
       "<div>\n",
       "<style scoped>\n",
       "    .dataframe tbody tr th:only-of-type {\n",
       "        vertical-align: middle;\n",
       "    }\n",
       "\n",
       "    .dataframe tbody tr th {\n",
       "        vertical-align: top;\n",
       "    }\n",
       "\n",
       "    .dataframe thead th {\n",
       "        text-align: right;\n",
       "    }\n",
       "</style>\n",
       "<table border=\"1\" class=\"dataframe\">\n",
       "  <thead>\n",
       "    <tr style=\"text-align: right;\">\n",
       "      <th></th>\n",
       "      <th>type</th>\n",
       "      <th>expedition</th>\n",
       "      <th>path</th>\n",
       "    </tr>\n",
       "  </thead>\n",
       "  <tbody>\n",
       "    <tr>\n",
       "      <th>0</th>\n",
       "      <td>taxa</td>\n",
       "      <td>101</td>\n",
       "      <td>NOAA/JanusIODP_paleo_agemodel/paleontology/ran...</td>\n",
       "    </tr>\n",
       "    <tr>\n",
       "      <th>1</th>\n",
       "      <td>taxa</td>\n",
       "      <td>101</td>\n",
       "      <td>NOAA/JanusIODP_paleo_agemodel/paleontology/ran...</td>\n",
       "    </tr>\n",
       "    <tr>\n",
       "      <th>2</th>\n",
       "      <td>taxa</td>\n",
       "      <td>101</td>\n",
       "      <td>NOAA/JanusIODP_paleo_agemodel/paleontology/ran...</td>\n",
       "    </tr>\n",
       "    <tr>\n",
       "      <th>3</th>\n",
       "      <td>taxa</td>\n",
       "      <td>101</td>\n",
       "      <td>NOAA/JanusIODP_paleo_agemodel/paleontology/ran...</td>\n",
       "    </tr>\n",
       "    <tr>\n",
       "      <th>4</th>\n",
       "      <td>taxa</td>\n",
       "      <td>101</td>\n",
       "      <td>NOAA/JanusIODP_paleo_agemodel/paleontology/ran...</td>\n",
       "    </tr>\n",
       "  </tbody>\n",
       "</table>\n",
       "</div>"
      ],
      "text/plain": [
       "   type expedition                                               path\n",
       "0  taxa        101  NOAA/JanusIODP_paleo_agemodel/paleontology/ran...\n",
       "1  taxa        101  NOAA/JanusIODP_paleo_agemodel/paleontology/ran...\n",
       "2  taxa        101  NOAA/JanusIODP_paleo_agemodel/paleontology/ran...\n",
       "3  taxa        101  NOAA/JanusIODP_paleo_agemodel/paleontology/ran...\n",
       "4  taxa        101  NOAA/JanusIODP_paleo_agemodel/paleontology/ran..."
      ]
     },
     "execution_count": 76,
     "metadata": {},
     "output_type": "execute_result"
    }
   ],
   "source": [
    "taxa_df = raw_df[['type', 'expedition', 'path']]\n",
    "taxa_df = taxa_df.loc[taxa_df['type'] == 'taxa']\n",
    "log_df(taxa_df)"
   ]
  },
  {
   "cell_type": "code",
   "execution_count": 78,
   "id": "55c083fa-fefd-4c8c-bcb1-3e9c078ee424",
   "metadata": {},
   "outputs": [
    {
     "name": "stdout",
     "output_type": "stream",
     "text": [
      "(325, 4)\n"
     ]
    },
    {
     "data": {
      "text/html": [
       "<div>\n",
       "<style scoped>\n",
       "    .dataframe tbody tr th:only-of-type {\n",
       "        vertical-align: middle;\n",
       "    }\n",
       "\n",
       "    .dataframe tbody tr th {\n",
       "        vertical-align: top;\n",
       "    }\n",
       "\n",
       "    .dataframe thead th {\n",
       "        text-align: right;\n",
       "    }\n",
       "</style>\n",
       "<table border=\"1\" class=\"dataframe\">\n",
       "  <thead>\n",
       "    <tr style=\"text-align: right;\">\n",
       "      <th></th>\n",
       "      <th>path</th>\n",
       "      <th>type</th>\n",
       "      <th>expedition</th>\n",
       "      <th>site</th>\n",
       "    </tr>\n",
       "  </thead>\n",
       "  <tbody>\n",
       "    <tr>\n",
       "      <th>0</th>\n",
       "      <td>NOAA/Janus_core_data/101/626a/sed_lith_101_626...</td>\n",
       "      <td>lithology</td>\n",
       "      <td>101</td>\n",
       "      <td>626a</td>\n",
       "    </tr>\n",
       "    <tr>\n",
       "      <th>1</th>\n",
       "      <td>NOAA/Janus_core_data/101/626b/sed_lith_101_626...</td>\n",
       "      <td>lithology</td>\n",
       "      <td>101</td>\n",
       "      <td>626b</td>\n",
       "    </tr>\n",
       "    <tr>\n",
       "      <th>2</th>\n",
       "      <td>NOAA/Janus_core_data/101/626c/sed_lith_101_626...</td>\n",
       "      <td>lithology</td>\n",
       "      <td>101</td>\n",
       "      <td>626c</td>\n",
       "    </tr>\n",
       "    <tr>\n",
       "      <th>3</th>\n",
       "      <td>NOAA/Janus_core_data/101/626d/sed_lith_101_626...</td>\n",
       "      <td>lithology</td>\n",
       "      <td>101</td>\n",
       "      <td>626d</td>\n",
       "    </tr>\n",
       "    <tr>\n",
       "      <th>4</th>\n",
       "      <td>NOAA/Janus_core_data/101/627a/sed_lith_101_627...</td>\n",
       "      <td>lithology</td>\n",
       "      <td>101</td>\n",
       "      <td>627a</td>\n",
       "    </tr>\n",
       "  </tbody>\n",
       "</table>\n",
       "</div>"
      ],
      "text/plain": [
       "                                                path       type expedition  \\\n",
       "0  NOAA/Janus_core_data/101/626a/sed_lith_101_626...  lithology        101   \n",
       "1  NOAA/Janus_core_data/101/626b/sed_lith_101_626...  lithology        101   \n",
       "2  NOAA/Janus_core_data/101/626c/sed_lith_101_626...  lithology        101   \n",
       "3  NOAA/Janus_core_data/101/626d/sed_lith_101_626...  lithology        101   \n",
       "4  NOAA/Janus_core_data/101/627a/sed_lith_101_627...  lithology        101   \n",
       "\n",
       "   site  \n",
       "0  626a  \n",
       "1  626b  \n",
       "2  626c  \n",
       "3  626d  \n",
       "4  627a  "
      ]
     },
     "execution_count": 78,
     "metadata": {},
     "output_type": "execute_result"
    }
   ],
   "source": [
    "\n",
    "raw_df2 = pd.read_csv(metadata_path_101_210_lith, dtype=str)\n",
    "log_df(raw_df2)"
   ]
  },
  {
   "cell_type": "code",
   "execution_count": 79,
   "id": "a7ec6a3a-4e57-4235-83c2-331b3854bd33",
   "metadata": {},
   "outputs": [
    {
     "data": {
      "text/plain": [
       "array(['lithology'], dtype=object)"
      ]
     },
     "execution_count": 79,
     "metadata": {},
     "output_type": "execute_result"
    }
   ],
   "source": [
    "raw_df2['type'].unique()"
   ]
  },
  {
   "cell_type": "code",
   "execution_count": 80,
   "id": "9999ba59-70c0-4ab0-a71a-7d2622628333",
   "metadata": {},
   "outputs": [
    {
     "name": "stdout",
     "output_type": "stream",
     "text": [
      "(325, 3)\n"
     ]
    },
    {
     "data": {
      "text/html": [
       "<div>\n",
       "<style scoped>\n",
       "    .dataframe tbody tr th:only-of-type {\n",
       "        vertical-align: middle;\n",
       "    }\n",
       "\n",
       "    .dataframe tbody tr th {\n",
       "        vertical-align: top;\n",
       "    }\n",
       "\n",
       "    .dataframe thead th {\n",
       "        text-align: right;\n",
       "    }\n",
       "</style>\n",
       "<table border=\"1\" class=\"dataframe\">\n",
       "  <thead>\n",
       "    <tr style=\"text-align: right;\">\n",
       "      <th></th>\n",
       "      <th>type</th>\n",
       "      <th>expedition</th>\n",
       "      <th>path</th>\n",
       "    </tr>\n",
       "  </thead>\n",
       "  <tbody>\n",
       "    <tr>\n",
       "      <th>0</th>\n",
       "      <td>lithology</td>\n",
       "      <td>101</td>\n",
       "      <td>NOAA/Janus_core_data/101/626a/sed_lith_101_626...</td>\n",
       "    </tr>\n",
       "    <tr>\n",
       "      <th>1</th>\n",
       "      <td>lithology</td>\n",
       "      <td>101</td>\n",
       "      <td>NOAA/Janus_core_data/101/626b/sed_lith_101_626...</td>\n",
       "    </tr>\n",
       "    <tr>\n",
       "      <th>2</th>\n",
       "      <td>lithology</td>\n",
       "      <td>101</td>\n",
       "      <td>NOAA/Janus_core_data/101/626c/sed_lith_101_626...</td>\n",
       "    </tr>\n",
       "    <tr>\n",
       "      <th>3</th>\n",
       "      <td>lithology</td>\n",
       "      <td>101</td>\n",
       "      <td>NOAA/Janus_core_data/101/626d/sed_lith_101_626...</td>\n",
       "    </tr>\n",
       "    <tr>\n",
       "      <th>4</th>\n",
       "      <td>lithology</td>\n",
       "      <td>101</td>\n",
       "      <td>NOAA/Janus_core_data/101/627a/sed_lith_101_627...</td>\n",
       "    </tr>\n",
       "  </tbody>\n",
       "</table>\n",
       "</div>"
      ],
      "text/plain": [
       "        type expedition                                               path\n",
       "0  lithology        101  NOAA/Janus_core_data/101/626a/sed_lith_101_626...\n",
       "1  lithology        101  NOAA/Janus_core_data/101/626b/sed_lith_101_626...\n",
       "2  lithology        101  NOAA/Janus_core_data/101/626c/sed_lith_101_626...\n",
       "3  lithology        101  NOAA/Janus_core_data/101/626d/sed_lith_101_626...\n",
       "4  lithology        101  NOAA/Janus_core_data/101/627a/sed_lith_101_627..."
      ]
     },
     "execution_count": 80,
     "metadata": {},
     "output_type": "execute_result"
    }
   ],
   "source": [
    "lith_df = raw_df2[['type', 'expedition', 'path']]\n",
    "lith_df = lith_df.loc[lith_df['type'] == 'lithology']\n",
    "log_df(lith_df)"
   ]
  },
  {
   "cell_type": "code",
   "execution_count": 81,
   "id": "a61d56ca-89e5-4e8f-872c-3315f3d984c2",
   "metadata": {},
   "outputs": [
    {
     "name": "stdout",
     "output_type": "stream",
     "text": [
      "(2370, 3)\n"
     ]
    },
    {
     "data": {
      "text/html": [
       "<div>\n",
       "<style scoped>\n",
       "    .dataframe tbody tr th:only-of-type {\n",
       "        vertical-align: middle;\n",
       "    }\n",
       "\n",
       "    .dataframe tbody tr th {\n",
       "        vertical-align: top;\n",
       "    }\n",
       "\n",
       "    .dataframe thead th {\n",
       "        text-align: right;\n",
       "    }\n",
       "</style>\n",
       "<table border=\"1\" class=\"dataframe\">\n",
       "  <thead>\n",
       "    <tr style=\"text-align: right;\">\n",
       "      <th></th>\n",
       "      <th>type</th>\n",
       "      <th>expedition</th>\n",
       "      <th>path</th>\n",
       "    </tr>\n",
       "  </thead>\n",
       "  <tbody>\n",
       "    <tr>\n",
       "      <th>0</th>\n",
       "      <td>taxa</td>\n",
       "      <td>101</td>\n",
       "      <td>NOAA/JanusIODP_paleo_agemodel/paleontology/ran...</td>\n",
       "    </tr>\n",
       "    <tr>\n",
       "      <th>1</th>\n",
       "      <td>taxa</td>\n",
       "      <td>101</td>\n",
       "      <td>NOAA/JanusIODP_paleo_agemodel/paleontology/ran...</td>\n",
       "    </tr>\n",
       "    <tr>\n",
       "      <th>2</th>\n",
       "      <td>taxa</td>\n",
       "      <td>101</td>\n",
       "      <td>NOAA/JanusIODP_paleo_agemodel/paleontology/ran...</td>\n",
       "    </tr>\n",
       "    <tr>\n",
       "      <th>3</th>\n",
       "      <td>taxa</td>\n",
       "      <td>101</td>\n",
       "      <td>NOAA/JanusIODP_paleo_agemodel/paleontology/ran...</td>\n",
       "    </tr>\n",
       "    <tr>\n",
       "      <th>4</th>\n",
       "      <td>taxa</td>\n",
       "      <td>101</td>\n",
       "      <td>NOAA/JanusIODP_paleo_agemodel/paleontology/ran...</td>\n",
       "    </tr>\n",
       "  </tbody>\n",
       "</table>\n",
       "</div>"
      ],
      "text/plain": [
       "   type expedition                                               path\n",
       "0  taxa        101  NOAA/JanusIODP_paleo_agemodel/paleontology/ran...\n",
       "1  taxa        101  NOAA/JanusIODP_paleo_agemodel/paleontology/ran...\n",
       "2  taxa        101  NOAA/JanusIODP_paleo_agemodel/paleontology/ran...\n",
       "3  taxa        101  NOAA/JanusIODP_paleo_agemodel/paleontology/ran...\n",
       "4  taxa        101  NOAA/JanusIODP_paleo_agemodel/paleontology/ran..."
      ]
     },
     "execution_count": 81,
     "metadata": {},
     "output_type": "execute_result"
    }
   ],
   "source": [
    "df = pd.concat([taxa_df, lith_df])\n",
    "log_df(df)"
   ]
  },
  {
   "cell_type": "code",
   "execution_count": 82,
   "id": "ab0d5713-6e88-43bf-bc17-d5556ef52631",
   "metadata": {},
   "outputs": [
    {
     "name": "stdout",
     "output_type": "stream",
     "text": [
      "(89, 2)\n"
     ]
    },
    {
     "data": {
      "text/html": [
       "<div>\n",
       "<style scoped>\n",
       "    .dataframe tbody tr th:only-of-type {\n",
       "        vertical-align: middle;\n",
       "    }\n",
       "\n",
       "    .dataframe tbody tr th {\n",
       "        vertical-align: top;\n",
       "    }\n",
       "\n",
       "    .dataframe thead tr th {\n",
       "        text-align: left;\n",
       "    }\n",
       "\n",
       "    .dataframe thead tr:last-of-type th {\n",
       "        text-align: right;\n",
       "    }\n",
       "</style>\n",
       "<table border=\"1\" class=\"dataframe\">\n",
       "  <thead>\n",
       "    <tr>\n",
       "      <th></th>\n",
       "      <th colspan=\"2\" halign=\"left\">path</th>\n",
       "    </tr>\n",
       "    <tr>\n",
       "      <th>type</th>\n",
       "      <th>lithology</th>\n",
       "      <th>taxa</th>\n",
       "    </tr>\n",
       "    <tr>\n",
       "      <th>expedition</th>\n",
       "      <th></th>\n",
       "      <th></th>\n",
       "    </tr>\n",
       "  </thead>\n",
       "  <tbody>\n",
       "    <tr>\n",
       "      <th>101</th>\n",
       "      <td>19.0</td>\n",
       "      <td>25.0</td>\n",
       "    </tr>\n",
       "    <tr>\n",
       "      <th>103</th>\n",
       "      <td>12.0</td>\n",
       "      <td>NaN</td>\n",
       "    </tr>\n",
       "    <tr>\n",
       "      <th>104</th>\n",
       "      <td>8.0</td>\n",
       "      <td>47.0</td>\n",
       "    </tr>\n",
       "    <tr>\n",
       "      <th>105</th>\n",
       "      <td>11.0</td>\n",
       "      <td>NaN</td>\n",
       "    </tr>\n",
       "    <tr>\n",
       "      <th>107</th>\n",
       "      <td>9.0</td>\n",
       "      <td>NaN</td>\n",
       "    </tr>\n",
       "  </tbody>\n",
       "</table>\n",
       "</div>"
      ],
      "text/plain": [
       "                path      \n",
       "type       lithology  taxa\n",
       "expedition                \n",
       "101             19.0  25.0\n",
       "103             12.0   NaN\n",
       "104              8.0  47.0\n",
       "105             11.0   NaN\n",
       "107              9.0   NaN"
      ]
     },
     "execution_count": 82,
     "metadata": {},
     "output_type": "execute_result"
    }
   ],
   "source": [
    "pivot = pd.pivot_table(df, index=['expedition'], columns=['type'], values=['type'], aggfunc='count')\n",
    "pivot.sort_values(['expedition'])\n",
    "log_df(pivot)"
   ]
  },
  {
   "cell_type": "code",
   "execution_count": 83,
   "id": "86834a31-4ac7-4a9c-9bbb-545852fc3b78",
   "metadata": {},
   "outputs": [],
   "source": [
    "pivot.to_csv(OUTPUT_DIR/'eodp_status_101_210.csv')"
   ]
  },
  {
   "cell_type": "code",
   "execution_count": null,
   "id": "15b683c7-7c19-423a-9143-08543bc5653b",
   "metadata": {},
   "outputs": [],
   "source": []
  }
 ],
 "metadata": {
  "kernelspec": {
   "display_name": "Python 3 (ipykernel)",
   "language": "python",
   "name": "python3"
  },
  "language_info": {
   "codemirror_mode": {
    "name": "ipython",
    "version": 3
   },
   "file_extension": ".py",
   "mimetype": "text/x-python",
   "name": "python",
   "nbconvert_exporter": "python",
   "pygments_lexer": "ipython3",
   "version": "3.8.2"
  }
 },
 "nbformat": 4,
 "nbformat_minor": 5
}
