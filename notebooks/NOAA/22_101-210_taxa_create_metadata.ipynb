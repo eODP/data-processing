{
 "cells": [
  {
   "cell_type": "markdown",
   "id": "03e82fb8",
   "metadata": {},
   "source": [
    "# QA NOAA Janus IODP metadata\n",
    "## 101-210 taxa, 101-190 age\n",
    "\n",
    "Get basic metadata (file names, column names) about NOAA Janus IODP dataset. Create csv that lists all the files.\n",
    "\n",
    "NOAA/JanusIODP_paleo_agemodel  \n",
    "expedition 101-210 \n",
    "taxa 101-210, age models 101-190"
   ]
  },
  {
   "cell_type": "code",
   "execution_count": 1,
   "id": "5f73ddc3",
   "metadata": {},
   "outputs": [],
   "source": [
    "import sys\n",
    "sys.path.append('../../')\n",
    "import glob\n",
    "from pathlib import Path\n",
    "import os\n",
    "import re \n",
    "import pandas as pd\n",
    "import numpy as np\n",
    "import shutil\n",
    "\n",
    "from scripts.normalize_noaa_files import (\n",
    "    unique_filenames_for_paths,\n",
    "    unique_columns_for_paths,\n",
    "    filename_index,\n",
    "    format_filepaths_set,\n",
    "    qa_files_for_paths,\n",
    "    column_counts_for_paths\n",
    ")\n",
    "import scripts.space_delim as sd\n",
    "from config import OUTPUT_DIR, CLEAN_DATA_DIR, RAW_DATA_DIR\n"
   ]
  },
  {
   "cell_type": "code",
   "execution_count": 2,
   "id": "21d9579c",
   "metadata": {},
   "outputs": [],
   "source": [
    "base_dir = CLEAN_DATA_DIR\n",
    "data_dir = base_dir/'NOAA'/'JanusIODP_paleo_agemodel'\n",
    "metadata_path = OUTPUT_DIR/'metadata'/'NOAA'/'noaa_janus_iodp_files.csv'"
   ]
  },
  {
   "cell_type": "code",
   "execution_count": 3,
   "id": "a32242e0",
   "metadata": {},
   "outputs": [
    {
     "name": "stdout",
     "output_type": "stream",
     "text": [
      "files 2481\n"
     ]
    }
   ],
   "source": [
    "csv_paths = list(data_dir.glob(\"**/*.csv\"))\n",
    "print('files', len(csv_paths))"
   ]
  },
  {
   "cell_type": "code",
   "execution_count": 4,
   "id": "a3871b7e",
   "metadata": {},
   "outputs": [
    {
     "name": "stdout",
     "output_type": "stream",
     "text": [
      "files 2045\n"
     ]
    }
   ],
   "source": [
    "taxa_csv_paths = list(data_dir.glob(\"paleontology/range_tables/**/*.csv\"))\n",
    "print('files', len(taxa_csv_paths))"
   ]
  },
  {
   "cell_type": "code",
   "execution_count": 5,
   "id": "b573f95c",
   "metadata": {},
   "outputs": [
    {
     "name": "stdout",
     "output_type": "stream",
     "text": [
      "files 436\n"
     ]
    }
   ],
   "source": [
    "age_csv_paths = list(data_dir.glob(\"paleontology/age_models/**/*.csv\"))\n",
    "print('files', len(age_csv_paths))"
   ]
  },
  {
   "cell_type": "markdown",
   "id": "1da620aa",
   "metadata": {},
   "source": [
    "## unique file names\n",
    "\n",
    "Get all the file names."
   ]
  },
  {
   "cell_type": "code",
   "execution_count": 6,
   "id": "2492c51e",
   "metadata": {},
   "outputs": [
    {
     "data": {
      "text/plain": [
       "{'Benthic Foraminifers.csv',\n",
       " 'Benthic_Foraminifers.csv',\n",
       " 'Bolboforms.csv',\n",
       " 'Diatoms.csv',\n",
       " 'Dinoflagellates_Acritarch_Prasinophytes.csv',\n",
       " 'Dinoflagellates_Acritarchs_Prasinophytes.csv',\n",
       " 'Macrofossils.csv',\n",
       " 'Miscellaneous.csv',\n",
       " 'Nannofossils .csv',\n",
       " 'Nannofossils.csv',\n",
       " 'Ostracodes.csv',\n",
       " 'Planktonic Foraminifers.csv',\n",
       " 'Planktonic_Foraminifers .csv',\n",
       " 'Planktonic_Foraminifers.csv',\n",
       " 'Pollen_Spores.csv',\n",
       " 'Pteropods.csv',\n",
       " 'Radiolarians.csv',\n",
       " 'Silicoflagellates_Ebridians_Actiniscidians.csv',\n",
       " 'Sponge_Spicules.csv',\n",
       " 'Trace_Fossils.csv'}"
      ]
     },
     "execution_count": 6,
     "metadata": {},
     "output_type": "execute_result"
    }
   ],
   "source": [
    "files = unique_filenames_for_paths(taxa_csv_paths)\n",
    "files"
   ]
  },
  {
   "cell_type": "code",
   "execution_count": 7,
   "id": "c42c1c96",
   "metadata": {},
   "outputs": [
    {
     "data": {
      "text/plain": [
       "20"
      ]
     },
     "execution_count": 7,
     "metadata": {},
     "output_type": "execute_result"
    }
   ],
   "source": [
    "len(files)"
   ]
  },
  {
   "cell_type": "code",
   "execution_count": 8,
   "id": "810ce778",
   "metadata": {},
   "outputs": [
    {
     "data": {
      "text/plain": [
       "{'Age_Model_Initial_Report.csv',\n",
       " 'Age_Model_Initial_Reports.csv',\n",
       " 'Age_Model_Post_Moratorium.csv',\n",
       " 'Age_Model_Shipboard.csv',\n",
       " 'Age_Model_Shipboard_Report.csv'}"
      ]
     },
     "execution_count": 8,
     "metadata": {},
     "output_type": "execute_result"
    }
   ],
   "source": [
    "unique_filenames_for_paths(age_csv_paths)"
   ]
  },
  {
   "cell_type": "markdown",
   "id": "d5fc5f3c",
   "metadata": {},
   "source": [
    "## column names"
   ]
  },
  {
   "cell_type": "code",
   "execution_count": 9,
   "id": "037c6b33",
   "metadata": {},
   "outputs": [
    {
     "data": {
      "text/plain": [
       "12979"
      ]
     },
     "execution_count": 9,
     "metadata": {},
     "output_type": "execute_result"
    }
   ],
   "source": [
    "taxa_columns = unique_columns_for_paths(taxa_csv_paths)\n",
    "len(taxa_columns)"
   ]
  },
  {
   "cell_type": "markdown",
   "id": "e80f1b9b",
   "metadata": {},
   "source": [
    "## file list\n",
    "\n",
    "Create csv that lists all the files for this dataset."
   ]
  },
  {
   "cell_type": "code",
   "execution_count": 10,
   "id": "d6b57920",
   "metadata": {},
   "outputs": [],
   "source": [
    "file_list = []\n",
    "switch = {\n",
    "    'Benthic Foraminifers.csv': 'benthic_foraminfera',\n",
    "    'Benthic_Foraminifers.csv': 'benthic_foraminfera',\n",
    "    'Bolboforms.csv': 'bolboformids',\n",
    "    'Diatoms.csv': 'diatoms',\n",
    "    'Dinoflagellates_Acritarch_Prasinophytes.csv': 'dinoflagellates/acritarchs/prasinophytes',\n",
    "    'Dinoflagellates_Acritarchs_Prasinophytes.csv': 'dinoflagellates/acritarchs/prasinophytes',\n",
    "    'Macrofossils.csv': 'macrofossils',\n",
    "    'Miscellaneous.csv': 'miscellaneous',\n",
    "    'Nannofossils .csv': 'nannofossils',\n",
    "    'Nannofossils.csv': 'nannofossils',\n",
    "    'Ostracodes.csv': 'ostracods',\n",
    "    'Planktonic Foraminifers.csv': 'planktic_foraminfera',\n",
    "    'Planktonic_Foraminifers .csv': 'planktic_foraminfera',\n",
    "    'Planktonic_Foraminifers.csv': 'planktic_foraminfera',\n",
    "    'Pollen_Spores.csv': 'pollen',\n",
    "    'Pteropods.csv': 'pteropods',\n",
    "    'Radiolarians.csv': 'radiolarians',\n",
    "    'Silicoflagellates_Ebridians_Actiniscidians.csv': 'silicoflagellates/ebridians/actiniscidians',\n",
    "    'Sponge_Spicules.csv': 'sponge_spicules',\n",
    "    'Trace_Fossils.csv': 'trace_fossils'\n",
    "}\n",
    "index = filename_index(csv_paths[0])\n",
    "\n",
    "for path in csv_paths:\n",
    "    file_data = {}\n",
    "    relative_path = path.relative_to(base_dir)\n",
    "    path_parts = relative_path.parts\n",
    "    filename = relative_path.name \n",
    "    \n",
    "    file_data['path'] = relative_path\n",
    "    \n",
    "    if filename.startswith('Age_'):\n",
    "        type = 'age'\n",
    "    else:\n",
    "        type = 'taxa'\n",
    "    file_data['type'] = type\n",
    "    \n",
    "    if type == 'taxa':\n",
    "        file_data['taxon_group'] = switch.get(filename, np.nan)\n",
    "    \n",
    "    file_data['expedition'] = path_parts[4]\n",
    "    file_data['site'] = path_parts[5]\n",
    "\n",
    "    \n",
    "    file_list.append(file_data)\n",
    " "
   ]
  },
  {
   "cell_type": "code",
   "execution_count": 11,
   "id": "0d1e5d3f",
   "metadata": {},
   "outputs": [
    {
     "data": {
      "text/html": [
       "<div>\n",
       "<style scoped>\n",
       "    .dataframe tbody tr th:only-of-type {\n",
       "        vertical-align: middle;\n",
       "    }\n",
       "\n",
       "    .dataframe tbody tr th {\n",
       "        vertical-align: top;\n",
       "    }\n",
       "\n",
       "    .dataframe thead th {\n",
       "        text-align: right;\n",
       "    }\n",
       "</style>\n",
       "<table border=\"1\" class=\"dataframe\">\n",
       "  <thead>\n",
       "    <tr style=\"text-align: right;\">\n",
       "      <th></th>\n",
       "      <th>path</th>\n",
       "      <th>type</th>\n",
       "      <th>expedition</th>\n",
       "      <th>site</th>\n",
       "      <th>taxon_group</th>\n",
       "    </tr>\n",
       "  </thead>\n",
       "  <tbody>\n",
       "    <tr>\n",
       "      <th>1868</th>\n",
       "      <td>NOAA/JanusIODP_paleo_agemodel/paleontology/ran...</td>\n",
       "      <td>taxa</td>\n",
       "      <td>101</td>\n",
       "      <td>626</td>\n",
       "      <td>benthic_foraminfera</td>\n",
       "    </tr>\n",
       "    <tr>\n",
       "      <th>1871</th>\n",
       "      <td>NOAA/JanusIODP_paleo_agemodel/paleontology/ran...</td>\n",
       "      <td>taxa</td>\n",
       "      <td>101</td>\n",
       "      <td>626</td>\n",
       "      <td>benthic_foraminfera</td>\n",
       "    </tr>\n",
       "    <tr>\n",
       "      <th>1867</th>\n",
       "      <td>NOAA/JanusIODP_paleo_agemodel/paleontology/ran...</td>\n",
       "      <td>taxa</td>\n",
       "      <td>101</td>\n",
       "      <td>626</td>\n",
       "      <td>nannofossils</td>\n",
       "    </tr>\n",
       "    <tr>\n",
       "      <th>1870</th>\n",
       "      <td>NOAA/JanusIODP_paleo_agemodel/paleontology/ran...</td>\n",
       "      <td>taxa</td>\n",
       "      <td>101</td>\n",
       "      <td>626</td>\n",
       "      <td>nannofossils</td>\n",
       "    </tr>\n",
       "    <tr>\n",
       "      <th>1869</th>\n",
       "      <td>NOAA/JanusIODP_paleo_agemodel/paleontology/ran...</td>\n",
       "      <td>taxa</td>\n",
       "      <td>101</td>\n",
       "      <td>626</td>\n",
       "      <td>planktic_foraminfera</td>\n",
       "    </tr>\n",
       "  </tbody>\n",
       "</table>\n",
       "</div>"
      ],
      "text/plain": [
       "                                                   path  type expedition site  \\\n",
       "1868  NOAA/JanusIODP_paleo_agemodel/paleontology/ran...  taxa        101  626   \n",
       "1871  NOAA/JanusIODP_paleo_agemodel/paleontology/ran...  taxa        101  626   \n",
       "1867  NOAA/JanusIODP_paleo_agemodel/paleontology/ran...  taxa        101  626   \n",
       "1870  NOAA/JanusIODP_paleo_agemodel/paleontology/ran...  taxa        101  626   \n",
       "1869  NOAA/JanusIODP_paleo_agemodel/paleontology/ran...  taxa        101  626   \n",
       "\n",
       "               taxon_group  \n",
       "1868   benthic_foraminfera  \n",
       "1871   benthic_foraminfera  \n",
       "1867          nannofossils  \n",
       "1870          nannofossils  \n",
       "1869  planktic_foraminfera  "
      ]
     },
     "execution_count": 11,
     "metadata": {},
     "output_type": "execute_result"
    }
   ],
   "source": [
    "df = pd.DataFrame(file_list)\n",
    "df = df.sort_values(by=['expedition', 'site', 'type', 'taxon_group'])\n",
    "df.head()"
   ]
  },
  {
   "cell_type": "code",
   "execution_count": 12,
   "id": "50bea5c2",
   "metadata": {},
   "outputs": [],
   "source": [
    "df.to_csv(metadata_path, index=False)"
   ]
  },
  {
   "cell_type": "code",
   "execution_count": null,
   "id": "d48aa66f",
   "metadata": {},
   "outputs": [],
   "source": []
  }
 ],
 "metadata": {
  "kernelspec": {
   "display_name": "Python 3 (ipykernel)",
   "language": "python",
   "name": "python3"
  },
  "language_info": {
   "codemirror_mode": {
    "name": "ipython",
    "version": 3
   },
   "file_extension": ".py",
   "mimetype": "text/x-python",
   "name": "python",
   "nbconvert_exporter": "python",
   "pygments_lexer": "ipython3",
   "version": "3.8.2"
  }
 },
 "nbformat": 4,
 "nbformat_minor": 5
}
