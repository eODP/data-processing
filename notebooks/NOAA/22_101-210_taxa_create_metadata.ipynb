{
 "cells": [
  {
   "cell_type": "markdown",
   "id": "03e82fb8",
   "metadata": {},
   "source": [
    "# Create NOAA Janus IODP metadata\n",
    "## 101-210 taxa, 101-190 age\n",
    "\n",
    "Get basic metadata (file names, column names) about NOAA Janus IODP dataset. Create csv that lists all the files.\n",
    "\n",
    "NOAA/JanusIODP_paleo_agemodel  \n",
    "expedition 101-210 \n",
    "taxa 101-210, age models 101-190"
   ]
  },
  {
   "cell_type": "code",
   "execution_count": 2,
   "id": "5f73ddc3",
   "metadata": {},
   "outputs": [],
   "source": [
    "import sys\n",
    "sys.path.append('../../')\n",
    "import glob\n",
    "from pathlib import Path\n",
    "import os\n",
    "import re \n",
    "import pandas as pd\n",
    "import numpy as np\n",
    "import shutil\n",
    "\n",
    "from scripts.normalize_noaa_files import (\n",
    "    unique_filenames_for_paths,\n",
    "    unique_columns_for_paths,\n",
    "    filename_index,\n",
    "    format_filepaths_set,\n",
    "    qa_files_for_paths,\n",
    "    column_counts_for_paths\n",
    ")\n",
    "import scripts.space_delim as sd\n",
    "from config import OUTPUT_DIR, CLEAN_DATA_DIR, RAW_DATA_DIR\n"
   ]
  },
  {
   "cell_type": "code",
   "execution_count": 3,
   "id": "21d9579c",
   "metadata": {},
   "outputs": [],
   "source": [
    "base_dir = CLEAN_DATA_DIR\n",
    "data_dir = base_dir/'NOAA'/'JanusIODP_paleo_agemodel'\n",
    "metadata_path = OUTPUT_DIR/'metadata'/'NOAA'/'noaa_janus_iodp_files.csv'"
   ]
  },
  {
   "cell_type": "code",
   "execution_count": 4,
   "id": "a32242e0",
   "metadata": {},
   "outputs": [
    {
     "name": "stdout",
     "output_type": "stream",
     "text": [
      "files 2481\n"
     ]
    }
   ],
   "source": [
    "csv_paths = list(data_dir.glob(\"**/*.csv\"))\n",
    "csv_paths = [p for p in csv_paths if '.ipynb_checkpoints' not in str(p)]\n",
    "\n",
    "\n",
    "print('files', len(csv_paths))"
   ]
  },
  {
   "cell_type": "code",
   "execution_count": 5,
   "id": "a3871b7e",
   "metadata": {},
   "outputs": [
    {
     "name": "stdout",
     "output_type": "stream",
     "text": [
      "files 2045\n"
     ]
    }
   ],
   "source": [
    "taxa_csv_paths = list(data_dir.glob(\"paleontology/range_tables/**/*.csv\"))\n",
    "print('files', len(taxa_csv_paths))"
   ]
  },
  {
   "cell_type": "code",
   "execution_count": 6,
   "id": "b573f95c",
   "metadata": {},
   "outputs": [
    {
     "name": "stdout",
     "output_type": "stream",
     "text": [
      "files 436\n"
     ]
    }
   ],
   "source": [
    "age_csv_paths = list(data_dir.glob(\"paleontology/age_models/**/*.csv\"))\n",
    "print('files', len(age_csv_paths))"
   ]
  },
  {
   "cell_type": "markdown",
   "id": "1da620aa",
   "metadata": {},
   "source": [
    "## unique file names\n",
    "\n",
    "Get all the file names."
   ]
  },
  {
   "cell_type": "code",
   "execution_count": 6,
   "id": "2492c51e",
   "metadata": {},
   "outputs": [
    {
     "data": {
      "text/plain": [
       "{'Benthic Foraminifers.csv',\n",
       " 'Benthic_Foraminifers.csv',\n",
       " 'Bolboforms.csv',\n",
       " 'Diatoms.csv',\n",
       " 'Dinoflagellates_Acritarch_Prasinophytes.csv',\n",
       " 'Dinoflagellates_Acritarchs_Prasinophytes.csv',\n",
       " 'Macrofossils.csv',\n",
       " 'Miscellaneous.csv',\n",
       " 'Nannofossils .csv',\n",
       " 'Nannofossils.csv',\n",
       " 'Ostracodes.csv',\n",
       " 'Planktonic Foraminifers.csv',\n",
       " 'Planktonic_Foraminifers .csv',\n",
       " 'Planktonic_Foraminifers.csv',\n",
       " 'Pollen_Spores.csv',\n",
       " 'Pteropods.csv',\n",
       " 'Radiolarians.csv',\n",
       " 'Silicoflagellates_Ebridians_Actiniscidians.csv',\n",
       " 'Sponge_Spicules.csv',\n",
       " 'Trace_Fossils.csv'}"
      ]
     },
     "execution_count": 6,
     "metadata": {},
     "output_type": "execute_result"
    }
   ],
   "source": [
    "files = unique_filenames_for_paths(taxa_csv_paths)\n",
    "files"
   ]
  },
  {
   "cell_type": "code",
   "execution_count": 7,
   "id": "c42c1c96",
   "metadata": {},
   "outputs": [
    {
     "data": {
      "text/plain": [
       "20"
      ]
     },
     "execution_count": 7,
     "metadata": {},
     "output_type": "execute_result"
    }
   ],
   "source": [
    "len(files)"
   ]
  },
  {
   "cell_type": "code",
   "execution_count": 8,
   "id": "810ce778",
   "metadata": {},
   "outputs": [
    {
     "data": {
      "text/plain": [
       "{'Age_Model_Initial_Report.csv',\n",
       " 'Age_Model_Initial_Reports.csv',\n",
       " 'Age_Model_Post_Moratorium.csv',\n",
       " 'Age_Model_Shipboard.csv',\n",
       " 'Age_Model_Shipboard_Report.csv'}"
      ]
     },
     "execution_count": 8,
     "metadata": {},
     "output_type": "execute_result"
    }
   ],
   "source": [
    "unique_filenames_for_paths(age_csv_paths)"
   ]
  },
  {
   "cell_type": "markdown",
   "id": "d5fc5f3c",
   "metadata": {
    "tags": []
   },
   "source": [
    "## column names"
   ]
  },
  {
   "cell_type": "code",
   "execution_count": 9,
   "id": "037c6b33",
   "metadata": {},
   "outputs": [
    {
     "data": {
      "text/plain": [
       "12979"
      ]
     },
     "execution_count": 9,
     "metadata": {},
     "output_type": "execute_result"
    }
   ],
   "source": [
    "taxa_columns = unique_columns_for_paths(taxa_csv_paths)\n",
    "len(taxa_columns)"
   ]
  },
  {
   "cell_type": "markdown",
   "id": "b8af6c25-1440-4abc-b153-7641ff224199",
   "metadata": {},
   "source": [
    "manually get common columns"
   ]
  },
  {
   "cell_type": "code",
   "execution_count": 133,
   "id": "a1a5badc-c138-438c-8c7c-66ee3c7b5bd8",
   "metadata": {},
   "outputs": [],
   "source": [
    "all_cols = set()\n",
    "\n",
    "for path in taxa_csv_paths:\n",
    "    df = pd.read_csv(path)\n",
    "    df = df.dropna(axis=1, how='all')\n",
    "    df = df.dropna(axis=0, how='all')\n",
    "    \n",
    "    columns = list(df.columns)[0:15]\n",
    "    all_cols.update(columns)\n",
    "    "
   ]
  },
  {
   "cell_type": "code",
   "execution_count": 134,
   "id": "33e294ca-c70c-4a44-bf06-a29d9d7d0edc",
   "metadata": {},
   "outputs": [
    {
     "data": {
      "text/plain": [
       "62"
      ]
     },
     "execution_count": 134,
     "metadata": {},
     "output_type": "execute_result"
    }
   ],
   "source": [
    "len(all_cols)"
   ]
  },
  {
   "cell_type": "code",
   "execution_count": 138,
   "id": "6740f0b0-e18a-4b10-af40-a27b0ccd5873",
   "metadata": {},
   "outputs": [
    {
     "data": {
      "text/plain": [
       "19"
      ]
     },
     "execution_count": 138,
     "metadata": {},
     "output_type": "execute_result"
    }
   ],
   "source": [
    "common_cols = {\n",
    "    'Age From (oldest)',\n",
    "    'Age To (youngest)',\n",
    "    'Comment',\n",
    "    'Cor',\n",
    "    'Data',\n",
    "    'Depth (mbsf)',\n",
    "    'Fossil Group',\n",
    "    'Fossil Group                                 ',\n",
    "    'Group Abundance',\n",
    "    'Group Preservation',\n",
    "    'H',\n",
    "    'Leg',\n",
    "    'Sc',\n",
    "    'Scientist',\n",
    "    'Site',\n",
    "    'T',\n",
    "    'Top(cm)',\n",
    "    'Zone From (bottom)',\n",
    "    'Zone To  (top)'\n",
    "}\n",
    "len(common_cols)"
   ]
  },
  {
   "cell_type": "code",
   "execution_count": 139,
   "id": "9456beea-261b-440b-ab87-5f30d4430c71",
   "metadata": {},
   "outputs": [
    {
     "data": {
      "text/plain": [
       "set()"
      ]
     },
     "execution_count": 139,
     "metadata": {},
     "output_type": "execute_result"
    }
   ],
   "source": [
    "common_cols - all_cols "
   ]
  },
  {
   "cell_type": "code",
   "execution_count": 140,
   "id": "c2a4a58a-200c-4f41-ac46-8a64a0baf267",
   "metadata": {},
   "outputs": [
    {
     "data": {
      "text/plain": [
       "{'Antarctissa sp.',\n",
       " 'Biddulphia tuomeyi',\n",
       " 'Carpocanistrum sp.',\n",
       " 'Cibicidoides spp.',\n",
       " 'Globigerina quinqueloba',\n",
       " 'Globorotalia truncatulinoides',\n",
       " 'Helicosphaera carteri',\n",
       " 'Hemiaulus sp.',\n",
       " 'Larcopyle sp.',\n",
       " 'Monaxons taxa',\n",
       " 'Neogloboquadrina pachyderma',\n",
       " 'Nonionellina flemingi',\n",
       " 'Orbulina universa',\n",
       " 'Paralia sulcata',\n",
       " 'Patellina corrugata',\n",
       " 'Planktonics miscellaneous',\n",
       " 'Pseudoemiliania lacunosa',\n",
       " 'Rectuvigerina ongleyi',\n",
       " 'Reticulofenestra medium-sized',\n",
       " 'Reticulofenestra minutula',\n",
       " 'Reticulofenestra small-sized',\n",
       " 'Sigmoilopsis schlumbergeri',\n",
       " 'Sphaeroidinellopsis seminulina',\n",
       " 'Sphenolithus abies',\n",
       " 'Sphenolithus moriformis',\n",
       " 'Sponge spicules',\n",
       " 'Spongodiscus sp.',\n",
       " 'Stephanopyxis turris turris',\n",
       " 'Stylodictya sp.',\n",
       " 'Thalassiosira inura',\n",
       " 'Thalassiosira lentiginosa',\n",
       " 'Thalassiosira oestrupii',\n",
       " 'Thalassiosira spp.',\n",
       " 'Thalassiothrix longissima',\n",
       " 'Thecosphaera sp.',\n",
       " 'Thecosphaera sp. (small)',\n",
       " 'Triaxon taxa',\n",
       " 'Triceraspyris antarctica',\n",
       " 'Triceraspyris coronata',\n",
       " 'Trifarina angulosa',\n",
       " 'Uvigerina ongleyi',\n",
       " 'Uvigerina spp.',\n",
       " 'Xanthiopyxis ovalis'}"
      ]
     },
     "execution_count": 140,
     "metadata": {},
     "output_type": "execute_result"
    }
   ],
   "source": [
    "all_cols - common_cols"
   ]
  },
  {
   "cell_type": "markdown",
   "id": "6308222b-f796-4551-adb9-3f71b76b2741",
   "metadata": {},
   "source": [
    "## check if taxon groups in file matches taxon group in file name "
   ]
  },
  {
   "cell_type": "code",
   "execution_count": 85,
   "id": "84218259-66d9-4a17-b56b-39ce77b76479",
   "metadata": {},
   "outputs": [],
   "source": [
    "for path in taxa_csv_paths:\n",
    "    df = pd.read_csv(path)\n",
    "    df = df.dropna(axis=1, how='all')\n",
    "    df = df.dropna(axis=0, how='all')\n",
    "    \n",
    "    cols = [col.strip() for col in df.columns]\n",
    "    if 'Fossil Group' not in cols:\n",
    "        print(path)"
   ]
  },
  {
   "cell_type": "code",
   "execution_count": 104,
   "id": "107d7e30-9b0f-4978-a6d6-075fb6d65de6",
   "metadata": {},
   "outputs": [
    {
     "name": "stdout",
     "output_type": "stream",
     "text": [
      "../../output/cleaned_data/NOAA/JanusIODP_paleo_agemodel/paleontology/range_tables/159/959/HOLE_A/Silicoflagellates_Ebridians_Actiniscidians.csv\n",
      "Silicoflagellates Ebridians Actiniscidians - Planktonic Foraminifers \n",
      "\n",
      "../../output/cleaned_data/NOAA/JanusIODP_paleo_agemodel/paleontology/range_tables/167/1020/HOLE_A/Radiolarians.csv\n",
      "Radiolarians - Nannofossils\n",
      "files >> ['Nannofossils.csv', 'Radiolarians.csv'] \n",
      "\n",
      "../../output/cleaned_data/NOAA/JanusIODP_paleo_agemodel/paleontology/range_tables/210/1276/HOLE_A/Planktonic_Foraminifers.csv\n",
      "Planktonic Foraminifers - Benthic Foraminifers\n",
      "files >> ['Planktonic_Foraminifers.csv'] \n",
      "\n",
      "../../output/cleaned_data/NOAA/JanusIODP_paleo_agemodel/paleontology/range_tables/189/1170/HOLE_D/Nannofossils.csv\n",
      "Nannofossils - Dinoflagellates/Acritarchs/Prasinophytes\n",
      "files >> ['Nannofossils.csv', 'Benthic_Foraminifers.csv', 'Radiolarians.csv', 'Planktonic_Foraminifers.csv'] \n",
      "\n",
      "../../output/cleaned_data/NOAA/JanusIODP_paleo_agemodel/paleontology/range_tables/126/787/HOLE_B/Nannofossils.csv MULTIPLE {'Planktonic Foraminifers', 'Radiolarians', 'Nannofossils'}\n",
      "../../output/cleaned_data/NOAA/JanusIODP_paleo_agemodel/paleontology/range_tables/126/787/HOLE_B/Nannofossils.csv\n",
      "Nannofossils - Planktonic Foraminifers\n",
      "files >> ['Nannofossils.csv', 'Radiolarians.csv', 'Planktonic_Foraminifers.csv'] \n",
      "\n",
      "../../output/cleaned_data/NOAA/JanusIODP_paleo_agemodel/paleontology/range_tables/162/986/HOLE_D/Benthic_Foraminifers.csv\n",
      "Benthic Foraminifers - Planktonic Foraminifers\n",
      "files >> ['Benthic_Foraminifers.csv', 'Planktonic_Foraminifers.csv'] \n",
      "\n",
      "../../output/cleaned_data/NOAA/JanusIODP_paleo_agemodel/paleontology/range_tables/108/658/HOLE_B/Planktonic_Foraminifers.csv\n",
      "Planktonic Foraminifers - Pollen/Spores\n",
      "files >> ['Nannofossils.csv', 'Planktonic_Foraminifers.csv'] \n",
      "\n",
      "../../output/cleaned_data/NOAA/JanusIODP_paleo_agemodel/paleontology/range_tables/112/688/HOLE_A/Sponge_Spicules.csv\n",
      "Sponge Spicules - Silicoflagellates/Ebridians/Actiniscidians\n",
      "files >> ['Nannofossils.csv', 'Benthic_Foraminifers.csv', 'Radiolarians.csv', 'Sponge_Spicules.csv', 'Silicoflagellates_Ebridians_Actiniscidians.csv', 'Planktonic_Foraminifers.csv'] \n",
      "\n",
      "../../output/cleaned_data/NOAA/JanusIODP_paleo_agemodel/paleontology/range_tables/182/1131/HOLE_A/Nannofossils.csv MULTIPLE {'Planktonic Foraminifers', 'Benthic Foraminifers', 'Nannofossils'}\n",
      "../../output/cleaned_data/NOAA/JanusIODP_paleo_agemodel/paleontology/range_tables/182/1131/HOLE_A/Nannofossils.csv\n",
      "Nannofossils - Planktonic Foraminifers\n",
      "files >> ['Nannofossils.csv', 'Benthic_Foraminifers.csv', 'Planktonic_Foraminifers.csv'] \n",
      "\n",
      "../../output/cleaned_data/NOAA/JanusIODP_paleo_agemodel/paleontology/range_tables/182/1128/HOLE_A/Nannofossils.csv\n",
      "Nannofossils - Planktonic Foraminifers\n",
      "files >> ['Nannofossils.csv', 'Planktonic_Foraminifers.csv'] \n",
      "\n"
     ]
    }
   ],
   "source": [
    "for path in taxa_csv_paths:\n",
    "    df = pd.read_csv(path)\n",
    "    df = df.dropna(axis=1, how='all')\n",
    "    df = df.dropna(axis=0, how='all')\n",
    "    \n",
    "    df.columns = [col.strip() for col in df.columns]\n",
    "    \n",
    "    file_name_group = path.name.replace('.csv', '').replace('_', ' ').strip()\n",
    "    file_data_groups = set([group.strip() for group in df['Fossil Group']])\n",
    "    \n",
    "    if len(file_data_groups) > 1:\n",
    "        print(path, 'MULTIPLE', file_data_groups)\n",
    "        \n",
    "    if path.name == 'Dinoflagellates_Acritarch_Prasinophytes.csv':\n",
    "        if list(file_data_groups)[0] != 'Dinoflagellates/Acritarchs/Prasinophytes':\n",
    "            print(path)\n",
    "            print(file_name_group, '-', list(file_data_groups)[0], '\\n')\n",
    "    elif path.name == 'Dinoflagellates_Acritarchs_Prasinophytes.csv':\n",
    "        if list(file_data_groups)[0] != 'Dinoflagellates/Acritarchs/Prasinophytes':\n",
    "            print(path)\n",
    "            print(file_name_group, '-', list(file_data_groups)[0], '\\n')\n",
    "    elif path.name == 'Silicoflagellates_Ebridians_Actiniscidians.csv':\n",
    "        if list(file_data_groups)[0] != 'Silicoflagellates/Ebridians/Actiniscidians':\n",
    "            print(path)\n",
    "            print(file_name_group, '-', list(file_data_groups)[0], '\\n')\n",
    "    elif path.name == 'Pollen_Spores.csv':\n",
    "        if list(file_data_groups)[0] != 'Pollen/Spores':\n",
    "            print(path)\n",
    "            print(file_name_group, '-', list(file_data_groups)[0], '\\n')\n",
    "                  \n",
    "    elif file_name_group != list(file_data_groups)[0]:\n",
    "        print(path)\n",
    "        print(file_name_group, '-', list(file_data_groups)[0])\n",
    "        print('files >>', [foo.name for foo in list(Path.glob(path.parent, '**/*.csv'))], '\\n')\n"
   ]
  },
  {
   "cell_type": "markdown",
   "id": "e80f1b9b",
   "metadata": {},
   "source": [
    "## create metdata file list\n",
    "\n",
    "Create csv that lists all the files for this dataset."
   ]
  },
  {
   "cell_type": "code",
   "execution_count": 114,
   "id": "dc25306e-ad94-48b5-b01c-60b5b8825cb8",
   "metadata": {},
   "outputs": [
    {
     "data": {
      "text/plain": [
       "{'Benthic Foraminifers',\n",
       " 'Bolboforms',\n",
       " 'Diatoms',\n",
       " 'Dinoflagellates/Acritarchs/Prasinophytes',\n",
       " 'Macrofossils',\n",
       " 'Miscellaneous',\n",
       " 'Nannofossils',\n",
       " 'Ostracodes',\n",
       " 'Planktonic Foraminifers',\n",
       " 'Pollen/Spores',\n",
       " 'Pteropods',\n",
       " 'Radiolarians',\n",
       " 'Silicoflagellates/Ebridians/Actiniscidians',\n",
       " 'Sponge Spicules',\n",
       " 'Trace Fossils'}"
      ]
     },
     "execution_count": 114,
     "metadata": {},
     "output_type": "execute_result"
    }
   ],
   "source": [
    "groups = set()\n",
    "\n",
    "for path in csv_paths:\n",
    "    relative_path = path.relative_to(base_dir)\n",
    "    filename = relative_path.name \n",
    "        \n",
    "    if filename.startswith('Age_'):\n",
    "        pass\n",
    "    else:\n",
    "\n",
    "        df = pd.read_csv(path)\n",
    "        df = df.dropna(axis=1, how='all')\n",
    "        df = df.dropna(axis=0, how='all')\n",
    "        \n",
    "        df.columns = [col.strip() for col in df.columns]\n",
    "\n",
    "        groups.update(list(df['Fossil Group'].str.strip()))\n",
    "    \n",
    "\n",
    "groups     "
   ]
  },
  {
   "cell_type": "code",
   "execution_count": 116,
   "id": "7c387016-0a9e-4293-bdb5-8234873afdf9",
   "metadata": {},
   "outputs": [],
   "source": [
    "taxon_group_normalize = {\n",
    "    'Benthic Foraminifers': 'benthic_forams',\n",
    "    'Bolboforms': 'bolboformids',\n",
    "    'Diatoms': 'diatoms',\n",
    "    'Dinoflagellates/Acritarchs/Prasinophytes': 'Dinoflagellates/Acritarchs/Prasinophytes',\n",
    "    'Macrofossils': 'macrofossils',\n",
    "    'Miscellaneous': 'miscellaneous',\n",
    "    'Nannofossils': 'nannofossils',\n",
    "    'Ostracodes': 'ostracods',\n",
    "    'Planktonic Foraminifers': 'planktic_forams',\n",
    "    'Pollen/Spores': 'Pollen/Spores',\n",
    "    'Pteropods': 'pteropods',\n",
    "    'Radiolarians': 'radiolarians',\n",
    "    'Silicoflagellates/Ebridians/Actiniscidians': 'Silicoflagellates/Ebridians/Actiniscidians',\n",
    "    'Sponge Spicules': 'sponge_spicules',\n",
    "    'Trace Fossils': 'trace_fossils'\n",
    "}\n",
    "\n"
   ]
  },
  {
   "cell_type": "code",
   "execution_count": 125,
   "id": "d6b57920",
   "metadata": {},
   "outputs": [],
   "source": [
    "file_list = []\n",
    "\n",
    "\n",
    "\n",
    "for path in csv_paths:\n",
    "    file_data = {}\n",
    "    relative_path = path.relative_to(base_dir)\n",
    "    path_parts = relative_path.parts\n",
    "    filename = relative_path.name \n",
    "    \n",
    "    file_data['path'] = relative_path\n",
    "    \n",
    "    if filename.startswith('Age_'):\n",
    "        type = 'age'\n",
    "    else:\n",
    "        type = 'taxa'\n",
    "    file_data['type'] = type\n",
    "    \n",
    "    if type == 'taxa':\n",
    "        \n",
    "        df = pd.read_csv(path)\n",
    "        df = df.dropna(axis=1, how='all')\n",
    "        df = df.dropna(axis=0, how='all')\n",
    "        \n",
    "        df.columns = [col.strip() for col in df.columns]\n",
    "\n",
    "        # get all fossil groups\n",
    "        file_data_groups = set([group.strip() for group in df['Fossil Group']])\n",
    "\n",
    "        # get taxon group from file name        \n",
    "        if len(file_data_groups) > 1:\n",
    "            file_data['taxon_group'] = taxon_group_normalize[relative_path.stem]\n",
    "        else:\n",
    "            file_data['taxon_group'] = taxon_group_normalize[list(file_data_groups)[0].strip()]\n",
    "    \n",
    "    file_data['expedition'] = path_parts[4]\n",
    "    file_data['site'] = path_parts[5]\n",
    "\n",
    "    \n",
    "    file_list.append(file_data)\n",
    " "
   ]
  },
  {
   "cell_type": "code",
   "execution_count": 126,
   "id": "0d1e5d3f",
   "metadata": {},
   "outputs": [
    {
     "data": {
      "text/html": [
       "<div>\n",
       "<style scoped>\n",
       "    .dataframe tbody tr th:only-of-type {\n",
       "        vertical-align: middle;\n",
       "    }\n",
       "\n",
       "    .dataframe tbody tr th {\n",
       "        vertical-align: top;\n",
       "    }\n",
       "\n",
       "    .dataframe thead th {\n",
       "        text-align: right;\n",
       "    }\n",
       "</style>\n",
       "<table border=\"1\" class=\"dataframe\">\n",
       "  <thead>\n",
       "    <tr style=\"text-align: right;\">\n",
       "      <th></th>\n",
       "      <th>path</th>\n",
       "      <th>type</th>\n",
       "      <th>expedition</th>\n",
       "      <th>site</th>\n",
       "      <th>taxon_group</th>\n",
       "    </tr>\n",
       "  </thead>\n",
       "  <tbody>\n",
       "    <tr>\n",
       "      <th>1868</th>\n",
       "      <td>NOAA/JanusIODP_paleo_agemodel/paleontology/ran...</td>\n",
       "      <td>taxa</td>\n",
       "      <td>101</td>\n",
       "      <td>626</td>\n",
       "      <td>benthic_forams</td>\n",
       "    </tr>\n",
       "    <tr>\n",
       "      <th>1871</th>\n",
       "      <td>NOAA/JanusIODP_paleo_agemodel/paleontology/ran...</td>\n",
       "      <td>taxa</td>\n",
       "      <td>101</td>\n",
       "      <td>626</td>\n",
       "      <td>benthic_forams</td>\n",
       "    </tr>\n",
       "    <tr>\n",
       "      <th>1867</th>\n",
       "      <td>NOAA/JanusIODP_paleo_agemodel/paleontology/ran...</td>\n",
       "      <td>taxa</td>\n",
       "      <td>101</td>\n",
       "      <td>626</td>\n",
       "      <td>nannofossils</td>\n",
       "    </tr>\n",
       "    <tr>\n",
       "      <th>1870</th>\n",
       "      <td>NOAA/JanusIODP_paleo_agemodel/paleontology/ran...</td>\n",
       "      <td>taxa</td>\n",
       "      <td>101</td>\n",
       "      <td>626</td>\n",
       "      <td>nannofossils</td>\n",
       "    </tr>\n",
       "    <tr>\n",
       "      <th>1869</th>\n",
       "      <td>NOAA/JanusIODP_paleo_agemodel/paleontology/ran...</td>\n",
       "      <td>taxa</td>\n",
       "      <td>101</td>\n",
       "      <td>626</td>\n",
       "      <td>planktic_forams</td>\n",
       "    </tr>\n",
       "  </tbody>\n",
       "</table>\n",
       "</div>"
      ],
      "text/plain": [
       "                                                   path  type expedition site  \\\n",
       "1868  NOAA/JanusIODP_paleo_agemodel/paleontology/ran...  taxa        101  626   \n",
       "1871  NOAA/JanusIODP_paleo_agemodel/paleontology/ran...  taxa        101  626   \n",
       "1867  NOAA/JanusIODP_paleo_agemodel/paleontology/ran...  taxa        101  626   \n",
       "1870  NOAA/JanusIODP_paleo_agemodel/paleontology/ran...  taxa        101  626   \n",
       "1869  NOAA/JanusIODP_paleo_agemodel/paleontology/ran...  taxa        101  626   \n",
       "\n",
       "          taxon_group  \n",
       "1868   benthic_forams  \n",
       "1871   benthic_forams  \n",
       "1867     nannofossils  \n",
       "1870     nannofossils  \n",
       "1869  planktic_forams  "
      ]
     },
     "execution_count": 126,
     "metadata": {},
     "output_type": "execute_result"
    }
   ],
   "source": [
    "df = pd.DataFrame(file_list)\n",
    "df = df.sort_values(by=['expedition', 'site', 'type', 'taxon_group'])\n",
    "df.head()"
   ]
  },
  {
   "cell_type": "code",
   "execution_count": 132,
   "id": "d48aa66f",
   "metadata": {},
   "outputs": [
    {
     "data": {
      "text/plain": [
       "{'Dinoflagellates/Acritarchs/Prasinophytes',\n",
       " 'Pollen/Spores',\n",
       " 'Silicoflagellates/Ebridians/Actiniscidians',\n",
       " 'benthic_forams',\n",
       " 'bolboformids',\n",
       " 'diatoms',\n",
       " 'macrofossils',\n",
       " 'miscellaneous',\n",
       " 'nannofossils',\n",
       " 'ostracods',\n",
       " 'planktic_forams',\n",
       " 'pteropods',\n",
       " 'radiolarians',\n",
       " 'sponge_spicules',\n",
       " 'trace_fossils'}"
      ]
     },
     "execution_count": 132,
     "metadata": {},
     "output_type": "execute_result"
    }
   ],
   "source": [
    "set(df[df['type'] == 'taxa']['taxon_group'])"
   ]
  },
  {
   "cell_type": "code",
   "execution_count": 130,
   "id": "50bea5c2",
   "metadata": {},
   "outputs": [],
   "source": [
    "df.to_csv(metadata_path, index=False)"
   ]
  },
  {
   "cell_type": "code",
   "execution_count": null,
   "id": "aa152889-4276-4f6c-bb34-5cbe7c787c50",
   "metadata": {},
   "outputs": [],
   "source": []
  }
 ],
 "metadata": {
  "kernelspec": {
   "display_name": "Python 3 (ipykernel)",
   "language": "python",
   "name": "python3"
  },
  "language_info": {
   "codemirror_mode": {
    "name": "ipython",
    "version": 3
   },
   "file_extension": ".py",
   "mimetype": "text/x-python",
   "name": "python",
   "nbconvert_exporter": "python",
   "pygments_lexer": "ipython3",
   "version": "3.8.2"
  }
 },
 "nbformat": 4,
 "nbformat_minor": 5
}
