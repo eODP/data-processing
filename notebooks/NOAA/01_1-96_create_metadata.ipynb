{
 "cells": [
  {
   "cell_type": "markdown",
   "id": "b62b596b",
   "metadata": {},
   "source": [
    "# create metadata NOAA DSDP files\n",
    "## 1-96 taxa, lithology, age, hard rocks\n",
    "\n",
    "Get basic metadata (file names, column names) about NOAA DSDP dataset. Create csv that lists all the files.\n",
    "\n",
    "NOAA_csv/DSDP_core_data  \n",
    "expedition 1-96  \n",
    "taxa, lithology, age models, hard rocks"
   ]
  },
  {
   "cell_type": "code",
   "execution_count": 1,
   "id": "1e5d14e8",
   "metadata": {},
   "outputs": [],
   "source": [
    "import sys\n",
    "sys.path.append('../../')\n",
    "import glob\n",
    "from pathlib import Path\n",
    "import os\n",
    "\n",
    "import pandas as pd\n",
    "import numpy as np\n",
    "\n",
    "from scripts.normalize_noaa_files import (\n",
    "    unique_filenames_for_paths,\n",
    "    unique_columns_for_paths,\n",
    "    filename_index,\n",
    "    format_filepaths_set\n",
    ")\n",
    "from config import OUTPUT_DIR, CLEAN_DATA_DIR"
   ]
  },
  {
   "cell_type": "code",
   "execution_count": 2,
   "id": "3cad0edd",
   "metadata": {},
   "outputs": [],
   "source": [
    "base_dir = CLEAN_DATA_DIR\n",
    "data_dir = base_dir/'NOAA'/'DSDP_core_data'\n",
    "metadata_path = OUTPUT_DIR/'metadata'/'NOAA'/'noaa_dsdp_files.csv'"
   ]
  },
  {
   "cell_type": "code",
   "execution_count": 18,
   "id": "015a34ab",
   "metadata": {},
   "outputs": [
    {
     "name": "stdout",
     "output_type": "stream",
     "text": [
      "files 4477\n"
     ]
    }
   ],
   "source": [
    "csv_paths = list(data_dir.glob(\"**/*.csv\"))\n",
    "csv_paths = [p for p in csv_paths if '.ipynb_checkpoints' not in str(p)]\n",
    "print('files', len(csv_paths))"
   ]
  },
  {
   "cell_type": "code",
   "execution_count": 22,
   "id": "0b5309ef-8b76-4580-9300-8385a1c6b8e1",
   "metadata": {},
   "outputs": [
    {
     "name": "stdout",
     "output_type": "stream",
     "text": [
      "files 2093\n"
     ]
    }
   ],
   "source": [
    "taxa_csv_paths = [p for p in csv_paths if p.name not in ['ageprof.csv', 'hr_desc.csv','vistxt.csv']]\n",
    "print('files', len(taxa_csv_paths))"
   ]
  },
  {
   "cell_type": "markdown",
   "id": "681235a1",
   "metadata": {},
   "source": [
    "## unique file names\n",
    "\n",
    "Get all the file names."
   ]
  },
  {
   "cell_type": "code",
   "execution_count": 11,
   "id": "8778f449",
   "metadata": {},
   "outputs": [
    {
     "data": {
      "text/plain": [
       "{'ageprof.csv',\n",
       " 'b_forams.csv',\n",
       " 'diatoms.csv',\n",
       " 'dinoflag.csv',\n",
       " 'ebri_act.csv',\n",
       " 'hr_desc.csv',\n",
       " 'nannos.csv',\n",
       " 'ostracod.csv',\n",
       " 'p_forams.csv',\n",
       " 'phyliths.csv',\n",
       " 'pollen.csv',\n",
       " 'radiolar.csv',\n",
       " 'siliflag.csv',\n",
       " 'vistxt.csv'}"
      ]
     },
     "execution_count": 11,
     "metadata": {},
     "output_type": "execute_result"
    }
   ],
   "source": [
    "unique_filenames_for_paths(csv_paths)"
   ]
  },
  {
   "cell_type": "markdown",
   "id": "f0d00886-589a-402e-8a16-5e2c530c619c",
   "metadata": {},
   "source": [
    "## check if taxon groups in file matches taxon group in file name "
   ]
  },
  {
   "cell_type": "code",
   "execution_count": 30,
   "id": "c0ee57dc-0e04-49b1-92b5-106f60223fc8",
   "metadata": {},
   "outputs": [
    {
     "data": {
      "text/plain": [
       "{'benthic_forams',\n",
       " 'bolboformids',\n",
       " 'chrysophyte_cysts',\n",
       " 'diatoms',\n",
       " 'dinoflagellates',\n",
       " 'ebridians',\n",
       " 'nannofossils',\n",
       " 'ostracods',\n",
       " 'other',\n",
       " 'palynology',\n",
       " 'planktic_forams',\n",
       " 'radiolarians',\n",
       " 'silicoflagellates'}"
      ]
     },
     "execution_count": 30,
     "metadata": {},
     "output_type": "execute_result"
    }
   ],
   "source": [
    "lims_metadata_file = OUTPUT_DIR/'metadata'/'LIMS'/'Micropal_changes.csv' \n",
    "metadata = pd.read_csv(lims_metadata_file)\n",
    "set(metadata['taxon_groups'])\n"
   ]
  },
  {
   "cell_type": "code",
   "execution_count": 26,
   "id": "407d7189-1653-4788-9dd1-b686947e0914",
   "metadata": {},
   "outputs": [
    {
     "data": {
      "text/plain": [
       "{'BENTHIC FORAMINIFERA',\n",
       " 'DIATOMS',\n",
       " 'DINOFLAGELLATES',\n",
       " 'EBRIDIANS & ACTINICIDIANS',\n",
       " 'NANNOFOSSILS',\n",
       " 'OSTRACODES',\n",
       " 'PHYTOLITHARIA',\n",
       " 'PLANKTONIC FORAMINIFERA',\n",
       " 'POLLEN AND SPORES',\n",
       " 'RADIOLARIA',\n",
       " 'SILICOFLAGELLATES'}"
      ]
     },
     "execution_count": 26,
     "metadata": {},
     "output_type": "execute_result"
    }
   ],
   "source": [
    "groups = set()\n",
    "\n",
    "for path in taxa_csv_paths:\n",
    "    df = pd.read_csv(path)\n",
    "    df = df.dropna(axis=1, how='all')\n",
    "    df = df.dropna(axis=0, how='all')\n",
    "    \n",
    "    cols = [col.strip() for col in df.columns]\n",
    "    if 'fossil group' not in cols:\n",
    "        print(path)\n",
    "    else:\n",
    "        groups.update(df['fossil group' ])\n",
    "        \n",
    "groups"
   ]
  },
  {
   "cell_type": "code",
   "execution_count": 35,
   "id": "4d263884-3810-4c19-aa54-5f1bacf6ef96",
   "metadata": {},
   "outputs": [],
   "source": [
    "taxon_groups_file_data = {\n",
    " 'b_forams.csv': 'BENTHIC FORAMINIFERA',\n",
    " 'diatoms.csv': 'DIATOMS',\n",
    " 'dinoflag.csv': 'DINOFLAGELLATES',\n",
    " 'ebri_act.csv': 'EBRIDIANS & ACTINICIDIANS',\n",
    " 'nannos.csv': 'NANNOFOSSILS',\n",
    " 'ostracod.csv': 'OSTRACODES',\n",
    " 'p_forams.csv': 'PLANKTONIC FORAMINIFERA',\n",
    " 'phyliths.csv': 'PHYTOLITHARIA',\n",
    " 'pollen.csv': 'POLLEN AND SPORES',\n",
    " 'radiolar.csv': 'RADIOLARIA',\n",
    " 'siliflag.csv': 'SILICOFLAGELLATES',\n",
    "}\n"
   ]
  },
  {
   "cell_type": "code",
   "execution_count": 39,
   "id": "5b5b9181-26c5-4e32-8a19-576331371b16",
   "metadata": {},
   "outputs": [],
   "source": [
    "for path in taxa_csv_paths:\n",
    "    df = pd.read_csv(path)\n",
    "    df = df.dropna(axis=1, how='all')\n",
    "    df = df.dropna(axis=0, how='all')\n",
    "    \n",
    "    df.columns = [col.strip() for col in df.columns]\n",
    "    \n",
    "    file_name_group = taxon_groups_file_data[path.name]\n",
    "    file_data_groups = set([group.strip() for group in df['fossil group']])\n",
    "    \n",
    "    if len(file_data_groups) > 1:\n",
    "        print(path, 'MULTIPLE', file_data_groups)\n",
    "\n",
    "    elif file_name_group != list(file_data_groups)[0]:\n",
    "        print(path)\n",
    "        print(file_name_group, '-', list(file_data_groups)[0])\n",
    "\n"
   ]
  },
  {
   "cell_type": "markdown",
   "id": "f88401ca",
   "metadata": {},
   "source": [
    "##  create file list metadata\n",
    "Create csv that lists all the files for this dataset."
   ]
  },
  {
   "cell_type": "code",
   "execution_count": null,
   "id": "caa3cf1c-ecf3-431a-a634-35222ef64f6f",
   "metadata": {},
   "outputs": [],
   "source": [
    "taxon_groups_convert = {\n",
    " 'b_forams.csv': 'benthic_forams',\n",
    " 'diatoms.csv': 'diatoms',\n",
    " 'dinoflag.csv': 'dinoflagellates',\n",
    " 'ebri_act.csv': 'Ebridians and Actinicidians',\n",
    " 'nannos.csv': 'nannofossils',\n",
    " 'ostracod.csv': 'ostracods',\n",
    " 'p_forams.csv': 'planktic_forams',\n",
    " 'phyliths.csv': 'phytolitharia',\n",
    " 'pollen.csv': 'Pollen and Spores',\n",
    " 'radiolar.csv': 'radiolarians',\n",
    " 'siliflag.csv': 'silicoflagellates',\n",
    "}\n",
    "\n"
   ]
  },
  {
   "cell_type": "code",
   "execution_count": 40,
   "id": "0833eb5b",
   "metadata": {},
   "outputs": [],
   "source": [
    "file_list = []\n",
    "\n",
    "\n",
    "for path in csv_paths:\n",
    "    if '.ipynb_checkpoints' in str(path):\n",
    "        continue\n",
    "        \n",
    "    file_data = {}\n",
    "    relative_path = path.relative_to(base_dir)\n",
    "    path_parts = relative_path.parts\n",
    "    filename = relative_path.name\n",
    "    \n",
    "    file_data['path'] = relative_path\n",
    "    \n",
    "    if filename == 'vistxt.csv':\n",
    "        type = 'lithology'\n",
    "    elif filename == 'ageprof.csv':\n",
    "        type = 'age'\n",
    "    elif filename == 'hr_desc.csv':\n",
    "        type = 'hard_rock'\n",
    "    else:\n",
    "        type = 'taxa'\n",
    "    file_data['type'] = type\n",
    "        \n",
    "    if type == 'taxa':\n",
    "        file_data['taxon_group'] = taxon_groups_convert[filename]\n",
    "    \n",
    "    file_data['expedition'] =  path_parts[2]\n",
    "    file_data['site'] =  path_parts[3]\n",
    "\n",
    "    file_list.append(file_data)"
   ]
  },
  {
   "cell_type": "code",
   "execution_count": 41,
   "id": "5eed96f0",
   "metadata": {},
   "outputs": [
    {
     "data": {
      "text/html": [
       "<div>\n",
       "<style scoped>\n",
       "    .dataframe tbody tr th:only-of-type {\n",
       "        vertical-align: middle;\n",
       "    }\n",
       "\n",
       "    .dataframe tbody tr th {\n",
       "        vertical-align: top;\n",
       "    }\n",
       "\n",
       "    .dataframe thead th {\n",
       "        text-align: right;\n",
       "    }\n",
       "</style>\n",
       "<table border=\"1\" class=\"dataframe\">\n",
       "  <thead>\n",
       "    <tr style=\"text-align: right;\">\n",
       "      <th></th>\n",
       "      <th>path</th>\n",
       "      <th>type</th>\n",
       "      <th>taxon_group</th>\n",
       "      <th>expedition</th>\n",
       "      <th>site</th>\n",
       "    </tr>\n",
       "  </thead>\n",
       "  <tbody>\n",
       "    <tr>\n",
       "      <th>0</th>\n",
       "      <td>NOAA/DSDP_core_data/61/462/radiolar.csv</td>\n",
       "      <td>taxa</td>\n",
       "      <td>radiolarians</td>\n",
       "      <td>61</td>\n",
       "      <td>462</td>\n",
       "    </tr>\n",
       "    <tr>\n",
       "      <th>1</th>\n",
       "      <td>NOAA/DSDP_core_data/61/462/ageprof.csv</td>\n",
       "      <td>age</td>\n",
       "      <td>NaN</td>\n",
       "      <td>61</td>\n",
       "      <td>462</td>\n",
       "    </tr>\n",
       "    <tr>\n",
       "      <th>2</th>\n",
       "      <td>NOAA/DSDP_core_data/61/462/b_forams.csv</td>\n",
       "      <td>taxa</td>\n",
       "      <td>benthic_forams</td>\n",
       "      <td>61</td>\n",
       "      <td>462</td>\n",
       "    </tr>\n",
       "    <tr>\n",
       "      <th>3</th>\n",
       "      <td>NOAA/DSDP_core_data/61/462/p_forams.csv</td>\n",
       "      <td>taxa</td>\n",
       "      <td>planktic_forams</td>\n",
       "      <td>61</td>\n",
       "      <td>462</td>\n",
       "    </tr>\n",
       "    <tr>\n",
       "      <th>4</th>\n",
       "      <td>NOAA/DSDP_core_data/61/462/hr_desc.csv</td>\n",
       "      <td>hard_rock</td>\n",
       "      <td>NaN</td>\n",
       "      <td>61</td>\n",
       "      <td>462</td>\n",
       "    </tr>\n",
       "  </tbody>\n",
       "</table>\n",
       "</div>"
      ],
      "text/plain": [
       "                                      path       type      taxon_group  \\\n",
       "0  NOAA/DSDP_core_data/61/462/radiolar.csv       taxa     radiolarians   \n",
       "1   NOAA/DSDP_core_data/61/462/ageprof.csv        age              NaN   \n",
       "2  NOAA/DSDP_core_data/61/462/b_forams.csv       taxa   benthic_forams   \n",
       "3  NOAA/DSDP_core_data/61/462/p_forams.csv       taxa  planktic_forams   \n",
       "4   NOAA/DSDP_core_data/61/462/hr_desc.csv  hard_rock              NaN   \n",
       "\n",
       "  expedition site  \n",
       "0         61  462  \n",
       "1         61  462  \n",
       "2         61  462  \n",
       "3         61  462  \n",
       "4         61  462  "
      ]
     },
     "execution_count": 41,
     "metadata": {},
     "output_type": "execute_result"
    }
   ],
   "source": [
    "df = pd.DataFrame(file_list)\n",
    "df.head()"
   ]
  },
  {
   "cell_type": "code",
   "execution_count": 42,
   "id": "ca3d0f27",
   "metadata": {},
   "outputs": [],
   "source": [
    "df.to_csv(metadata_path, index=False)"
   ]
  },
  {
   "cell_type": "markdown",
   "id": "7524001c",
   "metadata": {},
   "source": [
    "## create grouped file list metadata\n",
    "\n",
    "create list of files grouped by expedition and file type"
   ]
  },
  {
   "cell_type": "code",
   "execution_count": 8,
   "id": "de6c3ccc",
   "metadata": {},
   "outputs": [],
   "source": [
    "contents = {}\n",
    "\n",
    "for path in csv_paths:\n",
    "    relative_path = path.relative_to(base_dir)\n",
    "    parts = relative_path.parts\n",
    "    filename = relative_path.name\n",
    "    exp = parts[2]\n",
    "     \n",
    "    if exp not in contents:\n",
    "        contents[exp] = {'taxa': set(), 'lithology': set(), 'age_model': set(), 'hard_rock': set()}\n",
    "        \n",
    "    if filename == 'vistxt.csv':\n",
    "        contents[exp]['lithology'].add(filename)\n",
    "    elif filename == 'ageprof.csv':\n",
    "        contents[exp]['age_model'].add(filename)\n",
    "    elif filename == 'hr_desc.csv':\n",
    "        contents[exp]['hard_rock'].add(filename)\n",
    "    else:\n",
    "        contents[exp]['taxa'].add(filename)\n"
   ]
  },
  {
   "cell_type": "code",
   "execution_count": 9,
   "id": "b309d392",
   "metadata": {},
   "outputs": [],
   "source": [
    "file_list = []\n",
    "\n",
    "for exp in contents.items():\n",
    "    file_data = {}\n",
    "    file_data['expedition'] = exp[0]\n",
    "    file_data['taxa'] = format_filepaths_set(exp[1], 'taxa')\n",
    "    file_data['age_model'] = format_filepaths_set(exp[1], 'age_model')\n",
    "    file_data['lithology'] = format_filepaths_set(exp[1], 'lithology')\n",
    "    file_data['hard_rock'] = format_filepaths_set(exp[1], 'hard_rock')\n",
    "\n",
    "    file_list.append(file_data)"
   ]
  },
  {
   "cell_type": "code",
   "execution_count": 10,
   "id": "90bc761e",
   "metadata": {},
   "outputs": [
    {
     "data": {
      "text/html": [
       "<div>\n",
       "<style scoped>\n",
       "    .dataframe tbody tr th:only-of-type {\n",
       "        vertical-align: middle;\n",
       "    }\n",
       "\n",
       "    .dataframe tbody tr th {\n",
       "        vertical-align: top;\n",
       "    }\n",
       "\n",
       "    .dataframe thead th {\n",
       "        text-align: right;\n",
       "    }\n",
       "</style>\n",
       "<table border=\"1\" class=\"dataframe\">\n",
       "  <thead>\n",
       "    <tr style=\"text-align: right;\">\n",
       "      <th></th>\n",
       "      <th>expedition</th>\n",
       "      <th>taxa</th>\n",
       "      <th>age_model</th>\n",
       "      <th>lithology</th>\n",
       "      <th>hard_rock</th>\n",
       "    </tr>\n",
       "  </thead>\n",
       "  <tbody>\n",
       "    <tr>\n",
       "      <th>0</th>\n",
       "      <td>61</td>\n",
       "      <td>nannos.csv,p_forams.csv,radiolar.csv,b_forams.csv</td>\n",
       "      <td>ageprof.csv</td>\n",
       "      <td>vistxt.csv</td>\n",
       "      <td>hr_desc.csv</td>\n",
       "    </tr>\n",
       "    <tr>\n",
       "      <th>1</th>\n",
       "      <td>95</td>\n",
       "      <td>diatoms.csv,nannos.csv,radiolar.csv,ostracod.c...</td>\n",
       "      <td>ageprof.csv</td>\n",
       "      <td>vistxt.csv</td>\n",
       "      <td></td>\n",
       "    </tr>\n",
       "    <tr>\n",
       "      <th>2</th>\n",
       "      <td>59</td>\n",
       "      <td>p_forams.csv,diatoms.csv,nannos.csv,radiolar.c...</td>\n",
       "      <td>ageprof.csv</td>\n",
       "      <td>vistxt.csv</td>\n",
       "      <td>hr_desc.csv</td>\n",
       "    </tr>\n",
       "    <tr>\n",
       "      <th>3</th>\n",
       "      <td>92</td>\n",
       "      <td>nannos.csv,p_forams.csv</td>\n",
       "      <td>ageprof.csv</td>\n",
       "      <td>vistxt.csv</td>\n",
       "      <td>hr_desc.csv</td>\n",
       "    </tr>\n",
       "    <tr>\n",
       "      <th>4</th>\n",
       "      <td>66</td>\n",
       "      <td>nannos.csv,radiolar.csv</td>\n",
       "      <td>ageprof.csv</td>\n",
       "      <td>vistxt.csv</td>\n",
       "      <td>hr_desc.csv</td>\n",
       "    </tr>\n",
       "  </tbody>\n",
       "</table>\n",
       "</div>"
      ],
      "text/plain": [
       "  expedition                                               taxa    age_model  \\\n",
       "0         61  nannos.csv,p_forams.csv,radiolar.csv,b_forams.csv  ageprof.csv   \n",
       "1         95  diatoms.csv,nannos.csv,radiolar.csv,ostracod.c...  ageprof.csv   \n",
       "2         59  p_forams.csv,diatoms.csv,nannos.csv,radiolar.c...  ageprof.csv   \n",
       "3         92                            nannos.csv,p_forams.csv  ageprof.csv   \n",
       "4         66                            nannos.csv,radiolar.csv  ageprof.csv   \n",
       "\n",
       "    lithology    hard_rock  \n",
       "0  vistxt.csv  hr_desc.csv  \n",
       "1  vistxt.csv               \n",
       "2  vistxt.csv  hr_desc.csv  \n",
       "3  vistxt.csv  hr_desc.csv  \n",
       "4  vistxt.csv  hr_desc.csv  "
      ]
     },
     "execution_count": 10,
     "metadata": {},
     "output_type": "execute_result"
    }
   ],
   "source": [
    "df = pd.DataFrame(file_list)\n",
    "df.head()"
   ]
  },
  {
   "cell_type": "code",
   "execution_count": 11,
   "id": "d7841d7f",
   "metadata": {},
   "outputs": [],
   "source": [
    "path = OUTPUT_DIR/'tmp'/'noaa_dsdp_grouped_files.csv'\n",
    "df.to_csv(path, index=False)"
   ]
  },
  {
   "cell_type": "code",
   "execution_count": null,
   "id": "fb34d71f",
   "metadata": {},
   "outputs": [],
   "source": []
  },
  {
   "cell_type": "code",
   "execution_count": null,
   "id": "e522f9cc-7aee-41b2-aada-58129880713c",
   "metadata": {},
   "outputs": [],
   "source": []
  }
 ],
 "metadata": {
  "kernelspec": {
   "display_name": "Python 3 (ipykernel)",
   "language": "python",
   "name": "python3"
  },
  "language_info": {
   "codemirror_mode": {
    "name": "ipython",
    "version": 3
   },
   "file_extension": ".py",
   "mimetype": "text/x-python",
   "name": "python",
   "nbconvert_exporter": "python",
   "pygments_lexer": "ipython3",
   "version": "3.8.2"
  }
 },
 "nbformat": 4,
 "nbformat_minor": 5
}
