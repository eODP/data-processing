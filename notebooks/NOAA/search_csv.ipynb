{
 "cells": [
  {
   "cell_type": "markdown",
   "metadata": {},
   "source": [
    "# search csv"
   ]
  },
  {
   "cell_type": "markdown",
   "metadata": {},
   "source": [
    "search all files for given header"
   ]
  },
  {
   "cell_type": "code",
   "execution_count": 1,
   "metadata": {},
   "outputs": [],
   "source": [
    "import sys\n",
    "sys.path.append('../../')\n",
    "import glob\n",
    "import shutil\n",
    "from pathlib import Path\n",
    "import os\n",
    "\n",
    "import pandas as pd\n",
    "from config import CLEAN_DATA_DIR, OUTPUT_DIR, RAW_DATA_DIR\n",
    "\n",
    "from scripts.normalize_data import (\n",
    "    check_duplicate_columns\n",
    ")\n",
    "\n",
    "from scripts.shared_utils import (\n",
    "    log_df\n",
    ")"
   ]
  },
  {
   "cell_type": "code",
   "execution_count": 2,
   "metadata": {},
   "outputs": [],
   "source": [
    "clean_data_path = CLEAN_DATA_DIR\n",
    "\n",
    "metadata_file = OUTPUT_DIR/'metadata'/'NOAA'/'noaa_dsdp_files.csv' \n",
    "metadata2_file = OUTPUT_DIR/'metadata'/'NOAA'/'noaa_janus_files.csv' \n",
    "metadata3_file = OUTPUT_DIR/'metadata'/'NOAA'/'noaa_janus_iodp_files.csv' \n",
    "\n",
    "all_columns_file = OUTPUT_DIR/'tmp/all_NOAA_taxa_columns.csv'\n"
   ]
  },
  {
   "cell_type": "markdown",
   "metadata": {},
   "source": [
    "## create a file with all columns  in LIMS taxa"
   ]
  },
  {
   "cell_type": "code",
   "execution_count": 51,
   "metadata": {},
   "outputs": [],
   "source": [
    "data = []"
   ]
  },
  {
   "cell_type": "code",
   "execution_count": 52,
   "metadata": {},
   "outputs": [
    {
     "name": "stdout",
     "output_type": "stream",
     "text": [
      "(4477, 5)\n"
     ]
    },
    {
     "data": {
      "text/html": [
       "<div>\n",
       "<style scoped>\n",
       "    .dataframe tbody tr th:only-of-type {\n",
       "        vertical-align: middle;\n",
       "    }\n",
       "\n",
       "    .dataframe tbody tr th {\n",
       "        vertical-align: top;\n",
       "    }\n",
       "\n",
       "    .dataframe thead th {\n",
       "        text-align: right;\n",
       "    }\n",
       "</style>\n",
       "<table border=\"1\" class=\"dataframe\">\n",
       "  <thead>\n",
       "    <tr style=\"text-align: right;\">\n",
       "      <th></th>\n",
       "      <th>path</th>\n",
       "      <th>type</th>\n",
       "      <th>taxon_group</th>\n",
       "      <th>expedition</th>\n",
       "      <th>site</th>\n",
       "    </tr>\n",
       "  </thead>\n",
       "  <tbody>\n",
       "    <tr>\n",
       "      <th>0</th>\n",
       "      <td>NOAA/DSDP_core_data/61/462/radiolar.csv</td>\n",
       "      <td>taxa</td>\n",
       "      <td>radiolarians</td>\n",
       "      <td>61</td>\n",
       "      <td>462</td>\n",
       "    </tr>\n",
       "    <tr>\n",
       "      <th>1</th>\n",
       "      <td>NOAA/DSDP_core_data/61/462/ageprof.csv</td>\n",
       "      <td>age</td>\n",
       "      <td>NaN</td>\n",
       "      <td>61</td>\n",
       "      <td>462</td>\n",
       "    </tr>\n",
       "    <tr>\n",
       "      <th>2</th>\n",
       "      <td>NOAA/DSDP_core_data/61/462/b_forams.csv</td>\n",
       "      <td>taxa</td>\n",
       "      <td>benthic_forams</td>\n",
       "      <td>61</td>\n",
       "      <td>462</td>\n",
       "    </tr>\n",
       "    <tr>\n",
       "      <th>3</th>\n",
       "      <td>NOAA/DSDP_core_data/61/462/p_forams.csv</td>\n",
       "      <td>taxa</td>\n",
       "      <td>planktic_forams</td>\n",
       "      <td>61</td>\n",
       "      <td>462</td>\n",
       "    </tr>\n",
       "    <tr>\n",
       "      <th>4</th>\n",
       "      <td>NOAA/DSDP_core_data/61/462/hr_desc.csv</td>\n",
       "      <td>hard_rock</td>\n",
       "      <td>NaN</td>\n",
       "      <td>61</td>\n",
       "      <td>462</td>\n",
       "    </tr>\n",
       "  </tbody>\n",
       "</table>\n",
       "</div>"
      ],
      "text/plain": [
       "                                      path       type      taxon_group  \\\n",
       "0  NOAA/DSDP_core_data/61/462/radiolar.csv       taxa     radiolarians   \n",
       "1   NOAA/DSDP_core_data/61/462/ageprof.csv        age              NaN   \n",
       "2  NOAA/DSDP_core_data/61/462/b_forams.csv       taxa   benthic_forams   \n",
       "3  NOAA/DSDP_core_data/61/462/p_forams.csv       taxa  planktic_forams   \n",
       "4   NOAA/DSDP_core_data/61/462/hr_desc.csv  hard_rock              NaN   \n",
       "\n",
       "  expedition site  \n",
       "0         61  462  \n",
       "1         61  462  \n",
       "2         61  462  \n",
       "3         61  462  \n",
       "4         61  462  "
      ]
     },
     "execution_count": 52,
     "metadata": {},
     "output_type": "execute_result"
    }
   ],
   "source": [
    "metadata = pd.read_csv(metadata_file)\n",
    "log_df(metadata)"
   ]
  },
  {
   "cell_type": "code",
   "execution_count": 53,
   "metadata": {},
   "outputs": [
    {
     "data": {
      "text/plain": [
       "array(['taxa', 'age', 'hard_rock', 'lithology'], dtype=object)"
      ]
     },
     "execution_count": 53,
     "metadata": {},
     "output_type": "execute_result"
    }
   ],
   "source": [
    "metadata['type'].unique()"
   ]
  },
  {
   "cell_type": "code",
   "execution_count": 54,
   "metadata": {},
   "outputs": [],
   "source": [
    "for index, row in metadata.iterrows():\n",
    "    if row['type'] != 'taxa':\n",
    "        continue\n",
    "        \n",
    "    df = pd.read_csv(clean_data_path/row['path'], dtype=str)\n",
    "    taxa = df['fossil'].unique()\n",
    "    for taxon in taxa:\n",
    "        data.append({\"path\": row['path'], \"column\": taxon})"
   ]
  },
  {
   "cell_type": "code",
   "execution_count": 55,
   "metadata": {},
   "outputs": [
    {
     "name": "stdout",
     "output_type": "stream",
     "text": [
      "(325, 4)\n"
     ]
    },
    {
     "data": {
      "text/html": [
       "<div>\n",
       "<style scoped>\n",
       "    .dataframe tbody tr th:only-of-type {\n",
       "        vertical-align: middle;\n",
       "    }\n",
       "\n",
       "    .dataframe tbody tr th {\n",
       "        vertical-align: top;\n",
       "    }\n",
       "\n",
       "    .dataframe thead th {\n",
       "        text-align: right;\n",
       "    }\n",
       "</style>\n",
       "<table border=\"1\" class=\"dataframe\">\n",
       "  <thead>\n",
       "    <tr style=\"text-align: right;\">\n",
       "      <th></th>\n",
       "      <th>path</th>\n",
       "      <th>type</th>\n",
       "      <th>expedition</th>\n",
       "      <th>site</th>\n",
       "    </tr>\n",
       "  </thead>\n",
       "  <tbody>\n",
       "    <tr>\n",
       "      <th>0</th>\n",
       "      <td>NOAA/Janus_core_data/101/626a/sed_lith_101_626...</td>\n",
       "      <td>lithology</td>\n",
       "      <td>101</td>\n",
       "      <td>626a</td>\n",
       "    </tr>\n",
       "    <tr>\n",
       "      <th>1</th>\n",
       "      <td>NOAA/Janus_core_data/101/626b/sed_lith_101_626...</td>\n",
       "      <td>lithology</td>\n",
       "      <td>101</td>\n",
       "      <td>626b</td>\n",
       "    </tr>\n",
       "    <tr>\n",
       "      <th>2</th>\n",
       "      <td>NOAA/Janus_core_data/101/626c/sed_lith_101_626...</td>\n",
       "      <td>lithology</td>\n",
       "      <td>101</td>\n",
       "      <td>626c</td>\n",
       "    </tr>\n",
       "    <tr>\n",
       "      <th>3</th>\n",
       "      <td>NOAA/Janus_core_data/101/626d/sed_lith_101_626...</td>\n",
       "      <td>lithology</td>\n",
       "      <td>101</td>\n",
       "      <td>626d</td>\n",
       "    </tr>\n",
       "    <tr>\n",
       "      <th>4</th>\n",
       "      <td>NOAA/Janus_core_data/101/627a/sed_lith_101_627...</td>\n",
       "      <td>lithology</td>\n",
       "      <td>101</td>\n",
       "      <td>627a</td>\n",
       "    </tr>\n",
       "  </tbody>\n",
       "</table>\n",
       "</div>"
      ],
      "text/plain": [
       "                                                path       type expedition  \\\n",
       "0  NOAA/Janus_core_data/101/626a/sed_lith_101_626...  lithology        101   \n",
       "1  NOAA/Janus_core_data/101/626b/sed_lith_101_626...  lithology        101   \n",
       "2  NOAA/Janus_core_data/101/626c/sed_lith_101_626...  lithology        101   \n",
       "3  NOAA/Janus_core_data/101/626d/sed_lith_101_626...  lithology        101   \n",
       "4  NOAA/Janus_core_data/101/627a/sed_lith_101_627...  lithology        101   \n",
       "\n",
       "   site  \n",
       "0  626a  \n",
       "1  626b  \n",
       "2  626c  \n",
       "3  626d  \n",
       "4  627a  "
      ]
     },
     "execution_count": 55,
     "metadata": {},
     "output_type": "execute_result"
    }
   ],
   "source": [
    "metadata2 = pd.read_csv(metadata2_file)\n",
    "log_df(metadata2)"
   ]
  },
  {
   "cell_type": "code",
   "execution_count": 56,
   "metadata": {},
   "outputs": [
    {
     "data": {
      "text/plain": [
       "array(['lithology'], dtype=object)"
      ]
     },
     "execution_count": 56,
     "metadata": {},
     "output_type": "execute_result"
    }
   ],
   "source": [
    "metadata2['type'].unique()"
   ]
  },
  {
   "cell_type": "code",
   "execution_count": 57,
   "metadata": {},
   "outputs": [
    {
     "name": "stdout",
     "output_type": "stream",
     "text": [
      "(2481, 5)\n"
     ]
    },
    {
     "data": {
      "text/html": [
       "<div>\n",
       "<style scoped>\n",
       "    .dataframe tbody tr th:only-of-type {\n",
       "        vertical-align: middle;\n",
       "    }\n",
       "\n",
       "    .dataframe tbody tr th {\n",
       "        vertical-align: top;\n",
       "    }\n",
       "\n",
       "    .dataframe thead th {\n",
       "        text-align: right;\n",
       "    }\n",
       "</style>\n",
       "<table border=\"1\" class=\"dataframe\">\n",
       "  <thead>\n",
       "    <tr style=\"text-align: right;\">\n",
       "      <th></th>\n",
       "      <th>path</th>\n",
       "      <th>type</th>\n",
       "      <th>expedition</th>\n",
       "      <th>site</th>\n",
       "      <th>taxon_group</th>\n",
       "    </tr>\n",
       "  </thead>\n",
       "  <tbody>\n",
       "    <tr>\n",
       "      <th>0</th>\n",
       "      <td>NOAA/JanusIODP_paleo_agemodel/paleontology/ran...</td>\n",
       "      <td>taxa</td>\n",
       "      <td>101</td>\n",
       "      <td>626</td>\n",
       "      <td>benthic_forams</td>\n",
       "    </tr>\n",
       "    <tr>\n",
       "      <th>1</th>\n",
       "      <td>NOAA/JanusIODP_paleo_agemodel/paleontology/ran...</td>\n",
       "      <td>taxa</td>\n",
       "      <td>101</td>\n",
       "      <td>626</td>\n",
       "      <td>benthic_forams</td>\n",
       "    </tr>\n",
       "    <tr>\n",
       "      <th>2</th>\n",
       "      <td>NOAA/JanusIODP_paleo_agemodel/paleontology/ran...</td>\n",
       "      <td>taxa</td>\n",
       "      <td>101</td>\n",
       "      <td>626</td>\n",
       "      <td>nannofossils</td>\n",
       "    </tr>\n",
       "    <tr>\n",
       "      <th>3</th>\n",
       "      <td>NOAA/JanusIODP_paleo_agemodel/paleontology/ran...</td>\n",
       "      <td>taxa</td>\n",
       "      <td>101</td>\n",
       "      <td>626</td>\n",
       "      <td>nannofossils</td>\n",
       "    </tr>\n",
       "    <tr>\n",
       "      <th>4</th>\n",
       "      <td>NOAA/JanusIODP_paleo_agemodel/paleontology/ran...</td>\n",
       "      <td>taxa</td>\n",
       "      <td>101</td>\n",
       "      <td>626</td>\n",
       "      <td>planktic_forams</td>\n",
       "    </tr>\n",
       "  </tbody>\n",
       "</table>\n",
       "</div>"
      ],
      "text/plain": [
       "                                                path  type  expedition  site  \\\n",
       "0  NOAA/JanusIODP_paleo_agemodel/paleontology/ran...  taxa         101   626   \n",
       "1  NOAA/JanusIODP_paleo_agemodel/paleontology/ran...  taxa         101   626   \n",
       "2  NOAA/JanusIODP_paleo_agemodel/paleontology/ran...  taxa         101   626   \n",
       "3  NOAA/JanusIODP_paleo_agemodel/paleontology/ran...  taxa         101   626   \n",
       "4  NOAA/JanusIODP_paleo_agemodel/paleontology/ran...  taxa         101   626   \n",
       "\n",
       "       taxon_group  \n",
       "0   benthic_forams  \n",
       "1   benthic_forams  \n",
       "2     nannofossils  \n",
       "3     nannofossils  \n",
       "4  planktic_forams  "
      ]
     },
     "execution_count": 57,
     "metadata": {},
     "output_type": "execute_result"
    }
   ],
   "source": [
    "metadata3 = pd.read_csv(metadata3_file)\n",
    "log_df(metadata3)"
   ]
  },
  {
   "cell_type": "code",
   "execution_count": 58,
   "metadata": {},
   "outputs": [
    {
     "data": {
      "text/plain": [
       "array(['taxa', 'age'], dtype=object)"
      ]
     },
     "execution_count": 58,
     "metadata": {},
     "output_type": "execute_result"
    }
   ],
   "source": [
    "metadata3['type'].unique()"
   ]
  },
  {
   "cell_type": "code",
   "execution_count": 59,
   "metadata": {},
   "outputs": [],
   "source": [
    "\n",
    "for index, row in metadata3.iterrows():\n",
    "    if row['type'] != 'taxa':\n",
    "        continue\n",
    "        \n",
    "    df = pd.read_csv(clean_data_path/row['path'], dtype=str)\n",
    "    df.dropna(axis=\"columns\", how='all', inplace=True)\n",
    "    for col in df.columns:\n",
    "        data.append({\"path\": row['path'], \"column\": col})"
   ]
  },
  {
   "cell_type": "code",
   "execution_count": null,
   "metadata": {},
   "outputs": [],
   "source": []
  },
  {
   "cell_type": "code",
   "execution_count": 61,
   "metadata": {},
   "outputs": [
    {
     "name": "stdout",
     "output_type": "stream",
     "text": [
      "(188702, 2)\n"
     ]
    },
    {
     "data": {
      "text/html": [
       "<div>\n",
       "<style scoped>\n",
       "    .dataframe tbody tr th:only-of-type {\n",
       "        vertical-align: middle;\n",
       "    }\n",
       "\n",
       "    .dataframe tbody tr th {\n",
       "        vertical-align: top;\n",
       "    }\n",
       "\n",
       "    .dataframe thead th {\n",
       "        text-align: right;\n",
       "    }\n",
       "</style>\n",
       "<table border=\"1\" class=\"dataframe\">\n",
       "  <thead>\n",
       "    <tr style=\"text-align: right;\">\n",
       "      <th></th>\n",
       "      <th>path</th>\n",
       "      <th>column</th>\n",
       "    </tr>\n",
       "  </thead>\n",
       "  <tbody>\n",
       "    <tr>\n",
       "      <th>0</th>\n",
       "      <td>NOAA/DSDP_core_data/61/462/radiolar.csv</td>\n",
       "      <td>Stichocorys peregrina</td>\n",
       "    </tr>\n",
       "    <tr>\n",
       "      <th>1</th>\n",
       "      <td>NOAA/DSDP_core_data/61/462/radiolar.csv</td>\n",
       "      <td>Artophormis gracilis</td>\n",
       "    </tr>\n",
       "    <tr>\n",
       "      <th>2</th>\n",
       "      <td>NOAA/DSDP_core_data/61/462/radiolar.csv</td>\n",
       "      <td>Artostrobium doliolum</td>\n",
       "    </tr>\n",
       "    <tr>\n",
       "      <th>3</th>\n",
       "      <td>NOAA/DSDP_core_data/61/462/radiolar.csv</td>\n",
       "      <td>Lithopera renzae</td>\n",
       "    </tr>\n",
       "    <tr>\n",
       "      <th>4</th>\n",
       "      <td>NOAA/DSDP_core_data/61/462/radiolar.csv</td>\n",
       "      <td>Solenospheara omnitubus</td>\n",
       "    </tr>\n",
       "  </tbody>\n",
       "</table>\n",
       "</div>"
      ],
      "text/plain": [
       "                                      path                   column\n",
       "0  NOAA/DSDP_core_data/61/462/radiolar.csv    Stichocorys peregrina\n",
       "1  NOAA/DSDP_core_data/61/462/radiolar.csv     Artophormis gracilis\n",
       "2  NOAA/DSDP_core_data/61/462/radiolar.csv    Artostrobium doliolum\n",
       "3  NOAA/DSDP_core_data/61/462/radiolar.csv         Lithopera renzae\n",
       "4  NOAA/DSDP_core_data/61/462/radiolar.csv  Solenospheara omnitubus"
      ]
     },
     "execution_count": 61,
     "metadata": {},
     "output_type": "execute_result"
    }
   ],
   "source": [
    "all_df = pd.DataFrame(data)\n",
    "all_df.drop_duplicates(inplace=True)\n",
    "log_df(all_df)\n",
    "# 188702"
   ]
  },
  {
   "cell_type": "code",
   "execution_count": 62,
   "metadata": {},
   "outputs": [],
   "source": [
    "all_df.to_csv(all_columns_file)"
   ]
  },
  {
   "cell_type": "markdown",
   "metadata": {},
   "source": [
    "## search for column"
   ]
  },
  {
   "cell_type": "code",
   "execution_count": 24,
   "metadata": {},
   "outputs": [],
   "source": [
    "def find_column_value(all_columns_path, column, copy_files=False):\n",
    "    all_df = pd.read_csv(all_columns_path, dtype=str)\n",
    "    files = list(all_df[all_df['column'] == column]['path'].unique())\n",
    "    \n",
    "    print(f'\"{column}\" found in {len(files)} files\\n')\n",
    "\n",
    "    for file in files:\n",
    "        path = CLEAN_DATA_DIR/file\n",
    "        df = pd.read_csv(path, dtype=str, usecols=[column])\n",
    "        df[column].dropna(inplace=True)\n",
    "        \n",
    "        print(path, '\\n')\n",
    "        if len(df[column].unique()) > 0:\n",
    "            print(' | '.join(df[column].fillna('').unique()))\n",
    "            print('----')\n",
    "        \n",
    "        if copy_files:\n",
    "            temp_path = Path('../','NOAA', 'tmp', file)\n",
    "            if not os.path.exists(temp_path.parent):\n",
    "                os.makedirs(temp_path.parent)\n",
    "            shutil.copy(path, temp_path.parent)\n"
   ]
  },
  {
   "cell_type": "code",
   "execution_count": 25,
   "metadata": {},
   "outputs": [
    {
     "name": "stdout",
     "output_type": "stream",
     "text": [
      "\"Falsebrioid Falsebrioid\" found in 3 files\n",
      "\n",
      "../../output/cleaned_data/NOAA/JanusIODP_paleo_agemodel/paleontology/range_tables/104/642/HOLE_C/Silicoflagellates_Ebridians_Actiniscidians.csv \n",
      "\n",
      " | 13.0%                   |                         | 20.0%                   | 12.0%                   | 3.0%                    | 1.0%                    | 11.0%                   | 8.0%                    | 10.0%                   | 4.0%                    | 5.0%                    | 9.0%                    | 14.0%                   | 15.0%                   | 7.0%                    | 2.0%                    | 24.0%                   | 28.0%                   | 36.0%                   | 34.0%                   | 16.0%                  \n",
      "----\n",
      "../../output/cleaned_data/NOAA/JanusIODP_paleo_agemodel/paleontology/range_tables/104/642/HOLE_D/Silicoflagellates_Ebridians_Actiniscidians.csv \n",
      "\n",
      " |                         | 10.0%                   | 9.0%                    | 5.0%                    | 8.0%                    | 6.0%                    | 3.0%                    | 2.0%                    | 4.0%                    | 11.0%                  \n",
      "----\n",
      "../../output/cleaned_data/NOAA/JanusIODP_paleo_agemodel/paleontology/range_tables/104/644/HOLE_A/Silicoflagellates_Ebridians_Actiniscidians.csv \n",
      "\n",
      " |                         | 1                       | 13.0%                   | 12.0%                   | 11.0%                   | 7.0%                    | 6.0%                   \n",
      "----\n"
     ]
    }
   ],
   "source": [
    "column = 'Falsebrioid Falsebrioid'\n",
    "\n",
    "find_column_value(all_columns_file, column, True)"
   ]
  },
  {
   "cell_type": "code",
   "execution_count": null,
   "metadata": {},
   "outputs": [],
   "source": []
  }
 ],
 "metadata": {
  "kernelspec": {
   "display_name": "Python 3 (ipykernel)",
   "language": "python",
   "name": "python3"
  },
  "language_info": {
   "codemirror_mode": {
    "name": "ipython",
    "version": 3
   },
   "file_extension": ".py",
   "mimetype": "text/x-python",
   "name": "python",
   "nbconvert_exporter": "python",
   "pygments_lexer": "ipython3",
   "version": "3.8.2"
  }
 },
 "nbformat": 4,
 "nbformat_minor": 4
}
