{
 "cells": [
  {
   "cell_type": "markdown",
   "id": "718c2a7c",
   "metadata": {},
   "source": [
    "# QA NOAA Janus files\n",
    "## 101-126 lithology\n",
    "\n",
    "QA NOAA Janus dataset. Fix bad files.\n",
    "\n",
    "NOAA_csv/Janus_core_data  \n",
    "expedition 101-126  \n",
    "lithology"
   ]
  },
  {
   "cell_type": "code",
   "execution_count": 25,
   "id": "61607c81",
   "metadata": {},
   "outputs": [],
   "source": [
    "import sys\n",
    "sys.path.append('../../')\n",
    "import glob\n",
    "from pathlib import Path\n",
    "import os\n",
    "\n",
    "import pandas as pd\n",
    "\n",
    "from scripts.normalize_noaa_files import (\n",
    "    unique_filenames_for_paths,\n",
    "    unique_columns_for_paths,\n",
    "    filename_index,\n",
    "    format_filepaths_set\n",
    ")\n",
    "from config import OUTPUT_DIR, CLEAN_DATA_DIR, RAW_DATA_DIR\n",
    "from scripts.shared_utils import (\n",
    "    log_df\n",
    ")"
   ]
  },
  {
   "cell_type": "code",
   "execution_count": 26,
   "id": "61ede03f",
   "metadata": {},
   "outputs": [],
   "source": [
    "base_dir = CLEAN_DATA_DIR\n",
    "data_dir = base_dir/'NOAA'/'Janus_core_data'\n",
    "metadata_path = OUTPUT_DIR/'metadata'/'NOAA'/'noaa_janus_files.csv'"
   ]
  },
  {
   "cell_type": "code",
   "execution_count": 27,
   "id": "afb516da",
   "metadata": {},
   "outputs": [
    {
     "name": "stdout",
     "output_type": "stream",
     "text": [
      "files 325\n"
     ]
    }
   ],
   "source": [
    "csv_paths = list(data_dir.glob(\"**/*.csv\"))\n",
    "csv_paths = [p for p in csv_paths if '.ipynb_checkpoints' not in str(p)]\n",
    "\n",
    "\n",
    "print('files', len(csv_paths))"
   ]
  },
  {
   "cell_type": "markdown",
   "id": "13ad5d96-0ffd-4b02-9935-aee86dd2f5e5",
   "metadata": {},
   "source": [
    "## fix files"
   ]
  },
  {
   "cell_type": "markdown",
   "id": "16b735e7",
   "metadata": {},
   "source": [
    "print out files that have unnamed columns"
   ]
  },
  {
   "cell_type": "code",
   "execution_count": 31,
   "id": "89daadf8",
   "metadata": {},
   "outputs": [
    {
     "name": "stdout",
     "output_type": "stream",
     "text": [
      "../../output/cleaned_data/NOAA/Janus_core_data/110/674a/sed_lith_110_674a_delimited_pre-janus.csv\n"
     ]
    }
   ],
   "source": [
    "for path in csv_paths:\n",
    "    df = pd.read_csv(path, nrows=0)\n",
    "    \n",
    "    cols = [col for col in df.columns if col.startswith('Unnamed')]\n",
    "    if len(cols) > 0:\n",
    "        print(path)"
   ]
  },
  {
   "cell_type": "code",
   "execution_count": 24,
   "id": "7b517d83-8c4f-4518-91b7-683a2931495c",
   "metadata": {},
   "outputs": [
    {
     "name": "stdout",
     "output_type": "stream",
     "text": [
      "(399, 31)\n"
     ]
    },
    {
     "data": {
      "text/html": [
       "<div>\n",
       "<style scoped>\n",
       "    .dataframe tbody tr th:only-of-type {\n",
       "        vertical-align: middle;\n",
       "    }\n",
       "\n",
       "    .dataframe tbody tr th {\n",
       "        vertical-align: top;\n",
       "    }\n",
       "\n",
       "    .dataframe thead th {\n",
       "        text-align: right;\n",
       "    }\n",
       "</style>\n",
       "<table border=\"1\" class=\"dataframe\">\n",
       "  <thead>\n",
       "    <tr style=\"text-align: right;\">\n",
       "      <th></th>\n",
       "      <th>leg</th>\n",
       "      <th>site</th>\n",
       "      <th>hole</th>\n",
       "      <th>core</th>\n",
       "      <th>coretype</th>\n",
       "      <th>section</th>\n",
       "      <th>observer</th>\n",
       "      <th>top interval</th>\n",
       "      <th>bottom interval</th>\n",
       "      <th>lithology</th>\n",
       "      <th>...</th>\n",
       "      <th>latitude</th>\n",
       "      <th>longitude</th>\n",
       "      <th>depth</th>\n",
       "      <th>top interval depth below sea floor</th>\n",
       "      <th>bottom interval depth below sea floor</th>\n",
       "      <th>Unnamed: 30</th>\n",
       "      <th>Unnamed: 31</th>\n",
       "      <th>Unnamed: 32</th>\n",
       "      <th>Unnamed: 33</th>\n",
       "      <th>Unnamed: 34</th>\n",
       "    </tr>\n",
       "  </thead>\n",
       "  <tbody>\n",
       "    <tr>\n",
       "      <th>0</th>\n",
       "      <td>110</td>\n",
       "      <td>674</td>\n",
       "      <td>A</td>\n",
       "      <td>001</td>\n",
       "      <td>Hydraulic (Advanced) Piston Core</td>\n",
       "      <td>01</td>\n",
       "      <td>OGA</td>\n",
       "      <td>000</td>\n",
       "      <td>150</td>\n",
       "      <td>marl and calcareous mud, w/ volcanic ash(spots...</td>\n",
       "      <td>...</td>\n",
       "      <td>15.53817</td>\n",
       "      <td>-58.85150</td>\n",
       "      <td>0000.00</td>\n",
       "      <td>0</td>\n",
       "      <td>150</td>\n",
       "      <td>NaN</td>\n",
       "      <td>NaN</td>\n",
       "      <td>NaN</td>\n",
       "      <td>NaN</td>\n",
       "      <td>NaN</td>\n",
       "    </tr>\n",
       "    <tr>\n",
       "      <th>1</th>\n",
       "      <td>110</td>\n",
       "      <td>674</td>\n",
       "      <td>A</td>\n",
       "      <td>001</td>\n",
       "      <td>Hydraulic (Advanced) Piston Core</td>\n",
       "      <td>02</td>\n",
       "      <td>BCK</td>\n",
       "      <td>000</td>\n",
       "      <td>006</td>\n",
       "      <td>marl and calcareous mud, w/ volcanic ash(3 cm)</td>\n",
       "      <td>...</td>\n",
       "      <td>15.53817</td>\n",
       "      <td>-58.85150</td>\n",
       "      <td>0001.50</td>\n",
       "      <td>150</td>\n",
       "      <td>156</td>\n",
       "      <td>NaN</td>\n",
       "      <td>NaN</td>\n",
       "      <td>NaN</td>\n",
       "      <td>NaN</td>\n",
       "      <td>NaN</td>\n",
       "    </tr>\n",
       "  </tbody>\n",
       "</table>\n",
       "<p>2 rows × 31 columns</p>\n",
       "</div>"
      ],
      "text/plain": [
       "   leg site hole core                          coretype section observer  \\\n",
       "0  110  674    A  001  Hydraulic (Advanced) Piston Core      01      OGA   \n",
       "1  110  674    A  001  Hydraulic (Advanced) Piston Core      02      BCK   \n",
       "\n",
       "  top interval bottom interval  \\\n",
       "0          000             150   \n",
       "1          000             006   \n",
       "\n",
       "                                           lithology  ...  latitude  \\\n",
       "0  marl and calcareous mud, w/ volcanic ash(spots...  ...  15.53817   \n",
       "1     marl and calcareous mud, w/ volcanic ash(3 cm)  ...  15.53817   \n",
       "\n",
       "   longitude    depth top interval depth below sea floor  \\\n",
       "0  -58.85150  0000.00                                  0   \n",
       "1  -58.85150  0001.50                                150   \n",
       "\n",
       "  bottom interval depth below sea floor Unnamed: 30 Unnamed: 31 Unnamed: 32  \\\n",
       "0                                   150         NaN         NaN         NaN   \n",
       "1                                   156         NaN         NaN         NaN   \n",
       "\n",
       "  Unnamed: 33 Unnamed: 34  \n",
       "0         NaN         NaN  \n",
       "1         NaN         NaN  \n",
       "\n",
       "[2 rows x 31 columns]"
      ]
     },
     "execution_count": 24,
     "metadata": {},
     "output_type": "execute_result"
    }
   ],
   "source": [
    "df = pd.read_csv('../../output/cleaned_data/NOAA/Janus_core_data/110/674a/sed_lith_110_674a_delimited_pre-janus.csv', dtype=str)\n",
    "df = df.dropna(how='all', axis=1)\n",
    "log_df(df, 2)"
   ]
  },
  {
   "cell_type": "markdown",
   "id": "1e94209f",
   "metadata": {},
   "source": [
    "## check minerals, paleontology, structures, unusual occurrences values"
   ]
  },
  {
   "cell_type": "code",
   "execution_count": 20,
   "id": "97e82bb1",
   "metadata": {},
   "outputs": [],
   "source": [
    "def unique_values(series):\n",
    "    return list(series.dropna().unique())\n",
    "    "
   ]
  },
  {
   "cell_type": "code",
   "execution_count": 21,
   "id": "da5d90f0",
   "metadata": {},
   "outputs": [
    {
     "name": "stdout",
     "output_type": "stream",
     "text": [
      "../../output/cleaned_data/NOAA/Janus_core_data/104/642b/sed_lith_104_642b_delimited_pre-janus.csv\n"
     ]
    }
   ],
   "source": [
    "path = csv_paths[0]\n",
    "print(path)\n",
    "df = pd.read_csv(path)"
   ]
  },
  {
   "cell_type": "code",
   "execution_count": 22,
   "id": "0ed0ac14",
   "metadata": {},
   "outputs": [
    {
     "data": {
      "text/plain": [
       "['fe/mn laminae',\n",
       " 'fe dots (~57 cm); pyrite in burrows(8-16 cm)',\n",
       " 'crystalline fragment dropstones',\n",
       " 'pyrite in burrows',\n",
       " 'pyrite (?) in mottling',\n",
       " 'pyrite in mottling',\n",
       " 'pyrite pockets',\n",
       " 'pyrite in sandy zone(~134 cm);pyrite & volcanic ash(132 cm)',\n",
       " 'volcanic ash? pocket (17 cm)',\n",
       " 'pyrite infilled pores (?)',\n",
       " 'pyrite in burrows (96 cm)',\n",
       " 'pyrite in sandy patches (11, 15-17 cm)',\n",
       " 'pyrite sandy patches (110-113, 127-131 cm)',\n",
       " 'pyrite in burrows (123-126 cm)',\n",
       " 'pyrite in burrow (~86 cm)',\n",
       " 'pyrite in burrows (127 cm)',\n",
       " 'pyrite in burrows (124-132, 138 cm)',\n",
       " 'pyrite in burrows; volcanic ash (96-98,103 cm)',\n",
       " 'pyrite in burrows, pyrite in color bands',\n",
       " 'nannos',\n",
       " 'volcanic ash (120-122 cm)',\n",
       " 'pyrite concretion (50 cm)',\n",
       " 'pyrite in burrows (0-89 cm)',\n",
       " 'pyrite concretions (90, 110 cm)',\n",
       " 'pyrite impregnation along burrows(0-76 cm)',\n",
       " 'pyrite in burrows (50-150 cm)',\n",
       " 'pyrite impregnations (11-150 cm)',\n",
       " 'pyrite impregnations and concretion (111 cm)',\n",
       " 'pyrite concretion (64 cm); volcanic ash (80-90 cm)',\n",
       " 'pyrite in burrows and concretions (1-4 cm)',\n",
       " 'pyrite in concretion and adjacent pyrite sand',\n",
       " 'pyrite (?) in sandy pocket (60 cm)',\n",
       " 'volcanic ash',\n",
       " 'rock fragment (10-12 cm)',\n",
       " 'pyrite concretion and pyrite sands = volcanic ash(102-104cm)',\n",
       " 'pyrite in sandy pockets (130, 144 cm)',\n",
       " 'volcanic ash layers (23-39, 110-113 cm)',\n",
       " 'pyrite lens (35 cm)',\n",
       " 'volcanic ash ? (53-56, 112-114 cm)',\n",
       " 'volcanic ash pocket (25-26 cm)',\n",
       " 'basaltic glass? (81-83, 142-145 cm)',\n",
       " 'basaltic glass? (94-98 cm)',\n",
       " 'pyrite filled pockets (7, 10 cm)',\n",
       " 'volcanic ash (partially disseminated)',\n",
       " 'basaltic glass? (57,72cm)',\n",
       " 'volcanic ash pockets (121, 124 cm)',\n",
       " 'volcanic ash (74, 138-143 cm)',\n",
       " 'possibly disseminated, altered basaltic ash (117-123 cm)',\n",
       " 'possibly disseminsated basaltic ash (54-66 cm)',\n",
       " 'possibly disseminated basaltic ash (98, 102-105, 140-145cm)',\n",
       " 'balsaltic ash (43 cm)',\n",
       " 'basaltic ash',\n",
       " 'possibly disseminated, altered basaltic glass (135-140 cm)']"
      ]
     },
     "execution_count": 22,
     "metadata": {},
     "output_type": "execute_result"
    }
   ],
   "source": [
    "unique_values(df['minerals'])"
   ]
  },
  {
   "cell_type": "code",
   "execution_count": 23,
   "id": "aa696843",
   "metadata": {},
   "outputs": [
    {
     "data": {
      "text/plain": [
       "['forams',\n",
       " 'nanno',\n",
       " 'nannos',\n",
       " 'forams (100-120 cm)',\n",
       " 'forams (0-122 cm)',\n",
       " 'forams in sandy patches (135-145 cm)',\n",
       " 'forams (130-150 cm)',\n",
       " 'zoophycos trace fossil',\n",
       " 'nanno, mollusc fragments (11 cm)',\n",
       " 'nannos; forams',\n",
       " 'forams visible',\n",
       " 'forams (88-102 cm)',\n",
       " 'visible forams (0-120 cm)',\n",
       " 'diatoms',\n",
       " 'forams (50 cm ?), diatoms']"
      ]
     },
     "execution_count": 23,
     "metadata": {},
     "output_type": "execute_result"
    }
   ],
   "source": [
    "unique_values(df['paleontology'])"
   ]
  },
  {
   "cell_type": "code",
   "execution_count": 16,
   "id": "4daae837",
   "metadata": {},
   "outputs": [
    {
     "data": {
      "text/plain": [
       "['grayish color mottling (~27-30 cm);mottling(38-41 cm); minor bioturbation (38-41 cm)',\n",
       " 'parallel laminae',\n",
       " 'fine brownish laminae (~142-145 cm), dropstones',\n",
       " 'moderate bioturbation/pyritized burrows (~114-117 cm), dropstone (~115cm)',\n",
       " 'pyritized burrows/moderate bioturbation (8-16 cm)',\n",
       " 'heavy bioturbation(144-150cm);2 mm burrows (144-150 cm); cross-stratification(138-144cm), dropstones (131, 139 cm)',\n",
       " 'moderate bioturbation',\n",
       " 'moderate (80-93 cm) to heavy (96-100 cm) bioturbation; large granite dropstones (~116cm)',\n",
       " 'parallel laminae (119-127 cm), dropstones, small (119-127 cm), large (132 cm)',\n",
       " 'laminae',\n",
       " 'dropstones (~67,93,122cm), minor bioturbation (45-100 cm)',\n",
       " 'dropstone? (~136 cm)',\n",
       " 'minor bioturbation (14-55 cm)',\n",
       " 'scattered dropstones (105-110 cm, 136-141 cm)',\n",
       " 'black mottling/minor bioturbation (8-37 cm); faint laminae below 30 cm',\n",
       " 'dropstones, 5y 3/2 mottling(47-64 cm); mottling(64-80, 80-110 cm)',\n",
       " 'faint black mottling; minor bioturbation, dropstones',\n",
       " 'black mottling (131-138 cm)',\n",
       " 'mottling (22-26 cm)',\n",
       " 'very dark gray to black mottling, minor bioturbation',\n",
       " 'mottling, dropstones (sand-sized 0-4cm); 1 cm at 44, 53 cm)',\n",
       " 'dropstones, clay (53-60 cm), 2-5 mm at 91, 96, 107 cm',\n",
       " 'mottling (113-148 cm), dropstones (138, 146-147 cm)',\n",
       " 'mottling (0-20, 31-35 cm), heavy bioturbation (31-35 cm), minor bioturbation (0-20 cm); dropstone (16-17 cm)',\n",
       " 'mottling; weak horizontal layering, dropstones',\n",
       " 'interbeding (<1 cm thick)',\n",
       " 'black and dark olive green mottling, moderate bioturbation',\n",
       " 'black mottling',\n",
       " 'mottling(0-10,21-100cm);laminae(10-21cm);minor(0-10,21-100,116-119cm)to moderate (105-109cm) bioturbation',\n",
       " 'black mottling (100-105 cm); gray mottling (105-109 cm)']"
      ]
     },
     "execution_count": 16,
     "metadata": {},
     "output_type": "execute_result"
    }
   ],
   "source": [
    "unique_values(df['structures'])[0:30]"
   ]
  },
  {
   "cell_type": "code",
   "execution_count": 17,
   "id": "e6b725c3",
   "metadata": {},
   "outputs": [
    {
     "data": {
      "text/plain": [
       "['small dropstones (8-100 cm)',\n",
       " 'pebbles (17-19 cm)',\n",
       " 'volcanic ash layer (~132 cm)',\n",
       " 'mud pebbles (149 cm)',\n",
       " 'soft mud pebbles',\n",
       " 'reworked very dark gray mud pebbles (especially 110, 120 cm)',\n",
       " 'large mud pebbles (70-75cm)',\n",
       " 'pyrite concretion (50 cm) along large burrows',\n",
       " 'pyrite concretions (90, 110 cm)',\n",
       " 'pyrite concretion (111 cm)',\n",
       " 'pyrite concretion (64 cm)',\n",
       " 'pyrite concretions (1-4 cm)',\n",
       " 'pyrite concretion (132 cm)',\n",
       " 'pyrite concretion(102-104 cm)',\n",
       " 'pebbles/crs sand (100-115 cm) (dropstones ?)']"
      ]
     },
     "execution_count": 17,
     "metadata": {},
     "output_type": "execute_result"
    }
   ],
   "source": [
    "unique_values(df['unusual occurrences'])"
   ]
  },
  {
   "cell_type": "code",
   "execution_count": null,
   "id": "c2a00079",
   "metadata": {},
   "outputs": [],
   "source": []
  }
 ],
 "metadata": {
  "kernelspec": {
   "display_name": "Python 3 (ipykernel)",
   "language": "python",
   "name": "python3"
  },
  "language_info": {
   "codemirror_mode": {
    "name": "ipython",
    "version": 3
   },
   "file_extension": ".py",
   "mimetype": "text/x-python",
   "name": "python",
   "nbconvert_exporter": "python",
   "pygments_lexer": "ipython3",
   "version": "3.8.2"
  }
 },
 "nbformat": 4,
 "nbformat_minor": 5
}
