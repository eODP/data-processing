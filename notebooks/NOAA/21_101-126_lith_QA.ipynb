{
 "cells": [
  {
   "cell_type": "markdown",
   "id": "718c2a7c",
   "metadata": {},
   "source": [
    "# QA NOAA Janus files\n",
    "## 101-126 lithology\n",
    "\n",
    "Get basic metadata (file names, column names) about NOAA Janus dataset. Create csv that lists all the files.\n",
    "\n",
    "NOAA_csv/Janus_core_data  \n",
    "expedition 101-126  \n",
    "lithology"
   ]
  },
  {
   "cell_type": "code",
   "execution_count": 24,
   "id": "61607c81",
   "metadata": {},
   "outputs": [],
   "source": [
    "import sys\n",
    "sys.path.append('../../')\n",
    "import glob\n",
    "from pathlib import Path\n",
    "import os\n",
    "\n",
    "import pandas as pd\n",
    "\n",
    "from scripts.normalize_noaa_files import (\n",
    "    unique_filenames_for_paths,\n",
    "    unique_columns_for_paths,\n",
    "    filename_index,\n",
    "    format_filepaths_set\n",
    ")\n",
    "from config import OUTPUT_DIR, CLEAN_DATA_DIR, RAW_DATA_DIR\n"
   ]
  },
  {
   "cell_type": "code",
   "execution_count": 25,
   "id": "61ede03f",
   "metadata": {},
   "outputs": [],
   "source": [
    "base_dir = CLEAN_DATA_DIR\n",
    "data_dir = base_dir/'NOAA'/'Janus_core_data'\n",
    "metadata_path = OUTPUT_DIR/'metadata'/'NOAA'/'noaa_janus_files.csv'"
   ]
  },
  {
   "cell_type": "code",
   "execution_count": 26,
   "id": "afb516da",
   "metadata": {},
   "outputs": [
    {
     "name": "stdout",
     "output_type": "stream",
     "text": [
      "files 327\n"
     ]
    }
   ],
   "source": [
    "csv_paths = list(data_dir.glob(\"**/*.csv\"))\n",
    "print('files', len(csv_paths))"
   ]
  },
  {
   "cell_type": "markdown",
   "id": "23e835d5",
   "metadata": {},
   "source": [
    "## column names\n",
    "\n",
    "Get all the column names."
   ]
  },
  {
   "cell_type": "code",
   "execution_count": 27,
   "id": "73b359aa",
   "metadata": {},
   "outputs": [],
   "source": [
    "def column_counts_for_paths(paths):\n",
    "    counts = set()\n",
    "    for path in paths:\n",
    "        df = pd.read_csv(path, nrows=0)\n",
    "        counts.add(len(df.columns))\n",
    "    \n",
    "    return counts"
   ]
  },
  {
   "cell_type": "code",
   "execution_count": 28,
   "id": "667cba7b",
   "metadata": {},
   "outputs": [
    {
     "data": {
      "text/plain": [
       "{'Unnamed: 30',\n",
       " 'Unnamed: 31',\n",
       " 'Unnamed: 32',\n",
       " 'Unnamed: 33',\n",
       " 'Unnamed: 34',\n",
       " 'bottom interval',\n",
       " 'bottom interval depth below sea floor',\n",
       " 'code',\n",
       " 'color',\n",
       " 'color number',\n",
       " 'core',\n",
       " 'coretype',\n",
       " 'depth',\n",
       " 'drilling deformities',\n",
       " 'hole',\n",
       " 'induration',\n",
       " 'latitude',\n",
       " 'leg',\n",
       " 'lithology',\n",
       " 'longitude',\n",
       " 'minerals',\n",
       " 'more data available',\n",
       " 'observer',\n",
       " 'other',\n",
       " 'paleontology',\n",
       " 'piece number bottom',\n",
       " 'piece number top',\n",
       " 'section',\n",
       " 'site',\n",
       " 'structures',\n",
       " 'sub piece bottom',\n",
       " 'sub piece top',\n",
       " 'top interval',\n",
       " 'top interval depth below sea floor',\n",
       " 'unusual occurrences'}"
      ]
     },
     "execution_count": 28,
     "metadata": {},
     "output_type": "execute_result"
    }
   ],
   "source": [
    "unique_columns_for_paths(csv_paths)"
   ]
  },
  {
   "cell_type": "code",
   "execution_count": 23,
   "id": "ee62d638",
   "metadata": {},
   "outputs": [
    {
     "data": {
      "text/plain": [
       "{30, 35}"
      ]
     },
     "execution_count": 23,
     "metadata": {},
     "output_type": "execute_result"
    }
   ],
   "source": [
    "column_counts_for_paths(csv_paths)"
   ]
  },
  {
   "cell_type": "markdown",
   "id": "16b735e7",
   "metadata": {},
   "source": [
    "print out files that have too many columns"
   ]
  },
  {
   "cell_type": "code",
   "execution_count": 11,
   "id": "89daadf8",
   "metadata": {},
   "outputs": [
    {
     "name": "stdout",
     "output_type": "stream",
     "text": [
      "../../output/cleaned_data/NOAA/Janus_core_data/110/674a/sed_lith_110_674a_delimited_pre-janus.csv\n"
     ]
    }
   ],
   "source": [
    "for path in csv_paths:\n",
    "    df = pd.read_csv(path, nrows=0)\n",
    "    if len(df.columns) == 35:\n",
    "        print(path)"
   ]
  },
  {
   "cell_type": "markdown",
   "id": "1e94209f",
   "metadata": {},
   "source": [
    "## check minerals, paleontology, structures, unusual occurrences values"
   ]
  },
  {
   "cell_type": "code",
   "execution_count": 12,
   "id": "97e82bb1",
   "metadata": {},
   "outputs": [],
   "source": [
    "def unique_values(series):\n",
    "    return list(series.dropna().unique())\n",
    "    "
   ]
  },
  {
   "cell_type": "code",
   "execution_count": 13,
   "id": "da5d90f0",
   "metadata": {},
   "outputs": [
    {
     "name": "stdout",
     "output_type": "stream",
     "text": [
      "../../output/cleaned_data/NOAA/Janus_core_data/104/642b/sed_lith_104_642b_delimited_pre-janus.csv\n"
     ]
    }
   ],
   "source": [
    "path = csv_paths[0]\n",
    "print(path)\n",
    "df = pd.read_csv(path)"
   ]
  },
  {
   "cell_type": "code",
   "execution_count": 14,
   "id": "0ed0ac14",
   "metadata": {},
   "outputs": [
    {
     "data": {
      "text/plain": [
       "['fe/mn laminae',\n",
       " 'fe dots (~57 cm); pyrite in burrows(8-16 cm)',\n",
       " 'crystalline fragment dropstones',\n",
       " 'pyrite in burrows',\n",
       " 'pyrite (?) in mottling',\n",
       " 'pyrite in mottling',\n",
       " 'pyrite pockets',\n",
       " 'pyrite in sandy zone(~134 cm);pyrite & volcanic ash(132 cm)',\n",
       " 'volcanic ash? pocket (17 cm)',\n",
       " 'pyrite infilled pores (?)',\n",
       " 'pyrite in burrows (96 cm)',\n",
       " 'pyrite in sandy patches (11, 15-17 cm)',\n",
       " 'pyrite sandy patches (110-113, 127-131 cm)',\n",
       " 'pyrite in burrows (123-126 cm)',\n",
       " 'pyrite in burrow (~86 cm)',\n",
       " 'pyrite in burrows (127 cm)',\n",
       " 'pyrite in burrows (124-132, 138 cm)',\n",
       " 'pyrite in burrows; volcanic ash (96-98,103 cm)',\n",
       " 'pyrite in burrows, pyrite in color bands',\n",
       " 'nannos',\n",
       " 'volcanic ash (120-122 cm)',\n",
       " 'pyrite concretion (50 cm)',\n",
       " 'pyrite in burrows (0-89 cm)',\n",
       " 'pyrite concretions (90, 110 cm)',\n",
       " 'pyrite impregnation along burrows(0-76 cm)',\n",
       " 'pyrite in burrows (50-150 cm)',\n",
       " 'pyrite impregnations (11-150 cm)',\n",
       " 'pyrite impregnations and concretion (111 cm)',\n",
       " 'pyrite concretion (64 cm); volcanic ash (80-90 cm)',\n",
       " 'pyrite in burrows and concretions (1-4 cm)',\n",
       " 'pyrite in concretion and adjacent pyrite sand',\n",
       " 'pyrite (?) in sandy pocket (60 cm)',\n",
       " 'volcanic ash',\n",
       " 'rock fragment (10-12 cm)',\n",
       " 'pyrite concretion and pyrite sands = volcanic ash(102-104cm)',\n",
       " 'pyrite in sandy pockets (130, 144 cm)',\n",
       " 'volcanic ash layers (23-39, 110-113 cm)',\n",
       " 'pyrite lens (35 cm)',\n",
       " 'volcanic ash ? (53-56, 112-114 cm)',\n",
       " 'volcanic ash pocket (25-26 cm)',\n",
       " 'basaltic glass? (81-83, 142-145 cm)',\n",
       " 'basaltic glass? (94-98 cm)',\n",
       " 'pyrite filled pockets (7, 10 cm)',\n",
       " 'volcanic ash (partially disseminated)',\n",
       " 'basaltic glass? (57,72cm)',\n",
       " 'volcanic ash pockets (121, 124 cm)',\n",
       " 'volcanic ash (74, 138-143 cm)',\n",
       " 'possibly disseminated, altered basaltic ash (117-123 cm)',\n",
       " 'possibly disseminsated basaltic ash (54-66 cm)',\n",
       " 'possibly disseminated basaltic ash (98, 102-105, 140-145cm)',\n",
       " 'balsaltic ash (43 cm)',\n",
       " 'basaltic ash',\n",
       " 'possibly disseminated, altered basaltic glass (135-140 cm)']"
      ]
     },
     "execution_count": 14,
     "metadata": {},
     "output_type": "execute_result"
    }
   ],
   "source": [
    "unique_values(df['minerals'])"
   ]
  },
  {
   "cell_type": "code",
   "execution_count": 15,
   "id": "aa696843",
   "metadata": {},
   "outputs": [
    {
     "data": {
      "text/plain": [
       "['forams',\n",
       " 'nanno',\n",
       " 'nannos',\n",
       " 'forams (100-120 cm)',\n",
       " 'forams (0-122 cm)',\n",
       " 'forams in sandy patches (135-145 cm)',\n",
       " 'forams (130-150 cm)',\n",
       " 'zoophycos trace fossil',\n",
       " 'nanno, mollusc fragments (11 cm)',\n",
       " 'nannos; forams',\n",
       " 'forams visible',\n",
       " 'forams (88-102 cm)',\n",
       " 'visible forams (0-120 cm)',\n",
       " 'diatoms',\n",
       " 'forams (50 cm ?), diatoms']"
      ]
     },
     "execution_count": 15,
     "metadata": {},
     "output_type": "execute_result"
    }
   ],
   "source": [
    "unique_values(df['paleontology'])"
   ]
  },
  {
   "cell_type": "code",
   "execution_count": 16,
   "id": "4daae837",
   "metadata": {},
   "outputs": [
    {
     "data": {
      "text/plain": [
       "['grayish color mottling (~27-30 cm);mottling(38-41 cm); minor bioturbation (38-41 cm)',\n",
       " 'parallel laminae',\n",
       " 'fine brownish laminae (~142-145 cm), dropstones',\n",
       " 'moderate bioturbation/pyritized burrows (~114-117 cm), dropstone (~115cm)',\n",
       " 'pyritized burrows/moderate bioturbation (8-16 cm)',\n",
       " 'heavy bioturbation(144-150cm);2 mm burrows (144-150 cm); cross-stratification(138-144cm), dropstones (131, 139 cm)',\n",
       " 'moderate bioturbation',\n",
       " 'moderate (80-93 cm) to heavy (96-100 cm) bioturbation; large granite dropstones (~116cm)',\n",
       " 'parallel laminae (119-127 cm), dropstones, small (119-127 cm), large (132 cm)',\n",
       " 'laminae',\n",
       " 'dropstones (~67,93,122cm), minor bioturbation (45-100 cm)',\n",
       " 'dropstone? (~136 cm)',\n",
       " 'minor bioturbation (14-55 cm)',\n",
       " 'scattered dropstones (105-110 cm, 136-141 cm)',\n",
       " 'black mottling/minor bioturbation (8-37 cm); faint laminae below 30 cm',\n",
       " 'dropstones, 5y 3/2 mottling(47-64 cm); mottling(64-80, 80-110 cm)',\n",
       " 'faint black mottling; minor bioturbation, dropstones',\n",
       " 'black mottling (131-138 cm)',\n",
       " 'mottling (22-26 cm)',\n",
       " 'very dark gray to black mottling, minor bioturbation',\n",
       " 'mottling, dropstones (sand-sized 0-4cm); 1 cm at 44, 53 cm)',\n",
       " 'dropstones, clay (53-60 cm), 2-5 mm at 91, 96, 107 cm',\n",
       " 'mottling (113-148 cm), dropstones (138, 146-147 cm)',\n",
       " 'mottling (0-20, 31-35 cm), heavy bioturbation (31-35 cm), minor bioturbation (0-20 cm); dropstone (16-17 cm)',\n",
       " 'mottling; weak horizontal layering, dropstones',\n",
       " 'interbeding (<1 cm thick)',\n",
       " 'black and dark olive green mottling, moderate bioturbation',\n",
       " 'black mottling',\n",
       " 'mottling(0-10,21-100cm);laminae(10-21cm);minor(0-10,21-100,116-119cm)to moderate (105-109cm) bioturbation',\n",
       " 'black mottling (100-105 cm); gray mottling (105-109 cm)']"
      ]
     },
     "execution_count": 16,
     "metadata": {},
     "output_type": "execute_result"
    }
   ],
   "source": [
    "unique_values(df['structures'])[0:30]"
   ]
  },
  {
   "cell_type": "code",
   "execution_count": 17,
   "id": "e6b725c3",
   "metadata": {},
   "outputs": [
    {
     "data": {
      "text/plain": [
       "['small dropstones (8-100 cm)',\n",
       " 'pebbles (17-19 cm)',\n",
       " 'volcanic ash layer (~132 cm)',\n",
       " 'mud pebbles (149 cm)',\n",
       " 'soft mud pebbles',\n",
       " 'reworked very dark gray mud pebbles (especially 110, 120 cm)',\n",
       " 'large mud pebbles (70-75cm)',\n",
       " 'pyrite concretion (50 cm) along large burrows',\n",
       " 'pyrite concretions (90, 110 cm)',\n",
       " 'pyrite concretion (111 cm)',\n",
       " 'pyrite concretion (64 cm)',\n",
       " 'pyrite concretions (1-4 cm)',\n",
       " 'pyrite concretion (132 cm)',\n",
       " 'pyrite concretion(102-104 cm)',\n",
       " 'pebbles/crs sand (100-115 cm) (dropstones ?)']"
      ]
     },
     "execution_count": 17,
     "metadata": {},
     "output_type": "execute_result"
    }
   ],
   "source": [
    "unique_values(df['unusual occurrences'])"
   ]
  },
  {
   "cell_type": "code",
   "execution_count": null,
   "id": "c2a00079",
   "metadata": {},
   "outputs": [],
   "source": []
  }
 ],
 "metadata": {
  "kernelspec": {
   "display_name": "Python 3 (ipykernel)",
   "language": "python",
   "name": "python3"
  },
  "language_info": {
   "codemirror_mode": {
    "name": "ipython",
    "version": 3
   },
   "file_extension": ".py",
   "mimetype": "text/x-python",
   "name": "python",
   "nbconvert_exporter": "python",
   "pygments_lexer": "ipython3",
   "version": "3.8.2"
  }
 },
 "nbformat": 4,
 "nbformat_minor": 5
}
