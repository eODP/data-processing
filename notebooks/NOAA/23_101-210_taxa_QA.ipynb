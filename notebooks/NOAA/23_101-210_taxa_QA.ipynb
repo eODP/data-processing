{
 "cells": [
  {
   "cell_type": "markdown",
   "id": "03e82fb8",
   "metadata": {},
   "source": [
    "# QA NOAA Janus IODP metadata\n",
    "## 101-210 taxa, 101-190 age\n",
    "\n",
    "Get basic metadata (file names, column names) about NOAA Janus IODP dataset. Create csv that lists all the files.\n",
    "\n",
    "NOAA/JanusIODP_paleo_agemodel  \n",
    "expedition 101-210 \n",
    "taxa 101-210, age models 101-190"
   ]
  },
  {
   "cell_type": "code",
   "execution_count": 4,
   "id": "5f73ddc3",
   "metadata": {},
   "outputs": [],
   "source": [
    "import sys\n",
    "sys.path.append('../../')\n",
    "import glob\n",
    "from pathlib import Path\n",
    "import os\n",
    "import re \n",
    "import pandas as pd\n",
    "import numpy as np\n",
    "import shutil\n",
    "\n",
    "from scripts.normalize_noaa_files import (\n",
    "    unique_filenames_for_paths,\n",
    "    unique_columns_for_paths,\n",
    "    filename_index,\n",
    "    format_filepaths_set,\n",
    "    qa_files_for_paths,\n",
    "    column_counts_for_paths\n",
    ")\n",
    "import scripts.space_delim as sd\n",
    "from config import OUTPUT_DIR, CLEAN_DATA_DIR, RAW_DATA_DIR\n"
   ]
  },
  {
   "cell_type": "code",
   "execution_count": 5,
   "id": "21d9579c",
   "metadata": {},
   "outputs": [],
   "source": [
    "base_dir = CLEAN_DATA_DIR\n",
    "data_dir = base_dir/'NOAA'/'JanusIODP_paleo_agemodel'\n",
    "metadata_path = OUTPUT_DIR/'metadata'/'NOAA'/'noaa_janus_iodp_files.csv'"
   ]
  },
  {
   "cell_type": "code",
   "execution_count": 6,
   "id": "a32242e0",
   "metadata": {},
   "outputs": [
    {
     "name": "stdout",
     "output_type": "stream",
     "text": [
      "files 2481\n"
     ]
    }
   ],
   "source": [
    "csv_paths = list(data_dir.glob(\"**/*.csv\"))\n",
    "print('files', len(csv_paths))"
   ]
  },
  {
   "cell_type": "code",
   "execution_count": 7,
   "id": "a3871b7e",
   "metadata": {},
   "outputs": [
    {
     "name": "stdout",
     "output_type": "stream",
     "text": [
      "files 2045\n"
     ]
    }
   ],
   "source": [
    "taxa_csv_paths = list(data_dir.glob(\"paleontology/range_tables/**/*.csv\"))\n",
    "print('files', len(taxa_csv_paths))"
   ]
  },
  {
   "cell_type": "code",
   "execution_count": 8,
   "id": "b573f95c",
   "metadata": {},
   "outputs": [
    {
     "name": "stdout",
     "output_type": "stream",
     "text": [
      "files 436\n"
     ]
    }
   ],
   "source": [
    "age_csv_paths = list(data_dir.glob(\"paleontology/age_models/**/*.csv\"))\n",
    "print('files', len(age_csv_paths))"
   ]
  },
  {
   "cell_type": "markdown",
   "id": "1da620aa",
   "metadata": {},
   "source": [
    "## unique file names\n",
    "\n",
    "Get all the file names."
   ]
  },
  {
   "cell_type": "code",
   "execution_count": 17,
   "id": "2492c51e",
   "metadata": {},
   "outputs": [
    {
     "data": {
      "text/plain": [
       "{'Benthic Foraminifers.csv',\n",
       " 'Benthic_Foraminifers.csv',\n",
       " 'Bolboforms.csv',\n",
       " 'Diatoms.csv',\n",
       " 'Dinoflagellates_Acritarch_Prasinophytes.csv',\n",
       " 'Dinoflagellates_Acritarchs_Prasinophytes.csv',\n",
       " 'Macrofossils.csv',\n",
       " 'Miscellaneous.csv',\n",
       " 'Nannofossils .csv',\n",
       " 'Nannofossils.csv',\n",
       " 'Ostracodes.csv',\n",
       " 'Planktonic Foraminifers.csv',\n",
       " 'Planktonic_Foraminifers .csv',\n",
       " 'Planktonic_Foraminifers.csv',\n",
       " 'Pollen_Spores.csv',\n",
       " 'Pteropods.csv',\n",
       " 'Radiolarians.csv',\n",
       " 'Silicoflagellates_Ebridians_Actiniscidians.csv',\n",
       " 'Sponge_Spicules.csv',\n",
       " 'Trace_Fossils.csv'}"
      ]
     },
     "execution_count": 17,
     "metadata": {},
     "output_type": "execute_result"
    }
   ],
   "source": [
    "files = unique_filenames_for_paths(taxa_csv_paths)\n",
    "files"
   ]
  },
  {
   "cell_type": "code",
   "execution_count": 18,
   "id": "c42c1c96",
   "metadata": {},
   "outputs": [
    {
     "data": {
      "text/plain": [
       "20"
      ]
     },
     "execution_count": 18,
     "metadata": {},
     "output_type": "execute_result"
    }
   ],
   "source": [
    "len(files)"
   ]
  },
  {
   "cell_type": "code",
   "execution_count": 19,
   "id": "810ce778",
   "metadata": {},
   "outputs": [
    {
     "data": {
      "text/plain": [
       "{'Age_Model_Initial_Report.csv',\n",
       " 'Age_Model_Initial_Reports.csv',\n",
       " 'Age_Model_Post_Moratorium.csv',\n",
       " 'Age_Model_Shipboard.csv',\n",
       " 'Age_Model_Shipboard_Report.csv'}"
      ]
     },
     "execution_count": 19,
     "metadata": {},
     "output_type": "execute_result"
    }
   ],
   "source": [
    "unique_filenames_for_paths(age_csv_paths)"
   ]
  },
  {
   "cell_type": "markdown",
   "id": "d5fc5f3c",
   "metadata": {},
   "source": [
    "## column names"
   ]
  },
  {
   "cell_type": "code",
   "execution_count": 20,
   "id": "037c6b33",
   "metadata": {},
   "outputs": [
    {
     "data": {
      "text/plain": [
       "12980"
      ]
     },
     "execution_count": 20,
     "metadata": {},
     "output_type": "execute_result"
    }
   ],
   "source": [
    "taxa_columns = unique_columns_for_paths(taxa_csv_paths)\n",
    "len(taxa_columns)"
   ]
  },
  {
   "cell_type": "markdown",
   "id": "e80f1b9b",
   "metadata": {},
   "source": [
    "## file list\n",
    "\n",
    "Create csv that lists all the files for this dataset."
   ]
  },
  {
   "cell_type": "code",
   "execution_count": 48,
   "id": "d6b57920",
   "metadata": {},
   "outputs": [],
   "source": [
    "file_list = []\n",
    "switch = {\n",
    "    'Benthic Foraminifers.csv': 'benthic_foraminfera',\n",
    "    'Benthic_Foraminifers.csv': 'benthic_foraminfera',\n",
    "    'Bolboforms.csv': 'bolboformids',\n",
    "    'Diatoms.csv': 'diatoms',\n",
    "    'Dinoflagellates_Acritarch_Prasinophytes.csv': 'dinoflagellates/acritarchs/prasinophytes',\n",
    "    'Dinoflagellates_Acritarchs_Prasinophytes.csv': 'dinoflagellates/acritarchs/prasinophytes',\n",
    "    'Macrofossils.csv': 'macrofossils',\n",
    "    'Miscellaneous.csv': 'miscellaneous',\n",
    "    'Nannofossils .csv': 'nannofossils',\n",
    "    'Nannofossils.csv': 'nannofossils',\n",
    "    'Ostracodes.csv': 'ostracods',\n",
    "    'Planktonic Foraminifers.csv': 'planktic_foraminfera',\n",
    "    'Planktonic_Foraminifers .csv': 'planktic_foraminfera',\n",
    "    'Planktonic_Foraminifers.csv': 'planktic_foraminfera',\n",
    "    'Pollen_Spores.csv': 'pollen',\n",
    "    'Pteropods.csv': 'pteropods',\n",
    "    'Radiolarians.csv': 'radiolarians',\n",
    "    'Silicoflagellates_Ebridians_Actiniscidians.csv': 'silicoflagellates/ebridians/actiniscidians',\n",
    "    'Sponge_Spicules.csv': 'sponge_spicules',\n",
    "    'Trace_Fossils.csv': 'trace_fossils'\n",
    "}\n",
    "index = filename_index(csv_paths[0])\n",
    "\n",
    "for path in csv_paths:\n",
    "    file_data = {}\n",
    "    relative_path = path.relative_to(base_dir)\n",
    "    path_parts = relative_path.parts\n",
    "    filename = relative_path.name \n",
    "    \n",
    "    file_data['path'] = relative_path\n",
    "    \n",
    "    if filename.startswith('Age_'):\n",
    "        type = 'age'\n",
    "    else:\n",
    "        type = 'taxa'\n",
    "    file_data['type'] = type\n",
    "    \n",
    "    if type == 'taxa':\n",
    "        file_data['taxon_group'] = switch.get(filename, np.nan)\n",
    "    \n",
    "    file_data['expedition'] = path_parts[4]\n",
    "    file_data['site'] = path_parts[5]\n",
    "\n",
    "    \n",
    "    file_list.append(file_data)\n",
    " "
   ]
  },
  {
   "cell_type": "code",
   "execution_count": 55,
   "id": "0d1e5d3f",
   "metadata": {},
   "outputs": [
    {
     "data": {
      "text/html": [
       "<div>\n",
       "<style scoped>\n",
       "    .dataframe tbody tr th:only-of-type {\n",
       "        vertical-align: middle;\n",
       "    }\n",
       "\n",
       "    .dataframe tbody tr th {\n",
       "        vertical-align: top;\n",
       "    }\n",
       "\n",
       "    .dataframe thead th {\n",
       "        text-align: right;\n",
       "    }\n",
       "</style>\n",
       "<table border=\"1\" class=\"dataframe\">\n",
       "  <thead>\n",
       "    <tr style=\"text-align: right;\">\n",
       "      <th></th>\n",
       "      <th>path</th>\n",
       "      <th>type</th>\n",
       "      <th>expedition</th>\n",
       "      <th>site</th>\n",
       "      <th>taxon_group</th>\n",
       "    </tr>\n",
       "  </thead>\n",
       "  <tbody>\n",
       "    <tr>\n",
       "      <th>1868</th>\n",
       "      <td>NOAA/JanusIODP_paleo_agemodel/paleontology/ran...</td>\n",
       "      <td>taxa</td>\n",
       "      <td>101</td>\n",
       "      <td>626</td>\n",
       "      <td>benthic_foraminfera</td>\n",
       "    </tr>\n",
       "    <tr>\n",
       "      <th>1871</th>\n",
       "      <td>NOAA/JanusIODP_paleo_agemodel/paleontology/ran...</td>\n",
       "      <td>taxa</td>\n",
       "      <td>101</td>\n",
       "      <td>626</td>\n",
       "      <td>benthic_foraminfera</td>\n",
       "    </tr>\n",
       "    <tr>\n",
       "      <th>1867</th>\n",
       "      <td>NOAA/JanusIODP_paleo_agemodel/paleontology/ran...</td>\n",
       "      <td>taxa</td>\n",
       "      <td>101</td>\n",
       "      <td>626</td>\n",
       "      <td>nannofossils</td>\n",
       "    </tr>\n",
       "    <tr>\n",
       "      <th>1870</th>\n",
       "      <td>NOAA/JanusIODP_paleo_agemodel/paleontology/ran...</td>\n",
       "      <td>taxa</td>\n",
       "      <td>101</td>\n",
       "      <td>626</td>\n",
       "      <td>nannofossils</td>\n",
       "    </tr>\n",
       "    <tr>\n",
       "      <th>1869</th>\n",
       "      <td>NOAA/JanusIODP_paleo_agemodel/paleontology/ran...</td>\n",
       "      <td>taxa</td>\n",
       "      <td>101</td>\n",
       "      <td>626</td>\n",
       "      <td>planktic_foraminfera</td>\n",
       "    </tr>\n",
       "  </tbody>\n",
       "</table>\n",
       "</div>"
      ],
      "text/plain": [
       "                                                   path  type expedition site  \\\n",
       "1868  NOAA/JanusIODP_paleo_agemodel/paleontology/ran...  taxa        101  626   \n",
       "1871  NOAA/JanusIODP_paleo_agemodel/paleontology/ran...  taxa        101  626   \n",
       "1867  NOAA/JanusIODP_paleo_agemodel/paleontology/ran...  taxa        101  626   \n",
       "1870  NOAA/JanusIODP_paleo_agemodel/paleontology/ran...  taxa        101  626   \n",
       "1869  NOAA/JanusIODP_paleo_agemodel/paleontology/ran...  taxa        101  626   \n",
       "\n",
       "               taxon_group  \n",
       "1868   benthic_foraminfera  \n",
       "1871   benthic_foraminfera  \n",
       "1867          nannofossils  \n",
       "1870          nannofossils  \n",
       "1869  planktic_foraminfera  "
      ]
     },
     "execution_count": 55,
     "metadata": {},
     "output_type": "execute_result"
    }
   ],
   "source": [
    "df = pd.DataFrame(file_list)\n",
    "df = df.sort_values(by=['expedition', 'site', 'type', 'taxon_group'])\n",
    "df.head()"
   ]
  },
  {
   "cell_type": "code",
   "execution_count": 56,
   "id": "50bea5c2",
   "metadata": {},
   "outputs": [],
   "source": [
    "df.to_csv(metadata_path, index=False)"
   ]
  },
  {
   "cell_type": "markdown",
   "id": "b46904bb",
   "metadata": {},
   "source": [
    "## QA ODP paleo files\n",
    "\n",
    "Count the number of good files vs bad files that need to be fixed"
   ]
  },
  {
   "cell_type": "code",
   "execution_count": 10,
   "id": "663c7a1c",
   "metadata": {},
   "outputs": [],
   "source": [
    "expected_fields = {\n",
    "    'Data',\n",
    "    'Age From (oldest)',\n",
    "    'Age To (youngest)',\n",
    "    'Zone From (bottom)',\n",
    "    'Zone To  (top)',\n",
    "    'Leg',\n",
    "    'Site',\n",
    "    'H',\n",
    "    'Cor',\n",
    "    'T',\n",
    "    'Sc',\n",
    "    'Top(cm)',\n",
    "    'Depth (mbsf)',\n",
    "    'Scientist',\n",
    "#     'Fossil Group',\n",
    "    'Comment', \n",
    "    'Group Abundance',\n",
    "    'Group Preservation'\n",
    "}\n",
    "\n",
    "results = qa_files_for_paths(taxa_csv_paths, expected_fields, sep=',')"
   ]
  },
  {
   "cell_type": "code",
   "execution_count": 11,
   "id": "03d15457",
   "metadata": {},
   "outputs": [
    {
     "name": "stdout",
     "output_type": "stream",
     "text": [
      "bad_tabs 0\n",
      "bad_encoding 0\n",
      "space_delim 0\n",
      "missing_fields 0\n",
      "good_files 2007\n",
      "unnamed_column 38\n"
     ]
    }
   ],
   "source": [
    "print('bad_tabs', len(results['bad_tabs']))\n",
    "print('bad_encoding', len(results['bad_encoding']))\n",
    "print('space_delim', len(results['space_delim']))\n",
    "print('missing_fields', len(results['missing_fields']))\n",
    "print('good_files', len(results['good_files']))\n",
    "print('unnamed_column', len(results['unnamed_column']))"
   ]
  },
  {
   "cell_type": "markdown",
   "id": "dc3bd9f4",
   "metadata": {},
   "source": [
    "### process latin_encoding\n",
    "handle files with encoding that isn't utf-8"
   ]
  },
  {
   "cell_type": "code",
   "execution_count": 12,
   "id": "a1dbe009",
   "metadata": {},
   "outputs": [],
   "source": [
    "for file in results['bad_encoding']:\n",
    "    pass"
   ]
  },
  {
   "cell_type": "markdown",
   "id": "d4f364f6",
   "metadata": {},
   "source": [
    "convert file to utf-8 encoding\n",
    "https://codereview.stackexchange.com/a/202985"
   ]
  },
  {
   "cell_type": "code",
   "execution_count": 13,
   "id": "7c0453ab",
   "metadata": {},
   "outputs": [],
   "source": [
    "for file in results['bad_encoding']:\n",
    "    with open(file, 'rb') as f:\n",
    "        content_bytes = f.read()\n",
    "    detected = chardet.detect(content_bytes)\n",
    "    encoding = detected['encoding']\n",
    "    content_text = content_bytes.decode(encoding)\n",
    "    \n",
    "    with open(file, 'w', encoding='utf-8') as f:\n",
    "        f.write(content_text)\n",
    "        print(file)"
   ]
  },
  {
   "cell_type": "markdown",
   "id": "c4cd9ec0",
   "metadata": {},
   "source": [
    "### process bad_tabs\n",
    "handle files where the hearers and rows have different number of columns"
   ]
  },
  {
   "cell_type": "code",
   "execution_count": 14,
   "id": "51ef7a15",
   "metadata": {},
   "outputs": [],
   "source": [
    "for file in results['bad_tabs']:\n",
    "    pass"
   ]
  },
  {
   "cell_type": "markdown",
   "id": "569fa295",
   "metadata": {},
   "source": [
    "### process missing_fields\n",
    "\n",
    "handle files don't have the expected columns"
   ]
  },
  {
   "cell_type": "code",
   "execution_count": 15,
   "id": "e31a2dbd",
   "metadata": {},
   "outputs": [],
   "source": [
    "for file in results['missing_fields']:\n",
    "    print(file)\n",
    "    df = pd.read_csv(file, nrows=1)\n",
    "    print(expected_fields - set(df.columns))"
   ]
  },
  {
   "cell_type": "markdown",
   "id": "19a804cb",
   "metadata": {},
   "source": [
    "### process unnamed_column\n",
    "handle files with unnamed columns"
   ]
  },
  {
   "cell_type": "code",
   "execution_count": 16,
   "id": "0f96a2e8",
   "metadata": {},
   "outputs": [
    {
     "data": {
      "text/plain": [
       "[PosixPath('../../output/cleaned_data/NOAA/JanusIODP_paleo_agemodel/paleontology/range_tables/192/1183/HOLE_A/Nannofossils.csv'),\n",
       " PosixPath('../../output/cleaned_data/NOAA/JanusIODP_paleo_agemodel/paleontology/range_tables/167/1010/HOLE_E/Radiolarians.csv')]"
      ]
     },
     "execution_count": 16,
     "metadata": {},
     "output_type": "execute_result"
    }
   ],
   "source": [
    "results['unnamed_column'][0:2]"
   ]
  },
  {
   "cell_type": "markdown",
   "id": "6d3a4390",
   "metadata": {},
   "source": [
    "remove blank lines"
   ]
  },
  {
   "cell_type": "code",
   "execution_count": 17,
   "id": "bf0c5787",
   "metadata": {},
   "outputs": [],
   "source": [
    "raw_url = '../../raw_data/NOAA/JanusIODP_paleo_agemodel/paleontology/range_tables/'\n",
    "clean_url = '../../output/cleaned_data/NOAA/JanusIODP_paleo_agemodel/paleontology/range_tables/'"
   ]
  },
  {
   "cell_type": "code",
   "execution_count": 18,
   "id": "b215f112",
   "metadata": {},
   "outputs": [
    {
     "name": "stdout",
     "output_type": "stream",
     "text": [
      "../../output/cleaned_data/NOAA/JanusIODP_paleo_agemodel/paleontology/range_tables/192/1183/HOLE_A/Nannofossils.csv\n",
      "['C                 ' 'R                 ' '                  ']\n",
      "../../output/cleaned_data/NOAA/JanusIODP_paleo_agemodel/paleontology/range_tables/167/1010/HOLE_E/Radiolarians.csv\n",
      "['                   ' '+                  ']\n",
      "../../output/cleaned_data/NOAA/JanusIODP_paleo_agemodel/paleontology/range_tables/167/1010/HOLE_C/Radiolarians.csv\n",
      "['T                      ' '                       ']\n",
      "../../output/cleaned_data/NOAA/JanusIODP_paleo_agemodel/paleontology/range_tables/167/1011/HOLE_B/Radiolarians.csv\n",
      "['+                     ' '                      ']\n",
      "../../output/cleaned_data/NOAA/JanusIODP_paleo_agemodel/paleontology/range_tables/151/907/HOLE_A/Radiolarians.csv\n",
      "['                 ' '+                ']\n",
      "../../output/cleaned_data/NOAA/JanusIODP_paleo_agemodel/paleontology/range_tables/189/1169/HOLE_A/Radiolarians.csv\n",
      "['R                      ' '                       ']\n",
      "../../output/cleaned_data/NOAA/JanusIODP_paleo_agemodel/paleontology/range_tables/120/749/HOLE_B/Silicoflagellates_Ebridians_Actiniscidians.csv\n",
      "['1' '                                         ']\n",
      "../../output/cleaned_data/NOAA/JanusIODP_paleo_agemodel/paleontology/range_tables/144/872/HOLE_B/Nannofossils.csv\n",
      "['R                         ' '                          ']\n",
      "../../output/cleaned_data/NOAA/JanusIODP_paleo_agemodel/paleontology/range_tables/198/1208/HOLE_A/Nannofossils.csv\n",
      "['C                ' '                 ']\n",
      "../../output/cleaned_data/NOAA/JanusIODP_paleo_agemodel/paleontology/range_tables/198/1207/HOLE_B/Nannofossils.csv\n",
      "['+                       ' '                        ']\n",
      "../../output/cleaned_data/NOAA/JanusIODP_paleo_agemodel/paleontology/range_tables/198/1207/HOLE_A/Nannofossils.csv\n",
      "['+                    ' '                     ']\n",
      "../../output/cleaned_data/NOAA/JanusIODP_paleo_agemodel/paleontology/range_tables/198/1213/HOLE_A/Nannofossils.csv\n",
      "['A                   ' '                    ']\n",
      "../../output/cleaned_data/NOAA/JanusIODP_paleo_agemodel/paleontology/range_tables/198/1212/HOLE_B/Nannofossils.csv\n",
      "['C                        ' '                         ']\n",
      "../../output/cleaned_data/NOAA/JanusIODP_paleo_agemodel/paleontology/range_tables/198/1210/HOLE_B/Nannofossils.csv\n",
      "['A                   ' '                    ']\n",
      "../../output/cleaned_data/NOAA/JanusIODP_paleo_agemodel/paleontology/range_tables/162/907/HOLE_B/Planktonic_Foraminifers.csv\n",
      "['T                                    '\n",
      " '                                     ']\n",
      "../../output/cleaned_data/NOAA/JanusIODP_paleo_agemodel/paleontology/range_tables/162/984/HOLE_B/Planktonic_Foraminifers.csv\n",
      "['                         ' 'T                        ']\n",
      "../../output/cleaned_data/NOAA/JanusIODP_paleo_agemodel/paleontology/range_tables/162/985/HOLE_A/Planktonic_Foraminifers.csv\n",
      "['F                      ' '                       ']\n",
      "../../output/cleaned_data/NOAA/JanusIODP_paleo_agemodel/paleontology/range_tables/162/982/HOLE_B/Bolboforms.csv\n",
      "['                  ' 'T                 ' 'C                 '\n",
      " 'R                 ']\n",
      "../../output/cleaned_data/NOAA/JanusIODP_paleo_agemodel/paleontology/range_tables/162/982/HOLE_B/Planktonic_Foraminifers.csv\n",
      "['                         ' 'F                        '\n",
      " 'C                        ' 'R                        '\n",
      " 'T                        ']\n",
      "../../output/cleaned_data/NOAA/JanusIODP_paleo_agemodel/paleontology/range_tables/162/982/HOLE_A/Planktonic_Foraminifers.csv\n",
      "['F                   ' 'C                   ' '                    ']\n",
      "../../output/cleaned_data/NOAA/JanusIODP_paleo_agemodel/paleontology/range_tables/191/1179/HOLE_B/Radiolarians.csv\n",
      "['F                        ' '                         ']\n",
      "../../output/cleaned_data/NOAA/JanusIODP_paleo_agemodel/paleontology/range_tables/191/1179/HOLE_C/Radiolarians.csv\n",
      "['F                        ' '                         ']\n",
      "../../output/cleaned_data/NOAA/JanusIODP_paleo_agemodel/paleontology/range_tables/197/1204/HOLE_B/Nannofossils.csv\n",
      "['R              ' '               ' '       ']\n",
      "../../output/cleaned_data/NOAA/JanusIODP_paleo_agemodel/paleontology/range_tables/197/1204/HOLE_A/Nannofossils.csv\n",
      "['R                  ' '                   ']\n",
      "../../output/cleaned_data/NOAA/JanusIODP_paleo_agemodel/paleontology/range_tables/197/1203/HOLE_A/Nannofossils.csv\n",
      "['                 ' 'R                ']\n",
      "../../output/cleaned_data/NOAA/JanusIODP_paleo_agemodel/paleontology/range_tables/199/1218/HOLE_A/Radiolarians.csv\n",
      "['+                   ' '                    ']\n",
      "../../output/cleaned_data/NOAA/JanusIODP_paleo_agemodel/paleontology/range_tables/199/1220/HOLE_A/Radiolarians.csv\n",
      "['+                    ' '                     ']\n",
      "../../output/cleaned_data/NOAA/JanusIODP_paleo_agemodel/paleontology/range_tables/115/714/HOLE_A/Planktonic_Foraminifers.csv\n",
      "['+                        ' '                         '\n",
      " 'from 115 SR. Chapter 19. Table 7. pages 304-307.'\n",
      " 'reworking few. from 115 SR. Chapter 19. Table 7. pages 304-307.'\n",
      " 'reworking present. contamination present. from 115 SR. Chapter 19. Table 7. pages 304-307.'\n",
      " 'contamination present. from 115 SR. Chapter 19. Table 7. pages 304-307.'\n",
      " 'contamination few. from 115 SR. Chapter 19. Table 7. pages 304-307.']\n",
      "../../output/cleaned_data/NOAA/JanusIODP_paleo_agemodel/paleontology/range_tables/115/710/HOLE_A/Planktonic_Foraminifers.csv\n",
      "['                    ' '+                   '\n",
      " 'from 115 SR. Chapter 19. Table 6. pages 298-299.'\n",
      " 'reworking present. from 115 SR. Chapter 19. Table 6. pages 298-299.'\n",
      " 'Questionable zone assignment. reworking present. contamination present. from 115 SR. Chapter 19. Table 6. pages 298-299.'\n",
      " 'contamination very few. from 115 SR. Chapter 19. Table 6. pages 298-299.'\n",
      " 'reworking few. contamination few. from 115 SR. Chapter 19. Table 6. pages 298-299.']\n",
      "../../output/cleaned_data/NOAA/JanusIODP_paleo_agemodel/paleontology/range_tables/170/1039/HOLE_B/Diatoms.csv\n",
      "['T                        ' '                         ']\n",
      "../../output/cleaned_data/NOAA/JanusIODP_paleo_agemodel/paleontology/range_tables/171/1051/HOLE_A/Radiolarians.csv\n",
      "['R                ' '                 ']\n",
      "../../output/cleaned_data/NOAA/JanusIODP_paleo_agemodel/paleontology/range_tables/171/1050/HOLE_C/Nannofossils.csv\n",
      "['+                ' '                 ']\n",
      "../../output/cleaned_data/NOAA/JanusIODP_paleo_agemodel/paleontology/range_tables/171/1050/HOLE_A/Radiolarians.csv\n",
      "['F                   ' '                    ']\n",
      "../../output/cleaned_data/NOAA/JanusIODP_paleo_agemodel/paleontology/range_tables/171/1052/HOLE_A/Radiolarians.csv\n",
      "['R                 ' '                  ']\n",
      "../../output/cleaned_data/NOAA/JanusIODP_paleo_agemodel/paleontology/range_tables/171/1053/HOLE_A/Radiolarians.csv\n",
      "['F                      ' 'R                      '\n",
      " '                       ']\n",
      "../../output/cleaned_data/NOAA/JanusIODP_paleo_agemodel/paleontology/range_tables/171/1049/HOLE_B/Nannofossils.csv\n",
      "['R               ' '                ']\n",
      "../../output/cleaned_data/NOAA/JanusIODP_paleo_agemodel/paleontology/range_tables/171/1049/HOLE_A/Nannofossils.csv\n",
      "['+                     ' '                      ' nan]\n",
      "../../output/cleaned_data/NOAA/JanusIODP_paleo_agemodel/paleontology/range_tables/171/1049/HOLE_A/Radiolarians.csv\n",
      "['F                  ' '                   ']\n"
     ]
    }
   ],
   "source": [
    "for file in results['unnamed_column']:\n",
    "    print(file)\n",
    "    df = pd.read_csv(file, dtype=str)\n",
    "    df.dropna(how='all', axis='index', inplace=True)\n",
    "\n",
    "    last_columns = df.columns[(len(df.columns)-2):len(df.columns)]\n",
    "    \n",
    "    last_taxa = df.columns[(len(df.columns)-2)]\n",
    "    print(df[last_taxa].unique() )\n",
    "#     print(df[last_columns].head(2))\n",
    " \n"
   ]
  },
  {
   "cell_type": "markdown",
   "id": "a54cd46d",
   "metadata": {},
   "source": [
    "### process space_delim\n",
    "\n",
    "handle files that use random number of spaces to separate the columns"
   ]
  },
  {
   "cell_type": "code",
   "execution_count": 9,
   "id": "f8db98cc",
   "metadata": {},
   "outputs": [
    {
     "ename": "NameError",
     "evalue": "name 'results' is not defined",
     "output_type": "error",
     "traceback": [
      "\u001b[0;31m---------------------------------------------------------------------------\u001b[0m",
      "\u001b[0;31mNameError\u001b[0m                                 Traceback (most recent call last)",
      "Input \u001b[0;32mIn [9]\u001b[0m, in \u001b[0;36m<cell line: 1>\u001b[0;34m()\u001b[0m\n\u001b[0;32m----> 1\u001b[0m \u001b[43mresults\u001b[49m[\u001b[38;5;124m'\u001b[39m\u001b[38;5;124mspace_delim\u001b[39m\u001b[38;5;124m'\u001b[39m][\u001b[38;5;241m0\u001b[39m:\u001b[38;5;241m2\u001b[39m]\n",
      "\u001b[0;31mNameError\u001b[0m: name 'results' is not defined"
     ]
    }
   ],
   "source": [
    "results['space_delim'][0:2]"
   ]
  },
  {
   "cell_type": "code",
   "execution_count": 10,
   "id": "f84fd4ea",
   "metadata": {},
   "outputs": [],
   "source": [
    "def spaces(int):\n",
    "    return ' ' * int\n",
    "\n",
    "def replace_path(file, old_path, new_path):\n",
    "    index = file.parts.index(old_path)\n",
    "    return Path().joinpath(*file.parts[0:index], new_path, *file.parts[index + 1:])\n",
    "    \n",
    "    "
   ]
  },
  {
   "cell_type": "markdown",
   "id": "43e8837d",
   "metadata": {},
   "source": [
    "automatically process raw files with spaces"
   ]
  },
  {
   "cell_type": "code",
   "execution_count": 11,
   "id": "ce4e256d",
   "metadata": {},
   "outputs": [
    {
     "ename": "NameError",
     "evalue": "name 'results' is not defined",
     "output_type": "error",
     "traceback": [
      "\u001b[0;31m---------------------------------------------------------------------------\u001b[0m",
      "\u001b[0;31mNameError\u001b[0m                                 Traceback (most recent call last)",
      "Input \u001b[0;32mIn [11]\u001b[0m, in \u001b[0;36m<cell line: 1>\u001b[0;34m()\u001b[0m\n\u001b[0;32m----> 1\u001b[0m \u001b[38;5;28;01mfor\u001b[39;00m file \u001b[38;5;129;01min\u001b[39;00m \u001b[43mresults\u001b[49m[\u001b[38;5;124m'\u001b[39m\u001b[38;5;124mspace_delim\u001b[39m\u001b[38;5;124m'\u001b[39m]:\n\u001b[1;32m      2\u001b[0m     df \u001b[38;5;241m=\u001b[39m sd\u001b[38;5;241m.\u001b[39mconvert_space_delim_file(file)\n\u001b[1;32m      4\u001b[0m     index \u001b[38;5;241m=\u001b[39m file\u001b[38;5;241m.\u001b[39mparts\u001b[38;5;241m.\u001b[39mindex(\u001b[38;5;124m'\u001b[39m\u001b[38;5;124mraw_data\u001b[39m\u001b[38;5;124m'\u001b[39m)\n",
      "\u001b[0;31mNameError\u001b[0m: name 'results' is not defined"
     ]
    }
   ],
   "source": [
    "for file in results['space_delim']:\n",
    "    df = sd.convert_space_delim_file(file)\n",
    "    \n",
    "    index = file.parts.index('raw_data')\n",
    "    path = Path('../../output/cleaned_data').joinpath(*file.parts[index + 1:])\n",
    "    df.to_csv(path, index=False)"
   ]
  },
  {
   "cell_type": "markdown",
   "id": "eb77b4e9",
   "metadata": {},
   "source": [
    "manual cleanup; file needs to be fixed by PIs: Z Actiniscus pentasterias,X Phytoliths diff. shapes"
   ]
  },
  {
   "cell_type": "code",
   "execution_count": 12,
   "id": "aabd6900",
   "metadata": {},
   "outputs": [],
   "source": [
    "file = '../../raw_data/NOAA/JanusIODP_paleo_agemodel/paleontology/range_tables/175/1077/HOLE_A/Diatoms.csv'\n",
    "output = file.replace('raw_data', 'output/cleaned_data')\n",
    "\n",
    "with open(file) as reader:\n",
    "    \n",
    "    all_lines = []\n",
    "    for line in reader:\n",
    "        if line == '\"\"\\n':\n",
    "                continue\n",
    "\n",
    "        new_line = line\n",
    "        new_line = new_line.replace('\"\"Rhizosolenia \"\"\"\"Imbricatae\"\"\"\"\"\"', 'Rhizosolenia \"Imbricatae\"')\n",
    "        text = 'other Freshwater (Achnanthes; Fragilaria, etc.)'\n",
    "        new_line = new_line.replace(text, f'\"{text}\"')\n",
    "        new_line = new_line.replace('Z Actiniscus pentasterias', 'Actiniscus pentasterias')\n",
    "        new_line = new_line.replace('X Phytoliths diff. shapes', 'Phytoliths diff. shapes')\n",
    "        new_line = re.sub('\\n', '', new_line)\n",
    "        new_line = re.sub(\",?\\\"$\", '', new_line)\n",
    "\n",
    "        new_line = re.sub(', {1,}', ',', new_line)\n",
    "        new_line = re.sub(' {1,},', ',', new_line)\n",
    "        new_line = re.sub('  IR,', 'IR,', new_line)\n",
    "        new_line = re.sub('^\"', '', new_line)\n",
    "        all_lines.append(new_line)\n",
    "    \n",
    "with open(output, 'w') as writer:\n",
    "    writer.writelines('\\n'.join(all_lines))"
   ]
  },
  {
   "cell_type": "markdown",
   "id": "cddfd5d4",
   "metadata": {},
   "source": [
    "manual fix messed up spacing, convert to csv\n"
   ]
  },
  {
   "cell_type": "code",
   "execution_count": 13,
   "id": "afa24755",
   "metadata": {},
   "outputs": [],
   "source": [
    "file = '../../raw_data/NOAA/JanusIODP_paleo_agemodel/paleontology/range_tables/172/1056/HOLE_C/Nannofossils.csv'\n",
    "output = file.replace('raw_data', 'output/cleaned_data')\n",
    "\n",
    "with open(file) as reader:\n",
    "    \n",
    "    all_lines = []\n",
    "    for line in reader:\n",
    "        if line == '\"\"\\n':\n",
    "                continue\n",
    "\n",
    "        new_line = line\n",
    "        new_line = re.sub('\\n', '', new_line)\n",
    "        new_line = re.sub('IR +172 +1056 +C', \n",
    "                          'IR' + spaces(81) + '172       1056       C', new_line)\n",
    "        new_line = re.sub('C +([0-9]) +H +CC', \n",
    "                          r'C      \\1        H      CC', new_line)\n",
    "        new_line = re.sub('CC {9}([0-9.]{4}) {10}([0-9])', r'CC          \\1         \\2', new_line)\n",
    "        new_line = re.sub('CC {9}([0-9.]{5}) {10}([0-9])', r'CC          \\1        \\2', new_line)\n",
    "        new_line = re.sub('(.{171}) +(Raffi) +(Nannofossils)', \n",
    "                          r'\\1' + spaces(0) + 'Raffi' + spaces(12) +'Nannofossils', new_line)\n",
    "        new_line = re.sub('Nannofossils +A +G {18}', \n",
    "                          'Nannofossils'+ spaces(8)+'A' + spaces(21)+ 'G', new_line)\n",
    "        new_line = re.sub('(.{284}) +F +([CA])', r'\\1' +  'F' + spaces(25) + r'\\2', new_line)\n",
    "        new_line = re.sub('(.{310}[CA]) {42,43}([AF ])',\n",
    "                          r'\\1' + spaces(29) + r'\\2',new_line)\n",
    "        new_line = re.sub('(.{343}) +A', \n",
    "                          r'\\1' + spaces(25) + 'A', new_line)\n",
    "        new_line = re.sub('(.{368}A) {29,32}([CF ])', \n",
    "                          r'\\1' + spaces(25) + r'\\2', new_line)\n",
    "        new_line = re.sub('(.{420}) {11,12}([R ]) {35,39}([C F])', \n",
    "                          r'\\1' +  r'\\2' +  spaces(26) + r'\\3', new_line)\n",
    "        new_line = re.sub('(.{474}) {4,8}([ARC ]) {38,39}', \n",
    "                          r'\\1' + r'\\2' + spaces(21), new_line)\n",
    "        new_line = re.sub('(.{525}) {11}([1 ]) {15}([+ ])', \n",
    "                          r'\\1' + r'\\2' + r'\\3', new_line)\n",
    "   \n",
    "        new_line = re.sub('(.{577}) {0,4}([<>])', \n",
    "                          r'\\1' + spaces(5) + r'\\2', new_line)\n",
    "        all_lines.append(new_line)\n",
    "    \n",
    "\n",
    "with open(output, 'w') as writer:\n",
    "    writer.writelines('\\n'.join(all_lines))\n",
    " \n",
    "df = sd.convert_space_delim_file(output)\n",
    "df.to_csv(output, index=False)"
   ]
  },
  {
   "cell_type": "markdown",
   "id": "7ce30733",
   "metadata": {},
   "source": [
    "manual fix messed up spacing, convert to csv\n"
   ]
  },
  {
   "cell_type": "code",
   "execution_count": 17,
   "id": "c0094535",
   "metadata": {},
   "outputs": [],
   "source": [
    "file = '../../raw_data/NOAA/JanusIODP_paleo_agemodel/paleontology/range_tables/174/1071/HOLE_B/Planktonic_Foraminifers.csv'\n",
    "output = file.replace('raw_data', 'output/cleaned_data')\n",
    "\n",
    "with open(file) as reader:\n",
    "    \n",
    "    all_lines = []\n",
    "    for line in reader:\n",
    "        if line == '\"\"\\n':\n",
    "                continue\n",
    "                \n",
    "        new_line = line\n",
    "        new_line = re.sub('\\n', '', new_line)\n",
    "        new_line = re.sub('IR +174', \n",
    "                          'IR' + spaces(92) + '174', new_line)\n",
    "        new_line = re.sub('(.{117}) +([0-9]) +X +CC', \n",
    "                          r'\\1' + r'\\2' + spaces(7) + 'X'  + spaces(5) + 'CC', new_line)\n",
    "        new_line = re.sub('(.{138}) {1}([0-9. ]{5}) +([0-9.]+)', \n",
    "                          r'\\1' + r'\\2' + spaces(7) + r'\\3' + spaces(2) , new_line)   \n",
    "        new_line = re.sub('Olson {6}Planktonic Foraminifers {10}T {17}(G?)', \n",
    "                          'Olson         Planktonic Foraminifers   T' +spaces(19) + r'\\1', new_line)\n",
    "        new_line = re.sub('(.{250}) +([0-9])', \n",
    "                          r'\\1' + r'\\2' +spaces(15) , new_line)  \n",
    "        new_line = re.sub('planktonics miscellaneous', 'Planktonics miscellaneous', new_line)\n",
    "        all_lines.append(new_line)\n",
    "        \n",
    "with open(output, 'w') as writer:\n",
    "    writer.writelines('\\n'.join(all_lines))\n",
    "    \n",
    "df = sd.convert_space_delim_file(output)\n",
    "df\n",
    "df.to_csv(output, index=False)"
   ]
  },
  {
   "cell_type": "markdown",
   "id": "5c70062f",
   "metadata": {},
   "source": [
    "manually fix spacing"
   ]
  },
  {
   "cell_type": "code",
   "execution_count": 25,
   "id": "09e77e16",
   "metadata": {},
   "outputs": [],
   "source": [
    "file = \"../../raw_data/NOAA/JanusIODP_paleo_agemodel/paleontology/range_tables/175/1081/HOLE_A/Planktonic_Foraminifers.csv\"\n",
    "output = file.replace('raw_data', 'output/cleaned_data')\n",
    "\n",
    "\n",
    "with open(file) as reader:\n",
    "    \n",
    "    all_lines = []\n",
    "    for line in reader:\n",
    "        if line == '\"\"\\n':\n",
    "                continue\n",
    "        if line.startswith(\"Abbreviated View --ALL\"):\n",
    "            continue\n",
    "\n",
    "                \n",
    "        new_line = line\n",
    "        new_line = re.sub('\\n', '', new_line)\n",
    "        \n",
    "        new_line = re.sub('Christensen ', ' Christensen', new_line)\n",
    "        new_line = re.sub(spaces(7)  + 'Fossil Group', 'Fossil Group' + spaces(7), new_line)\n",
    "        \n",
    "        all_lines.append(new_line)\n",
    "        \n",
    "with open(output, 'w') as writer:\n",
    "    writer.writelines('\\n'.join(all_lines))\n",
    "   \n",
    "df = sd.convert_space_delim_file(output)\n",
    "df.to_csv(output, index=False)"
   ]
  },
  {
   "cell_type": "markdown",
   "id": "3d4649e5",
   "metadata": {},
   "source": [
    "fix quotes"
   ]
  },
  {
   "cell_type": "code",
   "execution_count": 26,
   "id": "099a45b4",
   "metadata": {},
   "outputs": [],
   "source": [
    "file = '../../raw_data/NOAA/JanusIODP_paleo_agemodel/paleontology/range_tables/181/1119/HOLE_B/Nannofossils.csv'\n",
    "output = file.replace('raw_data', 'output/cleaned_data')\n",
    "\n",
    "with open(file) as reader:\n",
    "    all_lines = []\n",
    "    for line in reader:\n",
    "        if line == '\"\"\\n':\n",
    "                continue\n",
    "       \n",
    "        if re.match('^\" +IR.*?$', line):\n",
    "            line = re.sub('^\"(.*?)\"$', r'\\1', line)\n",
    "            \n",
    "        line = re.sub('\"\"Small\"\"', '\"Small\"', line)\n",
    "            \n",
    "            \n",
    "        all_lines.append(line)\n",
    "\n",
    "with open(output, 'w') as writer:\n",
    "    writer.writelines('\\n'.join(all_lines))\n",
    "    \n",
    "df = sd.convert_space_delim_file(output)\n",
    "df.to_csv(output, index=False)"
   ]
  },
  {
   "cell_type": "markdown",
   "id": "be323600",
   "metadata": {},
   "source": [
    " needs review - Reticulofenestra Z ;  "
   ]
  },
  {
   "cell_type": "code",
   "execution_count": 27,
   "id": "7567764c",
   "metadata": {},
   "outputs": [],
   "source": [
    "file = '../../raw_data/NOAA/JanusIODP_paleo_agemodel/paleontology/range_tables/181/1120/HOLE_D/Nannofossils.csv'\n",
    "output = file.replace('raw_data', 'output/cleaned_data')\n",
    "\n",
    "with open(file) as reader:\n",
    "    all_lines = []\n",
    "    for line in reader:\n",
    "        if line == '\"\"\\n':\n",
    "                continue\n",
    "                \n",
    "        line = line.replace('Reticulofenestra Z', 'Reticulofenestra')\n",
    "                \n",
    "        all_lines.append(line)\n",
    "\n",
    "with open(output, 'w') as writer:\n",
    "    writer.writelines('\\n'.join(all_lines))\n",
    "    \n",
    "df = sd.convert_space_delim_file(output)\n",
    "df.to_csv(output, index=False)   "
   ]
  },
  {
   "cell_type": "markdown",
   "id": "f18a4573",
   "metadata": {},
   "source": [
    "## copy files to folder for PIs to review"
   ]
  },
  {
   "cell_type": "code",
   "execution_count": 61,
   "id": "4d09a531",
   "metadata": {},
   "outputs": [],
   "source": [
    "def copy_file(mypath, current_directory, output_directory):\n",
    "    output_path = str(mypath).replace(current_directory, output_directory)\n",
    "    directories = re.sub('/[A-Za-z0-9\\-_ ]+\\.csv$', '', output_path)\n",
    "    if not os.path.isdir(directories):\n",
    "        os.makedirs(directories)  \n",
    "        print(\"lil\")\n",
    "    shutil.copy(mypath, output_path)\n",
    "\n",
    "for file in results['unnamed_column']:\n",
    "    if file.match('raw_data'):\n",
    "        file = file.replace('raw_data', 'cleaned_data')\n",
    "        copy_file(file, 'raw_data', 'tmp/NOAA_review/unnamed_column/cleaned_data')\n",
    "    \n",
    "for file in results['unnamed_column']:\n",
    "    if file.match('raw_data'):\n",
    "        copy_file(file, 'raw_data', 'tmp/NOAA_review/unnamed_column/raw_data')\n",
    "    \n",
    "for file in results['space_delim']:\n",
    "    if file.match('raw_data'):\n",
    "        copy_file(file, 'raw_data', 'tmp/NOAA_review/space_delimited/raw_data')\n",
    "    \n",
    "for file in results['space_delim']:\n",
    "    if file.match('raw_data'):\n",
    "        file = file.replace('raw_data', 'cleaned_data')\n",
    "        copy_file(file, 'cleaned_data', 'tmp/174-1071B/space_delimited/cleaned_data')"
   ]
  },
  {
   "cell_type": "markdown",
   "id": "48033250",
   "metadata": {},
   "source": [
    "## column names\n",
    "\n",
    "Get all the column names."
   ]
  },
  {
   "cell_type": "markdown",
   "id": "b48bfe8d",
   "metadata": {},
   "source": [
    "### age models"
   ]
  },
  {
   "cell_type": "code",
   "execution_count": 29,
   "id": "a91c1e29",
   "metadata": {},
   "outputs": [
    {
     "data": {
      "text/plain": [
       "{'    Age (Ma)',\n",
       " 'Age Model Type           ',\n",
       " 'Control Point Comment',\n",
       " 'Depth (mbsf)',\n",
       " 'H',\n",
       " 'Leg',\n",
       " 'Site',\n",
       " 'Unnamed: 6'}"
      ]
     },
     "execution_count": 29,
     "metadata": {},
     "output_type": "execute_result"
    }
   ],
   "source": [
    "age_columns = unique_columns_for_paths(age_csv_paths)\n",
    "age_columns"
   ]
  },
  {
   "cell_type": "code",
   "execution_count": 30,
   "id": "e8e0f200",
   "metadata": {},
   "outputs": [
    {
     "data": {
      "text/plain": [
       "{7, 8}"
      ]
     },
     "execution_count": 30,
     "metadata": {},
     "output_type": "execute_result"
    }
   ],
   "source": [
    "column_counts_for_paths(age_csv_paths)"
   ]
  },
  {
   "cell_type": "markdown",
   "id": "eacb87dd",
   "metadata": {},
   "source": [
    "print out files that have too many columns"
   ]
  },
  {
   "cell_type": "code",
   "execution_count": 31,
   "id": "9d3d1603",
   "metadata": {},
   "outputs": [
    {
     "name": "stdout",
     "output_type": "stream",
     "text": [
      "../../output/cleaned_data/NOAA/JanusIODP_paleo_agemodel/paleontology/age_models/150/906/HOLE_A/Age_Model_Initial_Report.csv\n",
      "../../output/cleaned_data/NOAA/JanusIODP_paleo_agemodel/paleontology/age_models/154/925/HOLE_A/Age_Model_Initial_Report.csv\n"
     ]
    }
   ],
   "source": [
    "for path in age_csv_paths:\n",
    "    df = pd.read_csv(path, nrows=0)\n",
    "    if len(df.columns) == 8:\n",
    "        print(path)"
   ]
  },
  {
   "cell_type": "markdown",
   "id": "c8ba7132",
   "metadata": {},
   "source": [
    "### taxa"
   ]
  },
  {
   "cell_type": "code",
   "execution_count": 32,
   "id": "8e5fe0ed",
   "metadata": {},
   "outputs": [
    {
     "data": {
      "text/plain": [
       "12979"
      ]
     },
     "execution_count": 32,
     "metadata": {},
     "output_type": "execute_result"
    }
   ],
   "source": [
    "taxa_columns = unique_columns_for_paths(taxa_csv_paths)\n",
    "len(taxa_columns)"
   ]
  },
  {
   "cell_type": "markdown",
   "id": "738ed8fe",
   "metadata": {},
   "source": [
    "## files grouped by expedition and file type"
   ]
  },
  {
   "cell_type": "code",
   "execution_count": 33,
   "id": "571bf0c6",
   "metadata": {},
   "outputs": [],
   "source": [
    "contents = {}\n",
    "index = filename_index(path)\n",
    "\n",
    "for path in csv_paths:\n",
    "    parts = Path(path).parts\n",
    "    exp = parts[5]\n",
    "    filename = parts[index]\n",
    "        \n",
    "    if exp not in contents:\n",
    "        contents[exp] = {'taxa': set(),'age_model': set()}\n",
    "        \n",
    "    if filename.startswith('Age_'):\n",
    "        contents[exp]['age_model'].add(filename)\n",
    "    else:\n",
    "        contents[exp]['taxa'].add(filename)\n",
    "    "
   ]
  },
  {
   "cell_type": "code",
   "execution_count": 34,
   "id": "63ab142b",
   "metadata": {},
   "outputs": [],
   "source": [
    "file_list = []\n",
    "\n",
    "for exp in contents.items():\n",
    "    file_data = {}\n",
    "    file_data['expedition'] = exp[0]\n",
    "    file_data['taxa'] = format_filepaths_set(exp[1], 'taxa')\n",
    "    file_data['age_model'] = format_filepaths_set(exp[1], 'age_model')\n",
    "\n",
    "    file_list.append(file_data)"
   ]
  },
  {
   "cell_type": "code",
   "execution_count": 35,
   "id": "d8819a5e",
   "metadata": {},
   "outputs": [
    {
     "data": {
      "text/html": [
       "<div>\n",
       "<style scoped>\n",
       "    .dataframe tbody tr th:only-of-type {\n",
       "        vertical-align: middle;\n",
       "    }\n",
       "\n",
       "    .dataframe tbody tr th {\n",
       "        vertical-align: top;\n",
       "    }\n",
       "\n",
       "    .dataframe thead th {\n",
       "        text-align: right;\n",
       "    }\n",
       "</style>\n",
       "<table border=\"1\" class=\"dataframe\">\n",
       "  <thead>\n",
       "    <tr style=\"text-align: right;\">\n",
       "      <th></th>\n",
       "      <th>expedition</th>\n",
       "      <th>taxa</th>\n",
       "      <th>age_model</th>\n",
       "    </tr>\n",
       "  </thead>\n",
       "  <tbody>\n",
       "    <tr>\n",
       "      <th>0</th>\n",
       "      <td>JanusIODP_paleo_agemodel</td>\n",
       "      <td>Dinoflagellates_Acritarch_Prasinophytes.csv,Di...</td>\n",
       "      <td>Age_Model_Initial_Report.csv,Age_Model_Shipboa...</td>\n",
       "    </tr>\n",
       "  </tbody>\n",
       "</table>\n",
       "</div>"
      ],
      "text/plain": [
       "                 expedition  \\\n",
       "0  JanusIODP_paleo_agemodel   \n",
       "\n",
       "                                                taxa  \\\n",
       "0  Dinoflagellates_Acritarch_Prasinophytes.csv,Di...   \n",
       "\n",
       "                                           age_model  \n",
       "0  Age_Model_Initial_Report.csv,Age_Model_Shipboa...  "
      ]
     },
     "execution_count": 35,
     "metadata": {},
     "output_type": "execute_result"
    }
   ],
   "source": [
    "\n",
    "df = pd.DataFrame(file_list)\n",
    "df.head()"
   ]
  },
  {
   "cell_type": "code",
   "execution_count": 67,
   "id": "d9d75d6f",
   "metadata": {},
   "outputs": [],
   "source": [
    "path = os.path.join('tmp', 'noaa_janus_iodp_grouped_files.csv')\n",
    "df.to_csv(path, index=False)"
   ]
  },
  {
   "cell_type": "markdown",
   "id": "f3ea4767",
   "metadata": {},
   "source": [
    "## Miscellaneous.csv\n",
    "\n",
    "create github link for each Miscellaneous.csv."
   ]
  },
  {
   "cell_type": "code",
   "execution_count": 71,
   "id": "63dbd79b",
   "metadata": {},
   "outputs": [
    {
     "name": "stdout",
     "output_type": "stream",
     "text": [
      "https://github.com/eODP/data-processing/tree/master/notebooks/../../output/cleaned_data/NOAA/JanusIODP_paleo_agemodel/paleontology/range_tables/104/643/HOLE_A/Miscellaneous.csv\n",
      "https://github.com/eODP/data-processing/tree/master/notebooks/../../output/cleaned_data/NOAA/JanusIODP_paleo_agemodel/paleontology/range_tables/104/644/HOLE_A/Miscellaneous.csv\n",
      "https://github.com/eODP/data-processing/tree/master/notebooks/../../output/cleaned_data/NOAA/JanusIODP_paleo_agemodel/paleontology/range_tables/104/642/HOLE_B/Miscellaneous.csv\n",
      "https://github.com/eODP/data-processing/tree/master/notebooks/../../output/cleaned_data/NOAA/JanusIODP_paleo_agemodel/paleontology/range_tables/120/747/HOLE_A/Miscellaneous.csv\n",
      "https://github.com/eODP/data-processing/tree/master/notebooks/../../output/cleaned_data/NOAA/JanusIODP_paleo_agemodel/paleontology/range_tables/120/749/HOLE_B/Miscellaneous.csv\n",
      "https://github.com/eODP/data-processing/tree/master/notebooks/../../output/cleaned_data/NOAA/JanusIODP_paleo_agemodel/paleontology/range_tables/120/749/HOLE_C/Miscellaneous.csv\n",
      "https://github.com/eODP/data-processing/tree/master/notebooks/../../output/cleaned_data/NOAA/JanusIODP_paleo_agemodel/paleontology/range_tables/120/748/HOLE_B/Miscellaneous.csv\n",
      "https://github.com/eODP/data-processing/tree/master/notebooks/../../output/cleaned_data/NOAA/JanusIODP_paleo_agemodel/paleontology/range_tables/120/748/HOLE_C/Miscellaneous.csv\n",
      "https://github.com/eODP/data-processing/tree/master/notebooks/../../output/cleaned_data/NOAA/JanusIODP_paleo_agemodel/paleontology/range_tables/120/751/HOLE_A/Miscellaneous.csv\n",
      "https://github.com/eODP/data-processing/tree/master/notebooks/../../output/cleaned_data/NOAA/JanusIODP_paleo_agemodel/paleontology/range_tables/120/750/HOLE_A/Miscellaneous.csv\n",
      "https://github.com/eODP/data-processing/tree/master/notebooks/../../output/cleaned_data/NOAA/JanusIODP_paleo_agemodel/paleontology/range_tables/119/744/HOLE_A/Miscellaneous.csv\n"
     ]
    }
   ],
   "source": [
    "for path in csv_paths:\n",
    "    if 'Miscellaneous.csv' == path.name:\n",
    "        link = 'https://github.com/eODP/data-processing/tree/master/notebooks/' + str(path)\n",
    "        print(link)"
   ]
  },
  {
   "cell_type": "code",
   "execution_count": 72,
   "id": "bc2a35ec",
   "metadata": {},
   "outputs": [],
   "source": [
    "for path in taxa_csv_paths:\n",
    "    df = pd.read_csv(path, nrows=0)\n",
    "    if '.1' in df.columns:\n",
    "        print(path)"
   ]
  },
  {
   "cell_type": "code",
   "execution_count": null,
   "id": "d48aa66f",
   "metadata": {},
   "outputs": [],
   "source": []
  },
  {
   "cell_type": "code",
   "execution_count": null,
   "id": "607b4f11-dc05-4290-852c-8c562a4148d5",
   "metadata": {},
   "outputs": [],
   "source": []
  }
 ],
 "metadata": {
  "kernelspec": {
   "display_name": "Python 3 (ipykernel)",
   "language": "python",
   "name": "python3"
  },
  "language_info": {
   "codemirror_mode": {
    "name": "ipython",
    "version": 3
   },
   "file_extension": ".py",
   "mimetype": "text/x-python",
   "name": "python",
   "nbconvert_exporter": "python",
   "pygments_lexer": "ipython3",
   "version": "3.8.2"
  }
 },
 "nbformat": 4,
 "nbformat_minor": 5
}
