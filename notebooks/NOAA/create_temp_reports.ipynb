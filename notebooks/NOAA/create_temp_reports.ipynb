{
 "cells": [
  {
   "cell_type": "markdown",
   "metadata": {},
   "source": [
    "# create_temp_reports."
   ]
  },
  {
   "cell_type": "code",
   "execution_count": 3,
   "metadata": {},
   "outputs": [],
   "source": [
    "import sys\n",
    "sys.path.append('../../')\n",
    "import glob\n",
    "import shutil\n",
    "from pathlib import Path\n",
    "import os\n",
    "\n",
    "import numpy as np\n",
    "import pandas as pd\n",
    "from config import CLEAN_DATA_DIR, OUTPUT_DIR, RAW_DATA_DIR\n",
    "import db as db\n",
    "from scripts.normalize_taxa import add_normalized_name_column\n",
    "\n",
    "from scripts.normalize_data import (\n",
    "    check_duplicate_columns\n",
    ")\n",
    "\n",
    "from scripts.shared_utils import (\n",
    "    log_df\n",
    ")"
   ]
  },
  {
   "cell_type": "code",
   "execution_count": 4,
   "metadata": {},
   "outputs": [],
   "source": [
    "clean_data_path = CLEAN_DATA_DIR\n",
    "\n",
    "metadata_1_file = OUTPUT_DIR/'metadata'/'NOAA'/'noaa_dsdp_files.csv' \n",
    "metadata_2_file = OUTPUT_DIR/'metadata'/'NOAA'/'noaa_janus_files.csv' \n",
    "metadata_3_file = OUTPUT_DIR/'metadata'/'NOAA'/'noaa_janus_iodp_files.csv' \n",
    "\n"
   ]
  },
  {
   "cell_type": "markdown",
   "metadata": {},
   "source": [
    "## create a file with taxa from NOAA taxa files\n"
   ]
  },
  {
   "cell_type": "code",
   "execution_count": 85,
   "metadata": {},
   "outputs": [
    {
     "name": "stdout",
     "output_type": "stream",
     "text": [
      "(4477, 5)\n"
     ]
    },
    {
     "data": {
      "text/html": [
       "<div>\n",
       "<style scoped>\n",
       "    .dataframe tbody tr th:only-of-type {\n",
       "        vertical-align: middle;\n",
       "    }\n",
       "\n",
       "    .dataframe tbody tr th {\n",
       "        vertical-align: top;\n",
       "    }\n",
       "\n",
       "    .dataframe thead th {\n",
       "        text-align: right;\n",
       "    }\n",
       "</style>\n",
       "<table border=\"1\" class=\"dataframe\">\n",
       "  <thead>\n",
       "    <tr style=\"text-align: right;\">\n",
       "      <th></th>\n",
       "      <th>path</th>\n",
       "      <th>type</th>\n",
       "      <th>taxon_group</th>\n",
       "      <th>expedition</th>\n",
       "      <th>site</th>\n",
       "    </tr>\n",
       "  </thead>\n",
       "  <tbody>\n",
       "    <tr>\n",
       "      <th>0</th>\n",
       "      <td>NOAA/DSDP_core_data/61/462/radiolar.csv</td>\n",
       "      <td>taxa</td>\n",
       "      <td>radiolarians</td>\n",
       "      <td>61</td>\n",
       "      <td>462</td>\n",
       "    </tr>\n",
       "    <tr>\n",
       "      <th>1</th>\n",
       "      <td>NOAA/DSDP_core_data/61/462/ageprof.csv</td>\n",
       "      <td>age</td>\n",
       "      <td>NaN</td>\n",
       "      <td>61</td>\n",
       "      <td>462</td>\n",
       "    </tr>\n",
       "    <tr>\n",
       "      <th>2</th>\n",
       "      <td>NOAA/DSDP_core_data/61/462/b_forams.csv</td>\n",
       "      <td>taxa</td>\n",
       "      <td>benthic_forams</td>\n",
       "      <td>61</td>\n",
       "      <td>462</td>\n",
       "    </tr>\n",
       "    <tr>\n",
       "      <th>3</th>\n",
       "      <td>NOAA/DSDP_core_data/61/462/p_forams.csv</td>\n",
       "      <td>taxa</td>\n",
       "      <td>planktic_forams</td>\n",
       "      <td>61</td>\n",
       "      <td>462</td>\n",
       "    </tr>\n",
       "    <tr>\n",
       "      <th>4</th>\n",
       "      <td>NOAA/DSDP_core_data/61/462/hr_desc.csv</td>\n",
       "      <td>hard_rock</td>\n",
       "      <td>NaN</td>\n",
       "      <td>61</td>\n",
       "      <td>462</td>\n",
       "    </tr>\n",
       "  </tbody>\n",
       "</table>\n",
       "</div>"
      ],
      "text/plain": [
       "                                      path       type      taxon_group  \\\n",
       "0  NOAA/DSDP_core_data/61/462/radiolar.csv       taxa     radiolarians   \n",
       "1   NOAA/DSDP_core_data/61/462/ageprof.csv        age              NaN   \n",
       "2  NOAA/DSDP_core_data/61/462/b_forams.csv       taxa   benthic_forams   \n",
       "3  NOAA/DSDP_core_data/61/462/p_forams.csv       taxa  planktic_forams   \n",
       "4   NOAA/DSDP_core_data/61/462/hr_desc.csv  hard_rock              NaN   \n",
       "\n",
       "  expedition site  \n",
       "0         61  462  \n",
       "1         61  462  \n",
       "2         61  462  \n",
       "3         61  462  \n",
       "4         61  462  "
      ]
     },
     "execution_count": 85,
     "metadata": {},
     "output_type": "execute_result"
    }
   ],
   "source": [
    "metadata = pd.read_csv(metadata_1_file)\n",
    "log_df(metadata)\n"
   ]
  },
  {
   "cell_type": "markdown",
   "metadata": {},
   "source": [
    "handle files where taxa is in 'fossil' column"
   ]
  },
  {
   "cell_type": "code",
   "execution_count": 88,
   "metadata": {},
   "outputs": [
    {
     "name": "stdout",
     "output_type": "stream",
     "text": [
      "(73961, 2)\n"
     ]
    },
    {
     "data": {
      "text/html": [
       "<div>\n",
       "<style scoped>\n",
       "    .dataframe tbody tr th:only-of-type {\n",
       "        vertical-align: middle;\n",
       "    }\n",
       "\n",
       "    .dataframe tbody tr th {\n",
       "        vertical-align: top;\n",
       "    }\n",
       "\n",
       "    .dataframe thead th {\n",
       "        text-align: right;\n",
       "    }\n",
       "</style>\n",
       "<table border=\"1\" class=\"dataframe\">\n",
       "  <thead>\n",
       "    <tr style=\"text-align: right;\">\n",
       "      <th></th>\n",
       "      <th>path</th>\n",
       "      <th>column</th>\n",
       "    </tr>\n",
       "  </thead>\n",
       "  <tbody>\n",
       "    <tr>\n",
       "      <th>0</th>\n",
       "      <td>NOAA/DSDP_core_data/61/462/radiolar.csv</td>\n",
       "      <td>Stichocorys peregrina</td>\n",
       "    </tr>\n",
       "    <tr>\n",
       "      <th>1</th>\n",
       "      <td>NOAA/DSDP_core_data/61/462/radiolar.csv</td>\n",
       "      <td>Artophormis gracilis</td>\n",
       "    </tr>\n",
       "    <tr>\n",
       "      <th>2</th>\n",
       "      <td>NOAA/DSDP_core_data/61/462/radiolar.csv</td>\n",
       "      <td>Artostrobium doliolum</td>\n",
       "    </tr>\n",
       "    <tr>\n",
       "      <th>3</th>\n",
       "      <td>NOAA/DSDP_core_data/61/462/radiolar.csv</td>\n",
       "      <td>Lithopera renzae</td>\n",
       "    </tr>\n",
       "    <tr>\n",
       "      <th>4</th>\n",
       "      <td>NOAA/DSDP_core_data/61/462/radiolar.csv</td>\n",
       "      <td>Solenospheara omnitubus</td>\n",
       "    </tr>\n",
       "  </tbody>\n",
       "</table>\n",
       "</div>"
      ],
      "text/plain": [
       "                                      path                   column\n",
       "0  NOAA/DSDP_core_data/61/462/radiolar.csv    Stichocorys peregrina\n",
       "1  NOAA/DSDP_core_data/61/462/radiolar.csv     Artophormis gracilis\n",
       "2  NOAA/DSDP_core_data/61/462/radiolar.csv    Artostrobium doliolum\n",
       "3  NOAA/DSDP_core_data/61/462/radiolar.csv         Lithopera renzae\n",
       "4  NOAA/DSDP_core_data/61/462/radiolar.csv  Solenospheara omnitubus"
      ]
     },
     "execution_count": 88,
     "metadata": {},
     "output_type": "execute_result"
    }
   ],
   "source": [
    "data = []\n",
    "for mindex, mrow  in metadata.iterrows():\n",
    "    if mrow['type'] != 'taxa':\n",
    "        continue \n",
    "    \n",
    "    df = pd.read_csv(clean_data_path/mrow['path'], dtype=str)\n",
    "    df.dropna(axis=\"columns\", how='all', inplace=True)\n",
    "    df.dropna(axis=\"rows\", how='all', inplace=True)\n",
    "    \n",
    "    for index, row in df.iterrows():\n",
    "        if pd.isna(row['fossil']):\n",
    "            continue \n",
    "            \n",
    "        data.append({\"path\": mrow['path'], \"column\": row['fossil'].strip()})\n",
    "        \n",
    "new_df = pd.DataFrame(data)\n",
    "new_df.drop_duplicates(inplace=True)\n",
    "log_df(new_df)"
   ]
  },
  {
   "cell_type": "code",
   "execution_count": 71,
   "metadata": {},
   "outputs": [
    {
     "name": "stdout",
     "output_type": "stream",
     "text": [
      "(2481, 5)\n"
     ]
    },
    {
     "data": {
      "text/html": [
       "<div>\n",
       "<style scoped>\n",
       "    .dataframe tbody tr th:only-of-type {\n",
       "        vertical-align: middle;\n",
       "    }\n",
       "\n",
       "    .dataframe tbody tr th {\n",
       "        vertical-align: top;\n",
       "    }\n",
       "\n",
       "    .dataframe thead th {\n",
       "        text-align: right;\n",
       "    }\n",
       "</style>\n",
       "<table border=\"1\" class=\"dataframe\">\n",
       "  <thead>\n",
       "    <tr style=\"text-align: right;\">\n",
       "      <th></th>\n",
       "      <th>path</th>\n",
       "      <th>type</th>\n",
       "      <th>expedition</th>\n",
       "      <th>site</th>\n",
       "      <th>taxon_group</th>\n",
       "    </tr>\n",
       "  </thead>\n",
       "  <tbody>\n",
       "    <tr>\n",
       "      <th>0</th>\n",
       "      <td>NOAA/JanusIODP_paleo_agemodel/paleontology/ran...</td>\n",
       "      <td>taxa</td>\n",
       "      <td>101</td>\n",
       "      <td>626</td>\n",
       "      <td>benthic_forams</td>\n",
       "    </tr>\n",
       "    <tr>\n",
       "      <th>1</th>\n",
       "      <td>NOAA/JanusIODP_paleo_agemodel/paleontology/ran...</td>\n",
       "      <td>taxa</td>\n",
       "      <td>101</td>\n",
       "      <td>626</td>\n",
       "      <td>benthic_forams</td>\n",
       "    </tr>\n",
       "    <tr>\n",
       "      <th>2</th>\n",
       "      <td>NOAA/JanusIODP_paleo_agemodel/paleontology/ran...</td>\n",
       "      <td>taxa</td>\n",
       "      <td>101</td>\n",
       "      <td>626</td>\n",
       "      <td>nannofossils</td>\n",
       "    </tr>\n",
       "    <tr>\n",
       "      <th>3</th>\n",
       "      <td>NOAA/JanusIODP_paleo_agemodel/paleontology/ran...</td>\n",
       "      <td>taxa</td>\n",
       "      <td>101</td>\n",
       "      <td>626</td>\n",
       "      <td>nannofossils</td>\n",
       "    </tr>\n",
       "    <tr>\n",
       "      <th>4</th>\n",
       "      <td>NOAA/JanusIODP_paleo_agemodel/paleontology/ran...</td>\n",
       "      <td>taxa</td>\n",
       "      <td>101</td>\n",
       "      <td>626</td>\n",
       "      <td>planktic_forams</td>\n",
       "    </tr>\n",
       "  </tbody>\n",
       "</table>\n",
       "</div>"
      ],
      "text/plain": [
       "                                                path  type  expedition  site  \\\n",
       "0  NOAA/JanusIODP_paleo_agemodel/paleontology/ran...  taxa         101   626   \n",
       "1  NOAA/JanusIODP_paleo_agemodel/paleontology/ran...  taxa         101   626   \n",
       "2  NOAA/JanusIODP_paleo_agemodel/paleontology/ran...  taxa         101   626   \n",
       "3  NOAA/JanusIODP_paleo_agemodel/paleontology/ran...  taxa         101   626   \n",
       "4  NOAA/JanusIODP_paleo_agemodel/paleontology/ran...  taxa         101   626   \n",
       "\n",
       "       taxon_group  \n",
       "0   benthic_forams  \n",
       "1   benthic_forams  \n",
       "2     nannofossils  \n",
       "3     nannofossils  \n",
       "4  planktic_forams  "
      ]
     },
     "execution_count": 71,
     "metadata": {},
     "output_type": "execute_result"
    }
   ],
   "source": [
    "metadata = pd.read_csv(metadata_3_file)\n",
    "log_df(metadata)\n"
   ]
  },
  {
   "cell_type": "markdown",
   "metadata": {},
   "source": [
    "handle files taxa is in column headers"
   ]
  },
  {
   "cell_type": "code",
   "execution_count": 84,
   "metadata": {},
   "outputs": [
    {
     "name": "stdout",
     "output_type": "stream",
     "text": [
      "(114727, 2)\n"
     ]
    },
    {
     "data": {
      "text/html": [
       "<div>\n",
       "<style scoped>\n",
       "    .dataframe tbody tr th:only-of-type {\n",
       "        vertical-align: middle;\n",
       "    }\n",
       "\n",
       "    .dataframe tbody tr th {\n",
       "        vertical-align: top;\n",
       "    }\n",
       "\n",
       "    .dataframe thead th {\n",
       "        text-align: right;\n",
       "    }\n",
       "</style>\n",
       "<table border=\"1\" class=\"dataframe\">\n",
       "  <thead>\n",
       "    <tr style=\"text-align: right;\">\n",
       "      <th></th>\n",
       "      <th>path</th>\n",
       "      <th>column</th>\n",
       "    </tr>\n",
       "  </thead>\n",
       "  <tbody>\n",
       "    <tr>\n",
       "      <th>0</th>\n",
       "      <td>NOAA/JanusIODP_paleo_agemodel/paleontology/ran...</td>\n",
       "      <td>Data</td>\n",
       "    </tr>\n",
       "    <tr>\n",
       "      <th>1</th>\n",
       "      <td>NOAA/JanusIODP_paleo_agemodel/paleontology/ran...</td>\n",
       "      <td>Age From (oldest)</td>\n",
       "    </tr>\n",
       "    <tr>\n",
       "      <th>2</th>\n",
       "      <td>NOAA/JanusIODP_paleo_agemodel/paleontology/ran...</td>\n",
       "      <td>Age To (youngest)</td>\n",
       "    </tr>\n",
       "    <tr>\n",
       "      <th>3</th>\n",
       "      <td>NOAA/JanusIODP_paleo_agemodel/paleontology/ran...</td>\n",
       "      <td>Zone From (bottom)</td>\n",
       "    </tr>\n",
       "    <tr>\n",
       "      <th>4</th>\n",
       "      <td>NOAA/JanusIODP_paleo_agemodel/paleontology/ran...</td>\n",
       "      <td>Zone To  (top)</td>\n",
       "    </tr>\n",
       "  </tbody>\n",
       "</table>\n",
       "</div>"
      ],
      "text/plain": [
       "                                                path              column\n",
       "0  NOAA/JanusIODP_paleo_agemodel/paleontology/ran...                Data\n",
       "1  NOAA/JanusIODP_paleo_agemodel/paleontology/ran...   Age From (oldest)\n",
       "2  NOAA/JanusIODP_paleo_agemodel/paleontology/ran...   Age To (youngest)\n",
       "3  NOAA/JanusIODP_paleo_agemodel/paleontology/ran...  Zone From (bottom)\n",
       "4  NOAA/JanusIODP_paleo_agemodel/paleontology/ran...      Zone To  (top)"
      ]
     },
     "execution_count": 84,
     "metadata": {},
     "output_type": "execute_result"
    }
   ],
   "source": [
    "data = []\n",
    "for mindex, mrow  in metadata.iterrows():\n",
    "    if mrow['type'] != 'taxa':\n",
    "        continue \n",
    "    \n",
    "    df = pd.read_csv(clean_data_path/mrow['path'], dtype=str)\n",
    "    df.dropna(axis=\"columns\", how='all', inplace=True)\n",
    "    df.dropna(axis=\"rows\", how='all', inplace=True)\n",
    "    \n",
    "    for col in df.columns:\n",
    "        data.append({\"path\": mrow['path'], \"column\": col.strip()})\n",
    "        \n",
    "new2_df = pd.DataFrame(data)\n",
    "new2_df.drop_duplicates(inplace=True)\n",
    "log_df(new2_df)"
   ]
  },
  {
   "cell_type": "code",
   "execution_count": 89,
   "metadata": {},
   "outputs": [
    {
     "name": "stdout",
     "output_type": "stream",
     "text": [
      "(188688, 2)\n"
     ]
    },
    {
     "data": {
      "text/html": [
       "<div>\n",
       "<style scoped>\n",
       "    .dataframe tbody tr th:only-of-type {\n",
       "        vertical-align: middle;\n",
       "    }\n",
       "\n",
       "    .dataframe tbody tr th {\n",
       "        vertical-align: top;\n",
       "    }\n",
       "\n",
       "    .dataframe thead th {\n",
       "        text-align: right;\n",
       "    }\n",
       "</style>\n",
       "<table border=\"1\" class=\"dataframe\">\n",
       "  <thead>\n",
       "    <tr style=\"text-align: right;\">\n",
       "      <th></th>\n",
       "      <th>path</th>\n",
       "      <th>column</th>\n",
       "    </tr>\n",
       "  </thead>\n",
       "  <tbody>\n",
       "    <tr>\n",
       "      <th>0</th>\n",
       "      <td>NOAA/DSDP_core_data/61/462/radiolar.csv</td>\n",
       "      <td>Stichocorys peregrina</td>\n",
       "    </tr>\n",
       "    <tr>\n",
       "      <th>1</th>\n",
       "      <td>NOAA/DSDP_core_data/61/462/radiolar.csv</td>\n",
       "      <td>Artophormis gracilis</td>\n",
       "    </tr>\n",
       "    <tr>\n",
       "      <th>2</th>\n",
       "      <td>NOAA/DSDP_core_data/61/462/radiolar.csv</td>\n",
       "      <td>Artostrobium doliolum</td>\n",
       "    </tr>\n",
       "    <tr>\n",
       "      <th>3</th>\n",
       "      <td>NOAA/DSDP_core_data/61/462/radiolar.csv</td>\n",
       "      <td>Lithopera renzae</td>\n",
       "    </tr>\n",
       "    <tr>\n",
       "      <th>4</th>\n",
       "      <td>NOAA/DSDP_core_data/61/462/radiolar.csv</td>\n",
       "      <td>Solenospheara omnitubus</td>\n",
       "    </tr>\n",
       "  </tbody>\n",
       "</table>\n",
       "</div>"
      ],
      "text/plain": [
       "                                      path                   column\n",
       "0  NOAA/DSDP_core_data/61/462/radiolar.csv    Stichocorys peregrina\n",
       "1  NOAA/DSDP_core_data/61/462/radiolar.csv     Artophormis gracilis\n",
       "2  NOAA/DSDP_core_data/61/462/radiolar.csv    Artostrobium doliolum\n",
       "3  NOAA/DSDP_core_data/61/462/radiolar.csv         Lithopera renzae\n",
       "4  NOAA/DSDP_core_data/61/462/radiolar.csv  Solenospheara omnitubus"
      ]
     },
     "execution_count": 89,
     "metadata": {},
     "output_type": "execute_result"
    }
   ],
   "source": [
    "df = pd.concat([new_df, new2_df])\n",
    "log_df(df)"
   ]
  },
  {
   "cell_type": "code",
   "execution_count": 90,
   "metadata": {},
   "outputs": [],
   "source": [
    "df.to_csv(OUTPUT_DIR/'tmp'/'NOAA_taxa_headers.csv', index=False)"
   ]
  },
  {
   "cell_type": "markdown",
   "metadata": {},
   "source": [
    "## search for taxa"
   ]
  },
  {
   "cell_type": "code",
   "execution_count": 31,
   "metadata": {},
   "outputs": [],
   "source": [
    "def copy_file(path):\n",
    "\n",
    "    temp_path = OUTPUT_DIR /'tmp'/ 'search_results'\n",
    "\n",
    "    if not os.path.exists(temp_path):\n",
    "        os.makedirs(temp_path)\n",
    "    \n",
    "    parts = path.split('/')\n",
    "    filename = '_'.join(parts[4:7]) + '__' + parts[7]\n",
    "    output_dir = temp_path / search_term\n",
    "    \n",
    "    if not os.path.exists(output_dir):\n",
    "        os.makedirs(output_dir)\n",
    "\n",
    "    shutil.copy(clean_data_path/path, output_dir/filename)\n",
    "    "
   ]
  },
  {
   "cell_type": "code",
   "execution_count": 32,
   "metadata": {},
   "outputs": [
    {
     "name": "stdout",
     "output_type": "stream",
     "text": [
      "(188688, 2)\n"
     ]
    },
    {
     "data": {
      "text/html": [
       "<div>\n",
       "<style scoped>\n",
       "    .dataframe tbody tr th:only-of-type {\n",
       "        vertical-align: middle;\n",
       "    }\n",
       "\n",
       "    .dataframe tbody tr th {\n",
       "        vertical-align: top;\n",
       "    }\n",
       "\n",
       "    .dataframe thead th {\n",
       "        text-align: right;\n",
       "    }\n",
       "</style>\n",
       "<table border=\"1\" class=\"dataframe\">\n",
       "  <thead>\n",
       "    <tr style=\"text-align: right;\">\n",
       "      <th></th>\n",
       "      <th>path</th>\n",
       "      <th>column</th>\n",
       "    </tr>\n",
       "  </thead>\n",
       "  <tbody>\n",
       "    <tr>\n",
       "      <th>0</th>\n",
       "      <td>NOAA/DSDP_core_data/61/462/radiolar.csv</td>\n",
       "      <td>Stichocorys peregrina</td>\n",
       "    </tr>\n",
       "    <tr>\n",
       "      <th>1</th>\n",
       "      <td>NOAA/DSDP_core_data/61/462/radiolar.csv</td>\n",
       "      <td>Artophormis gracilis</td>\n",
       "    </tr>\n",
       "    <tr>\n",
       "      <th>2</th>\n",
       "      <td>NOAA/DSDP_core_data/61/462/radiolar.csv</td>\n",
       "      <td>Artostrobium doliolum</td>\n",
       "    </tr>\n",
       "    <tr>\n",
       "      <th>3</th>\n",
       "      <td>NOAA/DSDP_core_data/61/462/radiolar.csv</td>\n",
       "      <td>Lithopera renzae</td>\n",
       "    </tr>\n",
       "    <tr>\n",
       "      <th>4</th>\n",
       "      <td>NOAA/DSDP_core_data/61/462/radiolar.csv</td>\n",
       "      <td>Solenospheara omnitubus</td>\n",
       "    </tr>\n",
       "  </tbody>\n",
       "</table>\n",
       "</div>"
      ],
      "text/plain": [
       "                                      path                   column\n",
       "0  NOAA/DSDP_core_data/61/462/radiolar.csv    Stichocorys peregrina\n",
       "1  NOAA/DSDP_core_data/61/462/radiolar.csv     Artophormis gracilis\n",
       "2  NOAA/DSDP_core_data/61/462/radiolar.csv    Artostrobium doliolum\n",
       "3  NOAA/DSDP_core_data/61/462/radiolar.csv         Lithopera renzae\n",
       "4  NOAA/DSDP_core_data/61/462/radiolar.csv  Solenospheara omnitubus"
      ]
     },
     "execution_count": 32,
     "metadata": {},
     "output_type": "execute_result"
    }
   ],
   "source": [
    "data_df = pd.read_csv(OUTPUT_DIR/'tmp'/'NOAA_taxa_headers.csv', dtype=str)\n",
    "log_df(data_df)"
   ]
  },
  {
   "cell_type": "code",
   "execution_count": 39,
   "metadata": {},
   "outputs": [
    {
     "name": "stdout",
     "output_type": "stream",
     "text": [
      "NOAA/JanusIODP_paleo_agemodel/paleontology/range_tables/104/642/HOLE_B/Pollen_Spores.csv\n",
      "NOAA/JanusIODP_paleo_agemodel/paleontology/range_tables/127/794/HOLE_B/Pollen_Spores.csv\n",
      "NOAA/JanusIODP_paleo_agemodel/paleontology/range_tables/127/794/HOLE_A/Pollen_Spores.csv\n",
      "NOAA/JanusIODP_paleo_agemodel/paleontology/range_tables/127/795/HOLE_B/Pollen_Spores.csv\n",
      "NOAA/JanusIODP_paleo_agemodel/paleontology/range_tables/127/795/HOLE_A/Pollen_Spores.csv\n",
      "NOAA/JanusIODP_paleo_agemodel/paleontology/range_tables/127/796/HOLE_B/Pollen_Spores.csv\n",
      "NOAA/JanusIODP_paleo_agemodel/paleontology/range_tables/127/797/HOLE_B/Pollen_Spores.csv\n",
      "NOAA/JanusIODP_paleo_agemodel/paleontology/range_tables/127/797/HOLE_C/Pollen_Spores.csv\n",
      "NOAA/JanusIODP_paleo_agemodel/paleontology/range_tables/145/881/HOLE_C/Pollen_Spores.csv\n",
      "NOAA/JanusIODP_paleo_agemodel/paleontology/range_tables/145/881/HOLE_D/Pollen_Spores.csv\n",
      "NOAA/JanusIODP_paleo_agemodel/paleontology/range_tables/145/883/HOLE_B/Pollen_Spores.csv\n",
      "NOAA/JanusIODP_paleo_agemodel/paleontology/range_tables/145/887/HOLE_A/Pollen_Spores.csv\n",
      "NOAA/JanusIODP_paleo_agemodel/paleontology/range_tables/151/910/HOLE_C/Pollen_Spores.csv\n",
      "NOAA/JanusIODP_paleo_agemodel/paleontology/range_tables/151/911/HOLE_A/Pollen_Spores.csv\n",
      "14\n"
     ]
    }
   ],
   "source": [
    "search_term = 'Abies taxa'\n",
    "\n",
    "count  = 0\n",
    "for path in data_df[data_df['column'] == search_term]['path']:\n",
    "    print(path)\n",
    "    count += 1\n",
    "    copy_file(path)\n",
    "    \n",
    "print(count)"
   ]
  },
  {
   "cell_type": "markdown",
   "metadata": {},
   "source": [
    "# get list of messed up taxa files\n",
    "\n",
    "104 pollen taxa files has messed up taxa. We want to get taxa that only appear in leg 104 pollen taxa files and delete them from the NOAAA taxa google sheet."
   ]
  },
  {
   "cell_type": "code",
   "execution_count": 9,
   "metadata": {},
   "outputs": [],
   "source": [
    "bad_files = [\n",
    "'NOAA/JanusIODP_paleo_agemodel/paleontology/range_tables/104/642/HOLE_B/Pollen_Spores.csv',\n",
    "'NOAA/JanusIODP_paleo_agemodel/paleontology/range_tables/104/642/HOLE_C/Pollen_Spores.csv',\n",
    "'NOAA/JanusIODP_paleo_agemodel/paleontology/range_tables/104/642/HOLE_D/Pollen_Spores.csv',\n",
    "'NOAA/JanusIODP_paleo_agemodel/paleontology/range_tables/104/643/HOLE_A/Pollen_Spores.csv'\n",
    "]"
   ]
  },
  {
   "cell_type": "code",
   "execution_count": 10,
   "metadata": {},
   "outputs": [],
   "source": [
    "non_taxa = {\n",
    "'Age From (oldest)',\n",
    "'Age To (youngest)',\n",
    "'Comment',\n",
    "'Cor',\n",
    "'Data',\n",
    "'Depth (mbsf)',\n",
    "'Fossil Group                                 ',\n",
    "'Group Abundance',\n",
    "'Group Preservation',\n",
    "'H',\n",
    "'Leg',\n",
    "'Sc',\n",
    "'Scientist',\n",
    "'Site',\n",
    "'T',\n",
    "'Top(cm)',\n",
    "'Zone From (bottom)',\n",
    "'Zone To  (top)'\n",
    "}"
   ]
  },
  {
   "cell_type": "code",
   "execution_count": 11,
   "metadata": {},
   "outputs": [
    {
     "name": "stdout",
     "output_type": "stream",
     "text": [
      "(188688, 2)\n"
     ]
    },
    {
     "data": {
      "text/html": [
       "<div>\n",
       "<style scoped>\n",
       "    .dataframe tbody tr th:only-of-type {\n",
       "        vertical-align: middle;\n",
       "    }\n",
       "\n",
       "    .dataframe tbody tr th {\n",
       "        vertical-align: top;\n",
       "    }\n",
       "\n",
       "    .dataframe thead th {\n",
       "        text-align: right;\n",
       "    }\n",
       "</style>\n",
       "<table border=\"1\" class=\"dataframe\">\n",
       "  <thead>\n",
       "    <tr style=\"text-align: right;\">\n",
       "      <th></th>\n",
       "      <th>path</th>\n",
       "      <th>column</th>\n",
       "    </tr>\n",
       "  </thead>\n",
       "  <tbody>\n",
       "    <tr>\n",
       "      <th>0</th>\n",
       "      <td>NOAA/DSDP_core_data/61/462/radiolar.csv</td>\n",
       "      <td>Stichocorys peregrina</td>\n",
       "    </tr>\n",
       "    <tr>\n",
       "      <th>1</th>\n",
       "      <td>NOAA/DSDP_core_data/61/462/radiolar.csv</td>\n",
       "      <td>Artophormis gracilis</td>\n",
       "    </tr>\n",
       "    <tr>\n",
       "      <th>2</th>\n",
       "      <td>NOAA/DSDP_core_data/61/462/radiolar.csv</td>\n",
       "      <td>Artostrobium doliolum</td>\n",
       "    </tr>\n",
       "    <tr>\n",
       "      <th>3</th>\n",
       "      <td>NOAA/DSDP_core_data/61/462/radiolar.csv</td>\n",
       "      <td>Lithopera renzae</td>\n",
       "    </tr>\n",
       "    <tr>\n",
       "      <th>4</th>\n",
       "      <td>NOAA/DSDP_core_data/61/462/radiolar.csv</td>\n",
       "      <td>Solenospheara omnitubus</td>\n",
       "    </tr>\n",
       "  </tbody>\n",
       "</table>\n",
       "</div>"
      ],
      "text/plain": [
       "                                      path                   column\n",
       "0  NOAA/DSDP_core_data/61/462/radiolar.csv    Stichocorys peregrina\n",
       "1  NOAA/DSDP_core_data/61/462/radiolar.csv     Artophormis gracilis\n",
       "2  NOAA/DSDP_core_data/61/462/radiolar.csv    Artostrobium doliolum\n",
       "3  NOAA/DSDP_core_data/61/462/radiolar.csv         Lithopera renzae\n",
       "4  NOAA/DSDP_core_data/61/462/radiolar.csv  Solenospheara omnitubus"
      ]
     },
     "execution_count": 11,
     "metadata": {},
     "output_type": "execute_result"
    }
   ],
   "source": [
    "data_df = pd.read_csv(OUTPUT_DIR/'tmp'/'NOAA_taxa_headers.csv', dtype=str)\n",
    "log_df(data_df)"
   ]
  },
  {
   "cell_type": "markdown",
   "metadata": {},
   "source": [
    "get taxa that are in the bad files "
   ]
  },
  {
   "cell_type": "code",
   "execution_count": 12,
   "metadata": {},
   "outputs": [
    {
     "name": "stdout",
     "output_type": "stream",
     "text": [
      "NOAA/JanusIODP_paleo_agemodel/paleontology/range_tables/104/642/HOLE_B/Pollen_Spores.csv\n",
      "NOAA/JanusIODP_paleo_agemodel/paleontology/range_tables/104/642/HOLE_C/Pollen_Spores.csv\n",
      "NOAA/JanusIODP_paleo_agemodel/paleontology/range_tables/104/642/HOLE_D/Pollen_Spores.csv\n",
      "NOAA/JanusIODP_paleo_agemodel/paleontology/range_tables/104/643/HOLE_A/Pollen_Spores.csv\n"
     ]
    }
   ],
   "source": [
    "bad_taxa = set()\n",
    "for file in bad_files:\n",
    "    print(file)\n",
    "\n",
    "    df = pd.read_csv(clean_data_path/file)\n",
    "    bad_taxa.update(list(set(df.columns) -  (non_taxa)))"
   ]
  },
  {
   "cell_type": "code",
   "execution_count": 13,
   "metadata": {},
   "outputs": [
    {
     "data": {
      "text/plain": [
       "85"
      ]
     },
     "execution_count": 13,
     "metadata": {},
     "output_type": "execute_result"
    }
   ],
   "source": [
    "len(bad_taxa)\n",
    "# 85"
   ]
  },
  {
   "cell_type": "markdown",
   "metadata": {},
   "source": [
    "find taxa that appear in other files"
   ]
  },
  {
   "cell_type": "code",
   "execution_count": 14,
   "metadata": {},
   "outputs": [],
   "source": [
    "good_taxa = set()\n",
    "data = []\n",
    "\n",
    "for taxon in bad_taxa:\n",
    "    data.append({'taxon name': taxon, 'action': pd.NA})\n",
    "    for path in data_df[data_df['column'] == taxon]['path']:\n",
    "        if path in bad_files:\n",
    "            pass\n",
    "        else:\n",
    "            good_taxa.add(taxon.strip())\n",
    "            \n",
    "        \n",
    "        "
   ]
  },
  {
   "cell_type": "code",
   "execution_count": 15,
   "metadata": {},
   "outputs": [
    {
     "data": {
      "text/plain": [
       "{'Abies taxa',\n",
       " 'Carya taxa',\n",
       " 'Castanea sp.',\n",
       " 'Chenopodiaceae sp.',\n",
       " 'Fagus sp.',\n",
       " 'Gramineae taxa',\n",
       " 'Juglans sp.',\n",
       " 'Larix taxa',\n",
       " 'Podocarpus sp.',\n",
       " 'Pterocarya taxa',\n",
       " 'Quercus taxa',\n",
       " 'Salix sp.',\n",
       " 'Selaginella  taxa',\n",
       " 'Sphagnum taxa',\n",
       " 'Tricolpites sp. 1',\n",
       " 'Ulmus taxa'}"
      ]
     },
     "execution_count": 15,
     "metadata": {},
     "output_type": "execute_result"
    }
   ],
   "source": [
    "good_taxa "
   ]
  },
  {
   "cell_type": "code",
   "execution_count": 16,
   "metadata": {},
   "outputs": [
    {
     "name": "stdout",
     "output_type": "stream",
     "text": [
      "85 16 69\n"
     ]
    }
   ],
   "source": [
    "print(len(bad_taxa), len(good_taxa), len(bad_taxa - good_taxa))\n",
    "\n",
    "# 85 16 69"
   ]
  },
  {
   "cell_type": "code",
   "execution_count": 17,
   "metadata": {},
   "outputs": [
    {
     "data": {
      "text/plain": [
       "{'?Proteacidites sp.',\n",
       " 'AInus cf. A. viridus',\n",
       " 'Alnipollenites sp.',\n",
       " 'Amorphogen taxa',\n",
       " 'Azolla cf. A',\n",
       " 'Baculate triletes cf. A',\n",
       " 'Betula cf.B. alba',\n",
       " 'Betula sect. Nanae',\n",
       " 'Betula sp',\n",
       " 'Bigfrilled monosaccates cf A',\n",
       " 'Botrychium sp.',\n",
       " 'Carpirus sp.',\n",
       " 'Cedrus cf. C perialata',\n",
       " 'Clavate tricolporates cf. A & B',\n",
       " 'Coaly  taxa',\n",
       " 'Cyathea sp. cf. C. sp.',\n",
       " 'DR sporomorphs taxa',\n",
       " 'Ericales taxa',\n",
       " 'Fagus grandis',\n",
       " 'Frilled monosaccates cf. A & B',\n",
       " 'Gleichenia sp.',\n",
       " 'Granular inaperturates cf. A',\n",
       " 'Large bisaccates cf. A &  B',\n",
       " 'Large tricolpates cf. A &  B &  C',\n",
       " 'Large tricolporates cf. A &  B',\n",
       " 'Lycopodium reticulatum',\n",
       " 'Lycopodium sp.',\n",
       " 'Osmunda regalis',\n",
       " 'Osmunda sp.',\n",
       " 'Palaeogene bisaccates cf A & B & C',\n",
       " 'Papillate inaperturates cf. A &  B',\n",
       " 'Picea cf. P. mariana',\n",
       " 'Pinus cf.P. banksiana',\n",
       " 'Pinus cf.P. sylvestris',\n",
       " 'Pointed monocolpates (unspecified)',\n",
       " 'Pointed monocolpates cf. A',\n",
       " 'Polypodium cf. P. reniforme',\n",
       " 'Polytrichum spores taxa',\n",
       " 'Pteridium cf. P. aquilinum',\n",
       " 'Pteridium sp.',\n",
       " 'Reticulate monocolpate cf . A',\n",
       " 'Reticulate multiporates cf. A',\n",
       " 'Ribbed elipticals cf. A',\n",
       " 'Round bisaccates cf A & B ',\n",
       " 'Round tricolporates cf. A',\n",
       " 'Rugulate multiporates cf. A',\n",
       " 'Scabrate monoporates cf. A',\n",
       " 'Sequoia sp. 1',\n",
       " 'Small bisaccates cf. A',\n",
       " 'Small tricolpates cf. A & B & C',\n",
       " 'Smallpore triporates cf A',\n",
       " 'Smooth monocolpates cf. A & B',\n",
       " 'Smooth triletes cf. A & B ',\n",
       " 'Split inaperturates cf. A & B & C',\n",
       " 'Straight bisaccates cf. A',\n",
       " 'Subequatorial triporates cf. A & B  ',\n",
       " 'Taxodium taxa',\n",
       " 'Tetrads cf. A & B ',\n",
       " 'Thickpore triporates cf. A & B',\n",
       " 'Thinpore triporates cf. A &  B  ',\n",
       " 'Torate triletes cf. A',\n",
       " 'Tricolporopollenites (sp.)',\n",
       " 'Trilete spore 1',\n",
       " 'Tsuga cf. T.  ignicula',\n",
       " 'Tsugsa sp. cf. T. sp.',\n",
       " 'Verrucate monocolpates cf. A',\n",
       " 'Verrucate triletes cf. A',\n",
       " 'Verucate monocolpates cf.  A',\n",
       " 'Woody/herbaceous taxa'}"
      ]
     },
     "execution_count": 17,
     "metadata": {},
     "output_type": "execute_result"
    }
   ],
   "source": [
    "bad_taxa - good_taxa"
   ]
  },
  {
   "cell_type": "markdown",
   "metadata": {},
   "source": [
    "create csv that lists which taxa were deleted or kept"
   ]
  },
  {
   "cell_type": "code",
   "execution_count": 122,
   "metadata": {},
   "outputs": [
    {
     "name": "stdout",
     "output_type": "stream",
     "text": [
      "(85, 2)\n"
     ]
    },
    {
     "data": {
      "text/html": [
       "<div>\n",
       "<style scoped>\n",
       "    .dataframe tbody tr th:only-of-type {\n",
       "        vertical-align: middle;\n",
       "    }\n",
       "\n",
       "    .dataframe tbody tr th {\n",
       "        vertical-align: top;\n",
       "    }\n",
       "\n",
       "    .dataframe thead th {\n",
       "        text-align: right;\n",
       "    }\n",
       "</style>\n",
       "<table border=\"1\" class=\"dataframe\">\n",
       "  <thead>\n",
       "    <tr style=\"text-align: right;\">\n",
       "      <th></th>\n",
       "      <th>taxon name</th>\n",
       "      <th>action</th>\n",
       "    </tr>\n",
       "  </thead>\n",
       "  <tbody>\n",
       "    <tr>\n",
       "      <th>23</th>\n",
       "      <td>?Proteacidites sp.</td>\n",
       "      <td>delete</td>\n",
       "    </tr>\n",
       "    <tr>\n",
       "      <th>45</th>\n",
       "      <td>AInus cf. A. viridus</td>\n",
       "      <td>delete</td>\n",
       "    </tr>\n",
       "    <tr>\n",
       "      <th>83</th>\n",
       "      <td>Abies taxa</td>\n",
       "      <td>keep</td>\n",
       "    </tr>\n",
       "    <tr>\n",
       "      <th>0</th>\n",
       "      <td>Alnipollenites sp.</td>\n",
       "      <td>delete</td>\n",
       "    </tr>\n",
       "    <tr>\n",
       "      <th>62</th>\n",
       "      <td>Amorphogen taxa</td>\n",
       "      <td>delete</td>\n",
       "    </tr>\n",
       "  </tbody>\n",
       "</table>\n",
       "</div>"
      ],
      "text/plain": [
       "              taxon name  action\n",
       "23    ?Proteacidites sp.  delete\n",
       "45  AInus cf. A. viridus  delete\n",
       "83            Abies taxa    keep\n",
       "0     Alnipollenites sp.  delete\n",
       "62       Amorphogen taxa  delete"
      ]
     },
     "execution_count": 122,
     "metadata": {},
     "output_type": "execute_result"
    }
   ],
   "source": [
    "df = pd.DataFrame(data)\n",
    "df['action'] = 'delete'\n",
    "\n",
    "for taxon in good_taxa:\n",
    "    df.loc[df['taxon name'] == taxon, 'action'] = 'keep'\n",
    "\n",
    "df = df.sort_values(['taxon name'])\n",
    "log_df(df)"
   ]
  },
  {
   "cell_type": "code",
   "execution_count": 123,
   "metadata": {},
   "outputs": [],
   "source": [
    "df.to_csv(OUTPUT_DIR/'tmp'/'104_bad_pollen_taxa_summary.csv', index=False)"
   ]
  },
  {
   "cell_type": "markdown",
   "metadata": {},
   "source": [
    "### check taxa deletes"
   ]
  },
  {
   "cell_type": "code",
   "execution_count": 21,
   "metadata": {},
   "outputs": [],
   "source": [
    "df = pd.read_csv(RAW_DATA_DIR/'PI_processed_files'/'NOAA_2_taxa_lists_taxa_list_2023-01-17.csv')\n",
    "df2 = pd.read_csv(RAW_DATA_DIR/'PI_processed_files'/'NOAA_2_taxa_lists_taxa_list_2023-01-18.csv')\n"
   ]
  },
  {
   "cell_type": "code",
   "execution_count": 27,
   "metadata": {},
   "outputs": [
    {
     "data": {
      "text/plain": [
       "{'Coaly  m taxa'}"
      ]
     },
     "execution_count": 27,
     "metadata": {},
     "output_type": "execute_result"
    }
   ],
   "source": [
    "(\n",
    "    set(df['verbatim_name']) - \n",
    "    set(df2['verbatim_name'])  - \n",
    "    set([t.strip() for t in bad_taxa]) - \n",
    "    good_taxa\n",
    ")"
   ]
  },
  {
   "cell_type": "code",
   "execution_count": null,
   "metadata": {},
   "outputs": [],
   "source": []
  }
 ],
 "metadata": {
  "kernelspec": {
   "display_name": "Python 3 (ipykernel)",
   "language": "python",
   "name": "python3"
  },
  "language_info": {
   "codemirror_mode": {
    "name": "ipython",
    "version": 3
   },
   "file_extension": ".py",
   "mimetype": "text/x-python",
   "name": "python",
   "nbconvert_exporter": "python",
   "pygments_lexer": "ipython3",
   "version": "3.8.2"
  }
 },
 "nbformat": 4,
 "nbformat_minor": 4
}
