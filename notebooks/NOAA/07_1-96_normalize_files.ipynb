{
 "cells": [
  {
   "cell_type": "code",
   "execution_count": 1,
   "id": "810f9b2a-d59d-49b3-8680-ab476073f5cf",
   "metadata": {},
   "outputs": [],
   "source": [
    "import sys\n",
    "sys.path.append('../../')\n",
    "import glob\n",
    "from pathlib import Path\n",
    "import os\n",
    "\n",
    "import pandas as pd\n",
    "import numpy as np\n",
    "import hashlib\n",
    "\n",
    "from scripts.normalize_noaa_files import (\n",
    "    unique_filenames_for_paths,\n",
    "    unique_columns_for_paths,\n",
    "    filename_index,\n",
    "    format_filepaths_set\n",
    ")\n",
    "from config import OUTPUT_DIR, CLEAN_DATA_DIR\n",
    "from scripts.shared_utils import (\n",
    "    log_df\n",
    ")\n",
    "from scripts.normalize_data import (\n",
    "    create_sample_name_noaa\n",
    ")"
   ]
  },
  {
   "cell_type": "code",
   "execution_count": 2,
   "id": "b47441b6-fec5-4278-99c2-1ce3ed4279e5",
   "metadata": {},
   "outputs": [],
   "source": [
    "\n",
    "base_dir = CLEAN_DATA_DIR\n",
    "\n",
    "\n",
    "\n",
    "metadata_path = OUTPUT_DIR/'metadata'/'NOAA'/'noaa_dsdp_files.csv'\n"
   ]
  },
  {
   "cell_type": "markdown",
   "id": "63c952cf-9ad1-47ef-af26-c67375f41bd0",
   "metadata": {},
   "source": [
    "## Add eodp_id to data files\n",
    "\n",
    "add hash eodp_id to each row in data files"
   ]
  },
  {
   "cell_type": "code",
   "execution_count": 14,
   "id": "9b1ec5fb-dc76-4dd9-b078-b91662099dd3",
   "metadata": {},
   "outputs": [
    {
     "name": "stdout",
     "output_type": "stream",
     "text": [
      "(4477, 5)\n"
     ]
    },
    {
     "data": {
      "text/html": [
       "<div>\n",
       "<style scoped>\n",
       "    .dataframe tbody tr th:only-of-type {\n",
       "        vertical-align: middle;\n",
       "    }\n",
       "\n",
       "    .dataframe tbody tr th {\n",
       "        vertical-align: top;\n",
       "    }\n",
       "\n",
       "    .dataframe thead th {\n",
       "        text-align: right;\n",
       "    }\n",
       "</style>\n",
       "<table border=\"1\" class=\"dataframe\">\n",
       "  <thead>\n",
       "    <tr style=\"text-align: right;\">\n",
       "      <th></th>\n",
       "      <th>path</th>\n",
       "      <th>type</th>\n",
       "      <th>taxon_group</th>\n",
       "      <th>expedition</th>\n",
       "      <th>site</th>\n",
       "    </tr>\n",
       "  </thead>\n",
       "  <tbody>\n",
       "    <tr>\n",
       "      <th>0</th>\n",
       "      <td>NOAA/DSDP_core_data/61/462/radiolar.csv</td>\n",
       "      <td>taxa</td>\n",
       "      <td>radiolarians</td>\n",
       "      <td>61</td>\n",
       "      <td>462</td>\n",
       "    </tr>\n",
       "    <tr>\n",
       "      <th>1</th>\n",
       "      <td>NOAA/DSDP_core_data/61/462/ageprof.csv</td>\n",
       "      <td>age</td>\n",
       "      <td>NaN</td>\n",
       "      <td>61</td>\n",
       "      <td>462</td>\n",
       "    </tr>\n",
       "    <tr>\n",
       "      <th>2</th>\n",
       "      <td>NOAA/DSDP_core_data/61/462/b_forams.csv</td>\n",
       "      <td>taxa</td>\n",
       "      <td>benthic_forams</td>\n",
       "      <td>61</td>\n",
       "      <td>462</td>\n",
       "    </tr>\n",
       "    <tr>\n",
       "      <th>3</th>\n",
       "      <td>NOAA/DSDP_core_data/61/462/p_forams.csv</td>\n",
       "      <td>taxa</td>\n",
       "      <td>planktic_forams</td>\n",
       "      <td>61</td>\n",
       "      <td>462</td>\n",
       "    </tr>\n",
       "    <tr>\n",
       "      <th>4</th>\n",
       "      <td>NOAA/DSDP_core_data/61/462/hr_desc.csv</td>\n",
       "      <td>hard_rock</td>\n",
       "      <td>NaN</td>\n",
       "      <td>61</td>\n",
       "      <td>462</td>\n",
       "    </tr>\n",
       "  </tbody>\n",
       "</table>\n",
       "</div>"
      ],
      "text/plain": [
       "                                      path       type      taxon_group  \\\n",
       "0  NOAA/DSDP_core_data/61/462/radiolar.csv       taxa     radiolarians   \n",
       "1   NOAA/DSDP_core_data/61/462/ageprof.csv        age              NaN   \n",
       "2  NOAA/DSDP_core_data/61/462/b_forams.csv       taxa   benthic_forams   \n",
       "3  NOAA/DSDP_core_data/61/462/p_forams.csv       taxa  planktic_forams   \n",
       "4   NOAA/DSDP_core_data/61/462/hr_desc.csv  hard_rock              NaN   \n",
       "\n",
       "  expedition site  \n",
       "0         61  462  \n",
       "1         61  462  \n",
       "2         61  462  \n",
       "3         61  462  \n",
       "4         61  462  "
      ]
     },
     "execution_count": 14,
     "metadata": {},
     "output_type": "execute_result"
    }
   ],
   "source": [
    "metadata = pd.read_csv(metadata_path)\n",
    "log_df(metadata)"
   ]
  },
  {
   "cell_type": "code",
   "execution_count": 10,
   "id": "8aff2308-38b0-4078-a039-83cf940b2166",
   "metadata": {},
   "outputs": [
    {
     "data": {
      "text/plain": [
       "array(['taxa', 'age', 'hard_rock', 'lithology'], dtype=object)"
      ]
     },
     "execution_count": 10,
     "metadata": {},
     "output_type": "execute_result"
    }
   ],
   "source": [
    "metadata['type'].unique()"
   ]
  },
  {
   "cell_type": "code",
   "execution_count": 14,
   "id": "6489d422-0ac9-46a8-82c8-978d51258c44",
   "metadata": {},
   "outputs": [
    {
     "data": {
      "text/plain": [
       "3104"
      ]
     },
     "execution_count": 14,
     "metadata": {},
     "output_type": "execute_result"
    }
   ],
   "source": [
    "metadata2 = metadata[metadata['type'].isin(['taxa','lithology'])]\n",
    "len(metadata2)"
   ]
  },
  {
   "cell_type": "code",
   "execution_count": 15,
   "id": "2c6350a5-31b8-47b4-b631-f4504be0d412",
   "metadata": {},
   "outputs": [],
   "source": [
    "\n",
    "def add_eodp_id(file):\n",
    "    def add_hash_id(id):\n",
    "        return hashlib.md5(f'{file}{id}'.encode()).hexdigest()\n",
    "\n",
    "    path = f\"{CLEAN_DATA_DIR}/{file}\"\n",
    "    content = pd.read_csv(path, dtype=str)\n",
    "    content.dropna(how='all', axis='rows', inplace=True)\n",
    "       \n",
    "    content['eodp_id'] = content.index \n",
    "    content['eodp_id'] = content['eodp_id'].apply(add_hash_id)\n",
    "    \n",
    "    content.to_csv(path, index=False)\n",
    "\n",
    "res = [add_eodp_id(file) for file in metadata2['path']]\n"
   ]
  },
  {
   "cell_type": "markdown",
   "id": "db636717-4864-404d-b5ea-1a6a5cc9ca9b",
   "metadata": {},
   "source": [
    "## add sample name"
   ]
  },
  {
   "cell_type": "code",
   "execution_count": 16,
   "id": "32793309-a369-45f4-b8d6-056685c8c92d",
   "metadata": {},
   "outputs": [
    {
     "name": "stdout",
     "output_type": "stream",
     "text": [
      "(4477, 5)\n"
     ]
    },
    {
     "data": {
      "text/html": [
       "<div>\n",
       "<style scoped>\n",
       "    .dataframe tbody tr th:only-of-type {\n",
       "        vertical-align: middle;\n",
       "    }\n",
       "\n",
       "    .dataframe tbody tr th {\n",
       "        vertical-align: top;\n",
       "    }\n",
       "\n",
       "    .dataframe thead th {\n",
       "        text-align: right;\n",
       "    }\n",
       "</style>\n",
       "<table border=\"1\" class=\"dataframe\">\n",
       "  <thead>\n",
       "    <tr style=\"text-align: right;\">\n",
       "      <th></th>\n",
       "      <th>path</th>\n",
       "      <th>type</th>\n",
       "      <th>taxon_group</th>\n",
       "      <th>expedition</th>\n",
       "      <th>site</th>\n",
       "    </tr>\n",
       "  </thead>\n",
       "  <tbody>\n",
       "    <tr>\n",
       "      <th>0</th>\n",
       "      <td>NOAA/DSDP_core_data/61/462/radiolar.csv</td>\n",
       "      <td>taxa</td>\n",
       "      <td>radiolarians</td>\n",
       "      <td>61</td>\n",
       "      <td>462</td>\n",
       "    </tr>\n",
       "    <tr>\n",
       "      <th>1</th>\n",
       "      <td>NOAA/DSDP_core_data/61/462/ageprof.csv</td>\n",
       "      <td>age</td>\n",
       "      <td>NaN</td>\n",
       "      <td>61</td>\n",
       "      <td>462</td>\n",
       "    </tr>\n",
       "    <tr>\n",
       "      <th>2</th>\n",
       "      <td>NOAA/DSDP_core_data/61/462/b_forams.csv</td>\n",
       "      <td>taxa</td>\n",
       "      <td>benthic_forams</td>\n",
       "      <td>61</td>\n",
       "      <td>462</td>\n",
       "    </tr>\n",
       "    <tr>\n",
       "      <th>3</th>\n",
       "      <td>NOAA/DSDP_core_data/61/462/p_forams.csv</td>\n",
       "      <td>taxa</td>\n",
       "      <td>planktic_forams</td>\n",
       "      <td>61</td>\n",
       "      <td>462</td>\n",
       "    </tr>\n",
       "    <tr>\n",
       "      <th>4</th>\n",
       "      <td>NOAA/DSDP_core_data/61/462/hr_desc.csv</td>\n",
       "      <td>hard_rock</td>\n",
       "      <td>NaN</td>\n",
       "      <td>61</td>\n",
       "      <td>462</td>\n",
       "    </tr>\n",
       "  </tbody>\n",
       "</table>\n",
       "</div>"
      ],
      "text/plain": [
       "                                      path       type      taxon_group  \\\n",
       "0  NOAA/DSDP_core_data/61/462/radiolar.csv       taxa     radiolarians   \n",
       "1   NOAA/DSDP_core_data/61/462/ageprof.csv        age              NaN   \n",
       "2  NOAA/DSDP_core_data/61/462/b_forams.csv       taxa   benthic_forams   \n",
       "3  NOAA/DSDP_core_data/61/462/p_forams.csv       taxa  planktic_forams   \n",
       "4   NOAA/DSDP_core_data/61/462/hr_desc.csv  hard_rock              NaN   \n",
       "\n",
       "  expedition site  \n",
       "0         61  462  \n",
       "1         61  462  \n",
       "2         61  462  \n",
       "3         61  462  \n",
       "4         61  462  "
      ]
     },
     "execution_count": 16,
     "metadata": {},
     "output_type": "execute_result"
    }
   ],
   "source": [
    "metadata = pd.read_csv(metadata_path)\n",
    "log_df(metadata)"
   ]
  },
  {
   "cell_type": "code",
   "execution_count": 17,
   "id": "6a3a444f-181d-4b47-b84a-1693643d8bf2",
   "metadata": {},
   "outputs": [
    {
     "data": {
      "text/plain": [
       "3104"
      ]
     },
     "execution_count": 17,
     "metadata": {},
     "output_type": "execute_result"
    }
   ],
   "source": [
    "metadata2 = metadata[metadata['type'].isin(['taxa','lithology'])]\n",
    "len(metadata2)"
   ]
  },
  {
   "cell_type": "code",
   "execution_count": 1,
   "id": "1c483927-faee-4fb2-bc83-71c7e9059cd8",
   "metadata": {},
   "outputs": [],
   "source": [
    "\n",
    "def add_sample(file):\n",
    "    path = f\"{CLEAN_DATA_DIR}/{file}\"\n",
    "    content = pd.read_csv(path, dtype=str)\n",
    "    create_sample_name_noaa(content)\n",
    "           \n",
    "    content.to_csv(path, index=False)\n",
    "\n",
    "res = [add_sample(file) for file in metadata2['path']]\n"
   ]
  },
  {
   "cell_type": "code",
   "execution_count": null,
   "id": "0ef15624-0029-41ac-9e5c-b8f1d66dc500",
   "metadata": {},
   "outputs": [],
   "source": []
  }
 ],
 "metadata": {
  "kernelspec": {
   "display_name": "Python 3 (ipykernel)",
   "language": "python",
   "name": "python3"
  },
  "language_info": {
   "codemirror_mode": {
    "name": "ipython",
    "version": 3
   },
   "file_extension": ".py",
   "mimetype": "text/x-python",
   "name": "python",
   "nbconvert_exporter": "python",
   "pygments_lexer": "ipython3",
   "version": "3.8.2"
  }
 },
 "nbformat": 4,
 "nbformat_minor": 5
}
