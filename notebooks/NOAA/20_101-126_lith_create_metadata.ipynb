{
 "cells": [
  {
   "cell_type": "markdown",
   "id": "718c2a7c",
   "metadata": {},
   "source": [
    "# create metadata NOAA Janus files\n",
    "## 101-126 lithology\n",
    "\n",
    "Get basic metadata (file names, column names) about NOAA Janus dataset. Create csv that lists all the files.\n",
    "\n",
    "NOAA_csv/Janus_core_data  \n",
    "expedition 101-126  \n",
    "lithology"
   ]
  },
  {
   "cell_type": "code",
   "execution_count": 2,
   "id": "61607c81",
   "metadata": {},
   "outputs": [],
   "source": [
    "import sys\n",
    "sys.path.append('../../')\n",
    "import glob\n",
    "from pathlib import Path\n",
    "import os\n",
    "\n",
    "import pandas as pd\n",
    "\n",
    "from scripts.normalize_noaa_files import (\n",
    "    unique_filenames_for_paths,\n",
    "    unique_columns_for_paths,\n",
    "    filename_index,\n",
    "    format_filepaths_set\n",
    ")\n",
    "from config import OUTPUT_DIR, CLEAN_DATA_DIR, RAW_DATA_DIR\n",
    "from scripts.shared_utils import (\n",
    "    log_df\n",
    ")"
   ]
  },
  {
   "cell_type": "code",
   "execution_count": 3,
   "id": "61ede03f",
   "metadata": {},
   "outputs": [],
   "source": [
    "base_dir = CLEAN_DATA_DIR\n",
    "data_dir = base_dir/'NOAA'/'Janus_core_data'\n",
    "metadata_path = OUTPUT_DIR/'metadata'/'NOAA'/'noaa_janus_files.csv'"
   ]
  },
  {
   "cell_type": "code",
   "execution_count": 4,
   "id": "afb516da",
   "metadata": {},
   "outputs": [
    {
     "name": "stdout",
     "output_type": "stream",
     "text": [
      "files 327\n"
     ]
    }
   ],
   "source": [
    "csv_paths = list(data_dir.glob(\"**/*.csv\"))\n",
    "print('files', len(csv_paths))"
   ]
  },
  {
   "cell_type": "markdown",
   "id": "c13984ff",
   "metadata": {},
   "source": [
    "## unique file names\n",
    "\n",
    "Get all the file names."
   ]
  },
  {
   "cell_type": "code",
   "execution_count": 4,
   "id": "479ec814",
   "metadata": {},
   "outputs": [
    {
     "data": {
      "text/plain": [
       "['sed_lith_112_687b_delimited_pre-janus.csv',\n",
       " 'sed_lith_107_651a_delimited_pre-janus.csv',\n",
       " 'sed_lith_112_684c_delimited_pre-janus.csv',\n",
       " 'sed_lith_101_632b_delimited_pre-janus.csv',\n",
       " 'sed_lith_114_701b_delimited_pre-janus.csv',\n",
       " 'sed_lith_101_628a_delimited_pre-janus.csv',\n",
       " 'sed_lith_101_627a_delimited_pre-janus.csv',\n",
       " 'sed_lith_125_780a_delimited_pre-janus.csv',\n",
       " 'sed_lith_108_658a_delimited_pre-janus.csv',\n",
       " 'sed_lith_104_643a_delimited_pre-janus.csv',\n",
       " 'sed_lith_114_704a_delimited_pre-janus.csv',\n",
       " 'sed_lith_126_791b_delimited_pre-janus.csv',\n",
       " 'sed_lith_113_692b_delimited_pre-janus.csv',\n",
       " 'sed_lith_115_707b_delimited_pre-janus.csv',\n",
       " 'sed_lith_114_701a_delimited_pre-janus.csv']"
      ]
     },
     "execution_count": 4,
     "metadata": {},
     "output_type": "execute_result"
    }
   ],
   "source": [
    "files = unique_filenames_for_paths(csv_paths)\n",
    "list(files)[0:15]"
   ]
  },
  {
   "cell_type": "markdown",
   "id": "1927a41a-489b-4833-8d3f-f6afce2126f4",
   "metadata": {},
   "source": [
    "## column names\n",
    "\n",
    "Get all the column names.\n"
   ]
  },
  {
   "cell_type": "code",
   "execution_count": 5,
   "id": "d1d0a43f-cf96-493f-a2f7-cafbc45db7a5",
   "metadata": {},
   "outputs": [
    {
     "data": {
      "text/plain": [
       "{'Unnamed: 30',\n",
       " 'Unnamed: 31',\n",
       " 'Unnamed: 32',\n",
       " 'Unnamed: 33',\n",
       " 'Unnamed: 34',\n",
       " 'bottom interval',\n",
       " 'bottom interval depth below sea floor',\n",
       " 'code',\n",
       " 'color',\n",
       " 'color number',\n",
       " 'core',\n",
       " 'coretype',\n",
       " 'depth',\n",
       " 'drilling deformities',\n",
       " 'hole',\n",
       " 'induration',\n",
       " 'latitude',\n",
       " 'leg',\n",
       " 'lithology',\n",
       " 'longitude',\n",
       " 'minerals',\n",
       " 'more data available',\n",
       " 'observer',\n",
       " 'other',\n",
       " 'paleontology',\n",
       " 'piece number bottom',\n",
       " 'piece number top',\n",
       " 'section',\n",
       " 'site',\n",
       " 'structures',\n",
       " 'sub piece bottom',\n",
       " 'sub piece top',\n",
       " 'top interval',\n",
       " 'top interval depth below sea floor',\n",
       " 'unusual occurrences'}"
      ]
     },
     "execution_count": 5,
     "metadata": {},
     "output_type": "execute_result"
    }
   ],
   "source": [
    "unique_columns_for_paths(csv_paths)"
   ]
  },
  {
   "cell_type": "markdown",
   "id": "c06c08bf",
   "metadata": {},
   "source": [
    "## file list\n",
    "\n",
    "Create csv that lists all the files for this dataset."
   ]
  },
  {
   "cell_type": "code",
   "execution_count": 5,
   "id": "17da02af",
   "metadata": {},
   "outputs": [],
   "source": [
    "file_list = []\n",
    "\n",
    "for path in csv_paths:\n",
    "    if '.ipynb_checkpoints' in str(path):\n",
    "        continue\n",
    "        \n",
    "    file_data = {}\n",
    "    relative_path = path.relative_to(base_dir)\n",
    "    path_parts = relative_path.parts\n",
    "    filename = relative_path.name \n",
    "    \n",
    "    file_data['path'] = relative_path\n",
    "    \n",
    "    file_data['type'] = 'lithology'\n",
    "    file_data['expedition'] =  path_parts[2]\n",
    "    file_data['site'] =  path_parts[3]\n",
    "    \n",
    "    \n",
    "    file_list.append(file_data)"
   ]
  },
  {
   "cell_type": "code",
   "execution_count": 6,
   "id": "e48b5347",
   "metadata": {},
   "outputs": [
    {
     "name": "stdout",
     "output_type": "stream",
     "text": [
      "(325, 4)\n"
     ]
    },
    {
     "data": {
      "text/html": [
       "<div>\n",
       "<style scoped>\n",
       "    .dataframe tbody tr th:only-of-type {\n",
       "        vertical-align: middle;\n",
       "    }\n",
       "\n",
       "    .dataframe tbody tr th {\n",
       "        vertical-align: top;\n",
       "    }\n",
       "\n",
       "    .dataframe thead th {\n",
       "        text-align: right;\n",
       "    }\n",
       "</style>\n",
       "<table border=\"1\" class=\"dataframe\">\n",
       "  <thead>\n",
       "    <tr style=\"text-align: right;\">\n",
       "      <th></th>\n",
       "      <th>path</th>\n",
       "      <th>type</th>\n",
       "      <th>expedition</th>\n",
       "      <th>site</th>\n",
       "    </tr>\n",
       "  </thead>\n",
       "  <tbody>\n",
       "    <tr>\n",
       "      <th>165</th>\n",
       "      <td>NOAA/Janus_core_data/101/626a/sed_lith_101_626...</td>\n",
       "      <td>lithology</td>\n",
       "      <td>101</td>\n",
       "      <td>626a</td>\n",
       "    </tr>\n",
       "    <tr>\n",
       "      <th>173</th>\n",
       "      <td>NOAA/Janus_core_data/101/626b/sed_lith_101_626...</td>\n",
       "      <td>lithology</td>\n",
       "      <td>101</td>\n",
       "      <td>626b</td>\n",
       "    </tr>\n",
       "    <tr>\n",
       "      <th>176</th>\n",
       "      <td>NOAA/Janus_core_data/101/626c/sed_lith_101_626...</td>\n",
       "      <td>lithology</td>\n",
       "      <td>101</td>\n",
       "      <td>626c</td>\n",
       "    </tr>\n",
       "    <tr>\n",
       "      <th>175</th>\n",
       "      <td>NOAA/Janus_core_data/101/626d/sed_lith_101_626...</td>\n",
       "      <td>lithology</td>\n",
       "      <td>101</td>\n",
       "      <td>626d</td>\n",
       "    </tr>\n",
       "    <tr>\n",
       "      <th>166</th>\n",
       "      <td>NOAA/Janus_core_data/101/627a/sed_lith_101_627...</td>\n",
       "      <td>lithology</td>\n",
       "      <td>101</td>\n",
       "      <td>627a</td>\n",
       "    </tr>\n",
       "  </tbody>\n",
       "</table>\n",
       "</div>"
      ],
      "text/plain": [
       "                                                  path       type expedition  \\\n",
       "165  NOAA/Janus_core_data/101/626a/sed_lith_101_626...  lithology        101   \n",
       "173  NOAA/Janus_core_data/101/626b/sed_lith_101_626...  lithology        101   \n",
       "176  NOAA/Janus_core_data/101/626c/sed_lith_101_626...  lithology        101   \n",
       "175  NOAA/Janus_core_data/101/626d/sed_lith_101_626...  lithology        101   \n",
       "166  NOAA/Janus_core_data/101/627a/sed_lith_101_627...  lithology        101   \n",
       "\n",
       "     site  \n",
       "165  626a  \n",
       "173  626b  \n",
       "176  626c  \n",
       "175  626d  \n",
       "166  627a  "
      ]
     },
     "execution_count": 6,
     "metadata": {},
     "output_type": "execute_result"
    }
   ],
   "source": [
    "df = pd.DataFrame(file_list)\n",
    "df = df.sort_values(by=['expedition', 'site', 'type'])\n",
    "log_df(df)"
   ]
  },
  {
   "cell_type": "code",
   "execution_count": 7,
   "id": "05434c3f",
   "metadata": {},
   "outputs": [],
   "source": [
    "df.to_csv(metadata_path, index=False)"
   ]
  },
  {
   "cell_type": "code",
   "execution_count": null,
   "id": "7a722a7c-28ad-4e9d-b837-325fa4e6dde7",
   "metadata": {},
   "outputs": [],
   "source": []
  }
 ],
 "metadata": {
  "kernelspec": {
   "display_name": "Python 3 (ipykernel)",
   "language": "python",
   "name": "python3"
  },
  "language_info": {
   "codemirror_mode": {
    "name": "ipython",
    "version": 3
   },
   "file_extension": ".py",
   "mimetype": "text/x-python",
   "name": "python",
   "nbconvert_exporter": "python",
   "pygments_lexer": "ipython3",
   "version": "3.8.2"
  }
 },
 "nbformat": 4,
 "nbformat_minor": 5
}
