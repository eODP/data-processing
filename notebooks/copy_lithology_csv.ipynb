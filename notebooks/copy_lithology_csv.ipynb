{
 "cells": [
  {
   "cell_type": "markdown",
   "metadata": {},
   "source": [
    "# Copy lithology CSVs and create metadata"
   ]
  },
  {
   "cell_type": "markdown",
   "metadata": {},
   "source": [
    "Make a copy of all the Lithology CSVs files. Create a metadata file that tracks changes will we make to the files."
   ]
  },
  {
   "cell_type": "code",
   "execution_count": 3,
   "metadata": {},
   "outputs": [],
   "source": [
    "import sys\n",
    "sys.path.append('../scripts/')\n",
    "import glob\n",
    "import re\n",
    "import shutil  \n",
    "\n",
    "import pandas as pd\n",
    "import numpy as np\n",
    "\n",
    "from normalize_data import create_directory\n"
   ]
  },
  {
   "cell_type": "code",
   "execution_count": 4,
   "metadata": {},
   "outputs": [],
   "source": [
    "clean_data_path = 'cleaned_data/Lithology_CSV'\n",
    "create_directory(clean_data_path)"
   ]
  },
  {
   "cell_type": "code",
   "execution_count": 5,
   "metadata": {},
   "outputs": [],
   "source": [
    "metadata_path = 'cleaned_data/metadata'\n",
    "create_directory(metadata_path)"
   ]
  },
  {
   "cell_type": "code",
   "execution_count": 6,
   "metadata": {},
   "outputs": [
    {
     "data": {
      "text/plain": [
       "['./raw_data/DESC-Lithology-CSV/361_macroscopic_U1474D.csv',\n",
       " './raw_data/DESC-Lithology-CSV/323 Core Description Template_U1341A.csv',\n",
       " './raw_data/DESC-Lithology-CSV/361_macroscopic_U1479C.csv',\n",
       " './raw_data/DESC-Lithology-CSV/340_sediment_U1393A.csv',\n",
       " './raw_data/DESC-Lithology-CSV/339_sediment_U1386A.csv',\n",
       " './raw_data/DESC-Lithology-CSV/320 Core Description_U1332A.csv']"
      ]
     },
     "execution_count": 6,
     "metadata": {},
     "output_type": "execute_result"
    }
   ],
   "source": [
    "raw_csvs = glob.glob(\"./raw_data/DESC-Lithology-CSV/*.csv\")\n",
    "raw_csvs[0:6]"
   ]
  },
  {
   "cell_type": "code",
   "execution_count": 7,
   "metadata": {},
   "outputs": [
    {
     "name": "stdout",
     "output_type": "stream",
     "text": [
      "518\n"
     ]
    }
   ],
   "source": [
    "print(len(raw_csvs))"
   ]
  },
  {
   "cell_type": "code",
   "execution_count": 25,
   "metadata": {},
   "outputs": [],
   "source": [
    "def get_expedition_from_csv(path):\n",
    "    df = pd.read_csv(path)\n",
    "    \n",
    "    if 'Label ID' in df.columns:\n",
    "        expedition = df['Label ID'][0].split('-')[0] \n",
    "    elif 'Sample' in df.columns:\n",
    "        expedition = df['Sample'][0].split('-')[0] \n",
    "    else:\n",
    "        expedition = None\n",
    "        \n",
    "    return expedition"
   ]
  },
  {
   "cell_type": "markdown",
   "metadata": {},
   "source": [
    "Get expedition for each CSV. Copy all the CSVs."
   ]
  },
  {
   "cell_type": "code",
   "execution_count": 34,
   "metadata": {},
   "outputs": [],
   "source": [
    "expeditions = []\n",
    "filenames = []\n",
    "filename_has_exps = []\n",
    "\n",
    "for path in raw_csvs:\n",
    "    filename = path.split('/')[3]\n",
    "    starts_with_expedition = re.search('^X?([0-9]{3})[_ \\-]', filename)\n",
    "\n",
    "    if starts_with_expedition != None:\n",
    "        expedition = starts_with_expedition.groups()[0]\n",
    "        filename_has_exp = True\n",
    "    else:\n",
    "        expedition = get_expedition_from_csv(path)\n",
    "        filename_has_exp = False\n",
    "            \n",
    "    expeditions.append(expedition)\n",
    "    filenames.append(filename)\n",
    "    filename_has_exps.append(filename_has_exp)\n",
    "    \n",
    "    shutil.copyfile(path, f\"{clean_data_path}/{filename}\")  \n"
   ]
  },
  {
   "cell_type": "markdown",
   "metadata": {},
   "source": [
    "## create metadata csv"
   ]
  },
  {
   "cell_type": "code",
   "execution_count": 38,
   "metadata": {},
   "outputs": [
    {
     "data": {
      "text/plain": [
       "(518, 3)"
      ]
     },
     "execution_count": 38,
     "metadata": {},
     "output_type": "execute_result"
    }
   ],
   "source": [
    "dict = {\"file\": filenames,\n",
    "        \"expedition\": expeditions,\n",
    "        \"filename_has_exp\": filename_has_exps\n",
    "        }\n",
    "metadata = pd.DataFrame(dict)\n",
    "metadata.shape"
   ]
  },
  {
   "cell_type": "code",
   "execution_count": 41,
   "metadata": {},
   "outputs": [
    {
     "data": {
      "text/html": [
       "<div>\n",
       "<style scoped>\n",
       "    .dataframe tbody tr th:only-of-type {\n",
       "        vertical-align: middle;\n",
       "    }\n",
       "\n",
       "    .dataframe tbody tr th {\n",
       "        vertical-align: top;\n",
       "    }\n",
       "\n",
       "    .dataframe thead th {\n",
       "        text-align: right;\n",
       "    }\n",
       "</style>\n",
       "<table border=\"1\" class=\"dataframe\">\n",
       "  <thead>\n",
       "    <tr style=\"text-align: right;\">\n",
       "      <th></th>\n",
       "      <th>file</th>\n",
       "      <th>expedition</th>\n",
       "      <th>filename_has_exp</th>\n",
       "    </tr>\n",
       "  </thead>\n",
       "  <tbody>\n",
       "    <tr>\n",
       "      <th>0</th>\n",
       "      <td>361_macroscopic_U1474D.csv</td>\n",
       "      <td>361</td>\n",
       "      <td>True</td>\n",
       "    </tr>\n",
       "    <tr>\n",
       "      <th>1</th>\n",
       "      <td>323 Core Description Template_U1341A.csv</td>\n",
       "      <td>323</td>\n",
       "      <td>True</td>\n",
       "    </tr>\n",
       "    <tr>\n",
       "      <th>2</th>\n",
       "      <td>361_macroscopic_U1479C.csv</td>\n",
       "      <td>361</td>\n",
       "      <td>True</td>\n",
       "    </tr>\n",
       "    <tr>\n",
       "      <th>3</th>\n",
       "      <td>340_sediment_U1393A.csv</td>\n",
       "      <td>340</td>\n",
       "      <td>True</td>\n",
       "    </tr>\n",
       "    <tr>\n",
       "      <th>4</th>\n",
       "      <td>339_sediment_U1386A.csv</td>\n",
       "      <td>339</td>\n",
       "      <td>True</td>\n",
       "    </tr>\n",
       "  </tbody>\n",
       "</table>\n",
       "</div>"
      ],
      "text/plain": [
       "                                       file expedition  filename_has_exp\n",
       "0                361_macroscopic_U1474D.csv        361              True\n",
       "1  323 Core Description Template_U1341A.csv        323              True\n",
       "2                361_macroscopic_U1479C.csv        361              True\n",
       "3                   340_sediment_U1393A.csv        340              True\n",
       "4                   339_sediment_U1386A.csv        339              True"
      ]
     },
     "execution_count": 41,
     "metadata": {},
     "output_type": "execute_result"
    }
   ],
   "source": [
    "metadata.head()"
   ]
  },
  {
   "cell_type": "code",
   "execution_count": 40,
   "metadata": {},
   "outputs": [],
   "source": [
    "metadata.to_csv(f'{metadata_path}/Lithology_changes.csv', index=False)"
   ]
  },
  {
   "cell_type": "code",
   "execution_count": null,
   "metadata": {},
   "outputs": [],
   "source": []
  }
 ],
 "metadata": {
  "kernelspec": {
   "display_name": "Python 3",
   "language": "python",
   "name": "python3"
  },
  "language_info": {
   "codemirror_mode": {
    "name": "ipython",
    "version": 3
   },
   "file_extension": ".py",
   "mimetype": "text/x-python",
   "name": "python",
   "nbconvert_exporter": "python",
   "pygments_lexer": "ipython3",
   "version": "3.6.8"
  }
 },
 "nbformat": 4,
 "nbformat_minor": 4
}
