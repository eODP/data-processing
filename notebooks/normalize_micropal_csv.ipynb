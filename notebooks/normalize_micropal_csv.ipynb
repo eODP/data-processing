{
 "cells": [
  {
   "cell_type": "markdown",
   "metadata": {},
   "source": [
    "# Normalize Micropal CSVs"
   ]
  },
  {
   "cell_type": "code",
   "execution_count": 1,
   "metadata": {},
   "outputs": [],
   "source": [
    "import sys\n",
    "sys.path.append('../scripts/')\n",
    "import glob\n",
    "import re\n",
    "import os.path\n",
    "\n",
    "import pandas as pd\n",
    "import numpy as np\n",
    "\n",
    "from normalize_data import (\n",
    "    csv_cleanup,\n",
    "    update_metadata,\n",
    "    get_taxonomy_columns,\n",
    "    clean_taxon_name,\n",
    ")"
   ]
  },
  {
   "cell_type": "code",
   "execution_count": 2,
   "metadata": {},
   "outputs": [],
   "source": [
    "taxa_list_path = 'cleaned_data/taxa_list.csv'\n",
    "non_taxa_fields_path = 'cleaned_data/non_taxa_fields.csv'"
   ]
  },
  {
   "cell_type": "code",
   "execution_count": 3,
   "metadata": {},
   "outputs": [],
   "source": [
    "metadata_file = 'cleaned_data/metadata/Micropal_1_changes.csv'\n",
    "clean_data_path = 'cleaned_data/Micropal_CSV_1'"
   ]
  },
  {
   "cell_type": "code",
   "execution_count": 15,
   "metadata": {},
   "outputs": [],
   "source": [
    "metadata_file = 'cleaned_data/metadata/Micropal_2_changes.csv'\n",
    "clean_data_path = 'cleaned_data/Micropal_CSV_2'"
   ]
  },
  {
   "cell_type": "code",
   "execution_count": 16,
   "metadata": {},
   "outputs": [
    {
     "data": {
      "text/html": [
       "<div>\n",
       "<style scoped>\n",
       "    .dataframe tbody tr th:only-of-type {\n",
       "        vertical-align: middle;\n",
       "    }\n",
       "\n",
       "    .dataframe tbody tr th {\n",
       "        vertical-align: top;\n",
       "    }\n",
       "\n",
       "    .dataframe thead th {\n",
       "        text-align: right;\n",
       "    }\n",
       "</style>\n",
       "<table border=\"1\" class=\"dataframe\">\n",
       "  <thead>\n",
       "    <tr style=\"text-align: right;\">\n",
       "      <th></th>\n",
       "      <th>file</th>\n",
       "      <th>taxon_group</th>\n",
       "      <th>add_expedition_section_cols</th>\n",
       "      <th>update_sample_col</th>\n",
       "      <th>update_top_bottom</th>\n",
       "      <th>add_missing_cols</th>\n",
       "      <th>clean_up_taxa_values</th>\n",
       "    </tr>\n",
       "  </thead>\n",
       "  <tbody>\n",
       "    <tr>\n",
       "      <th>0</th>\n",
       "      <td>356-U1464C_benthic_forams.csv</td>\n",
       "      <td>benthic_forams</td>\n",
       "      <td>True</td>\n",
       "      <td>False</td>\n",
       "      <td>False</td>\n",
       "      <td>False</td>\n",
       "      <td>True</td>\n",
       "    </tr>\n",
       "    <tr>\n",
       "      <th>1</th>\n",
       "      <td>374_U1523B_benthic_forams.csv</td>\n",
       "      <td>benthic_forams</td>\n",
       "      <td>True</td>\n",
       "      <td>False</td>\n",
       "      <td>False</td>\n",
       "      <td>False</td>\n",
       "      <td>False</td>\n",
       "    </tr>\n",
       "    <tr>\n",
       "      <th>2</th>\n",
       "      <td>353_U1443A_nannofossils.csv</td>\n",
       "      <td>nannofossils</td>\n",
       "      <td>True</td>\n",
       "      <td>False</td>\n",
       "      <td>False</td>\n",
       "      <td>False</td>\n",
       "      <td>False</td>\n",
       "    </tr>\n",
       "    <tr>\n",
       "      <th>3</th>\n",
       "      <td>369_U1513D_planktic_forams.csv</td>\n",
       "      <td>planktic_forams</td>\n",
       "      <td>True</td>\n",
       "      <td>False</td>\n",
       "      <td>False</td>\n",
       "      <td>False</td>\n",
       "      <td>False</td>\n",
       "    </tr>\n",
       "    <tr>\n",
       "      <th>4</th>\n",
       "      <td>371_U1510B_planktic_forams.csv</td>\n",
       "      <td>planktic_forams</td>\n",
       "      <td>True</td>\n",
       "      <td>False</td>\n",
       "      <td>False</td>\n",
       "      <td>False</td>\n",
       "      <td>False</td>\n",
       "    </tr>\n",
       "  </tbody>\n",
       "</table>\n",
       "</div>"
      ],
      "text/plain": [
       "                             file      taxon_group  \\\n",
       "0   356-U1464C_benthic_forams.csv   benthic_forams   \n",
       "1   374_U1523B_benthic_forams.csv   benthic_forams   \n",
       "2     353_U1443A_nannofossils.csv     nannofossils   \n",
       "3  369_U1513D_planktic_forams.csv  planktic_forams   \n",
       "4  371_U1510B_planktic_forams.csv  planktic_forams   \n",
       "\n",
       "   add_expedition_section_cols  update_sample_col  update_top_bottom  \\\n",
       "0                         True              False              False   \n",
       "1                         True              False              False   \n",
       "2                         True              False              False   \n",
       "3                         True              False              False   \n",
       "4                         True              False              False   \n",
       "\n",
       "   add_missing_cols  clean_up_taxa_values  \n",
       "0             False                  True  \n",
       "1             False                 False  \n",
       "2             False                 False  \n",
       "3             False                 False  \n",
       "4             False                 False  "
      ]
     },
     "execution_count": 16,
     "metadata": {},
     "output_type": "execute_result"
    }
   ],
   "source": [
    "metadata = pd.read_csv(metadata_file)\n",
    "metadata.head()"
   ]
  },
  {
   "cell_type": "code",
   "execution_count": 17,
   "metadata": {},
   "outputs": [],
   "source": [
    "content = pd.read_csv(non_taxa_fields_path)['field']\n",
    "non_taxa_columns = set(content)"
   ]
  },
  {
   "cell_type": "markdown",
   "metadata": {},
   "source": [
    "## Clean up taxa values"
   ]
  },
  {
   "cell_type": "markdown",
   "metadata": {},
   "source": [
    "Look for taxa columns that have \"code [extra text]\", and remove \"[extra text]\"."
   ]
  },
  {
   "cell_type": "code",
   "execution_count": 18,
   "metadata": {},
   "outputs": [],
   "source": [
    "def clean_up_taxa_values(file):\n",
    "    path = f\"{clean_data_path}/{file}\"\n",
    "    content = pd.read_csv(path)\n",
    "    \n",
    "    taxa_cols = get_taxonomy_columns(content.columns, non_taxa_columns)            \n",
    "    taxa_df = content[taxa_cols]\n",
    "    content[taxa_cols] = taxa_df.replace(to_replace =' *\\[.*\\] *', value = '', regex = True) \n",
    "    \n",
    "    # get rid of NAs in order to compare two dataframes   \n",
    "    changed = not taxa_df.fillna('').equals(content[taxa_cols].fillna(''))\n",
    "\n",
    "    if changed:\n",
    "        content = csv_cleanup(content, path)\n",
    "        content.to_csv(path, index=False)\n",
    "\n",
    "    return changed\n",
    "    \n",
    "change_columns = [clean_up_taxa_values(file) for file in metadata['file']] "
   ]
  },
  {
   "cell_type": "markdown",
   "metadata": {},
   "source": [
    "### Update metadata"
   ]
  },
  {
   "cell_type": "code",
   "execution_count": 19,
   "metadata": {},
   "outputs": [
    {
     "data": {
      "text/html": [
       "<div>\n",
       "<style scoped>\n",
       "    .dataframe tbody tr th:only-of-type {\n",
       "        vertical-align: middle;\n",
       "    }\n",
       "\n",
       "    .dataframe tbody tr th {\n",
       "        vertical-align: top;\n",
       "    }\n",
       "\n",
       "    .dataframe thead th {\n",
       "        text-align: right;\n",
       "    }\n",
       "</style>\n",
       "<table border=\"1\" class=\"dataframe\">\n",
       "  <thead>\n",
       "    <tr style=\"text-align: right;\">\n",
       "      <th></th>\n",
       "      <th>file</th>\n",
       "      <th>taxon_group</th>\n",
       "      <th>add_expedition_section_cols</th>\n",
       "      <th>update_sample_col</th>\n",
       "      <th>update_top_bottom</th>\n",
       "      <th>add_missing_cols</th>\n",
       "      <th>clean_up_taxa_values</th>\n",
       "    </tr>\n",
       "  </thead>\n",
       "  <tbody>\n",
       "    <tr>\n",
       "      <th>0</th>\n",
       "      <td>356-U1464C_benthic_forams.csv</td>\n",
       "      <td>benthic_forams</td>\n",
       "      <td>True</td>\n",
       "      <td>False</td>\n",
       "      <td>False</td>\n",
       "      <td>False</td>\n",
       "      <td>True</td>\n",
       "    </tr>\n",
       "    <tr>\n",
       "      <th>1</th>\n",
       "      <td>374_U1523B_benthic_forams.csv</td>\n",
       "      <td>benthic_forams</td>\n",
       "      <td>True</td>\n",
       "      <td>False</td>\n",
       "      <td>False</td>\n",
       "      <td>False</td>\n",
       "      <td>False</td>\n",
       "    </tr>\n",
       "    <tr>\n",
       "      <th>2</th>\n",
       "      <td>353_U1443A_nannofossils.csv</td>\n",
       "      <td>nannofossils</td>\n",
       "      <td>True</td>\n",
       "      <td>False</td>\n",
       "      <td>False</td>\n",
       "      <td>False</td>\n",
       "      <td>False</td>\n",
       "    </tr>\n",
       "    <tr>\n",
       "      <th>3</th>\n",
       "      <td>369_U1513D_planktic_forams.csv</td>\n",
       "      <td>planktic_forams</td>\n",
       "      <td>True</td>\n",
       "      <td>False</td>\n",
       "      <td>False</td>\n",
       "      <td>False</td>\n",
       "      <td>False</td>\n",
       "    </tr>\n",
       "    <tr>\n",
       "      <th>4</th>\n",
       "      <td>371_U1510B_planktic_forams.csv</td>\n",
       "      <td>planktic_forams</td>\n",
       "      <td>True</td>\n",
       "      <td>False</td>\n",
       "      <td>False</td>\n",
       "      <td>False</td>\n",
       "      <td>False</td>\n",
       "    </tr>\n",
       "  </tbody>\n",
       "</table>\n",
       "</div>"
      ],
      "text/plain": [
       "                             file      taxon_group  \\\n",
       "0   356-U1464C_benthic_forams.csv   benthic_forams   \n",
       "1   374_U1523B_benthic_forams.csv   benthic_forams   \n",
       "2     353_U1443A_nannofossils.csv     nannofossils   \n",
       "3  369_U1513D_planktic_forams.csv  planktic_forams   \n",
       "4  371_U1510B_planktic_forams.csv  planktic_forams   \n",
       "\n",
       "   add_expedition_section_cols  update_sample_col  update_top_bottom  \\\n",
       "0                         True              False              False   \n",
       "1                         True              False              False   \n",
       "2                         True              False              False   \n",
       "3                         True              False              False   \n",
       "4                         True              False              False   \n",
       "\n",
       "   add_missing_cols  clean_up_taxa_values  \n",
       "0             False                  True  \n",
       "1             False                 False  \n",
       "2             False                 False  \n",
       "3             False                 False  \n",
       "4             False                 False  "
      ]
     },
     "execution_count": 19,
     "metadata": {},
     "output_type": "execute_result"
    }
   ],
   "source": [
    "dict = {\"clean_up_taxa_values\": change_columns}\n",
    "new_metadata = update_metadata(metadata, dict)\n",
    "new_metadata.head()"
   ]
  },
  {
   "cell_type": "code",
   "execution_count": 20,
   "metadata": {},
   "outputs": [],
   "source": [
    "new_metadata.to_csv(metadata_file, index=False)"
   ]
  },
  {
   "cell_type": "markdown",
   "metadata": {},
   "source": [
    "## Create a csv of all taxa"
   ]
  },
  {
   "cell_type": "markdown",
   "metadata": {},
   "source": [
    "Create a taxa list csv that contains all the taxon names and the associated taxon group."
   ]
  },
  {
   "cell_type": "code",
   "execution_count": 21,
   "metadata": {},
   "outputs": [],
   "source": [
    "taxa_data = set()"
   ]
  },
  {
   "cell_type": "markdown",
   "metadata": {},
   "source": [
    "Read the existing data from the existing taxa list csv. "
   ]
  },
  {
   "cell_type": "code",
   "execution_count": 22,
   "metadata": {},
   "outputs": [
    {
     "data": {
      "text/plain": [
       "3540"
      ]
     },
     "execution_count": 22,
     "metadata": {},
     "output_type": "execute_result"
    }
   ],
   "source": [
    "def fetch_existing_taxa_data(row):\n",
    "    taxa_data.update([(row['verbatim_name'], row['name'], row['taxon_group'])])\n",
    "\n",
    "if os.path.isfile(taxa_list_path): \n",
    "    existing_taxa_df = pd.read_csv(taxa_list_path)\n",
    "    existing_taxa_df.apply(fetch_existing_taxa_data, axis=1)\n",
    "    \n",
    "len(taxa_data)"
   ]
  },
  {
   "cell_type": "markdown",
   "metadata": {},
   "source": [
    "Get taxa data from the cleaned up taxa csv."
   ]
  },
  {
   "cell_type": "code",
   "execution_count": 23,
   "metadata": {},
   "outputs": [],
   "source": [
    "def fetch_taxa_data(row):\n",
    "    path = f\"{clean_data_path}/{row['file']}\"\n",
    "    content = pd.read_csv(path)\n",
    "    \n",
    "    content = content.dropna(axis=\"columns\", how=\"all\")\n",
    "    columns = [col.strip() for col in content.columns]\n",
    "    \n",
    "    taxa_columns = set(columns) - non_taxa_columns    \n",
    "    taxa_data.update(((col, clean_taxon_name(col), row['taxon_group']) for col in taxa_columns))\n",
    "\n",
    "res = metadata[['file', 'taxon_group']].apply(fetch_taxa_data, axis=1)"
   ]
  },
  {
   "cell_type": "code",
   "execution_count": 24,
   "metadata": {},
   "outputs": [
    {
     "data": {
      "text/plain": [
       "3540"
      ]
     },
     "execution_count": 24,
     "metadata": {},
     "output_type": "execute_result"
    }
   ],
   "source": [
    "len(taxa_data)"
   ]
  },
  {
   "cell_type": "markdown",
   "metadata": {},
   "source": [
    "### Create csv"
   ]
  },
  {
   "cell_type": "code",
   "execution_count": 25,
   "metadata": {},
   "outputs": [
    {
     "data": {
      "text/html": [
       "<div>\n",
       "<style scoped>\n",
       "    .dataframe tbody tr th:only-of-type {\n",
       "        vertical-align: middle;\n",
       "    }\n",
       "\n",
       "    .dataframe tbody tr th {\n",
       "        vertical-align: top;\n",
       "    }\n",
       "\n",
       "    .dataframe thead th {\n",
       "        text-align: right;\n",
       "    }\n",
       "</style>\n",
       "<table border=\"1\" class=\"dataframe\">\n",
       "  <thead>\n",
       "    <tr style=\"text-align: right;\">\n",
       "      <th></th>\n",
       "      <th>verbatim_name</th>\n",
       "      <th>name</th>\n",
       "      <th>taxon_group</th>\n",
       "    </tr>\n",
       "  </thead>\n",
       "  <tbody>\n",
       "    <tr>\n",
       "      <th>2778</th>\n",
       "      <td>\"Globigerina\" angulisuturalis _T</td>\n",
       "      <td>\"Globigerina\" angulisuturalis _T</td>\n",
       "      <td>planktic_forams</td>\n",
       "    </tr>\n",
       "    <tr>\n",
       "      <th>1464</th>\n",
       "      <td>\"Globigerina\" angulisuturalis _T_</td>\n",
       "      <td>\"Globigerina\" angulisuturalis _T_</td>\n",
       "      <td>planktic_forams</td>\n",
       "    </tr>\n",
       "    <tr>\n",
       "      <th>2432</th>\n",
       "      <td>\"Globigerina\" ciperoensis _T</td>\n",
       "      <td>\"Globigerina\" ciperoensis _T</td>\n",
       "      <td>planktic_forams</td>\n",
       "    </tr>\n",
       "    <tr>\n",
       "      <th>803</th>\n",
       "      <td>\"Globigerina\" ciperoensis _T_</td>\n",
       "      <td>\"Globigerina\" ciperoensis _T_</td>\n",
       "      <td>planktic_forams</td>\n",
       "    </tr>\n",
       "    <tr>\n",
       "      <th>213</th>\n",
       "      <td>\"Skeletonema\" utriculosa</td>\n",
       "      <td>\"Skeletonema\" utriculosa</td>\n",
       "      <td>diatoms</td>\n",
       "    </tr>\n",
       "  </tbody>\n",
       "</table>\n",
       "</div>"
      ],
      "text/plain": [
       "                          verbatim_name                               name  \\\n",
       "2778   \"Globigerina\" angulisuturalis _T   \"Globigerina\" angulisuturalis _T   \n",
       "1464  \"Globigerina\" angulisuturalis _T_  \"Globigerina\" angulisuturalis _T_   \n",
       "2432       \"Globigerina\" ciperoensis _T       \"Globigerina\" ciperoensis _T   \n",
       "803       \"Globigerina\" ciperoensis _T_      \"Globigerina\" ciperoensis _T_   \n",
       "213            \"Skeletonema\" utriculosa           \"Skeletonema\" utriculosa   \n",
       "\n",
       "          taxon_group  \n",
       "2778  planktic_forams  \n",
       "1464  planktic_forams  \n",
       "2432  planktic_forams  \n",
       "803   planktic_forams  \n",
       "213           diatoms  "
      ]
     },
     "execution_count": 25,
     "metadata": {},
     "output_type": "execute_result"
    }
   ],
   "source": [
    "taxa_df = pd.DataFrame(taxa_data, columns=['verbatim_name', 'name', 'taxon_group'])\n",
    "taxa_df.sort_values('name', inplace=True)\n",
    "taxa_df.head()"
   ]
  },
  {
   "cell_type": "code",
   "execution_count": 26,
   "metadata": {},
   "outputs": [],
   "source": [
    "taxa_df.to_csv(taxa_list_path, index=False)"
   ]
  },
  {
   "cell_type": "code",
   "execution_count": null,
   "metadata": {},
   "outputs": [],
   "source": []
  }
 ],
 "metadata": {
  "kernelspec": {
   "display_name": "Python 3",
   "language": "python",
   "name": "python3"
  },
  "language_info": {
   "codemirror_mode": {
    "name": "ipython",
    "version": 3
   },
   "file_extension": ".py",
   "mimetype": "text/x-python",
   "name": "python",
   "nbconvert_exporter": "python",
   "pygments_lexer": "ipython3",
   "version": "3.6.8"
  }
 },
 "nbformat": 4,
 "nbformat_minor": 4
}
