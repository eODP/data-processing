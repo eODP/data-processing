{
 "cells": [
  {
   "cell_type": "markdown",
   "id": "pharmaceutical-aggregate",
   "metadata": {},
   "source": [
    "# QA NOAA DSDP files"
   ]
  },
  {
   "cell_type": "code",
   "execution_count": 1,
   "id": "played-shaft",
   "metadata": {},
   "outputs": [],
   "source": [
    "import sys\n",
    "sys.path.append('../scripts/')\n",
    "import glob\n",
    "from pathlib import Path\n",
    "import os\n",
    "\n",
    "import pandas as pd\n",
    "import numpy as np\n",
    "\n",
    "from normalize_noaa_files import (\n",
    "    unique_filenames,\n",
    "    unique_columns,\n",
    "    filename_index,\n",
    "    format_filepaths_set\n",
    ")\n"
   ]
  },
  {
   "cell_type": "markdown",
   "id": "sunset-snowboard",
   "metadata": {},
   "source": [
    "## DSDP_core_data"
   ]
  },
  {
   "cell_type": "code",
   "execution_count": 14,
   "id": "marine-sculpture",
   "metadata": {},
   "outputs": [
    {
     "name": "stdout",
     "output_type": "stream",
     "text": [
      "files 4477\n"
     ]
    }
   ],
   "source": [
    "path = os.path.join('raw_data', 'NOAA_csv', 'DSDP_core_data', '**', '**', '*.csv')\n",
    "csv_paths = glob.glob(path)\n",
    "print('files', len(csv_paths))"
   ]
  },
  {
   "cell_type": "markdown",
   "id": "frozen-vaccine",
   "metadata": {},
   "source": [
    "### grouped files\n",
    "\n",
    "create list of files grouped by expedition and file type"
   ]
  },
  {
   "cell_type": "code",
   "execution_count": 3,
   "id": "solved-gambling",
   "metadata": {},
   "outputs": [],
   "source": [
    "contents = {}\n",
    "index = filename_index(path)\n",
    "\n",
    "for path in csv_paths:\n",
    "    parts = Path(path).parts\n",
    "    exp = parts[3]\n",
    "    filename = parts[index]\n",
    "    \n",
    "    if exp not in contents:\n",
    "        contents[exp] = {'taxa': set(), 'lithology': set(), 'age_model': set()}\n",
    "        \n",
    "    if filename == 'vistxt.csv' or filename == 'hr_desc.csv':\n",
    "        contents[exp]['lithology'].add(filename)\n",
    "    elif filename == 'ageprof.csv':\n",
    "        contents[exp]['age_model'].add(filename)\n",
    "    else:\n",
    "        contents[exp]['taxa'].add(filename)"
   ]
  },
  {
   "cell_type": "code",
   "execution_count": 4,
   "id": "amended-product",
   "metadata": {},
   "outputs": [],
   "source": [
    "exps = []\n",
    "taxa = []\n",
    "ages = []\n",
    "liths = []\n",
    "\n",
    "for exp in contents.items():\n",
    "    exps.append(exp[0])\n",
    "    taxa.append(format_filepaths_set(exp[1], 'taxa'))\n",
    "    ages.append(format_filepaths_set(exp[1], 'age_model'))\n",
    "    liths.append(format_filepaths_set(exp[1], 'lithology'))"
   ]
  },
  {
   "cell_type": "code",
   "execution_count": 5,
   "id": "confused-polish",
   "metadata": {},
   "outputs": [
    {
     "data": {
      "text/html": [
       "<div>\n",
       "<style scoped>\n",
       "    .dataframe tbody tr th:only-of-type {\n",
       "        vertical-align: middle;\n",
       "    }\n",
       "\n",
       "    .dataframe tbody tr th {\n",
       "        vertical-align: top;\n",
       "    }\n",
       "\n",
       "    .dataframe thead th {\n",
       "        text-align: right;\n",
       "    }\n",
       "</style>\n",
       "<table border=\"1\" class=\"dataframe\">\n",
       "  <thead>\n",
       "    <tr style=\"text-align: right;\">\n",
       "      <th></th>\n",
       "      <th>expedition</th>\n",
       "      <th>taxa</th>\n",
       "      <th>age_model</th>\n",
       "      <th>lithology</th>\n",
       "    </tr>\n",
       "  </thead>\n",
       "  <tbody>\n",
       "    <tr>\n",
       "      <th>0</th>\n",
       "      <td>61</td>\n",
       "      <td>b_forams.csv,p_forams.csv,nannos.csv,radiolar.csv</td>\n",
       "      <td>ageprof.csv</td>\n",
       "      <td>vistxt.csv,hr_desc.csv</td>\n",
       "    </tr>\n",
       "    <tr>\n",
       "      <th>1</th>\n",
       "      <td>95</td>\n",
       "      <td>diatoms.csv,radiolar.csv,b_forams.csv,nannos.c...</td>\n",
       "      <td>ageprof.csv</td>\n",
       "      <td>vistxt.csv</td>\n",
       "    </tr>\n",
       "    <tr>\n",
       "      <th>2</th>\n",
       "      <td>59</td>\n",
       "      <td>diatoms.csv,radiolar.csv,p_forams.csv,b_forams...</td>\n",
       "      <td>ageprof.csv</td>\n",
       "      <td>vistxt.csv,hr_desc.csv</td>\n",
       "    </tr>\n",
       "    <tr>\n",
       "      <th>3</th>\n",
       "      <td>92</td>\n",
       "      <td>p_forams.csv,nannos.csv</td>\n",
       "      <td>ageprof.csv</td>\n",
       "      <td>vistxt.csv,hr_desc.csv</td>\n",
       "    </tr>\n",
       "    <tr>\n",
       "      <th>4</th>\n",
       "      <td>66</td>\n",
       "      <td>nannos.csv,radiolar.csv</td>\n",
       "      <td>ageprof.csv</td>\n",
       "      <td>vistxt.csv,hr_desc.csv</td>\n",
       "    </tr>\n",
       "  </tbody>\n",
       "</table>\n",
       "</div>"
      ],
      "text/plain": [
       "  expedition                                               taxa    age_model  \\\n",
       "0         61  b_forams.csv,p_forams.csv,nannos.csv,radiolar.csv  ageprof.csv   \n",
       "1         95  diatoms.csv,radiolar.csv,b_forams.csv,nannos.c...  ageprof.csv   \n",
       "2         59  diatoms.csv,radiolar.csv,p_forams.csv,b_forams...  ageprof.csv   \n",
       "3         92                            p_forams.csv,nannos.csv  ageprof.csv   \n",
       "4         66                            nannos.csv,radiolar.csv  ageprof.csv   \n",
       "\n",
       "                lithology  \n",
       "0  vistxt.csv,hr_desc.csv  \n",
       "1              vistxt.csv  \n",
       "2  vistxt.csv,hr_desc.csv  \n",
       "3  vistxt.csv,hr_desc.csv  \n",
       "4  vistxt.csv,hr_desc.csv  "
      ]
     },
     "execution_count": 5,
     "metadata": {},
     "output_type": "execute_result"
    }
   ],
   "source": [
    "dict = {\n",
    "    \"expedition\": exps,\n",
    "    \"taxa\": taxa,\n",
    "    \"age_model\": ages,\n",
    "    \"lithology\": liths\n",
    "}\n",
    "df = pd.DataFrame(dict)\n",
    "df.head()"
   ]
  },
  {
   "cell_type": "code",
   "execution_count": 6,
   "id": "radio-brook",
   "metadata": {},
   "outputs": [],
   "source": [
    "path = os.path.join('tmp', 'noaa_dsdp_grouped_files.csv')\n",
    "df.to_csv(path, index=False)"
   ]
  },
  {
   "cell_type": "markdown",
   "id": "photographic-injection",
   "metadata": {},
   "source": [
    "### unique file names"
   ]
  },
  {
   "cell_type": "code",
   "execution_count": 7,
   "id": "composed-hollywood",
   "metadata": {},
   "outputs": [
    {
     "data": {
      "text/plain": [
       "{'ageprof.csv',\n",
       " 'b_forams.csv',\n",
       " 'diatoms.csv',\n",
       " 'dinoflag.csv',\n",
       " 'ebri_act.csv',\n",
       " 'hr_desc.csv',\n",
       " 'nannos.csv',\n",
       " 'ostracod.csv',\n",
       " 'p_forams.csv',\n",
       " 'phyliths.csv',\n",
       " 'pollen.csv',\n",
       " 'radiolar.csv',\n",
       " 'siliflag.csv',\n",
       " 'vistxt.csv'}"
      ]
     },
     "execution_count": 7,
     "metadata": {},
     "output_type": "execute_result"
    }
   ],
   "source": [
    "unique_filenames(csv_paths)"
   ]
  },
  {
   "cell_type": "markdown",
   "id": "marine-retailer",
   "metadata": {},
   "source": [
    "### column names"
   ]
  },
  {
   "cell_type": "code",
   "execution_count": 8,
   "id": "renewable-obligation",
   "metadata": {},
   "outputs": [
    {
     "data": {
      "text/plain": [
       "{' describer',\n",
       " 'age',\n",
       " 'age bottom of section(million years)',\n",
       " 'age mnemonic',\n",
       " 'age top of section(million years)',\n",
       " 'alteration data',\n",
       " 'auxiliary age',\n",
       " 'auxiliary age mnemonic',\n",
       " 'average age(million years)t',\n",
       " 'averaged age',\n",
       " 'bottom interval depth (cm)',\n",
       " 'bottom of layer depth (m)',\n",
       " 'bottom of section depth(m)',\n",
       " 'chemical dissolution',\n",
       " 'chemical overgrowth',\n",
       " 'color',\n",
       " 'comments',\n",
       " 'core',\n",
       " 'coredepth(m)',\n",
       " 'data source',\n",
       " 'deformations due to drilling',\n",
       " 'describer',\n",
       " 'dsdp initial report volume number',\n",
       " 'fossil',\n",
       " 'fossil abundance',\n",
       " 'fossil code',\n",
       " 'fossil group',\n",
       " 'fossil preservation',\n",
       " 'groundmass mineral data',\n",
       " 'group abundance',\n",
       " 'hardness or induration',\n",
       " 'hole',\n",
       " 'investigators name',\n",
       " 'leg',\n",
       " 'lithology',\n",
       " 'mechanical preservations',\n",
       " 'minerals',\n",
       " 'other information data',\n",
       " 'other observations',\n",
       " 'page number reference',\n",
       " 'paleontology',\n",
       " 'phenocryst data',\n",
       " 'piece numbers',\n",
       " 'publication date (month/year)',\n",
       " 'record join code',\n",
       " 'replacement mineral data',\n",
       " 'rock name',\n",
       " 'sample depth(m)',\n",
       " 'sample midpoint depth(m)',\n",
       " 'section',\n",
       " 'site',\n",
       " 'special condition',\n",
       " 'structure data',\n",
       " 'structures',\n",
       " 'texture data',\n",
       " 'top interval depth (cm)',\n",
       " 'top interval depth(cm)',\n",
       " 'top of core depth(cm)',\n",
       " 'top of core depth(m)',\n",
       " 'top of layer depth (m)',\n",
       " 'top of section depth(m)',\n",
       " 'top of section(m)',\n",
       " 'total number of observed fossils',\n",
       " 'unknown code',\n",
       " 'unusual occurrences',\n",
       " 'vesicle data',\n",
       " 'z-coding'}"
      ]
     },
     "execution_count": 8,
     "metadata": {},
     "output_type": "execute_result"
    }
   ],
   "source": [
    "unique_columns(csv_paths)"
   ]
  },
  {
   "cell_type": "markdown",
   "id": "favorite-assurance",
   "metadata": {},
   "source": [
    "### hr_desc.csv\n",
    "\n",
    "create github links for each hr_desc.csv' file"
   ]
  },
  {
   "cell_type": "code",
   "execution_count": 9,
   "id": "younger-relative",
   "metadata": {},
   "outputs": [],
   "source": [
    "for path in csv_paths:\n",
    "    if 'hr_desc.csv' in path:\n",
    "        link = 'https://github.com/eODP/data-processing/tree/master/notebooks/' + '/'.join(path.split('/'))\n",
    "#         print(link)"
   ]
  },
  {
   "cell_type": "markdown",
   "id": "considered-multiple",
   "metadata": {},
   "source": [
    "get unique columns"
   ]
  },
  {
   "cell_type": "code",
   "execution_count": 22,
   "id": "indirect-accessory",
   "metadata": {},
   "outputs": [
    {
     "data": {
      "text/plain": [
       "{'alteration data',\n",
       " 'comments',\n",
       " 'core',\n",
       " 'describer',\n",
       " 'groundmass mineral data',\n",
       " 'hole',\n",
       " 'leg',\n",
       " 'other information data',\n",
       " 'phenocryst data',\n",
       " 'piece numbers',\n",
       " 'replacement mineral data',\n",
       " 'rock name',\n",
       " 'sample midpoint depth(m)',\n",
       " 'section',\n",
       " 'site',\n",
       " 'structure data',\n",
       " 'texture data',\n",
       " 'top interval depth(cm)',\n",
       " 'top of core depth(cm)',\n",
       " 'top of section(m)',\n",
       " 'unknown code',\n",
       " 'vesicle data'}"
      ]
     },
     "execution_count": 22,
     "metadata": {},
     "output_type": "execute_result"
    }
   ],
   "source": [
    "columns = set()\n",
    "columns_count = set()\n",
    "\n",
    "for path in csv_paths:\n",
    "    if 'hr_desc.csv' in path:\n",
    "        df = pd.read_csv(path, nrows=1)\n",
    "        columns.update(list(df.columns))\n",
    "        columns_count.add(len(df.columns))\n",
    "columns"
   ]
  },
  {
   "cell_type": "code",
   "execution_count": 23,
   "id": "oriental-highlight",
   "metadata": {},
   "outputs": [
    {
     "data": {
      "text/plain": [
       "{22}"
      ]
     },
     "execution_count": 23,
     "metadata": {},
     "output_type": "execute_result"
    }
   ],
   "source": [
    "columns_count"
   ]
  },
  {
   "cell_type": "markdown",
   "id": "korean-possession",
   "metadata": {},
   "source": [
    "### file list\n",
    "create csv that lists all the files"
   ]
  },
  {
   "cell_type": "code",
   "execution_count": 11,
   "id": "professional-chocolate",
   "metadata": {},
   "outputs": [],
   "source": [
    "file_names = []\n",
    "file_types = []\n",
    "taxon_groups = []\n",
    "\n",
    "index = filename_index(csv_paths[0])\n",
    "\n",
    "for path in csv_paths:\n",
    "    filename = Path(path).parts[index]    \n",
    "    file_names.append(path)\n",
    "    \n",
    "    if filename == 'vistxt.csv' or filename == 'hr_desc.csv':\n",
    "        file_types.append('lithology')\n",
    "    elif filename == 'ageprof.csv':\n",
    "        file_types.append('age')\n",
    "    else:\n",
    "        file_types.append('taxa')\n",
    "        \n",
    "    switch = {\n",
    "        'b_forams.csv': 'benthic foraminifera',\n",
    "        'diatoms.csv': 'diatoms',\n",
    "        'dinoflag.csv': 'dinoflagellates',\n",
    "        'ebri_act.csv': 'ebridians',\n",
    "        'nannos.csv': 'nannofossils',\n",
    "        'ostracod.csv': 'ostracod',\n",
    "        'p_forams.csv': 'planktic foraminfera',\n",
    "        'phyliths.csv': 'phytoliths',\n",
    "        'pollen.csv': 'pollen',\n",
    "        'radiolar.csv': 'radiolarians',\n",
    "        'siliflag.csv': 'silicoflagellates',\n",
    "    }\n",
    "    taxon_groups.append(switch.get(filename, np.nan))\n"
   ]
  },
  {
   "cell_type": "code",
   "execution_count": 12,
   "id": "parallel-arcade",
   "metadata": {},
   "outputs": [
    {
     "data": {
      "text/html": [
       "<div>\n",
       "<style scoped>\n",
       "    .dataframe tbody tr th:only-of-type {\n",
       "        vertical-align: middle;\n",
       "    }\n",
       "\n",
       "    .dataframe tbody tr th {\n",
       "        vertical-align: top;\n",
       "    }\n",
       "\n",
       "    .dataframe thead th {\n",
       "        text-align: right;\n",
       "    }\n",
       "</style>\n",
       "<table border=\"1\" class=\"dataframe\">\n",
       "  <thead>\n",
       "    <tr style=\"text-align: right;\">\n",
       "      <th></th>\n",
       "      <th>file</th>\n",
       "      <th>type</th>\n",
       "      <th>taxon_group</th>\n",
       "    </tr>\n",
       "  </thead>\n",
       "  <tbody>\n",
       "    <tr>\n",
       "      <th>0</th>\n",
       "      <td>raw_data/NOAA_csv/DSDP_core_data/61/462/radiol...</td>\n",
       "      <td>taxa</td>\n",
       "      <td>radiolarians</td>\n",
       "    </tr>\n",
       "    <tr>\n",
       "      <th>1</th>\n",
       "      <td>raw_data/NOAA_csv/DSDP_core_data/61/462/agepro...</td>\n",
       "      <td>age</td>\n",
       "      <td>NaN</td>\n",
       "    </tr>\n",
       "    <tr>\n",
       "      <th>2</th>\n",
       "      <td>raw_data/NOAA_csv/DSDP_core_data/61/462/b_fora...</td>\n",
       "      <td>taxa</td>\n",
       "      <td>benthic foraminifera</td>\n",
       "    </tr>\n",
       "    <tr>\n",
       "      <th>3</th>\n",
       "      <td>raw_data/NOAA_csv/DSDP_core_data/61/462/p_fora...</td>\n",
       "      <td>taxa</td>\n",
       "      <td>planktic foraminfera</td>\n",
       "    </tr>\n",
       "    <tr>\n",
       "      <th>4</th>\n",
       "      <td>raw_data/NOAA_csv/DSDP_core_data/61/462/hr_des...</td>\n",
       "      <td>lithology</td>\n",
       "      <td>NaN</td>\n",
       "    </tr>\n",
       "  </tbody>\n",
       "</table>\n",
       "</div>"
      ],
      "text/plain": [
       "                                                file       type  \\\n",
       "0  raw_data/NOAA_csv/DSDP_core_data/61/462/radiol...       taxa   \n",
       "1  raw_data/NOAA_csv/DSDP_core_data/61/462/agepro...        age   \n",
       "2  raw_data/NOAA_csv/DSDP_core_data/61/462/b_fora...       taxa   \n",
       "3  raw_data/NOAA_csv/DSDP_core_data/61/462/p_fora...       taxa   \n",
       "4  raw_data/NOAA_csv/DSDP_core_data/61/462/hr_des...  lithology   \n",
       "\n",
       "            taxon_group  \n",
       "0          radiolarians  \n",
       "1                   NaN  \n",
       "2  benthic foraminifera  \n",
       "3  planktic foraminfera  \n",
       "4                   NaN  "
      ]
     },
     "execution_count": 12,
     "metadata": {},
     "output_type": "execute_result"
    }
   ],
   "source": [
    "dict = {\n",
    "    \"file\": file_names,\n",
    "    \"type\": file_types,\n",
    "    \"taxon_group\": taxon_groups\n",
    "}\n",
    "df = pd.DataFrame(dict)\n",
    "df.head()"
   ]
  },
  {
   "cell_type": "code",
   "execution_count": 13,
   "id": "departmental-journal",
   "metadata": {},
   "outputs": [],
   "source": [
    "path = os.path.join('cleaned_data', 'metadata', 'noaa_dsdp_files.csv')\n",
    "df.to_csv(path, index=False)"
   ]
  },
  {
   "cell_type": "code",
   "execution_count": null,
   "id": "downtown-corps",
   "metadata": {},
   "outputs": [],
   "source": []
  }
 ],
 "metadata": {
  "kernelspec": {
   "display_name": "Python 3",
   "language": "python",
   "name": "python3"
  },
  "language_info": {
   "codemirror_mode": {
    "name": "ipython",
    "version": 3
   },
   "file_extension": ".py",
   "mimetype": "text/x-python",
   "name": "python",
   "nbconvert_exporter": "python",
   "pygments_lexer": "ipython3",
   "version": "3.9.1"
  }
 },
 "nbformat": 4,
 "nbformat_minor": 5
}
