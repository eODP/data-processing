{
 "cells": [
  {
   "cell_type": "markdown",
   "metadata": {},
   "source": [
    "# QA NOAA DSDP files\n",
    "## 1-96 taxa, lithology, age, hard rocks\n",
    "\n",
    "Get basic metadata (file names, column names) about NOAA DSDP dataset. Create csv that lists all the files.\n",
    "\n",
    "NOAA_csv/DSDP_core_data  \n",
    "expedition 1-96  \n",
    "taxa, lithology, age models, hard rocks"
   ]
  },
  {
   "cell_type": "code",
   "execution_count": 1,
   "metadata": {},
   "outputs": [],
   "source": [
    "import sys\n",
    "sys.path.append('../scripts/')\n",
    "import glob\n",
    "from pathlib import Path\n",
    "import os\n",
    "\n",
    "import pandas as pd\n",
    "import numpy as np\n",
    "\n",
    "from normalize_noaa_files import (\n",
    "    unique_filenames_for_paths,\n",
    "    unique_columns_for_paths,\n",
    "    filename_index,\n",
    "    format_filepaths_set\n",
    ")\n"
   ]
  },
  {
   "cell_type": "code",
   "execution_count": 2,
   "metadata": {},
   "outputs": [],
   "source": [
    "base_directory = 'cleaned_data'\n",
    "base_data_path = os.path.join(base_directory, 'NOAA_csv', 'DSDP_core_data')\n",
    "metadata_path = os.path.join(base_directory, 'metadata', 'NOAA', 'noaa_dsdp_files.csv')"
   ]
  },
  {
   "cell_type": "code",
   "execution_count": 3,
   "metadata": {},
   "outputs": [
    {
     "name": "stdout",
     "output_type": "stream",
     "text": [
      "files 4477\n"
     ]
    }
   ],
   "source": [
    "csv_paths = glob.glob(os.path.join(base_data_path, '**', '**', '*.csv'))\n",
    "print('files', len(csv_paths))"
   ]
  },
  {
   "cell_type": "markdown",
   "metadata": {},
   "source": [
    "## unique file names\n",
    "\n",
    "Get all the file names."
   ]
  },
  {
   "cell_type": "code",
   "execution_count": 4,
   "metadata": {},
   "outputs": [
    {
     "data": {
      "text/plain": [
       "{'ageprof.csv',\n",
       " 'b_forams.csv',\n",
       " 'diatoms.csv',\n",
       " 'dinoflag.csv',\n",
       " 'ebri_act.csv',\n",
       " 'hr_desc.csv',\n",
       " 'nannos.csv',\n",
       " 'ostracod.csv',\n",
       " 'p_forams.csv',\n",
       " 'phyliths.csv',\n",
       " 'pollen.csv',\n",
       " 'radiolar.csv',\n",
       " 'siliflag.csv',\n",
       " 'vistxt.csv'}"
      ]
     },
     "execution_count": 4,
     "metadata": {},
     "output_type": "execute_result"
    }
   ],
   "source": [
    "unique_filenames_for_paths(csv_paths)"
   ]
  },
  {
   "cell_type": "markdown",
   "metadata": {},
   "source": [
    "## file list\n",
    "Create csv that lists all the files for this dataset."
   ]
  },
  {
   "cell_type": "code",
   "execution_count": 5,
   "metadata": {},
   "outputs": [],
   "source": [
    "file_list = []\n",
    "switch = {\n",
    "    'b_forams.csv': 'benthic_foraminfera',\n",
    "    'diatoms.csv': 'diatoms',\n",
    "    'dinoflag.csv': 'dinoflagellates',\n",
    "    'ebri_act.csv': 'ebridians',\n",
    "    'nannos.csv': 'nannofossils',\n",
    "    'ostracod.csv': 'ostracods',\n",
    "    'phyliths.csv': 'phytoliths',\n",
    "    'p_forams.csv': 'planktic_foraminfera',\n",
    "    'pollen.csv': 'pollen',\n",
    "    'radiolar.csv': 'radiolarians',\n",
    "    'siliflag.csv': 'silicoflagellates',\n",
    "}\n",
    "index = filename_index(csv_paths[0])\n",
    "\n",
    "for path in csv_paths:\n",
    "    file_data = {}\n",
    "    path_parts = Path(path).parts\n",
    "    filename = path_parts[index]   \n",
    "    \n",
    "    file_data['path'] = path\n",
    "    \n",
    "    if filename == 'vistxt.csv':\n",
    "        type = 'lithology'\n",
    "    elif filename == 'ageprof.csv':\n",
    "        type = 'age'\n",
    "    elif filename == 'hr_desc.csv':\n",
    "        type = 'hard_rock'\n",
    "    else:\n",
    "        type = 'taxa'\n",
    "    file_data['type'] = type\n",
    "        \n",
    "    if type == 'taxa':\n",
    "        file_data['taxon_group'] = switch.get(filename, np.nan)\n",
    "    \n",
    "    file_data['expedition'] =  path_parts[3]\n",
    "    file_data['site'] =  path_parts[4]\n",
    "\n",
    "    file_list.append(file_data)"
   ]
  },
  {
   "cell_type": "code",
   "execution_count": 6,
   "metadata": {},
   "outputs": [
    {
     "data": {
      "text/html": [
       "<div>\n",
       "<style scoped>\n",
       "    .dataframe tbody tr th:only-of-type {\n",
       "        vertical-align: middle;\n",
       "    }\n",
       "\n",
       "    .dataframe tbody tr th {\n",
       "        vertical-align: top;\n",
       "    }\n",
       "\n",
       "    .dataframe thead th {\n",
       "        text-align: right;\n",
       "    }\n",
       "</style>\n",
       "<table border=\"1\" class=\"dataframe\">\n",
       "  <thead>\n",
       "    <tr style=\"text-align: right;\">\n",
       "      <th></th>\n",
       "      <th>path</th>\n",
       "      <th>type</th>\n",
       "      <th>taxon_group</th>\n",
       "      <th>expedition</th>\n",
       "      <th>site</th>\n",
       "    </tr>\n",
       "  </thead>\n",
       "  <tbody>\n",
       "    <tr>\n",
       "      <th>0</th>\n",
       "      <td>cleaned_data/NOAA_csv/DSDP_core_data/61/462/ra...</td>\n",
       "      <td>taxa</td>\n",
       "      <td>radiolarians</td>\n",
       "      <td>61</td>\n",
       "      <td>462</td>\n",
       "    </tr>\n",
       "    <tr>\n",
       "      <th>1</th>\n",
       "      <td>cleaned_data/NOAA_csv/DSDP_core_data/61/462/ag...</td>\n",
       "      <td>age</td>\n",
       "      <td>NaN</td>\n",
       "      <td>61</td>\n",
       "      <td>462</td>\n",
       "    </tr>\n",
       "    <tr>\n",
       "      <th>2</th>\n",
       "      <td>cleaned_data/NOAA_csv/DSDP_core_data/61/462/b_...</td>\n",
       "      <td>taxa</td>\n",
       "      <td>benthic_foraminfera</td>\n",
       "      <td>61</td>\n",
       "      <td>462</td>\n",
       "    </tr>\n",
       "    <tr>\n",
       "      <th>3</th>\n",
       "      <td>cleaned_data/NOAA_csv/DSDP_core_data/61/462/p_...</td>\n",
       "      <td>taxa</td>\n",
       "      <td>planktic_foraminfera</td>\n",
       "      <td>61</td>\n",
       "      <td>462</td>\n",
       "    </tr>\n",
       "    <tr>\n",
       "      <th>4</th>\n",
       "      <td>cleaned_data/NOAA_csv/DSDP_core_data/61/462/hr...</td>\n",
       "      <td>hard_rock</td>\n",
       "      <td>NaN</td>\n",
       "      <td>61</td>\n",
       "      <td>462</td>\n",
       "    </tr>\n",
       "  </tbody>\n",
       "</table>\n",
       "</div>"
      ],
      "text/plain": [
       "                                                path       type  \\\n",
       "0  cleaned_data/NOAA_csv/DSDP_core_data/61/462/ra...       taxa   \n",
       "1  cleaned_data/NOAA_csv/DSDP_core_data/61/462/ag...        age   \n",
       "2  cleaned_data/NOAA_csv/DSDP_core_data/61/462/b_...       taxa   \n",
       "3  cleaned_data/NOAA_csv/DSDP_core_data/61/462/p_...       taxa   \n",
       "4  cleaned_data/NOAA_csv/DSDP_core_data/61/462/hr...  hard_rock   \n",
       "\n",
       "            taxon_group expedition site  \n",
       "0          radiolarians         61  462  \n",
       "1                   NaN         61  462  \n",
       "2   benthic_foraminfera         61  462  \n",
       "3  planktic_foraminfera         61  462  \n",
       "4                   NaN         61  462  "
      ]
     },
     "execution_count": 6,
     "metadata": {},
     "output_type": "execute_result"
    }
   ],
   "source": [
    "df = pd.DataFrame(file_list)\n",
    "df.head()"
   ]
  },
  {
   "cell_type": "code",
   "execution_count": 7,
   "metadata": {},
   "outputs": [],
   "source": [
    "df.to_csv(metadata_path, index=False)"
   ]
  },
  {
   "cell_type": "markdown",
   "metadata": {},
   "source": [
    "## column names\n",
    "\n",
    "Get all the column names."
   ]
  },
  {
   "cell_type": "code",
   "execution_count": 8,
   "metadata": {},
   "outputs": [],
   "source": [
    "def column_counts_for_paths(paths):\n",
    "    counts = set()\n",
    "    for path in paths:\n",
    "        df = pd.read_csv(path, nrows=0)\n",
    "        counts.add(len(df.columns))\n",
    "    \n",
    "    return counts"
   ]
  },
  {
   "cell_type": "code",
   "execution_count": 9,
   "metadata": {},
   "outputs": [
    {
     "data": {
      "text/html": [
       "<div>\n",
       "<style scoped>\n",
       "    .dataframe tbody tr th:only-of-type {\n",
       "        vertical-align: middle;\n",
       "    }\n",
       "\n",
       "    .dataframe tbody tr th {\n",
       "        vertical-align: top;\n",
       "    }\n",
       "\n",
       "    .dataframe thead th {\n",
       "        text-align: right;\n",
       "    }\n",
       "</style>\n",
       "<table border=\"1\" class=\"dataframe\">\n",
       "  <thead>\n",
       "    <tr style=\"text-align: right;\">\n",
       "      <th></th>\n",
       "      <th>path</th>\n",
       "      <th>type</th>\n",
       "      <th>taxon_group</th>\n",
       "      <th>expedition</th>\n",
       "      <th>site</th>\n",
       "    </tr>\n",
       "  </thead>\n",
       "  <tbody>\n",
       "    <tr>\n",
       "      <th>0</th>\n",
       "      <td>cleaned_data/NOAA_csv/DSDP_core_data/61/462/ra...</td>\n",
       "      <td>taxa</td>\n",
       "      <td>radiolarians</td>\n",
       "      <td>61</td>\n",
       "      <td>462</td>\n",
       "    </tr>\n",
       "    <tr>\n",
       "      <th>1</th>\n",
       "      <td>cleaned_data/NOAA_csv/DSDP_core_data/61/462/ag...</td>\n",
       "      <td>age</td>\n",
       "      <td>NaN</td>\n",
       "      <td>61</td>\n",
       "      <td>462</td>\n",
       "    </tr>\n",
       "    <tr>\n",
       "      <th>2</th>\n",
       "      <td>cleaned_data/NOAA_csv/DSDP_core_data/61/462/b_...</td>\n",
       "      <td>taxa</td>\n",
       "      <td>benthic_foraminfera</td>\n",
       "      <td>61</td>\n",
       "      <td>462</td>\n",
       "    </tr>\n",
       "    <tr>\n",
       "      <th>3</th>\n",
       "      <td>cleaned_data/NOAA_csv/DSDP_core_data/61/462/p_...</td>\n",
       "      <td>taxa</td>\n",
       "      <td>planktic_foraminfera</td>\n",
       "      <td>61</td>\n",
       "      <td>462</td>\n",
       "    </tr>\n",
       "    <tr>\n",
       "      <th>4</th>\n",
       "      <td>cleaned_data/NOAA_csv/DSDP_core_data/61/462/hr...</td>\n",
       "      <td>hard_rock</td>\n",
       "      <td>NaN</td>\n",
       "      <td>61</td>\n",
       "      <td>462</td>\n",
       "    </tr>\n",
       "  </tbody>\n",
       "</table>\n",
       "</div>"
      ],
      "text/plain": [
       "                                                path       type  \\\n",
       "0  cleaned_data/NOAA_csv/DSDP_core_data/61/462/ra...       taxa   \n",
       "1  cleaned_data/NOAA_csv/DSDP_core_data/61/462/ag...        age   \n",
       "2  cleaned_data/NOAA_csv/DSDP_core_data/61/462/b_...       taxa   \n",
       "3  cleaned_data/NOAA_csv/DSDP_core_data/61/462/p_...       taxa   \n",
       "4  cleaned_data/NOAA_csv/DSDP_core_data/61/462/hr...  hard_rock   \n",
       "\n",
       "            taxon_group expedition site  \n",
       "0          radiolarians         61  462  \n",
       "1                   NaN         61  462  \n",
       "2   benthic_foraminfera         61  462  \n",
       "3  planktic_foraminfera         61  462  \n",
       "4                   NaN         61  462  "
      ]
     },
     "execution_count": 9,
     "metadata": {},
     "output_type": "execute_result"
    }
   ],
   "source": [
    "metadata_df = pd.read_csv(metadata_path)\n",
    "metadata_df.head()"
   ]
  },
  {
   "cell_type": "markdown",
   "metadata": {},
   "source": [
    "### taxa"
   ]
  },
  {
   "cell_type": "code",
   "execution_count": 10,
   "metadata": {},
   "outputs": [
    {
     "data": {
      "text/plain": [
       "['cleaned_data/NOAA_csv/DSDP_core_data/61/462/radiolar.csv',\n",
       " 'cleaned_data/NOAA_csv/DSDP_core_data/61/462/b_forams.csv',\n",
       " 'cleaned_data/NOAA_csv/DSDP_core_data/61/462/p_forams.csv',\n",
       " 'cleaned_data/NOAA_csv/DSDP_core_data/61/462/nannos.csv',\n",
       " 'cleaned_data/NOAA_csv/DSDP_core_data/61/462A/radiolar.csv']"
      ]
     },
     "execution_count": 10,
     "metadata": {},
     "output_type": "execute_result"
    }
   ],
   "source": [
    "type_df = metadata_df[metadata_df['type'] == 'taxa']\n",
    "taxa_paths = [path for path in type_df['path']]\n",
    "taxa_paths[0:5]"
   ]
  },
  {
   "cell_type": "code",
   "execution_count": 11,
   "metadata": {},
   "outputs": [
    {
     "data": {
      "text/plain": [
       "{'age',\n",
       " 'bottom interval depth (cm)',\n",
       " 'chemical dissolution',\n",
       " 'chemical overgrowth',\n",
       " 'core',\n",
       " 'coredepth(m)',\n",
       " 'dsdp initial report volume number',\n",
       " 'fossil',\n",
       " 'fossil abundance',\n",
       " 'fossil code',\n",
       " 'fossil group',\n",
       " 'fossil preservation',\n",
       " 'group abundance',\n",
       " 'hole',\n",
       " 'investigators name',\n",
       " 'leg',\n",
       " 'mechanical preservations',\n",
       " 'page number reference',\n",
       " 'publication date (month/year)',\n",
       " 'record join code',\n",
       " 'sample depth(m)',\n",
       " 'section',\n",
       " 'site',\n",
       " 'top interval depth(cm)',\n",
       " 'total number of observed fossils'}"
      ]
     },
     "execution_count": 11,
     "metadata": {},
     "output_type": "execute_result"
    }
   ],
   "source": [
    "unique_columns_for_paths(taxa_paths)"
   ]
  },
  {
   "cell_type": "code",
   "execution_count": 12,
   "metadata": {},
   "outputs": [
    {
     "data": {
      "text/plain": [
       "{25}"
      ]
     },
     "execution_count": 12,
     "metadata": {},
     "output_type": "execute_result"
    }
   ],
   "source": [
    "column_counts_for_paths(taxa_paths)"
   ]
  },
  {
   "cell_type": "markdown",
   "metadata": {},
   "source": [
    "### age"
   ]
  },
  {
   "cell_type": "code",
   "execution_count": 13,
   "metadata": {},
   "outputs": [
    {
     "data": {
      "text/plain": [
       "['cleaned_data/NOAA_csv/DSDP_core_data/61/462/ageprof.csv',\n",
       " 'cleaned_data/NOAA_csv/DSDP_core_data/61/462A/ageprof.csv',\n",
       " 'cleaned_data/NOAA_csv/DSDP_core_data/95/603F/ageprof.csv',\n",
       " 'cleaned_data/NOAA_csv/DSDP_core_data/95/613/ageprof.csv',\n",
       " 'cleaned_data/NOAA_csv/DSDP_core_data/95/612/ageprof.csv']"
      ]
     },
     "execution_count": 13,
     "metadata": {},
     "output_type": "execute_result"
    }
   ],
   "source": [
    "type_df = metadata_df[metadata_df['type'] == 'age']\n",
    "age_paths = [path for path in type_df['path']]\n",
    "age_paths[0:5]"
   ]
  },
  {
   "cell_type": "code",
   "execution_count": 14,
   "metadata": {},
   "outputs": [
    {
     "data": {
      "text/plain": [
       "{'age',\n",
       " 'age bottom of section(million years)',\n",
       " 'age mnemonic',\n",
       " 'age top of section(million years)',\n",
       " 'auxiliary age',\n",
       " 'auxiliary age mnemonic',\n",
       " 'average age(million years)t',\n",
       " 'averaged age',\n",
       " 'bottom of section depth(m)',\n",
       " 'data source',\n",
       " 'hole',\n",
       " 'leg',\n",
       " 'site',\n",
       " 'special condition',\n",
       " 'top of section depth(m)'}"
      ]
     },
     "execution_count": 14,
     "metadata": {},
     "output_type": "execute_result"
    }
   ],
   "source": [
    "unique_columns_for_paths(age_paths)"
   ]
  },
  {
   "cell_type": "code",
   "execution_count": 15,
   "metadata": {},
   "outputs": [
    {
     "data": {
      "text/plain": [
       "{15}"
      ]
     },
     "execution_count": 15,
     "metadata": {},
     "output_type": "execute_result"
    }
   ],
   "source": [
    "column_counts_for_paths(age_paths)"
   ]
  },
  {
   "cell_type": "markdown",
   "metadata": {},
   "source": [
    "### hard rock"
   ]
  },
  {
   "cell_type": "code",
   "execution_count": 16,
   "metadata": {},
   "outputs": [
    {
     "data": {
      "text/plain": [
       "['cleaned_data/NOAA_csv/DSDP_core_data/61/462/hr_desc.csv',\n",
       " 'cleaned_data/NOAA_csv/DSDP_core_data/61/462A/hr_desc.csv',\n",
       " 'cleaned_data/NOAA_csv/DSDP_core_data/59/449/hr_desc.csv',\n",
       " 'cleaned_data/NOAA_csv/DSDP_core_data/59/448/hr_desc.csv',\n",
       " 'cleaned_data/NOAA_csv/DSDP_core_data/59/448A/hr_desc.csv']"
      ]
     },
     "execution_count": 16,
     "metadata": {},
     "output_type": "execute_result"
    }
   ],
   "source": [
    "type_df = metadata_df[metadata_df['type'] == 'hard_rock']\n",
    "hard_rocks_paths = [path for path in type_df['path']]\n",
    "hard_rocks_paths[0:5]"
   ]
  },
  {
   "cell_type": "code",
   "execution_count": 17,
   "metadata": {},
   "outputs": [
    {
     "data": {
      "text/plain": [
       "{'alteration data',\n",
       " 'comments',\n",
       " 'core',\n",
       " 'describer',\n",
       " 'groundmass mineral data',\n",
       " 'hole',\n",
       " 'leg',\n",
       " 'other information data',\n",
       " 'phenocryst data',\n",
       " 'piece numbers',\n",
       " 'replacement mineral data',\n",
       " 'rock name',\n",
       " 'sample midpoint depth(m)',\n",
       " 'section',\n",
       " 'site',\n",
       " 'structure data',\n",
       " 'texture data',\n",
       " 'top interval depth(cm)',\n",
       " 'top of core depth(cm)',\n",
       " 'top of section(m)',\n",
       " 'unknown code',\n",
       " 'vesicle data'}"
      ]
     },
     "execution_count": 17,
     "metadata": {},
     "output_type": "execute_result"
    }
   ],
   "source": [
    "unique_columns_for_paths(hard_rocks_paths)"
   ]
  },
  {
   "cell_type": "code",
   "execution_count": 18,
   "metadata": {},
   "outputs": [
    {
     "data": {
      "text/plain": [
       "{22}"
      ]
     },
     "execution_count": 18,
     "metadata": {},
     "output_type": "execute_result"
    }
   ],
   "source": [
    "column_counts_for_paths(hard_rocks_paths)"
   ]
  },
  {
   "cell_type": "markdown",
   "metadata": {},
   "source": [
    "### lithology"
   ]
  },
  {
   "cell_type": "code",
   "execution_count": 19,
   "metadata": {},
   "outputs": [
    {
     "data": {
      "text/plain": [
       "['cleaned_data/NOAA_csv/DSDP_core_data/61/462/vistxt.csv',\n",
       " 'cleaned_data/NOAA_csv/DSDP_core_data/61/462A/vistxt.csv',\n",
       " 'cleaned_data/NOAA_csv/DSDP_core_data/95/603F/vistxt.csv',\n",
       " 'cleaned_data/NOAA_csv/DSDP_core_data/95/613/vistxt.csv',\n",
       " 'cleaned_data/NOAA_csv/DSDP_core_data/95/612/vistxt.csv']"
      ]
     },
     "execution_count": 19,
     "metadata": {},
     "output_type": "execute_result"
    }
   ],
   "source": [
    "type_df = metadata_df[metadata_df['type'] == 'lithology']\n",
    "lith_paths = [path for path in type_df['path']]\n",
    "lith_paths[0:5]"
   ]
  },
  {
   "cell_type": "code",
   "execution_count": 20,
   "metadata": {},
   "outputs": [
    {
     "data": {
      "text/plain": [
       "{' describer',\n",
       " 'bottom interval depth (cm)',\n",
       " 'bottom of layer depth (m)',\n",
       " 'color',\n",
       " 'core',\n",
       " 'deformations due to drilling',\n",
       " 'hardness or induration',\n",
       " 'hole',\n",
       " 'leg',\n",
       " 'lithology',\n",
       " 'minerals',\n",
       " 'other observations',\n",
       " 'paleontology',\n",
       " 'section',\n",
       " 'site',\n",
       " 'structures',\n",
       " 'top interval depth (cm)',\n",
       " 'top of core depth(m)',\n",
       " 'top of layer depth (m)',\n",
       " 'unusual occurrences',\n",
       " 'z-coding'}"
      ]
     },
     "execution_count": 20,
     "metadata": {},
     "output_type": "execute_result"
    }
   ],
   "source": [
    "unique_columns_for_paths(lith_paths)"
   ]
  },
  {
   "cell_type": "code",
   "execution_count": 21,
   "metadata": {},
   "outputs": [
    {
     "data": {
      "text/plain": [
       "{21}"
      ]
     },
     "execution_count": 21,
     "metadata": {},
     "output_type": "execute_result"
    }
   ],
   "source": [
    "column_counts_for_paths(lith_paths)"
   ]
  },
  {
   "cell_type": "markdown",
   "metadata": {},
   "source": [
    "## hr_desc.csv\n",
    "\n",
    "Create github links for each hr_desc.csv file"
   ]
  },
  {
   "cell_type": "code",
   "execution_count": 22,
   "metadata": {},
   "outputs": [],
   "source": [
    "type_df = metadata_df[metadata_df['type'] == 'hard_rock']\n",
    "hard_rocks_paths = [path for path in type_df['path']]\n",
    "\n",
    "for path in hard_rocks_paths:\n",
    "    if 'hr_desc.csv' in path:\n",
    "        link = 'https://github.com/eODP/data-processing/tree/master/notebooks/' + '/'.join(path.split('/'))\n",
    "#         print(link)"
   ]
  },
  {
   "cell_type": "markdown",
   "metadata": {},
   "source": [
    "## grouped files\n",
    "\n",
    "create list of files grouped by expedition and file type"
   ]
  },
  {
   "cell_type": "code",
   "execution_count": 23,
   "metadata": {},
   "outputs": [],
   "source": [
    "contents = {}\n",
    "index = filename_index(path)\n",
    "\n",
    "for path in csv_paths:\n",
    "    parts = Path(path).parts\n",
    "    exp = parts[3]\n",
    "    filename = parts[index]\n",
    "    \n",
    "    if exp not in contents:\n",
    "        contents[exp] = {'taxa': set(), 'lithology': set(), 'age_model': set(), 'hard_rock': set()}\n",
    "        \n",
    "    if filename == 'vistxt.csv':\n",
    "        contents[exp]['lithology'].add(filename)\n",
    "    elif filename == 'ageprof.csv':\n",
    "        contents[exp]['age_model'].add(filename)\n",
    "    elif filename == 'hr_desc.csv':\n",
    "        contents[exp]['hard_rock'].add(filename)\n",
    "    else:\n",
    "        contents[exp]['taxa'].add(filename)"
   ]
  },
  {
   "cell_type": "code",
   "execution_count": 24,
   "metadata": {},
   "outputs": [],
   "source": [
    "file_list = []\n",
    "\n",
    "for exp in contents.items():\n",
    "    file_data = {}\n",
    "    file_data['expedition'] = exp[0]\n",
    "    file_data['taxa'] = format_filepaths_set(exp[1], 'taxa')\n",
    "    file_data['age_model'] = format_filepaths_set(exp[1], 'age_model')\n",
    "    file_data['lithology'] = format_filepaths_set(exp[1], 'lithology')\n",
    "    file_data['hard_rock'] = format_filepaths_set(exp[1], 'hard_rock')\n",
    "\n",
    "    file_list.append(file_data)"
   ]
  },
  {
   "cell_type": "code",
   "execution_count": 25,
   "metadata": {},
   "outputs": [
    {
     "data": {
      "text/html": [
       "<div>\n",
       "<style scoped>\n",
       "    .dataframe tbody tr th:only-of-type {\n",
       "        vertical-align: middle;\n",
       "    }\n",
       "\n",
       "    .dataframe tbody tr th {\n",
       "        vertical-align: top;\n",
       "    }\n",
       "\n",
       "    .dataframe thead th {\n",
       "        text-align: right;\n",
       "    }\n",
       "</style>\n",
       "<table border=\"1\" class=\"dataframe\">\n",
       "  <thead>\n",
       "    <tr style=\"text-align: right;\">\n",
       "      <th></th>\n",
       "      <th>expedition</th>\n",
       "      <th>taxa</th>\n",
       "      <th>age_model</th>\n",
       "      <th>lithology</th>\n",
       "      <th>hard_rock</th>\n",
       "    </tr>\n",
       "  </thead>\n",
       "  <tbody>\n",
       "    <tr>\n",
       "      <th>0</th>\n",
       "      <td>61</td>\n",
       "      <td>p_forams.csv,nannos.csv,radiolar.csv,b_forams.csv</td>\n",
       "      <td>ageprof.csv</td>\n",
       "      <td>vistxt.csv</td>\n",
       "      <td>hr_desc.csv</td>\n",
       "    </tr>\n",
       "    <tr>\n",
       "      <th>1</th>\n",
       "      <td>95</td>\n",
       "      <td>siliflag.csv,radiolar.csv,b_forams.csv,ostraco...</td>\n",
       "      <td>ageprof.csv</td>\n",
       "      <td>vistxt.csv</td>\n",
       "      <td></td>\n",
       "    </tr>\n",
       "    <tr>\n",
       "      <th>2</th>\n",
       "      <td>59</td>\n",
       "      <td>siliflag.csv,dinoflag.csv,radiolar.csv,b_foram...</td>\n",
       "      <td>ageprof.csv</td>\n",
       "      <td>vistxt.csv</td>\n",
       "      <td>hr_desc.csv</td>\n",
       "    </tr>\n",
       "    <tr>\n",
       "      <th>3</th>\n",
       "      <td>92</td>\n",
       "      <td>p_forams.csv,nannos.csv</td>\n",
       "      <td>ageprof.csv</td>\n",
       "      <td>vistxt.csv</td>\n",
       "      <td>hr_desc.csv</td>\n",
       "    </tr>\n",
       "    <tr>\n",
       "      <th>4</th>\n",
       "      <td>66</td>\n",
       "      <td>nannos.csv,radiolar.csv</td>\n",
       "      <td>ageprof.csv</td>\n",
       "      <td>vistxt.csv</td>\n",
       "      <td>hr_desc.csv</td>\n",
       "    </tr>\n",
       "  </tbody>\n",
       "</table>\n",
       "</div>"
      ],
      "text/plain": [
       "  expedition                                               taxa    age_model  \\\n",
       "0         61  p_forams.csv,nannos.csv,radiolar.csv,b_forams.csv  ageprof.csv   \n",
       "1         95  siliflag.csv,radiolar.csv,b_forams.csv,ostraco...  ageprof.csv   \n",
       "2         59  siliflag.csv,dinoflag.csv,radiolar.csv,b_foram...  ageprof.csv   \n",
       "3         92                            p_forams.csv,nannos.csv  ageprof.csv   \n",
       "4         66                            nannos.csv,radiolar.csv  ageprof.csv   \n",
       "\n",
       "    lithology    hard_rock  \n",
       "0  vistxt.csv  hr_desc.csv  \n",
       "1  vistxt.csv               \n",
       "2  vistxt.csv  hr_desc.csv  \n",
       "3  vistxt.csv  hr_desc.csv  \n",
       "4  vistxt.csv  hr_desc.csv  "
      ]
     },
     "execution_count": 25,
     "metadata": {},
     "output_type": "execute_result"
    }
   ],
   "source": [
    "df = pd.DataFrame(file_list)\n",
    "df.head()"
   ]
  },
  {
   "cell_type": "code",
   "execution_count": 26,
   "metadata": {},
   "outputs": [],
   "source": [
    "path = os.path.join('tmp', 'noaa_dsdp_grouped_files.csv')\n",
    "df.to_csv(path, index=False)"
   ]
  },
  {
   "cell_type": "code",
   "execution_count": null,
   "metadata": {},
   "outputs": [],
   "source": []
  }
 ],
 "metadata": {
  "kernelspec": {
   "display_name": "Python 3",
   "language": "python",
   "name": "python3"
  },
  "language_info": {
   "codemirror_mode": {
    "name": "ipython",
    "version": 3
   },
   "file_extension": ".py",
   "mimetype": "text/x-python",
   "name": "python",
   "nbconvert_exporter": "python",
   "pygments_lexer": "ipython3",
   "version": "3.6.8"
  }
 },
 "nbformat": 4,
 "nbformat_minor": 5
}
