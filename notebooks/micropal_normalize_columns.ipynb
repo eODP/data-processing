{
 "cells": [
  {
   "cell_type": "markdown",
   "metadata": {},
   "source": [
    "# Normalize Micropal CSVs"
   ]
  },
  {
   "cell_type": "code",
   "execution_count": 1,
   "metadata": {},
   "outputs": [],
   "source": [
    "import sys\n",
    "sys.path.append('../scripts/')\n",
    "import glob\n",
    "import re\n",
    "import os.path\n",
    "\n",
    "import pandas as pd\n",
    "import numpy as np\n",
    "\n",
    "from normalize_data import (\n",
    "    csv_cleanup,\n",
    "    update_metadata,\n",
    "    get_taxonomy_columns,\n",
    "    clean_taxon_name,\n",
    "    fetch_unique_column_names,\n",
    "    append_set,\n",
    "    normalize_columns,\n",
    "    add_missing_columns\n",
    ")"
   ]
  },
  {
   "cell_type": "code",
   "execution_count": 2,
   "metadata": {},
   "outputs": [],
   "source": [
    "taxa_list_path = 'cleaned_data/taxa/taxa_list.csv'\n",
    "non_taxa_fields_path = 'cleaned_data/taxa/non_taxa_fields.csv'"
   ]
  },
  {
   "cell_type": "code",
   "execution_count": 3,
   "metadata": {},
   "outputs": [],
   "source": [
    "micropal_1 = 'cleaned_data/Micropal_CSV_1'\n",
    "micropal_meta_1 = 'cleaned_data/metadata/lims_micropal_1_changes.csv'\n",
    "\n",
    "micropal_2 = 'cleaned_data/Micropal_CSV_2'\n",
    "micropal_meta_2 = 'cleaned_data/metadata/lims_micropal_2_changes.csv'\n",
    "\n",
    "micropal_3 = 'cleaned_data/Micropal_CSV_3'\n",
    "micropal_meta_3 = 'cleaned_data/metadata/lims_micropal_3_changes.csv'\n",
    "\n",
    "micropal_4 = 'cleaned_data/Micropal_CSV_revised'\n",
    "micropal_meta_4 = 'cleaned_data/metadata/lims_micropal_revised_changes.csv'\n",
    "\n",
    "all_LIMS = [\n",
    "    micropal_1,\n",
    "    micropal_2,\n",
    "    micropal_3,\n",
    "    micropal_4\n",
    "]"
   ]
  },
  {
   "cell_type": "code",
   "execution_count": 4,
   "metadata": {},
   "outputs": [],
   "source": [
    "clean_data_path = micropal_4\n",
    "metadata_file = micropal_meta_4"
   ]
  },
  {
   "cell_type": "code",
   "execution_count": 5,
   "metadata": {},
   "outputs": [],
   "source": [
    "non_taxa_content = pd.read_csv(non_taxa_fields_path)\n",
    "non_taxa_columns = set(non_taxa_content['field'])"
   ]
  },
  {
   "cell_type": "code",
   "execution_count": 6,
   "metadata": {},
   "outputs": [],
   "source": [
    "taxa_metadata_columns = set(non_taxa_content[non_taxa_content['type'] == 'taxonomy metadata']['field'])"
   ]
  },
  {
   "cell_type": "markdown",
   "metadata": {},
   "source": [
    "## Normalize zone columns\n",
    "\n",
    "Normalize all the zone columns to have the same names."
   ]
  },
  {
   "cell_type": "code",
   "execution_count": 7,
   "metadata": {},
   "outputs": [
    {
     "data": {
      "text/html": [
       "<div>\n",
       "<style scoped>\n",
       "    .dataframe tbody tr th:only-of-type {\n",
       "        vertical-align: middle;\n",
       "    }\n",
       "\n",
       "    .dataframe tbody tr th {\n",
       "        vertical-align: top;\n",
       "    }\n",
       "\n",
       "    .dataframe thead th {\n",
       "        text-align: right;\n",
       "    }\n",
       "</style>\n",
       "<table border=\"1\" class=\"dataframe\">\n",
       "  <thead>\n",
       "    <tr style=\"text-align: right;\">\n",
       "      <th></th>\n",
       "      <th>file</th>\n",
       "      <th>path</th>\n",
       "      <th>taxon_group</th>\n",
       "      <th>empty_rows_columns</th>\n",
       "      <th>remove_identical_rows</th>\n",
       "      <th>remove_identical_columns</th>\n",
       "      <th>add_expedition_section_cols</th>\n",
       "      <th>rename_label_id</th>\n",
       "      <th>add_sample_name</th>\n",
       "      <th>update_top_bottom</th>\n",
       "      <th>add_missing_cols</th>\n",
       "      <th>update_zones</th>\n",
       "      <th>add_missing_zone</th>\n",
       "      <th>clean_up_taxa_values</th>\n",
       "      <th>clean_up_taxa_metadata_values</th>\n",
       "    </tr>\n",
       "  </thead>\n",
       "  <tbody>\n",
       "    <tr>\n",
       "      <th>0</th>\n",
       "      <td>363-U1482A-nannofossils_revised.csv</td>\n",
       "      <td>Micropal_CSV_revised/363-U1482A-nannofossils_r...</td>\n",
       "      <td>nannofossils</td>\n",
       "      <td>False</td>\n",
       "      <td>False</td>\n",
       "      <td>False</td>\n",
       "      <td>True</td>\n",
       "      <td>False</td>\n",
       "      <td>False</td>\n",
       "      <td>False</td>\n",
       "      <td>False</td>\n",
       "      <td>False</td>\n",
       "      <td>True</td>\n",
       "      <td>True</td>\n",
       "      <td>True</td>\n",
       "    </tr>\n",
       "  </tbody>\n",
       "</table>\n",
       "</div>"
      ],
      "text/plain": [
       "                                  file  \\\n",
       "0  363-U1482A-nannofossils_revised.csv   \n",
       "\n",
       "                                                path   taxon_group  \\\n",
       "0  Micropal_CSV_revised/363-U1482A-nannofossils_r...  nannofossils   \n",
       "\n",
       "   empty_rows_columns  remove_identical_rows  remove_identical_columns  \\\n",
       "0               False                  False                     False   \n",
       "\n",
       "   add_expedition_section_cols  rename_label_id  add_sample_name  \\\n",
       "0                         True            False            False   \n",
       "\n",
       "   update_top_bottom  add_missing_cols  update_zones  add_missing_zone  \\\n",
       "0              False             False         False              True   \n",
       "\n",
       "   clean_up_taxa_values  clean_up_taxa_metadata_values  \n",
       "0                  True                           True  "
      ]
     },
     "execution_count": 7,
     "metadata": {},
     "output_type": "execute_result"
    }
   ],
   "source": [
    "metadata = pd.read_csv(metadata_file)\n",
    "metadata.head()"
   ]
  },
  {
   "cell_type": "markdown",
   "metadata": {},
   "source": [
    "### Get zone columns"
   ]
  },
  {
   "cell_type": "code",
   "execution_count": 8,
   "metadata": {},
   "outputs": [],
   "source": [
    "columns_all = set()\n",
    "\n",
    "res=[fetch_unique_column_names(f\"{clean_data_path}/{file}\", columns_all) for file in metadata['file']] "
   ]
  },
  {
   "cell_type": "code",
   "execution_count": 9,
   "metadata": {},
   "outputs": [],
   "source": [
    "zone_all = set()\n",
    "zone_name = set()\n",
    "zone_name_short = set()\n",
    "\n",
    "append_set(zone_all, r\".*?zone.*?\", columns_all)\n",
    "append_set(zone_name, r\"zone[_ ]name$|zone$\", columns_all)\n",
    "append_set(zone_name_short, r\"zone_name_short|zone name [\\[(]short[\\])]\", columns_all)\n"
   ]
  },
  {
   "cell_type": "code",
   "execution_count": 10,
   "metadata": {},
   "outputs": [
    {
     "data": {
      "text/plain": [
       "{'Zone name', 'Zone name (short)'}"
      ]
     },
     "execution_count": 10,
     "metadata": {},
     "output_type": "execute_result"
    }
   ],
   "source": [
    "zone_all"
   ]
  },
  {
   "cell_type": "code",
   "execution_count": 11,
   "metadata": {},
   "outputs": [
    {
     "data": {
      "text/plain": [
       "{'Zone name'}"
      ]
     },
     "execution_count": 11,
     "metadata": {},
     "output_type": "execute_result"
    }
   ],
   "source": [
    "zone_name"
   ]
  },
  {
   "cell_type": "code",
   "execution_count": 12,
   "metadata": {},
   "outputs": [
    {
     "data": {
      "text/plain": [
       "{'Zone name (short)'}"
      ]
     },
     "execution_count": 12,
     "metadata": {},
     "output_type": "execute_result"
    }
   ],
   "source": [
    "zone_name_short"
   ]
  },
  {
   "cell_type": "markdown",
   "metadata": {},
   "source": [
    "### Normalize zone columns"
   ]
  },
  {
   "cell_type": "code",
   "execution_count": 13,
   "metadata": {},
   "outputs": [],
   "source": [
    "def normalize_zone(file):\n",
    "    path = f\"{clean_data_path}/{file}\"\n",
    "    content = pd.read_csv(path, dtype=str)\n",
    "    columns = list(content.columns)\n",
    "    \n",
    "    normalized_cols = normalize_columns(zone_name, 'Zone name', columns)\n",
    "    normalized_cols = normalize_columns(zone_name_short, 'Zone name (short)', normalized_cols)\n",
    "\n",
    "    changed = columns != normalized_cols\n",
    "    \n",
    "    if changed:\n",
    "        content.columns = normalized_cols\n",
    "        content = csv_cleanup(content, path)\n",
    "        content.to_csv(path, index=False)\n",
    "\n",
    "    return changed\n",
    "\n",
    "change_columns = [normalize_zone(file) for file in metadata['file']] "
   ]
  },
  {
   "cell_type": "code",
   "execution_count": 14,
   "metadata": {},
   "outputs": [],
   "source": [
    "dict = {\"update_zones\": change_columns}\n",
    "new_metadata = update_metadata(metadata, dict)"
   ]
  },
  {
   "cell_type": "code",
   "execution_count": 15,
   "metadata": {},
   "outputs": [],
   "source": [
    "new_metadata.to_csv(metadata_file, index=False)"
   ]
  },
  {
   "cell_type": "markdown",
   "metadata": {},
   "source": [
    "## Add missing columns"
   ]
  },
  {
   "cell_type": "code",
   "execution_count": 16,
   "metadata": {},
   "outputs": [
    {
     "data": {
      "text/html": [
       "<div>\n",
       "<style scoped>\n",
       "    .dataframe tbody tr th:only-of-type {\n",
       "        vertical-align: middle;\n",
       "    }\n",
       "\n",
       "    .dataframe tbody tr th {\n",
       "        vertical-align: top;\n",
       "    }\n",
       "\n",
       "    .dataframe thead th {\n",
       "        text-align: right;\n",
       "    }\n",
       "</style>\n",
       "<table border=\"1\" class=\"dataframe\">\n",
       "  <thead>\n",
       "    <tr style=\"text-align: right;\">\n",
       "      <th></th>\n",
       "      <th>file</th>\n",
       "      <th>path</th>\n",
       "      <th>taxon_group</th>\n",
       "      <th>empty_rows_columns</th>\n",
       "      <th>remove_identical_rows</th>\n",
       "      <th>remove_identical_columns</th>\n",
       "      <th>add_expedition_section_cols</th>\n",
       "      <th>rename_label_id</th>\n",
       "      <th>add_sample_name</th>\n",
       "      <th>update_top_bottom</th>\n",
       "      <th>add_missing_cols</th>\n",
       "      <th>update_zones</th>\n",
       "      <th>add_missing_zone</th>\n",
       "      <th>clean_up_taxa_values</th>\n",
       "      <th>clean_up_taxa_metadata_values</th>\n",
       "    </tr>\n",
       "  </thead>\n",
       "  <tbody>\n",
       "    <tr>\n",
       "      <th>0</th>\n",
       "      <td>363-U1482A-nannofossils_revised.csv</td>\n",
       "      <td>Micropal_CSV_revised/363-U1482A-nannofossils_r...</td>\n",
       "      <td>nannofossils</td>\n",
       "      <td>False</td>\n",
       "      <td>False</td>\n",
       "      <td>False</td>\n",
       "      <td>True</td>\n",
       "      <td>False</td>\n",
       "      <td>False</td>\n",
       "      <td>False</td>\n",
       "      <td>False</td>\n",
       "      <td>False</td>\n",
       "      <td>True</td>\n",
       "      <td>True</td>\n",
       "      <td>True</td>\n",
       "    </tr>\n",
       "  </tbody>\n",
       "</table>\n",
       "</div>"
      ],
      "text/plain": [
       "                                  file  \\\n",
       "0  363-U1482A-nannofossils_revised.csv   \n",
       "\n",
       "                                                path   taxon_group  \\\n",
       "0  Micropal_CSV_revised/363-U1482A-nannofossils_r...  nannofossils   \n",
       "\n",
       "   empty_rows_columns  remove_identical_rows  remove_identical_columns  \\\n",
       "0               False                  False                     False   \n",
       "\n",
       "   add_expedition_section_cols  rename_label_id  add_sample_name  \\\n",
       "0                         True            False            False   \n",
       "\n",
       "   update_top_bottom  add_missing_cols  update_zones  add_missing_zone  \\\n",
       "0              False             False         False              True   \n",
       "\n",
       "   clean_up_taxa_values  clean_up_taxa_metadata_values  \n",
       "0                  True                           True  "
      ]
     },
     "execution_count": 16,
     "metadata": {},
     "output_type": "execute_result"
    }
   ],
   "source": [
    "metadata = pd.read_csv(metadata_file)\n",
    "new_metadata.head()"
   ]
  },
  {
   "cell_type": "code",
   "execution_count": 17,
   "metadata": {},
   "outputs": [],
   "source": [
    "normalized_columns = [\n",
    "    'Zone name',\n",
    "    'Zone name (short)'\n",
    "]"
   ]
  },
  {
   "cell_type": "code",
   "execution_count": 18,
   "metadata": {},
   "outputs": [],
   "source": [
    "change_columns = [add_missing_columns(f\"{clean_data_path}/{file}\", normalized_columns) for file in metadata['file']] "
   ]
  },
  {
   "cell_type": "code",
   "execution_count": 19,
   "metadata": {},
   "outputs": [
    {
     "data": {
      "text/html": [
       "<div>\n",
       "<style scoped>\n",
       "    .dataframe tbody tr th:only-of-type {\n",
       "        vertical-align: middle;\n",
       "    }\n",
       "\n",
       "    .dataframe tbody tr th {\n",
       "        vertical-align: top;\n",
       "    }\n",
       "\n",
       "    .dataframe thead th {\n",
       "        text-align: right;\n",
       "    }\n",
       "</style>\n",
       "<table border=\"1\" class=\"dataframe\">\n",
       "  <thead>\n",
       "    <tr style=\"text-align: right;\">\n",
       "      <th></th>\n",
       "      <th>file</th>\n",
       "      <th>path</th>\n",
       "      <th>taxon_group</th>\n",
       "      <th>empty_rows_columns</th>\n",
       "      <th>remove_identical_rows</th>\n",
       "      <th>remove_identical_columns</th>\n",
       "      <th>add_expedition_section_cols</th>\n",
       "      <th>rename_label_id</th>\n",
       "      <th>add_sample_name</th>\n",
       "      <th>update_top_bottom</th>\n",
       "      <th>add_missing_cols</th>\n",
       "      <th>update_zones</th>\n",
       "      <th>add_missing_zone</th>\n",
       "      <th>clean_up_taxa_values</th>\n",
       "      <th>clean_up_taxa_metadata_values</th>\n",
       "    </tr>\n",
       "  </thead>\n",
       "  <tbody>\n",
       "    <tr>\n",
       "      <th>0</th>\n",
       "      <td>363-U1482A-nannofossils_revised.csv</td>\n",
       "      <td>Micropal_CSV_revised/363-U1482A-nannofossils_r...</td>\n",
       "      <td>nannofossils</td>\n",
       "      <td>False</td>\n",
       "      <td>False</td>\n",
       "      <td>False</td>\n",
       "      <td>True</td>\n",
       "      <td>False</td>\n",
       "      <td>False</td>\n",
       "      <td>False</td>\n",
       "      <td>False</td>\n",
       "      <td>False</td>\n",
       "      <td>True</td>\n",
       "      <td>True</td>\n",
       "      <td>True</td>\n",
       "    </tr>\n",
       "  </tbody>\n",
       "</table>\n",
       "</div>"
      ],
      "text/plain": [
       "                                  file  \\\n",
       "0  363-U1482A-nannofossils_revised.csv   \n",
       "\n",
       "                                                path   taxon_group  \\\n",
       "0  Micropal_CSV_revised/363-U1482A-nannofossils_r...  nannofossils   \n",
       "\n",
       "   empty_rows_columns  remove_identical_rows  remove_identical_columns  \\\n",
       "0               False                  False                     False   \n",
       "\n",
       "   add_expedition_section_cols  rename_label_id  add_sample_name  \\\n",
       "0                         True            False            False   \n",
       "\n",
       "   update_top_bottom  add_missing_cols  update_zones  add_missing_zone  \\\n",
       "0              False             False         False              True   \n",
       "\n",
       "   clean_up_taxa_values  clean_up_taxa_metadata_values  \n",
       "0                  True                           True  "
      ]
     },
     "execution_count": 19,
     "metadata": {},
     "output_type": "execute_result"
    }
   ],
   "source": [
    "dict = {\"add_missing_zone\": change_columns}\n",
    "new_metadata = update_metadata(metadata, dict)\n",
    "new_metadata.head()"
   ]
  },
  {
   "cell_type": "code",
   "execution_count": 20,
   "metadata": {},
   "outputs": [],
   "source": [
    "new_metadata.to_csv(metadata_file, index=False)"
   ]
  },
  {
   "cell_type": "markdown",
   "metadata": {},
   "source": [
    "## Clean up taxa values\n",
    "Look for taxa columns that have \"code [extra text]\", and remove \"[extra text]\"."
   ]
  },
  {
   "cell_type": "code",
   "execution_count": 21,
   "metadata": {},
   "outputs": [],
   "source": [
    "metadata = pd.read_csv(metadata_file)"
   ]
  },
  {
   "cell_type": "code",
   "execution_count": 22,
   "metadata": {},
   "outputs": [],
   "source": [
    "def clean_up_taxa_values(file):\n",
    "    path = f\"{clean_data_path}/{file}\"\n",
    "    content = pd.read_csv(path, dtype=str)\n",
    "    \n",
    "    taxa_cols = get_taxonomy_columns(content.columns, non_taxa_columns)            \n",
    "    taxa_df = content[taxa_cols]\n",
    "    content[taxa_cols] = taxa_df.replace(to_replace =' *\\[.*\\] *', value = '', regex = True) \n",
    "    \n",
    "    # get rid of NAs in order to compare two dataframes   \n",
    "    changed = not taxa_df.fillna('').equals(content[taxa_cols].fillna(''))\n",
    "\n",
    "    if changed:\n",
    "        content = csv_cleanup(content, path)\n",
    "        content.to_csv(path, index=False)\n",
    "\n",
    "    return changed\n",
    "    \n",
    "change_columns = [clean_up_taxa_values(file) for file in metadata['file']] "
   ]
  },
  {
   "cell_type": "code",
   "execution_count": 23,
   "metadata": {},
   "outputs": [
    {
     "data": {
      "text/html": [
       "<div>\n",
       "<style scoped>\n",
       "    .dataframe tbody tr th:only-of-type {\n",
       "        vertical-align: middle;\n",
       "    }\n",
       "\n",
       "    .dataframe tbody tr th {\n",
       "        vertical-align: top;\n",
       "    }\n",
       "\n",
       "    .dataframe thead th {\n",
       "        text-align: right;\n",
       "    }\n",
       "</style>\n",
       "<table border=\"1\" class=\"dataframe\">\n",
       "  <thead>\n",
       "    <tr style=\"text-align: right;\">\n",
       "      <th></th>\n",
       "      <th>file</th>\n",
       "      <th>path</th>\n",
       "      <th>taxon_group</th>\n",
       "      <th>empty_rows_columns</th>\n",
       "      <th>remove_identical_rows</th>\n",
       "      <th>remove_identical_columns</th>\n",
       "      <th>add_expedition_section_cols</th>\n",
       "      <th>rename_label_id</th>\n",
       "      <th>add_sample_name</th>\n",
       "      <th>update_top_bottom</th>\n",
       "      <th>add_missing_cols</th>\n",
       "      <th>update_zones</th>\n",
       "      <th>add_missing_zone</th>\n",
       "      <th>clean_up_taxa_values</th>\n",
       "      <th>clean_up_taxa_metadata_values</th>\n",
       "    </tr>\n",
       "  </thead>\n",
       "  <tbody>\n",
       "    <tr>\n",
       "      <th>0</th>\n",
       "      <td>363-U1482A-nannofossils_revised.csv</td>\n",
       "      <td>Micropal_CSV_revised/363-U1482A-nannofossils_r...</td>\n",
       "      <td>nannofossils</td>\n",
       "      <td>False</td>\n",
       "      <td>False</td>\n",
       "      <td>False</td>\n",
       "      <td>True</td>\n",
       "      <td>False</td>\n",
       "      <td>False</td>\n",
       "      <td>False</td>\n",
       "      <td>False</td>\n",
       "      <td>False</td>\n",
       "      <td>True</td>\n",
       "      <td>True</td>\n",
       "      <td>True</td>\n",
       "    </tr>\n",
       "  </tbody>\n",
       "</table>\n",
       "</div>"
      ],
      "text/plain": [
       "                                  file  \\\n",
       "0  363-U1482A-nannofossils_revised.csv   \n",
       "\n",
       "                                                path   taxon_group  \\\n",
       "0  Micropal_CSV_revised/363-U1482A-nannofossils_r...  nannofossils   \n",
       "\n",
       "   empty_rows_columns  remove_identical_rows  remove_identical_columns  \\\n",
       "0               False                  False                     False   \n",
       "\n",
       "   add_expedition_section_cols  rename_label_id  add_sample_name  \\\n",
       "0                         True            False            False   \n",
       "\n",
       "   update_top_bottom  add_missing_cols  update_zones  add_missing_zone  \\\n",
       "0              False             False         False              True   \n",
       "\n",
       "   clean_up_taxa_values  clean_up_taxa_metadata_values  \n",
       "0                  True                           True  "
      ]
     },
     "execution_count": 23,
     "metadata": {},
     "output_type": "execute_result"
    }
   ],
   "source": [
    "dict = {\"clean_up_taxa_values\": change_columns}\n",
    "new_metadata = update_metadata(metadata, dict)\n",
    "new_metadata.head()"
   ]
  },
  {
   "cell_type": "code",
   "execution_count": 24,
   "metadata": {},
   "outputs": [],
   "source": [
    "new_metadata.to_csv(metadata_file, index=False)"
   ]
  },
  {
   "cell_type": "markdown",
   "metadata": {},
   "source": [
    "## Clean up taxa metadata values\n",
    "Look for taxa metadata columns that have \"code [extra text]\", and remove \"[extra text]\"."
   ]
  },
  {
   "cell_type": "code",
   "execution_count": 25,
   "metadata": {},
   "outputs": [],
   "source": [
    "metadata = pd.read_csv(metadata_file)"
   ]
  },
  {
   "cell_type": "code",
   "execution_count": 26,
   "metadata": {},
   "outputs": [],
   "source": [
    "def clean_up_taxa_meta_values(file):\n",
    "    path = f\"{clean_data_path}/{file}\"\n",
    "    content = pd.read_csv(path, dtype=str)\n",
    "    \n",
    "    available_metadata = list(taxa_metadata_columns.intersection(set(content.columns)))\n",
    "    \n",
    "    taxa_meta_df = content[available_metadata]\n",
    "    content[available_metadata] = taxa_meta_df.replace(to_replace =' *\\[.*\\] *', value = '', regex = True) \n",
    "    \n",
    "    # get rid of NAs in order to compare two dataframes   \n",
    "    changed = not taxa_meta_df.fillna('').equals(content[available_metadata].fillna(''))\n",
    "\n",
    "    if changed:\n",
    "        content = csv_cleanup(content, path)\n",
    "        content.to_csv(path, index=False)\n",
    "\n",
    "    return changed\n",
    "    \n",
    "change_columns = [clean_up_taxa_meta_values(file) for file in metadata['file']] "
   ]
  },
  {
   "cell_type": "code",
   "execution_count": 27,
   "metadata": {},
   "outputs": [
    {
     "data": {
      "text/html": [
       "<div>\n",
       "<style scoped>\n",
       "    .dataframe tbody tr th:only-of-type {\n",
       "        vertical-align: middle;\n",
       "    }\n",
       "\n",
       "    .dataframe tbody tr th {\n",
       "        vertical-align: top;\n",
       "    }\n",
       "\n",
       "    .dataframe thead th {\n",
       "        text-align: right;\n",
       "    }\n",
       "</style>\n",
       "<table border=\"1\" class=\"dataframe\">\n",
       "  <thead>\n",
       "    <tr style=\"text-align: right;\">\n",
       "      <th></th>\n",
       "      <th>file</th>\n",
       "      <th>path</th>\n",
       "      <th>taxon_group</th>\n",
       "      <th>empty_rows_columns</th>\n",
       "      <th>remove_identical_rows</th>\n",
       "      <th>remove_identical_columns</th>\n",
       "      <th>add_expedition_section_cols</th>\n",
       "      <th>rename_label_id</th>\n",
       "      <th>add_sample_name</th>\n",
       "      <th>update_top_bottom</th>\n",
       "      <th>add_missing_cols</th>\n",
       "      <th>update_zones</th>\n",
       "      <th>add_missing_zone</th>\n",
       "      <th>clean_up_taxa_values</th>\n",
       "      <th>clean_up_taxa_metadata_values</th>\n",
       "    </tr>\n",
       "  </thead>\n",
       "  <tbody>\n",
       "    <tr>\n",
       "      <th>0</th>\n",
       "      <td>363-U1482A-nannofossils_revised.csv</td>\n",
       "      <td>Micropal_CSV_revised/363-U1482A-nannofossils_r...</td>\n",
       "      <td>nannofossils</td>\n",
       "      <td>False</td>\n",
       "      <td>False</td>\n",
       "      <td>False</td>\n",
       "      <td>True</td>\n",
       "      <td>False</td>\n",
       "      <td>False</td>\n",
       "      <td>False</td>\n",
       "      <td>False</td>\n",
       "      <td>False</td>\n",
       "      <td>True</td>\n",
       "      <td>True</td>\n",
       "      <td>True</td>\n",
       "    </tr>\n",
       "  </tbody>\n",
       "</table>\n",
       "</div>"
      ],
      "text/plain": [
       "                                  file  \\\n",
       "0  363-U1482A-nannofossils_revised.csv   \n",
       "\n",
       "                                                path   taxon_group  \\\n",
       "0  Micropal_CSV_revised/363-U1482A-nannofossils_r...  nannofossils   \n",
       "\n",
       "   empty_rows_columns  remove_identical_rows  remove_identical_columns  \\\n",
       "0               False                  False                     False   \n",
       "\n",
       "   add_expedition_section_cols  rename_label_id  add_sample_name  \\\n",
       "0                         True            False            False   \n",
       "\n",
       "   update_top_bottom  add_missing_cols  update_zones  add_missing_zone  \\\n",
       "0              False             False         False              True   \n",
       "\n",
       "   clean_up_taxa_values  clean_up_taxa_metadata_values  \n",
       "0                  True                           True  "
      ]
     },
     "execution_count": 27,
     "metadata": {},
     "output_type": "execute_result"
    }
   ],
   "source": [
    "dict = {\"clean_up_taxa_metadata_values\": change_columns}\n",
    "new_metadata = update_metadata(metadata, dict)\n",
    "new_metadata.head()"
   ]
  },
  {
   "cell_type": "code",
   "execution_count": 28,
   "metadata": {},
   "outputs": [],
   "source": [
    "new_metadata.to_csv(metadata_file, index=False)"
   ]
  },
  {
   "cell_type": "code",
   "execution_count": null,
   "metadata": {},
   "outputs": [],
   "source": []
  }
 ],
 "metadata": {
  "kernelspec": {
   "display_name": "Python 3",
   "language": "python",
   "name": "python3"
  },
  "language_info": {
   "codemirror_mode": {
    "name": "ipython",
    "version": 3
   },
   "file_extension": ".py",
   "mimetype": "text/x-python",
   "name": "python",
   "nbconvert_exporter": "python",
   "pygments_lexer": "ipython3",
   "version": "3.6.8"
  }
 },
 "nbformat": 4,
 "nbformat_minor": 4
}
